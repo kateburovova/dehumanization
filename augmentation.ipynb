{
 "cells": [
  {
   "cell_type": "code",
   "execution_count": 63,
   "outputs": [],
   "source": [
    "from collocation_extraction import collect_verb_obl_obj, collect_core, collect_nmod, collect_amod, collect_comp, collect_appos, show_dependency\n",
    "from text_preprocessing import preprocess_df\n",
    "import pandas as pd\n",
    "import spacy"
   ],
   "metadata": {
    "collapsed": false,
    "pycharm": {
     "name": "#%%\n"
    }
   }
  },
  {
   "cell_type": "code",
   "execution_count": 64,
   "outputs": [],
   "source": [
    "df_labels = pd.read_csv('/Users/katerynaburovova/PycharmProjects/dehumanization/annotation/final_labels.csv', index_col=0)"
   ],
   "metadata": {
    "collapsed": false,
    "pycharm": {
     "name": "#%%\n"
    }
   }
  },
  {
   "cell_type": "code",
   "execution_count": 66,
   "outputs": [],
   "source": [
    "df_mentions = df_labels[df_labels['Mention']=='так'].copy()"
   ],
   "metadata": {
    "collapsed": false,
    "pycharm": {
     "name": "#%%\n"
    }
   }
  },
  {
   "cell_type": "code",
   "execution_count": 67,
   "outputs": [
    {
     "name": "stdout",
     "output_type": "stream",
     "text": [
      "CPU times: user 34min 14s, sys: 4min 40s, total: 38min 55s\n",
      "Wall time: 40min 3s\n"
     ]
    }
   ],
   "source": [
    "%%time\n",
    "df_mentions = preprocess_df(df_mentions)"
   ],
   "metadata": {
    "collapsed": false,
    "pycharm": {
     "name": "#%%\n"
    }
   }
  },
  {
   "cell_type": "code",
   "execution_count": 68,
   "outputs": [],
   "source": [
    "from collocation_extraction import collect_verb_obl_obj, collect_core, collect_nmod, collect_amod, collect_comp, collect_appos, show_dependency"
   ],
   "metadata": {
    "collapsed": false,
    "pycharm": {
     "name": "#%%\n"
    }
   }
  },
  {
   "cell_type": "code",
   "execution_count": 69,
   "outputs": [],
   "source": [
    "def lst_to_str(list):\n",
    "    result = ''\n",
    "    for bigram in list:\n",
    "        result += ' '.join([word.text for word in bigram]) + ', '\n",
    "    return result.strip(', ')"
   ],
   "metadata": {
    "collapsed": false,
    "pycharm": {
     "name": "#%%\n"
    }
   }
  },
  {
   "cell_type": "code",
   "execution_count": 70,
   "outputs": [
    {
     "name": "stdout",
     "output_type": "stream",
     "text": [
      "CPU times: user 20.5 s, sys: 293 ms, total: 20.8 s\n",
      "Wall time: 21.2 s\n"
     ]
    }
   ],
   "source": [
    "%%time\n",
    "df_mentions['core_noun_verb'] = df_mentions['text'].apply(lambda x: lst_to_str(collect_core(x)))"
   ],
   "metadata": {
    "collapsed": false,
    "pycharm": {
     "name": "#%%\n"
    }
   }
  },
  {
   "cell_type": "code",
   "execution_count": 71,
   "outputs": [
    {
     "name": "stdout",
     "output_type": "stream",
     "text": [
      "CPU times: user 19.8 s, sys: 140 ms, total: 19.9 s\n",
      "Wall time: 20.1 s\n"
     ]
    }
   ],
   "source": [
    "%%time\n",
    "df_mentions['verb_obl_obj'] = df_mentions['text'].apply(lambda x: lst_to_str(collect_verb_obl_obj(x)))"
   ],
   "metadata": {
    "collapsed": false,
    "pycharm": {
     "name": "#%%\n"
    }
   }
  },
  {
   "cell_type": "code",
   "execution_count": 72,
   "outputs": [
    {
     "name": "stdout",
     "output_type": "stream",
     "text": [
      "CPU times: user 19.5 s, sys: 139 ms, total: 19.6 s\n",
      "Wall time: 19.7 s\n"
     ]
    }
   ],
   "source": [
    "%%time\n",
    "df_mentions['nmod'] = df_mentions['text'].apply(lambda x: lst_to_str(collect_nmod(x)))"
   ],
   "metadata": {
    "collapsed": false,
    "pycharm": {
     "name": "#%%\n"
    }
   }
  },
  {
   "cell_type": "code",
   "execution_count": 73,
   "outputs": [
    {
     "name": "stdout",
     "output_type": "stream",
     "text": [
      "CPU times: user 19.5 s, sys: 73.2 ms, total: 19.5 s\n",
      "Wall time: 19.6 s\n"
     ]
    }
   ],
   "source": [
    "%%time\n",
    "df_mentions['amod'] = df_mentions['text'].apply(lambda x: lst_to_str(collect_amod(x)))"
   ],
   "metadata": {
    "collapsed": false,
    "pycharm": {
     "name": "#%%\n"
    }
   }
  },
  {
   "cell_type": "code",
   "execution_count": 74,
   "outputs": [
    {
     "name": "stdout",
     "output_type": "stream",
     "text": [
      "CPU times: user 19.5 s, sys: 196 ms, total: 19.7 s\n",
      "Wall time: 19.7 s\n"
     ]
    }
   ],
   "source": [
    "%%time\n",
    "df_mentions['comp'] = df_mentions['text'].apply(lambda x: lst_to_str(collect_comp(x)))"
   ],
   "metadata": {
    "collapsed": false,
    "pycharm": {
     "name": "#%%\n"
    }
   }
  },
  {
   "cell_type": "code",
   "execution_count": 75,
   "outputs": [],
   "source": [
    "df_mentions.drop(columns=['index'], inplace=True)"
   ],
   "metadata": {
    "collapsed": false,
    "pycharm": {
     "name": "#%%\n"
    }
   }
  },
  {
   "cell_type": "code",
   "execution_count": 76,
   "outputs": [
    {
     "data": {
      "text/plain": "                      Emotion Dehumanization Mention   External ID  \\\n0     так, присутня негативна            так     так     row_0.txt   \n1     так, присутня негативна            так     так    row_10.txt   \n2     так, присутня негативна            так     так   row_100.txt   \n3      ні, оцінка не присутня             ні     так  row_1000.txt   \n4      ні, оцінка не присутня             ні     так  row_1001.txt   \n...                       ...            ...     ...           ...   \n2494   ні, оцінка не присутня             ні     так   row_993.txt   \n2495   ні, оцінка не присутня             ні     так   row_995.txt   \n2496  так, присутня негативна             ні     так   row_996.txt   \n2497  так, присутня негативна             ні     так   row_997.txt   \n2498   ні, оцінка не присутня            так     так   row_998.txt   \n\n                        Created By  \\\n0         snizannabotvin@gmail.com   \n1         snizannabotvin@gmail.com   \n2         snizannabotvin@gmail.com   \n3           tutovadesign@gmail.com   \n4           tutovadesign@gmail.com   \n...                            ...   \n2494        tutovadesign@gmail.com   \n2495        tutovadesign@gmail.com   \n2496        tutovadesign@gmail.com   \n2497  yevhen.marchenko91@gmail.com   \n2498  yevhen.marchenko91@gmail.com   \n\n                                                   text  rating  \\\n0     Всвязи с этим немного поправлю коллег ⤵️  \"Они...       4   \n1     Почему на базах неонацистов стоят языческие ис...       4   \n2     Группа добровольцев-медиков из Чеченской Респу...       4   \n3     ВСУшники, переходите на сторону добра, у нас т...       5   \n4     Наши ребята столкнулись с полком «Азов» и морс...       5   \n...                                                 ...     ...   \n2494  ⚡️Путин: Нам нужно ответить на вопрос, который...       5   \n2495  Утренний брифинг Минобороны России:  ▪️ россий...       5   \n2496  И понеслась мазепинщино-петлюровщино-бандеровщ...       5   \n2497  Наш соратник по русскому движению Алексей Сели...       3   \n2498  Хорошее видео от 4 бригады НМ ЛНР https://t.me...       3   \n\n                                             text_clean  \\\n0     всвязи с этим немного поправлю коллег   они не...   \n1     почему на базах неонацистов стоят языческие ис...   \n2     группа добровольцев-медиков из чеченской респу...   \n3     всушники, переходите на сторону добра, у нас т...   \n4     наши ребята столкнулись с полком азов и морско...   \n...                                                 ...   \n2494  путин: нам нужно ответить на вопрос, который п...   \n2495  утренний брифинг минобороны россии:   российск...   \n2496  и понеслась мазепинщино-петлюровщино-бандеровщ...   \n2497  наш соратник по русскому движению алексей сели...   \n2498  хорошее видео от  бригады нм лнр :., обработка...   \n\n                                        text_lemmatized  \\\n0     [всвязи, с, это, немного, поправить, коллега, ...   \n1     [почему, на, база, неонацист, стоять, язычески...   \n2     [группа, доброволец, -, медик, из, чеченский, ...   \n3     [всушники, ,, переходить, на, сторона, добро, ...   \n4     [наш, ребята, столкнуться, с, полок, азов, и, ...   \n...                                                 ...   \n2494  [путин, :, нам, нужный, ответить, на, вопрос, ...   \n2495  [утренний, брифинг, минобороны, россия, :,   ,...   \n2496  [и, понестись, мазепинщино, -, петлюровщино, -...   \n2497  [наш, соратник, по, русский, движение, алексей...   \n2498  [хороший, видео, от,  , бригада, нм, лнр, :, ....   \n\n                                         core_noun_verb  \\\n0     Всвязи немного поправлю, Они не начинать, мы д...   \n1                                 истуканы Почему стоят   \n2                Группа наравне вносит, врачи оказывают   \n3                        ВСУшники переходите, тепло нас   \n4     ребята столкнулись, армия действительно готова...   \n...                                                 ...   \n2494                                        Путин нужно   \n2495  брифинг продвинулись, силы продвинулись, групп...   \n2496                                                      \n2497                             соратник вместе прибыл   \n2498                                                      \n\n                                           verb_obl_obj  \\\n0     немного поправлю коллег, не начинать армагеддо...   \n1                                 Почему стоят на базах   \n2     вносит лепту, вносит в дело, вносит -, вносит ...   \n3                                 переходите на сторону   \n4     столкнулись с полком, внезапно оказалось для м...   \n...                                                 ...   \n2494       ответить на вопрос, зафиксирован в обращении   \n2495  продвинулись за ночь, продвинулись на км, разв...   \n2496  понеслась петлюровщино, понеслась -, понеслась...   \n2497  прибыл в область, создавать органы, создавать ...   \n2498                                                      \n\n                                                   nmod  \\\n0     Всвязи с этим, диверсии в Польше, удар ТЯО, уд...   \n1     базах неонацистов, Гость студии, протоиерей СМ...   \n2     Группа добровольцев, Группа -, Группа медиков,...   \n3                                         сторону добра   \n4                                                         \n...                                                 ...   \n2494  обращении Госдумы, вопрос ДНР признании, призн...   \n2495  брифинг Минобороны, наступление бригады подраз...   \n2496                                                      \n2497  соратник русскому движению, армией России, орг...   \n2498  видео НМ бригады, бригады НМ, обработка позици...   \n\n                                                   amod comp  \n0     ядерный армагеддон, осознанный удар, Львовской...       \n1                                    языческие истуканы       \n2     бандеровских мразей, подлых шайтанов, Республи...       \n3                                      вкусные печеньки       \n4               украинская армия, Бандеровские ценности       \n...                                                 ...  ...  \n2494                                                          \n2495  Утренний брифинг, российские силы, украинской ...       \n2496                                                          \n2497  русскому движению, Запорожскую область, мирной...       \n2498                  Хорошее видео, пифтонными бомбами       \n\n[2499 rows x 14 columns]",
      "text/html": "<div>\n<style scoped>\n    .dataframe tbody tr th:only-of-type {\n        vertical-align: middle;\n    }\n\n    .dataframe tbody tr th {\n        vertical-align: top;\n    }\n\n    .dataframe thead th {\n        text-align: right;\n    }\n</style>\n<table border=\"1\" class=\"dataframe\">\n  <thead>\n    <tr style=\"text-align: right;\">\n      <th></th>\n      <th>Emotion</th>\n      <th>Dehumanization</th>\n      <th>Mention</th>\n      <th>External ID</th>\n      <th>Created By</th>\n      <th>text</th>\n      <th>rating</th>\n      <th>text_clean</th>\n      <th>text_lemmatized</th>\n      <th>core_noun_verb</th>\n      <th>verb_obl_obj</th>\n      <th>nmod</th>\n      <th>amod</th>\n      <th>comp</th>\n    </tr>\n  </thead>\n  <tbody>\n    <tr>\n      <th>0</th>\n      <td>так, присутня негативна</td>\n      <td>так</td>\n      <td>так</td>\n      <td>row_0.txt</td>\n      <td>snizannabotvin@gmail.com</td>\n      <td>Всвязи с этим немного поправлю коллег ⤵️  \"Они...</td>\n      <td>4</td>\n      <td>всвязи с этим немного поправлю коллег   они не...</td>\n      <td>[всвязи, с, это, немного, поправить, коллега, ...</td>\n      <td>Всвязи немного поправлю, Они не начинать, мы д...</td>\n      <td>немного поправлю коллег, не начинать армагеддо...</td>\n      <td>Всвязи с этим, диверсии в Польше, удар ТЯО, уд...</td>\n      <td>ядерный армагеддон, осознанный удар, Львовской...</td>\n      <td></td>\n    </tr>\n    <tr>\n      <th>1</th>\n      <td>так, присутня негативна</td>\n      <td>так</td>\n      <td>так</td>\n      <td>row_10.txt</td>\n      <td>snizannabotvin@gmail.com</td>\n      <td>Почему на базах неонацистов стоят языческие ис...</td>\n      <td>4</td>\n      <td>почему на базах неонацистов стоят языческие ис...</td>\n      <td>[почему, на, база, неонацист, стоять, язычески...</td>\n      <td>истуканы Почему стоят</td>\n      <td>Почему стоят на базах</td>\n      <td>базах неонацистов, Гость студии, протоиерей СМ...</td>\n      <td>языческие истуканы</td>\n      <td></td>\n    </tr>\n    <tr>\n      <th>2</th>\n      <td>так, присутня негативна</td>\n      <td>так</td>\n      <td>так</td>\n      <td>row_100.txt</td>\n      <td>snizannabotvin@gmail.com</td>\n      <td>Группа добровольцев-медиков из Чеченской Респу...</td>\n      <td>4</td>\n      <td>группа добровольцев-медиков из чеченской респу...</td>\n      <td>[группа, доброволец, -, медик, из, чеченский, ...</td>\n      <td>Группа наравне вносит, врачи оказывают</td>\n      <td>вносит лепту, вносит в дело, вносит -, вносит ...</td>\n      <td>Группа добровольцев, Группа -, Группа медиков,...</td>\n      <td>бандеровских мразей, подлых шайтанов, Республи...</td>\n      <td></td>\n    </tr>\n    <tr>\n      <th>3</th>\n      <td>ні, оцінка не присутня</td>\n      <td>ні</td>\n      <td>так</td>\n      <td>row_1000.txt</td>\n      <td>tutovadesign@gmail.com</td>\n      <td>ВСУшники, переходите на сторону добра, у нас т...</td>\n      <td>5</td>\n      <td>всушники, переходите на сторону добра, у нас т...</td>\n      <td>[всушники, ,, переходить, на, сторона, добро, ...</td>\n      <td>ВСУшники переходите, тепло нас</td>\n      <td>переходите на сторону</td>\n      <td>сторону добра</td>\n      <td>вкусные печеньки</td>\n      <td></td>\n    </tr>\n    <tr>\n      <th>4</th>\n      <td>ні, оцінка не присутня</td>\n      <td>ні</td>\n      <td>так</td>\n      <td>row_1001.txt</td>\n      <td>tutovadesign@gmail.com</td>\n      <td>Наши ребята столкнулись с полком «Азов» и морс...</td>\n      <td>5</td>\n      <td>наши ребята столкнулись с полком азов и морско...</td>\n      <td>[наш, ребята, столкнуться, с, полок, азов, и, ...</td>\n      <td>ребята столкнулись, армия действительно готова...</td>\n      <td>столкнулись с полком, внезапно оказалось для м...</td>\n      <td></td>\n      <td>украинская армия, Бандеровские ценности</td>\n      <td></td>\n    </tr>\n    <tr>\n      <th>...</th>\n      <td>...</td>\n      <td>...</td>\n      <td>...</td>\n      <td>...</td>\n      <td>...</td>\n      <td>...</td>\n      <td>...</td>\n      <td>...</td>\n      <td>...</td>\n      <td>...</td>\n      <td>...</td>\n      <td>...</td>\n      <td>...</td>\n      <td>...</td>\n    </tr>\n    <tr>\n      <th>2494</th>\n      <td>ні, оцінка не присутня</td>\n      <td>ні</td>\n      <td>так</td>\n      <td>row_993.txt</td>\n      <td>tutovadesign@gmail.com</td>\n      <td>⚡️Путин: Нам нужно ответить на вопрос, который...</td>\n      <td>5</td>\n      <td>путин: нам нужно ответить на вопрос, который п...</td>\n      <td>[путин, :, нам, нужный, ответить, на, вопрос, ...</td>\n      <td>Путин нужно</td>\n      <td>ответить на вопрос, зафиксирован в обращении</td>\n      <td>обращении Госдумы, вопрос ДНР признании, призн...</td>\n      <td></td>\n      <td></td>\n    </tr>\n    <tr>\n      <th>2495</th>\n      <td>ні, оцінка не присутня</td>\n      <td>ні</td>\n      <td>так</td>\n      <td>row_995.txt</td>\n      <td>tutovadesign@gmail.com</td>\n      <td>Утренний брифинг Минобороны России:  ▪️ россий...</td>\n      <td>5</td>\n      <td>утренний брифинг минобороны россии:   российск...</td>\n      <td>[утренний, брифинг, минобороны, россия, :,   ,...</td>\n      <td>брифинг продвинулись, силы продвинулись, групп...</td>\n      <td>продвинулись за ночь, продвинулись на км, разв...</td>\n      <td>брифинг Минобороны, наступление бригады подраз...</td>\n      <td>Утренний брифинг, российские силы, украинской ...</td>\n      <td></td>\n    </tr>\n    <tr>\n      <th>2496</th>\n      <td>так, присутня негативна</td>\n      <td>ні</td>\n      <td>так</td>\n      <td>row_996.txt</td>\n      <td>tutovadesign@gmail.com</td>\n      <td>И понеслась мазепинщино-петлюровщино-бандеровщ...</td>\n      <td>5</td>\n      <td>и понеслась мазепинщино-петлюровщино-бандеровщ...</td>\n      <td>[и, понестись, мазепинщино, -, петлюровщино, -...</td>\n      <td></td>\n      <td>понеслась петлюровщино, понеслась -, понеслась...</td>\n      <td></td>\n      <td></td>\n      <td></td>\n    </tr>\n    <tr>\n      <th>2497</th>\n      <td>так, присутня негативна</td>\n      <td>ні</td>\n      <td>так</td>\n      <td>row_997.txt</td>\n      <td>yevhen.marchenko91@gmail.com</td>\n      <td>Наш соратник по русскому движению Алексей Сели...</td>\n      <td>3</td>\n      <td>наш соратник по русскому движению алексей сели...</td>\n      <td>[наш, соратник, по, русский, движение, алексей...</td>\n      <td>соратник вместе прибыл</td>\n      <td>прибыл в область, создавать органы, создавать ...</td>\n      <td>соратник русскому движению, армией России, орг...</td>\n      <td>русскому движению, Запорожскую область, мирной...</td>\n      <td></td>\n    </tr>\n    <tr>\n      <th>2498</th>\n      <td>ні, оцінка не присутня</td>\n      <td>так</td>\n      <td>так</td>\n      <td>row_998.txt</td>\n      <td>yevhen.marchenko91@gmail.com</td>\n      <td>Хорошее видео от 4 бригады НМ ЛНР https://t.me...</td>\n      <td>3</td>\n      <td>хорошее видео от  бригады нм лнр :., обработка...</td>\n      <td>[хороший, видео, от,  , бригада, нм, лнр, :, ....</td>\n      <td></td>\n      <td></td>\n      <td>видео НМ бригады, бригады НМ, обработка позици...</td>\n      <td>Хорошее видео, пифтонными бомбами</td>\n      <td></td>\n    </tr>\n  </tbody>\n</table>\n<p>2499 rows × 14 columns</p>\n</div>"
     },
     "execution_count": 76,
     "metadata": {},
     "output_type": "execute_result"
    }
   ],
   "source": [
    "df_mentions"
   ],
   "metadata": {
    "collapsed": false,
    "pycharm": {
     "name": "#%%\n"
    }
   }
  },
  {
   "cell_type": "markdown",
   "source": [
    "### Plan of experiments\n",
    "\n",
    "Part 1\n",
    "\n",
    "1. take all samples that contain dehumanization in label (see what the log leg is the most reliant upon?)\n",
    "2. take sentences that contain morph forms or misspellings of these words\n",
    "3. check that these sentences do not contain other labels (!)\n",
    "4. get the morph form of this labels\n",
    "5. take these sentences and put non-dehumanizing labels there\n",
    "6. add them to training data as non-dehumanizing\n",
    "\n",
    "Part 2\n",
    "\n",
    "7. take sentences without dehumanization\n",
    "8. swith non-dehumanizing with dehumanizing"
   ],
   "metadata": {
    "collapsed": false,
    "pycharm": {
     "name": "#%% md\n"
    }
   }
  },
  {
   "cell_type": "code",
   "execution_count": 77,
   "outputs": [],
   "source": [
    "# def chech_of_contains_any_form + get position + get morph form (format - sent no, pos, morph form, lemma)\n",
    "# def check_if_contains part of the word (typical)\n",
    "# def inflect_and_put_word_in_pos"
   ],
   "metadata": {
    "collapsed": false,
    "pycharm": {
     "name": "#%%\n"
    }
   }
  },
  {
   "cell_type": "code",
   "execution_count": 78,
   "outputs": [],
   "source": [
    "df_test = df_mentions[:10].copy()"
   ],
   "metadata": {
    "collapsed": false,
    "pycharm": {
     "name": "#%%\n"
    }
   }
  },
  {
   "cell_type": "code",
   "execution_count": 79,
   "outputs": [
    {
     "data": {
      "text/plain": "                   Emotion Dehumanization Mention   External ID  \\\n0  так, присутня негативна            так     так     row_0.txt   \n1  так, присутня негативна            так     так    row_10.txt   \n2  так, присутня негативна            так     так   row_100.txt   \n3   ні, оцінка не присутня             ні     так  row_1000.txt   \n4   ні, оцінка не присутня             ні     так  row_1001.txt   \n5  так, присутня негативна            так     так  row_1002.txt   \n6  так, присутня негативна            так     так  row_1005.txt   \n7  так, присутня негативна            так     так  row_1006.txt   \n8   ні, оцінка не присутня             ні     так  row_1007.txt   \n9  так, присутня негативна            так     так  row_1008.txt   \n\n                     Created By  \\\n0      snizannabotvin@gmail.com   \n1      snizannabotvin@gmail.com   \n2      snizannabotvin@gmail.com   \n3        tutovadesign@gmail.com   \n4        tutovadesign@gmail.com   \n5        tutovadesign@gmail.com   \n6  yevhen.marchenko91@gmail.com   \n7  yevhen.marchenko91@gmail.com   \n8        tutovadesign@gmail.com   \n9  yevhen.marchenko91@gmail.com   \n\n                                                text  rating  \\\n0  Всвязи с этим немного поправлю коллег ⤵️  \"Они...       4   \n1  Почему на базах неонацистов стоят языческие ис...       4   \n2  Группа добровольцев-медиков из Чеченской Респу...       4   \n3  ВСУшники, переходите на сторону добра, у нас т...       5   \n4  Наши ребята столкнулись с полком «Азов» и морс...       5   \n5  Значит всё прекрасно понимает, включая необход...       5   \n6  Оно провалилось, но укровояки хвалились тем, ч...       3   \n7  Западный мем о степени правдивости пропаганды ...       3   \n8  ⚡️ВСУ нанесли артиллерийский удар по больнице ...       5   \n9  Война до последнего украинца – это вовсе не вы...       3   \n\n                                          text_clean  \\\n0  всвязи с этим немного поправлю коллег   они не...   \n1  почему на базах неонацистов стоят языческие ис...   \n2  группа добровольцев-медиков из чеченской респу...   \n3  всушники, переходите на сторону добра, у нас т...   \n4  наши ребята столкнулись с полком азов и морско...   \n5  значит всё прекрасно понимает, включая необход...   \n6  оно провалилось, но укровояки хвалились тем, ч...   \n7  западный мем о степени правдивости пропаганды ...   \n8  всу нанесли артиллерийский удар по больнице в ...   \n9  война до последнего украинца  это вовсе не выд...   \n\n                                     text_lemmatized  \\\n0  [всвязи, с, это, немного, поправить, коллега, ...   \n1  [почему, на, база, неонацист, стоять, язычески...   \n2  [группа, доброволец, -, медик, из, чеченский, ...   \n3  [всушники, ,, переходить, на, сторона, добро, ...   \n4  [наш, ребята, столкнуться, с, полок, азов, и, ...   \n5  [значить, всё, прекрасно, понимать, ,, включая...   \n6  [оно, провалиться, ,, но, укровояки, хвалиться...   \n7  [западный, мем, о, степень, правдивость, пропа...   \n8  [всу, нанести, артиллерийский, удар, по, больн...   \n9  [война, до, последний, украинец,  , это, вовсе...   \n\n                                      core_noun_verb  \\\n0  Всвязи немного поправлю, Они не начинать, мы д...   \n1                              истуканы Почему стоят   \n2             Группа наравне вносит, врачи оказывают   \n3                     ВСУшники переходите, тепло нас   \n4  ребята столкнулись, армия действительно готова...   \n5                          Значит прекрасно понимает   \n6               Оно провалилось, укровояки хвалились   \n7                                                      \n8        ВСУ нанесли, боевики обстреляли, ВСУ ранены   \n9  Война не выдумки, это правда, хозяева не счита...   \n\n                                        verb_obl_obj  \\\n0  немного поправлю коллег, не начинать армагеддо...   \n1                              Почему стоят на базах   \n2  вносит лепту, вносит в дело, вносит -, вносит ...   \n3                              переходите на сторону   \n4  столкнулись с полком, внезапно оказалось для м...   \n5                             прекрасно понимает всё   \n6  хвалились тем, якобы нанесли потери, заставили...   \n7                                                      \n8  нанесли удар, обстреляли больницу, обстреляли ...   \n9      скрывать которую, не считают которую скрывать   \n\n                                                nmod  \\\n0  Всвязи с этим, диверсии в Польше, удар ТЯО, уд...   \n1  базах неонацистов, Гость студии, протоиерей СМ...   \n2  Группа добровольцев, Группа -, Группа медиков,...   \n3                                      сторону добра   \n4                                                      \n5    необходимость решения, капитуляции укронацистов   \n6                                                      \n7  мем правдивости степени, степени правдивости, ...   \n8          удар Донецке больнице, больнице в Донецке   \n9  Война   украинца, выдумки России, хозяева банд...   \n\n                                                amod comp  \n0  ядерный армагеддон, осознанный удар, Львовской...       \n1                                 языческие истуканы       \n2  бандеровских мразей, подлых шайтанов, Республи...       \n3                                   вкусные печеньки       \n4            украинская армия, Бандеровские ценности       \n5                                   силового решения       \n6  существенные потери, невыгодных рубежах, недоо...       \n7                                       Западный мем       \n8  артиллерийский удар, мирных жителей, Украински...       \n9                                последнего украинца       ",
      "text/html": "<div>\n<style scoped>\n    .dataframe tbody tr th:only-of-type {\n        vertical-align: middle;\n    }\n\n    .dataframe tbody tr th {\n        vertical-align: top;\n    }\n\n    .dataframe thead th {\n        text-align: right;\n    }\n</style>\n<table border=\"1\" class=\"dataframe\">\n  <thead>\n    <tr style=\"text-align: right;\">\n      <th></th>\n      <th>Emotion</th>\n      <th>Dehumanization</th>\n      <th>Mention</th>\n      <th>External ID</th>\n      <th>Created By</th>\n      <th>text</th>\n      <th>rating</th>\n      <th>text_clean</th>\n      <th>text_lemmatized</th>\n      <th>core_noun_verb</th>\n      <th>verb_obl_obj</th>\n      <th>nmod</th>\n      <th>amod</th>\n      <th>comp</th>\n    </tr>\n  </thead>\n  <tbody>\n    <tr>\n      <th>0</th>\n      <td>так, присутня негативна</td>\n      <td>так</td>\n      <td>так</td>\n      <td>row_0.txt</td>\n      <td>snizannabotvin@gmail.com</td>\n      <td>Всвязи с этим немного поправлю коллег ⤵️  \"Они...</td>\n      <td>4</td>\n      <td>всвязи с этим немного поправлю коллег   они не...</td>\n      <td>[всвязи, с, это, немного, поправить, коллега, ...</td>\n      <td>Всвязи немного поправлю, Они не начинать, мы д...</td>\n      <td>немного поправлю коллег, не начинать армагеддо...</td>\n      <td>Всвязи с этим, диверсии в Польше, удар ТЯО, уд...</td>\n      <td>ядерный армагеддон, осознанный удар, Львовской...</td>\n      <td></td>\n    </tr>\n    <tr>\n      <th>1</th>\n      <td>так, присутня негативна</td>\n      <td>так</td>\n      <td>так</td>\n      <td>row_10.txt</td>\n      <td>snizannabotvin@gmail.com</td>\n      <td>Почему на базах неонацистов стоят языческие ис...</td>\n      <td>4</td>\n      <td>почему на базах неонацистов стоят языческие ис...</td>\n      <td>[почему, на, база, неонацист, стоять, язычески...</td>\n      <td>истуканы Почему стоят</td>\n      <td>Почему стоят на базах</td>\n      <td>базах неонацистов, Гость студии, протоиерей СМ...</td>\n      <td>языческие истуканы</td>\n      <td></td>\n    </tr>\n    <tr>\n      <th>2</th>\n      <td>так, присутня негативна</td>\n      <td>так</td>\n      <td>так</td>\n      <td>row_100.txt</td>\n      <td>snizannabotvin@gmail.com</td>\n      <td>Группа добровольцев-медиков из Чеченской Респу...</td>\n      <td>4</td>\n      <td>группа добровольцев-медиков из чеченской респу...</td>\n      <td>[группа, доброволец, -, медик, из, чеченский, ...</td>\n      <td>Группа наравне вносит, врачи оказывают</td>\n      <td>вносит лепту, вносит в дело, вносит -, вносит ...</td>\n      <td>Группа добровольцев, Группа -, Группа медиков,...</td>\n      <td>бандеровских мразей, подлых шайтанов, Республи...</td>\n      <td></td>\n    </tr>\n    <tr>\n      <th>3</th>\n      <td>ні, оцінка не присутня</td>\n      <td>ні</td>\n      <td>так</td>\n      <td>row_1000.txt</td>\n      <td>tutovadesign@gmail.com</td>\n      <td>ВСУшники, переходите на сторону добра, у нас т...</td>\n      <td>5</td>\n      <td>всушники, переходите на сторону добра, у нас т...</td>\n      <td>[всушники, ,, переходить, на, сторона, добро, ...</td>\n      <td>ВСУшники переходите, тепло нас</td>\n      <td>переходите на сторону</td>\n      <td>сторону добра</td>\n      <td>вкусные печеньки</td>\n      <td></td>\n    </tr>\n    <tr>\n      <th>4</th>\n      <td>ні, оцінка не присутня</td>\n      <td>ні</td>\n      <td>так</td>\n      <td>row_1001.txt</td>\n      <td>tutovadesign@gmail.com</td>\n      <td>Наши ребята столкнулись с полком «Азов» и морс...</td>\n      <td>5</td>\n      <td>наши ребята столкнулись с полком азов и морско...</td>\n      <td>[наш, ребята, столкнуться, с, полок, азов, и, ...</td>\n      <td>ребята столкнулись, армия действительно готова...</td>\n      <td>столкнулись с полком, внезапно оказалось для м...</td>\n      <td></td>\n      <td>украинская армия, Бандеровские ценности</td>\n      <td></td>\n    </tr>\n    <tr>\n      <th>5</th>\n      <td>так, присутня негативна</td>\n      <td>так</td>\n      <td>так</td>\n      <td>row_1002.txt</td>\n      <td>tutovadesign@gmail.com</td>\n      <td>Значит всё прекрасно понимает, включая необход...</td>\n      <td>5</td>\n      <td>значит всё прекрасно понимает, включая необход...</td>\n      <td>[значить, всё, прекрасно, понимать, ,, включая...</td>\n      <td>Значит прекрасно понимает</td>\n      <td>прекрасно понимает всё</td>\n      <td>необходимость решения, капитуляции укронацистов</td>\n      <td>силового решения</td>\n      <td></td>\n    </tr>\n    <tr>\n      <th>6</th>\n      <td>так, присутня негативна</td>\n      <td>так</td>\n      <td>так</td>\n      <td>row_1005.txt</td>\n      <td>yevhen.marchenko91@gmail.com</td>\n      <td>Оно провалилось, но укровояки хвалились тем, ч...</td>\n      <td>3</td>\n      <td>оно провалилось, но укровояки хвалились тем, ч...</td>\n      <td>[оно, провалиться, ,, но, укровояки, хвалиться...</td>\n      <td>Оно провалилось, укровояки хвалились</td>\n      <td>хвалились тем, якобы нанесли потери, заставили...</td>\n      <td></td>\n      <td>существенные потери, невыгодных рубежах, недоо...</td>\n      <td></td>\n    </tr>\n    <tr>\n      <th>7</th>\n      <td>так, присутня негативна</td>\n      <td>так</td>\n      <td>так</td>\n      <td>row_1006.txt</td>\n      <td>yevhen.marchenko91@gmail.com</td>\n      <td>Западный мем о степени правдивости пропаганды ...</td>\n      <td>3</td>\n      <td>западный мем о степени правдивости пропаганды ...</td>\n      <td>[западный, мем, о, степень, правдивость, пропа...</td>\n      <td></td>\n      <td></td>\n      <td>мем правдивости степени, степени правдивости, ...</td>\n      <td>Западный мем</td>\n      <td></td>\n    </tr>\n    <tr>\n      <th>8</th>\n      <td>ні, оцінка не присутня</td>\n      <td>ні</td>\n      <td>так</td>\n      <td>row_1007.txt</td>\n      <td>tutovadesign@gmail.com</td>\n      <td>⚡️ВСУ нанесли артиллерийский удар по больнице ...</td>\n      <td>5</td>\n      <td>всу нанесли артиллерийский удар по больнице в ...</td>\n      <td>[всу, нанести, артиллерийский, удар, по, больн...</td>\n      <td>ВСУ нанесли, боевики обстреляли, ВСУ ранены</td>\n      <td>нанесли удар, обстреляли больницу, обстреляли ...</td>\n      <td>удар Донецке больнице, больнице в Донецке</td>\n      <td>артиллерийский удар, мирных жителей, Украински...</td>\n      <td></td>\n    </tr>\n    <tr>\n      <th>9</th>\n      <td>так, присутня негативна</td>\n      <td>так</td>\n      <td>так</td>\n      <td>row_1008.txt</td>\n      <td>yevhen.marchenko91@gmail.com</td>\n      <td>Война до последнего украинца – это вовсе не вы...</td>\n      <td>3</td>\n      <td>война до последнего украинца  это вовсе не выд...</td>\n      <td>[война, до, последний, украинец,  , это, вовсе...</td>\n      <td>Война не выдумки, это правда, хозяева не счита...</td>\n      <td>скрывать которую, не считают которую скрывать</td>\n      <td>Война   украинца, выдумки России, хозяева банд...</td>\n      <td>последнего украинца</td>\n      <td></td>\n    </tr>\n  </tbody>\n</table>\n</div>"
     },
     "execution_count": 79,
     "metadata": {},
     "output_type": "execute_result"
    }
   ],
   "source": [
    "df_test"
   ],
   "metadata": {
    "collapsed": false,
    "pycharm": {
     "name": "#%%\n"
    }
   }
  },
  {
   "cell_type": "markdown",
   "source": [
    "# Finding occurencies of the dehumanizing labels"
   ],
   "metadata": {
    "collapsed": false,
    "pycharm": {
     "name": "#%% md\n"
    }
   }
  },
  {
   "cell_type": "markdown",
   "source": [
    "## Compiling lists of neutral and dehumanizing labels"
   ],
   "metadata": {
    "collapsed": false,
    "pycharm": {
     "name": "#%% md\n"
    }
   }
  },
  {
   "cell_type": "code",
   "execution_count": 80,
   "outputs": [],
   "source": [
    "df_ = pd.read_json('/Users/katerynaburovova/PycharmProjects/dehumanization/most_important_features.json')\n",
    "features_list = df_['final_features'].tolist()"
   ],
   "metadata": {
    "collapsed": false,
    "pycharm": {
     "name": "#%%\n"
    }
   }
  },
  {
   "cell_type": "code",
   "execution_count": 81,
   "outputs": [
    {
     "data": {
      "text/plain": "107"
     },
     "execution_count": 81,
     "metadata": {},
     "output_type": "execute_result"
    }
   ],
   "source": [
    "len(features_list)"
   ],
   "metadata": {
    "collapsed": false,
    "pycharm": {
     "name": "#%%\n"
    }
   }
  },
  {
   "cell_type": "code",
   "execution_count": 82,
   "outputs": [
    {
     "data": {
      "text/plain": "['укронацистов',\n 'укрорейха',\n 'нацистов',\n None,\n 'поддерживает',\n 'губернатор',\n 'сообщили',\n 'готовят',\n 'салам',\n 'рубль',\n 'москве',\n 'обстрела',\n 'хохлорейха',\n 'укронациста',\n 'шайкой',\n 'города',\n 'пропаганды',\n 'горловки',\n 'боевиков',\n 'неонацистов',\n 'свинособаки',\n 'оружия',\n 'коронавируса',\n 'укронацизма',\n 'неонацистами',\n 'мид',\n 'укрорейхом',\n 'наркоманов',\n 'свинорейха',\n 'хозяева',\n 'чубайса',\n 'позициям',\n 'бригады',\n 'укронациков',\n 'укронацистами',\n 'подразделений',\n 'перемога',\n 'укрорейху',\n 'жизней',\n 'атаки',\n 'укровермахта',\n 'укропитеков',\n 'задача',\n 'обстрелы',\n 'рублей',\n 'укрорейхе',\n 'их',\n 'захвата',\n 'нациков',\n 'новостей',\n 'координаты',\n 'рядах',\n 'донецка',\n 'смерти',\n 'позиции',\n 'дислокации',\n 'бандеровцами',\n 'представитель',\n 'лица',\n 'атаку',\n 'неонацисты',\n 'коронавирусом',\n 'работа',\n 'всушников',\n 'года',\n 'режима',\n 'просвещения',\n 'стиле',\n 'склады',\n 'рождения',\n 'жители',\n 'утилизации',\n 'хунты',\n 'случаев',\n 'укронацисты',\n 'воевать',\n 'командование',\n 'новости',\n 'тактике',\n 'рейха',\n 'место',\n 'уничтожить',\n 'сектора',\n 'история',\n 'остатки',\n 'салорейха',\n 'рсзо',\n 'желание',\n 'преступление',\n 'освобождения',\n 'премьер',\n 'всу',\n 'января',\n 'войск',\n 'бойцы',\n 'убийства',\n 'президента',\n 'санкции',\n 'мариуполя',\n 'фильма',\n 'возможность',\n 'референдума',\n 'посты',\n 'азова',\n 'уничтожения',\n 'располага',\n 'удара']"
     },
     "execution_count": 82,
     "metadata": {},
     "output_type": "execute_result"
    }
   ],
   "source": [
    "features_list"
   ],
   "metadata": {
    "collapsed": false,
    "pycharm": {
     "name": "#%%\n"
    }
   }
  },
  {
   "cell_type": "code",
   "execution_count": 83,
   "outputs": [],
   "source": [
    "final_features_list_ukrainians = ['укронацистов',\n",
    "                                  'нацистов',\n",
    "                                  'укронациста',\n",
    "                                  'неонацистов',\n",
    "                                  'свинособаки',\n",
    "                                  'неонацистами',\n",
    "                                  'укронациков',\n",
    "                                  'укронацистами',\n",
    "                                  'укропитеков',\n",
    "                                  'нациков',\n",
    "                                  'неонацисты',\n",
    "                                  'укронацисты']"
   ],
   "metadata": {
    "collapsed": false,
    "pycharm": {
     "name": "#%%\n"
    }
   }
  },
  {
   "cell_type": "code",
   "execution_count": 84,
   "outputs": [],
   "source": [
    "final_features_list_ukraine = ['укрорейха',\n",
    "                               'салорейха',\n",
    "                               'хохлорейха',\n",
    "                               'укрорейхом',\n",
    "                               'свинорейха',\n",
    "                               'укрорейху',\n",
    "                               'укровермахта',\n",
    "                               'укрорейхе',\n",
    "                               'хунты',\n",
    "                               'рейха']"
   ],
   "metadata": {
    "collapsed": false,
    "pycharm": {
     "name": "#%%\n"
    }
   }
  },
  {
   "cell_type": "code",
   "execution_count": 85,
   "outputs": [],
   "source": [
    "features_neutral_ukrainians = ['боевиков',\n",
    "                               'бандеровцами',\n",
    "                               'всушников',\n",
    "                               'всу']"
   ],
   "metadata": {
    "collapsed": false,
    "pycharm": {
     "name": "#%%\n"
    }
   }
  },
  {
   "cell_type": "code",
   "execution_count": 86,
   "outputs": [
    {
     "data": {
      "text/plain": "{'укр': ['укр'],\n 'украинец': ['украинцу',\n  'украинцах',\n  'украинец',\n  'украинца',\n  'украинце',\n  'украинцев',\n  'украинцам',\n  'украинцем',\n  'украинцами',\n  'украинцы'],\n 'украинка': ['украинке',\n  'украинок',\n  'украинки',\n  'украинкой',\n  'украинка',\n  'украинку',\n  'украинкою',\n  'украинкам',\n  'украинках',\n  'украинками'],\n 'хохол': ['хохлах',\n  'хохлу',\n  'хохлов',\n  'хохлам',\n  'хохлы',\n  'хохла',\n  'хохлами',\n  'хохол',\n  'хохле',\n  'хохлом'],\n 'хохлушка': ['хохлушку',\n  'хохлушкою',\n  'хохлушек',\n  'хохлушками',\n  'хохлушках',\n  'хохлушка',\n  'хохлушки',\n  'хохлушкам',\n  'хохлушкой',\n  'хохлушке'],\n 'укроп': ['укропе',\n  'укропы',\n  'укропах',\n  'укропу',\n  'укропа',\n  'укропом',\n  'укропов',\n  'укроп',\n  'укропам',\n  'укропами'],\n 'Украина': ['украиною',\n  'украины',\n  'украине',\n  'украиной',\n  'украина',\n  'украину'],\n 'украинский': ['украинская',\n  'украинской',\n  'украинском',\n  'украинские',\n  'украинскими',\n  'украинского',\n  'украинскую',\n  'украинский',\n  'украинских',\n  'украинскою',\n  'украинским',\n  'украинскому',\n  'украинское'],\n 'украинская': ['украинская',\n  'украинской',\n  'украинском',\n  'украинские',\n  'украинскими',\n  'украинского',\n  'украинскую',\n  'украинский',\n  'украинских',\n  'украинскою',\n  'украинским',\n  'украинскому',\n  'украинское'],\n 'украинское': ['украинская',\n  'украинской',\n  'украинском',\n  'украинские',\n  'украинскими',\n  'украинского',\n  'украинскую',\n  'украинский',\n  'украинских',\n  'украинскою',\n  'украинским',\n  'украинскому',\n  'украинское'],\n 'хохлятский': ['хохлятскому',\n  'хохлятские',\n  'хохлятскими',\n  'хохлятском',\n  'хохлятскую',\n  'хохлятскою',\n  'хохлятское',\n  'хохлятского',\n  'хохлятским',\n  'хохлятская',\n  'хохлятской',\n  'хохлятский',\n  'хохлятских'],\n 'хохлятская': ['хохлятскому',\n  'хохлятские',\n  'хохлятскими',\n  'хохлятском',\n  'хохлятскую',\n  'хохлятскою',\n  'хохлятское',\n  'хохлятского',\n  'хохлятским',\n  'хохлятская',\n  'хохлятской',\n  'хохлятский',\n  'хохлятских'],\n 'хохлятское': ['хохлятскому',\n  'хохлятские',\n  'хохлятскими',\n  'хохлятском',\n  'хохлятскую',\n  'хохлятскою',\n  'хохлятское',\n  'хохлятского',\n  'хохлятским',\n  'хохлятская',\n  'хохлятской',\n  'хохлятский',\n  'хохлятских'],\n 'укропский': ['укропские',\n  'укропских',\n  'укропский',\n  'укропском',\n  'укропская',\n  'укропское',\n  'укропскую',\n  'укропской',\n  'укропскою',\n  'укропскими',\n  'укропского',\n  'укропскому',\n  'укропским'],\n 'укропская': ['укропские',\n  'укропских',\n  'укропский',\n  'укропском',\n  'укропская',\n  'укропское',\n  'укропскую',\n  'укропскаю',\n  'укропскай',\n  'укропской',\n  'укропскою',\n  'укропскаем',\n  'укропскими',\n  'укропскае',\n  'укропского',\n  'укропскому',\n  'укропским'],\n 'укропское': ['укропские',\n  'укропских',\n  'укропский',\n  'укропском',\n  'укропская',\n  'укропское',\n  'укропскую',\n  'укропской',\n  'укропскою',\n  'укропскими',\n  'укропского',\n  'укропскому',\n  'укропским']}"
     },
     "execution_count": 86,
     "metadata": {},
     "output_type": "execute_result"
    }
   ],
   "source": [
    "loaded_df = pd.read_json('all_forms_dict.json', orient='records', lines=True)\n",
    "all_forms_dict = loaded_df.to_dict(orient='records')[0]\n",
    "all_forms_dict"
   ],
   "metadata": {
    "collapsed": false,
    "pycharm": {
     "name": "#%%\n"
    }
   }
  },
  {
   "cell_type": "code",
   "execution_count": 87,
   "outputs": [
    {
     "data": {
      "text/plain": "['укр',\n 'украинец',\n 'украинка',\n 'хохол',\n 'хохлушка',\n 'укроп',\n 'Украина',\n 'украинский',\n 'украинская',\n 'украинское',\n 'хохлятский',\n 'хохлятская',\n 'хохлятское',\n 'укропский',\n 'укропская',\n 'укропское']"
     },
     "execution_count": 87,
     "metadata": {},
     "output_type": "execute_result"
    }
   ],
   "source": [
    "all_forms_list = [key for key in all_forms_dict.keys()]\n",
    "all_forms_list"
   ],
   "metadata": {
    "collapsed": false,
    "pycharm": {
     "name": "#%%\n"
    }
   }
  },
  {
   "cell_type": "code",
   "execution_count": 88,
   "outputs": [],
   "source": [
    "all_forms_ukrainians = all_forms_list[:6]\n",
    "all_forms_ukraine = all_forms_list[6]"
   ],
   "metadata": {
    "collapsed": false,
    "pycharm": {
     "name": "#%%\n"
    }
   }
  },
  {
   "cell_type": "markdown",
   "source": [],
   "metadata": {
    "collapsed": false,
    "pycharm": {
     "name": "#%% md\n"
    }
   }
  },
  {
   "cell_type": "markdown",
   "source": [
    "## Searching for dehumanizing words"
   ],
   "metadata": {
    "collapsed": false,
    "pycharm": {
     "name": "#%% md\n"
    }
   }
  },
  {
   "cell_type": "code",
   "execution_count": 89,
   "outputs": [
    {
     "data": {
      "text/plain": "['укронацистов',\n 'нацистов',\n 'укронациста',\n 'неонацистов',\n 'свинособаки',\n 'неонацистами',\n 'укронациков',\n 'укронацистами',\n 'укропитеков',\n 'нациков',\n 'неонацисты',\n 'укронацисты']"
     },
     "execution_count": 89,
     "metadata": {},
     "output_type": "execute_result"
    }
   ],
   "source": [
    "# final list for dehumanizing target labels for Ukrainians to search for\n",
    "final_features_list_ukrainians"
   ],
   "metadata": {
    "collapsed": false,
    "pycharm": {
     "name": "#%%\n"
    }
   }
  },
  {
   "cell_type": "code",
   "execution_count": 90,
   "outputs": [
    {
     "data": {
      "text/plain": "['укрорейха',\n 'салорейха',\n 'хохлорейха',\n 'укрорейхом',\n 'свинорейха',\n 'укрорейху',\n 'укровермахта',\n 'укрорейхе',\n 'хунты',\n 'рейха']"
     },
     "execution_count": 90,
     "metadata": {},
     "output_type": "execute_result"
    }
   ],
   "source": [
    "# final list for dehumanizing target labels for Ukraine to search for\n",
    "final_features_list_ukraine"
   ],
   "metadata": {
    "collapsed": false,
    "pycharm": {
     "name": "#%%\n"
    }
   }
  },
  {
   "cell_type": "code",
   "execution_count": 91,
   "outputs": [
    {
     "name": "stdout",
     "output_type": "stream",
     "text": [
      "With prob 0.82% we'll replace dehumanizing labels with derogatory ones (that the log reg relied most upon)\n"
     ]
    },
    {
     "data": {
      "text/plain": "['боевиков',\n 'бандеровцами',\n 'всушников',\n 'всу',\n 'боевиков',\n 'бандеровцами',\n 'всушников',\n 'всу',\n 'боевиков',\n 'бандеровцами',\n 'всушников',\n 'всу',\n 'боевиков',\n 'бандеровцами',\n 'всушников',\n 'всу',\n 'боевиков',\n 'бандеровцами',\n 'всушников',\n 'всу',\n 'боевиков',\n 'бандеровцами',\n 'всушников',\n 'всу',\n 'боевиков',\n 'бандеровцами',\n 'всушников',\n 'всу',\n 'боевиков',\n 'бандеровцами',\n 'всушников',\n 'всу',\n 'боевиков',\n 'бандеровцами',\n 'всушников',\n 'всу',\n 'укр',\n 'украинец',\n 'украинка',\n 'хохол',\n 'хохлушка',\n 'укроп',\n 'укр',\n 'украинец',\n 'украинка',\n 'хохол',\n 'хохлушка',\n 'укроп']"
     },
     "execution_count": 91,
     "metadata": {},
     "output_type": "execute_result"
    }
   ],
   "source": [
    "# final list for neutral target labels to replace dehumanizing labels with\n",
    "\n",
    "neutral_target_labels_for_Ukrainians = features_neutral_ukrainians * 9 + all_forms_ukrainians*2\n",
    "\n",
    "print(f\"With prob {len(features_neutral_ukrainians * 9)/(len(features_neutral_ukrainians * 8)+len(all_forms_ukrainians*2)):0.2f}% we'll replace dehumanizing labels with derogatory ones (that the log reg relied most upon)\")\n",
    "\n",
    "neutral_target_labels_for_Ukrainians"
   ],
   "metadata": {
    "collapsed": false,
    "pycharm": {
     "name": "#%%\n"
    }
   }
  },
  {
   "cell_type": "markdown",
   "source": [
    "We'll collect info about the form of the occurence, so the fact that some are plural and some are not is not really a problem."
   ],
   "metadata": {
    "collapsed": false,
    "pycharm": {
     "name": "#%% md\n"
    }
   }
  },
  {
   "cell_type": "code",
   "execution_count": 92,
   "outputs": [],
   "source": [
    "import pymorphy2\n",
    "\n",
    "morph = pymorphy2.MorphAnalyzer()\n",
    "\n",
    "ukrainians_norm_to_replace = {word: morph.parse(word)[0].normal_form for word in final_features_list_ukrainians}\n",
    "ukraine_norm_to_replace = {word: morph.parse(word)[0].normal_form for word in final_features_list_ukraine}\n",
    "ukrainians_norm_to_insert = {word: morph.parse(word)[0].normal_form for word in neutral_target_labels_for_Ukrainians}"
   ],
   "metadata": {
    "collapsed": false,
    "pycharm": {
     "name": "#%%\n"
    }
   }
  },
  {
   "cell_type": "code",
   "execution_count": 93,
   "outputs": [],
   "source": [
    "from nltk.tokenize import word_tokenize\n",
    "\n",
    "def check_words_in_text(text, words_to_check_normal_forms):\n",
    "    found_words = []\n",
    "    words = word_tokenize(text, language='russian')\n",
    "    for idx, word in enumerate(words):\n",
    "        parsed_word = morph.parse(word)[0]\n",
    "        if parsed_word.normal_form in words_to_check_normal_forms.values():\n",
    "            found_words.append({\n",
    "                'lemma': parsed_word.normal_form,\n",
    "                'position': idx,\n",
    "                'morph_form': word,\n",
    "                'grammemes': parsed_word.tag.grammemes\n",
    "            })\n",
    "    return found_words"
   ],
   "metadata": {
    "collapsed": false,
    "pycharm": {
     "name": "#%%\n"
    }
   }
  },
  {
   "cell_type": "code",
   "execution_count": 94,
   "outputs": [
    {
     "name": "stdout",
     "output_type": "stream",
     "text": [
      "CPU times: user 5.7 s, sys: 23.7 ms, total: 5.73 s\n",
      "Wall time: 5.76 s\n"
     ]
    }
   ],
   "source": [
    "%%time\n",
    "df_mentions['found_ukrainians'] = df_mentions['text_clean'].apply(check_words_in_text, words_to_check_normal_forms=ukrainians_norm_to_replace)"
   ],
   "metadata": {
    "collapsed": false,
    "pycharm": {
     "name": "#%%\n"
    }
   }
  },
  {
   "cell_type": "markdown",
   "source": [
    "## Replacing the dehumanizing words\n"
   ],
   "metadata": {
    "collapsed": false,
    "pycharm": {
     "name": "#%% md\n"
    }
   }
  },
  {
   "cell_type": "markdown",
   "source": [
    "### For Ukrainians"
   ],
   "metadata": {
    "collapsed": false,
    "pycharm": {
     "name": "#%% md\n"
    }
   }
  },
  {
   "cell_type": "code",
   "execution_count": 95,
   "outputs": [],
   "source": [
    "import re\n",
    "\n",
    "def remove_extra_spaces(text):\n",
    "    text = re.sub(r'\\s+([,.!?;:])', r'\\1', text)\n",
    "    text = re.sub(r'\\(\\s+', r'(', text)\n",
    "    text = re.sub(r'\\s+\\)', r')', text)\n",
    "    return text\n"
   ],
   "metadata": {
    "collapsed": false,
    "pycharm": {
     "name": "#%%\n"
    }
   }
  },
  {
   "cell_type": "code",
   "execution_count": 96,
   "outputs": [],
   "source": [
    "import random\n",
    "\n",
    "morph = pymorphy2.MorphAnalyzer()\n",
    "\n",
    "parsed_replacements_ukrainians = [morph.parse(replacement_word)[0] for replacement_word in ukrainians_norm_to_insert]"
   ],
   "metadata": {
    "collapsed": false,
    "pycharm": {
     "name": "#%%\n"
    }
   }
  },
  {
   "cell_type": "code",
   "execution_count": 97,
   "outputs": [],
   "source": [
    "def filter_unknown_grammemes(word, grammemes):\n",
    "    known_grammemes = set()\n",
    "    for g in grammemes:\n",
    "        try:\n",
    "            word.inflect({g})\n",
    "            known_grammemes.add(g)\n",
    "        except ValueError:\n",
    "            pass\n",
    "    return known_grammemes"
   ],
   "metadata": {
    "collapsed": false,
    "pycharm": {
     "name": "#%%\n"
    }
   }
  },
  {
   "cell_type": "code",
   "execution_count": 98,
   "outputs": [],
   "source": [
    "# def replace_words(text, found_words, parsed_replacements):\n",
    "#     if not found_words:\n",
    "#         return text\n",
    "#\n",
    "#     words = word_tokenize(text, language='russian')\n",
    "#     replaced_words_new = []\n",
    "#     found_positions = [word_info['position'] for word_info in found_words]\n",
    "#\n",
    "#     for position, word in enumerate(words):\n",
    "#         if position in found_positions:\n",
    "#             word_info = found_words[found_positions.index(position)]\n",
    "#             grammemes = {g.lower() for g in word_info['grammemes']}  # Convert grammemes to lowercase\n",
    "#             grammemes = filter_unknown_grammemes(parsed_replacements[0], grammemes)  # Filter out unknown grammemes\n",
    "#\n",
    "#             for _ in range(len(parsed_replacements)):\n",
    "#                 replacement_parsed = random.choice(parsed_replacements)  # Randomly choose a replacement word\n",
    "#                 inflected_word_obj = replacement_parsed.inflect(grammemes)\n",
    "#\n",
    "#                 if inflected_word_obj is not None:\n",
    "#                     inflected_word = inflected_word_obj.word\n",
    "#                     replaced_words_new.append(inflected_word)\n",
    "#                     break\n",
    "#         else:\n",
    "#             replaced_words_new.append(word)\n",
    "#\n",
    "#     replaced_text = ' '.join(replaced_words_new)\n",
    "#     return remove_extra_spaces(replaced_text)"
   ],
   "metadata": {
    "collapsed": false,
    "pycharm": {
     "name": "#%%\n"
    }
   }
  },
  {
   "cell_type": "code",
   "execution_count": 99,
   "outputs": [
    {
     "name": "stdout",
     "output_type": "stream",
     "text": [
      "CPU times: user 177 ms, sys: 2.89 ms, total: 179 ms\n",
      "Wall time: 179 ms\n"
     ]
    }
   ],
   "source": [
    "%%time\n",
    "df_mentions['replaced_neutral_sent_ukrainians'] = df_mentions.apply(lambda row: replace_words(row['text_clean'], row['found_ukrainians'],parsed_replacements_ukrainians), axis=1)"
   ],
   "metadata": {
    "collapsed": false,
    "pycharm": {
     "name": "#%%\n"
    }
   }
  },
  {
   "cell_type": "code",
   "execution_count": 100,
   "outputs": [],
   "source": [
    "df_mentions['len_ukrainians'] = df_mentions['found_ukrainians'].apply(lambda x: len(x))"
   ],
   "metadata": {
    "collapsed": false,
    "pycharm": {
     "name": "#%%\n"
    }
   }
  },
  {
   "cell_type": "markdown",
   "source": [
    "### Some examples for label switching for Ukrainians"
   ],
   "metadata": {
    "collapsed": false,
    "pycharm": {
     "name": "#%% md\n"
    }
   }
  },
  {
   "cell_type": "code",
   "execution_count": 101,
   "outputs": [
    {
     "data": {
      "text/plain": "'укронацисты готовят новую атаку на заэс  рогов   для очередной попытки захвата запорожской аэс киевский режим подготовил не менее  украинских боевиков, сообщил председатель движения мы вместе с россией владимир рогов.  они сейчас тренируются в форсировании днепра, взятии плацдарма и захвате крупных объектов техногенного происхождения,  подчеркнул рогов.  укронацисты хотят зайти клином в запорожскую группировку, чтобы разделить силы вс рф и в последствии отрезать сухопутный коридор в крым.'"
     },
     "execution_count": 101,
     "metadata": {},
     "output_type": "execute_result"
    }
   ],
   "source": [
    "df_mentions[df_mentions['len_ukrainians']>1]['text_clean'].iloc[3]"
   ],
   "metadata": {
    "collapsed": false,
    "pycharm": {
     "name": "#%%\n"
    }
   }
  },
  {
   "cell_type": "code",
   "execution_count": 102,
   "outputs": [
    {
     "data": {
      "text/plain": "'боевики готовят новую атаку на заэс рогов для очередной попытки захвата запорожской аэс киевский режим подготовил не менее украинских боевиков, сообщил председатель движения мы вместе с россией владимир рогов. они сейчас тренируются в форсировании днепра, взятии плацдарма и захвате крупных объектов техногенного происхождения, подчеркнул рогов. украинцы хотят зайти клином в запорожскую группировку, чтобы разделить силы вс рф и в последствии отрезать сухопутный коридор в крым.'"
     },
     "execution_count": 102,
     "metadata": {},
     "output_type": "execute_result"
    }
   ],
   "source": [
    "df_mentions[df_mentions['len_ukrainians']>1]['replaced_neutral_sent_ukrainians'].iloc[3]"
   ],
   "metadata": {
    "collapsed": false,
    "pycharm": {
     "name": "#%%\n"
    }
   }
  },
  {
   "cell_type": "code",
   "execution_count": 103,
   "outputs": [
    {
     "data": {
      "text/plain": "'морпехи тихоокеанского флота рф наносят удары по укронацистам из рсзо ураган и град  реактивные снаряды уничтожают командные пункты, районы сосредоточения сил укронацистов.'"
     },
     "execution_count": 103,
     "metadata": {},
     "output_type": "execute_result"
    }
   ],
   "source": [
    "df_mentions[df_mentions['len_ukrainians']>1]['text_clean'].iloc[1]\n"
   ],
   "metadata": {
    "collapsed": false,
    "pycharm": {
     "name": "#%%\n"
    }
   }
  },
  {
   "cell_type": "code",
   "execution_count": 104,
   "outputs": [
    {
     "data": {
      "text/plain": "'морпехи тихоокеанского флота рф наносят удары по украинцам из рсзо ураган и град реактивные снаряды уничтожают командные пункты, районы сосредоточения сил бандеровцев.'"
     },
     "execution_count": 104,
     "metadata": {},
     "output_type": "execute_result"
    }
   ],
   "source": [
    "df_mentions[df_mentions['len_ukrainians']>1]['replaced_neutral_sent_ukrainians'].iloc[1]\n"
   ],
   "metadata": {
    "collapsed": false,
    "pycharm": {
     "name": "#%%\n"
    }
   }
  },
  {
   "cell_type": "markdown",
   "source": [
    "### For Ukraine"
   ],
   "metadata": {
    "collapsed": false,
    "pycharm": {
     "name": "#%% md\n"
    }
   }
  },
  {
   "cell_type": "code",
   "execution_count": 105,
   "outputs": [
    {
     "name": "stdout",
     "output_type": "stream",
     "text": [
      "CPU times: user 5.72 s, sys: 23.3 ms, total: 5.75 s\n",
      "Wall time: 5.78 s\n"
     ]
    }
   ],
   "source": [
    "%%time\n",
    "df_mentions['found_ukraine'] = df_mentions['replaced_neutral_sent_ukrainians'].apply(check_words_in_text, words_to_check_normal_forms=ukraine_norm_to_replace)"
   ],
   "metadata": {
    "collapsed": false,
    "pycharm": {
     "name": "#%%\n"
    }
   }
  },
  {
   "cell_type": "code",
   "execution_count": 106,
   "outputs": [],
   "source": [
    "neutral_target_labels_for_Ukraine = [\"Украина\"]\n",
    "\n",
    "ukraine_norm_to_insert = {word: morph.parse(word)[0].normal_form for word in neutral_target_labels_for_Ukraine}\n",
    "\n",
    "parsed_replacements_ukraine = [morph.parse(replacement_word)[0] for replacement_word in ukraine_norm_to_insert]"
   ],
   "metadata": {
    "collapsed": false,
    "pycharm": {
     "name": "#%%\n"
    }
   }
  },
  {
   "cell_type": "code",
   "execution_count": 107,
   "outputs": [
    {
     "data": {
      "text/plain": "[Parse(word='украина', tag=OpencorporaTag('NOUN,inan,femn,Sgtm,Geox sing,nomn'), normal_form='украина', score=1.0, methods_stack=((DictionaryAnalyzer(), 'украина', 36, 0),))]"
     },
     "execution_count": 107,
     "metadata": {},
     "output_type": "execute_result"
    }
   ],
   "source": [
    "parsed_replacements_ukraine"
   ],
   "metadata": {
    "collapsed": false,
    "pycharm": {
     "name": "#%%\n"
    }
   }
  },
  {
   "cell_type": "code",
   "execution_count": 108,
   "outputs": [],
   "source": [
    "# to exclude conflicts and None after inflection\n",
    "def filter_unknown_grammemes(word, grammemes):\n",
    "    known_grammemes = set()\n",
    "    switch_tags = {'masc': 'femn'}\n",
    "\n",
    "    for g in grammemes:\n",
    "        if g in switch_tags:\n",
    "            g = switch_tags[g]\n",
    "\n",
    "        try:\n",
    "            word.inflect({g})\n",
    "            known_grammemes.add(g)\n",
    "        except ValueError:\n",
    "            pass\n",
    "\n",
    "    return known_grammemes"
   ],
   "metadata": {
    "collapsed": false,
    "pycharm": {
     "name": "#%%\n"
    }
   }
  },
  {
   "cell_type": "code",
   "execution_count": 109,
   "outputs": [],
   "source": [
    "def replace_words(text, found_words, parsed_replacements):\n",
    "    if not found_words:\n",
    "        return text\n",
    "\n",
    "    words = word_tokenize(text, language='russian')\n",
    "    replaced_words = []\n",
    "    found_positions = [word_info['position'] for word_info in found_words]\n",
    "\n",
    "    for position, word in enumerate(words):\n",
    "        if position in found_positions:\n",
    "            word_info = found_words[found_positions.index(position)]\n",
    "            grammemes = {g.lower() for g in word_info['grammemes']}  # Convert grammemes to lowercase\n",
    "            grammemes = filter_unknown_grammemes(parsed_replacements[0], grammemes)  # Filter out unknown grammemes\n",
    "\n",
    "            for _ in range(len(parsed_replacements)):\n",
    "                replacement_parsed = random.choice(parsed_replacements)  # Randomly choose a replacement word\n",
    "                inflected_word_obj = replacement_parsed.inflect(grammemes)\n",
    "\n",
    "                if inflected_word_obj is not None:\n",
    "                    inflected_word = inflected_word_obj.word\n",
    "                    replaced_words.append(inflected_word)\n",
    "                    word_info['replacement_word'] = inflected_word\n",
    "                    break\n",
    "        else:\n",
    "            replaced_words.append(word)\n",
    "\n",
    "    replaced_text = ' '.join(replaced_words)\n",
    "    return remove_extra_spaces(replaced_text)\n"
   ],
   "metadata": {
    "collapsed": false,
    "pycharm": {
     "name": "#%%\n"
    }
   }
  },
  {
   "cell_type": "code",
   "execution_count": 110,
   "outputs": [
    {
     "name": "stdout",
     "output_type": "stream",
     "text": [
      "CPU times: user 52.9 ms, sys: 1.91 ms, total: 54.8 ms\n",
      "Wall time: 54.2 ms\n"
     ]
    }
   ],
   "source": [
    "%%time\n",
    "df_mentions['replaced_neutral_sent_ukraine'] = df_mentions.apply(lambda row: replace_words(row['replaced_neutral_sent_ukrainians'], row['found_ukraine'],parsed_replacements_ukraine), axis=1)"
   ],
   "metadata": {
    "collapsed": false,
    "pycharm": {
     "name": "#%%\n"
    }
   }
  },
  {
   "cell_type": "markdown",
   "source": [
    "### Some examples for label switching for Ukraine"
   ],
   "metadata": {
    "collapsed": false,
    "pycharm": {
     "name": "#%% md\n"
    }
   }
  },
  {
   "cell_type": "code",
   "execution_count": 111,
   "outputs": [],
   "source": [
    "df_mentions['len_ukraine'] = df_mentions['found_ukraine'].apply(lambda x: len(x))"
   ],
   "metadata": {
    "collapsed": false,
    "pycharm": {
     "name": "#%%\n"
    }
   }
  },
  {
   "cell_type": "code",
   "execution_count": 112,
   "outputs": [
    {
     "data": {
      "text/plain": "'где-то на границе белгородской области и укрорейха стало на одну пограничную, наблюдательную вышку укровермахта меньше.'"
     },
     "execution_count": 112,
     "metadata": {},
     "output_type": "execute_result"
    }
   ],
   "source": [
    "df_mentions[df_mentions['len_ukraine']>1]['text_clean'].iloc[3]"
   ],
   "metadata": {
    "collapsed": false,
    "pycharm": {
     "name": "#%%\n"
    }
   }
  },
  {
   "cell_type": "code",
   "execution_count": 113,
   "outputs": [
    {
     "data": {
      "text/plain": "'где-то на границе белгородской области и украины стало на одну пограничную, наблюдательную вышку украины меньше.'"
     },
     "execution_count": 113,
     "metadata": {},
     "output_type": "execute_result"
    }
   ],
   "source": [
    "df_mentions[df_mentions['len_ukraine']>1]['replaced_neutral_sent_ukraine'].iloc[3]"
   ],
   "metadata": {
    "collapsed": false,
    "pycharm": {
     "name": "#%%\n"
    }
   }
  },
  {
   "cell_type": "code",
   "execution_count": 114,
   "outputs": [
    {
     "data": {
      "text/plain": "'например обещать перебить  процентов земляков, как на картинке, или выложить трупы в мешках перед сахибами с ес, как вчера сотрудники корпорации зеленский и ко(что интересно трупы неделю не изучают и не захоранивают, украинец и после смерти должен служить свинорейху, даже если его убил именно свинорейх), свалить в израиль и вспомнить бабушку-еврейку с португальскими корнями, а потом оттуда ныть что ты и есть россия...'"
     },
     "execution_count": 114,
     "metadata": {},
     "output_type": "execute_result"
    }
   ],
   "source": [
    "df_mentions[df_mentions['len_ukraine']>1]['text_clean'].iloc[5]"
   ],
   "metadata": {
    "collapsed": false,
    "pycharm": {
     "name": "#%%\n"
    }
   }
  },
  {
   "cell_type": "code",
   "execution_count": 115,
   "outputs": [
    {
     "data": {
      "text/plain": "'например обещать перебить процентов земляков, как на картинке, или выложить трупы в мешках перед сахибами с ес, как вчера сотрудники корпорации зеленский и ко (что интересно трупы неделю не изучают и не захоранивают, украинец и после смерти должен служить украине, даже если его убил именно украина), свалить в израиль и вспомнить бабушку-еврейку с португальскими корнями, а потом оттуда ныть что ты и есть россия...'"
     },
     "execution_count": 115,
     "metadata": {},
     "output_type": "execute_result"
    }
   ],
   "source": [
    "df_mentions[df_mentions['len_ukraine']>1]['replaced_neutral_sent_ukraine'].iloc[5]\n"
   ],
   "metadata": {
    "collapsed": false,
    "pycharm": {
     "name": "#%%\n"
    }
   }
  },
  {
   "cell_type": "code",
   "execution_count": 116,
   "outputs": [
    {
     "data": {
      "text/plain": "'например обещать перебить процентов земляков, как на картинке, или выложить трупы в мешках перед сахибами с ес, как вчера сотрудники корпорации зеленский и ко (что интересно трупы неделю не изучают и не захоранивают, украинец и после смерти должен служить украине, даже если его убил именно украина), свалить в израиль и вспомнить бабушку-еврейку с португальскими корнями, а потом оттуда ныть что ты и есть россия...'"
     },
     "execution_count": 116,
     "metadata": {},
     "output_type": "execute_result"
    }
   ],
   "source": [
    "test_sent = df_mentions[df_mentions['len_ukraine']>1]['replaced_neutral_sent_ukraine'].iloc[5]\n",
    "test_sent"
   ],
   "metadata": {
    "collapsed": false,
    "pycharm": {
     "name": "#%%\n"
    }
   }
  },
  {
   "cell_type": "code",
   "execution_count": 117,
   "outputs": [],
   "source": [
    "from collocation_extraction import show_dependency"
   ],
   "metadata": {
    "collapsed": false,
    "pycharm": {
     "name": "#%%\n"
    }
   }
  },
  {
   "cell_type": "code",
   "execution_count": 118,
   "outputs": [
    {
     "name": "stdout",
     "output_type": "stream",
     "text": [
      "Token           | Relation | Head            | Children            \n",
      "----------------------------------------------------------------------\n",
      "например        | advmod   | обещать         | []                  \n",
      "обещать         | ROOT     | обещать         | [например, перебить, изучают, свалить, вспомнить, ныть, есть, ...]\n",
      "перебить        | xcomp    | обещать         | [процентов, картинке, выложить]\n",
      "процентов       | obj      | перебить        | [земляков]          \n",
      "земляков        | nmod     | процентов       | []                  \n",
      ",               | punct    | картинке        | []                  \n",
      "как             | case     | картинке        | []                  \n",
      "на              | case     | картинке        | []                  \n",
      "картинке        | obl      | перебить        | [,, как, на]        \n",
      ",               | punct    | выложить        | []                  \n",
      "или             | cc       | выложить        | []                  \n",
      "выложить        | conj     | перебить        | [,, или, трупы]     \n",
      "трупы           | obj      | выложить        | [мешках, сахибами, зеленский]\n",
      "в               | case     | мешках          | []                  \n",
      "мешках          | nmod     | трупы           | [в]                 \n",
      "перед           | case     | сахибами        | []                  \n",
      "сахибами        | nmod     | трупы           | [перед, ес]         \n",
      "с               | case     | ес              | []                  \n",
      "ес              | nmod     | сахибами        | [с]                 \n",
      ",               | punct    | зеленский       | []                  \n",
      "как             | mark     | зеленский       | []                  \n",
      "вчера           | advmod   | зеленский       | []                  \n",
      "сотрудники      | nsubj    | зеленский       | [корпорации]        \n",
      "корпорации      | nmod     | сотрудники      | []                  \n",
      "зеленский       | acl      | трупы           | [,, как, вчера, сотрудники, ко]\n",
      "и               | cc       | ко              | []                  \n",
      "ко              | conj     | зеленский       | [и]                 \n",
      "(               | punct    | интересно       | []                  \n",
      "что             | mark     | интересно       | []                  \n",
      "интересно       | advmod   | изучают         | [(, что]            \n",
      "трупы           | obj      | изучают         | [неделю]            \n",
      "неделю          | nmod     | трупы           | []                  \n",
      "не              | advmod   | изучают         | []                  \n",
      "изучают         | ccomp    | обещать         | [интересно, трупы, не, захоранивают, должен]\n",
      "и               | cc       | захоранивают    | []                  \n",
      "не              | advmod   | захоранивают    | []                  \n",
      "захоранивают    | conj     | изучают         | [и, не]             \n",
      ",               | punct    | должен          | []                  \n",
      "украинец        | nsubj    | должен          | []                  \n",
      "и               | cc       | должен          | []                  \n",
      "после           | case     | смерти          | []                  \n",
      "смерти          | obl      | должен          | [после]             \n",
      "должен          | conj     | изучают         | [,, украинец, и, смерти, служить]\n",
      "служить         | xcomp    | должен          | [украине, убил]     \n",
      "украине         | iobj     | служить         | []                  \n",
      ",               | punct    | убил            | []                  \n",
      "даже            | advmod   | убил            | []                  \n",
      "если            | mark     | убил            | []                  \n",
      "его             | obj      | убил            | []                  \n",
      "убил            | advcl    | служить         | [,, даже, если, его, украина, )]\n",
      "именно          | advmod   | украина         | []                  \n",
      "украина         | nsubj    | убил            | [именно]            \n",
      ")               | punct    | убил            | []                  \n",
      ",               | punct    | свалить         | []                  \n",
      "свалить         | conj     | обещать         | [,, израиль]        \n",
      "в               | case     | израиль         | []                  \n",
      "израиль         | obl      | свалить         | [в]                 \n",
      "и               | cc       | вспомнить       | []                  \n",
      "вспомнить       | conj     | обещать         | [и, бабушку, -, еврейку, корнями]\n",
      "бабушку         | obj      | вспомнить       | []                  \n",
      "-               | obj      | вспомнить       | []                  \n",
      "еврейку         | obj      | вспомнить       | []                  \n",
      "с               | case     | корнями         | []                  \n",
      "португальскими  | amod     | корнями         | []                  \n",
      "корнями         | obl      | вспомнить       | [с, португальскими] \n",
      ",               | punct    | ныть            | []                  \n",
      "а               | cc       | ныть            | []                  \n",
      "потом           | advmod   | ныть            | []                  \n",
      "оттуда          | advmod   | ныть            | []                  \n",
      "ныть            | conj     | обещать         | [,, а, потом, оттуда, что, ты]\n",
      "что             | obj      | ныть            | []                  \n",
      "ты              | nsubj    | ныть            | []                  \n",
      "и               | advmod   | есть            | []                  \n",
      "есть            | conj     | обещать         | [и, россия]         \n",
      "россия          | nsubj    | есть            | []                  \n",
      "...             | punct    | обещать         | []                  \n"
     ]
    }
   ],
   "source": [
    "show_dependency(test_sent)"
   ],
   "metadata": {
    "collapsed": false,
    "pycharm": {
     "name": "#%%\n"
    }
   }
  },
  {
   "cell_type": "code",
   "execution_count": 119,
   "outputs": [],
   "source": [
    "import spacy\n",
    "nlp = spacy.load(\"ru_core_news_sm\")"
   ],
   "metadata": {
    "collapsed": false,
    "pycharm": {
     "name": "#%%\n"
    }
   }
  },
  {
   "cell_type": "code",
   "execution_count": 120,
   "outputs": [],
   "source": [
    "def inflect_child_token(token, target_gender):\n",
    "    parsed_child = morph.parse(token.text)[0]\n",
    "    child_gender = parsed_child.tag.gender\n",
    "\n",
    "    if child_gender != target_gender:\n",
    "        allowed_grammemes = set(parsed_child.tag.grammemes) - {child_gender} | {target_gender}\n",
    "        inflected_child_obj = parsed_child.inflect(allowed_grammemes)\n",
    "\n",
    "        if inflected_child_obj is not None:\n",
    "            return inflected_child_obj.word\n",
    "    return None\n",
    "\n",
    "\n",
    "def fix_inconsistencies(sentence, word_mappings):\n",
    "    doc = nlp(sentence)\n",
    "    words = [token.text for token in doc]\n",
    "    fixed_words = words.copy()\n",
    "    for token in doc:\n",
    "        if token.text in word_mappings.values():\n",
    "            replacement_word = token.text\n",
    "            replacement_parsed = morph.parse(replacement_word)[0]\n",
    "            replacement_gender = replacement_parsed.tag.gender\n",
    "\n",
    "            for child in token.children:\n",
    "                if child.dep_ in [\"amod\", \"nsubj\", \"csubj\", \"obj\", \"iobj\", \"nsubjpass\", \"csubjpass\", 'advcl']:\n",
    "                    inflected_child = inflect_child_token(child, replacement_gender)\n",
    "                    if inflected_child:\n",
    "                        fixed_words[child.i] = inflected_child\n",
    "\n",
    "            if token.head.dep_ in [\"amod\", \"nsubj\", \"csubj\", \"obj\", \"iobj\", \"nsubjpass\", \"csubjpass\", 'advcl']:\n",
    "                inflected_head = inflect_child_token(token.head, replacement_gender)\n",
    "                if inflected_head:\n",
    "                    fixed_words[token.head.i] = inflected_head\n",
    "\n",
    "    fixed_sentence = ' '.join(fixed_words)\n",
    "    return remove_extra_spaces(fixed_sentence)\n"
   ],
   "metadata": {
    "collapsed": false,
    "pycharm": {
     "name": "#%%\n"
    }
   }
  },
  {
   "cell_type": "code",
   "execution_count": 121,
   "outputs": [],
   "source": [
    "df_mentions[\"word_mappings\"] = df_mentions.apply(lambda row: {word_info['morph_form']: word_info['replacement_word'] for word_info in row['found_ukraine']}, axis=1)\n",
    "\n",
    "df_mentions[\"fixed_sentences\"] = df_mentions.apply(lambda row: fix_inconsistencies(row[\"replaced_neutral_sent_ukraine\"], row[\"word_mappings\"]), axis=1)"
   ],
   "metadata": {
    "collapsed": false,
    "pycharm": {
     "name": "#%%\n"
    }
   }
  },
  {
   "cell_type": "code",
   "execution_count": 122,
   "outputs": [],
   "source": [
    "def show_progress(num_row):\n",
    "    print(df_mentions[df_mentions['len_ukraine']>1]['word_mappings'].iloc[num_row])\n",
    "    print('\\n')\n",
    "\n",
    "    print(df_mentions[df_mentions['len_ukraine']>1]['text_clean'].iloc[num_row])\n",
    "    print('\\n')\n",
    "\n",
    "    print(df_mentions[df_mentions['len_ukraine']>1]['replaced_neutral_sent_ukraine'].iloc[num_row])\n",
    "    print('\\n')\n",
    "\n",
    "    print(df_mentions[df_mentions['len_ukraine']>1]['fixed_sentences'].iloc[num_row])\n",
    "    print('\\n')"
   ],
   "metadata": {
    "collapsed": false,
    "pycharm": {
     "name": "#%%\n"
    }
   }
  },
  {
   "cell_type": "code",
   "execution_count": 144,
   "outputs": [
    {
     "name": "stdout",
     "output_type": "stream",
     "text": [
      "{'укрорейха': 'украины'}\n",
      "\n",
      "\n",
      "в турции завершается подготовка бпла  для укрорейха.  завершается подготовка трех самолетов  тв для бесплатной поставки на украину в рамках кампании народный байрактар.    сообщил посол укрорейха  в турции василий боднар.  \n",
      "\n",
      "\n",
      "в турции завершается подготовка бпла для украины. завершается подготовка трех самолетов тв для бесплатной поставки на украину в рамках кампании народный байрактар. сообщил посол украины в турции василий боднар.\n",
      "\n",
      "\n",
      "в турции завершается подготовка бпла для украины. завершается подготовка трех самолетов тв для бесплатной поставки на украину в рамках кампании народный байрактар. сообщил посол украины в турции василий боднар.\n",
      "\n",
      "\n"
     ]
    }
   ],
   "source": [
    "show_progress(1)"
   ],
   "metadata": {
    "collapsed": false,
    "pycharm": {
     "name": "#%%\n"
    }
   }
  },
  {
   "cell_type": "markdown",
   "source": [
    "## Excluding sentences with"
   ],
   "metadata": {
    "collapsed": false,
    "pycharm": {
     "name": "#%% md\n"
    }
   }
  },
  {
   "cell_type": "code",
   "execution_count": 124,
   "outputs": [],
   "source": [
    "dehumanising_seq = ['наци', 'бандерлог', 'рейх', \"махт\", 'фашис', 'изм']"
   ],
   "metadata": {
    "collapsed": false,
    "pycharm": {
     "name": "#%%\n"
    }
   }
  },
  {
   "cell_type": "code",
   "execution_count": 125,
   "outputs": [],
   "source": [
    "def check_for_dehumanising_seq(sentence):\n",
    "    for seq in dehumanising_seq:\n",
    "        if seq in sentence:\n",
    "            return 1\n",
    "    return 0\n",
    "\n",
    "df_mentions['other_indications_dehum'] = df_mentions['fixed_sentences'].apply(check_for_dehumanising_seq)"
   ],
   "metadata": {
    "collapsed": false,
    "pycharm": {
     "name": "#%%\n"
    }
   }
  },
  {
   "cell_type": "code",
   "execution_count": 126,
   "outputs": [],
   "source": [
    "df_mentions['len_mappings'] = df_mentions['len_ukraine'] + df_mentions['len_ukrainians']"
   ],
   "metadata": {
    "collapsed": false,
    "pycharm": {
     "name": "#%%\n"
    }
   }
  },
  {
   "cell_type": "code",
   "execution_count": 127,
   "outputs": [],
   "source": [
    "# selecting only transformed sents that are free from other direct indications of dehumanization\n",
    "\n",
    "df_mentions_safe = df_mentions[(df_mentions['other_indications_dehum']==0)&(df_mentions['len_mappings']>0)].copy()"
   ],
   "metadata": {
    "collapsed": false,
    "pycharm": {
     "name": "#%%\n"
    }
   }
  },
  {
   "cell_type": "code",
   "execution_count": 128,
   "outputs": [
    {
     "data": {
      "text/plain": "872"
     },
     "execution_count": 128,
     "metadata": {},
     "output_type": "execute_result"
    }
   ],
   "source": [
    "len(df_mentions_safe)"
   ],
   "metadata": {
    "collapsed": false,
    "pycharm": {
     "name": "#%%\n"
    }
   }
  },
  {
   "cell_type": "code",
   "execution_count": 129,
   "outputs": [
    {
     "data": {
      "text/plain": "'первая появившаяся версия покушение со стороны украинцев, но это ещё под большим вопросом.'"
     },
     "execution_count": 129,
     "metadata": {},
     "output_type": "execute_result"
    }
   ],
   "source": [
    "df_mentions_safe.fixed_sentences.sample(10).iloc[0]"
   ],
   "metadata": {
    "collapsed": false,
    "pycharm": {
     "name": "#%%\n"
    }
   }
  },
  {
   "cell_type": "code",
   "execution_count": 132,
   "outputs": [],
   "source": [
    "df_mentions_safe['label'] = 0"
   ],
   "metadata": {
    "collapsed": false,
    "pycharm": {
     "name": "#%%\n"
    }
   }
  },
  {
   "cell_type": "code",
   "execution_count": 133,
   "outputs": [],
   "source": [
    "df_augm_removed_dehumanization = df_mentions_safe[['fixed_sentences', 'label']]"
   ],
   "metadata": {
    "collapsed": false,
    "pycharm": {
     "name": "#%%\n"
    }
   }
  },
  {
   "cell_type": "code",
   "execution_count": 136,
   "outputs": [
    {
     "data": {
      "text/plain": "                                        fixed_sentences  label\n1     почему на базах боевиков стоят языческие истук...      0\n2     группа добровольцев - медиков из чеченской рес...      0\n5     значит всё прекрасно понимает, включая необход...      0\n7     западный мем о степени правдивости пропаганды ...      0\n11    зачем нужны все эти бандеровцы у нас в стране?...      0\n...                                                 ...    ...\n2486  многих смотрю задело высказывание президента р...      0\n2487  также всушники, не стыдясь, прячутся в школах ...      0\n2489  сейчас все обсуждают то, что наши вс должны бы...      0\n2493  и по видосам с укропскими украинками это видно...      0\n2498  хорошее видео от бригады нм лнр:., обработка п...      0\n\n[872 rows x 2 columns]",
      "text/html": "<div>\n<style scoped>\n    .dataframe tbody tr th:only-of-type {\n        vertical-align: middle;\n    }\n\n    .dataframe tbody tr th {\n        vertical-align: top;\n    }\n\n    .dataframe thead th {\n        text-align: right;\n    }\n</style>\n<table border=\"1\" class=\"dataframe\">\n  <thead>\n    <tr style=\"text-align: right;\">\n      <th></th>\n      <th>fixed_sentences</th>\n      <th>label</th>\n    </tr>\n  </thead>\n  <tbody>\n    <tr>\n      <th>1</th>\n      <td>почему на базах боевиков стоят языческие истук...</td>\n      <td>0</td>\n    </tr>\n    <tr>\n      <th>2</th>\n      <td>группа добровольцев - медиков из чеченской рес...</td>\n      <td>0</td>\n    </tr>\n    <tr>\n      <th>5</th>\n      <td>значит всё прекрасно понимает, включая необход...</td>\n      <td>0</td>\n    </tr>\n    <tr>\n      <th>7</th>\n      <td>западный мем о степени правдивости пропаганды ...</td>\n      <td>0</td>\n    </tr>\n    <tr>\n      <th>11</th>\n      <td>зачем нужны все эти бандеровцы у нас в стране?...</td>\n      <td>0</td>\n    </tr>\n    <tr>\n      <th>...</th>\n      <td>...</td>\n      <td>...</td>\n    </tr>\n    <tr>\n      <th>2486</th>\n      <td>многих смотрю задело высказывание президента р...</td>\n      <td>0</td>\n    </tr>\n    <tr>\n      <th>2487</th>\n      <td>также всушники, не стыдясь, прячутся в школах ...</td>\n      <td>0</td>\n    </tr>\n    <tr>\n      <th>2489</th>\n      <td>сейчас все обсуждают то, что наши вс должны бы...</td>\n      <td>0</td>\n    </tr>\n    <tr>\n      <th>2493</th>\n      <td>и по видосам с укропскими украинками это видно...</td>\n      <td>0</td>\n    </tr>\n    <tr>\n      <th>2498</th>\n      <td>хорошее видео от бригады нм лнр:., обработка п...</td>\n      <td>0</td>\n    </tr>\n  </tbody>\n</table>\n<p>872 rows × 2 columns</p>\n</div>"
     },
     "execution_count": 136,
     "metadata": {},
     "output_type": "execute_result"
    }
   ],
   "source": [
    "df_augm_removed_dehumanization"
   ],
   "metadata": {
    "collapsed": false,
    "pycharm": {
     "name": "#%%\n"
    }
   }
  },
  {
   "cell_type": "code",
   "execution_count": 135,
   "outputs": [],
   "source": [
    "df_mentions_safe.to_csv('/Users/katerynaburovova/PycharmProjects/dehumanization/augmentation/df_mentions_safe.csv')"
   ],
   "metadata": {
    "collapsed": false,
    "pycharm": {
     "name": "#%%\n"
    }
   }
  },
  {
   "cell_type": "code",
   "execution_count": 137,
   "outputs": [],
   "source": [
    "df_augm_removed_dehumanization.to_csv('/Users/katerynaburovova/PycharmProjects/dehumanization/augmentation/augm_removed_dehumanization.csv')"
   ],
   "metadata": {
    "collapsed": false,
    "pycharm": {
     "name": "#%%\n"
    }
   }
  },
  {
   "cell_type": "markdown",
   "source": [
    "# Adding dehumanizing labels"
   ],
   "metadata": {
    "collapsed": false,
    "pycharm": {
     "name": "#%% md\n"
    }
   }
  },
  {
   "cell_type": "markdown",
   "source": [
    "## For Ukrainians"
   ],
   "metadata": {
    "collapsed": false,
    "pycharm": {
     "name": "#%% md\n"
    }
   }
  },
  {
   "cell_type": "code",
   "execution_count": 7,
   "outputs": [],
   "source": [
    "df_dehum = df_labels[df_labels['Dehumanization']=='ні'].copy()"
   ],
   "metadata": {
    "collapsed": false,
    "pycharm": {
     "name": "#%%\n"
    }
   }
  },
  {
   "cell_type": "code",
   "execution_count": 8,
   "outputs": [
    {
     "name": "stdout",
     "output_type": "stream",
     "text": [
      "CPU times: user 29min 39s, sys: 3min 12s, total: 32min 51s\n",
      "Wall time: 33min 33s\n"
     ]
    }
   ],
   "source": [
    "%%time\n",
    "df_dehum = preprocess_df(df_dehum)"
   ],
   "metadata": {
    "collapsed": false,
    "pycharm": {
     "name": "#%%\n"
    }
   }
  },
  {
   "cell_type": "code",
   "execution_count": 9,
   "outputs": [
    {
     "data": {
      "text/plain": "1922"
     },
     "execution_count": 9,
     "metadata": {},
     "output_type": "execute_result"
    }
   ],
   "source": [
    "len(df_dehum)"
   ],
   "metadata": {
    "collapsed": false,
    "pycharm": {
     "name": "#%%\n"
    }
   }
  },
  {
   "cell_type": "code",
   "execution_count": 20,
   "outputs": [],
   "source": [
    "import pymorphy2\n",
    "\n",
    "morph = pymorphy2.MorphAnalyzer()\n",
    "\n",
    "neutral_target_labels_for_Ukrainians = features_neutral_ukrainians + all_forms_ukrainians\n",
    "\n",
    "d_ukrainians_to_insert = {word: morph.parse(word)[0].normal_form for word in final_features_list_ukrainians}\n",
    "d_ukrainians_to_replace = {word: morph.parse(word)[0].normal_form for word in neutral_target_labels_for_Ukrainians}\n",
    "\n",
    "d_ukraine_to_insert = {word: morph.parse(word)[0].normal_form for word in final_features_list_ukraine}\n",
    "d_ukraine_to_replace = {word: morph.parse(word)[0].normal_form for word in ['Украина']}"
   ],
   "metadata": {
    "collapsed": false,
    "pycharm": {
     "name": "#%%\n"
    }
   }
  },
  {
   "cell_type": "code",
   "execution_count": 21,
   "outputs": [],
   "source": [
    "d_parsed_replacements_ukrainians = [morph.parse(replacement_word)[0] for replacement_word in d_ukrainians_to_insert]"
   ],
   "metadata": {
    "collapsed": false,
    "pycharm": {
     "name": "#%%\n"
    }
   }
  },
  {
   "cell_type": "code",
   "execution_count": 24,
   "outputs": [
    {
     "name": "stdout",
     "output_type": "stream",
     "text": [
      "CPU times: user 3.88 s, sys: 18.3 ms, total: 3.9 s\n",
      "Wall time: 3.9 s\n"
     ]
    }
   ],
   "source": [
    "%%time\n",
    "df_dehum['found_ukrainians'] = df_dehum['text_clean'].apply(check_words_in_text, words_to_check_normal_forms=d_ukrainians_to_replace)"
   ],
   "metadata": {
    "collapsed": false,
    "pycharm": {
     "name": "#%%\n"
    }
   }
  },
  {
   "cell_type": "code",
   "execution_count": 25,
   "outputs": [
    {
     "data": {
      "text/plain": "      index                  Emotion Dehumanization Mention   External ID  \\\n0      1218   ні, оцінка не присутня             ні      ні     row_1.txt   \n1      3247   ні, оцінка не присутня             ні     так  row_1000.txt   \n2      3246   ні, оцінка не присутня             ні     так  row_1001.txt   \n3      3244   ні, оцінка не присутня             ні      ні  row_1003.txt   \n4      3243   ні, оцінка не присутня             ні      ні  row_1004.txt   \n...     ...                      ...            ...     ...           ...   \n1917   3614   ні, оцінка не присутня             ні      ні   row_994.txt   \n1918   3613   ні, оцінка не присутня             ні     так   row_995.txt   \n1919   3612  так, присутня негативна             ні     так   row_996.txt   \n1920   4121  так, присутня негативна             ні     так   row_997.txt   \n1921   3248   ні, оцінка не присутня             ні      ні   row_999.txt   \n\n                        Created By  \\\n0         snizannabotvin@gmail.com   \n1           tutovadesign@gmail.com   \n2           tutovadesign@gmail.com   \n3           tutovadesign@gmail.com   \n4           tutovadesign@gmail.com   \n...                            ...   \n1917        tutovadesign@gmail.com   \n1918        tutovadesign@gmail.com   \n1919        tutovadesign@gmail.com   \n1920  yevhen.marchenko91@gmail.com   \n1921        tutovadesign@gmail.com   \n\n                                                   text  rating  \\\n0     Литературный критик Галина Юзефович о новом ро...       4   \n1     ВСУшники, переходите на сторону добра, у нас т...       5   \n2     Наши ребята столкнулись с полком «Азов» и морс...       5   \n3     Ну и киношка на норвежском https://m.youtube.c...       5   \n4     Программа «импортозамещения микросхем» — блеф?...       5   \n...                                                 ...     ...   \n1917  📣 Следователи возбудили уголовное дело в отнош...       5   \n1918  Утренний брифинг Минобороны России:  ▪️ россий...       5   \n1919  И понеслась мазепинщино-петлюровщино-бандеровщ...       5   \n1920  Наш соратник по русскому движению Алексей Сели...       3   \n1921  Замоскворецкий районный суд Москвы отклонил ис...       5   \n\n                                             text_clean  \\\n0     литературный критик галина юзефович о новом ро...   \n1     всушники, переходите на сторону добра, у нас т...   \n2     наши ребята столкнулись с полком азов и морско...   \n3                      ну и киношка на норвежском :..?.   \n4     программа импортозамещения микросхем  блеф?  н...   \n...                                                 ...   \n1917   следователи возбудили уголовное дело в отноше...   \n1918  утренний брифинг минобороны россии:   российск...   \n1919  и понеслась мазепинщино-петлюровщино-бандеровщ...   \n1920  наш соратник по русскому движению алексей сели...   \n1921  замоскворецкий районный суд москвы отклонил ис...   \n\n                                        text_lemmatized  \\\n0     [литературный, критик, галина, юзефович, о, но...   \n1     [всушники, ,, переходить, на, сторона, добро, ...   \n2     [наш, ребята, столкнуться, с, полок, азов, и, ...   \n3         [ну, и, киношка, на, норвежский, :, .., ?, .]   \n4     [программа, импортозамещение, микросхема,  , б...   \n...                                                 ...   \n1917  [ , следователь, возбудить, уголовный, дело, в...   \n1918  [утренний, брифинг, минобороны, россия, :,   ,...   \n1919  [и, понестись, мазепинщино, -, петлюровщино, -...   \n1920  [наш, соратник, по, русский, движение, алексей...   \n1921  [замоскворецкий, районный, суд, москва, отклон...   \n\n                                       found_ukrainians  \n0                                                    []  \n1     [{'lemma': 'всушник', 'position': 0, 'morph_fo...  \n2     [{'lemma': 'всу', 'position': 9, 'morph_form':...  \n3                                                    []  \n4                                                    []  \n...                                                 ...  \n1917                                                 []  \n1918                                                 []  \n1919                                                 []  \n1920  [{'lemma': 'укроп', 'position': 27, 'morph_for...  \n1921                                                 []  \n\n[1922 rows x 11 columns]",
      "text/html": "<div>\n<style scoped>\n    .dataframe tbody tr th:only-of-type {\n        vertical-align: middle;\n    }\n\n    .dataframe tbody tr th {\n        vertical-align: top;\n    }\n\n    .dataframe thead th {\n        text-align: right;\n    }\n</style>\n<table border=\"1\" class=\"dataframe\">\n  <thead>\n    <tr style=\"text-align: right;\">\n      <th></th>\n      <th>index</th>\n      <th>Emotion</th>\n      <th>Dehumanization</th>\n      <th>Mention</th>\n      <th>External ID</th>\n      <th>Created By</th>\n      <th>text</th>\n      <th>rating</th>\n      <th>text_clean</th>\n      <th>text_lemmatized</th>\n      <th>found_ukrainians</th>\n    </tr>\n  </thead>\n  <tbody>\n    <tr>\n      <th>0</th>\n      <td>1218</td>\n      <td>ні, оцінка не присутня</td>\n      <td>ні</td>\n      <td>ні</td>\n      <td>row_1.txt</td>\n      <td>snizannabotvin@gmail.com</td>\n      <td>Литературный критик Галина Юзефович о новом ро...</td>\n      <td>4</td>\n      <td>литературный критик галина юзефович о новом ро...</td>\n      <td>[литературный, критик, галина, юзефович, о, но...</td>\n      <td>[]</td>\n    </tr>\n    <tr>\n      <th>1</th>\n      <td>3247</td>\n      <td>ні, оцінка не присутня</td>\n      <td>ні</td>\n      <td>так</td>\n      <td>row_1000.txt</td>\n      <td>tutovadesign@gmail.com</td>\n      <td>ВСУшники, переходите на сторону добра, у нас т...</td>\n      <td>5</td>\n      <td>всушники, переходите на сторону добра, у нас т...</td>\n      <td>[всушники, ,, переходить, на, сторона, добро, ...</td>\n      <td>[{'lemma': 'всушник', 'position': 0, 'morph_fo...</td>\n    </tr>\n    <tr>\n      <th>2</th>\n      <td>3246</td>\n      <td>ні, оцінка не присутня</td>\n      <td>ні</td>\n      <td>так</td>\n      <td>row_1001.txt</td>\n      <td>tutovadesign@gmail.com</td>\n      <td>Наши ребята столкнулись с полком «Азов» и морс...</td>\n      <td>5</td>\n      <td>наши ребята столкнулись с полком азов и морско...</td>\n      <td>[наш, ребята, столкнуться, с, полок, азов, и, ...</td>\n      <td>[{'lemma': 'всу', 'position': 9, 'morph_form':...</td>\n    </tr>\n    <tr>\n      <th>3</th>\n      <td>3244</td>\n      <td>ні, оцінка не присутня</td>\n      <td>ні</td>\n      <td>ні</td>\n      <td>row_1003.txt</td>\n      <td>tutovadesign@gmail.com</td>\n      <td>Ну и киношка на норвежском https://m.youtube.c...</td>\n      <td>5</td>\n      <td>ну и киношка на норвежском :..?.</td>\n      <td>[ну, и, киношка, на, норвежский, :, .., ?, .]</td>\n      <td>[]</td>\n    </tr>\n    <tr>\n      <th>4</th>\n      <td>3243</td>\n      <td>ні, оцінка не присутня</td>\n      <td>ні</td>\n      <td>ні</td>\n      <td>row_1004.txt</td>\n      <td>tutovadesign@gmail.com</td>\n      <td>Программа «импортозамещения микросхем» — блеф?...</td>\n      <td>5</td>\n      <td>программа импортозамещения микросхем  блеф?  н...</td>\n      <td>[программа, импортозамещение, микросхема,  , б...</td>\n      <td>[]</td>\n    </tr>\n    <tr>\n      <th>...</th>\n      <td>...</td>\n      <td>...</td>\n      <td>...</td>\n      <td>...</td>\n      <td>...</td>\n      <td>...</td>\n      <td>...</td>\n      <td>...</td>\n      <td>...</td>\n      <td>...</td>\n      <td>...</td>\n    </tr>\n    <tr>\n      <th>1917</th>\n      <td>3614</td>\n      <td>ні, оцінка не присутня</td>\n      <td>ні</td>\n      <td>ні</td>\n      <td>row_994.txt</td>\n      <td>tutovadesign@gmail.com</td>\n      <td>📣 Следователи возбудили уголовное дело в отнош...</td>\n      <td>5</td>\n      <td>следователи возбудили уголовное дело в отноше...</td>\n      <td>[ , следователь, возбудить, уголовный, дело, в...</td>\n      <td>[]</td>\n    </tr>\n    <tr>\n      <th>1918</th>\n      <td>3613</td>\n      <td>ні, оцінка не присутня</td>\n      <td>ні</td>\n      <td>так</td>\n      <td>row_995.txt</td>\n      <td>tutovadesign@gmail.com</td>\n      <td>Утренний брифинг Минобороны России:  ▪️ россий...</td>\n      <td>5</td>\n      <td>утренний брифинг минобороны россии:   российск...</td>\n      <td>[утренний, брифинг, минобороны, россия, :,   ,...</td>\n      <td>[]</td>\n    </tr>\n    <tr>\n      <th>1919</th>\n      <td>3612</td>\n      <td>так, присутня негативна</td>\n      <td>ні</td>\n      <td>так</td>\n      <td>row_996.txt</td>\n      <td>tutovadesign@gmail.com</td>\n      <td>И понеслась мазепинщино-петлюровщино-бандеровщ...</td>\n      <td>5</td>\n      <td>и понеслась мазепинщино-петлюровщино-бандеровщ...</td>\n      <td>[и, понестись, мазепинщино, -, петлюровщино, -...</td>\n      <td>[]</td>\n    </tr>\n    <tr>\n      <th>1920</th>\n      <td>4121</td>\n      <td>так, присутня негативна</td>\n      <td>ні</td>\n      <td>так</td>\n      <td>row_997.txt</td>\n      <td>yevhen.marchenko91@gmail.com</td>\n      <td>Наш соратник по русскому движению Алексей Сели...</td>\n      <td>3</td>\n      <td>наш соратник по русскому движению алексей сели...</td>\n      <td>[наш, соратник, по, русский, движение, алексей...</td>\n      <td>[{'lemma': 'укроп', 'position': 27, 'morph_for...</td>\n    </tr>\n    <tr>\n      <th>1921</th>\n      <td>3248</td>\n      <td>ні, оцінка не присутня</td>\n      <td>ні</td>\n      <td>ні</td>\n      <td>row_999.txt</td>\n      <td>tutovadesign@gmail.com</td>\n      <td>Замоскворецкий районный суд Москвы отклонил ис...</td>\n      <td>5</td>\n      <td>замоскворецкий районный суд москвы отклонил ис...</td>\n      <td>[замоскворецкий, районный, суд, москва, отклон...</td>\n      <td>[]</td>\n    </tr>\n  </tbody>\n</table>\n<p>1922 rows × 11 columns</p>\n</div>"
     },
     "execution_count": 25,
     "metadata": {},
     "output_type": "execute_result"
    }
   ],
   "source": [
    "df_dehum"
   ],
   "metadata": {
    "collapsed": false,
    "pycharm": {
     "name": "#%%\n"
    }
   }
  },
  {
   "cell_type": "code",
   "execution_count": 34,
   "outputs": [
    {
     "name": "stdout",
     "output_type": "stream",
     "text": [
      "CPU times: user 159 ms, sys: 3.01 ms, total: 162 ms\n",
      "Wall time: 162 ms\n"
     ]
    }
   ],
   "source": [
    "%%time\n",
    "import random\n",
    "df_dehum['replaced_d_sent_ukrainians'] = df_dehum.apply(lambda row: replace_words(row['text_clean'], row['found_ukrainians'],d_parsed_replacements_ukrainians), axis=1)"
   ],
   "metadata": {
    "collapsed": false,
    "pycharm": {
     "name": "#%%\n"
    }
   }
  },
  {
   "cell_type": "code",
   "execution_count": 35,
   "outputs": [],
   "source": [
    "df_dehum['len_found_ukr'] = df_dehum['found_ukrainians'].apply(lambda x: len(x))"
   ],
   "metadata": {
    "collapsed": false,
    "pycharm": {
     "name": "#%%\n"
    }
   }
  },
  {
   "cell_type": "code",
   "execution_count": 36,
   "outputs": [
    {
     "data": {
      "text/plain": "'боевиков из  бригады всу отправляют отбивать позиции с одними автоматами  всушники из -й отдельной мотопехотной бригады жалуются на свое командование, которое бросило их под артемовском как мясо.'"
     },
     "execution_count": 36,
     "metadata": {},
     "output_type": "execute_result"
    }
   ],
   "source": [
    "df_dehum[df_dehum['len_found_ukr']>1]['text_clean'].iloc[2]"
   ],
   "metadata": {
    "collapsed": false,
    "pycharm": {
     "name": "#%%\n"
    }
   }
  },
  {
   "cell_type": "code",
   "execution_count": 37,
   "outputs": [
    {
     "data": {
      "text/plain": "'укронацистов из бригады укронациков отправляют отбивать позиции с одними автоматами укронацисты из -й отдельной мотопехотной бригады жалуются на свое командование, которое бросило их под артемовском как мясо.'"
     },
     "execution_count": 37,
     "metadata": {},
     "output_type": "execute_result"
    }
   ],
   "source": [
    "df_dehum[df_dehum['len_found_ukr']>1]['replaced_d_sent_ukrainians'].iloc[2]"
   ],
   "metadata": {
    "collapsed": false,
    "pycharm": {
     "name": "#%%\n"
    }
   }
  },
  {
   "cell_type": "markdown",
   "source": [
    "## For Ukraine"
   ],
   "metadata": {
    "collapsed": false,
    "pycharm": {
     "name": "#%% md\n"
    }
   }
  },
  {
   "cell_type": "code",
   "execution_count": 38,
   "outputs": [],
   "source": [
    "def filter_unknown_grammemes(word, grammemes):\n",
    "    known_grammemes = set()\n",
    "    switch_tags = {'femn':'masc'}\n",
    "\n",
    "    for g in grammemes:\n",
    "        if g in switch_tags:\n",
    "            g = switch_tags[g]\n",
    "\n",
    "        try:\n",
    "            word.inflect({g})\n",
    "            known_grammemes.add(g)\n",
    "        except ValueError:\n",
    "            pass\n",
    "\n",
    "    return known_grammemes"
   ],
   "metadata": {
    "collapsed": false,
    "pycharm": {
     "name": "#%%\n"
    }
   }
  },
  {
   "cell_type": "code",
   "execution_count": 39,
   "outputs": [],
   "source": [
    "d_parsed_replacements_ukraine = [morph.parse(replacement_word)[0] for replacement_word in d_ukraine_to_insert]"
   ],
   "metadata": {
    "collapsed": false,
    "pycharm": {
     "name": "#%%\n"
    }
   }
  },
  {
   "cell_type": "code",
   "execution_count": 40,
   "outputs": [
    {
     "name": "stdout",
     "output_type": "stream",
     "text": [
      "CPU times: user 3.88 s, sys: 15.4 ms, total: 3.89 s\n",
      "Wall time: 3.93 s\n"
     ]
    }
   ],
   "source": [
    "%%time\n",
    "df_dehum['found_ukraine'] = df_dehum['replaced_d_sent_ukrainians'].apply(check_words_in_text, words_to_check_normal_forms=d_ukraine_to_replace)"
   ],
   "metadata": {
    "collapsed": false,
    "pycharm": {
     "name": "#%%\n"
    }
   }
  },
  {
   "cell_type": "code",
   "execution_count": 41,
   "outputs": [
    {
     "name": "stdout",
     "output_type": "stream",
     "text": [
      "CPU times: user 61.2 ms, sys: 1.98 ms, total: 63.2 ms\n",
      "Wall time: 62.3 ms\n"
     ]
    }
   ],
   "source": [
    "%%time\n",
    "df_dehum['replaced_d_sent_ukraine'] = df_dehum.apply(lambda row: replace_words(row['replaced_d_sent_ukrainians'], row['found_ukraine'],d_parsed_replacements_ukraine), axis=1)"
   ],
   "metadata": {
    "collapsed": false,
    "pycharm": {
     "name": "#%%\n"
    }
   }
  },
  {
   "cell_type": "code",
   "execution_count": 42,
   "outputs": [],
   "source": [
    "df_dehum['len_found_ukraine'] = df_dehum['found_ukraine'].apply(lambda x: len(x))"
   ],
   "metadata": {
    "collapsed": false,
    "pycharm": {
     "name": "#%%\n"
    }
   }
  },
  {
   "cell_type": "code",
   "execution_count": 43,
   "outputs": [
    {
     "data": {
      "text/plain": "'стивен не захочет узнать, что именем этого бандеры на его любимой украине названы десятки улиц, включая улицу в центре киева, что ему стоят памятники, что дети в школах поют о нем песни и что он национальный герой украины.'"
     },
     "execution_count": 43,
     "metadata": {},
     "output_type": "execute_result"
    }
   ],
   "source": [
    "df_dehum[df_dehum['len_found_ukraine']>1]['text_clean'].iloc[2]"
   ],
   "metadata": {
    "collapsed": false,
    "pycharm": {
     "name": "#%%\n"
    }
   }
  },
  {
   "cell_type": "code",
   "execution_count": 44,
   "outputs": [
    {
     "data": {
      "text/plain": "'стивен не захочет узнать, что именем этого бандеры на его любимой укрорейхе названы десятки улиц, включая улицу в центре киева, что ему стоят памятники, что дети в школах поют о нем песни и что он национальный герой укрорейха.'"
     },
     "execution_count": 44,
     "metadata": {},
     "output_type": "execute_result"
    }
   ],
   "source": [
    "df_dehum[df_dehum['len_found_ukraine']>1]['replaced_d_sent_ukraine'].iloc[2]\n"
   ],
   "metadata": {
    "collapsed": false,
    "pycharm": {
     "name": "#%%\n"
    }
   }
  },
  {
   "cell_type": "code",
   "execution_count": 45,
   "outputs": [
    {
     "data": {
      "text/plain": "'вячеслав володин заявил об изменении риторики сша и ес по ситуации на украине  по словам спикера госдумы, вашингтон и брюссель поняли, что с владимиром зеленским победы не будет.  со стороны запада зазвучала новая риторика: вопрос переговоров о мирном урегулировании на украине всецело зависит от президента республики.'"
     },
     "execution_count": 45,
     "metadata": {},
     "output_type": "execute_result"
    }
   ],
   "source": [
    "df_dehum[df_dehum['len_found_ukraine']>1]['text_clean'].iloc[10]"
   ],
   "metadata": {
    "collapsed": false,
    "pycharm": {
     "name": "#%%\n"
    }
   }
  },
  {
   "cell_type": "code",
   "execution_count": 46,
   "outputs": [
    {
     "data": {
      "text/plain": "'вячеслав володин заявил об изменении риторики сша и ес по ситуации на свинорейхе по словам спикера госдумы, вашингтон и брюссель поняли, что с владимиром зеленским победы не будет. со стороны запада зазвучала новая риторика: вопрос переговоров о мирном урегулировании на хохлорейхе всецело зависит от президента республики.'"
     },
     "execution_count": 46,
     "metadata": {},
     "output_type": "execute_result"
    }
   ],
   "source": [
    "df_dehum[df_dehum['len_found_ukraine']>1]['replaced_d_sent_ukraine'].iloc[10]"
   ],
   "metadata": {
    "collapsed": false,
    "pycharm": {
     "name": "#%%\n"
    }
   }
  },
  {
   "cell_type": "code",
   "execution_count": 47,
   "outputs": [
    {
     "data": {
      "text/plain": "'вот и закончилась деятельность м.е.гайдар на посту советницы президента укрорейха.'"
     },
     "execution_count": 47,
     "metadata": {},
     "output_type": "execute_result"
    }
   ],
   "source": [
    "df_dehum[df_dehum['len_found_ukraine']>=1]['replaced_d_sent_ukraine'].iloc[18]\n"
   ],
   "metadata": {
    "collapsed": false,
    "pycharm": {
     "name": "#%%\n"
    }
   }
  },
  {
   "cell_type": "code",
   "execution_count": 52,
   "outputs": [],
   "source": [
    "df_dehum[\"word_mappings\"] = df_dehum.apply(lambda row: {word_info['morph_form']: word_info['replacement_word'] for word_info in row['found_ukraine']}, axis=1)\n",
    "\n",
    "df_dehum[\"fixed_sentences\"] = df_dehum.apply(lambda row: fix_inconsistencies(row[\"replaced_d_sent_ukraine\"], row[\"word_mappings\"]), axis=1)"
   ],
   "metadata": {
    "collapsed": false,
    "pycharm": {
     "name": "#%%\n"
    }
   }
  },
  {
   "cell_type": "code",
   "execution_count": 53,
   "outputs": [
    {
     "data": {
      "text/plain": "'стивен не захочет узнать, что именем этого бандеры на его любимым укрорейхе названы десятки улиц, включая улицу в центре киева, что ему стоят памятники, что дети в школах поют о нем песни и что он национальный герой укрорейха.'"
     },
     "execution_count": 53,
     "metadata": {},
     "output_type": "execute_result"
    }
   ],
   "source": [
    "df_dehum[df_dehum['len_found_ukraine']>1]['fixed_sentences'].iloc[2]"
   ],
   "metadata": {
    "collapsed": false,
    "pycharm": {
     "name": "#%%\n"
    }
   }
  },
  {
   "cell_type": "code",
   "execution_count": 54,
   "outputs": [],
   "source": [
    "df_dehum['len_mappings'] = df_dehum['len_found_ukraine'] + df_dehum['len_found_ukr']"
   ],
   "metadata": {
    "collapsed": false,
    "pycharm": {
     "name": "#%%\n"
    }
   }
  },
  {
   "cell_type": "code",
   "execution_count": 55,
   "outputs": [
    {
     "data": {
      "text/plain": "520"
     },
     "execution_count": 55,
     "metadata": {},
     "output_type": "execute_result"
    }
   ],
   "source": [
    "len(df_dehum[df_dehum['len_mappings']>=1])"
   ],
   "metadata": {
    "collapsed": false,
    "pycharm": {
     "name": "#%%\n"
    }
   }
  },
  {
   "cell_type": "code",
   "execution_count": 56,
   "outputs": [],
   "source": [
    "df_augm_added_dehumanization = df_dehum[df_dehum['len_mappings']>=1].copy()"
   ],
   "metadata": {
    "collapsed": false,
    "pycharm": {
     "name": "#%%\n"
    }
   }
  },
  {
   "cell_type": "code",
   "execution_count": 57,
   "outputs": [],
   "source": [
    "df_augm_added_dehumanization.reset_index(inplace=True, drop=True)"
   ],
   "metadata": {
    "collapsed": false,
    "pycharm": {
     "name": "#%%\n"
    }
   }
  },
  {
   "cell_type": "code",
   "execution_count": 58,
   "outputs": [],
   "source": [
    "df_augm_added_dehumanization['label']=1"
   ],
   "metadata": {
    "collapsed": false,
    "pycharm": {
     "name": "#%%\n"
    }
   }
  },
  {
   "cell_type": "code",
   "execution_count": 59,
   "outputs": [],
   "source": [
    "df_augm_added_dehumanization =df_augm_added_dehumanization[['fixed_sentences', 'label']]"
   ],
   "metadata": {
    "collapsed": false,
    "pycharm": {
     "name": "#%%\n"
    }
   }
  },
  {
   "cell_type": "code",
   "execution_count": 60,
   "outputs": [
    {
     "data": {
      "text/plain": "                                       fixed_sentences  label\n0    укронацики, переходите на сторону добра, у нас...      1\n1    наши ребята столкнулись с полком азов и морско...      1\n2    укронацисты нанесли артиллерийский удар по бол...      1\n3    применение коллективных сил организации догово...      1\n4                   бергман и укропитёк в комментариях      1\n..                                                 ...    ...\n515  дноооо!!! неонацисты бодро топят по трассе чер...      1\n516  молодых неонацистов кормят и поят из пайков на...      1\n517  обратили внимание, что по телику спустя три ме...      1\n518  утренний брифинг минобороны россии: российские...      1\n519  наш соратник по русскому движению алексей сели...      1\n\n[520 rows x 2 columns]",
      "text/html": "<div>\n<style scoped>\n    .dataframe tbody tr th:only-of-type {\n        vertical-align: middle;\n    }\n\n    .dataframe tbody tr th {\n        vertical-align: top;\n    }\n\n    .dataframe thead th {\n        text-align: right;\n    }\n</style>\n<table border=\"1\" class=\"dataframe\">\n  <thead>\n    <tr style=\"text-align: right;\">\n      <th></th>\n      <th>fixed_sentences</th>\n      <th>label</th>\n    </tr>\n  </thead>\n  <tbody>\n    <tr>\n      <th>0</th>\n      <td>укронацики, переходите на сторону добра, у нас...</td>\n      <td>1</td>\n    </tr>\n    <tr>\n      <th>1</th>\n      <td>наши ребята столкнулись с полком азов и морско...</td>\n      <td>1</td>\n    </tr>\n    <tr>\n      <th>2</th>\n      <td>укронацисты нанесли артиллерийский удар по бол...</td>\n      <td>1</td>\n    </tr>\n    <tr>\n      <th>3</th>\n      <td>применение коллективных сил организации догово...</td>\n      <td>1</td>\n    </tr>\n    <tr>\n      <th>4</th>\n      <td>бергман и укропитёк в комментариях</td>\n      <td>1</td>\n    </tr>\n    <tr>\n      <th>...</th>\n      <td>...</td>\n      <td>...</td>\n    </tr>\n    <tr>\n      <th>515</th>\n      <td>дноооо!!! неонацисты бодро топят по трассе чер...</td>\n      <td>1</td>\n    </tr>\n    <tr>\n      <th>516</th>\n      <td>молодых неонацистов кормят и поят из пайков на...</td>\n      <td>1</td>\n    </tr>\n    <tr>\n      <th>517</th>\n      <td>обратили внимание, что по телику спустя три ме...</td>\n      <td>1</td>\n    </tr>\n    <tr>\n      <th>518</th>\n      <td>утренний брифинг минобороны россии: российские...</td>\n      <td>1</td>\n    </tr>\n    <tr>\n      <th>519</th>\n      <td>наш соратник по русскому движению алексей сели...</td>\n      <td>1</td>\n    </tr>\n  </tbody>\n</table>\n<p>520 rows × 2 columns</p>\n</div>"
     },
     "execution_count": 60,
     "metadata": {},
     "output_type": "execute_result"
    }
   ],
   "source": [
    "df_augm_added_dehumanization"
   ],
   "metadata": {
    "collapsed": false,
    "pycharm": {
     "name": "#%%\n"
    }
   }
  },
  {
   "cell_type": "code",
   "execution_count": 61,
   "outputs": [],
   "source": [
    "df_augm_added_dehumanization.to_csv('/Users/katerynaburovova/PycharmProjects/dehumanization/augmentation/augm_added_dehumanization.csv')"
   ],
   "metadata": {
    "collapsed": false,
    "pycharm": {
     "name": "#%%\n"
    }
   }
  },
  {
   "cell_type": "markdown",
   "source": [
    "## Neutral class augmentation"
   ],
   "metadata": {
    "collapsed": false,
    "pycharm": {
     "name": "#%% md\n"
    }
   }
  },
  {
   "cell_type": "markdown",
   "source": [
    "## Ukrainians"
   ],
   "metadata": {
    "collapsed": false,
    "pycharm": {
     "name": "#%% md\n"
    }
   }
  },
  {
   "cell_type": "code",
   "execution_count": 2,
   "outputs": [],
   "source": [
    "from collocation_extraction import collect_verb_obl_obj, collect_core, collect_nmod, collect_amod, collect_comp, collect_appos, show_dependency\n",
    "from text_preprocessing import preprocess_df\n",
    "import pandas as pd\n",
    "import spacy"
   ],
   "metadata": {
    "collapsed": false,
    "pycharm": {
     "name": "#%%\n"
    }
   }
  },
  {
   "cell_type": "code",
   "execution_count": 3,
   "outputs": [],
   "source": [
    "df_labels = pd.read_csv('/Users/katerynaburovova/PycharmProjects/dehumanization/annotation/final_labels.csv', index_col=0)"
   ],
   "metadata": {
    "collapsed": false,
    "pycharm": {
     "name": "#%%\n"
    }
   }
  },
  {
   "cell_type": "code",
   "execution_count": 4,
   "outputs": [],
   "source": [
    "df_mentions = df_labels[df_labels['Mention']=='так'].copy()"
   ],
   "metadata": {
    "collapsed": false,
    "pycharm": {
     "name": "#%%\n"
    }
   }
  },
  {
   "cell_type": "code",
   "execution_count": 5,
   "outputs": [
    {
     "name": "stdout",
     "output_type": "stream",
     "text": [
      "CPU times: user 37min 44s, sys: 3min 21s, total: 41min 6s\n",
      "Wall time: 41min 31s\n"
     ]
    }
   ],
   "source": [
    "%%time\n",
    "df_mentions = preprocess_df(df_mentions)"
   ],
   "metadata": {
    "collapsed": false,
    "pycharm": {
     "name": "#%%\n"
    }
   }
  },
  {
   "cell_type": "code",
   "execution_count": 6,
   "outputs": [],
   "source": [
    "df_ = pd.read_json('/Users/katerynaburovova/PycharmProjects/dehumanization/most_important_features.json')\n",
    "features_list = df_['final_features'].tolist()"
   ],
   "metadata": {
    "collapsed": false,
    "pycharm": {
     "name": "#%%\n"
    }
   }
  },
  {
   "cell_type": "code",
   "execution_count": 7,
   "outputs": [],
   "source": [
    "import re\n",
    "\n",
    "def remove_extra_spaces(text):\n",
    "    text = re.sub(r'\\s+([,.!?;:])', r'\\1', text)\n",
    "    text = re.sub(r'\\(\\s+', r'(', text)\n",
    "    text = re.sub(r'\\s+\\)', r')', text)\n",
    "    return text"
   ],
   "metadata": {
    "collapsed": false,
    "pycharm": {
     "name": "#%%\n"
    }
   }
  },
  {
   "cell_type": "code",
   "execution_count": 9,
   "outputs": [],
   "source": [
    "loaded_df = pd.read_json('all_forms_dict.json', orient='records', lines=True)\n",
    "all_forms_dict = loaded_df.to_dict(orient='records')[0]"
   ],
   "metadata": {
    "collapsed": false,
    "pycharm": {
     "name": "#%%\n"
    }
   }
  },
  {
   "cell_type": "code",
   "execution_count": 10,
   "outputs": [
    {
     "data": {
      "text/plain": "dict_keys(['укр', 'украинец', 'украинка', 'хохол', 'хохлушка', 'укроп', 'Украина', 'украинский', 'украинская', 'украинское', 'хохлятский', 'хохлятская', 'хохлятское', 'укропский', 'укропская', 'укропское'])"
     },
     "execution_count": 10,
     "metadata": {},
     "output_type": "execute_result"
    }
   ],
   "source": [
    "all_forms_dict.keys()"
   ],
   "metadata": {
    "collapsed": false,
    "pycharm": {
     "name": "#%%\n"
    }
   }
  },
  {
   "cell_type": "code",
   "execution_count": 14,
   "outputs": [
    {
     "name": "stdout",
     "output_type": "stream",
     "text": [
      "['укр', 'украинцы', 'украинки', 'хохлы', 'хохлушки', 'укропы', 'Украина', 'украинские', 'украинские', 'украинские', 'хохлятские', 'хохлятские', 'хохлятские', 'укропские', 'укропская', 'укропские']\n"
     ]
    }
   ],
   "source": [
    "import pymorphy2\n",
    "\n",
    "def get_plural_noun(noun, morph):\n",
    "    parsed_noun = morph.parse(noun)[0]\n",
    "    inflected_noun = parsed_noun.inflect({\"plur\"})\n",
    "    if inflected_noun is None:\n",
    "        return noun\n",
    "    else:\n",
    "        return inflected_noun.word\n",
    "\n",
    "morph = pymorphy2.MorphAnalyzer()\n",
    "singular_nouns = list(all_forms_dict.keys())\n",
    "\n",
    "plural_nouns = [get_plural_noun(noun, morph) for noun in singular_nouns]\n",
    "\n",
    "print(plural_nouns)"
   ],
   "metadata": {
    "collapsed": false,
    "pycharm": {
     "name": "#%%\n"
    }
   }
  },
  {
   "cell_type": "code",
   "execution_count": 16,
   "outputs": [
    {
     "data": {
      "text/plain": "['украинцы', 'украинки', 'хохлы', 'хохлушки', 'укропы']"
     },
     "execution_count": 16,
     "metadata": {},
     "output_type": "execute_result"
    }
   ],
   "source": [
    "plural_nouns[1:6]"
   ],
   "metadata": {
    "collapsed": false,
    "pycharm": {
     "name": "#%%\n"
    }
   }
  },
  {
   "cell_type": "code",
   "execution_count": 18,
   "outputs": [],
   "source": [
    "features_neutral_ukrainians = ['боевиков',\n",
    "                               'бандеровцами',\n",
    "                               'всушников',\n",
    "                               'всу']"
   ],
   "metadata": {
    "collapsed": false,
    "pycharm": {
     "name": "#%%\n"
    }
   }
  },
  {
   "cell_type": "code",
   "execution_count": 20,
   "outputs": [
    {
     "data": {
      "text/plain": "['боевиков',\n 'бандеровцами',\n 'всушников',\n 'всу',\n 'украинцы',\n 'украинки',\n 'хохлы',\n 'хохлушки',\n 'укропы']"
     },
     "execution_count": 20,
     "metadata": {},
     "output_type": "execute_result"
    }
   ],
   "source": [
    "neutral_target_labels_for_Ukrainians = features_neutral_ukrainians + plural_nouns[1:6]\n",
    "neutral_target_labels_for_Ukrainians"
   ],
   "metadata": {
    "collapsed": false,
    "pycharm": {
     "name": "#%%\n"
    }
   }
  },
  {
   "cell_type": "code",
   "execution_count": 22,
   "outputs": [],
   "source": [
    "# final list for neutral target labels to replace dehumanizing labels with\n",
    "\n",
    "neutral_target_labels_for_Ukrainians = features_neutral_ukrainians + plural_nouns[1:6]"
   ],
   "metadata": {
    "collapsed": false,
    "pycharm": {
     "name": "#%%\n"
    }
   }
  },
  {
   "cell_type": "code",
   "execution_count": 24,
   "outputs": [],
   "source": [
    "import pymorphy2\n",
    "\n",
    "morph = pymorphy2.MorphAnalyzer()\n",
    "ukrainians_norm_to_insert = {word: morph.parse(word)[0].normal_form for word in neutral_target_labels_for_Ukrainians}"
   ],
   "metadata": {
    "collapsed": false,
    "pycharm": {
     "name": "#%%\n"
    }
   }
  },
  {
   "cell_type": "code",
   "execution_count": 25,
   "outputs": [],
   "source": [
    "import random\n",
    "\n",
    "morph = pymorphy2.MorphAnalyzer()\n",
    "\n",
    "parsed_replacements_ukrainians = [morph.parse(replacement_word)[0] for replacement_word in ukrainians_norm_to_insert]"
   ],
   "metadata": {
    "collapsed": false,
    "pycharm": {
     "name": "#%%\n"
    }
   }
  },
  {
   "cell_type": "code",
   "execution_count": 27,
   "outputs": [],
   "source": [
    "def filter_unknown_grammemes(word, grammemes):\n",
    "    known_grammemes = set()\n",
    "    for g in grammemes:\n",
    "        try:\n",
    "            word.inflect({g})\n",
    "            known_grammemes.add(g)\n",
    "        except ValueError:\n",
    "            pass\n",
    "    return known_grammemes"
   ],
   "metadata": {
    "collapsed": false,
    "pycharm": {
     "name": "#%%\n"
    }
   }
  },
  {
   "cell_type": "code",
   "execution_count": 28,
   "outputs": [],
   "source": [
    "from nltk.tokenize import word_tokenize\n",
    "\n",
    "def check_words_in_text(text, words_to_check_normal_forms):\n",
    "    found_words = []\n",
    "    words = word_tokenize(text, language='russian')\n",
    "    for idx, word in enumerate(words):\n",
    "        parsed_word = morph.parse(word)[0]\n",
    "        if parsed_word.normal_form in words_to_check_normal_forms.values():\n",
    "            found_words.append({\n",
    "                'lemma': parsed_word.normal_form,\n",
    "                'position': idx,\n",
    "                'morph_form': word,\n",
    "                'grammemes': parsed_word.tag.grammemes\n",
    "            })\n",
    "    return found_words"
   ],
   "metadata": {
    "collapsed": false,
    "pycharm": {
     "name": "#%%\n"
    }
   }
  },
  {
   "cell_type": "code",
   "execution_count": 29,
   "outputs": [
    {
     "data": {
      "text/plain": "      index                  Emotion Dehumanization Mention   External ID  \\\n0      1219  так, присутня негативна            так     так     row_0.txt   \n1      1591  так, присутня негативна            так     так    row_10.txt   \n2      1198  так, присутня негативна            так     так   row_100.txt   \n3      3247   ні, оцінка не присутня             ні     так  row_1000.txt   \n4      3246   ні, оцінка не присутня             ні     так  row_1001.txt   \n...     ...                      ...            ...     ...           ...   \n2494   3615   ні, оцінка не присутня             ні     так   row_993.txt   \n2495   3613   ні, оцінка не присутня             ні     так   row_995.txt   \n2496   3612  так, присутня негативна             ні     так   row_996.txt   \n2497   4121  так, присутня негативна             ні     так   row_997.txt   \n2498   4120   ні, оцінка не присутня            так     так   row_998.txt   \n\n                        Created By  \\\n0         snizannabotvin@gmail.com   \n1         snizannabotvin@gmail.com   \n2         snizannabotvin@gmail.com   \n3           tutovadesign@gmail.com   \n4           tutovadesign@gmail.com   \n...                            ...   \n2494        tutovadesign@gmail.com   \n2495        tutovadesign@gmail.com   \n2496        tutovadesign@gmail.com   \n2497  yevhen.marchenko91@gmail.com   \n2498  yevhen.marchenko91@gmail.com   \n\n                                                   text  rating  \\\n0     Всвязи с этим немного поправлю коллег ⤵️  \"Они...       4   \n1     Почему на базах неонацистов стоят языческие ис...       4   \n2     Группа добровольцев-медиков из Чеченской Респу...       4   \n3     ВСУшники, переходите на сторону добра, у нас т...       5   \n4     Наши ребята столкнулись с полком «Азов» и морс...       5   \n...                                                 ...     ...   \n2494  ⚡️Путин: Нам нужно ответить на вопрос, который...       5   \n2495  Утренний брифинг Минобороны России:  ▪️ россий...       5   \n2496  И понеслась мазепинщино-петлюровщино-бандеровщ...       5   \n2497  Наш соратник по русскому движению Алексей Сели...       3   \n2498  Хорошее видео от 4 бригады НМ ЛНР https://t.me...       3   \n\n                                             text_clean  \\\n0     всвязи с этим немного поправлю коллег   они не...   \n1     почему на базах неонацистов стоят языческие ис...   \n2     группа добровольцев-медиков из чеченской респу...   \n3     всушники, переходите на сторону добра, у нас т...   \n4     наши ребята столкнулись с полком азов и морско...   \n...                                                 ...   \n2494  путин: нам нужно ответить на вопрос, который п...   \n2495  утренний брифинг минобороны россии:   российск...   \n2496  и понеслась мазепинщино-петлюровщино-бандеровщ...   \n2497  наш соратник по русскому движению алексей сели...   \n2498  хорошее видео от  бригады нм лнр :., обработка...   \n\n                                        text_lemmatized  \n0     [всвязи, с, это, немного, поправить, коллега, ...  \n1     [почему, на, база, неонацист, стоять, язычески...  \n2     [группа, доброволец, -, медик, из, чеченский, ...  \n3     [всушники, ,, переходить, на, сторона, добро, ...  \n4     [наш, ребята, столкнуться, с, полок, азов, и, ...  \n...                                                 ...  \n2494  [путин, :, нам, нужный, ответить, на, вопрос, ...  \n2495  [утренний, брифинг, минобороны, россия, :,   ,...  \n2496  [и, понестись, мазепинщино, -, петлюровщино, -...  \n2497  [наш, соратник, по, русский, движение, алексей...  \n2498  [хороший, видео, от,  , бригада, нм, лнр, :, ....  \n\n[2499 rows x 10 columns]",
      "text/html": "<div>\n<style scoped>\n    .dataframe tbody tr th:only-of-type {\n        vertical-align: middle;\n    }\n\n    .dataframe tbody tr th {\n        vertical-align: top;\n    }\n\n    .dataframe thead th {\n        text-align: right;\n    }\n</style>\n<table border=\"1\" class=\"dataframe\">\n  <thead>\n    <tr style=\"text-align: right;\">\n      <th></th>\n      <th>index</th>\n      <th>Emotion</th>\n      <th>Dehumanization</th>\n      <th>Mention</th>\n      <th>External ID</th>\n      <th>Created By</th>\n      <th>text</th>\n      <th>rating</th>\n      <th>text_clean</th>\n      <th>text_lemmatized</th>\n    </tr>\n  </thead>\n  <tbody>\n    <tr>\n      <th>0</th>\n      <td>1219</td>\n      <td>так, присутня негативна</td>\n      <td>так</td>\n      <td>так</td>\n      <td>row_0.txt</td>\n      <td>snizannabotvin@gmail.com</td>\n      <td>Всвязи с этим немного поправлю коллег ⤵️  \"Они...</td>\n      <td>4</td>\n      <td>всвязи с этим немного поправлю коллег   они не...</td>\n      <td>[всвязи, с, это, немного, поправить, коллега, ...</td>\n    </tr>\n    <tr>\n      <th>1</th>\n      <td>1591</td>\n      <td>так, присутня негативна</td>\n      <td>так</td>\n      <td>так</td>\n      <td>row_10.txt</td>\n      <td>snizannabotvin@gmail.com</td>\n      <td>Почему на базах неонацистов стоят языческие ис...</td>\n      <td>4</td>\n      <td>почему на базах неонацистов стоят языческие ис...</td>\n      <td>[почему, на, база, неонацист, стоять, язычески...</td>\n    </tr>\n    <tr>\n      <th>2</th>\n      <td>1198</td>\n      <td>так, присутня негативна</td>\n      <td>так</td>\n      <td>так</td>\n      <td>row_100.txt</td>\n      <td>snizannabotvin@gmail.com</td>\n      <td>Группа добровольцев-медиков из Чеченской Респу...</td>\n      <td>4</td>\n      <td>группа добровольцев-медиков из чеченской респу...</td>\n      <td>[группа, доброволец, -, медик, из, чеченский, ...</td>\n    </tr>\n    <tr>\n      <th>3</th>\n      <td>3247</td>\n      <td>ні, оцінка не присутня</td>\n      <td>ні</td>\n      <td>так</td>\n      <td>row_1000.txt</td>\n      <td>tutovadesign@gmail.com</td>\n      <td>ВСУшники, переходите на сторону добра, у нас т...</td>\n      <td>5</td>\n      <td>всушники, переходите на сторону добра, у нас т...</td>\n      <td>[всушники, ,, переходить, на, сторона, добро, ...</td>\n    </tr>\n    <tr>\n      <th>4</th>\n      <td>3246</td>\n      <td>ні, оцінка не присутня</td>\n      <td>ні</td>\n      <td>так</td>\n      <td>row_1001.txt</td>\n      <td>tutovadesign@gmail.com</td>\n      <td>Наши ребята столкнулись с полком «Азов» и морс...</td>\n      <td>5</td>\n      <td>наши ребята столкнулись с полком азов и морско...</td>\n      <td>[наш, ребята, столкнуться, с, полок, азов, и, ...</td>\n    </tr>\n    <tr>\n      <th>...</th>\n      <td>...</td>\n      <td>...</td>\n      <td>...</td>\n      <td>...</td>\n      <td>...</td>\n      <td>...</td>\n      <td>...</td>\n      <td>...</td>\n      <td>...</td>\n      <td>...</td>\n    </tr>\n    <tr>\n      <th>2494</th>\n      <td>3615</td>\n      <td>ні, оцінка не присутня</td>\n      <td>ні</td>\n      <td>так</td>\n      <td>row_993.txt</td>\n      <td>tutovadesign@gmail.com</td>\n      <td>⚡️Путин: Нам нужно ответить на вопрос, который...</td>\n      <td>5</td>\n      <td>путин: нам нужно ответить на вопрос, который п...</td>\n      <td>[путин, :, нам, нужный, ответить, на, вопрос, ...</td>\n    </tr>\n    <tr>\n      <th>2495</th>\n      <td>3613</td>\n      <td>ні, оцінка не присутня</td>\n      <td>ні</td>\n      <td>так</td>\n      <td>row_995.txt</td>\n      <td>tutovadesign@gmail.com</td>\n      <td>Утренний брифинг Минобороны России:  ▪️ россий...</td>\n      <td>5</td>\n      <td>утренний брифинг минобороны россии:   российск...</td>\n      <td>[утренний, брифинг, минобороны, россия, :,   ,...</td>\n    </tr>\n    <tr>\n      <th>2496</th>\n      <td>3612</td>\n      <td>так, присутня негативна</td>\n      <td>ні</td>\n      <td>так</td>\n      <td>row_996.txt</td>\n      <td>tutovadesign@gmail.com</td>\n      <td>И понеслась мазепинщино-петлюровщино-бандеровщ...</td>\n      <td>5</td>\n      <td>и понеслась мазепинщино-петлюровщино-бандеровщ...</td>\n      <td>[и, понестись, мазепинщино, -, петлюровщино, -...</td>\n    </tr>\n    <tr>\n      <th>2497</th>\n      <td>4121</td>\n      <td>так, присутня негативна</td>\n      <td>ні</td>\n      <td>так</td>\n      <td>row_997.txt</td>\n      <td>yevhen.marchenko91@gmail.com</td>\n      <td>Наш соратник по русскому движению Алексей Сели...</td>\n      <td>3</td>\n      <td>наш соратник по русскому движению алексей сели...</td>\n      <td>[наш, соратник, по, русский, движение, алексей...</td>\n    </tr>\n    <tr>\n      <th>2498</th>\n      <td>4120</td>\n      <td>ні, оцінка не присутня</td>\n      <td>так</td>\n      <td>так</td>\n      <td>row_998.txt</td>\n      <td>yevhen.marchenko91@gmail.com</td>\n      <td>Хорошее видео от 4 бригады НМ ЛНР https://t.me...</td>\n      <td>3</td>\n      <td>хорошее видео от  бригады нм лнр :., обработка...</td>\n      <td>[хороший, видео, от,  , бригада, нм, лнр, :, ....</td>\n    </tr>\n  </tbody>\n</table>\n<p>2499 rows × 10 columns</p>\n</div>"
     },
     "execution_count": 29,
     "metadata": {},
     "output_type": "execute_result"
    }
   ],
   "source": [
    "df_mentions"
   ],
   "metadata": {
    "collapsed": false,
    "pycharm": {
     "name": "#%%\n"
    }
   }
  },
  {
   "cell_type": "code",
   "execution_count": 30,
   "outputs": [
    {
     "data": {
      "text/plain": "      index                  Emotion Dehumanization Mention   External ID  \\\n3      3247   ні, оцінка не присутня             ні     так  row_1000.txt   \n4      3246   ні, оцінка не присутня             ні     так  row_1001.txt   \n8      3240   ні, оцінка не присутня             ні     так  row_1007.txt   \n10     3238   ні, оцінка не присутня             ні     так  row_1009.txt   \n12     3288   ні, оцінка не присутня             ні     так  row_1011.txt   \n...     ...                      ...            ...     ...           ...   \n2490   2402  так, присутня негативна             ні     так    row_99.txt   \n2494   3615   ні, оцінка не присутня             ні     так   row_993.txt   \n2495   3613   ні, оцінка не присутня             ні     так   row_995.txt   \n2496   3612  так, присутня негативна             ні     так   row_996.txt   \n2497   4121  так, присутня негативна             ні     так   row_997.txt   \n\n                        Created By  \\\n3           tutovadesign@gmail.com   \n4           tutovadesign@gmail.com   \n8           tutovadesign@gmail.com   \n10          tutovadesign@gmail.com   \n12          tutovadesign@gmail.com   \n...                            ...   \n2490  nazariy.melnychuk9@gmail.com   \n2494        tutovadesign@gmail.com   \n2495        tutovadesign@gmail.com   \n2496        tutovadesign@gmail.com   \n2497  yevhen.marchenko91@gmail.com   \n\n                                                   text  rating  \\\n3     ВСУшники, переходите на сторону добра, у нас т...       5   \n4     Наши ребята столкнулись с полком «Азов» и морс...       5   \n8     ⚡️ВСУ нанесли артиллерийский удар по больнице ...       5   \n10    Применение Коллективных сил Организации Догово...       5   \n12    В этом списке есть Кум, есть уважаемые партнер...       5   \n...                                                 ...     ...   \n2490  🇺🇦❌Очередной фейк укропропаганды  Укропаблики ...       7   \n2494  ⚡️Путин: Нам нужно ответить на вопрос, который...       5   \n2495  Утренний брифинг Минобороны России:  ▪️ россий...       5   \n2496  И понеслась мазепинщино-петлюровщино-бандеровщ...       5   \n2497  Наш соратник по русскому движению Алексей Сели...       3   \n\n                                             text_clean  \\\n3     всушники, переходите на сторону добра, у нас т...   \n4     наши ребята столкнулись с полком азов и морско...   \n8     всу нанесли артиллерийский удар по больнице в ...   \n10    применение коллективных сил организации догово...   \n12    в этом списке есть кум, есть уважаемые партнер...   \n...                                                 ...   \n2490  очередной фейк укропропаганды  укропаблики сег...   \n2494  путин: нам нужно ответить на вопрос, который п...   \n2495  утренний брифинг минобороны россии:   российск...   \n2496  и понеслась мазепинщино-петлюровщино-бандеровщ...   \n2497  наш соратник по русскому движению алексей сели...   \n\n                                        text_lemmatized  \n3     [всушники, ,, переходить, на, сторона, добро, ...  \n4     [наш, ребята, столкнуться, с, полок, азов, и, ...  \n8     [всу, нанести, артиллерийский, удар, по, больн...  \n10    [применение, коллективный, сила, организация, ...  \n12    [в, этот, список, быть, кум, ,, быть, уважаемы...  \n...                                                 ...  \n2490  [очередной, фейк, укропропаганды,  , укропабли...  \n2494  [путин, :, нам, нужный, ответить, на, вопрос, ...  \n2495  [утренний, брифинг, минобороны, россия, :,   ,...  \n2496  [и, понестись, мазепинщино, -, петлюровщино, -...  \n2497  [наш, соратник, по, русский, движение, алексей...  \n\n[880 rows x 10 columns]",
      "text/html": "<div>\n<style scoped>\n    .dataframe tbody tr th:only-of-type {\n        vertical-align: middle;\n    }\n\n    .dataframe tbody tr th {\n        vertical-align: top;\n    }\n\n    .dataframe thead th {\n        text-align: right;\n    }\n</style>\n<table border=\"1\" class=\"dataframe\">\n  <thead>\n    <tr style=\"text-align: right;\">\n      <th></th>\n      <th>index</th>\n      <th>Emotion</th>\n      <th>Dehumanization</th>\n      <th>Mention</th>\n      <th>External ID</th>\n      <th>Created By</th>\n      <th>text</th>\n      <th>rating</th>\n      <th>text_clean</th>\n      <th>text_lemmatized</th>\n    </tr>\n  </thead>\n  <tbody>\n    <tr>\n      <th>3</th>\n      <td>3247</td>\n      <td>ні, оцінка не присутня</td>\n      <td>ні</td>\n      <td>так</td>\n      <td>row_1000.txt</td>\n      <td>tutovadesign@gmail.com</td>\n      <td>ВСУшники, переходите на сторону добра, у нас т...</td>\n      <td>5</td>\n      <td>всушники, переходите на сторону добра, у нас т...</td>\n      <td>[всушники, ,, переходить, на, сторона, добро, ...</td>\n    </tr>\n    <tr>\n      <th>4</th>\n      <td>3246</td>\n      <td>ні, оцінка не присутня</td>\n      <td>ні</td>\n      <td>так</td>\n      <td>row_1001.txt</td>\n      <td>tutovadesign@gmail.com</td>\n      <td>Наши ребята столкнулись с полком «Азов» и морс...</td>\n      <td>5</td>\n      <td>наши ребята столкнулись с полком азов и морско...</td>\n      <td>[наш, ребята, столкнуться, с, полок, азов, и, ...</td>\n    </tr>\n    <tr>\n      <th>8</th>\n      <td>3240</td>\n      <td>ні, оцінка не присутня</td>\n      <td>ні</td>\n      <td>так</td>\n      <td>row_1007.txt</td>\n      <td>tutovadesign@gmail.com</td>\n      <td>⚡️ВСУ нанесли артиллерийский удар по больнице ...</td>\n      <td>5</td>\n      <td>всу нанесли артиллерийский удар по больнице в ...</td>\n      <td>[всу, нанести, артиллерийский, удар, по, больн...</td>\n    </tr>\n    <tr>\n      <th>10</th>\n      <td>3238</td>\n      <td>ні, оцінка не присутня</td>\n      <td>ні</td>\n      <td>так</td>\n      <td>row_1009.txt</td>\n      <td>tutovadesign@gmail.com</td>\n      <td>Применение Коллективных сил Организации Догово...</td>\n      <td>5</td>\n      <td>применение коллективных сил организации догово...</td>\n      <td>[применение, коллективный, сила, организация, ...</td>\n    </tr>\n    <tr>\n      <th>12</th>\n      <td>3288</td>\n      <td>ні, оцінка не присутня</td>\n      <td>ні</td>\n      <td>так</td>\n      <td>row_1011.txt</td>\n      <td>tutovadesign@gmail.com</td>\n      <td>В этом списке есть Кум, есть уважаемые партнер...</td>\n      <td>5</td>\n      <td>в этом списке есть кум, есть уважаемые партнер...</td>\n      <td>[в, этот, список, быть, кум, ,, быть, уважаемы...</td>\n    </tr>\n    <tr>\n      <th>...</th>\n      <td>...</td>\n      <td>...</td>\n      <td>...</td>\n      <td>...</td>\n      <td>...</td>\n      <td>...</td>\n      <td>...</td>\n      <td>...</td>\n      <td>...</td>\n      <td>...</td>\n    </tr>\n    <tr>\n      <th>2490</th>\n      <td>2402</td>\n      <td>так, присутня негативна</td>\n      <td>ні</td>\n      <td>так</td>\n      <td>row_99.txt</td>\n      <td>nazariy.melnychuk9@gmail.com</td>\n      <td>🇺🇦❌Очередной фейк укропропаганды  Укропаблики ...</td>\n      <td>7</td>\n      <td>очередной фейк укропропаганды  укропаблики сег...</td>\n      <td>[очередной, фейк, укропропаганды,  , укропабли...</td>\n    </tr>\n    <tr>\n      <th>2494</th>\n      <td>3615</td>\n      <td>ні, оцінка не присутня</td>\n      <td>ні</td>\n      <td>так</td>\n      <td>row_993.txt</td>\n      <td>tutovadesign@gmail.com</td>\n      <td>⚡️Путин: Нам нужно ответить на вопрос, который...</td>\n      <td>5</td>\n      <td>путин: нам нужно ответить на вопрос, который п...</td>\n      <td>[путин, :, нам, нужный, ответить, на, вопрос, ...</td>\n    </tr>\n    <tr>\n      <th>2495</th>\n      <td>3613</td>\n      <td>ні, оцінка не присутня</td>\n      <td>ні</td>\n      <td>так</td>\n      <td>row_995.txt</td>\n      <td>tutovadesign@gmail.com</td>\n      <td>Утренний брифинг Минобороны России:  ▪️ россий...</td>\n      <td>5</td>\n      <td>утренний брифинг минобороны россии:   российск...</td>\n      <td>[утренний, брифинг, минобороны, россия, :,   ,...</td>\n    </tr>\n    <tr>\n      <th>2496</th>\n      <td>3612</td>\n      <td>так, присутня негативна</td>\n      <td>ні</td>\n      <td>так</td>\n      <td>row_996.txt</td>\n      <td>tutovadesign@gmail.com</td>\n      <td>И понеслась мазепинщино-петлюровщино-бандеровщ...</td>\n      <td>5</td>\n      <td>и понеслась мазепинщино-петлюровщино-бандеровщ...</td>\n      <td>[и, понестись, мазепинщино, -, петлюровщино, -...</td>\n    </tr>\n    <tr>\n      <th>2497</th>\n      <td>4121</td>\n      <td>так, присутня негативна</td>\n      <td>ні</td>\n      <td>так</td>\n      <td>row_997.txt</td>\n      <td>yevhen.marchenko91@gmail.com</td>\n      <td>Наш соратник по русскому движению Алексей Сели...</td>\n      <td>3</td>\n      <td>наш соратник по русскому движению алексей сели...</td>\n      <td>[наш, соратник, по, русский, движение, алексей...</td>\n    </tr>\n  </tbody>\n</table>\n<p>880 rows × 10 columns</p>\n</div>"
     },
     "execution_count": 30,
     "metadata": {},
     "output_type": "execute_result"
    }
   ],
   "source": [
    "df_mentions_negative_class = df_mentions[df_mentions['Dehumanization']=='ні'].copy()\n",
    "df_mentions_negative_class"
   ],
   "metadata": {
    "collapsed": false,
    "pycharm": {
     "name": "#%%\n"
    }
   }
  },
  {
   "cell_type": "code",
   "execution_count": 32,
   "outputs": [
    {
     "name": "stdout",
     "output_type": "stream",
     "text": [
      "CPU times: user 1.94 s, sys: 15 ms, total: 1.95 s\n",
      "Wall time: 1.97 s\n"
     ]
    }
   ],
   "source": [
    "%%time\n",
    "df_mentions_negative_class['found_ukrainians'] = df_mentions_negative_class['text_clean'].apply(check_words_in_text, words_to_check_normal_forms=ukrainians_norm_to_insert)"
   ],
   "metadata": {
    "collapsed": false,
    "pycharm": {
     "name": "#%%\n"
    }
   }
  },
  {
   "cell_type": "code",
   "execution_count": 33,
   "outputs": [
    {
     "data": {
      "text/plain": "      index                  Emotion Dehumanization Mention   External ID  \\\n3      3247   ні, оцінка не присутня             ні     так  row_1000.txt   \n4      3246   ні, оцінка не присутня             ні     так  row_1001.txt   \n8      3240   ні, оцінка не присутня             ні     так  row_1007.txt   \n10     3238   ні, оцінка не присутня             ні     так  row_1009.txt   \n12     3288   ні, оцінка не присутня             ні     так  row_1011.txt   \n...     ...                      ...            ...     ...           ...   \n2490   2402  так, присутня негативна             ні     так    row_99.txt   \n2494   3615   ні, оцінка не присутня             ні     так   row_993.txt   \n2495   3613   ні, оцінка не присутня             ні     так   row_995.txt   \n2496   3612  так, присутня негативна             ні     так   row_996.txt   \n2497   4121  так, присутня негативна             ні     так   row_997.txt   \n\n                        Created By  \\\n3           tutovadesign@gmail.com   \n4           tutovadesign@gmail.com   \n8           tutovadesign@gmail.com   \n10          tutovadesign@gmail.com   \n12          tutovadesign@gmail.com   \n...                            ...   \n2490  nazariy.melnychuk9@gmail.com   \n2494        tutovadesign@gmail.com   \n2495        tutovadesign@gmail.com   \n2496        tutovadesign@gmail.com   \n2497  yevhen.marchenko91@gmail.com   \n\n                                                   text  rating  \\\n3     ВСУшники, переходите на сторону добра, у нас т...       5   \n4     Наши ребята столкнулись с полком «Азов» и морс...       5   \n8     ⚡️ВСУ нанесли артиллерийский удар по больнице ...       5   \n10    Применение Коллективных сил Организации Догово...       5   \n12    В этом списке есть Кум, есть уважаемые партнер...       5   \n...                                                 ...     ...   \n2490  🇺🇦❌Очередной фейк укропропаганды  Укропаблики ...       7   \n2494  ⚡️Путин: Нам нужно ответить на вопрос, который...       5   \n2495  Утренний брифинг Минобороны России:  ▪️ россий...       5   \n2496  И понеслась мазепинщино-петлюровщино-бандеровщ...       5   \n2497  Наш соратник по русскому движению Алексей Сели...       3   \n\n                                             text_clean  \\\n3     всушники, переходите на сторону добра, у нас т...   \n4     наши ребята столкнулись с полком азов и морско...   \n8     всу нанесли артиллерийский удар по больнице в ...   \n10    применение коллективных сил организации догово...   \n12    в этом списке есть кум, есть уважаемые партнер...   \n...                                                 ...   \n2490  очередной фейк укропропаганды  укропаблики сег...   \n2494  путин: нам нужно ответить на вопрос, который п...   \n2495  утренний брифинг минобороны россии:   российск...   \n2496  и понеслась мазепинщино-петлюровщино-бандеровщ...   \n2497  наш соратник по русскому движению алексей сели...   \n\n                                        text_lemmatized  \\\n3     [всушники, ,, переходить, на, сторона, добро, ...   \n4     [наш, ребята, столкнуться, с, полок, азов, и, ...   \n8     [всу, нанести, артиллерийский, удар, по, больн...   \n10    [применение, коллективный, сила, организация, ...   \n12    [в, этот, список, быть, кум, ,, быть, уважаемы...   \n...                                                 ...   \n2490  [очередной, фейк, укропропаганды,  , укропабли...   \n2494  [путин, :, нам, нужный, ответить, на, вопрос, ...   \n2495  [утренний, брифинг, минобороны, россия, :,   ,...   \n2496  [и, понестись, мазепинщино, -, петлюровщино, -...   \n2497  [наш, соратник, по, русский, движение, алексей...   \n\n                                       found_ukrainians  \n3     [{'lemma': 'всушник', 'position': 0, 'morph_fo...  \n4     [{'lemma': 'всу', 'position': 9, 'morph_form':...  \n8     [{'lemma': 'всу', 'position': 0, 'morph_form':...  \n10                                                   []  \n12                                                   []  \n...                                                 ...  \n2490                                                 []  \n2494                                                 []  \n2495                                                 []  \n2496                                                 []  \n2497  [{'lemma': 'укроп', 'position': 27, 'morph_for...  \n\n[880 rows x 11 columns]",
      "text/html": "<div>\n<style scoped>\n    .dataframe tbody tr th:only-of-type {\n        vertical-align: middle;\n    }\n\n    .dataframe tbody tr th {\n        vertical-align: top;\n    }\n\n    .dataframe thead th {\n        text-align: right;\n    }\n</style>\n<table border=\"1\" class=\"dataframe\">\n  <thead>\n    <tr style=\"text-align: right;\">\n      <th></th>\n      <th>index</th>\n      <th>Emotion</th>\n      <th>Dehumanization</th>\n      <th>Mention</th>\n      <th>External ID</th>\n      <th>Created By</th>\n      <th>text</th>\n      <th>rating</th>\n      <th>text_clean</th>\n      <th>text_lemmatized</th>\n      <th>found_ukrainians</th>\n    </tr>\n  </thead>\n  <tbody>\n    <tr>\n      <th>3</th>\n      <td>3247</td>\n      <td>ні, оцінка не присутня</td>\n      <td>ні</td>\n      <td>так</td>\n      <td>row_1000.txt</td>\n      <td>tutovadesign@gmail.com</td>\n      <td>ВСУшники, переходите на сторону добра, у нас т...</td>\n      <td>5</td>\n      <td>всушники, переходите на сторону добра, у нас т...</td>\n      <td>[всушники, ,, переходить, на, сторона, добро, ...</td>\n      <td>[{'lemma': 'всушник', 'position': 0, 'morph_fo...</td>\n    </tr>\n    <tr>\n      <th>4</th>\n      <td>3246</td>\n      <td>ні, оцінка не присутня</td>\n      <td>ні</td>\n      <td>так</td>\n      <td>row_1001.txt</td>\n      <td>tutovadesign@gmail.com</td>\n      <td>Наши ребята столкнулись с полком «Азов» и морс...</td>\n      <td>5</td>\n      <td>наши ребята столкнулись с полком азов и морско...</td>\n      <td>[наш, ребята, столкнуться, с, полок, азов, и, ...</td>\n      <td>[{'lemma': 'всу', 'position': 9, 'morph_form':...</td>\n    </tr>\n    <tr>\n      <th>8</th>\n      <td>3240</td>\n      <td>ні, оцінка не присутня</td>\n      <td>ні</td>\n      <td>так</td>\n      <td>row_1007.txt</td>\n      <td>tutovadesign@gmail.com</td>\n      <td>⚡️ВСУ нанесли артиллерийский удар по больнице ...</td>\n      <td>5</td>\n      <td>всу нанесли артиллерийский удар по больнице в ...</td>\n      <td>[всу, нанести, артиллерийский, удар, по, больн...</td>\n      <td>[{'lemma': 'всу', 'position': 0, 'morph_form':...</td>\n    </tr>\n    <tr>\n      <th>10</th>\n      <td>3238</td>\n      <td>ні, оцінка не присутня</td>\n      <td>ні</td>\n      <td>так</td>\n      <td>row_1009.txt</td>\n      <td>tutovadesign@gmail.com</td>\n      <td>Применение Коллективных сил Организации Догово...</td>\n      <td>5</td>\n      <td>применение коллективных сил организации догово...</td>\n      <td>[применение, коллективный, сила, организация, ...</td>\n      <td>[]</td>\n    </tr>\n    <tr>\n      <th>12</th>\n      <td>3288</td>\n      <td>ні, оцінка не присутня</td>\n      <td>ні</td>\n      <td>так</td>\n      <td>row_1011.txt</td>\n      <td>tutovadesign@gmail.com</td>\n      <td>В этом списке есть Кум, есть уважаемые партнер...</td>\n      <td>5</td>\n      <td>в этом списке есть кум, есть уважаемые партнер...</td>\n      <td>[в, этот, список, быть, кум, ,, быть, уважаемы...</td>\n      <td>[]</td>\n    </tr>\n    <tr>\n      <th>...</th>\n      <td>...</td>\n      <td>...</td>\n      <td>...</td>\n      <td>...</td>\n      <td>...</td>\n      <td>...</td>\n      <td>...</td>\n      <td>...</td>\n      <td>...</td>\n      <td>...</td>\n      <td>...</td>\n    </tr>\n    <tr>\n      <th>2490</th>\n      <td>2402</td>\n      <td>так, присутня негативна</td>\n      <td>ні</td>\n      <td>так</td>\n      <td>row_99.txt</td>\n      <td>nazariy.melnychuk9@gmail.com</td>\n      <td>🇺🇦❌Очередной фейк укропропаганды  Укропаблики ...</td>\n      <td>7</td>\n      <td>очередной фейк укропропаганды  укропаблики сег...</td>\n      <td>[очередной, фейк, укропропаганды,  , укропабли...</td>\n      <td>[]</td>\n    </tr>\n    <tr>\n      <th>2494</th>\n      <td>3615</td>\n      <td>ні, оцінка не присутня</td>\n      <td>ні</td>\n      <td>так</td>\n      <td>row_993.txt</td>\n      <td>tutovadesign@gmail.com</td>\n      <td>⚡️Путин: Нам нужно ответить на вопрос, который...</td>\n      <td>5</td>\n      <td>путин: нам нужно ответить на вопрос, который п...</td>\n      <td>[путин, :, нам, нужный, ответить, на, вопрос, ...</td>\n      <td>[]</td>\n    </tr>\n    <tr>\n      <th>2495</th>\n      <td>3613</td>\n      <td>ні, оцінка не присутня</td>\n      <td>ні</td>\n      <td>так</td>\n      <td>row_995.txt</td>\n      <td>tutovadesign@gmail.com</td>\n      <td>Утренний брифинг Минобороны России:  ▪️ россий...</td>\n      <td>5</td>\n      <td>утренний брифинг минобороны россии:   российск...</td>\n      <td>[утренний, брифинг, минобороны, россия, :,   ,...</td>\n      <td>[]</td>\n    </tr>\n    <tr>\n      <th>2496</th>\n      <td>3612</td>\n      <td>так, присутня негативна</td>\n      <td>ні</td>\n      <td>так</td>\n      <td>row_996.txt</td>\n      <td>tutovadesign@gmail.com</td>\n      <td>И понеслась мазепинщино-петлюровщино-бандеровщ...</td>\n      <td>5</td>\n      <td>и понеслась мазепинщино-петлюровщино-бандеровщ...</td>\n      <td>[и, понестись, мазепинщино, -, петлюровщино, -...</td>\n      <td>[]</td>\n    </tr>\n    <tr>\n      <th>2497</th>\n      <td>4121</td>\n      <td>так, присутня негативна</td>\n      <td>ні</td>\n      <td>так</td>\n      <td>row_997.txt</td>\n      <td>yevhen.marchenko91@gmail.com</td>\n      <td>Наш соратник по русскому движению Алексей Сели...</td>\n      <td>3</td>\n      <td>наш соратник по русскому движению алексей сели...</td>\n      <td>[наш, соратник, по, русский, движение, алексей...</td>\n      <td>[{'lemma': 'укроп', 'position': 27, 'morph_for...</td>\n    </tr>\n  </tbody>\n</table>\n<p>880 rows × 11 columns</p>\n</div>"
     },
     "execution_count": 33,
     "metadata": {},
     "output_type": "execute_result"
    }
   ],
   "source": [
    "df_mentions_negative_class"
   ],
   "metadata": {
    "collapsed": false,
    "pycharm": {
     "name": "#%%\n"
    }
   }
  },
  {
   "cell_type": "code",
   "execution_count": 34,
   "outputs": [],
   "source": [
    "def replace_words(text, found_words, parsed_replacements):\n",
    "    if not found_words:\n",
    "        return text\n",
    "\n",
    "    words = word_tokenize(text, language='russian')\n",
    "    replaced_words = []\n",
    "    found_positions = [word_info['position'] for word_info in found_words]\n",
    "\n",
    "    for position, word in enumerate(words):\n",
    "        if position in found_positions:\n",
    "            word_info = found_words[found_positions.index(position)]\n",
    "            grammemes = {g.lower() for g in word_info['grammemes']}  # Convert grammemes to lowercase\n",
    "            grammemes = filter_unknown_grammemes(parsed_replacements[0], grammemes)  # Filter out unknown grammemes\n",
    "\n",
    "            for _ in range(len(parsed_replacements)):\n",
    "                replacement_parsed = random.choice(parsed_replacements)  # Randomly choose a replacement word\n",
    "                inflected_word_obj = replacement_parsed.inflect(grammemes)\n",
    "\n",
    "                if inflected_word_obj is not None:\n",
    "                    inflected_word = inflected_word_obj.word\n",
    "                    replaced_words.append(inflected_word)\n",
    "                    word_info['replacement_word'] = inflected_word\n",
    "                    break\n",
    "        else:\n",
    "            replaced_words.append(word)\n",
    "\n",
    "    replaced_text = ' '.join(replaced_words)\n",
    "    return remove_extra_spaces(replaced_text)"
   ],
   "metadata": {
    "collapsed": false,
    "pycharm": {
     "name": "#%%\n"
    }
   }
  },
  {
   "cell_type": "code",
   "execution_count": 36,
   "outputs": [
    {
     "name": "stdout",
     "output_type": "stream",
     "text": [
      "CPU times: user 119 ms, sys: 4.22 ms, total: 124 ms\n",
      "Wall time: 130 ms\n"
     ]
    }
   ],
   "source": [
    "%%time\n",
    "df_mentions_negative_class['replaced_neutral_sent_ukrainians'] = df_mentions_negative_class.apply(lambda row: replace_words(row['text_clean'], row['found_ukrainians'],parsed_replacements_ukrainians), axis=1)"
   ],
   "metadata": {
    "collapsed": false,
    "pycharm": {
     "name": "#%%\n"
    }
   }
  },
  {
   "cell_type": "code",
   "execution_count": 37,
   "outputs": [
    {
     "data": {
      "text/plain": "      index                  Emotion Dehumanization Mention   External ID  \\\n3      3247   ні, оцінка не присутня             ні     так  row_1000.txt   \n4      3246   ні, оцінка не присутня             ні     так  row_1001.txt   \n8      3240   ні, оцінка не присутня             ні     так  row_1007.txt   \n10     3238   ні, оцінка не присутня             ні     так  row_1009.txt   \n12     3288   ні, оцінка не присутня             ні     так  row_1011.txt   \n...     ...                      ...            ...     ...           ...   \n2490   2402  так, присутня негативна             ні     так    row_99.txt   \n2494   3615   ні, оцінка не присутня             ні     так   row_993.txt   \n2495   3613   ні, оцінка не присутня             ні     так   row_995.txt   \n2496   3612  так, присутня негативна             ні     так   row_996.txt   \n2497   4121  так, присутня негативна             ні     так   row_997.txt   \n\n                        Created By  \\\n3           tutovadesign@gmail.com   \n4           tutovadesign@gmail.com   \n8           tutovadesign@gmail.com   \n10          tutovadesign@gmail.com   \n12          tutovadesign@gmail.com   \n...                            ...   \n2490  nazariy.melnychuk9@gmail.com   \n2494        tutovadesign@gmail.com   \n2495        tutovadesign@gmail.com   \n2496        tutovadesign@gmail.com   \n2497  yevhen.marchenko91@gmail.com   \n\n                                                   text  rating  \\\n3     ВСУшники, переходите на сторону добра, у нас т...       5   \n4     Наши ребята столкнулись с полком «Азов» и морс...       5   \n8     ⚡️ВСУ нанесли артиллерийский удар по больнице ...       5   \n10    Применение Коллективных сил Организации Догово...       5   \n12    В этом списке есть Кум, есть уважаемые партнер...       5   \n...                                                 ...     ...   \n2490  🇺🇦❌Очередной фейк укропропаганды  Укропаблики ...       7   \n2494  ⚡️Путин: Нам нужно ответить на вопрос, который...       5   \n2495  Утренний брифинг Минобороны России:  ▪️ россий...       5   \n2496  И понеслась мазепинщино-петлюровщино-бандеровщ...       5   \n2497  Наш соратник по русскому движению Алексей Сели...       3   \n\n                                             text_clean  \\\n3     всушники, переходите на сторону добра, у нас т...   \n4     наши ребята столкнулись с полком азов и морско...   \n8     всу нанесли артиллерийский удар по больнице в ...   \n10    применение коллективных сил организации догово...   \n12    в этом списке есть кум, есть уважаемые партнер...   \n...                                                 ...   \n2490  очередной фейк укропропаганды  укропаблики сег...   \n2494  путин: нам нужно ответить на вопрос, который п...   \n2495  утренний брифинг минобороны россии:   российск...   \n2496  и понеслась мазепинщино-петлюровщино-бандеровщ...   \n2497  наш соратник по русскому движению алексей сели...   \n\n                                        text_lemmatized  \\\n3     [всушники, ,, переходить, на, сторона, добро, ...   \n4     [наш, ребята, столкнуться, с, полок, азов, и, ...   \n8     [всу, нанести, артиллерийский, удар, по, больн...   \n10    [применение, коллективный, сила, организация, ...   \n12    [в, этот, список, быть, кум, ,, быть, уважаемы...   \n...                                                 ...   \n2490  [очередной, фейк, укропропаганды,  , укропабли...   \n2494  [путин, :, нам, нужный, ответить, на, вопрос, ...   \n2495  [утренний, брифинг, минобороны, россия, :,   ,...   \n2496  [и, понестись, мазепинщино, -, петлюровщино, -...   \n2497  [наш, соратник, по, русский, движение, алексей...   \n\n                                       found_ukrainians  \\\n3     [{'lemma': 'всушник', 'position': 0, 'morph_fo...   \n4     [{'lemma': 'всу', 'position': 9, 'morph_form':...   \n8     [{'lemma': 'всу', 'position': 0, 'morph_form':...   \n10                                                   []   \n12                                                   []   \n...                                                 ...   \n2490                                                 []   \n2494                                                 []   \n2495                                                 []   \n2496                                                 []   \n2497  [{'lemma': 'укроп', 'position': 27, 'morph_for...   \n\n                       replaced_neutral_sent_ukrainians  \n3     украинцы, переходите на сторону добра, у нас т...  \n4     наши ребята столкнулись с полком азов и морско...  \n8     украинцы нанесли артиллерийский удар по больни...  \n10    применение коллективных сил организации догово...  \n12    в этом списке есть кум, есть уважаемые партнер...  \n...                                                 ...  \n2490  очередной фейк укропропаганды  укропаблики сег...  \n2494  путин: нам нужно ответить на вопрос, который п...  \n2495  утренний брифинг минобороны россии:   российск...  \n2496  и понеслась мазепинщино-петлюровщино-бандеровщ...  \n2497  наш соратник по русскому движению алексей сели...  \n\n[880 rows x 12 columns]",
      "text/html": "<div>\n<style scoped>\n    .dataframe tbody tr th:only-of-type {\n        vertical-align: middle;\n    }\n\n    .dataframe tbody tr th {\n        vertical-align: top;\n    }\n\n    .dataframe thead th {\n        text-align: right;\n    }\n</style>\n<table border=\"1\" class=\"dataframe\">\n  <thead>\n    <tr style=\"text-align: right;\">\n      <th></th>\n      <th>index</th>\n      <th>Emotion</th>\n      <th>Dehumanization</th>\n      <th>Mention</th>\n      <th>External ID</th>\n      <th>Created By</th>\n      <th>text</th>\n      <th>rating</th>\n      <th>text_clean</th>\n      <th>text_lemmatized</th>\n      <th>found_ukrainians</th>\n      <th>replaced_neutral_sent_ukrainians</th>\n    </tr>\n  </thead>\n  <tbody>\n    <tr>\n      <th>3</th>\n      <td>3247</td>\n      <td>ні, оцінка не присутня</td>\n      <td>ні</td>\n      <td>так</td>\n      <td>row_1000.txt</td>\n      <td>tutovadesign@gmail.com</td>\n      <td>ВСУшники, переходите на сторону добра, у нас т...</td>\n      <td>5</td>\n      <td>всушники, переходите на сторону добра, у нас т...</td>\n      <td>[всушники, ,, переходить, на, сторона, добро, ...</td>\n      <td>[{'lemma': 'всушник', 'position': 0, 'morph_fo...</td>\n      <td>украинцы, переходите на сторону добра, у нас т...</td>\n    </tr>\n    <tr>\n      <th>4</th>\n      <td>3246</td>\n      <td>ні, оцінка не присутня</td>\n      <td>ні</td>\n      <td>так</td>\n      <td>row_1001.txt</td>\n      <td>tutovadesign@gmail.com</td>\n      <td>Наши ребята столкнулись с полком «Азов» и морс...</td>\n      <td>5</td>\n      <td>наши ребята столкнулись с полком азов и морско...</td>\n      <td>[наш, ребята, столкнуться, с, полок, азов, и, ...</td>\n      <td>[{'lemma': 'всу', 'position': 9, 'morph_form':...</td>\n      <td>наши ребята столкнулись с полком азов и морско...</td>\n    </tr>\n    <tr>\n      <th>8</th>\n      <td>3240</td>\n      <td>ні, оцінка не присутня</td>\n      <td>ні</td>\n      <td>так</td>\n      <td>row_1007.txt</td>\n      <td>tutovadesign@gmail.com</td>\n      <td>⚡️ВСУ нанесли артиллерийский удар по больнице ...</td>\n      <td>5</td>\n      <td>всу нанесли артиллерийский удар по больнице в ...</td>\n      <td>[всу, нанести, артиллерийский, удар, по, больн...</td>\n      <td>[{'lemma': 'всу', 'position': 0, 'morph_form':...</td>\n      <td>украинцы нанесли артиллерийский удар по больни...</td>\n    </tr>\n    <tr>\n      <th>10</th>\n      <td>3238</td>\n      <td>ні, оцінка не присутня</td>\n      <td>ні</td>\n      <td>так</td>\n      <td>row_1009.txt</td>\n      <td>tutovadesign@gmail.com</td>\n      <td>Применение Коллективных сил Организации Догово...</td>\n      <td>5</td>\n      <td>применение коллективных сил организации догово...</td>\n      <td>[применение, коллективный, сила, организация, ...</td>\n      <td>[]</td>\n      <td>применение коллективных сил организации догово...</td>\n    </tr>\n    <tr>\n      <th>12</th>\n      <td>3288</td>\n      <td>ні, оцінка не присутня</td>\n      <td>ні</td>\n      <td>так</td>\n      <td>row_1011.txt</td>\n      <td>tutovadesign@gmail.com</td>\n      <td>В этом списке есть Кум, есть уважаемые партнер...</td>\n      <td>5</td>\n      <td>в этом списке есть кум, есть уважаемые партнер...</td>\n      <td>[в, этот, список, быть, кум, ,, быть, уважаемы...</td>\n      <td>[]</td>\n      <td>в этом списке есть кум, есть уважаемые партнер...</td>\n    </tr>\n    <tr>\n      <th>...</th>\n      <td>...</td>\n      <td>...</td>\n      <td>...</td>\n      <td>...</td>\n      <td>...</td>\n      <td>...</td>\n      <td>...</td>\n      <td>...</td>\n      <td>...</td>\n      <td>...</td>\n      <td>...</td>\n      <td>...</td>\n    </tr>\n    <tr>\n      <th>2490</th>\n      <td>2402</td>\n      <td>так, присутня негативна</td>\n      <td>ні</td>\n      <td>так</td>\n      <td>row_99.txt</td>\n      <td>nazariy.melnychuk9@gmail.com</td>\n      <td>🇺🇦❌Очередной фейк укропропаганды  Укропаблики ...</td>\n      <td>7</td>\n      <td>очередной фейк укропропаганды  укропаблики сег...</td>\n      <td>[очередной, фейк, укропропаганды,  , укропабли...</td>\n      <td>[]</td>\n      <td>очередной фейк укропропаганды  укропаблики сег...</td>\n    </tr>\n    <tr>\n      <th>2494</th>\n      <td>3615</td>\n      <td>ні, оцінка не присутня</td>\n      <td>ні</td>\n      <td>так</td>\n      <td>row_993.txt</td>\n      <td>tutovadesign@gmail.com</td>\n      <td>⚡️Путин: Нам нужно ответить на вопрос, который...</td>\n      <td>5</td>\n      <td>путин: нам нужно ответить на вопрос, который п...</td>\n      <td>[путин, :, нам, нужный, ответить, на, вопрос, ...</td>\n      <td>[]</td>\n      <td>путин: нам нужно ответить на вопрос, который п...</td>\n    </tr>\n    <tr>\n      <th>2495</th>\n      <td>3613</td>\n      <td>ні, оцінка не присутня</td>\n      <td>ні</td>\n      <td>так</td>\n      <td>row_995.txt</td>\n      <td>tutovadesign@gmail.com</td>\n      <td>Утренний брифинг Минобороны России:  ▪️ россий...</td>\n      <td>5</td>\n      <td>утренний брифинг минобороны россии:   российск...</td>\n      <td>[утренний, брифинг, минобороны, россия, :,   ,...</td>\n      <td>[]</td>\n      <td>утренний брифинг минобороны россии:   российск...</td>\n    </tr>\n    <tr>\n      <th>2496</th>\n      <td>3612</td>\n      <td>так, присутня негативна</td>\n      <td>ні</td>\n      <td>так</td>\n      <td>row_996.txt</td>\n      <td>tutovadesign@gmail.com</td>\n      <td>И понеслась мазепинщино-петлюровщино-бандеровщ...</td>\n      <td>5</td>\n      <td>и понеслась мазепинщино-петлюровщино-бандеровщ...</td>\n      <td>[и, понестись, мазепинщино, -, петлюровщино, -...</td>\n      <td>[]</td>\n      <td>и понеслась мазепинщино-петлюровщино-бандеровщ...</td>\n    </tr>\n    <tr>\n      <th>2497</th>\n      <td>4121</td>\n      <td>так, присутня негативна</td>\n      <td>ні</td>\n      <td>так</td>\n      <td>row_997.txt</td>\n      <td>yevhen.marchenko91@gmail.com</td>\n      <td>Наш соратник по русскому движению Алексей Сели...</td>\n      <td>3</td>\n      <td>наш соратник по русскому движению алексей сели...</td>\n      <td>[наш, соратник, по, русский, движение, алексей...</td>\n      <td>[{'lemma': 'укроп', 'position': 27, 'morph_for...</td>\n      <td>наш соратник по русскому движению алексей сели...</td>\n    </tr>\n  </tbody>\n</table>\n<p>880 rows × 12 columns</p>\n</div>"
     },
     "execution_count": 37,
     "metadata": {},
     "output_type": "execute_result"
    }
   ],
   "source": [
    "df_mentions_negative_class"
   ],
   "metadata": {
    "collapsed": false,
    "pycharm": {
     "name": "#%%\n"
    }
   }
  },
  {
   "cell_type": "code",
   "execution_count": 39,
   "outputs": [],
   "source": [
    "df_mentions_negative_class.to_csv('/Users/katerynaburovova/PycharmProjects/dehumanization/augmentation/augm_neutal_in_class.csv')"
   ],
   "metadata": {
    "collapsed": false,
    "pycharm": {
     "name": "#%%\n"
    }
   }
  },
  {
   "cell_type": "code",
   "execution_count": 4,
   "outputs": [
    {
     "data": {
      "text/plain": "880"
     },
     "execution_count": 4,
     "metadata": {},
     "output_type": "execute_result"
    }
   ],
   "source": [
    "len(df_mentions_negative_class)"
   ],
   "metadata": {
    "collapsed": false,
    "pycharm": {
     "name": "#%%\n"
    }
   }
  },
  {
   "cell_type": "code",
   "execution_count": 5,
   "outputs": [
    {
     "data": {
      "text/plain": "     Unnamed: 0  index                  Emotion Dehumanization Mention  \\\n0             3   3247   ні, оцінка не присутня             ні     так   \n1             4   3246   ні, оцінка не присутня             ні     так   \n2             8   3240   ні, оцінка не присутня             ні     так   \n3            10   3238   ні, оцінка не присутня             ні     так   \n4            12   3288   ні, оцінка не присутня             ні     так   \n..          ...    ...                      ...            ...     ...   \n875        2490   2402  так, присутня негативна             ні     так   \n876        2494   3615   ні, оцінка не присутня             ні     так   \n877        2495   3613   ні, оцінка не присутня             ні     так   \n878        2496   3612  так, присутня негативна             ні     так   \n879        2497   4121  так, присутня негативна             ні     так   \n\n      External ID                    Created By  \\\n0    row_1000.txt        tutovadesign@gmail.com   \n1    row_1001.txt        tutovadesign@gmail.com   \n2    row_1007.txt        tutovadesign@gmail.com   \n3    row_1009.txt        tutovadesign@gmail.com   \n4    row_1011.txt        tutovadesign@gmail.com   \n..            ...                           ...   \n875    row_99.txt  nazariy.melnychuk9@gmail.com   \n876   row_993.txt        tutovadesign@gmail.com   \n877   row_995.txt        tutovadesign@gmail.com   \n878   row_996.txt        tutovadesign@gmail.com   \n879   row_997.txt  yevhen.marchenko91@gmail.com   \n\n                                                  text  rating  \\\n0    ВСУшники, переходите на сторону добра, у нас т...       5   \n1    Наши ребята столкнулись с полком «Азов» и морс...       5   \n2    ⚡️ВСУ нанесли артиллерийский удар по больнице ...       5   \n3    Применение Коллективных сил Организации Догово...       5   \n4    В этом списке есть Кум, есть уважаемые партнер...       5   \n..                                                 ...     ...   \n875  🇺🇦❌Очередной фейк укропропаганды  Укропаблики ...       7   \n876  ⚡️Путин: Нам нужно ответить на вопрос, который...       5   \n877  Утренний брифинг Минобороны России:  ▪️ россий...       5   \n878  И понеслась мазепинщино-петлюровщино-бандеровщ...       5   \n879  Наш соратник по русскому движению Алексей Сели...       3   \n\n                                            text_clean  \\\n0    всушники, переходите на сторону добра, у нас т...   \n1    наши ребята столкнулись с полком азов и морско...   \n2    всу нанесли артиллерийский удар по больнице в ...   \n3    применение коллективных сил организации догово...   \n4    в этом списке есть кум, есть уважаемые партнер...   \n..                                                 ...   \n875  очередной фейк укропропаганды  укропаблики сег...   \n876  путин: нам нужно ответить на вопрос, который п...   \n877  утренний брифинг минобороны россии:   российск...   \n878  и понеслась мазепинщино-петлюровщино-бандеровщ...   \n879  наш соратник по русскому движению алексей сели...   \n\n                                       text_lemmatized  \\\n0    ['всушники', ',', 'переходить', 'на', 'сторона...   \n1    ['наш', 'ребята', 'столкнуться', 'с', 'полок',...   \n2    ['всу', 'нанести', 'артиллерийский', 'удар', '...   \n3    ['применение', 'коллективный', 'сила', 'органи...   \n4    ['в', 'этот', 'список', 'быть', 'кум', ',', 'б...   \n..                                                 ...   \n875  ['очередной', 'фейк', 'укропропаганды', ' ', '...   \n876  ['путин', ':', 'нам', 'нужный', 'ответить', 'н...   \n877  ['утренний', 'брифинг', 'минобороны', 'россия'...   \n878  ['и', 'понестись', 'мазепинщино', '-', 'петлюр...   \n879  ['наш', 'соратник', 'по', 'русский', 'движение...   \n\n                                      found_ukrainians  \\\n0    [{'lemma': 'всушник', 'position': 0, 'morph_fo...   \n1    [{'lemma': 'всу', 'position': 9, 'morph_form':...   \n2    [{'lemma': 'всу', 'position': 0, 'morph_form':...   \n3                                                   []   \n4                                                   []   \n..                                                 ...   \n875                                                 []   \n876                                                 []   \n877                                                 []   \n878                                                 []   \n879  [{'lemma': 'укроп', 'position': 27, 'morph_for...   \n\n                      replaced_neutral_sent_ukrainians  \n0    украинцы, переходите на сторону добра, у нас т...  \n1    наши ребята столкнулись с полком азов и морско...  \n2    украинцы нанесли артиллерийский удар по больни...  \n3    применение коллективных сил организации догово...  \n4    в этом списке есть кум, есть уважаемые партнер...  \n..                                                 ...  \n875  очередной фейк укропропаганды  укропаблики сег...  \n876  путин: нам нужно ответить на вопрос, который п...  \n877  утренний брифинг минобороны россии:   российск...  \n878  и понеслась мазепинщино-петлюровщино-бандеровщ...  \n879  наш соратник по русскому движению алексей сели...  \n\n[880 rows x 13 columns]",
      "text/html": "<div>\n<style scoped>\n    .dataframe tbody tr th:only-of-type {\n        vertical-align: middle;\n    }\n\n    .dataframe tbody tr th {\n        vertical-align: top;\n    }\n\n    .dataframe thead th {\n        text-align: right;\n    }\n</style>\n<table border=\"1\" class=\"dataframe\">\n  <thead>\n    <tr style=\"text-align: right;\">\n      <th></th>\n      <th>Unnamed: 0</th>\n      <th>index</th>\n      <th>Emotion</th>\n      <th>Dehumanization</th>\n      <th>Mention</th>\n      <th>External ID</th>\n      <th>Created By</th>\n      <th>text</th>\n      <th>rating</th>\n      <th>text_clean</th>\n      <th>text_lemmatized</th>\n      <th>found_ukrainians</th>\n      <th>replaced_neutral_sent_ukrainians</th>\n    </tr>\n  </thead>\n  <tbody>\n    <tr>\n      <th>0</th>\n      <td>3</td>\n      <td>3247</td>\n      <td>ні, оцінка не присутня</td>\n      <td>ні</td>\n      <td>так</td>\n      <td>row_1000.txt</td>\n      <td>tutovadesign@gmail.com</td>\n      <td>ВСУшники, переходите на сторону добра, у нас т...</td>\n      <td>5</td>\n      <td>всушники, переходите на сторону добра, у нас т...</td>\n      <td>['всушники', ',', 'переходить', 'на', 'сторона...</td>\n      <td>[{'lemma': 'всушник', 'position': 0, 'morph_fo...</td>\n      <td>украинцы, переходите на сторону добра, у нас т...</td>\n    </tr>\n    <tr>\n      <th>1</th>\n      <td>4</td>\n      <td>3246</td>\n      <td>ні, оцінка не присутня</td>\n      <td>ні</td>\n      <td>так</td>\n      <td>row_1001.txt</td>\n      <td>tutovadesign@gmail.com</td>\n      <td>Наши ребята столкнулись с полком «Азов» и морс...</td>\n      <td>5</td>\n      <td>наши ребята столкнулись с полком азов и морско...</td>\n      <td>['наш', 'ребята', 'столкнуться', 'с', 'полок',...</td>\n      <td>[{'lemma': 'всу', 'position': 9, 'morph_form':...</td>\n      <td>наши ребята столкнулись с полком азов и морско...</td>\n    </tr>\n    <tr>\n      <th>2</th>\n      <td>8</td>\n      <td>3240</td>\n      <td>ні, оцінка не присутня</td>\n      <td>ні</td>\n      <td>так</td>\n      <td>row_1007.txt</td>\n      <td>tutovadesign@gmail.com</td>\n      <td>⚡️ВСУ нанесли артиллерийский удар по больнице ...</td>\n      <td>5</td>\n      <td>всу нанесли артиллерийский удар по больнице в ...</td>\n      <td>['всу', 'нанести', 'артиллерийский', 'удар', '...</td>\n      <td>[{'lemma': 'всу', 'position': 0, 'morph_form':...</td>\n      <td>украинцы нанесли артиллерийский удар по больни...</td>\n    </tr>\n    <tr>\n      <th>3</th>\n      <td>10</td>\n      <td>3238</td>\n      <td>ні, оцінка не присутня</td>\n      <td>ні</td>\n      <td>так</td>\n      <td>row_1009.txt</td>\n      <td>tutovadesign@gmail.com</td>\n      <td>Применение Коллективных сил Организации Догово...</td>\n      <td>5</td>\n      <td>применение коллективных сил организации догово...</td>\n      <td>['применение', 'коллективный', 'сила', 'органи...</td>\n      <td>[]</td>\n      <td>применение коллективных сил организации догово...</td>\n    </tr>\n    <tr>\n      <th>4</th>\n      <td>12</td>\n      <td>3288</td>\n      <td>ні, оцінка не присутня</td>\n      <td>ні</td>\n      <td>так</td>\n      <td>row_1011.txt</td>\n      <td>tutovadesign@gmail.com</td>\n      <td>В этом списке есть Кум, есть уважаемые партнер...</td>\n      <td>5</td>\n      <td>в этом списке есть кум, есть уважаемые партнер...</td>\n      <td>['в', 'этот', 'список', 'быть', 'кум', ',', 'б...</td>\n      <td>[]</td>\n      <td>в этом списке есть кум, есть уважаемые партнер...</td>\n    </tr>\n    <tr>\n      <th>...</th>\n      <td>...</td>\n      <td>...</td>\n      <td>...</td>\n      <td>...</td>\n      <td>...</td>\n      <td>...</td>\n      <td>...</td>\n      <td>...</td>\n      <td>...</td>\n      <td>...</td>\n      <td>...</td>\n      <td>...</td>\n      <td>...</td>\n    </tr>\n    <tr>\n      <th>875</th>\n      <td>2490</td>\n      <td>2402</td>\n      <td>так, присутня негативна</td>\n      <td>ні</td>\n      <td>так</td>\n      <td>row_99.txt</td>\n      <td>nazariy.melnychuk9@gmail.com</td>\n      <td>🇺🇦❌Очередной фейк укропропаганды  Укропаблики ...</td>\n      <td>7</td>\n      <td>очередной фейк укропропаганды  укропаблики сег...</td>\n      <td>['очередной', 'фейк', 'укропропаганды', ' ', '...</td>\n      <td>[]</td>\n      <td>очередной фейк укропропаганды  укропаблики сег...</td>\n    </tr>\n    <tr>\n      <th>876</th>\n      <td>2494</td>\n      <td>3615</td>\n      <td>ні, оцінка не присутня</td>\n      <td>ні</td>\n      <td>так</td>\n      <td>row_993.txt</td>\n      <td>tutovadesign@gmail.com</td>\n      <td>⚡️Путин: Нам нужно ответить на вопрос, который...</td>\n      <td>5</td>\n      <td>путин: нам нужно ответить на вопрос, который п...</td>\n      <td>['путин', ':', 'нам', 'нужный', 'ответить', 'н...</td>\n      <td>[]</td>\n      <td>путин: нам нужно ответить на вопрос, который п...</td>\n    </tr>\n    <tr>\n      <th>877</th>\n      <td>2495</td>\n      <td>3613</td>\n      <td>ні, оцінка не присутня</td>\n      <td>ні</td>\n      <td>так</td>\n      <td>row_995.txt</td>\n      <td>tutovadesign@gmail.com</td>\n      <td>Утренний брифинг Минобороны России:  ▪️ россий...</td>\n      <td>5</td>\n      <td>утренний брифинг минобороны россии:   российск...</td>\n      <td>['утренний', 'брифинг', 'минобороны', 'россия'...</td>\n      <td>[]</td>\n      <td>утренний брифинг минобороны россии:   российск...</td>\n    </tr>\n    <tr>\n      <th>878</th>\n      <td>2496</td>\n      <td>3612</td>\n      <td>так, присутня негативна</td>\n      <td>ні</td>\n      <td>так</td>\n      <td>row_996.txt</td>\n      <td>tutovadesign@gmail.com</td>\n      <td>И понеслась мазепинщино-петлюровщино-бандеровщ...</td>\n      <td>5</td>\n      <td>и понеслась мазепинщино-петлюровщино-бандеровщ...</td>\n      <td>['и', 'понестись', 'мазепинщино', '-', 'петлюр...</td>\n      <td>[]</td>\n      <td>и понеслась мазепинщино-петлюровщино-бандеровщ...</td>\n    </tr>\n    <tr>\n      <th>879</th>\n      <td>2497</td>\n      <td>4121</td>\n      <td>так, присутня негативна</td>\n      <td>ні</td>\n      <td>так</td>\n      <td>row_997.txt</td>\n      <td>yevhen.marchenko91@gmail.com</td>\n      <td>Наш соратник по русскому движению Алексей Сели...</td>\n      <td>3</td>\n      <td>наш соратник по русскому движению алексей сели...</td>\n      <td>['наш', 'соратник', 'по', 'русский', 'движение...</td>\n      <td>[{'lemma': 'укроп', 'position': 27, 'morph_for...</td>\n      <td>наш соратник по русскому движению алексей сели...</td>\n    </tr>\n  </tbody>\n</table>\n<p>880 rows × 13 columns</p>\n</div>"
     },
     "execution_count": 5,
     "metadata": {},
     "output_type": "execute_result"
    }
   ],
   "source": [
    "df_mentions_negative_class"
   ],
   "metadata": {
    "collapsed": false,
    "pycharm": {
     "name": "#%%\n"
    }
   }
  },
  {
   "cell_type": "markdown",
   "source": [
    "Filtering all down to only augmented."
   ],
   "metadata": {
    "collapsed": false,
    "pycharm": {
     "name": "#%% md\n"
    }
   }
  },
  {
   "cell_type": "code",
   "execution_count": 33,
   "outputs": [],
   "source": [
    "df_mentions_negative_class['ln'] = df_mentions_negative_class.found_ukrainians.apply(lambda x: len(x))"
   ],
   "metadata": {
    "collapsed": false,
    "pycharm": {
     "name": "#%%\n"
    }
   }
  },
  {
   "cell_type": "code",
   "execution_count": 36,
   "outputs": [],
   "source": [
    "df_mentions_negative_class = df_mentions_negative_class[df_mentions_negative_class['ln']>2]"
   ],
   "metadata": {
    "collapsed": false,
    "pycharm": {
     "name": "#%%\n"
    }
   }
  },
  {
   "cell_type": "code",
   "execution_count": 39,
   "outputs": [
    {
     "data": {
      "text/plain": "409"
     },
     "execution_count": 39,
     "metadata": {},
     "output_type": "execute_result"
    }
   ],
   "source": [
    "len(df_mentions_negative_class)"
   ],
   "metadata": {
    "collapsed": false,
    "pycharm": {
     "name": "#%%\n"
    }
   }
  },
  {
   "cell_type": "code",
   "execution_count": 41,
   "outputs": [
    {
     "data": {
      "text/plain": "'украинцы, переходите на сторону добра, у нас тепло и вкусные печеньки.'"
     },
     "execution_count": 41,
     "metadata": {},
     "output_type": "execute_result"
    }
   ],
   "source": [
    "df_mentions_negative_class['replaced_neutral_sent_ukrainians'][0]"
   ],
   "metadata": {
    "collapsed": false,
    "pycharm": {
     "name": "#%%\n"
    }
   }
  },
  {
   "cell_type": "code",
   "execution_count": 40,
   "outputs": [
    {
     "data": {
      "text/plain": "'всушники, переходите на сторону добра, у нас тепло и вкусные печеньки.'"
     },
     "execution_count": 40,
     "metadata": {},
     "output_type": "execute_result"
    }
   ],
   "source": [
    "df_mentions_negative_class['text_clean'][0]"
   ],
   "metadata": {
    "collapsed": false,
    "pycharm": {
     "name": "#%%\n"
    }
   }
  },
  {
   "cell_type": "code",
   "execution_count": 44,
   "outputs": [
    {
     "data": {
      "text/plain": "'наши ребята столкнулись с полком азов и морской пехотой всу, и внезапно для меня оказалось, что вся украинская армия действительно готова воевать за бандеровские ценности.'"
     },
     "execution_count": 44,
     "metadata": {},
     "output_type": "execute_result"
    }
   ],
   "source": [
    "df_mentions_negative_class['text_clean'][1]"
   ],
   "metadata": {
    "collapsed": false,
    "pycharm": {
     "name": "#%%\n"
    }
   }
  },
  {
   "cell_type": "code",
   "execution_count": 46,
   "outputs": [
    {
     "data": {
      "text/plain": "'наши ребята столкнулись с полком азов и морской пехотой боевиков, и внезапно для меня оказалось, что вся украинская армия действительно готова воевать за бандеровские ценности.'"
     },
     "execution_count": 46,
     "metadata": {},
     "output_type": "execute_result"
    }
   ],
   "source": [
    "df_mentions_negative_class['replaced_neutral_sent_ukrainians'][1]"
   ],
   "metadata": {
    "collapsed": false,
    "pycharm": {
     "name": "#%%\n"
    }
   }
  },
  {
   "cell_type": "code",
   "execution_count": 42,
   "outputs": [
    {
     "data": {
      "text/plain": "'всу нанесли артиллерийский удар по больнице в донецке, ранены трое мирных жителей  украинские боевики обстреляли республиканскую клиническую психиатрическую больницу по ул.'"
     },
     "execution_count": 42,
     "metadata": {},
     "output_type": "execute_result"
    }
   ],
   "source": [
    "df_mentions_negative_class['text_clean'][2]"
   ],
   "metadata": {
    "collapsed": false,
    "pycharm": {
     "name": "#%%\n"
    }
   }
  },
  {
   "cell_type": "code",
   "execution_count": 43,
   "outputs": [
    {
     "data": {
      "text/plain": "'украинцы нанесли артиллерийский удар по больнице в донецке, ранены трое мирных жителей украинские всушники обстреляли республиканскую клиническую психиатрическую больницу по ул.'"
     },
     "execution_count": 43,
     "metadata": {},
     "output_type": "execute_result"
    }
   ],
   "source": [
    "df_mentions_negative_class['replaced_neutral_sent_ukrainians'][2]"
   ],
   "metadata": {
    "collapsed": false,
    "pycharm": {
     "name": "#%%\n"
    }
   }
  },
  {
   "cell_type": "code",
   "execution_count": 38,
   "outputs": [],
   "source": [
    "df_mentions_negative_class.to_csv('/Users/katerynaburovova/PycharmProjects/dehumanization/augmentation/augm_neutal_in_class_sm.csv')"
   ],
   "metadata": {
    "collapsed": false,
    "pycharm": {
     "name": "#%%\n"
    }
   }
  }
 ],
 "metadata": {
  "kernelspec": {
   "display_name": "Python 3",
   "language": "python",
   "name": "python3"
  },
  "language_info": {
   "codemirror_mode": {
    "name": "ipython",
    "version": 2
   },
   "file_extension": ".py",
   "mimetype": "text/x-python",
   "name": "python",
   "nbconvert_exporter": "python",
   "pygments_lexer": "ipython2",
   "version": "2.7.6"
  }
 },
 "nbformat": 4,
 "nbformat_minor": 0
}