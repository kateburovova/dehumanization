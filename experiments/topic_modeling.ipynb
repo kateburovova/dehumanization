{
 "cells": [
  {
   "cell_type": "markdown",
   "source": [
    "## Reading and cleaning the df"
   ],
   "metadata": {
    "collapsed": false,
    "pycharm": {
     "name": "#%% md\n"
    }
   }
  },
  {
   "cell_type": "code",
   "execution_count": 1,
   "outputs": [],
   "source": [
    "import pandas as pd"
   ],
   "metadata": {
    "collapsed": false,
    "pycharm": {
     "name": "#%%\n"
    }
   }
  },
  {
   "cell_type": "code",
   "execution_count": 2,
   "outputs": [],
   "source": [
    "df = pd.read_csv('/Users/katerynaburovova/PycharmProjects/dehumanization/annotation/dataset_v_1.csv')"
   ],
   "metadata": {
    "collapsed": false,
    "pycharm": {
     "name": "#%%\n"
    }
   }
  },
  {
   "cell_type": "code",
   "execution_count": 29,
   "outputs": [],
   "source": [
    "import warnings\n",
    "pd.options.mode.chained_assignment = None"
   ],
   "metadata": {
    "collapsed": false,
    "pycharm": {
     "name": "#%%\n"
    }
   }
  },
  {
   "cell_type": "code",
   "execution_count": 12,
   "outputs": [],
   "source": [
    "import spacy\n",
    "nlp = spacy.load('ru_core_news_md',disable=['ner', 'attribute_ruler'])\n",
    "\n",
    "def lemmatize_spacy(text):\n",
    "    doc = nlp(text)\n",
    "    result = \" \".join([token.lemma_ for token in doc])\n",
    "    return result\n"
   ],
   "metadata": {
    "collapsed": false,
    "pycharm": {
     "name": "#%%\n"
    }
   }
  },
  {
   "cell_type": "code",
   "execution_count": 13,
   "outputs": [],
   "source": [
    "cyrillic_letters = u\"абвгдеёжзийклмнопрстуфхцчшщъыьэюяАБВГДЕЁЖЗИЙКЛМНОПРСТУФХЦЧШЩЪЫЬЭЮЯ \"\n",
    "\n",
    "def clean_text(string, allowed_symbols):\n",
    "    getVals = list(filter(lambda x: x in allowed_symbols, string))\n",
    "    result = \"\".join(getVals)\n",
    "    return result"
   ],
   "metadata": {
    "collapsed": false,
    "pycharm": {
     "name": "#%%\n"
    }
   }
  },
  {
   "cell_type": "code",
   "execution_count": 14,
   "outputs": [],
   "source": [
    "def preprocess_df(df):\n",
    "    df['text_clean'] = df['text'].apply(lambda x: clean_text(x.lower(), cyrillic_letters))\n",
    "    df['text_lemmatized'] = df['text_clean'].apply(lambda x: lemmatize_spacy(x))\n",
    "    df=df[df['text_clean']!='']\n",
    "    df.reset_index(inplace=True)\n",
    "    return df"
   ],
   "metadata": {
    "collapsed": false,
    "pycharm": {
     "name": "#%%\n"
    }
   }
  },
  {
   "cell_type": "code",
   "execution_count": 15,
   "outputs": [
    {
     "ename": "NameError",
     "evalue": "name 'df' is not defined",
     "output_type": "error",
     "traceback": [
      "\u001B[0;31m---------------------------------------------------------------------------\u001B[0m",
      "\u001B[0;31mNameError\u001B[0m                                 Traceback (most recent call last)",
      "File \u001B[0;32m<timed exec>:1\u001B[0m\n",
      "\u001B[0;31mNameError\u001B[0m: name 'df' is not defined"
     ]
    }
   ],
   "source": [
    "%%time\n",
    "df = preprocess_df(df)"
   ],
   "metadata": {
    "collapsed": false,
    "pycharm": {
     "name": "#%%\n"
    }
   }
  },
  {
   "cell_type": "markdown",
   "source": [
    "## Embed"
   ],
   "metadata": {
    "collapsed": false,
    "pycharm": {
     "name": "#%% md\n"
    }
   }
  },
  {
   "cell_type": "code",
   "execution_count": 7,
   "outputs": [],
   "source": [
    "import torch\n",
    "from transformers import AutoTokenizer, AutoModel\n",
    "\n",
    "tokenizer_sent = AutoTokenizer.from_pretrained(\"DeepPavlov/rubert-base-cased-sentence\")\n",
    "model_sent = AutoModel.from_pretrained(\"DeepPavlov/rubert-base-cased-sentence\")"
   ],
   "metadata": {
    "collapsed": false,
    "pycharm": {
     "name": "#%%\n"
    }
   }
  },
  {
   "cell_type": "code",
   "execution_count": 8,
   "outputs": [],
   "source": [
    "tokenizer_rukola = AutoTokenizer.from_pretrained(\"RussianNLP/ruRoBERTa-large-rucola\")\n",
    "model_rukola = AutoModel.from_pretrained(\"RussianNLP/ruRoBERTa-large-rucola\")"
   ],
   "metadata": {
    "collapsed": false,
    "pycharm": {
     "name": "#%%\n"
    }
   }
  },
  {
   "cell_type": "code",
   "execution_count": 10,
   "outputs": [
    {
     "name": "stderr",
     "output_type": "stream",
     "text": [
      "Some weights of the model checkpoint at cointegrated/rubert-tiny were not used when initializing BertModel: ['cls.predictions.bias', 'cls.predictions.decoder.bias', 'cls.seq_relationship.weight', 'cls.predictions.decoder.weight', 'cls.predictions.transform.LayerNorm.weight', 'cls.predictions.transform.dense.bias', 'cls.predictions.transform.LayerNorm.bias', 'cls.predictions.transform.dense.weight', 'cls.seq_relationship.bias']\n",
      "- This IS expected if you are initializing BertModel from the checkpoint of a model trained on another task or with another architecture (e.g. initializing a BertForSequenceClassification model from a BertForPreTraining model).\n",
      "- This IS NOT expected if you are initializing BertModel from the checkpoint of a model that you expect to be exactly identical (initializing a BertForSequenceClassification model from a BertForSequenceClassification model).\n"
     ]
    }
   ],
   "source": [
    "tokenizer_rubert_tiny = AutoTokenizer.from_pretrained(\"cointegrated/rubert-tiny\")\n",
    "model_rubert_tiny = AutoModel.from_pretrained(\"cointegrated/rubert-tiny\")"
   ],
   "metadata": {
    "collapsed": false,
    "pycharm": {
     "name": "#%%\n"
    }
   }
  },
  {
   "cell_type": "code",
   "execution_count": 11,
   "outputs": [],
   "source": [
    "def embed_rubert(df, col='text_lemmatized', max_length=150, tokenizer = tokenizer_sent, model = model_sent):\n",
    "    sent_list = df[col].to_list()\n",
    "    encoded_input = tokenizer(sent_list, padding=True, max_length=max_length, truncation=True, return_tensors='pt')\n",
    "    with torch.no_grad():\n",
    "        model_output = model(**encoded_input)\n",
    "        vector_representations = model_output.last_hidden_state[:, 0, :]\n",
    "    sent_array = vector_representations.numpy()\n",
    "    print(f'The shape of resulting array is {sent_array.shape}')\n",
    "    return vector_representations, sent_array"
   ],
   "metadata": {
    "collapsed": false,
    "pycharm": {
     "name": "#%%\n"
    }
   }
  },
  {
   "cell_type": "code",
   "execution_count": null,
   "outputs": [],
   "source": [
    "%%time\n",
    "vecs_rucola, sent_array_rucola = embed_rubert(df, col='text_clean', tokenizer=tokenizer_rukola, model=model_rukola)"
   ],
   "metadata": {
    "collapsed": false,
    "pycharm": {
     "name": "#%%\n"
    }
   }
  },
  {
   "cell_type": "code",
   "execution_count": null,
   "outputs": [],
   "source": [
    "%%time\n",
    "vecs_rubert, sent_array_rubert = embed_rubert(df)"
   ],
   "metadata": {
    "collapsed": false,
    "pycharm": {
     "name": "#%%\n"
    }
   }
  },
  {
   "cell_type": "code",
   "execution_count": 68,
   "outputs": [
    {
     "name": "stdout",
     "output_type": "stream",
     "text": [
      "The shape of resulting array is (3628, 312)\n",
      "CPU times: user 34.1 s, sys: 33.9 s, total: 1min 8s\n",
      "Wall time: 38 s\n"
     ]
    }
   ],
   "source": [
    "%%time\n",
    "vecs_tiny, sent_tiny = embed_rubert(df, col='text_clean', tokenizer=tokenizer_rubert_tiny, model=model_rubert_tiny)"
   ],
   "metadata": {
    "collapsed": false,
    "pycharm": {
     "name": "#%%\n"
    }
   }
  },
  {
   "cell_type": "markdown",
   "source": [
    "## Embed tfidf"
   ],
   "metadata": {
    "collapsed": false,
    "pycharm": {
     "name": "#%% md\n"
    }
   }
  },
  {
   "cell_type": "code",
   "execution_count": 80,
   "outputs": [],
   "source": [
    "from sklearn.feature_extraction.text import TfidfVectorizer\n",
    "\n",
    "def embed_tf(df, col='text_lemmatized', max_df=0.99, min_df=0.01, ngram_range=(1,1)):\n",
    "    tfidf_vec = TfidfVectorizer(max_df=max_df, min_df=min_df, ngram_range=ngram_range)\n",
    "    sent_list = df[col].tolist()\n",
    "    model = tfidf_vec.fit(sent_list)\n",
    "    tdidf_array = model.transform(sent_list).toarray()\n",
    "    return tdidf_array"
   ],
   "metadata": {
    "collapsed": false,
    "pycharm": {
     "name": "#%%\n"
    }
   }
  },
  {
   "cell_type": "code",
   "execution_count": 20,
   "outputs": [],
   "source": [
    "tf_idf_array = embed_tf(df,  max_df=0.95, min_df=0.001, ngram_range=(1,3))"
   ],
   "metadata": {
    "collapsed": false,
    "pycharm": {
     "name": "#%%\n"
    }
   }
  },
  {
   "cell_type": "markdown",
   "source": [
    "## HDBSCAN"
   ],
   "metadata": {
    "collapsed": false,
    "pycharm": {
     "name": "#%% md\n"
    }
   }
  },
  {
   "cell_type": "code",
   "execution_count": 13,
   "outputs": [],
   "source": [
    "import hdbscan\n",
    "import numpy as np\n",
    "import matplotlib.pyplot as plt\n",
    "import seaborn as sns\n",
    "%matplotlib inline"
   ],
   "metadata": {
    "collapsed": false,
    "pycharm": {
     "name": "#%%\n"
    }
   }
  },
  {
   "cell_type": "code",
   "execution_count": 211,
   "outputs": [],
   "source": [
    "def create_hdbscan_clusters(min_cluster_size, array, alpha=1.0):\n",
    "    clusterer = hdbscan.HDBSCAN(min_cluster_size=min_cluster_size, alpha=alpha, cluster_selection_method='leaf').fit(array)\n",
    "    clusterer.condensed_tree_.plot(select_clusters=True, selection_palette=sns.color_palette('deep', 8))\n",
    "    # clusterer.condensed_tree_.plot()\n",
    "    print(f'We got {clusterer.labels_.max()+2} labels')\n",
    "    df_labels = pd.DataFrame(clusterer.labels_, columns = ['labels'])\n",
    "    for label in range(-1, clusterer.labels_.max()+1):\n",
    "        print(f'____________{label}')\n",
    "        print(df['text_clean'][df_labels['labels']==label].sample(5))\n",
    "    spread = [len(df_labels[df_labels['labels']==label]) for label in range(-1,clusterer.labels_.max()+1)]\n",
    "    print(f'The distribution of labels is {spread}')\n",
    "    return df_labels, clusterer.labels_, clusterer.probabilities_"
   ],
   "metadata": {
    "collapsed": false,
    "pycharm": {
     "name": "#%%\n"
    }
   }
  },
  {
   "cell_type": "markdown",
   "source": [
    "# Experiments"
   ],
   "metadata": {
    "collapsed": false,
    "pycharm": {
     "name": "#%% md\n"
    }
   }
  },
  {
   "cell_type": "code",
   "execution_count": 78,
   "outputs": [
    {
     "name": "stdout",
     "output_type": "stream",
     "text": [
      "We got 4 labels\n",
      "____________-1\n",
      "2758    у них выбор только один  сдаться в плен или от...\n",
      "2045    я противник запрета великих дел пока все малые...\n",
      "275     мы постоянно говорим о фашисткой символике хох...\n",
      "3616    украинские ресурсы публикуют видео захода укро...\n",
      "3395    оказывается художник и продюсер райдер риппс у...\n",
      "Name: text_clean, dtype: object\n",
      "____________0\n",
      "498          миг  хохлорейха\n",
      "2158      доброе утро варяги\n",
      "148     нюхенфюрер салорейха\n",
      "2600              бандеровцы\n",
      "2063               эксклюзив\n",
      "Name: text_clean, dtype: object\n",
      "____________1\n",
      "1102              минус очередная располага укронацистов \n",
      "3158    командир подразделения укронацистов рыдает на ...\n",
      "1025         продолжаются обстрелы донбасса укронацистами\n",
      "1832       разгромленная колонна всу в херсонской области\n",
      "46          уничтожение укронацистких  позиции в угледаре\n",
      "Name: text_clean, dtype: object\n",
      "____________2\n",
      "379    в рядах всу скрывается шведский нацист  бьорн ...\n",
      "800    ликвидировано еще двое укронацистов   командир...\n",
      "624    у вфу режима зеленского почти закончились пзрк...\n",
      "205    витя шендерович на эхе москвы только что будем...\n",
      "854    подросток получил ранения в результате обстрел...\n",
      "Name: text_clean, dtype: object\n",
      "____________3\n",
      "3089    капитан сергей чёрный управляя штурмовиком су ...\n",
      "497                  украинских неонацистов ждёт трибунал\n",
      "3276     неонацисты пытаются покинуть мариуполь в женс...\n",
      "1074    в волновахе продолжает зачистка  идет уничтоже...\n",
      "2415    в беларуссии готовятся к провокациям укронацис...\n",
      "Name: text_clean, dtype: object\n",
      "The distribution of labels is [3360, 38, 25, 176, 29, 0]\n"
     ]
    },
    {
     "data": {
      "text/plain": "<Figure size 640x480 with 2 Axes>",
      "image/png": "[encoded data removed]"
     },
     "metadata": {},
     "output_type": "display_data"
    }
   ],
   "source": [
    "df_labels, hdbcan_labels, hdbcan_probabilities_ = create_hdbscan_clusters(20, sent_tiny, alpha=.2)"
   ],
   "metadata": {
    "collapsed": false,
    "pycharm": {
     "name": "#%%\n"
    }
   }
  },
  {
   "cell_type": "markdown",
   "source": [
    "# відтинати хохло і укро?"
   ],
   "metadata": {
    "collapsed": false,
    "pycharm": {
     "name": "#%% md\n"
    }
   }
  },
  {
   "cell_type": "code",
   "execution_count": 176,
   "outputs": [],
   "source": [
    "prefixes_list = ['хохло', 'укро'] # list of prefixes to look for\n",
    "# function to add space after prefix\n",
    "def add_space(word, prefixes):\n",
    "    for prefix in prefixes:\n",
    "        if word.startswith(prefix):\n",
    "            word = prefix + ' ' + word[len(prefix):]\n",
    "    return word\n",
    "\n",
    "def add_spaces_words(string, prefixes_list):\n",
    "    result = ' '.join([add_space(word, prefixes=prefixes_list) for word in string.split(' ')])\n",
    "    return result"
   ],
   "metadata": {
    "collapsed": false,
    "pycharm": {
     "name": "#%%\n"
    }
   }
  },
  {
   "cell_type": "code",
   "execution_count": 177,
   "outputs": [
    {
     "data": {
      "text/plain": "'раньше укро нацисты строить песчаный замок   но теперь пляж заминировать'"
     },
     "execution_count": 177,
     "metadata": {},
     "output_type": "execute_result"
    }
   ],
   "source": [
    "add_spaces_words(df['text_lemmatized'][3], prefixes_list)"
   ],
   "metadata": {
    "collapsed": false,
    "pycharm": {
     "name": "#%%\n"
    }
   }
  },
  {
   "cell_type": "code",
   "execution_count": 179,
   "outputs": [],
   "source": [
    "df['text_lemmatized_separated'] = df['text_lemmatized'].apply(lambda x: add_spaces_words(x, prefixes_list))"
   ],
   "metadata": {
    "collapsed": false,
    "pycharm": {
     "name": "#%%\n"
    }
   }
  },
  {
   "cell_type": "code",
   "execution_count": 180,
   "outputs": [
    {
     "data": {
      "text/plain": "                                                   text  \\\n0     Вагнер отправляет к бандере и прочим шайтанам ...   \n1     Тут понимаешь всё про метафизику этой войны. «...   \n2     Наш источник сообщает, что остатки военной ави...   \n3     Раньше укронацисты строили песчаные замки — но...   \n4     Именно эти регионы являются настоящим рассадни...   \n...                                                 ...   \n3623     Стоимость очередной подачки хохлам - $675 млн.   \n3624  Хохлячие каналы ссылаясь на некую разведку соо...   \n3625  Обсуждают недоукраинца Невзорова, Анну Нетребк...   \n3626  И вот приходит коллективный Зусько и буквально...   \n3627  Ну, во-первых спасибо за установочные данные, ...   \n\n                                             text_clean  \\\n0     вагнер отправляет к бандере и прочим шайтанам ...   \n1     тут понимаешь всё про метафизику этой войны ук...   \n2     наш источник сообщает что остатки военной авиа...   \n3     раньше укронацисты строили песчаные замки  но ...   \n4     именно эти регионы являются настоящим рассадни...   \n...                                                 ...   \n3623           стоимость очередной подачки хохлам   млн   \n3624  хохлячие каналы ссылаясь на некую разведку соо...   \n3625  обсуждают недоукраинца невзорова анну нетребко...   \n3626  и вот приходит коллективный зусько и буквально...   \n3627  ну вопервых спасибо за установочные данные а в...   \n\n                                        text_lemmatized  \\\n0     вагнер отправлять к бандере и прочим шайтан в ...   \n1     тут понимать всё про метафизика этот война укр...   \n2     наш источник сообщать что остаток военный авиа...   \n3     раньше укронацисты строить песчаный замок   но...   \n4     именно этот регион являться настоящий рассадни...   \n...                                                 ...   \n3623           стоимость очередной подачка хохол    млн   \n3624  хохлячие канал ссылаться на некий разведка соо...   \n3625  обсуждать недоукраинца невзоров анна нетребко ...   \n3626  и вот приходить коллективный зусько и буквальн...   \n3627  ну вопервых спасибо за установочный данные а в...   \n\n                              text_lemmatized_separated  \n0     вагнер отправлять к бандере и прочим шайтан в ...  \n1     тут понимать всё про метафизика этот война укр...  \n2     наш источник сообщать что остаток военный авиа...  \n3     раньше укро нацисты строить песчаный замок   н...  \n4     именно этот регион являться настоящий рассадни...  \n...                                                 ...  \n3623           стоимость очередной подачка хохол    млн  \n3624  хохлячие канал ссылаться на некий разведка соо...  \n3625  обсуждать недоукраинца невзоров анна нетребко ...  \n3626  и вот приходить коллективный зусько и буквальн...  \n3627  ну вопервых спасибо за установочный данные а в...  \n\n[3628 rows x 4 columns]",
      "text/html": "<div>\n<style scoped>\n    .dataframe tbody tr th:only-of-type {\n        vertical-align: middle;\n    }\n\n    .dataframe tbody tr th {\n        vertical-align: top;\n    }\n\n    .dataframe thead th {\n        text-align: right;\n    }\n</style>\n<table border=\"1\" class=\"dataframe\">\n  <thead>\n    <tr style=\"text-align: right;\">\n      <th></th>\n      <th>text</th>\n      <th>text_clean</th>\n      <th>text_lemmatized</th>\n      <th>text_lemmatized_separated</th>\n    </tr>\n  </thead>\n  <tbody>\n    <tr>\n      <th>0</th>\n      <td>Вагнер отправляет к бандере и прочим шайтанам ...</td>\n      <td>вагнер отправляет к бандере и прочим шайтанам ...</td>\n      <td>вагнер отправлять к бандере и прочим шайтан в ...</td>\n      <td>вагнер отправлять к бандере и прочим шайтан в ...</td>\n    </tr>\n    <tr>\n      <th>1</th>\n      <td>Тут понимаешь всё про метафизику этой войны. «...</td>\n      <td>тут понимаешь всё про метафизику этой войны ук...</td>\n      <td>тут понимать всё про метафизика этот война укр...</td>\n      <td>тут понимать всё про метафизика этот война укр...</td>\n    </tr>\n    <tr>\n      <th>2</th>\n      <td>Наш источник сообщает, что остатки военной ави...</td>\n      <td>наш источник сообщает что остатки военной авиа...</td>\n      <td>наш источник сообщать что остаток военный авиа...</td>\n      <td>наш источник сообщать что остаток военный авиа...</td>\n    </tr>\n    <tr>\n      <th>3</th>\n      <td>Раньше укронацисты строили песчаные замки — но...</td>\n      <td>раньше укронацисты строили песчаные замки  но ...</td>\n      <td>раньше укронацисты строить песчаный замок   но...</td>\n      <td>раньше укро нацисты строить песчаный замок   н...</td>\n    </tr>\n    <tr>\n      <th>4</th>\n      <td>Именно эти регионы являются настоящим рассадни...</td>\n      <td>именно эти регионы являются настоящим рассадни...</td>\n      <td>именно этот регион являться настоящий рассадни...</td>\n      <td>именно этот регион являться настоящий рассадни...</td>\n    </tr>\n    <tr>\n      <th>...</th>\n      <td>...</td>\n      <td>...</td>\n      <td>...</td>\n      <td>...</td>\n    </tr>\n    <tr>\n      <th>3623</th>\n      <td>Стоимость очередной подачки хохлам - $675 млн.</td>\n      <td>стоимость очередной подачки хохлам   млн</td>\n      <td>стоимость очередной подачка хохол    млн</td>\n      <td>стоимость очередной подачка хохол    млн</td>\n    </tr>\n    <tr>\n      <th>3624</th>\n      <td>Хохлячие каналы ссылаясь на некую разведку соо...</td>\n      <td>хохлячие каналы ссылаясь на некую разведку соо...</td>\n      <td>хохлячие канал ссылаться на некий разведка соо...</td>\n      <td>хохлячие канал ссылаться на некий разведка соо...</td>\n    </tr>\n    <tr>\n      <th>3625</th>\n      <td>Обсуждают недоукраинца Невзорова, Анну Нетребк...</td>\n      <td>обсуждают недоукраинца невзорова анну нетребко...</td>\n      <td>обсуждать недоукраинца невзоров анна нетребко ...</td>\n      <td>обсуждать недоукраинца невзоров анна нетребко ...</td>\n    </tr>\n    <tr>\n      <th>3626</th>\n      <td>И вот приходит коллективный Зусько и буквально...</td>\n      <td>и вот приходит коллективный зусько и буквально...</td>\n      <td>и вот приходить коллективный зусько и буквальн...</td>\n      <td>и вот приходить коллективный зусько и буквальн...</td>\n    </tr>\n    <tr>\n      <th>3627</th>\n      <td>Ну, во-первых спасибо за установочные данные, ...</td>\n      <td>ну вопервых спасибо за установочные данные а в...</td>\n      <td>ну вопервых спасибо за установочный данные а в...</td>\n      <td>ну вопервых спасибо за установочный данные а в...</td>\n    </tr>\n  </tbody>\n</table>\n<p>3628 rows × 4 columns</p>\n</div>"
     },
     "execution_count": 180,
     "metadata": {},
     "output_type": "execute_result"
    }
   ],
   "source": [
    "df"
   ],
   "metadata": {
    "collapsed": false,
    "pycharm": {
     "name": "#%%\n"
    }
   }
  },
  {
   "cell_type": "code",
   "execution_count": 189,
   "outputs": [
    {
     "name": "stdout",
     "output_type": "stream",
     "text": [
      "CPU times: user 305 ms, sys: 25.4 ms, total: 330 ms\n",
      "Wall time: 337 ms\n"
     ]
    }
   ],
   "source": [
    "%%time\n",
    "tf_idf_array = embed_tf(df, col='text_lemmatized_separated', max_df=0.3, min_df=0.01, ngram_range=(1,5))"
   ],
   "metadata": {
    "collapsed": false,
    "pycharm": {
     "name": "#%%\n"
    }
   }
  },
  {
   "cell_type": "code",
   "execution_count": 191,
   "outputs": [
    {
     "name": "stdout",
     "output_type": "stream",
     "text": [
      "We got 7 labels\n",
      "____________-1\n",
      "1236    признание одного из самых одиозных деятелей са...\n",
      "2469    эксдепутат гд от лдпр мглущенко он же преступн...\n",
      "626     очередное видео от хохлопетухов где они с бпла...\n",
      "3309    винтовка продолжит отправлять к бандере украин...\n",
      "2654    внимание информация только для одесских укропа...\n",
      "Name: text_clean, dtype: object\n",
      "____________0\n",
      "148                                  нюхенфюрер салорейха\n",
      "2006                                               помним\n",
      "132                           обнуление подкрепления всук\n",
      "1624                                               мощно \n",
      "1758    ключевая опасность в перми для варяга михаила ...\n",
      "Name: text_clean, dtype: object\n",
      "____________1\n",
      "800     ликвидировано еще двое укронацистов   командир...\n",
      "3437     куда важней что тамошние хохловоины всё осознали\n",
      "543     запорожская аэс и город энергодар снова под об...\n",
      "940     озеряновка выпущено  снарядов калибром  мм    ...\n",
      "806     с разгромом в мариуполе самых законченных укро...\n",
      "Name: text_clean, dtype: object\n",
      "____________2\n",
      "2264    хохлы вычисляют быстро и начинают работать по ...\n",
      "1134                       разбитая колонна всу укрорейха\n",
      "782     володимир залупэньский иди нахуй флешмоб от от...\n",
      "202     если заметили воинский эшелон укрорейха на про...\n",
      "18      захистник укрорейха пугает русского ивана байр...\n",
      "Name: text_clean, dtype: object\n",
      "____________3\n",
      "2257                      необходима модернизация  чубайс\n",
      "1433                                         август  года\n",
      "3111    как и любое травмирующее воспоминание фанаты н...\n",
      "2830       примерно как у венедиктова альбац чубайса и пр\n",
      "3541     лет исполнилось обещанию а б чубайса заменить...\n",
      "Name: text_clean, dtype: object\n",
      "____________4\n",
      "487     укронацисты обстреляли исправительную колонию ...\n",
      "549     укронацисты обстреляли центральный автовокзал ...\n",
      "1006                        укронацисты готовятся к земле\n",
      "3127       хохлы спасибо за ништяки  повёрнутые на  войне\n",
      "462     укронацисты объявили охоту на сашу коца конкре...\n",
      "Name: text_clean, dtype: object\n",
      "____________5\n",
      "715      собр ахмат отправляется из грозного ликвидиро...\n",
      "3361       помню поймали как то одного всушника из  одшбр\n",
      "1512    аэрофлот организует вывозные рейсы из египта и...\n",
      "1380                              как вставляют стекло в \n",
      "1640    премьер мишустин завтра посетит новый федераль...\n",
      "Name: text_clean, dtype: object\n",
      "____________6\n",
      "849              пять хохлокеглей из шести ушло на минус \n",
      "608          коронавирусные укропианцы применяют минометы\n",
      "3011    хохлы только что ударили по съезду с антоновск...\n",
      "3581       сгонять за путинской десяткой в ростов и ве...\n",
      "2628                   хохлы ударили по аэродрому джанкой\n",
      "Name: text_clean, dtype: object\n",
      "The distribution of labels is [2963, 128, 115, 76, 36, 67, 37, 206, 0]\n"
     ]
    },
    {
     "name": "stderr",
     "output_type": "stream",
     "text": [
      "/Users/katerynaburovova/PycharmProjects/dehumanization/lib/python3.10/site-packages/hdbscan/plots.py:383: UserWarning: Infinite lambda values encountered in chosen clusters. This might be due to duplicates in the data.\n",
      "  warn('Infinite lambda values encountered in chosen clusters.'\n"
     ]
    },
    {
     "data": {
      "text/plain": "<Figure size 640x480 with 2 Axes>",
      "image/png": "[encoded data removed]"
     },
     "metadata": {},
     "output_type": "display_data"
    }
   ],
   "source": [
    "df_labels, tf2_dbcan_labels, tf2_hdbcan_probabilities_ = create_hdbscan_clusters(30, tf_idf_array, 0.8)"
   ],
   "metadata": {
    "collapsed": false,
    "pycharm": {
     "name": "#%%\n"
    }
   }
  },
  {
   "cell_type": "code",
   "execution_count": 192,
   "outputs": [
    {
     "name": "stderr",
     "output_type": "stream",
     "text": [
      "Warning : `load_model` does not return WordVectorModel or SupervisedModel any more, but a `FastText` object which is very similar.\n"
     ]
    }
   ],
   "source": [
    "import fasttext\n",
    "\n",
    "model_path = '/Users/katerynaburovova/PycharmProjects/dehumanization/fasttext_models/cc.ru.300.bin'\n",
    "ftt_model = fasttext.load_model(model_path)"
   ],
   "metadata": {
    "collapsed": false,
    "pycharm": {
     "name": "#%%\n"
    }
   }
  },
  {
   "cell_type": "code",
   "execution_count": 193,
   "outputs": [],
   "source": [
    "embedding_word = ftt_model.get_word_vector('привет')\n",
    "sentence = 'Это тестовое предложение для получения векторного представления'\n",
    "embedding_sent = ftt_model.get_sentence_vector(sentence)"
   ],
   "metadata": {
    "collapsed": false,
    "pycharm": {
     "name": "#%%\n"
    }
   }
  },
  {
   "cell_type": "code",
   "execution_count": 194,
   "outputs": [
    {
     "data": {
      "text/plain": "((300,), (300,))"
     },
     "execution_count": 194,
     "metadata": {},
     "output_type": "execute_result"
    }
   ],
   "source": [
    "embedding_word.shape, embedding_sent.shape"
   ],
   "metadata": {
    "collapsed": false,
    "pycharm": {
     "name": "#%%\n"
    }
   }
  },
  {
   "cell_type": "code",
   "execution_count": 229,
   "outputs": [],
   "source": [
    "df['ftt_emb'] = df['text_clean'].apply(lambda x: ftt_model.get_sentence_vector(x))"
   ],
   "metadata": {
    "collapsed": false,
    "pycharm": {
     "name": "#%%\n"
    }
   }
  },
  {
   "cell_type": "code",
   "execution_count": 230,
   "outputs": [],
   "source": [
    "ftt_array = df['ftt_emb'].apply(pd.Series)"
   ],
   "metadata": {
    "collapsed": false,
    "pycharm": {
     "name": "#%%\n"
    }
   }
  },
  {
   "cell_type": "code",
   "execution_count": 231,
   "outputs": [
    {
     "name": "stdout",
     "output_type": "stream",
     "text": [
      "We got 6 labels\n",
      "____________-1\n",
      "384     спецназ фсб совместно с полицейскими задержал ...\n",
      "2539                   теперь и сам чубайс покинул страну\n",
      "298     тот случай когда укрозольдатэн размарадёрили ж...\n",
      "2580    фсб задержала в ростовской области сторонника ...\n",
      "1678                         народу немного а дело важное\n",
      "Name: text_clean, dtype: object\n",
      "____________0\n",
      "861     всем утренний салам  всем кроме нацистов укрор...\n",
      "872                    всем салам  всем кроме укропитеков\n",
      "3232                        всем салам  всем кроме хохлов\n",
      "815     всем читателям канала  утренний салам  всем кр...\n",
      "157            всем утренний салам  всем кроме чубаноидов\n",
      "Name: text_clean, dtype: object\n",
      "____________1\n",
      "1894     выздоровели за последние сутки в россии  человек\n",
      "2140      новых случаев заражения коронавирусом выявил...\n",
      "1469    в россии  случаев заражения коронавирусом за с...\n",
      "2214    в россии выявлено   случаев коронавируса  за п...\n",
      "2169    в москве за минувшие сутки скончались   пациен...\n",
      "Name: text_clean, dtype: object\n",
      "____________2\n",
      "3128    экспродюсер грибов и луны юрий бардаш выпустил...\n",
      "3579    так что мы вместе  особое спасибо тем кто рядо...\n",
      "3428    тем не менее явственно чувствуются усилия пизд...\n",
      "2339    а если так то идея наша свята и война наша пер...\n",
      "2315    главное  главмедиа   информируемся по югу росс...\n",
      "Name: text_clean, dtype: object\n",
      "____________3\n",
      "3207    главное   путин провел встречу с шойгу министр...\n",
      "409     укронацисты готовят новую атаку на заэс  рогов...\n",
      "3424    неонацисты и сбу проводят карательные рейды пр...\n",
      "3141    боевики азова и айдара стреляют по вошедшим в ...\n",
      "3194    при этом источник в мид турции не смог сообщит...\n",
      "Name: text_clean, dtype: object\n",
      "____________4\n",
      "2765    тут мне задали вопрос не стукает ли мне за мои...\n",
      "2422    общая инфоситуация в китайских сми по теракту ...\n",
      "3551    острый психоз или шизоидность и психопатия  на...\n",
      "2946    дмитрий песков сделал ряд заявлений  договорен...\n",
      "2282    мы даже теряемся над точным определением его с...\n",
      "Name: text_clean, dtype: object\n",
      "The distribution of labels is [3576, 5, 10, 7, 20, 10]\n",
      "CPU times: user 4.22 s, sys: 32.2 ms, total: 4.25 s\n",
      "Wall time: 4.3 s\n"
     ]
    },
    {
     "data": {
      "text/plain": "<Figure size 640x480 with 2 Axes>",
      "image/png": "[encoded data removed]"
     },
     "metadata": {},
     "output_type": "display_data"
    }
   ],
   "source": [
    "%%time\n",
    "ftt_df_labels, ftt_hdbcan_labels, ftt_hdbcan_probabilities_ = create_hdbscan_clusters(5, ftt_array, alpha=.3)"
   ],
   "metadata": {
    "collapsed": false,
    "pycharm": {
     "name": "#%%\n"
    }
   }
  },
  {
   "cell_type": "code",
   "execution_count": 238,
   "outputs": [
    {
     "data": {
      "text/plain": "'например обещать перебить  процентов земляков как на картинке или выложить трупы в мешках перед сахибами с ес как вчера сотрудники корпорации зеленский и кочто интересно трупы неделю не изучают и не захоранивают украинец и после смерти должен служить свинорейху даже если его убил именно свинорейх свалить в израиль и вспомнить бабушкуеврейку с португальскими корнями а потом оттуда ныть что ты и есть россия'"
     },
     "execution_count": 238,
     "metadata": {},
     "output_type": "execute_result"
    }
   ],
   "source": [
    "df[ftt_df_labels['labels']==4]['text_clean'].iloc[1]"
   ],
   "metadata": {
    "collapsed": false,
    "pycharm": {
     "name": "#%%\n"
    }
   }
  },
  {
   "cell_type": "markdown",
   "source": [
    "## Kmeans"
   ],
   "metadata": {
    "collapsed": false,
    "pycharm": {
     "name": "#%% md\n"
    }
   }
  },
  {
   "cell_type": "code",
   "execution_count": 4,
   "outputs": [],
   "source": [
    "import pandas as pd\n",
    "df_collocations = pd.read_csv('/Users/katerynaburovova/PycharmProjects/dehumanization/annotation/dataset_v_collocations.csv', index_col=0)"
   ],
   "metadata": {
    "collapsed": false,
    "pycharm": {
     "name": "#%%\n"
    }
   }
  },
  {
   "cell_type": "code",
   "execution_count": 8,
   "outputs": [],
   "source": [
    "# %%time\n",
    "# import ast\n",
    "# df_collocations['core_noun_verb'] = df_collocations['core_noun_verb'].apply(ast.literal_eval)"
   ],
   "metadata": {
    "collapsed": false,
    "pycharm": {
     "name": "#%%\n"
    }
   }
  },
  {
   "cell_type": "code",
   "execution_count": 9,
   "outputs": [],
   "source": [
    "df_collocations = df_collocations[['text', 'core_noun_verb_str', 'verb_obl_obj_str', 'appos_str', 'amod_str', 'nmod_str']]"
   ],
   "metadata": {
    "collapsed": false,
    "pycharm": {
     "name": "#%%\n"
    }
   }
  },
  {
   "cell_type": "code",
   "execution_count": 10,
   "outputs": [
    {
     "data": {
      "text/plain": "                                                   text  \\\n0     Вагнер отправляет к бандере и прочим шайтанам ...   \n1     Тут понимаешь всё про метафизику этой войны. «...   \n2     Наш источник сообщает, что остатки военной ави...   \n3     Раньше укронацисты строили песчаные замки — но...   \n4     Именно эти регионы являются настоящим рассадни...   \n...                                                 ...   \n3638     Стоимость очередной подачки хохлам - $675 млн.   \n3639  Хохлячие каналы ссылаясь на некую разведку соо...   \n3640  Обсуждают недоукраинца Невзорова, Анну Нетребк...   \n3641  И вот приходит коллективный Зусько и буквально...   \n3642  Ну, во-первых спасибо за установочные данные, ...   \n\n                                     core_noun_verb_str  \\\n0                                     вагнер отправляет   \n1                               укропы вышли, они вышли   \n2                         источник сообщает переброшена   \n3     укронацисты раньше строили, укронацисты теперь...   \n4           регионы являются рассадником, регионы имеют   \n...                                                 ...   \n3638                                                NaN   \n3639  каналы сообщают, вс готовы подорвать, зеленски...   \n3640                                                NaN   \n3641  зусько вот приходит, зусько буквально начинает...   \n3642                          хлопцы бизнес, это бизнес   \n\n                                       verb_obl_obj_str  \\\n0              отправляет к бандере, отправляет бригады   \n1     тут понимаешь всё, тут понимаешь про метафизик...   \n2                               переброшена на аэродром   \n3                                  раньше строили замки   \n4                    имеют для укронациков, имеют смысл   \n...                                                 ...   \n3638                                                NaN   \n3639  ссылаясь на разведку, сообщают о том, подорват...   \n3640                             обсуждают недоукраинца   \n3641  буквально начинает хохлов заваливать, завалива...   \n3642                                                NaN   \n\n                     appos_str  \\\n0     батальон джохара дудаева   \n1                          NaN   \n2                 аэродром рог   \n3                          NaN   \n4                          NaN   \n...                        ...   \n3638                       NaN   \n3639                       NaN   \n3640                       NaN   \n3641                       NaN   \n3642                       NaN   \n\n                                               amod_str  \\\n0     прочим шайтанам, следующие бригады, шайтанский...   \n1                                                   NaN   \n2                военной авиации, долгинцево(кривой рог   \n3                                        песчаные замки   \n4     настоящим рассадником, сакральный смысл, идеол...   \n...                                                 ...   \n3638                           очередной подачки, - млн   \n3639  хохлячие каналы, каховской гэс, масштабной тре...   \n3640                                                NaN   \n3641                  коллективный зусько, ровном месте   \n3642                  установочные данные, новый бизнес   \n\n                                               nmod_str  \n0     бандере бахмута районе, районе бахмута, бригад...  \n1     метафизику войны, укропы запада покровом, покр...  \n2                    остатки авиации, остатки укрорейха  \n3                                                   NaN  \n4                               рассадником укронацизма  \n...                                                 ...  \n3638                     стоимость подачки, подачки млн  \n3639          каналы ссылаясь, дамбу гэс, шумок тревоги  \n3640                                                NaN  \n3641                             трупами мобилизованных  \n3642                        спасибо установочные данные  \n\n[3643 rows x 6 columns]",
      "text/html": "<div>\n<style scoped>\n    .dataframe tbody tr th:only-of-type {\n        vertical-align: middle;\n    }\n\n    .dataframe tbody tr th {\n        vertical-align: top;\n    }\n\n    .dataframe thead th {\n        text-align: right;\n    }\n</style>\n<table border=\"1\" class=\"dataframe\">\n  <thead>\n    <tr style=\"text-align: right;\">\n      <th></th>\n      <th>text</th>\n      <th>core_noun_verb_str</th>\n      <th>verb_obl_obj_str</th>\n      <th>appos_str</th>\n      <th>amod_str</th>\n      <th>nmod_str</th>\n    </tr>\n  </thead>\n  <tbody>\n    <tr>\n      <th>0</th>\n      <td>Вагнер отправляет к бандере и прочим шайтанам ...</td>\n      <td>вагнер отправляет</td>\n      <td>отправляет к бандере, отправляет бригады</td>\n      <td>батальон джохара дудаева</td>\n      <td>прочим шайтанам, следующие бригады, шайтанский...</td>\n      <td>бандере бахмута районе, районе бахмута, бригад...</td>\n    </tr>\n    <tr>\n      <th>1</th>\n      <td>Тут понимаешь всё про метафизику этой войны. «...</td>\n      <td>укропы вышли, они вышли</td>\n      <td>тут понимаешь всё, тут понимаешь про метафизик...</td>\n      <td>NaN</td>\n      <td>NaN</td>\n      <td>метафизику войны, укропы запада покровом, покр...</td>\n    </tr>\n    <tr>\n      <th>2</th>\n      <td>Наш источник сообщает, что остатки военной ави...</td>\n      <td>источник сообщает переброшена</td>\n      <td>переброшена на аэродром</td>\n      <td>аэродром рог</td>\n      <td>военной авиации, долгинцево(кривой рог</td>\n      <td>остатки авиации, остатки укрорейха</td>\n    </tr>\n    <tr>\n      <th>3</th>\n      <td>Раньше укронацисты строили песчаные замки — но...</td>\n      <td>укронацисты раньше строили, укронацисты теперь...</td>\n      <td>раньше строили замки</td>\n      <td>NaN</td>\n      <td>песчаные замки</td>\n      <td>NaN</td>\n    </tr>\n    <tr>\n      <th>4</th>\n      <td>Именно эти регионы являются настоящим рассадни...</td>\n      <td>регионы являются рассадником, регионы имеют</td>\n      <td>имеют для укронациков, имеют смысл</td>\n      <td>NaN</td>\n      <td>настоящим рассадником, сакральный смысл, идеол...</td>\n      <td>рассадником укронацизма</td>\n    </tr>\n    <tr>\n      <th>...</th>\n      <td>...</td>\n      <td>...</td>\n      <td>...</td>\n      <td>...</td>\n      <td>...</td>\n      <td>...</td>\n    </tr>\n    <tr>\n      <th>3638</th>\n      <td>Стоимость очередной подачки хохлам - $675 млн.</td>\n      <td>NaN</td>\n      <td>NaN</td>\n      <td>NaN</td>\n      <td>очередной подачки, - млн</td>\n      <td>стоимость подачки, подачки млн</td>\n    </tr>\n    <tr>\n      <th>3639</th>\n      <td>Хохлячие каналы ссылаясь на некую разведку соо...</td>\n      <td>каналы сообщают, вс готовы подорвать, зеленски...</td>\n      <td>ссылаясь на разведку, сообщают о том, подорват...</td>\n      <td>NaN</td>\n      <td>хохлячие каналы, каховской гэс, масштабной тре...</td>\n      <td>каналы ссылаясь, дамбу гэс, шумок тревоги</td>\n    </tr>\n    <tr>\n      <th>3640</th>\n      <td>Обсуждают недоукраинца Невзорова, Анну Нетребк...</td>\n      <td>NaN</td>\n      <td>обсуждают недоукраинца</td>\n      <td>NaN</td>\n      <td>NaN</td>\n      <td>NaN</td>\n    </tr>\n    <tr>\n      <th>3641</th>\n      <td>И вот приходит коллективный Зусько и буквально...</td>\n      <td>зусько вот приходит, зусько буквально начинает...</td>\n      <td>буквально начинает хохлов заваливать, завалива...</td>\n      <td>NaN</td>\n      <td>коллективный зусько, ровном месте</td>\n      <td>трупами мобилизованных</td>\n    </tr>\n    <tr>\n      <th>3642</th>\n      <td>Ну, во-первых спасибо за установочные данные, ...</td>\n      <td>хлопцы бизнес, это бизнес</td>\n      <td>NaN</td>\n      <td>NaN</td>\n      <td>установочные данные, новый бизнес</td>\n      <td>спасибо установочные данные</td>\n    </tr>\n  </tbody>\n</table>\n<p>3643 rows × 6 columns</p>\n</div>"
     },
     "execution_count": 10,
     "metadata": {},
     "output_type": "execute_result"
    }
   ],
   "source": [
    "df_collocations"
   ],
   "metadata": {
    "collapsed": false,
    "pycharm": {
     "name": "#%%\n"
    }
   }
  },
  {
   "cell_type": "code",
   "execution_count": 16,
   "outputs": [
    {
     "name": "stderr",
     "output_type": "stream",
     "text": [
      "/var/folders/2w/hygxgpp5353_dy_tk88gw2100000gn/T/ipykernel_89492/3268668609.py:2: SettingWithCopyWarning: \n",
      "A value is trying to be set on a copy of a slice from a DataFrame.\n",
      "Try using .loc[row_indexer,col_indexer] = value instead\n",
      "\n",
      "See the caveats in the documentation: https://pandas.pydata.org/pandas-docs/stable/user_guide/indexing.html#returning-a-view-versus-a-copy\n",
      "  df['text_clean'] = df['text'].apply(lambda x: clean_text(x.lower(), cyrillic_letters))\n"
     ]
    },
    {
     "name": "stdout",
     "output_type": "stream",
     "text": [
      "CPU times: user 18.9 s, sys: 129 ms, total: 19 s\n",
      "Wall time: 19 s\n"
     ]
    },
    {
     "name": "stderr",
     "output_type": "stream",
     "text": [
      "/var/folders/2w/hygxgpp5353_dy_tk88gw2100000gn/T/ipykernel_89492/3268668609.py:3: SettingWithCopyWarning: \n",
      "A value is trying to be set on a copy of a slice from a DataFrame.\n",
      "Try using .loc[row_indexer,col_indexer] = value instead\n",
      "\n",
      "See the caveats in the documentation: https://pandas.pydata.org/pandas-docs/stable/user_guide/indexing.html#returning-a-view-versus-a-copy\n",
      "  df['text_lemmatized'] = df['text_clean'].apply(lambda x: lemmatize_spacy(x))\n"
     ]
    }
   ],
   "source": [
    "%%time\n",
    "df_collocations = preprocess_df(df_collocations)"
   ],
   "metadata": {
    "collapsed": false,
    "pycharm": {
     "name": "#%%\n"
    }
   }
  },
  {
   "cell_type": "code",
   "execution_count": 18,
   "outputs": [
    {
     "name": "stderr",
     "output_type": "stream",
     "text": [
      "/var/folders/2w/hygxgpp5353_dy_tk88gw2100000gn/T/ipykernel_89492/4110097691.py:1: SettingWithCopyWarning: \n",
      "A value is trying to be set on a copy of a slice from a DataFrame\n",
      "\n",
      "See the caveats in the documentation: https://pandas.pydata.org/pandas-docs/stable/user_guide/indexing.html#returning-a-view-versus-a-copy\n",
      "  df_collocations.drop(columns=['index'], inplace=True)\n"
     ]
    }
   ],
   "source": [
    "df_collocations.drop(columns=['index'], inplace=True)"
   ],
   "metadata": {
    "collapsed": false,
    "pycharm": {
     "name": "#%%\n"
    }
   }
  },
  {
   "cell_type": "code",
   "execution_count": 19,
   "outputs": [
    {
     "data": {
      "text/plain": "                                                   text  \\\n0     Вагнер отправляет к бандере и прочим шайтанам ...   \n1     Тут понимаешь всё про метафизику этой войны. «...   \n2     Наш источник сообщает, что остатки военной ави...   \n3     Раньше укронацисты строили песчаные замки — но...   \n4     Именно эти регионы являются настоящим рассадни...   \n...                                                 ...   \n3623     Стоимость очередной подачки хохлам - $675 млн.   \n3624  Хохлячие каналы ссылаясь на некую разведку соо...   \n3625  Обсуждают недоукраинца Невзорова, Анну Нетребк...   \n3626  И вот приходит коллективный Зусько и буквально...   \n3627  Ну, во-первых спасибо за установочные данные, ...   \n\n                                     core_noun_verb_str  \\\n0                                     вагнер отправляет   \n1                               укропы вышли, они вышли   \n2                         источник сообщает переброшена   \n3     укронацисты раньше строили, укронацисты теперь...   \n4           регионы являются рассадником, регионы имеют   \n...                                                 ...   \n3623                                                NaN   \n3624  каналы сообщают, вс готовы подорвать, зеленски...   \n3625                                                NaN   \n3626  зусько вот приходит, зусько буквально начинает...   \n3627                          хлопцы бизнес, это бизнес   \n\n                                       verb_obl_obj_str  \\\n0              отправляет к бандере, отправляет бригады   \n1     тут понимаешь всё, тут понимаешь про метафизик...   \n2                               переброшена на аэродром   \n3                                  раньше строили замки   \n4                    имеют для укронациков, имеют смысл   \n...                                                 ...   \n3623                                                NaN   \n3624  ссылаясь на разведку, сообщают о том, подорват...   \n3625                             обсуждают недоукраинца   \n3626  буквально начинает хохлов заваливать, завалива...   \n3627                                                NaN   \n\n                     appos_str  \\\n0     батальон джохара дудаева   \n1                          NaN   \n2                 аэродром рог   \n3                          NaN   \n4                          NaN   \n...                        ...   \n3623                       NaN   \n3624                       NaN   \n3625                       NaN   \n3626                       NaN   \n3627                       NaN   \n\n                                               amod_str  \\\n0     прочим шайтанам, следующие бригады, шайтанский...   \n1                                                   NaN   \n2                военной авиации, долгинцево(кривой рог   \n3                                        песчаные замки   \n4     настоящим рассадником, сакральный смысл, идеол...   \n...                                                 ...   \n3623                           очередной подачки, - млн   \n3624  хохлячие каналы, каховской гэс, масштабной тре...   \n3625                                                NaN   \n3626                  коллективный зусько, ровном месте   \n3627                  установочные данные, новый бизнес   \n\n                                               nmod_str  \\\n0     бандере бахмута районе, районе бахмута, бригад...   \n1     метафизику войны, укропы запада покровом, покр...   \n2                    остатки авиации, остатки укрорейха   \n3                                                   NaN   \n4                               рассадником укронацизма   \n...                                                 ...   \n3623                     стоимость подачки, подачки млн   \n3624          каналы ссылаясь, дамбу гэс, шумок тревоги   \n3625                                                NaN   \n3626                             трупами мобилизованных   \n3627                        спасибо установочные данные   \n\n                                             text_clean  \\\n0     вагнер отправляет к бандере и прочим шайтанам ...   \n1     тут понимаешь всё про метафизику этой войны ук...   \n2     наш источник сообщает что остатки военной авиа...   \n3     раньше укронацисты строили песчаные замки  но ...   \n4     именно эти регионы являются настоящим рассадни...   \n...                                                 ...   \n3623           стоимость очередной подачки хохлам   млн   \n3624  хохлячие каналы ссылаясь на некую разведку соо...   \n3625  обсуждают недоукраинца невзорова анну нетребко...   \n3626  и вот приходит коллективный зусько и буквально...   \n3627  ну вопервых спасибо за установочные данные а в...   \n\n                                        text_lemmatized  \n0     вагнер отправлять к бандере и прочим шайтан в ...  \n1     тут понимать всё про метафизика этот война укр...  \n2     наш источник сообщать что остаток военный авиа...  \n3     раньше укронацисты строить песчаный замок   но...  \n4     именно этот регион являться настоящий рассадни...  \n...                                                 ...  \n3623           стоимость очередной подачка хохол    млн  \n3624  хохлячие канал ссылаться на некий разведка соо...  \n3625  обсуждать недоукраинца невзоров анна нетребко ...  \n3626  и вот приходить коллективный зусько и буквальн...  \n3627  ну вопервых спасибо за установочный данные а в...  \n\n[3628 rows x 8 columns]",
      "text/html": "<div>\n<style scoped>\n    .dataframe tbody tr th:only-of-type {\n        vertical-align: middle;\n    }\n\n    .dataframe tbody tr th {\n        vertical-align: top;\n    }\n\n    .dataframe thead th {\n        text-align: right;\n    }\n</style>\n<table border=\"1\" class=\"dataframe\">\n  <thead>\n    <tr style=\"text-align: right;\">\n      <th></th>\n      <th>text</th>\n      <th>core_noun_verb_str</th>\n      <th>verb_obl_obj_str</th>\n      <th>appos_str</th>\n      <th>amod_str</th>\n      <th>nmod_str</th>\n      <th>text_clean</th>\n      <th>text_lemmatized</th>\n    </tr>\n  </thead>\n  <tbody>\n    <tr>\n      <th>0</th>\n      <td>Вагнер отправляет к бандере и прочим шайтанам ...</td>\n      <td>вагнер отправляет</td>\n      <td>отправляет к бандере, отправляет бригады</td>\n      <td>батальон джохара дудаева</td>\n      <td>прочим шайтанам, следующие бригады, шайтанский...</td>\n      <td>бандере бахмута районе, районе бахмута, бригад...</td>\n      <td>вагнер отправляет к бандере и прочим шайтанам ...</td>\n      <td>вагнер отправлять к бандере и прочим шайтан в ...</td>\n    </tr>\n    <tr>\n      <th>1</th>\n      <td>Тут понимаешь всё про метафизику этой войны. «...</td>\n      <td>укропы вышли, они вышли</td>\n      <td>тут понимаешь всё, тут понимаешь про метафизик...</td>\n      <td>NaN</td>\n      <td>NaN</td>\n      <td>метафизику войны, укропы запада покровом, покр...</td>\n      <td>тут понимаешь всё про метафизику этой войны ук...</td>\n      <td>тут понимать всё про метафизика этот война укр...</td>\n    </tr>\n    <tr>\n      <th>2</th>\n      <td>Наш источник сообщает, что остатки военной ави...</td>\n      <td>источник сообщает переброшена</td>\n      <td>переброшена на аэродром</td>\n      <td>аэродром рог</td>\n      <td>военной авиации, долгинцево(кривой рог</td>\n      <td>остатки авиации, остатки укрорейха</td>\n      <td>наш источник сообщает что остатки военной авиа...</td>\n      <td>наш источник сообщать что остаток военный авиа...</td>\n    </tr>\n    <tr>\n      <th>3</th>\n      <td>Раньше укронацисты строили песчаные замки — но...</td>\n      <td>укронацисты раньше строили, укронацисты теперь...</td>\n      <td>раньше строили замки</td>\n      <td>NaN</td>\n      <td>песчаные замки</td>\n      <td>NaN</td>\n      <td>раньше укронацисты строили песчаные замки  но ...</td>\n      <td>раньше укронацисты строить песчаный замок   но...</td>\n    </tr>\n    <tr>\n      <th>4</th>\n      <td>Именно эти регионы являются настоящим рассадни...</td>\n      <td>регионы являются рассадником, регионы имеют</td>\n      <td>имеют для укронациков, имеют смысл</td>\n      <td>NaN</td>\n      <td>настоящим рассадником, сакральный смысл, идеол...</td>\n      <td>рассадником укронацизма</td>\n      <td>именно эти регионы являются настоящим рассадни...</td>\n      <td>именно этот регион являться настоящий рассадни...</td>\n    </tr>\n    <tr>\n      <th>...</th>\n      <td>...</td>\n      <td>...</td>\n      <td>...</td>\n      <td>...</td>\n      <td>...</td>\n      <td>...</td>\n      <td>...</td>\n      <td>...</td>\n    </tr>\n    <tr>\n      <th>3623</th>\n      <td>Стоимость очередной подачки хохлам - $675 млн.</td>\n      <td>NaN</td>\n      <td>NaN</td>\n      <td>NaN</td>\n      <td>очередной подачки, - млн</td>\n      <td>стоимость подачки, подачки млн</td>\n      <td>стоимость очередной подачки хохлам   млн</td>\n      <td>стоимость очередной подачка хохол    млн</td>\n    </tr>\n    <tr>\n      <th>3624</th>\n      <td>Хохлячие каналы ссылаясь на некую разведку соо...</td>\n      <td>каналы сообщают, вс готовы подорвать, зеленски...</td>\n      <td>ссылаясь на разведку, сообщают о том, подорват...</td>\n      <td>NaN</td>\n      <td>хохлячие каналы, каховской гэс, масштабной тре...</td>\n      <td>каналы ссылаясь, дамбу гэс, шумок тревоги</td>\n      <td>хохлячие каналы ссылаясь на некую разведку соо...</td>\n      <td>хохлячие канал ссылаться на некий разведка соо...</td>\n    </tr>\n    <tr>\n      <th>3625</th>\n      <td>Обсуждают недоукраинца Невзорова, Анну Нетребк...</td>\n      <td>NaN</td>\n      <td>обсуждают недоукраинца</td>\n      <td>NaN</td>\n      <td>NaN</td>\n      <td>NaN</td>\n      <td>обсуждают недоукраинца невзорова анну нетребко...</td>\n      <td>обсуждать недоукраинца невзоров анна нетребко ...</td>\n    </tr>\n    <tr>\n      <th>3626</th>\n      <td>И вот приходит коллективный Зусько и буквально...</td>\n      <td>зусько вот приходит, зусько буквально начинает...</td>\n      <td>буквально начинает хохлов заваливать, завалива...</td>\n      <td>NaN</td>\n      <td>коллективный зусько, ровном месте</td>\n      <td>трупами мобилизованных</td>\n      <td>и вот приходит коллективный зусько и буквально...</td>\n      <td>и вот приходить коллективный зусько и буквальн...</td>\n    </tr>\n    <tr>\n      <th>3627</th>\n      <td>Ну, во-первых спасибо за установочные данные, ...</td>\n      <td>хлопцы бизнес, это бизнес</td>\n      <td>NaN</td>\n      <td>NaN</td>\n      <td>установочные данные, новый бизнес</td>\n      <td>спасибо установочные данные</td>\n      <td>ну вопервых спасибо за установочные данные а в...</td>\n      <td>ну вопервых спасибо за установочный данные а в...</td>\n    </tr>\n  </tbody>\n</table>\n<p>3628 rows × 8 columns</p>\n</div>"
     },
     "execution_count": 19,
     "metadata": {},
     "output_type": "execute_result"
    }
   ],
   "source": [
    "df_collocations"
   ],
   "metadata": {
    "collapsed": false,
    "pycharm": {
     "name": "#%%\n"
    }
   }
  },
  {
   "cell_type": "code",
   "execution_count": 81,
   "outputs": [],
   "source": [
    "def cluster_with_kmeans(df, num_clusters, col_list):\n",
    "    pd.set_option('display.max_colwidth', None)\n",
    "    columns_to_cluster = col_list\n",
    "    text_data = df[columns_to_cluster].apply(lambda x: ' '.join(x.astype(str)), axis=1)\n",
    "    tfidf_vectorizer = TfidfVectorizer()\n",
    "    X = tfidf_vectorizer.fit_transform(text_data)\n",
    "    n_clusters = num_clusters\n",
    "    kmeans = KMeans(n_clusters=n_clusters, random_state=0).fit(X)\n",
    "    timestamp_str = datetime.now().strftime(\"%Y-%m-%d_%H-%M-%S\")\n",
    "    cluster_labels_name = f'cluster_{n_clusters}_{\"_\".join(columns_to_cluster)}_{timestamp_str}'\n",
    "    df[cluster_labels_name] = kmeans.labels_\n",
    "\n",
    "    # Print the resulting clusters\n",
    "    for i in range(n_clusters):\n",
    "        print(f\"Cluster {i}:\")\n",
    "        print(df_collocations['text'][df_collocations[cluster_labels_name] == i].sample(10))\n",
    "        print('\\n')\n",
    "        print('\\n')\n",
    "\n",
    "    # return df\n"
   ],
   "metadata": {
    "collapsed": false,
    "pycharm": {
     "name": "#%%\n"
    }
   }
  },
  {
   "cell_type": "code",
   "execution_count": 82,
   "outputs": [],
   "source": [
    "# from sklearn.feature_extraction.text import TfidfVectorizer\n",
    "# from sklearn.cluster import KMeans\n",
    "# import time\n",
    "# from datetime import datetime\n",
    "#\n",
    "#\n",
    "# # Select the columns you want to use for clustering\n",
    "# columns_to_cluster = ['text_lemmatized']\n",
    "#\n",
    "# # Convert the text data in the selected columns to a sequence of strings\n",
    "# text_data = df_collocations[columns_to_cluster].apply(lambda x: ' '.join(x.astype(str)), axis=1)\n",
    "#\n",
    "# # Convert the text data to a matrix of TF-IDF features\n",
    "# tfidf_vectorizer = TfidfVectorizer()\n",
    "# X = tfidf_vectorizer.fit_transform(text_data)\n",
    "# n_clusters = 2\n",
    "#\n",
    "# # Perform kmeans clustering with 2 clusters\n",
    "# kmeans = KMeans(n_clusters=n_clusters, random_state=0).fit(X)\n",
    "#\n",
    "# # Add the cluster labels to the original dataframe\n",
    "# # df_collocations['cluster'] = kmeans.labels_\n",
    "# # df_collocations[f'cluster_{n_clusters}_{\"_\".join(columns_to_cluster)}_{int(time.time())}'] = kmeans.labels_\n",
    "# timestamp_str = datetime.now().strftime(\"%Y-%m-%d_%H-%M-%S\")\n",
    "# df_collocations[f'cluster_{n_clusters}_{\"_\".join(columns_to_cluster)}_{timestamp_str}'] = kmeans.labels_\n",
    "#\n",
    "# # Print the resulting clusters\n",
    "# for i in range(2):\n",
    "#     print(f\"Cluster {i}:\")\n",
    "#     print(df_collocations[df_collocations['cluster'] == i][columns_to_cluster])\n",
    "#     print('\\n')"
   ],
   "metadata": {
    "collapsed": false,
    "pycharm": {
     "name": "#%%\n"
    }
   }
  },
  {
   "cell_type": "code",
   "execution_count": 85,
   "outputs": [
    {
     "name": "stdout",
     "output_type": "stream",
     "text": [
      "Cluster 0:\n",
      "627                                                                                                                                                                                                                                                                                                                                                                                                                                                                                                                                                                                                                                                                                                                                                                                                                                                                                                                                                                                                                                                                                                                                                                                                                                                                                      Хохлопропагандисты теперь недовольны и политикой Эрдогана.\n",
      "3193                                                                                                                                                                                                                                                                                                                                                                                                                                                                                                                                                                                                                                                                                                                                                                                                                                                                                                                                                                                                                                                                                                                                                                                                                                Анатолий Чубайс предупредил о возможном энергетическом кризисе. https://ria.ru/economy/20171031/1507880156.html\n",
      "2319                                                                                                                                                                                                                                                                                                                                                                                                                                                                                                                                                                                                                                                                                                                                                                                                                                                                                                                                                                                                                                                                                                                                                                                                            Ибо, если оставить укронацистам хоть один квадратный метр, они на нём не хлеб будут растить, а готовить антироссийских диверсантов.\n",
      "3441    ⏱ Главные события на 03:00:   ▪️ В Киеве произошёл взрыв генератора, которым пользовались люди из-за отсутствия электричества  ▪️ Министр иностранных дел Украины Дмитрий Кулеба призвал как можно скорее запретить российскую пропаганду  ▪️Иранский КСИР нанес удар по штаб-квартире Демократической партии Курдистана в иракском Эрбиле  ▪️ Турция вновь нанесла удары по Кобани в провинции Алеппо на севере Сирии  ▪️ ВС РФ отправили к Бандере командира 105-го батальона из Закарпатья полковника Мыколу Красивова  ▪️ Вооруженный ВСУшник-шпион пересёк белорусскую границу  ▪️ Белоруссия экстренно увеличила состав сотрудников МВД республики на границе с Украиной  ▪️ Токаев с 82,45% голосов побеждает на президентских выборах в Казахстане  ▪️ Инспекторы МАГАТЭ получат доступ для осмотра Запорожской АЭС после обстрелов со стороны ВСУ, но строго в рамках мандата  ▪️ Укропаблики форсят методички от простых жителей относительного того, что они будут делать в условиях длительного отсутствия электричества на Украине  ▪️ Сирийские боевики оборудовали склады с оружием в лагерях беженцев Харим и Салькин в провинции Идлиб, гуманитарная ситуация там ухудшается  ▪️ Российская нефть в обход санкций идет в Великобританию  ▪️ Американцы на фоне провала Байдена хотят вернуть политику администрации Трампа\n",
      "1916                                                                                                                                                                                                                                                                                                                                                                                                                                                                                                                                                                                                                                                                                                                                                                                                                                                                                                                                                                                                                                                    ⚡️ Взрыв прогремел во время пятничной молитвы в мечети на востоке Афганистана  Сотрудники службы безопасности сообщили, что по меньшей мере 15 человек, включая муллу мечети, получили ранения в результате взрыва, который произошел в районе Спин Гар провинции Нангархар.  @smotri_media\n",
      "1209                                                                                                                                                                                                                                                                                                                                                                                                                                                                                                                                                                                                                                                                                                                                                                                                                                                                                                                                                                                                                                                                                                               Говорил, говорю и буду говорить - укрорейх ведёт и будет вести войну по всем правилам ведения войны всеми доступными для него способами, не считаясь с потерями и разрушениями пока наши стратеги в это время будут мять сиськи.\n",
      "696                                                                                                                                                                                                                                                                                                                                                                                                                                                                                                                                                                                                                                                                                                                                                                                                                                                                                                                                                                                                                                                                                                                                                                   🇺🇦Львовский горсовет выкопает останки советских солдат, чтобы похоронить укронацистов  Массовое захоронение солдат Красной Армии будет осквернено руками бандеровской власти.\n",
      "2086                                                                                                                                                                                                                                                                                                                                                                                                                                                                                                                                                                                                                                                                                                                                                                                                                                                                                                                                                                                                                                                                                                                                                                                                                                                  Путин сообщил, что даст поручения о выработке дополнительных мер по адаптации детей мигрантов\n",
      "1910                                                                                                                                                                                                                                                                                                                                                                                                                                                                                                                                                                                                                                                                                                                                                                                                                                                                                                                                                                                                                                                                                                                                                                                                                                          Больницы Екатеринбурга и других городов готовятся к росту числа госпитализаций детей с коронавирусом.\n",
      "433                                                                                                                                                                                                                                                                                                                                                                                                                                                                                                                                                                                                                                                                                                                                                                                                                                                                                                                                                                                                                                                                                                                                                                                                                                                                                      А чем грамотнее и опаснее укроп, тем ценнее он как трофей.\n",
      "Name: text, dtype: object\n",
      "\n",
      "\n",
      "\n",
      "\n",
      "Cluster 1:\n",
      "37                                                                                                                                           Украинцы, воюющие против буржуазной, больной неонацизмом и русофобией квазиукраины.\n",
      "1318                                                                                                                                                                                                      Минутка конспирологии.\n",
      "884                                                                                       В этой старенькой, светлой бабушке характера,достоинства и смелости больше чем во всех говнонацистских вояках укрорейха вместе взятых.\n",
      "1939                                                                                                                                                                               03.04.2022 Изюм, Харьковская область Украина.\n",
      "2839                                           СМОТРЕТЬ МЕМЫ ПРО ТО КАК ЕБУТ ХОХЛОВ!   ПОДПИСЫВАЙСЯ: @oneterrikon   С УТРА ДО ВЕЧЕРА В ЭТОМ КАНАЛЕ ЕБУТ ЕБУТ ЕБУТ ЕБУТ И ЕЩЁ РАЗ ЕБУТ КОГО?  ПРАВИЛЬНО! ХОХЛОВ!  Господи, блядь.\n",
      "1330                                                                                                                                                                                          Сообщают о взрыве в район ЖД моста\n",
      "227                                                                                                                                     Кадыров: «Мариуполь в ближайшее время будет полностью очищен от бандеровщины и шайтанов.\n",
      "2143                                                                                                                                                                                                        🌎Коронавирус в мире.\n",
      "3533                                                                                                                                                                 Ага, только батька - Бандера.  https://t.me/RtrDonetsk/4193\n",
      "2813    🇺🇦💥 Спонсор бандеровских «добробатов», региональный олигарх, владелец крупнейшего украинского агрохолдинга, долларовый мультимиллионер Алексей Вадатурский был уничтожен ракетным ударом в собственном доме в Николаеве.\n",
      "Name: text, dtype: object\n",
      "\n",
      "\n",
      "\n",
      "\n",
      "Cluster 2:\n",
      "1154                                                                                                                                                                                                Сейчас бои идут уже в Лисичанске, укронацисты драпают в Славянск.\n",
      "549                                                                                                                                                                                                            Укронацисты обстреляли центральный автовокзал Донецка.\n",
      "948                                                                                                                                                                                          Вы только посмотрите, что укронацисты делают с мирными жителями Донецка.\n",
      "3130    В дополнение к предыдущему посту про украинские \"контрнаступления\", вот свежие фото @RVvoenkor из-под Северска, сейчас эти укронацисты продолжат свое контрнаступление прямиком в СИЗО и там будут героически уничтожать кашу агрессора в ожидании трибунала.\n",
      "2428                                                                                                                                  Две карты с обстановкой вокруг Изюма от @rybar, укронацисты закрепились на окраинах Шевченково и штурмуют его уже в третий раз.\n",
      "619                                                                              Укронацисты под руководством НАТО не перешли и не перейдут пока государственную границу РФ не потому что они не могли этого сделать, а потому что у них сейчас нет такой задачи.  2.\n",
      "888                                                                                                                                                                                                          Раз укронацисты ненавидят всё советское, она и не нужна.\n",
      "459                                                                                 🇺🇦Укронацисты продолжают терроризировать мирное население Горловки  Украинские силовики с утра ведут обстрелы городов Горловка и Ясиноватая из реактивной и ствольной артиллерии.\n",
      "930                                            🇺🇦Укронацисты вновь обстреливают Донецк — в Петровском районе крупный пожар  В Петровском районе Донецка в результате обстрела украинскими боевиками загорелась подстанция — многие местные жители остались без света.\n",
      "1009                                                                                                                                                                                       Укронацисты все не могут смириться с потерей территорий😏  Прислать новость\n",
      "Name: text, dtype: object\n",
      "\n",
      "\n",
      "\n",
      "\n"
     ]
    }
   ],
   "source": [
    "cluster_with_kmeans(df_collocations, 3, ['core_noun_verb_str'])"
   ],
   "metadata": {
    "collapsed": false,
    "pycharm": {
     "name": "#%%\n"
    }
   }
  },
  {
   "cell_type": "code",
   "execution_count": 84,
   "outputs": [],
   "source": [
    "# df_1['text'][df_1['cluster_3_core_noun_verb_str_2023-03-27_13-50-59']==1]"
   ],
   "metadata": {
    "collapsed": false,
    "pycharm": {
     "name": "#%%\n"
    }
   }
  },
  {
   "cell_type": "code",
   "execution_count": 86,
   "outputs": [
    {
     "data": {
      "text/plain": "Index(['text', 'core_noun_verb_str', 'verb_obl_obj_str', 'appos_str',\n       'amod_str', 'nmod_str', 'text_clean', 'text_lemmatized', 'cluster',\n       'cluster_2_text_lemmatized_1679913224',\n       'cluster_2_text_lemmatized_2023-03-27_13-35-24',\n       'cluster_2_text_lemmatized_2023-03-27_13-37-54',\n       'cluster_2_core_noun_verb_str_2023-03-27_13-50-14',\n       'cluster_3_core_noun_verb_str_2023-03-27_13-50-59',\n       'cluster_3_core_noun_verb_str_2023-03-27_13-52-37',\n       'cluster_3_core_noun_verb_str_2023-03-27_13-52-51',\n       'cluster_3_core_noun_verb_str_2023-03-27_13-53-32',\n       'cluster_3_core_noun_verb_str_2023-03-27_13-53-41',\n       'cluster_3_core_noun_verb_str_2023-03-27_13-54-58',\n       'cluster_3_core_noun_verb_str_2023-03-27_13-55-16',\n       'cluster_3_core_noun_verb_str_2023-03-27_14-10-44',\n       'cluster_3_core_noun_verb_str_2023-03-27_14-11-04',\n       'cluster_3_core_noun_verb_str_2023-03-27_14-11-17',\n       'cluster_3_core_noun_verb_str_2023-03-27_14-18-08'],\n      dtype='object')"
     },
     "execution_count": 86,
     "metadata": {},
     "output_type": "execute_result"
    }
   ],
   "source": [
    "df_collocations.columns"
   ],
   "metadata": {
    "collapsed": false,
    "pycharm": {
     "name": "#%%\n"
    }
   }
  },
  {
   "cell_type": "code",
   "execution_count": 87,
   "outputs": [
    {
     "name": "stdout",
     "output_type": "stream",
     "text": [
      "Cluster 0:\n",
      "907                                                                          У укронацистской армии и у укронацистского общества серьезные системные проблемы, во всем.\n",
      "2308                                                                                                                                        Ну, то есть с бандеровцами.\n",
      "2412                                                                                                                                             У Бандеры пополнение!”\n",
      "1621                                                                                                                            От подписчика   На обои 😎🤙  @rosich_rus\n",
      "178                                                                                                           Как нравится, бандерлог, тебе сценарий твоего будущего? 😎\n",
      "1113                                                       Хорошее видео от 4 бригады НМ ЛНР https://t.me/Z4LPR/214, обработка позиций укронацистов пифтонными бомбами.\n",
      "2056                                                                                                                                       Новая инсталляция \"Shkurra\".\n",
      "3229                                                                                        ⚡️Столкновение России и украинских неонацистов неизбежно - Путин  @wargonzo\n",
      "1845                                                                                                                          Когда прекратится обстрел жилых кварталов\n",
      "1945    ❗️Большая часть оппозиционных медиа ресурсов не являются средствами массовой информации, поэтому их представители такие же участники несанкционированных акций!\n",
      "Name: text, dtype: object\n",
      "\n",
      "\n",
      "\n",
      "\n",
      "Cluster 1:\n",
      "661                                                        Многие читатели этого цикла в своих комментариях пишут, что ни о каком «польском» Львове сейчас, в первой четверти XXI века, говорить не имеет смысла — ибо оный Львов поражён метастазами киевского национализма, его население погрязло в бандеровском культе по самые уши, и с этим уже ничего поделать нельзя.\n",
      "1241                                                                                                                                                                                                                                  Война до последнего украинца – это вовсе не выдумки России, это та правда, скрывать которую не считают нужным даже хозяева бандеровцев.\n",
      "741                                                                                                                                                                          Что не сделаешь для того, чтобы продолжить убивать хохлов и ослаблять Россию? Новая замануха для майданутых, они же идиоты, всё проглотят, даже откровенную ложь.  https://t.me/i_ponomarev/7303\n",
      "678                                                                                                                                                                          Воистину - титанический труд: выкорчевывание идей укронацизма из голов и душ бывших русских, не помнящих родства, продавших и родину, и себя, и своих детей за Бог весть что.    @voenkorKotenok\n",
      "1613                                                                                                                                                                                                                                                                                                Все таки и в Самарской области врачи не получили \"коронавирусные\" деньги.\n",
      "3121                                                                                                                                                                                                                                       Вы, к примеру, ни разу не слышали, чтобы российская группировка в несколько тысяч бойцов попала в тактическое хохляцкое окружение.\n",
      "3475    Экс-разведчик подчеркнул, что нацбатальоны не расформировали путем арестов или ликвидации их участников: они стали частью украинских войск, и теперь их представители «повсюду». «Самое постыдное в этом всем то, что британские, американские и канадские солдаты ездили на Украину, чтобы тренировать эти неонацистские формирования, первым из которых был «Азов».\n",
      "1175                                                                                                                                                                                                                                              Сейчас сброшены все маски и укрорейх работает \"по площадям\", вообще не заморачиваясь на логику и связанность происходящего.\n",
      "1043                                                    Почему не уничтожены в первые же дни укронацистские штабы, пункты сбора теробороны, военкоматы и конечно же политическое руководство укронацистской хунты? Вопросы, вопросы, сплошные вопросы…  Сможем ли мы с подобными самоограничениями эффективно воевать против противника, ведущего против нас тотальную войну.\n",
      "865                                                                                                                                                                                                                                                                                               Что в целом не мешает укронацистам заниматься этим трупоедством до сих пор.\n",
      "Name: text, dtype: object\n",
      "\n",
      "\n",
      "\n",
      "\n",
      "Cluster 2:\n",
      "1804                                                                                                                                                                                                                                                                                                                                                    Продажи антидепрессантов в России накануне самоизоляции почти удвоились, аналитика DSM в распоряжении РИА Новости\n",
      "890                                                                                                                                                                                                                                                                                                                  18+ Страшные кадры из Таврического микрорайона Херсона, где сегодня вечером во время обстрела города укронацисты убили целую семью.  @voenkorKotenok\n",
      "2020                                                                                                                                                                                                                                                                                                                                       В здании рядом с Лондонским мостом произошло нападение с ножом, несколько человек ранены, один мужчина задержан - Скотланд-Ярд\n",
      "3437                                                                                                                                                                                                                                                                                                                                                                                                                   Куда важней, что тамошние хохловоины всё осознали.\n",
      "2958    Эту концепцию первоначально разработали в США в середине 70-х годов прошлого века под руководством Джеймса Шлезингера ( директор ЦРУ и министр обороны США в 1973-1975).Основным исполнителем стал Фриц Эрмарт, позже глава Национального совета по разведке и специальный советник Рейгана, а также один из ведущих сотрудников фонда Heritage, в этом качестве курировавший контакты с либеральным окружением Ельцина (Чубайс, Гайдар, Немцов, Кудрин и др.) 4.\n",
      "2075                                                                                                                                                                                                                                                                                                                                                                                                                                     Ну хоть не проституток выбирают.\n",
      "754                                                                                                                                                                                                                                                                                                                                                                                  Русская артиллерия открыла ответный огонь по огневым точкам укронацистов в Харькова.\n",
      "2768                                                                                                                                                                     Например, как то на задержании вымогателей после долгой беготни за ними по автобусным остановкам (один из убегавших скинул кожаную куртку и усевшись на остановке сделал вид, что ждёт автобус) выяснилось, что «бригада» состоит из нескольких таджиков и хохла которые работали под «чеченов».\n",
      "1482                                                                                                                                                                                                                                                                                                         48 лет - самое время для того, чтобы, проживая с мамой в однокомнатной квартире, без жены, детей, семьи и нормальной профессии - свергать ненавистный режим.\n",
      "3260                                                                                                                                                                                                                                                                                                                                                                                                                             Вон у Чубайса целого Абызова арестовали.\n",
      "Name: text, dtype: object\n",
      "\n",
      "\n",
      "\n",
      "\n"
     ]
    }
   ],
   "source": [
    "cluster_with_kmeans(df_collocations, 3, ['verb_obl_obj_str'])"
   ],
   "metadata": {
    "collapsed": false,
    "pycharm": {
     "name": "#%%\n"
    }
   }
  },
  {
   "cell_type": "code",
   "execution_count": 88,
   "outputs": [
    {
     "name": "stdout",
     "output_type": "stream",
     "text": [
      "Cluster 0:\n",
      "3477                                 Неонацисты из нацбатов воюют вместе с неграми  Ещё одно свидетельство, что территорию бывшей Украины оккупируют иностранцы.\n",
      "2134                                                                                                                                                С любовью💧❤️\n",
      "1856                                                                                                        Нашел, недолго покопавшись в своем архиве за август.\n",
      "3409                                                                                                          Именно его, а не Чубайса, Навального или Волошина.\n",
      "3261    Очень внимательно отнеситесь к посту укронациста (предположительно, это один из вурдалаков типо бабченко, сбежавших из России на Украину и далее везде).\n",
      "1007                                                              Генерал укрорейха собрал дань в зоне ООС и попозировал у карт: https://t.me/black_list_VSU/327\n",
      "1897                                                                           Какие ублюдки - обстреляли сначала мирных, которые готовили памятник к празднику.\n",
      "637                                        Денацификация помутненного за годы бандеризации сознания так и происходит, больно, через свою шкуру. 18+, много мата.\n",
      "691                                         Странно, флаги со свастикой и Майн Кампф у поддерживаемых Аваковым укронацистов, а денацифицировать он хочет Россию.\n",
      "3460                                                                                                                             Только Бандера, лучина и кизяк.\n",
      "Name: text, dtype: object\n",
      "\n",
      "\n",
      "\n",
      "\n",
      "Cluster 1:\n",
      "2893    Сегодня там был обстрелян блокпост  — Путин пообещал выплатить семьям военных, погибших на войне в Украине, по 7,4 миллионов рублей и снова сказал, что они воюют с «неонацистами»  — Завершился второй раунд переговоров между Россией и Украиной: стороны смогли договориться о совместных гуманитарных коридорах  — Президент Франции Эмманюэль Макрон после разговора с Путиным: «худшее еще впереди»  — Песков назвал «уткой» сообщения о введении в России военного положения и запрета на выезд за границу для мужчин призывного возраста  — С начала вторжения из Украины в соседние страны бежали миллион человек, сообщает ООН  — Совет директоров решил ликвидировать «Эхо Москвы». «Дождь» объявил о приостановке работы телеканала, потом в редакцию пришла полиция  — IKEA, Lego, Nissan, Volkswagen, SAP,  приостанавливают работу в России  Власти считают «Дождь» «иностранным агентом»\n",
      "2540                                                                                                                                                                                                                                                                                                                                                                                                                                                                                                                                                                                                                                                                                                                                                              Группировка пленных всушников, что сейчас находятся на территории России, вырастет еще на пару тысяч и будет составлять порядка 7 тысяч голов.\n",
      "2461                                                                                                                                                                                                                                                                                                                                                                                                                                                                                                                                                                                                                                                                                                                                 Чтобы статистикой в миллионы россиян, приехавших в Крым, раз и навсегда разбить в клочья любые потуги русофобов и свидомых на тему сорванных туристических сезонов в Крыму.\n",
      "724                                                                                                                                                                                                                                                                                                                                                                                                                                                                                                                                                                                                                                                                                                                            Запугивание мирного населения укронацистами продолжается.  [24.03.2022] [18:47] Воздуздушное Командование «Схид»,снова рассказывает байки о сбитом самолёте СУ-34 и беспилотнике.\n",
      "1461                                                                                                                                                                                                                                                                                                                                                                                                                                                                                                                                                                                                                                                                                                                                                                                               Уличная камера в Первоуральске снимала дорожнее движение, как вдруг случайно запечатлела особый вид боулинга.\n",
      "3089                                                                                                                                                                                                                                                                                                                                                                                                                                                                                                                                                                                                                                                                                                                                                                                             Капитан Сергей Чёрный, управляя штурмовиком Су-25, обнаружил движущуюся колонну неонацистов с военной техникой.\n",
      "835                                                                                                                                                                                                                                                                                                                                                                                                                                                                                                                                                                                                                                                                                                                                                                                                              Н. А. Изотова со стороны укронацистов количество раненых мирных жителей Горловки возросло до 5.\n",
      "3355                                                                                                                                                                                                                                                                                                                                                                                                                                                                                                                                                                                                                                                                                                                                                                      ФСБ задержала группу неонацистов, которая по заданию СБУ планировала убийства российских журналистов, в том числе Владимира Соловьева.\n",
      "3085                                                                                                                                                                                                                                                                                                                                                                                                                                                                                                                                                                                                                                                                                                                                                                                                                                            Так что «не Чубайс тогда управлял СПС», - ошибочное утверждение.\n",
      "510                                                                                                                                                                                                                                                                                                                                                                                                                                                                                                                                                                                                                                                                                                                                                                                                                                                                   Такая вот маленькая укронацисткая радость.\n",
      "Name: text, dtype: object\n",
      "\n",
      "\n",
      "\n",
      "\n",
      "Cluster 2:\n",
      "491                                                                                       \"В Херсоне всё спокойно и никакой паники нет\"   Заместитель главы ВГА Херсонской области Кирилл Стремоусов рассказал об обстановке в городе.    💬\"Жизнь в Херсоне продолжается и все заявления о том, что укронацисты ворвутся в Херсон, как всегда бессмысленны.\n",
      "548                                                                                                                                                                                                                                                              В Белгородском районе, Белгородской области так же фиксируются удары со стороны укрорейха.\n",
      "1334                                                                                                                                                                                                                                           Правительство Воронежской области опубликовало ориентировку на солдата-срочника, расстрелявшего сослуживцев.\n",
      "477                                                                                                                                                                                                                                 Паблики укронацистов подтверждают обмен \"86-ти бойцов ВСУ\" на военнослужащих РФ в Запорожской области.  @voenkorKotenok\n",
      "3348                                                                                                                                                                                                                            Су-35 ударил ракетой Х-59 по объекту инфраструктуры в Одесской области, заявили всушники из оперативного командования \"Юг\".\n",
      "2569    ⚡️🇺🇦 В Волгоградской области предотвратили готовившийся украинскими спецслужбами теракт на объекте нефтегазового комплекса, двое диверсантов нейтрализованы — ФСБ.  Диверсанты, по данным ФСБ, входили в состав праворадикальной группировки «Реструкт», которую создал видеоблогер неонацистского толка Максим Марцинкевич, известный как «Тесак».\n",
      "1861                                                                                                                                                                                                            Частичное обрушение конструкций моста в Курской области не повлияло на движение поездов, заявили в пресс-службе Московской железной дороги.\n",
      "1255                                                                                                                     \"Искандер\" высококачественно утилизирует два РСЗО \"Ураган\"  укронацистов по дороге в населенный пункт Геевка  ( 25 км к западу от п. Балаклеи Харьковской области)  👉 ХАРЬКОV НАРОДНЫЙ 👉@KharkovAnon_bot бот для оперативной связи\n",
      "1886                                                                                                                                             Отсутствие контроля со стороны органов, принимающих решение при проверке и назначении кандидатов на высокие должности во власти, привели к многочисленным отставкам в администрации Рязанской области. ...\n",
      "1530                                                                                                                                                                                                                                           Губернатор Омской области Александр Бурков исключён из президиума Центрального совета \"Справедливой России\".\n",
      "Name: text, dtype: object\n",
      "\n",
      "\n",
      "\n",
      "\n"
     ]
    }
   ],
   "source": [
    "cluster_with_kmeans(df_collocations, 3, ['amod_str'])"
   ],
   "metadata": {
    "collapsed": false,
    "pycharm": {
     "name": "#%%\n"
    }
   }
  },
  {
   "cell_type": "code",
   "execution_count": 89,
   "outputs": [
    {
     "name": "stdout",
     "output_type": "stream",
     "text": [
      "Cluster 0:\n",
      "954         Трофейная \"Восьмидесятка\", которую наши бойцы отжали у чубатых морпехов в Мариуполе, успешно воюет на угледарском направлении.\n",
      "2459                                                                   Свершилось. «Печку-Буржуйку» на хуторе переименовали в «Бандерпечь»\n",
      "2948                                                                                                                    Сдавайся, хохоль!©\n",
      "3495                                              Хохлы ещё не поняли, что в принципе могут делать с Донбассом буквально всё, что захотят.\n",
      "1169    Укропские свинособаки издеваются даже над нашими двухсотыми. 18+ И после этого их можно называть «людьми»?  https://t.me/sofrezerv\n",
      "2991                                                                        В итоге один ВСУшник застрелен, второй ранен, третий задержан.\n",
      "2763                                      Неонацистские батальоны действительно прикрываются гражданскими, они их расстреливают и убивают.\n",
      "1027                                                                              Сколько там укронацистких боевиков будет известно позже.\n",
      "2325                                                                Боцман — это известный в том числе в России неонацист Сергей Коротких.\n",
      "3556                                                                                         Чудак-человек, да хохлам только этого и надо.\n",
      "Name: text, dtype: object\n",
      "\n",
      "\n",
      "\n",
      "\n",
      "Cluster 1:\n",
      "3545                                                                                                                                                                                                                                                                                                            ⚡️⚡️⚡️Под удары русской артиллерии, укропы прячутся по подвалам мирного населения в поисках горилки для снятия напряжения‼️‼️‼️\n",
      "1905                                                                                                                                                                                 РИА «Новости» сообщает:  Адресность социальной поддержки малообеспеченным гражданам может стать инструментом, который позволит добиться снижения уровня бедности вдвое в течение трех-четырех лет, заявил \"Известиям\" глава Счетной палаты Алексей Кудрин.\n",
      "614     Например обещать перебить 80 процентов земляков, как на картинке, или выложить трупы в мешках перед сахибами с ЕС, как вчера сотрудники корпорации Зеленский и ко(что интересно трупы неделю не изучают и не захоранивают, украинец и после смерти должен служить Свинорейху, даже если его убил именно свинорейх), свалить в Израиль и вспомнить бабушку-еврейку с португальскими корнями, а потом оттуда ныть что ты и есть Россия...\n",
      "567                                                                                                                                                                                                                                                                                                                                                                                                      Мёртвые укросвиньи укрорейху не нужны.\n",
      "1168                                                                                                                                                                                                                                                                                                 Отход наших войск из намечающегося котла не только позволил избежать больших жертв, но и разрушил план – максимум бандеровцев и их хозяев.\n",
      "3290                                                                                                                                                                                                                                                                                                                                                                         UPD. На сайте Кремля президента исправили и написали «бандеровцы».\n",
      "2700                                                                                                                                                                                                                                                                              У нее не страница, а какой-то патологической укроп головного мозга - «Украина - це ми», «Слава воинам АТО!», «Русские националисты за рубежом» - вот это все.\n",
      "3320                                                                                                                                 В этот день 8 лет назад состоялся антибандеровский митинг в Севастополе и началась Русская Весна, которая привела к освобождению Крыма и Севастополя из под украинской оккупации и началу борьбы Донбасса за свою независимость, которая на днях получила свое запоздалое, но столь ожидаемое продолжение.\n",
      "671                                                                                                                                                                         Фактически, США пытаются шантажировать РФ угрозой ядерной катастрофы у ее границ. @sorok40russia Неоконы бьют РСЗО и артиллерией по ЗАЭС, зная, что если что-то нехорошее и произойдет, то спишут на укропитеков, а накроет облако Россию или Европу Америке пофиг.\n",
      "125                                                                                                                                                                                                                                                                                                                                                                                                 Укронацики только пожилых щемить и горазды.\n",
      "Name: text, dtype: object\n",
      "\n",
      "\n",
      "\n",
      "\n",
      "Cluster 2:\n",
      "804                                                                                                                                  Последствия удара укрорейха по Климову, Брянская область.\n",
      "1243                                                                                       На берег днепровского лимана выбросило катер укрорейха береговой охраны с личным составом на борту.\n",
      "202                                                                                                 Если заметили воинский эшелон укрорейха на просторах украины пишите в бот @zov_sierra_bot.\n",
      "405     💥💥💥 На видео можно видеть как чëтко взаимодействуют  наши БПЛА с артой!  Наёмники укрорейха так называемого  батальона националистов из Белоруссии - \"Террор\" не могут поднять голову.\n",
      "1203                                                                                 Прислать фото, видео или координаты где прячутся военные преступники укрорейха можно сюда 👉 @z_info_1_bot\n",
      "876                                                                                                             Воины укрорейха продолжают наказывать за пьянку своих побратимов в стиле БДСМ😂\n",
      "2                                                                                  Наш источник сообщает, что остатки военной авиации укрорейха переброшена на аэродром Долгинцево(Кривой Рог)\n",
      "118                                                                                                                                                          Ещё о контрнаступлении укрорейха.\n",
      "93                                                                                                        Войска укрорейха продолжают помогать России собирать доказательства их преступлений.\n",
      "928                                                                                                           Иллюстрация того, как относится командование укрорейха к своему личному составу.\n",
      "Name: text, dtype: object\n",
      "\n",
      "\n",
      "\n",
      "\n"
     ]
    }
   ],
   "source": [
    "cluster_with_kmeans(df_collocations, 3, ['nmod_str'])"
   ],
   "metadata": {
    "collapsed": false,
    "pycharm": {
     "name": "#%%\n"
    }
   }
  },
  {
   "cell_type": "code",
   "execution_count": 90,
   "outputs": [
    {
     "name": "stdout",
     "output_type": "stream",
     "text": [
      "Cluster 0:\n",
      "1630                                                                                                                                                                                                                                                                                                                                                                                                                                                                                                                                                                                                                                                                                                                                                                                                                                                                                                                                                                                                                                                                                                                                                                               Один человек погиб и пять пострадали в результате жёсткой посадки с последующим возгоранием вертолёта Ми-8 в Забайкальском крае. #Россия  @new_militarycolumnist\n",
      "3441    ⏱ Главные события на 03:00:   ▪️ В Киеве произошёл взрыв генератора, которым пользовались люди из-за отсутствия электричества  ▪️ Министр иностранных дел Украины Дмитрий Кулеба призвал как можно скорее запретить российскую пропаганду  ▪️Иранский КСИР нанес удар по штаб-квартире Демократической партии Курдистана в иракском Эрбиле  ▪️ Турция вновь нанесла удары по Кобани в провинции Алеппо на севере Сирии  ▪️ ВС РФ отправили к Бандере командира 105-го батальона из Закарпатья полковника Мыколу Красивова  ▪️ Вооруженный ВСУшник-шпион пересёк белорусскую границу  ▪️ Белоруссия экстренно увеличила состав сотрудников МВД республики на границе с Украиной  ▪️ Токаев с 82,45% голосов побеждает на президентских выборах в Казахстане  ▪️ Инспекторы МАГАТЭ получат доступ для осмотра Запорожской АЭС после обстрелов со стороны ВСУ, но строго в рамках мандата  ▪️ Укропаблики форсят методички от простых жителей относительного того, что они будут делать в условиях длительного отсутствия электричества на Украине  ▪️ Сирийские боевики оборудовали склады с оружием в лагерях беженцев Харим и Салькин в провинции Идлиб, гуманитарная ситуация там ухудшается  ▪️ Российская нефть в обход санкций идет в Великобританию  ▪️ Американцы на фоне провала Байдена хотят вернуть политику администрации Трампа\n",
      "3554                                                                                                                                                                                                                                                                                                                                                                                                                                                                                                                                                                                                                                                                                                                                                                                                                                                                                                                                                                                                                                                                                                                                                                                                                                                                                                            Русский снайпер шуганул бандеровца.\n",
      "3201                                                                                                                                                                                                                                                                                                                                                                                                                                                                                                                                                                                                                                                                                                                                                                                                                                                                                                                                                                                                                                                                                                                                                                                                                                     С 2017 года он возглавлял неонацистскую организацию «Фрайкор» (калька с немецких добровольческих отрядов).\n",
      "854                                                                                                                                                                                                                                                                                                                                                                                                                                                                                                                                                                                                                                                                                                                                                                                                                                                                                                                                                                                                                                                                                    Подросток получил ранения в результате обстрела Горловки ВСУ, сообщил мэр города Иван Приходько.  \"В результате обстрела укронацистами Никитовского района Горловки ранение по улице Промышленная получил 17-летний парень\", - написал он в Telegram-канале.\n",
      "2918                                                                                                                                                                                                                                                                                                                                                                                                                                                                                                                                                                                                                                                                                                                                                                                                                                                                                                                                                                                                                                                                                                                                                                                                          Википедия после того как хохлы ебнули точкой У по Краматорску изменила статью и в страны эксплуатанты этой ракетой добавила и Россию.\n",
      "2946                                                                                                                                                                                                                                                                                                                                                                                                                                                                                           Дмитрий Песков сделал ряд заявлений:  ▪️Договоренностей по обмену заключенными между РФ и США пока нет;  ▪️Кремлю известно о появившихся сообщениях по обмену заключенными между РФ и США, обычно такие вбросы по подобным темам не делаются;  ▪️В Кремле не считают, что расторжение соглашение Египта и Украины по зерну связано с поездкой Лаврова в Африку;  ▪️Никаких решений о возможном объединении КПРФ и \"Справедливой России - за правду\" пока не принималось;  ▪️Дискуссия о возможном объединении КПРФ и \"Справедливой России - за правду\" - внутрипартийный вопрос, это не обсуждалось с Путиным;  ▪️В Кремле поддерживают настрой на то, что нужно в целом освобождать Украину от неонацистских настроений;  ▪️Цифры заболеваемости ковидом действительно растут, но кривая \"поползла вверх\" не только в России, а в целом ряде стран.\n",
      "2268                                                                                                                                                                                                                                                                                                                                                                                                                                                                                                                                                                                                                                                                                                                                                                                                                                                                                                                                                                                                                                                                                                                                                                                                                                                 Первая появившаяся версия – покушение со стороны неонацистов, но это ещё под большим вопросом.\n",
      "3095                                                                                                                                                                                                                                                                                                                                                                                                                                                                                                                                                                                                                                                                                                                                                                                                                                                                                                                                                                                                                                                                                                                                                                                                                                          Укронацисты ударили по рынку в выходной день – как раз, когда там было сконцентрированно много людей.\n",
      "926                                                                                                                                                                                                                                                                                                                                                                                                                                                                                                                                                                                                                                                                                                                                                                                                                                                                                                                                                                                                                                                                                                                                                                                                                                                                                             ВКС РФ также разбивает огневые рубежи укронацистов.\n",
      "Name: text, dtype: object\n",
      "\n",
      "\n",
      "\n",
      "\n",
      "Cluster 1:\n",
      "2360                                                                                                                                                                                                                                                                                                                                                                                                                                                                                                                                                                                                                                                                                                                                                                                                                                                                                                                                                                                                                                                                                                                                                                                                                                                                                                                                                                    Присутствие большого количества гражданского населения затрудняет маневренность военных.   ❗️ Русские солдаты не будут прикрываться мирными, они не смогут дать отпор, если укронацистам удастся зайти в тот или иной населённый пункт.\n",
      "3304                                                                                                                                                                                                                                                                                                                                                                                                                                                                                                                                                                                                                                                                                                                                                                                                                                                                                                                                                                                                                                                                                                                                                                                                                                                                                                                                                                                                         На вопрос об отношении английского народа к украинским националистам министр ответила, что никто не боится бандеровцев и неонацистов и они готовы принять их у себя.  https://youtu.be/1YzIYRtrhiY\n",
      "1816                                                                                                                                                                                                                                                                                                                                                                                                                                                                                                                                                                                                                                                                                                                                                                                                                                                                                                                                                                                                                                                                                                                                                                                                                                                                                                                                                                                                                                                                                  Чтобы было понятно: \"невинно осужденный\" Дмитриев ничего не получил бы, если бы не повод в виде векового юбилея Сахарова.\n",
      "226                                                                                                                                                                                                                                                                                                                                                                                                                                                                                                                                                                                                                                                                                                                                                                                                                                                                                                                                                                                                                                                                                                                                                                                                                                                                                                                                                                                                                                                                                                                                                                                         Хохлы не обучаемые.\n",
      "504                                                                                                                                                                                                                                                                                                                                                                                                                                                                                                                                                                                                                                                                                                                                                                                                                                                                                                                                                                                                                                                                                                                                                                                                                                                                                                                                                                                                                                                                                          К ним на разбор приехали представители нацбатов- разговора не получилось и поляки утилизировали любителей бандеры.\n",
      "1722                                                                                                                                                                                                                                                                                                                                                                                                                                                                                                                                                                                                                                                                                                                                                                                                                                                                                                                                                                                                                                                                                                                                                                                                                                                                                                                                                                                                                                                                                                                                              \" - а ты не пизди!\" Бумага, тушь. 20*20см. 2018г. #совынежные\n",
      "3267                                                                                                                                                                                                                                                                                                                                                                                                                                                                                                                                                                                                                                                                                                                                                                                                                                                                                                                                                                                                                                                                                                                                                                                                                                                                                                                                                                                  И тут можно вопрошать, почему автор не замечал геноцида Русского Донбасса, 2 мая в Одессе, 9 мая в Мариуполе, всех зверств неонаци, уничтожения Донецка и всех прочих фронтовых городов, но это не имеет никакого смысла.\n",
      "164                                                                                                                                                                                                                                                                                                                                                                                                                                                                                                                                                                                                                                                                                                                                                                                                                                                                                                                                                                                                                                                                                                                                                                                                                                                                               Хохлы (причем они сами это признают), стали полигоном для отработки большой войны информационной эры и естественно, что заинтересованные стороны, а точнее хозяева Киева очень хотят увидеть, что будет с подопытными крысами при срабатывании ядерной бомбы, а заодно посмотреть на реакцию человечества на данный инцидент.\n",
      "3579    Так что, МЫ ВМЕСТЕ!  Особое спасибо тем, кто рядом в одном окопе, кто подкидывает при случае магазин патронов и кому порой и патроны от Тёмы в тему:)  Метаметрика Z  СОЛОВЬЁВ МАРДАН  Марочко Live  ДТ Д.Куликов-VZ-Т.Сергейцев  КОРНИЛОВ  КазакоV Константин Затулин  DELYAGIN’s special  Орда  Николай Стариков  ИА Реалист ЖелеZный Zэк КРИСТАЛЛ РОСТА   И по традиции снова выражаю признательность тем, благодаря кому наполняю канал репостами, а голову поводами для размышлений и новых углов зрения на происходящие непростые события.   🇷🇺Майор и генерал🌍 ВЧК-ОГПУ СИЛОВИКИ🇷🇺 Обраz будущего  Тот самый Олень🦌 Мастер пера CULTRAS FRONTовые Zаметки  РОКОТ 🇷🇺 Z  РУССТРАТ  Старше Эдды Readovka  Colonelcassad  Военный Осведомитель  Операция Z: Военкоры Русской Весны  Рыбарь  Z 🔥 Сводки ополчения Новороссии Захар Прилепин  Ыыху Москвы 🔥Z🔥 Media МалькевиZ Неофициальный Безсонов “Z’ Шпион, которому никто не пишет  Рамзай   Неважно, что многие из них и знать не знают о моем канале:) Важно, что мы на одной стороне и едины в ГЛАВНОМ И САМОМ ВАЖНОМ ПОНИМАНИИ.   И уже в нарушение традиций, не могу не упомянуть и врагов - такие они молодцы, что в своей безумной и запредельной ненависти к нам дают столько полезного для понимания их истинной сущности материала:)  Никто не делает сейчас больше для обоснования и разъяснения необходимости борьбы с укронацизмом и бандеровщиной, чем сами укронацисты бандеровцы:))))  Пусть не успокаиваются, чем  заметнее цель, тем точнее огонь:)  Всем добра! Наше дело правое! Хоть и непростое  Работаем, братья и сестры!\n",
      "1538                                                                                                                                                                                                                                                                                                                                                                                                                                                                                                                                                                                                                                                                                                                                                                                                                                                                                                                                                                                                                                                                                                                                                                                                                                                                                                                                                                                                                                                                                                                                   🔺 Нефтяные компании США не должны пользоваться моментом и задирать цены.\n",
      "Name: text, dtype: object\n",
      "\n",
      "\n",
      "\n",
      "\n",
      "Cluster 2:\n",
      "587                                                                                                                         Но укронаци этого не понять.\n",
      "2447                                                        Ну, пригожинских хлопцев заслать, если очень попросят и готовы будут оплатить (что вряд ли).\n",
      "2950                                                                                    В поселке определенно сидят \"укропские глаза\" и все докладывают.\n",
      "1644                                                                                                                                Отменяем Оксимирона.\n",
      "228     А призывать укронацистов к благоразумию - это надо быть или глупцом, или манипулятором, или заведомо и осознанно совершать бесполезные действия.\n",
      "1373                                                                                                                    Вашу маму и там и тут показывают\n",
      "1299                                                                                                                                      Задерживается.\n",
      "865                                                                          Что в целом не мешает укронацистам заниматься этим трупоедством до сих пор.\n",
      "1887                                                          SpaceX запустила в космос ракету Falcon Heavy с автомобилем Tesla  https://t.co/oyHKgScJZi\n",
      "1701                                                                                                                        О жванецком, да и не только.\n",
      "Name: text, dtype: object\n",
      "\n",
      "\n",
      "\n",
      "\n"
     ]
    }
   ],
   "source": [
    "cluster_with_kmeans(df_collocations, 3, ['nmod_str', 'core_noun_verb_str'])"
   ],
   "metadata": {
    "collapsed": false,
    "pycharm": {
     "name": "#%%\n"
    }
   }
  },
  {
   "cell_type": "code",
   "execution_count": 91,
   "outputs": [
    {
     "name": "stdout",
     "output_type": "stream",
     "text": [
      "Cluster 0:\n",
      "3351    Луганское направление До бандеровской пропаганды не доходит, что если свой \"бардак\" разрисовать огромным количеством сакральных букв Z, машина не превратится в затрофеенную от народной милиции ЛНР. Просто потому что у них обычные БРДМ, а не модернизированные в Харькове или в Чехии  Но кто будет разбираться в деталях когда Зеленский заявил что перемога близко, и в нее надо просто уверовать\n",
      "3475                                      Экс-разведчик подчеркнул, что нацбатальоны не расформировали путем арестов или ликвидации их участников: они стали частью украинских войск, и теперь их представители «повсюду». «Самое постыдное в этом всем то, что британские, американские и канадские солдаты ездили на Украину, чтобы тренировать эти неонацистские формирования, первым из которых был «Азов».\n",
      "811                                                                                                                                                                                                                                                                Восточный фронт урорейху уже не интересен, с этим связаны последние обстрелы Донецка, зачистка «азовцев» и быстрая сдача краматорской линии.\n",
      "3143                                                                                                            При этом на вопросы, а как вы практически ВОТ ПРЯМО СЕЙЧАС или в ближайшей перспективе можете решить проблему укронацистского консенсуса, нацистского террора и угрозы со стороны Коллективного Запада (мирового империализма) – НИЧЕГО внятного кроме общих фраз и лозунгов ответить не могли.\n",
      "534                                                                                                                                                                                                                                                                                                  Как минимум, нам всем надо понимать, что победа, даже просто над укронацизмом, уже не вернет нам 2013 год.\n",
      "424                                                                                                                                                                                                                                                                                                           Ох, не понимают укро-нацисты, что убивая вот так подло наших героев, они множат количество новых.\n",
      "733                                                                                                                                                                                                                   Очень грамотное решение командования укрорейха собрать сейчас всю натовскую гуманитарку в западных областях и передать ее на восток, ведь удара в тыл (во фланг страны) никто не ожидает😈\n",
      "709                                                                                                                                                                                                                                                                                                                                                 Источники рассказывают, что укронацисты не гнушаются ничем.\n",
      "169                                                                                                                                                                                                                                                                                                                           Ребята долгое время удерживают эту линию фронта, не давая никаких шансов укропам.\n",
      "2737                                                                                                                                                         Предлагаю читателям подключиться к работе антифашистов и совместно устроить мозговой штурм - каким образом не дать прибалтам формировать бюджет, предназначенный для финансирования салорейха, а равно воспрепятствовать организации самой помощи.\n",
      "Name: text, dtype: object\n",
      "\n",
      "\n",
      "\n",
      "\n",
      "Cluster 1:\n",
      "1602                                                                                                                                  Отпевание вождя.\n",
      "1417    Китайский художник Гуо О Донг продаёт через аукцион ноутбук с шестью компьютерными вирусами, которые считаются одними из самых опасных в мире.\n",
      "868                                                                                        Работа \"Хохлопека\" по укрытиям укрорейха в Изюмском районе.\n",
      "1832                                                                                               🇺🇦🇷🇺Разгромленная колонна ВСУ в Херсонской области.\n",
      "1596                                                                                                                          🥡💨🤬Классическая история.\n",
      "542                                                                                                          Не ополченцам посвящена, а хохлокиборгам.\n",
      "892                                                                                               Вот ответ всем бандерлогам и нетвойняшкам от Матери.\n",
      "1105                                                                                                                          Не хохлорейхом единым...\n",
      "629                                                                                                                 Хохлотерористы в своём репертуаре.\n",
      "2665                                                                                                                          В Старом Салтове укропы.\n",
      "Name: text, dtype: object\n",
      "\n",
      "\n",
      "\n",
      "\n",
      "Cluster 2:\n",
      "2872                                                                                                                                                                                                                                                                                                                                                                                                                                                                                                                                                    На днях наказали укроп за наглость — сожгли им танк в развалинах Шевченко.\n",
      "461                                                                                                                                                                                                                                                                                                                                                                                                                                            Купленный на ваши пожертвования броник спасет бойца, который утилизирует больше хохлов, в купленный вами прицел или тепловизор он лучше увидит хохла, который должен получить пулю.\n",
      "2726    ⏱Главные события на 00:00:  ▪️Банда Харьковских националистов из состава \"Кракен\" была ликвидирована  ▪️Европа отказала Зеленскому в поставках штурмовой авиации и танков  ▪️Новое заявление Минобороны России  ▪️Российские разведчики денацифицировали пару укронацистов на спортивном мотоцикле  ▪️Госдеп США открыто угрожает Китаю из-за союза с Россией  ▪️Первое фото наёмников из США, взятых в плен под Харьковом  ▪️Госдепартамент США сообщил, что уже третий наемник \"пропал без вести\" на Украине  ▪️Львовский бандеровец уничтожил памятник Советскому солдату  ▪️Украинская мобилизация достигла школьников\n",
      "1035                                                                                                                                                                                                                                                                                                                                                                                                                                                                                                                                   Надеюсь твой паленый турникет сломается нахуй и ты подохнишь как типичная свинья хохлорейха\n",
      "3103                                                                                                                                                                                                                                                                                                                                                                                                                                                                                        ❗️⚡️Повешен был его охранник, самого поклонника Гитлера с Бандерой везут в мешке на допрос - то ли в Москву, то ли в Донецк, не знаем.\n",
      "3321                                                                                                                                                                                                                                                                                                                                                       Украинский «Азов» становится лидером международного неонацистского движения   Недавнее задержание неонацистской террористической группировки в Уфе, у участников которой был изъят портрет украинского националиста Степана Бандеры, вновь обнажило серьезную проблему.\n",
      "408                                                                                                                                                                                                                                                                                                                                                                                                                                                                                       Бандеровский аттентат в чистом виде, от этих тварей можно ожидать всего, чего угодно - нет у них ни тормозов, ни табу, в ход идет все...\n",
      "459                                                                                                                                                                                                                                                                                                                                                                                                                                              🇺🇦Укронацисты продолжают терроризировать мирное население Горловки  Украинские силовики с утра ведут обстрелы городов Горловка и Ясиноватая из реактивной и ствольной артиллерии.\n",
      "1399                                                                                                                                                                                                                                                                                                                                                                                                                                                                                           Минфин повысит минимальную стоимость водки https://russian.rt.com/article/306885-minfin-podnimet-minimalnuyu-stoimost-butylki-vodki\n",
      "2598                                                                                                                                                                                                                                                                                                                                                                                                           Что самое главное, хохлы еще наверняка не полностью задействовали план наступления ( а задача судя по всему самая амбициозная) и наверняка начнут давить с юга Изюмского фронта, опираясь на Славянск и Барвенково.\n",
      "Name: text, dtype: object\n",
      "\n",
      "\n",
      "\n",
      "\n"
     ]
    }
   ],
   "source": [
    "cluster_with_kmeans(df_collocations, 3, ['verb_obl_obj_str', 'core_noun_verb_str'])"
   ],
   "metadata": {
    "collapsed": false,
    "pycharm": {
     "name": "#%%\n"
    }
   }
  },
  {
   "cell_type": "markdown",
   "source": [
    "## LDA"
   ],
   "metadata": {
    "collapsed": false,
    "pycharm": {
     "name": "#%% md\n"
    }
   }
  },
  {
   "cell_type": "code",
   "execution_count": 103,
   "outputs": [],
   "source": [
    "from sklearn.decomposition import LatentDirichletAllocation\n",
    "\n",
    "def cluster_with_lda(df, num_topics, col_list, col_to_print = 'text'):\n",
    "    pd.set_option('display.max_colwidth', None)\n",
    "    columns_to_cluster = col_list\n",
    "    text_data = df[columns_to_cluster].apply(lambda x: ' '.join(x.astype(str)), axis=1)\n",
    "    tfidf_vectorizer = TfidfVectorizer()\n",
    "    X = tfidf_vectorizer.fit_transform(text_data)\n",
    "    n_topics = num_topics\n",
    "    lda = LatentDirichletAllocation(n_components=n_topics, random_state=0).fit(X)\n",
    "    timestamp_str = datetime.now().strftime(\"%Y-%m-%d_%H-%M-%S\")\n",
    "    topic_labels_name = f'topic_{n_topics}_{\"_\".join(columns_to_cluster)}_{timestamp_str}'\n",
    "    topic_labels = lda.transform(X).argmax(axis=1)\n",
    "    df[topic_labels_name] = topic_labels\n",
    "\n",
    "    # Print the resulting topics\n",
    "    for i in range(n_topics):\n",
    "        print(f\"Topic {i}:\")\n",
    "        print(df[col_to_print][df[topic_labels_name] == i].sample(5))\n",
    "        print('\\n')\n",
    "        # print('\\n')\n",
    "\n",
    "    # return df"
   ],
   "metadata": {
    "collapsed": false,
    "pycharm": {
     "name": "#%%\n"
    }
   }
  },
  {
   "cell_type": "code",
   "execution_count": 104,
   "outputs": [
    {
     "name": "stdout",
     "output_type": "stream",
     "text": [
      "Topic 0:\n",
      "2355                    Сегодня в Украине получил статус участника боевых действий 90-летний  Василий Семеляк, активный участник националистической организации ОУН-УПА  Кратко о подвигах этих нелюдей за время Второй Мировой Войны: От рук карателей - бандеровцев погибло 850 тысяч евреев, 220 тысяч поляков, более 400 тысяч советских военнопленных и еще 500 тысяч мирных украинцев.\n",
      "329                                                                                                                                                                                                                                                                                                                                                                     Армяне про хохлорейх\n",
      "1224                                                                                                                                                                                                                                               Наша с вами задача не скатываться в режим \"зрада\" -\"перемога\" , по этому принципу живёт укрорейх, который ещё  в придачу \"п@лявый ящик \".\n",
      "2989    Задача нациков не воевать с Русской армией, их задача, поставленная им неоконами-сатанистами, - умертвить как можно больше мирного населения, во-первых, как человеческое жертвоприношение дьяволу, во-вторых, чтобы попытаться, через пропаганду, убедить малороссов и новороссов в том, что это своими провокацмями сделали не они - укро-бандеры, а русские солдаты-освободители.\n",
      "1667                                                                                                                                                                                                                                                                                        Губернатор Александр Дрозденко продолжает свою традицию активного пользователя социальных сетей.\n",
      "Name: text, dtype: object\n",
      "\n",
      "\n",
      "Topic 1:\n",
      "1221                                                                                                                                                                            Не только того, анонимного \"хохла\", которому устроили \"свинорез\", но и вас лично тоже.\n",
      "710     Молодых ВСУшников кормят и поят из пайков НАТО, в которые добавлено много энергетиков и всякой сильнодейсвующей химии, которая дает энергию, но отрубает мозг, чтобы солдаты атаковали без страха и не пытались прятаться, тем самым повышая количество жертв.\n",
      "101                                                                                                                                                                                                                    Бандеровщина это квазирелигия, бесовская секта.\n",
      "2955                                                                                                                                                                                                       Укропы перепили и теперь готовятся к российскому вторжению.\n",
      "916                                                                                                    Чат и комментарии закрыты друзья, вас стало очень много, спасибо что вы с нами и доверяете нам!   Ночь будет жаркой для укропитеков, посмотрим что будет утром.\n",
      "Name: text, dtype: object\n",
      "\n",
      "\n",
      "Topic 2:\n",
      "890     18+ Страшные кадры из Таврического микрорайона Херсона, где сегодня вечером во время обстрела города укронацисты убили целую семью.  @voenkorKotenok\n",
      "798                            Не так давно нами была получена информация, что укронацистские оккупанты облюбовали здание химического техникума в Славянске.\n",
      "3610                                                                                     Нет никакого военного смысла сейчас неонацистам сидеть в окружении.\n",
      "307                                                                  В пабликах укропитеков паника, которую навели на них Русская Армия и генерал Армагедон.\n",
      "464                                                                Существует вероятность, что такой успех вынудит укронацистов частично сняться с Донбасса.\n",
      "Name: text, dtype: object\n",
      "\n",
      "\n"
     ]
    }
   ],
   "source": [
    "cluster_with_lda(df_collocations, 3, ['verb_obl_obj_str', 'core_noun_verb_str'])"
   ],
   "metadata": {
    "collapsed": false,
    "pycharm": {
     "name": "#%%\n"
    }
   }
  },
  {
   "cell_type": "code",
   "execution_count": 105,
   "outputs": [
    {
     "name": "stdout",
     "output_type": "stream",
     "text": [
      "Topic 0:\n",
      "322                           Внести свой вклад в Победу над укрорейхом, оказать помощь инженерно - сапёрной роте Шурави НМ ДНР, можно на карту Газпромбанка (МИР) 3562996583279966\n",
      "2526                                                   Если бы хохлы всерьез рассматривали возможность большой войны с Россией, то давно объявили мобилизацию для охраны побережья.\n",
      "2367                                                                                                         Сценаристы из \"квартала\" хлопцы креативные и не такое могут придумать.\n",
      "2155                                                                                                           Молодые люди устроили секс-вечеринку на Хохловской площади в Москве.\n",
      "2863    ​​Польский журналист – еврей ушёл из газеты после того, как она потребовала называть украинский полк «Азов» «ультраправым», а не «неонацистским», пишут СМИ.  @RadioStydoba\n",
      "Name: text, dtype: object\n",
      "\n",
      "\n",
      "Topic 1:\n",
      "3288                                                                                                                                                                        Выступая на очередном Совбезе, Путин назвал киевские власти «неонацистами и бендеровцами».\n",
      "626                                                                                                                                                                  Очередное видео от хохлопетухов, где они с БПЛА корректирую огонь по наставленной в кучу технике.\n",
      "1872                                                                                                                                                               Трое российских детей могут погибнуть в Индии — им не могут пересадить жизненно необходимые органы.\n",
      "1979                                                                                                                                                Немцам не понравилось, что Навальный назвал бывшего канцлера Герхарда Шрёдера «путинским мальчиком на побегушках».\n",
      "3182    Главное из заявления Минобороны России:   ▪️Украинские неонацисты заминировали мост через реку в Славянске в ДНР, в его подрыве планируют обвинить российские войска;  ▪️Администрация Одесской области запретила вещание российских и молдавских телеканалов.\n",
      "Name: text, dtype: object\n",
      "\n",
      "\n",
      "Topic 2:\n",
      "1227                                                                                                                                                                                                                            Погоня за потенциальным призывником на Укрорейхе.  @rosich_rus\n",
      "1220    ‼️🇺🇦🤡Никогда такого не было и вот опять: \"идет подготовка к подготовке наступления на Херсон\" 😀 - западные хозяева развенчали миф укропропаганды  \"Немного ясности внесли CNN, сообщив, что идет подготовка к подготовке наступления, в результате чего начата \"формирующая операция\".\n",
      "109                                                                                                                      Судя по боевому настрою, они намерены вырезать нацистскую шваль как злокачественную опухоль, не оставив даже малейшего упоминания о членах бандеровских формирований.\n",
      "2528                                                                                                                                                                                                               Последними словами Чубайса на рабочем месте были \"Нам ни за что не стыдно\".\n",
      "204                                                                                        Если вы еще не устали слушать про зверства украинских нацистов и прочего хохлоотребья, то вот вам еще одна история, которую шепотом пересказывают друг другу жители Славянска весь последний месяц.\n",
      "Name: text, dtype: object\n",
      "\n",
      "\n",
      "Topic 3:\n",
      "1376                                                                                                                                                                                                                                   Власти Москвы в ближайшее время планируют запретить рекламу в виде граффити на зданиях https://ria.ru/society/20180410/1518302922.html\n",
      "2854                                                                                                                                                                                                                                        Хохлы ломанулись на Красный Лиман сразу же после завершения первого этапа операции — после выхода на рубеж Оскола южнее Купянска.\n",
      "1892                                                                                                                                                                                                                                                                                                                                         Тула настоящего, Тула будущего⚡️\n",
      "3475    Экс-разведчик подчеркнул, что нацбатальоны не расформировали путем арестов или ликвидации их участников: они стали частью украинских войск, и теперь их представители «повсюду». «Самое постыдное в этом всем то, что британские, американские и канадские солдаты ездили на Украину, чтобы тренировать эти неонацистские формирования, первым из которых был «Азов».\n",
      "514                                                             Характерно шмыгающий носом Михалок, самым активным образом поддерживающий укронацистов, причем выскакивающий из штанов в этом вопросе даже выше украинских музыкантов, обещает собрать \"Ляписа Трубецкого\" заново: \"группу, которая взорвала всем мозг, как какой-то (мерзкий шмыг на 1.02 видео) амфетамин\".\n",
      "Name: text, dtype: object\n",
      "\n",
      "\n",
      "Topic 4:\n",
      "2885                                                                                                                                                                                                                                                                                                                                                                                                                                                                                                                                                                                                                                                                                                                                                                                                                                                                                                                                                                                                                                                                                                                                                                                                                                                                                                                                              Бедные, бедные простые люди... и какое же, простите, конченное быдло эти ВСУшники, которые так разговаривают с пожилыми людьми.\n",
      "3133                                                                                                                                                                                                                                                                                                                                                                                                                                                                                                                                                                                                                                                                                                                                                                                                                                                                                                                                                                                                                                                                                                                                                                                                                                                                                                                                                                                                     Повторюсь, это не 2014 год и ВСУшники сейчас мало отличаются от нациков.\n",
      "1628    ▪️Заявления Владимира Путина:  - Киев саботировал мирное урегулирование кризиса.  - В обозримом будущем пронацистский режим в Киеве мог получить ядерное оружие, целью была бы Россия.  - Киевским властям по разным каналам было предложено не вступать в боевые действия, вывести войска из Донбасс, он не захотели.  - Рядом с Россией на территории Украины создавались компоненты биологического оружия.  - Появление российских войск под Киевом и у других украинских городов не связано с желанием оккупировать Украину, у России нет такой цели.  - Наступление Киева на Донбасс и Крым было только вопросом времени, Россия это предотвратила.  - Спецоперация идет успешно, строго по плану.  - Наши парни проявляют мужество и героизм.  - Киев саботировал мирное урегулирование кризиса.  - В обозримом будущем пронацистский режим в Киеве мог получить ядерное оружие, целью была бы Россия.  - Киевским властям по разным каналам было предложено не вступать в боевые действия, вывести войска из Донбасс, он не захотели.  - Рядом с Россией на территории Украины создавались компоненты биологического оружия.  - Появление российских войск под Киевом и у других украинских городов не связано с желанием оккупировать Украину, у России нет такой цели.  - Наступление Киева на Донбасс и Крым было только вопросом времени, Россия это предотвратила.  - Спецоперация идет успешно, строго по плану.  - Наши парни проявляют мужество и героизм.\n",
      "1                                                                                                                                                                                                                                                                                                                                                                                                                                                                                                                                                                                                                                                                                                                                                                                                                                                                                                                                                                                                                                                                                                                                                                                                                                                                                                                                                  Тут понимаешь всё про метафизику этой войны. «Укропы» под покровом Запада вышли не против России — они вышли на войну с Богом.\n",
      "932                                                                                                                                                                                                                                                                                                                                                                                                                                                                                                                                                                                                                                                                                                                                                                                                                                                                                                                                                                                                                                                                                                                                                                                                                                                                                                                                                                                                                       Ну что ж, Украина воюет с Россией? Спросите у укронаци.\n",
      "Name: text, dtype: object\n",
      "\n",
      "\n"
     ]
    }
   ],
   "source": [
    "cluster_with_lda(df_collocations, 5, ['verb_obl_obj_str', 'nmod_str'])"
   ],
   "metadata": {
    "collapsed": false,
    "pycharm": {
     "name": "#%%\n"
    }
   }
  },
  {
   "cell_type": "code",
   "execution_count": 119,
   "outputs": [
    {
     "name": "stdout",
     "output_type": "stream",
     "text": [
      "Topic 0:\n",
      "3050                                                                 Вообще есть хорошее слово \"криптобандеровец\", я придумал в 2017 году, а вой стоит до сих пор.\n",
      "1890                                             ❗️На утро 28 июня проголосовало (включая дистанционное голосование) 30 917 512 граждан (явка 28,46%) — данные ЦИК\n",
      "3093                                                                                                   Переходим к новой тактике спецоперации против укронацистов.\n",
      "874                                                                                                                                   Доброе утро людям и хохлам 😎\n",
      "913     То есть, как минимум, три года \"беззащитные\" укронацики собирались вести боевые действия, а в итоге все равно оказались \"безоружны перед лицом агрессора\".\n",
      "Name: text, dtype: object\n",
      "\n",
      "\n",
      "Topic 1:\n",
      "1866                                                                                                          Центробанк продолжит сдерживать рост цен ключевой ставкой https://t.co/Zh9KOkgXW4 https://t.co/PrXzwHbpxU\n",
      "151     И любой мир сегодня, пока мы не очистили русские земли Малороссии и Новороссии от укронацизма и ереси украинства, будет ими восприниматься как их победа над Россией и они начнут провокации на других фронтах.\n",
      "1728                                                                             Провал украинской разведки   Гору денег и гражданство одной из стран Евросоюза предлагали российским летчикам за предательство Родины.\n",
      "1697                                                                                                                                          Ну про что я могу читать в выходной - про кошачью бехевиористику, конечно\n",
      "2463                                                                                                                 Это время хохлы уже давно посчитали на практике и не работают на излучение одной станцией столько.\n",
      "Name: text, dtype: object\n",
      "\n",
      "\n",
      "Topic 2:\n",
      "827                                                                                                                                                                                                                            Свинорейх где-то откопал апрельское видео, на котором двое несовершеннолетних идут по селу с гранатомётом, концовка к счастью благополучная.\n",
      "1375    В СКР раскрыли подробности уголовного дела о педофилии против депутата от КПРФ Артёма Самсонова  Подозреваемый, находясь на территории базы отдыха в районе улицы Лазурная в городе Владивостоке при общении с 11-летним ребенком демонстрировал ему предмет интимного характера и доводил ему информацию о его предназначении, — уточнили в Следственном комитете.\n",
      "147                                                                                                                                                       Наш соратник по русскому движению Алексей Селиванов прибыл в Запорожскую область вместе с армией России, чтобы создавать органы правопорядка для обеспечения мирной жизни на освобождённой от укропов территории.\n",
      "1247                                                                                                                                                                                                                                             По виртуальным планам укрорейха они уже взяли Белгород и готовятся к проведению референдума о присоединении его к Украине.\n",
      "500                                                                                                                              Вуаля, у вас будут символы и культурный контекст, которыми легко можно перекрыть как теряющую позиции западную культуру с трансухами, ЛГБТ и диверсити на грани помешательства, так и неуклюжий нацистский косплей украинского свинорейха.\n",
      "Name: text, dtype: object\n",
      "\n",
      "\n",
      "Topic 3:\n",
      "2884                                                                                                                                                                                                                                                                                                                                                               Украина — мать» — пишет «Страна»  На Украине нет нацистов и бандеровцев\n",
      "2259                                                                                                                                                                                                                                                                                                                                                                                           На их фоне, даже Чубайс выглядит приличнее.\n",
      "3041    Что касается пресловутых националистических кричалок, которые так же будут радовать зрителей ЧЕ по футболу, как и часть экипировки украинских спортсменов, то это очередная попытка государственной киевской пропаганды закрепить в общественном сознании лозунг, который у многих на Украине и за ее пределами ассоциируется с Украинской повстанческой армией (УПА), С.Бандерой и их преступлениями в годы Второй мировой войны.\n",
      "866                                                                                                                                                                                                                                                                                                                    Он заверил, что спецоперация будет продолжена, пока не будут уничтожены все бандеровцы и «шайтаны». t.me/rusvesnasu\n",
      "3492                                                                                                                                                                                                                                                                                                                                                                                                                   ХОХЛУ ДАЛИ МИКРОФОН\n",
      "Name: text, dtype: object\n",
      "\n",
      "\n",
      "Topic 4:\n",
      "3223                                                                                                                                                            В любом случае отъявленных укровояк всё меньше и меньше.\n",
      "2052                                                                                                                                                                Протест слит в связи с обескураживающе низкой явкой.\n",
      "2061                                                                                                         Командиры самого высокого звена с завода «Азовсталь» пока не вышли, сообщил глава ДНР Пушилин.  @rt_russian\n",
      "364                                                                                          Года 4 назад бандеровцы хотели официально эти отношения прервать, но в Горсовете Запорожья тогда бандерлогов не поддержали.\n",
      "1489    Глава МВД Колокольцев заявил, что необходимо однозначно признавать ЛНР и ДНР и стоит делать это в границах областей: \"Говорим о признании независимости Донбасса в границах, сложившихся до оккупации Украиной\".\n",
      "Name: text, dtype: object\n",
      "\n",
      "\n"
     ]
    }
   ],
   "source": [
    "cluster_with_lda(df_collocations, 5, ['verb_obl_obj_str', 'nmod_str'])"
   ],
   "metadata": {
    "collapsed": false,
    "pycharm": {
     "name": "#%%\n"
    }
   }
  },
  {
   "cell_type": "code",
   "execution_count": 112,
   "outputs": [
    {
     "name": "stdout",
     "output_type": "stream",
     "text": [
      "Topic 0:\n",
      "3409    NaN\n",
      "766     NaN\n",
      "769     NaN\n",
      "2517    NaN\n",
      "1497    NaN\n",
      "Name: verb_obl_obj_str, dtype: object\n",
      "\n",
      "\n",
      "Topic 1:\n",
      "554                                                                                                                                        NaN\n",
      "3282    ворваться на ходу, ворваться в киев, окружить части, разбить в том, разбить нацбаты, перетянуть на сторону, потом принудить зеленского\n",
      "2972                                                                                                             добровольно изучаем мобильник\n",
      "2877        заявил на лекции, после привел пример, сложились по разному, эмигрировавшого пароходом, оставшегося в ссср, расстрелянного по делу\n",
      "2708                           думаю ручка знаете, уже знаете ручка, благодарим партнёров, благодарим за вооружение, благодарим за посредников\n",
      "Name: verb_obl_obj_str, dtype: object\n",
      "\n",
      "\n",
      "Topic 2:\n",
      "419     показали ликбез, показали белорусов убивали, убивали под символикой, убивали белорусов, убивали во вов, сейчас убивают под знаменами, сейчас убивают в составе, сейчас убивают жителей, сейчас убивают на украине\n",
      "450                                                                                                                                  возомнили себя, попытались подвиг повторить, повторить подвиг, повторить в гостомеле\n",
      "770                                                                                                                                      поехал в индонезию, поехал павианов снимать, снимать павианов, подружился с ними\n",
      "1106                                                                                                                                        тиражируют звуки, издает которые, издает ими, издает шрот, нанятый за копейки\n",
      "879                                                                                                                                                    выдвинулись из угледара, выдвинулись на марьинку, прислать новость\n",
      "Name: verb_obl_obj_str, dtype: object\n",
      "\n",
      "\n",
      "Topic 3:\n",
      "116                                                                          считают себя, топят за наву\n",
      "1718                                                                                     делает инъекцию\n",
      "2659    запрещая зону покинуть, покинуть зону, неизбежно подставляют их, неизбежно подставляют под огонь\n",
      "2780                                                   ведь перестать помощь оказывать, оказывать помощь\n",
      "2750                                                              поехала в польшу, ухаживать за хохлами\n",
      "Name: verb_obl_obj_str, dtype: object\n",
      "\n",
      "\n",
      "Topic 4:\n",
      "3614                                                                                                      NaN\n",
      "2753    взяли у волчеяровкой, взяли в плен, взяли дрг, недавно отправили комбата, недавно отправили к бандере\n",
      "2965               вызвал с целью, вызвал огонь, вызвал на себя, лично уничтожил в боя, лично уничтожил точку\n",
      "801                                                                         работаем ночи, работаем с зарядом\n",
      "2818                                активно применяют оружие, отреагировать на факты, поставляемых на украину\n",
      "Name: verb_obl_obj_str, dtype: object\n",
      "\n",
      "\n"
     ]
    }
   ],
   "source": [
    "cluster_with_lda(df_collocations, 5, ['verb_obl_obj_str', 'core_noun_verb_str'], col_to_print='verb_obl_obj_str')"
   ],
   "metadata": {
    "collapsed": false,
    "pycharm": {
     "name": "#%%\n"
    }
   }
  },
  {
   "cell_type": "code",
   "execution_count": 109,
   "outputs": [
    {
     "name": "stdout",
     "output_type": "stream",
     "text": [
      "Topic 0:\n",
      "927     Что если все эти мазепы, УНР, ЗУНР, бандеры и шухевичи, УПА и СС Галичина, майданы и война против Донбасса - и были ради вот этого: дуже доброго пана?🤔  И кляти москали всю жизнь мешали холопам найти этого самого дуже доброго пана? А?  Да быть такого ж не может.\n",
      "443                                                                                                     И даже когда падёт нацисткий режим укробандер, он, если останется жив, будет прибывать в виртуальном мире, виртуальных побед, виртуального народа, виртуальной страны.\n",
      "2075                                                                                                                                                                                                                                          Ну хоть не проституток выбирают.\n",
      "2401                                                                                                                                                                                                              Отъехав к себе, хохлы начали поливать зелёнку из стрелковки.\n",
      "3407                                                                                                                                                                                                                       Появились фото убегающих из Северодонецка укровояк.\n",
      "Name: text, dtype: object\n",
      "\n",
      "\n",
      "Topic 1:\n",
      "1217    Мама закричала от радости: «Ну почему я не отрастила член в 4 года!»    Папа – возликовал: «Ну почему, почему, - у меня нет сисек?!» Всеобщее ликование.      🐖 🪓  Вот, для того, чтобы в России не было никогда такого, - мы и вынуждены утилизировать какую-то часть хохлов.\n",
      "303                                                                                                                                                                                                     Бандеродрочеры хотят заселить остатки Украины нацией чистокровных имбецилов? 🤣\n",
      "2757                                                                                                                     Не уютно себя чувствуют из-за эффективной работы наших ДРГ.  Земля горит под ногами всушников. 🔥👇   В эти дни решил \"изучить\" освобожденную часть Херсонщины.\n",
      "2527                                                                                                                                                  Внук румынского оккупанта, того самого, что зверствовал не меньше бандеровцев, рассуждает о том, кто за что должен рассчитаться.\n",
      "3548                                                                                                                                                                                                       Руины, а на втором фото то место где с утра хохлы ползуны выползли сдаться.\n",
      "Name: text, dtype: object\n",
      "\n",
      "\n",
      "Topic 2:\n",
      "2512                                                                                                                                                                                                                                                                                             Пришел к успеху бандеровец\n",
      "922         Более того, однажды на их позиции упало свыше 40 снарядов, но им удалось выйти из-под огня без единой царапины. ⠀ Но так случилось, по воле Всевышнего, что когда Аюб с товарищами под градом пуль и артобстрелов сражался с бандеровцами и сатанистами, его родной брат скончался дома от внезапного приступа.\n",
      "3410    Ни для кого не секрет, что война на Украине, это лайт -версия войны с НАТО, в котором Киеву отведена роль поставщика мотивированной и стойкой пехоты, а также предоставления в долговременную аренду ТВД. Соответственно рассчитывать на то, что у хохлов закончатся снаряды, танки, прочие ББМ, как минимум глупо.\n",
      "515                                                                                                                                                                                                                                              ▪️Детей на Украине с раннего возраста приобщают к неонацистской идеологии.\n",
      "2116                                                                                                                                                                                                                                                                                                              Интересно\n",
      "Name: text, dtype: object\n",
      "\n",
      "\n",
      "Topic 3:\n",
      "1560                                                                                                                                                                   Минобразования Латвии не намерено отказываться от перевода школ на латышский язык.\n",
      "122                                                                                                                                                                                                       Бандеровцы, нацики и шайтаны, ваши дни сочтены.\n",
      "2741                                                                                                                                                 Революционной смены мировых элит, о которой говорит Чубайс, не будет: https://t.me/vzglyad_ru/35047.\n",
      "2351                                                                                                            Он на Украине создал бандеровскую ПЦУ (Думенко) по лекалам «кирхенкампфа» Третьего рейха и при помощи лжепатриарха Варфоломея Фанарского.\n",
      "192     Разве что на Украине правящая этническая преступная группировка опирается на вымышленный, искусственный этнос, эту жовто-блакитную фанерную ширму, за которой русских, малороссов и евреев силой заталкивают под знамёна неонацистов-бандеровцев.\n",
      "Name: text, dtype: object\n",
      "\n",
      "\n",
      "Topic 4:\n",
      "2944    Кулеба разве что на колени не встал, когда рассказывал о своей встрече с Байденом: \"О, великий президент США соизволил принять меня, мелкого укронацика.\n",
      "564                                                       Хотя, мне кажется, Русская армия сражается не с отдельными \"укронацистами\", а - с нацистской Украиной.\n",
      "1680                                                           🇧🇾🇷🇺🇺🇦 Минск и Москва дадут совместный ответ, если Киев начнет войну против Донбасса – Лукашенко.\n",
      "3096                                                                          Во-первых, хохлы, используя типичную террористическую тактику, ударили по символу.\n",
      "2462                               И судя по соотношению выпущенных ракет к оставшимся живым ЗРК хохлов, далеко не все они попали в эти ЗРК. Если вообще попали.\n",
      "Name: text, dtype: object\n",
      "\n",
      "\n"
     ]
    }
   ],
   "source": [
    "cluster_with_lda(df_collocations, 5, ['text_lemmatized'])"
   ],
   "metadata": {
    "collapsed": false,
    "pycharm": {
     "name": "#%%\n"
    }
   }
  },
  {
   "cell_type": "code",
   "execution_count": 113,
   "outputs": [
    {
     "name": "stdout",
     "output_type": "stream",
     "text": [
      "Topic 0:\n",
      "2240                           NaN\n",
      "2357    неонацистской организацией\n",
      "3039                  живого места\n",
      "182                    детский сад\n",
      "2129                           NaN\n",
      "Name: amod_str, dtype: object\n",
      "\n",
      "\n",
      "Topic 1:\n",
      "2585    серьезные укрепы\n",
      "2529    реальных потерях\n",
      "627                  NaN\n",
      "1357                 NaN\n",
      "1010                 NaN\n",
      "Name: amod_str, dtype: object\n",
      "\n",
      "\n",
      "Topic 2:\n",
      "3433    пленные всушники, украинскую сторону, остальных власти, украинской власти\n",
      "823                                        украинских нацистов, вчерашней попойки\n",
      "3551                                   острый психоз, данный г-н, соседней стране\n",
      "656                                                        укронацистским каналам\n",
      "375                                        обратную сторону, участливое отношение\n",
      "Name: amod_str, dtype: object\n",
      "\n",
      "\n",
      "Topic 3:\n",
      "2509    недоброй целью, личного телефона, остервенелых бандеровцев, крепких слов\n",
      "439                                           венского леса, европейских городах\n",
      "1506                                                    нового музея, новой риге\n",
      "2                                         военной авиации, долгинцево(кривой рог\n",
      "636                          укронацистского консенсуса, биологических носителей\n",
      "Name: amod_str, dtype: object\n",
      "\n",
      "\n",
      "Topic 4:\n",
      "1011                                            неблагонадёжных элементов\n",
      "2325                                                  известный неонацист\n",
      "198                                                                   NaN\n",
      "685                                                                   NaN\n",
      "2536    укронацистская артиллерия, беспорядочный огонь, мирному населению\n",
      "Name: amod_str, dtype: object\n",
      "\n",
      "\n"
     ]
    }
   ],
   "source": [
    "cluster_with_lda(df_collocations, 5, ['amod_str', 'nmod_str'], col_to_print='amod_str')"
   ],
   "metadata": {
    "collapsed": false,
    "pycharm": {
     "name": "#%%\n"
    }
   }
  },
  {
   "cell_type": "code",
   "execution_count": 114,
   "outputs": [
    {
     "name": "stdout",
     "output_type": "stream",
     "text": [
      "Topic 0:\n",
      "2214    случаев коронавируса, случаев коронавируса, случаев в регионах\n",
      "3361                                                 всушника из одшбр\n",
      "583                                         режим хозяева, хозяева его\n",
      "633                                                                NaN\n",
      "2091                                                правда о натуралах\n",
      "Name: nmod_str, dtype: object\n",
      "\n",
      "\n",
      "Topic 1:\n",
      "66                                                         тысяч бойцов\n",
      "1940                                                           фото лиц\n",
      "3617        деаноном людей, жалобы данных публикацию, публикацию данных\n",
      "2201                                      плену   фсб, плену спустя лет\n",
      "869     морковку племя обещаний, руины незалежной, руины по возможности\n",
      "Name: nmod_str, dtype: object\n",
      "\n",
      "\n",
      "Topic 2:\n",
      "2048                             сентября года, полушария сферы, день равноденствия\n",
      "3096                                                                            NaN\n",
      "770                                                                             NaN\n",
      "2883    фасаде госадминистрации, баннер надписью изображением, изображением бандеры\n",
      "2441                                                         джавелинов байрактаров\n",
      "Name: nmod_str, dtype: object\n",
      "\n",
      "\n",
      "Topic 3:\n",
      "449                        результат спецоперации, уничтожение сатанизма\n",
      "524                               уничтожением консенсуса, носителей его\n",
      "1272    ввс сша, небе румынии, небе украиной границе, границе с украиной\n",
      "1880                       педофил на другом, педофил -, педофил пачками\n",
      "1579                        возвращением миллионов, миллионов захарченко\n",
      "Name: nmod_str, dtype: object\n",
      "\n",
      "\n",
      "Topic 4:\n",
      "2297                                                                                                                                                                                                                                                                                                                                                                                                                                                                                                                                                               деньги пенсионеров\n",
      "2422    инфоситуация китайских сми, инфоситуация мосту теракту, теракту крымском мосту, теракт терактом ряду, ряду потоках терактом, терактом северных потоках, проблемы с безопасностью, качество строительства, горение цистерн, цистерн что горючим, горючим что, взрыва тонн, тонн взрывчатки, плавкраном их, запас прочности, кпд супермегапланирования, супермегапланирования супертеракта, супермегапланирования нато, статья ук, ук события поддержку, поддержку терроризма, поддержку -, поддержку она, поддержку территории события, события кнр территории, территории кнр\n",
      "2208                                                                                                                                                                                                                                                                                                                                                                                                                                                                                                                                               брифинг минобороны, брифинг читать\n",
      "126                                                                                                                                                                                                                                                                                                                                                                                                                                                                                                                                                                               NaN\n",
      "2859                                                                                                                                                                                                                                                                                                                                                                                                                                                                                                                                                                   дебатах хохлов\n",
      "Name: nmod_str, dtype: object\n",
      "\n",
      "\n"
     ]
    }
   ],
   "source": [
    "cluster_with_lda(df_collocations, 5, ['amod_str', 'nmod_str'], col_to_print='nmod_str')"
   ],
   "metadata": {
    "collapsed": false,
    "pycharm": {
     "name": "#%%\n"
    }
   }
  },
  {
   "cell_type": "code",
   "execution_count": 115,
   "outputs": [
    {
     "name": "stdout",
     "output_type": "stream",
     "text": [
      "Topic 0:\n",
      "492                                                       Об этом мне доводилось говорить и ранее, когда мне говорил что ВСУ и укронацисты спешат на референдум.\n",
      "1999                                                                           ❗️Россия достойно пройдет через посланные испытания, никаких сомнений нет — Путин\n",
      "3430    🇺🇦\"Намародерили, мля...\"  ВСУшник жалуется, что для тактически отступающих бойцов не хватает места в кузове, так как он забит сувенирами.  👉 Подписаться\n",
      "3490                                                                             На данный момент найдены несколько десятков убитых во время штурма неонацистов.\n",
      "2237                                                                                                                                          Туша поймала тушу.\n",
      "Name: text, dtype: object\n",
      "\n",
      "\n",
      "Topic 1:\n",
      "211                                                                               Мы ведь не фашисты какие - то из ВСУ. Откалибровать нацистов укрорейха можно в этих ботах : @zov_boreas_bot  @zov_zephyr_bot\n",
      "800    Ликвидировано еще двое укронацистов   Командир роты 4-го батальона ДУК «Правый сектор» Андрей Жованик (позывной «Татарин) и его прихвостень Юрий Коваленко (позывной «Сокар») уничтожены под Соледаром.\n",
      "52                                                                Хохлы — это так, промежуточный этап для того, чтобы нагадить России, разменная монета в задаче Европы уничтожить Россию», — говорит Гурулев.\n",
      "143                          И следом выходит новость с фронта от Даниила Безсонова о долгожданном прорыве подразделений ДНР и ВС РФ на Угледарском направлении, с очень серьезными потерями для укронацистов.\n",
      "799                                                                                                                                      Вот такого бесстрашного хрюнделя встретил житель Вологодской области.\n",
      "Name: text, dtype: object\n",
      "\n",
      "\n",
      "Topic 2:\n",
      "3206    На собранные средства был приобретен тепловизор INFIRAY СL35 M. Киевская власть и в дальнейшем планирует принуждать детей страны для сбора средств на нужды ВСУ. Печально все на это смотреть, куда катиться украинская власть, принуждая совсем маленьких детей работать на «укропию».\n",
      "1136                                                                                                                                                                                      ⚡️А пока укронацисты сдаются в плен, можно посмотреть видео на тему \"С чем Россия воюет на Украине\"⚡️\n",
      "1663                                                                                                                                                          Фиг с ним, с навальным! Но пригласить в эфир «перетереть за Донбасс» Лешу «Белая слизь» Гончаренко - вот это действительно мощно.\n",
      "1003                                                                                                        ⬆️ Если подтвердится, что теракт был спланирован украинскими военными, это будет значить, что его можно было избежать и разъебывать бандеровских свинособак надо было давным-давно.\n",
      "2133                                                                                                                                       Глава СК Александр Бастрыкин поручил возбудить уголовное дело по факту обстрела села Солохи, в результате которого погиб один человек, есть раненые.\n",
      "Name: text, dtype: object\n",
      "\n",
      "\n",
      "Topic 3:\n",
      "2857    Комментарии пользователей под постом яркое тому свидетельство.   «Анатолий Чубайс, ушедший в отставку с поста главного кремлевского советника после вторжения России на Украину, был госпитализирован в одной из западноевропейских стран в критическом состоянии с симптомами редкого неврологического расстройства.\n",
      "3271                    Батальон «Айдар» (запрещен в РФ):  — на территории церкви Похвалы Богоматери в Павлограде Днепропетровской области боевики оборудовали огневые позиции, разместили артиллерию и РСЗО;  — в Запорожье на нижних этажах больниц неонацисты оборудовали огневые позиции и разместили склады боеприпасов.\n",
      "1093                                                                                                                                                                           Подтверждение данной информации будет означать только одно - демилитаризация Бандерштадта должна быть произведена до степени перочинных ножей.\n",
      "2132                                                                                                                                                                                                                                                       Слева отчим напавшего на полицейский участок в Татарстане — Марат.\n",
      "2656                                                                                                                                                                                                               В Ирпени, откуда российские войска выбивают укронацистов, очень тяжелая ситуация с гражданским населением.\n",
      "Name: text, dtype: object\n",
      "\n",
      "\n",
      "Topic 4:\n",
      "1636                                        Президент Израиля Ицхак Герцог представит в США фото, якобы подтверждающие наличие беспилотных летательных аппаратов иранского производства на Украине, сообщили в канцелярии.\n",
      "251                                                 🇺🇦💥Шесть ракет из «Хаймарсов» укронацисты выпустили по Лисичанску  В первый день референдума на Донбассе киевский режим с новой силой затеял наступление на Лисичанск.\n",
      "691                                                                                                   Странно, флаги со свастикой и Майн Кампф у поддерживаемых Аваковым укронацистов, а денацифицировать он хочет Россию.\n",
      "2044    Число жертв при обстреле Новой Каховки выросло до двух человек  После вчерашнего ракетного удара по Новой Каховке в Херсонской области сгорели 2 жилых дома, также повреждены здание администрации и коммуникации.\n",
      "224                                              🇷🇺🇺🇦Боевые сводки по Харьковскому направлению  ▪️Недельное стягивание мобилизованных укронацистов позволило ВСУ предпринять «рывок последней надежды» в сторону Балаклеи.\n",
      "Name: text, dtype: object\n",
      "\n",
      "\n"
     ]
    }
   ],
   "source": [
    "cluster_with_lda(df_collocations, 5, ['amod_str', 'nmod_str'])"
   ],
   "metadata": {
    "collapsed": false,
    "pycharm": {
     "name": "#%%\n"
    }
   }
  },
  {
   "cell_type": "code",
   "execution_count": 116,
   "outputs": [
    {
     "data": {
      "text/plain": "                                                                                                                                                                                                                                                                                                                                            text  \\\n0     Вагнер отправляет к бандере и прочим шайтанам в районе Бахмута следующие бригады:  Шайтанский батальон Джохара Дудаева.   30-я механизированная бригада.   58-я механизированная пехотная бригада.   53-я механизированная бригада.   4-я бригада быстрого реагирования.   241-я бригада территориальной обороны.   71-я егерская бригада.   \n1                                                                                                                                                                                                                 Тут понимаешь всё про метафизику этой войны. «Укропы» под покровом Запада вышли не против России — они вышли на войну с Богом.   \n2                                                                                                                                                                                                                                    Наш источник сообщает, что остатки военной авиации укрорейха переброшена на аэродром Долгинцево(Кривой Рог)   \n3                                                                                                                                                                                                                                                                      Раньше укронацисты строили песчаные замки — но теперь пляжи заминированы.   \n4                                                                                                                                                                                                                         Именно эти регионы являются настоящим рассадником укронацизма и имеют для укронациков сакральный идеологический смысл.   \n...                                                                                                                                                                                                                                                                                                                                          ...   \n3623                                                                                                                                                                                                                                                                                              Стоимость очередной подачки хохлам - $675 млн.   \n3624                                                                                                  Хохлячие каналы ссылаясь на некую разведку сообщают о том, что ВС РФ готовы подорвать дамбу Каховской ГЭС.     Зеленский под шумок масштабной воздушной тревоги на Украине может воспользоваться случаем и совершить террористический акт.   \n3625                                                                                                                                                                                                                                                    Обсуждают недоукраинца Невзорова, Анну Нетребко, Бориса Гребенщикова и Анатолия Чубайса.   \n3626                                                                                                                                                                                                                           И вот приходит коллективный Зусько и буквально начинает на ровном месте заваливать хохлов трупами мобилизованных.   \n3627                                                                                                                                                                                                                                           Ну, во-первых спасибо за установочные данные, а во вторых, хлопцы это новый бизнес?   Е.Поддубный   \n\n                                                         core_noun_verb_str  \\\n0                                                         вагнер отправляет   \n1                                                   укропы вышли, они вышли   \n2                                             источник сообщает переброшена   \n3               укронацисты раньше строили, укронацисты теперь заминированы   \n4                               регионы являются рассадником, регионы имеют   \n...                                                                     ...   \n3623                                                                    NaN   \n3624  каналы сообщают, вс готовы подорвать, зеленский может воспользоваться   \n3625                                                                    NaN   \n3626              зусько вот приходит, зусько буквально начинает заваливать   \n3627                                              хлопцы бизнес, это бизнес   \n\n                                                                                                                  verb_obl_obj_str  \\\n0                                                                                         отправляет к бандере, отправляет бригады   \n1                                             тут понимаешь всё, тут понимаешь про метафизику, вышли против россии, вышли на войну   \n2                                                                                                          переброшена на аэродром   \n3                                                                                                             раньше строили замки   \n4                                                                                               имеют для укронациков, имеют смысл   \n...                                                                                                                            ...   \n3623                                                                                                                           NaN   \n3624  ссылаясь на разведку, сообщают о том, подорвать дамбу, может случаем воспользоваться, воспользоваться случаем, совершить акт   \n3625                                                                                                        обсуждают недоукраинца   \n3626                              буквально начинает хохлов заваливать, заваливать на месте, заваливать хохлов, заваливать трупами   \n3627                                                                                                                           NaN   \n\n                     appos_str  \\\n0     батальон джохара дудаева   \n1                          NaN   \n2                 аэродром рог   \n3                          NaN   \n4                          NaN   \n...                        ...   \n3623                       NaN   \n3624                       NaN   \n3625                       NaN   \n3626                       NaN   \n3627                       NaN   \n\n                                                                                                                                                                                                                       amod_str  \\\n0     прочим шайтанам, следующие бригады, шайтанский батальон, механизированная бригада, механизированная бригада, пехотная бригада, механизированная бригада, быстрого реагирования, территориальной обороны, егерская бригада   \n1                                                                                                                                                                                                                           NaN   \n2                                                                                                                                                                                        военной авиации, долгинцево(кривой рог   \n3                                                                                                                                                                                                                песчаные замки   \n4                                                                                                                                                                 настоящим рассадником, сакральный смысл, идеологический смысл   \n...                                                                                                                                                                                                                         ...   \n3623                                                                                                                                                                                                   очередной подачки, - млн   \n3624                                                                                                                                хохлячие каналы, каховской гэс, масштабной тревоги, воздушной тревоги, террористический акт   \n3625                                                                                                                                                                                                                        NaN   \n3626                                                                                                                                                                                          коллективный зусько, ровном месте   \n3627                                                                                                                                                                                          установочные данные, новый бизнес   \n\n                                                                           nmod_str  \\\n0     бандере бахмута районе, районе бахмута, бригада реагирования, бригада обороны   \n1          метафизику войны, укропы запада покровом, покровом запада, войну с богом   \n2                                                остатки авиации, остатки укрорейха   \n3                                                                               NaN   \n4                                                           рассадником укронацизма   \n...                                                                             ...   \n3623                                                 стоимость подачки, подачки млн   \n3624                                      каналы ссылаясь, дамбу гэс, шумок тревоги   \n3625                                                                            NaN   \n3626                                                         трупами мобилизованных   \n3627                                                    спасибо установочные данные   \n\n                                                                                                                                                                                                                                                                                                      text_clean  \\\n0     вагнер отправляет к бандере и прочим шайтанам в районе бахмута следующие бригады  шайтанский батальон джохара дудаева  я механизированная бригада  я механизированная пехотная бригада  я механизированная бригада  я бригада быстрого реагирования  я бригада территориальной обороны  я егерская бригада   \n1                                                                                                                                                                                      тут понимаешь всё про метафизику этой войны укропы под покровом запада вышли не против россии  они вышли на войну с богом   \n2                                                                                                                                                                                                       наш источник сообщает что остатки военной авиации укрорейха переброшена на аэродром долгинцевокривой рог   \n3                                                                                                                                                                                                                                        раньше укронацисты строили песчаные замки  но теперь пляжи заминированы   \n4                                                                                                                                                                                          именно эти регионы являются настоящим рассадником укронацизма и имеют для укронациков сакральный идеологический смысл   \n...                                                                                                                                                                                                                                                                                                          ...   \n3623                                                                                                                                                                                                                                                                    стоимость очередной подачки хохлам   млн   \n3624                                                                     хохлячие каналы ссылаясь на некую разведку сообщают о том что вс рф готовы подорвать дамбу каховской гэс     зеленский под шумок масштабной воздушной тревоги на украине может воспользоваться случаем и совершить террористический акт   \n3625                                                                                                                                                                                                                       обсуждают недоукраинца невзорова анну нетребко бориса гребенщикова и анатолия чубайса   \n3626                                                                                                                                                                                            и вот приходит коллективный зусько и буквально начинает на ровном месте заваливать хохлов трупами мобилизованных   \n3627                                                                                                                                                                                                                 ну вопервых спасибо за установочные данные а во вторых хлопцы это новый бизнес   еподдубный   \n\n                                                                                                                                                                                                                                                                                                 text_lemmatized  \\\n0     вагнер отправлять к бандере и прочим шайтан в район бахмут следующий бригада   шайтанский батальон джохар дудаев   я механизированный бригада   я механизированный пехотный бригада   я механизированный бригада   я бригада быстрый реагирование   я бригада территориальный оборона   я егерский бригада   \n1                                                                                                                                                                                            тут понимать всё про метафизика этот война укроп под покров запад выйти не против россия   они выйти на война с бог   \n2                                                                                                                                                                                                       наш источник сообщать что остаток военный авиация укрорейха перебросить на аэродром долгинцевокривой рог   \n3                                                                                                                                                                                                                                        раньше укронацисты строить песчаный замок   но теперь пляж заминировать   \n4                                                                                                                                                                                            именно этот регион являться настоящий рассадник укронацизма и иметь для укронациков сакральный идеологический смысл   \n...                                                                                                                                                                                                                                                                                                          ...   \n3623                                                                                                                                                                                                                                                                    стоимость очередной подачка хохол    млн   \n3624                                                                     хохлячие канал ссылаться на некий разведка сообщать о том что вс рф готовый подорвать дамба каховской гэс      зеленский под шумок масштабный воздушный тревога на украина мочь воспользоваться случай и совершить террористический акт   \n3625                                                                                                                                                                                                                           обсуждать недоукраинца невзоров анна нетребко борис гребенщиков и анатолий чубайс   \n3626                                                                                                                                                                                               и вот приходить коллективный зусько и буквально начинать на ровный место заваливать хохол труп мобилизованных   \n3627                                                                                                                                                                                                                ну вопервых спасибо за установочный данные а во второй хлопцы это новый бизнес    еподдубный   \n\n      cluster  cluster_2_text_lemmatized_1679913224  ...  \\\n0           0                                     0  ...   \n1           1                                     1  ...   \n2           0                                     0  ...   \n3           0                                     0  ...   \n4           0                                     0  ...   \n...       ...                                   ...  ...   \n3623        0                                     0  ...   \n3624        0                                     0  ...   \n3625        0                                     0  ...   \n3626        0                                     0  ...   \n3627        0                                     0  ...   \n\n      topic_5_verb_obl_obj_str_nmod_str_2023-03-27_14-43-09  \\\n0                                                         4   \n1                                                         4   \n2                                                         4   \n3                                                         4   \n4                                                         3   \n...                                                     ...   \n3623                                                      4   \n3624                                                      0   \n3625                                                      0   \n3626                                                      4   \n3627                                                      0   \n\n      topic_5_verb_obl_obj_str_nmod_str_2023-03-27_14-43-23  \\\n0                                                         4   \n1                                                         4   \n2                                                         4   \n3                                                         4   \n4                                                         3   \n...                                                     ...   \n3623                                                      4   \n3624                                                      0   \n3625                                                      0   \n3626                                                      4   \n3627                                                      0   \n\n      topic_5_verb_obl_obj_str_nmod_str_2023-03-27_14-43-45  \\\n0                                                         4   \n1                                                         4   \n2                                                         4   \n3                                                         4   \n4                                                         3   \n...                                                     ...   \n3623                                                      4   \n3624                                                      0   \n3625                                                      0   \n3626                                                      4   \n3627                                                      0   \n\n      topic_5_text_lemmatized_2023-03-27_14-48-25  \\\n0                                               2   \n1                                               2   \n2                                               4   \n3                                               2   \n4                                               4   \n...                                           ...   \n3623                                            4   \n3624                                            4   \n3625                                            0   \n3626                                            0   \n3627                                            1   \n\n      topic_5_verb_obl_obj_str_core_noun_verb_str_2023-03-27_14-48-32  \\\n0                                                                   3   \n1                                                                   3   \n2                                                                   3   \n3                                                                   0   \n4                                                                   2   \n...                                                               ...   \n3623                                                                0   \n3624                                                                0   \n3625                                                                1   \n3626                                                                0   \n3627                                                                1   \n\n      topic_5_verb_obl_obj_str_core_noun_verb_str_2023-03-27_14-49-40  \\\n0                                                                   3   \n1                                                                   3   \n2                                                                   3   \n3                                                                   0   \n4                                                                   2   \n...                                                               ...   \n3623                                                                0   \n3624                                                                0   \n3625                                                                1   \n3626                                                                0   \n3627                                                                1   \n\n      topic_5_verb_obl_obj_str_core_noun_verb_str_2023-03-27_14-50-49  \\\n0                                                                   3   \n1                                                                   3   \n2                                                                   3   \n3                                                                   0   \n4                                                                   2   \n...                                                               ...   \n3623                                                                0   \n3624                                                                0   \n3625                                                                1   \n3626                                                                0   \n3627                                                                1   \n\n      topic_5_amod_str_nmod_str_2023-03-27_14-56-53  \\\n0                                                 3   \n1                                                 2   \n2                                                 3   \n3                                                 1   \n4                                                 3   \n...                                             ...   \n3623                                              2   \n3624                                              4   \n3625                                              0   \n3626                                              2   \n3627                                              4   \n\n      topic_5_amod_str_nmod_str_2023-03-27_14-57-23  \\\n0                                                 3   \n1                                                 2   \n2                                                 3   \n3                                                 1   \n4                                                 3   \n...                                             ...   \n3623                                              2   \n3624                                              4   \n3625                                              0   \n3626                                              2   \n3627                                              4   \n\n      topic_5_amod_str_nmod_str_2023-03-27_14-57-56  \n0                                                 3  \n1                                                 2  \n2                                                 3  \n3                                                 1  \n4                                                 3  \n...                                             ...  \n3623                                              2  \n3624                                              4  \n3625                                              0  \n3626                                              2  \n3627                                              4  \n\n[3628 rows x 45 columns]",
      "text/html": "<div>\n<style scoped>\n    .dataframe tbody tr th:only-of-type {\n        vertical-align: middle;\n    }\n\n    .dataframe tbody tr th {\n        vertical-align: top;\n    }\n\n    .dataframe thead th {\n        text-align: right;\n    }\n</style>\n<table border=\"1\" class=\"dataframe\">\n  <thead>\n    <tr style=\"text-align: right;\">\n      <th></th>\n      <th>text</th>\n      <th>core_noun_verb_str</th>\n      <th>verb_obl_obj_str</th>\n      <th>appos_str</th>\n      <th>amod_str</th>\n      <th>nmod_str</th>\n      <th>text_clean</th>\n      <th>text_lemmatized</th>\n      <th>cluster</th>\n      <th>cluster_2_text_lemmatized_1679913224</th>\n      <th>...</th>\n      <th>topic_5_verb_obl_obj_str_nmod_str_2023-03-27_14-43-09</th>\n      <th>topic_5_verb_obl_obj_str_nmod_str_2023-03-27_14-43-23</th>\n      <th>topic_5_verb_obl_obj_str_nmod_str_2023-03-27_14-43-45</th>\n      <th>topic_5_text_lemmatized_2023-03-27_14-48-25</th>\n      <th>topic_5_verb_obl_obj_str_core_noun_verb_str_2023-03-27_14-48-32</th>\n      <th>topic_5_verb_obl_obj_str_core_noun_verb_str_2023-03-27_14-49-40</th>\n      <th>topic_5_verb_obl_obj_str_core_noun_verb_str_2023-03-27_14-50-49</th>\n      <th>topic_5_amod_str_nmod_str_2023-03-27_14-56-53</th>\n      <th>topic_5_amod_str_nmod_str_2023-03-27_14-57-23</th>\n      <th>topic_5_amod_str_nmod_str_2023-03-27_14-57-56</th>\n    </tr>\n  </thead>\n  <tbody>\n    <tr>\n      <th>0</th>\n      <td>Вагнер отправляет к бандере и прочим шайтанам в районе Бахмута следующие бригады:  Шайтанский батальон Джохара Дудаева.   30-я механизированная бригада.   58-я механизированная пехотная бригада.   53-я механизированная бригада.   4-я бригада быстрого реагирования.   241-я бригада территориальной обороны.   71-я егерская бригада.</td>\n      <td>вагнер отправляет</td>\n      <td>отправляет к бандере, отправляет бригады</td>\n      <td>батальон джохара дудаева</td>\n      <td>прочим шайтанам, следующие бригады, шайтанский батальон, механизированная бригада, механизированная бригада, пехотная бригада, механизированная бригада, быстрого реагирования, территориальной обороны, егерская бригада</td>\n      <td>бандере бахмута районе, районе бахмута, бригада реагирования, бригада обороны</td>\n      <td>вагнер отправляет к бандере и прочим шайтанам в районе бахмута следующие бригады  шайтанский батальон джохара дудаева  я механизированная бригада  я механизированная пехотная бригада  я механизированная бригада  я бригада быстрого реагирования  я бригада территориальной обороны  я егерская бригада</td>\n      <td>вагнер отправлять к бандере и прочим шайтан в район бахмут следующий бригада   шайтанский батальон джохар дудаев   я механизированный бригада   я механизированный пехотный бригада   я механизированный бригада   я бригада быстрый реагирование   я бригада территориальный оборона   я егерский бригада</td>\n      <td>0</td>\n      <td>0</td>\n      <td>...</td>\n      <td>4</td>\n      <td>4</td>\n      <td>4</td>\n      <td>2</td>\n      <td>3</td>\n      <td>3</td>\n      <td>3</td>\n      <td>3</td>\n      <td>3</td>\n      <td>3</td>\n    </tr>\n    <tr>\n      <th>1</th>\n      <td>Тут понимаешь всё про метафизику этой войны. «Укропы» под покровом Запада вышли не против России — они вышли на войну с Богом.</td>\n      <td>укропы вышли, они вышли</td>\n      <td>тут понимаешь всё, тут понимаешь про метафизику, вышли против россии, вышли на войну</td>\n      <td>NaN</td>\n      <td>NaN</td>\n      <td>метафизику войны, укропы запада покровом, покровом запада, войну с богом</td>\n      <td>тут понимаешь всё про метафизику этой войны укропы под покровом запада вышли не против россии  они вышли на войну с богом</td>\n      <td>тут понимать всё про метафизика этот война укроп под покров запад выйти не против россия   они выйти на война с бог</td>\n      <td>1</td>\n      <td>1</td>\n      <td>...</td>\n      <td>4</td>\n      <td>4</td>\n      <td>4</td>\n      <td>2</td>\n      <td>3</td>\n      <td>3</td>\n      <td>3</td>\n      <td>2</td>\n      <td>2</td>\n      <td>2</td>\n    </tr>\n    <tr>\n      <th>2</th>\n      <td>Наш источник сообщает, что остатки военной авиации укрорейха переброшена на аэродром Долгинцево(Кривой Рог)</td>\n      <td>источник сообщает переброшена</td>\n      <td>переброшена на аэродром</td>\n      <td>аэродром рог</td>\n      <td>военной авиации, долгинцево(кривой рог</td>\n      <td>остатки авиации, остатки укрорейха</td>\n      <td>наш источник сообщает что остатки военной авиации укрорейха переброшена на аэродром долгинцевокривой рог</td>\n      <td>наш источник сообщать что остаток военный авиация укрорейха перебросить на аэродром долгинцевокривой рог</td>\n      <td>0</td>\n      <td>0</td>\n      <td>...</td>\n      <td>4</td>\n      <td>4</td>\n      <td>4</td>\n      <td>4</td>\n      <td>3</td>\n      <td>3</td>\n      <td>3</td>\n      <td>3</td>\n      <td>3</td>\n      <td>3</td>\n    </tr>\n    <tr>\n      <th>3</th>\n      <td>Раньше укронацисты строили песчаные замки — но теперь пляжи заминированы.</td>\n      <td>укронацисты раньше строили, укронацисты теперь заминированы</td>\n      <td>раньше строили замки</td>\n      <td>NaN</td>\n      <td>песчаные замки</td>\n      <td>NaN</td>\n      <td>раньше укронацисты строили песчаные замки  но теперь пляжи заминированы</td>\n      <td>раньше укронацисты строить песчаный замок   но теперь пляж заминировать</td>\n      <td>0</td>\n      <td>0</td>\n      <td>...</td>\n      <td>4</td>\n      <td>4</td>\n      <td>4</td>\n      <td>2</td>\n      <td>0</td>\n      <td>0</td>\n      <td>0</td>\n      <td>1</td>\n      <td>1</td>\n      <td>1</td>\n    </tr>\n    <tr>\n      <th>4</th>\n      <td>Именно эти регионы являются настоящим рассадником укронацизма и имеют для укронациков сакральный идеологический смысл.</td>\n      <td>регионы являются рассадником, регионы имеют</td>\n      <td>имеют для укронациков, имеют смысл</td>\n      <td>NaN</td>\n      <td>настоящим рассадником, сакральный смысл, идеологический смысл</td>\n      <td>рассадником укронацизма</td>\n      <td>именно эти регионы являются настоящим рассадником укронацизма и имеют для укронациков сакральный идеологический смысл</td>\n      <td>именно этот регион являться настоящий рассадник укронацизма и иметь для укронациков сакральный идеологический смысл</td>\n      <td>0</td>\n      <td>0</td>\n      <td>...</td>\n      <td>3</td>\n      <td>3</td>\n      <td>3</td>\n      <td>4</td>\n      <td>2</td>\n      <td>2</td>\n      <td>2</td>\n      <td>3</td>\n      <td>3</td>\n      <td>3</td>\n    </tr>\n    <tr>\n      <th>...</th>\n      <td>...</td>\n      <td>...</td>\n      <td>...</td>\n      <td>...</td>\n      <td>...</td>\n      <td>...</td>\n      <td>...</td>\n      <td>...</td>\n      <td>...</td>\n      <td>...</td>\n      <td>...</td>\n      <td>...</td>\n      <td>...</td>\n      <td>...</td>\n      <td>...</td>\n      <td>...</td>\n      <td>...</td>\n      <td>...</td>\n      <td>...</td>\n      <td>...</td>\n      <td>...</td>\n    </tr>\n    <tr>\n      <th>3623</th>\n      <td>Стоимость очередной подачки хохлам - $675 млн.</td>\n      <td>NaN</td>\n      <td>NaN</td>\n      <td>NaN</td>\n      <td>очередной подачки, - млн</td>\n      <td>стоимость подачки, подачки млн</td>\n      <td>стоимость очередной подачки хохлам   млн</td>\n      <td>стоимость очередной подачка хохол    млн</td>\n      <td>0</td>\n      <td>0</td>\n      <td>...</td>\n      <td>4</td>\n      <td>4</td>\n      <td>4</td>\n      <td>4</td>\n      <td>0</td>\n      <td>0</td>\n      <td>0</td>\n      <td>2</td>\n      <td>2</td>\n      <td>2</td>\n    </tr>\n    <tr>\n      <th>3624</th>\n      <td>Хохлячие каналы ссылаясь на некую разведку сообщают о том, что ВС РФ готовы подорвать дамбу Каховской ГЭС.     Зеленский под шумок масштабной воздушной тревоги на Украине может воспользоваться случаем и совершить террористический акт.</td>\n      <td>каналы сообщают, вс готовы подорвать, зеленский может воспользоваться</td>\n      <td>ссылаясь на разведку, сообщают о том, подорвать дамбу, может случаем воспользоваться, воспользоваться случаем, совершить акт</td>\n      <td>NaN</td>\n      <td>хохлячие каналы, каховской гэс, масштабной тревоги, воздушной тревоги, террористический акт</td>\n      <td>каналы ссылаясь, дамбу гэс, шумок тревоги</td>\n      <td>хохлячие каналы ссылаясь на некую разведку сообщают о том что вс рф готовы подорвать дамбу каховской гэс     зеленский под шумок масштабной воздушной тревоги на украине может воспользоваться случаем и совершить террористический акт</td>\n      <td>хохлячие канал ссылаться на некий разведка сообщать о том что вс рф готовый подорвать дамба каховской гэс      зеленский под шумок масштабный воздушный тревога на украина мочь воспользоваться случай и совершить террористический акт</td>\n      <td>0</td>\n      <td>0</td>\n      <td>...</td>\n      <td>0</td>\n      <td>0</td>\n      <td>0</td>\n      <td>4</td>\n      <td>0</td>\n      <td>0</td>\n      <td>0</td>\n      <td>4</td>\n      <td>4</td>\n      <td>4</td>\n    </tr>\n    <tr>\n      <th>3625</th>\n      <td>Обсуждают недоукраинца Невзорова, Анну Нетребко, Бориса Гребенщикова и Анатолия Чубайса.</td>\n      <td>NaN</td>\n      <td>обсуждают недоукраинца</td>\n      <td>NaN</td>\n      <td>NaN</td>\n      <td>NaN</td>\n      <td>обсуждают недоукраинца невзорова анну нетребко бориса гребенщикова и анатолия чубайса</td>\n      <td>обсуждать недоукраинца невзоров анна нетребко борис гребенщиков и анатолий чубайс</td>\n      <td>0</td>\n      <td>0</td>\n      <td>...</td>\n      <td>0</td>\n      <td>0</td>\n      <td>0</td>\n      <td>0</td>\n      <td>1</td>\n      <td>1</td>\n      <td>1</td>\n      <td>0</td>\n      <td>0</td>\n      <td>0</td>\n    </tr>\n    <tr>\n      <th>3626</th>\n      <td>И вот приходит коллективный Зусько и буквально начинает на ровном месте заваливать хохлов трупами мобилизованных.</td>\n      <td>зусько вот приходит, зусько буквально начинает заваливать</td>\n      <td>буквально начинает хохлов заваливать, заваливать на месте, заваливать хохлов, заваливать трупами</td>\n      <td>NaN</td>\n      <td>коллективный зусько, ровном месте</td>\n      <td>трупами мобилизованных</td>\n      <td>и вот приходит коллективный зусько и буквально начинает на ровном месте заваливать хохлов трупами мобилизованных</td>\n      <td>и вот приходить коллективный зусько и буквально начинать на ровный место заваливать хохол труп мобилизованных</td>\n      <td>0</td>\n      <td>0</td>\n      <td>...</td>\n      <td>4</td>\n      <td>4</td>\n      <td>4</td>\n      <td>0</td>\n      <td>0</td>\n      <td>0</td>\n      <td>0</td>\n      <td>2</td>\n      <td>2</td>\n      <td>2</td>\n    </tr>\n    <tr>\n      <th>3627</th>\n      <td>Ну, во-первых спасибо за установочные данные, а во вторых, хлопцы это новый бизнес?   Е.Поддубный</td>\n      <td>хлопцы бизнес, это бизнес</td>\n      <td>NaN</td>\n      <td>NaN</td>\n      <td>установочные данные, новый бизнес</td>\n      <td>спасибо установочные данные</td>\n      <td>ну вопервых спасибо за установочные данные а во вторых хлопцы это новый бизнес   еподдубный</td>\n      <td>ну вопервых спасибо за установочный данные а во второй хлопцы это новый бизнес    еподдубный</td>\n      <td>0</td>\n      <td>0</td>\n      <td>...</td>\n      <td>0</td>\n      <td>0</td>\n      <td>0</td>\n      <td>1</td>\n      <td>1</td>\n      <td>1</td>\n      <td>1</td>\n      <td>4</td>\n      <td>4</td>\n      <td>4</td>\n    </tr>\n  </tbody>\n</table>\n<p>3628 rows × 45 columns</p>\n</div>"
     },
     "execution_count": 116,
     "metadata": {},
     "output_type": "execute_result"
    }
   ],
   "source": [
    "df_collocations"
   ],
   "metadata": {
    "collapsed": false,
    "pycharm": {
     "name": "#%%\n"
    }
   }
  },
  {
   "cell_type": "code",
   "execution_count": 117,
   "outputs": [
    {
     "name": "stdout",
     "output_type": "stream",
     "text": [
      "Topic 0:\n",
      "2222    постов про цены\n",
      "3452        бригада тоф\n",
      "1006                NaN\n",
      "1644                NaN\n",
      "853                 NaN\n",
      "Name: nmod_str, dtype: object\n",
      "\n",
      "\n",
      "Topic 1:\n",
      "2273     заместитель командира, командира полка, обмен к бандере\n",
      "457                      огонь пункту птур, птур опорному пункту\n",
      "3605                                              тупость хохлов\n",
      "993                                           удар по лисичанску\n",
      "621     целостность укрорейха, укрорейха нато, территорию россии\n",
      "Name: nmod_str, dtype: object\n",
      "\n",
      "\n",
      "Topic 2:\n",
      "2315    югу россии, сводки из донбасса, сводки безсонов, сводки видео, сводки с передка, сводки -, сводки репортер, сводки крыма, сводки по крыму, сводки сплетни новостями, новостями сплетни, сплетни полуострова, защиту пиироды, защиту без экошизы, защиту -, защиту алиса, защиту аналитика, защиту -, защиту мадуро, защиту -, эксперт луганска вопросам, вопросам луганска, друг донецка, голос мордора, сила в швейцарии, сила -, реальность сбу, реальность союз, союз блогеров, блогеров украины, гроза либшизы, сводкой что, взглядом на события, взглядом -, взглядом саша\n",
      "2446                                                                                                                                                                                                                                                                                                                                                                                                                                              скачки ющенко тимошенко, правительство азарова, нормы кодекса, успех партии, партии бандеровцев, фронт перемен, революция достоинства\n",
      "514                                                                                                                                                                                                                                                                                                                                                                                                                                                                                                                                                              носом михалок, шмыг на\n",
      "27                                                                                                                                                                                                                                                                                                                                                                                                                                                                                                                            вопрос читателя, способность чубатых, способность перейти\n",
      "1205                                                                                                                                                                                                                                                                                                                                                                                                                                                                                                                           мэр днепра, мэр вешать, укронацист боря, сепаров филатов\n",
      "Name: nmod_str, dtype: object\n",
      "\n",
      "\n",
      "Topic 3:\n",
      "978                                                                                                                                                                   работы обстрелян мосту, мосту гэс\n",
      "3420                                                                                                                                                 опорник всу, раны всушников телах, телах всушников\n",
      "714                                                                                                                                                                     потерях укронацистов, работу вс\n",
      "2271    отряд ковпака, ковпака потомки, потомки сидора, сидора артемьевича, представителей подполья, людей пространства, администрации управления, режим управления, управления украиной, отряд ковпака\n",
      "2965                                                                                                                               целью спасения, спасения жизней, жизней товарищей, огонь неонацистов\n",
      "Name: nmod_str, dtype: object\n",
      "\n",
      "\n",
      "Topic 4:\n",
      "420                                                                           атак хохлорейха\n",
      "2809                       глава партии, удары городов инфраструктуре, инфраструктуре городов\n",
      "1728    провал разведки, гору денег, гражданство одной, стран евросоюза, предательство родины\n",
      "2846                                                                             жизни солдат\n",
      "1867                                        ученые интеллекта института, института интеллекта\n",
      "Name: nmod_str, dtype: object\n",
      "\n",
      "\n"
     ]
    }
   ],
   "source": [
    "cluster_with_lda(df_collocations, 5, ['nmod_str'], col_to_print='nmod_str')"
   ],
   "metadata": {
    "collapsed": false,
    "pycharm": {
     "name": "#%%\n"
    }
   }
  }
 ],
 "metadata": {
  "kernelspec": {
   "display_name": "Python 3",
   "language": "python",
   "name": "python3"
  },
  "language_info": {
   "codemirror_mode": {
    "name": "ipython",
    "version": 2
   },
   "file_extension": ".py",
   "mimetype": "text/x-python",
   "name": "python",
   "nbconvert_exporter": "python",
   "pygments_lexer": "ipython2",
   "version": "2.7.6"
  }
 },
 "nbformat": 4,
 "nbformat_minor": 0
}