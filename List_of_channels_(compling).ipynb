{
 "cells": [
  {
   "cell_type": "code",
   "execution_count": 2,
   "outputs": [],
   "source": [
    "import numpy as np\n",
    "import json\n",
    "import os\n",
    "import argparse\n",
    "import pandas as pd\n",
    "import logging\n",
    "import telethon"
   ],
   "metadata": {
    "collapsed": false,
    "pycharm": {
     "name": "#%%\n"
    }
   }
  },
  {
   "cell_type": "markdown",
   "source": [
    "# Choosing the seed channels"
   ],
   "metadata": {
    "collapsed": false,
    "pycharm": {
     "name": "#%% md\n"
    }
   }
  },
  {
   "cell_type": "markdown",
   "source": [
    "You need paid account to access the data in table form, but I'm not spending even a cent on this russian service:)\n",
    "I copypasted the tables from webpage directly to [google spreadsheet](https://docs.google.com/spreadsheets/d/1J6oCBaG2JE5ChDI5E018pRGJ9c9cnOZCOtW0iOeMwHw/edit#gid=0) and then extract links from cells using [custom App Script](https://docs.google.com/spreadsheets/d/1J6oCBaG2JE5ChDI5E018pRGJ9c9cnOZCOtW0iOeMwHw/edit#gid=0)"
   ],
   "metadata": {
    "collapsed": false,
    "pycharm": {
     "name": "#%% md\n"
    }
   }
  },
  {
   "cell_type": "markdown",
   "source": [
    "I've selected top100 (by citation index) channels from News and Media section, top100 from Blogs and top100 from Politics. I chose citation index (which is based on forwards and mentions) because it reflects potential information diffusion through the whole network (and we'll rely on the measure of influence further on)."
   ],
   "metadata": {
    "collapsed": false,
    "pycharm": {
     "name": "#%% md\n"
    }
   }
  },
  {
   "cell_type": "code",
   "execution_count": 3,
   "outputs": [],
   "source": [
    "df_links_raw = pd.read_csv(\"/Users/katerynaburovova/PycharmProjects/dehumanization/data/links_raw.csv\")"
   ],
   "metadata": {
    "collapsed": false,
    "pycharm": {
     "name": "#%%\n"
    }
   }
  },
  {
   "cell_type": "code",
   "execution_count": 9,
   "outputs": [],
   "source": [
    "df_links_raw = df_links_raw[df_links_raw['Unnamed: 2']!='drop'].reset_index(drop=True)"
   ],
   "metadata": {
    "collapsed": false,
    "pycharm": {
     "name": "#%%\n"
    }
   }
  },
  {
   "cell_type": "markdown",
   "source": [
    "We have 10 values that were not linked through the share link - those are private and can be accessed after joining and parsing all joined chats. I expect that they will appear in our referenced chat - we drop it for now."
   ],
   "metadata": {
    "collapsed": false,
    "pycharm": {
     "name": "#%% md\n"
    }
   }
  },
  {
   "cell_type": "code",
   "execution_count": null,
   "outputs": [],
   "source": [
    "df_links_raw = df_links_raw[df_links_raw['name_handle']!='#VALUE!']"
   ],
   "metadata": {
    "collapsed": false,
    "pycharm": {
     "name": "#%%\n"
    }
   }
  },
  {
   "cell_type": "markdown",
   "source": [],
   "metadata": {
    "collapsed": false,
    "pycharm": {
     "name": "#%% md\n"
    }
   }
  },
  {
   "cell_type": "code",
   "execution_count": 20,
   "outputs": [],
   "source": [
    "df_links_raw = (df_links_raw.drop(columns=['Unnamed: 2', 'Unnamed: 0', 'Unnamed: 1', 'Unnamed: 3', 'Unnamed: 5']))"
   ],
   "metadata": {
    "collapsed": false,
    "pycharm": {
     "name": "#%%\n"
    }
   }
  },
  {
   "cell_type": "markdown",
   "source": [
    "We don't have duplicates:"
   ],
   "metadata": {
    "collapsed": false,
    "pycharm": {
     "name": "#%% md\n"
    }
   }
  },
  {
   "cell_type": "code",
   "execution_count": 23,
   "outputs": [
    {
     "data": {
      "text/plain": "rian_ru           1\ngovernment_rus    1\nRKadyrov_95       1\nSolovievLive      1\nrussica2          1\nName: name_handle, dtype: int64"
     },
     "execution_count": 23,
     "metadata": {},
     "output_type": "execute_result"
    }
   ],
   "source": [
    "df_links_raw['name_handle'].value_counts()[:5]"
   ],
   "metadata": {
    "collapsed": false,
    "pycharm": {
     "name": "#%%\n"
    }
   }
  },
  {
   "cell_type": "code",
   "execution_count": 24,
   "outputs": [
    {
     "data": {
      "text/plain": "['rian_ru',\n 'bbbreaking',\n 'rt_russian',\n 'breakingmash',\n 'readovkanews',\n 'tass_agency',\n 'bazabazon',\n 'sashakots',\n 'shot_shot',\n 'uranews',\n 'rbc_news',\n 'moscowach',\n 'wargonzo',\n 'warfakes',\n 'ssigny',\n 'pdmnews',\n 'moscowmap',\n 'tv360',\n 'truekpru',\n 'kommersant',\n 'infantmilitario',\n 'RtrDonetsk',\n 'sputniklive',\n 'meduzalive',\n 'navideovidno',\n 'milinfolive',\n 'izvestia',\n 'new_militarycolumnist',\n 'zvezdanews',\n 'voenacher',\n 'ostorozhno_novosti',\n 'karaulny',\n 'SIL0VIKI',\n 'sncmag',\n 'tvrain',\n 'bbcrussian',\n 'stormdaily',\n 'anna_news',\n 'smotri_media',\n 'glavmedia',\n 'rtvimain',\n 'mnews_ru',\n 'chtddd',\n 'ENews112',\n 'grey_zone',\n 'mozhemobyasnit',\n 'Ateobreaking',\n 'ru2ch_news',\n 'surf_noise1',\n 'radiogovoritmsk',\n 'varlamov_news',\n 'milchronicles',\n 'daokedao',\n 'infomoscow24',\n 'donbassr',\n 'vzglyad_ru',\n 'swodki',\n 'lentachold',\n 'ChDambiev',\n 'sotaproject',\n 'readovkaru',\n 'DmitriySteshin',\n 'denazi_UA',\n 'ntvnews',\n 'svarschiki',\n 'mosnow',\n 'lentadnya',\n 'kozakrichala',\n 'redakciya_channel',\n 'novaya_pishet',\n 'operdrain',\n 'rasstriga',\n 'rusich_army',\n 'mediazzzona',\n 'obyasnayemrf',\n 'mediakiller',\n 'msgazdiev',\n 'mashmoyka',\n 'OstashkoNews',\n 'thebell_io',\n 'informnapalm',\n 'srochnow',\n 'radio_sputnik',\n 'fuckyouthatswhy',\n 'dirtytatarstan',\n 'Doninside',\n 'HersonVestnik',\n 'ia_steklomoy',\n 'HouseOfCardsRussia',\n 'rosich_ru',\n 'ebobo_rus',\n 'truth_aggregator',\n 'fontankaspb',\n 'rusvesnasu',\n 'bloodysx',\n 'epoddubny',\n 'imnotbozhena',\n 'Sladkov_plus',\n 'zakharprilepin',\n 'tikandelaki',\n 'olegtsarov',\n 'archivarius_dz',\n 'krispotupchik',\n 'oper_goblin',\n 'kornilov1968',\n 'SonOfMonarchy',\n 'akashevarova',\n 'nevzorovtv',\n 'varlamov',\n 'holmogortalks',\n 'minaevlife',\n 'strelkovii',\n 'vladivostok1978',\n 'lobaev_vlad',\n 'olegderipaska',\n 'FridrihShow',\n 'strelets_molodec',\n 'temablog',\n 'freeman365',\n 'evgenyprimakov',\n 'bolshiepushki',\n 'KotNaMirotvorze',\n 'superdolgov',\n 'mariashukshina',\n 'Baronova',\n 'ntnzn',\n 'grishkafilippov',\n 'romanov_92',\n 'botcharov',\n 'GrafinyaNegoduet',\n 'pravda_shuravi',\n 'yurydud',\n 'skvir',\n 'lesyaryabtseva',\n 'zhogaartem',\n 'nemorgenshtern',\n 'berdovaalena',\n 'corrkosarev',\n 'russianquarantine',\n 'Topaz_Govorit',\n 'BattleSailor_13',\n 'naralex88',\n 'makarov_kb',\n 'romasuperromasuper',\n 'Gori_spb',\n 'stanovaya',\n 'anatoly_nesmiyan',\n 'znachit_net',\n 'larkin_doc',\n 'rus_jansen',\n 'glava_lnr_info',\n 'northerntechno',\n 'odinokayakoko',\n 'pgubarev',\n 'razvedosaa',\n 'podosokorsky',\n 'ErnestV_2020',\n 'bogemasranaya',\n 'rogers_kitchen',\n 'smolyak',\n 'Mikle1On',\n 'TheBadComedian',\n 'leylinurimm',\n 'comradepelevin',\n 'govoritfursov',\n 'Soldieroffortune777',\n 'Nackepelo',\n 'oversized_shirts',\n 'parfentiev_club',\n 'maryananaumova',\n 'separ_13',\n 'vandalslavyansk',\n 'vlast_Zh',\n 'kryuchkovoleg',\n 'TanyaChuprova',\n 'foxandraven',\n 'thynk',\n 'optimistkavshtatskom',\n 'razvedkavperedZ',\n 'momdontread',\n 'InsightPeople',\n 'ksbchk',\n 'Medvedeva_Olesya',\n 'NoodleRemoverPlus',\n 'norin_ea',\n 'Lauradjagadiary',\n 'umar_kremlev',\n 'achexd2',\n 'sommerman',\n 'mestamedia',\n 'ikakprosto',\n 'sashakon',\n 'n_zackhaim',\n 'dimsmirnov175',\n 'rusbrief',\n 'russica2',\n 'SolovievLive',\n 'RKadyrov_95',\n 'rybar',\n 'boris_rozhin',\n 'rlz_the_kraken',\n 'opersvodki',\n 'kremlinprachka',\n 'vchkogpu',\n 'RVvoenkor',\n 'mig41',\n 'mod_russia',\n 'medvedev_telegram',\n 'margaritasimonyan',\n 'NeoficialniyBeZsonoV',\n 'vv_volodin',\n 'voenkorKotenok',\n 'vysokygovorit',\n 'politjoystic',\n 'MedvedevVesti',\n 'MariaVladimirovnaZakharova',\n 'SergeyKolyasnikov',\n 'government_rus',\n 'vladlentatarsky',\n 'kstati_p',\n 'vityzeva',\n 'aleksandr_skif',\n 'pushilindenis',\n 'vatnoeboloto',\n 'orda_mordora',\n 'obrazbuduschego2',\n 'boilerroomchannel',\n 'mediatech',\n 'MID_Russia',\n 'russ_orientalist',\n 'youlistenedmayak',\n 'kremlebezBashennik',\n 'RIAKremlinpool',\n 'kremlin_mother_expert',\n 'tolk_tolk',\n 'skabeeva',\n 'golosmordora',\n 'notes_veterans',\n 'kashinguru',\n 'ASGasparyan',\n 'navalny',\n 'antiskrepa',\n 'mardanaka',\n 'krasovkin',\n 'ctrs2018',\n 'er_molnia',\n 'sskarnaukhov',\n 'glavpolit',\n 'rustroyka1945',\n 'mnogonazi',\n 'kshulika',\n 'imerkouri',\n 'Hinshtein',\n 'worldprotest',\n 'postposttruth',\n 'maester',\n 'Postovo',\n 'kononenkome',\n 'polittemnik',\n 'go338',\n 'criminalru',\n 'emphasises',\n 'stalin_gulag',\n 'politadequate',\n 'vvgladkov',\n 'kolezev',\n 'Gubery',\n 'gramotyyaroslava',\n 'insect_life',\n 'riafan_everywhere',\n 'sorok40russia',\n 'istrkalkglk',\n 'otsuka_bld',\n 'oreshkins',\n 'astrahandm',\n 'russianfuture',\n 'Abbasdjuma',\n 'master_pera',\n 'mariabutina',\n 'ekvinokurova',\n 'vibornyk',\n 'mkhusnullin',\n 'thegraschenkov',\n 'akitilop',\n 'madam_secretar',\n 'dr_alex_sosnowski',\n 'rasstrelny',\n 'metodi4ka',\n 'Alekhin_Telega',\n 'PlushevChannel']"
     },
     "execution_count": 24,
     "metadata": {},
     "output_type": "execute_result"
    }
   ],
   "source": [
    "list_of_names = df_links_raw['name_handle'].to_list()"
   ],
   "metadata": {
    "collapsed": false,
    "pycharm": {
     "name": "#%%\n"
    }
   }
  },
  {
   "cell_type": "markdown",
   "source": [
    "## Now we create json which we'll feed to the parsing sript."
   ],
   "metadata": {
    "collapsed": false,
    "pycharm": {
     "name": "#%% md\n"
    }
   }
  },
  {
   "cell_type": "code",
   "execution_count": 25,
   "outputs": [],
   "source": [
    "dict = {\"names\": list_of_names}\n"
   ],
   "metadata": {
    "collapsed": false,
    "pycharm": {
     "name": "#%%\n"
    }
   }
  },
  {
   "cell_type": "code",
   "execution_count": 26,
   "outputs": [],
   "source": [
    "json_object = json.dumps(dict, indent=4)"
   ],
   "metadata": {
    "collapsed": false,
    "pycharm": {
     "name": "#%%\n"
    }
   }
  },
  {
   "cell_type": "code",
   "execution_count": 27,
   "outputs": [],
   "source": [
    "with open(\"/Users/katerynaburovova/PycharmProjects/dehumanization/data/channels_list.json\", \"w\") as outfile:\n",
    "    outfile.write(json_object)"
   ],
   "metadata": {
    "collapsed": false,
    "pycharm": {
     "name": "#%%\n"
    }
   }
  },
  {
   "cell_type": "code",
   "execution_count": 28,
   "outputs": [
    {
     "data": {
      "text/plain": "'rian_ru'"
     },
     "execution_count": 28,
     "metadata": {},
     "output_type": "execute_result"
    }
   ],
   "source": [
    "# bs check\n",
    "with open('/Users/katerynaburovova/PycharmProjects/dehumanization/data/channels_list.json', 'r') as openfile:\n",
    "     data = json.load(openfile)\n",
    "data['names'][0]"
   ],
   "metadata": {
    "collapsed": false,
    "pycharm": {
     "name": "#%%\n"
    }
   }
  },
  {
   "cell_type": "code",
   "execution_count": 24,
   "outputs": [],
   "source": [
    "# import os\n",
    "# import sys\n",
    "# os.chdir(sys.path[0])\n",
    "#\n",
    "# if f\"{'tmp'}.session\" in os.listdir():\n",
    "#     os.remove(f\"{'tmp'}.session\")"
   ],
   "metadata": {
    "collapsed": false,
    "pycharm": {
     "name": "#%%\n"
    }
   }
  }
 ],
 "metadata": {
  "kernelspec": {
   "display_name": "Python 3",
   "language": "python",
   "name": "python3"
  },
  "language_info": {
   "codemirror_mode": {
    "name": "ipython",
    "version": 2
   },
   "file_extension": ".py",
   "mimetype": "text/x-python",
   "name": "python",
   "nbconvert_exporter": "python",
   "pygments_lexer": "ipython2",
   "version": "2.7.6"
  }
 },
 "nbformat": 4,
 "nbformat_minor": 0
}