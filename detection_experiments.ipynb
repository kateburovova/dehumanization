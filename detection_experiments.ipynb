{
 "cells": [
  {
   "cell_type": "code",
   "execution_count": 19,
   "outputs": [],
   "source": [
    "import pandas as pd"
   ],
   "metadata": {
    "collapsed": false,
    "pycharm": {
     "name": "#%%\n"
    }
   }
  },
  {
   "cell_type": "code",
   "execution_count": 20,
   "outputs": [],
   "source": [
    "df = pd.read_csv('/Users/katerynaburovova/PycharmProjects/dehumanization/annotation/final_labels.csv', index_col=0)"
   ],
   "metadata": {
    "collapsed": false,
    "pycharm": {
     "name": "#%%\n"
    }
   }
  },
  {
   "cell_type": "code",
   "execution_count": 21,
   "outputs": [
    {
     "data": {
      "text/plain": "       External ID Dehumanization                  Emotion Mention  \\\n0        row_0.txt            так  так, присутня негативна     так   \n1        row_1.txt             ні   ні, оцінка не присутня      ні   \n2       row_10.txt            так  так, присутня негативна     так   \n3      row_100.txt            так  так, присутня негативна     так   \n1441  row_1000.txt             ні   ні, оцінка не присутня     так   \n...            ...            ...                      ...     ...   \n2638   row_995.txt             ні   ні, оцінка не присутня     так   \n2639   row_996.txt             ні  так, присутня негативна     так   \n2760   row_997.txt             ні  так, присутня негативна     так   \n2761   row_998.txt            так   ні, оцінка не присутня     так   \n2641   row_999.txt             ні   ні, оцінка не присутня      ні   \n\n                        Created By  \\\n0         snizannabotvin@gmail.com   \n1         snizannabotvin@gmail.com   \n2         snizannabotvin@gmail.com   \n3         snizannabotvin@gmail.com   \n1441        tutovadesign@gmail.com   \n...                            ...   \n2638        tutovadesign@gmail.com   \n2639        tutovadesign@gmail.com   \n2760  yevhen.marchenko91@gmail.com   \n2761  yevhen.marchenko91@gmail.com   \n2641        tutovadesign@gmail.com   \n\n                                                   text  rating  \n0     Всвязи с этим немного поправлю коллег ⤵️  \"Они...       4  \n1     Литературный критик Галина Юзефович о новом ро...       4  \n2     Почему на базах неонацистов стоят языческие ис...       4  \n3     Группа добровольцев-медиков из Чеченской Респу...       4  \n1441  ВСУшники, переходите на сторону добра, у нас т...       5  \n...                                                 ...     ...  \n2638  Утренний брифинг Минобороны России:  ▪️ россий...       5  \n2639  И понеслась мазепинщино-петлюровщино-бандеровщ...       5  \n2760  Наш соратник по русскому движению Алексей Сели...       3  \n2761  Хорошее видео от 4 бригады НМ ЛНР https://t.me...       3  \n2641  Замоскворецкий районный суд Москвы отклонил ис...       5  \n\n[3546 rows x 7 columns]",
      "text/html": "<div>\n<style scoped>\n    .dataframe tbody tr th:only-of-type {\n        vertical-align: middle;\n    }\n\n    .dataframe tbody tr th {\n        vertical-align: top;\n    }\n\n    .dataframe thead th {\n        text-align: right;\n    }\n</style>\n<table border=\"1\" class=\"dataframe\">\n  <thead>\n    <tr style=\"text-align: right;\">\n      <th></th>\n      <th>External ID</th>\n      <th>Dehumanization</th>\n      <th>Emotion</th>\n      <th>Mention</th>\n      <th>Created By</th>\n      <th>text</th>\n      <th>rating</th>\n    </tr>\n  </thead>\n  <tbody>\n    <tr>\n      <th>0</th>\n      <td>row_0.txt</td>\n      <td>так</td>\n      <td>так, присутня негативна</td>\n      <td>так</td>\n      <td>snizannabotvin@gmail.com</td>\n      <td>Всвязи с этим немного поправлю коллег ⤵️  \"Они...</td>\n      <td>4</td>\n    </tr>\n    <tr>\n      <th>1</th>\n      <td>row_1.txt</td>\n      <td>ні</td>\n      <td>ні, оцінка не присутня</td>\n      <td>ні</td>\n      <td>snizannabotvin@gmail.com</td>\n      <td>Литературный критик Галина Юзефович о новом ро...</td>\n      <td>4</td>\n    </tr>\n    <tr>\n      <th>2</th>\n      <td>row_10.txt</td>\n      <td>так</td>\n      <td>так, присутня негативна</td>\n      <td>так</td>\n      <td>snizannabotvin@gmail.com</td>\n      <td>Почему на базах неонацистов стоят языческие ис...</td>\n      <td>4</td>\n    </tr>\n    <tr>\n      <th>3</th>\n      <td>row_100.txt</td>\n      <td>так</td>\n      <td>так, присутня негативна</td>\n      <td>так</td>\n      <td>snizannabotvin@gmail.com</td>\n      <td>Группа добровольцев-медиков из Чеченской Респу...</td>\n      <td>4</td>\n    </tr>\n    <tr>\n      <th>1441</th>\n      <td>row_1000.txt</td>\n      <td>ні</td>\n      <td>ні, оцінка не присутня</td>\n      <td>так</td>\n      <td>tutovadesign@gmail.com</td>\n      <td>ВСУшники, переходите на сторону добра, у нас т...</td>\n      <td>5</td>\n    </tr>\n    <tr>\n      <th>...</th>\n      <td>...</td>\n      <td>...</td>\n      <td>...</td>\n      <td>...</td>\n      <td>...</td>\n      <td>...</td>\n      <td>...</td>\n    </tr>\n    <tr>\n      <th>2638</th>\n      <td>row_995.txt</td>\n      <td>ні</td>\n      <td>ні, оцінка не присутня</td>\n      <td>так</td>\n      <td>tutovadesign@gmail.com</td>\n      <td>Утренний брифинг Минобороны России:  ▪️ россий...</td>\n      <td>5</td>\n    </tr>\n    <tr>\n      <th>2639</th>\n      <td>row_996.txt</td>\n      <td>ні</td>\n      <td>так, присутня негативна</td>\n      <td>так</td>\n      <td>tutovadesign@gmail.com</td>\n      <td>И понеслась мазепинщино-петлюровщино-бандеровщ...</td>\n      <td>5</td>\n    </tr>\n    <tr>\n      <th>2760</th>\n      <td>row_997.txt</td>\n      <td>ні</td>\n      <td>так, присутня негативна</td>\n      <td>так</td>\n      <td>yevhen.marchenko91@gmail.com</td>\n      <td>Наш соратник по русскому движению Алексей Сели...</td>\n      <td>3</td>\n    </tr>\n    <tr>\n      <th>2761</th>\n      <td>row_998.txt</td>\n      <td>так</td>\n      <td>ні, оцінка не присутня</td>\n      <td>так</td>\n      <td>yevhen.marchenko91@gmail.com</td>\n      <td>Хорошее видео от 4 бригады НМ ЛНР https://t.me...</td>\n      <td>3</td>\n    </tr>\n    <tr>\n      <th>2641</th>\n      <td>row_999.txt</td>\n      <td>ні</td>\n      <td>ні, оцінка не присутня</td>\n      <td>ні</td>\n      <td>tutovadesign@gmail.com</td>\n      <td>Замоскворецкий районный суд Москвы отклонил ис...</td>\n      <td>5</td>\n    </tr>\n  </tbody>\n</table>\n<p>3546 rows × 7 columns</p>\n</div>"
     },
     "execution_count": 21,
     "metadata": {},
     "output_type": "execute_result"
    }
   ],
   "source": [
    "df"
   ],
   "metadata": {
    "collapsed": false,
    "pycharm": {
     "name": "#%%\n"
    }
   }
  },
  {
   "cell_type": "code",
   "execution_count": 22,
   "outputs": [],
   "source": [
    "df_dehumanization = df[['Dehumanization', 'text']].reset_index(drop=True)"
   ],
   "metadata": {
    "collapsed": false,
    "pycharm": {
     "name": "#%%\n"
    }
   }
  },
  {
   "cell_type": "code",
   "execution_count": 23,
   "outputs": [],
   "source": [
    "df_dehumanization['label'] = df_dehumanization['Dehumanization'].apply(lambda x: 0 if x=='ні' else 1)"
   ],
   "metadata": {
    "collapsed": false,
    "pycharm": {
     "name": "#%%\n"
    }
   }
  },
  {
   "cell_type": "code",
   "execution_count": 24,
   "outputs": [
    {
     "data": {
      "text/plain": "     Dehumanization                                               text  label\n0               так  Всвязи с этим немного поправлю коллег ⤵️  \"Они...      1\n1                ні  Литературный критик Галина Юзефович о новом ро...      0\n2               так  Почему на базах неонацистов стоят языческие ис...      1\n3               так  Группа добровольцев-медиков из Чеченской Респу...      1\n4                ні  ВСУшники, переходите на сторону добра, у нас т...      0\n...             ...                                                ...    ...\n3541             ні  Утренний брифинг Минобороны России:  ▪️ россий...      0\n3542             ні  И понеслась мазепинщино-петлюровщино-бандеровщ...      0\n3543             ні  Наш соратник по русскому движению Алексей Сели...      0\n3544            так  Хорошее видео от 4 бригады НМ ЛНР https://t.me...      1\n3545             ні  Замоскворецкий районный суд Москвы отклонил ис...      0\n\n[3546 rows x 3 columns]",
      "text/html": "<div>\n<style scoped>\n    .dataframe tbody tr th:only-of-type {\n        vertical-align: middle;\n    }\n\n    .dataframe tbody tr th {\n        vertical-align: top;\n    }\n\n    .dataframe thead th {\n        text-align: right;\n    }\n</style>\n<table border=\"1\" class=\"dataframe\">\n  <thead>\n    <tr style=\"text-align: right;\">\n      <th></th>\n      <th>Dehumanization</th>\n      <th>text</th>\n      <th>label</th>\n    </tr>\n  </thead>\n  <tbody>\n    <tr>\n      <th>0</th>\n      <td>так</td>\n      <td>Всвязи с этим немного поправлю коллег ⤵️  \"Они...</td>\n      <td>1</td>\n    </tr>\n    <tr>\n      <th>1</th>\n      <td>ні</td>\n      <td>Литературный критик Галина Юзефович о новом ро...</td>\n      <td>0</td>\n    </tr>\n    <tr>\n      <th>2</th>\n      <td>так</td>\n      <td>Почему на базах неонацистов стоят языческие ис...</td>\n      <td>1</td>\n    </tr>\n    <tr>\n      <th>3</th>\n      <td>так</td>\n      <td>Группа добровольцев-медиков из Чеченской Респу...</td>\n      <td>1</td>\n    </tr>\n    <tr>\n      <th>4</th>\n      <td>ні</td>\n      <td>ВСУшники, переходите на сторону добра, у нас т...</td>\n      <td>0</td>\n    </tr>\n    <tr>\n      <th>...</th>\n      <td>...</td>\n      <td>...</td>\n      <td>...</td>\n    </tr>\n    <tr>\n      <th>3541</th>\n      <td>ні</td>\n      <td>Утренний брифинг Минобороны России:  ▪️ россий...</td>\n      <td>0</td>\n    </tr>\n    <tr>\n      <th>3542</th>\n      <td>ні</td>\n      <td>И понеслась мазепинщино-петлюровщино-бандеровщ...</td>\n      <td>0</td>\n    </tr>\n    <tr>\n      <th>3543</th>\n      <td>ні</td>\n      <td>Наш соратник по русскому движению Алексей Сели...</td>\n      <td>0</td>\n    </tr>\n    <tr>\n      <th>3544</th>\n      <td>так</td>\n      <td>Хорошее видео от 4 бригады НМ ЛНР https://t.me...</td>\n      <td>1</td>\n    </tr>\n    <tr>\n      <th>3545</th>\n      <td>ні</td>\n      <td>Замоскворецкий районный суд Москвы отклонил ис...</td>\n      <td>0</td>\n    </tr>\n  </tbody>\n</table>\n<p>3546 rows × 3 columns</p>\n</div>"
     },
     "execution_count": 24,
     "metadata": {},
     "output_type": "execute_result"
    }
   ],
   "source": [
    "df_dehumanization"
   ],
   "metadata": {
    "collapsed": false,
    "pycharm": {
     "name": "#%%\n"
    }
   }
  },
  {
   "cell_type": "markdown",
   "source": [
    "## Preprocessing"
   ],
   "metadata": {
    "collapsed": false,
    "pycharm": {
     "name": "#%% md\n"
    }
   }
  },
  {
   "cell_type": "code",
   "execution_count": 25,
   "outputs": [],
   "source": [
    "import spacy\n",
    "nlp = spacy.load('ru_core_news_md',disable=['ner', 'attribute_ruler'])\n",
    "\n",
    "def lemmatize_spacy(text):\n",
    "    doc = nlp(text)\n",
    "    result = \" \".join([token.lemma_ for token in doc])\n",
    "    return result"
   ],
   "metadata": {
    "collapsed": false,
    "pycharm": {
     "name": "#%%\n"
    }
   }
  },
  {
   "cell_type": "code",
   "execution_count": 26,
   "outputs": [],
   "source": [
    "cyrillic_letters = u\"абвгдеёжзийклмнопрстуфхцчшщъыьэюяАБВГДЕЁЖЗИЙКЛМНОПРСТУФХЦЧШЩЪЫЬЭЮЯ \"\n",
    "\n",
    "def clean_text(string, allowed_symbols):\n",
    "    getVals = list(filter(lambda x: x in allowed_symbols, string))\n",
    "    result = \"\".join(getVals)\n",
    "    return result"
   ],
   "metadata": {
    "collapsed": false,
    "pycharm": {
     "name": "#%%\n"
    }
   }
  },
  {
   "cell_type": "code",
   "execution_count": 27,
   "outputs": [],
   "source": [
    "def preprocess_df(df):\n",
    "    df['text_clean'] = df['text'].apply(lambda x: clean_text(x.lower(), cyrillic_letters))\n",
    "    df['text_lemmatized'] = df['text_clean'].apply(lambda x: lemmatize_spacy(x))\n",
    "    df=df[df['text_clean']!='']\n",
    "    df.reset_index(inplace=True)\n",
    "    return df"
   ],
   "metadata": {
    "collapsed": false,
    "pycharm": {
     "name": "#%%\n"
    }
   }
  },
  {
   "cell_type": "code",
   "execution_count": 28,
   "outputs": [
    {
     "name": "stdout",
     "output_type": "stream",
     "text": [
      "CPU times: user 17.8 s, sys: 187 ms, total: 18 s\n",
      "Wall time: 18.1 s\n"
     ]
    }
   ],
   "source": [
    "%%time\n",
    "df_dehumanization = preprocess_df(df_dehumanization)"
   ],
   "metadata": {
    "collapsed": false,
    "pycharm": {
     "name": "#%%\n"
    }
   }
  },
  {
   "cell_type": "markdown",
   "source": [
    "## Logreg"
   ],
   "metadata": {
    "collapsed": false,
    "pycharm": {
     "name": "#%% md\n"
    }
   }
  },
  {
   "cell_type": "code",
   "execution_count": 44,
   "outputs": [],
   "source": [
    "from sklearn.model_selection import train_test_split\n",
    "from sklearn.feature_extraction.text import TfidfVectorizer\n",
    "\n",
    "X_train_, X_test_, y_train, y_test = train_test_split(df_dehumanization[\"text_clean\"], df_dehumanization[\"label\"], test_size=0.2, random_state=42)"
   ],
   "metadata": {
    "collapsed": false,
    "pycharm": {
     "name": "#%%\n"
    }
   }
  },
  {
   "cell_type": "code",
   "execution_count": 45,
   "outputs": [],
   "source": [
    "vectorizer = TfidfVectorizer()\n",
    "X_train = vectorizer.fit_transform(X_train_)\n",
    "X_test = vectorizer.transform(X_test_)"
   ],
   "metadata": {
    "collapsed": false,
    "pycharm": {
     "name": "#%%\n"
    }
   }
  },
  {
   "cell_type": "code",
   "execution_count": 32,
   "outputs": [
    {
     "data": {
      "text/plain": "LogisticRegression(max_iter=1000)",
      "text/html": "<style>#sk-container-id-1 {color: black;background-color: white;}#sk-container-id-1 pre{padding: 0;}#sk-container-id-1 div.sk-toggleable {background-color: white;}#sk-container-id-1 label.sk-toggleable__label {cursor: pointer;display: block;width: 100%;margin-bottom: 0;padding: 0.3em;box-sizing: border-box;text-align: center;}#sk-container-id-1 label.sk-toggleable__label-arrow:before {content: \"▸\";float: left;margin-right: 0.25em;color: #696969;}#sk-container-id-1 label.sk-toggleable__label-arrow:hover:before {color: black;}#sk-container-id-1 div.sk-estimator:hover label.sk-toggleable__label-arrow:before {color: black;}#sk-container-id-1 div.sk-toggleable__content {max-height: 0;max-width: 0;overflow: hidden;text-align: left;background-color: #f0f8ff;}#sk-container-id-1 div.sk-toggleable__content pre {margin: 0.2em;color: black;border-radius: 0.25em;background-color: #f0f8ff;}#sk-container-id-1 input.sk-toggleable__control:checked~div.sk-toggleable__content {max-height: 200px;max-width: 100%;overflow: auto;}#sk-container-id-1 input.sk-toggleable__control:checked~label.sk-toggleable__label-arrow:before {content: \"▾\";}#sk-container-id-1 div.sk-estimator input.sk-toggleable__control:checked~label.sk-toggleable__label {background-color: #d4ebff;}#sk-container-id-1 div.sk-label input.sk-toggleable__control:checked~label.sk-toggleable__label {background-color: #d4ebff;}#sk-container-id-1 input.sk-hidden--visually {border: 0;clip: rect(1px 1px 1px 1px);clip: rect(1px, 1px, 1px, 1px);height: 1px;margin: -1px;overflow: hidden;padding: 0;position: absolute;width: 1px;}#sk-container-id-1 div.sk-estimator {font-family: monospace;background-color: #f0f8ff;border: 1px dotted black;border-radius: 0.25em;box-sizing: border-box;margin-bottom: 0.5em;}#sk-container-id-1 div.sk-estimator:hover {background-color: #d4ebff;}#sk-container-id-1 div.sk-parallel-item::after {content: \"\";width: 100%;border-bottom: 1px solid gray;flex-grow: 1;}#sk-container-id-1 div.sk-label:hover label.sk-toggleable__label {background-color: #d4ebff;}#sk-container-id-1 div.sk-serial::before {content: \"\";position: absolute;border-left: 1px solid gray;box-sizing: border-box;top: 0;bottom: 0;left: 50%;z-index: 0;}#sk-container-id-1 div.sk-serial {display: flex;flex-direction: column;align-items: center;background-color: white;padding-right: 0.2em;padding-left: 0.2em;position: relative;}#sk-container-id-1 div.sk-item {position: relative;z-index: 1;}#sk-container-id-1 div.sk-parallel {display: flex;align-items: stretch;justify-content: center;background-color: white;position: relative;}#sk-container-id-1 div.sk-item::before, #sk-container-id-1 div.sk-parallel-item::before {content: \"\";position: absolute;border-left: 1px solid gray;box-sizing: border-box;top: 0;bottom: 0;left: 50%;z-index: -1;}#sk-container-id-1 div.sk-parallel-item {display: flex;flex-direction: column;z-index: 1;position: relative;background-color: white;}#sk-container-id-1 div.sk-parallel-item:first-child::after {align-self: flex-end;width: 50%;}#sk-container-id-1 div.sk-parallel-item:last-child::after {align-self: flex-start;width: 50%;}#sk-container-id-1 div.sk-parallel-item:only-child::after {width: 0;}#sk-container-id-1 div.sk-dashed-wrapped {border: 1px dashed gray;margin: 0 0.4em 0.5em 0.4em;box-sizing: border-box;padding-bottom: 0.4em;background-color: white;}#sk-container-id-1 div.sk-label label {font-family: monospace;font-weight: bold;display: inline-block;line-height: 1.2em;}#sk-container-id-1 div.sk-label-container {text-align: center;}#sk-container-id-1 div.sk-container {/* jupyter's `normalize.less` sets `[hidden] { display: none; }` but bootstrap.min.css set `[hidden] { display: none !important; }` so we also need the `!important` here to be able to override the default hidden behavior on the sphinx rendered scikit-learn.org. See: https://github.com/scikit-learn/scikit-learn/issues/21755 */display: inline-block !important;position: relative;}#sk-container-id-1 div.sk-text-repr-fallback {display: none;}</style><div id=\"sk-container-id-1\" class=\"sk-top-container\"><div class=\"sk-text-repr-fallback\"><pre>LogisticRegression(max_iter=1000)</pre><b>In a Jupyter environment, please rerun this cell to show the HTML representation or trust the notebook. <br />On GitHub, the HTML representation is unable to render, please try loading this page with nbviewer.org.</b></div><div class=\"sk-container\" hidden><div class=\"sk-item\"><div class=\"sk-estimator sk-toggleable\"><input class=\"sk-toggleable__control sk-hidden--visually\" id=\"sk-estimator-id-1\" type=\"checkbox\" checked><label for=\"sk-estimator-id-1\" class=\"sk-toggleable__label sk-toggleable__label-arrow\">LogisticRegression</label><div class=\"sk-toggleable__content\"><pre>LogisticRegression(max_iter=1000)</pre></div></div></div></div></div>"
     },
     "execution_count": 32,
     "metadata": {},
     "output_type": "execute_result"
    }
   ],
   "source": [
    "from sklearn.linear_model import LogisticRegression\n",
    "logreg = LogisticRegression(solver='lbfgs', max_iter=1000)\n",
    "logreg.fit(X_train, y_train)"
   ],
   "metadata": {
    "collapsed": false,
    "pycharm": {
     "name": "#%%\n"
    }
   }
  },
  {
   "cell_type": "code",
   "execution_count": 33,
   "outputs": [
    {
     "name": "stdout",
     "output_type": "stream",
     "text": [
      "Accuracy: 0.80\n",
      "Precision: 0.81\n",
      "Recall: 0.71\n",
      "F1 Score: 0.76\n"
     ]
    }
   ],
   "source": [
    "from sklearn.metrics import accuracy_score, precision_score, recall_score, f1_score\n",
    "y_pred = logreg.predict(X_test)\n",
    "accuracy = accuracy_score(y_test, y_pred)\n",
    "precision = precision_score(y_test, y_pred)\n",
    "recall = recall_score(y_test, y_pred)\n",
    "f1 = f1_score(y_test, y_pred)\n",
    "\n",
    "print(f\"Accuracy: {accuracy:.2f}\")\n",
    "print(f\"Precision: {precision:.2f}\")\n",
    "print(f\"Recall: {recall:.2f}\")\n",
    "print(f\"F1 Score: {f1:.2f}\")"
   ],
   "metadata": {
    "collapsed": false,
    "pycharm": {
     "name": "#%%\n"
    }
   }
  },
  {
   "cell_type": "markdown",
   "source": [
    "### Gridsearch"
   ],
   "metadata": {
    "collapsed": false,
    "pycharm": {
     "name": "#%% md\n"
    }
   }
  },
  {
   "cell_type": "code",
   "execution_count": 34,
   "outputs": [
    {
     "name": "stderr",
     "output_type": "stream",
     "text": [
      "/Users/katerynaburovova/PycharmProjects/dehumanization/lib/python3.10/site-packages/sklearn/svm/_base.py:1244: ConvergenceWarning: Liblinear failed to converge, increase the number of iterations.\n",
      "  warnings.warn(\n",
      "/Users/katerynaburovova/PycharmProjects/dehumanization/lib/python3.10/site-packages/sklearn/svm/_base.py:1244: ConvergenceWarning: Liblinear failed to converge, increase the number of iterations.\n",
      "  warnings.warn(\n",
      "/Users/katerynaburovova/PycharmProjects/dehumanization/lib/python3.10/site-packages/sklearn/svm/_base.py:1244: ConvergenceWarning: Liblinear failed to converge, increase the number of iterations.\n",
      "  warnings.warn(\n",
      "/Users/katerynaburovova/PycharmProjects/dehumanization/lib/python3.10/site-packages/sklearn/svm/_base.py:1244: ConvergenceWarning: Liblinear failed to converge, increase the number of iterations.\n",
      "  warnings.warn(\n",
      "/Users/katerynaburovova/PycharmProjects/dehumanization/lib/python3.10/site-packages/sklearn/svm/_base.py:1244: ConvergenceWarning: Liblinear failed to converge, increase the number of iterations.\n",
      "  warnings.warn(\n"
     ]
    },
    {
     "data": {
      "text/plain": "LogisticRegression(C=10, penalty='l1', solver='liblinear')",
      "text/html": "<style>#sk-container-id-2 {color: black;background-color: white;}#sk-container-id-2 pre{padding: 0;}#sk-container-id-2 div.sk-toggleable {background-color: white;}#sk-container-id-2 label.sk-toggleable__label {cursor: pointer;display: block;width: 100%;margin-bottom: 0;padding: 0.3em;box-sizing: border-box;text-align: center;}#sk-container-id-2 label.sk-toggleable__label-arrow:before {content: \"▸\";float: left;margin-right: 0.25em;color: #696969;}#sk-container-id-2 label.sk-toggleable__label-arrow:hover:before {color: black;}#sk-container-id-2 div.sk-estimator:hover label.sk-toggleable__label-arrow:before {color: black;}#sk-container-id-2 div.sk-toggleable__content {max-height: 0;max-width: 0;overflow: hidden;text-align: left;background-color: #f0f8ff;}#sk-container-id-2 div.sk-toggleable__content pre {margin: 0.2em;color: black;border-radius: 0.25em;background-color: #f0f8ff;}#sk-container-id-2 input.sk-toggleable__control:checked~div.sk-toggleable__content {max-height: 200px;max-width: 100%;overflow: auto;}#sk-container-id-2 input.sk-toggleable__control:checked~label.sk-toggleable__label-arrow:before {content: \"▾\";}#sk-container-id-2 div.sk-estimator input.sk-toggleable__control:checked~label.sk-toggleable__label {background-color: #d4ebff;}#sk-container-id-2 div.sk-label input.sk-toggleable__control:checked~label.sk-toggleable__label {background-color: #d4ebff;}#sk-container-id-2 input.sk-hidden--visually {border: 0;clip: rect(1px 1px 1px 1px);clip: rect(1px, 1px, 1px, 1px);height: 1px;margin: -1px;overflow: hidden;padding: 0;position: absolute;width: 1px;}#sk-container-id-2 div.sk-estimator {font-family: monospace;background-color: #f0f8ff;border: 1px dotted black;border-radius: 0.25em;box-sizing: border-box;margin-bottom: 0.5em;}#sk-container-id-2 div.sk-estimator:hover {background-color: #d4ebff;}#sk-container-id-2 div.sk-parallel-item::after {content: \"\";width: 100%;border-bottom: 1px solid gray;flex-grow: 1;}#sk-container-id-2 div.sk-label:hover label.sk-toggleable__label {background-color: #d4ebff;}#sk-container-id-2 div.sk-serial::before {content: \"\";position: absolute;border-left: 1px solid gray;box-sizing: border-box;top: 0;bottom: 0;left: 50%;z-index: 0;}#sk-container-id-2 div.sk-serial {display: flex;flex-direction: column;align-items: center;background-color: white;padding-right: 0.2em;padding-left: 0.2em;position: relative;}#sk-container-id-2 div.sk-item {position: relative;z-index: 1;}#sk-container-id-2 div.sk-parallel {display: flex;align-items: stretch;justify-content: center;background-color: white;position: relative;}#sk-container-id-2 div.sk-item::before, #sk-container-id-2 div.sk-parallel-item::before {content: \"\";position: absolute;border-left: 1px solid gray;box-sizing: border-box;top: 0;bottom: 0;left: 50%;z-index: -1;}#sk-container-id-2 div.sk-parallel-item {display: flex;flex-direction: column;z-index: 1;position: relative;background-color: white;}#sk-container-id-2 div.sk-parallel-item:first-child::after {align-self: flex-end;width: 50%;}#sk-container-id-2 div.sk-parallel-item:last-child::after {align-self: flex-start;width: 50%;}#sk-container-id-2 div.sk-parallel-item:only-child::after {width: 0;}#sk-container-id-2 div.sk-dashed-wrapped {border: 1px dashed gray;margin: 0 0.4em 0.5em 0.4em;box-sizing: border-box;padding-bottom: 0.4em;background-color: white;}#sk-container-id-2 div.sk-label label {font-family: monospace;font-weight: bold;display: inline-block;line-height: 1.2em;}#sk-container-id-2 div.sk-label-container {text-align: center;}#sk-container-id-2 div.sk-container {/* jupyter's `normalize.less` sets `[hidden] { display: none; }` but bootstrap.min.css set `[hidden] { display: none !important; }` so we also need the `!important` here to be able to override the default hidden behavior on the sphinx rendered scikit-learn.org. See: https://github.com/scikit-learn/scikit-learn/issues/21755 */display: inline-block !important;position: relative;}#sk-container-id-2 div.sk-text-repr-fallback {display: none;}</style><div id=\"sk-container-id-2\" class=\"sk-top-container\"><div class=\"sk-text-repr-fallback\"><pre>LogisticRegression(C=10, penalty=&#x27;l1&#x27;, solver=&#x27;liblinear&#x27;)</pre><b>In a Jupyter environment, please rerun this cell to show the HTML representation or trust the notebook. <br />On GitHub, the HTML representation is unable to render, please try loading this page with nbviewer.org.</b></div><div class=\"sk-container\" hidden><div class=\"sk-item\"><div class=\"sk-estimator sk-toggleable\"><input class=\"sk-toggleable__control sk-hidden--visually\" id=\"sk-estimator-id-2\" type=\"checkbox\" checked><label for=\"sk-estimator-id-2\" class=\"sk-toggleable__label sk-toggleable__label-arrow\">LogisticRegression</label><div class=\"sk-toggleable__content\"><pre>LogisticRegression(C=10, penalty=&#x27;l1&#x27;, solver=&#x27;liblinear&#x27;)</pre></div></div></div></div></div>"
     },
     "execution_count": 34,
     "metadata": {},
     "output_type": "execute_result"
    }
   ],
   "source": [
    "from sklearn.model_selection import GridSearchCV\n",
    "\n",
    "param_grid = {'C': [0.001, 0.01, 0.1, 1, 10, 100], 'penalty': ['l1', 'l2']}\n",
    "\n",
    "grid_search = GridSearchCV(LogisticRegression(solver='liblinear'), param_grid, cv=5)\n",
    "grid_search.fit(X_train, y_train)\n",
    "\n",
    "logreg_best = grid_search.best_estimator_\n",
    "\n",
    "logreg_best.fit(X_train, y_train)"
   ],
   "metadata": {
    "collapsed": false,
    "pycharm": {
     "name": "#%%\n"
    }
   }
  },
  {
   "cell_type": "code",
   "execution_count": 35,
   "outputs": [
    {
     "name": "stdout",
     "output_type": "stream",
     "text": [
      "Accuracy: 0.81\n",
      "Precision: 0.79\n",
      "Recall: 0.77\n",
      "F1 Score: 0.78\n"
     ]
    }
   ],
   "source": [
    "y_pred = logreg_best.predict(X_test)\n",
    "accuracy = accuracy_score(y_test, y_pred)\n",
    "precision = precision_score(y_test, y_pred)\n",
    "recall = recall_score(y_test, y_pred)\n",
    "f1 = f1_score(y_test, y_pred)\n",
    "\n",
    "print(f\"Accuracy: {accuracy:.2f}\")\n",
    "print(f\"Precision: {precision:.2f}\")\n",
    "print(f\"Recall: {recall:.2f}\")\n",
    "print(f\"F1 Score: {f1:.2f}\")"
   ],
   "metadata": {
    "collapsed": false,
    "pycharm": {
     "name": "#%%\n"
    }
   }
  },
  {
   "cell_type": "code",
   "execution_count": 36,
   "outputs": [
    {
     "name": "stdout",
     "output_type": "stream",
     "text": [
      "Best hyperparameters for the logistic regression model:\n",
      "C: 10\n",
      "class_weight: None\n",
      "dual: False\n",
      "fit_intercept: True\n",
      "intercept_scaling: 1\n",
      "l1_ratio: None\n",
      "max_iter: 100\n",
      "multi_class: auto\n",
      "n_jobs: None\n",
      "penalty: l1\n",
      "random_state: None\n",
      "solver: liblinear\n",
      "tol: 0.0001\n",
      "verbose: 0\n",
      "warm_start: False\n"
     ]
    }
   ],
   "source": [
    "best_params = logreg_best.get_params()\n",
    "print(\"Best hyperparameters for the logistic regression model:\")\n",
    "for param, value in best_params.items():\n",
    "    print(f\"{param}: {value}\")"
   ],
   "metadata": {
    "collapsed": false,
    "pycharm": {
     "name": "#%%\n"
    }
   }
  },
  {
   "cell_type": "code",
   "execution_count": 37,
   "outputs": [
    {
     "data": {
      "text/plain": "<Figure size 800x600 with 1 Axes>",
      "image/png": "[encoded data removed]"
     },
     "metadata": {},
     "output_type": "display_data"
    }
   ],
   "source": [
    "import matplotlib.pyplot as plt\n",
    "import seaborn as sns\n",
    "from sklearn.metrics import confusion_matrix\n",
    "\n",
    "cm = confusion_matrix(y_test, y_pred)\n",
    "\n",
    "plt.figure(figsize=(8, 6))\n",
    "sns.heatmap(cm, annot=True, fmt='d', cmap='Blues', cbar=False, xticklabels=['Class 0', 'Class 1'], yticklabels=['Class 0', 'Class 1'])\n",
    "plt.xlabel('Predicted')\n",
    "plt.ylabel('True')\n",
    "plt.title('Confusion Matrix')\n",
    "plt.show()"
   ],
   "metadata": {
    "collapsed": false,
    "pycharm": {
     "name": "#%%\n"
    }
   }
  },
  {
   "cell_type": "code",
   "execution_count": 46,
   "outputs": [],
   "source": [
    "original_data = df_dehumanization.loc[X_test_.index]"
   ],
   "metadata": {
    "collapsed": false,
    "pycharm": {
     "name": "#%%\n"
    }
   }
  },
  {
   "cell_type": "code",
   "execution_count": 47,
   "outputs": [],
   "source": [
    "original_data['Predicted Label'] = y_pred\n",
    "original_data['Prediction Status'] = original_data['label'] == original_data['Predicted Label']\n",
    "incorrect_predictions = original_data[~original_data['Prediction Status']]"
   ],
   "metadata": {
    "collapsed": false,
    "pycharm": {
     "name": "#%%\n"
    }
   }
  },
  {
   "cell_type": "code",
   "execution_count": 48,
   "outputs": [
    {
     "name": "stdout",
     "output_type": "stream",
     "text": [
      "Incorrectly predicted samples:\n",
      "Index: 2412\n",
      "Original Text: Половцы и печенеги только о себе думают;)\n",
      "True Label: 0\n",
      "Predicted Label: 1\n",
      "\n",
      "Index: 495\n",
      "Original Text: \"Вот так мы живэм! Вот так нас кинули, а сами поехали в Запорожье\"  У укровояки накипело.\n",
      "True Label: 1\n",
      "Predicted Label: 0\n",
      "\n",
      "Index: 2562\n",
      "Original Text: А какие это ваши условия? Сложите оружие, отдайте границу, все в тюрьму, мы введём свою администрацию из галичан, всех вас через фильтрационный лагерь, Бандеру в каждый дом, и жизни вас научим?   Вы там реально все примороженные? Вы реально думаете, что в ЛДНР все мечтают извиниться перед вами, покаяться и принять господина галичанского?   Так они того же от вас ждут! Опустите себя на землю и договоравайтесь с Донецком и Луганском как с равными себе!  А то им не мир нужен, а мир на их условиях.\n",
      "True Label: 1\n",
      "Predicted Label: 0\n",
      "\n",
      "Index: 2210\n",
      "Original Text: Молодежь Херсона продолжает напоминать свидомым, ожидающим возвращения \"пана\" Зеленского и его шайки, что Херсон — это Русский город, и не о каком возвращении его Украине можно не мечтать!  @voenkorKotenok\n",
      "True Label: 0\n",
      "Predicted Label: 1\n",
      "\n",
      "Index: 2740\n",
      "Original Text: Отреагировал на хохлофейки про спутники Илона Маска.\n",
      "True Label: 1\n",
      "Predicted Label: 0\n",
      "\n",
      "Index: 93\n",
      "Original Text: 🌎Коронавирус в мире.\n",
      "True Label: 0\n",
      "Predicted Label: 1\n",
      "\n",
      "Index: 3419\n",
      "Original Text: Как бы ни духарились в свинорейхе, какие бы тактики ни использовали умелые и не очень командиры укровермахта, ситуация изменилась кардинально.\n",
      "True Label: 1\n",
      "Predicted Label: 0\n",
      "\n",
      "Index: 1288\n",
      "Original Text: Подумать только, но в Донецкой области совсем недавно существовала ячейка насквозь фашистского Конгресса украинских националистов и выходила газета \"Бандерiвець\".\n",
      "True Label: 1\n",
      "Predicted Label: 0\n",
      "\n",
      "Index: 1188\n",
      "Original Text: Голосовал? Получи! Не голосовал? Тоже получи!  Интересно, а эта инициатива поможет хохлам заставить вычистить фейки про распятого мальчика? А? Или ту херню, что наши иксперды про трампа пиздят.\n",
      "True Label: 1\n",
      "Predicted Label: 0\n",
      "\n",
      "Index: 874\n",
      "Original Text: Никакую бандеровскую песню не репостил (про «русский военный корабль»).\n",
      "True Label: 0\n",
      "Predicted Label: 1\n",
      "\n",
      "Index: 3355\n",
      "Original Text: Труханов – идеальный бандеровский бургомистр в оппозиционном городе.\n",
      "True Label: 0\n",
      "Predicted Label: 1\n",
      "\n",
      "Index: 2775\n",
      "Original Text: Германская полиция провела задержание сторонников неонацистской группировки «Vereinte Patrioten» («Объединенные патриоты») которые планировали применение СВУ в отношении энергосистемы с целью вызвать обстановку «наподобие гражданской войны»\n",
      "True Label: 0\n",
      "Predicted Label: 1\n",
      "\n",
      "Index: 1427\n",
      "Original Text: Как вставляют Стекло в Rolex.\n",
      "True Label: 0\n",
      "Predicted Label: 1\n",
      "\n",
      "Index: 3272\n",
      "Original Text: ❗️Цель ЕC — не заморозить, а конфисковать российские активы в Европе, но для этого нужно подготовить юридическую базу — глава Еврокомиссии фон дер Ляйен\n",
      "True Label: 0\n",
      "Predicted Label: 1\n",
      "\n",
      "Index: 2024\n",
      "Original Text: Командиры самого высокого звена с завода «Азовсталь» пока не вышли, сообщил глава ДНР Пушилин.  @rt_russian\n",
      "True Label: 0\n",
      "Predicted Label: 1\n",
      "\n",
      "Index: 291\n",
      "Original Text: От них за полгода в другую страну ушли миллионы человек гражданского населения, точных своих боевых потерь они даже сами не знают (большинство российских комментаторов, так понимаем, сходятся на цифре примерно в 100к), также хохлы потеряли четыре области своей территории – и, да, у них по-прежнему нет и не будет автономной жизнеспособной экономики.\n",
      "True Label: 0\n",
      "Predicted Label: 1\n",
      "\n",
      "Index: 1011\n",
      "Original Text: ❗️Мединский: Тема денацификации и ужесточения наказания за героизацию нацизма, неонацизма, экстремизма на их основе по-прежнему является важным пунктом повестки дня переговоров.\n",
      "True Label: 0\n",
      "Predicted Label: 1\n",
      "\n",
      "Index: 1070\n",
      "Original Text: Сегодня ожидается удары по жизненноважную инфраструктура чубатых камикадзе.\n",
      "True Label: 0\n",
      "Predicted Label: 1\n",
      "\n",
      "Index: 2748\n",
      "Original Text: Разве нормальный человек может это поддерживать? Разумеется, нет! Правда на вашей стороне, а там, где правда — там и Бог! Как сказал великий Александр Невский: не в силе Бог, а в правде!  К сожалению, теперь по улицам Киева, Львова и других городов маршируют кровожадные фанаты нациста Степана Бандеры.\n",
      "True Label: 1\n",
      "Predicted Label: 0\n",
      "\n",
      "Index: 554\n",
      "Original Text: Если всуки еще там не бегут, а накапливаются, то сейчас представляют из себя крупную мишень.\n",
      "True Label: 1\n",
      "Predicted Label: 0\n",
      "\n",
      "Index: 170\n",
      "Original Text: Пошла ответочка свинорейху 🐷😎\n",
      "True Label: 1\n",
      "Predicted Label: 0\n",
      "\n",
      "Index: 2335\n",
      "Original Text: Надо ли говорить, что в комментарии сразу же набежал зондеротряд украинских комментаторов, которые назвали Прантля «подстилкой Кремля», а Бандеру героем.\n",
      "True Label: 1\n",
      "Predicted Label: 0\n",
      "\n",
      "Index: 33\n",
      "Original Text: Число погибших от коронавируса во всем мире превысило 250 000.\n",
      "True Label: 0\n",
      "Predicted Label: 1\n",
      "\n",
      "Index: 3079\n",
      "Original Text: Наши его сбили и все атаки отбили!   Вчера 23 мая было вот так, передаю дословно: : Вчера под вечер была жопа.  : Атака была на 50 метров сошлись.  : Хохлы кричали:пидары русские сдавайтесь, мы ваших матерей ебать будем.\n",
      "True Label: 0\n",
      "Predicted Label: 1\n",
      "\n",
      "Index: 486\n",
      "Original Text: Камрады! Я извиняюсь, у меня вопрос - а кто будет разгребать всю ту кучу навоза, что наворотили бандероукропианцы и инородцы на просторе Малороссии? Кто? Часть исторической России находится в оккупации.\n",
      "True Label: 1\n",
      "Predicted Label: 0\n",
      "\n",
      "Index: 1553\n",
      "Original Text: Почему это не вырезали на этапе монтажа? Что означал этот сигнал? Какой-то намёк Бздыне по итогам состоявшегося на днях телефонного разговора? Угроза хохлам? Мольба о помощи, чтобы его освободили из рабства теневого жидоолигархического консорциума и позволили уйти на пенсию? Короче, есть над чем подумать, посоны.\n",
      "True Label: 1\n",
      "Predicted Label: 0\n",
      "\n",
      "Index: 2570\n",
      "Original Text: Бандеровские реалии☝️\n",
      "True Label: 0\n",
      "Predicted Label: 1\n",
      "\n",
      "Index: 2276\n",
      "Original Text: Северную дорогу на Купянск хохлам удалось как минимум взять под огневой контроль.\n",
      "True Label: 0\n",
      "Predicted Label: 1\n",
      "\n",
      "Index: 2646\n",
      "Original Text: И тут до меня дошло - при всей своей внешней религиозности вот эти вот упоротые свидомые хохлы души не имеют - у них там, где у нормального русского человека душа, огромная черная дыра, которая, как пылесос, втягивает в себя все светлое и оставляет вокруг себя только мрак ненависти, лжи, клятвопреступления...\n",
      "True Label: 1\n",
      "Predicted Label: 0\n",
      "\n",
      "Index: 2320\n",
      "Original Text: Киев и западные страны закрывают на него глаза, как и на неонацизм, разрастающийся на Украине, словно раковая опухоль.  ▫️ Мы никогда не забудем этого ужасного преступления.\n",
      "True Label: 1\n",
      "Predicted Label: 0\n",
      "\n",
      "Index: 3193\n",
      "Original Text: Уничтожение укронацистких  позиции в Угледаре.\n",
      "True Label: 1\n",
      "Predicted Label: 0\n",
      "\n",
      "Index: 678\n",
      "Original Text: Бандерюгенд зовут на фронт\n",
      "True Label: 1\n",
      "Predicted Label: 0\n",
      "\n",
      "Index: 289\n",
      "Original Text: В последние дни все больше фанатиков, неонацистов и просто «джентельменов удачи» из стран Европы прибывают в Украину, чтобы получить боевой опыт.\n",
      "True Label: 0\n",
      "Predicted Label: 1\n",
      "\n",
      "Index: 2629\n",
      "Original Text: ❗️Дмитрий Медведев: Специальная военная операция России в Донбассе и на Украине проводится для того, чтобы не случилось третьей мировой войны  https://t.me/medvedev_telegram/168\n",
      "True Label: 0\n",
      "Predicted Label: 1\n",
      "\n",
      "Index: 2086\n",
      "Original Text: Да уж.  2) «Западные партнеры» с помощью своих ручных укропских мартышек продолжают раскачивать майдан в Крыму [этому мы посвятили ряд публикаций].\n",
      "True Label: 1\n",
      "Predicted Label: 0\n",
      "\n",
      "Index: 2293\n",
      "Original Text: Бандерофашисты избрали президентом еврейского парня.\n",
      "True Label: 1\n",
      "Predicted Label: 0\n",
      "\n",
      "Index: 2486\n",
      "Original Text: А что, Украина, управляемая неонацистской хунтой, с высочайшим уровнем коррупции, олигархическая плутократия, где отменена свобода слова и идёт гражданская война, страна с протянутой рукой, лишенная даже видимости суверенитета - отличный кандидат в ЕС\n",
      "True Label: 0\n",
      "Predicted Label: 1\n",
      "\n",
      "Index: 3524\n",
      "Original Text: ⚡️Путин: Нам нужно ответить на вопрос, который поставлен давно и зафиксирован в обращении Госдумы: вопрос о признании ДНР И ЛНР  @srochnow\n",
      "True Label: 0\n",
      "Predicted Label: 1\n",
      "\n",
      "Index: 985\n",
      "Original Text: Вагнер отправляет к бандере и прочим шайтанам в районе Бахмута следующие бригады:  Шайтанский батальон Джохара Дудаева.   30-я механизированная бригада.   58-я механизированная пехотная бригада.   53-я механизированная бригада.   4-я бригада быстрого реагирования.   241-я бригада территориальной обороны.   71-я егерская бригада.\n",
      "True Label: 1\n",
      "Predicted Label: 0\n",
      "\n",
      "Index: 605\n",
      "Original Text: А после того, как ему не дали выступить на форуме в память холокоста в Израиле (что неудивительно, не то место и время для зигующего клоуна с портретиком Бандеры), оно обиделось и вообще уехало.\n",
      "True Label: 1\n",
      "Predicted Label: 0\n",
      "\n",
      "Index: 3059\n",
      "Original Text: Сегодня состоятся похороны ВВ. Сейчас в Храме Христа Спасителя проходит церемония прощания.\n",
      "True Label: 0\n",
      "Predicted Label: 1\n",
      "\n",
      "Index: 3346\n",
      "Original Text: Трудящиеся волнуются, чё там у хохлов под Горловкой.\n",
      "True Label: 0\n",
      "Predicted Label: 1\n",
      "\n",
      "Index: 479\n",
      "Original Text: укро-азербайджанская зига https://t.me/kazachiydozor/210\n",
      "True Label: 1\n",
      "Predicted Label: 0\n",
      "\n",
      "Index: 1061\n",
      "Original Text: Киевский режим устраивает там диверсии и теракты, как бандеровцы, пытаются создать бандитское подполье.\n",
      "True Label: 0\n",
      "Predicted Label: 1\n",
      "\n",
      "Index: 102\n",
      "Original Text: Грош нам всем цена, если хохлятская мразь сегодня не утонет в собственной крови.\n",
      "True Label: 1\n",
      "Predicted Label: 0\n",
      "\n",
      "Index: 905\n",
      "Original Text: ⚡️ 🇷🇺Российские военные полностью освободили комбинат \"Азовсталь\".\n",
      "True Label: 0\n",
      "Predicted Label: 1\n",
      "\n",
      "Index: 2234\n",
      "Original Text: Бандеровские информационные террористы разгоняют \"новыну\" о неком решении Кировского суда Ростова, \"подтверждающего\" сведения о присутствии армии РФ на территории ДНР.   На самом деле это, конечно же, чушь.\n",
      "True Label: 0\n",
      "Predicted Label: 1\n",
      "\n",
      "Index: 2712\n",
      "Original Text: ваш Бандера порвался   следующего не несите\n",
      "True Label: 1\n",
      "Predicted Label: 0\n",
      "\n",
      "Index: 2411\n",
      "Original Text: Тоже выманивали укропов под нашу арту.\n",
      "True Label: 0\n",
      "Predicted Label: 1\n",
      "\n",
      "Index: 1830\n",
      "Original Text: Украинский ТГК Резидент  👆Русский националист и патриот России Зеленский, делает всё возможное для полного уничтожения укронациского государства👍\n",
      "True Label: 1\n",
      "Predicted Label: 0\n",
      "\n",
      "Index: 2208\n",
      "Original Text: Над байками укрогеббельсов про контрнаступление на Херсон и над прочими мифическими перемогами уже и укровояки смеются половиной окопа.\n",
      "True Label: 1\n",
      "Predicted Label: 0\n",
      "\n",
      "Index: 1431\n",
      "Original Text: Ещё эксклюзивные кадры работы российского \"ночного дозора\" в зоне СВО. На видео два укронацистких петушка оказывают помощь недобитому.\n",
      "True Label: 1\n",
      "Predicted Label: 0\n",
      "\n",
      "Index: 1373\n",
      "Original Text: Но если надо выбирать, между жизнью глупых жертв отчаянья укропской пропаганды, лезущих на наши танки, и жизнью русского солдата, то не должно возникать никаких сомнений при выборе – русский солдат должен жить, и при этом выполнить поставленную перед ним боевую задачу.\n",
      "True Label: 1\n",
      "Predicted Label: 0\n",
      "\n",
      "Index: 1452\n",
      "Original Text: А в это же самое время его вашингтонское начальство полным ходом идет на обострение: хотят дать своим укрорабам карт-бланш для нанесения ударов по России с помощью западного оружия, сливают всушникам данные военных спутников для наведения на цель, обсуждают передачу Хохлостану беспилотников Reaper и прочее.\n",
      "True Label: 1\n",
      "Predicted Label: 0\n",
      "\n",
      "Index: 1295\n",
      "Original Text: Опубликованы кадры допроса пленного боевика «Айдара».\n",
      "True Label: 1\n",
      "Predicted Label: 0\n",
      "\n",
      "Index: 2057\n",
      "Original Text: Пока вся госпропаганда была занята борьбой с бандерами на федеральных телеканалах, к диверсии готовился маленький, но гордый табор, недавно десантировавшийся под Тулу.\n",
      "True Label: 0\n",
      "Predicted Label: 1\n",
      "\n",
      "Index: 1261\n",
      "Original Text: Кулеба разве что на колени не встал, когда рассказывал о своей встрече с Байденом: \"О, великий президент США соизволил принять меня, мелкого укронацика.\n",
      "True Label: 1\n",
      "Predicted Label: 0\n",
      "\n",
      "Index: 2229\n",
      "Original Text: Таким образом, у «укропов» осталась лишь одна дорога снабжения — через Северск.\n",
      "True Label: 0\n",
      "Predicted Label: 1\n",
      "\n",
      "Index: 842\n",
      "Original Text: Укропетух предлагает встретиться на фронте таким же петухам.  @rosich_rus\n",
      "True Label: 1\n",
      "Predicted Label: 0\n",
      "\n",
      "Index: 3325\n",
      "Original Text: Захарова о выступлении Лукашенко по задержанным россиянам: их вина не доказана, мы их в обиду не дадим, и в Минске это прекрасно знают\n",
      "True Label: 0\n",
      "Predicted Label: 1\n",
      "\n",
      "Index: 2882\n",
      "Original Text: Да уж, подвести научную базу под вандализм - до такого  украинские свидомые во время своего \"ленинопада\" не догадались! https://www.popularmechanics.com/science/a32870657/remove-statue-science/\n",
      "True Label: 1\n",
      "Predicted Label: 0\n",
      "\n",
      "Index: 1047\n",
      "Original Text: Чубатый петух говорит:   “Русской идентичности не существует, потому что у русской национальности нет генетической основы.\n",
      "True Label: 0\n",
      "Predicted Label: 1\n",
      "\n",
      "Index: 1270\n",
      "Original Text: Не ополченцам посвящена, а хохлокиборгам.\n",
      "True Label: 1\n",
      "Predicted Label: 0\n",
      "\n",
      "Index: 1210\n",
      "Original Text: И это мнение не одного человека, так думают все хохлы.\n",
      "True Label: 1\n",
      "Predicted Label: 0\n",
      "\n",
      "Index: 1874\n",
      "Original Text: М.К.У. — это созданная в 2018 году на Украине неонацистская организация.\n",
      "True Label: 0\n",
      "Predicted Label: 1\n",
      "\n",
      "Index: 2540\n",
      "Original Text: Не, мы конечно рады, что победила не бандеровская \"говнопуля\".\n",
      "True Label: 1\n",
      "Predicted Label: 0\n",
      "\n",
      "Index: 3397\n",
      "Original Text: 🇺🇦Власти украинского города Марганец расклеивают листовки с рекомендациями на случай аварий на ЗАЭС  Наш подписчик из города Марганец пишет, что местные власти расклеивают листовки с планом действий на случай утечки радиации в результате обстрелов укронацистами Запорожской АЭС.  \"В результате обстрелов по позициям ВС РФ может произойти утечка радиации\", – указано в тексте листовок.\n",
      "True Label: 0\n",
      "Predicted Label: 1\n",
      "\n",
      "Index: 621\n",
      "Original Text: Наш кинотеатр: 55 лет назад, 30.09.1966, подземным ядерным взрывом впервые в мире была перекрыта аварийная газовая скважина — на  месторождении Урта-Булак.\n",
      "True Label: 0\n",
      "Predicted Label: 1\n",
      "\n",
      "Index: 527\n",
      "Original Text: Свинохохлы попали в засаду.\n",
      "True Label: 1\n",
      "Predicted Label: 0\n",
      "\n",
      "Index: 411\n",
      "Original Text: Но помимо прорыва на каком-либо участке им нужно дальше развивать успех, закрепляться, зачищать территорию… А вот тут уже и «приехали» ...Местное население в огромном своем большинстве просто ненавидит укропов.\n",
      "True Label: 0\n",
      "Predicted Label: 1\n",
      "\n",
      "Index: 1392\n",
      "Original Text: Напомним, в польском Жевуше (Rzeszow) находится база подготовки наемников на Украину, а также логистический центр для поставки вооружения и военной техники Укрорейху.\n",
      "True Label: 0\n",
      "Predicted Label: 1\n",
      "\n",
      "Index: 1057\n",
      "Original Text: Доброе утро\n",
      "True Label: 0\n",
      "Predicted Label: 1\n",
      "\n",
      "Index: 2478\n",
      "Original Text: Мы всё-таки нанесём удар ТЯО по Западной Украине и закроем логистические коридоры поставок оружия, в ответ американцы через своих хохляцких рабов могут взорвать грязную бомбу на херсонском направлении.\n",
      "True Label: 1\n",
      "Predicted Label: 0\n",
      "\n",
      "Index: 2476\n",
      "Original Text: Этим и объясняется, что наши забрали тело украинского бойца.  4. 🔺Дальше начала работать арта укров, прикрывая отход группы. (Есть версия, что от своей арты укропам тоже досталось)  5.🔺Начала работать наша арта.\n",
      "True Label: 0\n",
      "Predicted Label: 1\n",
      "\n",
      "Index: 3244\n",
      "Original Text: А улицы Банлеры и Шухевича есть легализация бандеровщины - расстрелов, Бабьего Яра, Волынской резни, Львовского погрома, сожженных русских и белорусских деревень.\n",
      "True Label: 0\n",
      "Predicted Label: 1\n",
      "\n",
      "Index: 1978\n",
      "Original Text: Кстати, напоминаем, что дедушку Христи Фриланд по материнской линии звали Михаил Хомяк (позднее стал «Майклом»), он был пособником нацистов в Польше и печатал боевые листки для тогдашнего еврорейха.  [Орда] - родная, злобная, твоя\n",
      "True Label: 0\n",
      "Predicted Label: 1\n",
      "\n",
      "Index: 1979\n",
      "Original Text: Клоун Зеля говорит, что у бандеровцев потерь нет.\n",
      "True Label: 1\n",
      "Predicted Label: 0\n",
      "\n",
      "Index: 1623\n",
      "Original Text: На Николаевском направлении арта распугала стайку хохлов.  \"Анонимный Военный\"\n",
      "True Label: 1\n",
      "Predicted Label: 0\n",
      "\n",
      "Index: 463\n",
      "Original Text: И тут можно вопрошать, почему автор не замечал геноцида Русского Донбасса, 2 мая в Одессе, 9 мая в Мариуполе, всех зверств неонаци, уничтожения Донецка и всех прочих фронтовых городов, но это не имеет никакого смысла.\n",
      "True Label: 1\n",
      "Predicted Label: 0\n",
      "\n",
      "Index: 120\n",
      "Original Text: С наплывом украинских беженцев начался полный пиздец: заполнены все парковочные места, беженцы норовят занять полосу общественного транспорта и мешают работе городских служб, каждое воскресенье на площади Музейного квартала собираются тысячи майданутых, оставляя за собой не только тонны мусора, но и акустического шума.\n",
      "True Label: 1\n",
      "Predicted Label: 0\n",
      "\n",
      "Index: 2355\n",
      "Original Text: Только Бандера, лучина и кизяк.\n",
      "True Label: 1\n",
      "Predicted Label: 0\n",
      "\n",
      "Index: 1807\n",
      "Original Text: Так понимаю, ПВО Украины привычно сбивает 10 из каждых 3 запущенных Россией дронов 😁 По укропабликам несется привычный всхрюк \"А нас то за що\".\n",
      "True Label: 1\n",
      "Predicted Label: 0\n",
      "\n",
      "Index: 109\n",
      "Original Text: Уехавшая и рвущаяся назад, потому что доходы-то здесь, уехавшая и живущая на ренту отсюда (национализация - ау?!) или не уехавшая и продолжающая лаять в соцсетях, не взирая на плашку иноагента - честное слово - если б всю эту свору сменять на пару типа раскаившихся хохлов - да мы бы жили в прекрасной стране!\n",
      "True Label: 0\n",
      "Predicted Label: 1\n",
      "\n",
      "Index: 3127\n",
      "Original Text: Но по мере увеличения укронацистскими масс-медиа и пропагандистского манипулятивного и откровенно людоедского контента 18+ (здесь1 https://t.me/Za_Derjavy/18294 и здесь2 https://t.me/Russkyship/18), я так же ужесточал свою риторику.\n",
      "True Label: 1\n",
      "Predicted Label: 0\n",
      "\n",
      "Index: 1228\n",
      "Original Text: Экс-продюсер «Грибов» и Луны Юрий Бардаш выпустил песню с критикой Владимира Зеленского и украинизации Донбасса.  «Вопрос: зачем востоку Бандера? Это не наш герой, не наша вера», — читает в своей новой песне «Позиция» артист, который выступает под псевдонимом YOURA. В песне собраны все штампы российской пропаганды: артисты «за гонорары» молчали об обстрелах Донбасса, по лицу Зеленского «видно, что он торчит», президенту Украины стоит «сохранить народ, не разжигать».\n",
      "True Label: 0\n",
      "Predicted Label: 1\n",
      "\n",
      "Index: 2285\n",
      "Original Text: В Риге майданутые орут в костюмах зомби, в Кишиневе раскрашиваю памятники в сине-желтый и требуют общаться с ними на украинском.\n",
      "True Label: 0\n",
      "Predicted Label: 1\n",
      "\n",
      "Index: 2743\n",
      "Original Text: Украинский неонацизм - ломик, которым пытаются вскрыть наш ментальный сейф.\n",
      "True Label: 1\n",
      "Predicted Label: 0\n",
      "\n",
      "Index: 1426\n",
      "Original Text: Полиция надавила на руководство клуба, в котором 19 января должен был пройти концерт группы «Аркадий Коц» в память об убитых неонацистами Станиславе Маркелове и Анастасии Бабуровой.\n",
      "True Label: 0\n",
      "Predicted Label: 1\n",
      "\n",
      "Index: 1539\n",
      "Original Text: А вообще, такую практику свидомых можно только поощрять.\n",
      "True Label: 0\n",
      "Predicted Label: 1\n",
      "\n",
      "Index: 45\n",
      "Original Text: Неонацистская террористическая организация «М. К. У»* готовит теракты, взрывы и массовые расправы.\n",
      "True Label: 0\n",
      "Predicted Label: 1\n",
      "\n",
      "Index: 2864\n",
      "Original Text: Пусть поляки «забыли» о преступлениях бандерложцев, за эту «забывчивость» им «прилет» обязательно.\n",
      "True Label: 1\n",
      "Predicted Label: 0\n",
      "\n",
      "Index: 218\n",
      "Original Text: Украина не страна и не государство, и не Бандера с автоматом.\n",
      "True Label: 1\n",
      "Predicted Label: 0\n",
      "\n",
      "Index: 1023\n",
      "Original Text: Публикую этот список из 135 пыток и зверств, применяемых террористами ОУН — УПА к мирному населению только с одной целью: чтоб раз и навсегда пришло понимание того, что так издеваться над людьми, как сейчас описывает украинская и западная пропаганда, могут только потомки бандеровцев, у которых страсть к насилию впитана с молоком матери.\n",
      "True Label: 0\n",
      "Predicted Label: 1\n",
      "\n",
      "Index: 3382\n",
      "Original Text: Фейковая страна лжецов и бандеровцев должна быть полностью демилитаризована, денацифицирована и дефейкофицирована.\n",
      "True Label: 1\n",
      "Predicted Label: 0\n",
      "\n",
      "Index: 2034\n",
      "Original Text: Если на Украине последователи секты Бандеры 🐓 занимаются геноцидом русского населения Украины и мечтают о геноциде всех русских в Мире, то активисты BLM активно пропагандируют геноцид белого населения США и Европы 🗽  При этом и те и другие управляются американскими спецслужбами и отрабатывают определенный заказ своих хозяев 🇺🇸\n",
      "True Label: 0\n",
      "Predicted Label: 1\n",
      "\n",
      "Index: 1803\n",
      "Original Text: Хуже всего для хохлов – наша с вами Федерация пока что реально воюет весьма ограниченным контингентом, и если страна 404 уже до мобилизации инвалидов дошла, то противник (то есть мы) к массовому мобилизационному резерву ещё даже не прибегал.\n",
      "True Label: 1\n",
      "Predicted Label: 0\n",
      "\n",
      "Index: 1764\n",
      "Original Text: Этот т.н. «журналист» оказался не просто криптобандеровцем, а настоящей подлой крысой.\n",
      "True Label: 1\n",
      "Predicted Label: 0\n",
      "\n",
      "Index: 2272\n",
      "Original Text: Мы с удовольствием поддержали и отстаиваем, очищаем Украину от этих бандеровцев».\n",
      "True Label: 0\n",
      "Predicted Label: 1\n",
      "\n",
      "Index: 175\n",
      "Original Text: На данном видео, вы можете наблюдать прибытие астронавтов в челноке Svinovoz 1M. Ребятам не повезло - проходя плотную русскую атмосферу потерпели фиаско  Ну ничего, в национальном космическом агенстве укрорейха целых восемь волн покорителей Плутона! Зеля, присылай ещё! ЗСУ ты космос!\n",
      "True Label: 0\n",
      "Predicted Label: 1\n",
      "\n",
      "Index: 278\n",
      "Original Text: Денацификация помутненного за годы бандеризации сознания так и происходит, больно, через свою шкуру. 18+, много мата.\n",
      "True Label: 1\n",
      "Predicted Label: 0\n",
      "\n",
      "Index: 3299\n",
      "Original Text: Всё правильно, хохлонацики, молодцы!\n",
      "True Label: 1\n",
      "Predicted Label: 0\n",
      "\n",
      "Index: 990\n",
      "Original Text: В войне с хохлорейхом мы наблюдаем попытки и зачатки реализации данного подхода.   https://t.me/aleksandr_skif/2334\n",
      "True Label: 1\n",
      "Predicted Label: 0\n",
      "\n",
      "Index: 1477\n",
      "Original Text: Безжалостного и неутомимого хищника и охотника, уничтожающего хохлов мышей сотнями.\n",
      "True Label: 1\n",
      "Predicted Label: 0\n",
      "\n",
      "Index: 371\n",
      "Original Text: Это переписка укронацика с укронациком.\n",
      "True Label: 1\n",
      "Predicted Label: 0\n",
      "\n",
      "Index: 2898\n",
      "Original Text: В конце концов мы привыкли к тому, что украинский националист это особый, крайне жестокой и тупой подвид неонациста.\n",
      "True Label: 1\n",
      "Predicted Label: 0\n",
      "\n",
      "Index: 1017\n",
      "Original Text: В коментах хохлы прокукарекали о том, что заявлено что «вся авиация уничтожена ещё в марте, а они все ещё летают».\n",
      "True Label: 1\n",
      "Predicted Label: 0\n",
      "\n",
      "Index: 1918\n",
      "Original Text: Задержанные причастны к пропаганде идеологии неонацизма и массовых убийств, провоцированию межнациональных конфликтов, совершению насильственных преступлений.\n",
      "True Label: 0\n",
      "Predicted Label: 1\n",
      "\n",
      "Index: 1703\n",
      "Original Text: Очереди за водой.  /веселее хлопцы! Если вдруг загрустили - оцените юмор.  @romanov_92\n",
      "True Label: 1\n",
      "Predicted Label: 0\n",
      "\n",
      "Index: 485\n",
      "Original Text: Хохлы как дьявол, они берут все прикольное и оскверняют это.\n",
      "True Label: 1\n",
      "Predicted Label: 0\n",
      "\n",
      "Index: 2009\n",
      "Original Text: Обычно я ругаю нашу сторону за топорные информационные залипухи, но сегодня я отмечу хохлотупость стороны оппонента.\n",
      "True Label: 0\n",
      "Predicted Label: 1\n",
      "\n",
      "Index: 925\n",
      "Original Text: ✔️Мы ни в коем случае не имеем права показывать слабину террористам из Хохлостана! Даёшь им палец, а они пытаются откусить всю руку! Только у них появляется повод для так называемой «перемоги» - сразу же случается очередной жирный всплеск русофобской активности.\n",
      "True Label: 0\n",
      "Predicted Label: 1\n",
      "\n",
      "Index: 2465\n",
      "Original Text: Острый психоз или шизоидность и психопатия - науке это неизвестно, но данный г-н после поста о написанных им мерзостях снизошёл до моего микро-канала и лично сообщил, что всё \"документирует\", видимо, аки Геращенко всех, лайкающих Шария, в соседней стране 😂 У нас, оказывается, тоже есть укроподобные агрессивные \"я тя по айпи вычислю\" и по понятиям чисто конкретно готовые \"рассказать за свободу слова\".\n",
      "True Label: 1\n",
      "Predicted Label: 0\n",
      "\n",
      "Index: 948\n",
      "Original Text: Шаг за шагом российские войска приближают неминуемый конец бандеровских прихвостней и всей остальной погани.\n",
      "True Label: 0\n",
      "Predicted Label: 1\n",
      "\n",
      "Index: 1097\n",
      "Original Text: «Мы - Русские!» - стихотворение из цикла «Освобождение 2022»  Когда Отчизне угрожает враг, показывают Русские, как пальцы сжимаются в один большой кулак!!!  Подписаться на канал автора  https://t.me/petrkazakov/304\n",
      "True Label: 0\n",
      "Predicted Label: 1\n",
      "\n",
      "Index: 296\n",
      "Original Text: ‼️🇺🇦Боевиков из 57 бригады ВСУ отправляют отбивать позиции с одними автоматами  ВСУшники из 57-й отдельной мотопехотной бригады жалуются на свое командование, которое бросило их под Артемовском как мясо.\n",
      "True Label: 0\n",
      "Predicted Label: 1\n",
      "\n",
      "Index: 3402\n",
      "Original Text: Что самое главное, хохлы еще наверняка не полностью задействовали план наступления ( а задача судя по всему самая амбициозная) и наверняка начнут давить с юга Изюмского фронта, опираясь на Славянск и Барвенково.\n",
      "True Label: 0\n",
      "Predicted Label: 1\n",
      "\n",
      "Index: 2473\n",
      "Original Text: ‼️Сергей Безруков о бандеровцах  Поддержим истинных Украинцев в борьбе с фашистами.\n",
      "True Label: 1\n",
      "Predicted Label: 0\n",
      "\n",
      "Index: 1080\n",
      "Original Text: ❌ В Японии удалили описание батальона \"Азов\"* из справочника по международному терроризму  В 2021 году в нем сообщалось о формировании \"Азова\"* неонацистскими организациями.  * - организация запрещена на территории РФ\n",
      "True Label: 0\n",
      "Predicted Label: 1\n",
      "\n",
      "Index: 921\n",
      "Original Text: Его сразу назвали \"бандеровским\".\n",
      "True Label: 0\n",
      "Predicted Label: 1\n",
      "\n",
      "Index: 25\n",
      "Original Text: Ланцет наглухо отменил ВСУкам связь на этом участке.\n",
      "True Label: 1\n",
      "Predicted Label: 0\n",
      "\n",
      "Index: 1980\n",
      "Original Text: Также в своем телеграм-канале она рассказывает о других уродливых явлениях и мерзостях бандеровской Украины и ее западных хозяев.\n",
      "True Label: 0\n",
      "Predicted Label: 1\n",
      "\n",
      "Index: 1041\n",
      "Original Text: Сейчас уже не ужасно\".  \"Не ужасно\" для Новых - вал омерзительных хохлореакций на убийство Дарьи  Дугиной.\n",
      "True Label: 1\n",
      "Predicted Label: 0\n",
      "\n",
      "Index: 1499\n",
      "Original Text: В связи со спам-атакой укро-существ, все письма в личку будут блокироваться без прочтения.\n",
      "True Label: 1\n",
      "Predicted Label: 0\n",
      "\n",
      "Index: 3147\n",
      "Original Text: Когда девяностолетних ветеранов в бывших \"братских республиках\" пытаются судить за убийство фашистских наймитов, когда Бандера - герой и когда сносят памятники маршалам Победы.\n",
      "True Label: 1\n",
      "Predicted Label: 0\n",
      "\n",
      "Index: 2233\n",
      "Original Text: Руины, а на втором фото то место где с утра хохлы ползуны выползли сдаться.\n",
      "True Label: 0\n",
      "Predicted Label: 1\n",
      "\n",
      "Index: 2788\n",
      "Original Text: Под нашим вчерашним постом об эффектном задержании видного змагара Протасевича в комментах порвались на британский флаг не только закоренелые свидомиты, но и многие россиянцы.\n",
      "True Label: 0\n",
      "Predicted Label: 1\n",
      "\n",
      "Index: 2022\n",
      "Original Text: Вообще совпадений в символах укрорейха и Третьего Рейха очень много, а уж об идеологии мы говорили много раз.\n",
      "True Label: 0\n",
      "Predicted Label: 1\n",
      "\n",
      "Index: 1211\n",
      "Original Text: Нацибандеровские фашисты/украинская сторона.\n",
      "True Label: 1\n",
      "Predicted Label: 0\n",
      "\n",
      "Index: 1587\n",
      "Original Text: Неонацистские батальоны действительно прикрываются гражданскими, они их расстреливают и убивают.\n",
      "True Label: 1\n",
      "Predicted Label: 0\n",
      "\n",
      "Index: 370\n",
      "Original Text: 🇷🇺🇺🇦⚔Украинские боевики вынуждены прятаться в окопах от военных ДНР  ВСУшники так сильно боятся из них выходить, что прямо там же справляют нужду.\n",
      "True Label: 0\n",
      "Predicted Label: 1\n",
      "\n",
      "Index: 2663\n",
      "Original Text: А чем Коротченко отличается от укробандеровских тварей, если позволяет себе глумиться над памятью тысяч погибших во время карабахской войны воинов? Я понимаю, что у петухов ничего святого в этой жизни не бывает.\n",
      "True Label: 1\n",
      "Predicted Label: 0\n",
      "\n",
      "Index: 755\n",
      "Original Text: Некоторые свидомые граждане пошли в так называемую территориальную оборону и готовят коктейли «Молотова».\n",
      "True Label: 1\n",
      "Predicted Label: 0\n",
      "\n",
      "Index: 1873\n",
      "Original Text: Доброе утро, хохлы!  @rosich_rus\n",
      "True Label: 0\n",
      "Predicted Label: 1\n",
      "\n",
      "Index: 776\n",
      "Original Text: Этому укропу-нацику только фуражку на лбу осталось набить.\n",
      "True Label: 1\n",
      "Predicted Label: 0\n",
      "\n",
      "Index: 1894\n",
      "Original Text: Про геноцид русских тоже умею, норм.\n",
      "True Label: 0\n",
      "Predicted Label: 1\n",
      "\n",
      "Index: 3018\n",
      "Original Text: Пьяный всука повздорил с охранниками дома и открыл стрельбу из пистолета в сторону двора с играющими детьми в Киеве.\n",
      "True Label: 1\n",
      "Predicted Label: 0\n",
      "\n",
      "Index: 532\n",
      "Original Text: Люди выступают и говорят так, будто на дворе в крайнем случае 2015 год - бандеровская хунта, сакральная колыбель православия, вот это вот все.\n",
      "True Label: 1\n",
      "Predicted Label: 0\n",
      "\n"
     ]
    }
   ],
   "source": [
    "print(\"Incorrectly predicted samples:\")\n",
    "for index, row in incorrect_predictions.iterrows():\n",
    "    print(f\"Index: {index}\\nOriginal Text: {row['text']}\\nTrue Label: {row['label']}\\nPredicted Label: {row['Predicted Label']}\\n\")"
   ],
   "metadata": {
    "collapsed": false,
    "pycharm": {
     "name": "#%%\n"
    }
   }
  },
  {
   "cell_type": "markdown",
   "source": [
    "### Preliminary error analysis"
   ],
   "metadata": {
    "collapsed": false,
    "pycharm": {
     "name": "#%% md\n"
    }
   }
  },
  {
   "cell_type": "markdown",
   "source": [
    "Укрвояки сприймається системою як дегуманізація\n",
    "\n",
    "Рядок 2562, 2210, 1288, 1188, 291, 2486 - сумнівний лейбл, цілком можливо що система права\n",
    "\n",
    "Хохлофейки тригерить систему\n",
    "\n",
    "Чомусь тригерить коронавірус (93, 33)\n",
    "\n",
    "Не впізнає місцями свинорейх (як в 3419, 170)\n",
    "\n",
    "Майже весь неонацизм постійно тригерить систему - 2775, 1011, 289 (але от в 2320 - неонацизм как раковая опухоль - ні, 3193 - )\n",
    "\n",
    "1070 - система тригериться на чубатих\n",
    "\n",
    "Система гірше зчитує subtle cues - 554 (накапливаются), 2335 (зондероотряд), 486 (не бандероукропианці, а держава = навоз), 2646 (опис а не фразеологізм)\n",
    "\n",
    "Не всі атрибути нацизма впізнає - 678 (бандерюгенд), 2335 (зондероотряд), 2293 (бандерофашисти)\n",
    "\n",
    "2086 - укропские мартішки\n",
    "\n",
    "\n"
   ],
   "metadata": {
    "collapsed": false,
    "pycharm": {
     "name": "#%% md\n"
    }
   }
  },
  {
   "cell_type": "markdown",
   "source": [],
   "metadata": {
    "collapsed": false,
    "pycharm": {
     "name": "#%% md\n"
    }
   }
  },
  {
   "cell_type": "code",
   "execution_count": null,
   "outputs": [],
   "source": [],
   "metadata": {
    "collapsed": false,
    "pycharm": {
     "name": "#%%\n"
    }
   }
  }
 ],
 "metadata": {
  "kernelspec": {
   "display_name": "Python 3",
   "language": "python",
   "name": "python3"
  },
  "language_info": {
   "codemirror_mode": {
    "name": "ipython",
    "version": 2
   },
   "file_extension": ".py",
   "mimetype": "text/x-python",
   "name": "python",
   "nbconvert_exporter": "python",
   "pygments_lexer": "ipython2",
   "version": "2.7.6"
  }
 },
 "nbformat": 4,
 "nbformat_minor": 0
}