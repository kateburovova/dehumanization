{
 "cells": [
  {
   "cell_type": "code",
   "execution_count": 1,
   "outputs": [],
   "source": [
    "import pandas as pd"
   ],
   "metadata": {
    "collapsed": false,
    "pycharm": {
     "name": "#%%\n"
    }
   }
  },
  {
   "cell_type": "code",
   "execution_count": 2,
   "outputs": [],
   "source": [
    "df = pd.read_csv('/Users/katerynaburovova/PycharmProjects/dehumanization/annotation/final_labels.csv', index_col=0)"
   ],
   "metadata": {
    "collapsed": false,
    "pycharm": {
     "name": "#%%\n"
    }
   }
  },
  {
   "cell_type": "markdown",
   "source": [
    "## Log Reg over lemmatized text"
   ],
   "metadata": {
    "collapsed": false,
    "pycharm": {
     "name": "#%% md\n"
    }
   }
  },
  {
   "cell_type": "code",
   "execution_count": 3,
   "outputs": [
    {
     "data": {
      "text/plain": "                      Emotion Dehumanization Mention   External ID  \\\n1219  так, присутня негативна            так     так     row_0.txt   \n1218   ні, оцінка не присутня             ні      ні     row_1.txt   \n1591  так, присутня негативна            так     так    row_10.txt   \n1198  так, присутня негативна            так     так   row_100.txt   \n3247   ні, оцінка не присутня             ні     так  row_1000.txt   \n...                       ...            ...     ...           ...   \n3613   ні, оцінка не присутня             ні     так   row_995.txt   \n3612  так, присутня негативна             ні     так   row_996.txt   \n4121  так, присутня негативна             ні     так   row_997.txt   \n4120   ні, оцінка не присутня            так     так   row_998.txt   \n3248   ні, оцінка не присутня             ні      ні   row_999.txt   \n\n                        Created By  \\\n1219      snizannabotvin@gmail.com   \n1218      snizannabotvin@gmail.com   \n1591      snizannabotvin@gmail.com   \n1198      snizannabotvin@gmail.com   \n3247        tutovadesign@gmail.com   \n...                            ...   \n3613        tutovadesign@gmail.com   \n3612        tutovadesign@gmail.com   \n4121  yevhen.marchenko91@gmail.com   \n4120  yevhen.marchenko91@gmail.com   \n3248        tutovadesign@gmail.com   \n\n                                                   text  rating  \n1219  Всвязи с этим немного поправлю коллег ⤵️  \"Они...       4  \n1218  Литературный критик Галина Юзефович о новом ро...       4  \n1591  Почему на базах неонацистов стоят языческие ис...       4  \n1198  Группа добровольцев-медиков из Чеченской Респу...       4  \n3247  ВСУшники, переходите на сторону добра, у нас т...       5  \n...                                                 ...     ...  \n3613  Утренний брифинг Минобороны России:  ▪️ россий...       5  \n3612  И понеслась мазепинщино-петлюровщино-бандеровщ...       5  \n4121  Наш соратник по русскому движению Алексей Сели...       3  \n4120  Хорошее видео от 4 бригады НМ ЛНР https://t.me...       3  \n3248  Замоскворецкий районный суд Москвы отклонил ис...       5  \n\n[3546 rows x 7 columns]",
      "text/html": "<div>\n<style scoped>\n    .dataframe tbody tr th:only-of-type {\n        vertical-align: middle;\n    }\n\n    .dataframe tbody tr th {\n        vertical-align: top;\n    }\n\n    .dataframe thead th {\n        text-align: right;\n    }\n</style>\n<table border=\"1\" class=\"dataframe\">\n  <thead>\n    <tr style=\"text-align: right;\">\n      <th></th>\n      <th>Emotion</th>\n      <th>Dehumanization</th>\n      <th>Mention</th>\n      <th>External ID</th>\n      <th>Created By</th>\n      <th>text</th>\n      <th>rating</th>\n    </tr>\n  </thead>\n  <tbody>\n    <tr>\n      <th>1219</th>\n      <td>так, присутня негативна</td>\n      <td>так</td>\n      <td>так</td>\n      <td>row_0.txt</td>\n      <td>snizannabotvin@gmail.com</td>\n      <td>Всвязи с этим немного поправлю коллег ⤵️  \"Они...</td>\n      <td>4</td>\n    </tr>\n    <tr>\n      <th>1218</th>\n      <td>ні, оцінка не присутня</td>\n      <td>ні</td>\n      <td>ні</td>\n      <td>row_1.txt</td>\n      <td>snizannabotvin@gmail.com</td>\n      <td>Литературный критик Галина Юзефович о новом ро...</td>\n      <td>4</td>\n    </tr>\n    <tr>\n      <th>1591</th>\n      <td>так, присутня негативна</td>\n      <td>так</td>\n      <td>так</td>\n      <td>row_10.txt</td>\n      <td>snizannabotvin@gmail.com</td>\n      <td>Почему на базах неонацистов стоят языческие ис...</td>\n      <td>4</td>\n    </tr>\n    <tr>\n      <th>1198</th>\n      <td>так, присутня негативна</td>\n      <td>так</td>\n      <td>так</td>\n      <td>row_100.txt</td>\n      <td>snizannabotvin@gmail.com</td>\n      <td>Группа добровольцев-медиков из Чеченской Респу...</td>\n      <td>4</td>\n    </tr>\n    <tr>\n      <th>3247</th>\n      <td>ні, оцінка не присутня</td>\n      <td>ні</td>\n      <td>так</td>\n      <td>row_1000.txt</td>\n      <td>tutovadesign@gmail.com</td>\n      <td>ВСУшники, переходите на сторону добра, у нас т...</td>\n      <td>5</td>\n    </tr>\n    <tr>\n      <th>...</th>\n      <td>...</td>\n      <td>...</td>\n      <td>...</td>\n      <td>...</td>\n      <td>...</td>\n      <td>...</td>\n      <td>...</td>\n    </tr>\n    <tr>\n      <th>3613</th>\n      <td>ні, оцінка не присутня</td>\n      <td>ні</td>\n      <td>так</td>\n      <td>row_995.txt</td>\n      <td>tutovadesign@gmail.com</td>\n      <td>Утренний брифинг Минобороны России:  ▪️ россий...</td>\n      <td>5</td>\n    </tr>\n    <tr>\n      <th>3612</th>\n      <td>так, присутня негативна</td>\n      <td>ні</td>\n      <td>так</td>\n      <td>row_996.txt</td>\n      <td>tutovadesign@gmail.com</td>\n      <td>И понеслась мазепинщино-петлюровщино-бандеровщ...</td>\n      <td>5</td>\n    </tr>\n    <tr>\n      <th>4121</th>\n      <td>так, присутня негативна</td>\n      <td>ні</td>\n      <td>так</td>\n      <td>row_997.txt</td>\n      <td>yevhen.marchenko91@gmail.com</td>\n      <td>Наш соратник по русскому движению Алексей Сели...</td>\n      <td>3</td>\n    </tr>\n    <tr>\n      <th>4120</th>\n      <td>ні, оцінка не присутня</td>\n      <td>так</td>\n      <td>так</td>\n      <td>row_998.txt</td>\n      <td>yevhen.marchenko91@gmail.com</td>\n      <td>Хорошее видео от 4 бригады НМ ЛНР https://t.me...</td>\n      <td>3</td>\n    </tr>\n    <tr>\n      <th>3248</th>\n      <td>ні, оцінка не присутня</td>\n      <td>ні</td>\n      <td>ні</td>\n      <td>row_999.txt</td>\n      <td>tutovadesign@gmail.com</td>\n      <td>Замоскворецкий районный суд Москвы отклонил ис...</td>\n      <td>5</td>\n    </tr>\n  </tbody>\n</table>\n<p>3546 rows × 7 columns</p>\n</div>"
     },
     "execution_count": 3,
     "metadata": {},
     "output_type": "execute_result"
    }
   ],
   "source": [
    "df"
   ],
   "metadata": {
    "collapsed": false,
    "pycharm": {
     "name": "#%%\n"
    }
   }
  },
  {
   "cell_type": "code",
   "execution_count": 4,
   "outputs": [],
   "source": [
    "df_dehumanization = df[['Dehumanization', 'text']].reset_index(drop=True)"
   ],
   "metadata": {
    "collapsed": false,
    "pycharm": {
     "name": "#%%\n"
    }
   }
  },
  {
   "cell_type": "code",
   "execution_count": 5,
   "outputs": [],
   "source": [
    "df_dehumanization['label'] = df_dehumanization['Dehumanization'].apply(lambda x: 0 if x=='ні' else 1)"
   ],
   "metadata": {
    "collapsed": false,
    "pycharm": {
     "name": "#%%\n"
    }
   }
  },
  {
   "cell_type": "code",
   "execution_count": 6,
   "outputs": [
    {
     "data": {
      "text/plain": "     Dehumanization                                               text  label\n0               так  Всвязи с этим немного поправлю коллег ⤵️  \"Они...      1\n1                ні  Литературный критик Галина Юзефович о новом ро...      0\n2               так  Почему на базах неонацистов стоят языческие ис...      1\n3               так  Группа добровольцев-медиков из Чеченской Респу...      1\n4                ні  ВСУшники, переходите на сторону добра, у нас т...      0\n...             ...                                                ...    ...\n3541             ні  Утренний брифинг Минобороны России:  ▪️ россий...      0\n3542             ні  И понеслась мазепинщино-петлюровщино-бандеровщ...      0\n3543             ні  Наш соратник по русскому движению Алексей Сели...      0\n3544            так  Хорошее видео от 4 бригады НМ ЛНР https://t.me...      1\n3545             ні  Замоскворецкий районный суд Москвы отклонил ис...      0\n\n[3546 rows x 3 columns]",
      "text/html": "<div>\n<style scoped>\n    .dataframe tbody tr th:only-of-type {\n        vertical-align: middle;\n    }\n\n    .dataframe tbody tr th {\n        vertical-align: top;\n    }\n\n    .dataframe thead th {\n        text-align: right;\n    }\n</style>\n<table border=\"1\" class=\"dataframe\">\n  <thead>\n    <tr style=\"text-align: right;\">\n      <th></th>\n      <th>Dehumanization</th>\n      <th>text</th>\n      <th>label</th>\n    </tr>\n  </thead>\n  <tbody>\n    <tr>\n      <th>0</th>\n      <td>так</td>\n      <td>Всвязи с этим немного поправлю коллег ⤵️  \"Они...</td>\n      <td>1</td>\n    </tr>\n    <tr>\n      <th>1</th>\n      <td>ні</td>\n      <td>Литературный критик Галина Юзефович о новом ро...</td>\n      <td>0</td>\n    </tr>\n    <tr>\n      <th>2</th>\n      <td>так</td>\n      <td>Почему на базах неонацистов стоят языческие ис...</td>\n      <td>1</td>\n    </tr>\n    <tr>\n      <th>3</th>\n      <td>так</td>\n      <td>Группа добровольцев-медиков из Чеченской Респу...</td>\n      <td>1</td>\n    </tr>\n    <tr>\n      <th>4</th>\n      <td>ні</td>\n      <td>ВСУшники, переходите на сторону добра, у нас т...</td>\n      <td>0</td>\n    </tr>\n    <tr>\n      <th>...</th>\n      <td>...</td>\n      <td>...</td>\n      <td>...</td>\n    </tr>\n    <tr>\n      <th>3541</th>\n      <td>ні</td>\n      <td>Утренний брифинг Минобороны России:  ▪️ россий...</td>\n      <td>0</td>\n    </tr>\n    <tr>\n      <th>3542</th>\n      <td>ні</td>\n      <td>И понеслась мазепинщино-петлюровщино-бандеровщ...</td>\n      <td>0</td>\n    </tr>\n    <tr>\n      <th>3543</th>\n      <td>ні</td>\n      <td>Наш соратник по русскому движению Алексей Сели...</td>\n      <td>0</td>\n    </tr>\n    <tr>\n      <th>3544</th>\n      <td>так</td>\n      <td>Хорошее видео от 4 бригады НМ ЛНР https://t.me...</td>\n      <td>1</td>\n    </tr>\n    <tr>\n      <th>3545</th>\n      <td>ні</td>\n      <td>Замоскворецкий районный суд Москвы отклонил ис...</td>\n      <td>0</td>\n    </tr>\n  </tbody>\n</table>\n<p>3546 rows × 3 columns</p>\n</div>"
     },
     "execution_count": 6,
     "metadata": {},
     "output_type": "execute_result"
    }
   ],
   "source": [
    "df_dehumanization"
   ],
   "metadata": {
    "collapsed": false,
    "pycharm": {
     "name": "#%%\n"
    }
   }
  },
  {
   "cell_type": "markdown",
   "source": [
    "## Preprocessing"
   ],
   "metadata": {
    "collapsed": false,
    "pycharm": {
     "name": "#%% md\n"
    }
   }
  },
  {
   "cell_type": "code",
   "execution_count": 7,
   "outputs": [],
   "source": [
    "import spacy\n",
    "nlp = spacy.load('ru_core_news_md',disable=['ner', 'attribute_ruler'])\n",
    "\n",
    "def lemmatize_spacy(text):\n",
    "    doc = nlp(text)\n",
    "    result = \" \".join([token.lemma_ for token in doc])\n",
    "    return result"
   ],
   "metadata": {
    "collapsed": false,
    "pycharm": {
     "name": "#%%\n"
    }
   }
  },
  {
   "cell_type": "code",
   "execution_count": 8,
   "outputs": [],
   "source": [
    "cyrillic_letters = u\"абвгдеёжзийклмнопрстуфхцчшщъыьэюяАБВГДЕЁЖЗИЙКЛМНОПРСТУФХЦЧШЩЪЫЬЭЮЯ \"\n",
    "\n",
    "def clean_text(string, allowed_symbols):\n",
    "    getVals = list(filter(lambda x: x in allowed_symbols, string))\n",
    "    result = \"\".join(getVals)\n",
    "    return result"
   ],
   "metadata": {
    "collapsed": false,
    "pycharm": {
     "name": "#%%\n"
    }
   }
  },
  {
   "cell_type": "code",
   "execution_count": 16,
   "outputs": [],
   "source": [
    "def preprocess_df(df):\n",
    "    df['text_clean'] = df['text'].apply(lambda x: clean_text(x.lower(), cyrillic_letters))\n",
    "    df['text_lemmatized'] = df['text_clean'].apply(lambda x: lemmatize_spacy(x))\n",
    "    df=df[df['text_clean']!='']\n",
    "    df.reset_index(inplace=True)\n",
    "    return df"
   ],
   "metadata": {
    "collapsed": false,
    "pycharm": {
     "name": "#%%\n"
    }
   }
  },
  {
   "cell_type": "code",
   "execution_count": 10,
   "outputs": [
    {
     "name": "stdout",
     "output_type": "stream",
     "text": [
      "CPU times: user 18.8 s, sys: 199 ms, total: 19 s\n",
      "Wall time: 19.3 s\n"
     ]
    }
   ],
   "source": [
    "%%time\n",
    "df_dehumanization = preprocess_df(df_dehumanization)"
   ],
   "metadata": {
    "collapsed": false,
    "pycharm": {
     "name": "#%%\n"
    }
   }
  },
  {
   "cell_type": "markdown",
   "source": [
    "## Logreg"
   ],
   "metadata": {
    "collapsed": false,
    "pycharm": {
     "name": "#%% md\n"
    }
   }
  },
  {
   "cell_type": "code",
   "execution_count": 11,
   "outputs": [],
   "source": [
    "from sklearn.model_selection import train_test_split\n",
    "from sklearn.feature_extraction.text import TfidfVectorizer\n",
    "\n",
    "X_train_, X_test_, y_train, y_test = train_test_split(df_dehumanization[\"text_clean\"], df_dehumanization[\"label\"], test_size=0.2, random_state=42)"
   ],
   "metadata": {
    "collapsed": false,
    "pycharm": {
     "name": "#%%\n"
    }
   }
  },
  {
   "cell_type": "code",
   "execution_count": 12,
   "outputs": [],
   "source": [
    "vectorizer = TfidfVectorizer()\n",
    "X_train = vectorizer.fit_transform(X_train_)\n",
    "X_test = vectorizer.transform(X_test_)"
   ],
   "metadata": {
    "collapsed": false,
    "pycharm": {
     "name": "#%%\n"
    }
   }
  },
  {
   "cell_type": "code",
   "execution_count": 13,
   "outputs": [
    {
     "data": {
      "text/plain": "LogisticRegression(max_iter=1000)",
      "text/html": "<style>#sk-container-id-1 {color: black;background-color: white;}#sk-container-id-1 pre{padding: 0;}#sk-container-id-1 div.sk-toggleable {background-color: white;}#sk-container-id-1 label.sk-toggleable__label {cursor: pointer;display: block;width: 100%;margin-bottom: 0;padding: 0.3em;box-sizing: border-box;text-align: center;}#sk-container-id-1 label.sk-toggleable__label-arrow:before {content: \"▸\";float: left;margin-right: 0.25em;color: #696969;}#sk-container-id-1 label.sk-toggleable__label-arrow:hover:before {color: black;}#sk-container-id-1 div.sk-estimator:hover label.sk-toggleable__label-arrow:before {color: black;}#sk-container-id-1 div.sk-toggleable__content {max-height: 0;max-width: 0;overflow: hidden;text-align: left;background-color: #f0f8ff;}#sk-container-id-1 div.sk-toggleable__content pre {margin: 0.2em;color: black;border-radius: 0.25em;background-color: #f0f8ff;}#sk-container-id-1 input.sk-toggleable__control:checked~div.sk-toggleable__content {max-height: 200px;max-width: 100%;overflow: auto;}#sk-container-id-1 input.sk-toggleable__control:checked~label.sk-toggleable__label-arrow:before {content: \"▾\";}#sk-container-id-1 div.sk-estimator input.sk-toggleable__control:checked~label.sk-toggleable__label {background-color: #d4ebff;}#sk-container-id-1 div.sk-label input.sk-toggleable__control:checked~label.sk-toggleable__label {background-color: #d4ebff;}#sk-container-id-1 input.sk-hidden--visually {border: 0;clip: rect(1px 1px 1px 1px);clip: rect(1px, 1px, 1px, 1px);height: 1px;margin: -1px;overflow: hidden;padding: 0;position: absolute;width: 1px;}#sk-container-id-1 div.sk-estimator {font-family: monospace;background-color: #f0f8ff;border: 1px dotted black;border-radius: 0.25em;box-sizing: border-box;margin-bottom: 0.5em;}#sk-container-id-1 div.sk-estimator:hover {background-color: #d4ebff;}#sk-container-id-1 div.sk-parallel-item::after {content: \"\";width: 100%;border-bottom: 1px solid gray;flex-grow: 1;}#sk-container-id-1 div.sk-label:hover label.sk-toggleable__label {background-color: #d4ebff;}#sk-container-id-1 div.sk-serial::before {content: \"\";position: absolute;border-left: 1px solid gray;box-sizing: border-box;top: 0;bottom: 0;left: 50%;z-index: 0;}#sk-container-id-1 div.sk-serial {display: flex;flex-direction: column;align-items: center;background-color: white;padding-right: 0.2em;padding-left: 0.2em;position: relative;}#sk-container-id-1 div.sk-item {position: relative;z-index: 1;}#sk-container-id-1 div.sk-parallel {display: flex;align-items: stretch;justify-content: center;background-color: white;position: relative;}#sk-container-id-1 div.sk-item::before, #sk-container-id-1 div.sk-parallel-item::before {content: \"\";position: absolute;border-left: 1px solid gray;box-sizing: border-box;top: 0;bottom: 0;left: 50%;z-index: -1;}#sk-container-id-1 div.sk-parallel-item {display: flex;flex-direction: column;z-index: 1;position: relative;background-color: white;}#sk-container-id-1 div.sk-parallel-item:first-child::after {align-self: flex-end;width: 50%;}#sk-container-id-1 div.sk-parallel-item:last-child::after {align-self: flex-start;width: 50%;}#sk-container-id-1 div.sk-parallel-item:only-child::after {width: 0;}#sk-container-id-1 div.sk-dashed-wrapped {border: 1px dashed gray;margin: 0 0.4em 0.5em 0.4em;box-sizing: border-box;padding-bottom: 0.4em;background-color: white;}#sk-container-id-1 div.sk-label label {font-family: monospace;font-weight: bold;display: inline-block;line-height: 1.2em;}#sk-container-id-1 div.sk-label-container {text-align: center;}#sk-container-id-1 div.sk-container {/* jupyter's `normalize.less` sets `[hidden] { display: none; }` but bootstrap.min.css set `[hidden] { display: none !important; }` so we also need the `!important` here to be able to override the default hidden behavior on the sphinx rendered scikit-learn.org. See: https://github.com/scikit-learn/scikit-learn/issues/21755 */display: inline-block !important;position: relative;}#sk-container-id-1 div.sk-text-repr-fallback {display: none;}</style><div id=\"sk-container-id-1\" class=\"sk-top-container\"><div class=\"sk-text-repr-fallback\"><pre>LogisticRegression(max_iter=1000)</pre><b>In a Jupyter environment, please rerun this cell to show the HTML representation or trust the notebook. <br />On GitHub, the HTML representation is unable to render, please try loading this page with nbviewer.org.</b></div><div class=\"sk-container\" hidden><div class=\"sk-item\"><div class=\"sk-estimator sk-toggleable\"><input class=\"sk-toggleable__control sk-hidden--visually\" id=\"sk-estimator-id-1\" type=\"checkbox\" checked><label for=\"sk-estimator-id-1\" class=\"sk-toggleable__label sk-toggleable__label-arrow\">LogisticRegression</label><div class=\"sk-toggleable__content\"><pre>LogisticRegression(max_iter=1000)</pre></div></div></div></div></div>"
     },
     "execution_count": 13,
     "metadata": {},
     "output_type": "execute_result"
    }
   ],
   "source": [
    "from sklearn.linear_model import LogisticRegression\n",
    "logreg = LogisticRegression(solver='lbfgs', max_iter=1000)\n",
    "logreg.fit(X_train, y_train)"
   ],
   "metadata": {
    "collapsed": false,
    "pycharm": {
     "name": "#%%\n"
    }
   }
  },
  {
   "cell_type": "code",
   "execution_count": 14,
   "outputs": [
    {
     "name": "stdout",
     "output_type": "stream",
     "text": [
      "Accuracy: 0.80\n",
      "Precision: 0.82\n",
      "Recall: 0.71\n",
      "F1 Score: 0.77\n"
     ]
    }
   ],
   "source": [
    "from sklearn.metrics import accuracy_score, precision_score, recall_score, f1_score\n",
    "y_pred = logreg.predict(X_test)\n",
    "accuracy = accuracy_score(y_test, y_pred)\n",
    "precision = precision_score(y_test, y_pred)\n",
    "recall = recall_score(y_test, y_pred)\n",
    "f1 = f1_score(y_test, y_pred)\n",
    "\n",
    "print(f\"Accuracy: {accuracy:.2f}\")\n",
    "print(f\"Precision: {precision:.2f}\")\n",
    "print(f\"Recall: {recall:.2f}\")\n",
    "print(f\"F1 Score: {f1:.2f}\")"
   ],
   "metadata": {
    "collapsed": false,
    "pycharm": {
     "name": "#%%\n"
    }
   }
  },
  {
   "cell_type": "markdown",
   "source": [
    "### Gridsearch"
   ],
   "metadata": {
    "collapsed": false,
    "pycharm": {
     "name": "#%% md\n"
    }
   }
  },
  {
   "cell_type": "code",
   "execution_count": 15,
   "outputs": [
    {
     "name": "stderr",
     "output_type": "stream",
     "text": [
      "/Users/katerynaburovova/PycharmProjects/dehumanization/lib/python3.10/site-packages/sklearn/svm/_base.py:1244: ConvergenceWarning: Liblinear failed to converge, increase the number of iterations.\n",
      "  warnings.warn(\n",
      "/Users/katerynaburovova/PycharmProjects/dehumanization/lib/python3.10/site-packages/sklearn/svm/_base.py:1244: ConvergenceWarning: Liblinear failed to converge, increase the number of iterations.\n",
      "  warnings.warn(\n",
      "/Users/katerynaburovova/PycharmProjects/dehumanization/lib/python3.10/site-packages/sklearn/svm/_base.py:1244: ConvergenceWarning: Liblinear failed to converge, increase the number of iterations.\n",
      "  warnings.warn(\n",
      "/Users/katerynaburovova/PycharmProjects/dehumanization/lib/python3.10/site-packages/sklearn/svm/_base.py:1244: ConvergenceWarning: Liblinear failed to converge, increase the number of iterations.\n",
      "  warnings.warn(\n"
     ]
    },
    {
     "data": {
      "text/plain": "LogisticRegression(C=10, penalty='l1', random_state=42, solver='liblinear')",
      "text/html": "<style>#sk-container-id-2 {color: black;background-color: white;}#sk-container-id-2 pre{padding: 0;}#sk-container-id-2 div.sk-toggleable {background-color: white;}#sk-container-id-2 label.sk-toggleable__label {cursor: pointer;display: block;width: 100%;margin-bottom: 0;padding: 0.3em;box-sizing: border-box;text-align: center;}#sk-container-id-2 label.sk-toggleable__label-arrow:before {content: \"▸\";float: left;margin-right: 0.25em;color: #696969;}#sk-container-id-2 label.sk-toggleable__label-arrow:hover:before {color: black;}#sk-container-id-2 div.sk-estimator:hover label.sk-toggleable__label-arrow:before {color: black;}#sk-container-id-2 div.sk-toggleable__content {max-height: 0;max-width: 0;overflow: hidden;text-align: left;background-color: #f0f8ff;}#sk-container-id-2 div.sk-toggleable__content pre {margin: 0.2em;color: black;border-radius: 0.25em;background-color: #f0f8ff;}#sk-container-id-2 input.sk-toggleable__control:checked~div.sk-toggleable__content {max-height: 200px;max-width: 100%;overflow: auto;}#sk-container-id-2 input.sk-toggleable__control:checked~label.sk-toggleable__label-arrow:before {content: \"▾\";}#sk-container-id-2 div.sk-estimator input.sk-toggleable__control:checked~label.sk-toggleable__label {background-color: #d4ebff;}#sk-container-id-2 div.sk-label input.sk-toggleable__control:checked~label.sk-toggleable__label {background-color: #d4ebff;}#sk-container-id-2 input.sk-hidden--visually {border: 0;clip: rect(1px 1px 1px 1px);clip: rect(1px, 1px, 1px, 1px);height: 1px;margin: -1px;overflow: hidden;padding: 0;position: absolute;width: 1px;}#sk-container-id-2 div.sk-estimator {font-family: monospace;background-color: #f0f8ff;border: 1px dotted black;border-radius: 0.25em;box-sizing: border-box;margin-bottom: 0.5em;}#sk-container-id-2 div.sk-estimator:hover {background-color: #d4ebff;}#sk-container-id-2 div.sk-parallel-item::after {content: \"\";width: 100%;border-bottom: 1px solid gray;flex-grow: 1;}#sk-container-id-2 div.sk-label:hover label.sk-toggleable__label {background-color: #d4ebff;}#sk-container-id-2 div.sk-serial::before {content: \"\";position: absolute;border-left: 1px solid gray;box-sizing: border-box;top: 0;bottom: 0;left: 50%;z-index: 0;}#sk-container-id-2 div.sk-serial {display: flex;flex-direction: column;align-items: center;background-color: white;padding-right: 0.2em;padding-left: 0.2em;position: relative;}#sk-container-id-2 div.sk-item {position: relative;z-index: 1;}#sk-container-id-2 div.sk-parallel {display: flex;align-items: stretch;justify-content: center;background-color: white;position: relative;}#sk-container-id-2 div.sk-item::before, #sk-container-id-2 div.sk-parallel-item::before {content: \"\";position: absolute;border-left: 1px solid gray;box-sizing: border-box;top: 0;bottom: 0;left: 50%;z-index: -1;}#sk-container-id-2 div.sk-parallel-item {display: flex;flex-direction: column;z-index: 1;position: relative;background-color: white;}#sk-container-id-2 div.sk-parallel-item:first-child::after {align-self: flex-end;width: 50%;}#sk-container-id-2 div.sk-parallel-item:last-child::after {align-self: flex-start;width: 50%;}#sk-container-id-2 div.sk-parallel-item:only-child::after {width: 0;}#sk-container-id-2 div.sk-dashed-wrapped {border: 1px dashed gray;margin: 0 0.4em 0.5em 0.4em;box-sizing: border-box;padding-bottom: 0.4em;background-color: white;}#sk-container-id-2 div.sk-label label {font-family: monospace;font-weight: bold;display: inline-block;line-height: 1.2em;}#sk-container-id-2 div.sk-label-container {text-align: center;}#sk-container-id-2 div.sk-container {/* jupyter's `normalize.less` sets `[hidden] { display: none; }` but bootstrap.min.css set `[hidden] { display: none !important; }` so we also need the `!important` here to be able to override the default hidden behavior on the sphinx rendered scikit-learn.org. See: https://github.com/scikit-learn/scikit-learn/issues/21755 */display: inline-block !important;position: relative;}#sk-container-id-2 div.sk-text-repr-fallback {display: none;}</style><div id=\"sk-container-id-2\" class=\"sk-top-container\"><div class=\"sk-text-repr-fallback\"><pre>LogisticRegression(C=10, penalty=&#x27;l1&#x27;, random_state=42, solver=&#x27;liblinear&#x27;)</pre><b>In a Jupyter environment, please rerun this cell to show the HTML representation or trust the notebook. <br />On GitHub, the HTML representation is unable to render, please try loading this page with nbviewer.org.</b></div><div class=\"sk-container\" hidden><div class=\"sk-item\"><div class=\"sk-estimator sk-toggleable\"><input class=\"sk-toggleable__control sk-hidden--visually\" id=\"sk-estimator-id-2\" type=\"checkbox\" checked><label for=\"sk-estimator-id-2\" class=\"sk-toggleable__label sk-toggleable__label-arrow\">LogisticRegression</label><div class=\"sk-toggleable__content\"><pre>LogisticRegression(C=10, penalty=&#x27;l1&#x27;, random_state=42, solver=&#x27;liblinear&#x27;)</pre></div></div></div></div></div>"
     },
     "execution_count": 15,
     "metadata": {},
     "output_type": "execute_result"
    }
   ],
   "source": [
    "from sklearn.model_selection import GridSearchCV\n",
    "\n",
    "param_grid = {'C': [0.001, 0.01, 0.1, 1, 10, 100], 'penalty': ['l1', 'l2']}\n",
    "\n",
    "grid_search = GridSearchCV(LogisticRegression(solver='liblinear', random_state=42), param_grid, cv=5)\n",
    "grid_search.fit(X_train, y_train)\n",
    "\n",
    "logreg_best = grid_search.best_estimator_\n",
    "\n",
    "logreg_best.fit(X_train, y_train)"
   ],
   "metadata": {
    "collapsed": false,
    "pycharm": {
     "name": "#%%\n"
    }
   }
  },
  {
   "cell_type": "code",
   "execution_count": 22,
   "outputs": [
    {
     "name": "stdout",
     "output_type": "stream",
     "text": [
      "Accuracy: 0.80\n",
      "Precision: 0.79\n",
      "Recall: 0.77\n",
      "F1 Score: 0.78\n"
     ]
    }
   ],
   "source": [
    "y_pred = logreg_best.predict(X_test)\n",
    "accuracy = accuracy_score(y_test, y_pred)\n",
    "precision = precision_score(y_test, y_pred)\n",
    "recall = recall_score(y_test, y_pred)\n",
    "f1 = f1_score(y_test, y_pred)\n",
    "\n",
    "print(f\"Accuracy: {accuracy:.2f}\")\n",
    "print(f\"Precision: {precision:.2f}\")\n",
    "print(f\"Recall: {recall:.2f}\")\n",
    "print(f\"F1 Score: {f1:.2f}\")"
   ],
   "metadata": {
    "collapsed": false,
    "pycharm": {
     "name": "#%%\n"
    }
   }
  },
  {
   "cell_type": "code",
   "execution_count": 23,
   "outputs": [
    {
     "name": "stdout",
     "output_type": "stream",
     "text": [
      "Best hyperparameters for the logistic regression model:\n",
      "C: 10\n",
      "class_weight: None\n",
      "dual: False\n",
      "fit_intercept: True\n",
      "intercept_scaling: 1\n",
      "l1_ratio: None\n",
      "max_iter: 100\n",
      "multi_class: auto\n",
      "n_jobs: None\n",
      "penalty: l1\n",
      "random_state: 42\n",
      "solver: liblinear\n",
      "tol: 0.0001\n",
      "verbose: 0\n",
      "warm_start: False\n"
     ]
    }
   ],
   "source": [
    "best_params = logreg_best.get_params()\n",
    "print(\"Best hyperparameters for the logistic regression model:\")\n",
    "for param, value in best_params.items():\n",
    "    print(f\"{param}: {value}\")"
   ],
   "metadata": {
    "collapsed": false,
    "pycharm": {
     "name": "#%%\n"
    }
   }
  },
  {
   "cell_type": "code",
   "execution_count": 24,
   "outputs": [
    {
     "data": {
      "text/plain": "<Figure size 800x600 with 1 Axes>",
      "image/png": "[encoded data removed]"
     },
     "metadata": {},
     "output_type": "display_data"
    }
   ],
   "source": [
    "import matplotlib.pyplot as plt\n",
    "import seaborn as sns\n",
    "from sklearn.metrics import confusion_matrix\n",
    "\n",
    "cm = confusion_matrix(y_test, y_pred)\n",
    "\n",
    "plt.figure(figsize=(8, 6))\n",
    "sns.heatmap(cm, annot=True, fmt='d', cmap='Blues', cbar=False, xticklabels=['Class 0', 'Class 1'], yticklabels=['Class 0', 'Class 1'])\n",
    "plt.xlabel('Predicted')\n",
    "plt.ylabel('True')\n",
    "plt.title('Confusion Matrix')\n",
    "plt.show()"
   ],
   "metadata": {
    "collapsed": false,
    "pycharm": {
     "name": "#%%\n"
    }
   }
  },
  {
   "cell_type": "code",
   "execution_count": 25,
   "outputs": [],
   "source": [
    "original_data = df_dehumanization.loc[X_test_.index]"
   ],
   "metadata": {
    "collapsed": false,
    "pycharm": {
     "name": "#%%\n"
    }
   }
  },
  {
   "cell_type": "code",
   "execution_count": 26,
   "outputs": [],
   "source": [
    "original_data['Predicted Label'] = y_pred\n",
    "original_data['Prediction Status'] = original_data['label'] == original_data['Predicted Label']\n",
    "incorrect_predictions = original_data[~original_data['Prediction Status']]"
   ],
   "metadata": {
    "collapsed": false,
    "pycharm": {
     "name": "#%%\n"
    }
   }
  },
  {
   "cell_type": "code",
   "execution_count": 27,
   "outputs": [
    {
     "name": "stdout",
     "output_type": "stream",
     "text": [
      "Incorrectly predicted samples:\n",
      "Index: 2902\n",
      "Original Text: Кадыров: «Мариуполь в ближайшее время будет полностью очищен от бандеровщины и шайтанов.\n",
      "True Label: 1\n",
      "Predicted Label: 0\n",
      "\n",
      "Index: 2412\n",
      "Original Text: Половцы и печенеги только о себе думают;)\n",
      "True Label: 0\n",
      "Predicted Label: 1\n",
      "\n",
      "Index: 495\n",
      "Original Text: \"Вот так мы живэм! Вот так нас кинули, а сами поехали в Запорожье\"  У укровояки накипело.\n",
      "True Label: 1\n",
      "Predicted Label: 0\n",
      "\n",
      "Index: 679\n",
      "Original Text: Чтобы статистикой в миллионы россиян, приехавших в Крым, раз и навсегда разбить в клочья любые потуги русофобов и свидомых на тему сорванных туристических сезонов в Крыму.\n",
      "True Label: 0\n",
      "Predicted Label: 1\n",
      "\n",
      "Index: 2562\n",
      "Original Text: А какие это ваши условия? Сложите оружие, отдайте границу, все в тюрьму, мы введём свою администрацию из галичан, всех вас через фильтрационный лагерь, Бандеру в каждый дом, и жизни вас научим?   Вы там реально все примороженные? Вы реально думаете, что в ЛДНР все мечтают извиниться перед вами, покаяться и принять господина галичанского?   Так они того же от вас ждут! Опустите себя на землю и договоравайтесь с Донецком и Луганском как с равными себе!  А то им не мир нужен, а мир на их условиях.\n",
      "True Label: 1\n",
      "Predicted Label: 0\n",
      "\n",
      "Index: 2709\n",
      "Original Text: Мариуполь в ближайшее время будет полностью очищен от бандеровщины и шайтанов.\n",
      "True Label: 1\n",
      "Predicted Label: 0\n",
      "\n",
      "Index: 2210\n",
      "Original Text: Молодежь Херсона продолжает напоминать свидомым, ожидающим возвращения \"пана\" Зеленского и его шайки, что Херсон — это Русский город, и не о каком возвращении его Украине можно не мечтать!  @voenkorKotenok\n",
      "True Label: 0\n",
      "Predicted Label: 1\n",
      "\n",
      "Index: 2740\n",
      "Original Text: Отреагировал на хохлофейки про спутники Илона Маска.\n",
      "True Label: 1\n",
      "Predicted Label: 0\n",
      "\n",
      "Index: 93\n",
      "Original Text: 🌎Коронавирус в мире.\n",
      "True Label: 0\n",
      "Predicted Label: 1\n",
      "\n",
      "Index: 3419\n",
      "Original Text: Как бы ни духарились в свинорейхе, какие бы тактики ни использовали умелые и не очень командиры укровермахта, ситуация изменилась кардинально.\n",
      "True Label: 1\n",
      "Predicted Label: 0\n",
      "\n",
      "Index: 1288\n",
      "Original Text: Подумать только, но в Донецкой области совсем недавно существовала ячейка насквозь фашистского Конгресса украинских националистов и выходила газета \"Бандерiвець\".\n",
      "True Label: 1\n",
      "Predicted Label: 0\n",
      "\n",
      "Index: 2283\n",
      "Original Text: Однако в хохляндии большинство не восприняли такой подход властей к игрушечной победе, жёстко раскритиковав дизайнеров и производителей за подтверждение (таким образом) нацизма в своей стране.\n",
      "True Label: 0\n",
      "Predicted Label: 1\n",
      "\n",
      "Index: 1188\n",
      "Original Text: Голосовал? Получи! Не голосовал? Тоже получи!  Интересно, а эта инициатива поможет хохлам заставить вычистить фейки про распятого мальчика? А? Или ту херню, что наши иксперды про трампа пиздят.\n",
      "True Label: 1\n",
      "Predicted Label: 0\n",
      "\n",
      "Index: 874\n",
      "Original Text: Никакую бандеровскую песню не репостил (про «русский военный корабль»).\n",
      "True Label: 0\n",
      "Predicted Label: 1\n",
      "\n",
      "Index: 3355\n",
      "Original Text: Труханов – идеальный бандеровский бургомистр в оппозиционном городе.\n",
      "True Label: 0\n",
      "Predicted Label: 1\n",
      "\n",
      "Index: 2775\n",
      "Original Text: Германская полиция провела задержание сторонников неонацистской группировки «Vereinte Patrioten» («Объединенные патриоты») которые планировали применение СВУ в отношении энергосистемы с целью вызвать обстановку «наподобие гражданской войны»\n",
      "True Label: 0\n",
      "Predicted Label: 1\n",
      "\n",
      "Index: 1427\n",
      "Original Text: Как вставляют Стекло в Rolex.\n",
      "True Label: 0\n",
      "Predicted Label: 1\n",
      "\n",
      "Index: 3272\n",
      "Original Text: ❗️Цель ЕC — не заморозить, а конфисковать российские активы в Европе, но для этого нужно подготовить юридическую базу — глава Еврокомиссии фон дер Ляйен\n",
      "True Label: 0\n",
      "Predicted Label: 1\n",
      "\n",
      "Index: 2024\n",
      "Original Text: Командиры самого высокого звена с завода «Азовсталь» пока не вышли, сообщил глава ДНР Пушилин.  @rt_russian\n",
      "True Label: 0\n",
      "Predicted Label: 1\n",
      "\n",
      "Index: 291\n",
      "Original Text: От них за полгода в другую страну ушли миллионы человек гражданского населения, точных своих боевых потерь они даже сами не знают (большинство российских комментаторов, так понимаем, сходятся на цифре примерно в 100к), также хохлы потеряли четыре области своей территории – и, да, у них по-прежнему нет и не будет автономной жизнеспособной экономики.\n",
      "True Label: 0\n",
      "Predicted Label: 1\n",
      "\n",
      "Index: 1011\n",
      "Original Text: ❗️Мединский: Тема денацификации и ужесточения наказания за героизацию нацизма, неонацизма, экстремизма на их основе по-прежнему является важным пунктом повестки дня переговоров.\n",
      "True Label: 0\n",
      "Predicted Label: 1\n",
      "\n",
      "Index: 1070\n",
      "Original Text: Сегодня ожидается удары по жизненноважную инфраструктура чубатых камикадзе.\n",
      "True Label: 0\n",
      "Predicted Label: 1\n",
      "\n",
      "Index: 2748\n",
      "Original Text: Разве нормальный человек может это поддерживать? Разумеется, нет! Правда на вашей стороне, а там, где правда — там и Бог! Как сказал великий Александр Невский: не в силе Бог, а в правде!  К сожалению, теперь по улицам Киева, Львова и других городов маршируют кровожадные фанаты нациста Степана Бандеры.\n",
      "True Label: 1\n",
      "Predicted Label: 0\n",
      "\n",
      "Index: 554\n",
      "Original Text: Если всуки еще там не бегут, а накапливаются, то сейчас представляют из себя крупную мишень.\n",
      "True Label: 1\n",
      "Predicted Label: 0\n",
      "\n",
      "Index: 170\n",
      "Original Text: Пошла ответочка свинорейху 🐷😎\n",
      "True Label: 1\n",
      "Predicted Label: 0\n",
      "\n",
      "Index: 2335\n",
      "Original Text: Надо ли говорить, что в комментарии сразу же набежал зондеротряд украинских комментаторов, которые назвали Прантля «подстилкой Кремля», а Бандеру героем.\n",
      "True Label: 1\n",
      "Predicted Label: 0\n",
      "\n",
      "Index: 33\n",
      "Original Text: Число погибших от коронавируса во всем мире превысило 250 000.\n",
      "True Label: 0\n",
      "Predicted Label: 1\n",
      "\n",
      "Index: 3079\n",
      "Original Text: Наши его сбили и все атаки отбили!   Вчера 23 мая было вот так, передаю дословно: : Вчера под вечер была жопа.  : Атака была на 50 метров сошлись.  : Хохлы кричали:пидары русские сдавайтесь, мы ваших матерей ебать будем.\n",
      "True Label: 0\n",
      "Predicted Label: 1\n",
      "\n",
      "Index: 486\n",
      "Original Text: Камрады! Я извиняюсь, у меня вопрос - а кто будет разгребать всю ту кучу навоза, что наворотили бандероукропианцы и инородцы на просторе Малороссии? Кто? Часть исторической России находится в оккупации.\n",
      "True Label: 1\n",
      "Predicted Label: 0\n",
      "\n",
      "Index: 1553\n",
      "Original Text: Почему это не вырезали на этапе монтажа? Что означал этот сигнал? Какой-то намёк Бздыне по итогам состоявшегося на днях телефонного разговора? Угроза хохлам? Мольба о помощи, чтобы его освободили из рабства теневого жидоолигархического консорциума и позволили уйти на пенсию? Короче, есть над чем подумать, посоны.\n",
      "True Label: 1\n",
      "Predicted Label: 0\n",
      "\n",
      "Index: 3004\n",
      "Original Text: На фоне покосившейся избы-мазанки будет стоять памятник Бандере в вышиванке, держа в руках самый большой в мире тризуб из кизяка.\n",
      "True Label: 0\n",
      "Predicted Label: 1\n",
      "\n",
      "Index: 2570\n",
      "Original Text: Бандеровские реалии☝️\n",
      "True Label: 0\n",
      "Predicted Label: 1\n",
      "\n",
      "Index: 2646\n",
      "Original Text: И тут до меня дошло - при всей своей внешней религиозности вот эти вот упоротые свидомые хохлы души не имеют - у них там, где у нормального русского человека душа, огромная черная дыра, которая, как пылесос, втягивает в себя все светлое и оставляет вокруг себя только мрак ненависти, лжи, клятвопреступления...\n",
      "True Label: 1\n",
      "Predicted Label: 0\n",
      "\n",
      "Index: 2320\n",
      "Original Text: Киев и западные страны закрывают на него глаза, как и на неонацизм, разрастающийся на Украине, словно раковая опухоль.  ▫️ Мы никогда не забудем этого ужасного преступления.\n",
      "True Label: 1\n",
      "Predicted Label: 0\n",
      "\n",
      "Index: 3193\n",
      "Original Text: Уничтожение укронацистких  позиции в Угледаре.\n",
      "True Label: 1\n",
      "Predicted Label: 0\n",
      "\n",
      "Index: 678\n",
      "Original Text: Бандерюгенд зовут на фронт\n",
      "True Label: 1\n",
      "Predicted Label: 0\n",
      "\n",
      "Index: 289\n",
      "Original Text: В последние дни все больше фанатиков, неонацистов и просто «джентельменов удачи» из стран Европы прибывают в Украину, чтобы получить боевой опыт.\n",
      "True Label: 0\n",
      "Predicted Label: 1\n",
      "\n",
      "Index: 2629\n",
      "Original Text: ❗️Дмитрий Медведев: Специальная военная операция России в Донбассе и на Украине проводится для того, чтобы не случилось третьей мировой войны  https://t.me/medvedev_telegram/168\n",
      "True Label: 0\n",
      "Predicted Label: 1\n",
      "\n",
      "Index: 2086\n",
      "Original Text: Да уж.  2) «Западные партнеры» с помощью своих ручных укропских мартышек продолжают раскачивать майдан в Крыму [этому мы посвятили ряд публикаций].\n",
      "True Label: 1\n",
      "Predicted Label: 0\n",
      "\n",
      "Index: 2293\n",
      "Original Text: Бандерофашисты избрали президентом еврейского парня.\n",
      "True Label: 1\n",
      "Predicted Label: 0\n",
      "\n",
      "Index: 295\n",
      "Original Text: Как только схлынет пропагандистский морок и обычные поляки вспомнят что предки бандеровцев вытворяли с их дедами и прадедами - такое будет по всей Польше.\n",
      "True Label: 0\n",
      "Predicted Label: 1\n",
      "\n",
      "Index: 2486\n",
      "Original Text: А что, Украина, управляемая неонацистской хунтой, с высочайшим уровнем коррупции, олигархическая плутократия, где отменена свобода слова и идёт гражданская война, страна с протянутой рукой, лишенная даже видимости суверенитета - отличный кандидат в ЕС\n",
      "True Label: 0\n",
      "Predicted Label: 1\n",
      "\n",
      "Index: 3524\n",
      "Original Text: ⚡️Путин: Нам нужно ответить на вопрос, который поставлен давно и зафиксирован в обращении Госдумы: вопрос о признании ДНР И ЛНР  @srochnow\n",
      "True Label: 0\n",
      "Predicted Label: 1\n",
      "\n",
      "Index: 985\n",
      "Original Text: Вагнер отправляет к бандере и прочим шайтанам в районе Бахмута следующие бригады:  Шайтанский батальон Джохара Дудаева.   30-я механизированная бригада.   58-я механизированная пехотная бригада.   53-я механизированная бригада.   4-я бригада быстрого реагирования.   241-я бригада территориальной обороны.   71-я егерская бригада.\n",
      "True Label: 1\n",
      "Predicted Label: 0\n",
      "\n",
      "Index: 605\n",
      "Original Text: А после того, как ему не дали выступить на форуме в память холокоста в Израиле (что неудивительно, не то место и время для зигующего клоуна с портретиком Бандеры), оно обиделось и вообще уехало.\n",
      "True Label: 1\n",
      "Predicted Label: 0\n",
      "\n",
      "Index: 3059\n",
      "Original Text: Сегодня состоятся похороны ВВ. Сейчас в Храме Христа Спасителя проходит церемония прощания.\n",
      "True Label: 0\n",
      "Predicted Label: 1\n",
      "\n",
      "Index: 3346\n",
      "Original Text: Трудящиеся волнуются, чё там у хохлов под Горловкой.\n",
      "True Label: 0\n",
      "Predicted Label: 1\n",
      "\n",
      "Index: 3489\n",
      "Original Text: В любом случае отъявленных укровояк всё меньше и меньше.\n",
      "True Label: 0\n",
      "Predicted Label: 1\n",
      "\n",
      "Index: 479\n",
      "Original Text: укро-азербайджанская зига https://t.me/kazachiydozor/210\n",
      "True Label: 1\n",
      "Predicted Label: 0\n",
      "\n",
      "Index: 1061\n",
      "Original Text: Киевский режим устраивает там диверсии и теракты, как бандеровцы, пытаются создать бандитское подполье.\n",
      "True Label: 0\n",
      "Predicted Label: 1\n",
      "\n",
      "Index: 102\n",
      "Original Text: Грош нам всем цена, если хохлятская мразь сегодня не утонет в собственной крови.\n",
      "True Label: 1\n",
      "Predicted Label: 0\n",
      "\n",
      "Index: 905\n",
      "Original Text: ⚡️ 🇷🇺Российские военные полностью освободили комбинат \"Азовсталь\".\n",
      "True Label: 0\n",
      "Predicted Label: 1\n",
      "\n",
      "Index: 2234\n",
      "Original Text: Бандеровские информационные террористы разгоняют \"новыну\" о неком решении Кировского суда Ростова, \"подтверждающего\" сведения о присутствии армии РФ на территории ДНР.   На самом деле это, конечно же, чушь.\n",
      "True Label: 0\n",
      "Predicted Label: 1\n",
      "\n",
      "Index: 2712\n",
      "Original Text: ваш Бандера порвался   следующего не несите\n",
      "True Label: 1\n",
      "Predicted Label: 0\n",
      "\n",
      "Index: 1830\n",
      "Original Text: Украинский ТГК Резидент  👆Русский националист и патриот России Зеленский, делает всё возможное для полного уничтожения укронациского государства👍\n",
      "True Label: 1\n",
      "Predicted Label: 0\n",
      "\n",
      "Index: 2208\n",
      "Original Text: Над байками укрогеббельсов про контрнаступление на Херсон и над прочими мифическими перемогами уже и укровояки смеются половиной окопа.\n",
      "True Label: 1\n",
      "Predicted Label: 0\n",
      "\n",
      "Index: 1431\n",
      "Original Text: Ещё эксклюзивные кадры работы российского \"ночного дозора\" в зоне СВО. На видео два укронацистких петушка оказывают помощь недобитому.\n",
      "True Label: 1\n",
      "Predicted Label: 0\n",
      "\n",
      "Index: 1373\n",
      "Original Text: Но если надо выбирать, между жизнью глупых жертв отчаянья укропской пропаганды, лезущих на наши танки, и жизнью русского солдата, то не должно возникать никаких сомнений при выборе – русский солдат должен жить, и при этом выполнить поставленную перед ним боевую задачу.\n",
      "True Label: 1\n",
      "Predicted Label: 0\n",
      "\n",
      "Index: 1452\n",
      "Original Text: А в это же самое время его вашингтонское начальство полным ходом идет на обострение: хотят дать своим укрорабам карт-бланш для нанесения ударов по России с помощью западного оружия, сливают всушникам данные военных спутников для наведения на цель, обсуждают передачу Хохлостану беспилотников Reaper и прочее.\n",
      "True Label: 1\n",
      "Predicted Label: 0\n",
      "\n",
      "Index: 1295\n",
      "Original Text: Опубликованы кадры допроса пленного боевика «Айдара».\n",
      "True Label: 1\n",
      "Predicted Label: 0\n",
      "\n",
      "Index: 2057\n",
      "Original Text: Пока вся госпропаганда была занята борьбой с бандерами на федеральных телеканалах, к диверсии готовился маленький, но гордый табор, недавно десантировавшийся под Тулу.\n",
      "True Label: 0\n",
      "Predicted Label: 1\n",
      "\n",
      "Index: 1261\n",
      "Original Text: Кулеба разве что на колени не встал, когда рассказывал о своей встрече с Байденом: \"О, великий президент США соизволил принять меня, мелкого укронацика.\n",
      "True Label: 1\n",
      "Predicted Label: 0\n",
      "\n",
      "Index: 2229\n",
      "Original Text: Таким образом, у «укропов» осталась лишь одна дорога снабжения — через Северск.\n",
      "True Label: 0\n",
      "Predicted Label: 1\n",
      "\n",
      "Index: 842\n",
      "Original Text: Укропетух предлагает встретиться на фронте таким же петухам.  @rosich_rus\n",
      "True Label: 1\n",
      "Predicted Label: 0\n",
      "\n",
      "Index: 3325\n",
      "Original Text: Захарова о выступлении Лукашенко по задержанным россиянам: их вина не доказана, мы их в обиду не дадим, и в Минске это прекрасно знают\n",
      "True Label: 0\n",
      "Predicted Label: 1\n",
      "\n",
      "Index: 2882\n",
      "Original Text: Да уж, подвести научную базу под вандализм - до такого  украинские свидомые во время своего \"ленинопада\" не догадались! https://www.popularmechanics.com/science/a32870657/remove-statue-science/\n",
      "True Label: 1\n",
      "Predicted Label: 0\n",
      "\n",
      "Index: 1047\n",
      "Original Text: Чубатый петух говорит:   “Русской идентичности не существует, потому что у русской национальности нет генетической основы.\n",
      "True Label: 0\n",
      "Predicted Label: 1\n",
      "\n",
      "Index: 1270\n",
      "Original Text: Не ополченцам посвящена, а хохлокиборгам.\n",
      "True Label: 1\n",
      "Predicted Label: 0\n",
      "\n",
      "Index: 1210\n",
      "Original Text: И это мнение не одного человека, так думают все хохлы.\n",
      "True Label: 1\n",
      "Predicted Label: 0\n",
      "\n",
      "Index: 1874\n",
      "Original Text: М.К.У. — это созданная в 2018 году на Украине неонацистская организация.\n",
      "True Label: 0\n",
      "Predicted Label: 1\n",
      "\n",
      "Index: 2540\n",
      "Original Text: Не, мы конечно рады, что победила не бандеровская \"говнопуля\".\n",
      "True Label: 1\n",
      "Predicted Label: 0\n",
      "\n",
      "Index: 3397\n",
      "Original Text: 🇺🇦Власти украинского города Марганец расклеивают листовки с рекомендациями на случай аварий на ЗАЭС  Наш подписчик из города Марганец пишет, что местные власти расклеивают листовки с планом действий на случай утечки радиации в результате обстрелов укронацистами Запорожской АЭС.  \"В результате обстрелов по позициям ВС РФ может произойти утечка радиации\", – указано в тексте листовок.\n",
      "True Label: 0\n",
      "Predicted Label: 1\n",
      "\n",
      "Index: 621\n",
      "Original Text: Наш кинотеатр: 55 лет назад, 30.09.1966, подземным ядерным взрывом впервые в мире была перекрыта аварийная газовая скважина — на  месторождении Урта-Булак.\n",
      "True Label: 0\n",
      "Predicted Label: 1\n",
      "\n",
      "Index: 527\n",
      "Original Text: Свинохохлы попали в засаду.\n",
      "True Label: 1\n",
      "Predicted Label: 0\n",
      "\n",
      "Index: 1392\n",
      "Original Text: Напомним, в польском Жевуше (Rzeszow) находится база подготовки наемников на Украину, а также логистический центр для поставки вооружения и военной техники Укрорейху.\n",
      "True Label: 0\n",
      "Predicted Label: 1\n",
      "\n",
      "Index: 1057\n",
      "Original Text: Доброе утро\n",
      "True Label: 0\n",
      "Predicted Label: 1\n",
      "\n",
      "Index: 2478\n",
      "Original Text: Мы всё-таки нанесём удар ТЯО по Западной Украине и закроем логистические коридоры поставок оружия, в ответ американцы через своих хохляцких рабов могут взорвать грязную бомбу на херсонском направлении.\n",
      "True Label: 1\n",
      "Predicted Label: 0\n",
      "\n",
      "Index: 2476\n",
      "Original Text: Этим и объясняется, что наши забрали тело украинского бойца.  4. 🔺Дальше начала работать арта укров, прикрывая отход группы. (Есть версия, что от своей арты укропам тоже досталось)  5.🔺Начала работать наша арта.\n",
      "True Label: 0\n",
      "Predicted Label: 1\n",
      "\n",
      "Index: 3244\n",
      "Original Text: А улицы Банлеры и Шухевича есть легализация бандеровщины - расстрелов, Бабьего Яра, Волынской резни, Львовского погрома, сожженных русских и белорусских деревень.\n",
      "True Label: 0\n",
      "Predicted Label: 1\n",
      "\n",
      "Index: 1978\n",
      "Original Text: Кстати, напоминаем, что дедушку Христи Фриланд по материнской линии звали Михаил Хомяк (позднее стал «Майклом»), он был пособником нацистов в Польше и печатал боевые листки для тогдашнего еврорейха.  [Орда] - родная, злобная, твоя\n",
      "True Label: 0\n",
      "Predicted Label: 1\n",
      "\n",
      "Index: 1979\n",
      "Original Text: Клоун Зеля говорит, что у бандеровцев потерь нет.\n",
      "True Label: 1\n",
      "Predicted Label: 0\n",
      "\n",
      "Index: 1623\n",
      "Original Text: На Николаевском направлении арта распугала стайку хохлов.  \"Анонимный Военный\"\n",
      "True Label: 1\n",
      "Predicted Label: 0\n",
      "\n",
      "Index: 463\n",
      "Original Text: И тут можно вопрошать, почему автор не замечал геноцида Русского Донбасса, 2 мая в Одессе, 9 мая в Мариуполе, всех зверств неонаци, уничтожения Донецка и всех прочих фронтовых городов, но это не имеет никакого смысла.\n",
      "True Label: 1\n",
      "Predicted Label: 0\n",
      "\n",
      "Index: 2355\n",
      "Original Text: Только Бандера, лучина и кизяк.\n",
      "True Label: 1\n",
      "Predicted Label: 0\n",
      "\n",
      "Index: 1807\n",
      "Original Text: Так понимаю, ПВО Украины привычно сбивает 10 из каждых 3 запущенных Россией дронов 😁 По укропабликам несется привычный всхрюк \"А нас то за що\".\n",
      "True Label: 1\n",
      "Predicted Label: 0\n",
      "\n",
      "Index: 3127\n",
      "Original Text: Но по мере увеличения укронацистскими масс-медиа и пропагандистского манипулятивного и откровенно людоедского контента 18+ (здесь1 https://t.me/Za_Derjavy/18294 и здесь2 https://t.me/Russkyship/18), я так же ужесточал свою риторику.\n",
      "True Label: 1\n",
      "Predicted Label: 0\n",
      "\n",
      "Index: 2285\n",
      "Original Text: В Риге майданутые орут в костюмах зомби, в Кишиневе раскрашиваю памятники в сине-желтый и требуют общаться с ними на украинском.\n",
      "True Label: 0\n",
      "Predicted Label: 1\n",
      "\n",
      "Index: 2743\n",
      "Original Text: Украинский неонацизм - ломик, которым пытаются вскрыть наш ментальный сейф.\n",
      "True Label: 1\n",
      "Predicted Label: 0\n",
      "\n",
      "Index: 1426\n",
      "Original Text: Полиция надавила на руководство клуба, в котором 19 января должен был пройти концерт группы «Аркадий Коц» в память об убитых неонацистами Станиславе Маркелове и Анастасии Бабуровой.\n",
      "True Label: 0\n",
      "Predicted Label: 1\n",
      "\n",
      "Index: 1539\n",
      "Original Text: А вообще, такую практику свидомых можно только поощрять.\n",
      "True Label: 0\n",
      "Predicted Label: 1\n",
      "\n",
      "Index: 45\n",
      "Original Text: Неонацистская террористическая организация «М. К. У»* готовит теракты, взрывы и массовые расправы.\n",
      "True Label: 0\n",
      "Predicted Label: 1\n",
      "\n",
      "Index: 2864\n",
      "Original Text: Пусть поляки «забыли» о преступлениях бандерложцев, за эту «забывчивость» им «прилет» обязательно.\n",
      "True Label: 1\n",
      "Predicted Label: 0\n",
      "\n",
      "Index: 218\n",
      "Original Text: Украина не страна и не государство, и не Бандера с автоматом.\n",
      "True Label: 1\n",
      "Predicted Label: 0\n",
      "\n",
      "Index: 3382\n",
      "Original Text: Фейковая страна лжецов и бандеровцев должна быть полностью демилитаризована, денацифицирована и дефейкофицирована.\n",
      "True Label: 1\n",
      "Predicted Label: 0\n",
      "\n",
      "Index: 2034\n",
      "Original Text: Если на Украине последователи секты Бандеры 🐓 занимаются геноцидом русского населения Украины и мечтают о геноциде всех русских в Мире, то активисты BLM активно пропагандируют геноцид белого населения США и Европы 🗽  При этом и те и другие управляются американскими спецслужбами и отрабатывают определенный заказ своих хозяев 🇺🇸\n",
      "True Label: 0\n",
      "Predicted Label: 1\n",
      "\n",
      "Index: 1803\n",
      "Original Text: Хуже всего для хохлов – наша с вами Федерация пока что реально воюет весьма ограниченным контингентом, и если страна 404 уже до мобилизации инвалидов дошла, то противник (то есть мы) к массовому мобилизационному резерву ещё даже не прибегал.\n",
      "True Label: 1\n",
      "Predicted Label: 0\n",
      "\n",
      "Index: 1764\n",
      "Original Text: Этот т.н. «журналист» оказался не просто криптобандеровцем, а настоящей подлой крысой.\n",
      "True Label: 1\n",
      "Predicted Label: 0\n",
      "\n",
      "Index: 2272\n",
      "Original Text: Мы с удовольствием поддержали и отстаиваем, очищаем Украину от этих бандеровцев».\n",
      "True Label: 0\n",
      "Predicted Label: 1\n",
      "\n",
      "Index: 175\n",
      "Original Text: На данном видео, вы можете наблюдать прибытие астронавтов в челноке Svinovoz 1M. Ребятам не повезло - проходя плотную русскую атмосферу потерпели фиаско  Ну ничего, в национальном космическом агенстве укрорейха целых восемь волн покорителей Плутона! Зеля, присылай ещё! ЗСУ ты космос!\n",
      "True Label: 0\n",
      "Predicted Label: 1\n",
      "\n",
      "Index: 278\n",
      "Original Text: Денацификация помутненного за годы бандеризации сознания так и происходит, больно, через свою шкуру. 18+, много мата.\n",
      "True Label: 1\n",
      "Predicted Label: 0\n",
      "\n",
      "Index: 3299\n",
      "Original Text: Всё правильно, хохлонацики, молодцы!\n",
      "True Label: 1\n",
      "Predicted Label: 0\n",
      "\n",
      "Index: 990\n",
      "Original Text: В войне с хохлорейхом мы наблюдаем попытки и зачатки реализации данного подхода.   https://t.me/aleksandr_skif/2334\n",
      "True Label: 1\n",
      "Predicted Label: 0\n",
      "\n",
      "Index: 1477\n",
      "Original Text: Безжалостного и неутомимого хищника и охотника, уничтожающего хохлов мышей сотнями.\n",
      "True Label: 1\n",
      "Predicted Label: 0\n",
      "\n",
      "Index: 371\n",
      "Original Text: Это переписка укронацика с укронациком.\n",
      "True Label: 1\n",
      "Predicted Label: 0\n",
      "\n",
      "Index: 2898\n",
      "Original Text: В конце концов мы привыкли к тому, что украинский националист это особый, крайне жестокой и тупой подвид неонациста.\n",
      "True Label: 1\n",
      "Predicted Label: 0\n",
      "\n",
      "Index: 1017\n",
      "Original Text: В коментах хохлы прокукарекали о том, что заявлено что «вся авиация уничтожена ещё в марте, а они все ещё летают».\n",
      "True Label: 1\n",
      "Predicted Label: 0\n",
      "\n",
      "Index: 1918\n",
      "Original Text: Задержанные причастны к пропаганде идеологии неонацизма и массовых убийств, провоцированию межнациональных конфликтов, совершению насильственных преступлений.\n",
      "True Label: 0\n",
      "Predicted Label: 1\n",
      "\n",
      "Index: 3414\n",
      "Original Text: Режиссер Иван Прокопов  Как гласит народная мудрость: «Армия может выстрелить в свой народ лишь один раз, второй раз она уже стреляет в чужой народ…»  Мирный и работящий народ Донбасса, чувствуя необратимость этого высказывания, пытался голыми руками остановить броню и это даже иногда удавалось, но авиацию, артиллерию и РСЗО руками не остановить…Так же не удалось объяснить «титульной нации», что разваливают страну не «ватники» и «колорады», а «европейские ценности», национализм, укро-американские политики и кастрюлеголовые — жертвы телевидения.\n",
      "True Label: 0\n",
      "Predicted Label: 1\n",
      "\n",
      "Index: 1703\n",
      "Original Text: Очереди за водой.  /веселее хлопцы! Если вдруг загрустили - оцените юмор.  @romanov_92\n",
      "True Label: 1\n",
      "Predicted Label: 0\n",
      "\n",
      "Index: 485\n",
      "Original Text: Хохлы как дьявол, они берут все прикольное и оскверняют это.\n",
      "True Label: 1\n",
      "Predicted Label: 0\n",
      "\n",
      "Index: 2009\n",
      "Original Text: Обычно я ругаю нашу сторону за топорные информационные залипухи, но сегодня я отмечу хохлотупость стороны оппонента.\n",
      "True Label: 0\n",
      "Predicted Label: 1\n",
      "\n",
      "Index: 925\n",
      "Original Text: ✔️Мы ни в коем случае не имеем права показывать слабину террористам из Хохлостана! Даёшь им палец, а они пытаются откусить всю руку! Только у них появляется повод для так называемой «перемоги» - сразу же случается очередной жирный всплеск русофобской активности.\n",
      "True Label: 0\n",
      "Predicted Label: 1\n",
      "\n",
      "Index: 2465\n",
      "Original Text: Острый психоз или шизоидность и психопатия - науке это неизвестно, но данный г-н после поста о написанных им мерзостях снизошёл до моего микро-канала и лично сообщил, что всё \"документирует\", видимо, аки Геращенко всех, лайкающих Шария, в соседней стране 😂 У нас, оказывается, тоже есть укроподобные агрессивные \"я тя по айпи вычислю\" и по понятиям чисто конкретно готовые \"рассказать за свободу слова\".\n",
      "True Label: 1\n",
      "Predicted Label: 0\n",
      "\n",
      "Index: 948\n",
      "Original Text: Шаг за шагом российские войска приближают неминуемый конец бандеровских прихвостней и всей остальной погани.\n",
      "True Label: 0\n",
      "Predicted Label: 1\n",
      "\n",
      "Index: 1097\n",
      "Original Text: «Мы - Русские!» - стихотворение из цикла «Освобождение 2022»  Когда Отчизне угрожает враг, показывают Русские, как пальцы сжимаются в один большой кулак!!!  Подписаться на канал автора  https://t.me/petrkazakov/304\n",
      "True Label: 0\n",
      "Predicted Label: 1\n",
      "\n",
      "Index: 296\n",
      "Original Text: ‼️🇺🇦Боевиков из 57 бригады ВСУ отправляют отбивать позиции с одними автоматами  ВСУшники из 57-й отдельной мотопехотной бригады жалуются на свое командование, которое бросило их под Артемовском как мясо.\n",
      "True Label: 0\n",
      "Predicted Label: 1\n",
      "\n",
      "Index: 507\n",
      "Original Text: Сбитые самодельные БПЛА сирийских боевиков на выставке «Армия-2018».\n",
      "True Label: 0\n",
      "Predicted Label: 1\n",
      "\n",
      "Index: 3402\n",
      "Original Text: Что самое главное, хохлы еще наверняка не полностью задействовали план наступления ( а задача судя по всему самая амбициозная) и наверняка начнут давить с юга Изюмского фронта, опираясь на Славянск и Барвенково.\n",
      "True Label: 0\n",
      "Predicted Label: 1\n",
      "\n",
      "Index: 2473\n",
      "Original Text: ‼️Сергей Безруков о бандеровцах  Поддержим истинных Украинцев в борьбе с фашистами.\n",
      "True Label: 1\n",
      "Predicted Label: 0\n",
      "\n",
      "Index: 1080\n",
      "Original Text: ❌ В Японии удалили описание батальона \"Азов\"* из справочника по международному терроризму  В 2021 году в нем сообщалось о формировании \"Азова\"* неонацистскими организациями.  * - организация запрещена на территории РФ\n",
      "True Label: 0\n",
      "Predicted Label: 1\n",
      "\n",
      "Index: 921\n",
      "Original Text: Его сразу назвали \"бандеровским\".\n",
      "True Label: 0\n",
      "Predicted Label: 1\n",
      "\n",
      "Index: 25\n",
      "Original Text: Ланцет наглухо отменил ВСУкам связь на этом участке.\n",
      "True Label: 1\n",
      "Predicted Label: 0\n",
      "\n",
      "Index: 1980\n",
      "Original Text: Также в своем телеграм-канале она рассказывает о других уродливых явлениях и мерзостях бандеровской Украины и ее западных хозяев.\n",
      "True Label: 0\n",
      "Predicted Label: 1\n",
      "\n",
      "Index: 1041\n",
      "Original Text: Сейчас уже не ужасно\".  \"Не ужасно\" для Новых - вал омерзительных хохлореакций на убийство Дарьи  Дугиной.\n",
      "True Label: 1\n",
      "Predicted Label: 0\n",
      "\n",
      "Index: 1499\n",
      "Original Text: В связи со спам-атакой укро-существ, все письма в личку будут блокироваться без прочтения.\n",
      "True Label: 1\n",
      "Predicted Label: 0\n",
      "\n",
      "Index: 3147\n",
      "Original Text: Когда девяностолетних ветеранов в бывших \"братских республиках\" пытаются судить за убийство фашистских наймитов, когда Бандера - герой и когда сносят памятники маршалам Победы.\n",
      "True Label: 1\n",
      "Predicted Label: 0\n",
      "\n",
      "Index: 2788\n",
      "Original Text: Под нашим вчерашним постом об эффектном задержании видного змагара Протасевича в комментах порвались на британский флаг не только закоренелые свидомиты, но и многие россиянцы.\n",
      "True Label: 0\n",
      "Predicted Label: 1\n",
      "\n",
      "Index: 2022\n",
      "Original Text: Вообще совпадений в символах укрорейха и Третьего Рейха очень много, а уж об идеологии мы говорили много раз.\n",
      "True Label: 0\n",
      "Predicted Label: 1\n",
      "\n",
      "Index: 1211\n",
      "Original Text: Нацибандеровские фашисты/украинская сторона.\n",
      "True Label: 1\n",
      "Predicted Label: 0\n",
      "\n",
      "Index: 1587\n",
      "Original Text: Неонацистские батальоны действительно прикрываются гражданскими, они их расстреливают и убивают.\n",
      "True Label: 1\n",
      "Predicted Label: 0\n",
      "\n",
      "Index: 370\n",
      "Original Text: 🇷🇺🇺🇦⚔Украинские боевики вынуждены прятаться в окопах от военных ДНР  ВСУшники так сильно боятся из них выходить, что прямо там же справляют нужду.\n",
      "True Label: 0\n",
      "Predicted Label: 1\n",
      "\n",
      "Index: 2663\n",
      "Original Text: А чем Коротченко отличается от укробандеровских тварей, если позволяет себе глумиться над памятью тысяч погибших во время карабахской войны воинов? Я понимаю, что у петухов ничего святого в этой жизни не бывает.\n",
      "True Label: 1\n",
      "Predicted Label: 0\n",
      "\n",
      "Index: 755\n",
      "Original Text: Некоторые свидомые граждане пошли в так называемую территориальную оборону и готовят коктейли «Молотова».\n",
      "True Label: 1\n",
      "Predicted Label: 0\n",
      "\n",
      "Index: 1873\n",
      "Original Text: Доброе утро, хохлы!  @rosich_rus\n",
      "True Label: 0\n",
      "Predicted Label: 1\n",
      "\n",
      "Index: 776\n",
      "Original Text: Этому укропу-нацику только фуражку на лбу осталось набить.\n",
      "True Label: 1\n",
      "Predicted Label: 0\n",
      "\n",
      "Index: 1894\n",
      "Original Text: Про геноцид русских тоже умею, норм.\n",
      "True Label: 0\n",
      "Predicted Label: 1\n",
      "\n",
      "Index: 3018\n",
      "Original Text: Пьяный всука повздорил с охранниками дома и открыл стрельбу из пистолета в сторону двора с играющими детьми в Киеве.\n",
      "True Label: 1\n",
      "Predicted Label: 0\n",
      "\n",
      "Index: 532\n",
      "Original Text: Люди выступают и говорят так, будто на дворе в крайнем случае 2015 год - бандеровская хунта, сакральная колыбель православия, вот это вот все.\n",
      "True Label: 1\n",
      "Predicted Label: 0\n",
      "\n"
     ]
    }
   ],
   "source": [
    "print(\"Incorrectly predicted samples:\")\n",
    "for index, row in incorrect_predictions.iterrows():\n",
    "    print(f\"Index: {index}\\nOriginal Text: {row['text']}\\nTrue Label: {row['label']}\\nPredicted Label: {row['Predicted Label']}\\n\")"
   ],
   "metadata": {
    "collapsed": false,
    "pycharm": {
     "name": "#%%\n"
    }
   }
  },
  {
   "cell_type": "markdown",
   "source": [
    "### Preliminary error analysis"
   ],
   "metadata": {
    "collapsed": false,
    "pycharm": {
     "name": "#%% md\n"
    }
   }
  },
  {
   "cell_type": "markdown",
   "source": [
    "Укрвояки сприймається системою як дегуманізація\n",
    "\n",
    "Рядок 2562, 2210, 1288, 1188, 291, 2486 - сумнівний лейбл, цілком можливо що система права\n",
    "\n",
    "Хохлофейки тригерить систему\n",
    "\n",
    "Чомусь тригерить коронавірус (93, 33)\n",
    "\n",
    "Не впізнає місцями свинорейх (як в 3419, 170)\n",
    "\n",
    "Майже весь неонацизм постійно тригерить систему - 2775, 1011, 289 (але от в 2320 - неонацизм как раковая опухоль - ні, 3193 - )\n",
    "\n",
    "1070 - система тригериться на чубатих\n",
    "\n",
    "Система гірше зчитує subtle cues - 554 (накапливаются), 2335 (зондероотряд), 486 (не бандероукропианці, а держава = навоз), 2646 (опис а не фразеологізм)\n",
    "\n",
    "Не всі атрибути нацизма впізнає - 678 (бандерюгенд), 2335 (зондероотряд), 2293 (бандерофашисти)\n",
    "\n",
    "2086 - укропские мартішки\n",
    "\n",
    "\n"
   ],
   "metadata": {
    "collapsed": false,
    "pycharm": {
     "name": "#%% md\n"
    }
   }
  },
  {
   "cell_type": "markdown",
   "source": [],
   "metadata": {
    "collapsed": false,
    "pycharm": {
     "name": "#%% md\n"
    }
   }
  },
  {
   "cell_type": "markdown",
   "source": [
    "## Log Reg over lemmatized text plus (or exclusively) collocations (with concatenaction)"
   ],
   "metadata": {
    "collapsed": false,
    "pycharm": {
     "name": "#%% md\n"
    }
   }
  },
  {
   "cell_type": "code",
   "execution_count": 20,
   "outputs": [],
   "source": [
    "from collocation_extraction import collect_verb_obl_obj, collect_core, collect_nmod, collect_amod, collect_comp, collect_appos, show_dependency, lst_to_str"
   ],
   "metadata": {
    "collapsed": false,
    "pycharm": {
     "name": "#%%\n"
    }
   }
  },
  {
   "cell_type": "code",
   "execution_count": 35,
   "outputs": [
    {
     "name": "stderr",
     "output_type": "stream",
     "text": [
      "/var/folders/2w/hygxgpp5353_dy_tk88gw2100000gn/T/ipykernel_11257/1996300300.py:1: SettingWithCopyWarning: \n",
      "A value is trying to be set on a copy of a slice from a DataFrame.\n",
      "Try using .loc[row_indexer,col_indexer] = value instead\n",
      "\n",
      "See the caveats in the documentation: https://pandas.pydata.org/pandas-docs/stable/user_guide/indexing.html#returning-a-view-versus-a-copy\n",
      "  df_dehumanization['core_noun_verb'] = df_dehumanization['text'].apply(lambda x: lst_to_str(collect_core(x)))\n",
      "/var/folders/2w/hygxgpp5353_dy_tk88gw2100000gn/T/ipykernel_11257/1996300300.py:2: SettingWithCopyWarning: \n",
      "A value is trying to be set on a copy of a slice from a DataFrame.\n",
      "Try using .loc[row_indexer,col_indexer] = value instead\n",
      "\n",
      "See the caveats in the documentation: https://pandas.pydata.org/pandas-docs/stable/user_guide/indexing.html#returning-a-view-versus-a-copy\n",
      "  df_dehumanization['verb_obl_obj'] = df_dehumanization['text'].apply(lambda x: lst_to_str(collect_verb_obl_obj(x)))\n",
      "/var/folders/2w/hygxgpp5353_dy_tk88gw2100000gn/T/ipykernel_11257/1996300300.py:3: SettingWithCopyWarning: \n",
      "A value is trying to be set on a copy of a slice from a DataFrame.\n",
      "Try using .loc[row_indexer,col_indexer] = value instead\n",
      "\n",
      "See the caveats in the documentation: https://pandas.pydata.org/pandas-docs/stable/user_guide/indexing.html#returning-a-view-versus-a-copy\n",
      "  df_dehumanization['nmod'] = df_dehumanization['text'].apply(lambda x: lst_to_str(collect_nmod(x)))\n",
      "/var/folders/2w/hygxgpp5353_dy_tk88gw2100000gn/T/ipykernel_11257/1996300300.py:4: SettingWithCopyWarning: \n",
      "A value is trying to be set on a copy of a slice from a DataFrame.\n",
      "Try using .loc[row_indexer,col_indexer] = value instead\n",
      "\n",
      "See the caveats in the documentation: https://pandas.pydata.org/pandas-docs/stable/user_guide/indexing.html#returning-a-view-versus-a-copy\n",
      "  df_dehumanization['amod'] = df_dehumanization['text'].apply(lambda x: lst_to_str(collect_amod(x)))\n",
      "/var/folders/2w/hygxgpp5353_dy_tk88gw2100000gn/T/ipykernel_11257/1996300300.py:5: SettingWithCopyWarning: \n",
      "A value is trying to be set on a copy of a slice from a DataFrame.\n",
      "Try using .loc[row_indexer,col_indexer] = value instead\n",
      "\n",
      "See the caveats in the documentation: https://pandas.pydata.org/pandas-docs/stable/user_guide/indexing.html#returning-a-view-versus-a-copy\n",
      "  df_dehumanization['comp'] = df_dehumanization['text'].apply(lambda x: lst_to_str(collect_comp(x)))\n"
     ]
    }
   ],
   "source": [
    "df_dehumanization['core_noun_verb'] = df_dehumanization['text'].apply(lambda x: lst_to_str(collect_core(x)))\n",
    "df_dehumanization['verb_obl_obj'] = df_dehumanization['text'].apply(lambda x: lst_to_str(collect_verb_obl_obj(x)))\n",
    "df_dehumanization['nmod'] = df_dehumanization['text'].apply(lambda x: lst_to_str(collect_nmod(x)))\n",
    "df_dehumanization['amod'] = df_dehumanization['text'].apply(lambda x: lst_to_str(collect_amod(x)))\n",
    "df_dehumanization['comp'] = df_dehumanization['text'].apply(lambda x: lst_to_str(collect_comp(x)))"
   ],
   "metadata": {
    "collapsed": false,
    "pycharm": {
     "name": "#%%\n"
    }
   }
  },
  {
   "cell_type": "code",
   "execution_count": 36,
   "outputs": [
    {
     "name": "stderr",
     "output_type": "stream",
     "text": [
      "/var/folders/2w/hygxgpp5353_dy_tk88gw2100000gn/T/ipykernel_11257/2166550837.py:1: SettingWithCopyWarning: \n",
      "A value is trying to be set on a copy of a slice from a DataFrame\n",
      "\n",
      "See the caveats in the documentation: https://pandas.pydata.org/pandas-docs/stable/user_guide/indexing.html#returning-a-view-versus-a-copy\n",
      "  df_dehumanization.drop(columns='index', inplace=True)\n"
     ]
    }
   ],
   "source": [
    "df_dehumanization.drop(columns='index', inplace=True)"
   ],
   "metadata": {
    "collapsed": false,
    "pycharm": {
     "name": "#%%\n"
    }
   }
  },
  {
   "cell_type": "code",
   "execution_count": 37,
   "outputs": [
    {
     "data": {
      "text/plain": "     Dehumanization                                               text  label  \\\n0               так  Всвязи с этим немного поправлю коллег ⤵️  \"Они...      1   \n1                ні  Литературный критик Галина Юзефович о новом ро...      0   \n2               так  Почему на базах неонацистов стоят языческие ис...      1   \n3               так  Группа добровольцев-медиков из Чеченской Респу...      1   \n4                ні  ВСУшники, переходите на сторону добра, у нас т...      0   \n...             ...                                                ...    ...   \n3526             ні  Утренний брифинг Минобороны России:  ▪️ россий...      0   \n3527             ні  И понеслась мазепинщино-петлюровщино-бандеровщ...      0   \n3528             ні  Наш соратник по русскому движению Алексей Сели...      0   \n3529            так  Хорошее видео от 4 бригады НМ ЛНР https://t.me...      1   \n3530             ні  Замоскворецкий районный суд Москвы отклонил ис...      0   \n\n                                             text_clean  \\\n0     всвязи с этим немного поправлю коллег   они не...   \n1     литературный критик галина юзефович о новом ро...   \n2     почему на базах неонацистов стоят языческие ис...   \n3     группа добровольцевмедиков из чеченской респуб...   \n4     всушники переходите на сторону добра у нас теп...   \n...                                                 ...   \n3526  утренний брифинг минобороны россии   российски...   \n3527    и понеслась мазепинщинопетлюровщинобандеровщина   \n3528  наш соратник по русскому движению алексей сели...   \n3529  хорошее видео от  бригады нм лнр  обработка по...   \n3530  замоскворецкий районный суд москвы отклонил ис...   \n\n                                        text_lemmatized  \\\n0     всвязи с это немного поправить коллега    они ...   \n1     литературный критик галина юзефович о новый ро...   \n2     почему на база неонацист стоять языческий исту...   \n3     группа добровольцевмедиков из чеченский респуб...   \n4     всушники переходить на сторона добро у нас тёп...   \n...                                                 ...   \n3526  утренний брифинг минобороны россия    российск...   \n3527    и понестись мазепинщинопетлюровщинобандеровщина   \n3528  наш соратник по русский движение алексей селив...   \n3529  хороший видео от   бригада нм лнр   обработка ...   \n3530  замоскворецкий районный суд москва отклонить и...   \n\n                                         core_noun_verb  \\\n0     Всвязи немного поправлю, Они не начинать, мы д...   \n1     критик все состоит, достоинство все состоит, э...   \n2                                 истуканы Почему стоят   \n3                Группа наравне вносит, врачи оказывают   \n4                        ВСУшники переходите, тепло нас   \n...                                                 ...   \n3526  брифинг продвинулись, силы продвинулись, групп...   \n3527                                                      \n3528                             соратник вместе прибыл   \n3529                                                      \n3530                                       суд отклонил   \n\n                                           verb_obl_obj  \\\n0     немного поправлю коллег, не начинать армагеддо...   \n1            состоит в том, захватывающе читать которую   \n2                                 Почему стоят на базах   \n3     вносит лепту, вносит в дело, вносит -, вносит ...   \n4                                 переходите на сторону   \n...                                                 ...   \n3526  продвинулись за ночь, продвинулись на км, разв...   \n3527  понеслась петлюровщино, понеслась -, понеслась...   \n3528  прибыл в область, создавать органы, создавать ...   \n3529                                                      \n3530                     отклонил иск, отменить решение   \n\n                                                   nmod  \\\n0     Всвязи с этим, диверсии в Польше, удар ТЯО, уд...   \n1     критик петербуржца романе, романе петербуржца,...   \n2     базах неонацистов, Гость студии, протоиерей СМ...   \n3     Группа добровольцев, Группа -, Группа медиков,...   \n4                                         сторону добра   \n...                                                 ...   \n3526  брифинг Минобороны, наступление бригады подраз...   \n3527                                                      \n3528  соратник русскому движению, армией России, орг...   \n3529  видео НМ бригады, бригады НМ, обработка позици...   \n3530  суд Москвы, иск историка, иск РФ Минюсту, иск ...   \n\n                                                   amod comp  \n0     ядерный армагеддон, осознанный удар, Львовской...       \n1     Литературный критик, новом романе, Главное дос...       \n2                                    языческие истуканы       \n3     бандеровских мразей, подлых шайтанов, Республи...       \n4                                      вкусные печеньки       \n...                                                 ...  ...  \n3526  Утренний брифинг, российские силы, украинской ...       \n3527                                                          \n3528  русскому движению, Запорожскую область, мирной...       \n3529                  Хорошее видео, пифтонными бомбами       \n3530                   Замоскворецкий суд, районный суд       \n\n[3531 rows x 10 columns]",
      "text/html": "<div>\n<style scoped>\n    .dataframe tbody tr th:only-of-type {\n        vertical-align: middle;\n    }\n\n    .dataframe tbody tr th {\n        vertical-align: top;\n    }\n\n    .dataframe thead th {\n        text-align: right;\n    }\n</style>\n<table border=\"1\" class=\"dataframe\">\n  <thead>\n    <tr style=\"text-align: right;\">\n      <th></th>\n      <th>Dehumanization</th>\n      <th>text</th>\n      <th>label</th>\n      <th>text_clean</th>\n      <th>text_lemmatized</th>\n      <th>core_noun_verb</th>\n      <th>verb_obl_obj</th>\n      <th>nmod</th>\n      <th>amod</th>\n      <th>comp</th>\n    </tr>\n  </thead>\n  <tbody>\n    <tr>\n      <th>0</th>\n      <td>так</td>\n      <td>Всвязи с этим немного поправлю коллег ⤵️  \"Они...</td>\n      <td>1</td>\n      <td>всвязи с этим немного поправлю коллег   они не...</td>\n      <td>всвязи с это немного поправить коллега    они ...</td>\n      <td>Всвязи немного поправлю, Они не начинать, мы д...</td>\n      <td>немного поправлю коллег, не начинать армагеддо...</td>\n      <td>Всвязи с этим, диверсии в Польше, удар ТЯО, уд...</td>\n      <td>ядерный армагеддон, осознанный удар, Львовской...</td>\n      <td></td>\n    </tr>\n    <tr>\n      <th>1</th>\n      <td>ні</td>\n      <td>Литературный критик Галина Юзефович о новом ро...</td>\n      <td>0</td>\n      <td>литературный критик галина юзефович о новом ро...</td>\n      <td>литературный критик галина юзефович о новый ро...</td>\n      <td>критик все состоит, достоинство все состоит, э...</td>\n      <td>состоит в том, захватывающе читать которую</td>\n      <td>критик петербуржца романе, романе петербуржца,...</td>\n      <td>Литературный критик, новом романе, Главное дос...</td>\n      <td></td>\n    </tr>\n    <tr>\n      <th>2</th>\n      <td>так</td>\n      <td>Почему на базах неонацистов стоят языческие ис...</td>\n      <td>1</td>\n      <td>почему на базах неонацистов стоят языческие ис...</td>\n      <td>почему на база неонацист стоять языческий исту...</td>\n      <td>истуканы Почему стоят</td>\n      <td>Почему стоят на базах</td>\n      <td>базах неонацистов, Гость студии, протоиерей СМ...</td>\n      <td>языческие истуканы</td>\n      <td></td>\n    </tr>\n    <tr>\n      <th>3</th>\n      <td>так</td>\n      <td>Группа добровольцев-медиков из Чеченской Респу...</td>\n      <td>1</td>\n      <td>группа добровольцевмедиков из чеченской респуб...</td>\n      <td>группа добровольцевмедиков из чеченский респуб...</td>\n      <td>Группа наравне вносит, врачи оказывают</td>\n      <td>вносит лепту, вносит в дело, вносит -, вносит ...</td>\n      <td>Группа добровольцев, Группа -, Группа медиков,...</td>\n      <td>бандеровских мразей, подлых шайтанов, Республи...</td>\n      <td></td>\n    </tr>\n    <tr>\n      <th>4</th>\n      <td>ні</td>\n      <td>ВСУшники, переходите на сторону добра, у нас т...</td>\n      <td>0</td>\n      <td>всушники переходите на сторону добра у нас теп...</td>\n      <td>всушники переходить на сторона добро у нас тёп...</td>\n      <td>ВСУшники переходите, тепло нас</td>\n      <td>переходите на сторону</td>\n      <td>сторону добра</td>\n      <td>вкусные печеньки</td>\n      <td></td>\n    </tr>\n    <tr>\n      <th>...</th>\n      <td>...</td>\n      <td>...</td>\n      <td>...</td>\n      <td>...</td>\n      <td>...</td>\n      <td>...</td>\n      <td>...</td>\n      <td>...</td>\n      <td>...</td>\n      <td>...</td>\n    </tr>\n    <tr>\n      <th>3526</th>\n      <td>ні</td>\n      <td>Утренний брифинг Минобороны России:  ▪️ россий...</td>\n      <td>0</td>\n      <td>утренний брифинг минобороны россии   российски...</td>\n      <td>утренний брифинг минобороны россия    российск...</td>\n      <td>брифинг продвинулись, силы продвинулись, групп...</td>\n      <td>продвинулись за ночь, продвинулись на км, разв...</td>\n      <td>брифинг Минобороны, наступление бригады подраз...</td>\n      <td>Утренний брифинг, российские силы, украинской ...</td>\n      <td></td>\n    </tr>\n    <tr>\n      <th>3527</th>\n      <td>ні</td>\n      <td>И понеслась мазепинщино-петлюровщино-бандеровщ...</td>\n      <td>0</td>\n      <td>и понеслась мазепинщинопетлюровщинобандеровщина</td>\n      <td>и понестись мазепинщинопетлюровщинобандеровщина</td>\n      <td></td>\n      <td>понеслась петлюровщино, понеслась -, понеслась...</td>\n      <td></td>\n      <td></td>\n      <td></td>\n    </tr>\n    <tr>\n      <th>3528</th>\n      <td>ні</td>\n      <td>Наш соратник по русскому движению Алексей Сели...</td>\n      <td>0</td>\n      <td>наш соратник по русскому движению алексей сели...</td>\n      <td>наш соратник по русский движение алексей селив...</td>\n      <td>соратник вместе прибыл</td>\n      <td>прибыл в область, создавать органы, создавать ...</td>\n      <td>соратник русскому движению, армией России, орг...</td>\n      <td>русскому движению, Запорожскую область, мирной...</td>\n      <td></td>\n    </tr>\n    <tr>\n      <th>3529</th>\n      <td>так</td>\n      <td>Хорошее видео от 4 бригады НМ ЛНР https://t.me...</td>\n      <td>1</td>\n      <td>хорошее видео от  бригады нм лнр  обработка по...</td>\n      <td>хороший видео от   бригада нм лнр   обработка ...</td>\n      <td></td>\n      <td></td>\n      <td>видео НМ бригады, бригады НМ, обработка позици...</td>\n      <td>Хорошее видео, пифтонными бомбами</td>\n      <td></td>\n    </tr>\n    <tr>\n      <th>3530</th>\n      <td>ні</td>\n      <td>Замоскворецкий районный суд Москвы отклонил ис...</td>\n      <td>0</td>\n      <td>замоскворецкий районный суд москвы отклонил ис...</td>\n      <td>замоскворецкий районный суд москва отклонить и...</td>\n      <td>суд отклонил</td>\n      <td>отклонил иск, отменить решение</td>\n      <td>суд Москвы, иск историка, иск РФ Минюсту, иск ...</td>\n      <td>Замоскворецкий суд, районный суд</td>\n      <td></td>\n    </tr>\n  </tbody>\n</table>\n<p>3531 rows × 10 columns</p>\n</div>"
     },
     "execution_count": 37,
     "metadata": {},
     "output_type": "execute_result"
    }
   ],
   "source": [
    "df_dehumanization"
   ],
   "metadata": {
    "collapsed": false,
    "pycharm": {
     "name": "#%%\n"
    }
   }
  },
  {
   "cell_type": "code",
   "execution_count": 38,
   "outputs": [
    {
     "data": {
      "text/plain": "     Dehumanization                                               text  label  \\\n0               так  Всвязи с этим немного поправлю коллег ⤵️  \"Они...      1   \n1                ні  Литературный критик Галина Юзефович о новом ро...      0   \n2               так  Почему на базах неонацистов стоят языческие ис...      1   \n3               так  Группа добровольцев-медиков из Чеченской Респу...      1   \n4                ні  ВСУшники, переходите на сторону добра, у нас т...      0   \n...             ...                                                ...    ...   \n3526             ні  Утренний брифинг Минобороны России:  ▪️ россий...      0   \n3527             ні  И понеслась мазепинщино-петлюровщино-бандеровщ...      0   \n3528             ні  Наш соратник по русскому движению Алексей Сели...      0   \n3529            так  Хорошее видео от 4 бригады НМ ЛНР https://t.me...      1   \n3530             ні  Замоскворецкий районный суд Москвы отклонил ис...      0   \n\n                                             text_clean  \\\n0     всвязи с этим немного поправлю коллег   они не...   \n1     литературный критик галина юзефович о новом ро...   \n2     почему на базах неонацистов стоят языческие ис...   \n3     группа добровольцевмедиков из чеченской респуб...   \n4     всушники переходите на сторону добра у нас теп...   \n...                                                 ...   \n3526  утренний брифинг минобороны россии   российски...   \n3527    и понеслась мазепинщинопетлюровщинобандеровщина   \n3528  наш соратник по русскому движению алексей сели...   \n3529  хорошее видео от  бригады нм лнр  обработка по...   \n3530  замоскворецкий районный суд москвы отклонил ис...   \n\n                                        text_lemmatized  \\\n0     всвязи с это немного поправить коллега    они ...   \n1     литературный критик галина юзефович о новый ро...   \n2     почему на база неонацист стоять языческий исту...   \n3     группа добровольцевмедиков из чеченский респуб...   \n4     всушники переходить на сторона добро у нас тёп...   \n...                                                 ...   \n3526  утренний брифинг минобороны россия    российск...   \n3527    и понестись мазепинщинопетлюровщинобандеровщина   \n3528  наш соратник по русский движение алексей селив...   \n3529  хороший видео от   бригада нм лнр   обработка ...   \n3530  замоскворецкий районный суд москва отклонить и...   \n\n                                         core_noun_verb  \\\n0     Всвязи немного поправлю, Они не начинать, мы д...   \n1     критик все состоит, достоинство все состоит, э...   \n2                                 истуканы Почему стоят   \n3                Группа наравне вносит, врачи оказывают   \n4                        ВСУшники переходите, тепло нас   \n...                                                 ...   \n3526  брифинг продвинулись, силы продвинулись, групп...   \n3527                                                      \n3528                             соратник вместе прибыл   \n3529                                                      \n3530                                       суд отклонил   \n\n                                           verb_obl_obj  \\\n0     немного поправлю коллег, не начинать армагеддо...   \n1            состоит в том, захватывающе читать которую   \n2                                 Почему стоят на базах   \n3     вносит лепту, вносит в дело, вносит -, вносит ...   \n4                                 переходите на сторону   \n...                                                 ...   \n3526  продвинулись за ночь, продвинулись на км, разв...   \n3527  понеслась петлюровщино, понеслась -, понеслась...   \n3528  прибыл в область, создавать органы, создавать ...   \n3529                                                      \n3530                     отклонил иск, отменить решение   \n\n                                                   nmod  \\\n0     Всвязи с этим, диверсии в Польше, удар ТЯО, уд...   \n1     критик петербуржца романе, романе петербуржца,...   \n2     базах неонацистов, Гость студии, протоиерей СМ...   \n3     Группа добровольцев, Группа -, Группа медиков,...   \n4                                         сторону добра   \n...                                                 ...   \n3526  брифинг Минобороны, наступление бригады подраз...   \n3527                                                      \n3528  соратник русскому движению, армией России, орг...   \n3529  видео НМ бригады, бригады НМ, обработка позици...   \n3530  суд Москвы, иск историка, иск РФ Минюсту, иск ...   \n\n                                                   amod comp  \n0     ядерный армагеддон, осознанный удар, Львовской...       \n1     Литературный критик, новом романе, Главное дос...       \n2                                    языческие истуканы       \n3     бандеровских мразей, подлых шайтанов, Республи...       \n4                                      вкусные печеньки       \n...                                                 ...  ...  \n3526  Утренний брифинг, российские силы, украинской ...       \n3527                                                          \n3528  русскому движению, Запорожскую область, мирной...       \n3529                  Хорошее видео, пифтонными бомбами       \n3530                   Замоскворецкий суд, районный суд       \n\n[3531 rows x 10 columns]",
      "text/html": "<div>\n<style scoped>\n    .dataframe tbody tr th:only-of-type {\n        vertical-align: middle;\n    }\n\n    .dataframe tbody tr th {\n        vertical-align: top;\n    }\n\n    .dataframe thead th {\n        text-align: right;\n    }\n</style>\n<table border=\"1\" class=\"dataframe\">\n  <thead>\n    <tr style=\"text-align: right;\">\n      <th></th>\n      <th>Dehumanization</th>\n      <th>text</th>\n      <th>label</th>\n      <th>text_clean</th>\n      <th>text_lemmatized</th>\n      <th>core_noun_verb</th>\n      <th>verb_obl_obj</th>\n      <th>nmod</th>\n      <th>amod</th>\n      <th>comp</th>\n    </tr>\n  </thead>\n  <tbody>\n    <tr>\n      <th>0</th>\n      <td>так</td>\n      <td>Всвязи с этим немного поправлю коллег ⤵️  \"Они...</td>\n      <td>1</td>\n      <td>всвязи с этим немного поправлю коллег   они не...</td>\n      <td>всвязи с это немного поправить коллега    они ...</td>\n      <td>Всвязи немного поправлю, Они не начинать, мы д...</td>\n      <td>немного поправлю коллег, не начинать армагеддо...</td>\n      <td>Всвязи с этим, диверсии в Польше, удар ТЯО, уд...</td>\n      <td>ядерный армагеддон, осознанный удар, Львовской...</td>\n      <td></td>\n    </tr>\n    <tr>\n      <th>1</th>\n      <td>ні</td>\n      <td>Литературный критик Галина Юзефович о новом ро...</td>\n      <td>0</td>\n      <td>литературный критик галина юзефович о новом ро...</td>\n      <td>литературный критик галина юзефович о новый ро...</td>\n      <td>критик все состоит, достоинство все состоит, э...</td>\n      <td>состоит в том, захватывающе читать которую</td>\n      <td>критик петербуржца романе, романе петербуржца,...</td>\n      <td>Литературный критик, новом романе, Главное дос...</td>\n      <td></td>\n    </tr>\n    <tr>\n      <th>2</th>\n      <td>так</td>\n      <td>Почему на базах неонацистов стоят языческие ис...</td>\n      <td>1</td>\n      <td>почему на базах неонацистов стоят языческие ис...</td>\n      <td>почему на база неонацист стоять языческий исту...</td>\n      <td>истуканы Почему стоят</td>\n      <td>Почему стоят на базах</td>\n      <td>базах неонацистов, Гость студии, протоиерей СМ...</td>\n      <td>языческие истуканы</td>\n      <td></td>\n    </tr>\n    <tr>\n      <th>3</th>\n      <td>так</td>\n      <td>Группа добровольцев-медиков из Чеченской Респу...</td>\n      <td>1</td>\n      <td>группа добровольцевмедиков из чеченской респуб...</td>\n      <td>группа добровольцевмедиков из чеченский респуб...</td>\n      <td>Группа наравне вносит, врачи оказывают</td>\n      <td>вносит лепту, вносит в дело, вносит -, вносит ...</td>\n      <td>Группа добровольцев, Группа -, Группа медиков,...</td>\n      <td>бандеровских мразей, подлых шайтанов, Республи...</td>\n      <td></td>\n    </tr>\n    <tr>\n      <th>4</th>\n      <td>ні</td>\n      <td>ВСУшники, переходите на сторону добра, у нас т...</td>\n      <td>0</td>\n      <td>всушники переходите на сторону добра у нас теп...</td>\n      <td>всушники переходить на сторона добро у нас тёп...</td>\n      <td>ВСУшники переходите, тепло нас</td>\n      <td>переходите на сторону</td>\n      <td>сторону добра</td>\n      <td>вкусные печеньки</td>\n      <td></td>\n    </tr>\n    <tr>\n      <th>...</th>\n      <td>...</td>\n      <td>...</td>\n      <td>...</td>\n      <td>...</td>\n      <td>...</td>\n      <td>...</td>\n      <td>...</td>\n      <td>...</td>\n      <td>...</td>\n      <td>...</td>\n    </tr>\n    <tr>\n      <th>3526</th>\n      <td>ні</td>\n      <td>Утренний брифинг Минобороны России:  ▪️ россий...</td>\n      <td>0</td>\n      <td>утренний брифинг минобороны россии   российски...</td>\n      <td>утренний брифинг минобороны россия    российск...</td>\n      <td>брифинг продвинулись, силы продвинулись, групп...</td>\n      <td>продвинулись за ночь, продвинулись на км, разв...</td>\n      <td>брифинг Минобороны, наступление бригады подраз...</td>\n      <td>Утренний брифинг, российские силы, украинской ...</td>\n      <td></td>\n    </tr>\n    <tr>\n      <th>3527</th>\n      <td>ні</td>\n      <td>И понеслась мазепинщино-петлюровщино-бандеровщ...</td>\n      <td>0</td>\n      <td>и понеслась мазепинщинопетлюровщинобандеровщина</td>\n      <td>и понестись мазепинщинопетлюровщинобандеровщина</td>\n      <td></td>\n      <td>понеслась петлюровщино, понеслась -, понеслась...</td>\n      <td></td>\n      <td></td>\n      <td></td>\n    </tr>\n    <tr>\n      <th>3528</th>\n      <td>ні</td>\n      <td>Наш соратник по русскому движению Алексей Сели...</td>\n      <td>0</td>\n      <td>наш соратник по русскому движению алексей сели...</td>\n      <td>наш соратник по русский движение алексей селив...</td>\n      <td>соратник вместе прибыл</td>\n      <td>прибыл в область, создавать органы, создавать ...</td>\n      <td>соратник русскому движению, армией России, орг...</td>\n      <td>русскому движению, Запорожскую область, мирной...</td>\n      <td></td>\n    </tr>\n    <tr>\n      <th>3529</th>\n      <td>так</td>\n      <td>Хорошее видео от 4 бригады НМ ЛНР https://t.me...</td>\n      <td>1</td>\n      <td>хорошее видео от  бригады нм лнр  обработка по...</td>\n      <td>хороший видео от   бригада нм лнр   обработка ...</td>\n      <td></td>\n      <td></td>\n      <td>видео НМ бригады, бригады НМ, обработка позици...</td>\n      <td>Хорошее видео, пифтонными бомбами</td>\n      <td></td>\n    </tr>\n    <tr>\n      <th>3530</th>\n      <td>ні</td>\n      <td>Замоскворецкий районный суд Москвы отклонил ис...</td>\n      <td>0</td>\n      <td>замоскворецкий районный суд москвы отклонил ис...</td>\n      <td>замоскворецкий районный суд москва отклонить и...</td>\n      <td>суд отклонил</td>\n      <td>отклонил иск, отменить решение</td>\n      <td>суд Москвы, иск историка, иск РФ Минюсту, иск ...</td>\n      <td>Замоскворецкий суд, районный суд</td>\n      <td></td>\n    </tr>\n  </tbody>\n</table>\n<p>3531 rows × 10 columns</p>\n</div>"
     },
     "execution_count": 38,
     "metadata": {},
     "output_type": "execute_result"
    }
   ],
   "source": [
    "df_dehumanization"
   ],
   "metadata": {
    "collapsed": false,
    "pycharm": {
     "name": "#%%\n"
    }
   }
  },
  {
   "cell_type": "code",
   "execution_count": 33,
   "outputs": [],
   "source": [
    "from sklearn.model_selection import GridSearchCV\n",
    "from sklearn.metrics import accuracy_score, precision_score, recall_score, f1_score\n",
    "from sklearn.linear_model import LogisticRegression\n",
    "from sklearn.model_selection import train_test_split\n",
    "from sklearn.feature_extraction.text import TfidfVectorizer\n",
    "\n",
    "def get_logreg_best(col_list = ['text_lemmatized'], df=df_dehumanization, vectorizer = TfidfVectorizer(), random_state=42):\n",
    "    df.loc[:, 'merged_col'] = df[col_list].apply(lambda x: ' '.join(x.astype(str)), axis=1)\n",
    "    X_train_, X_test_, y_train, y_test = train_test_split(df[\"merged_col\"], df[\"label\"], test_size=0.2, random_state=random_state)\n",
    "    X_train = vectorizer.fit_transform(X_train_)\n",
    "    X_test = vectorizer.transform(X_test_)\n",
    "    param_grid = {'C': [0.001, 0.01, 0.1, 1, 10, 100], 'penalty': ['l1', 'l2']}\n",
    "    grid_search = GridSearchCV(LogisticRegression(solver='liblinear', random_state=random_state), param_grid, cv=5)\n",
    "    grid_search.fit(X_train, y_train)\n",
    "    logreg_best = grid_search.best_estimator_\n",
    "    logreg_best.fit(X_train, y_train)\n",
    "    y_pred = logreg_best.predict(X_test)\n",
    "    accuracy = accuracy_score(y_test, y_pred)\n",
    "    precision = precision_score(y_test, y_pred)\n",
    "    recall = recall_score(y_test, y_pred)\n",
    "    f1 = f1_score(y_test, y_pred)\n",
    "\n",
    "    print(f\"Accuracy: {accuracy:.2f}\")\n",
    "    print(f\"Precision: {precision:.2f}\")\n",
    "    print(f\"Recall: {recall:.2f}\")\n",
    "    print(f\"F1 Score: {f1:.2f}\")\n",
    "\n",
    "    best_params = logreg_best.get_params()\n",
    "    print(\"Best hyperparameters for the logistic regression model:\")\n",
    "    for param, value in best_params.items():\n",
    "        print(f\"{param}: {value}\")"
   ],
   "metadata": {
    "collapsed": false,
    "pycharm": {
     "name": "#%%\n"
    }
   }
  },
  {
   "cell_type": "code",
   "execution_count": 34,
   "outputs": [
    {
     "name": "stderr",
     "output_type": "stream",
     "text": [
      "/var/folders/2w/hygxgpp5353_dy_tk88gw2100000gn/T/ipykernel_23733/85191952.py:8: SettingWithCopyWarning: \n",
      "A value is trying to be set on a copy of a slice from a DataFrame.\n",
      "Try using .loc[row_indexer,col_indexer] = value instead\n",
      "\n",
      "See the caveats in the documentation: https://pandas.pydata.org/pandas-docs/stable/user_guide/indexing.html#returning-a-view-versus-a-copy\n",
      "  df.loc[:, 'merged_col'] = df[col_list].apply(lambda x: ' '.join(x.astype(str)), axis=1)\n",
      "/Users/katerynaburovova/PycharmProjects/dehumanization/lib/python3.10/site-packages/sklearn/svm/_base.py:1244: ConvergenceWarning: Liblinear failed to converge, increase the number of iterations.\n",
      "  warnings.warn(\n",
      "/Users/katerynaburovova/PycharmProjects/dehumanization/lib/python3.10/site-packages/sklearn/svm/_base.py:1244: ConvergenceWarning: Liblinear failed to converge, increase the number of iterations.\n",
      "  warnings.warn(\n",
      "/Users/katerynaburovova/PycharmProjects/dehumanization/lib/python3.10/site-packages/sklearn/svm/_base.py:1244: ConvergenceWarning: Liblinear failed to converge, increase the number of iterations.\n",
      "  warnings.warn(\n"
     ]
    },
    {
     "name": "stdout",
     "output_type": "stream",
     "text": [
      "Accuracy: 0.80\n",
      "Precision: 0.78\n",
      "Recall: 0.76\n",
      "F1 Score: 0.77\n",
      "Best hyperparameters for the logistic regression model:\n",
      "C: 10\n",
      "class_weight: None\n",
      "dual: False\n",
      "fit_intercept: True\n",
      "intercept_scaling: 1\n",
      "l1_ratio: None\n",
      "max_iter: 100\n",
      "multi_class: auto\n",
      "n_jobs: None\n",
      "penalty: l1\n",
      "random_state: 42\n",
      "solver: liblinear\n",
      "tol: 0.0001\n",
      "verbose: 0\n",
      "warm_start: False\n"
     ]
    }
   ],
   "source": [
    "get_logreg_best()"
   ],
   "metadata": {
    "collapsed": false,
    "pycharm": {
     "name": "#%%\n"
    }
   }
  },
  {
   "cell_type": "code",
   "execution_count": 35,
   "outputs": [
    {
     "name": "stderr",
     "output_type": "stream",
     "text": [
      "/var/folders/2w/hygxgpp5353_dy_tk88gw2100000gn/T/ipykernel_23733/85191952.py:8: SettingWithCopyWarning: \n",
      "A value is trying to be set on a copy of a slice from a DataFrame.\n",
      "Try using .loc[row_indexer,col_indexer] = value instead\n",
      "\n",
      "See the caveats in the documentation: https://pandas.pydata.org/pandas-docs/stable/user_guide/indexing.html#returning-a-view-versus-a-copy\n",
      "  df.loc[:, 'merged_col'] = df[col_list].apply(lambda x: ' '.join(x.astype(str)), axis=1)\n",
      "/Users/katerynaburovova/PycharmProjects/dehumanization/lib/python3.10/site-packages/sklearn/svm/_base.py:1244: ConvergenceWarning: Liblinear failed to converge, increase the number of iterations.\n",
      "  warnings.warn(\n",
      "/Users/katerynaburovova/PycharmProjects/dehumanization/lib/python3.10/site-packages/sklearn/svm/_base.py:1244: ConvergenceWarning: Liblinear failed to converge, increase the number of iterations.\n",
      "  warnings.warn(\n",
      "/Users/katerynaburovova/PycharmProjects/dehumanization/lib/python3.10/site-packages/sklearn/svm/_base.py:1244: ConvergenceWarning: Liblinear failed to converge, increase the number of iterations.\n",
      "  warnings.warn(\n"
     ]
    },
    {
     "name": "stdout",
     "output_type": "stream",
     "text": [
      "Accuracy: 0.80\n",
      "Precision: 0.79\n",
      "Recall: 0.77\n",
      "F1 Score: 0.78\n",
      "Best hyperparameters for the logistic regression model:\n",
      "C: 10\n",
      "class_weight: None\n",
      "dual: False\n",
      "fit_intercept: True\n",
      "intercept_scaling: 1\n",
      "l1_ratio: None\n",
      "max_iter: 100\n",
      "multi_class: auto\n",
      "n_jobs: None\n",
      "penalty: l1\n",
      "random_state: 42\n",
      "solver: liblinear\n",
      "tol: 0.0001\n",
      "verbose: 0\n",
      "warm_start: False\n"
     ]
    },
    {
     "name": "stderr",
     "output_type": "stream",
     "text": [
      "/Users/katerynaburovova/PycharmProjects/dehumanization/lib/python3.10/site-packages/sklearn/svm/_base.py:1244: ConvergenceWarning: Liblinear failed to converge, increase the number of iterations.\n",
      "  warnings.warn(\n"
     ]
    }
   ],
   "source": [
    "get_logreg_best(col_list=['text_clean'])"
   ],
   "metadata": {
    "collapsed": false,
    "pycharm": {
     "name": "#%%\n"
    }
   }
  },
  {
   "cell_type": "code",
   "execution_count": 36,
   "outputs": [
    {
     "name": "stderr",
     "output_type": "stream",
     "text": [
      "/var/folders/2w/hygxgpp5353_dy_tk88gw2100000gn/T/ipykernel_23733/85191952.py:8: SettingWithCopyWarning: \n",
      "A value is trying to be set on a copy of a slice from a DataFrame.\n",
      "Try using .loc[row_indexer,col_indexer] = value instead\n",
      "\n",
      "See the caveats in the documentation: https://pandas.pydata.org/pandas-docs/stable/user_guide/indexing.html#returning-a-view-versus-a-copy\n",
      "  df.loc[:, 'merged_col'] = df[col_list].apply(lambda x: ' '.join(x.astype(str)), axis=1)\n",
      "/Users/katerynaburovova/PycharmProjects/dehumanization/lib/python3.10/site-packages/sklearn/svm/_base.py:1244: ConvergenceWarning: Liblinear failed to converge, increase the number of iterations.\n",
      "  warnings.warn(\n"
     ]
    },
    {
     "name": "stdout",
     "output_type": "stream",
     "text": [
      "Accuracy: 0.65\n",
      "Precision: 0.67\n",
      "Recall: 0.42\n",
      "F1 Score: 0.52\n",
      "Best hyperparameters for the logistic regression model:\n",
      "C: 1\n",
      "class_weight: None\n",
      "dual: False\n",
      "fit_intercept: True\n",
      "intercept_scaling: 1\n",
      "l1_ratio: None\n",
      "max_iter: 100\n",
      "multi_class: auto\n",
      "n_jobs: None\n",
      "penalty: l2\n",
      "random_state: 42\n",
      "solver: liblinear\n",
      "tol: 0.0001\n",
      "verbose: 0\n",
      "warm_start: False\n"
     ]
    },
    {
     "name": "stderr",
     "output_type": "stream",
     "text": [
      "/Users/katerynaburovova/PycharmProjects/dehumanization/lib/python3.10/site-packages/sklearn/svm/_base.py:1244: ConvergenceWarning: Liblinear failed to converge, increase the number of iterations.\n",
      "  warnings.warn(\n"
     ]
    }
   ],
   "source": [
    "get_logreg_best(col_list=['core_noun_verb'])"
   ],
   "metadata": {
    "collapsed": false,
    "pycharm": {
     "name": "#%%\n"
    }
   }
  },
  {
   "cell_type": "code",
   "execution_count": 37,
   "outputs": [
    {
     "name": "stderr",
     "output_type": "stream",
     "text": [
      "/var/folders/2w/hygxgpp5353_dy_tk88gw2100000gn/T/ipykernel_23733/85191952.py:8: SettingWithCopyWarning: \n",
      "A value is trying to be set on a copy of a slice from a DataFrame.\n",
      "Try using .loc[row_indexer,col_indexer] = value instead\n",
      "\n",
      "See the caveats in the documentation: https://pandas.pydata.org/pandas-docs/stable/user_guide/indexing.html#returning-a-view-versus-a-copy\n",
      "  df.loc[:, 'merged_col'] = df[col_list].apply(lambda x: ' '.join(x.astype(str)), axis=1)\n",
      "/Users/katerynaburovova/PycharmProjects/dehumanization/lib/python3.10/site-packages/sklearn/svm/_base.py:1244: ConvergenceWarning: Liblinear failed to converge, increase the number of iterations.\n",
      "  warnings.warn(\n"
     ]
    },
    {
     "name": "stdout",
     "output_type": "stream",
     "text": [
      "Accuracy: 0.62\n",
      "Precision: 0.58\n",
      "Recall: 0.50\n",
      "F1 Score: 0.54\n",
      "Best hyperparameters for the logistic regression model:\n",
      "C: 10\n",
      "class_weight: None\n",
      "dual: False\n",
      "fit_intercept: True\n",
      "intercept_scaling: 1\n",
      "l1_ratio: None\n",
      "max_iter: 100\n",
      "multi_class: auto\n",
      "n_jobs: None\n",
      "penalty: l2\n",
      "random_state: 42\n",
      "solver: liblinear\n",
      "tol: 0.0001\n",
      "verbose: 0\n",
      "warm_start: False\n"
     ]
    },
    {
     "name": "stderr",
     "output_type": "stream",
     "text": [
      "/Users/katerynaburovova/PycharmProjects/dehumanization/lib/python3.10/site-packages/sklearn/svm/_base.py:1244: ConvergenceWarning: Liblinear failed to converge, increase the number of iterations.\n",
      "  warnings.warn(\n"
     ]
    }
   ],
   "source": [
    "get_logreg_best(col_list=['verb_obl_obj'])"
   ],
   "metadata": {
    "collapsed": false,
    "pycharm": {
     "name": "#%%\n"
    }
   }
  },
  {
   "cell_type": "code",
   "execution_count": 38,
   "outputs": [
    {
     "name": "stderr",
     "output_type": "stream",
     "text": [
      "/var/folders/2w/hygxgpp5353_dy_tk88gw2100000gn/T/ipykernel_23733/85191952.py:8: SettingWithCopyWarning: \n",
      "A value is trying to be set on a copy of a slice from a DataFrame.\n",
      "Try using .loc[row_indexer,col_indexer] = value instead\n",
      "\n",
      "See the caveats in the documentation: https://pandas.pydata.org/pandas-docs/stable/user_guide/indexing.html#returning-a-view-versus-a-copy\n",
      "  df.loc[:, 'merged_col'] = df[col_list].apply(lambda x: ' '.join(x.astype(str)), axis=1)\n",
      "/Users/katerynaburovova/PycharmProjects/dehumanization/lib/python3.10/site-packages/sklearn/svm/_base.py:1244: ConvergenceWarning: Liblinear failed to converge, increase the number of iterations.\n",
      "  warnings.warn(\n"
     ]
    },
    {
     "name": "stdout",
     "output_type": "stream",
     "text": [
      "Accuracy: 0.67\n",
      "Precision: 0.68\n",
      "Recall: 0.50\n",
      "F1 Score: 0.58\n",
      "Best hyperparameters for the logistic regression model:\n",
      "C: 10\n",
      "class_weight: None\n",
      "dual: False\n",
      "fit_intercept: True\n",
      "intercept_scaling: 1\n",
      "l1_ratio: None\n",
      "max_iter: 100\n",
      "multi_class: auto\n",
      "n_jobs: None\n",
      "penalty: l2\n",
      "random_state: 42\n",
      "solver: liblinear\n",
      "tol: 0.0001\n",
      "verbose: 0\n",
      "warm_start: False\n"
     ]
    },
    {
     "name": "stderr",
     "output_type": "stream",
     "text": [
      "/Users/katerynaburovova/PycharmProjects/dehumanization/lib/python3.10/site-packages/sklearn/svm/_base.py:1244: ConvergenceWarning: Liblinear failed to converge, increase the number of iterations.\n",
      "  warnings.warn(\n"
     ]
    }
   ],
   "source": [
    "get_logreg_best(col_list=['nmod'])\n"
   ],
   "metadata": {
    "collapsed": false,
    "pycharm": {
     "name": "#%%\n"
    }
   }
  },
  {
   "cell_type": "code",
   "execution_count": 39,
   "outputs": [
    {
     "name": "stderr",
     "output_type": "stream",
     "text": [
      "/var/folders/2w/hygxgpp5353_dy_tk88gw2100000gn/T/ipykernel_23733/85191952.py:8: SettingWithCopyWarning: \n",
      "A value is trying to be set on a copy of a slice from a DataFrame.\n",
      "Try using .loc[row_indexer,col_indexer] = value instead\n",
      "\n",
      "See the caveats in the documentation: https://pandas.pydata.org/pandas-docs/stable/user_guide/indexing.html#returning-a-view-versus-a-copy\n",
      "  df.loc[:, 'merged_col'] = df[col_list].apply(lambda x: ' '.join(x.astype(str)), axis=1)\n",
      "/Users/katerynaburovova/PycharmProjects/dehumanization/lib/python3.10/site-packages/sklearn/svm/_base.py:1244: ConvergenceWarning: Liblinear failed to converge, increase the number of iterations.\n",
      "  warnings.warn(\n",
      "/Users/katerynaburovova/PycharmProjects/dehumanization/lib/python3.10/site-packages/sklearn/svm/_base.py:1244: ConvergenceWarning: Liblinear failed to converge, increase the number of iterations.\n",
      "  warnings.warn(\n"
     ]
    },
    {
     "name": "stdout",
     "output_type": "stream",
     "text": [
      "Accuracy: 0.59\n",
      "Precision: 0.56\n",
      "Recall: 0.41\n",
      "F1 Score: 0.47\n",
      "Best hyperparameters for the logistic regression model:\n",
      "C: 100\n",
      "class_weight: None\n",
      "dual: False\n",
      "fit_intercept: True\n",
      "intercept_scaling: 1\n",
      "l1_ratio: None\n",
      "max_iter: 100\n",
      "multi_class: auto\n",
      "n_jobs: None\n",
      "penalty: l2\n",
      "random_state: 42\n",
      "solver: liblinear\n",
      "tol: 0.0001\n",
      "verbose: 0\n",
      "warm_start: False\n"
     ]
    },
    {
     "name": "stderr",
     "output_type": "stream",
     "text": [
      "/Users/katerynaburovova/PycharmProjects/dehumanization/lib/python3.10/site-packages/sklearn/svm/_base.py:1244: ConvergenceWarning: Liblinear failed to converge, increase the number of iterations.\n",
      "  warnings.warn(\n"
     ]
    }
   ],
   "source": [
    "get_logreg_best(col_list=['amod'])"
   ],
   "metadata": {
    "collapsed": false,
    "pycharm": {
     "name": "#%%\n"
    }
   }
  },
  {
   "cell_type": "code",
   "execution_count": 40,
   "outputs": [
    {
     "name": "stderr",
     "output_type": "stream",
     "text": [
      "/var/folders/2w/hygxgpp5353_dy_tk88gw2100000gn/T/ipykernel_23733/85191952.py:8: SettingWithCopyWarning: \n",
      "A value is trying to be set on a copy of a slice from a DataFrame.\n",
      "Try using .loc[row_indexer,col_indexer] = value instead\n",
      "\n",
      "See the caveats in the documentation: https://pandas.pydata.org/pandas-docs/stable/user_guide/indexing.html#returning-a-view-versus-a-copy\n",
      "  df.loc[:, 'merged_col'] = df[col_list].apply(lambda x: ' '.join(x.astype(str)), axis=1)\n",
      "/Users/katerynaburovova/PycharmProjects/dehumanization/lib/python3.10/site-packages/sklearn/svm/_base.py:1244: ConvergenceWarning: Liblinear failed to converge, increase the number of iterations.\n",
      "  warnings.warn(\n",
      "/Users/katerynaburovova/PycharmProjects/dehumanization/lib/python3.10/site-packages/sklearn/svm/_base.py:1244: ConvergenceWarning: Liblinear failed to converge, increase the number of iterations.\n",
      "  warnings.warn(\n"
     ]
    },
    {
     "name": "stdout",
     "output_type": "stream",
     "text": [
      "Accuracy: 0.71\n",
      "Precision: 0.69\n",
      "Recall: 0.65\n",
      "F1 Score: 0.67\n",
      "Best hyperparameters for the logistic regression model:\n",
      "C: 10\n",
      "class_weight: None\n",
      "dual: False\n",
      "fit_intercept: True\n",
      "intercept_scaling: 1\n",
      "l1_ratio: None\n",
      "max_iter: 100\n",
      "multi_class: auto\n",
      "n_jobs: None\n",
      "penalty: l2\n",
      "random_state: 42\n",
      "solver: liblinear\n",
      "tol: 0.0001\n",
      "verbose: 0\n",
      "warm_start: False\n"
     ]
    },
    {
     "name": "stderr",
     "output_type": "stream",
     "text": [
      "/Users/katerynaburovova/PycharmProjects/dehumanization/lib/python3.10/site-packages/sklearn/svm/_base.py:1244: ConvergenceWarning: Liblinear failed to converge, increase the number of iterations.\n",
      "  warnings.warn(\n"
     ]
    }
   ],
   "source": [
    "get_logreg_best(col_list=['nmod', 'verb_obl_obj'])"
   ],
   "metadata": {
    "collapsed": false,
    "pycharm": {
     "name": "#%%\n"
    }
   }
  },
  {
   "cell_type": "code",
   "execution_count": 41,
   "outputs": [
    {
     "name": "stderr",
     "output_type": "stream",
     "text": [
      "/var/folders/2w/hygxgpp5353_dy_tk88gw2100000gn/T/ipykernel_23733/85191952.py:8: SettingWithCopyWarning: \n",
      "A value is trying to be set on a copy of a slice from a DataFrame.\n",
      "Try using .loc[row_indexer,col_indexer] = value instead\n",
      "\n",
      "See the caveats in the documentation: https://pandas.pydata.org/pandas-docs/stable/user_guide/indexing.html#returning-a-view-versus-a-copy\n",
      "  df.loc[:, 'merged_col'] = df[col_list].apply(lambda x: ' '.join(x.astype(str)), axis=1)\n",
      "/Users/katerynaburovova/PycharmProjects/dehumanization/lib/python3.10/site-packages/sklearn/svm/_base.py:1244: ConvergenceWarning: Liblinear failed to converge, increase the number of iterations.\n",
      "  warnings.warn(\n",
      "/Users/katerynaburovova/PycharmProjects/dehumanization/lib/python3.10/site-packages/sklearn/svm/_base.py:1244: ConvergenceWarning: Liblinear failed to converge, increase the number of iterations.\n",
      "  warnings.warn(\n"
     ]
    },
    {
     "name": "stdout",
     "output_type": "stream",
     "text": [
      "Accuracy: 0.77\n",
      "Precision: 0.77\n",
      "Recall: 0.67\n",
      "F1 Score: 0.72\n",
      "Best hyperparameters for the logistic regression model:\n",
      "C: 10\n",
      "class_weight: None\n",
      "dual: False\n",
      "fit_intercept: True\n",
      "intercept_scaling: 1\n",
      "l1_ratio: None\n",
      "max_iter: 100\n",
      "multi_class: auto\n",
      "n_jobs: None\n",
      "penalty: l1\n",
      "random_state: 42\n",
      "solver: liblinear\n",
      "tol: 0.0001\n",
      "verbose: 0\n",
      "warm_start: False\n"
     ]
    }
   ],
   "source": [
    "get_logreg_best(col_list=['nmod', 'verb_obl_obj', 'core_noun_verb'])"
   ],
   "metadata": {
    "collapsed": false,
    "pycharm": {
     "name": "#%%\n"
    }
   }
  },
  {
   "cell_type": "code",
   "execution_count": 42,
   "outputs": [
    {
     "name": "stderr",
     "output_type": "stream",
     "text": [
      "/var/folders/2w/hygxgpp5353_dy_tk88gw2100000gn/T/ipykernel_23733/85191952.py:8: SettingWithCopyWarning: \n",
      "A value is trying to be set on a copy of a slice from a DataFrame.\n",
      "Try using .loc[row_indexer,col_indexer] = value instead\n",
      "\n",
      "See the caveats in the documentation: https://pandas.pydata.org/pandas-docs/stable/user_guide/indexing.html#returning-a-view-versus-a-copy\n",
      "  df.loc[:, 'merged_col'] = df[col_list].apply(lambda x: ' '.join(x.astype(str)), axis=1)\n",
      "/Users/katerynaburovova/PycharmProjects/dehumanization/lib/python3.10/site-packages/sklearn/svm/_base.py:1244: ConvergenceWarning: Liblinear failed to converge, increase the number of iterations.\n",
      "  warnings.warn(\n",
      "/Users/katerynaburovova/PycharmProjects/dehumanization/lib/python3.10/site-packages/sklearn/svm/_base.py:1244: ConvergenceWarning: Liblinear failed to converge, increase the number of iterations.\n",
      "  warnings.warn(\n"
     ]
    },
    {
     "name": "stdout",
     "output_type": "stream",
     "text": [
      "Accuracy: 0.76\n",
      "Precision: 0.77\n",
      "Recall: 0.66\n",
      "F1 Score: 0.71\n",
      "Best hyperparameters for the logistic regression model:\n",
      "C: 10\n",
      "class_weight: None\n",
      "dual: False\n",
      "fit_intercept: True\n",
      "intercept_scaling: 1\n",
      "l1_ratio: None\n",
      "max_iter: 100\n",
      "multi_class: auto\n",
      "n_jobs: None\n",
      "penalty: l1\n",
      "random_state: 42\n",
      "solver: liblinear\n",
      "tol: 0.0001\n",
      "verbose: 0\n",
      "warm_start: False\n"
     ]
    }
   ],
   "source": [
    "get_logreg_best(col_list=['nmod', 'verb_obl_obj', 'core_noun_verb', 'amod'])\n"
   ],
   "metadata": {
    "collapsed": false,
    "pycharm": {
     "name": "#%%\n"
    }
   }
  },
  {
   "cell_type": "code",
   "execution_count": 43,
   "outputs": [
    {
     "name": "stderr",
     "output_type": "stream",
     "text": [
      "/var/folders/2w/hygxgpp5353_dy_tk88gw2100000gn/T/ipykernel_23733/85191952.py:8: SettingWithCopyWarning: \n",
      "A value is trying to be set on a copy of a slice from a DataFrame.\n",
      "Try using .loc[row_indexer,col_indexer] = value instead\n",
      "\n",
      "See the caveats in the documentation: https://pandas.pydata.org/pandas-docs/stable/user_guide/indexing.html#returning-a-view-versus-a-copy\n",
      "  df.loc[:, 'merged_col'] = df[col_list].apply(lambda x: ' '.join(x.astype(str)), axis=1)\n",
      "/Users/katerynaburovova/PycharmProjects/dehumanization/lib/python3.10/site-packages/sklearn/svm/_base.py:1244: ConvergenceWarning: Liblinear failed to converge, increase the number of iterations.\n",
      "  warnings.warn(\n",
      "/Users/katerynaburovova/PycharmProjects/dehumanization/lib/python3.10/site-packages/sklearn/svm/_base.py:1244: ConvergenceWarning: Liblinear failed to converge, increase the number of iterations.\n",
      "  warnings.warn(\n",
      "/Users/katerynaburovova/PycharmProjects/dehumanization/lib/python3.10/site-packages/sklearn/svm/_base.py:1244: ConvergenceWarning: Liblinear failed to converge, increase the number of iterations.\n",
      "  warnings.warn(\n"
     ]
    },
    {
     "name": "stdout",
     "output_type": "stream",
     "text": [
      "Accuracy: 0.80\n",
      "Precision: 0.80\n",
      "Recall: 0.74\n",
      "F1 Score: 0.77\n",
      "Best hyperparameters for the logistic regression model:\n",
      "C: 10\n",
      "class_weight: None\n",
      "dual: False\n",
      "fit_intercept: True\n",
      "intercept_scaling: 1\n",
      "l1_ratio: None\n",
      "max_iter: 100\n",
      "multi_class: auto\n",
      "n_jobs: None\n",
      "penalty: l1\n",
      "random_state: 42\n",
      "solver: liblinear\n",
      "tol: 0.0001\n",
      "verbose: 0\n",
      "warm_start: False\n"
     ]
    },
    {
     "name": "stderr",
     "output_type": "stream",
     "text": [
      "/Users/katerynaburovova/PycharmProjects/dehumanization/lib/python3.10/site-packages/sklearn/svm/_base.py:1244: ConvergenceWarning: Liblinear failed to converge, increase the number of iterations.\n",
      "  warnings.warn(\n"
     ]
    }
   ],
   "source": [
    "get_logreg_best(col_list=['nmod', 'verb_obl_obj', 'core_noun_verb', 'amod', 'text_clean'])"
   ],
   "metadata": {
    "collapsed": false,
    "pycharm": {
     "name": "#%%\n"
    }
   }
  },
  {
   "cell_type": "code",
   "execution_count": 44,
   "outputs": [
    {
     "name": "stderr",
     "output_type": "stream",
     "text": [
      "/var/folders/2w/hygxgpp5353_dy_tk88gw2100000gn/T/ipykernel_23733/85191952.py:8: SettingWithCopyWarning: \n",
      "A value is trying to be set on a copy of a slice from a DataFrame.\n",
      "Try using .loc[row_indexer,col_indexer] = value instead\n",
      "\n",
      "See the caveats in the documentation: https://pandas.pydata.org/pandas-docs/stable/user_guide/indexing.html#returning-a-view-versus-a-copy\n",
      "  df.loc[:, 'merged_col'] = df[col_list].apply(lambda x: ' '.join(x.astype(str)), axis=1)\n"
     ]
    },
    {
     "name": "stdout",
     "output_type": "stream",
     "text": [
      "Accuracy: 0.81\n",
      "Precision: 0.81\n",
      "Recall: 0.77\n",
      "F1 Score: 0.79\n",
      "Best hyperparameters for the logistic regression model:\n",
      "C: 10\n",
      "class_weight: None\n",
      "dual: False\n",
      "fit_intercept: True\n",
      "intercept_scaling: 1\n",
      "l1_ratio: None\n",
      "max_iter: 100\n",
      "multi_class: auto\n",
      "n_jobs: None\n",
      "penalty: l1\n",
      "random_state: 42\n",
      "solver: liblinear\n",
      "tol: 0.0001\n",
      "verbose: 0\n",
      "warm_start: False\n"
     ]
    }
   ],
   "source": [
    "get_logreg_best(col_list=['nmod', 'verb_obl_obj', 'core_noun_verb', 'amod', 'text_lemmatized', 'text_clean'])"
   ],
   "metadata": {
    "collapsed": false,
    "pycharm": {
     "name": "#%%\n"
    }
   }
  },
  {
   "cell_type": "code",
   "execution_count": 45,
   "outputs": [
    {
     "data": {
      "text/plain": "Index(['Dehumanization', 'text', 'label', 'text_clean', 'text_lemmatized',\n       'core_noun_verb', 'verb_obl_obj', 'nmod', 'amod', 'comp', 'merged_col'],\n      dtype='object')"
     },
     "execution_count": 45,
     "metadata": {},
     "output_type": "execute_result"
    }
   ],
   "source": [
    "df_dehumanization.columns"
   ],
   "metadata": {
    "collapsed": false,
    "pycharm": {
     "name": "#%%\n"
    }
   }
  },
  {
   "cell_type": "markdown",
   "source": [
    "## Log Reg over lemmatized text plus (or exclusively) collocations (as separate features)"
   ],
   "metadata": {
    "collapsed": false,
    "pycharm": {
     "name": "#%% md\n"
    }
   }
  },
  {
   "cell_type": "code",
   "execution_count": 62,
   "outputs": [],
   "source": [
    "from scipy.sparse import hstack\n",
    "from sklearn.pipeline import Pipeline\n",
    "from sklearn.base import BaseEstimator, TransformerMixin\n",
    "\n",
    "class MultiColumnTfidfVectorizer(BaseEstimator, TransformerMixin):\n",
    "    def __init__(self, columns, **kwargs):\n",
    "        self.columns = columns\n",
    "        self.vectorizers = [TfidfVectorizer(**kwargs) for _ in columns]\n",
    "        self.fitted_models = []\n",
    "\n",
    "    def fit(self, X, y=None):\n",
    "        for col, vec in zip(self.columns, self.vectorizers):\n",
    "            vec.fit(X[col])\n",
    "            self.fitted_models.append(vec.fit(X[col]))\n",
    "        return self\n",
    "\n",
    "    def transform(self, X):\n",
    "        features = []\n",
    "        for col, vec in zip(self.columns, self.vectorizers):\n",
    "            features.append(vec.transform(X[col]))\n",
    "        return hstack(features)\n",
    "\n",
    "\n",
    "def train_logistic_regression(data, text_columns, label_column, random_state=42):\n",
    "    X_train, X_test, y_train, y_test = train_test_split(data[text_columns], data[label_column], test_size=0.2, random_state=random_state)\n",
    "    pipeline = Pipeline([\n",
    "        ('vectorizer', MultiColumnTfidfVectorizer(columns=text_columns)),\n",
    "        ('regressor', LogisticRegression(solver='liblinear', random_state=random_state, max_iter=100))\n",
    "    ])\n",
    "\n",
    "    param_grid = {\n",
    "        'regressor__fit_intercept': [True, False],\n",
    "        'regressor__C': [0.001, 0.01, 0.1, 0.5, 1, 2, 10, 100],\n",
    "        'regressor__penalty': ['l1', 'l2']\n",
    "    }\n",
    "\n",
    "    grid_search = GridSearchCV(estimator=pipeline, param_grid=param_grid, cv=5, scoring='f1')\n",
    "    grid_search.fit(X_train, y_train.values.ravel())\n",
    "    logreg_best = grid_search.best_estimator_\n",
    "    logreg_best.fit(X_train, y_train)\n",
    "\n",
    "    y_pred = logreg_best.predict(X_test)\n",
    "    accuracy = accuracy_score(y_test, y_pred)\n",
    "    precision = precision_score(y_test, y_pred)\n",
    "    recall = recall_score(y_test, y_pred)\n",
    "    f1 = f1_score(y_test, y_pred)\n",
    "\n",
    "    print(f\"Accuracy: {accuracy:.2f}\")\n",
    "    print(f\"Precision: {precision:.2f}\")\n",
    "    print(f\"Recall: {recall:.2f}\")\n",
    "    print(f\"F1 Score: {f1:.2f}\")\n",
    "\n",
    "    return logreg_best"
   ],
   "metadata": {
    "collapsed": false,
    "pycharm": {
     "name": "#%%\n"
    }
   }
  },
  {
   "cell_type": "code",
   "execution_count": 63,
   "outputs": [],
   "source": [
    "text_columns = ['nmod', 'verb_obl_obj']\n",
    "label_column = ['label']"
   ],
   "metadata": {
    "collapsed": false,
    "pycharm": {
     "name": "#%%\n"
    }
   }
  },
  {
   "cell_type": "code",
   "execution_count": 64,
   "outputs": [
    {
     "name": "stderr",
     "output_type": "stream",
     "text": [
      "/Users/katerynaburovova/PycharmProjects/dehumanization/lib/python3.10/site-packages/sklearn/svm/_base.py:1244: ConvergenceWarning: Liblinear failed to converge, increase the number of iterations.\n",
      "  warnings.warn(\n",
      "/Users/katerynaburovova/PycharmProjects/dehumanization/lib/python3.10/site-packages/sklearn/svm/_base.py:1244: ConvergenceWarning: Liblinear failed to converge, increase the number of iterations.\n",
      "  warnings.warn(\n",
      "/Users/katerynaburovova/PycharmProjects/dehumanization/lib/python3.10/site-packages/sklearn/svm/_base.py:1244: ConvergenceWarning: Liblinear failed to converge, increase the number of iterations.\n",
      "  warnings.warn(\n",
      "/Users/katerynaburovova/PycharmProjects/dehumanization/lib/python3.10/site-packages/sklearn/svm/_base.py:1244: ConvergenceWarning: Liblinear failed to converge, increase the number of iterations.\n",
      "  warnings.warn(\n",
      "/Users/katerynaburovova/PycharmProjects/dehumanization/lib/python3.10/site-packages/sklearn/svm/_base.py:1244: ConvergenceWarning: Liblinear failed to converge, increase the number of iterations.\n",
      "  warnings.warn(\n",
      "/Users/katerynaburovova/PycharmProjects/dehumanization/lib/python3.10/site-packages/sklearn/svm/_base.py:1244: ConvergenceWarning: Liblinear failed to converge, increase the number of iterations.\n",
      "  warnings.warn(\n"
     ]
    },
    {
     "name": "stdout",
     "output_type": "stream",
     "text": [
      "Accuracy: 0.69\n",
      "Precision: 0.64\n",
      "Recall: 0.70\n",
      "F1 Score: 0.67\n",
      "CPU times: user 1min 9s, sys: 35.9 s, total: 1min 45s\n",
      "Wall time: 36.2 s\n"
     ]
    },
    {
     "name": "stderr",
     "output_type": "stream",
     "text": [
      "/Users/katerynaburovova/PycharmProjects/dehumanization/lib/python3.10/site-packages/sklearn/utils/validation.py:1143: DataConversionWarning: A column-vector y was passed when a 1d array was expected. Please change the shape of y to (n_samples, ), for example using ravel().\n",
      "  y = column_or_1d(y, warn=True)\n"
     ]
    }
   ],
   "source": [
    "%%time\n",
    "trained_pipeline = train_logistic_regression(df_dehumanization, text_columns, label_column)"
   ],
   "metadata": {
    "collapsed": false,
    "pycharm": {
     "name": "#%%\n"
    }
   }
  },
  {
   "cell_type": "code",
   "execution_count": 65,
   "outputs": [
    {
     "name": "stdout",
     "output_type": "stream",
     "text": [
      "Accuracy: 0.80\n",
      "Precision: 0.80\n",
      "Recall: 0.73\n",
      "F1 Score: 0.76\n",
      "CPU times: user 2min 8s, sys: 1min 7s, total: 3min 16s\n",
      "Wall time: 55.1 s\n"
     ]
    },
    {
     "name": "stderr",
     "output_type": "stream",
     "text": [
      "/Users/katerynaburovova/PycharmProjects/dehumanization/lib/python3.10/site-packages/sklearn/utils/validation.py:1143: DataConversionWarning: A column-vector y was passed when a 1d array was expected. Please change the shape of y to (n_samples, ), for example using ravel().\n",
      "  y = column_or_1d(y, warn=True)\n"
     ]
    }
   ],
   "source": [
    "%%time\n",
    "text_columns = ['nmod', 'verb_obl_obj', 'core_noun_verb', 'amod', 'text_lemmatized', 'text_clean']\n",
    "\n",
    "trained_pipeline = train_logistic_regression(df_dehumanization, text_columns, label_column)"
   ],
   "metadata": {
    "collapsed": false,
    "pycharm": {
     "name": "#%%\n"
    }
   }
  },
  {
   "cell_type": "markdown",
   "source": [
    "## Feature importance"
   ],
   "metadata": {
    "collapsed": false,
    "pycharm": {
     "name": "#%% md\n"
    }
   }
  },
  {
   "cell_type": "markdown",
   "source": [
    "### Feature importance of unique vectors"
   ],
   "metadata": {
    "collapsed": false,
    "pycharm": {
     "name": "#%% md\n"
    }
   }
  },
  {
   "cell_type": "code",
   "execution_count": 66,
   "outputs": [],
   "source": [
    "def get_feature_names(vectorizer):\n",
    "    feature_names = []\n",
    "    for col, vec in zip(vectorizer.columns, vectorizer.vectorizers):\n",
    "        feature_names.extend([f\"{col}_{f}\" for f in vec.get_feature_names_out()])\n",
    "    return feature_names"
   ],
   "metadata": {
    "collapsed": false,
    "pycharm": {
     "name": "#%%\n"
    }
   }
  },
  {
   "cell_type": "code",
   "execution_count": 70,
   "outputs": [],
   "source": [
    "import numpy as np\n",
    "def display_feature_importance(pipeline, n=10):\n",
    "    vectorizer = pipeline.named_steps['vectorizer']\n",
    "    classifier = pipeline.named_steps['regressor']\n",
    "    feature_names = get_feature_names(vectorizer)\n",
    "    coefficients = classifier.coef_[0]\n",
    "    sorted_indices = np.argsort(np.abs(coefficients))[::-1]\n",
    "    print(f\"Top {n} important features:\")\n",
    "    for i in sorted_indices[:n]:\n",
    "        print(f\"{feature_names[i]}: {coefficients[i]}\")"
   ],
   "metadata": {
    "collapsed": false,
    "pycharm": {
     "name": "#%%\n"
    }
   }
  },
  {
   "cell_type": "code",
   "execution_count": 71,
   "outputs": [
    {
     "name": "stdout",
     "output_type": "stream",
     "text": [
      "Top 10 important features:\n",
      "text_lemmatized_неонацист: 37.31732392323049\n",
      "text_lemmatized_укрорейха: 35.75365014764923\n",
      "text_lemmatized_укронацистов: 33.16137008466515\n",
      "text_lemmatized_укрорейх: 27.337412926848266\n",
      "text_lemmatized_салорейха: 23.34181189173052\n",
      "text_lemmatized_укронацистами: 22.64934496311819\n",
      "text_lemmatized_укронацистам: 21.71354974383657\n",
      "text_lemmatized_укронацистской: 20.22199264712063\n",
      "text_lemmatized_шайтан: 20.082047366734663\n",
      "text_lemmatized_неонацистский: 19.107502130826365\n"
     ]
    }
   ],
   "source": [
    "display_feature_importance(trained_pipeline)"
   ],
   "metadata": {
    "collapsed": false,
    "pycharm": {
     "name": "#%%\n"
    }
   }
  },
  {
   "cell_type": "code",
   "execution_count": 72,
   "outputs": [],
   "source": [
    "from sklearn.feature_extraction.text import TfidfVectorizer\n",
    "from sklearn.feature_selection import SelectKBest, chi2\n",
    "import pandas as pd\n",
    "\n",
    "tfidf_vectorizer = TfidfVectorizer(max_features=10000)\n",
    "\n",
    "top_features = pd.DataFrame()\n",
    "\n",
    "# looping over each text column and apply TF-IDF vectorization followed by chi-squared test\n",
    "for col in text_columns:\n",
    "    tfidf_features = tfidf_vectorizer.fit_transform(df_dehumanization[col])\n",
    "\n",
    "    # chi-squared test to select the top-k features with the lowest p-values\n",
    "    selector = SelectKBest(chi2, k=100)\n",
    "    selector.fit(tfidf_features, df_dehumanization['label'])\n",
    "    feature_scores = pd.DataFrame({\n",
    "        'feature': tfidf_vectorizer.get_feature_names_out(),\n",
    "        'p_value': selector.pvalues_,\n",
    "    })\n",
    "\n",
    "    # sorting the features by p-value and add the top-k features to the top_features\n",
    "    top_k_features = feature_scores.sort_values(by='p_value').head(100)['feature']\n",
    "    top_features[col] = top_k_features\n",
    "\n",
    "final_features = pd.concat([top_features[col] for col in top_features.columns]).unique().tolist()"
   ],
   "metadata": {
    "collapsed": false,
    "pycharm": {
     "name": "#%%\n"
    }
   }
  },
  {
   "cell_type": "code",
   "execution_count": 73,
   "outputs": [
    {
     "data": {
      "text/plain": "['укронацистов',\n 'укрорейха',\n 'неонацистов',\n 'чубайса',\n 'укропитеков',\n 'донецка',\n 'всушников',\n 'укронацисты',\n 'салорейха',\n 'президента',\n 'нацистов',\n 'москве',\n 'обстрела',\n 'хохлорейха',\n 'укронациста',\n 'шайкой',\n 'города',\n 'пропаганды',\n 'горловки',\n 'боевиков',\n 'свинособаки',\n 'оружия',\n 'коронавируса',\n 'укронацизма',\n 'неонацистами',\n 'мид',\n 'укрорейхом',\n 'наркоманов',\n 'свинорейха',\n 'хозяева',\n 'позициям',\n 'бригады',\n 'укронациков',\n 'укронацистами',\n 'подразделений',\n 'перемога',\n 'укрорейху',\n 'жизней',\n 'атаки',\n 'укровермахта',\n 'задача',\n 'обстрелы',\n 'рублей',\n 'укрорейхе',\n 'их',\n 'захвата',\n 'нациков',\n 'новостей',\n 'координаты',\n 'рядах',\n 'смерти',\n 'позиции',\n 'дислокации',\n 'бандеровцами',\n 'представитель',\n 'лица',\n 'атаку',\n 'неонацисты',\n 'коронавирусом',\n 'работа',\n 'года',\n 'режима',\n 'просвещения',\n 'стиле',\n 'склады',\n 'рождения',\n 'жители',\n 'утилизации',\n 'хунты',\n 'случаев',\n 'воевать',\n 'командование',\n 'новости',\n 'тактике',\n 'рейха',\n 'место',\n 'уничтожить',\n 'сектора',\n 'история',\n 'остатки',\n 'рсзо',\n 'желание',\n 'преступление',\n 'освобождения',\n 'премьер',\n 'всу',\n 'января',\n 'войск',\n 'бойцы',\n 'убийства',\n 'санкции',\n 'мариуполя',\n 'фильма',\n 'возможность',\n 'референдума',\n 'посты',\n 'азова',\n 'уничтожения',\n 'располага',\n 'удара',\n nan,\n 'поддерживает',\n 'губернатор',\n 'сообщили',\n 'готовят',\n 'салам',\n 'рубль']"
     },
     "execution_count": 73,
     "metadata": {},
     "output_type": "execute_result"
    }
   ],
   "source": [
    "final_features"
   ],
   "metadata": {
    "collapsed": false,
    "pycharm": {
     "name": "#%%\n"
    }
   }
  },
  {
   "cell_type": "code",
   "execution_count": 84,
   "outputs": [],
   "source": [
    "df = pd.DataFrame(final_features, columns=['final_features'])\n",
    "df.to_json('most_important_features.json')"
   ],
   "metadata": {
    "collapsed": false,
    "pycharm": {
     "name": "#%%\n"
    }
   }
  },
  {
   "cell_type": "markdown",
   "source": [
    "## Importance of columns (ie collocations and versions of pre-processing)\n"
   ],
   "metadata": {
    "collapsed": false,
    "pycharm": {
     "name": "#%% md\n"
    }
   }
  },
  {
   "cell_type": "markdown",
   "source": [
    "### Averaged importance"
   ],
   "metadata": {
    "collapsed": false,
    "pycharm": {
     "name": "#%% md\n"
    }
   }
  },
  {
   "cell_type": "code",
   "execution_count": 74,
   "outputs": [],
   "source": [
    "def get_average_importance(trained_pipeline):\n",
    "    multi_column_tfidf_vectorizer = trained_pipeline.named_steps['vectorizer']\n",
    "    logistic_regression = trained_pipeline.named_steps['regressor']\n",
    "    coef = logistic_regression.coef_\n",
    "\n",
    "    column_importance = pd.DataFrame()\n",
    "    start = 0\n",
    "    for i, col in enumerate(multi_column_tfidf_vectorizer.columns):\n",
    "        vec = multi_column_tfidf_vectorizer.fitted_models[i]\n",
    "        end = start + len(vec.get_feature_names_out())\n",
    "        feature_scores = pd.DataFrame({\n",
    "            'feature': vec.get_feature_names_out(),\n",
    "            'importance': abs(coef[0][start:end])\n",
    "        })\n",
    "        column_importance[col] = feature_scores.set_index('feature')['importance']\n",
    "        start = end\n",
    "\n",
    "    mean_importance = column_importance.mean(axis=0).sort_values(ascending=False)\n",
    "    return mean_importance"
   ],
   "metadata": {
    "collapsed": false,
    "pycharm": {
     "name": "#%%\n"
    }
   }
  },
  {
   "cell_type": "code",
   "execution_count": 75,
   "outputs": [
    {
     "name": "stdout",
     "output_type": "stream",
     "text": [
      "text_lemmatized    0.309536\n",
      "core_noun_verb     0.167114\n",
      "amod               0.130163\n",
      "nmod               0.097857\n",
      "verb_obl_obj       0.049938\n",
      "text_clean         0.015135\n",
      "dtype: float64\n"
     ]
    }
   ],
   "source": [
    "mean_importance = get_average_importance(trained_pipeline)\n",
    "print(mean_importance)"
   ],
   "metadata": {
    "collapsed": false,
    "pycharm": {
     "name": "#%%\n"
    }
   }
  },
  {
   "cell_type": "markdown",
   "source": [
    "### Importance of columns by permutation"
   ],
   "metadata": {
    "collapsed": false,
    "pycharm": {
     "name": "#%% md\n"
    }
   }
  },
  {
   "cell_type": "code",
   "execution_count": 18,
   "outputs": [
    {
     "data": {
      "text/plain": "[['nmod'],\n ['verb_obl_obj'],\n ['core_noun_verb'],\n ['amod'],\n ['text_lemmatized'],\n ['text_clean'],\n ['nmod', 'verb_obl_obj'],\n ['nmod', 'core_noun_verb'],\n ['nmod', 'amod'],\n ['nmod', 'text_lemmatized'],\n ['nmod', 'text_clean'],\n ['verb_obl_obj', 'core_noun_verb'],\n ['verb_obl_obj', 'amod'],\n ['verb_obl_obj', 'text_lemmatized'],\n ['verb_obl_obj', 'text_clean'],\n ['core_noun_verb', 'amod'],\n ['core_noun_verb', 'text_lemmatized'],\n ['core_noun_verb', 'text_clean'],\n ['amod', 'text_lemmatized'],\n ['amod', 'text_clean'],\n ['text_lemmatized', 'text_clean'],\n ['nmod', 'verb_obl_obj', 'core_noun_verb'],\n ['nmod', 'verb_obl_obj', 'amod'],\n ['nmod', 'verb_obl_obj', 'text_lemmatized'],\n ['nmod', 'verb_obl_obj', 'text_clean'],\n ['nmod', 'core_noun_verb', 'amod'],\n ['nmod', 'core_noun_verb', 'text_lemmatized'],\n ['nmod', 'core_noun_verb', 'text_clean'],\n ['nmod', 'amod', 'text_lemmatized'],\n ['nmod', 'amod', 'text_clean'],\n ['nmod', 'text_lemmatized', 'text_clean'],\n ['verb_obl_obj', 'core_noun_verb', 'amod'],\n ['verb_obl_obj', 'core_noun_verb', 'text_lemmatized'],\n ['verb_obl_obj', 'core_noun_verb', 'text_clean'],\n ['verb_obl_obj', 'amod', 'text_lemmatized'],\n ['verb_obl_obj', 'amod', 'text_clean'],\n ['verb_obl_obj', 'text_lemmatized', 'text_clean'],\n ['core_noun_verb', 'amod', 'text_lemmatized'],\n ['core_noun_verb', 'amod', 'text_clean'],\n ['core_noun_verb', 'text_lemmatized', 'text_clean'],\n ['amod', 'text_lemmatized', 'text_clean'],\n ['nmod', 'verb_obl_obj', 'core_noun_verb', 'amod'],\n ['nmod', 'verb_obl_obj', 'core_noun_verb', 'text_lemmatized'],\n ['nmod', 'verb_obl_obj', 'core_noun_verb', 'text_clean'],\n ['nmod', 'verb_obl_obj', 'amod', 'text_lemmatized'],\n ['nmod', 'verb_obl_obj', 'amod', 'text_clean'],\n ['nmod', 'verb_obl_obj', 'text_lemmatized', 'text_clean'],\n ['nmod', 'core_noun_verb', 'amod', 'text_lemmatized'],\n ['nmod', 'core_noun_verb', 'amod', 'text_clean'],\n ['nmod', 'core_noun_verb', 'text_lemmatized', 'text_clean'],\n ['nmod', 'amod', 'text_lemmatized', 'text_clean'],\n ['verb_obl_obj', 'core_noun_verb', 'amod', 'text_lemmatized'],\n ['verb_obl_obj', 'core_noun_verb', 'amod', 'text_clean'],\n ['verb_obl_obj', 'core_noun_verb', 'text_lemmatized', 'text_clean'],\n ['verb_obl_obj', 'amod', 'text_lemmatized', 'text_clean'],\n ['core_noun_verb', 'amod', 'text_lemmatized', 'text_clean'],\n ['nmod', 'verb_obl_obj', 'core_noun_verb', 'amod', 'text_lemmatized'],\n ['nmod', 'verb_obl_obj', 'core_noun_verb', 'amod', 'text_clean'],\n ['nmod', 'verb_obl_obj', 'core_noun_verb', 'text_lemmatized', 'text_clean'],\n ['nmod', 'verb_obl_obj', 'amod', 'text_lemmatized', 'text_clean'],\n ['nmod', 'core_noun_verb', 'amod', 'text_lemmatized', 'text_clean'],\n ['verb_obl_obj', 'core_noun_verb', 'amod', 'text_lemmatized', 'text_clean'],\n ['nmod',\n  'verb_obl_obj',\n  'core_noun_verb',\n  'amod',\n  'text_lemmatized',\n  'text_clean']]"
     },
     "execution_count": 18,
     "metadata": {},
     "output_type": "execute_result"
    }
   ],
   "source": [
    "from itertools import combinations, chain\n",
    "\n",
    "text_columns = ['nmod', 'verb_obl_obj', 'core_noun_verb', 'amod', 'text_lemmatized', 'text_clean']\n",
    "\n",
    "all_col_variations = list(chain.from_iterable(combinations(text_columns, r) for r in range(1, len(text_columns)+1)))\n",
    "all_col_variations = [list(p) for p in all_col_variations]\n",
    "all_col_variations"
   ],
   "metadata": {
    "collapsed": false,
    "pycharm": {
     "name": "#%%\n"
    }
   }
  },
  {
   "cell_type": "code",
   "execution_count": 77,
   "outputs": [],
   "source": [
    "class MultiColumnTfidfVectorizer(BaseEstimator, TransformerMixin):\n",
    "    def __init__(self, columns, **kwargs):\n",
    "        self.columns = columns\n",
    "        self.vectorizers = [TfidfVectorizer(**kwargs) for _ in columns]\n",
    "        self.fitted_models = []\n",
    "\n",
    "    def fit(self, X, y=None):\n",
    "        for col, vec in zip(self.columns, self.vectorizers):\n",
    "            vec.fit(X[col])\n",
    "            self.fitted_models.append(vec.fit(X[col]))\n",
    "        return self\n",
    "\n",
    "    def transform(self, X):\n",
    "        features = []\n",
    "        for col, vec in zip(self.columns, self.vectorizers):\n",
    "            features.append(vec.transform(X[col]))\n",
    "        return hstack(features)\n",
    "\n",
    "\n",
    "def train_logistic_regression(data, text_columns, label_column, random_state=42):\n",
    "    X_train, X_test, y_train, y_test = train_test_split(data[text_columns], data[label_column], test_size=0.2, random_state=random_state)\n",
    "    pipeline = Pipeline([\n",
    "        ('vectorizer', MultiColumnTfidfVectorizer(columns=text_columns)),\n",
    "        ('regressor', LogisticRegression(solver='liblinear', random_state=random_state, max_iter=100))\n",
    "    ])\n",
    "\n",
    "    param_grid = {\n",
    "        'regressor__fit_intercept': [True, False],\n",
    "        'regressor__C': [0.001, 0.01, 0.1, 0.5, 1, 2, 10, 100],\n",
    "        'regressor__penalty': ['l1', 'l2']\n",
    "    }\n",
    "\n",
    "    grid_search = GridSearchCV(estimator=pipeline, param_grid=param_grid, cv=5, scoring='f1')\n",
    "    grid_search.fit(X_train, y_train.values.ravel())\n",
    "    logreg_best = grid_search.best_estimator_\n",
    "    logreg_best.fit(X_train, y_train)\n",
    "\n",
    "    y_pred = logreg_best.predict(X_test)\n",
    "    accuracy = accuracy_score(y_test, y_pred)\n",
    "    precision = precision_score(y_test, y_pred)\n",
    "    recall = recall_score(y_test, y_pred)\n",
    "    f1 = f1_score(y_test, y_pred)\n",
    "\n",
    "    return logreg_best, [accuracy, precision, recall, f1]"
   ],
   "metadata": {
    "collapsed": false,
    "pycharm": {
     "name": "#%%\n"
    }
   }
  },
  {
   "cell_type": "code",
   "execution_count": 78,
   "outputs": [
    {
     "name": "stderr",
     "output_type": "stream",
     "text": [
      "/Users/katerynaburovova/PycharmProjects/dehumanization/lib/python3.10/site-packages/sklearn/svm/_base.py:1244: ConvergenceWarning: Liblinear failed to converge, increase the number of iterations.\n",
      "  warnings.warn(\n",
      "/Users/katerynaburovova/PycharmProjects/dehumanization/lib/python3.10/site-packages/sklearn/svm/_base.py:1244: ConvergenceWarning: Liblinear failed to converge, increase the number of iterations.\n",
      "  warnings.warn(\n",
      "/Users/katerynaburovova/PycharmProjects/dehumanization/lib/python3.10/site-packages/sklearn/svm/_base.py:1244: ConvergenceWarning: Liblinear failed to converge, increase the number of iterations.\n",
      "  warnings.warn(\n",
      "/Users/katerynaburovova/PycharmProjects/dehumanization/lib/python3.10/site-packages/sklearn/svm/_base.py:1244: ConvergenceWarning: Liblinear failed to converge, increase the number of iterations.\n",
      "  warnings.warn(\n",
      "/Users/katerynaburovova/PycharmProjects/dehumanization/lib/python3.10/site-packages/sklearn/svm/_base.py:1244: ConvergenceWarning: Liblinear failed to converge, increase the number of iterations.\n",
      "  warnings.warn(\n",
      "/Users/katerynaburovova/PycharmProjects/dehumanization/lib/python3.10/site-packages/sklearn/svm/_base.py:1244: ConvergenceWarning: Liblinear failed to converge, increase the number of iterations.\n",
      "  warnings.warn(\n",
      "/Users/katerynaburovova/PycharmProjects/dehumanization/lib/python3.10/site-packages/sklearn/svm/_base.py:1244: ConvergenceWarning: Liblinear failed to converge, increase the number of iterations.\n",
      "  warnings.warn(\n",
      "/Users/katerynaburovova/PycharmProjects/dehumanization/lib/python3.10/site-packages/sklearn/utils/validation.py:1143: DataConversionWarning: A column-vector y was passed when a 1d array was expected. Please change the shape of y to (n_samples, ), for example using ravel().\n",
      "  y = column_or_1d(y, warn=True)\n",
      "/Users/katerynaburovova/PycharmProjects/dehumanization/lib/python3.10/site-packages/sklearn/svm/_base.py:1244: ConvergenceWarning: Liblinear failed to converge, increase the number of iterations.\n",
      "  warnings.warn(\n",
      "/Users/katerynaburovova/PycharmProjects/dehumanization/lib/python3.10/site-packages/sklearn/svm/_base.py:1244: ConvergenceWarning: Liblinear failed to converge, increase the number of iterations.\n",
      "  warnings.warn(\n",
      "/Users/katerynaburovova/PycharmProjects/dehumanization/lib/python3.10/site-packages/sklearn/svm/_base.py:1244: ConvergenceWarning: Liblinear failed to converge, increase the number of iterations.\n",
      "  warnings.warn(\n",
      "/Users/katerynaburovova/PycharmProjects/dehumanization/lib/python3.10/site-packages/sklearn/svm/_base.py:1244: ConvergenceWarning: Liblinear failed to converge, increase the number of iterations.\n",
      "  warnings.warn(\n",
      "/Users/katerynaburovova/PycharmProjects/dehumanization/lib/python3.10/site-packages/sklearn/svm/_base.py:1244: ConvergenceWarning: Liblinear failed to converge, increase the number of iterations.\n",
      "  warnings.warn(\n",
      "/Users/katerynaburovova/PycharmProjects/dehumanization/lib/python3.10/site-packages/sklearn/svm/_base.py:1244: ConvergenceWarning: Liblinear failed to converge, increase the number of iterations.\n",
      "  warnings.warn(\n",
      "/Users/katerynaburovova/PycharmProjects/dehumanization/lib/python3.10/site-packages/sklearn/utils/validation.py:1143: DataConversionWarning: A column-vector y was passed when a 1d array was expected. Please change the shape of y to (n_samples, ), for example using ravel().\n",
      "  y = column_or_1d(y, warn=True)\n",
      "/Users/katerynaburovova/PycharmProjects/dehumanization/lib/python3.10/site-packages/sklearn/svm/_base.py:1244: ConvergenceWarning: Liblinear failed to converge, increase the number of iterations.\n",
      "  warnings.warn(\n",
      "/Users/katerynaburovova/PycharmProjects/dehumanization/lib/python3.10/site-packages/sklearn/svm/_base.py:1244: ConvergenceWarning: Liblinear failed to converge, increase the number of iterations.\n",
      "  warnings.warn(\n",
      "/Users/katerynaburovova/PycharmProjects/dehumanization/lib/python3.10/site-packages/sklearn/svm/_base.py:1244: ConvergenceWarning: Liblinear failed to converge, increase the number of iterations.\n",
      "  warnings.warn(\n",
      "/Users/katerynaburovova/PycharmProjects/dehumanization/lib/python3.10/site-packages/sklearn/svm/_base.py:1244: ConvergenceWarning: Liblinear failed to converge, increase the number of iterations.\n",
      "  warnings.warn(\n",
      "/Users/katerynaburovova/PycharmProjects/dehumanization/lib/python3.10/site-packages/sklearn/svm/_base.py:1244: ConvergenceWarning: Liblinear failed to converge, increase the number of iterations.\n",
      "  warnings.warn(\n",
      "/Users/katerynaburovova/PycharmProjects/dehumanization/lib/python3.10/site-packages/sklearn/svm/_base.py:1244: ConvergenceWarning: Liblinear failed to converge, increase the number of iterations.\n",
      "  warnings.warn(\n",
      "/Users/katerynaburovova/PycharmProjects/dehumanization/lib/python3.10/site-packages/sklearn/svm/_base.py:1244: ConvergenceWarning: Liblinear failed to converge, increase the number of iterations.\n",
      "  warnings.warn(\n",
      "/Users/katerynaburovova/PycharmProjects/dehumanization/lib/python3.10/site-packages/sklearn/svm/_base.py:1244: ConvergenceWarning: Liblinear failed to converge, increase the number of iterations.\n",
      "  warnings.warn(\n",
      "/Users/katerynaburovova/PycharmProjects/dehumanization/lib/python3.10/site-packages/sklearn/utils/validation.py:1143: DataConversionWarning: A column-vector y was passed when a 1d array was expected. Please change the shape of y to (n_samples, ), for example using ravel().\n",
      "  y = column_or_1d(y, warn=True)\n",
      "/Users/katerynaburovova/PycharmProjects/dehumanization/lib/python3.10/site-packages/sklearn/svm/_base.py:1244: ConvergenceWarning: Liblinear failed to converge, increase the number of iterations.\n",
      "  warnings.warn(\n",
      "/Users/katerynaburovova/PycharmProjects/dehumanization/lib/python3.10/site-packages/sklearn/svm/_base.py:1244: ConvergenceWarning: Liblinear failed to converge, increase the number of iterations.\n",
      "  warnings.warn(\n",
      "/Users/katerynaburovova/PycharmProjects/dehumanization/lib/python3.10/site-packages/sklearn/svm/_base.py:1244: ConvergenceWarning: Liblinear failed to converge, increase the number of iterations.\n",
      "  warnings.warn(\n",
      "/Users/katerynaburovova/PycharmProjects/dehumanization/lib/python3.10/site-packages/sklearn/svm/_base.py:1244: ConvergenceWarning: Liblinear failed to converge, increase the number of iterations.\n",
      "  warnings.warn(\n",
      "/Users/katerynaburovova/PycharmProjects/dehumanization/lib/python3.10/site-packages/sklearn/svm/_base.py:1244: ConvergenceWarning: Liblinear failed to converge, increase the number of iterations.\n",
      "  warnings.warn(\n",
      "/Users/katerynaburovova/PycharmProjects/dehumanization/lib/python3.10/site-packages/sklearn/svm/_base.py:1244: ConvergenceWarning: Liblinear failed to converge, increase the number of iterations.\n",
      "  warnings.warn(\n",
      "/Users/katerynaburovova/PycharmProjects/dehumanization/lib/python3.10/site-packages/sklearn/svm/_base.py:1244: ConvergenceWarning: Liblinear failed to converge, increase the number of iterations.\n",
      "  warnings.warn(\n",
      "/Users/katerynaburovova/PycharmProjects/dehumanization/lib/python3.10/site-packages/sklearn/utils/validation.py:1143: DataConversionWarning: A column-vector y was passed when a 1d array was expected. Please change the shape of y to (n_samples, ), for example using ravel().\n",
      "  y = column_or_1d(y, warn=True)\n",
      "/Users/katerynaburovova/PycharmProjects/dehumanization/lib/python3.10/site-packages/sklearn/svm/_base.py:1244: ConvergenceWarning: Liblinear failed to converge, increase the number of iterations.\n",
      "  warnings.warn(\n",
      "/Users/katerynaburovova/PycharmProjects/dehumanization/lib/python3.10/site-packages/sklearn/svm/_base.py:1244: ConvergenceWarning: Liblinear failed to converge, increase the number of iterations.\n",
      "  warnings.warn(\n",
      "/Users/katerynaburovova/PycharmProjects/dehumanization/lib/python3.10/site-packages/sklearn/utils/validation.py:1143: DataConversionWarning: A column-vector y was passed when a 1d array was expected. Please change the shape of y to (n_samples, ), for example using ravel().\n",
      "  y = column_or_1d(y, warn=True)\n",
      "/Users/katerynaburovova/PycharmProjects/dehumanization/lib/python3.10/site-packages/sklearn/svm/_base.py:1244: ConvergenceWarning: Liblinear failed to converge, increase the number of iterations.\n",
      "  warnings.warn(\n",
      "/Users/katerynaburovova/PycharmProjects/dehumanization/lib/python3.10/site-packages/sklearn/svm/_base.py:1244: ConvergenceWarning: Liblinear failed to converge, increase the number of iterations.\n",
      "  warnings.warn(\n",
      "/Users/katerynaburovova/PycharmProjects/dehumanization/lib/python3.10/site-packages/sklearn/svm/_base.py:1244: ConvergenceWarning: Liblinear failed to converge, increase the number of iterations.\n",
      "  warnings.warn(\n",
      "/Users/katerynaburovova/PycharmProjects/dehumanization/lib/python3.10/site-packages/sklearn/svm/_base.py:1244: ConvergenceWarning: Liblinear failed to converge, increase the number of iterations.\n",
      "  warnings.warn(\n",
      "/Users/katerynaburovova/PycharmProjects/dehumanization/lib/python3.10/site-packages/sklearn/svm/_base.py:1244: ConvergenceWarning: Liblinear failed to converge, increase the number of iterations.\n",
      "  warnings.warn(\n",
      "/Users/katerynaburovova/PycharmProjects/dehumanization/lib/python3.10/site-packages/sklearn/svm/_base.py:1244: ConvergenceWarning: Liblinear failed to converge, increase the number of iterations.\n",
      "  warnings.warn(\n",
      "/Users/katerynaburovova/PycharmProjects/dehumanization/lib/python3.10/site-packages/sklearn/svm/_base.py:1244: ConvergenceWarning: Liblinear failed to converge, increase the number of iterations.\n",
      "  warnings.warn(\n",
      "/Users/katerynaburovova/PycharmProjects/dehumanization/lib/python3.10/site-packages/sklearn/utils/validation.py:1143: DataConversionWarning: A column-vector y was passed when a 1d array was expected. Please change the shape of y to (n_samples, ), for example using ravel().\n",
      "  y = column_or_1d(y, warn=True)\n",
      "/Users/katerynaburovova/PycharmProjects/dehumanization/lib/python3.10/site-packages/sklearn/svm/_base.py:1244: ConvergenceWarning: Liblinear failed to converge, increase the number of iterations.\n",
      "  warnings.warn(\n",
      "/Users/katerynaburovova/PycharmProjects/dehumanization/lib/python3.10/site-packages/sklearn/svm/_base.py:1244: ConvergenceWarning: Liblinear failed to converge, increase the number of iterations.\n",
      "  warnings.warn(\n",
      "/Users/katerynaburovova/PycharmProjects/dehumanization/lib/python3.10/site-packages/sklearn/svm/_base.py:1244: ConvergenceWarning: Liblinear failed to converge, increase the number of iterations.\n",
      "  warnings.warn(\n",
      "/Users/katerynaburovova/PycharmProjects/dehumanization/lib/python3.10/site-packages/sklearn/svm/_base.py:1244: ConvergenceWarning: Liblinear failed to converge, increase the number of iterations.\n",
      "  warnings.warn(\n",
      "/Users/katerynaburovova/PycharmProjects/dehumanization/lib/python3.10/site-packages/sklearn/svm/_base.py:1244: ConvergenceWarning: Liblinear failed to converge, increase the number of iterations.\n",
      "  warnings.warn(\n",
      "/Users/katerynaburovova/PycharmProjects/dehumanization/lib/python3.10/site-packages/sklearn/svm/_base.py:1244: ConvergenceWarning: Liblinear failed to converge, increase the number of iterations.\n",
      "  warnings.warn(\n",
      "/Users/katerynaburovova/PycharmProjects/dehumanization/lib/python3.10/site-packages/sklearn/utils/validation.py:1143: DataConversionWarning: A column-vector y was passed when a 1d array was expected. Please change the shape of y to (n_samples, ), for example using ravel().\n",
      "  y = column_or_1d(y, warn=True)\n",
      "/Users/katerynaburovova/PycharmProjects/dehumanization/lib/python3.10/site-packages/sklearn/svm/_base.py:1244: ConvergenceWarning: Liblinear failed to converge, increase the number of iterations.\n",
      "  warnings.warn(\n",
      "/Users/katerynaburovova/PycharmProjects/dehumanization/lib/python3.10/site-packages/sklearn/svm/_base.py:1244: ConvergenceWarning: Liblinear failed to converge, increase the number of iterations.\n",
      "  warnings.warn(\n",
      "/Users/katerynaburovova/PycharmProjects/dehumanization/lib/python3.10/site-packages/sklearn/svm/_base.py:1244: ConvergenceWarning: Liblinear failed to converge, increase the number of iterations.\n",
      "  warnings.warn(\n",
      "/Users/katerynaburovova/PycharmProjects/dehumanization/lib/python3.10/site-packages/sklearn/svm/_base.py:1244: ConvergenceWarning: Liblinear failed to converge, increase the number of iterations.\n",
      "  warnings.warn(\n",
      "/Users/katerynaburovova/PycharmProjects/dehumanization/lib/python3.10/site-packages/sklearn/svm/_base.py:1244: ConvergenceWarning: Liblinear failed to converge, increase the number of iterations.\n",
      "  warnings.warn(\n",
      "/Users/katerynaburovova/PycharmProjects/dehumanization/lib/python3.10/site-packages/sklearn/svm/_base.py:1244: ConvergenceWarning: Liblinear failed to converge, increase the number of iterations.\n",
      "  warnings.warn(\n",
      "/Users/katerynaburovova/PycharmProjects/dehumanization/lib/python3.10/site-packages/sklearn/utils/validation.py:1143: DataConversionWarning: A column-vector y was passed when a 1d array was expected. Please change the shape of y to (n_samples, ), for example using ravel().\n",
      "  y = column_or_1d(y, warn=True)\n",
      "/Users/katerynaburovova/PycharmProjects/dehumanization/lib/python3.10/site-packages/sklearn/svm/_base.py:1244: ConvergenceWarning: Liblinear failed to converge, increase the number of iterations.\n",
      "  warnings.warn(\n",
      "/Users/katerynaburovova/PycharmProjects/dehumanization/lib/python3.10/site-packages/sklearn/svm/_base.py:1244: ConvergenceWarning: Liblinear failed to converge, increase the number of iterations.\n",
      "  warnings.warn(\n",
      "/Users/katerynaburovova/PycharmProjects/dehumanization/lib/python3.10/site-packages/sklearn/svm/_base.py:1244: ConvergenceWarning: Liblinear failed to converge, increase the number of iterations.\n",
      "  warnings.warn(\n",
      "/Users/katerynaburovova/PycharmProjects/dehumanization/lib/python3.10/site-packages/sklearn/svm/_base.py:1244: ConvergenceWarning: Liblinear failed to converge, increase the number of iterations.\n",
      "  warnings.warn(\n",
      "/Users/katerynaburovova/PycharmProjects/dehumanization/lib/python3.10/site-packages/sklearn/svm/_base.py:1244: ConvergenceWarning: Liblinear failed to converge, increase the number of iterations.\n",
      "  warnings.warn(\n",
      "/Users/katerynaburovova/PycharmProjects/dehumanization/lib/python3.10/site-packages/sklearn/svm/_base.py:1244: ConvergenceWarning: Liblinear failed to converge, increase the number of iterations.\n",
      "  warnings.warn(\n",
      "/Users/katerynaburovova/PycharmProjects/dehumanization/lib/python3.10/site-packages/sklearn/svm/_base.py:1244: ConvergenceWarning: Liblinear failed to converge, increase the number of iterations.\n",
      "  warnings.warn(\n",
      "/Users/katerynaburovova/PycharmProjects/dehumanization/lib/python3.10/site-packages/sklearn/svm/_base.py:1244: ConvergenceWarning: Liblinear failed to converge, increase the number of iterations.\n",
      "  warnings.warn(\n",
      "/Users/katerynaburovova/PycharmProjects/dehumanization/lib/python3.10/site-packages/sklearn/utils/validation.py:1143: DataConversionWarning: A column-vector y was passed when a 1d array was expected. Please change the shape of y to (n_samples, ), for example using ravel().\n",
      "  y = column_or_1d(y, warn=True)\n",
      "/Users/katerynaburovova/PycharmProjects/dehumanization/lib/python3.10/site-packages/sklearn/svm/_base.py:1244: ConvergenceWarning: Liblinear failed to converge, increase the number of iterations.\n",
      "  warnings.warn(\n",
      "/Users/katerynaburovova/PycharmProjects/dehumanization/lib/python3.10/site-packages/sklearn/svm/_base.py:1244: ConvergenceWarning: Liblinear failed to converge, increase the number of iterations.\n",
      "  warnings.warn(\n",
      "/Users/katerynaburovova/PycharmProjects/dehumanization/lib/python3.10/site-packages/sklearn/utils/validation.py:1143: DataConversionWarning: A column-vector y was passed when a 1d array was expected. Please change the shape of y to (n_samples, ), for example using ravel().\n",
      "  y = column_or_1d(y, warn=True)\n",
      "/Users/katerynaburovova/PycharmProjects/dehumanization/lib/python3.10/site-packages/sklearn/svm/_base.py:1244: ConvergenceWarning: Liblinear failed to converge, increase the number of iterations.\n",
      "  warnings.warn(\n",
      "/Users/katerynaburovova/PycharmProjects/dehumanization/lib/python3.10/site-packages/sklearn/svm/_base.py:1244: ConvergenceWarning: Liblinear failed to converge, increase the number of iterations.\n",
      "  warnings.warn(\n",
      "/Users/katerynaburovova/PycharmProjects/dehumanization/lib/python3.10/site-packages/sklearn/svm/_base.py:1244: ConvergenceWarning: Liblinear failed to converge, increase the number of iterations.\n",
      "  warnings.warn(\n",
      "/Users/katerynaburovova/PycharmProjects/dehumanization/lib/python3.10/site-packages/sklearn/utils/validation.py:1143: DataConversionWarning: A column-vector y was passed when a 1d array was expected. Please change the shape of y to (n_samples, ), for example using ravel().\n",
      "  y = column_or_1d(y, warn=True)\n",
      "/Users/katerynaburovova/PycharmProjects/dehumanization/lib/python3.10/site-packages/sklearn/svm/_base.py:1244: ConvergenceWarning: Liblinear failed to converge, increase the number of iterations.\n",
      "  warnings.warn(\n",
      "/Users/katerynaburovova/PycharmProjects/dehumanization/lib/python3.10/site-packages/sklearn/svm/_base.py:1244: ConvergenceWarning: Liblinear failed to converge, increase the number of iterations.\n",
      "  warnings.warn(\n",
      "/Users/katerynaburovova/PycharmProjects/dehumanization/lib/python3.10/site-packages/sklearn/svm/_base.py:1244: ConvergenceWarning: Liblinear failed to converge, increase the number of iterations.\n",
      "  warnings.warn(\n",
      "/Users/katerynaburovova/PycharmProjects/dehumanization/lib/python3.10/site-packages/sklearn/svm/_base.py:1244: ConvergenceWarning: Liblinear failed to converge, increase the number of iterations.\n",
      "  warnings.warn(\n",
      "/Users/katerynaburovova/PycharmProjects/dehumanization/lib/python3.10/site-packages/sklearn/svm/_base.py:1244: ConvergenceWarning: Liblinear failed to converge, increase the number of iterations.\n",
      "  warnings.warn(\n",
      "/Users/katerynaburovova/PycharmProjects/dehumanization/lib/python3.10/site-packages/sklearn/utils/validation.py:1143: DataConversionWarning: A column-vector y was passed when a 1d array was expected. Please change the shape of y to (n_samples, ), for example using ravel().\n",
      "  y = column_or_1d(y, warn=True)\n",
      "/Users/katerynaburovova/PycharmProjects/dehumanization/lib/python3.10/site-packages/sklearn/svm/_base.py:1244: ConvergenceWarning: Liblinear failed to converge, increase the number of iterations.\n",
      "  warnings.warn(\n",
      "/Users/katerynaburovova/PycharmProjects/dehumanization/lib/python3.10/site-packages/sklearn/svm/_base.py:1244: ConvergenceWarning: Liblinear failed to converge, increase the number of iterations.\n",
      "  warnings.warn(\n",
      "/Users/katerynaburovova/PycharmProjects/dehumanization/lib/python3.10/site-packages/sklearn/svm/_base.py:1244: ConvergenceWarning: Liblinear failed to converge, increase the number of iterations.\n",
      "  warnings.warn(\n",
      "/Users/katerynaburovova/PycharmProjects/dehumanization/lib/python3.10/site-packages/sklearn/svm/_base.py:1244: ConvergenceWarning: Liblinear failed to converge, increase the number of iterations.\n",
      "  warnings.warn(\n",
      "/Users/katerynaburovova/PycharmProjects/dehumanization/lib/python3.10/site-packages/sklearn/svm/_base.py:1244: ConvergenceWarning: Liblinear failed to converge, increase the number of iterations.\n",
      "  warnings.warn(\n",
      "/Users/katerynaburovova/PycharmProjects/dehumanization/lib/python3.10/site-packages/sklearn/svm/_base.py:1244: ConvergenceWarning: Liblinear failed to converge, increase the number of iterations.\n",
      "  warnings.warn(\n",
      "/Users/katerynaburovova/PycharmProjects/dehumanization/lib/python3.10/site-packages/sklearn/svm/_base.py:1244: ConvergenceWarning: Liblinear failed to converge, increase the number of iterations.\n",
      "  warnings.warn(\n",
      "/Users/katerynaburovova/PycharmProjects/dehumanization/lib/python3.10/site-packages/sklearn/utils/validation.py:1143: DataConversionWarning: A column-vector y was passed when a 1d array was expected. Please change the shape of y to (n_samples, ), for example using ravel().\n",
      "  y = column_or_1d(y, warn=True)\n",
      "/Users/katerynaburovova/PycharmProjects/dehumanization/lib/python3.10/site-packages/sklearn/svm/_base.py:1244: ConvergenceWarning: Liblinear failed to converge, increase the number of iterations.\n",
      "  warnings.warn(\n",
      "/Users/katerynaburovova/PycharmProjects/dehumanization/lib/python3.10/site-packages/sklearn/svm/_base.py:1244: ConvergenceWarning: Liblinear failed to converge, increase the number of iterations.\n",
      "  warnings.warn(\n",
      "/Users/katerynaburovova/PycharmProjects/dehumanization/lib/python3.10/site-packages/sklearn/svm/_base.py:1244: ConvergenceWarning: Liblinear failed to converge, increase the number of iterations.\n",
      "  warnings.warn(\n",
      "/Users/katerynaburovova/PycharmProjects/dehumanization/lib/python3.10/site-packages/sklearn/svm/_base.py:1244: ConvergenceWarning: Liblinear failed to converge, increase the number of iterations.\n",
      "  warnings.warn(\n",
      "/Users/katerynaburovova/PycharmProjects/dehumanization/lib/python3.10/site-packages/sklearn/utils/validation.py:1143: DataConversionWarning: A column-vector y was passed when a 1d array was expected. Please change the shape of y to (n_samples, ), for example using ravel().\n",
      "  y = column_or_1d(y, warn=True)\n",
      "/Users/katerynaburovova/PycharmProjects/dehumanization/lib/python3.10/site-packages/sklearn/svm/_base.py:1244: ConvergenceWarning: Liblinear failed to converge, increase the number of iterations.\n",
      "  warnings.warn(\n",
      "/Users/katerynaburovova/PycharmProjects/dehumanization/lib/python3.10/site-packages/sklearn/svm/_base.py:1244: ConvergenceWarning: Liblinear failed to converge, increase the number of iterations.\n",
      "  warnings.warn(\n",
      "/Users/katerynaburovova/PycharmProjects/dehumanization/lib/python3.10/site-packages/sklearn/svm/_base.py:1244: ConvergenceWarning: Liblinear failed to converge, increase the number of iterations.\n",
      "  warnings.warn(\n",
      "/Users/katerynaburovova/PycharmProjects/dehumanization/lib/python3.10/site-packages/sklearn/svm/_base.py:1244: ConvergenceWarning: Liblinear failed to converge, increase the number of iterations.\n",
      "  warnings.warn(\n",
      "/Users/katerynaburovova/PycharmProjects/dehumanization/lib/python3.10/site-packages/sklearn/svm/_base.py:1244: ConvergenceWarning: Liblinear failed to converge, increase the number of iterations.\n",
      "  warnings.warn(\n",
      "/Users/katerynaburovova/PycharmProjects/dehumanization/lib/python3.10/site-packages/sklearn/svm/_base.py:1244: ConvergenceWarning: Liblinear failed to converge, increase the number of iterations.\n",
      "  warnings.warn(\n",
      "/Users/katerynaburovova/PycharmProjects/dehumanization/lib/python3.10/site-packages/sklearn/utils/validation.py:1143: DataConversionWarning: A column-vector y was passed when a 1d array was expected. Please change the shape of y to (n_samples, ), for example using ravel().\n",
      "  y = column_or_1d(y, warn=True)\n",
      "/Users/katerynaburovova/PycharmProjects/dehumanization/lib/python3.10/site-packages/sklearn/svm/_base.py:1244: ConvergenceWarning: Liblinear failed to converge, increase the number of iterations.\n",
      "  warnings.warn(\n",
      "/Users/katerynaburovova/PycharmProjects/dehumanization/lib/python3.10/site-packages/sklearn/svm/_base.py:1244: ConvergenceWarning: Liblinear failed to converge, increase the number of iterations.\n",
      "  warnings.warn(\n",
      "/Users/katerynaburovova/PycharmProjects/dehumanization/lib/python3.10/site-packages/sklearn/svm/_base.py:1244: ConvergenceWarning: Liblinear failed to converge, increase the number of iterations.\n",
      "  warnings.warn(\n",
      "/Users/katerynaburovova/PycharmProjects/dehumanization/lib/python3.10/site-packages/sklearn/svm/_base.py:1244: ConvergenceWarning: Liblinear failed to converge, increase the number of iterations.\n",
      "  warnings.warn(\n",
      "/Users/katerynaburovova/PycharmProjects/dehumanization/lib/python3.10/site-packages/sklearn/svm/_base.py:1244: ConvergenceWarning: Liblinear failed to converge, increase the number of iterations.\n",
      "  warnings.warn(\n",
      "/Users/katerynaburovova/PycharmProjects/dehumanization/lib/python3.10/site-packages/sklearn/svm/_base.py:1244: ConvergenceWarning: Liblinear failed to converge, increase the number of iterations.\n",
      "  warnings.warn(\n",
      "/Users/katerynaburovova/PycharmProjects/dehumanization/lib/python3.10/site-packages/sklearn/utils/validation.py:1143: DataConversionWarning: A column-vector y was passed when a 1d array was expected. Please change the shape of y to (n_samples, ), for example using ravel().\n",
      "  y = column_or_1d(y, warn=True)\n",
      "/Users/katerynaburovova/PycharmProjects/dehumanization/lib/python3.10/site-packages/sklearn/svm/_base.py:1244: ConvergenceWarning: Liblinear failed to converge, increase the number of iterations.\n",
      "  warnings.warn(\n",
      "/Users/katerynaburovova/PycharmProjects/dehumanization/lib/python3.10/site-packages/sklearn/utils/validation.py:1143: DataConversionWarning: A column-vector y was passed when a 1d array was expected. Please change the shape of y to (n_samples, ), for example using ravel().\n",
      "  y = column_or_1d(y, warn=True)\n",
      "/Users/katerynaburovova/PycharmProjects/dehumanization/lib/python3.10/site-packages/sklearn/svm/_base.py:1244: ConvergenceWarning: Liblinear failed to converge, increase the number of iterations.\n",
      "  warnings.warn(\n",
      "/Users/katerynaburovova/PycharmProjects/dehumanization/lib/python3.10/site-packages/sklearn/svm/_base.py:1244: ConvergenceWarning: Liblinear failed to converge, increase the number of iterations.\n",
      "  warnings.warn(\n",
      "/Users/katerynaburovova/PycharmProjects/dehumanization/lib/python3.10/site-packages/sklearn/svm/_base.py:1244: ConvergenceWarning: Liblinear failed to converge, increase the number of iterations.\n",
      "  warnings.warn(\n",
      "/Users/katerynaburovova/PycharmProjects/dehumanization/lib/python3.10/site-packages/sklearn/svm/_base.py:1244: ConvergenceWarning: Liblinear failed to converge, increase the number of iterations.\n",
      "  warnings.warn(\n",
      "/Users/katerynaburovova/PycharmProjects/dehumanization/lib/python3.10/site-packages/sklearn/svm/_base.py:1244: ConvergenceWarning: Liblinear failed to converge, increase the number of iterations.\n",
      "  warnings.warn(\n",
      "/Users/katerynaburovova/PycharmProjects/dehumanization/lib/python3.10/site-packages/sklearn/utils/validation.py:1143: DataConversionWarning: A column-vector y was passed when a 1d array was expected. Please change the shape of y to (n_samples, ), for example using ravel().\n",
      "  y = column_or_1d(y, warn=True)\n",
      "/Users/katerynaburovova/PycharmProjects/dehumanization/lib/python3.10/site-packages/sklearn/svm/_base.py:1244: ConvergenceWarning: Liblinear failed to converge, increase the number of iterations.\n",
      "  warnings.warn(\n",
      "/Users/katerynaburovova/PycharmProjects/dehumanization/lib/python3.10/site-packages/sklearn/svm/_base.py:1244: ConvergenceWarning: Liblinear failed to converge, increase the number of iterations.\n",
      "  warnings.warn(\n",
      "/Users/katerynaburovova/PycharmProjects/dehumanization/lib/python3.10/site-packages/sklearn/utils/validation.py:1143: DataConversionWarning: A column-vector y was passed when a 1d array was expected. Please change the shape of y to (n_samples, ), for example using ravel().\n",
      "  y = column_or_1d(y, warn=True)\n",
      "/Users/katerynaburovova/PycharmProjects/dehumanization/lib/python3.10/site-packages/sklearn/svm/_base.py:1244: ConvergenceWarning: Liblinear failed to converge, increase the number of iterations.\n",
      "  warnings.warn(\n",
      "/Users/katerynaburovova/PycharmProjects/dehumanization/lib/python3.10/site-packages/sklearn/svm/_base.py:1244: ConvergenceWarning: Liblinear failed to converge, increase the number of iterations.\n",
      "  warnings.warn(\n",
      "/Users/katerynaburovova/PycharmProjects/dehumanization/lib/python3.10/site-packages/sklearn/svm/_base.py:1244: ConvergenceWarning: Liblinear failed to converge, increase the number of iterations.\n",
      "  warnings.warn(\n",
      "/Users/katerynaburovova/PycharmProjects/dehumanization/lib/python3.10/site-packages/sklearn/svm/_base.py:1244: ConvergenceWarning: Liblinear failed to converge, increase the number of iterations.\n",
      "  warnings.warn(\n",
      "/Users/katerynaburovova/PycharmProjects/dehumanization/lib/python3.10/site-packages/sklearn/svm/_base.py:1244: ConvergenceWarning: Liblinear failed to converge, increase the number of iterations.\n",
      "  warnings.warn(\n",
      "/Users/katerynaburovova/PycharmProjects/dehumanization/lib/python3.10/site-packages/sklearn/svm/_base.py:1244: ConvergenceWarning: Liblinear failed to converge, increase the number of iterations.\n",
      "  warnings.warn(\n",
      "/Users/katerynaburovova/PycharmProjects/dehumanization/lib/python3.10/site-packages/sklearn/svm/_base.py:1244: ConvergenceWarning: Liblinear failed to converge, increase the number of iterations.\n",
      "  warnings.warn(\n",
      "/Users/katerynaburovova/PycharmProjects/dehumanization/lib/python3.10/site-packages/sklearn/svm/_base.py:1244: ConvergenceWarning: Liblinear failed to converge, increase the number of iterations.\n",
      "  warnings.warn(\n",
      "/Users/katerynaburovova/PycharmProjects/dehumanization/lib/python3.10/site-packages/sklearn/utils/validation.py:1143: DataConversionWarning: A column-vector y was passed when a 1d array was expected. Please change the shape of y to (n_samples, ), for example using ravel().\n",
      "  y = column_or_1d(y, warn=True)\n",
      "/Users/katerynaburovova/PycharmProjects/dehumanization/lib/python3.10/site-packages/sklearn/svm/_base.py:1244: ConvergenceWarning: Liblinear failed to converge, increase the number of iterations.\n",
      "  warnings.warn(\n",
      "/Users/katerynaburovova/PycharmProjects/dehumanization/lib/python3.10/site-packages/sklearn/utils/validation.py:1143: DataConversionWarning: A column-vector y was passed when a 1d array was expected. Please change the shape of y to (n_samples, ), for example using ravel().\n",
      "  y = column_or_1d(y, warn=True)\n",
      "/Users/katerynaburovova/PycharmProjects/dehumanization/lib/python3.10/site-packages/sklearn/svm/_base.py:1244: ConvergenceWarning: Liblinear failed to converge, increase the number of iterations.\n",
      "  warnings.warn(\n",
      "/Users/katerynaburovova/PycharmProjects/dehumanization/lib/python3.10/site-packages/sklearn/svm/_base.py:1244: ConvergenceWarning: Liblinear failed to converge, increase the number of iterations.\n",
      "  warnings.warn(\n",
      "/Users/katerynaburovova/PycharmProjects/dehumanization/lib/python3.10/site-packages/sklearn/utils/validation.py:1143: DataConversionWarning: A column-vector y was passed when a 1d array was expected. Please change the shape of y to (n_samples, ), for example using ravel().\n",
      "  y = column_or_1d(y, warn=True)\n",
      "/Users/katerynaburovova/PycharmProjects/dehumanization/lib/python3.10/site-packages/sklearn/svm/_base.py:1244: ConvergenceWarning: Liblinear failed to converge, increase the number of iterations.\n",
      "  warnings.warn(\n",
      "/Users/katerynaburovova/PycharmProjects/dehumanization/lib/python3.10/site-packages/sklearn/svm/_base.py:1244: ConvergenceWarning: Liblinear failed to converge, increase the number of iterations.\n",
      "  warnings.warn(\n",
      "/Users/katerynaburovova/PycharmProjects/dehumanization/lib/python3.10/site-packages/sklearn/svm/_base.py:1244: ConvergenceWarning: Liblinear failed to converge, increase the number of iterations.\n",
      "  warnings.warn(\n",
      "/Users/katerynaburovova/PycharmProjects/dehumanization/lib/python3.10/site-packages/sklearn/svm/_base.py:1244: ConvergenceWarning: Liblinear failed to converge, increase the number of iterations.\n",
      "  warnings.warn(\n",
      "/Users/katerynaburovova/PycharmProjects/dehumanization/lib/python3.10/site-packages/sklearn/svm/_base.py:1244: ConvergenceWarning: Liblinear failed to converge, increase the number of iterations.\n",
      "  warnings.warn(\n",
      "/Users/katerynaburovova/PycharmProjects/dehumanization/lib/python3.10/site-packages/sklearn/svm/_base.py:1244: ConvergenceWarning: Liblinear failed to converge, increase the number of iterations.\n",
      "  warnings.warn(\n",
      "/Users/katerynaburovova/PycharmProjects/dehumanization/lib/python3.10/site-packages/sklearn/utils/validation.py:1143: DataConversionWarning: A column-vector y was passed when a 1d array was expected. Please change the shape of y to (n_samples, ), for example using ravel().\n",
      "  y = column_or_1d(y, warn=True)\n",
      "/Users/katerynaburovova/PycharmProjects/dehumanization/lib/python3.10/site-packages/sklearn/utils/validation.py:1143: DataConversionWarning: A column-vector y was passed when a 1d array was expected. Please change the shape of y to (n_samples, ), for example using ravel().\n",
      "  y = column_or_1d(y, warn=True)\n",
      "/Users/katerynaburovova/PycharmProjects/dehumanization/lib/python3.10/site-packages/sklearn/svm/_base.py:1244: ConvergenceWarning: Liblinear failed to converge, increase the number of iterations.\n",
      "  warnings.warn(\n",
      "/Users/katerynaburovova/PycharmProjects/dehumanization/lib/python3.10/site-packages/sklearn/utils/validation.py:1143: DataConversionWarning: A column-vector y was passed when a 1d array was expected. Please change the shape of y to (n_samples, ), for example using ravel().\n",
      "  y = column_or_1d(y, warn=True)\n",
      "/Users/katerynaburovova/PycharmProjects/dehumanization/lib/python3.10/site-packages/sklearn/svm/_base.py:1244: ConvergenceWarning: Liblinear failed to converge, increase the number of iterations.\n",
      "  warnings.warn(\n",
      "/Users/katerynaburovova/PycharmProjects/dehumanization/lib/python3.10/site-packages/sklearn/svm/_base.py:1244: ConvergenceWarning: Liblinear failed to converge, increase the number of iterations.\n",
      "  warnings.warn(\n",
      "/Users/katerynaburovova/PycharmProjects/dehumanization/lib/python3.10/site-packages/sklearn/svm/_base.py:1244: ConvergenceWarning: Liblinear failed to converge, increase the number of iterations.\n",
      "  warnings.warn(\n",
      "/Users/katerynaburovova/PycharmProjects/dehumanization/lib/python3.10/site-packages/sklearn/utils/validation.py:1143: DataConversionWarning: A column-vector y was passed when a 1d array was expected. Please change the shape of y to (n_samples, ), for example using ravel().\n",
      "  y = column_or_1d(y, warn=True)\n",
      "/Users/katerynaburovova/PycharmProjects/dehumanization/lib/python3.10/site-packages/sklearn/svm/_base.py:1244: ConvergenceWarning: Liblinear failed to converge, increase the number of iterations.\n",
      "  warnings.warn(\n",
      "/Users/katerynaburovova/PycharmProjects/dehumanization/lib/python3.10/site-packages/sklearn/svm/_base.py:1244: ConvergenceWarning: Liblinear failed to converge, increase the number of iterations.\n",
      "  warnings.warn(\n",
      "/Users/katerynaburovova/PycharmProjects/dehumanization/lib/python3.10/site-packages/sklearn/utils/validation.py:1143: DataConversionWarning: A column-vector y was passed when a 1d array was expected. Please change the shape of y to (n_samples, ), for example using ravel().\n",
      "  y = column_or_1d(y, warn=True)\n",
      "/Users/katerynaburovova/PycharmProjects/dehumanization/lib/python3.10/site-packages/sklearn/svm/_base.py:1244: ConvergenceWarning: Liblinear failed to converge, increase the number of iterations.\n",
      "  warnings.warn(\n",
      "/Users/katerynaburovova/PycharmProjects/dehumanization/lib/python3.10/site-packages/sklearn/svm/_base.py:1244: ConvergenceWarning: Liblinear failed to converge, increase the number of iterations.\n",
      "  warnings.warn(\n",
      "/Users/katerynaburovova/PycharmProjects/dehumanization/lib/python3.10/site-packages/sklearn/utils/validation.py:1143: DataConversionWarning: A column-vector y was passed when a 1d array was expected. Please change the shape of y to (n_samples, ), for example using ravel().\n",
      "  y = column_or_1d(y, warn=True)\n",
      "/Users/katerynaburovova/PycharmProjects/dehumanization/lib/python3.10/site-packages/sklearn/svm/_base.py:1244: ConvergenceWarning: Liblinear failed to converge, increase the number of iterations.\n",
      "  warnings.warn(\n",
      "/Users/katerynaburovova/PycharmProjects/dehumanization/lib/python3.10/site-packages/sklearn/svm/_base.py:1244: ConvergenceWarning: Liblinear failed to converge, increase the number of iterations.\n",
      "  warnings.warn(\n",
      "/Users/katerynaburovova/PycharmProjects/dehumanization/lib/python3.10/site-packages/sklearn/utils/validation.py:1143: DataConversionWarning: A column-vector y was passed when a 1d array was expected. Please change the shape of y to (n_samples, ), for example using ravel().\n",
      "  y = column_or_1d(y, warn=True)\n",
      "/Users/katerynaburovova/PycharmProjects/dehumanization/lib/python3.10/site-packages/sklearn/svm/_base.py:1244: ConvergenceWarning: Liblinear failed to converge, increase the number of iterations.\n",
      "  warnings.warn(\n",
      "/Users/katerynaburovova/PycharmProjects/dehumanization/lib/python3.10/site-packages/sklearn/svm/_base.py:1244: ConvergenceWarning: Liblinear failed to converge, increase the number of iterations.\n",
      "  warnings.warn(\n",
      "/Users/katerynaburovova/PycharmProjects/dehumanization/lib/python3.10/site-packages/sklearn/svm/_base.py:1244: ConvergenceWarning: Liblinear failed to converge, increase the number of iterations.\n",
      "  warnings.warn(\n",
      "/Users/katerynaburovova/PycharmProjects/dehumanization/lib/python3.10/site-packages/sklearn/utils/validation.py:1143: DataConversionWarning: A column-vector y was passed when a 1d array was expected. Please change the shape of y to (n_samples, ), for example using ravel().\n",
      "  y = column_or_1d(y, warn=True)\n",
      "/Users/katerynaburovova/PycharmProjects/dehumanization/lib/python3.10/site-packages/sklearn/utils/validation.py:1143: DataConversionWarning: A column-vector y was passed when a 1d array was expected. Please change the shape of y to (n_samples, ), for example using ravel().\n",
      "  y = column_or_1d(y, warn=True)\n",
      "/Users/katerynaburovova/PycharmProjects/dehumanization/lib/python3.10/site-packages/sklearn/svm/_base.py:1244: ConvergenceWarning: Liblinear failed to converge, increase the number of iterations.\n",
      "  warnings.warn(\n",
      "/Users/katerynaburovova/PycharmProjects/dehumanization/lib/python3.10/site-packages/sklearn/svm/_base.py:1244: ConvergenceWarning: Liblinear failed to converge, increase the number of iterations.\n",
      "  warnings.warn(\n",
      "/Users/katerynaburovova/PycharmProjects/dehumanization/lib/python3.10/site-packages/sklearn/svm/_base.py:1244: ConvergenceWarning: Liblinear failed to converge, increase the number of iterations.\n",
      "  warnings.warn(\n",
      "/Users/katerynaburovova/PycharmProjects/dehumanization/lib/python3.10/site-packages/sklearn/svm/_base.py:1244: ConvergenceWarning: Liblinear failed to converge, increase the number of iterations.\n",
      "  warnings.warn(\n",
      "/Users/katerynaburovova/PycharmProjects/dehumanization/lib/python3.10/site-packages/sklearn/utils/validation.py:1143: DataConversionWarning: A column-vector y was passed when a 1d array was expected. Please change the shape of y to (n_samples, ), for example using ravel().\n",
      "  y = column_or_1d(y, warn=True)\n",
      "/Users/katerynaburovova/PycharmProjects/dehumanization/lib/python3.10/site-packages/sklearn/svm/_base.py:1244: ConvergenceWarning: Liblinear failed to converge, increase the number of iterations.\n",
      "  warnings.warn(\n",
      "/Users/katerynaburovova/PycharmProjects/dehumanization/lib/python3.10/site-packages/sklearn/utils/validation.py:1143: DataConversionWarning: A column-vector y was passed when a 1d array was expected. Please change the shape of y to (n_samples, ), for example using ravel().\n",
      "  y = column_or_1d(y, warn=True)\n",
      "/Users/katerynaburovova/PycharmProjects/dehumanization/lib/python3.10/site-packages/sklearn/svm/_base.py:1244: ConvergenceWarning: Liblinear failed to converge, increase the number of iterations.\n",
      "  warnings.warn(\n",
      "/Users/katerynaburovova/PycharmProjects/dehumanization/lib/python3.10/site-packages/sklearn/svm/_base.py:1244: ConvergenceWarning: Liblinear failed to converge, increase the number of iterations.\n",
      "  warnings.warn(\n",
      "/Users/katerynaburovova/PycharmProjects/dehumanization/lib/python3.10/site-packages/sklearn/svm/_base.py:1244: ConvergenceWarning: Liblinear failed to converge, increase the number of iterations.\n",
      "  warnings.warn(\n",
      "/Users/katerynaburovova/PycharmProjects/dehumanization/lib/python3.10/site-packages/sklearn/utils/validation.py:1143: DataConversionWarning: A column-vector y was passed when a 1d array was expected. Please change the shape of y to (n_samples, ), for example using ravel().\n",
      "  y = column_or_1d(y, warn=True)\n",
      "/Users/katerynaburovova/PycharmProjects/dehumanization/lib/python3.10/site-packages/sklearn/svm/_base.py:1244: ConvergenceWarning: Liblinear failed to converge, increase the number of iterations.\n",
      "  warnings.warn(\n",
      "/Users/katerynaburovova/PycharmProjects/dehumanization/lib/python3.10/site-packages/sklearn/svm/_base.py:1244: ConvergenceWarning: Liblinear failed to converge, increase the number of iterations.\n",
      "  warnings.warn(\n",
      "/Users/katerynaburovova/PycharmProjects/dehumanization/lib/python3.10/site-packages/sklearn/svm/_base.py:1244: ConvergenceWarning: Liblinear failed to converge, increase the number of iterations.\n",
      "  warnings.warn(\n",
      "/Users/katerynaburovova/PycharmProjects/dehumanization/lib/python3.10/site-packages/sklearn/utils/validation.py:1143: DataConversionWarning: A column-vector y was passed when a 1d array was expected. Please change the shape of y to (n_samples, ), for example using ravel().\n",
      "  y = column_or_1d(y, warn=True)\n",
      "/Users/katerynaburovova/PycharmProjects/dehumanization/lib/python3.10/site-packages/sklearn/svm/_base.py:1244: ConvergenceWarning: Liblinear failed to converge, increase the number of iterations.\n",
      "  warnings.warn(\n",
      "/Users/katerynaburovova/PycharmProjects/dehumanization/lib/python3.10/site-packages/sklearn/svm/_base.py:1244: ConvergenceWarning: Liblinear failed to converge, increase the number of iterations.\n",
      "  warnings.warn(\n",
      "/Users/katerynaburovova/PycharmProjects/dehumanization/lib/python3.10/site-packages/sklearn/svm/_base.py:1244: ConvergenceWarning: Liblinear failed to converge, increase the number of iterations.\n",
      "  warnings.warn(\n",
      "/Users/katerynaburovova/PycharmProjects/dehumanization/lib/python3.10/site-packages/sklearn/svm/_base.py:1244: ConvergenceWarning: Liblinear failed to converge, increase the number of iterations.\n",
      "  warnings.warn(\n",
      "/Users/katerynaburovova/PycharmProjects/dehumanization/lib/python3.10/site-packages/sklearn/svm/_base.py:1244: ConvergenceWarning: Liblinear failed to converge, increase the number of iterations.\n",
      "  warnings.warn(\n",
      "/Users/katerynaburovova/PycharmProjects/dehumanization/lib/python3.10/site-packages/sklearn/utils/validation.py:1143: DataConversionWarning: A column-vector y was passed when a 1d array was expected. Please change the shape of y to (n_samples, ), for example using ravel().\n",
      "  y = column_or_1d(y, warn=True)\n",
      "/Users/katerynaburovova/PycharmProjects/dehumanization/lib/python3.10/site-packages/sklearn/svm/_base.py:1244: ConvergenceWarning: Liblinear failed to converge, increase the number of iterations.\n",
      "  warnings.warn(\n",
      "/Users/katerynaburovova/PycharmProjects/dehumanization/lib/python3.10/site-packages/sklearn/utils/validation.py:1143: DataConversionWarning: A column-vector y was passed when a 1d array was expected. Please change the shape of y to (n_samples, ), for example using ravel().\n",
      "  y = column_or_1d(y, warn=True)\n",
      "/Users/katerynaburovova/PycharmProjects/dehumanization/lib/python3.10/site-packages/sklearn/svm/_base.py:1244: ConvergenceWarning: Liblinear failed to converge, increase the number of iterations.\n",
      "  warnings.warn(\n",
      "/Users/katerynaburovova/PycharmProjects/dehumanization/lib/python3.10/site-packages/sklearn/utils/validation.py:1143: DataConversionWarning: A column-vector y was passed when a 1d array was expected. Please change the shape of y to (n_samples, ), for example using ravel().\n",
      "  y = column_or_1d(y, warn=True)\n",
      "/Users/katerynaburovova/PycharmProjects/dehumanization/lib/python3.10/site-packages/sklearn/svm/_base.py:1244: ConvergenceWarning: Liblinear failed to converge, increase the number of iterations.\n",
      "  warnings.warn(\n",
      "/Users/katerynaburovova/PycharmProjects/dehumanization/lib/python3.10/site-packages/sklearn/svm/_base.py:1244: ConvergenceWarning: Liblinear failed to converge, increase the number of iterations.\n",
      "  warnings.warn(\n",
      "/Users/katerynaburovova/PycharmProjects/dehumanization/lib/python3.10/site-packages/sklearn/svm/_base.py:1244: ConvergenceWarning: Liblinear failed to converge, increase the number of iterations.\n",
      "  warnings.warn(\n",
      "/Users/katerynaburovova/PycharmProjects/dehumanization/lib/python3.10/site-packages/sklearn/utils/validation.py:1143: DataConversionWarning: A column-vector y was passed when a 1d array was expected. Please change the shape of y to (n_samples, ), for example using ravel().\n",
      "  y = column_or_1d(y, warn=True)\n",
      "/Users/katerynaburovova/PycharmProjects/dehumanization/lib/python3.10/site-packages/sklearn/svm/_base.py:1244: ConvergenceWarning: Liblinear failed to converge, increase the number of iterations.\n",
      "  warnings.warn(\n",
      "/Users/katerynaburovova/PycharmProjects/dehumanization/lib/python3.10/site-packages/sklearn/utils/validation.py:1143: DataConversionWarning: A column-vector y was passed when a 1d array was expected. Please change the shape of y to (n_samples, ), for example using ravel().\n",
      "  y = column_or_1d(y, warn=True)\n",
      "/Users/katerynaburovova/PycharmProjects/dehumanization/lib/python3.10/site-packages/sklearn/utils/validation.py:1143: DataConversionWarning: A column-vector y was passed when a 1d array was expected. Please change the shape of y to (n_samples, ), for example using ravel().\n",
      "  y = column_or_1d(y, warn=True)\n",
      "/Users/katerynaburovova/PycharmProjects/dehumanization/lib/python3.10/site-packages/sklearn/svm/_base.py:1244: ConvergenceWarning: Liblinear failed to converge, increase the number of iterations.\n",
      "  warnings.warn(\n",
      "/Users/katerynaburovova/PycharmProjects/dehumanization/lib/python3.10/site-packages/sklearn/svm/_base.py:1244: ConvergenceWarning: Liblinear failed to converge, increase the number of iterations.\n",
      "  warnings.warn(\n",
      "/Users/katerynaburovova/PycharmProjects/dehumanization/lib/python3.10/site-packages/sklearn/utils/validation.py:1143: DataConversionWarning: A column-vector y was passed when a 1d array was expected. Please change the shape of y to (n_samples, ), for example using ravel().\n",
      "  y = column_or_1d(y, warn=True)\n",
      "/Users/katerynaburovova/PycharmProjects/dehumanization/lib/python3.10/site-packages/sklearn/utils/validation.py:1143: DataConversionWarning: A column-vector y was passed when a 1d array was expected. Please change the shape of y to (n_samples, ), for example using ravel().\n",
      "  y = column_or_1d(y, warn=True)\n",
      "/Users/katerynaburovova/PycharmProjects/dehumanization/lib/python3.10/site-packages/sklearn/svm/_base.py:1244: ConvergenceWarning: Liblinear failed to converge, increase the number of iterations.\n",
      "  warnings.warn(\n",
      "/Users/katerynaburovova/PycharmProjects/dehumanization/lib/python3.10/site-packages/sklearn/utils/validation.py:1143: DataConversionWarning: A column-vector y was passed when a 1d array was expected. Please change the shape of y to (n_samples, ), for example using ravel().\n",
      "  y = column_or_1d(y, warn=True)\n",
      "/Users/katerynaburovova/PycharmProjects/dehumanization/lib/python3.10/site-packages/sklearn/svm/_base.py:1244: ConvergenceWarning: Liblinear failed to converge, increase the number of iterations.\n",
      "  warnings.warn(\n",
      "/Users/katerynaburovova/PycharmProjects/dehumanization/lib/python3.10/site-packages/sklearn/utils/validation.py:1143: DataConversionWarning: A column-vector y was passed when a 1d array was expected. Please change the shape of y to (n_samples, ), for example using ravel().\n",
      "  y = column_or_1d(y, warn=True)\n",
      "/Users/katerynaburovova/PycharmProjects/dehumanization/lib/python3.10/site-packages/sklearn/utils/validation.py:1143: DataConversionWarning: A column-vector y was passed when a 1d array was expected. Please change the shape of y to (n_samples, ), for example using ravel().\n",
      "  y = column_or_1d(y, warn=True)\n",
      "/Users/katerynaburovova/PycharmProjects/dehumanization/lib/python3.10/site-packages/sklearn/utils/validation.py:1143: DataConversionWarning: A column-vector y was passed when a 1d array was expected. Please change the shape of y to (n_samples, ), for example using ravel().\n",
      "  y = column_or_1d(y, warn=True)\n",
      "/Users/katerynaburovova/PycharmProjects/dehumanization/lib/python3.10/site-packages/sklearn/utils/validation.py:1143: DataConversionWarning: A column-vector y was passed when a 1d array was expected. Please change the shape of y to (n_samples, ), for example using ravel().\n",
      "  y = column_or_1d(y, warn=True)\n",
      "/Users/katerynaburovova/PycharmProjects/dehumanization/lib/python3.10/site-packages/sklearn/utils/validation.py:1143: DataConversionWarning: A column-vector y was passed when a 1d array was expected. Please change the shape of y to (n_samples, ), for example using ravel().\n",
      "  y = column_or_1d(y, warn=True)\n",
      "/Users/katerynaburovova/PycharmProjects/dehumanization/lib/python3.10/site-packages/sklearn/utils/validation.py:1143: DataConversionWarning: A column-vector y was passed when a 1d array was expected. Please change the shape of y to (n_samples, ), for example using ravel().\n",
      "  y = column_or_1d(y, warn=True)\n",
      "/Users/katerynaburovova/PycharmProjects/dehumanization/lib/python3.10/site-packages/sklearn/utils/validation.py:1143: DataConversionWarning: A column-vector y was passed when a 1d array was expected. Please change the shape of y to (n_samples, ), for example using ravel().\n",
      "  y = column_or_1d(y, warn=True)\n",
      "/Users/katerynaburovova/PycharmProjects/dehumanization/lib/python3.10/site-packages/sklearn/utils/validation.py:1143: DataConversionWarning: A column-vector y was passed when a 1d array was expected. Please change the shape of y to (n_samples, ), for example using ravel().\n",
      "  y = column_or_1d(y, warn=True)\n",
      "/Users/katerynaburovova/PycharmProjects/dehumanization/lib/python3.10/site-packages/sklearn/utils/validation.py:1143: DataConversionWarning: A column-vector y was passed when a 1d array was expected. Please change the shape of y to (n_samples, ), for example using ravel().\n",
      "  y = column_or_1d(y, warn=True)\n",
      "/Users/katerynaburovova/PycharmProjects/dehumanization/lib/python3.10/site-packages/sklearn/svm/_base.py:1244: ConvergenceWarning: Liblinear failed to converge, increase the number of iterations.\n",
      "  warnings.warn(\n",
      "/Users/katerynaburovova/PycharmProjects/dehumanization/lib/python3.10/site-packages/sklearn/utils/validation.py:1143: DataConversionWarning: A column-vector y was passed when a 1d array was expected. Please change the shape of y to (n_samples, ), for example using ravel().\n",
      "  y = column_or_1d(y, warn=True)\n",
      "/Users/katerynaburovova/PycharmProjects/dehumanization/lib/python3.10/site-packages/sklearn/utils/validation.py:1143: DataConversionWarning: A column-vector y was passed when a 1d array was expected. Please change the shape of y to (n_samples, ), for example using ravel().\n",
      "  y = column_or_1d(y, warn=True)\n",
      "/Users/katerynaburovova/PycharmProjects/dehumanization/lib/python3.10/site-packages/sklearn/utils/validation.py:1143: DataConversionWarning: A column-vector y was passed when a 1d array was expected. Please change the shape of y to (n_samples, ), for example using ravel().\n",
      "  y = column_or_1d(y, warn=True)\n",
      "/Users/katerynaburovova/PycharmProjects/dehumanization/lib/python3.10/site-packages/sklearn/utils/validation.py:1143: DataConversionWarning: A column-vector y was passed when a 1d array was expected. Please change the shape of y to (n_samples, ), for example using ravel().\n",
      "  y = column_or_1d(y, warn=True)\n",
      "/Users/katerynaburovova/PycharmProjects/dehumanization/lib/python3.10/site-packages/sklearn/utils/validation.py:1143: DataConversionWarning: A column-vector y was passed when a 1d array was expected. Please change the shape of y to (n_samples, ), for example using ravel().\n",
      "  y = column_or_1d(y, warn=True)\n",
      "/Users/katerynaburovova/PycharmProjects/dehumanization/lib/python3.10/site-packages/sklearn/utils/validation.py:1143: DataConversionWarning: A column-vector y was passed when a 1d array was expected. Please change the shape of y to (n_samples, ), for example using ravel().\n",
      "  y = column_or_1d(y, warn=True)\n",
      "/Users/katerynaburovova/PycharmProjects/dehumanization/lib/python3.10/site-packages/sklearn/utils/validation.py:1143: DataConversionWarning: A column-vector y was passed when a 1d array was expected. Please change the shape of y to (n_samples, ), for example using ravel().\n",
      "  y = column_or_1d(y, warn=True)\n",
      "/Users/katerynaburovova/PycharmProjects/dehumanization/lib/python3.10/site-packages/sklearn/utils/validation.py:1143: DataConversionWarning: A column-vector y was passed when a 1d array was expected. Please change the shape of y to (n_samples, ), for example using ravel().\n",
      "  y = column_or_1d(y, warn=True)\n",
      "/Users/katerynaburovova/PycharmProjects/dehumanization/lib/python3.10/site-packages/sklearn/utils/validation.py:1143: DataConversionWarning: A column-vector y was passed when a 1d array was expected. Please change the shape of y to (n_samples, ), for example using ravel().\n",
      "  y = column_or_1d(y, warn=True)\n"
     ]
    },
    {
     "name": "stdout",
     "output_type": "stream",
     "text": [
      "CPU times: user 1h 34min 12s, sys: 50min 8s, total: 2h 24min 20s\n",
      "Wall time: 37min 57s\n"
     ]
    },
    {
     "name": "stderr",
     "output_type": "stream",
     "text": [
      "/Users/katerynaburovova/PycharmProjects/dehumanization/lib/python3.10/site-packages/sklearn/utils/validation.py:1143: DataConversionWarning: A column-vector y was passed when a 1d array was expected. Please change the shape of y to (n_samples, ), for example using ravel().\n",
      "  y = column_or_1d(y, warn=True)\n"
     ]
    }
   ],
   "source": [
    "%%time\n",
    "all_trained_pipelines = []\n",
    "all_results = []\n",
    "for col_set in all_col_variations:\n",
    "    current_pipe, results = train_logistic_regression(df_dehumanization, col_set, label_column)\n",
    "    all_trained_pipelines.append(current_pipe)\n",
    "    all_results.append(results)"
   ],
   "metadata": {
    "collapsed": false,
    "pycharm": {
     "name": "#%%\n"
    }
   }
  },
  {
   "cell_type": "code",
   "execution_count": 79,
   "outputs": [
    {
     "name": "stdout",
     "output_type": "stream",
     "text": [
      "58\n"
     ]
    }
   ],
   "source": [
    "idx_largest = max(range(len(all_results)), key=lambda i: all_results[i][-1])\n",
    "\n",
    "next_largest = max([all_results[i][-1] for i in range(len(all_results)) if all_results[i][-1] < all_results[idx_largest][-1]])\n",
    "idx_next_largest = max([i for i in range(len(all_results)) if all_results[i][-1] == next_largest])\n",
    "\n",
    "print(idx_next_largest)"
   ],
   "metadata": {
    "collapsed": false,
    "pycharm": {
     "name": "#%%\n"
    }
   }
  },
  {
   "cell_type": "code",
   "execution_count": 80,
   "outputs": [
    {
     "data": {
      "text/plain": "[0.809052333804809, 0.7941176470588235, 0.7714285714285715, 0.782608695652174]"
     },
     "execution_count": 80,
     "metadata": {},
     "output_type": "execute_result"
    }
   ],
   "source": [
    "all_results[idx_largest]"
   ],
   "metadata": {
    "collapsed": false,
    "pycharm": {
     "name": "#%%\n"
    }
   }
  },
  {
   "cell_type": "code",
   "execution_count": 81,
   "outputs": [
    {
     "data": {
      "text/plain": "Pipeline(steps=[('vectorizer',\n                 MultiColumnTfidfVectorizer(columns=['verb_obl_obj',\n                                                     'text_clean'])),\n                ('regressor',\n                 LogisticRegression(C=10, penalty='l1', random_state=42,\n                                    solver='liblinear'))])",
      "text/html": "<style>#sk-container-id-3 {color: black;background-color: white;}#sk-container-id-3 pre{padding: 0;}#sk-container-id-3 div.sk-toggleable {background-color: white;}#sk-container-id-3 label.sk-toggleable__label {cursor: pointer;display: block;width: 100%;margin-bottom: 0;padding: 0.3em;box-sizing: border-box;text-align: center;}#sk-container-id-3 label.sk-toggleable__label-arrow:before {content: \"▸\";float: left;margin-right: 0.25em;color: #696969;}#sk-container-id-3 label.sk-toggleable__label-arrow:hover:before {color: black;}#sk-container-id-3 div.sk-estimator:hover label.sk-toggleable__label-arrow:before {color: black;}#sk-container-id-3 div.sk-toggleable__content {max-height: 0;max-width: 0;overflow: hidden;text-align: left;background-color: #f0f8ff;}#sk-container-id-3 div.sk-toggleable__content pre {margin: 0.2em;color: black;border-radius: 0.25em;background-color: #f0f8ff;}#sk-container-id-3 input.sk-toggleable__control:checked~div.sk-toggleable__content {max-height: 200px;max-width: 100%;overflow: auto;}#sk-container-id-3 input.sk-toggleable__control:checked~label.sk-toggleable__label-arrow:before {content: \"▾\";}#sk-container-id-3 div.sk-estimator input.sk-toggleable__control:checked~label.sk-toggleable__label {background-color: #d4ebff;}#sk-container-id-3 div.sk-label input.sk-toggleable__control:checked~label.sk-toggleable__label {background-color: #d4ebff;}#sk-container-id-3 input.sk-hidden--visually {border: 0;clip: rect(1px 1px 1px 1px);clip: rect(1px, 1px, 1px, 1px);height: 1px;margin: -1px;overflow: hidden;padding: 0;position: absolute;width: 1px;}#sk-container-id-3 div.sk-estimator {font-family: monospace;background-color: #f0f8ff;border: 1px dotted black;border-radius: 0.25em;box-sizing: border-box;margin-bottom: 0.5em;}#sk-container-id-3 div.sk-estimator:hover {background-color: #d4ebff;}#sk-container-id-3 div.sk-parallel-item::after {content: \"\";width: 100%;border-bottom: 1px solid gray;flex-grow: 1;}#sk-container-id-3 div.sk-label:hover label.sk-toggleable__label {background-color: #d4ebff;}#sk-container-id-3 div.sk-serial::before {content: \"\";position: absolute;border-left: 1px solid gray;box-sizing: border-box;top: 0;bottom: 0;left: 50%;z-index: 0;}#sk-container-id-3 div.sk-serial {display: flex;flex-direction: column;align-items: center;background-color: white;padding-right: 0.2em;padding-left: 0.2em;position: relative;}#sk-container-id-3 div.sk-item {position: relative;z-index: 1;}#sk-container-id-3 div.sk-parallel {display: flex;align-items: stretch;justify-content: center;background-color: white;position: relative;}#sk-container-id-3 div.sk-item::before, #sk-container-id-3 div.sk-parallel-item::before {content: \"\";position: absolute;border-left: 1px solid gray;box-sizing: border-box;top: 0;bottom: 0;left: 50%;z-index: -1;}#sk-container-id-3 div.sk-parallel-item {display: flex;flex-direction: column;z-index: 1;position: relative;background-color: white;}#sk-container-id-3 div.sk-parallel-item:first-child::after {align-self: flex-end;width: 50%;}#sk-container-id-3 div.sk-parallel-item:last-child::after {align-self: flex-start;width: 50%;}#sk-container-id-3 div.sk-parallel-item:only-child::after {width: 0;}#sk-container-id-3 div.sk-dashed-wrapped {border: 1px dashed gray;margin: 0 0.4em 0.5em 0.4em;box-sizing: border-box;padding-bottom: 0.4em;background-color: white;}#sk-container-id-3 div.sk-label label {font-family: monospace;font-weight: bold;display: inline-block;line-height: 1.2em;}#sk-container-id-3 div.sk-label-container {text-align: center;}#sk-container-id-3 div.sk-container {/* jupyter's `normalize.less` sets `[hidden] { display: none; }` but bootstrap.min.css set `[hidden] { display: none !important; }` so we also need the `!important` here to be able to override the default hidden behavior on the sphinx rendered scikit-learn.org. See: https://github.com/scikit-learn/scikit-learn/issues/21755 */display: inline-block !important;position: relative;}#sk-container-id-3 div.sk-text-repr-fallback {display: none;}</style><div id=\"sk-container-id-3\" class=\"sk-top-container\"><div class=\"sk-text-repr-fallback\"><pre>Pipeline(steps=[(&#x27;vectorizer&#x27;,\n                 MultiColumnTfidfVectorizer(columns=[&#x27;verb_obl_obj&#x27;,\n                                                     &#x27;text_clean&#x27;])),\n                (&#x27;regressor&#x27;,\n                 LogisticRegression(C=10, penalty=&#x27;l1&#x27;, random_state=42,\n                                    solver=&#x27;liblinear&#x27;))])</pre><b>In a Jupyter environment, please rerun this cell to show the HTML representation or trust the notebook. <br />On GitHub, the HTML representation is unable to render, please try loading this page with nbviewer.org.</b></div><div class=\"sk-container\" hidden><div class=\"sk-item sk-dashed-wrapped\"><div class=\"sk-label-container\"><div class=\"sk-label sk-toggleable\"><input class=\"sk-toggleable__control sk-hidden--visually\" id=\"sk-estimator-id-3\" type=\"checkbox\" ><label for=\"sk-estimator-id-3\" class=\"sk-toggleable__label sk-toggleable__label-arrow\">Pipeline</label><div class=\"sk-toggleable__content\"><pre>Pipeline(steps=[(&#x27;vectorizer&#x27;,\n                 MultiColumnTfidfVectorizer(columns=[&#x27;verb_obl_obj&#x27;,\n                                                     &#x27;text_clean&#x27;])),\n                (&#x27;regressor&#x27;,\n                 LogisticRegression(C=10, penalty=&#x27;l1&#x27;, random_state=42,\n                                    solver=&#x27;liblinear&#x27;))])</pre></div></div></div><div class=\"sk-serial\"><div class=\"sk-item\"><div class=\"sk-estimator sk-toggleable\"><input class=\"sk-toggleable__control sk-hidden--visually\" id=\"sk-estimator-id-4\" type=\"checkbox\" ><label for=\"sk-estimator-id-4\" class=\"sk-toggleable__label sk-toggleable__label-arrow\">MultiColumnTfidfVectorizer</label><div class=\"sk-toggleable__content\"><pre>MultiColumnTfidfVectorizer(columns=[&#x27;verb_obl_obj&#x27;, &#x27;text_clean&#x27;])</pre></div></div></div><div class=\"sk-item\"><div class=\"sk-estimator sk-toggleable\"><input class=\"sk-toggleable__control sk-hidden--visually\" id=\"sk-estimator-id-5\" type=\"checkbox\" ><label for=\"sk-estimator-id-5\" class=\"sk-toggleable__label sk-toggleable__label-arrow\">LogisticRegression</label><div class=\"sk-toggleable__content\"><pre>LogisticRegression(C=10, penalty=&#x27;l1&#x27;, random_state=42, solver=&#x27;liblinear&#x27;)</pre></div></div></div></div></div></div></div>"
     },
     "execution_count": 81,
     "metadata": {},
     "output_type": "execute_result"
    }
   ],
   "source": [
    "all_trained_pipelines[idx_largest]"
   ],
   "metadata": {
    "collapsed": false,
    "pycharm": {
     "name": "#%%\n"
    }
   }
  },
  {
   "cell_type": "code",
   "execution_count": 82,
   "outputs": [
    {
     "data": {
      "text/plain": "Pipeline(steps=[('vectorizer',\n                 MultiColumnTfidfVectorizer(columns=['nmod', 'verb_obl_obj',\n                                                     'core_noun_verb',\n                                                     'text_lemmatized',\n                                                     'text_clean'])),\n                ('regressor',\n                 LogisticRegression(C=100, penalty='l1', random_state=42,\n                                    solver='liblinear'))])",
      "text/html": "<style>#sk-container-id-4 {color: black;background-color: white;}#sk-container-id-4 pre{padding: 0;}#sk-container-id-4 div.sk-toggleable {background-color: white;}#sk-container-id-4 label.sk-toggleable__label {cursor: pointer;display: block;width: 100%;margin-bottom: 0;padding: 0.3em;box-sizing: border-box;text-align: center;}#sk-container-id-4 label.sk-toggleable__label-arrow:before {content: \"▸\";float: left;margin-right: 0.25em;color: #696969;}#sk-container-id-4 label.sk-toggleable__label-arrow:hover:before {color: black;}#sk-container-id-4 div.sk-estimator:hover label.sk-toggleable__label-arrow:before {color: black;}#sk-container-id-4 div.sk-toggleable__content {max-height: 0;max-width: 0;overflow: hidden;text-align: left;background-color: #f0f8ff;}#sk-container-id-4 div.sk-toggleable__content pre {margin: 0.2em;color: black;border-radius: 0.25em;background-color: #f0f8ff;}#sk-container-id-4 input.sk-toggleable__control:checked~div.sk-toggleable__content {max-height: 200px;max-width: 100%;overflow: auto;}#sk-container-id-4 input.sk-toggleable__control:checked~label.sk-toggleable__label-arrow:before {content: \"▾\";}#sk-container-id-4 div.sk-estimator input.sk-toggleable__control:checked~label.sk-toggleable__label {background-color: #d4ebff;}#sk-container-id-4 div.sk-label input.sk-toggleable__control:checked~label.sk-toggleable__label {background-color: #d4ebff;}#sk-container-id-4 input.sk-hidden--visually {border: 0;clip: rect(1px 1px 1px 1px);clip: rect(1px, 1px, 1px, 1px);height: 1px;margin: -1px;overflow: hidden;padding: 0;position: absolute;width: 1px;}#sk-container-id-4 div.sk-estimator {font-family: monospace;background-color: #f0f8ff;border: 1px dotted black;border-radius: 0.25em;box-sizing: border-box;margin-bottom: 0.5em;}#sk-container-id-4 div.sk-estimator:hover {background-color: #d4ebff;}#sk-container-id-4 div.sk-parallel-item::after {content: \"\";width: 100%;border-bottom: 1px solid gray;flex-grow: 1;}#sk-container-id-4 div.sk-label:hover label.sk-toggleable__label {background-color: #d4ebff;}#sk-container-id-4 div.sk-serial::before {content: \"\";position: absolute;border-left: 1px solid gray;box-sizing: border-box;top: 0;bottom: 0;left: 50%;z-index: 0;}#sk-container-id-4 div.sk-serial {display: flex;flex-direction: column;align-items: center;background-color: white;padding-right: 0.2em;padding-left: 0.2em;position: relative;}#sk-container-id-4 div.sk-item {position: relative;z-index: 1;}#sk-container-id-4 div.sk-parallel {display: flex;align-items: stretch;justify-content: center;background-color: white;position: relative;}#sk-container-id-4 div.sk-item::before, #sk-container-id-4 div.sk-parallel-item::before {content: \"\";position: absolute;border-left: 1px solid gray;box-sizing: border-box;top: 0;bottom: 0;left: 50%;z-index: -1;}#sk-container-id-4 div.sk-parallel-item {display: flex;flex-direction: column;z-index: 1;position: relative;background-color: white;}#sk-container-id-4 div.sk-parallel-item:first-child::after {align-self: flex-end;width: 50%;}#sk-container-id-4 div.sk-parallel-item:last-child::after {align-self: flex-start;width: 50%;}#sk-container-id-4 div.sk-parallel-item:only-child::after {width: 0;}#sk-container-id-4 div.sk-dashed-wrapped {border: 1px dashed gray;margin: 0 0.4em 0.5em 0.4em;box-sizing: border-box;padding-bottom: 0.4em;background-color: white;}#sk-container-id-4 div.sk-label label {font-family: monospace;font-weight: bold;display: inline-block;line-height: 1.2em;}#sk-container-id-4 div.sk-label-container {text-align: center;}#sk-container-id-4 div.sk-container {/* jupyter's `normalize.less` sets `[hidden] { display: none; }` but bootstrap.min.css set `[hidden] { display: none !important; }` so we also need the `!important` here to be able to override the default hidden behavior on the sphinx rendered scikit-learn.org. See: https://github.com/scikit-learn/scikit-learn/issues/21755 */display: inline-block !important;position: relative;}#sk-container-id-4 div.sk-text-repr-fallback {display: none;}</style><div id=\"sk-container-id-4\" class=\"sk-top-container\"><div class=\"sk-text-repr-fallback\"><pre>Pipeline(steps=[(&#x27;vectorizer&#x27;,\n                 MultiColumnTfidfVectorizer(columns=[&#x27;nmod&#x27;, &#x27;verb_obl_obj&#x27;,\n                                                     &#x27;core_noun_verb&#x27;,\n                                                     &#x27;text_lemmatized&#x27;,\n                                                     &#x27;text_clean&#x27;])),\n                (&#x27;regressor&#x27;,\n                 LogisticRegression(C=100, penalty=&#x27;l1&#x27;, random_state=42,\n                                    solver=&#x27;liblinear&#x27;))])</pre><b>In a Jupyter environment, please rerun this cell to show the HTML representation or trust the notebook. <br />On GitHub, the HTML representation is unable to render, please try loading this page with nbviewer.org.</b></div><div class=\"sk-container\" hidden><div class=\"sk-item sk-dashed-wrapped\"><div class=\"sk-label-container\"><div class=\"sk-label sk-toggleable\"><input class=\"sk-toggleable__control sk-hidden--visually\" id=\"sk-estimator-id-6\" type=\"checkbox\" ><label for=\"sk-estimator-id-6\" class=\"sk-toggleable__label sk-toggleable__label-arrow\">Pipeline</label><div class=\"sk-toggleable__content\"><pre>Pipeline(steps=[(&#x27;vectorizer&#x27;,\n                 MultiColumnTfidfVectorizer(columns=[&#x27;nmod&#x27;, &#x27;verb_obl_obj&#x27;,\n                                                     &#x27;core_noun_verb&#x27;,\n                                                     &#x27;text_lemmatized&#x27;,\n                                                     &#x27;text_clean&#x27;])),\n                (&#x27;regressor&#x27;,\n                 LogisticRegression(C=100, penalty=&#x27;l1&#x27;, random_state=42,\n                                    solver=&#x27;liblinear&#x27;))])</pre></div></div></div><div class=\"sk-serial\"><div class=\"sk-item\"><div class=\"sk-estimator sk-toggleable\"><input class=\"sk-toggleable__control sk-hidden--visually\" id=\"sk-estimator-id-7\" type=\"checkbox\" ><label for=\"sk-estimator-id-7\" class=\"sk-toggleable__label sk-toggleable__label-arrow\">MultiColumnTfidfVectorizer</label><div class=\"sk-toggleable__content\"><pre>MultiColumnTfidfVectorizer(columns=[&#x27;nmod&#x27;, &#x27;verb_obl_obj&#x27;, &#x27;core_noun_verb&#x27;,\n                                    &#x27;text_lemmatized&#x27;, &#x27;text_clean&#x27;])</pre></div></div></div><div class=\"sk-item\"><div class=\"sk-estimator sk-toggleable\"><input class=\"sk-toggleable__control sk-hidden--visually\" id=\"sk-estimator-id-8\" type=\"checkbox\" ><label for=\"sk-estimator-id-8\" class=\"sk-toggleable__label sk-toggleable__label-arrow\">LogisticRegression</label><div class=\"sk-toggleable__content\"><pre>LogisticRegression(C=100, penalty=&#x27;l1&#x27;, random_state=42, solver=&#x27;liblinear&#x27;)</pre></div></div></div></div></div></div></div>"
     },
     "execution_count": 82,
     "metadata": {},
     "output_type": "execute_result"
    }
   ],
   "source": [
    "all_trained_pipelines[idx_next_largest]"
   ],
   "metadata": {
    "collapsed": false,
    "pycharm": {
     "name": "#%%\n"
    }
   }
  },
  {
   "cell_type": "code",
   "execution_count": 83,
   "outputs": [
    {
     "data": {
      "text/plain": "[0.809052333804809, 0.8125, 0.7428571428571429, 0.7761194029850748]"
     },
     "execution_count": 83,
     "metadata": {},
     "output_type": "execute_result"
    }
   ],
   "source": [
    "all_results[idx_next_largest]"
   ],
   "metadata": {
    "collapsed": false,
    "pycharm": {
     "name": "#%%\n"
    }
   }
  },
  {
   "cell_type": "markdown",
   "source": [
    "## SVM"
   ],
   "metadata": {
    "collapsed": false,
    "pycharm": {
     "name": "#%% md\n"
    }
   }
  },
  {
   "cell_type": "code",
   "execution_count": 42,
   "outputs": [],
   "source": [
    "from sklearn.svm import SVC\n",
    "from sklearn.model_selection import train_test_split\n",
    "from sklearn.metrics import accuracy_score, precision_score, recall_score, f1_score\n",
    "from scipy.sparse import hstack\n",
    "from sklearn.pipeline import Pipeline\n",
    "from sklearn.base import BaseEstimator, TransformerMixin\n",
    "from sklearn.model_selection import train_test_split\n",
    "from sklearn.feature_extraction.text import TfidfVectorizer\n",
    "from sklearn.model_selection import GridSearchCV\n"
   ],
   "metadata": {
    "collapsed": false,
    "pycharm": {
     "name": "#%%\n"
    }
   }
  },
  {
   "cell_type": "code",
   "execution_count": 32,
   "outputs": [],
   "source": [
    "label_column = ['label']"
   ],
   "metadata": {
    "collapsed": false,
    "pycharm": {
     "name": "#%%\n"
    }
   }
  },
  {
   "cell_type": "code",
   "execution_count": 15,
   "outputs": [],
   "source": [
    "class MultiColumnTfidfVectorizer(BaseEstimator, TransformerMixin):\n",
    "    def __init__(self, columns, **kwargs):\n",
    "        self.columns = columns\n",
    "        self.vectorizers = [TfidfVectorizer(**kwargs) for _ in columns]\n",
    "        self.fitted_models = []\n",
    "\n",
    "    def fit(self, X, y=None):\n",
    "        for col, vec in zip(self.columns, self.vectorizers):\n",
    "            vec.fit(X[col])\n",
    "            self.fitted_models.append(vec.fit(X[col]))\n",
    "        return self\n",
    "\n",
    "    def transform(self, X):\n",
    "        features = []\n",
    "        for col, vec in zip(self.columns, self.vectorizers):\n",
    "            features.append(vec.transform(X[col]))\n",
    "        return hstack(features)\n",
    "\n",
    "\n",
    "def train_svm(data, text_columns, label_column, random_state=42):\n",
    "    X_train, X_test, y_train, y_test = train_test_split(data[text_columns], data[label_column], test_size=0.2, random_state=random_state)\n",
    "    pipeline = Pipeline([\n",
    "        ('vectorizer', MultiColumnTfidfVectorizer(columns=text_columns)),\n",
    "        ('classifier', SVC(kernel='linear', random_state=random_state))\n",
    "    ])\n",
    "\n",
    "    param_grid = {\n",
    "        'classifier__C': [0.001, 0.01, 0.1, 0.5, 1, 2, 10, 100],\n",
    "        # 'classifier__kernel': ['linear', 'rbf', 'poly', 'sigmoid'],\n",
    "    }\n",
    "\n",
    "    grid_search = GridSearchCV(estimator=pipeline, param_grid=param_grid, cv=5, scoring='f1')\n",
    "    grid_search.fit(X_train, y_train.values.ravel())\n",
    "    svm_best = grid_search.best_estimator_\n",
    "    svm_best.fit(X_train, y_train)\n",
    "\n",
    "    y_pred = svm_best.predict(X_test)\n",
    "    accuracy = accuracy_score(y_test, y_pred)\n",
    "    precision = precision_score(y_test, y_pred)\n",
    "    recall = recall_score(y_test, y_pred)\n",
    "    f1 = f1_score(y_test, y_pred)\n",
    "\n",
    "    return svm_best, [accuracy, precision, recall, f1]\n"
   ],
   "metadata": {
    "collapsed": false,
    "pycharm": {
     "name": "#%%\n"
    }
   }
  },
  {
   "cell_type": "code",
   "execution_count": 43,
   "outputs": [
    {
     "name": "stderr",
     "output_type": "stream",
     "text": [
      "/Users/katerynaburovova/PycharmProjects/dehumanization/lib/python3.10/site-packages/sklearn/utils/validation.py:1143: DataConversionWarning: A column-vector y was passed when a 1d array was expected. Please change the shape of y to (n_samples, ), for example using ravel().\n",
      "  y = column_or_1d(y, warn=True)\n",
      "/Users/katerynaburovova/PycharmProjects/dehumanization/lib/python3.10/site-packages/sklearn/utils/validation.py:1143: DataConversionWarning: A column-vector y was passed when a 1d array was expected. Please change the shape of y to (n_samples, ), for example using ravel().\n",
      "  y = column_or_1d(y, warn=True)\n",
      "/Users/katerynaburovova/PycharmProjects/dehumanization/lib/python3.10/site-packages/sklearn/utils/validation.py:1143: DataConversionWarning: A column-vector y was passed when a 1d array was expected. Please change the shape of y to (n_samples, ), for example using ravel().\n",
      "  y = column_or_1d(y, warn=True)\n",
      "/Users/katerynaburovova/PycharmProjects/dehumanization/lib/python3.10/site-packages/sklearn/utils/validation.py:1143: DataConversionWarning: A column-vector y was passed when a 1d array was expected. Please change the shape of y to (n_samples, ), for example using ravel().\n",
      "  y = column_or_1d(y, warn=True)\n",
      "/Users/katerynaburovova/PycharmProjects/dehumanization/lib/python3.10/site-packages/sklearn/utils/validation.py:1143: DataConversionWarning: A column-vector y was passed when a 1d array was expected. Please change the shape of y to (n_samples, ), for example using ravel().\n",
      "  y = column_or_1d(y, warn=True)\n",
      "/Users/katerynaburovova/PycharmProjects/dehumanization/lib/python3.10/site-packages/sklearn/utils/validation.py:1143: DataConversionWarning: A column-vector y was passed when a 1d array was expected. Please change the shape of y to (n_samples, ), for example using ravel().\n",
      "  y = column_or_1d(y, warn=True)\n",
      "/Users/katerynaburovova/PycharmProjects/dehumanization/lib/python3.10/site-packages/sklearn/utils/validation.py:1143: DataConversionWarning: A column-vector y was passed when a 1d array was expected. Please change the shape of y to (n_samples, ), for example using ravel().\n",
      "  y = column_or_1d(y, warn=True)\n",
      "/Users/katerynaburovova/PycharmProjects/dehumanization/lib/python3.10/site-packages/sklearn/utils/validation.py:1143: DataConversionWarning: A column-vector y was passed when a 1d array was expected. Please change the shape of y to (n_samples, ), for example using ravel().\n",
      "  y = column_or_1d(y, warn=True)\n",
      "/Users/katerynaburovova/PycharmProjects/dehumanization/lib/python3.10/site-packages/sklearn/utils/validation.py:1143: DataConversionWarning: A column-vector y was passed when a 1d array was expected. Please change the shape of y to (n_samples, ), for example using ravel().\n",
      "  y = column_or_1d(y, warn=True)\n",
      "/Users/katerynaburovova/PycharmProjects/dehumanization/lib/python3.10/site-packages/sklearn/utils/validation.py:1143: DataConversionWarning: A column-vector y was passed when a 1d array was expected. Please change the shape of y to (n_samples, ), for example using ravel().\n",
      "  y = column_or_1d(y, warn=True)\n",
      "/Users/katerynaburovova/PycharmProjects/dehumanization/lib/python3.10/site-packages/sklearn/utils/validation.py:1143: DataConversionWarning: A column-vector y was passed when a 1d array was expected. Please change the shape of y to (n_samples, ), for example using ravel().\n",
      "  y = column_or_1d(y, warn=True)\n",
      "/Users/katerynaburovova/PycharmProjects/dehumanization/lib/python3.10/site-packages/sklearn/utils/validation.py:1143: DataConversionWarning: A column-vector y was passed when a 1d array was expected. Please change the shape of y to (n_samples, ), for example using ravel().\n",
      "  y = column_or_1d(y, warn=True)\n",
      "/Users/katerynaburovova/PycharmProjects/dehumanization/lib/python3.10/site-packages/sklearn/utils/validation.py:1143: DataConversionWarning: A column-vector y was passed when a 1d array was expected. Please change the shape of y to (n_samples, ), for example using ravel().\n",
      "  y = column_or_1d(y, warn=True)\n",
      "/Users/katerynaburovova/PycharmProjects/dehumanization/lib/python3.10/site-packages/sklearn/utils/validation.py:1143: DataConversionWarning: A column-vector y was passed when a 1d array was expected. Please change the shape of y to (n_samples, ), for example using ravel().\n",
      "  y = column_or_1d(y, warn=True)\n",
      "/Users/katerynaburovova/PycharmProjects/dehumanization/lib/python3.10/site-packages/sklearn/utils/validation.py:1143: DataConversionWarning: A column-vector y was passed when a 1d array was expected. Please change the shape of y to (n_samples, ), for example using ravel().\n",
      "  y = column_or_1d(y, warn=True)\n",
      "/Users/katerynaburovova/PycharmProjects/dehumanization/lib/python3.10/site-packages/sklearn/utils/validation.py:1143: DataConversionWarning: A column-vector y was passed when a 1d array was expected. Please change the shape of y to (n_samples, ), for example using ravel().\n",
      "  y = column_or_1d(y, warn=True)\n",
      "/Users/katerynaburovova/PycharmProjects/dehumanization/lib/python3.10/site-packages/sklearn/utils/validation.py:1143: DataConversionWarning: A column-vector y was passed when a 1d array was expected. Please change the shape of y to (n_samples, ), for example using ravel().\n",
      "  y = column_or_1d(y, warn=True)\n",
      "/Users/katerynaburovova/PycharmProjects/dehumanization/lib/python3.10/site-packages/sklearn/utils/validation.py:1143: DataConversionWarning: A column-vector y was passed when a 1d array was expected. Please change the shape of y to (n_samples, ), for example using ravel().\n",
      "  y = column_or_1d(y, warn=True)\n",
      "/Users/katerynaburovova/PycharmProjects/dehumanization/lib/python3.10/site-packages/sklearn/utils/validation.py:1143: DataConversionWarning: A column-vector y was passed when a 1d array was expected. Please change the shape of y to (n_samples, ), for example using ravel().\n",
      "  y = column_or_1d(y, warn=True)\n",
      "/Users/katerynaburovova/PycharmProjects/dehumanization/lib/python3.10/site-packages/sklearn/utils/validation.py:1143: DataConversionWarning: A column-vector y was passed when a 1d array was expected. Please change the shape of y to (n_samples, ), for example using ravel().\n",
      "  y = column_or_1d(y, warn=True)\n",
      "/Users/katerynaburovova/PycharmProjects/dehumanization/lib/python3.10/site-packages/sklearn/utils/validation.py:1143: DataConversionWarning: A column-vector y was passed when a 1d array was expected. Please change the shape of y to (n_samples, ), for example using ravel().\n",
      "  y = column_or_1d(y, warn=True)\n",
      "/Users/katerynaburovova/PycharmProjects/dehumanization/lib/python3.10/site-packages/sklearn/utils/validation.py:1143: DataConversionWarning: A column-vector y was passed when a 1d array was expected. Please change the shape of y to (n_samples, ), for example using ravel().\n",
      "  y = column_or_1d(y, warn=True)\n",
      "/Users/katerynaburovova/PycharmProjects/dehumanization/lib/python3.10/site-packages/sklearn/utils/validation.py:1143: DataConversionWarning: A column-vector y was passed when a 1d array was expected. Please change the shape of y to (n_samples, ), for example using ravel().\n",
      "  y = column_or_1d(y, warn=True)\n",
      "/Users/katerynaburovova/PycharmProjects/dehumanization/lib/python3.10/site-packages/sklearn/utils/validation.py:1143: DataConversionWarning: A column-vector y was passed when a 1d array was expected. Please change the shape of y to (n_samples, ), for example using ravel().\n",
      "  y = column_or_1d(y, warn=True)\n",
      "/Users/katerynaburovova/PycharmProjects/dehumanization/lib/python3.10/site-packages/sklearn/utils/validation.py:1143: DataConversionWarning: A column-vector y was passed when a 1d array was expected. Please change the shape of y to (n_samples, ), for example using ravel().\n",
      "  y = column_or_1d(y, warn=True)\n",
      "/Users/katerynaburovova/PycharmProjects/dehumanization/lib/python3.10/site-packages/sklearn/utils/validation.py:1143: DataConversionWarning: A column-vector y was passed when a 1d array was expected. Please change the shape of y to (n_samples, ), for example using ravel().\n",
      "  y = column_or_1d(y, warn=True)\n",
      "/Users/katerynaburovova/PycharmProjects/dehumanization/lib/python3.10/site-packages/sklearn/utils/validation.py:1143: DataConversionWarning: A column-vector y was passed when a 1d array was expected. Please change the shape of y to (n_samples, ), for example using ravel().\n",
      "  y = column_or_1d(y, warn=True)\n",
      "/Users/katerynaburovova/PycharmProjects/dehumanization/lib/python3.10/site-packages/sklearn/utils/validation.py:1143: DataConversionWarning: A column-vector y was passed when a 1d array was expected. Please change the shape of y to (n_samples, ), for example using ravel().\n",
      "  y = column_or_1d(y, warn=True)\n",
      "/Users/katerynaburovova/PycharmProjects/dehumanization/lib/python3.10/site-packages/sklearn/utils/validation.py:1143: DataConversionWarning: A column-vector y was passed when a 1d array was expected. Please change the shape of y to (n_samples, ), for example using ravel().\n",
      "  y = column_or_1d(y, warn=True)\n",
      "/Users/katerynaburovova/PycharmProjects/dehumanization/lib/python3.10/site-packages/sklearn/utils/validation.py:1143: DataConversionWarning: A column-vector y was passed when a 1d array was expected. Please change the shape of y to (n_samples, ), for example using ravel().\n",
      "  y = column_or_1d(y, warn=True)\n",
      "/Users/katerynaburovova/PycharmProjects/dehumanization/lib/python3.10/site-packages/sklearn/utils/validation.py:1143: DataConversionWarning: A column-vector y was passed when a 1d array was expected. Please change the shape of y to (n_samples, ), for example using ravel().\n",
      "  y = column_or_1d(y, warn=True)\n",
      "/Users/katerynaburovova/PycharmProjects/dehumanization/lib/python3.10/site-packages/sklearn/utils/validation.py:1143: DataConversionWarning: A column-vector y was passed when a 1d array was expected. Please change the shape of y to (n_samples, ), for example using ravel().\n",
      "  y = column_or_1d(y, warn=True)\n",
      "/Users/katerynaburovova/PycharmProjects/dehumanization/lib/python3.10/site-packages/sklearn/utils/validation.py:1143: DataConversionWarning: A column-vector y was passed when a 1d array was expected. Please change the shape of y to (n_samples, ), for example using ravel().\n",
      "  y = column_or_1d(y, warn=True)\n",
      "/Users/katerynaburovova/PycharmProjects/dehumanization/lib/python3.10/site-packages/sklearn/utils/validation.py:1143: DataConversionWarning: A column-vector y was passed when a 1d array was expected. Please change the shape of y to (n_samples, ), for example using ravel().\n",
      "  y = column_or_1d(y, warn=True)\n",
      "/Users/katerynaburovova/PycharmProjects/dehumanization/lib/python3.10/site-packages/sklearn/utils/validation.py:1143: DataConversionWarning: A column-vector y was passed when a 1d array was expected. Please change the shape of y to (n_samples, ), for example using ravel().\n",
      "  y = column_or_1d(y, warn=True)\n",
      "/Users/katerynaburovova/PycharmProjects/dehumanization/lib/python3.10/site-packages/sklearn/utils/validation.py:1143: DataConversionWarning: A column-vector y was passed when a 1d array was expected. Please change the shape of y to (n_samples, ), for example using ravel().\n",
      "  y = column_or_1d(y, warn=True)\n",
      "/Users/katerynaburovova/PycharmProjects/dehumanization/lib/python3.10/site-packages/sklearn/utils/validation.py:1143: DataConversionWarning: A column-vector y was passed when a 1d array was expected. Please change the shape of y to (n_samples, ), for example using ravel().\n",
      "  y = column_or_1d(y, warn=True)\n",
      "/Users/katerynaburovova/PycharmProjects/dehumanization/lib/python3.10/site-packages/sklearn/utils/validation.py:1143: DataConversionWarning: A column-vector y was passed when a 1d array was expected. Please change the shape of y to (n_samples, ), for example using ravel().\n",
      "  y = column_or_1d(y, warn=True)\n",
      "/Users/katerynaburovova/PycharmProjects/dehumanization/lib/python3.10/site-packages/sklearn/utils/validation.py:1143: DataConversionWarning: A column-vector y was passed when a 1d array was expected. Please change the shape of y to (n_samples, ), for example using ravel().\n",
      "  y = column_or_1d(y, warn=True)\n",
      "/Users/katerynaburovova/PycharmProjects/dehumanization/lib/python3.10/site-packages/sklearn/utils/validation.py:1143: DataConversionWarning: A column-vector y was passed when a 1d array was expected. Please change the shape of y to (n_samples, ), for example using ravel().\n",
      "  y = column_or_1d(y, warn=True)\n",
      "/Users/katerynaburovova/PycharmProjects/dehumanization/lib/python3.10/site-packages/sklearn/utils/validation.py:1143: DataConversionWarning: A column-vector y was passed when a 1d array was expected. Please change the shape of y to (n_samples, ), for example using ravel().\n",
      "  y = column_or_1d(y, warn=True)\n",
      "/Users/katerynaburovova/PycharmProjects/dehumanization/lib/python3.10/site-packages/sklearn/utils/validation.py:1143: DataConversionWarning: A column-vector y was passed when a 1d array was expected. Please change the shape of y to (n_samples, ), for example using ravel().\n",
      "  y = column_or_1d(y, warn=True)\n",
      "/Users/katerynaburovova/PycharmProjects/dehumanization/lib/python3.10/site-packages/sklearn/utils/validation.py:1143: DataConversionWarning: A column-vector y was passed when a 1d array was expected. Please change the shape of y to (n_samples, ), for example using ravel().\n",
      "  y = column_or_1d(y, warn=True)\n",
      "/Users/katerynaburovova/PycharmProjects/dehumanization/lib/python3.10/site-packages/sklearn/utils/validation.py:1143: DataConversionWarning: A column-vector y was passed when a 1d array was expected. Please change the shape of y to (n_samples, ), for example using ravel().\n",
      "  y = column_or_1d(y, warn=True)\n",
      "/Users/katerynaburovova/PycharmProjects/dehumanization/lib/python3.10/site-packages/sklearn/utils/validation.py:1143: DataConversionWarning: A column-vector y was passed when a 1d array was expected. Please change the shape of y to (n_samples, ), for example using ravel().\n",
      "  y = column_or_1d(y, warn=True)\n",
      "/Users/katerynaburovova/PycharmProjects/dehumanization/lib/python3.10/site-packages/sklearn/utils/validation.py:1143: DataConversionWarning: A column-vector y was passed when a 1d array was expected. Please change the shape of y to (n_samples, ), for example using ravel().\n",
      "  y = column_or_1d(y, warn=True)\n",
      "/Users/katerynaburovova/PycharmProjects/dehumanization/lib/python3.10/site-packages/sklearn/utils/validation.py:1143: DataConversionWarning: A column-vector y was passed when a 1d array was expected. Please change the shape of y to (n_samples, ), for example using ravel().\n",
      "  y = column_or_1d(y, warn=True)\n",
      "/Users/katerynaburovova/PycharmProjects/dehumanization/lib/python3.10/site-packages/sklearn/utils/validation.py:1143: DataConversionWarning: A column-vector y was passed when a 1d array was expected. Please change the shape of y to (n_samples, ), for example using ravel().\n",
      "  y = column_or_1d(y, warn=True)\n",
      "/Users/katerynaburovova/PycharmProjects/dehumanization/lib/python3.10/site-packages/sklearn/utils/validation.py:1143: DataConversionWarning: A column-vector y was passed when a 1d array was expected. Please change the shape of y to (n_samples, ), for example using ravel().\n",
      "  y = column_or_1d(y, warn=True)\n",
      "/Users/katerynaburovova/PycharmProjects/dehumanization/lib/python3.10/site-packages/sklearn/utils/validation.py:1143: DataConversionWarning: A column-vector y was passed when a 1d array was expected. Please change the shape of y to (n_samples, ), for example using ravel().\n",
      "  y = column_or_1d(y, warn=True)\n",
      "/Users/katerynaburovova/PycharmProjects/dehumanization/lib/python3.10/site-packages/sklearn/utils/validation.py:1143: DataConversionWarning: A column-vector y was passed when a 1d array was expected. Please change the shape of y to (n_samples, ), for example using ravel().\n",
      "  y = column_or_1d(y, warn=True)\n",
      "/Users/katerynaburovova/PycharmProjects/dehumanization/lib/python3.10/site-packages/sklearn/utils/validation.py:1143: DataConversionWarning: A column-vector y was passed when a 1d array was expected. Please change the shape of y to (n_samples, ), for example using ravel().\n",
      "  y = column_or_1d(y, warn=True)\n",
      "/Users/katerynaburovova/PycharmProjects/dehumanization/lib/python3.10/site-packages/sklearn/utils/validation.py:1143: DataConversionWarning: A column-vector y was passed when a 1d array was expected. Please change the shape of y to (n_samples, ), for example using ravel().\n",
      "  y = column_or_1d(y, warn=True)\n",
      "/Users/katerynaburovova/PycharmProjects/dehumanization/lib/python3.10/site-packages/sklearn/utils/validation.py:1143: DataConversionWarning: A column-vector y was passed when a 1d array was expected. Please change the shape of y to (n_samples, ), for example using ravel().\n",
      "  y = column_or_1d(y, warn=True)\n",
      "/Users/katerynaburovova/PycharmProjects/dehumanization/lib/python3.10/site-packages/sklearn/utils/validation.py:1143: DataConversionWarning: A column-vector y was passed when a 1d array was expected. Please change the shape of y to (n_samples, ), for example using ravel().\n",
      "  y = column_or_1d(y, warn=True)\n",
      "/Users/katerynaburovova/PycharmProjects/dehumanization/lib/python3.10/site-packages/sklearn/utils/validation.py:1143: DataConversionWarning: A column-vector y was passed when a 1d array was expected. Please change the shape of y to (n_samples, ), for example using ravel().\n",
      "  y = column_or_1d(y, warn=True)\n",
      "/Users/katerynaburovova/PycharmProjects/dehumanization/lib/python3.10/site-packages/sklearn/utils/validation.py:1143: DataConversionWarning: A column-vector y was passed when a 1d array was expected. Please change the shape of y to (n_samples, ), for example using ravel().\n",
      "  y = column_or_1d(y, warn=True)\n",
      "/Users/katerynaburovova/PycharmProjects/dehumanization/lib/python3.10/site-packages/sklearn/utils/validation.py:1143: DataConversionWarning: A column-vector y was passed when a 1d array was expected. Please change the shape of y to (n_samples, ), for example using ravel().\n",
      "  y = column_or_1d(y, warn=True)\n",
      "/Users/katerynaburovova/PycharmProjects/dehumanization/lib/python3.10/site-packages/sklearn/utils/validation.py:1143: DataConversionWarning: A column-vector y was passed when a 1d array was expected. Please change the shape of y to (n_samples, ), for example using ravel().\n",
      "  y = column_or_1d(y, warn=True)\n",
      "/Users/katerynaburovova/PycharmProjects/dehumanization/lib/python3.10/site-packages/sklearn/utils/validation.py:1143: DataConversionWarning: A column-vector y was passed when a 1d array was expected. Please change the shape of y to (n_samples, ), for example using ravel().\n",
      "  y = column_or_1d(y, warn=True)\n",
      "/Users/katerynaburovova/PycharmProjects/dehumanization/lib/python3.10/site-packages/sklearn/utils/validation.py:1143: DataConversionWarning: A column-vector y was passed when a 1d array was expected. Please change the shape of y to (n_samples, ), for example using ravel().\n",
      "  y = column_or_1d(y, warn=True)\n",
      "/Users/katerynaburovova/PycharmProjects/dehumanization/lib/python3.10/site-packages/sklearn/utils/validation.py:1143: DataConversionWarning: A column-vector y was passed when a 1d array was expected. Please change the shape of y to (n_samples, ), for example using ravel().\n",
      "  y = column_or_1d(y, warn=True)\n",
      "/Users/katerynaburovova/PycharmProjects/dehumanization/lib/python3.10/site-packages/sklearn/utils/validation.py:1143: DataConversionWarning: A column-vector y was passed when a 1d array was expected. Please change the shape of y to (n_samples, ), for example using ravel().\n",
      "  y = column_or_1d(y, warn=True)\n"
     ]
    },
    {
     "name": "stdout",
     "output_type": "stream",
     "text": [
      "CPU times: user 41min 9s, sys: 11.7 s, total: 41min 21s\n",
      "Wall time: 41min 33s\n"
     ]
    }
   ],
   "source": [
    "%%time\n",
    "all_trained_pipelines = []\n",
    "all_results = []\n",
    "for col_set in all_col_variations:\n",
    "    current_pipe, results = train_svm(df_dehumanization, col_set, label_column)\n",
    "    all_trained_pipelines.append(current_pipe)\n",
    "    all_results.append(results)"
   ],
   "metadata": {
    "collapsed": false,
    "pycharm": {
     "name": "#%%\n"
    }
   }
  },
  {
   "cell_type": "code",
   "execution_count": 44,
   "outputs": [
    {
     "name": "stdout",
     "output_type": "stream",
     "text": [
      "20\n"
     ]
    }
   ],
   "source": [
    "idx_largest = max(range(len(all_results)), key=lambda i: all_results[i][-1])\n",
    "\n",
    "next_largest = max([all_results[i][-1] for i in range(len(all_results)) if all_results[i][-1] < all_results[idx_largest][-1]])\n",
    "idx_next_largest = max([i for i in range(len(all_results)) if all_results[i][-1] == next_largest])\n",
    "\n",
    "print(idx_next_largest)"
   ],
   "metadata": {
    "collapsed": false,
    "pycharm": {
     "name": "#%%\n"
    }
   }
  },
  {
   "cell_type": "code",
   "execution_count": 45,
   "outputs": [
    {
     "data": {
      "text/plain": "[0.8246110325318247,\n 0.8090614886731392,\n 0.7936507936507936,\n 0.8012820512820513]"
     },
     "execution_count": 45,
     "metadata": {},
     "output_type": "execute_result"
    }
   ],
   "source": [
    "all_results[idx_largest]"
   ],
   "metadata": {
    "collapsed": false,
    "pycharm": {
     "name": "#%%\n"
    }
   }
  },
  {
   "cell_type": "code",
   "execution_count": 46,
   "outputs": [
    {
     "data": {
      "text/plain": "Pipeline(steps=[('vectorizer',\n                 MultiColumnTfidfVectorizer(columns=['text_lemmatized'])),\n                ('classifier', SVC(C=1, kernel='linear', random_state=42))])",
      "text/html": "<style>#sk-container-id-1 {color: black;background-color: white;}#sk-container-id-1 pre{padding: 0;}#sk-container-id-1 div.sk-toggleable {background-color: white;}#sk-container-id-1 label.sk-toggleable__label {cursor: pointer;display: block;width: 100%;margin-bottom: 0;padding: 0.3em;box-sizing: border-box;text-align: center;}#sk-container-id-1 label.sk-toggleable__label-arrow:before {content: \"▸\";float: left;margin-right: 0.25em;color: #696969;}#sk-container-id-1 label.sk-toggleable__label-arrow:hover:before {color: black;}#sk-container-id-1 div.sk-estimator:hover label.sk-toggleable__label-arrow:before {color: black;}#sk-container-id-1 div.sk-toggleable__content {max-height: 0;max-width: 0;overflow: hidden;text-align: left;background-color: #f0f8ff;}#sk-container-id-1 div.sk-toggleable__content pre {margin: 0.2em;color: black;border-radius: 0.25em;background-color: #f0f8ff;}#sk-container-id-1 input.sk-toggleable__control:checked~div.sk-toggleable__content {max-height: 200px;max-width: 100%;overflow: auto;}#sk-container-id-1 input.sk-toggleable__control:checked~label.sk-toggleable__label-arrow:before {content: \"▾\";}#sk-container-id-1 div.sk-estimator input.sk-toggleable__control:checked~label.sk-toggleable__label {background-color: #d4ebff;}#sk-container-id-1 div.sk-label input.sk-toggleable__control:checked~label.sk-toggleable__label {background-color: #d4ebff;}#sk-container-id-1 input.sk-hidden--visually {border: 0;clip: rect(1px 1px 1px 1px);clip: rect(1px, 1px, 1px, 1px);height: 1px;margin: -1px;overflow: hidden;padding: 0;position: absolute;width: 1px;}#sk-container-id-1 div.sk-estimator {font-family: monospace;background-color: #f0f8ff;border: 1px dotted black;border-radius: 0.25em;box-sizing: border-box;margin-bottom: 0.5em;}#sk-container-id-1 div.sk-estimator:hover {background-color: #d4ebff;}#sk-container-id-1 div.sk-parallel-item::after {content: \"\";width: 100%;border-bottom: 1px solid gray;flex-grow: 1;}#sk-container-id-1 div.sk-label:hover label.sk-toggleable__label {background-color: #d4ebff;}#sk-container-id-1 div.sk-serial::before {content: \"\";position: absolute;border-left: 1px solid gray;box-sizing: border-box;top: 0;bottom: 0;left: 50%;z-index: 0;}#sk-container-id-1 div.sk-serial {display: flex;flex-direction: column;align-items: center;background-color: white;padding-right: 0.2em;padding-left: 0.2em;position: relative;}#sk-container-id-1 div.sk-item {position: relative;z-index: 1;}#sk-container-id-1 div.sk-parallel {display: flex;align-items: stretch;justify-content: center;background-color: white;position: relative;}#sk-container-id-1 div.sk-item::before, #sk-container-id-1 div.sk-parallel-item::before {content: \"\";position: absolute;border-left: 1px solid gray;box-sizing: border-box;top: 0;bottom: 0;left: 50%;z-index: -1;}#sk-container-id-1 div.sk-parallel-item {display: flex;flex-direction: column;z-index: 1;position: relative;background-color: white;}#sk-container-id-1 div.sk-parallel-item:first-child::after {align-self: flex-end;width: 50%;}#sk-container-id-1 div.sk-parallel-item:last-child::after {align-self: flex-start;width: 50%;}#sk-container-id-1 div.sk-parallel-item:only-child::after {width: 0;}#sk-container-id-1 div.sk-dashed-wrapped {border: 1px dashed gray;margin: 0 0.4em 0.5em 0.4em;box-sizing: border-box;padding-bottom: 0.4em;background-color: white;}#sk-container-id-1 div.sk-label label {font-family: monospace;font-weight: bold;display: inline-block;line-height: 1.2em;}#sk-container-id-1 div.sk-label-container {text-align: center;}#sk-container-id-1 div.sk-container {/* jupyter's `normalize.less` sets `[hidden] { display: none; }` but bootstrap.min.css set `[hidden] { display: none !important; }` so we also need the `!important` here to be able to override the default hidden behavior on the sphinx rendered scikit-learn.org. See: https://github.com/scikit-learn/scikit-learn/issues/21755 */display: inline-block !important;position: relative;}#sk-container-id-1 div.sk-text-repr-fallback {display: none;}</style><div id=\"sk-container-id-1\" class=\"sk-top-container\"><div class=\"sk-text-repr-fallback\"><pre>Pipeline(steps=[(&#x27;vectorizer&#x27;,\n                 MultiColumnTfidfVectorizer(columns=[&#x27;text_lemmatized&#x27;])),\n                (&#x27;classifier&#x27;, SVC(C=1, kernel=&#x27;linear&#x27;, random_state=42))])</pre><b>In a Jupyter environment, please rerun this cell to show the HTML representation or trust the notebook. <br />On GitHub, the HTML representation is unable to render, please try loading this page with nbviewer.org.</b></div><div class=\"sk-container\" hidden><div class=\"sk-item sk-dashed-wrapped\"><div class=\"sk-label-container\"><div class=\"sk-label sk-toggleable\"><input class=\"sk-toggleable__control sk-hidden--visually\" id=\"sk-estimator-id-1\" type=\"checkbox\" ><label for=\"sk-estimator-id-1\" class=\"sk-toggleable__label sk-toggleable__label-arrow\">Pipeline</label><div class=\"sk-toggleable__content\"><pre>Pipeline(steps=[(&#x27;vectorizer&#x27;,\n                 MultiColumnTfidfVectorizer(columns=[&#x27;text_lemmatized&#x27;])),\n                (&#x27;classifier&#x27;, SVC(C=1, kernel=&#x27;linear&#x27;, random_state=42))])</pre></div></div></div><div class=\"sk-serial\"><div class=\"sk-item\"><div class=\"sk-estimator sk-toggleable\"><input class=\"sk-toggleable__control sk-hidden--visually\" id=\"sk-estimator-id-2\" type=\"checkbox\" ><label for=\"sk-estimator-id-2\" class=\"sk-toggleable__label sk-toggleable__label-arrow\">MultiColumnTfidfVectorizer</label><div class=\"sk-toggleable__content\"><pre>MultiColumnTfidfVectorizer(columns=[&#x27;text_lemmatized&#x27;])</pre></div></div></div><div class=\"sk-item\"><div class=\"sk-estimator sk-toggleable\"><input class=\"sk-toggleable__control sk-hidden--visually\" id=\"sk-estimator-id-3\" type=\"checkbox\" ><label for=\"sk-estimator-id-3\" class=\"sk-toggleable__label sk-toggleable__label-arrow\">SVC</label><div class=\"sk-toggleable__content\"><pre>SVC(C=1, kernel=&#x27;linear&#x27;, random_state=42)</pre></div></div></div></div></div></div></div>"
     },
     "execution_count": 46,
     "metadata": {},
     "output_type": "execute_result"
    }
   ],
   "source": [
    "all_trained_pipelines[idx_largest]"
   ],
   "metadata": {
    "collapsed": false,
    "pycharm": {
     "name": "#%%\n"
    }
   }
  },
  {
   "cell_type": "code",
   "execution_count": 47,
   "outputs": [
    {
     "data": {
      "text/plain": "{'memory': None,\n 'steps': [('vectorizer',\n   MultiColumnTfidfVectorizer(columns=['text_lemmatized'])),\n  ('classifier', SVC(C=1, kernel='linear', random_state=42))],\n 'verbose': False,\n 'vectorizer': MultiColumnTfidfVectorizer(columns=['text_lemmatized']),\n 'classifier': SVC(C=1, kernel='linear', random_state=42),\n 'vectorizer__columns': ['text_lemmatized'],\n 'classifier__C': 1,\n 'classifier__break_ties': False,\n 'classifier__cache_size': 200,\n 'classifier__class_weight': None,\n 'classifier__coef0': 0.0,\n 'classifier__decision_function_shape': 'ovr',\n 'classifier__degree': 3,\n 'classifier__gamma': 'scale',\n 'classifier__kernel': 'linear',\n 'classifier__max_iter': -1,\n 'classifier__probability': False,\n 'classifier__random_state': 42,\n 'classifier__shrinking': True,\n 'classifier__tol': 0.001,\n 'classifier__verbose': False}"
     },
     "execution_count": 47,
     "metadata": {},
     "output_type": "execute_result"
    }
   ],
   "source": [
    "all_trained_pipelines[idx_largest].get_params()"
   ],
   "metadata": {
    "collapsed": false,
    "pycharm": {
     "name": "#%%\n"
    }
   }
  },
  {
   "cell_type": "code",
   "execution_count": 52,
   "outputs": [
    {
     "data": {
      "text/plain": "     Dehumanization                                               text  label  \\\n0               так  Всвязи с этим немного поправлю коллег ⤵️  \"Они...      1   \n1                ні  Литературный критик Галина Юзефович о новом ро...      0   \n2               так  Почему на базах неонацистов стоят языческие ис...      1   \n3               так  Группа добровольцев-медиков из Чеченской Респу...      1   \n4                ні  ВСУшники, переходите на сторону добра, у нас т...      0   \n...             ...                                                ...    ...   \n3526             ні  Утренний брифинг Минобороны России:  ▪️ россий...      0   \n3527             ні  И понеслась мазепинщино-петлюровщино-бандеровщ...      0   \n3528             ні  Наш соратник по русскому движению Алексей Сели...      0   \n3529            так  Хорошее видео от 4 бригады НМ ЛНР https://t.me...      1   \n3530             ні  Замоскворецкий районный суд Москвы отклонил ис...      0   \n\n                                             text_clean  \\\n0     всвязи с этим немного поправлю коллег   они не...   \n1     литературный критик галина юзефович о новом ро...   \n2     почему на базах неонацистов стоят языческие ис...   \n3     группа добровольцевмедиков из чеченской респуб...   \n4     всушники переходите на сторону добра у нас теп...   \n...                                                 ...   \n3526  утренний брифинг минобороны россии   российски...   \n3527    и понеслась мазепинщинопетлюровщинобандеровщина   \n3528  наш соратник по русскому движению алексей сели...   \n3529  хорошее видео от  бригады нм лнр  обработка по...   \n3530  замоскворецкий районный суд москвы отклонил ис...   \n\n                                        text_lemmatized  \\\n0     всвязи с это немного поправить коллега    они ...   \n1     литературный критик галина юзефович о новый ро...   \n2     почему на база неонацист стоять языческий исту...   \n3     группа добровольцевмедиков из чеченский респуб...   \n4     всушники переходить на сторона добро у нас тёп...   \n...                                                 ...   \n3526  утренний брифинг минобороны россия    российск...   \n3527    и понестись мазепинщинопетлюровщинобандеровщина   \n3528  наш соратник по русский движение алексей селив...   \n3529  хороший видео от   бригада нм лнр   обработка ...   \n3530  замоскворецкий районный суд москва отклонить и...   \n\n                                         core_noun_verb  \\\n0     Всвязи немного поправлю, Они не начинать, мы д...   \n1     критик все состоит, достоинство все состоит, э...   \n2                                 истуканы Почему стоят   \n3                Группа наравне вносит, врачи оказывают   \n4                        ВСУшники переходите, тепло нас   \n...                                                 ...   \n3526  брифинг продвинулись, силы продвинулись, групп...   \n3527                                                      \n3528                             соратник вместе прибыл   \n3529                                                      \n3530                                       суд отклонил   \n\n                                           verb_obl_obj  \\\n0     немного поправлю коллег, не начинать армагеддо...   \n1            состоит в том, захватывающе читать которую   \n2                                 Почему стоят на базах   \n3     вносит лепту, вносит в дело, вносит -, вносит ...   \n4                                 переходите на сторону   \n...                                                 ...   \n3526  продвинулись за ночь, продвинулись на км, разв...   \n3527  понеслась петлюровщино, понеслась -, понеслась...   \n3528  прибыл в область, создавать органы, создавать ...   \n3529                                                      \n3530                     отклонил иск, отменить решение   \n\n                                                   nmod  \\\n0     Всвязи с этим, диверсии в Польше, удар ТЯО, уд...   \n1     критик петербуржца романе, романе петербуржца,...   \n2     базах неонацистов, Гость студии, протоиерей СМ...   \n3     Группа добровольцев, Группа -, Группа медиков,...   \n4                                         сторону добра   \n...                                                 ...   \n3526  брифинг Минобороны, наступление бригады подраз...   \n3527                                                      \n3528  соратник русскому движению, армией России, орг...   \n3529  видео НМ бригады, бригады НМ, обработка позици...   \n3530  суд Москвы, иск историка, иск РФ Минюсту, иск ...   \n\n                                                   amod comp  \n0     ядерный армагеддон, осознанный удар, Львовской...       \n1     Литературный критик, новом романе, Главное дос...       \n2                                    языческие истуканы       \n3     бандеровских мразей, подлых шайтанов, Республи...       \n4                                      вкусные печеньки       \n...                                                 ...  ...  \n3526  Утренний брифинг, российские силы, украинской ...       \n3527                                                          \n3528  русскому движению, Запорожскую область, мирной...       \n3529                  Хорошее видео, пифтонными бомбами       \n3530                   Замоскворецкий суд, районный суд       \n\n[3531 rows x 10 columns]",
      "text/html": "<div>\n<style scoped>\n    .dataframe tbody tr th:only-of-type {\n        vertical-align: middle;\n    }\n\n    .dataframe tbody tr th {\n        vertical-align: top;\n    }\n\n    .dataframe thead th {\n        text-align: right;\n    }\n</style>\n<table border=\"1\" class=\"dataframe\">\n  <thead>\n    <tr style=\"text-align: right;\">\n      <th></th>\n      <th>Dehumanization</th>\n      <th>text</th>\n      <th>label</th>\n      <th>text_clean</th>\n      <th>text_lemmatized</th>\n      <th>core_noun_verb</th>\n      <th>verb_obl_obj</th>\n      <th>nmod</th>\n      <th>amod</th>\n      <th>comp</th>\n    </tr>\n  </thead>\n  <tbody>\n    <tr>\n      <th>0</th>\n      <td>так</td>\n      <td>Всвязи с этим немного поправлю коллег ⤵️  \"Они...</td>\n      <td>1</td>\n      <td>всвязи с этим немного поправлю коллег   они не...</td>\n      <td>всвязи с это немного поправить коллега    они ...</td>\n      <td>Всвязи немного поправлю, Они не начинать, мы д...</td>\n      <td>немного поправлю коллег, не начинать армагеддо...</td>\n      <td>Всвязи с этим, диверсии в Польше, удар ТЯО, уд...</td>\n      <td>ядерный армагеддон, осознанный удар, Львовской...</td>\n      <td></td>\n    </tr>\n    <tr>\n      <th>1</th>\n      <td>ні</td>\n      <td>Литературный критик Галина Юзефович о новом ро...</td>\n      <td>0</td>\n      <td>литературный критик галина юзефович о новом ро...</td>\n      <td>литературный критик галина юзефович о новый ро...</td>\n      <td>критик все состоит, достоинство все состоит, э...</td>\n      <td>состоит в том, захватывающе читать которую</td>\n      <td>критик петербуржца романе, романе петербуржца,...</td>\n      <td>Литературный критик, новом романе, Главное дос...</td>\n      <td></td>\n    </tr>\n    <tr>\n      <th>2</th>\n      <td>так</td>\n      <td>Почему на базах неонацистов стоят языческие ис...</td>\n      <td>1</td>\n      <td>почему на базах неонацистов стоят языческие ис...</td>\n      <td>почему на база неонацист стоять языческий исту...</td>\n      <td>истуканы Почему стоят</td>\n      <td>Почему стоят на базах</td>\n      <td>базах неонацистов, Гость студии, протоиерей СМ...</td>\n      <td>языческие истуканы</td>\n      <td></td>\n    </tr>\n    <tr>\n      <th>3</th>\n      <td>так</td>\n      <td>Группа добровольцев-медиков из Чеченской Респу...</td>\n      <td>1</td>\n      <td>группа добровольцевмедиков из чеченской респуб...</td>\n      <td>группа добровольцевмедиков из чеченский респуб...</td>\n      <td>Группа наравне вносит, врачи оказывают</td>\n      <td>вносит лепту, вносит в дело, вносит -, вносит ...</td>\n      <td>Группа добровольцев, Группа -, Группа медиков,...</td>\n      <td>бандеровских мразей, подлых шайтанов, Республи...</td>\n      <td></td>\n    </tr>\n    <tr>\n      <th>4</th>\n      <td>ні</td>\n      <td>ВСУшники, переходите на сторону добра, у нас т...</td>\n      <td>0</td>\n      <td>всушники переходите на сторону добра у нас теп...</td>\n      <td>всушники переходить на сторона добро у нас тёп...</td>\n      <td>ВСУшники переходите, тепло нас</td>\n      <td>переходите на сторону</td>\n      <td>сторону добра</td>\n      <td>вкусные печеньки</td>\n      <td></td>\n    </tr>\n    <tr>\n      <th>...</th>\n      <td>...</td>\n      <td>...</td>\n      <td>...</td>\n      <td>...</td>\n      <td>...</td>\n      <td>...</td>\n      <td>...</td>\n      <td>...</td>\n      <td>...</td>\n      <td>...</td>\n    </tr>\n    <tr>\n      <th>3526</th>\n      <td>ні</td>\n      <td>Утренний брифинг Минобороны России:  ▪️ россий...</td>\n      <td>0</td>\n      <td>утренний брифинг минобороны россии   российски...</td>\n      <td>утренний брифинг минобороны россия    российск...</td>\n      <td>брифинг продвинулись, силы продвинулись, групп...</td>\n      <td>продвинулись за ночь, продвинулись на км, разв...</td>\n      <td>брифинг Минобороны, наступление бригады подраз...</td>\n      <td>Утренний брифинг, российские силы, украинской ...</td>\n      <td></td>\n    </tr>\n    <tr>\n      <th>3527</th>\n      <td>ні</td>\n      <td>И понеслась мазепинщино-петлюровщино-бандеровщ...</td>\n      <td>0</td>\n      <td>и понеслась мазепинщинопетлюровщинобандеровщина</td>\n      <td>и понестись мазепинщинопетлюровщинобандеровщина</td>\n      <td></td>\n      <td>понеслась петлюровщино, понеслась -, понеслась...</td>\n      <td></td>\n      <td></td>\n      <td></td>\n    </tr>\n    <tr>\n      <th>3528</th>\n      <td>ні</td>\n      <td>Наш соратник по русскому движению Алексей Сели...</td>\n      <td>0</td>\n      <td>наш соратник по русскому движению алексей сели...</td>\n      <td>наш соратник по русский движение алексей селив...</td>\n      <td>соратник вместе прибыл</td>\n      <td>прибыл в область, создавать органы, создавать ...</td>\n      <td>соратник русскому движению, армией России, орг...</td>\n      <td>русскому движению, Запорожскую область, мирной...</td>\n      <td></td>\n    </tr>\n    <tr>\n      <th>3529</th>\n      <td>так</td>\n      <td>Хорошее видео от 4 бригады НМ ЛНР https://t.me...</td>\n      <td>1</td>\n      <td>хорошее видео от  бригады нм лнр  обработка по...</td>\n      <td>хороший видео от   бригада нм лнр   обработка ...</td>\n      <td></td>\n      <td></td>\n      <td>видео НМ бригады, бригады НМ, обработка позици...</td>\n      <td>Хорошее видео, пифтонными бомбами</td>\n      <td></td>\n    </tr>\n    <tr>\n      <th>3530</th>\n      <td>ні</td>\n      <td>Замоскворецкий районный суд Москвы отклонил ис...</td>\n      <td>0</td>\n      <td>замоскворецкий районный суд москвы отклонил ис...</td>\n      <td>замоскворецкий районный суд москва отклонить и...</td>\n      <td>суд отклонил</td>\n      <td>отклонил иск, отменить решение</td>\n      <td>суд Москвы, иск историка, иск РФ Минюсту, иск ...</td>\n      <td>Замоскворецкий суд, районный суд</td>\n      <td></td>\n    </tr>\n  </tbody>\n</table>\n<p>3531 rows × 10 columns</p>\n</div>"
     },
     "execution_count": 52,
     "metadata": {},
     "output_type": "execute_result"
    }
   ],
   "source": [
    "df_dehumanization"
   ],
   "metadata": {
    "collapsed": false,
    "pycharm": {
     "name": "#%%\n"
    }
   }
  },
  {
   "cell_type": "markdown",
   "source": [
    "## With augmentation"
   ],
   "metadata": {
    "collapsed": false,
    "pycharm": {
     "name": "#%% md\n"
    }
   }
  },
  {
   "cell_type": "code",
   "execution_count": 54,
   "outputs": [],
   "source": [
    "import pandas as pd\n",
    "# df_rm = pd.read_csv('/Users/katerynaburovova/PycharmProjects/dehumanization/augmentation/augm_removed_dehumanization.csv', index_col=[0])"
   ],
   "metadata": {
    "collapsed": false,
    "pycharm": {
     "name": "#%%\n"
    }
   }
  },
  {
   "cell_type": "code",
   "execution_count": 38,
   "outputs": [],
   "source": [
    "from collocation_extraction import collect_verb_obl_obj, collect_core, collect_nmod, collect_amod, collect_comp, collect_appos, show_dependency, lst_to_str\n",
    "from sklearn.svm import SVC\n",
    "from sklearn.model_selection import train_test_split\n",
    "from sklearn.metrics import accuracy_score, precision_score, recall_score, f1_score\n",
    "from scipy.sparse import hstack\n",
    "from sklearn.pipeline import Pipeline\n",
    "from sklearn.base import BaseEstimator, TransformerMixin\n",
    "from sklearn.model_selection import train_test_split\n",
    "from sklearn.feature_extraction.text import TfidfVectorizer\n",
    "from sklearn.model_selection import GridSearchCV\n",
    "from scipy.sparse import hstack\n",
    "from sklearn.pipeline import Pipeline\n"
   ],
   "metadata": {
    "collapsed": false,
    "pycharm": {
     "name": "#%%\n"
    }
   }
  },
  {
   "cell_type": "code",
   "execution_count": 11,
   "outputs": [],
   "source": [
    "# df_add = pd.read_csv('/Users/katerynaburovova/PycharmProjects/dehumanization/augmentation/augm_added_dehumanization.csv', index_col=[0])\n",
    "df_augmentation = pd.read_csv('/Users/katerynaburovova/PycharmProjects/dehumanization/augmentation/augm_neutal_in_class.csv', index_col=[0])"
   ],
   "metadata": {
    "collapsed": false,
    "pycharm": {
     "name": "#%%\n"
    }
   }
  },
  {
   "cell_type": "code",
   "execution_count": 15,
   "outputs": [
    {
     "data": {
      "text/plain": "      index                  Emotion Dehumanization Mention   External ID  \\\n3      3247   ні, оцінка не присутня             ні     так  row_1000.txt   \n4      3246   ні, оцінка не присутня             ні     так  row_1001.txt   \n8      3240   ні, оцінка не присутня             ні     так  row_1007.txt   \n10     3238   ні, оцінка не присутня             ні     так  row_1009.txt   \n12     3288   ні, оцінка не присутня             ні     так  row_1011.txt   \n...     ...                      ...            ...     ...           ...   \n2490   2402  так, присутня негативна             ні     так    row_99.txt   \n2494   3615   ні, оцінка не присутня             ні     так   row_993.txt   \n2495   3613   ні, оцінка не присутня             ні     так   row_995.txt   \n2496   3612  так, присутня негативна             ні     так   row_996.txt   \n2497   4121  так, присутня негативна             ні     так   row_997.txt   \n\n                        Created By  \\\n3           tutovadesign@gmail.com   \n4           tutovadesign@gmail.com   \n8           tutovadesign@gmail.com   \n10          tutovadesign@gmail.com   \n12          tutovadesign@gmail.com   \n...                            ...   \n2490  nazariy.melnychuk9@gmail.com   \n2494        tutovadesign@gmail.com   \n2495        tutovadesign@gmail.com   \n2496        tutovadesign@gmail.com   \n2497  yevhen.marchenko91@gmail.com   \n\n                                                   text  rating  \\\n3     ВСУшники, переходите на сторону добра, у нас т...       5   \n4     Наши ребята столкнулись с полком «Азов» и морс...       5   \n8     ⚡️ВСУ нанесли артиллерийский удар по больнице ...       5   \n10    Применение Коллективных сил Организации Догово...       5   \n12    В этом списке есть Кум, есть уважаемые партнер...       5   \n...                                                 ...     ...   \n2490  🇺🇦❌Очередной фейк укропропаганды  Укропаблики ...       7   \n2494  ⚡️Путин: Нам нужно ответить на вопрос, который...       5   \n2495  Утренний брифинг Минобороны России:  ▪️ россий...       5   \n2496  И понеслась мазепинщино-петлюровщино-бандеровщ...       5   \n2497  Наш соратник по русскому движению Алексей Сели...       3   \n\n                                             text_clean  \\\n3     всушники, переходите на сторону добра, у нас т...   \n4     наши ребята столкнулись с полком азов и морско...   \n8     всу нанесли артиллерийский удар по больнице в ...   \n10    применение коллективных сил организации догово...   \n12    в этом списке есть кум, есть уважаемые партнер...   \n...                                                 ...   \n2490  очередной фейк укропропаганды  укропаблики сег...   \n2494  путин: нам нужно ответить на вопрос, который п...   \n2495  утренний брифинг минобороны россии:   российск...   \n2496  и понеслась мазепинщино-петлюровщино-бандеровщ...   \n2497  наш соратник по русскому движению алексей сели...   \n\n                                        text_lemmatized  \\\n3     ['всушники', ',', 'переходить', 'на', 'сторона...   \n4     ['наш', 'ребята', 'столкнуться', 'с', 'полок',...   \n8     ['всу', 'нанести', 'артиллерийский', 'удар', '...   \n10    ['применение', 'коллективный', 'сила', 'органи...   \n12    ['в', 'этот', 'список', 'быть', 'кум', ',', 'б...   \n...                                                 ...   \n2490  ['очередной', 'фейк', 'укропропаганды', ' ', '...   \n2494  ['путин', ':', 'нам', 'нужный', 'ответить', 'н...   \n2495  ['утренний', 'брифинг', 'минобороны', 'россия'...   \n2496  ['и', 'понестись', 'мазепинщино', '-', 'петлюр...   \n2497  ['наш', 'соратник', 'по', 'русский', 'движение...   \n\n                                       found_ukrainians  \\\n3     [{'lemma': 'всушник', 'position': 0, 'morph_fo...   \n4     [{'lemma': 'всу', 'position': 9, 'morph_form':...   \n8     [{'lemma': 'всу', 'position': 0, 'morph_form':...   \n10                                                   []   \n12                                                   []   \n...                                                 ...   \n2490                                                 []   \n2494                                                 []   \n2495                                                 []   \n2496                                                 []   \n2497  [{'lemma': 'укроп', 'position': 27, 'morph_for...   \n\n                       replaced_neutral_sent_ukrainians  \n3     украинцы, переходите на сторону добра, у нас т...  \n4     наши ребята столкнулись с полком азов и морско...  \n8     украинцы нанесли артиллерийский удар по больни...  \n10    применение коллективных сил организации догово...  \n12    в этом списке есть кум, есть уважаемые партнер...  \n...                                                 ...  \n2490  очередной фейк укропропаганды  укропаблики сег...  \n2494  путин: нам нужно ответить на вопрос, который п...  \n2495  утренний брифинг минобороны россии:   российск...  \n2496  и понеслась мазепинщино-петлюровщино-бандеровщ...  \n2497  наш соратник по русскому движению алексей сели...  \n\n[880 rows x 12 columns]",
      "text/html": "<div>\n<style scoped>\n    .dataframe tbody tr th:only-of-type {\n        vertical-align: middle;\n    }\n\n    .dataframe tbody tr th {\n        vertical-align: top;\n    }\n\n    .dataframe thead th {\n        text-align: right;\n    }\n</style>\n<table border=\"1\" class=\"dataframe\">\n  <thead>\n    <tr style=\"text-align: right;\">\n      <th></th>\n      <th>index</th>\n      <th>Emotion</th>\n      <th>Dehumanization</th>\n      <th>Mention</th>\n      <th>External ID</th>\n      <th>Created By</th>\n      <th>text</th>\n      <th>rating</th>\n      <th>text_clean</th>\n      <th>text_lemmatized</th>\n      <th>found_ukrainians</th>\n      <th>replaced_neutral_sent_ukrainians</th>\n    </tr>\n  </thead>\n  <tbody>\n    <tr>\n      <th>3</th>\n      <td>3247</td>\n      <td>ні, оцінка не присутня</td>\n      <td>ні</td>\n      <td>так</td>\n      <td>row_1000.txt</td>\n      <td>tutovadesign@gmail.com</td>\n      <td>ВСУшники, переходите на сторону добра, у нас т...</td>\n      <td>5</td>\n      <td>всушники, переходите на сторону добра, у нас т...</td>\n      <td>['всушники', ',', 'переходить', 'на', 'сторона...</td>\n      <td>[{'lemma': 'всушник', 'position': 0, 'morph_fo...</td>\n      <td>украинцы, переходите на сторону добра, у нас т...</td>\n    </tr>\n    <tr>\n      <th>4</th>\n      <td>3246</td>\n      <td>ні, оцінка не присутня</td>\n      <td>ні</td>\n      <td>так</td>\n      <td>row_1001.txt</td>\n      <td>tutovadesign@gmail.com</td>\n      <td>Наши ребята столкнулись с полком «Азов» и морс...</td>\n      <td>5</td>\n      <td>наши ребята столкнулись с полком азов и морско...</td>\n      <td>['наш', 'ребята', 'столкнуться', 'с', 'полок',...</td>\n      <td>[{'lemma': 'всу', 'position': 9, 'morph_form':...</td>\n      <td>наши ребята столкнулись с полком азов и морско...</td>\n    </tr>\n    <tr>\n      <th>8</th>\n      <td>3240</td>\n      <td>ні, оцінка не присутня</td>\n      <td>ні</td>\n      <td>так</td>\n      <td>row_1007.txt</td>\n      <td>tutovadesign@gmail.com</td>\n      <td>⚡️ВСУ нанесли артиллерийский удар по больнице ...</td>\n      <td>5</td>\n      <td>всу нанесли артиллерийский удар по больнице в ...</td>\n      <td>['всу', 'нанести', 'артиллерийский', 'удар', '...</td>\n      <td>[{'lemma': 'всу', 'position': 0, 'morph_form':...</td>\n      <td>украинцы нанесли артиллерийский удар по больни...</td>\n    </tr>\n    <tr>\n      <th>10</th>\n      <td>3238</td>\n      <td>ні, оцінка не присутня</td>\n      <td>ні</td>\n      <td>так</td>\n      <td>row_1009.txt</td>\n      <td>tutovadesign@gmail.com</td>\n      <td>Применение Коллективных сил Организации Догово...</td>\n      <td>5</td>\n      <td>применение коллективных сил организации догово...</td>\n      <td>['применение', 'коллективный', 'сила', 'органи...</td>\n      <td>[]</td>\n      <td>применение коллективных сил организации догово...</td>\n    </tr>\n    <tr>\n      <th>12</th>\n      <td>3288</td>\n      <td>ні, оцінка не присутня</td>\n      <td>ні</td>\n      <td>так</td>\n      <td>row_1011.txt</td>\n      <td>tutovadesign@gmail.com</td>\n      <td>В этом списке есть Кум, есть уважаемые партнер...</td>\n      <td>5</td>\n      <td>в этом списке есть кум, есть уважаемые партнер...</td>\n      <td>['в', 'этот', 'список', 'быть', 'кум', ',', 'б...</td>\n      <td>[]</td>\n      <td>в этом списке есть кум, есть уважаемые партнер...</td>\n    </tr>\n    <tr>\n      <th>...</th>\n      <td>...</td>\n      <td>...</td>\n      <td>...</td>\n      <td>...</td>\n      <td>...</td>\n      <td>...</td>\n      <td>...</td>\n      <td>...</td>\n      <td>...</td>\n      <td>...</td>\n      <td>...</td>\n      <td>...</td>\n    </tr>\n    <tr>\n      <th>2490</th>\n      <td>2402</td>\n      <td>так, присутня негативна</td>\n      <td>ні</td>\n      <td>так</td>\n      <td>row_99.txt</td>\n      <td>nazariy.melnychuk9@gmail.com</td>\n      <td>🇺🇦❌Очередной фейк укропропаганды  Укропаблики ...</td>\n      <td>7</td>\n      <td>очередной фейк укропропаганды  укропаблики сег...</td>\n      <td>['очередной', 'фейк', 'укропропаганды', ' ', '...</td>\n      <td>[]</td>\n      <td>очередной фейк укропропаганды  укропаблики сег...</td>\n    </tr>\n    <tr>\n      <th>2494</th>\n      <td>3615</td>\n      <td>ні, оцінка не присутня</td>\n      <td>ні</td>\n      <td>так</td>\n      <td>row_993.txt</td>\n      <td>tutovadesign@gmail.com</td>\n      <td>⚡️Путин: Нам нужно ответить на вопрос, который...</td>\n      <td>5</td>\n      <td>путин: нам нужно ответить на вопрос, который п...</td>\n      <td>['путин', ':', 'нам', 'нужный', 'ответить', 'н...</td>\n      <td>[]</td>\n      <td>путин: нам нужно ответить на вопрос, который п...</td>\n    </tr>\n    <tr>\n      <th>2495</th>\n      <td>3613</td>\n      <td>ні, оцінка не присутня</td>\n      <td>ні</td>\n      <td>так</td>\n      <td>row_995.txt</td>\n      <td>tutovadesign@gmail.com</td>\n      <td>Утренний брифинг Минобороны России:  ▪️ россий...</td>\n      <td>5</td>\n      <td>утренний брифинг минобороны россии:   российск...</td>\n      <td>['утренний', 'брифинг', 'минобороны', 'россия'...</td>\n      <td>[]</td>\n      <td>утренний брифинг минобороны россии:   российск...</td>\n    </tr>\n    <tr>\n      <th>2496</th>\n      <td>3612</td>\n      <td>так, присутня негативна</td>\n      <td>ні</td>\n      <td>так</td>\n      <td>row_996.txt</td>\n      <td>tutovadesign@gmail.com</td>\n      <td>И понеслась мазепинщино-петлюровщино-бандеровщ...</td>\n      <td>5</td>\n      <td>и понеслась мазепинщино-петлюровщино-бандеровщ...</td>\n      <td>['и', 'понестись', 'мазепинщино', '-', 'петлюр...</td>\n      <td>[]</td>\n      <td>и понеслась мазепинщино-петлюровщино-бандеровщ...</td>\n    </tr>\n    <tr>\n      <th>2497</th>\n      <td>4121</td>\n      <td>так, присутня негативна</td>\n      <td>ні</td>\n      <td>так</td>\n      <td>row_997.txt</td>\n      <td>yevhen.marchenko91@gmail.com</td>\n      <td>Наш соратник по русскому движению Алексей Сели...</td>\n      <td>3</td>\n      <td>наш соратник по русскому движению алексей сели...</td>\n      <td>['наш', 'соратник', 'по', 'русский', 'движение...</td>\n      <td>[{'lemma': 'укроп', 'position': 27, 'morph_for...</td>\n      <td>наш соратник по русскому движению алексей сели...</td>\n    </tr>\n  </tbody>\n</table>\n<p>880 rows × 12 columns</p>\n</div>"
     },
     "execution_count": 15,
     "metadata": {},
     "output_type": "execute_result"
    }
   ],
   "source": [
    "df_augmentation"
   ],
   "metadata": {
    "collapsed": false,
    "pycharm": {
     "name": "#%%\n"
    }
   }
  },
  {
   "cell_type": "code",
   "execution_count": 12,
   "outputs": [],
   "source": [
    "# df_augmentation = pd.concat([df_rm,df_add])\n",
    "# df_augmentation = df_add.copy()"
   ],
   "metadata": {
    "collapsed": false,
    "pycharm": {
     "name": "#%%\n"
    }
   }
  },
  {
   "cell_type": "code",
   "execution_count": 13,
   "outputs": [],
   "source": [
    "# def preprocess_df_(df):\n",
    "#     df['text_clean'] = df['fixed_sentences'].apply(lambda x: clean_text(x.lower(), cyrillic_letters))\n",
    "#     df['text_lemmatized'] = df['text_clean'].apply(lambda x: lemmatize_spacy(x))\n",
    "#     df=df[df['text_clean']!='']\n",
    "#     df.reset_index(inplace=True)\n",
    "#     return df"
   ],
   "metadata": {
    "collapsed": false,
    "pycharm": {
     "name": "#%%\n"
    }
   }
  },
  {
   "cell_type": "code",
   "execution_count": 27,
   "outputs": [],
   "source": [
    "from itertools import combinations, chain\n",
    "\n",
    "text_columns = ['nmod', 'verb_obl_obj', 'core_noun_verb', 'amod', 'text_lemmatized', 'text_clean']\n",
    "\n",
    "all_col_variations = list(chain.from_iterable(combinations(text_columns, r) for r in range(1, len(text_columns)+1)))\n",
    "all_col_variations = [list(p) for p in all_col_variations]"
   ],
   "metadata": {
    "collapsed": false,
    "pycharm": {
     "name": "#%%\n"
    }
   }
  },
  {
   "cell_type": "code",
   "execution_count": 29,
   "outputs": [],
   "source": [
    "label_column = ['label']"
   ],
   "metadata": {
    "collapsed": false,
    "pycharm": {
     "name": "#%%\n"
    }
   }
  },
  {
   "cell_type": "code",
   "execution_count": 31,
   "outputs": [],
   "source": [
    "from sklearn.model_selection import train_test_split\n",
    "from sklearn.feature_extraction.text import TfidfVectorizer"
   ],
   "metadata": {
    "collapsed": false,
    "pycharm": {
     "name": "#%%\n"
    }
   }
  },
  {
   "cell_type": "code",
   "execution_count": 18,
   "outputs": [
    {
     "name": "stdout",
     "output_type": "stream",
     "text": [
      "CPU times: user 4.74 s, sys: 116 ms, total: 4.86 s\n",
      "Wall time: 5.04 s\n"
     ]
    }
   ],
   "source": [
    "%%time\n",
    "\n",
    "df_augmentation = preprocess_df(df_augmentation)"
   ],
   "metadata": {
    "collapsed": false,
    "pycharm": {
     "name": "#%%\n"
    }
   }
  },
  {
   "cell_type": "code",
   "execution_count": 22,
   "outputs": [],
   "source": [
    "df_augmentation['core_noun_verb'] = df_augmentation['text_clean'].apply(lambda x: lst_to_str(collect_core(x)))\n",
    "df_augmentation['verb_obl_obj'] = df_augmentation['text_clean'].apply(lambda x: lst_to_str(collect_verb_obl_obj(x)))\n",
    "df_augmentation['nmod'] = df_augmentation['text_clean'].apply(lambda x: lst_to_str(collect_nmod(x)))\n",
    "df_augmentation['amod'] = df_augmentation['text_clean'].apply(lambda x: lst_to_str(collect_amod(x)))\n",
    "df_augmentation['comp'] = df_augmentation['text_clean'].apply(lambda x: lst_to_str(collect_comp(x)))"
   ],
   "metadata": {
    "collapsed": false,
    "pycharm": {
     "name": "#%%\n"
    }
   }
  },
  {
   "cell_type": "code",
   "execution_count": 33,
   "outputs": [
    {
     "name": "stderr",
     "output_type": "stream",
     "text": [
      "/var/folders/2w/hygxgpp5353_dy_tk88gw2100000gn/T/ipykernel_22641/1996300300.py:1: SettingWithCopyWarning: \n",
      "A value is trying to be set on a copy of a slice from a DataFrame.\n",
      "Try using .loc[row_indexer,col_indexer] = value instead\n",
      "\n",
      "See the caveats in the documentation: https://pandas.pydata.org/pandas-docs/stable/user_guide/indexing.html#returning-a-view-versus-a-copy\n",
      "  df_dehumanization['core_noun_verb'] = df_dehumanization['text'].apply(lambda x: lst_to_str(collect_core(x)))\n",
      "/var/folders/2w/hygxgpp5353_dy_tk88gw2100000gn/T/ipykernel_22641/1996300300.py:2: SettingWithCopyWarning: \n",
      "A value is trying to be set on a copy of a slice from a DataFrame.\n",
      "Try using .loc[row_indexer,col_indexer] = value instead\n",
      "\n",
      "See the caveats in the documentation: https://pandas.pydata.org/pandas-docs/stable/user_guide/indexing.html#returning-a-view-versus-a-copy\n",
      "  df_dehumanization['verb_obl_obj'] = df_dehumanization['text'].apply(lambda x: lst_to_str(collect_verb_obl_obj(x)))\n",
      "/var/folders/2w/hygxgpp5353_dy_tk88gw2100000gn/T/ipykernel_22641/1996300300.py:3: SettingWithCopyWarning: \n",
      "A value is trying to be set on a copy of a slice from a DataFrame.\n",
      "Try using .loc[row_indexer,col_indexer] = value instead\n",
      "\n",
      "See the caveats in the documentation: https://pandas.pydata.org/pandas-docs/stable/user_guide/indexing.html#returning-a-view-versus-a-copy\n",
      "  df_dehumanization['nmod'] = df_dehumanization['text'].apply(lambda x: lst_to_str(collect_nmod(x)))\n",
      "/var/folders/2w/hygxgpp5353_dy_tk88gw2100000gn/T/ipykernel_22641/1996300300.py:4: SettingWithCopyWarning: \n",
      "A value is trying to be set on a copy of a slice from a DataFrame.\n",
      "Try using .loc[row_indexer,col_indexer] = value instead\n",
      "\n",
      "See the caveats in the documentation: https://pandas.pydata.org/pandas-docs/stable/user_guide/indexing.html#returning-a-view-versus-a-copy\n",
      "  df_dehumanization['amod'] = df_dehumanization['text'].apply(lambda x: lst_to_str(collect_amod(x)))\n",
      "/var/folders/2w/hygxgpp5353_dy_tk88gw2100000gn/T/ipykernel_22641/1996300300.py:5: SettingWithCopyWarning: \n",
      "A value is trying to be set on a copy of a slice from a DataFrame.\n",
      "Try using .loc[row_indexer,col_indexer] = value instead\n",
      "\n",
      "See the caveats in the documentation: https://pandas.pydata.org/pandas-docs/stable/user_guide/indexing.html#returning-a-view-versus-a-copy\n",
      "  df_dehumanization['comp'] = df_dehumanization['text'].apply(lambda x: lst_to_str(collect_comp(x)))\n"
     ]
    }
   ],
   "source": [
    "df_dehumanization['core_noun_verb'] = df_dehumanization['text'].apply(lambda x: lst_to_str(collect_core(x)))\n",
    "df_dehumanization['verb_obl_obj'] = df_dehumanization['text'].apply(lambda x: lst_to_str(collect_verb_obl_obj(x)))\n",
    "df_dehumanization['nmod'] = df_dehumanization['text'].apply(lambda x: lst_to_str(collect_nmod(x)))\n",
    "df_dehumanization['amod'] = df_dehumanization['text'].apply(lambda x: lst_to_str(collect_amod(x)))\n",
    "df_dehumanization['comp'] = df_dehumanization['text'].apply(lambda x: lst_to_str(collect_comp(x)))"
   ],
   "metadata": {
    "collapsed": false,
    "pycharm": {
     "name": "#%%\n"
    }
   }
  },
  {
   "cell_type": "code",
   "execution_count": 23,
   "outputs": [],
   "source": [
    "df_augmentation['label']=0"
   ],
   "metadata": {
    "collapsed": false,
    "pycharm": {
     "name": "#%%\n"
    }
   }
  },
  {
   "cell_type": "code",
   "execution_count": 24,
   "outputs": [],
   "source": [
    "def train_augmented_svm(data, augmentation_data, text_columns, label_column, random_state=42):\n",
    "    total_data_size = len(data) + len(augmentation_data)\n",
    "    desired_test_size = int(total_data_size * 0.2)\n",
    "    adjusted_test_size_ratio = desired_test_size / len(data)\n",
    "\n",
    "    X_train, X_test, y_train, y_test = train_test_split(data[text_columns], data[label_column], test_size=adjusted_test_size_ratio, random_state=random_state)\n",
    "\n",
    "    X_train_augmented = pd.concat([X_train, augmentation_data[text_columns]], axis=0, join='outer', ignore_index=True)\n",
    "    y_train_augmented = pd.concat([y_train, augmentation_data[label_column]], axis=0, join='outer', ignore_index=True)\n",
    "\n",
    "    pipeline = Pipeline([\n",
    "        ('vectorizer', MultiColumnTfidfVectorizer(columns=text_columns)),\n",
    "        ('classifier', SVC(kernel='linear', random_state=random_state))\n",
    "    ])\n",
    "\n",
    "    param_grid = {\n",
    "        'classifier__C': [0.001, 0.01, 0.1, 0.5, 1, 2, 10, 100],\n",
    "    }\n",
    "\n",
    "    grid_search = GridSearchCV(estimator=pipeline, param_grid=param_grid, cv=5, scoring='f1')\n",
    "    grid_search.fit(X_train_augmented, y_train_augmented.values.ravel())\n",
    "    svm_best = grid_search.best_estimator_\n",
    "    svm_best.fit(X_train_augmented, y_train_augmented.values.ravel())\n",
    "\n",
    "    y_pred = svm_best.predict(X_test)\n",
    "    accuracy = accuracy_score(y_test.values.ravel(), y_pred)\n",
    "    precision = precision_score(y_test.values.ravel(), y_pred)\n",
    "    recall = recall_score(y_test.values.ravel(), y_pred)\n",
    "    f1 = f1_score(y_test.values.ravel(), y_pred)\n",
    "\n",
    "    return svm_best, [accuracy, precision, recall, f1]\n"
   ],
   "metadata": {
    "collapsed": false,
    "pycharm": {
     "name": "#%%\n"
    }
   }
  },
  {
   "cell_type": "code",
   "execution_count": 39,
   "outputs": [
    {
     "name": "stdout",
     "output_type": "stream",
     "text": [
      "CPU times: user 59min 45s, sys: 23.9 s, total: 1h 9s\n",
      "Wall time: 1h 33s\n"
     ]
    }
   ],
   "source": [
    "%%time\n",
    "all_trained_pipelines_svm = []\n",
    "all_results_svm = []\n",
    "for col_set in all_col_variations:\n",
    "    current_pipe, results = train_augmented_svm(df_dehumanization, df_augmentation, col_set, label_column)\n",
    "    all_trained_pipelines_svm.append(current_pipe)\n",
    "    all_results_svm.append(results)"
   ],
   "metadata": {
    "collapsed": false,
    "pycharm": {
     "name": "#%%\n"
    }
   }
  },
  {
   "cell_type": "code",
   "execution_count": 40,
   "outputs": [
    {
     "name": "stdout",
     "output_type": "stream",
     "text": [
      "59\n"
     ]
    }
   ],
   "source": [
    "idx_largest = max(range(len(all_results_svm)), key=lambda i: all_results_svm[i][-1])\n",
    "\n",
    "next_largest = max([all_results_svm[i][-1] for i in range(len(all_results_svm)) if all_results_svm[i][-1] < all_results_svm[idx_largest][-1]])\n",
    "idx_next_largest = max([i for i in range(len(all_results_svm)) if all_results_svm[i][-1] == next_largest])\n",
    "\n",
    "print(idx_next_largest)"
   ],
   "metadata": {
    "collapsed": false,
    "pycharm": {
     "name": "#%%\n"
    }
   }
  },
  {
   "cell_type": "code",
   "execution_count": 41,
   "outputs": [
    {
     "data": {
      "text/plain": "[0.8616780045351474,\n 0.9358974358974359,\n 0.7411167512690355,\n 0.8271954674220964]"
     },
     "execution_count": 41,
     "metadata": {},
     "output_type": "execute_result"
    }
   ],
   "source": [
    "all_results_svm[idx_largest]\n"
   ],
   "metadata": {
    "collapsed": false,
    "pycharm": {
     "name": "#%%\n"
    }
   }
  },
  {
   "cell_type": "code",
   "execution_count": 42,
   "outputs": [
    {
     "data": {
      "text/plain": "{'memory': None,\n 'steps': [('vectorizer',\n   MultiColumnTfidfVectorizer(columns=['nmod', 'verb_obl_obj', 'text_lemmatized',\n                                       'text_clean'])),\n  ('classifier', SVC(C=100, kernel='linear', random_state=42))],\n 'verbose': False,\n 'vectorizer': MultiColumnTfidfVectorizer(columns=['nmod', 'verb_obl_obj', 'text_lemmatized',\n                                     'text_clean']),\n 'classifier': SVC(C=100, kernel='linear', random_state=42),\n 'vectorizer__columns': ['nmod',\n  'verb_obl_obj',\n  'text_lemmatized',\n  'text_clean'],\n 'classifier__C': 100,\n 'classifier__break_ties': False,\n 'classifier__cache_size': 200,\n 'classifier__class_weight': None,\n 'classifier__coef0': 0.0,\n 'classifier__decision_function_shape': 'ovr',\n 'classifier__degree': 3,\n 'classifier__gamma': 'scale',\n 'classifier__kernel': 'linear',\n 'classifier__max_iter': -1,\n 'classifier__probability': False,\n 'classifier__random_state': 42,\n 'classifier__shrinking': True,\n 'classifier__tol': 0.001,\n 'classifier__verbose': False}"
     },
     "execution_count": 42,
     "metadata": {},
     "output_type": "execute_result"
    }
   ],
   "source": [
    "all_trained_pipelines_svm[idx_largest].get_params()"
   ],
   "metadata": {
    "collapsed": false,
    "pycharm": {
     "name": "#%%\n"
    }
   }
  },
  {
   "cell_type": "code",
   "execution_count": null,
   "outputs": [],
   "source": [],
   "metadata": {
    "collapsed": false,
    "pycharm": {
     "name": "#%%\n"
    }
   }
  },
  {
   "cell_type": "markdown",
   "source": [
    "## Signals from lexicons"
   ],
   "metadata": {
    "collapsed": false,
    "pycharm": {
     "name": "#%% md\n"
    }
   }
  },
  {
   "cell_type": "code",
   "execution_count": 6,
   "outputs": [],
   "source": [
    "df_RuSentiLex = pd.read_csv('/Users/katerynaburovova/PycharmProjects/dehumanization/lexicons/RuSentiLex.csv', sep=';')"
   ],
   "metadata": {
    "collapsed": false,
    "pycharm": {
     "name": "#%%\n"
    }
   }
  },
  {
   "cell_type": "code",
   "execution_count": 7,
   "outputs": [
    {
     "data": {
      "text/plain": "              word   pos        lemma sentiment   source  ambiguity rest\n0            аборт  Noun        аборт  negative     fact        NaN  NaN\n1       абортивный   Adj   абортивный  negative     fact        NaN  NaN\n2      абракадабра  Noun  абракадабра  negative  opinion        NaN  NaN\n3           абсурд  Noun       абсурд  negative  opinion        NaN  NaN\n4      абсурдность  Noun  абсурдность  negative  opinion        NaN  NaN\n...            ...   ...          ...       ...      ...        ...  ...\n16049         ярый   Adj         ярый  positive  opinion  ПРЕДАННЫЙ  NaN\n16050      ясность  Noun      ясность  positive  opinion        NaN  NaN\n16051        ясный   Adj        ясный  positive  opinion        NaN  NaN\n16052         ящур  Noun         ящур  negative     fact        NaN  NaN\n16053      ящурный   Adj      ящурный  negative     fact        NaN  NaN\n\n[16054 rows x 7 columns]",
      "text/html": "<div>\n<style scoped>\n    .dataframe tbody tr th:only-of-type {\n        vertical-align: middle;\n    }\n\n    .dataframe tbody tr th {\n        vertical-align: top;\n    }\n\n    .dataframe thead th {\n        text-align: right;\n    }\n</style>\n<table border=\"1\" class=\"dataframe\">\n  <thead>\n    <tr style=\"text-align: right;\">\n      <th></th>\n      <th>word</th>\n      <th>pos</th>\n      <th>lemma</th>\n      <th>sentiment</th>\n      <th>source</th>\n      <th>ambiguity</th>\n      <th>rest</th>\n    </tr>\n  </thead>\n  <tbody>\n    <tr>\n      <th>0</th>\n      <td>аборт</td>\n      <td>Noun</td>\n      <td>аборт</td>\n      <td>negative</td>\n      <td>fact</td>\n      <td>NaN</td>\n      <td>NaN</td>\n    </tr>\n    <tr>\n      <th>1</th>\n      <td>абортивный</td>\n      <td>Adj</td>\n      <td>абортивный</td>\n      <td>negative</td>\n      <td>fact</td>\n      <td>NaN</td>\n      <td>NaN</td>\n    </tr>\n    <tr>\n      <th>2</th>\n      <td>абракадабра</td>\n      <td>Noun</td>\n      <td>абракадабра</td>\n      <td>negative</td>\n      <td>opinion</td>\n      <td>NaN</td>\n      <td>NaN</td>\n    </tr>\n    <tr>\n      <th>3</th>\n      <td>абсурд</td>\n      <td>Noun</td>\n      <td>абсурд</td>\n      <td>negative</td>\n      <td>opinion</td>\n      <td>NaN</td>\n      <td>NaN</td>\n    </tr>\n    <tr>\n      <th>4</th>\n      <td>абсурдность</td>\n      <td>Noun</td>\n      <td>абсурдность</td>\n      <td>negative</td>\n      <td>opinion</td>\n      <td>NaN</td>\n      <td>NaN</td>\n    </tr>\n    <tr>\n      <th>...</th>\n      <td>...</td>\n      <td>...</td>\n      <td>...</td>\n      <td>...</td>\n      <td>...</td>\n      <td>...</td>\n      <td>...</td>\n    </tr>\n    <tr>\n      <th>16049</th>\n      <td>ярый</td>\n      <td>Adj</td>\n      <td>ярый</td>\n      <td>positive</td>\n      <td>opinion</td>\n      <td>ПРЕДАННЫЙ</td>\n      <td>NaN</td>\n    </tr>\n    <tr>\n      <th>16050</th>\n      <td>ясность</td>\n      <td>Noun</td>\n      <td>ясность</td>\n      <td>positive</td>\n      <td>opinion</td>\n      <td>NaN</td>\n      <td>NaN</td>\n    </tr>\n    <tr>\n      <th>16051</th>\n      <td>ясный</td>\n      <td>Adj</td>\n      <td>ясный</td>\n      <td>positive</td>\n      <td>opinion</td>\n      <td>NaN</td>\n      <td>NaN</td>\n    </tr>\n    <tr>\n      <th>16052</th>\n      <td>ящур</td>\n      <td>Noun</td>\n      <td>ящур</td>\n      <td>negative</td>\n      <td>fact</td>\n      <td>NaN</td>\n      <td>NaN</td>\n    </tr>\n    <tr>\n      <th>16053</th>\n      <td>ящурный</td>\n      <td>Adj</td>\n      <td>ящурный</td>\n      <td>negative</td>\n      <td>fact</td>\n      <td>NaN</td>\n      <td>NaN</td>\n    </tr>\n  </tbody>\n</table>\n<p>16054 rows × 7 columns</p>\n</div>"
     },
     "execution_count": 7,
     "metadata": {},
     "output_type": "execute_result"
    }
   ],
   "source": [
    "df_RuSentiLex"
   ],
   "metadata": {
    "collapsed": false,
    "pycharm": {
     "name": "#%%\n"
    }
   }
  },
  {
   "cell_type": "code",
   "execution_count": null,
   "outputs": [],
   "source": [],
   "metadata": {
    "collapsed": false,
    "pycharm": {
     "name": "#%%\n"
    }
   }
  }
 ],
 "metadata": {
  "kernelspec": {
   "display_name": "Python 3",
   "language": "python",
   "name": "python3"
  },
  "language_info": {
   "codemirror_mode": {
    "name": "ipython",
    "version": 2
   },
   "file_extension": ".py",
   "mimetype": "text/x-python",
   "name": "python",
   "nbconvert_exporter": "python",
   "pygments_lexer": "ipython2",
   "version": "2.7.6"
  }
 },
 "nbformat": 4,
 "nbformat_minor": 0
}