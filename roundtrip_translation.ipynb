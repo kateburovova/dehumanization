{
 "cells": [
  {
   "cell_type": "code",
   "execution_count": 2,
   "outputs": [],
   "source": [
    "from collocation_extraction import collect_verb_obl_obj, collect_core, collect_nmod, collect_amod, collect_comp, collect_appos, show_dependency\n",
    "from text_preprocessing import preprocess_df\n",
    "import pandas as pd\n",
    "import spacy"
   ],
   "metadata": {
    "collapsed": false,
    "pycharm": {
     "name": "#%%\n"
    }
   }
  },
  {
   "cell_type": "code",
   "execution_count": 3,
   "outputs": [],
   "source": [
    "df_labels = pd.read_csv('/Users/katerynaburovova/PycharmProjects/dehumanization/annotation/final_labels.csv', index_col=0)"
   ],
   "metadata": {
    "collapsed": false,
    "pycharm": {
     "name": "#%%\n"
    }
   }
  },
  {
   "cell_type": "code",
   "execution_count": 4,
   "outputs": [
    {
     "data": {
      "text/plain": "                      Emotion Dehumanization Mention   External ID  \\\n1219  так, присутня негативна            так     так     row_0.txt   \n1218   ні, оцінка не присутня             ні      ні     row_1.txt   \n1591  так, присутня негативна            так     так    row_10.txt   \n1198  так, присутня негативна            так     так   row_100.txt   \n3247   ні, оцінка не присутня             ні     так  row_1000.txt   \n...                       ...            ...     ...           ...   \n3613   ні, оцінка не присутня             ні     так   row_995.txt   \n3612  так, присутня негативна             ні     так   row_996.txt   \n4121  так, присутня негативна             ні     так   row_997.txt   \n4120   ні, оцінка не присутня            так     так   row_998.txt   \n3248   ні, оцінка не присутня             ні      ні   row_999.txt   \n\n                        Created By  \\\n1219      snizannabotvin@gmail.com   \n1218      snizannabotvin@gmail.com   \n1591      snizannabotvin@gmail.com   \n1198      snizannabotvin@gmail.com   \n3247        tutovadesign@gmail.com   \n...                            ...   \n3613        tutovadesign@gmail.com   \n3612        tutovadesign@gmail.com   \n4121  yevhen.marchenko91@gmail.com   \n4120  yevhen.marchenko91@gmail.com   \n3248        tutovadesign@gmail.com   \n\n                                                   text  rating  \n1219  Всвязи с этим немного поправлю коллег ⤵️  \"Они...       4  \n1218  Литературный критик Галина Юзефович о новом ро...       4  \n1591  Почему на базах неонацистов стоят языческие ис...       4  \n1198  Группа добровольцев-медиков из Чеченской Респу...       4  \n3247  ВСУшники, переходите на сторону добра, у нас т...       5  \n...                                                 ...     ...  \n3613  Утренний брифинг Минобороны России:  ▪️ россий...       5  \n3612  И понеслась мазепинщино-петлюровщино-бандеровщ...       5  \n4121  Наш соратник по русскому движению Алексей Сели...       3  \n4120  Хорошее видео от 4 бригады НМ ЛНР https://t.me...       3  \n3248  Замоскворецкий районный суд Москвы отклонил ис...       5  \n\n[3546 rows x 7 columns]",
      "text/html": "<div>\n<style scoped>\n    .dataframe tbody tr th:only-of-type {\n        vertical-align: middle;\n    }\n\n    .dataframe tbody tr th {\n        vertical-align: top;\n    }\n\n    .dataframe thead th {\n        text-align: right;\n    }\n</style>\n<table border=\"1\" class=\"dataframe\">\n  <thead>\n    <tr style=\"text-align: right;\">\n      <th></th>\n      <th>Emotion</th>\n      <th>Dehumanization</th>\n      <th>Mention</th>\n      <th>External ID</th>\n      <th>Created By</th>\n      <th>text</th>\n      <th>rating</th>\n    </tr>\n  </thead>\n  <tbody>\n    <tr>\n      <th>1219</th>\n      <td>так, присутня негативна</td>\n      <td>так</td>\n      <td>так</td>\n      <td>row_0.txt</td>\n      <td>snizannabotvin@gmail.com</td>\n      <td>Всвязи с этим немного поправлю коллег ⤵️  \"Они...</td>\n      <td>4</td>\n    </tr>\n    <tr>\n      <th>1218</th>\n      <td>ні, оцінка не присутня</td>\n      <td>ні</td>\n      <td>ні</td>\n      <td>row_1.txt</td>\n      <td>snizannabotvin@gmail.com</td>\n      <td>Литературный критик Галина Юзефович о новом ро...</td>\n      <td>4</td>\n    </tr>\n    <tr>\n      <th>1591</th>\n      <td>так, присутня негативна</td>\n      <td>так</td>\n      <td>так</td>\n      <td>row_10.txt</td>\n      <td>snizannabotvin@gmail.com</td>\n      <td>Почему на базах неонацистов стоят языческие ис...</td>\n      <td>4</td>\n    </tr>\n    <tr>\n      <th>1198</th>\n      <td>так, присутня негативна</td>\n      <td>так</td>\n      <td>так</td>\n      <td>row_100.txt</td>\n      <td>snizannabotvin@gmail.com</td>\n      <td>Группа добровольцев-медиков из Чеченской Респу...</td>\n      <td>4</td>\n    </tr>\n    <tr>\n      <th>3247</th>\n      <td>ні, оцінка не присутня</td>\n      <td>ні</td>\n      <td>так</td>\n      <td>row_1000.txt</td>\n      <td>tutovadesign@gmail.com</td>\n      <td>ВСУшники, переходите на сторону добра, у нас т...</td>\n      <td>5</td>\n    </tr>\n    <tr>\n      <th>...</th>\n      <td>...</td>\n      <td>...</td>\n      <td>...</td>\n      <td>...</td>\n      <td>...</td>\n      <td>...</td>\n      <td>...</td>\n    </tr>\n    <tr>\n      <th>3613</th>\n      <td>ні, оцінка не присутня</td>\n      <td>ні</td>\n      <td>так</td>\n      <td>row_995.txt</td>\n      <td>tutovadesign@gmail.com</td>\n      <td>Утренний брифинг Минобороны России:  ▪️ россий...</td>\n      <td>5</td>\n    </tr>\n    <tr>\n      <th>3612</th>\n      <td>так, присутня негативна</td>\n      <td>ні</td>\n      <td>так</td>\n      <td>row_996.txt</td>\n      <td>tutovadesign@gmail.com</td>\n      <td>И понеслась мазепинщино-петлюровщино-бандеровщ...</td>\n      <td>5</td>\n    </tr>\n    <tr>\n      <th>4121</th>\n      <td>так, присутня негативна</td>\n      <td>ні</td>\n      <td>так</td>\n      <td>row_997.txt</td>\n      <td>yevhen.marchenko91@gmail.com</td>\n      <td>Наш соратник по русскому движению Алексей Сели...</td>\n      <td>3</td>\n    </tr>\n    <tr>\n      <th>4120</th>\n      <td>ні, оцінка не присутня</td>\n      <td>так</td>\n      <td>так</td>\n      <td>row_998.txt</td>\n      <td>yevhen.marchenko91@gmail.com</td>\n      <td>Хорошее видео от 4 бригады НМ ЛНР https://t.me...</td>\n      <td>3</td>\n    </tr>\n    <tr>\n      <th>3248</th>\n      <td>ні, оцінка не присутня</td>\n      <td>ні</td>\n      <td>ні</td>\n      <td>row_999.txt</td>\n      <td>tutovadesign@gmail.com</td>\n      <td>Замоскворецкий районный суд Москвы отклонил ис...</td>\n      <td>5</td>\n    </tr>\n  </tbody>\n</table>\n<p>3546 rows × 7 columns</p>\n</div>"
     },
     "execution_count": 4,
     "metadata": {},
     "output_type": "execute_result"
    }
   ],
   "source": [
    "df_labels"
   ],
   "metadata": {
    "collapsed": false,
    "pycharm": {
     "name": "#%%\n"
    }
   }
  },
  {
   "cell_type": "code",
   "execution_count": 5,
   "outputs": [],
   "source": [
    "import pandas as pd\n",
    "from transformers import MarianMTModel, MarianTokenizer, GPT2LMHeadModel, GPT2Tokenizer\n",
    "import torch\n",
    "import math"
   ],
   "metadata": {
    "collapsed": false,
    "pycharm": {
     "name": "#%%\n"
    }
   }
  },
  {
   "cell_type": "code",
   "execution_count": 6,
   "outputs": [],
   "source": [
    "def translate(text, model, tokenizer, target_lang):\n",
    "    encoded_text = tokenizer.encode(text, return_tensors=\"pt\")\n",
    "    translated_text = model.generate(encoded_text)\n",
    "    return tokenizer.decode(translated_text[0], skip_special_tokens=True)"
   ],
   "metadata": {
    "collapsed": false,
    "pycharm": {
     "name": "#%%\n"
    }
   }
  },
  {
   "cell_type": "code",
   "execution_count": 65,
   "outputs": [],
   "source": [
    "def calculate_perplexity(translated_sentence, model, tokenizer):\n",
    "    if len(translated_sentence.strip()) < 3:  # Check if the sentence is empty or very short\n",
    "        return -1  # Return a default perplexity value\n",
    "\n",
    "    try:\n",
    "        input_ids = tokenizer.encode(translated_sentence, return_tensors=\"pt\")\n",
    "        with torch.no_grad():\n",
    "            outputs = model(input_ids[:, :-1])\n",
    "            log_probs = torch.log_softmax(outputs.logits, dim=-1)\n",
    "            token_probs = torch.gather(log_probs, 2, input_ids[:, 1:].unsqueeze(-1)).squeeze()\n",
    "        perplexity = math.exp(-torch.mean(token_probs))\n",
    "        return perplexity\n",
    "    except Exception as e:\n",
    "        print(f\"Error with input '{translated_sentence}': {str(e)}\")\n",
    "        return -1  # Return a default perplexity value for problematic inputs\n"
   ],
   "metadata": {
    "collapsed": false,
    "pycharm": {
     "name": "#%%\n"
    }
   }
  },
  {
   "cell_type": "code",
   "execution_count": 11,
   "outputs": [],
   "source": [
    "import pandas as pd\n",
    "from transformers import MarianMTModel, MarianTokenizer, GPT2LMHeadModel, GPT2Tokenizer\n",
    "import torch\n",
    "import math\n",
    "\n",
    "translation_model_name = \"Helsinki-NLP/opus-mt-en-ru\""
   ],
   "metadata": {
    "collapsed": false,
    "pycharm": {
     "name": "#%%\n"
    }
   }
  },
  {
   "cell_type": "code",
   "execution_count": 12,
   "outputs": [],
   "source": [
    "translation_model = MarianMTModel.from_pretrained(translation_model_name)"
   ],
   "metadata": {
    "collapsed": false,
    "pycharm": {
     "name": "#%%\n"
    }
   }
  },
  {
   "cell_type": "code",
   "execution_count": 13,
   "outputs": [],
   "source": [
    "translation_tokenizer = MarianTokenizer.from_pretrained(translation_model_name)"
   ],
   "metadata": {
    "collapsed": false,
    "pycharm": {
     "name": "#%%\n"
    }
   }
  },
  {
   "cell_type": "code",
   "execution_count": 14,
   "outputs": [
    {
     "data": {
      "text/plain": "Downloading:   0%|          | 0.00/124 [00:00<?, ?B/s]",
      "application/vnd.jupyter.widget-view+json": {
       "version_major": 2,
       "version_minor": 0,
       "model_id": "1072dd34c0be45088dc43d9b70e31298"
      }
     },
     "metadata": {},
     "output_type": "display_data"
    }
   ],
   "source": [
    "from transformers import GPT2LMHeadModel, GPT2Tokenizer\n",
    "gpt_model_name = \"gpt2\"\n",
    "gpt_tokenizer = GPT2Tokenizer.from_pretrained(gpt_model_name)\n",
    "gpt_model = GPT2LMHeadModel.from_pretrained(gpt_model_name).eval()"
   ],
   "metadata": {
    "collapsed": false,
    "pycharm": {
     "name": "#%%\n"
    }
   }
  },
  {
   "cell_type": "code",
   "execution_count": 43,
   "outputs": [
    {
     "data": {
      "text/plain": "Downloading:   0%|          | 0.00/1.38k [00:00<?, ?B/s]",
      "application/vnd.jupyter.widget-view+json": {
       "version_major": 2,
       "version_minor": 0,
       "model_id": "20552e939ef145c9a38f8591f393b0b0"
      }
     },
     "metadata": {},
     "output_type": "display_data"
    },
    {
     "data": {
      "text/plain": "Downloading:   0%|          | 0.00/307M [00:00<?, ?B/s]",
      "application/vnd.jupyter.widget-view+json": {
       "version_major": 2,
       "version_minor": 0,
       "model_id": "51970018ba4746ce8cc01d09c082165b"
      }
     },
     "metadata": {},
     "output_type": "display_data"
    },
    {
     "data": {
      "text/plain": "Downloading:   0%|          | 0.00/293 [00:00<?, ?B/s]",
      "application/vnd.jupyter.widget-view+json": {
       "version_major": 2,
       "version_minor": 0,
       "model_id": "62408f861f0a4ba29dd6e34d02fc9e4c"
      }
     },
     "metadata": {},
     "output_type": "display_data"
    },
    {
     "data": {
      "text/plain": "Downloading:   0%|          | 0.00/1.08M [00:00<?, ?B/s]",
      "application/vnd.jupyter.widget-view+json": {
       "version_major": 2,
       "version_minor": 0,
       "model_id": "6337332902f94ed4be8b7a08f87c04ca"
      }
     },
     "metadata": {},
     "output_type": "display_data"
    },
    {
     "data": {
      "text/plain": "Downloading:   0%|          | 0.00/803k [00:00<?, ?B/s]",
      "application/vnd.jupyter.widget-view+json": {
       "version_major": 2,
       "version_minor": 0,
       "model_id": "d20d970fa15141b0b072e6ad1917254d"
      }
     },
     "metadata": {},
     "output_type": "display_data"
    },
    {
     "data": {
      "text/plain": "Downloading:   0%|          | 0.00/2.60M [00:00<?, ?B/s]",
      "application/vnd.jupyter.widget-view+json": {
       "version_major": 2,
       "version_minor": 0,
       "model_id": "81b3bcad92c943fab611bdd97d3eb201"
      }
     },
     "metadata": {},
     "output_type": "display_data"
    },
    {
     "data": {
      "text/plain": "Downloading:   0%|          | 0.00/42.0 [00:00<?, ?B/s]",
      "application/vnd.jupyter.widget-view+json": {
       "version_major": 2,
       "version_minor": 0,
       "model_id": "6e843d15a49b4e2b88a0e0f306379d97"
      }
     },
     "metadata": {},
     "output_type": "display_data"
    }
   ],
   "source": [
    "translation_model_name = \"Helsinki-NLP/opus-mt-ru-en\"\n",
    "translation_model = MarianMTModel.from_pretrained(translation_model_name)\n",
    "translation_tokenizer = MarianTokenizer.from_pretrained(translation_model_name)"
   ],
   "metadata": {
    "collapsed": false,
    "pycharm": {
     "name": "#%%\n"
    }
   }
  },
  {
   "cell_type": "code",
   "execution_count": 53,
   "outputs": [],
   "source": [
    "def translate(text, model, tokenizer, src_lang, tgt_lang):\n",
    "    if not text.strip():  # Check if the input text is empty or contains only whitespace\n",
    "        print(\"Empty input detected. Skipping translation.\")\n",
    "        return \"\"\n",
    "\n",
    "    try:\n",
    "        # Set the source and target languages\n",
    "        tokenizer.src_lang = src_lang\n",
    "        tokenizer.tgt_lang = tgt_lang\n",
    "\n",
    "        encoded_text = tokenizer.encode(text, return_tensors=\"pt\")\n",
    "        translated_text = model.generate(encoded_text)\n",
    "        return tokenizer.decode(translated_text[0], skip_special_tokens=True)\n",
    "    except IndexError as e:\n",
    "        print(f\"Error encountered for sentence: '{text}'\")\n",
    "        print(\"Error details:\", e)\n",
    "        return \"\"\n"
   ],
   "metadata": {
    "collapsed": false,
    "pycharm": {
     "name": "#%%\n"
    }
   }
  },
  {
   "cell_type": "code",
   "execution_count": 57,
   "outputs": [],
   "source": [
    "translation_model_name_ru = \"Helsinki-NLP/opus-mt-en-ru\"\n",
    "translation_model_ru = MarianMTModel.from_pretrained(translation_model_name_ru)\n",
    "translation_tokenizer_ru = MarianTokenizer.from_pretrained(translation_model_name_ru)"
   ],
   "metadata": {
    "collapsed": false,
    "pycharm": {
     "name": "#%%\n"
    }
   }
  },
  {
   "cell_type": "code",
   "execution_count": 54,
   "outputs": [
    {
     "data": {
      "text/plain": "'Всвязи с этим немного поправлю коллег ⤵️  \"Они не будут начинать ядерный армагеддон\" не только из-за вероятно созданной ими же диверсии в Польше, но и полагаю, не будут ничего делать, даже если мы нанесем осознанный удар ТЯО по Львовской рублевке или польскому логистическому центру, через который отправляют вооружение со всей европы в укро-рейх.'"
     },
     "execution_count": 54,
     "metadata": {},
     "output_type": "execute_result"
    }
   ],
   "source": [
    "df_labels['text'].iloc[0]"
   ],
   "metadata": {
    "collapsed": false,
    "pycharm": {
     "name": "#%%\n"
    }
   }
  },
  {
   "cell_type": "code",
   "execution_count": 55,
   "outputs": [
    {
     "name": "stderr",
     "output_type": "stream",
     "text": [
      "/Users/katerynaburovova/PycharmProjects/dehumanization/lib/python3.10/site-packages/transformers/generation/utils.py:1313: UserWarning: Using `max_length`'s default (512) to control the generation length. This behaviour is deprecated and will be removed from the config in v5 of Transformers -- we recommend using `max_new_tokens` to control the maximum length of the generation.\n",
      "  warnings.warn(\n"
     ]
    }
   ],
   "source": [
    "result = translate(df_labels['text'].iloc[0], translation_model, translation_tokenizer, \"ru\", \"en\")"
   ],
   "metadata": {
    "collapsed": false,
    "pycharm": {
     "name": "#%%\n"
    }
   }
  },
  {
   "cell_type": "code",
   "execution_count": 56,
   "outputs": [
    {
     "data": {
      "text/plain": "'In connection with this, I\\'m going to correct a little bit of my colleagues, \"They\\'re not going to start a nuclear armagedon\" not only because they probably created the same sabotage in Poland, but also think they won\\'t do anything, even if we deliberately strike the TJO on the Lviv ruble or the Polish logistics center, through which they send weapons from all over the Europa in the cathedral.'"
     },
     "execution_count": 56,
     "metadata": {},
     "output_type": "execute_result"
    }
   ],
   "source": [
    "result"
   ],
   "metadata": {
    "collapsed": false,
    "pycharm": {
     "name": "#%%\n"
    }
   }
  },
  {
   "cell_type": "code",
   "execution_count": 58,
   "outputs": [
    {
     "name": "stderr",
     "output_type": "stream",
     "text": [
      "/Users/katerynaburovova/PycharmProjects/dehumanization/lib/python3.10/site-packages/transformers/generation/utils.py:1313: UserWarning: Using `max_length`'s default (512) to control the generation length. This behaviour is deprecated and will be removed from the config in v5 of Transformers -- we recommend using `max_new_tokens` to control the maximum length of the generation.\n",
      "  warnings.warn(\n"
     ]
    }
   ],
   "source": [
    "back = translate(result, translation_model_ru, translation_tokenizer_ru, \"en\", \"ru\")"
   ],
   "metadata": {
    "collapsed": false,
    "pycharm": {
     "name": "#%%\n"
    }
   }
  },
  {
   "cell_type": "code",
   "execution_count": 59,
   "outputs": [
    {
     "data": {
      "text/plain": "'В связи с этим я собираюсь исправить кое-что из моих коллег: \"Они не собираются начинать ядерное вооружение\" не только потому, что они, вероятно, создали тот же саботаж в Польше, но и потому, что они думают, что ничего не сделают, даже если мы намеренно ударим TJO по Львовскому рублю или польскому логистическому центру, через который они посылают оружие со всей Европы в соборе.'"
     },
     "execution_count": 59,
     "metadata": {},
     "output_type": "execute_result"
    }
   ],
   "source": [
    "back"
   ],
   "metadata": {
    "collapsed": false,
    "pycharm": {
     "name": "#%%\n"
    }
   }
  },
  {
   "cell_type": "code",
   "execution_count": 61,
   "outputs": [
    {
     "name": "stderr",
     "output_type": "stream",
     "text": [
      "/Users/katerynaburovova/PycharmProjects/dehumanization/lib/python3.10/site-packages/transformers/generation/utils.py:1313: UserWarning: Using `max_length`'s default (512) to control the generation length. This behaviour is deprecated and will be removed from the config in v5 of Transformers -- we recommend using `max_new_tokens` to control the maximum length of the generation.\n",
      "  warnings.warn(\n",
      "Token indices sequence length is longer than the specified maximum sequence length for this model (588 > 512). Running this sequence through the model will result in indexing errors\n"
     ]
    },
    {
     "name": "stdout",
     "output_type": "stream",
     "text": [
      "Error encountered for sentence: 'Ну почти., Антинавальный, БЛОК, Армен Гаспарян, Фаренгейт, Владимир Соловьёв, Илья Меркури, Якеменко, Политджойстик, Мария Бутина, Дмитрий Стешин, Александр Коц, Алексей Пушков, Сергей Карнаухов  , Земля наша, Юмор и Политика, Доктор Сосновский, Русский Демиург,  Вадим Манукян, Профессоръ Евстафьев, Железная логика Сергея Михеева,  Алексей Журавко, Андрей Манчук , Семён Пегов, Политспутник, Анастасия Попова, РУССТРАТ, Твиттерские беженцы , Архивариус, Кремлёвская прачка, Сергей Колясников, Орда, Несоциальная сеть, Маргарита Симоньян, Радио Лекух, Дробницкий, Евгений Примаков, Аббас Джума, Марина Ахмедова, Жёлтые СЛИВЫ, Елена Панина,   Мирослава Бердник,  Союз Блогеров Украины, Спецкор Курлаева, Владимир Корнилов,  Империя Очень Зла,  Мюсли Лаврова,  Выпускайте Кракена, Fuck you That's Why, Владимир Карасёв, Нюра Н. Берг, Breeg Time, Коза кричала , Мадам Секретарь , Игорь Молотов, Запрещённая Украина, Inside Donetsk, ВЕСЕЛОВСКИЙ, NEW KOBZAR, TheRussianNews, Shit & Sable, РПГ-27, Старше Эдды, Русская Правда, Readovka, Абзац, Рубра, Аким Апачев, Отряд Ковпака, Смотри, Туранский Экспресс, Шкварка, Бочарик, Тупичок Гоблина, Пономарь, UKR LEAKS, Правда и котики, Оперативные сводки, Харисов о политике, Юрий Баранчик, Хрюн Моржов   Фронтовые заметки, РИА ФАН, 360tv, Украина.ру , МЕТАМЕТРИКА, Спутник - Ближнее зарубежье, Радио Спутник, RT на русском, ИноСМИ, МЕЖДУНАРОДНЫЙ ФАН, BALTNEWS, СМОТРИ.'\n",
      "Error details: index out of range in self\n",
      "Error encountered for sentence: 'Средний балл 6-8:    • С.В. Лавров 7,18   • С.В. Кириенко 7,09   • А.В. Бортников  7   • А.Э. Вайно 6,95   • С.К. Шойгу 6,68   • А.Е. Лихачев 6,09   Средний балл 5-6:   • Г.О. Греф 5,72  • Д.В. Кочнев 5,68  • Д.С. Песков 5,68  • Т.А. Голикова 5,63  • С.В. Чемезов 5,59  • Д. Н. Козак 5,31  • Ю.О. Исаев 5,27  • Э.С. Набиуллина 5,09  • В.А. Колокольцев 5,04  • А.В. Новак 5  Средний балл 3-5:  • Д.В.Мантуров 4,95  • И.Ю.Артемьев 4,95  • Ю.А.Чиханчин 4,9  • А.В.Коновалов 4,86  • А.Н.Ткачев 4,77  • Д.А. Медведев 4,63  • Ю.П.Трутнев 4,68  • М.С.Орешкин 4,59  • О.Ю.Васильева 4,59  • С.Э. Приходько 4,59  • А.Г.Силуанов 4,59  • М.А.Мень 4,54  • В.И.Скворцова 4,54  • А.Л.Костин 4,5  • А.С.Галушка 4,36  • Л.В.Кузнецов 4,31  • О.Ю. Голодец 4,27  • М.А.Федотов 4,22  • М.Ю.Соколов 4,22  • В.В.Володин 4,18  • А.Г.Хлопонин 4,13  • М.А.Топилин 4,04  • И.И. Шувалов 4,04  • Н.А.Никифоров 4  • В.Ю.Сурков 4  • В.В.Золотов 3,95  • С.Е.Донской 3,9  • Д.О.Рогозин 3,54  • М.А.Абызов 3,4  • А.В. Дворкович 3,36  • П.А.Колобков 3,13    Полные аутсайдеры:   • А.Б.Чубайс 2,77  • В.А.Пучков 2,68  • В.Р.Мединский 2,27  • Г.С.Клименко 2,18  • В.Л. Мутко 1,68  • А.А.Жаров 1,59    В опросе принимали участие:  @Karaulny, @rospres, @akitilop @otsuka_bld, @banksta, , @russianfuture, @kremlinprachka @niemandswasser, @kbrvdvkr, @go338, @operdrain, @justthejudge, @insect_life, @ia_steklomoy, @kremlin_mother_expert, @mysly, @politadequate, @mediatech, @rosskandal, @polittemnik, @docpro, @kaktovottak, @redzion и еще 13 каналов.'\n",
      "Error details: index out of range in self\n",
      "Error encountered for sentence: 'тут мне задали вопрос \"не стукает ли мне за мои посты в обратку карма? ты же постоянно льешь говно на кого-то и к тебе приходят те кто тебя искренне ненавидит\". охотно на него отвечу  вообще, здесь два вопроса по сути. не ёбает ли мне кармой и как я справляюсь с хейтерством вообще.  про карму: у меня есть особенность. если мне начинают затирать про какие-то метафизические, потусторонние или оккультные приколы, то в моей голове начинает бить игрушка обезьянки в тарелки и хочется, чтобы человек поскорее заткнулся. при этом определённая вера в хуй знает что у меня есть - я заказываю своим пацанам сорокоусты, потому что при этом испытываю какое-то однозначно религиозное ощущение правильности. но если бы пацаны были допустим мусульманами - я бы узнал, че нужно делать для мусульман в случае смерти, сделал это и точно так же испытал бы религиозное ощущение правильности содеянного.   но в саму карму в виде обратки от вселенной я не верю вообще никак. хейтеры и хохлы это натурально белый шум. единственные проблемы я испытываю, когда творю что-то, что мне самому в рамках моей морали кажется исключительно неправильным и тогда меня конкретно ябает, но к карме это не имеет отношения, это имеет отношение к совести.  а за то что я пишу в интернет мне не стыдно и не совестно вообще нихуя и никогда. к тому же я это делаю невероятно талантливо))))   я не считаю, что ЛЬЮ НА КОГО-ТО ГОВНО. бля, в своих постах я натурально беззлобно угораю и веселюсь над происходящим. меня тут назвали энтомологом-исследователем - \"ты просто смотришь на окружающий мир и описываешь что свинка делает хрю, собачка делает гав\".  поэтому мой ответ: то, что я пишу, я пишу с максимальным ощущением своей правоты, потому что моя цель в том числе - не напиздеть и себе самому. вы ж сами блять это чувствуете, потому и читаете в том числе хехехехе  рубрика \"ответы случайным подписьчикам из чата\".'\n",
      "Error details: index out of range in self\n",
      "CPU times: user 1h 5min 17s, sys: 23min 37s, total: 1h 28min 54s\n",
      "Wall time: 1h 9min 59s\n"
     ]
    }
   ],
   "source": [
    "%%time\n",
    "df_labels[\"translated_to_english\"] = df_labels[\"text\"].apply(\n",
    "    lambda sentence: translate(sentence, translation_model, translation_tokenizer, \"ru\", \"en\")\n",
    ")"
   ],
   "metadata": {
    "collapsed": false,
    "pycharm": {
     "name": "#%%time\n"
    }
   }
  },
  {
   "cell_type": "code",
   "execution_count": 63,
   "outputs": [
    {
     "name": "stderr",
     "output_type": "stream",
     "text": [
      "/Users/katerynaburovova/PycharmProjects/dehumanization/lib/python3.10/site-packages/transformers/generation/utils.py:1313: UserWarning: Using `max_length`'s default (512) to control the generation length. This behaviour is deprecated and will be removed from the config in v5 of Transformers -- we recommend using `max_new_tokens` to control the maximum length of the generation.\n",
      "  warnings.warn(\n"
     ]
    },
    {
     "name": "stdout",
     "output_type": "stream",
     "text": [
      "Empty input detected. Skipping translation.\n",
      "Empty input detected. Skipping translation.\n",
      "Empty input detected. Skipping translation.\n",
      "CPU times: user 55min 8s, sys: 15min 45s, total: 1h 10min 54s\n",
      "Wall time: 2h 49min 58s\n"
     ]
    }
   ],
   "source": [
    "%%time\n",
    "df_labels[\"translated_back_to_russian\"] = df_labels[\"translated_to_english\"].apply(\n",
    "    lambda sentence: translate(sentence, translation_model_ru, translation_tokenizer_ru, \"en\", \"ru\")\n",
    ")"
   ],
   "metadata": {
    "collapsed": false,
    "pycharm": {
     "name": "#%%\n"
    }
   }
  },
  {
   "cell_type": "code",
   "execution_count": 64,
   "outputs": [
    {
     "data": {
      "text/plain": "                      Emotion Dehumanization Mention   External ID  \\\n1219  так, присутня негативна            так     так     row_0.txt   \n1218   ні, оцінка не присутня             ні      ні     row_1.txt   \n1591  так, присутня негативна            так     так    row_10.txt   \n1198  так, присутня негативна            так     так   row_100.txt   \n3247   ні, оцінка не присутня             ні     так  row_1000.txt   \n...                       ...            ...     ...           ...   \n3613   ні, оцінка не присутня             ні     так   row_995.txt   \n3612  так, присутня негативна             ні     так   row_996.txt   \n4121  так, присутня негативна             ні     так   row_997.txt   \n4120   ні, оцінка не присутня            так     так   row_998.txt   \n3248   ні, оцінка не присутня             ні      ні   row_999.txt   \n\n                        Created By  \\\n1219      snizannabotvin@gmail.com   \n1218      snizannabotvin@gmail.com   \n1591      snizannabotvin@gmail.com   \n1198      snizannabotvin@gmail.com   \n3247        tutovadesign@gmail.com   \n...                            ...   \n3613        tutovadesign@gmail.com   \n3612        tutovadesign@gmail.com   \n4121  yevhen.marchenko91@gmail.com   \n4120  yevhen.marchenko91@gmail.com   \n3248        tutovadesign@gmail.com   \n\n                                                   text  rating  \\\n1219  Всвязи с этим немного поправлю коллег ⤵️  \"Они...       4   \n1218  Литературный критик Галина Юзефович о новом ро...       4   \n1591  Почему на базах неонацистов стоят языческие ис...       4   \n1198  Группа добровольцев-медиков из Чеченской Респу...       4   \n3247  ВСУшники, переходите на сторону добра, у нас т...       5   \n...                                                 ...     ...   \n3613  Утренний брифинг Минобороны России:  ▪️ россий...       5   \n3612  И понеслась мазепинщино-петлюровщино-бандеровщ...       5   \n4121  Наш соратник по русскому движению Алексей Сели...       3   \n4120  Хорошее видео от 4 бригады НМ ЛНР https://t.me...       3   \n3248  Замоскворецкий районный суд Москвы отклонил ис...       5   \n\n                                  translated_to_english  \\\n1219  In connection with this, I'm going to correct ...   \n1218  Literary critic Galina Yuzefović of Alexander ...   \n1591  Why do neo-Nazis have pagan images on their ba...   \n1198  A group of medical volunteers from the Republi...   \n3247                    We have warm and tasty cookies.   \n...                                                 ...   \n3613  The morning briefing by the Ministry of Defenc...   \n3612         And there's a mazepinskin-pupil-bandering.   \n4121  Our associate in the Russian movement, Alexei ...   \n4120  It's a good video from the 4th crew of the I.R...   \n3248  The Moscow District Court of Zamoskorev reject...   \n\n                             translated_back_to_russian  perplexity  \n1219  В связи с этим я собираюсь исправить кое-что и...    5.489593  \n1218  Литературный критик Галина Юзефович из нового ...    7.103959  \n1591  Почему у неонацистов на их базе есть языческие...    3.788257  \n1198  Группа врачей-добровольцев из Чеченской Респуб...   19.975097  \n3247               У нас есть теплое и вкусное печенье.  113.599584  \n...                                                 ...         ...  \n3613  Утренний брифинг Министерства обороны Российск...    0.000000  \n3612                    И там есть лазейка-пуф-бандинг.    0.000000  \n4121  Наш ассистент в российском движении Алексей Се...    0.000000  \n4120  Это хорошее видео от 4-й команды I.R.R. https:...    0.000000  \n3248  Московский районный суд Замоскорева отклонил д...    0.000000  \n\n[3546 rows x 10 columns]",
      "text/html": "<div>\n<style scoped>\n    .dataframe tbody tr th:only-of-type {\n        vertical-align: middle;\n    }\n\n    .dataframe tbody tr th {\n        vertical-align: top;\n    }\n\n    .dataframe thead th {\n        text-align: right;\n    }\n</style>\n<table border=\"1\" class=\"dataframe\">\n  <thead>\n    <tr style=\"text-align: right;\">\n      <th></th>\n      <th>Emotion</th>\n      <th>Dehumanization</th>\n      <th>Mention</th>\n      <th>External ID</th>\n      <th>Created By</th>\n      <th>text</th>\n      <th>rating</th>\n      <th>translated_to_english</th>\n      <th>translated_back_to_russian</th>\n      <th>perplexity</th>\n    </tr>\n  </thead>\n  <tbody>\n    <tr>\n      <th>1219</th>\n      <td>так, присутня негативна</td>\n      <td>так</td>\n      <td>так</td>\n      <td>row_0.txt</td>\n      <td>snizannabotvin@gmail.com</td>\n      <td>Всвязи с этим немного поправлю коллег ⤵️  \"Они...</td>\n      <td>4</td>\n      <td>In connection with this, I'm going to correct ...</td>\n      <td>В связи с этим я собираюсь исправить кое-что и...</td>\n      <td>5.489593</td>\n    </tr>\n    <tr>\n      <th>1218</th>\n      <td>ні, оцінка не присутня</td>\n      <td>ні</td>\n      <td>ні</td>\n      <td>row_1.txt</td>\n      <td>snizannabotvin@gmail.com</td>\n      <td>Литературный критик Галина Юзефович о новом ро...</td>\n      <td>4</td>\n      <td>Literary critic Galina Yuzefović of Alexander ...</td>\n      <td>Литературный критик Галина Юзефович из нового ...</td>\n      <td>7.103959</td>\n    </tr>\n    <tr>\n      <th>1591</th>\n      <td>так, присутня негативна</td>\n      <td>так</td>\n      <td>так</td>\n      <td>row_10.txt</td>\n      <td>snizannabotvin@gmail.com</td>\n      <td>Почему на базах неонацистов стоят языческие ис...</td>\n      <td>4</td>\n      <td>Why do neo-Nazis have pagan images on their ba...</td>\n      <td>Почему у неонацистов на их базе есть языческие...</td>\n      <td>3.788257</td>\n    </tr>\n    <tr>\n      <th>1198</th>\n      <td>так, присутня негативна</td>\n      <td>так</td>\n      <td>так</td>\n      <td>row_100.txt</td>\n      <td>snizannabotvin@gmail.com</td>\n      <td>Группа добровольцев-медиков из Чеченской Респу...</td>\n      <td>4</td>\n      <td>A group of medical volunteers from the Republi...</td>\n      <td>Группа врачей-добровольцев из Чеченской Респуб...</td>\n      <td>19.975097</td>\n    </tr>\n    <tr>\n      <th>3247</th>\n      <td>ні, оцінка не присутня</td>\n      <td>ні</td>\n      <td>так</td>\n      <td>row_1000.txt</td>\n      <td>tutovadesign@gmail.com</td>\n      <td>ВСУшники, переходите на сторону добра, у нас т...</td>\n      <td>5</td>\n      <td>We have warm and tasty cookies.</td>\n      <td>У нас есть теплое и вкусное печенье.</td>\n      <td>113.599584</td>\n    </tr>\n    <tr>\n      <th>...</th>\n      <td>...</td>\n      <td>...</td>\n      <td>...</td>\n      <td>...</td>\n      <td>...</td>\n      <td>...</td>\n      <td>...</td>\n      <td>...</td>\n      <td>...</td>\n      <td>...</td>\n    </tr>\n    <tr>\n      <th>3613</th>\n      <td>ні, оцінка не присутня</td>\n      <td>ні</td>\n      <td>так</td>\n      <td>row_995.txt</td>\n      <td>tutovadesign@gmail.com</td>\n      <td>Утренний брифинг Минобороны России:  ▪️ россий...</td>\n      <td>5</td>\n      <td>The morning briefing by the Ministry of Defenc...</td>\n      <td>Утренний брифинг Министерства обороны Российск...</td>\n      <td>0.000000</td>\n    </tr>\n    <tr>\n      <th>3612</th>\n      <td>так, присутня негативна</td>\n      <td>ні</td>\n      <td>так</td>\n      <td>row_996.txt</td>\n      <td>tutovadesign@gmail.com</td>\n      <td>И понеслась мазепинщино-петлюровщино-бандеровщ...</td>\n      <td>5</td>\n      <td>And there's a mazepinskin-pupil-bandering.</td>\n      <td>И там есть лазейка-пуф-бандинг.</td>\n      <td>0.000000</td>\n    </tr>\n    <tr>\n      <th>4121</th>\n      <td>так, присутня негативна</td>\n      <td>ні</td>\n      <td>так</td>\n      <td>row_997.txt</td>\n      <td>yevhen.marchenko91@gmail.com</td>\n      <td>Наш соратник по русскому движению Алексей Сели...</td>\n      <td>3</td>\n      <td>Our associate in the Russian movement, Alexei ...</td>\n      <td>Наш ассистент в российском движении Алексей Се...</td>\n      <td>0.000000</td>\n    </tr>\n    <tr>\n      <th>4120</th>\n      <td>ні, оцінка не присутня</td>\n      <td>так</td>\n      <td>так</td>\n      <td>row_998.txt</td>\n      <td>yevhen.marchenko91@gmail.com</td>\n      <td>Хорошее видео от 4 бригады НМ ЛНР https://t.me...</td>\n      <td>3</td>\n      <td>It's a good video from the 4th crew of the I.R...</td>\n      <td>Это хорошее видео от 4-й команды I.R.R. https:...</td>\n      <td>0.000000</td>\n    </tr>\n    <tr>\n      <th>3248</th>\n      <td>ні, оцінка не присутня</td>\n      <td>ні</td>\n      <td>ні</td>\n      <td>row_999.txt</td>\n      <td>tutovadesign@gmail.com</td>\n      <td>Замоскворецкий районный суд Москвы отклонил ис...</td>\n      <td>5</td>\n      <td>The Moscow District Court of Zamoskorev reject...</td>\n      <td>Московский районный суд Замоскорева отклонил д...</td>\n      <td>0.000000</td>\n    </tr>\n  </tbody>\n</table>\n<p>3546 rows × 10 columns</p>\n</div>"
     },
     "execution_count": 64,
     "metadata": {},
     "output_type": "execute_result"
    }
   ],
   "source": [
    "df_labels"
   ],
   "metadata": {
    "collapsed": false,
    "pycharm": {
     "name": "#%%\n"
    }
   }
  },
  {
   "cell_type": "code",
   "execution_count": 66,
   "outputs": [
    {
     "name": "stderr",
     "output_type": "stream",
     "text": [
      "Token indices sequence length is longer than the specified maximum sequence length for this model (1119 > 1024). Running this sequence through the model will result in indexing errors\n"
     ]
    },
    {
     "name": "stdout",
     "output_type": "stream",
     "text": [
      "Error with input 'В обозримом будущем пронацистский режим в Киеве мог бы получить ядерное оружие, а Россия была бы мишенью. Киевским властям, по различным каналам, было предложено не вступать в боевые действия, выводить войска из Донбасс, он не хотел этого делать. Наши ребята очень усердно работали на территории Украины. Киев саботировал мирное урегулирование кризиса. В обозримом будущем пронацистский режим в Киеве мог бы получить ядерное оружие, и его целью была бы Россия. Киевским властям по различным каналам было предложено не участвовать в боевых действиях, вывести войска из Донбасса в Российскую Федерацию, насколько они этого не хотят. Специальная операция шла хорошо, строго в соответствии с планом. Наши ребята на территории Украины работали упорно, Киев саботировали мирное урегулирование кризиса. В обозримом будущем пронацистский режим в Киеве мог бы получить ядерное оружие, цель была бы достигнута в России. Киевским властям по различным каналам было предложено не участвовать в боевых действиях, вывести войска из Донбаса, он не хотел.': index out of range in self\n",
      "Error with input 'Общая информация в китайских СМИ о нападении на Крымский мост ночью пошла в правильном направлении. - Это террористическое нападение, в соответствии с нападением на Северный поток, Запад начался, теперь у всех будут проблемы с безопасностью; - качество строительства России было занижено; интересно, китайский мост пережил бы многочасовое сжигание топливных емкостей плюс то, что случилось бы с ним после взрыва нескольких тонн взрывчатых веществ; русские накладные расходы переместились, их поплавки будут возвращены в те дни, их поддержка не будет повреждена, их сила впечатляет; реальные супермегаактивные суперактивы для всех коллективов НАТО оказались незначительными - поезда были прерваны менее чем на один день, сообщение также о автомобилях; и, кстати, большое приветствие для местных помощников и голологов, которые пишут на каждом торжественном заседании - китайская статья ПК о поддержке терроризма - это не только о событиях на территории ПРК, но и о событиях в целом.': index out of range in self\n",
      "Error with input 'В непосредственной близости от часа Яр Ангар с США М777 был уничтожен до 30 укронацистами, которые открыли огонь по жилым кварталам Донецка – Министерство обороны Сил Российской Федерации – начальником нового брифинга министерства внутренних дел: ▪ вооруженные силы Российской Федерации в районе Солдата уничтожили более 30 процентов военных 72-х мехбригадов ЮС и большинство артиллерийских орудий; ♫ Российская Федерация уничтожила более 75 националистов и около 30 единиц оборудования немецкой бригады ГСУ; ~ Су-35 и МИГ-31БМ ВК российского батальона в Николаевской области, убили двух украинских солдат Со-25; ♫ СКС в процессе предварительного размещения подразделений Звездной бригады в Харькове заключенными; ♫ Российская Федерация уничтожила в Днепропетровской области временную станцию национального батальона «Тогор»; ~ 15 украинских беспилотников были уничтожены за 24 часа; и с начала специальной операции по уничтожению более чем 1500 украинских диверсантов.': index out of range in self\n",
      "Error with input 'Одним из примеров являются заявления Соединенных Штатов, Канады и стран - членов ЕС, которые безосновательно пытались обвинить Россию, в частности, в нарушении свободы собраний. ♪ В первый год существования Соединенных Штатов, Европейского союза и других государств права жителей Крыма на свободу передвижения и выражения мнений используются для коллективного наказания. ♪ Тревожная позиция Соединенных Штатов, Канады, Европейского союза, включая балтийские страны, и Украины в отношении актов прославления нацизма, маршей ветеранов Ваффена СС, героизации коллаборационистов и таких организаций, как УНА и УПА, проявлений неонацизма и радикального национализма, публикации нацистской литературы и так называемой войны над памятниками тем, кто освободил Европу от фашизма. ♪ Многие государства-участники продолжают отказываться признать связь между кризисом в пространстве ОБСЕ и безответственной и агрессивной политикой Запада по отношению к другим государствам.': index out of range in self\n",
      "Error with input 'Впервые в течение двух недель под контролем находились 25 пунктов, из которых крупнейшие -- Севердонеты, Голд, Хорск, Вольчьярк -- были разрушены за последние две недели вооруженными силами Украины, 12 самолетов и 1 вертолет, 166 единиц полевой и минометной артиллерии и 216 автомобилей различных типов пистолетов, 11 ружей и минометов, 48 противотанковых пусковых установок, 48 подразделений украинских войск за две недели, общее число жертв более чем 5000 военнослужащих на территории Украины, о которых сообщили Шойге военные силы и ЛОП, уничтоженные за последние две недели из 196 украинских танков и бронированных машин, 12 самолетов и одного вертолета, 166 единиц полевого и минометных артиллерийских артиллерийских артиллерийских орудий и 216 автомобилей различного использования, -- что подразделения, которые перевозили оружие для освобождения ЛСД, должны отдыхать и наращивать свой боевой потенциал, а группы «Востока» и «Запад» должны выполнять свои задачи в рамках оставшихся планов двух военных подразделений вооруженных сил, «Дутч» вооруженных сил вооруженных сил на 24 часах дня, вооруженные силы двадцатидневных вооруженных сил и «Вой» — в течение 24 дней.': index out of range in self\n",
      "Error with input 'Основные события в 03:00: в Киеве генератор был взорван людьми из-за отсутствия электричества ▪ министр иностранных дел Украины Дмитрий Кулеба призвал к скорейшему запрещению пропагандистской деятельности российских вооруженных сил ~ иранские вооруженные силы IRGC атаковали штаб Демократической партии Курдистана в иракском Эрбиле ~ Турция вновь напала на Кобани в провинции Алеппо на севере Сирии ~ Российская Федерация направила в Бандер командующего 105-м батальоном в вооруженных силах Закарпатии военные силы вооруженных сил вооруженных сил вооруженных сил вооруженных сил вооруженных сил в вооруженных силах вооруженных сил вооруженных сил в вооруженных силах вооруженных сил вооруженных сил вооруженных сил вооруженных сил вооруженных сил вооруженных сил вооруженных сил вооруженных сил вооруженных сил вооруженных сил вооруженных сил вооруженных сил вооруженных сил вооруженных сил вооруженных сил вооруженных сил вооруженных сил вооруженных сил вооруженных сил вооруженных сил вооруженных сил вооруженных сил вооруженных сил вооруженных сил вооруженных сил вооруженных сил вооруженных сил вооруженных сил вооруженных сил вооруженных сил Вашник-Шпион пересекал белорусскую границу ~ Беларусь в срочном порядке увеличила численность персонала Министерства внутренних дел на границе с Украиной ~ Токаев, набрав 82,4 процента голосов в результате президентских выборов в вооруженных силах Республики Казахстан, инспекторы МАГАТЭ в вооруженных силах МАГАТЭ в Закарпатии будут иметь доступ к военным силам в Вооруженных силах МАГАТЭ в Вооруженных силах, но строго в рамках мандата Украй армии США в границе Украи на границе на границе на границе на границе с 82,4 процента голосов в Заропабрской армии на границе в Казахстан на территории, а на каз на каз в каз в РА в РА в каза в РА в РА в РА в РА в РА в РА в РА в ~ инспекторах РА в РА в РА в Закара в РА в РА в РА в РА в Закара в военныхах МАГАТЭ в РА в РА': index out of range in self\n",
      "CPU times: user 9min 28s, sys: 2min 40s, total: 12min 9s\n",
      "Wall time: 5min 57s\n"
     ]
    }
   ],
   "source": [
    "%%time\n",
    "\n",
    "df_labels[\"perplexity\"] = df_labels[\"translated_back_to_russian\"].apply(\n",
    "    lambda sentence: calculate_perplexity(sentence, gpt_model, gpt_tokenizer)\n",
    ")"
   ],
   "metadata": {
    "collapsed": false,
    "pycharm": {
     "name": "#%%\n"
    }
   }
  },
  {
   "cell_type": "code",
   "execution_count": 68,
   "outputs": [],
   "source": [
    "columns_to_check = ['perplexity', 'translated_back_to_russian', 'translated_to_english']\n",
    "\n",
    "mask = df_labels[columns_to_check].applymap(lambda x: x == \"\" or pd.isna(x)).any(axis=1)\n",
    "df_clean = df_labels[~mask].copy()"
   ],
   "metadata": {
    "collapsed": false,
    "pycharm": {
     "name": "#%%\n"
    }
   }
  },
  {
   "cell_type": "code",
   "execution_count": 71,
   "outputs": [],
   "source": [
    "df_clean = df_clean[df_clean['Dehumanization']!='не можу визначитись з правильною відповіддю'].copy()"
   ],
   "metadata": {
    "collapsed": false,
    "pycharm": {
     "name": "#%%\n"
    }
   }
  },
  {
   "cell_type": "code",
   "execution_count": 73,
   "outputs": [],
   "source": [
    "df_clean['labels']=df_clean['Dehumanization'].apply(lambda x: 0 if x=='ні' else 1)"
   ],
   "metadata": {
    "collapsed": false,
    "pycharm": {
     "name": "#%%\n"
    }
   }
  },
  {
   "cell_type": "code",
   "execution_count": 74,
   "outputs": [
    {
     "name": "stdout",
     "output_type": "stream",
     "text": [
      "Pearson correlation coefficient: -0.021382167692577024\n"
     ]
    }
   ],
   "source": [
    "import numpy as np\n",
    "\n",
    "pearson_correlation = df_clean[\"perplexity\"].corr(df_clean[\"labels\"], method=\"pearson\")\n",
    "print(\"Pearson correlation coefficient:\", pearson_correlation)"
   ],
   "metadata": {
    "collapsed": false,
    "pycharm": {
     "name": "#%%\n"
    }
   }
  },
  {
   "cell_type": "code",
   "execution_count": 75,
   "outputs": [
    {
     "name": "stdout",
     "output_type": "stream",
     "text": [
      "Spearman correlation coefficient: -0.07398122831144073\n"
     ]
    }
   ],
   "source": [
    "spearman_correlation = df_clean[\"perplexity\"].corr(df_clean[\"labels\"], method=\"spearman\")\n",
    "print(\"Spearman correlation coefficient:\", spearman_correlation)"
   ],
   "metadata": {
    "collapsed": false,
    "pycharm": {
     "name": "#%%\n"
    }
   }
  }
 ],
 "metadata": {
  "kernelspec": {
   "display_name": "Python 3",
   "language": "python",
   "name": "python3"
  },
  "language_info": {
   "codemirror_mode": {
    "name": "ipython",
    "version": 2
   },
   "file_extension": ".py",
   "mimetype": "text/x-python",
   "name": "python",
   "nbconvert_exporter": "python",
   "pygments_lexer": "ipython2",
   "version": "2.7.6"
  }
 },
 "nbformat": 4,
 "nbformat_minor": 0
}