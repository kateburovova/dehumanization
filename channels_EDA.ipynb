{
 "cells": [
  {
   "cell_type": "code",
   "execution_count": 1,
   "metadata": {
    "collapsed": true,
    "pycharm": {
     "name": "#%%\n"
    }
   },
   "outputs": [],
   "source": [
    "import pandas as pd"
   ]
  },
  {
   "cell_type": "code",
   "execution_count": 3,
   "outputs": [],
   "source": [
    "df_channels = pd.read_csv('/Users/katerynaburovova/PycharmProjects/dehumanization/data/merged_dataset/df_channels.csv', header=None)"
   ],
   "metadata": {
    "collapsed": false,
    "pycharm": {
     "name": "#%%\n"
    }
   }
  },
  {
   "cell_type": "markdown",
   "source": [
    "FWD from will be used for network analysis"
   ],
   "metadata": {
    "collapsed": false,
    "pycharm": {
     "name": "#%% md\n"
    }
   }
  },
  {
   "cell_type": "code",
   "execution_count": 4,
   "outputs": [
    {
     "data": {
      "text/plain": "               0       1                          2        3  \\\n0     Unnamed: 0      id                       date  from_id   \n1              0    2305  2022-11-17 19:08:37+00:00      NaN   \n2              1    2304  2022-11-17 18:56:57+00:00      NaN   \n3              2    2303  2022-11-17 17:59:12+00:00      NaN   \n4              3    2302  2022-11-17 14:54:07+00:00      NaN   \n...          ...     ...                        ...      ...   \n2996         995  139568  2022-11-13 07:24:58+00:00      NaN   \n2997         996  139567  2022-11-13 07:23:26+00:00      NaN   \n2998         997  139566  2022-11-13 07:21:21+00:00      NaN   \n2999         998  139565  2022-11-13 07:20:22+00:00      NaN   \n3000         999  139564  2022-11-13 07:01:02+00:00      NaN   \n\n                                       4  \\\n0                                  to_id   \n1     PeerChannel(channel_id=1182607945)   \n2     PeerChannel(channel_id=1182607945)   \n3     PeerChannel(channel_id=1182607945)   \n4     PeerChannel(channel_id=1182607945)   \n...                                  ...   \n2996  PeerChannel(channel_id=1315735637)   \n2997  PeerChannel(channel_id=1315735637)   \n2998  PeerChannel(channel_id=1315735637)   \n2999  PeerChannel(channel_id=1315735637)   \n3000  PeerChannel(channel_id=1315735637)   \n\n                                                      5  \\\n0                                              fwd_from   \n1                                                   NaN   \n2                                                   NaN   \n3                                                   NaN   \n4     MessageFwdHeader(date=datetime.datetime(2022, ...   \n...                                                 ...   \n2996                                                NaN   \n2997                                                NaN   \n2998                                                NaN   \n2999                                                NaN   \n3000                                                NaN   \n\n                                                      6      7         8  \\\n0                                               message   type  duration   \n1     Дорогая Маша нарисовала нас с покраденным Енот...  photo       NaN   \n2     Даже Енот из Херсона в афиге от того, как либе...   text       NaN   \n3     Хи-хи, лол. А если Стрелков к ним явится? \\n- ...   text       NaN   \n4     Киров (Вятка! Вятка!), выступаю 3 декабря. \\n\\...  photo       NaN   \n...                                                 ...    ...       ...   \n2996  ‼️‼️‼️Совместного заявления по итогам Восточно...   text       NaN   \n2997  ⚡️Увага! Повітряна тривога оголошена на всій т...  video      11.0   \n2998  ⚡️⚡️⚡️⚡️Демократы получают контроль над Сенато...   text       NaN   \n2999                                                NaN   text       NaN   \n3000  Российский ученый занимается одним из важнейши...  video    1265.0   \n\n                  9  \n0      channel_name  \n1     dolgarevaanna  \n2     dolgarevaanna  \n3     dolgarevaanna  \n4     dolgarevaanna  \n...             ...  \n2996   SolovievLive  \n2997   SolovievLive  \n2998   SolovievLive  \n2999   SolovievLive  \n3000   SolovievLive  \n\n[3001 rows x 10 columns]",
      "text/html": "<div>\n<style scoped>\n    .dataframe tbody tr th:only-of-type {\n        vertical-align: middle;\n    }\n\n    .dataframe tbody tr th {\n        vertical-align: top;\n    }\n\n    .dataframe thead th {\n        text-align: right;\n    }\n</style>\n<table border=\"1\" class=\"dataframe\">\n  <thead>\n    <tr style=\"text-align: right;\">\n      <th></th>\n      <th>0</th>\n      <th>1</th>\n      <th>2</th>\n      <th>3</th>\n      <th>4</th>\n      <th>5</th>\n      <th>6</th>\n      <th>7</th>\n      <th>8</th>\n      <th>9</th>\n    </tr>\n  </thead>\n  <tbody>\n    <tr>\n      <th>0</th>\n      <td>Unnamed: 0</td>\n      <td>id</td>\n      <td>date</td>\n      <td>from_id</td>\n      <td>to_id</td>\n      <td>fwd_from</td>\n      <td>message</td>\n      <td>type</td>\n      <td>duration</td>\n      <td>channel_name</td>\n    </tr>\n    <tr>\n      <th>1</th>\n      <td>0</td>\n      <td>2305</td>\n      <td>2022-11-17 19:08:37+00:00</td>\n      <td>NaN</td>\n      <td>PeerChannel(channel_id=1182607945)</td>\n      <td>NaN</td>\n      <td>Дорогая Маша нарисовала нас с покраденным Енот...</td>\n      <td>photo</td>\n      <td>NaN</td>\n      <td>dolgarevaanna</td>\n    </tr>\n    <tr>\n      <th>2</th>\n      <td>1</td>\n      <td>2304</td>\n      <td>2022-11-17 18:56:57+00:00</td>\n      <td>NaN</td>\n      <td>PeerChannel(channel_id=1182607945)</td>\n      <td>NaN</td>\n      <td>Даже Енот из Херсона в афиге от того, как либе...</td>\n      <td>text</td>\n      <td>NaN</td>\n      <td>dolgarevaanna</td>\n    </tr>\n    <tr>\n      <th>3</th>\n      <td>2</td>\n      <td>2303</td>\n      <td>2022-11-17 17:59:12+00:00</td>\n      <td>NaN</td>\n      <td>PeerChannel(channel_id=1182607945)</td>\n      <td>NaN</td>\n      <td>Хи-хи, лол. А если Стрелков к ним явится? \\n- ...</td>\n      <td>text</td>\n      <td>NaN</td>\n      <td>dolgarevaanna</td>\n    </tr>\n    <tr>\n      <th>4</th>\n      <td>3</td>\n      <td>2302</td>\n      <td>2022-11-17 14:54:07+00:00</td>\n      <td>NaN</td>\n      <td>PeerChannel(channel_id=1182607945)</td>\n      <td>MessageFwdHeader(date=datetime.datetime(2022, ...</td>\n      <td>Киров (Вятка! Вятка!), выступаю 3 декабря. \\n\\...</td>\n      <td>photo</td>\n      <td>NaN</td>\n      <td>dolgarevaanna</td>\n    </tr>\n    <tr>\n      <th>...</th>\n      <td>...</td>\n      <td>...</td>\n      <td>...</td>\n      <td>...</td>\n      <td>...</td>\n      <td>...</td>\n      <td>...</td>\n      <td>...</td>\n      <td>...</td>\n      <td>...</td>\n    </tr>\n    <tr>\n      <th>2996</th>\n      <td>995</td>\n      <td>139568</td>\n      <td>2022-11-13 07:24:58+00:00</td>\n      <td>NaN</td>\n      <td>PeerChannel(channel_id=1315735637)</td>\n      <td>NaN</td>\n      <td>‼️‼️‼️Совместного заявления по итогам Восточно...</td>\n      <td>text</td>\n      <td>NaN</td>\n      <td>SolovievLive</td>\n    </tr>\n    <tr>\n      <th>2997</th>\n      <td>996</td>\n      <td>139567</td>\n      <td>2022-11-13 07:23:26+00:00</td>\n      <td>NaN</td>\n      <td>PeerChannel(channel_id=1315735637)</td>\n      <td>NaN</td>\n      <td>⚡️Увага! Повітряна тривога оголошена на всій т...</td>\n      <td>video</td>\n      <td>11.0</td>\n      <td>SolovievLive</td>\n    </tr>\n    <tr>\n      <th>2998</th>\n      <td>997</td>\n      <td>139566</td>\n      <td>2022-11-13 07:21:21+00:00</td>\n      <td>NaN</td>\n      <td>PeerChannel(channel_id=1315735637)</td>\n      <td>NaN</td>\n      <td>⚡️⚡️⚡️⚡️Демократы получают контроль над Сенато...</td>\n      <td>text</td>\n      <td>NaN</td>\n      <td>SolovievLive</td>\n    </tr>\n    <tr>\n      <th>2999</th>\n      <td>998</td>\n      <td>139565</td>\n      <td>2022-11-13 07:20:22+00:00</td>\n      <td>NaN</td>\n      <td>PeerChannel(channel_id=1315735637)</td>\n      <td>NaN</td>\n      <td>NaN</td>\n      <td>text</td>\n      <td>NaN</td>\n      <td>SolovievLive</td>\n    </tr>\n    <tr>\n      <th>3000</th>\n      <td>999</td>\n      <td>139564</td>\n      <td>2022-11-13 07:01:02+00:00</td>\n      <td>NaN</td>\n      <td>PeerChannel(channel_id=1315735637)</td>\n      <td>NaN</td>\n      <td>Российский ученый занимается одним из важнейши...</td>\n      <td>video</td>\n      <td>1265.0</td>\n      <td>SolovievLive</td>\n    </tr>\n  </tbody>\n</table>\n<p>3001 rows × 10 columns</p>\n</div>"
     },
     "execution_count": 4,
     "metadata": {},
     "output_type": "execute_result"
    }
   ],
   "source": [
    "df_channels"
   ],
   "metadata": {
    "collapsed": false,
    "pycharm": {
     "name": "#%%\n"
    }
   }
  },
  {
   "cell_type": "code",
   "execution_count": null,
   "outputs": [],
   "source": [],
   "metadata": {
    "collapsed": false,
    "pycharm": {
     "name": "#%%\n"
    }
   }
  },
  {
   "cell_type": "code",
   "execution_count": null,
   "outputs": [],
   "source": [],
   "metadata": {
    "collapsed": false,
    "pycharm": {
     "name": "#%%\n"
    }
   }
  }
 ],
 "metadata": {
  "kernelspec": {
   "display_name": "Python 3",
   "language": "python",
   "name": "python3"
  },
  "language_info": {
   "codemirror_mode": {
    "name": "ipython",
    "version": 2
   },
   "file_extension": ".py",
   "mimetype": "text/x-python",
   "name": "python",
   "nbconvert_exporter": "python",
   "pygments_lexer": "ipython2",
   "version": "2.7.6"
  }
 },
 "nbformat": 4,
 "nbformat_minor": 0
}