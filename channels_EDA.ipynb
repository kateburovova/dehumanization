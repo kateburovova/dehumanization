{
 "cells": [
  {
   "cell_type": "code",
   "execution_count": 111,
   "metadata": {
    "collapsed": true,
    "pycharm": {
     "name": "#%%\n"
    }
   },
   "outputs": [],
   "source": [
    "import pandas as pd\n",
    "import json\n",
    "import fasttext"
   ]
  },
  {
   "cell_type": "markdown",
   "source": [
    "# Loading merged data from channels"
   ],
   "metadata": {
    "collapsed": false,
    "pycharm": {
     "name": "#%% md\n"
    }
   }
  },
  {
   "cell_type": "code",
   "execution_count": 112,
   "outputs": [],
   "source": [
    "df_channels = pd.read_csv('/Users/katerynaburovova/PycharmProjects/dehumanization/data/merged_dataset/df_channels.csv', header=None)"
   ],
   "metadata": {
    "collapsed": false,
    "pycharm": {
     "name": "#%%\n"
    }
   }
  },
  {
   "cell_type": "code",
   "execution_count": 113,
   "outputs": [],
   "source": [
    "df_channels.columns = df_channels.iloc[0]\n",
    "df_channels = df_channels[1:]"
   ],
   "metadata": {
    "collapsed": false,
    "pycharm": {
     "name": "#%%\n"
    }
   }
  },
  {
   "cell_type": "code",
   "execution_count": 114,
   "outputs": [],
   "source": [
    "df_channels = (df_channels\n",
    "               .drop(columns=['Unnamed: 0'], axis=1)\n",
    "               .reset_index(drop=True))"
   ],
   "metadata": {
    "collapsed": false,
    "pycharm": {
     "name": "#%%\n"
    }
   }
  },
  {
   "cell_type": "code",
   "execution_count": 115,
   "outputs": [
    {
     "data": {
      "text/plain": "0        id                       date     views  \\\n0      2318  2022-11-21 12:17:27+00:00    2993.0   \n1    115262  2022-11-21 12:58:51+00:00       NaN   \n2    115260  2022-11-21 12:57:05+00:00       NaN   \n3    115252  2022-11-21 12:51:14+00:00       NaN   \n4    115251  2022-11-21 12:50:46+00:00       NaN   \n..      ...                        ...       ...   \n186   24120  2022-11-21 09:15:14+00:00  270058.0   \n187   24119  2022-11-21 09:00:50+00:00  286726.0   \n188   24118  2022-11-21 07:55:21+00:00  311880.0   \n189   24117  2022-11-21 07:02:16+00:00  338178.0   \n190   24116  2022-11-21 06:40:01+00:00  354629.0   \n\n0                                            reactions  \\\n0    MessageReactions(results=[ReactionCount(reacti...   \n1    MessageReactions(results=[ReactionCount(reacti...   \n2                                                  NaN   \n3                                                  NaN   \n4                                                  NaN   \n..                                                 ...   \n186                                                NaN   \n187                                                NaN   \n188                                                NaN   \n189                                                NaN   \n190                                                NaN   \n\n0                                 to_id  \\\n0    PeerChannel(channel_id=1182607945)   \n1    PeerChannel(channel_id=1591547950)   \n2    PeerChannel(channel_id=1591547950)   \n3    PeerChannel(channel_id=1591547950)   \n4    PeerChannel(channel_id=1591547950)   \n..                                  ...   \n186  PeerChannel(channel_id=1497011710)   \n187  PeerChannel(channel_id=1497011710)   \n188  PeerChannel(channel_id=1497011710)   \n189  PeerChannel(channel_id=1497011710)   \n190  PeerChannel(channel_id=1497011710)   \n\n0                                             fwd_from  \\\n0    MessageFwdHeader(date=datetime.datetime(2022, ...   \n1                                                  NaN   \n2                                                  NaN   \n3                                                  NaN   \n4                                                  NaN   \n..                                                 ...   \n186                                                NaN   \n187                                                NaN   \n188                                                NaN   \n189                                                NaN   \n190                                                NaN   \n\n0                                              message   type duration  \\\n0    Поэт Анна Долгарева проведет творческую встреч...  photo      NaN   \n1                         Ссылку на канал будьте добры   text      NaN   \n2                            От Александра Сергеевича.   text      NaN   \n3        Светлана, а Вы от кого пришли, знаток поэзии?   text      NaN   \n4    Примялось? Пусть.  Это все равно ничего не мен...   text      NaN   \n..                                                 ...    ...      ...   \n186  25 ноября в мире будет отмечаться Международны...  video     56.0   \n187  Комитет Госдумы по информационной политике счи...  video     46.0   \n188  В Госдуме задумались над увеличением зарплат в...  video     35.0   \n189  Строго говоря, это не «набрал» с нуля, это вос...   text      NaN   \n190  Очень глубокомысленный диалог между Канье и Ма...  photo      NaN   \n\n0           frw_from_title frw_from_name   channel_name  \n0    Мастерская Лундстрема  lundstremart  dolgarevaanna  \n1                      NaN           NaN  dolgarevaanna  \n2                      NaN           NaN  dolgarevaanna  \n3                      NaN           NaN  dolgarevaanna  \n4                      NaN           NaN  dolgarevaanna  \n..                     ...           ...            ...  \n186                    NaN           NaN       bloodysx  \n187                    NaN           NaN       bloodysx  \n188                    NaN           NaN       bloodysx  \n189                    NaN           NaN       bloodysx  \n190                    NaN           NaN       bloodysx  \n\n[191 rows x 12 columns]",
      "text/html": "<div>\n<style scoped>\n    .dataframe tbody tr th:only-of-type {\n        vertical-align: middle;\n    }\n\n    .dataframe tbody tr th {\n        vertical-align: top;\n    }\n\n    .dataframe thead th {\n        text-align: right;\n    }\n</style>\n<table border=\"1\" class=\"dataframe\">\n  <thead>\n    <tr style=\"text-align: right;\">\n      <th></th>\n      <th>id</th>\n      <th>date</th>\n      <th>views</th>\n      <th>reactions</th>\n      <th>to_id</th>\n      <th>fwd_from</th>\n      <th>message</th>\n      <th>type</th>\n      <th>duration</th>\n      <th>frw_from_title</th>\n      <th>frw_from_name</th>\n      <th>channel_name</th>\n    </tr>\n  </thead>\n  <tbody>\n    <tr>\n      <th>0</th>\n      <td>2318</td>\n      <td>2022-11-21 12:17:27+00:00</td>\n      <td>2993.0</td>\n      <td>MessageReactions(results=[ReactionCount(reacti...</td>\n      <td>PeerChannel(channel_id=1182607945)</td>\n      <td>MessageFwdHeader(date=datetime.datetime(2022, ...</td>\n      <td>Поэт Анна Долгарева проведет творческую встреч...</td>\n      <td>photo</td>\n      <td>NaN</td>\n      <td>Мастерская Лундстрема</td>\n      <td>lundstremart</td>\n      <td>dolgarevaanna</td>\n    </tr>\n    <tr>\n      <th>1</th>\n      <td>115262</td>\n      <td>2022-11-21 12:58:51+00:00</td>\n      <td>NaN</td>\n      <td>MessageReactions(results=[ReactionCount(reacti...</td>\n      <td>PeerChannel(channel_id=1591547950)</td>\n      <td>NaN</td>\n      <td>Ссылку на канал будьте добры</td>\n      <td>text</td>\n      <td>NaN</td>\n      <td>NaN</td>\n      <td>NaN</td>\n      <td>dolgarevaanna</td>\n    </tr>\n    <tr>\n      <th>2</th>\n      <td>115260</td>\n      <td>2022-11-21 12:57:05+00:00</td>\n      <td>NaN</td>\n      <td>NaN</td>\n      <td>PeerChannel(channel_id=1591547950)</td>\n      <td>NaN</td>\n      <td>От Александра Сергеевича.</td>\n      <td>text</td>\n      <td>NaN</td>\n      <td>NaN</td>\n      <td>NaN</td>\n      <td>dolgarevaanna</td>\n    </tr>\n    <tr>\n      <th>3</th>\n      <td>115252</td>\n      <td>2022-11-21 12:51:14+00:00</td>\n      <td>NaN</td>\n      <td>NaN</td>\n      <td>PeerChannel(channel_id=1591547950)</td>\n      <td>NaN</td>\n      <td>Светлана, а Вы от кого пришли, знаток поэзии?</td>\n      <td>text</td>\n      <td>NaN</td>\n      <td>NaN</td>\n      <td>NaN</td>\n      <td>dolgarevaanna</td>\n    </tr>\n    <tr>\n      <th>4</th>\n      <td>115251</td>\n      <td>2022-11-21 12:50:46+00:00</td>\n      <td>NaN</td>\n      <td>NaN</td>\n      <td>PeerChannel(channel_id=1591547950)</td>\n      <td>NaN</td>\n      <td>Примялось? Пусть.  Это все равно ничего не мен...</td>\n      <td>text</td>\n      <td>NaN</td>\n      <td>NaN</td>\n      <td>NaN</td>\n      <td>dolgarevaanna</td>\n    </tr>\n    <tr>\n      <th>...</th>\n      <td>...</td>\n      <td>...</td>\n      <td>...</td>\n      <td>...</td>\n      <td>...</td>\n      <td>...</td>\n      <td>...</td>\n      <td>...</td>\n      <td>...</td>\n      <td>...</td>\n      <td>...</td>\n      <td>...</td>\n    </tr>\n    <tr>\n      <th>186</th>\n      <td>24120</td>\n      <td>2022-11-21 09:15:14+00:00</td>\n      <td>270058.0</td>\n      <td>NaN</td>\n      <td>PeerChannel(channel_id=1497011710)</td>\n      <td>NaN</td>\n      <td>25 ноября в мире будет отмечаться Международны...</td>\n      <td>video</td>\n      <td>56.0</td>\n      <td>NaN</td>\n      <td>NaN</td>\n      <td>bloodysx</td>\n    </tr>\n    <tr>\n      <th>187</th>\n      <td>24119</td>\n      <td>2022-11-21 09:00:50+00:00</td>\n      <td>286726.0</td>\n      <td>NaN</td>\n      <td>PeerChannel(channel_id=1497011710)</td>\n      <td>NaN</td>\n      <td>Комитет Госдумы по информационной политике счи...</td>\n      <td>video</td>\n      <td>46.0</td>\n      <td>NaN</td>\n      <td>NaN</td>\n      <td>bloodysx</td>\n    </tr>\n    <tr>\n      <th>188</th>\n      <td>24118</td>\n      <td>2022-11-21 07:55:21+00:00</td>\n      <td>311880.0</td>\n      <td>NaN</td>\n      <td>PeerChannel(channel_id=1497011710)</td>\n      <td>NaN</td>\n      <td>В Госдуме задумались над увеличением зарплат в...</td>\n      <td>video</td>\n      <td>35.0</td>\n      <td>NaN</td>\n      <td>NaN</td>\n      <td>bloodysx</td>\n    </tr>\n    <tr>\n      <th>189</th>\n      <td>24117</td>\n      <td>2022-11-21 07:02:16+00:00</td>\n      <td>338178.0</td>\n      <td>NaN</td>\n      <td>PeerChannel(channel_id=1497011710)</td>\n      <td>NaN</td>\n      <td>Строго говоря, это не «набрал» с нуля, это вос...</td>\n      <td>text</td>\n      <td>NaN</td>\n      <td>NaN</td>\n      <td>NaN</td>\n      <td>bloodysx</td>\n    </tr>\n    <tr>\n      <th>190</th>\n      <td>24116</td>\n      <td>2022-11-21 06:40:01+00:00</td>\n      <td>354629.0</td>\n      <td>NaN</td>\n      <td>PeerChannel(channel_id=1497011710)</td>\n      <td>NaN</td>\n      <td>Очень глубокомысленный диалог между Канье и Ма...</td>\n      <td>photo</td>\n      <td>NaN</td>\n      <td>NaN</td>\n      <td>NaN</td>\n      <td>bloodysx</td>\n    </tr>\n  </tbody>\n</table>\n<p>191 rows × 12 columns</p>\n</div>"
     },
     "execution_count": 115,
     "metadata": {},
     "output_type": "execute_result"
    }
   ],
   "source": [
    "df_channels"
   ],
   "metadata": {
    "collapsed": false,
    "pycharm": {
     "name": "#%%\n"
    }
   }
  },
  {
   "cell_type": "markdown",
   "source": [
    "### Some redundant code for id extraction"
   ],
   "metadata": {
    "collapsed": false,
    "pycharm": {
     "name": "#%% md\n"
    }
   }
  },
  {
   "cell_type": "code",
   "execution_count": 116,
   "outputs": [],
   "source": [
    "# def extract_id(text):\n",
    "#     if text is None:\n",
    "#         return \"\"\n",
    "#     else:\n",
    "#         pos = text.find('channel_id=')+len('channel_id=')\n",
    "#         result = text[pos:(pos+25)].split('),')[0]\n",
    "#         return result"
   ],
   "metadata": {
    "collapsed": false,
    "pycharm": {
     "name": "#%%\n"
    }
   }
  },
  {
   "cell_type": "code",
   "execution_count": 117,
   "outputs": [],
   "source": [
    "# df_channels['frw_from_id_clean'] = df_channels['fwd_from'].apply(lambda x: extract_id(str(x)))"
   ],
   "metadata": {
    "collapsed": false,
    "pycharm": {
     "name": "#%%\n"
    }
   }
  },
  {
   "cell_type": "code",
   "execution_count": 118,
   "outputs": [],
   "source": [
    "# indices = (df_channels['frw_from_id_clean']\n",
    "#               .value_counts()\n",
    "#               .reset_index(name=\"count\")[1:]['index']\n",
    "#               .to_list())"
   ],
   "metadata": {
    "collapsed": false,
    "pycharm": {
     "name": "#%%\n"
    }
   }
  },
  {
   "cell_type": "markdown",
   "source": [
    "### Loading list of unique channel name handles referenced by the group"
   ],
   "metadata": {
    "collapsed": false,
    "pycharm": {
     "name": "#%% md\n"
    }
   }
  },
  {
   "cell_type": "code",
   "execution_count": 121,
   "outputs": [
    {
     "data": {
      "text/plain": "['milinfolive',\n 'rt_special',\n 'tass_agency',\n 'lundstremart',\n 'dolgareva',\n 'kpdlit',\n 'smotri_z',\n 'Soldieroffortune777',\n 'RVvoenkor',\n 'Z_memes']"
     },
     "execution_count": 121,
     "metadata": {},
     "output_type": "execute_result"
    }
   ],
   "source": [
    "names = (df_channels['frw_from_name']\n",
    "              .value_counts()\n",
    "              .reset_index(name=\"count\")[1:]['index']\n",
    "              .to_list())\n",
    "names"
   ],
   "metadata": {
    "collapsed": false,
    "pycharm": {
     "name": "#%%\n"
    }
   }
  },
  {
   "cell_type": "code",
   "execution_count": 122,
   "outputs": [],
   "source": [
    "# dict_id = {\"ids\": indices}\n",
    "# json_object = json.dumps(dict_id, indent=4)\n",
    "# with open(\"/Users/katerynaburovova/PycharmProjects/dehumanization/data/ids_channels_list.json\", \"w\") as outfile:\n",
    "#     outfile.write(json_object)"
   ],
   "metadata": {
    "collapsed": false,
    "pycharm": {
     "name": "#%%\n"
    }
   }
  },
  {
   "cell_type": "code",
   "execution_count": 123,
   "outputs": [],
   "source": [
    "dict_names = {\"titles\": names}\n",
    "json_object = json.dumps(dict_names, indent=4)\n",
    "with open(\"/Users/katerynaburovova/PycharmProjects/dehumanization/data/names_channels_list.json\", \"w\") as outfile:\n",
    "    outfile.write(json_object)"
   ],
   "metadata": {
    "collapsed": false,
    "pycharm": {
     "name": "#%%\n"
    }
   }
  },
  {
   "cell_type": "markdown",
   "source": [
    "# Exploring the data"
   ],
   "metadata": {
    "collapsed": false,
    "pycharm": {
     "name": "#%% md\n"
    }
   }
  },
  {
   "cell_type": "code",
   "execution_count": 124,
   "outputs": [],
   "source": [
    "class LanguageIdentification:\n",
    "\n",
    "    def __init__(self):\n",
    "        pretrained_lang_model = \"/Users/katerynaburovova/PycharmProjects/comp_soc_sci_projects/fasttext/lid.176.bin\"\n",
    "        self.model = fasttext.load_model(pretrained_lang_model)\n",
    "\n",
    "    def predict_lang(self, text, label_only=True):\n",
    "        predictions = self.model.predict(text, k=1)\n",
    "        if label_only:\n",
    "            return predictions[0][0][-2:]\n",
    "        return predictions"
   ],
   "metadata": {
    "collapsed": false,
    "pycharm": {
     "name": "#%%\n"
    }
   }
  },
  {
   "cell_type": "code",
   "execution_count": 125,
   "outputs": [
    {
     "name": "stderr",
     "output_type": "stream",
     "text": [
      "Warning : `load_model` does not return WordVectorModel or SupervisedModel any more, but a `FastText` object which is very similar.\n"
     ]
    }
   ],
   "source": [
    "lang_identifier = LanguageIdentification()\n",
    "df_channels['message'] = df_channels['message'].apply(lambda x: str(x).replace('\\n', ' '))\n",
    "df_channels['lang'] = df_channels['message'].apply(lambda x: lang_identifier.predict_lang(x))"
   ],
   "metadata": {
    "collapsed": false,
    "pycharm": {
     "name": "#%%\n"
    }
   }
  },
  {
   "cell_type": "code",
   "execution_count": 126,
   "outputs": [
    {
     "data": {
      "text/plain": "ru    167\nht     16\nbg      2\nen      2\nja      2\nuk      1\nes      1\nName: lang, dtype: int64"
     },
     "execution_count": 126,
     "metadata": {},
     "output_type": "execute_result"
    }
   ],
   "source": [
    "df_channels['lang'].value_counts()"
   ],
   "metadata": {
    "collapsed": false,
    "pycharm": {
     "name": "#%%\n"
    }
   }
  },
  {
   "cell_type": "code",
   "execution_count": 127,
   "outputs": [
    {
     "data": {
      "text/plain": "0       id                       date views reactions  \\\n25  115254  2022-11-21 12:51:37+00:00   NaN       NaN   \n\n0                                to_id fwd_from message  type duration  \\\n25  PeerChannel(channel_id=1591547950)      NaN   Ну-ну  text      NaN   \n\n0  frw_from_title frw_from_name   channel_name lang  \n25            NaN           NaN  dolgarevaanna   uk  ",
      "text/html": "<div>\n<style scoped>\n    .dataframe tbody tr th:only-of-type {\n        vertical-align: middle;\n    }\n\n    .dataframe tbody tr th {\n        vertical-align: top;\n    }\n\n    .dataframe thead th {\n        text-align: right;\n    }\n</style>\n<table border=\"1\" class=\"dataframe\">\n  <thead>\n    <tr style=\"text-align: right;\">\n      <th></th>\n      <th>id</th>\n      <th>date</th>\n      <th>views</th>\n      <th>reactions</th>\n      <th>to_id</th>\n      <th>fwd_from</th>\n      <th>message</th>\n      <th>type</th>\n      <th>duration</th>\n      <th>frw_from_title</th>\n      <th>frw_from_name</th>\n      <th>channel_name</th>\n      <th>lang</th>\n    </tr>\n  </thead>\n  <tbody>\n    <tr>\n      <th>25</th>\n      <td>115254</td>\n      <td>2022-11-21 12:51:37+00:00</td>\n      <td>NaN</td>\n      <td>NaN</td>\n      <td>PeerChannel(channel_id=1591547950)</td>\n      <td>NaN</td>\n      <td>Ну-ну</td>\n      <td>text</td>\n      <td>NaN</td>\n      <td>NaN</td>\n      <td>NaN</td>\n      <td>dolgarevaanna</td>\n      <td>uk</td>\n    </tr>\n  </tbody>\n</table>\n</div>"
     },
     "execution_count": 127,
     "metadata": {},
     "output_type": "execute_result"
    }
   ],
   "source": [
    "df_channels[df_channels['lang']=='uk']"
   ],
   "metadata": {
    "collapsed": false,
    "pycharm": {
     "name": "#%%\n"
    }
   }
  },
  {
   "cell_type": "markdown",
   "source": [
    "# Set up for the influence maximization problem"
   ],
   "metadata": {
    "collapsed": false,
    "pycharm": {
     "name": "#%% md\n"
    }
   }
  },
  {
   "cell_type": "markdown",
   "source": [
    "Influence maximization is the problem of finding a small set of most influential nodes in a social network so that their aggregated influence in the network is maximized (maximizing the information diffusion). The most widely used diffusion models include classical epidemic outbreak model, independent cascade model, linear threshold model, Weight Cascade(wc), trigger and rumor-spreading model (with independent cascade model, linear threshold model being more popular approaches)."
   ],
   "metadata": {
    "collapsed": false,
    "pycharm": {
     "name": "#%% md\n"
    }
   }
  },
  {
   "cell_type": "markdown",
   "source": [
    "We could either use the threshold for channel to qualify, or use some kind of connectivity (centrality?) measure to estimate the influence and include top-X channel out of all the channels we've been able to identify."
   ],
   "metadata": {
    "collapsed": false,
    "pycharm": {
     "name": "#%% md\n"
    }
   }
  },
  {
   "cell_type": "markdown",
   "source": [
    "We collect the info on channels referenced by the ones we parse (id, title, name handle) to use for building the graph. We also use views as a proxy for current audience estimate."
   ],
   "metadata": {
    "collapsed": false,
    "pycharm": {
     "name": "#%% md\n"
    }
   }
  },
  {
   "cell_type": "code",
   "execution_count": 128,
   "outputs": [
    {
     "data": {
      "text/plain": "0      id                       date   views  \\\n0    2318  2022-11-21 12:17:27+00:00  2993.0   \n1  115262  2022-11-21 12:58:51+00:00     NaN   \n2  115260  2022-11-21 12:57:05+00:00     NaN   \n3  115252  2022-11-21 12:51:14+00:00     NaN   \n4  115251  2022-11-21 12:50:46+00:00     NaN   \n\n0                                          reactions  \\\n0  MessageReactions(results=[ReactionCount(reacti...   \n1  MessageReactions(results=[ReactionCount(reacti...   \n2                                                NaN   \n3                                                NaN   \n4                                                NaN   \n\n0                               to_id  \\\n0  PeerChannel(channel_id=1182607945)   \n1  PeerChannel(channel_id=1591547950)   \n2  PeerChannel(channel_id=1591547950)   \n3  PeerChannel(channel_id=1591547950)   \n4  PeerChannel(channel_id=1591547950)   \n\n0                                           fwd_from  \\\n0  MessageFwdHeader(date=datetime.datetime(2022, ...   \n1                                                NaN   \n2                                                NaN   \n3                                                NaN   \n4                                                NaN   \n\n0                                            message   type duration  \\\n0  Поэт Анна Долгарева проведет творческую встреч...  photo      NaN   \n1                       Ссылку на канал будьте добры   text      NaN   \n2                          От Александра Сергеевича.   text      NaN   \n3      Светлана, а Вы от кого пришли, знаток поэзии?   text      NaN   \n4  Примялось? Пусть.  Это все равно ничего не мен...   text      NaN   \n\n0         frw_from_title frw_from_name   channel_name lang  \n0  Мастерская Лундстрема  lundstremart  dolgarevaanna   ru  \n1                    NaN           NaN  dolgarevaanna   ru  \n2                    NaN           NaN  dolgarevaanna   ru  \n3                    NaN           NaN  dolgarevaanna   ru  \n4                    NaN           NaN  dolgarevaanna   ru  ",
      "text/html": "<div>\n<style scoped>\n    .dataframe tbody tr th:only-of-type {\n        vertical-align: middle;\n    }\n\n    .dataframe tbody tr th {\n        vertical-align: top;\n    }\n\n    .dataframe thead th {\n        text-align: right;\n    }\n</style>\n<table border=\"1\" class=\"dataframe\">\n  <thead>\n    <tr style=\"text-align: right;\">\n      <th></th>\n      <th>id</th>\n      <th>date</th>\n      <th>views</th>\n      <th>reactions</th>\n      <th>to_id</th>\n      <th>fwd_from</th>\n      <th>message</th>\n      <th>type</th>\n      <th>duration</th>\n      <th>frw_from_title</th>\n      <th>frw_from_name</th>\n      <th>channel_name</th>\n      <th>lang</th>\n    </tr>\n  </thead>\n  <tbody>\n    <tr>\n      <th>0</th>\n      <td>2318</td>\n      <td>2022-11-21 12:17:27+00:00</td>\n      <td>2993.0</td>\n      <td>MessageReactions(results=[ReactionCount(reacti...</td>\n      <td>PeerChannel(channel_id=1182607945)</td>\n      <td>MessageFwdHeader(date=datetime.datetime(2022, ...</td>\n      <td>Поэт Анна Долгарева проведет творческую встреч...</td>\n      <td>photo</td>\n      <td>NaN</td>\n      <td>Мастерская Лундстрема</td>\n      <td>lundstremart</td>\n      <td>dolgarevaanna</td>\n      <td>ru</td>\n    </tr>\n    <tr>\n      <th>1</th>\n      <td>115262</td>\n      <td>2022-11-21 12:58:51+00:00</td>\n      <td>NaN</td>\n      <td>MessageReactions(results=[ReactionCount(reacti...</td>\n      <td>PeerChannel(channel_id=1591547950)</td>\n      <td>NaN</td>\n      <td>Ссылку на канал будьте добры</td>\n      <td>text</td>\n      <td>NaN</td>\n      <td>NaN</td>\n      <td>NaN</td>\n      <td>dolgarevaanna</td>\n      <td>ru</td>\n    </tr>\n    <tr>\n      <th>2</th>\n      <td>115260</td>\n      <td>2022-11-21 12:57:05+00:00</td>\n      <td>NaN</td>\n      <td>NaN</td>\n      <td>PeerChannel(channel_id=1591547950)</td>\n      <td>NaN</td>\n      <td>От Александра Сергеевича.</td>\n      <td>text</td>\n      <td>NaN</td>\n      <td>NaN</td>\n      <td>NaN</td>\n      <td>dolgarevaanna</td>\n      <td>ru</td>\n    </tr>\n    <tr>\n      <th>3</th>\n      <td>115252</td>\n      <td>2022-11-21 12:51:14+00:00</td>\n      <td>NaN</td>\n      <td>NaN</td>\n      <td>PeerChannel(channel_id=1591547950)</td>\n      <td>NaN</td>\n      <td>Светлана, а Вы от кого пришли, знаток поэзии?</td>\n      <td>text</td>\n      <td>NaN</td>\n      <td>NaN</td>\n      <td>NaN</td>\n      <td>dolgarevaanna</td>\n      <td>ru</td>\n    </tr>\n    <tr>\n      <th>4</th>\n      <td>115251</td>\n      <td>2022-11-21 12:50:46+00:00</td>\n      <td>NaN</td>\n      <td>NaN</td>\n      <td>PeerChannel(channel_id=1591547950)</td>\n      <td>NaN</td>\n      <td>Примялось? Пусть.  Это все равно ничего не мен...</td>\n      <td>text</td>\n      <td>NaN</td>\n      <td>NaN</td>\n      <td>NaN</td>\n      <td>dolgarevaanna</td>\n      <td>ru</td>\n    </tr>\n  </tbody>\n</table>\n</div>"
     },
     "execution_count": 128,
     "metadata": {},
     "output_type": "execute_result"
    }
   ],
   "source": [
    "df_channels.head(5)"
   ],
   "metadata": {
    "collapsed": false,
    "pycharm": {
     "name": "#%%\n"
    }
   }
  },
  {
   "cell_type": "code",
   "execution_count": null,
   "outputs": [],
   "source": [],
   "metadata": {
    "collapsed": false,
    "pycharm": {
     "name": "#%%\n"
    }
   }
  }
 ],
 "metadata": {
  "kernelspec": {
   "display_name": "Python 3",
   "language": "python",
   "name": "python3"
  },
  "language_info": {
   "codemirror_mode": {
    "name": "ipython",
    "version": 2
   },
   "file_extension": ".py",
   "mimetype": "text/x-python",
   "name": "python",
   "nbconvert_exporter": "python",
   "pygments_lexer": "ipython2",
   "version": "2.7.6"
  }
 },
 "nbformat": 4,
 "nbformat_minor": 0
}