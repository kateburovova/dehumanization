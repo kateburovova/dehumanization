{
 "cells": [
  {
   "cell_type": "code",
   "execution_count": 98,
   "metadata": {
    "collapsed": true,
    "pycharm": {
     "name": "#%%\n"
    }
   },
   "outputs": [],
   "source": [
    "import pandas as pd\n",
    "import json\n",
    "import fasttext"
   ]
  },
  {
   "cell_type": "markdown",
   "source": [
    "# Loading merged data from channels"
   ],
   "metadata": {
    "collapsed": false,
    "pycharm": {
     "name": "#%% md\n"
    }
   }
  },
  {
   "cell_type": "code",
   "execution_count": 72,
   "outputs": [],
   "source": [
    "df_channels = pd.read_csv('/Users/katerynaburovova/PycharmProjects/dehumanization/data/merged_dataset/df_channels.csv', header=None)"
   ],
   "metadata": {
    "collapsed": false,
    "pycharm": {
     "name": "#%%\n"
    }
   }
  },
  {
   "cell_type": "code",
   "execution_count": 73,
   "outputs": [],
   "source": [
    "df_channels.columns = df_channels.iloc[0]\n",
    "df_channels = df_channels[1:]"
   ],
   "metadata": {
    "collapsed": false,
    "pycharm": {
     "name": "#%%\n"
    }
   }
  },
  {
   "cell_type": "code",
   "execution_count": 74,
   "outputs": [],
   "source": [
    "df_channels = (df_channels\n",
    "               .drop(columns=['Unnamed: 0'], axis=1)\n",
    "               .reset_index(drop=True))"
   ],
   "metadata": {
    "collapsed": false,
    "pycharm": {
     "name": "#%%\n"
    }
   }
  },
  {
   "cell_type": "code",
   "execution_count": 75,
   "outputs": [
    {
     "data": {
      "text/plain": "0        id                       date     views  \\\n0      2314  2022-11-21 09:03:37+00:00     546.0   \n1    115121  2022-11-21 09:06:32+00:00       NaN   \n2    115120  2022-11-21 09:06:29+00:00       NaN   \n3      2313  2022-11-20 17:36:23+00:00   14524.0   \n4    115119  2022-11-21 09:05:38+00:00       NaN   \n..      ...                        ...       ...   \n182   24114  2022-11-21 06:03:13+00:00  285147.0   \n183   24113  2022-11-20 16:02:48+00:00  473577.0   \n184   24112  2022-11-20 16:02:48+00:00  471682.0   \n185   24111  2022-11-20 14:02:50+00:00  520084.0   \n186   24110  2022-11-20 12:25:08+00:00  502021.0   \n\n0                                            reactions  \\\n0    MessageReactions(results=[ReactionCount(reacti...   \n1                                                  NaN   \n2                                                  NaN   \n3    MessageReactions(results=[ReactionCount(reacti...   \n4                                                  NaN   \n..                                                 ...   \n182                                                NaN   \n183                                                NaN   \n184                                                NaN   \n185                                                NaN   \n186                                                NaN   \n\n0                                 to_id  \\\n0    PeerChannel(channel_id=1182607945)   \n1    PeerChannel(channel_id=1591547950)   \n2    PeerChannel(channel_id=1591547950)   \n3    PeerChannel(channel_id=1182607945)   \n4    PeerChannel(channel_id=1591547950)   \n..                                  ...   \n182  PeerChannel(channel_id=1497011710)   \n183  PeerChannel(channel_id=1497011710)   \n184  PeerChannel(channel_id=1497011710)   \n185  PeerChannel(channel_id=1497011710)   \n186  PeerChannel(channel_id=1497011710)   \n\n0                                             fwd_from  \\\n0    MessageFwdHeader(date=datetime.datetime(2022, ...   \n1                                                  NaN   \n2                                                  NaN   \n3                                                  NaN   \n4                                                  NaN   \n..                                                 ...   \n182                                                NaN   \n183                                                NaN   \n184                                                NaN   \n185                                                NaN   \n186                                                NaN   \n\n0                                              message   type duration  \\\n0    Главный редактор ИА Regnum, писатель, журналис...   text      NaN   \n1    Прям много видел поляков?Вы хоть сами верите,в...   text      NaN   \n2    ЗА НАШИХ ПАЦАНОВ С#КИ!\\n\\nСегодня утром Украин...   text      NaN   \n3    Киев. Расследует. Киев расследует. Киев, блин,...   text      NaN   \n4    Пригожин, к слову, непрозрачно дал намекнуть, ...   text      NaN   \n..                                                 ...    ...      ...   \n182  Доброе утро, друзья мои. Начинаем с политики: ...   text      NaN   \n183                                                NaN  photo      NaN   \n184  Хорошие новости! \\n\\nМы вынудили столичную пол...  photo      NaN   \n185  Кажется, IKEA пользовалась трудом политзаключе...   text      NaN   \n186  В Москве около Минобороны провели антивоенную ...  video     84.0   \n\n0        frw_from_name   channel_name  \n0    Специально для RT  dolgarevaanna  \n1                  NaN  dolgarevaanna  \n2                  NaN  dolgarevaanna  \n3                  NaN  dolgarevaanna  \n4                  NaN  dolgarevaanna  \n..                 ...            ...  \n182                NaN       bloodysx  \n183                NaN       bloodysx  \n184                NaN       bloodysx  \n185                NaN       bloodysx  \n186                NaN       bloodysx  \n\n[187 rows x 11 columns]",
      "text/html": "<div>\n<style scoped>\n    .dataframe tbody tr th:only-of-type {\n        vertical-align: middle;\n    }\n\n    .dataframe tbody tr th {\n        vertical-align: top;\n    }\n\n    .dataframe thead th {\n        text-align: right;\n    }\n</style>\n<table border=\"1\" class=\"dataframe\">\n  <thead>\n    <tr style=\"text-align: right;\">\n      <th></th>\n      <th>id</th>\n      <th>date</th>\n      <th>views</th>\n      <th>reactions</th>\n      <th>to_id</th>\n      <th>fwd_from</th>\n      <th>message</th>\n      <th>type</th>\n      <th>duration</th>\n      <th>frw_from_name</th>\n      <th>channel_name</th>\n    </tr>\n  </thead>\n  <tbody>\n    <tr>\n      <th>0</th>\n      <td>2314</td>\n      <td>2022-11-21 09:03:37+00:00</td>\n      <td>546.0</td>\n      <td>MessageReactions(results=[ReactionCount(reacti...</td>\n      <td>PeerChannel(channel_id=1182607945)</td>\n      <td>MessageFwdHeader(date=datetime.datetime(2022, ...</td>\n      <td>Главный редактор ИА Regnum, писатель, журналис...</td>\n      <td>text</td>\n      <td>NaN</td>\n      <td>Специально для RT</td>\n      <td>dolgarevaanna</td>\n    </tr>\n    <tr>\n      <th>1</th>\n      <td>115121</td>\n      <td>2022-11-21 09:06:32+00:00</td>\n      <td>NaN</td>\n      <td>NaN</td>\n      <td>PeerChannel(channel_id=1591547950)</td>\n      <td>NaN</td>\n      <td>Прям много видел поляков?Вы хоть сами верите,в...</td>\n      <td>text</td>\n      <td>NaN</td>\n      <td>NaN</td>\n      <td>dolgarevaanna</td>\n    </tr>\n    <tr>\n      <th>2</th>\n      <td>115120</td>\n      <td>2022-11-21 09:06:29+00:00</td>\n      <td>NaN</td>\n      <td>NaN</td>\n      <td>PeerChannel(channel_id=1591547950)</td>\n      <td>NaN</td>\n      <td>ЗА НАШИХ ПАЦАНОВ С#КИ!\\n\\nСегодня утром Украин...</td>\n      <td>text</td>\n      <td>NaN</td>\n      <td>NaN</td>\n      <td>dolgarevaanna</td>\n    </tr>\n    <tr>\n      <th>3</th>\n      <td>2313</td>\n      <td>2022-11-20 17:36:23+00:00</td>\n      <td>14524.0</td>\n      <td>MessageReactions(results=[ReactionCount(reacti...</td>\n      <td>PeerChannel(channel_id=1182607945)</td>\n      <td>NaN</td>\n      <td>Киев. Расследует. Киев расследует. Киев, блин,...</td>\n      <td>text</td>\n      <td>NaN</td>\n      <td>NaN</td>\n      <td>dolgarevaanna</td>\n    </tr>\n    <tr>\n      <th>4</th>\n      <td>115119</td>\n      <td>2022-11-21 09:05:38+00:00</td>\n      <td>NaN</td>\n      <td>NaN</td>\n      <td>PeerChannel(channel_id=1591547950)</td>\n      <td>NaN</td>\n      <td>Пригожин, к слову, непрозрачно дал намекнуть, ...</td>\n      <td>text</td>\n      <td>NaN</td>\n      <td>NaN</td>\n      <td>dolgarevaanna</td>\n    </tr>\n    <tr>\n      <th>...</th>\n      <td>...</td>\n      <td>...</td>\n      <td>...</td>\n      <td>...</td>\n      <td>...</td>\n      <td>...</td>\n      <td>...</td>\n      <td>...</td>\n      <td>...</td>\n      <td>...</td>\n      <td>...</td>\n    </tr>\n    <tr>\n      <th>182</th>\n      <td>24114</td>\n      <td>2022-11-21 06:03:13+00:00</td>\n      <td>285147.0</td>\n      <td>NaN</td>\n      <td>PeerChannel(channel_id=1497011710)</td>\n      <td>NaN</td>\n      <td>Доброе утро, друзья мои. Начинаем с политики: ...</td>\n      <td>text</td>\n      <td>NaN</td>\n      <td>NaN</td>\n      <td>bloodysx</td>\n    </tr>\n    <tr>\n      <th>183</th>\n      <td>24113</td>\n      <td>2022-11-20 16:02:48+00:00</td>\n      <td>473577.0</td>\n      <td>NaN</td>\n      <td>PeerChannel(channel_id=1497011710)</td>\n      <td>NaN</td>\n      <td>NaN</td>\n      <td>photo</td>\n      <td>NaN</td>\n      <td>NaN</td>\n      <td>bloodysx</td>\n    </tr>\n    <tr>\n      <th>184</th>\n      <td>24112</td>\n      <td>2022-11-20 16:02:48+00:00</td>\n      <td>471682.0</td>\n      <td>NaN</td>\n      <td>PeerChannel(channel_id=1497011710)</td>\n      <td>NaN</td>\n      <td>Хорошие новости! \\n\\nМы вынудили столичную пол...</td>\n      <td>photo</td>\n      <td>NaN</td>\n      <td>NaN</td>\n      <td>bloodysx</td>\n    </tr>\n    <tr>\n      <th>185</th>\n      <td>24111</td>\n      <td>2022-11-20 14:02:50+00:00</td>\n      <td>520084.0</td>\n      <td>NaN</td>\n      <td>PeerChannel(channel_id=1497011710)</td>\n      <td>NaN</td>\n      <td>Кажется, IKEA пользовалась трудом политзаключе...</td>\n      <td>text</td>\n      <td>NaN</td>\n      <td>NaN</td>\n      <td>bloodysx</td>\n    </tr>\n    <tr>\n      <th>186</th>\n      <td>24110</td>\n      <td>2022-11-20 12:25:08+00:00</td>\n      <td>502021.0</td>\n      <td>NaN</td>\n      <td>PeerChannel(channel_id=1497011710)</td>\n      <td>NaN</td>\n      <td>В Москве около Минобороны провели антивоенную ...</td>\n      <td>video</td>\n      <td>84.0</td>\n      <td>NaN</td>\n      <td>bloodysx</td>\n    </tr>\n  </tbody>\n</table>\n<p>187 rows × 11 columns</p>\n</div>"
     },
     "execution_count": 75,
     "metadata": {},
     "output_type": "execute_result"
    }
   ],
   "source": [
    "df_channels"
   ],
   "metadata": {
    "collapsed": false,
    "pycharm": {
     "name": "#%%\n"
    }
   }
  },
  {
   "cell_type": "markdown",
   "source": [
    "FWD from will be used for network analysis"
   ],
   "metadata": {
    "collapsed": false,
    "pycharm": {
     "name": "#%% md\n"
    }
   }
  },
  {
   "cell_type": "code",
   "execution_count": 78,
   "outputs": [],
   "source": [
    "def extract_id(text):\n",
    "    if text is None:\n",
    "        return \"\"\n",
    "    else:\n",
    "        pos = text.find('channel_id=')+len('channel_id=')\n",
    "        result = text[pos:(pos+25)].split('),')[0]\n",
    "        return result"
   ],
   "metadata": {
    "collapsed": false,
    "pycharm": {
     "name": "#%%\n"
    }
   }
  },
  {
   "cell_type": "code",
   "execution_count": 80,
   "outputs": [],
   "source": [
    "df_channels['frw_from_id_clean'] = df_channels['fwd_from'].apply(lambda x: extract_id(str(x)))"
   ],
   "metadata": {
    "collapsed": false,
    "pycharm": {
     "name": "#%%\n"
    }
   }
  },
  {
   "cell_type": "code",
   "execution_count": 82,
   "outputs": [
    {
     "data": {
      "text/plain": "['1795993534',\n '1686844692',\n '1721909813',\n '1756041380',\n '1036362176',\n '1443086002',\n '1069772626',\n '1193426706',\n '1650753773',\n '1210987817',\n '1216119496']"
     },
     "execution_count": 82,
     "metadata": {},
     "output_type": "execute_result"
    }
   ],
   "source": [
    "indices = (df_channels['frw_from_id_clean']\n",
    "              .value_counts()\n",
    "              .reset_index(name=\"count\")[1:]['index']\n",
    "              .to_list())"
   ],
   "metadata": {
    "collapsed": false,
    "pycharm": {
     "name": "#%%\n"
    }
   }
  },
  {
   "cell_type": "code",
   "execution_count": 85,
   "outputs": [
    {
     "data": {
      "text/plain": "['Специально для RT',\n '«КПД» (Колобродов, Прилепин, Демидов)',\n 'Иди и смотри',\n 'RT на русском',\n 'BRIEF MOSCOW',\n 'Пул N3',\n '| V | ОД \"Свободный Донбасс\"',\n 'Гражданин ГуZzz',\n 'Неофициальный Безсонов \"Z\"',\n 'В Москве солнечно']"
     },
     "execution_count": 85,
     "metadata": {},
     "output_type": "execute_result"
    }
   ],
   "source": [
    "titles = (df_channels['frw_from_name']\n",
    "              .value_counts()\n",
    "              .reset_index(name=\"count\")[1:]['index']\n",
    "              .to_list())\n",
    "titles"
   ],
   "metadata": {
    "collapsed": false,
    "pycharm": {
     "name": "#%%\n"
    }
   }
  },
  {
   "cell_type": "code",
   "execution_count": 93,
   "outputs": [],
   "source": [
    "dict_id = {\"ids\": indices}\n",
    "json_object = json.dumps(dict_id, indent=4)\n",
    "with open(\"/Users/katerynaburovova/PycharmProjects/dehumanization/data/ids_channels_list.json\", \"w\") as outfile:\n",
    "    outfile.write(json_object)"
   ],
   "metadata": {
    "collapsed": false,
    "pycharm": {
     "name": "#%%\n"
    }
   }
  },
  {
   "cell_type": "code",
   "execution_count": 94,
   "outputs": [],
   "source": [
    "dict_ttl = {\"titles\": titles}\n",
    "json_object = json.dumps(dict_ttl, indent=4)\n",
    "with open(\"/Users/katerynaburovova/PycharmProjects/dehumanization/data/titles_channels_list.json\", \"w\") as outfile:\n",
    "    outfile.write(json_object)"
   ],
   "metadata": {
    "collapsed": false,
    "pycharm": {
     "name": "#%%\n"
    }
   }
  },
  {
   "cell_type": "markdown",
   "source": [
    "# Exploring the data"
   ],
   "metadata": {
    "collapsed": false,
    "pycharm": {
     "name": "#%% md\n"
    }
   }
  },
  {
   "cell_type": "code",
   "execution_count": 99,
   "outputs": [],
   "source": [
    "class LanguageIdentification:\n",
    "\n",
    "    def __init__(self):\n",
    "        pretrained_lang_model = \"/Users/katerynaburovova/PycharmProjects/comp_soc_sci_projects/fasttext/lid.176.bin\"\n",
    "        self.model = fasttext.load_model(pretrained_lang_model)\n",
    "\n",
    "    def predict_lang(self, text, label_only=True):\n",
    "        predictions = self.model.predict(text, k=1)\n",
    "        if label_only:\n",
    "            return predictions[0][0][-2:]\n",
    "        return predictions"
   ],
   "metadata": {
    "collapsed": false,
    "pycharm": {
     "name": "#%%\n"
    }
   }
  },
  {
   "cell_type": "code",
   "execution_count": 100,
   "outputs": [
    {
     "name": "stderr",
     "output_type": "stream",
     "text": [
      "Warning : `load_model` does not return WordVectorModel or SupervisedModel any more, but a `FastText` object which is very similar.\n"
     ]
    }
   ],
   "source": [
    "lang_identifier = LanguageIdentification()\n",
    "df_channels['message'] = df_channels['message'].apply(lambda x: str(x).replace('\\n', ' '))\n",
    "df_channels['lang'] = df_channels['message'].apply(lambda x: lang_identifier.predict_lang(x))"
   ],
   "metadata": {
    "collapsed": false,
    "pycharm": {
     "name": "#%%\n"
    }
   }
  },
  {
   "cell_type": "code",
   "execution_count": 101,
   "outputs": [
    {
     "data": {
      "text/plain": "ru    171\nht      9\nuk      3\nja      1\npl      1\nsv      1\nit      1\nName: lang, dtype: int64"
     },
     "execution_count": 101,
     "metadata": {},
     "output_type": "execute_result"
    }
   ],
   "source": [
    "df_channels['lang'].value_counts()"
   ],
   "metadata": {
    "collapsed": false,
    "pycharm": {
     "name": "#%%\n"
    }
   }
  },
  {
   "cell_type": "code",
   "execution_count": 103,
   "outputs": [
    {
     "data": {
      "text/plain": "0         id                       date views reactions  \\\n51    114890  2022-11-20 09:24:40+00:00   NaN       NaN   \n111  2317643  2022-11-21 09:03:05+00:00   NaN       NaN   \n158  2317605  2022-11-21 08:58:52+00:00   NaN       NaN   \n\n0                                 to_id fwd_from               message  type  \\\n51   PeerChannel(channel_id=1591547950)      NaN                 Ура!)  text   \n111  PeerChannel(channel_id=1234644047)      NaN              Це пiзда  text   \n158  PeerChannel(channel_id=1234644047)      NaN  А врач- точно врач?)  text   \n\n0   duration frw_from_name   channel_name frw_from_id_clean lang  \n51       NaN           NaN  dolgarevaanna                     uk  \n111      NaN           NaN      rosich_ru                     uk  \n158      NaN           NaN      rosich_ru                     uk  ",
      "text/html": "<div>\n<style scoped>\n    .dataframe tbody tr th:only-of-type {\n        vertical-align: middle;\n    }\n\n    .dataframe tbody tr th {\n        vertical-align: top;\n    }\n\n    .dataframe thead th {\n        text-align: right;\n    }\n</style>\n<table border=\"1\" class=\"dataframe\">\n  <thead>\n    <tr style=\"text-align: right;\">\n      <th></th>\n      <th>id</th>\n      <th>date</th>\n      <th>views</th>\n      <th>reactions</th>\n      <th>to_id</th>\n      <th>fwd_from</th>\n      <th>message</th>\n      <th>type</th>\n      <th>duration</th>\n      <th>frw_from_name</th>\n      <th>channel_name</th>\n      <th>frw_from_id_clean</th>\n      <th>lang</th>\n    </tr>\n  </thead>\n  <tbody>\n    <tr>\n      <th>51</th>\n      <td>114890</td>\n      <td>2022-11-20 09:24:40+00:00</td>\n      <td>NaN</td>\n      <td>NaN</td>\n      <td>PeerChannel(channel_id=1591547950)</td>\n      <td>NaN</td>\n      <td>Ура!)</td>\n      <td>text</td>\n      <td>NaN</td>\n      <td>NaN</td>\n      <td>dolgarevaanna</td>\n      <td></td>\n      <td>uk</td>\n    </tr>\n    <tr>\n      <th>111</th>\n      <td>2317643</td>\n      <td>2022-11-21 09:03:05+00:00</td>\n      <td>NaN</td>\n      <td>NaN</td>\n      <td>PeerChannel(channel_id=1234644047)</td>\n      <td>NaN</td>\n      <td>Це пiзда</td>\n      <td>text</td>\n      <td>NaN</td>\n      <td>NaN</td>\n      <td>rosich_ru</td>\n      <td></td>\n      <td>uk</td>\n    </tr>\n    <tr>\n      <th>158</th>\n      <td>2317605</td>\n      <td>2022-11-21 08:58:52+00:00</td>\n      <td>NaN</td>\n      <td>NaN</td>\n      <td>PeerChannel(channel_id=1234644047)</td>\n      <td>NaN</td>\n      <td>А врач- точно врач?)</td>\n      <td>text</td>\n      <td>NaN</td>\n      <td>NaN</td>\n      <td>rosich_ru</td>\n      <td></td>\n      <td>uk</td>\n    </tr>\n  </tbody>\n</table>\n</div>"
     },
     "execution_count": 103,
     "metadata": {},
     "output_type": "execute_result"
    }
   ],
   "source": [
    "df_channels[df_channels['lang']=='uk']"
   ],
   "metadata": {
    "collapsed": false,
    "pycharm": {
     "name": "#%%\n"
    }
   }
  },
  {
   "cell_type": "markdown",
   "source": [
    "# Set up for the influence maximization problem"
   ],
   "metadata": {
    "collapsed": false,
    "pycharm": {
     "name": "#%% md\n"
    }
   }
  },
  {
   "cell_type": "markdown",
   "source": [
    "Influence maximization is the problem of finding a small set of most influential nodes in a social network so that their aggregated influence in the network is maximized (maximizing the information diffusion). The most widely used diffusion models include classical epidemic outbreak model, independent cascade model, linear threshold model, Weight Cascade(wc), trigger and rumor-spreading model (with independent cascade model, linear threshold model being more popular approaches)."
   ],
   "metadata": {
    "collapsed": false,
    "pycharm": {
     "name": "#%% md\n"
    }
   }
  },
  {
   "cell_type": "markdown",
   "source": [
    "We could either use the threshold for channel to qualify, or use some kind of connectivity (centrality?) measure to estimate the influence and include top-X channel out of all the channels we've been able to identify."
   ],
   "metadata": {
    "collapsed": false,
    "pycharm": {
     "name": "#%% md\n"
    }
   }
  },
  {
   "cell_type": "markdown",
   "source": [
    "We collect the info on channels referenced by the ones we parse (id, title, name handle) to use for building the graph. We also use views as a proxy for current audience estimate."
   ],
   "metadata": {
    "collapsed": false,
    "pycharm": {
     "name": "#%% md\n"
    }
   }
  },
  {
   "cell_type": "code",
   "execution_count": 105,
   "outputs": [
    {
     "data": {
      "text/plain": "0      id                       date    views  \\\n0    2314  2022-11-21 09:03:37+00:00    546.0   \n1  115121  2022-11-21 09:06:32+00:00      NaN   \n2  115120  2022-11-21 09:06:29+00:00      NaN   \n3    2313  2022-11-20 17:36:23+00:00  14524.0   \n4  115119  2022-11-21 09:05:38+00:00      NaN   \n\n0                                          reactions  \\\n0  MessageReactions(results=[ReactionCount(reacti...   \n1                                                NaN   \n2                                                NaN   \n3  MessageReactions(results=[ReactionCount(reacti...   \n4                                                NaN   \n\n0                               to_id  \\\n0  PeerChannel(channel_id=1182607945)   \n1  PeerChannel(channel_id=1591547950)   \n2  PeerChannel(channel_id=1591547950)   \n3  PeerChannel(channel_id=1182607945)   \n4  PeerChannel(channel_id=1591547950)   \n\n0                                           fwd_from  \\\n0  MessageFwdHeader(date=datetime.datetime(2022, ...   \n1                                                NaN   \n2                                                NaN   \n3                                                NaN   \n4                                                NaN   \n\n0                                            message  type duration  \\\n0  Главный редактор ИА Regnum, писатель, журналис...  text      NaN   \n1  Прям много видел поляков?Вы хоть сами верите,в...  text      NaN   \n2  ЗА НАШИХ ПАЦАНОВ С#КИ!  Сегодня утром Украинск...  text      NaN   \n3  Киев. Расследует. Киев расследует. Киев, блин,...  text      NaN   \n4  Пригожин, к слову, непрозрачно дал намекнуть, ...  text      NaN   \n\n0      frw_from_name   channel_name frw_from_id_clean lang  \n0  Специально для RT  dolgarevaanna        1686844692   ru  \n1                NaN  dolgarevaanna                     ru  \n2                NaN  dolgarevaanna                     ru  \n3                NaN  dolgarevaanna                     ru  \n4                NaN  dolgarevaanna                     ru  ",
      "text/html": "<div>\n<style scoped>\n    .dataframe tbody tr th:only-of-type {\n        vertical-align: middle;\n    }\n\n    .dataframe tbody tr th {\n        vertical-align: top;\n    }\n\n    .dataframe thead th {\n        text-align: right;\n    }\n</style>\n<table border=\"1\" class=\"dataframe\">\n  <thead>\n    <tr style=\"text-align: right;\">\n      <th></th>\n      <th>id</th>\n      <th>date</th>\n      <th>views</th>\n      <th>reactions</th>\n      <th>to_id</th>\n      <th>fwd_from</th>\n      <th>message</th>\n      <th>type</th>\n      <th>duration</th>\n      <th>frw_from_name</th>\n      <th>channel_name</th>\n      <th>frw_from_id_clean</th>\n      <th>lang</th>\n    </tr>\n  </thead>\n  <tbody>\n    <tr>\n      <th>0</th>\n      <td>2314</td>\n      <td>2022-11-21 09:03:37+00:00</td>\n      <td>546.0</td>\n      <td>MessageReactions(results=[ReactionCount(reacti...</td>\n      <td>PeerChannel(channel_id=1182607945)</td>\n      <td>MessageFwdHeader(date=datetime.datetime(2022, ...</td>\n      <td>Главный редактор ИА Regnum, писатель, журналис...</td>\n      <td>text</td>\n      <td>NaN</td>\n      <td>Специально для RT</td>\n      <td>dolgarevaanna</td>\n      <td>1686844692</td>\n      <td>ru</td>\n    </tr>\n    <tr>\n      <th>1</th>\n      <td>115121</td>\n      <td>2022-11-21 09:06:32+00:00</td>\n      <td>NaN</td>\n      <td>NaN</td>\n      <td>PeerChannel(channel_id=1591547950)</td>\n      <td>NaN</td>\n      <td>Прям много видел поляков?Вы хоть сами верите,в...</td>\n      <td>text</td>\n      <td>NaN</td>\n      <td>NaN</td>\n      <td>dolgarevaanna</td>\n      <td></td>\n      <td>ru</td>\n    </tr>\n    <tr>\n      <th>2</th>\n      <td>115120</td>\n      <td>2022-11-21 09:06:29+00:00</td>\n      <td>NaN</td>\n      <td>NaN</td>\n      <td>PeerChannel(channel_id=1591547950)</td>\n      <td>NaN</td>\n      <td>ЗА НАШИХ ПАЦАНОВ С#КИ!  Сегодня утром Украинск...</td>\n      <td>text</td>\n      <td>NaN</td>\n      <td>NaN</td>\n      <td>dolgarevaanna</td>\n      <td></td>\n      <td>ru</td>\n    </tr>\n    <tr>\n      <th>3</th>\n      <td>2313</td>\n      <td>2022-11-20 17:36:23+00:00</td>\n      <td>14524.0</td>\n      <td>MessageReactions(results=[ReactionCount(reacti...</td>\n      <td>PeerChannel(channel_id=1182607945)</td>\n      <td>NaN</td>\n      <td>Киев. Расследует. Киев расследует. Киев, блин,...</td>\n      <td>text</td>\n      <td>NaN</td>\n      <td>NaN</td>\n      <td>dolgarevaanna</td>\n      <td></td>\n      <td>ru</td>\n    </tr>\n    <tr>\n      <th>4</th>\n      <td>115119</td>\n      <td>2022-11-21 09:05:38+00:00</td>\n      <td>NaN</td>\n      <td>NaN</td>\n      <td>PeerChannel(channel_id=1591547950)</td>\n      <td>NaN</td>\n      <td>Пригожин, к слову, непрозрачно дал намекнуть, ...</td>\n      <td>text</td>\n      <td>NaN</td>\n      <td>NaN</td>\n      <td>dolgarevaanna</td>\n      <td></td>\n      <td>ru</td>\n    </tr>\n  </tbody>\n</table>\n</div>"
     },
     "execution_count": 105,
     "metadata": {},
     "output_type": "execute_result"
    }
   ],
   "source": [
    "df_channels.head(5)"
   ],
   "metadata": {
    "collapsed": false,
    "pycharm": {
     "name": "#%%\n"
    }
   }
  },
  {
   "cell_type": "code",
   "execution_count": null,
   "outputs": [],
   "source": [],
   "metadata": {
    "collapsed": false,
    "pycharm": {
     "name": "#%%\n"
    }
   }
  }
 ],
 "metadata": {
  "kernelspec": {
   "display_name": "Python 3",
   "language": "python",
   "name": "python3"
  },
  "language_info": {
   "codemirror_mode": {
    "name": "ipython",
    "version": 2
   },
   "file_extension": ".py",
   "mimetype": "text/x-python",
   "name": "python",
   "nbconvert_exporter": "python",
   "pygments_lexer": "ipython2",
   "version": "2.7.6"
  }
 },
 "nbformat": 4,
 "nbformat_minor": 0
}