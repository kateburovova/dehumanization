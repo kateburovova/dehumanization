{
 "cells": [
  {
   "cell_type": "code",
   "execution_count": 3,
   "metadata": {
    "collapsed": true,
    "pycharm": {
     "name": "#%%\n"
    }
   },
   "outputs": [],
   "source": [
    "import pandas as pd\n",
    "import json\n",
    "import fasttext\n",
    "import emoji\n",
    "import re\n",
    "import collections\n",
    "from urllib.parse import urlparse"
   ]
  },
  {
   "cell_type": "markdown",
   "source": [
    "# Loading merged data from channels"
   ],
   "metadata": {
    "collapsed": false,
    "pycharm": {
     "name": "#%% md\n"
    }
   }
  },
  {
   "cell_type": "code",
   "execution_count": null,
   "outputs": [],
   "source": [
    "df_channels = pd.read_csv('/Users/katerynaburovova/PycharmProjects/dehumanization/data/merged_dataset/df_channels.csv', header=None)"
   ],
   "metadata": {
    "collapsed": false,
    "pycharm": {
     "name": "#%%\n",
     "is_executing": true
    }
   }
  },
  {
   "cell_type": "code",
   "execution_count": 3,
   "outputs": [],
   "source": [
    "df_channels.columns = df_channels.iloc[0]\n",
    "df_channels = df_channels[1:]"
   ],
   "metadata": {
    "collapsed": false,
    "pycharm": {
     "name": "#%%\n"
    }
   }
  },
  {
   "cell_type": "code",
   "execution_count": 4,
   "outputs": [],
   "source": [
    "df_channels = (df_channels\n",
    "               .drop(columns=['Unnamed: 0'], axis=1)\n",
    "               .reset_index(drop=True))"
   ],
   "metadata": {
    "collapsed": false,
    "pycharm": {
     "name": "#%%\n"
    }
   }
  },
  {
   "cell_type": "code",
   "execution_count": 5,
   "outputs": [
    {
     "data": {
      "text/plain": "8108693"
     },
     "execution_count": 5,
     "metadata": {},
     "output_type": "execute_result"
    }
   ],
   "source": [
    "len(df_channels)"
   ],
   "metadata": {
    "collapsed": false,
    "pycharm": {
     "name": "#%%\n"
    }
   }
  },
  {
   "cell_type": "code",
   "execution_count": 6,
   "outputs": [
    {
     "data": {
      "text/plain": "0              id                       date    views  \\\n6180152     944.0  2018-01-18 06:05:49+00:00    788.0   \n1059643  102109.0  2022-01-20 06:26:23+00:00   6260.0   \n6144226    2548.0  2022-06-23 16:24:40+00:00  50676.0   \n1106745   54596.0  2021-05-19 13:32:59+00:00   9731.0   \n332033    11191.0  2022-06-16 20:32:16+00:00  58287.0   \n\n0                                                reactions  \\\n6180152                                                NaN   \n1059643  MessageReactions(results=[ReactionCount(reacti...   \n6144226  MessageReactions(results=[ReactionCount(reacti...   \n1106745                                                NaN   \n332033                                                 NaN   \n\n0                                     to_id fwd_from  \\\n6180152  PeerChannel(channel_id=1138542535)      NaN   \n1059643  PeerChannel(channel_id=1050820672)      NaN   \n6144226  PeerChannel(channel_id=1644818949)      NaN   \n1106745  PeerChannel(channel_id=1050820672)      NaN   \n332033   PeerChannel(channel_id=1171552896)      NaN   \n\n0                                                  message   type duration  \\\n6180152  103 года назад, 18 января 1915 года родился вы...  photo      NaN   \n1059643  Ростуризм впервые лишил права аккредитации орг...   text      NaN   \n6144226  Сегодня ночью в Барселоне будут отмечать празд...  video      9.0   \n1106745  ❗ Бывший вице-губернатор Санкт-Петербурга Оган...   text      NaN   \n332033   Читаю материалы о том, что базу для энергетиче...   text      NaN   \n\n0            channel_name frw_from_title frw_from_name msg_entity  \n6180152         regnum_na            NaN           NaN        NaN  \n1059643       tass_agency            NaN           NaN        NaN  \n6144226      berdovaalena            NaN           NaN        NaN  \n1106745       tass_agency            NaN           NaN        NaN  \n332033   russ_orientalist            NaN           NaN        NaN  ",
      "text/html": "<div>\n<style scoped>\n    .dataframe tbody tr th:only-of-type {\n        vertical-align: middle;\n    }\n\n    .dataframe tbody tr th {\n        vertical-align: top;\n    }\n\n    .dataframe thead th {\n        text-align: right;\n    }\n</style>\n<table border=\"1\" class=\"dataframe\">\n  <thead>\n    <tr style=\"text-align: right;\">\n      <th></th>\n      <th>id</th>\n      <th>date</th>\n      <th>views</th>\n      <th>reactions</th>\n      <th>to_id</th>\n      <th>fwd_from</th>\n      <th>message</th>\n      <th>type</th>\n      <th>duration</th>\n      <th>channel_name</th>\n      <th>frw_from_title</th>\n      <th>frw_from_name</th>\n      <th>msg_entity</th>\n    </tr>\n  </thead>\n  <tbody>\n    <tr>\n      <th>6180152</th>\n      <td>944.0</td>\n      <td>2018-01-18 06:05:49+00:00</td>\n      <td>788.0</td>\n      <td>NaN</td>\n      <td>PeerChannel(channel_id=1138542535)</td>\n      <td>NaN</td>\n      <td>103 года назад, 18 января 1915 года родился вы...</td>\n      <td>photo</td>\n      <td>NaN</td>\n      <td>regnum_na</td>\n      <td>NaN</td>\n      <td>NaN</td>\n      <td>NaN</td>\n    </tr>\n    <tr>\n      <th>1059643</th>\n      <td>102109.0</td>\n      <td>2022-01-20 06:26:23+00:00</td>\n      <td>6260.0</td>\n      <td>MessageReactions(results=[ReactionCount(reacti...</td>\n      <td>PeerChannel(channel_id=1050820672)</td>\n      <td>NaN</td>\n      <td>Ростуризм впервые лишил права аккредитации орг...</td>\n      <td>text</td>\n      <td>NaN</td>\n      <td>tass_agency</td>\n      <td>NaN</td>\n      <td>NaN</td>\n      <td>NaN</td>\n    </tr>\n    <tr>\n      <th>6144226</th>\n      <td>2548.0</td>\n      <td>2022-06-23 16:24:40+00:00</td>\n      <td>50676.0</td>\n      <td>MessageReactions(results=[ReactionCount(reacti...</td>\n      <td>PeerChannel(channel_id=1644818949)</td>\n      <td>NaN</td>\n      <td>Сегодня ночью в Барселоне будут отмечать празд...</td>\n      <td>video</td>\n      <td>9.0</td>\n      <td>berdovaalena</td>\n      <td>NaN</td>\n      <td>NaN</td>\n      <td>NaN</td>\n    </tr>\n    <tr>\n      <th>1106745</th>\n      <td>54596.0</td>\n      <td>2021-05-19 13:32:59+00:00</td>\n      <td>9731.0</td>\n      <td>NaN</td>\n      <td>PeerChannel(channel_id=1050820672)</td>\n      <td>NaN</td>\n      <td>❗ Бывший вице-губернатор Санкт-Петербурга Оган...</td>\n      <td>text</td>\n      <td>NaN</td>\n      <td>tass_agency</td>\n      <td>NaN</td>\n      <td>NaN</td>\n      <td>NaN</td>\n    </tr>\n    <tr>\n      <th>332033</th>\n      <td>11191.0</td>\n      <td>2022-06-16 20:32:16+00:00</td>\n      <td>58287.0</td>\n      <td>NaN</td>\n      <td>PeerChannel(channel_id=1171552896)</td>\n      <td>NaN</td>\n      <td>Читаю материалы о том, что базу для энергетиче...</td>\n      <td>text</td>\n      <td>NaN</td>\n      <td>russ_orientalist</td>\n      <td>NaN</td>\n      <td>NaN</td>\n      <td>NaN</td>\n    </tr>\n  </tbody>\n</table>\n</div>"
     },
     "execution_count": 6,
     "metadata": {},
     "output_type": "execute_result"
    }
   ],
   "source": [
    "df_channels.sample(5)"
   ],
   "metadata": {
    "collapsed": false,
    "pycharm": {
     "name": "#%%\n"
    }
   }
  },
  {
   "cell_type": "markdown",
   "source": [
    "## We drop na for now (needs some mending)"
   ],
   "metadata": {
    "collapsed": false,
    "pycharm": {
     "name": "#%% md\n"
    }
   }
  },
  {
   "cell_type": "code",
   "execution_count": 7,
   "outputs": [],
   "source": [
    "df_channels = df_channels[~df_channels['message'].isna()]"
   ],
   "metadata": {
    "collapsed": false,
    "pycharm": {
     "name": "#%%\n"
    }
   }
  },
  {
   "cell_type": "code",
   "execution_count": 8,
   "outputs": [
    {
     "data": {
      "text/plain": "'We have 0.0000% nans'"
     },
     "execution_count": 8,
     "metadata": {},
     "output_type": "execute_result"
    }
   ],
   "source": [
    "f\"We have {len(df_channels[(df_channels['message']=='nan')&(df_channels['type']=='text')].channel_name.unique())/len(df_channels):.4%} nans\""
   ],
   "metadata": {
    "collapsed": false,
    "pycharm": {
     "name": "#%%\n"
    }
   }
  },
  {
   "cell_type": "markdown",
   "source": [
    "### Loading list of unique channel name handles referenced by the group"
   ],
   "metadata": {
    "collapsed": false,
    "pycharm": {
     "name": "#%% md\n"
    }
   }
  },
  {
   "cell_type": "code",
   "execution_count": 9,
   "outputs": [
    {
     "data": {
      "text/plain": "1959"
     },
     "execution_count": 9,
     "metadata": {},
     "output_type": "execute_result"
    }
   ],
   "source": [
    "names = (df_channels['frw_from_name']\n",
    "              .value_counts()\n",
    "              .reset_index(name=\"count\")[1:]['index']\n",
    "              .to_list())\n",
    "len(names)"
   ],
   "metadata": {
    "collapsed": false,
    "pycharm": {
     "name": "#%%\n"
    }
   }
  },
  {
   "cell_type": "code",
   "execution_count": 10,
   "outputs": [
    {
     "data": {
      "text/plain": "1959"
     },
     "execution_count": 10,
     "metadata": {},
     "output_type": "execute_result"
    }
   ],
   "source": [
    "len(names)"
   ],
   "metadata": {
    "collapsed": false,
    "pycharm": {
     "name": "#%%\n"
    }
   }
  },
  {
   "cell_type": "code",
   "execution_count": 11,
   "outputs": [],
   "source": [
    "dict_names = {\"titles\": names}\n",
    "json_object = json.dumps(dict_names, indent=4)\n",
    "with open(\"/Users/katerynaburovova/PycharmProjects/dehumanization/data/names_channels_list.json\", \"w\") as outfile:\n",
    "    outfile.write(json_object)"
   ],
   "metadata": {
    "collapsed": false,
    "pycharm": {
     "name": "#%%\n"
    }
   }
  },
  {
   "cell_type": "markdown",
   "source": [
    "# Exploring the data"
   ],
   "metadata": {
    "collapsed": false,
    "pycharm": {
     "name": "#%% md\n"
    }
   }
  },
  {
   "cell_type": "code",
   "execution_count": 12,
   "outputs": [],
   "source": [
    "class LanguageIdentification:\n",
    "\n",
    "    def __init__(self):\n",
    "        pretrained_lang_model = \"/Users/katerynaburovova/PycharmProjects/comp_soc_sci_projects/fasttext/lid.176.bin\"\n",
    "        self.model = fasttext.load_model(pretrained_lang_model)\n",
    "\n",
    "    def predict_lang(self, text, label_only=True):\n",
    "        predictions = self.model.predict(text, k=1)\n",
    "        if label_only:\n",
    "            return predictions[0][0][-2:]\n",
    "        return predictions"
   ],
   "metadata": {
    "collapsed": false,
    "pycharm": {
     "name": "#%%\n"
    }
   }
  },
  {
   "cell_type": "code",
   "execution_count": 13,
   "outputs": [
    {
     "name": "stderr",
     "output_type": "stream",
     "text": [
      "Warning : `load_model` does not return WordVectorModel or SupervisedModel any more, but a `FastText` object which is very similar.\n"
     ]
    }
   ],
   "source": [
    "lang_identifier = LanguageIdentification()\n",
    "df_channels['message'] = df_channels['message'].apply(lambda x: str(x).replace('\\n', ' '))\n",
    "df_channels['lang'] = df_channels['message'].apply(lambda x: lang_identifier.predict_lang(x))"
   ],
   "metadata": {
    "collapsed": false,
    "pycharm": {
     "name": "#%%\n"
    }
   }
  },
  {
   "cell_type": "code",
   "execution_count": 14,
   "outputs": [
    {
     "data": {
      "text/plain": "ru    6901187\nen      48321\nuk      21941\nbg       5814\nde       5520\n       ...   \nmf          1\nan          1\nnb          1\niq          1\nep          1\nName: lang, Length: 138, dtype: int64"
     },
     "execution_count": 14,
     "metadata": {},
     "output_type": "execute_result"
    }
   ],
   "source": [
    "df_channels['lang'].value_counts()"
   ],
   "metadata": {
    "collapsed": false,
    "pycharm": {
     "name": "#%%\n"
    }
   }
  },
  {
   "cell_type": "markdown",
   "source": [
    "# Text preprocesing"
   ],
   "metadata": {
    "collapsed": false,
    "pycharm": {
     "name": "#%% md\n"
    }
   }
  },
  {
   "cell_type": "code",
   "execution_count": 15,
   "outputs": [
    {
     "data": {
      "text/plain": "0              id                       date     views  \\\n4482895   58373.0  2021-05-09 17:48:06+00:00   49581.0   \n4331800   57594.0  2018-12-05 06:27:23+00:00    6946.0   \n2934195   24254.0  2021-11-05 16:01:18+00:00   31116.0   \n2405853   87674.0  2022-01-08 17:36:39+00:00   41459.0   \n6823529    3543.0  2020-11-03 18:05:38+00:00   11083.0   \n2500248   39447.0  2022-05-10 15:45:01+00:00  220496.0   \n6359965   33651.0  2022-04-06 12:08:56+00:00  888647.0   \n332712    10367.0  2022-03-16 17:44:14+00:00   95233.0   \n1929906    2859.0  2019-11-15 20:14:22+00:00   49905.0   \n7804942  162430.0  2019-07-29 07:18:25+00:00       2.0   \n\n0                                                reactions  \\\n4482895                                                NaN   \n4331800                                                NaN   \n2934195                                                NaN   \n2405853                                                NaN   \n6823529                                                NaN   \n2500248  MessageReactions(results=[ReactionCount(reacti...   \n6359965                                                NaN   \n332712   MessageReactions(results=[ReactionCount(reacti...   \n1929906                                                NaN   \n7804942                                                NaN   \n\n0                                     to_id  \\\n4482895  PeerChannel(channel_id=1315735637)   \n4331800  PeerChannel(channel_id=1054549314)   \n2934195  PeerChannel(channel_id=1038402501)   \n2405853  PeerChannel(channel_id=1036362176)   \n6823529  PeerChannel(channel_id=1492765963)   \n2500248  PeerChannel(channel_id=1100158992)   \n6359965  PeerChannel(channel_id=1117628569)   \n332712   PeerChannel(channel_id=1171552896)   \n1929906  PeerChannel(channel_id=1167445017)   \n7804942  PeerChannel(channel_id=1082084045)   \n\n0                                                 fwd_from  \\\n4482895  MessageFwdHeader(date=datetime.datetime(2021, ...   \n4331800                                                NaN   \n2934195                                                NaN   \n2405853                                                NaN   \n6823529                                                NaN   \n2500248                                                NaN   \n6359965                                                NaN   \n332712                                                 NaN   \n1929906                                                NaN   \n7804942  MessageFwdHeader(date=datetime.datetime(2019, ...   \n\n0                                                  message   type duration  \\\n4482895  ✔️Полиция Украины возбудила как минимум три уг...   text      NaN   \n4331800  Как перевезти трубу на скутере и заставить все...  video     16.0   \n2934195  🖼 Искусственный интеллект обнажил Пикассо  Лон...  photo      NaN   \n2405853  В Пентагоне в преддверии переговоров с Россией...   text      NaN   \n6823529  #MovsesGhazaryan для канала 🛑Карнаухов  *** На...   text      NaN   \n2500248  \"Служу России!\"  В Херсонской области наградил...  video     79.0   \n6359965  Его либерально-демократическая партия появилас...  video     82.0   \n332712   США передаст Украине 9 тыс. противотанковых ко...   text      NaN   \n1929906  Сделку по С-400 с Индией многие связывали с те...  photo      NaN   \n7804942  По оценкам экспертов, в Германии примерно 12 т...  photo      NaN   \n\n0            channel_name frw_from_title frw_from_name msg_entity lang  \n4482895      SolovievLive            NaN           NaN        NaN   ru  \n4331800           ntvnews            NaN           NaN        NaN   ru  \n2934195        kommersant            NaN           NaN        NaN   ru  \n2405853        rt_russian            NaN           NaN        NaN   ru  \n6823529      sskarnaukhov            NaN           NaN        NaN   ru  \n2500248         shot_shot            NaN           NaN        NaN   ru  \n6359965      breakingmash            NaN           NaN        NaN   ru  \n332712   russ_orientalist            NaN           NaN        NaN   ru  \n1929906     politadequate            NaN           NaN        NaN   ru  \n7804942          karaulny            NaN           NaN        NaN   ru  ",
      "text/html": "<div>\n<style scoped>\n    .dataframe tbody tr th:only-of-type {\n        vertical-align: middle;\n    }\n\n    .dataframe tbody tr th {\n        vertical-align: top;\n    }\n\n    .dataframe thead th {\n        text-align: right;\n    }\n</style>\n<table border=\"1\" class=\"dataframe\">\n  <thead>\n    <tr style=\"text-align: right;\">\n      <th></th>\n      <th>id</th>\n      <th>date</th>\n      <th>views</th>\n      <th>reactions</th>\n      <th>to_id</th>\n      <th>fwd_from</th>\n      <th>message</th>\n      <th>type</th>\n      <th>duration</th>\n      <th>channel_name</th>\n      <th>frw_from_title</th>\n      <th>frw_from_name</th>\n      <th>msg_entity</th>\n      <th>lang</th>\n    </tr>\n  </thead>\n  <tbody>\n    <tr>\n      <th>4482895</th>\n      <td>58373.0</td>\n      <td>2021-05-09 17:48:06+00:00</td>\n      <td>49581.0</td>\n      <td>NaN</td>\n      <td>PeerChannel(channel_id=1315735637)</td>\n      <td>MessageFwdHeader(date=datetime.datetime(2021, ...</td>\n      <td>✔️Полиция Украины возбудила как минимум три уг...</td>\n      <td>text</td>\n      <td>NaN</td>\n      <td>SolovievLive</td>\n      <td>NaN</td>\n      <td>NaN</td>\n      <td>NaN</td>\n      <td>ru</td>\n    </tr>\n    <tr>\n      <th>4331800</th>\n      <td>57594.0</td>\n      <td>2018-12-05 06:27:23+00:00</td>\n      <td>6946.0</td>\n      <td>NaN</td>\n      <td>PeerChannel(channel_id=1054549314)</td>\n      <td>NaN</td>\n      <td>Как перевезти трубу на скутере и заставить все...</td>\n      <td>video</td>\n      <td>16.0</td>\n      <td>ntvnews</td>\n      <td>NaN</td>\n      <td>NaN</td>\n      <td>NaN</td>\n      <td>ru</td>\n    </tr>\n    <tr>\n      <th>2934195</th>\n      <td>24254.0</td>\n      <td>2021-11-05 16:01:18+00:00</td>\n      <td>31116.0</td>\n      <td>NaN</td>\n      <td>PeerChannel(channel_id=1038402501)</td>\n      <td>NaN</td>\n      <td>🖼 Искусственный интеллект обнажил Пикассо  Лон...</td>\n      <td>photo</td>\n      <td>NaN</td>\n      <td>kommersant</td>\n      <td>NaN</td>\n      <td>NaN</td>\n      <td>NaN</td>\n      <td>ru</td>\n    </tr>\n    <tr>\n      <th>2405853</th>\n      <td>87674.0</td>\n      <td>2022-01-08 17:36:39+00:00</td>\n      <td>41459.0</td>\n      <td>NaN</td>\n      <td>PeerChannel(channel_id=1036362176)</td>\n      <td>NaN</td>\n      <td>В Пентагоне в преддверии переговоров с Россией...</td>\n      <td>text</td>\n      <td>NaN</td>\n      <td>rt_russian</td>\n      <td>NaN</td>\n      <td>NaN</td>\n      <td>NaN</td>\n      <td>ru</td>\n    </tr>\n    <tr>\n      <th>6823529</th>\n      <td>3543.0</td>\n      <td>2020-11-03 18:05:38+00:00</td>\n      <td>11083.0</td>\n      <td>NaN</td>\n      <td>PeerChannel(channel_id=1492765963)</td>\n      <td>NaN</td>\n      <td>#MovsesGhazaryan для канала 🛑Карнаухов  *** На...</td>\n      <td>text</td>\n      <td>NaN</td>\n      <td>sskarnaukhov</td>\n      <td>NaN</td>\n      <td>NaN</td>\n      <td>NaN</td>\n      <td>ru</td>\n    </tr>\n    <tr>\n      <th>2500248</th>\n      <td>39447.0</td>\n      <td>2022-05-10 15:45:01+00:00</td>\n      <td>220496.0</td>\n      <td>MessageReactions(results=[ReactionCount(reacti...</td>\n      <td>PeerChannel(channel_id=1100158992)</td>\n      <td>NaN</td>\n      <td>\"Служу России!\"  В Херсонской области наградил...</td>\n      <td>video</td>\n      <td>79.0</td>\n      <td>shot_shot</td>\n      <td>NaN</td>\n      <td>NaN</td>\n      <td>NaN</td>\n      <td>ru</td>\n    </tr>\n    <tr>\n      <th>6359965</th>\n      <td>33651.0</td>\n      <td>2022-04-06 12:08:56+00:00</td>\n      <td>888647.0</td>\n      <td>NaN</td>\n      <td>PeerChannel(channel_id=1117628569)</td>\n      <td>NaN</td>\n      <td>Его либерально-демократическая партия появилас...</td>\n      <td>video</td>\n      <td>82.0</td>\n      <td>breakingmash</td>\n      <td>NaN</td>\n      <td>NaN</td>\n      <td>NaN</td>\n      <td>ru</td>\n    </tr>\n    <tr>\n      <th>332712</th>\n      <td>10367.0</td>\n      <td>2022-03-16 17:44:14+00:00</td>\n      <td>95233.0</td>\n      <td>MessageReactions(results=[ReactionCount(reacti...</td>\n      <td>PeerChannel(channel_id=1171552896)</td>\n      <td>NaN</td>\n      <td>США передаст Украине 9 тыс. противотанковых ко...</td>\n      <td>text</td>\n      <td>NaN</td>\n      <td>russ_orientalist</td>\n      <td>NaN</td>\n      <td>NaN</td>\n      <td>NaN</td>\n      <td>ru</td>\n    </tr>\n    <tr>\n      <th>1929906</th>\n      <td>2859.0</td>\n      <td>2019-11-15 20:14:22+00:00</td>\n      <td>49905.0</td>\n      <td>NaN</td>\n      <td>PeerChannel(channel_id=1167445017)</td>\n      <td>NaN</td>\n      <td>Сделку по С-400 с Индией многие связывали с те...</td>\n      <td>photo</td>\n      <td>NaN</td>\n      <td>politadequate</td>\n      <td>NaN</td>\n      <td>NaN</td>\n      <td>NaN</td>\n      <td>ru</td>\n    </tr>\n    <tr>\n      <th>7804942</th>\n      <td>162430.0</td>\n      <td>2019-07-29 07:18:25+00:00</td>\n      <td>2.0</td>\n      <td>NaN</td>\n      <td>PeerChannel(channel_id=1082084045)</td>\n      <td>MessageFwdHeader(date=datetime.datetime(2019, ...</td>\n      <td>По оценкам экспертов, в Германии примерно 12 т...</td>\n      <td>photo</td>\n      <td>NaN</td>\n      <td>karaulny</td>\n      <td>NaN</td>\n      <td>NaN</td>\n      <td>NaN</td>\n      <td>ru</td>\n    </tr>\n  </tbody>\n</table>\n</div>"
     },
     "execution_count": 15,
     "metadata": {},
     "output_type": "execute_result"
    }
   ],
   "source": [
    "df_channels.sample(10)"
   ],
   "metadata": {
    "collapsed": false,
    "pycharm": {
     "name": "#%%\n"
    }
   }
  },
  {
   "cell_type": "code",
   "execution_count": 16,
   "outputs": [],
   "source": [
    "test_dataset = ['test sentence 1', 'test sentence 2','test sentence 3']"
   ],
   "metadata": {
    "collapsed": false,
    "pycharm": {
     "name": "#%%\n"
    }
   }
  },
  {
   "cell_type": "code",
   "execution_count": 17,
   "outputs": [],
   "source": [
    "with open('test_dataset.txt', 'w', encoding='utf8') as f:\n",
    "    for line in test_dataset:\n",
    "        f.write(f\"{line}\\n\")"
   ],
   "metadata": {
    "collapsed": false,
    "pycharm": {
     "name": "#%%\n"
    }
   }
  },
  {
   "cell_type": "markdown",
   "source": [
    "## Separating comments from posts"
   ],
   "metadata": {
    "collapsed": false,
    "pycharm": {
     "name": "#%% md\n"
    }
   }
  },
  {
   "cell_type": "code",
   "execution_count": 18,
   "outputs": [
    {
     "data": {
      "text/plain": "0              id                       date   views  \\\n5847662    2762.0  2022-12-02 18:01:03+00:00  8538.0   \n5847663  980465.0  2022-12-02 18:01:55+00:00     NaN   \n5847664  980466.0  2022-12-02 18:02:11+00:00     NaN   \n5847665  980467.0  2022-12-02 18:02:31+00:00     NaN   \n5847666  980468.0  2022-12-02 18:02:37+00:00     NaN   \n...           ...                        ...     ...   \n5860896      10.0  2019-07-29 16:08:49+00:00  1793.0   \n5860898       8.0  2019-07-29 15:31:10+00:00  1727.0   \n5860899       7.0  2019-07-29 15:15:42+00:00  1924.0   \n5860900       6.0  2019-07-29 14:20:06+00:00  1935.0   \n5860901       2.0  2019-07-29 13:37:58+00:00  1840.0   \n\n0                                                reactions  \\\n5847662  MessageReactions(results=[ReactionCount(reacti...   \n5847663                                                NaN   \n5847664  MessageReactions(results=[ReactionCount(reacti...   \n5847665                                                NaN   \n5847666                                                NaN   \n...                                                    ...   \n5860896  MessageReactions(results=[ReactionCount(reacti...   \n5860898  MessageReactions(results=[ReactionCount(reacti...   \n5860899  MessageReactions(results=[ReactionCount(reacti...   \n5860900  MessageReactions(results=[ReactionCount(reacti...   \n5860901  MessageReactions(results=[ReactionCount(reacti...   \n\n0                                     to_id fwd_from  \\\n5847662  PeerChannel(channel_id=1321128351)      NaN   \n5847663  PeerChannel(channel_id=1679205140)      NaN   \n5847664  PeerChannel(channel_id=1679205140)      NaN   \n5847665  PeerChannel(channel_id=1679205140)      NaN   \n5847666  PeerChannel(channel_id=1679205140)      NaN   \n...                                     ...      ...   \n5860896  PeerChannel(channel_id=1321128351)      NaN   \n5860898  PeerChannel(channel_id=1321128351)      NaN   \n5860899  PeerChannel(channel_id=1321128351)      NaN   \n5860900  PeerChannel(channel_id=1321128351)      NaN   \n5860901  PeerChannel(channel_id=1321128351)      NaN   \n\n0                                                  message   type duration  \\\n5847662  Помнится, что за месяц до начала войны с Софий...   text      NaN   \n5847663                        На бумаге никакой войны нет   text      NaN   \n5847664  Так это закономерность ВС РФ демонстрируют не ...   text      NaN   \n5847665  и при всём при этом униатская церковь всё ещё ...   text      NaN   \n5847666                     Интересно что скажет патриарх.   text      NaN   \n...                                                    ...    ...      ...   \n5860896  Наверное каждый на своём пути встречал такого ...  photo      NaN   \n5860898  А ещё иногда будут смешные для меня мемы собст...   text      NaN   \n5860899  Если хотите изменить мир вокруг себя, не нужно...   text      NaN   \n5860900  Интересную вещь заметил: каждый раз когда в МС...   text      NaN   \n5860901  Словил себя на мысли, что перестав писать текс...   text      NaN   \n\n0         channel_name frw_from_title frw_from_name msg_entity lang  \n5847662  Topaz_Govorit            NaN           NaN        NaN   ru  \n5847663  Topaz_Govorit            NaN           NaN        NaN   ru  \n5847664  Topaz_Govorit            NaN           NaN        NaN   ru  \n5847665  Topaz_Govorit            NaN           NaN        NaN   ru  \n5847666  Topaz_Govorit            NaN           NaN        NaN   ru  \n...                ...            ...           ...        ...  ...  \n5860896  Topaz_Govorit            NaN           NaN        NaN   ru  \n5860898  Topaz_Govorit            NaN           NaN        NaN   ru  \n5860899  Topaz_Govorit            NaN           NaN        NaN   ru  \n5860900  Topaz_Govorit            NaN           NaN        NaN   ru  \n5860901  Topaz_Govorit            NaN           NaN        NaN   ru  \n\n[12090 rows x 14 columns]",
      "text/html": "<div>\n<style scoped>\n    .dataframe tbody tr th:only-of-type {\n        vertical-align: middle;\n    }\n\n    .dataframe tbody tr th {\n        vertical-align: top;\n    }\n\n    .dataframe thead th {\n        text-align: right;\n    }\n</style>\n<table border=\"1\" class=\"dataframe\">\n  <thead>\n    <tr style=\"text-align: right;\">\n      <th></th>\n      <th>id</th>\n      <th>date</th>\n      <th>views</th>\n      <th>reactions</th>\n      <th>to_id</th>\n      <th>fwd_from</th>\n      <th>message</th>\n      <th>type</th>\n      <th>duration</th>\n      <th>channel_name</th>\n      <th>frw_from_title</th>\n      <th>frw_from_name</th>\n      <th>msg_entity</th>\n      <th>lang</th>\n    </tr>\n  </thead>\n  <tbody>\n    <tr>\n      <th>5847662</th>\n      <td>2762.0</td>\n      <td>2022-12-02 18:01:03+00:00</td>\n      <td>8538.0</td>\n      <td>MessageReactions(results=[ReactionCount(reacti...</td>\n      <td>PeerChannel(channel_id=1321128351)</td>\n      <td>NaN</td>\n      <td>Помнится, что за месяц до начала войны с Софий...</td>\n      <td>text</td>\n      <td>NaN</td>\n      <td>Topaz_Govorit</td>\n      <td>NaN</td>\n      <td>NaN</td>\n      <td>NaN</td>\n      <td>ru</td>\n    </tr>\n    <tr>\n      <th>5847663</th>\n      <td>980465.0</td>\n      <td>2022-12-02 18:01:55+00:00</td>\n      <td>NaN</td>\n      <td>NaN</td>\n      <td>PeerChannel(channel_id=1679205140)</td>\n      <td>NaN</td>\n      <td>На бумаге никакой войны нет</td>\n      <td>text</td>\n      <td>NaN</td>\n      <td>Topaz_Govorit</td>\n      <td>NaN</td>\n      <td>NaN</td>\n      <td>NaN</td>\n      <td>ru</td>\n    </tr>\n    <tr>\n      <th>5847664</th>\n      <td>980466.0</td>\n      <td>2022-12-02 18:02:11+00:00</td>\n      <td>NaN</td>\n      <td>MessageReactions(results=[ReactionCount(reacti...</td>\n      <td>PeerChannel(channel_id=1679205140)</td>\n      <td>NaN</td>\n      <td>Так это закономерность ВС РФ демонстрируют не ...</td>\n      <td>text</td>\n      <td>NaN</td>\n      <td>Topaz_Govorit</td>\n      <td>NaN</td>\n      <td>NaN</td>\n      <td>NaN</td>\n      <td>ru</td>\n    </tr>\n    <tr>\n      <th>5847665</th>\n      <td>980467.0</td>\n      <td>2022-12-02 18:02:31+00:00</td>\n      <td>NaN</td>\n      <td>NaN</td>\n      <td>PeerChannel(channel_id=1679205140)</td>\n      <td>NaN</td>\n      <td>и при всём при этом униатская церковь всё ещё ...</td>\n      <td>text</td>\n      <td>NaN</td>\n      <td>Topaz_Govorit</td>\n      <td>NaN</td>\n      <td>NaN</td>\n      <td>NaN</td>\n      <td>ru</td>\n    </tr>\n    <tr>\n      <th>5847666</th>\n      <td>980468.0</td>\n      <td>2022-12-02 18:02:37+00:00</td>\n      <td>NaN</td>\n      <td>NaN</td>\n      <td>PeerChannel(channel_id=1679205140)</td>\n      <td>NaN</td>\n      <td>Интересно что скажет патриарх.</td>\n      <td>text</td>\n      <td>NaN</td>\n      <td>Topaz_Govorit</td>\n      <td>NaN</td>\n      <td>NaN</td>\n      <td>NaN</td>\n      <td>ru</td>\n    </tr>\n    <tr>\n      <th>...</th>\n      <td>...</td>\n      <td>...</td>\n      <td>...</td>\n      <td>...</td>\n      <td>...</td>\n      <td>...</td>\n      <td>...</td>\n      <td>...</td>\n      <td>...</td>\n      <td>...</td>\n      <td>...</td>\n      <td>...</td>\n      <td>...</td>\n      <td>...</td>\n    </tr>\n    <tr>\n      <th>5860896</th>\n      <td>10.0</td>\n      <td>2019-07-29 16:08:49+00:00</td>\n      <td>1793.0</td>\n      <td>MessageReactions(results=[ReactionCount(reacti...</td>\n      <td>PeerChannel(channel_id=1321128351)</td>\n      <td>NaN</td>\n      <td>Наверное каждый на своём пути встречал такого ...</td>\n      <td>photo</td>\n      <td>NaN</td>\n      <td>Topaz_Govorit</td>\n      <td>NaN</td>\n      <td>NaN</td>\n      <td>NaN</td>\n      <td>ru</td>\n    </tr>\n    <tr>\n      <th>5860898</th>\n      <td>8.0</td>\n      <td>2019-07-29 15:31:10+00:00</td>\n      <td>1727.0</td>\n      <td>MessageReactions(results=[ReactionCount(reacti...</td>\n      <td>PeerChannel(channel_id=1321128351)</td>\n      <td>NaN</td>\n      <td>А ещё иногда будут смешные для меня мемы собст...</td>\n      <td>text</td>\n      <td>NaN</td>\n      <td>Topaz_Govorit</td>\n      <td>NaN</td>\n      <td>NaN</td>\n      <td>NaN</td>\n      <td>ru</td>\n    </tr>\n    <tr>\n      <th>5860899</th>\n      <td>7.0</td>\n      <td>2019-07-29 15:15:42+00:00</td>\n      <td>1924.0</td>\n      <td>MessageReactions(results=[ReactionCount(reacti...</td>\n      <td>PeerChannel(channel_id=1321128351)</td>\n      <td>NaN</td>\n      <td>Если хотите изменить мир вокруг себя, не нужно...</td>\n      <td>text</td>\n      <td>NaN</td>\n      <td>Topaz_Govorit</td>\n      <td>NaN</td>\n      <td>NaN</td>\n      <td>NaN</td>\n      <td>ru</td>\n    </tr>\n    <tr>\n      <th>5860900</th>\n      <td>6.0</td>\n      <td>2019-07-29 14:20:06+00:00</td>\n      <td>1935.0</td>\n      <td>MessageReactions(results=[ReactionCount(reacti...</td>\n      <td>PeerChannel(channel_id=1321128351)</td>\n      <td>NaN</td>\n      <td>Интересную вещь заметил: каждый раз когда в МС...</td>\n      <td>text</td>\n      <td>NaN</td>\n      <td>Topaz_Govorit</td>\n      <td>NaN</td>\n      <td>NaN</td>\n      <td>NaN</td>\n      <td>ru</td>\n    </tr>\n    <tr>\n      <th>5860901</th>\n      <td>2.0</td>\n      <td>2019-07-29 13:37:58+00:00</td>\n      <td>1840.0</td>\n      <td>MessageReactions(results=[ReactionCount(reacti...</td>\n      <td>PeerChannel(channel_id=1321128351)</td>\n      <td>NaN</td>\n      <td>Словил себя на мысли, что перестав писать текс...</td>\n      <td>text</td>\n      <td>NaN</td>\n      <td>Topaz_Govorit</td>\n      <td>NaN</td>\n      <td>NaN</td>\n      <td>NaN</td>\n      <td>ru</td>\n    </tr>\n  </tbody>\n</table>\n<p>12090 rows × 14 columns</p>\n</div>"
     },
     "execution_count": 18,
     "metadata": {},
     "output_type": "execute_result"
    }
   ],
   "source": [
    "df_channels[df_channels['channel_name']=='Topaz_Govorit']"
   ],
   "metadata": {
    "collapsed": false,
    "pycharm": {
     "name": "#%%\n"
    }
   }
  },
  {
   "cell_type": "code",
   "execution_count": 19,
   "outputs": [],
   "source": [
    "id_list = df_channels[['channel_name', 'to_id']].drop_duplicates(keep='first').drop_duplicates(subset=['channel_name'], keep='first').to_id.tolist()"
   ],
   "metadata": {
    "collapsed": false,
    "pycharm": {
     "name": "#%%\n"
    }
   }
  },
  {
   "cell_type": "code",
   "execution_count": 20,
   "outputs": [],
   "source": [
    "df_channels['is_post'] = df_channels.apply(lambda x: True if x.to_id in id_list else False, axis=1)"
   ],
   "metadata": {
    "collapsed": false,
    "pycharm": {
     "name": "#%%\n"
    }
   }
  },
  {
   "cell_type": "code",
   "execution_count": 21,
   "outputs": [
    {
     "name": "stdout",
     "output_type": "stream",
     "text": [
      "97.4% of messages are posts, the rest are comments\n"
     ]
    }
   ],
   "source": [
    "print(f'{len(df_channels[df_channels[\"is_post\"]==True])/len(df_channels)*100:.1f}% of messages are posts, the rest are comments')"
   ],
   "metadata": {
    "collapsed": false,
    "pycharm": {
     "name": "#%%\n"
    }
   }
  },
  {
   "cell_type": "code",
   "execution_count": 22,
   "outputs": [],
   "source": [
    "df_comments = df_channels[df_channels['is_post']==False]"
   ],
   "metadata": {
    "collapsed": false,
    "pycharm": {
     "name": "#%%\n"
    }
   }
  },
  {
   "cell_type": "code",
   "execution_count": 23,
   "outputs": [],
   "source": [
    "df_posts = df_channels[df_channels['is_post']==True]"
   ],
   "metadata": {
    "collapsed": false,
    "pycharm": {
     "name": "#%%\n"
    }
   }
  },
  {
   "cell_type": "code",
   "execution_count": 24,
   "outputs": [],
   "source": [
    "# df_posts.type = pd.api.types.CategoricalDtype(categories=df_posts.type.unique().tolist(), ordered = False)"
   ],
   "metadata": {
    "collapsed": false,
    "pycharm": {
     "name": "#%%\n"
    }
   }
  },
  {
   "cell_type": "code",
   "execution_count": 25,
   "outputs": [],
   "source": [
    "# df_posts.type = pd.api.types.CategoricalDtype(categories=df_posts.type.unique().tolist(), ordered = False)\n"
   ],
   "metadata": {
    "collapsed": false,
    "pycharm": {
     "name": "#%%\n"
    }
   }
  },
  {
   "cell_type": "code",
   "execution_count": 26,
   "outputs": [],
   "source": [
    "# df_posts.lang = pd.api.types.CategoricalDtype(categories=df_posts.lang.unique().tolist(), ordered = False)"
   ],
   "metadata": {
    "collapsed": false,
    "pycharm": {
     "name": "#%%\n"
    }
   }
  },
  {
   "cell_type": "code",
   "execution_count": 27,
   "outputs": [],
   "source": [
    "# df_posts.to_csv('only_posts.csv', index = False, header=True)"
   ],
   "metadata": {
    "collapsed": false,
    "pycharm": {
     "name": "#%%\n"
    }
   }
  },
  {
   "cell_type": "code",
   "execution_count": 28,
   "outputs": [],
   "source": [
    "df_channels = df_channels[df_channels['is_post']==True]"
   ],
   "metadata": {
    "collapsed": false,
    "pycharm": {
     "name": "#%%\n"
    }
   }
  },
  {
   "cell_type": "code",
   "execution_count": 29,
   "outputs": [
    {
     "data": {
      "text/plain": "array(['mardanaka', 'rian_ru', 'tvrain', 'krispotupchik', 'akimapachev',\n       'go338', 'KotNaMirotvorze', 'emphasises', 'russ_orientalist',\n       'pravda_shuravi', 'voenacher', 'n_zackhaim', 'Hinshtein',\n       'kashinguru', 'lentachold', 'wargonzo', 'foxandraven',\n       'madam_secretar', 'russianfuture', 'vchkogpu', 'rusich_army',\n       'botcharov', 'mashmoyka', 'vv_volodin', 'Mikle1On',\n       'kremlinprachka', 'ctrs2018', 'mediazzzona', 'sotaproject',\n       'znachit_net', 'er_molnia', 'razvedkavperedZ', 'rasstrelny',\n       'govoritfursov', 'gramotyyaroslava', 'informnapalm',\n       'podosokorsky', 'mosnow', 'daokedao', 'chtddd', 'nevzorovtv',\n       'SonOfMonarchy', 'lesyaryabtseva', 'fontankaspb', 'tass_agency',\n       'ErnestV_2020', 'sorok40russia', 'odinokayakoko', 'pgubarev',\n       'swodki', 'meduzalive', 'Gori_spb', 'anna_news', 'readovkanews',\n       'umar_kremlev', 'government_rus', 'Alekhin_Telega', 'leylinurimm',\n       'pushilindenis', 'strelets_molodec', 'istrkalkglk', 'bbbreaking',\n       'mariabutina', 'Nackepelo', 'politadequate', 'GrafinyaNegoduet',\n       'Soldieroffortune777', 'politjoystic', 'kremlin_mother_expert',\n       'glavpolit', 'northerntechno', 'operdrain', 'mig41',\n       'kozakrichala', 'NeoficialniyBeZsonoV', 'navalny', 'larkin_doc',\n       'varlamov', 'astrahandm', 'metodi4ka', 'InsightPeople',\n       'dirtytatarstan', 'uranews', 'ostorozhno_novosti',\n       'thegraschenkov', 'tv360', 'rt_russian', 'shot_shot', 'epoddubny',\n       'rogers_kitchen', 'ebobo_rus', 'achexd2', 'Marinaslovo',\n       'notes_veterans', 'ENews112', 'readovkaru', 'ikakprosto',\n       'romasuperromasuper', 'rus_jansen', 'RtrDonetsk',\n       'boilerroomchannel', 'MariaVladimirovnaZakharova', 'moscowmap',\n       'rasstriga', 'thebell_io', 'OstashkoNews', 'new_militarycolumnist',\n       'worldprotest', 'separ_13', 'vysokygovorit', 'vladlentatarsky',\n       'NoodleRemoverPlus', 'kommersant', 'kryuchkovoleg',\n       'rustroyka1945', 'mediatech', 'sommerman', 'zvezdanews',\n       'momdontread', 'surf_noise1', 'ssigny', 'mediakiller',\n       'bolshiepushki', 'imnotbozhena', 'oreshkins', 'Medvedeva_Olesya',\n       'HersonVestnik', 'romagolovanov', 'oversized_shirts',\n       'akashevarova', 'ASGasparyan', 'Doninside', 'sashakon',\n       'stalin_gulag', 'truth_aggregator', 'skabeeva', 'fuckyouthatswhy',\n       'rosich_ru', 'ChDambiev', 'corrkosarev', 'zakharprilepin',\n       'kolezev', 'russianquarantine', 'Abbasdjuma', 'grey_zone',\n       'RVvoenkor', 'criminalru', 'oper_goblin', 'otsuka_bld',\n       'ekvinokurova', 'smolyak', 'moscowach', 'radio_sputnik',\n       'vlast_Zh', 'romanov_92', 'rusbrief', 'temablog',\n       'margaritasimonyan', 'redakciya_channel', 'SIL0VIKI',\n       'anatoly_nesmiyan', 'varlamov_news', 'Gubery', 'vzglyad_ru',\n       'stormdaily', 'mod_russia', 'ia_steklomoy', 'Sladkov_plus',\n       'parfentiev_club', 'MedvedevVesti', 'ntvnews', 'RIAKremlinpool',\n       'imerkouri', 'SolovievLive', 'maester', 'zhogaartem', 'glavmedia',\n       'smotri_media', 'MoscowEcon', 'krasovkin', 'akitilop', 'stanovaya',\n       'DmitriySteshin', 'freeman365', 'lobaev_vlad', 'tolk_tolk',\n       'master_pera', 'superdolgov', 'denazi_UA', 'aleksandr_skif',\n       'kononenkome', 'vityzeva', 'msgazdiev', 'infantmilitario',\n       'vatnoeboloto', 'kstati_p', 'TanyaChuprova', 'truekpru',\n       'dimsmirnov175', 'ksbchk', 'mozhemobyasnit', 'ru2ch_news',\n       'novaya_pishet', 'nemorgenshtern', 'vibornyk', 'razvedosaa',\n       'Ateobreaking', 'vandalslavyansk', 'HouseOfCardsRussia',\n       'dr_alex_sosnowski', 'Postovo', 'makarov_kb', 'vvgladkov',\n       'mnews_ru', 'insect_life', 'russica2', 'rtvimain',\n       'riafan_everywhere', 'polittemnik', 'svarschiki', 'Topaz_Govorit',\n       'veraafanasyeva', 'antiskrepa', 'RKadyrov_95', 'navideovidno',\n       'FridrihShow', 'holmogortalks', 'naralex88', 'mnogonazi',\n       'BattleSailor_13', 'mestamedia', 'donbassr', 'TheBadComedian',\n       'strelkovii', 'mkhusnullin', 'golosmordora', 'rbc_news',\n       'berdovaalena', 'ntnzn', 'olegderipaska', 'regnum_na',\n       'vladivostok1978', 'opersvodki', 'norin_ea', 'bogemasranaya',\n       'glava_lnr_info', 'MID_Russia', 'youlistenedmayak',\n       'medvedev_telegram', 'srochnow', 'obyasnayemrf', 'bbcrussian',\n       'optimistkavshtatskom', 'breakingmash', 'boris_rozhin',\n       'rlz_the_kraken', 'pdmnews', 'milchronicles', 'mariashukshina',\n       'minaevlife', 'tikandelaki', 'Baronova', 'postposttruth',\n       'SergeyKolyasnikov', 'comradepelevin', 'izvestia', 'sskarnaukhov',\n       'radiogovoritmsk', 'voenkorKotenok', 'sputniklive', 'RadioStydoba',\n       'kremlebezBashennik', 'lentadnya', 'evgenyprimakov', 'sashakots',\n       'orda_mordora', 'skvir', 'yurydud', 'thynk', 'kornilov1968',\n       'PlushevChannel', 'octagonmedia', 'Lauradjagadiary',\n       'archivarius_dz', 'maryananaumova', 'warfakes', 'rusvesnasu',\n       'infomoscow24', 'sncmag', 'lu_di_z', 'kshulika', 'maxim2004live',\n       'grishkafilippov', 'karaulny', 'milinfolive', 'bazabazon',\n       'olegtsarov', 'obrazbuduschego2', 'bloodysx'], dtype=object)"
     },
     "execution_count": 29,
     "metadata": {},
     "output_type": "execute_result"
    }
   ],
   "source": [
    "df_channels.channel_name.unique()"
   ],
   "metadata": {
    "collapsed": false,
    "pycharm": {
     "name": "#%%\n"
    }
   }
  },
  {
   "cell_type": "markdown",
   "source": [
    "## Removing breaks and repr symbols"
   ],
   "metadata": {
    "collapsed": false,
    "pycharm": {
     "name": "#%% md\n"
    }
   }
  },
  {
   "cell_type": "code",
   "execution_count": 30,
   "outputs": [
    {
     "data": {
      "text/plain": "'А трансляция тем временем идет. Подписывайтесь  https://www.youtube.com/watch?v=4L7T3u7utSw'"
     },
     "execution_count": 30,
     "metadata": {},
     "output_type": "execute_result"
    }
   ],
   "source": [
    "test_string = df_channels[df_channels['is_post']==True].message[0]\n",
    "test_string"
   ],
   "metadata": {
    "collapsed": false,
    "pycharm": {
     "name": "#%%\n"
    }
   }
  },
  {
   "cell_type": "code",
   "execution_count": 31,
   "outputs": [],
   "source": [
    "splitters = ['\\n', '\\t', '\\\\n','\\xa0', '\\u200b']"
   ],
   "metadata": {
    "collapsed": false,
    "pycharm": {
     "name": "#%%\n"
    }
   }
  },
  {
   "cell_type": "code",
   "execution_count": 32,
   "outputs": [
    {
     "name": "stderr",
     "output_type": "stream",
     "text": [
      "/var/folders/2w/hygxgpp5353_dy_tk88gw2100000gn/T/ipykernel_82062/3913600352.py:1: FutureWarning: The default value of regex will change from True to False in a future version.\n",
      "  df_channels['message_no_breaks'] = df_channels['message'].str.replace('\\n|\\t|\\\\n', ' ', case=False)\n"
     ]
    }
   ],
   "source": [
    "df_channels['message_no_breaks'] = df_channels['message'].str.replace('\\n|\\t|\\\\n', ' ', case=False)"
   ],
   "metadata": {
    "collapsed": false,
    "pycharm": {
     "name": "#%%\n"
    }
   }
  },
  {
   "cell_type": "markdown",
   "source": [
    "## Isolating emojis"
   ],
   "metadata": {
    "collapsed": false,
    "pycharm": {
     "name": "#%% md\n"
    }
   }
  },
  {
   "cell_type": "code",
   "execution_count": 33,
   "outputs": [],
   "source": [
    "def get_emoji_count(text):\n",
    "    return collections.Counter([match[\"emoji\"] for word in text for match in emoji.emoji_list(word)])"
   ],
   "metadata": {
    "collapsed": false,
    "pycharm": {
     "name": "#%%\n"
    }
   }
  },
  {
   "cell_type": "code",
   "execution_count": 34,
   "outputs": [],
   "source": [
    "def remove_emoji(string):\n",
    "    emoji_pattern = re.compile(\"[\"\n",
    "                           u\"\\U0001F600-\\U0001F64F\"  # emoticons\n",
    "                           u\"\\U0001F300-\\U0001F5FF\"  # symbols & pictographs\n",
    "                           u\"\\U0001F680-\\U0001F6FF\"  # transport & map symbols\n",
    "                           u\"\\U0001F1E0-\\U0001F1FF\"  # flags (iOS)\n",
    "                           u\"\\U00002702-\\U000027B0\"\n",
    "                           u\"\\U000024C2-\\U0001F251\"\n",
    "                           \"]+\", flags=re.UNICODE)\n",
    "    return emoji_pattern.sub(r' ', string)"
   ],
   "metadata": {
    "collapsed": false,
    "pycharm": {
     "name": "#%%\n"
    }
   }
  },
  {
   "cell_type": "code",
   "execution_count": 35,
   "outputs": [
    {
     "name": "stdout",
     "output_type": "stream",
     "text": [
      "CPU times: user 20min 26s, sys: 33.2 s, total: 20min 59s\n",
      "Wall time: 24min 20s\n"
     ]
    }
   ],
   "source": [
    "%%time\n",
    "df_channels['emojis'] = df_channels['message'].apply(lambda x: get_emoji_count(x))"
   ],
   "metadata": {
    "collapsed": false,
    "pycharm": {
     "name": "#%%\n"
    }
   }
  },
  {
   "cell_type": "code",
   "execution_count": 36,
   "outputs": [
    {
     "name": "stdout",
     "output_type": "stream",
     "text": [
      "CPU times: user 46.4 s, sys: 28.6 s, total: 1min 15s\n",
      "Wall time: 2min 48s\n"
     ]
    }
   ],
   "source": [
    "%%time\n",
    "df_channels['message_no_emoji'] = df_channels['message_no_breaks'].apply(lambda x: remove_emoji(x))"
   ],
   "metadata": {
    "collapsed": false,
    "pycharm": {
     "name": "#%%\n"
    }
   }
  },
  {
   "cell_type": "code",
   "execution_count": 37,
   "outputs": [
    {
     "data": {
      "text/plain": "'Китай возмущен «беспределом» компании Илона Маска SpaceX в освоении космического пространства: в докладе, представленном Пекином Комитету ООН по использованию космического пространства в мирных целях в начале этого месяца, Китай заявил, что его космическая станция была вынуждена дважды – в июле и октябре 2021 года - менять орбитальные параметры  своей космической станции, чтобы избежать столкновения со спутниками Starlink.  SpaceX уже запустила в космос более 1900 спутников для создания орбитальной группировки космической телекоммуникационной сети Starlink. Федеральная комиссия по связи США выдала разрешение компании Илона Маска на запуск в космос до 12000 спутников.  Пекин призвал ООН напомнить США о международных договорах и соглашениях по использованию космического пространства и об ответственности государств за деятельность, осуществляемую как правительственными, так и неправительственными организациями в космосе.  Однако США не остались в долгу: представитель Гарвард-Смитсоновского центра астрофизики, комментируя обращение Китая, заявил, что Китай является основным поставщиком космического мусора: будет уместным напомнить, что космической станции США несколько раз за последние 10 лет приходилось уклоняться от осколков китайских военных противоспутниковых испытаний 2007 года.   Сама SpaceX пока китайский демарш никак не комментирует.'"
     },
     "execution_count": 37,
     "metadata": {},
     "output_type": "execute_result"
    }
   ],
   "source": [
    "df_channels['message_no_emoji'].sample(10).iloc[0]"
   ],
   "metadata": {
    "collapsed": false,
    "pycharm": {
     "name": "#%%\n"
    }
   }
  },
  {
   "cell_type": "markdown",
   "source": [
    "## Isolating urls"
   ],
   "metadata": {
    "collapsed": false,
    "pycharm": {
     "name": "#%% md\n"
    }
   }
  },
  {
   "cell_type": "code",
   "execution_count": 38,
   "outputs": [],
   "source": [
    "def find_urls(text):\n",
    "    try:\n",
    "        links =  re.findall(r'(https?://[^\\s]+)', text)\n",
    "        return [urlparse(item).netloc for item in links]\n",
    "    except ValueError:\n",
    "        return []"
   ],
   "metadata": {
    "collapsed": false,
    "pycharm": {
     "name": "#%%\n"
    }
   }
  },
  {
   "cell_type": "code",
   "execution_count": 39,
   "outputs": [],
   "source": [
    "df_channels['url_list'] = df_channels['message_no_emoji'].apply(lambda x: find_urls(x))"
   ],
   "metadata": {
    "collapsed": false,
    "pycharm": {
     "name": "#%%\n"
    }
   }
  },
  {
   "cell_type": "code",
   "execution_count": 40,
   "outputs": [
    {
     "name": "stderr",
     "output_type": "stream",
     "text": [
      "/var/folders/2w/hygxgpp5353_dy_tk88gw2100000gn/T/ipykernel_82062/343568952.py:1: FutureWarning: The default value of regex will change from True to False in a future version.\n",
      "  df_channels['message_no_urls'] = df_channels['message_no_emoji'].str.replace('http\\S+|www.\\S+', '', case=False)\n"
     ]
    }
   ],
   "source": [
    "df_channels['message_no_urls'] = df_channels['message_no_emoji'].str.replace('http\\S+|www.\\S+', '', case=False)"
   ],
   "metadata": {
    "collapsed": false,
    "pycharm": {
     "name": "#%%\n"
    }
   }
  },
  {
   "cell_type": "code",
   "execution_count": 41,
   "outputs": [
    {
     "data": {
      "text/plain": "[]    6836544\nName: message_no_urls, dtype: int64"
     },
     "execution_count": 41,
     "metadata": {},
     "output_type": "execute_result"
    }
   ],
   "source": [
    "#bs check\n",
    "(df_channels['message_no_urls']\n",
    " .apply(lambda x: find_urls(x))\n",
    " .value_counts())"
   ],
   "metadata": {
    "collapsed": false,
    "pycharm": {
     "name": "#%%\n"
    }
   }
  },
  {
   "cell_type": "code",
   "execution_count": 42,
   "outputs": [
    {
     "data": {
      "text/plain": "'В казанском цирке слоны устроили драку во время представления.  На кадрах из соцсетей видно, как посетители разбегаются со зрительских мест. По предварительным данным, никто не пострадал.  На сайте цирка опубликовано сообщение, что представление было отменено «по техническим причинам»'"
     },
     "execution_count": 42,
     "metadata": {},
     "output_type": "execute_result"
    }
   ],
   "source": [
    "df_channels['message_no_urls'].sample(10).iloc[0]"
   ],
   "metadata": {
    "collapsed": false,
    "pycharm": {
     "name": "#%%\n"
    }
   }
  },
  {
   "cell_type": "markdown",
   "source": [
    "## Extract mentions"
   ],
   "metadata": {
    "collapsed": false,
    "pycharm": {
     "name": "#%% md\n"
    }
   }
  },
  {
   "cell_type": "code",
   "execution_count": 43,
   "outputs": [],
   "source": [
    "df_channels['mentions'] = df_channels['message_no_urls'].str.findall(r\"@([a-zA-Z0-9_]{1,50})\")"
   ],
   "metadata": {
    "collapsed": false,
    "pycharm": {
     "name": "#%%\n"
    }
   }
  },
  {
   "cell_type": "code",
   "execution_count": 44,
   "outputs": [
    {
     "data": {
      "text/plain": "0                      mentions  \\\n155671                       []   \n5248504                      []   \n3968835                      []   \n5100258                      []   \n6926988                      []   \n1400945                      []   \n2916705            [kommersant]   \n6816144  [sputnikKZ, sputnikKZ]   \n6879108                      []   \n1122307                      []   \n\n0                                          message_no_urls  \n155671    Террористическая атака на пакистанскую биржу....  \n5248504  Утренняя подборка новостей, чтобы начать день ...  \n3968835  «И весь мир в ядерный пепел»: Ким Чен Ын обсуд...  \n5100258  Изьятый у криминала украинского города Покровс...  \n6926988  Последние данные о распространении коронавирус...  \n1400945  По Лиману нанесено не менее пяти авиаударов. Р...  \n2916705  США ускорили развертывание на базах НАТО в Евр...  \n6816144  Украинские сценаристы \"языковых рейдов\" в Каза...  \n6879108  Названа дата похорон Сергея Соловьёва  Погребе...  \n1122307  Заместитель министра иностранных дел России Се...  ",
      "text/html": "<div>\n<style scoped>\n    .dataframe tbody tr th:only-of-type {\n        vertical-align: middle;\n    }\n\n    .dataframe tbody tr th {\n        vertical-align: top;\n    }\n\n    .dataframe thead th {\n        text-align: right;\n    }\n</style>\n<table border=\"1\" class=\"dataframe\">\n  <thead>\n    <tr style=\"text-align: right;\">\n      <th></th>\n      <th>mentions</th>\n      <th>message_no_urls</th>\n    </tr>\n  </thead>\n  <tbody>\n    <tr>\n      <th>155671</th>\n      <td>[]</td>\n      <td>Террористическая атака на пакистанскую биржу....</td>\n    </tr>\n    <tr>\n      <th>5248504</th>\n      <td>[]</td>\n      <td>Утренняя подборка новостей, чтобы начать день ...</td>\n    </tr>\n    <tr>\n      <th>3968835</th>\n      <td>[]</td>\n      <td>«И весь мир в ядерный пепел»: Ким Чен Ын обсуд...</td>\n    </tr>\n    <tr>\n      <th>5100258</th>\n      <td>[]</td>\n      <td>Изьятый у криминала украинского города Покровс...</td>\n    </tr>\n    <tr>\n      <th>6926988</th>\n      <td>[]</td>\n      <td>Последние данные о распространении коронавирус...</td>\n    </tr>\n    <tr>\n      <th>1400945</th>\n      <td>[]</td>\n      <td>По Лиману нанесено не менее пяти авиаударов. Р...</td>\n    </tr>\n    <tr>\n      <th>2916705</th>\n      <td>[kommersant]</td>\n      <td>США ускорили развертывание на базах НАТО в Евр...</td>\n    </tr>\n    <tr>\n      <th>6816144</th>\n      <td>[sputnikKZ, sputnikKZ]</td>\n      <td>Украинские сценаристы \"языковых рейдов\" в Каза...</td>\n    </tr>\n    <tr>\n      <th>6879108</th>\n      <td>[]</td>\n      <td>Названа дата похорон Сергея Соловьёва  Погребе...</td>\n    </tr>\n    <tr>\n      <th>1122307</th>\n      <td>[]</td>\n      <td>Заместитель министра иностранных дел России Се...</td>\n    </tr>\n  </tbody>\n</table>\n</div>"
     },
     "execution_count": 44,
     "metadata": {},
     "output_type": "execute_result"
    }
   ],
   "source": [
    "df_channels[['mentions','message_no_urls']].sample(10)\n",
    "# df_channels[['mentions','message_no_urls']].message_no_urls.iloc[1265478]"
   ],
   "metadata": {
    "collapsed": false,
    "pycharm": {
     "name": "#%%\n"
    }
   }
  },
  {
   "cell_type": "code",
   "execution_count": 45,
   "outputs": [],
   "source": [
    "# text_tst = df_channels[['mentions','message_no_urls']].message_no_urls.iloc[1265478]\n",
    "# m_list = df_channels[['mentions','message_no_urls']].mentions.iloc[1265478]"
   ],
   "metadata": {
    "collapsed": false,
    "pycharm": {
     "name": "#%%\n"
    }
   }
  },
  {
   "cell_type": "code",
   "execution_count": 46,
   "outputs": [],
   "source": [
    "def cut_mentions(list_of_mentions, text):\n",
    "    for word in list_of_mentions:\n",
    "        wrd = '@' + word\n",
    "        text = text.replace(wrd, '')\n",
    "    return text.strip()"
   ],
   "metadata": {
    "collapsed": false,
    "pycharm": {
     "name": "#%%\n"
    }
   }
  },
  {
   "cell_type": "code",
   "execution_count": 47,
   "outputs": [
    {
     "name": "stdout",
     "output_type": "stream",
     "text": [
      "CPU times: user 36.6 s, sys: 4min 7s, total: 4min 44s\n",
      "Wall time: 24min 54s\n"
     ]
    }
   ],
   "source": [
    "%%time\n",
    "df_channels['message_no_mentions'] = df_channels.apply(lambda x: cut_mentions(x['mentions'], x['message_no_urls']), axis=1)"
   ],
   "metadata": {
    "collapsed": false,
    "pycharm": {
     "name": "#%%\n"
    }
   }
  },
  {
   "cell_type": "code",
   "execution_count": 50,
   "outputs": [],
   "source": [
    "mentions_col_list = df_channels[df_channels['mentions'].map(lambda d: len(d)) > 0]['mentions'].tolist()\n",
    "mentions_list = [item for sublist in mentions_col_list for item in sublist]\n",
    "mentions_unique = list(set(mentions_list))"
   ],
   "metadata": {
    "collapsed": false,
    "pycharm": {
     "name": "#%%\n"
    }
   }
  },
  {
   "cell_type": "code",
   "execution_count": 51,
   "outputs": [
    {
     "name": "stdout",
     "output_type": "stream",
     "text": [
      "We have 24789 unique channel names among 1454907 mentions for dataset\n"
     ]
    }
   ],
   "source": [
    "print(f'We have {len(mentions_unique)} unique channel names among {len(mentions_list)} mentions for dataset')"
   ],
   "metadata": {
    "collapsed": false,
    "pycharm": {
     "name": "#%%\n"
    }
   }
  },
  {
   "cell_type": "code",
   "execution_count": 52,
   "outputs": [],
   "source": [
    "dict = {\"names\": mentions_list}\n",
    "json_object = json.dumps(dict, indent=4)\n",
    "with open(\"/Users/katerynaburovova/PycharmProjects/dehumanization/data/names_from_mentions.json\", \"w\") as outfile:\n",
    "    outfile.write(json_object)"
   ],
   "metadata": {
    "collapsed": false,
    "pycharm": {
     "name": "#%%\n"
    }
   }
  },
  {
   "cell_type": "markdown",
   "source": [
    "## Unify and isolate quotes"
   ],
   "metadata": {
    "collapsed": false,
    "pycharm": {
     "name": "#%% md\n"
    }
   }
  },
  {
   "cell_type": "code",
   "execution_count": 55,
   "outputs": [
    {
     "name": "stderr",
     "output_type": "stream",
     "text": [
      "/var/folders/2w/hygxgpp5353_dy_tk88gw2100000gn/T/ipykernel_82062/4136279409.py:3: FutureWarning: The default value of regex will change from True to False in a future version.\n",
      "  df_channels['message_no_mentions'] = df_channels['message_no_mentions'].str.replace('|'.join(to_replace),'\"')\n"
     ]
    }
   ],
   "source": [
    "to_replace = [\"«\", \"»\", \"“\"]\n",
    "\n",
    "df_channels['message_no_mentions'] = df_channels['message_no_mentions'].str.replace('|'.join(to_replace),'\"')"
   ],
   "metadata": {
    "collapsed": false,
    "pycharm": {
     "name": "#%%\n"
    }
   }
  },
  {
   "cell_type": "code",
   "execution_count": 56,
   "outputs": [
    {
     "name": "stdout",
     "output_type": "stream",
     "text": [
      "CPU times: user 9.43 s, sys: 41.8 s, total: 51.2 s\n",
      "Wall time: 4min 5s\n"
     ]
    }
   ],
   "source": [
    "%%time\n",
    "df_channels['quotes'] = df_channels['message_no_mentions'].str.findall(r'\"(.*?)\"')"
   ],
   "metadata": {
    "collapsed": false,
    "pycharm": {
     "name": "#%%\n"
    }
   }
  },
  {
   "cell_type": "markdown",
   "source": [
    "## Isolate hashtags"
   ],
   "metadata": {
    "collapsed": false,
    "pycharm": {
     "name": "#%% md\n"
    }
   }
  },
  {
   "cell_type": "code",
   "execution_count": 57,
   "outputs": [
    {
     "name": "stdout",
     "output_type": "stream",
     "text": [
      "CPU times: user 46.4 s, sys: 34.9 s, total: 1min 21s\n",
      "Wall time: 4min 7s\n"
     ]
    }
   ],
   "source": [
    "%%time\n",
    "# df_channels['hashtags'] = df_channels['message_no_mentions'].str.findall(\"#[A-Za-z0-9_]+\")\n",
    "df_channels['hashtags'] = df_channels['message_no_mentions'].apply(lambda x: {word.strip(\",\").strip(\".\") for word in x.split() if word.startswith(\"#\")})"
   ],
   "metadata": {
    "collapsed": false,
    "pycharm": {
     "name": "#%%\n"
    }
   }
  },
  {
   "cell_type": "code",
   "execution_count": 59,
   "outputs": [],
   "source": [
    "def cut_hasgtags(set_of_hashtags, text):\n",
    "    for word in list(set_of_hashtags):\n",
    "        text = text.replace(word, '')\n",
    "    return text.strip()"
   ],
   "metadata": {
    "collapsed": false,
    "pycharm": {
     "name": "#%%\n"
    }
   }
  },
  {
   "cell_type": "code",
   "execution_count": 62,
   "outputs": [],
   "source": [
    "# df_channels.to_csv('/Users/katerynaburovova/PycharmProjects/dehumanization/datasets/df_channels_before_sym_cleanup.csv')"
   ],
   "metadata": {
    "collapsed": false,
    "pycharm": {
     "name": "#%%\n"
    }
   }
  },
  {
   "cell_type": "code",
   "execution_count": null,
   "outputs": [],
   "source": [
    "df_channels['message_no_hashtags'] = df_channels.apply(lambda x: cut_hasgtags(x['hashtags'], x['message_no_mentions']), axis=1)"
   ],
   "metadata": {
    "collapsed": false,
    "pycharm": {
     "name": "#%%\n"
    }
   }
  },
  {
   "cell_type": "code",
   "execution_count": 1,
   "outputs": [
    {
     "name": "stderr",
     "output_type": "stream",
     "text": [
      "/var/folders/2w/hygxgpp5353_dy_tk88gw2100000gn/T/ipykernel_6652/229763949.py:2: DtypeWarning: Columns (4,6,11,12,13) have mixed types. Specify dtype option on import or set low_memory=False.\n",
      "  df_channels = pd.read_csv('/Users/katerynaburovova/PycharmProjects/dehumanization/datasets/df_channels_before_sym_cleanup.csv')\n"
     ]
    }
   ],
   "source": [
    "import pandas as pd\n",
    "df_channels = pd.read_csv('/Users/katerynaburovova/PycharmProjects/dehumanization/datasets/df_channels_before_sym_cleanup.csv')"
   ],
   "metadata": {
    "collapsed": false,
    "pycharm": {
     "name": "#%%\n"
    }
   }
  },
  {
   "cell_type": "code",
   "execution_count": 3,
   "outputs": [
    {
     "data": {
      "text/plain": "         Unnamed: 0       id                       date    views reactions  \\\n2848815     3437927  19002.0  2018-12-26 21:03:03+00:00   2299.0       NaN   \n6086887     7184869   7339.0  2018-12-20 10:45:45+00:00  14655.0       NaN   \n1036036     1230819  10020.0  2021-05-25 19:33:54+00:00   6257.0       NaN   \n640616       745859    560.0  2019-12-11 16:04:06+00:00  14966.0       NaN   \n2067175     2538776    492.0  2017-08-15 15:04:38+00:00   4005.0       NaN   \n\n                                      to_id fwd_from  \\\n2848815  PeerChannel(channel_id=1071040207)      NaN   \n6086887  PeerChannel(channel_id=1109403194)      NaN   \n1036036  PeerChannel(channel_id=1433731512)      NaN   \n640616   PeerChannel(channel_id=1079904535)      NaN   \n2067175  PeerChannel(channel_id=1100158992)      NaN   \n\n                                                   message   type  duration  \\\n2848815  Ну что с нами сделали если даже название старо...   text       NaN   \n6086887  Владимир Владимирович, мне кажется, не так пон...   text       NaN   \n1036036                    Сколько всякой херни понаписали   text       NaN   \n640616   Вы наверняка слышали про профессорку Веру Афан...   text       NaN   \n2067175  📹 Дерево убило 11 человек на празднике Богомат...  video      37.0   \n\n         ...                                  message_no_breaks  \\\n2848815  ...  Ну что с нами сделали если даже название старо...   \n6086887  ...  Владимир Владимирович, мне кажется, не так пон...   \n1036036  ...                    Сколько всякой херни понаписали   \n640616   ...  Вы наверняка слышали про профессорку Веру Афан...   \n2067175  ...  📹 Дерево убило 11 человек на празднике Богомат...   \n\n                    emojis                                   message_no_emoji  \\\n2848815          Counter()  Ну что с нами сделали если даже название старо...   \n6086887          Counter()  Владимир Владимирович, мне кажется, не так пон...   \n1036036          Counter()                    Сколько всякой херни понаписали   \n640616           Counter()  Вы наверняка слышали про профессорку Веру Афан...   \n2067175  Counter({'📹': 1})    Дерево убило 11 человек на празднике Богомат...   \n\n        url_list                                    message_no_urls  \\\n2848815       []  Ну что с нами сделали если даже название старо...   \n6086887       []  Владимир Владимирович, мне кажется, не так пон...   \n1036036       []                    Сколько всякой херни понаписали   \n640616        []  Вы наверняка слышали про профессорку Веру Афан...   \n2067175       []    Дерево убило 11 человек на празднике Богомат...   \n\n                                     mentions  \\\n2848815                                    []   \n6086887                                    []   \n1036036                                    []   \n640616   ['veraafanasyeva', 'veraafanasyeva']   \n2067175                                    []   \n\n                                       message_no_mentions quotes hashtags  \\\n2848815  Ну что с нами сделали если даже название старо...     []    set()   \n6086887  Владимир Владимирович, мне кажется, не так пон...     []    set()   \n1036036                    Сколько всякой херни понаписали     []    set()   \n640616   Вы наверняка слышали про профессорку Веру Афан...     []    set()   \n2067175  Дерево убило 11 человек на празднике Богоматер...     []    set()   \n\n                                       message_no_hashtags  \n2848815  Ну что с нами сделали если даже название старо...  \n6086887  Владимир Владимирович, мне кажется, не так пон...  \n1036036                    Сколько всякой херни понаписали  \n640616   Вы наверняка слышали про профессорку Веру Афан...  \n2067175  Дерево убило 11 человек на празднике Богоматер...  \n\n[5 rows x 26 columns]",
      "text/html": "<div>\n<style scoped>\n    .dataframe tbody tr th:only-of-type {\n        vertical-align: middle;\n    }\n\n    .dataframe tbody tr th {\n        vertical-align: top;\n    }\n\n    .dataframe thead th {\n        text-align: right;\n    }\n</style>\n<table border=\"1\" class=\"dataframe\">\n  <thead>\n    <tr style=\"text-align: right;\">\n      <th></th>\n      <th>Unnamed: 0</th>\n      <th>id</th>\n      <th>date</th>\n      <th>views</th>\n      <th>reactions</th>\n      <th>to_id</th>\n      <th>fwd_from</th>\n      <th>message</th>\n      <th>type</th>\n      <th>duration</th>\n      <th>...</th>\n      <th>message_no_breaks</th>\n      <th>emojis</th>\n      <th>message_no_emoji</th>\n      <th>url_list</th>\n      <th>message_no_urls</th>\n      <th>mentions</th>\n      <th>message_no_mentions</th>\n      <th>quotes</th>\n      <th>hashtags</th>\n      <th>message_no_hashtags</th>\n    </tr>\n  </thead>\n  <tbody>\n    <tr>\n      <th>2848815</th>\n      <td>3437927</td>\n      <td>19002.0</td>\n      <td>2018-12-26 21:03:03+00:00</td>\n      <td>2299.0</td>\n      <td>NaN</td>\n      <td>PeerChannel(channel_id=1071040207)</td>\n      <td>NaN</td>\n      <td>Ну что с нами сделали если даже название старо...</td>\n      <td>text</td>\n      <td>NaN</td>\n      <td>...</td>\n      <td>Ну что с нами сделали если даже название старо...</td>\n      <td>Counter()</td>\n      <td>Ну что с нами сделали если даже название старо...</td>\n      <td>[]</td>\n      <td>Ну что с нами сделали если даже название старо...</td>\n      <td>[]</td>\n      <td>Ну что с нами сделали если даже название старо...</td>\n      <td>[]</td>\n      <td>set()</td>\n      <td>Ну что с нами сделали если даже название старо...</td>\n    </tr>\n    <tr>\n      <th>6086887</th>\n      <td>7184869</td>\n      <td>7339.0</td>\n      <td>2018-12-20 10:45:45+00:00</td>\n      <td>14655.0</td>\n      <td>NaN</td>\n      <td>PeerChannel(channel_id=1109403194)</td>\n      <td>NaN</td>\n      <td>Владимир Владимирович, мне кажется, не так пон...</td>\n      <td>text</td>\n      <td>NaN</td>\n      <td>...</td>\n      <td>Владимир Владимирович, мне кажется, не так пон...</td>\n      <td>Counter()</td>\n      <td>Владимир Владимирович, мне кажется, не так пон...</td>\n      <td>[]</td>\n      <td>Владимир Владимирович, мне кажется, не так пон...</td>\n      <td>[]</td>\n      <td>Владимир Владимирович, мне кажется, не так пон...</td>\n      <td>[]</td>\n      <td>set()</td>\n      <td>Владимир Владимирович, мне кажется, не так пон...</td>\n    </tr>\n    <tr>\n      <th>1036036</th>\n      <td>1230819</td>\n      <td>10020.0</td>\n      <td>2021-05-25 19:33:54+00:00</td>\n      <td>6257.0</td>\n      <td>NaN</td>\n      <td>PeerChannel(channel_id=1433731512)</td>\n      <td>NaN</td>\n      <td>Сколько всякой херни понаписали</td>\n      <td>text</td>\n      <td>NaN</td>\n      <td>...</td>\n      <td>Сколько всякой херни понаписали</td>\n      <td>Counter()</td>\n      <td>Сколько всякой херни понаписали</td>\n      <td>[]</td>\n      <td>Сколько всякой херни понаписали</td>\n      <td>[]</td>\n      <td>Сколько всякой херни понаписали</td>\n      <td>[]</td>\n      <td>set()</td>\n      <td>Сколько всякой херни понаписали</td>\n    </tr>\n    <tr>\n      <th>640616</th>\n      <td>745859</td>\n      <td>560.0</td>\n      <td>2019-12-11 16:04:06+00:00</td>\n      <td>14966.0</td>\n      <td>NaN</td>\n      <td>PeerChannel(channel_id=1079904535)</td>\n      <td>NaN</td>\n      <td>Вы наверняка слышали про профессорку Веру Афан...</td>\n      <td>text</td>\n      <td>NaN</td>\n      <td>...</td>\n      <td>Вы наверняка слышали про профессорку Веру Афан...</td>\n      <td>Counter()</td>\n      <td>Вы наверняка слышали про профессорку Веру Афан...</td>\n      <td>[]</td>\n      <td>Вы наверняка слышали про профессорку Веру Афан...</td>\n      <td>['veraafanasyeva', 'veraafanasyeva']</td>\n      <td>Вы наверняка слышали про профессорку Веру Афан...</td>\n      <td>[]</td>\n      <td>set()</td>\n      <td>Вы наверняка слышали про профессорку Веру Афан...</td>\n    </tr>\n    <tr>\n      <th>2067175</th>\n      <td>2538776</td>\n      <td>492.0</td>\n      <td>2017-08-15 15:04:38+00:00</td>\n      <td>4005.0</td>\n      <td>NaN</td>\n      <td>PeerChannel(channel_id=1100158992)</td>\n      <td>NaN</td>\n      <td>📹 Дерево убило 11 человек на празднике Богомат...</td>\n      <td>video</td>\n      <td>37.0</td>\n      <td>...</td>\n      <td>📹 Дерево убило 11 человек на празднике Богомат...</td>\n      <td>Counter({'📹': 1})</td>\n      <td>Дерево убило 11 человек на празднике Богомат...</td>\n      <td>[]</td>\n      <td>Дерево убило 11 человек на празднике Богомат...</td>\n      <td>[]</td>\n      <td>Дерево убило 11 человек на празднике Богоматер...</td>\n      <td>[]</td>\n      <td>set()</td>\n      <td>Дерево убило 11 человек на празднике Богоматер...</td>\n    </tr>\n  </tbody>\n</table>\n<p>5 rows × 26 columns</p>\n</div>"
     },
     "execution_count": 3,
     "metadata": {},
     "output_type": "execute_result"
    }
   ],
   "source": [
    "df_channels.sample(5)"
   ],
   "metadata": {
    "collapsed": false,
    "pycharm": {
     "name": "#%%\n"
    }
   }
  },
  {
   "cell_type": "code",
   "execution_count": 6,
   "outputs": [],
   "source": [
    "df_channels = df_channels.drop(columns=['views',\n",
    "                                        'reactions',\n",
    "                                        'to_id',\n",
    "                                        'fwd_from',\n",
    "                                        'type',\n",
    "                                        'duration',\n",
    "                                        'frw_from_title',\n",
    "                                        'frw_from_name',\n",
    "                                        'msg_entity',\n",
    "                                        'is_post',\n",
    "                                        'message_no_breaks',\n",
    "                                        'emojis',\n",
    "                                        'message_no_emoji',\n",
    "                                        'url_list',\n",
    "                                        'message_no_urls',\n",
    "                                        'mentions',\n",
    "                                        'message_no_mentions',\n",
    "                                        'quotes',\n",
    "                                        'hashtags',\n",
    "                                        'Unnamed: 0'])"
   ],
   "metadata": {
    "collapsed": false,
    "pycharm": {
     "name": "#%%\n"
    }
   }
  },
  {
   "cell_type": "code",
   "execution_count": 9,
   "outputs": [
    {
     "name": "stdout",
     "output_type": "stream",
     "text": [
      "CPU times: user 8 µs, sys: 51 µs, total: 59 µs\n",
      "Wall time: 168 µs\n"
     ]
    },
    {
     "data": {
      "text/plain": "Index(['id', 'date', 'message', 'channel_name', 'lang', 'message_no_hashtags'], dtype='object')"
     },
     "execution_count": 9,
     "metadata": {},
     "output_type": "execute_result"
    }
   ],
   "source": [
    "%%time\n",
    "df_channels.columns"
   ],
   "metadata": {
    "collapsed": false,
    "pycharm": {
     "name": "#%%\n"
    }
   }
  },
  {
   "cell_type": "code",
   "execution_count": 8,
   "outputs": [],
   "source": [
    "# df_channels.to_csv('/Users/katerynaburovova/PycharmProjects/dehumanization/datasets/df_channels_only_messages.csv')"
   ],
   "metadata": {
    "collapsed": false,
    "pycharm": {
     "name": "#%%\n"
    }
   }
  },
  {
   "cell_type": "code",
   "execution_count": null,
   "outputs": [],
   "source": [],
   "metadata": {
    "collapsed": false,
    "pycharm": {
     "name": "#%%\n"
    }
   }
  },
  {
   "cell_type": "markdown",
   "source": [
    "## Remove everything except letters and punctuation"
   ],
   "metadata": {
    "collapsed": false,
    "pycharm": {
     "name": "#%% md\n"
    }
   }
  },
  {
   "cell_type": "code",
   "execution_count": 10,
   "outputs": [],
   "source": [
    "from string import punctuation\n",
    "\n",
    "punctuation_minimal = \"!(),-.:;?%\"\n",
    "\n",
    "cyrillic_letters = u\"абвгдеёжзийклмнопрстуфхцчшщъыьэюяАБВГДЕЁЖЗИЙКЛМНОПРСТУФХЦЧШЩЪЫЬЭЮЯ\"\n",
    "latin_letters_numbers = \"1234567890abcdefghijklmnopqrstuvwxyzABCDEFGHIJKLMNOPQRSTUVWXYZ \"\n",
    "allowed_symbols = cyrillic_letters+latin_letters_numbers+punctuation_minimal\n"
   ],
   "metadata": {
    "collapsed": false,
    "pycharm": {
     "name": "#%%\n"
    }
   }
  },
  {
   "cell_type": "code",
   "execution_count": 11,
   "outputs": [
    {
     "data": {
      "text/plain": "'абвгдеёжзийклмнопрстуфхцчшщъыьэюяАБВГДЕЁЖЗИЙКЛМНОПРСТУФХЦЧШЩЪЫЬЭЮЯ1234567890abcdefghijklmnopqrstuvwxyzABCDEFGHIJKLMNOPQRSTUVWXYZ !(),-.:;?%'"
     },
     "execution_count": 11,
     "metadata": {},
     "output_type": "execute_result"
    }
   ],
   "source": [
    "allowed_symbols"
   ],
   "metadata": {
    "collapsed": false,
    "pycharm": {
     "name": "#%%\n"
    }
   }
  },
  {
   "cell_type": "code",
   "execution_count": 12,
   "outputs": [],
   "source": [
    "def clean_text(string, allowed_symbols=allowed_symbols):\n",
    "    getVals = list(filter(lambda x: x in allowed_symbols, string))\n",
    "    result = \"\".join(getVals)\n",
    "    result = re.sub(' +', ' ', result)\n",
    "\n",
    "    return result"
   ],
   "metadata": {
    "collapsed": false,
    "pycharm": {
     "name": "#%%\n"
    }
   }
  },
  {
   "cell_type": "code",
   "execution_count": 13,
   "outputs": [],
   "source": [
    "df_channels['message_no_hashtags'] = df_channels['message_no_hashtags'].astype(str)"
   ],
   "metadata": {
    "collapsed": false,
    "pycharm": {
     "name": "#%%\n"
    }
   }
  },
  {
   "cell_type": "code",
   "execution_count": null,
   "outputs": [],
   "source": [
    "%%time\n",
    "df_channels['message_clean'] = df_channels['message_no_hashtags'].apply(lambda x: clean_text(x))"
   ],
   "metadata": {
    "collapsed": false,
    "pycharm": {
     "name": "#%%\n",
     "is_executing": true
    }
   }
  },
  {
   "cell_type": "code",
   "execution_count": null,
   "outputs": [],
   "source": [
    "print(f' We have {len(df_channels[df_channels[\"message_clean\"]==\"\"])} ({100*len(df_channels[df_channels[\"message_clean\"]==\"\"])/len(df_channels):2f}%) empty clean messages')"
   ],
   "metadata": {
    "collapsed": false,
    "pycharm": {
     "name": "#%%\n"
    }
   }
  },
  {
   "cell_type": "code",
   "execution_count": null,
   "outputs": [],
   "source": [
    "print(f' We have {len(df_channels[df_channels[\"message_clean\"]!=\"\"])} ({100*len(df_channels[df_channels[\"message_clean\"]!=\"\"])/len(df_channels):2f}%) meaningful clean messages')"
   ],
   "metadata": {
    "collapsed": false,
    "pycharm": {
     "name": "#%%\n"
    }
   }
  },
  {
   "cell_type": "code",
   "execution_count": null,
   "outputs": [],
   "source": [
    "only_letters = cyrillic_letters+latin_letters_numbers"
   ],
   "metadata": {
    "collapsed": false,
    "pycharm": {
     "name": "#%%\n"
    }
   }
  },
  {
   "cell_type": "code",
   "execution_count": null,
   "outputs": [],
   "source": [
    "%%time\n",
    "df_channels['message_words_only_lower'] = df_channels['message_clean'].apply(lambda x: clean_text(x, allowed_symbols=only_letters).lower())"
   ],
   "metadata": {
    "collapsed": false,
    "pycharm": {
     "name": "#%%\n"
    }
   }
  },
  {
   "cell_type": "code",
   "execution_count": null,
   "outputs": [],
   "source": [
    "df_channels['message_words_only_lower'].sample(10).iloc[0]"
   ],
   "metadata": {
    "collapsed": false,
    "pycharm": {
     "name": "#%%\n"
    }
   }
  },
  {
   "cell_type": "markdown",
   "source": [
    "### The latest common date"
   ],
   "metadata": {
    "collapsed": false,
    "pycharm": {
     "name": "#%% md\n"
    }
   }
  },
  {
   "cell_type": "code",
   "execution_count": null,
   "outputs": [],
   "source": [
    "# Load the data into a pandas dataframe\n",
    "df = pd.read_csv('telegram_posts.csv')\n",
    "\n",
    "# Convert the date column to a datetime format\n",
    "df['date'] = pd.to_datetime(df['date'])\n",
    "\n",
    "# Group the dataframe by the channel column and find the minimum and maximum dates\n",
    "grouped = df.groupby('channel')['date'].agg(['min', 'max'])\n",
    "\n",
    "# Find the latest common post date\n",
    "latest_common_post_date = grouped['max'].min()\n",
    "\n",
    "print('The latest common post date is:', latest_common_post_date)\n"
   ],
   "metadata": {
    "collapsed": false,
    "pycharm": {
     "name": "#%%\n"
    }
   }
  },
  {
   "cell_type": "markdown",
   "source": [
    "# Approaches"
   ],
   "metadata": {
    "collapsed": false,
    "pycharm": {
     "name": "#%% md\n"
    }
   }
  },
  {
   "cell_type": "markdown",
   "source": [
    "## Spacy RU model"
   ],
   "metadata": {
    "collapsed": false,
    "pycharm": {
     "name": "#%% md\n"
    }
   }
  },
  {
   "cell_type": "code",
   "execution_count": null,
   "outputs": [],
   "source": [
    "import spacy\n",
    "from spacy.lang.ru.examples import sentences"
   ],
   "metadata": {
    "collapsed": false,
    "pycharm": {
     "name": "#%%\n"
    }
   }
  },
  {
   "cell_type": "code",
   "execution_count": null,
   "outputs": [],
   "source": [
    "#python3 -m spacy download ru_core_news_md"
   ],
   "metadata": {
    "collapsed": false,
    "pycharm": {
     "name": "#%%\n"
    }
   }
  },
  {
   "cell_type": "code",
   "execution_count": null,
   "outputs": [],
   "source": [
    "# spacy.util.set_data_path(\"/Users/katerynaburovova/PycharmProjects/dehumanization/lib/python3.10/site-packages/ru_core_news_md\")"
   ],
   "metadata": {
    "collapsed": false,
    "pycharm": {
     "name": "#%%\n"
    }
   }
  },
  {
   "cell_type": "code",
   "execution_count": null,
   "outputs": [],
   "source": [
    "nlp = spacy.load('ru_core_news_md')"
   ],
   "metadata": {
    "collapsed": false,
    "pycharm": {
     "name": "#%%\n"
    }
   }
  },
  {
   "cell_type": "code",
   "execution_count": 81,
   "outputs": [],
   "source": [
    "def tokenize_spacy(text):\n",
    "    doc = nlp(text)\n",
    "    result = []\n",
    "    for token in doc:\n",
    "        result.append([token.text, token.pos_, token.dep_, token.lemma_, token.morph])\n",
    "    return result"
   ],
   "metadata": {
    "collapsed": false,
    "pycharm": {
     "name": "#%%\n"
    }
   }
  },
  {
   "cell_type": "code",
   "execution_count": 82,
   "outputs": [
    {
     "data": {
      "text/plain": "[['Apple',\n  'PROPN',\n  'nsubj',\n  'apple',\n  Animacy=Inan|Case=Nom|Gender=Masc|Number=Sing],\n ['рассматривает',\n  'VERB',\n  'ROOT',\n  'рассматривать',\n  Aspect=Imp|Mood=Ind|Number=Sing|Person=Third|Tense=Pres|VerbForm=Fin|Voice=Act],\n ['возможность',\n  'NOUN',\n  'obj',\n  'возможность',\n  Animacy=Inan|Case=Acc|Gender=Fem|Number=Sing],\n ['покупки',\n  'NOUN',\n  'nmod',\n  'покупка',\n  Animacy=Inan|Case=Gen|Gender=Fem|Number=Sing],\n ['стартапа',\n  'NOUN',\n  'nmod',\n  'стартап',\n  Animacy=Inan|Case=Gen|Gender=Masc|Number=Sing],\n ['из', 'ADP', 'case', 'из', ],\n ['Соединённого',\n  'ADJ',\n  'amod',\n  'соединённого',\n  Case=Gen|Degree=Pos|Gender=Neut|Number=Sing],\n ['Королевства',\n  'PROPN',\n  'nmod',\n  'королевство',\n  Animacy=Inan|Case=Gen|Gender=Neut|Number=Sing],\n ['за', 'ADP', 'case', 'за', ],\n ['$', 'SYM', 'nmod', '$', ],\n ['1', 'NUM', 'appos', '1', ],\n ['млрд',\n  'NOUN',\n  'nmod',\n  'млрд',\n  Animacy=Inan|Case=Gen|Gender=Masc|Number=Sing]]"
     },
     "execution_count": 82,
     "metadata": {},
     "output_type": "execute_result"
    }
   ],
   "source": [
    "tokenize_spacy(sentences[0])"
   ],
   "metadata": {
    "collapsed": false,
    "pycharm": {
     "name": "#%%\n"
    }
   }
  },
  {
   "cell_type": "markdown",
   "source": [
    "## RAZDEL tokenization"
   ],
   "metadata": {
    "collapsed": false,
    "pycharm": {
     "name": "#%% md\n"
    }
   }
  },
  {
   "cell_type": "markdown",
   "source": [
    "Handles \"... - ... \" as one word (even for composite ones)"
   ],
   "metadata": {
    "collapsed": false,
    "pycharm": {
     "name": "#%% md\n"
    }
   }
  },
  {
   "cell_type": "code",
   "execution_count": 226,
   "outputs": [],
   "source": [
    "# from razdel import tokenize\n",
    "# def tokenize_razdel(text):\n",
    "#     return(list(tokenize(text)))"
   ],
   "metadata": {
    "collapsed": false,
    "pycharm": {
     "name": "#%%\n"
    }
   }
  },
  {
   "cell_type": "markdown",
   "source": [
    "## spacy_russian_tokenizer"
   ],
   "metadata": {
    "collapsed": false,
    "pycharm": {
     "name": "#%% md\n"
    }
   }
  },
  {
   "cell_type": "markdown",
   "source": [
    "https://github.com/aatimofeev/spacy_russian_tokenizer"
   ],
   "metadata": {
    "collapsed": false,
    "pycharm": {
     "name": "#%% md\n"
    }
   }
  },
  {
   "cell_type": "code",
   "execution_count": 342,
   "outputs": [
    {
     "ename": "TypeError",
     "evalue": "add() takes exactly 2 positional arguments (339 given)",
     "output_type": "error",
     "traceback": [
      "\u001B[0;31m---------------------------------------------------------------------------\u001B[0m",
      "\u001B[0;31mTypeError\u001B[0m                                 Traceback (most recent call last)",
      "Cell \u001B[0;32mIn [342], line 6\u001B[0m\n\u001B[1;32m      4\u001B[0m nlp \u001B[38;5;241m=\u001B[39m Russian()\n\u001B[1;32m      5\u001B[0m doc \u001B[38;5;241m=\u001B[39m nlp(text)\n\u001B[0;32m----> 6\u001B[0m russian_tokenizer \u001B[38;5;241m=\u001B[39m \u001B[43mRussianTokenizer\u001B[49m\u001B[43m(\u001B[49m\u001B[43mnlp\u001B[49m\u001B[43m,\u001B[49m\u001B[43m \u001B[49m\u001B[43mMERGE_PATTERNS\u001B[49m\u001B[43m)\u001B[49m\n\u001B[1;32m      7\u001B[0m nlp\u001B[38;5;241m.\u001B[39madd_pipe(russian_tokenizer, name\u001B[38;5;241m=\u001B[39m\u001B[38;5;124m'\u001B[39m\u001B[38;5;124mrussian_tokenizer\u001B[39m\u001B[38;5;124m'\u001B[39m)\n\u001B[1;32m      8\u001B[0m doc \u001B[38;5;241m=\u001B[39m nlp(text)\n",
      "File \u001B[0;32m~/PycharmProjects/dehumanization/lib/python3.10/site-packages/spacy_russian_tokenizer/__init__.py:17\u001B[0m, in \u001B[0;36mRussianTokenizer.__init__\u001B[0;34m(self, nlp, merge_patterns, terminal_patterns)\u001B[0m\n\u001B[1;32m     15\u001B[0m \u001B[38;5;28mself\u001B[39m\u001B[38;5;241m.\u001B[39msentence_terminal \u001B[38;5;241m=\u001B[39m nlp\u001B[38;5;241m.\u001B[39mvocab\u001B[38;5;241m.\u001B[39mstrings[\u001B[38;5;124m'\u001B[39m\u001B[38;5;124msentence_terminal\u001B[39m\u001B[38;5;124m'\u001B[39m]\n\u001B[1;32m     16\u001B[0m \u001B[38;5;28;01mif\u001B[39;00m merge_patterns:\n\u001B[0;32m---> 17\u001B[0m     \u001B[38;5;28;43mself\u001B[39;49m\u001B[38;5;241;43m.\u001B[39;49m\u001B[43mmatcher\u001B[49m\u001B[38;5;241;43m.\u001B[39;49m\u001B[43madd\u001B[49m\u001B[43m(\u001B[49m\u001B[38;5;28;43mself\u001B[39;49m\u001B[38;5;241;43m.\u001B[39;49m\u001B[43mtoken_merge\u001B[49m\u001B[43m,\u001B[49m\u001B[43m \u001B[49m\u001B[38;5;28;43;01mNone\u001B[39;49;00m\u001B[43m,\u001B[49m\u001B[43m \u001B[49m\u001B[38;5;241;43m*\u001B[39;49m\u001B[43mmerge_patterns\u001B[49m\u001B[43m)\u001B[49m\n\u001B[1;32m     18\u001B[0m \u001B[38;5;28;01mif\u001B[39;00m terminal_patterns:\n\u001B[1;32m     19\u001B[0m     \u001B[38;5;28mself\u001B[39m\u001B[38;5;241m.\u001B[39mmatcher\u001B[38;5;241m.\u001B[39madd(\u001B[38;5;28mself\u001B[39m\u001B[38;5;241m.\u001B[39msentence_terminal, \u001B[38;5;28;01mNone\u001B[39;00m, \u001B[38;5;241m*\u001B[39mterminal_patterns)\n",
      "File \u001B[0;32m~/PycharmProjects/dehumanization/lib/python3.10/site-packages/spacy/matcher/matcher.pyx:76\u001B[0m, in \u001B[0;36mspacy.matcher.matcher.Matcher.add\u001B[0;34m()\u001B[0m\n",
      "\u001B[0;31mTypeError\u001B[0m: add() takes exactly 2 positional arguments (339 given)"
     ]
    }
   ],
   "source": [
    "# from spacy.lang.ru import Russian\n",
    "# from spacy_russian_tokenizer import RussianTokenizer, MERGE_PATTERNS\n",
    "# text = \"Не ветер, а какой-то ураган!\"\n",
    "# nlp = Russian()\n",
    "# doc = nlp(text)\n",
    "# russian_tokenizer = RussianTokenizer(nlp, MERGE_PATTERNS)\n",
    "# nlp.add_pipe(russian_tokenizer, name='russian_tokenizer')\n",
    "# doc = nlp(text)\n",
    "# print([token.text for token in doc])"
   ],
   "metadata": {
    "collapsed": false,
    "pycharm": {
     "name": "#%%\n"
    }
   }
  },
  {
   "cell_type": "markdown",
   "source": [
    "## lang-uk"
   ],
   "metadata": {
    "collapsed": false,
    "pycharm": {
     "name": "#%% md\n"
    }
   }
  },
  {
   "cell_type": "markdown",
   "source": [
    "[не сабворд](https://github.com/lang-uk/ner-uk/blob/master/doc/tokenization.md)"
   ],
   "metadata": {
    "collapsed": false,
    "pycharm": {
     "name": "#%% md\n"
    }
   }
  },
  {
   "cell_type": "code",
   "execution_count": 83,
   "outputs": [],
   "source": [
    "# from tokenize_uk import tokenize_words\n",
    "# tokenize_words(text)\n"
   ],
   "metadata": {
    "collapsed": false,
    "pycharm": {
     "name": "#%%\n"
    }
   }
  },
  {
   "cell_type": "markdown",
   "source": [
    "## stanza\n"
   ],
   "metadata": {
    "collapsed": false,
    "pycharm": {
     "name": "#%% md\n"
    }
   }
  },
  {
   "cell_type": "code",
   "execution_count": 84,
   "outputs": [],
   "source": [
    "# import stanza\n",
    "# stanza.download('ru')\n"
   ],
   "metadata": {
    "collapsed": false,
    "pycharm": {
     "name": "#%%\n"
    }
   }
  },
  {
   "cell_type": "code",
   "execution_count": 85,
   "outputs": [],
   "source": [
    "# nlp_ru = stanza.Pipeline('ru', processors='tokenize')"
   ],
   "metadata": {
    "collapsed": false,
    "pycharm": {
     "name": "#%%\n"
    }
   }
  },
  {
   "cell_type": "code",
   "execution_count": 86,
   "outputs": [],
   "source": [
    "# def get_stanza_tokens(text):\n",
    "#     doc = nlp_ru(text)\n",
    "#     word_tokens = [token.text for sent in doc.sentences for token in sent.tokens]\n",
    "#     # result = [word for word in word_tokens if word not in stop_words_ru]\n",
    "#     return word_tokens"
   ],
   "metadata": {
    "collapsed": false,
    "pycharm": {
     "name": "#%%\n"
    }
   }
  },
  {
   "cell_type": "markdown",
   "source": [
    "## Subword (BPE?) BERT"
   ],
   "metadata": {
    "collapsed": false,
    "pycharm": {
     "name": "#%% md\n"
    }
   }
  },
  {
   "cell_type": "markdown",
   "source": [
    "Subword, but weird NER"
   ],
   "metadata": {
    "collapsed": false,
    "pycharm": {
     "name": "#%% md\n"
    }
   }
  },
  {
   "cell_type": "code",
   "execution_count": 87,
   "outputs": [],
   "source": [
    "# from transformers import AutoTokenizer, AutoModel"
   ],
   "metadata": {
    "collapsed": false,
    "pycharm": {
     "name": "#%%\n"
    }
   }
  },
  {
   "cell_type": "code",
   "execution_count": 88,
   "outputs": [],
   "source": [
    "# tokenizer = AutoTokenizer.from_pretrained(\"cointegrated/rubert-tiny2\")\n",
    "# model = AutoModel.from_pretrained(\"cointegrated/rubert-tiny2\")"
   ],
   "metadata": {
    "collapsed": false,
    "pycharm": {
     "name": "#%%\n"
    }
   }
  },
  {
   "cell_type": "code",
   "execution_count": 308,
   "outputs": [],
   "source": [
    "# # pip install transformers sentencepiece\n",
    "# import torch\n",
    "# from transformers import AutoTokenizer, AutoModel\n",
    "# tokenizer = AutoTokenizer.from_pretrained(\"cointegrated/rubert-tiny2\")\n",
    "# model = AutoModel.from_pretrained(\"cointegrated/rubert-tiny2\")\n",
    "# # model.cuda()  # uncomment it if you have a GPU\n",
    "#\n",
    "# def embed_bert_cls(text, model, tokenizer):\n",
    "#     t = tokenizer(text, padding=True, truncation=True, return_tensors='pt')\n",
    "#     with torch.no_grad():\n",
    "#         model_output = model(**{k: v.to(model.device) for k, v in t.items()})\n",
    "#     embeddings = model_output.last_hidden_state[:, 0, :]\n",
    "#     embeddings = torch.nn.functional.normalize(embeddings)\n",
    "#     return embeddings[0].cpu().numpy()\n",
    "#\n",
    "# print(embed_bert_cls('привет мир', model, tokenizer).shape)\n",
    "# # (312,)"
   ],
   "metadata": {
    "collapsed": false,
    "pycharm": {
     "name": "#%%\n"
    }
   }
  },
  {
   "cell_type": "code",
   "execution_count": 348,
   "outputs": [
    {
     "data": {
      "text/plain": "['[CLS]',\n '[UNK]',\n '11',\n '-',\n 'го',\n 'полка',\n 'гон',\n '##яют',\n 'танк',\n '[UNK]',\n '11',\n 'полк',\n 'Н',\n '##М',\n 'ДНР',\n 'продолжает',\n 'наносить',\n 'удары',\n 'по',\n 'противнику',\n 'в',\n 'Первомай',\n '##ском',\n '.',\n 'На',\n 'видео',\n 'танковый',\n 'батальон',\n 'под',\n 'командованием',\n 'Севера',\n 'бьет',\n 'по',\n 'позициям',\n 'ВСУ',\n ',',\n 'заодно',\n 'заставляя',\n 'мета',\n '##ться',\n 'и',\n 'спешно',\n 'удалять',\n '##ся',\n 'появи',\n '##вшийся',\n 'на',\n 'свою',\n 'беду',\n 'украинский',\n 'танк',\n '.',\n '@',\n 'war',\n '##gon',\n '##zo',\n '*',\n 'наш',\n 'проект',\n 'существует',\n 'на',\n 'средства',\n 'подписчиков',\n ',',\n 'карта',\n 'для',\n 'помощи',\n '427',\n '##9',\n '380',\n '##6',\n '984',\n '##2',\n '952',\n '##1',\n '[SEP]']"
     },
     "execution_count": 348,
     "metadata": {},
     "output_type": "execute_result"
    }
   ],
   "source": [
    "# def tokens_bert_cls(text, model, tokenizer):\n",
    "#     encoding = tokenizer.encode(text)\n",
    "#     return tokenizer.convert_ids_to_tokens(encoding)\n",
    "#\n",
    "# tokens_bert_cls(test_string, model, tokenizer)\n",
    "# # (312,)"
   ],
   "metadata": {
    "collapsed": false,
    "pycharm": {
     "name": "#%%\n"
    }
   }
  },
  {
   "cell_type": "code",
   "execution_count": 349,
   "outputs": [
    {
     "data": {
      "text/plain": "['[CLS]', 'Не', 'ветер', ',', 'а', 'какой', '-', 'то', 'ураган', '!', '[SEP]']"
     },
     "execution_count": 349,
     "metadata": {},
     "output_type": "execute_result"
    }
   ],
   "source": [
    "# tokens_bert_cls(text, model, tokenizer)"
   ],
   "metadata": {
    "collapsed": false,
    "pycharm": {
     "name": "#%%\n"
    }
   }
  },
  {
   "cell_type": "markdown",
   "source": [
    "## Execution time"
   ],
   "metadata": {
    "collapsed": false,
    "pycharm": {
     "name": "#%% md\n"
    }
   }
  },
  {
   "cell_type": "code",
   "execution_count": null,
   "outputs": [],
   "source": [
    "# df_test_sample = df_channels.sample(100000)"
   ],
   "metadata": {
    "collapsed": false,
    "pycharm": {
     "name": "#%%\n"
    }
   }
  },
  {
   "cell_type": "code",
   "execution_count": 353,
   "outputs": [
    {
     "name": "stdout",
     "output_type": "stream",
     "text": [
      "CPU times: user 19.5 s, sys: 1.02 s, total: 20.5 s\n",
      "Wall time: 21.1 s\n"
     ]
    }
   ],
   "source": [
    "# %%time\n",
    "# df_test_sample['spacy_tokens'] = df_test_sample['message'].apply(lambda x: tokenize_spacy(x))"
   ],
   "metadata": {
    "collapsed": false,
    "pycharm": {
     "name": "#%%\n"
    }
   }
  },
  {
   "cell_type": "code",
   "execution_count": 354,
   "outputs": [
    {
     "name": "stdout",
     "output_type": "stream",
     "text": [
      "CPU times: user 13 s, sys: 331 ms, total: 13.3 s\n",
      "Wall time: 13.5 s\n"
     ]
    }
   ],
   "source": [
    "# %%time\n",
    "# df_test_sample['bert_tokens'] = df_test_sample['message'].apply(lambda x: tokens_bert_cls(x, model, tokenizer))"
   ],
   "metadata": {
    "collapsed": false,
    "pycharm": {
     "name": "#%%\n"
    }
   }
  },
  {
   "cell_type": "code",
   "execution_count": 355,
   "outputs": [
    {
     "name": "stdout",
     "output_type": "stream",
     "text": [
      "CPU times: user 1.91 s, sys: 75.3 ms, total: 1.99 s\n",
      "Wall time: 2.02 s\n"
     ]
    }
   ],
   "source": [
    "# %%time\n",
    "# df_test_sample['lang_uk_tokens'] = df_test_sample['message'].apply(lambda x: tokenize_words(x))"
   ],
   "metadata": {
    "collapsed": false,
    "pycharm": {
     "name": "#%%\n"
    }
   }
  },
  {
   "cell_type": "code",
   "execution_count": 356,
   "outputs": [
    {
     "name": "stdout",
     "output_type": "stream",
     "text": [
      "CPU times: user 13.8 s, sys: 2.08 s, total: 15.9 s\n",
      "Wall time: 16.9 s\n"
     ]
    }
   ],
   "source": [
    "# %%time\n",
    "# df_test_sample['razdel_tokens'] = df_test_sample['message'].apply(lambda x: tokenize_razdel(x))"
   ],
   "metadata": {
    "collapsed": false,
    "pycharm": {
     "name": "#%%\n"
    }
   }
  },
  {
   "cell_type": "code",
   "execution_count": 374,
   "outputs": [
    {
     "name": "stdout",
     "output_type": "stream",
     "text": [
      "CPU times: user 2.81 s, sys: 234 ms, total: 3.05 s\n",
      "Wall time: 3.11 s\n"
     ]
    }
   ],
   "source": [
    "# %%time\n",
    "# df_test_sample['stanza_tokens'] = df_test_sample['message'].sample(100).apply(lambda x: get_stanza_tokens(x))"
   ],
   "metadata": {
    "collapsed": false,
    "pycharm": {
     "name": "#%%\n"
    }
   }
  },
  {
   "cell_type": "code",
   "execution_count": 375,
   "outputs": [
    {
     "name": "stdout",
     "output_type": "stream",
     "text": [
      "CPU times: user 40min 18s, sys: 2min 44s, total: 43min 2s\n",
      "Wall time: 45min\n"
     ]
    }
   ],
   "source": [
    "# %%time\n",
    "# df_test_sample['stanza_tokens'] = df_test_sample['message'].apply(lambda x: get_stanza_tokens(x))"
   ],
   "metadata": {
    "collapsed": false,
    "pycharm": {
     "name": "#%%\n"
    }
   }
  },
  {
   "cell_type": "code",
   "execution_count": 384,
   "outputs": [
    {
     "data": {
      "text/plain": "'Отправка по электронной почте 2_5325905093675979275.pdf'"
     },
     "execution_count": 384,
     "metadata": {},
     "output_type": "execute_result"
    }
   ],
   "source": [
    "# from random import randrange\n",
    "#\n",
    "# df_channels.message.iloc[randrange(len(df_channels))]"
   ],
   "metadata": {
    "collapsed": false,
    "pycharm": {
     "name": "#%%\n"
    }
   }
  },
  {
   "cell_type": "code",
   "execution_count": 401,
   "outputs": [
    {
     "name": "stdout",
     "output_type": "stream",
     "text": [
      "Сообщается о раненых в рядах турецких сил в результате подрыва мины на трассе М4 в провинции Идлиб. Турецкие вертолеты направляются к месту взрыва для эвакуации раненых.\n"
     ]
    },
    {
     "data": {
      "text/plain": "[['Сообщается', 'VERB', 'ROOT', 'сообщаться'],\n ['о', 'ADP', 'case', 'о'],\n ['раненых', 'NOUN', 'obl', 'раненый'],\n ['в', 'ADP', 'case', 'в'],\n ['рядах', 'NOUN', 'nmod', 'ряд'],\n ['турецких', 'ADJ', 'amod', 'турецкий'],\n ['сил', 'NOUN', 'nmod', 'сила'],\n ['в', 'ADP', 'case', 'в'],\n ['результате', 'NOUN', 'obl', 'результат'],\n ['подрыва', 'NOUN', 'nmod', 'подрыв'],\n ['мины', 'NOUN', 'nmod', 'мина'],\n ['на', 'ADP', 'case', 'на'],\n ['трассе', 'NOUN', 'nmod', 'трасса'],\n ['М4', 'PROPN', 'appos', 'м4'],\n ['в', 'ADP', 'case', 'в'],\n ['провинции', 'NOUN', 'nmod', 'провинция'],\n ['Идлиб', 'PROPN', 'appos', 'идлиб'],\n ['.', 'PUNCT', 'punct', '.'],\n ['Турецкие', 'ADJ', 'amod', 'турецкий'],\n ['вертолеты', 'NOUN', 'nsubj', 'вертолёт'],\n ['направляются', 'VERB', 'ROOT', 'направляться'],\n ['к', 'ADP', 'case', 'к'],\n ['месту', 'NOUN', 'obl', 'место'],\n ['взрыва', 'NOUN', 'nmod', 'взрыв'],\n ['для', 'ADP', 'case', 'для'],\n ['эвакуации', 'NOUN', 'nmod', 'эвакуация'],\n ['раненых', 'NOUN', 'nmod', 'раненый'],\n ['.', 'PUNCT', 'punct', '.']]"
     },
     "execution_count": 401,
     "metadata": {},
     "output_type": "execute_result"
    }
   ],
   "source": [
    "# rnd_text = df_channels.message.iloc[randrange(len(df_channels))]\n",
    "# print(rnd_text)\n",
    "#\n",
    "# tokenize_spacy(rnd_text)"
   ],
   "metadata": {
    "collapsed": false,
    "pycharm": {
     "name": "#%%\n"
    }
   }
  },
  {
   "cell_type": "markdown",
   "source": [
    "# Tokenization and lemmatization"
   ],
   "metadata": {
    "collapsed": false,
    "pycharm": {
     "name": "#%% md\n"
    }
   }
  },
  {
   "cell_type": "code",
   "execution_count": 89,
   "outputs": [],
   "source": [
    "def tokenize_spacy(text):\n",
    "    doc = nlp(text)\n",
    "    result = []\n",
    "    for token in doc:\n",
    "        result.append([token.text, token.pos_, token.dep_, token.lemma_, token.morph])\n",
    "    return result"
   ],
   "metadata": {
    "collapsed": false,
    "pycharm": {
     "name": "#%%\n"
    }
   }
  },
  {
   "cell_type": "code",
   "execution_count": 114,
   "outputs": [],
   "source": [
    "def get_lemmas(text):\n",
    "    doc = nlp(text)\n",
    "    result = []\n",
    "    for token in doc:\n",
    "        result.append([token.lemma_])\n",
    "    return result"
   ],
   "metadata": {
    "collapsed": false,
    "pycharm": {
     "name": "#%%\n"
    }
   }
  },
  {
   "cell_type": "code",
   "execution_count": 104,
   "outputs": [],
   "source": [
    "df_sample = df_channels.sample(1000)"
   ],
   "metadata": {
    "collapsed": false,
    "pycharm": {
     "name": "#%%\n"
    }
   }
  },
  {
   "cell_type": "code",
   "execution_count": 1,
   "outputs": [
    {
     "ename": "NameError",
     "evalue": "name 'df_sample' is not defined",
     "output_type": "error",
     "traceback": [
      "\u001B[0;31m---------------------------------------------------------------------------\u001B[0m",
      "\u001B[0;31mNameError\u001B[0m                                 Traceback (most recent call last)",
      "File \u001B[0;32m<timed exec>:1\u001B[0m\n",
      "\u001B[0;31mNameError\u001B[0m: name 'df_sample' is not defined"
     ]
    }
   ],
   "source": [
    "%%time\n",
    "df_sample['tokens'] = df_sample['message_words_only_lower'].apply(lambda x: tokenize_spacy(x))"
   ],
   "metadata": {
    "collapsed": false,
    "pycharm": {
     "name": "#%%\n"
    }
   }
  },
  {
   "cell_type": "code",
   "execution_count": 108,
   "outputs": [
    {
     "data": {
      "text/plain": "'президент россии владимир путин наградил бориса грызлова орденом за заслуги перед отечеством i степени орден вручен за выдающиеся заслуги в укреплении российской государственности и реализации внешнеполитического курса страны также основанием для награды послужили его значительный вклад в развитие обороннопромышленного комплекса россии и многолетняя добросовестная работа'"
     },
     "execution_count": 108,
     "metadata": {},
     "output_type": "execute_result"
    }
   ],
   "source": [
    "df_sample['message_words_only_lower'].iloc[536]"
   ],
   "metadata": {
    "collapsed": false,
    "pycharm": {
     "name": "#%%\n"
    }
   }
  },
  {
   "cell_type": "code",
   "execution_count": 109,
   "outputs": [
    {
     "data": {
      "text/plain": "[['президент',\n  'NOUN',\n  'nsubj',\n  'президент',\n  Animacy=Anim|Case=Nom|Gender=Masc|Number=Sing],\n ['россии',\n  'PROPN',\n  'nmod',\n  'россия',\n  Animacy=Inan|Case=Gen|Gender=Fem|Number=Sing],\n ['владимир',\n  'PROPN',\n  'appos',\n  'владимир',\n  Animacy=Anim|Case=Nom|Gender=Masc|Number=Sing],\n ['путин',\n  'PROPN',\n  'flat:name',\n  'путин',\n  Animacy=Anim|Case=Nom|Gender=Masc|Number=Sing],\n ['наградил',\n  'VERB',\n  'ROOT',\n  'наградить',\n  Aspect=Perf|Gender=Masc|Mood=Ind|Number=Sing|Tense=Past|VerbForm=Fin|Voice=Act],\n ['бориса',\n  'PROPN',\n  'obj',\n  'борис',\n  Animacy=Anim|Case=Acc|Gender=Masc|Number=Sing],\n ['грызлова',\n  'PROPN',\n  'flat:name',\n  'грызлов',\n  Animacy=Anim|Case=Acc|Gender=Masc|Number=Sing],\n ['орденом',\n  'NOUN',\n  'xcomp',\n  'орден',\n  Animacy=Inan|Case=Ins|Gender=Masc|Number=Sing],\n ['за', 'ADP', 'case', 'за', ],\n ['заслуги',\n  'NOUN',\n  'obl',\n  'заслуга',\n  Animacy=Inan|Case=Acc|Gender=Fem|Number=Plur],\n ['перед', 'ADP', 'case', 'перед', ],\n ['отечеством',\n  'NOUN',\n  'nmod',\n  'отечество',\n  Animacy=Inan|Case=Ins|Gender=Neut|Number=Sing],\n ['i', 'ADJ', 'amod', 'i', ],\n ['степени',\n  'NOUN',\n  'nmod',\n  'степень',\n  Animacy=Inan|Case=Gen|Gender=Fem|Number=Sing],\n ['орден',\n  'NOUN',\n  'nsubj:pass',\n  'орден',\n  Animacy=Inan|Case=Nom|Gender=Masc|Number=Sing],\n ['вручен',\n  'VERB',\n  'conj',\n  'вручить',\n  Aspect=Perf|Gender=Masc|Number=Sing|StyleVariant=Short|Tense=Past|VerbForm=Part|Voice=Pass],\n ['за', 'ADP', 'case', 'за', ],\n ['выдающиеся',\n  'ADJ',\n  'amod',\n  'выдающийся',\n  Animacy=Inan|Case=Acc|Degree=Pos|Number=Plur],\n ['заслуги',\n  'NOUN',\n  'obl',\n  'заслуга',\n  Animacy=Inan|Case=Acc|Gender=Fem|Number=Plur],\n ['в', 'ADP', 'case', 'в', ],\n ['укреплении',\n  'NOUN',\n  'nmod',\n  'укрепление',\n  Animacy=Inan|Case=Loc|Gender=Neut|Number=Sing],\n ['российской',\n  'ADJ',\n  'amod',\n  'российский',\n  Case=Gen|Degree=Pos|Gender=Fem|Number=Sing],\n ['государственности',\n  'NOUN',\n  'nmod',\n  'государственность',\n  Animacy=Inan|Case=Gen|Gender=Fem|Number=Sing],\n ['и', 'CCONJ', 'cc', 'и', ],\n ['реализации',\n  'NOUN',\n  'conj',\n  'реализация',\n  Animacy=Inan|Case=Gen|Gender=Fem|Number=Sing],\n ['внешнеполитического',\n  'ADJ',\n  'amod',\n  'внешнеполитический',\n  Case=Gen|Degree=Pos|Gender=Masc|Number=Sing],\n ['курса',\n  'NOUN',\n  'nmod',\n  'курс',\n  Animacy=Inan|Case=Gen|Gender=Masc|Number=Sing],\n ['страны',\n  'NOUN',\n  'nmod',\n  'страна',\n  Animacy=Inan|Case=Gen|Gender=Fem|Number=Sing],\n ['также', 'ADV', 'advmod', 'также', Degree=Pos],\n ['основанием',\n  'NOUN',\n  'obl',\n  'основание',\n  Animacy=Inan|Case=Ins|Gender=Neut|Number=Sing],\n ['для', 'ADP', 'case', 'для', ],\n ['награды',\n  'NOUN',\n  'nmod',\n  'награда',\n  Animacy=Inan|Case=Gen|Gender=Fem|Number=Sing],\n ['послужили',\n  'VERB',\n  'conj',\n  'послужить',\n  Aspect=Perf|Mood=Ind|Number=Plur|Tense=Past|VerbForm=Fin|Voice=Act],\n ['его', 'DET', 'det', 'его', ],\n ['значительный',\n  'ADJ',\n  'amod',\n  'значительный',\n  Case=Nom|Degree=Pos|Gender=Masc|Number=Sing],\n ['вклад',\n  'NOUN',\n  'nsubj',\n  'вклад',\n  Animacy=Inan|Case=Nom|Gender=Masc|Number=Sing],\n ['в', 'ADP', 'case', 'в', ],\n ['развитие',\n  'NOUN',\n  'nmod',\n  'развитие',\n  Animacy=Inan|Case=Acc|Gender=Neut|Number=Sing],\n ['обороннопромышленного',\n  'ADJ',\n  'amod',\n  'обороннопромышленного',\n  Case=Gen|Degree=Pos|Gender=Masc|Number=Sing],\n ['комплекса',\n  'NOUN',\n  'nmod',\n  'комплекс',\n  Animacy=Inan|Case=Gen|Gender=Masc|Number=Sing],\n ['россии',\n  'PROPN',\n  'nmod',\n  'россия',\n  Animacy=Inan|Case=Gen|Gender=Fem|Number=Sing],\n ['и', 'CCONJ', 'cc', 'и', ],\n ['многолетняя',\n  'ADJ',\n  'amod',\n  'многолетний',\n  Case=Nom|Degree=Pos|Gender=Fem|Number=Sing],\n ['добросовестная',\n  'ADJ',\n  'amod',\n  'добросовестный',\n  Case=Nom|Degree=Pos|Gender=Fem|Number=Sing],\n ['работа',\n  'NOUN',\n  'conj',\n  'работа',\n  Animacy=Inan|Case=Nom|Gender=Fem|Number=Sing]]"
     },
     "execution_count": 109,
     "metadata": {},
     "output_type": "execute_result"
    }
   ],
   "source": [
    "df_sample['tokens'].iloc[536]"
   ],
   "metadata": {
    "collapsed": false,
    "pycharm": {
     "name": "#%%\n"
    }
   }
  },
  {
   "cell_type": "code",
   "execution_count": 115,
   "outputs": [
    {
     "name": "stdout",
     "output_type": "stream",
     "text": [
      "CPU times: user 16.8 s, sys: 433 ms, total: 17.2 s\n",
      "Wall time: 19.1 s\n"
     ]
    }
   ],
   "source": [
    "%%time\n",
    "df_sample['lemmas'] = df_sample['message_words_only_lower'].apply(lambda x: get_lemmas(x))"
   ],
   "metadata": {
    "collapsed": false,
    "pycharm": {
     "name": "#%%\n"
    }
   }
  },
  {
   "cell_type": "code",
   "execution_count": 126,
   "outputs": [
    {
     "data": {
      "text/plain": "[['как', 'SCONJ', 'mark', 'как', ],\n ['показало',\n  'VERB',\n  'parataxis',\n  'показать',\n  Aspect=Perf|Gender=Neut|Mood=Ind|Number=Sing|Tense=Past|VerbForm=Fin|Voice=Act],\n ['исследование',\n  'NOUN',\n  'nsubj',\n  'исследование',\n  Animacy=Inan|Case=Nom|Gender=Neut|Number=Sing],\n ['statista', 'X', 'appos', 'statista', Foreign=Yes],\n ['global', 'X', 'flat:foreign', 'global', Foreign=Yes],\n ['consumer', 'X', 'flat:foreign', 'consumer', Foreign=Yes],\n ['survey', 'X', 'flat:foreign', 'survey', Foreign=Yes],\n ['почти', 'ADV', 'advmod', 'почти', Degree=Pos],\n ['каждый', 'DET', 'det', 'каждый', Case=Nom|Gender=Masc|Number=Sing],\n ['пятый',\n  'ADJ',\n  'amod',\n  'пятый',\n  Case=Nom|Degree=Pos|Gender=Masc|Number=Sing],\n ['респондент',\n  'NOUN',\n  'nsubj',\n  'респондент',\n  Animacy=Anim|Case=Nom|Gender=Masc|Number=Sing],\n ['из', 'ADP', 'case', 'из', ],\n ['великобритании',\n  'PROPN',\n  'nmod',\n  'великобритания',\n  Animacy=Inan|Case=Gen|Gender=Fem|Number=Sing],\n ['18', 'NUM', 'appos', '18', ],\n ['обычно', 'ADV', 'advmod', 'обычно', Degree=Pos],\n ['страдает',\n  'VERB',\n  'ROOT',\n  'страдать',\n  Aspect=Imp|Mood=Ind|Number=Sing|Person=Third|Tense=Pres|VerbForm=Fin|Voice=Act],\n ['от', 'ADP', 'case', 'от', ],\n ['похмелья',\n  'NOUN',\n  'obl',\n  'похмелие',\n  Animacy=Inan|Case=Gen|Gender=Neut|Number=Sing],\n ['на', 'ADP', 'case', 'на', ],\n ['следующее',\n  'ADJ',\n  'amod',\n  'следующий',\n  Animacy=Inan|Case=Acc|Degree=Pos|Gender=Neut|Number=Sing],\n ['утро',\n  'NOUN',\n  'obl',\n  'утро',\n  Animacy=Inan|Case=Acc|Gender=Neut|Number=Sing],\n ['после', 'ADP', 'case', 'после', ],\n ['приема',\n  'NOUN',\n  'obl',\n  'приём',\n  Animacy=Inan|Case=Gen|Gender=Masc|Number=Sing],\n ['алкоголя',\n  'NOUN',\n  'nmod',\n  'алкоголь',\n  Animacy=Inan|Case=Gen|Gender=Masc|Number=Sing],\n ['таким', 'DET', 'det', 'такой', Case=Ins|Gender=Masc|Number=Sing],\n ['образом',\n  'NOUN',\n  'obl',\n  'образ',\n  Animacy=Inan|Case=Ins|Gender=Masc|Number=Sing],\n ['британцы',\n  'NOUN',\n  'nsubj',\n  'британец',\n  Animacy=Anim|Case=Nom|Gender=Masc|Number=Plur],\n ['оказались',\n  'VERB',\n  'conj',\n  'оказаться',\n  Aspect=Perf|Mood=Ind|Number=Plur|Tense=Past|VerbForm=Fin|Voice=Mid],\n ['наиболее', 'ADV', 'advmod', 'наиболее', Degree=Pos],\n ['подвержены',\n  'ADJ',\n  'xcomp',\n  'подверженный',\n  Degree=Pos|Number=Plur|StyleVariant=Short],\n ['этому', 'DET', 'det', 'этот', Case=Dat|Gender=Masc|Number=Sing],\n ['недугу',\n  'NOUN',\n  'iobj',\n  'недуг',\n  Animacy=Inan|Case=Dat|Gender=Masc|Number=Sing],\n ['среди', 'ADP', 'case', 'среди', ],\n ['жителей',\n  'NOUN',\n  'obl',\n  'житель',\n  Animacy=Anim|Case=Gen|Gender=Masc|Number=Plur],\n ['восьми', 'NUM', 'nummod', 'восемь', Case=Gen],\n ['стран',\n  'NOUN',\n  'nmod',\n  'страна',\n  Animacy=Inan|Case=Gen|Gender=Fem|Number=Plur],\n ['участвовавших',\n  'VERB',\n  'amod',\n  'участвовать',\n  Aspect=Imp|Case=Gen|Number=Plur|Tense=Past|VerbForm=Part|Voice=Act],\n ['в', 'ADP', 'case', 'в', ],\n ['исследовании',\n  'NOUN',\n  'obl',\n  'исследование',\n  Animacy=Inan|Case=Loc|Gender=Neut|Number=Sing]]"
     },
     "execution_count": 126,
     "metadata": {},
     "output_type": "execute_result"
    }
   ],
   "source": [
    "df_sample['tokens'].iloc[536]\n"
   ],
   "metadata": {
    "collapsed": false,
    "pycharm": {
     "name": "#%%\n"
    }
   }
  },
  {
   "cell_type": "code",
   "execution_count": 124,
   "outputs": [
    {
     "data": {
      "text/plain": "[['как'],\n ['показать'],\n ['исследование'],\n ['statista'],\n ['global'],\n ['consumer'],\n ['survey'],\n ['почти'],\n ['каждый'],\n ['пятый'],\n ['респондент'],\n ['из'],\n ['великобритания'],\n ['18'],\n ['обычно'],\n ['страдать'],\n ['от'],\n ['похмелие'],\n ['на'],\n ['следующий'],\n ['утро'],\n ['после'],\n ['приём'],\n ['алкоголь'],\n ['такой'],\n ['образ'],\n ['британец'],\n ['оказаться'],\n ['наиболее'],\n ['подверженный'],\n ['этот'],\n ['недуг'],\n ['среди'],\n ['житель'],\n ['восемь'],\n ['страна'],\n ['участвовать'],\n ['в'],\n ['исследование']]"
     },
     "execution_count": 124,
     "metadata": {},
     "output_type": "execute_result"
    }
   ],
   "source": [
    "df_sample['lemmas'].iloc[45]"
   ],
   "metadata": {
    "collapsed": false,
    "pycharm": {
     "name": "#%%\n"
    }
   }
  },
  {
   "cell_type": "code",
   "execution_count": 125,
   "outputs": [
    {
     "data": {
      "text/plain": "'блумберг администрация байдена подталкивает союзников ес к завершению разработки широкого пакета санкций против российских банков и энергетических компаний которые могут быть введены совместно с сша если кремль нападет на украину некоторые потенциальные шаги из списка такие как отключение россии от платежной системы swift считаются крайне проблематичными сказали собеседники агентства ссылаясь на потенциальное нарушение работы мировых рынков энергоносителей и других товаров российского экспорта еще одним предметом беспокойства является перспектива того что путин может прекратить экспорт газа россия обеспечивает около 40 поставок в европу в сухом остатке план что и говорить был превосходный простой и ясный лучше не придумать недостаток у него был только один было совершенно неизвестно как привести его в исполнение'"
     },
     "execution_count": 125,
     "metadata": {},
     "output_type": "execute_result"
    }
   ],
   "source": [
    "df_sample['message_words_only_lower'].iloc[56]"
   ],
   "metadata": {
    "collapsed": false,
    "pycharm": {
     "name": "#%%\n"
    }
   }
  },
  {
   "cell_type": "code",
   "execution_count": 127,
   "outputs": [],
   "source": [
    "def get_lemma_vec(text):\n",
    "    doc = nlp(text)\n",
    "    result = []\n",
    "    for token in doc:\n",
    "        result.append([token.lemma])\n",
    "    return result"
   ],
   "metadata": {
    "collapsed": false,
    "pycharm": {
     "name": "#%%\n"
    }
   }
  },
  {
   "cell_type": "code",
   "execution_count": 141,
   "outputs": [
    {
     "data": {
      "text/plain": "[['хохляцкого',\n  'ADJ',\n  'ROOT',\n  'хохляцкого',\n  Animacy=Anim|Case=Acc|Degree=Pos|Gender=Masc|Number=Sing]]"
     },
     "execution_count": 141,
     "metadata": {},
     "output_type": "execute_result"
    }
   ],
   "source": [
    "tokenize_spacy('хохляцкого')\n"
   ],
   "metadata": {
    "collapsed": false,
    "pycharm": {
     "name": "#%%\n"
    }
   }
  },
  {
   "cell_type": "markdown",
   "source": [
    "# OOV handling"
   ],
   "metadata": {
    "collapsed": false,
    "pycharm": {
     "name": "#%% md\n"
    }
   }
  },
  {
   "cell_type": "markdown",
   "source": [
    "https://spacy.io/usage/processing-pipelines#custom-components-user-hooks"
   ],
   "metadata": {
    "collapsed": false,
    "pycharm": {
     "name": "#%% md\n"
    }
   }
  },
  {
   "cell_type": "markdown",
   "source": [
    "should we add a hook that returns zero vectors for OOV terms?"
   ],
   "metadata": {
    "collapsed": false,
    "pycharm": {
     "name": "#%% md\n"
    }
   }
  },
  {
   "cell_type": "code",
   "execution_count": 135,
   "outputs": [
    {
     "name": "stderr",
     "output_type": "stream",
     "text": [
      "\n",
      "KeyboardInterrupt\n",
      "\n"
     ]
    }
   ],
   "source": [
    "%%time\n",
    "df_channels['lemmas'] = df_channels['message_words_only_lower'].apply(lambda x: get_lemmas(x))"
   ],
   "metadata": {
    "collapsed": false,
    "pycharm": {
     "name": "#%%\n"
    }
   }
  },
  {
   "cell_type": "code",
   "execution_count": 136,
   "outputs": [
    {
     "ename": "KeyboardInterrupt",
     "evalue": "",
     "output_type": "error",
     "traceback": [
      "\u001B[0;31m---------------------------------------------------------------------------\u001B[0m",
      "\u001B[0;31mKeyboardInterrupt\u001B[0m                         Traceback (most recent call last)",
      "File \u001B[0;32m<timed exec>:1\u001B[0m\n",
      "File \u001B[0;32m~/PycharmProjects/dehumanization/lib/python3.10/site-packages/pandas/core/series.py:4771\u001B[0m, in \u001B[0;36mSeries.apply\u001B[0;34m(self, func, convert_dtype, args, **kwargs)\u001B[0m\n\u001B[1;32m   4661\u001B[0m \u001B[38;5;28;01mdef\u001B[39;00m \u001B[38;5;21mapply\u001B[39m(\n\u001B[1;32m   4662\u001B[0m     \u001B[38;5;28mself\u001B[39m,\n\u001B[1;32m   4663\u001B[0m     func: AggFuncType,\n\u001B[0;32m   (...)\u001B[0m\n\u001B[1;32m   4666\u001B[0m     \u001B[38;5;241m*\u001B[39m\u001B[38;5;241m*\u001B[39mkwargs,\n\u001B[1;32m   4667\u001B[0m ) \u001B[38;5;241m-\u001B[39m\u001B[38;5;241m>\u001B[39m DataFrame \u001B[38;5;241m|\u001B[39m Series:\n\u001B[1;32m   4668\u001B[0m     \u001B[38;5;124;03m\"\"\"\u001B[39;00m\n\u001B[1;32m   4669\u001B[0m \u001B[38;5;124;03m    Invoke function on values of Series.\u001B[39;00m\n\u001B[1;32m   4670\u001B[0m \n\u001B[0;32m   (...)\u001B[0m\n\u001B[1;32m   4769\u001B[0m \u001B[38;5;124;03m    dtype: float64\u001B[39;00m\n\u001B[1;32m   4770\u001B[0m \u001B[38;5;124;03m    \"\"\"\u001B[39;00m\n\u001B[0;32m-> 4771\u001B[0m     \u001B[38;5;28;01mreturn\u001B[39;00m \u001B[43mSeriesApply\u001B[49m\u001B[43m(\u001B[49m\u001B[38;5;28;43mself\u001B[39;49m\u001B[43m,\u001B[49m\u001B[43m \u001B[49m\u001B[43mfunc\u001B[49m\u001B[43m,\u001B[49m\u001B[43m \u001B[49m\u001B[43mconvert_dtype\u001B[49m\u001B[43m,\u001B[49m\u001B[43m \u001B[49m\u001B[43margs\u001B[49m\u001B[43m,\u001B[49m\u001B[43m \u001B[49m\u001B[43mkwargs\u001B[49m\u001B[43m)\u001B[49m\u001B[38;5;241;43m.\u001B[39;49m\u001B[43mapply\u001B[49m\u001B[43m(\u001B[49m\u001B[43m)\u001B[49m\n",
      "File \u001B[0;32m~/PycharmProjects/dehumanization/lib/python3.10/site-packages/pandas/core/apply.py:1105\u001B[0m, in \u001B[0;36mSeriesApply.apply\u001B[0;34m(self)\u001B[0m\n\u001B[1;32m   1102\u001B[0m     \u001B[38;5;28;01mreturn\u001B[39;00m \u001B[38;5;28mself\u001B[39m\u001B[38;5;241m.\u001B[39mapply_str()\n\u001B[1;32m   1104\u001B[0m \u001B[38;5;66;03m# self.f is Callable\u001B[39;00m\n\u001B[0;32m-> 1105\u001B[0m \u001B[38;5;28;01mreturn\u001B[39;00m \u001B[38;5;28;43mself\u001B[39;49m\u001B[38;5;241;43m.\u001B[39;49m\u001B[43mapply_standard\u001B[49m\u001B[43m(\u001B[49m\u001B[43m)\u001B[49m\n",
      "File \u001B[0;32m~/PycharmProjects/dehumanization/lib/python3.10/site-packages/pandas/core/apply.py:1155\u001B[0m, in \u001B[0;36mSeriesApply.apply_standard\u001B[0;34m(self)\u001B[0m\n\u001B[1;32m   1153\u001B[0m         mapped \u001B[38;5;241m=\u001B[39m obj\u001B[38;5;241m.\u001B[39m_values\u001B[38;5;241m.\u001B[39mmap(f)\n\u001B[1;32m   1154\u001B[0m     \u001B[38;5;28;01melse\u001B[39;00m:\n\u001B[0;32m-> 1155\u001B[0m         values \u001B[38;5;241m=\u001B[39m \u001B[43mobj\u001B[49m\u001B[38;5;241;43m.\u001B[39;49m\u001B[43mastype\u001B[49m\u001B[43m(\u001B[49m\u001B[38;5;28;43mobject\u001B[39;49m\u001B[43m)\u001B[49m\u001B[38;5;241m.\u001B[39m_values\n\u001B[1;32m   1156\u001B[0m         mapped \u001B[38;5;241m=\u001B[39m lib\u001B[38;5;241m.\u001B[39mmap_infer(\n\u001B[1;32m   1157\u001B[0m             values,\n\u001B[1;32m   1158\u001B[0m             f,\n\u001B[1;32m   1159\u001B[0m             convert\u001B[38;5;241m=\u001B[39m\u001B[38;5;28mself\u001B[39m\u001B[38;5;241m.\u001B[39mconvert_dtype,\n\u001B[1;32m   1160\u001B[0m         )\n\u001B[1;32m   1162\u001B[0m \u001B[38;5;28;01mif\u001B[39;00m \u001B[38;5;28mlen\u001B[39m(mapped) \u001B[38;5;129;01mand\u001B[39;00m \u001B[38;5;28misinstance\u001B[39m(mapped[\u001B[38;5;241m0\u001B[39m], ABCSeries):\n\u001B[1;32m   1163\u001B[0m     \u001B[38;5;66;03m# GH#43986 Need to do list(mapped) in order to get treated as nested\u001B[39;00m\n\u001B[1;32m   1164\u001B[0m     \u001B[38;5;66;03m#  See also GH#25959 regarding EA support\u001B[39;00m\n",
      "File \u001B[0;32m~/PycharmProjects/dehumanization/lib/python3.10/site-packages/pandas/core/generic.py:6240\u001B[0m, in \u001B[0;36mNDFrame.astype\u001B[0;34m(self, dtype, copy, errors)\u001B[0m\n\u001B[1;32m   6233\u001B[0m     results \u001B[38;5;241m=\u001B[39m [\n\u001B[1;32m   6234\u001B[0m         \u001B[38;5;28mself\u001B[39m\u001B[38;5;241m.\u001B[39miloc[:, i]\u001B[38;5;241m.\u001B[39mastype(dtype, copy\u001B[38;5;241m=\u001B[39mcopy)\n\u001B[1;32m   6235\u001B[0m         \u001B[38;5;28;01mfor\u001B[39;00m i \u001B[38;5;129;01min\u001B[39;00m \u001B[38;5;28mrange\u001B[39m(\u001B[38;5;28mlen\u001B[39m(\u001B[38;5;28mself\u001B[39m\u001B[38;5;241m.\u001B[39mcolumns))\n\u001B[1;32m   6236\u001B[0m     ]\n\u001B[1;32m   6238\u001B[0m \u001B[38;5;28;01melse\u001B[39;00m:\n\u001B[1;32m   6239\u001B[0m     \u001B[38;5;66;03m# else, only a single dtype is given\u001B[39;00m\n\u001B[0;32m-> 6240\u001B[0m     new_data \u001B[38;5;241m=\u001B[39m \u001B[38;5;28;43mself\u001B[39;49m\u001B[38;5;241;43m.\u001B[39;49m\u001B[43m_mgr\u001B[49m\u001B[38;5;241;43m.\u001B[39;49m\u001B[43mastype\u001B[49m\u001B[43m(\u001B[49m\u001B[43mdtype\u001B[49m\u001B[38;5;241;43m=\u001B[39;49m\u001B[43mdtype\u001B[49m\u001B[43m,\u001B[49m\u001B[43m \u001B[49m\u001B[43mcopy\u001B[49m\u001B[38;5;241;43m=\u001B[39;49m\u001B[43mcopy\u001B[49m\u001B[43m,\u001B[49m\u001B[43m \u001B[49m\u001B[43merrors\u001B[49m\u001B[38;5;241;43m=\u001B[39;49m\u001B[43merrors\u001B[49m\u001B[43m)\u001B[49m\n\u001B[1;32m   6241\u001B[0m     \u001B[38;5;28;01mreturn\u001B[39;00m \u001B[38;5;28mself\u001B[39m\u001B[38;5;241m.\u001B[39m_constructor(new_data)\u001B[38;5;241m.\u001B[39m__finalize__(\u001B[38;5;28mself\u001B[39m, method\u001B[38;5;241m=\u001B[39m\u001B[38;5;124m\"\u001B[39m\u001B[38;5;124mastype\u001B[39m\u001B[38;5;124m\"\u001B[39m)\n\u001B[1;32m   6243\u001B[0m \u001B[38;5;66;03m# GH 33113: handle empty frame or series\u001B[39;00m\n",
      "File \u001B[0;32m~/PycharmProjects/dehumanization/lib/python3.10/site-packages/pandas/core/internals/managers.py:445\u001B[0m, in \u001B[0;36mBaseBlockManager.astype\u001B[0;34m(self, dtype, copy, errors)\u001B[0m\n\u001B[1;32m    444\u001B[0m \u001B[38;5;28;01mdef\u001B[39;00m \u001B[38;5;21mastype\u001B[39m(\u001B[38;5;28mself\u001B[39m: T, dtype, copy: \u001B[38;5;28mbool\u001B[39m \u001B[38;5;241m=\u001B[39m \u001B[38;5;28;01mFalse\u001B[39;00m, errors: \u001B[38;5;28mstr\u001B[39m \u001B[38;5;241m=\u001B[39m \u001B[38;5;124m\"\u001B[39m\u001B[38;5;124mraise\u001B[39m\u001B[38;5;124m\"\u001B[39m) \u001B[38;5;241m-\u001B[39m\u001B[38;5;241m>\u001B[39m T:\n\u001B[0;32m--> 445\u001B[0m     \u001B[38;5;28;01mreturn\u001B[39;00m \u001B[38;5;28;43mself\u001B[39;49m\u001B[38;5;241;43m.\u001B[39;49m\u001B[43mapply\u001B[49m\u001B[43m(\u001B[49m\u001B[38;5;124;43m\"\u001B[39;49m\u001B[38;5;124;43mastype\u001B[39;49m\u001B[38;5;124;43m\"\u001B[39;49m\u001B[43m,\u001B[49m\u001B[43m \u001B[49m\u001B[43mdtype\u001B[49m\u001B[38;5;241;43m=\u001B[39;49m\u001B[43mdtype\u001B[49m\u001B[43m,\u001B[49m\u001B[43m \u001B[49m\u001B[43mcopy\u001B[49m\u001B[38;5;241;43m=\u001B[39;49m\u001B[43mcopy\u001B[49m\u001B[43m,\u001B[49m\u001B[43m \u001B[49m\u001B[43merrors\u001B[49m\u001B[38;5;241;43m=\u001B[39;49m\u001B[43merrors\u001B[49m\u001B[43m)\u001B[49m\n",
      "File \u001B[0;32m~/PycharmProjects/dehumanization/lib/python3.10/site-packages/pandas/core/internals/managers.py:347\u001B[0m, in \u001B[0;36mBaseBlockManager.apply\u001B[0;34m(self, f, align_keys, ignore_failures, **kwargs)\u001B[0m\n\u001B[1;32m    345\u001B[0m         applied \u001B[38;5;241m=\u001B[39m b\u001B[38;5;241m.\u001B[39mapply(f, \u001B[38;5;241m*\u001B[39m\u001B[38;5;241m*\u001B[39mkwargs)\n\u001B[1;32m    346\u001B[0m     \u001B[38;5;28;01melse\u001B[39;00m:\n\u001B[0;32m--> 347\u001B[0m         applied \u001B[38;5;241m=\u001B[39m \u001B[38;5;28;43mgetattr\u001B[39;49m\u001B[43m(\u001B[49m\u001B[43mb\u001B[49m\u001B[43m,\u001B[49m\u001B[43m \u001B[49m\u001B[43mf\u001B[49m\u001B[43m)\u001B[49m\u001B[43m(\u001B[49m\u001B[38;5;241;43m*\u001B[39;49m\u001B[38;5;241;43m*\u001B[39;49m\u001B[43mkwargs\u001B[49m\u001B[43m)\u001B[49m\n\u001B[1;32m    348\u001B[0m \u001B[38;5;28;01mexcept\u001B[39;00m (\u001B[38;5;167;01mTypeError\u001B[39;00m, \u001B[38;5;167;01mNotImplementedError\u001B[39;00m):\n\u001B[1;32m    349\u001B[0m     \u001B[38;5;28;01mif\u001B[39;00m \u001B[38;5;129;01mnot\u001B[39;00m ignore_failures:\n",
      "File \u001B[0;32m~/PycharmProjects/dehumanization/lib/python3.10/site-packages/pandas/core/internals/blocks.py:526\u001B[0m, in \u001B[0;36mBlock.astype\u001B[0;34m(self, dtype, copy, errors)\u001B[0m\n\u001B[1;32m    508\u001B[0m \u001B[38;5;124;03m\"\"\"\u001B[39;00m\n\u001B[1;32m    509\u001B[0m \u001B[38;5;124;03mCoerce to the new dtype.\u001B[39;00m\n\u001B[1;32m    510\u001B[0m \n\u001B[0;32m   (...)\u001B[0m\n\u001B[1;32m    522\u001B[0m \u001B[38;5;124;03mBlock\u001B[39;00m\n\u001B[1;32m    523\u001B[0m \u001B[38;5;124;03m\"\"\"\u001B[39;00m\n\u001B[1;32m    524\u001B[0m values \u001B[38;5;241m=\u001B[39m \u001B[38;5;28mself\u001B[39m\u001B[38;5;241m.\u001B[39mvalues\n\u001B[0;32m--> 526\u001B[0m new_values \u001B[38;5;241m=\u001B[39m \u001B[43mastype_array_safe\u001B[49m\u001B[43m(\u001B[49m\u001B[43mvalues\u001B[49m\u001B[43m,\u001B[49m\u001B[43m \u001B[49m\u001B[43mdtype\u001B[49m\u001B[43m,\u001B[49m\u001B[43m \u001B[49m\u001B[43mcopy\u001B[49m\u001B[38;5;241;43m=\u001B[39;49m\u001B[43mcopy\u001B[49m\u001B[43m,\u001B[49m\u001B[43m \u001B[49m\u001B[43merrors\u001B[49m\u001B[38;5;241;43m=\u001B[39;49m\u001B[43merrors\u001B[49m\u001B[43m)\u001B[49m\n\u001B[1;32m    528\u001B[0m new_values \u001B[38;5;241m=\u001B[39m maybe_coerce_values(new_values)\n\u001B[1;32m    529\u001B[0m newb \u001B[38;5;241m=\u001B[39m \u001B[38;5;28mself\u001B[39m\u001B[38;5;241m.\u001B[39mmake_block(new_values)\n",
      "File \u001B[0;32m~/PycharmProjects/dehumanization/lib/python3.10/site-packages/pandas/core/dtypes/astype.py:299\u001B[0m, in \u001B[0;36mastype_array_safe\u001B[0;34m(values, dtype, copy, errors)\u001B[0m\n\u001B[1;32m    296\u001B[0m     \u001B[38;5;28;01mreturn\u001B[39;00m values\u001B[38;5;241m.\u001B[39mcopy()\n\u001B[1;32m    298\u001B[0m \u001B[38;5;28;01mtry\u001B[39;00m:\n\u001B[0;32m--> 299\u001B[0m     new_values \u001B[38;5;241m=\u001B[39m \u001B[43mastype_array\u001B[49m\u001B[43m(\u001B[49m\u001B[43mvalues\u001B[49m\u001B[43m,\u001B[49m\u001B[43m \u001B[49m\u001B[43mdtype\u001B[49m\u001B[43m,\u001B[49m\u001B[43m \u001B[49m\u001B[43mcopy\u001B[49m\u001B[38;5;241;43m=\u001B[39;49m\u001B[43mcopy\u001B[49m\u001B[43m)\u001B[49m\n\u001B[1;32m    300\u001B[0m \u001B[38;5;28;01mexcept\u001B[39;00m (\u001B[38;5;167;01mValueError\u001B[39;00m, \u001B[38;5;167;01mTypeError\u001B[39;00m):\n\u001B[1;32m    301\u001B[0m     \u001B[38;5;66;03m# e.g. astype_nansafe can fail on object-dtype of strings\u001B[39;00m\n\u001B[1;32m    302\u001B[0m     \u001B[38;5;66;03m#  trying to convert to float\u001B[39;00m\n\u001B[1;32m    303\u001B[0m     \u001B[38;5;28;01mif\u001B[39;00m errors \u001B[38;5;241m==\u001B[39m \u001B[38;5;124m\"\u001B[39m\u001B[38;5;124mignore\u001B[39m\u001B[38;5;124m\"\u001B[39m:\n",
      "File \u001B[0;32m~/PycharmProjects/dehumanization/lib/python3.10/site-packages/pandas/core/dtypes/astype.py:222\u001B[0m, in \u001B[0;36mastype_array\u001B[0;34m(values, dtype, copy)\u001B[0m\n\u001B[1;32m    220\u001B[0m \u001B[38;5;28;01mif\u001B[39;00m is_dtype_equal(values\u001B[38;5;241m.\u001B[39mdtype, dtype):\n\u001B[1;32m    221\u001B[0m     \u001B[38;5;28;01mif\u001B[39;00m copy:\n\u001B[0;32m--> 222\u001B[0m         \u001B[38;5;28;01mreturn\u001B[39;00m \u001B[43mvalues\u001B[49m\u001B[38;5;241;43m.\u001B[39;49m\u001B[43mcopy\u001B[49m\u001B[43m(\u001B[49m\u001B[43m)\u001B[49m\n\u001B[1;32m    223\u001B[0m     \u001B[38;5;28;01mreturn\u001B[39;00m values\n\u001B[1;32m    225\u001B[0m \u001B[38;5;28;01mif\u001B[39;00m \u001B[38;5;129;01mnot\u001B[39;00m \u001B[38;5;28misinstance\u001B[39m(values, np\u001B[38;5;241m.\u001B[39mndarray):\n\u001B[1;32m    226\u001B[0m     \u001B[38;5;66;03m# i.e. ExtensionArray\u001B[39;00m\n",
      "\u001B[0;31mKeyboardInterrupt\u001B[0m: "
     ]
    }
   ],
   "source": [
    "%%time\n",
    "df_channels['tokens'] = df_channels['message_words_only_lower'].apply(lambda x: tokenize_spacy(x))"
   ],
   "metadata": {
    "collapsed": false,
    "pycharm": {
     "name": "#%%\n"
    }
   }
  },
  {
   "cell_type": "code",
   "execution_count": null,
   "outputs": [],
   "source": [],
   "metadata": {
    "collapsed": false,
    "pycharm": {
     "name": "#%%\n"
    }
   }
  },
  {
   "cell_type": "code",
   "execution_count": 137,
   "outputs": [
    {
     "data": {
      "text/plain": "0           id                       date     views  \\\n0        12347  2022-12-15 16:32:15+00:00    9914.0   \n1        12346  2022-12-15 15:00:03+00:00   29207.0   \n2        12345  2022-12-15 14:21:22+00:00   41058.0   \n3        12344  2022-12-15 13:08:35+00:00   40696.0   \n4        12343  2022-12-15 12:31:23+00:00   51690.0   \n...        ...                        ...       ...   \n1607921      7  2019-09-28 10:13:52+00:00    3190.0   \n1607922      6  2019-09-28 09:35:07+00:00    3239.0   \n1607923      5  2019-09-28 07:34:47+00:00     314.0   \n1607924      4  2019-09-28 07:08:55+00:00    4339.0   \n1607925      3  2019-09-27 21:31:04+00:00  105193.0   \n\n0                                                reactions  \\\n0        MessageReactions(results=[ReactionCount(reacti...   \n1        MessageReactions(results=[ReactionCount(reacti...   \n2        MessageReactions(results=[ReactionCount(reacti...   \n3        MessageReactions(results=[ReactionCount(reacti...   \n4        MessageReactions(results=[ReactionCount(reacti...   \n...                                                    ...   \n1607921                                                NaN   \n1607922                                                NaN   \n1607923                                                NaN   \n1607924                                                NaN   \n1607925                                                NaN   \n\n0                                     to_id  \\\n0        PeerChannel(channel_id=1183570279)   \n1        PeerChannel(channel_id=1183570279)   \n2        PeerChannel(channel_id=1183570279)   \n3        PeerChannel(channel_id=1183570279)   \n4        PeerChannel(channel_id=1183570279)   \n...                                     ...   \n1607921  PeerChannel(channel_id=1253974160)   \n1607922  PeerChannel(channel_id=1253974160)   \n1607923  PeerChannel(channel_id=1253974160)   \n1607924  PeerChannel(channel_id=1253974160)   \n1607925  PeerChannel(channel_id=1253974160)   \n\n0                                                 fwd_from  \\\n0                                                      NaN   \n1                                                      NaN   \n2                                                      NaN   \n3        MessageFwdHeader(date=datetime.datetime(2022, ...   \n4                                                      NaN   \n...                                                    ...   \n1607921                                                NaN   \n1607922                                                NaN   \n1607923  MessageFwdHeader(date=datetime.datetime(2019, ...   \n1607924                                                NaN   \n1607925                                                NaN   \n\n0                                                  message   type duration  \\\n0        А трансляция тем временем идет. Подписывайтесь...  photo      NaN   \n1        В России ещё есть те, кто способен возрождать ...  photo      NaN   \n2        «Катаргейт» набирает обороты - Обвиняемая в ко...   text      NaN   \n3        🔥В гостях у @Metametrica побывали товарищи из ...  photo      NaN   \n4        Глава Минобороны Грузии назвал грузинских наем...   text      NaN   \n...                                                    ...    ...      ...   \n1607921  Бот для связи: @obrazbuduschego2_bot Донастрое...   text      NaN   \n1607922  Печальная весть о Марке Захарове, человеке, ко...   text      NaN   \n1607923  Трамп настолько эксцентричен, что, конечно, за...   text      NaN   \n1607924  Отставка Курта Волкера с поста спецпредставите...   text      NaN   \n1607925  Хотел бы обратиться ко всем читателям канала «...  photo      NaN   \n\n0            channel_name  ...  \\\n0               mardanaka  ...   \n1               mardanaka  ...   \n2               mardanaka  ...   \n3               mardanaka  ...   \n4               mardanaka  ...   \n...                   ...  ...   \n1607921  obrazbuduschego2  ...   \n1607922  obrazbuduschego2  ...   \n1607923  obrazbuduschego2  ...   \n1607924  obrazbuduschego2  ...   \n1607925  obrazbuduschego2  ...   \n\n0                                         message_no_emoji           url_list  \\\n0        А трансляция тем временем идет. Подписывайтесь...  [www.youtube.com]   \n1        В России ещё есть те, кто способен возрождать ...                 []   \n2        «Катаргейт» набирает обороты - Обвиняемая в ко...                 []   \n3         В гостях у @Metametrica побывали товарищи из ...                 []   \n4        Глава Минобороны Грузии назвал грузинских наем...                 []   \n...                                                    ...                ...   \n1607921  Бот для связи: @obrazbuduschego2_bot Донастрое...                 []   \n1607922  Печальная весть о Марке Захарове, человеке, ко...                 []   \n1607923  Трамп настолько эксцентричен, что, конечно, за...                 []   \n1607924  Отставка Курта Волкера с поста спецпредставите...                 []   \n1607925  Хотел бы обратиться ко всем читателям канала «...             [t.me]   \n\n0                                          message_no_urls  \\\n0         А трансляция тем временем идет. Подписывайтесь     \n1        В России ещё есть те, кто способен возрождать ...   \n2        «Катаргейт» набирает обороты - Обвиняемая в ко...   \n3         В гостях у @Metametrica побывали товарищи из ...   \n4        Глава Минобороны Грузии назвал грузинских наем...   \n...                                                    ...   \n1607921  Бот для связи: @obrazbuduschego2_bot Донастрое...   \n1607922  Печальная весть о Марке Захарове, человеке, ко...   \n1607923  Трамп настолько эксцентричен, что, конечно, за...   \n1607924  Отставка Курта Волкера с поста спецпредставите...   \n1607925  Хотел бы обратиться ко всем читателям канала «...   \n\n0                                                 mentions  \\\n0                                                       []   \n1                                                       []   \n2                                                       []   \n3                               [Metametrica, Metametrica]   \n4                                                       []   \n...                                                    ...   \n1607921                 [obrazbuduschego2_bot, protonmail]   \n1607922                                                 []   \n1607923                                                 []   \n1607924                                                 []   \n1607925  [russica2, kremlebezBashennik, master_pera, sh...   \n\n0                                      message_no_mentions  \\\n0           А трансляция тем временем идет. Подписывайтесь   \n1        В России ещё есть те, кто способен возрождать ...   \n2        \"Катаргейт\" набирает обороты - Обвиняемая в ко...   \n3        В гостях у  побывали товарищи из украинского п...   \n4        Глава Минобороны Грузии назвал грузинских наем...   \n...                                                    ...   \n1607921  Бот для связи:  Донастроен, работает, если кто...   \n1607922  Печальная весть о Марке Захарове, человеке, ко...   \n1607923  Трамп настолько эксцентричен, что, конечно, за...   \n1607924  Отставка Курта Волкера с поста спецпредставите...   \n1607925  Хотел бы обратиться ко всем читателям канала \"...   \n\n0                                                   quotes hashtags  \\\n0                                                       []       {}   \n1                               [МЭФ. Экономика для людей]       {}   \n2                                              [Катаргейт]       {}   \n3                                   [Богдана Хмельницкого]       {}   \n4        [Есть случаи, когда едут воевать за гонорар, в...       {}   \n...                                                    ...      ...   \n1607921                                                 []       {}   \n1607922           [Чай, кофе и другие колониальные товары]       {}   \n1607923                                                 []       {}   \n1607924  [домогательств, партия Козака-Лаврова, партия ...       {}   \n1607925                                [Пяр во время чумы]       {}   \n\n0                                      message_no_hashtags  \\\n0           А трансляция тем временем идет. Подписывайтесь   \n1        В России ещё есть те, кто способен возрождать ...   \n2        \"Катаргейт\" набирает обороты - Обвиняемая в ко...   \n3        В гостях у  побывали товарищи из украинского п...   \n4        Глава Минобороны Грузии назвал грузинских наем...   \n...                                                    ...   \n1607921  Бот для связи:  Донастроен, работает, если кто...   \n1607922  Печальная весть о Марке Захарове, человеке, ко...   \n1607923  Трамп настолько эксцентричен, что, конечно, за...   \n1607924  Отставка Курта Волкера с поста спецпредставите...   \n1607925  Хотел бы обратиться ко всем читателям канала \"...   \n\n0                                            message_clean  \\\n0           А трансляция тем временем идет. Подписывайтесь   \n1        В России ещё есть те, кто способен возрождать ...   \n2        Катаргейт набирает обороты - Обвиняемая в корр...   \n3        В гостях у побывали товарищи из украинского пр...   \n4        Глава Минобороны Грузии назвал грузинских наем...   \n...                                                    ...   \n1607921  Бот для связи: Донастроен, работает, если кто-...   \n1607922  Печальная весть о Марке Захарове, человеке, ко...   \n1607923  Трамп настолько эксцентричен, что, конечно, за...   \n1607924  Отставка Курта Волкера с поста спецпредставите...   \n1607925  Хотел бы обратиться ко всем читателям канала П...   \n\n0                                 message_words_only_lower  \n0            а трансляция тем временем идет подписывайтесь  \n1        в россии ещё есть те кто способен возрождать н...  \n2        катаргейт набирает обороты обвиняемая в корруп...  \n3        в гостях у побывали товарищи из украинского пр...  \n4        глава минобороны грузии назвал грузинских наем...  \n...                                                    ...  \n1607921  бот для связи донастроен работает если ктото н...  \n1607922  печальная весть о марке захарове человеке кото...  \n1607923  трамп настолько эксцентричен что конечно заслу...  \n1607924  отставка курта волкера с поста спецпредставите...  \n1607925  хотел бы обратиться ко всем читателям канала п...  \n\n[1226517 rows x 27 columns]",
      "text/html": "<div>\n<style scoped>\n    .dataframe tbody tr th:only-of-type {\n        vertical-align: middle;\n    }\n\n    .dataframe tbody tr th {\n        vertical-align: top;\n    }\n\n    .dataframe thead th {\n        text-align: right;\n    }\n</style>\n<table border=\"1\" class=\"dataframe\">\n  <thead>\n    <tr style=\"text-align: right;\">\n      <th></th>\n      <th>id</th>\n      <th>date</th>\n      <th>views</th>\n      <th>reactions</th>\n      <th>to_id</th>\n      <th>fwd_from</th>\n      <th>message</th>\n      <th>type</th>\n      <th>duration</th>\n      <th>channel_name</th>\n      <th>...</th>\n      <th>message_no_emoji</th>\n      <th>url_list</th>\n      <th>message_no_urls</th>\n      <th>mentions</th>\n      <th>message_no_mentions</th>\n      <th>quotes</th>\n      <th>hashtags</th>\n      <th>message_no_hashtags</th>\n      <th>message_clean</th>\n      <th>message_words_only_lower</th>\n    </tr>\n  </thead>\n  <tbody>\n    <tr>\n      <th>0</th>\n      <td>12347</td>\n      <td>2022-12-15 16:32:15+00:00</td>\n      <td>9914.0</td>\n      <td>MessageReactions(results=[ReactionCount(reacti...</td>\n      <td>PeerChannel(channel_id=1183570279)</td>\n      <td>NaN</td>\n      <td>А трансляция тем временем идет. Подписывайтесь...</td>\n      <td>photo</td>\n      <td>NaN</td>\n      <td>mardanaka</td>\n      <td>...</td>\n      <td>А трансляция тем временем идет. Подписывайтесь...</td>\n      <td>[www.youtube.com]</td>\n      <td>А трансляция тем временем идет. Подписывайтесь</td>\n      <td>[]</td>\n      <td>А трансляция тем временем идет. Подписывайтесь</td>\n      <td>[]</td>\n      <td>{}</td>\n      <td>А трансляция тем временем идет. Подписывайтесь</td>\n      <td>А трансляция тем временем идет. Подписывайтесь</td>\n      <td>а трансляция тем временем идет подписывайтесь</td>\n    </tr>\n    <tr>\n      <th>1</th>\n      <td>12346</td>\n      <td>2022-12-15 15:00:03+00:00</td>\n      <td>29207.0</td>\n      <td>MessageReactions(results=[ReactionCount(reacti...</td>\n      <td>PeerChannel(channel_id=1183570279)</td>\n      <td>NaN</td>\n      <td>В России ещё есть те, кто способен возрождать ...</td>\n      <td>photo</td>\n      <td>NaN</td>\n      <td>mardanaka</td>\n      <td>...</td>\n      <td>В России ещё есть те, кто способен возрождать ...</td>\n      <td>[]</td>\n      <td>В России ещё есть те, кто способен возрождать ...</td>\n      <td>[]</td>\n      <td>В России ещё есть те, кто способен возрождать ...</td>\n      <td>[МЭФ. Экономика для людей]</td>\n      <td>{}</td>\n      <td>В России ещё есть те, кто способен возрождать ...</td>\n      <td>В России ещё есть те, кто способен возрождать ...</td>\n      <td>в россии ещё есть те кто способен возрождать н...</td>\n    </tr>\n    <tr>\n      <th>2</th>\n      <td>12345</td>\n      <td>2022-12-15 14:21:22+00:00</td>\n      <td>41058.0</td>\n      <td>MessageReactions(results=[ReactionCount(reacti...</td>\n      <td>PeerChannel(channel_id=1183570279)</td>\n      <td>NaN</td>\n      <td>«Катаргейт» набирает обороты - Обвиняемая в ко...</td>\n      <td>text</td>\n      <td>NaN</td>\n      <td>mardanaka</td>\n      <td>...</td>\n      <td>«Катаргейт» набирает обороты - Обвиняемая в ко...</td>\n      <td>[]</td>\n      <td>«Катаргейт» набирает обороты - Обвиняемая в ко...</td>\n      <td>[]</td>\n      <td>\"Катаргейт\" набирает обороты - Обвиняемая в ко...</td>\n      <td>[Катаргейт]</td>\n      <td>{}</td>\n      <td>\"Катаргейт\" набирает обороты - Обвиняемая в ко...</td>\n      <td>Катаргейт набирает обороты - Обвиняемая в корр...</td>\n      <td>катаргейт набирает обороты обвиняемая в корруп...</td>\n    </tr>\n    <tr>\n      <th>3</th>\n      <td>12344</td>\n      <td>2022-12-15 13:08:35+00:00</td>\n      <td>40696.0</td>\n      <td>MessageReactions(results=[ReactionCount(reacti...</td>\n      <td>PeerChannel(channel_id=1183570279)</td>\n      <td>MessageFwdHeader(date=datetime.datetime(2022, ...</td>\n      <td>🔥В гостях у @Metametrica побывали товарищи из ...</td>\n      <td>photo</td>\n      <td>NaN</td>\n      <td>mardanaka</td>\n      <td>...</td>\n      <td>В гостях у @Metametrica побывали товарищи из ...</td>\n      <td>[]</td>\n      <td>В гостях у @Metametrica побывали товарищи из ...</td>\n      <td>[Metametrica, Metametrica]</td>\n      <td>В гостях у  побывали товарищи из украинского п...</td>\n      <td>[Богдана Хмельницкого]</td>\n      <td>{}</td>\n      <td>В гостях у  побывали товарищи из украинского п...</td>\n      <td>В гостях у побывали товарищи из украинского пр...</td>\n      <td>в гостях у побывали товарищи из украинского пр...</td>\n    </tr>\n    <tr>\n      <th>4</th>\n      <td>12343</td>\n      <td>2022-12-15 12:31:23+00:00</td>\n      <td>51690.0</td>\n      <td>MessageReactions(results=[ReactionCount(reacti...</td>\n      <td>PeerChannel(channel_id=1183570279)</td>\n      <td>NaN</td>\n      <td>Глава Минобороны Грузии назвал грузинских наем...</td>\n      <td>text</td>\n      <td>NaN</td>\n      <td>mardanaka</td>\n      <td>...</td>\n      <td>Глава Минобороны Грузии назвал грузинских наем...</td>\n      <td>[]</td>\n      <td>Глава Минобороны Грузии назвал грузинских наем...</td>\n      <td>[]</td>\n      <td>Глава Минобороны Грузии назвал грузинских наем...</td>\n      <td>[Есть случаи, когда едут воевать за гонорар, в...</td>\n      <td>{}</td>\n      <td>Глава Минобороны Грузии назвал грузинских наем...</td>\n      <td>Глава Минобороны Грузии назвал грузинских наем...</td>\n      <td>глава минобороны грузии назвал грузинских наем...</td>\n    </tr>\n    <tr>\n      <th>...</th>\n      <td>...</td>\n      <td>...</td>\n      <td>...</td>\n      <td>...</td>\n      <td>...</td>\n      <td>...</td>\n      <td>...</td>\n      <td>...</td>\n      <td>...</td>\n      <td>...</td>\n      <td>...</td>\n      <td>...</td>\n      <td>...</td>\n      <td>...</td>\n      <td>...</td>\n      <td>...</td>\n      <td>...</td>\n      <td>...</td>\n      <td>...</td>\n      <td>...</td>\n      <td>...</td>\n    </tr>\n    <tr>\n      <th>1607921</th>\n      <td>7</td>\n      <td>2019-09-28 10:13:52+00:00</td>\n      <td>3190.0</td>\n      <td>NaN</td>\n      <td>PeerChannel(channel_id=1253974160)</td>\n      <td>NaN</td>\n      <td>Бот для связи: @obrazbuduschego2_bot Донастрое...</td>\n      <td>text</td>\n      <td>NaN</td>\n      <td>obrazbuduschego2</td>\n      <td>...</td>\n      <td>Бот для связи: @obrazbuduschego2_bot Донастрое...</td>\n      <td>[]</td>\n      <td>Бот для связи: @obrazbuduschego2_bot Донастрое...</td>\n      <td>[obrazbuduschego2_bot, protonmail]</td>\n      <td>Бот для связи:  Донастроен, работает, если кто...</td>\n      <td>[]</td>\n      <td>{}</td>\n      <td>Бот для связи:  Донастроен, работает, если кто...</td>\n      <td>Бот для связи: Донастроен, работает, если кто-...</td>\n      <td>бот для связи донастроен работает если ктото н...</td>\n    </tr>\n    <tr>\n      <th>1607922</th>\n      <td>6</td>\n      <td>2019-09-28 09:35:07+00:00</td>\n      <td>3239.0</td>\n      <td>NaN</td>\n      <td>PeerChannel(channel_id=1253974160)</td>\n      <td>NaN</td>\n      <td>Печальная весть о Марке Захарове, человеке, ко...</td>\n      <td>text</td>\n      <td>NaN</td>\n      <td>obrazbuduschego2</td>\n      <td>...</td>\n      <td>Печальная весть о Марке Захарове, человеке, ко...</td>\n      <td>[]</td>\n      <td>Печальная весть о Марке Захарове, человеке, ко...</td>\n      <td>[]</td>\n      <td>Печальная весть о Марке Захарове, человеке, ко...</td>\n      <td>[Чай, кофе и другие колониальные товары]</td>\n      <td>{}</td>\n      <td>Печальная весть о Марке Захарове, человеке, ко...</td>\n      <td>Печальная весть о Марке Захарове, человеке, ко...</td>\n      <td>печальная весть о марке захарове человеке кото...</td>\n    </tr>\n    <tr>\n      <th>1607923</th>\n      <td>5</td>\n      <td>2019-09-28 07:34:47+00:00</td>\n      <td>314.0</td>\n      <td>NaN</td>\n      <td>PeerChannel(channel_id=1253974160)</td>\n      <td>MessageFwdHeader(date=datetime.datetime(2019, ...</td>\n      <td>Трамп настолько эксцентричен, что, конечно, за...</td>\n      <td>text</td>\n      <td>NaN</td>\n      <td>obrazbuduschego2</td>\n      <td>...</td>\n      <td>Трамп настолько эксцентричен, что, конечно, за...</td>\n      <td>[]</td>\n      <td>Трамп настолько эксцентричен, что, конечно, за...</td>\n      <td>[]</td>\n      <td>Трамп настолько эксцентричен, что, конечно, за...</td>\n      <td>[]</td>\n      <td>{}</td>\n      <td>Трамп настолько эксцентричен, что, конечно, за...</td>\n      <td>Трамп настолько эксцентричен, что, конечно, за...</td>\n      <td>трамп настолько эксцентричен что конечно заслу...</td>\n    </tr>\n    <tr>\n      <th>1607924</th>\n      <td>4</td>\n      <td>2019-09-28 07:08:55+00:00</td>\n      <td>4339.0</td>\n      <td>NaN</td>\n      <td>PeerChannel(channel_id=1253974160)</td>\n      <td>NaN</td>\n      <td>Отставка Курта Волкера с поста спецпредставите...</td>\n      <td>text</td>\n      <td>NaN</td>\n      <td>obrazbuduschego2</td>\n      <td>...</td>\n      <td>Отставка Курта Волкера с поста спецпредставите...</td>\n      <td>[]</td>\n      <td>Отставка Курта Волкера с поста спецпредставите...</td>\n      <td>[]</td>\n      <td>Отставка Курта Волкера с поста спецпредставите...</td>\n      <td>[домогательств, партия Козака-Лаврова, партия ...</td>\n      <td>{}</td>\n      <td>Отставка Курта Волкера с поста спецпредставите...</td>\n      <td>Отставка Курта Волкера с поста спецпредставите...</td>\n      <td>отставка курта волкера с поста спецпредставите...</td>\n    </tr>\n    <tr>\n      <th>1607925</th>\n      <td>3</td>\n      <td>2019-09-27 21:31:04+00:00</td>\n      <td>105193.0</td>\n      <td>NaN</td>\n      <td>PeerChannel(channel_id=1253974160)</td>\n      <td>NaN</td>\n      <td>Хотел бы обратиться ко всем читателям канала «...</td>\n      <td>photo</td>\n      <td>NaN</td>\n      <td>obrazbuduschego2</td>\n      <td>...</td>\n      <td>Хотел бы обратиться ко всем читателям канала «...</td>\n      <td>[t.me]</td>\n      <td>Хотел бы обратиться ко всем читателям канала «...</td>\n      <td>[russica2, kremlebezBashennik, master_pera, sh...</td>\n      <td>Хотел бы обратиться ко всем читателям канала \"...</td>\n      <td>[Пяр во время чумы]</td>\n      <td>{}</td>\n      <td>Хотел бы обратиться ко всем читателям канала \"...</td>\n      <td>Хотел бы обратиться ко всем читателям канала П...</td>\n      <td>хотел бы обратиться ко всем читателям канала п...</td>\n    </tr>\n  </tbody>\n</table>\n<p>1226517 rows × 27 columns</p>\n</div>"
     },
     "execution_count": 137,
     "metadata": {},
     "output_type": "execute_result"
    }
   ],
   "source": [
    "df_channels"
   ],
   "metadata": {
    "collapsed": false,
    "pycharm": {
     "name": "#%%\n"
    }
   }
  },
  {
   "cell_type": "code",
   "execution_count": 144,
   "outputs": [
    {
     "data": {
      "text/plain": "'и посмотрите елену серветтаз она там местами срывает покровы про альбац браудера и так далее и вообще она очень хорошая'"
     },
     "execution_count": 144,
     "metadata": {},
     "output_type": "execute_result"
    }
   ],
   "source": [
    "df_channels.message_words_only_lower.iloc[33330]"
   ],
   "metadata": {
    "collapsed": false,
    "pycharm": {
     "name": "#%%\n"
    }
   }
  },
  {
   "cell_type": "code",
   "execution_count": null,
   "outputs": [],
   "source": [
    "#pymorphy2\n",
    "#sparknlp\n",
    "#на чому тренувався spacy - взяти з цього корпусу словник\n",
    "#взятисловник\n",
    "#службові частини мови забрати"
   ],
   "metadata": {
    "collapsed": false,
    "pycharm": {
     "name": "#%%\n"
    }
   }
  },
  {
   "cell_type": "code",
   "execution_count": 1,
   "outputs": [],
   "source": [
    "import pandas as pd"
   ],
   "metadata": {
    "collapsed": false,
    "pycharm": {
     "name": "#%%\n"
    }
   }
  },
  {
   "cell_type": "code",
   "execution_count": null,
   "outputs": [],
   "source": [
    "%%time\n",
    "df = pd.read_csv('/Users/katerynaburovova/PycharmProjects/dehumanization/data/merged_dataset/df_channels.csv')"
   ],
   "metadata": {
    "collapsed": false,
    "pycharm": {
     "name": "#%%\n",
     "is_executing": true
    }
   }
  },
  {
   "cell_type": "code",
   "execution_count": 3,
   "outputs": [
    {
     "data": {
      "text/plain": "Index(['Unnamed: 0', 'id', 'date', 'message', 'channel_name', 'lang',\n       'message_no_hashtags', 'date_formatted', 'message_clean',\n       'message_final'],\n      dtype='object')"
     },
     "execution_count": 3,
     "metadata": {},
     "output_type": "execute_result"
    }
   ],
   "source": [
    "df.columns"
   ],
   "metadata": {
    "collapsed": false,
    "pycharm": {
     "name": "#%%\n"
    }
   }
  },
  {
   "cell_type": "code",
   "execution_count": null,
   "outputs": [],
   "source": [],
   "metadata": {
    "collapsed": false,
    "pycharm": {
     "name": "#%%\n"
    }
   }
  }
 ],
 "metadata": {
  "kernelspec": {
   "display_name": "Python 3",
   "language": "python",
   "name": "python3"
  },
  "language_info": {
   "codemirror_mode": {
    "name": "ipython",
    "version": 2
   },
   "file_extension": ".py",
   "mimetype": "text/x-python",
   "name": "python",
   "nbconvert_exporter": "python",
   "pygments_lexer": "ipython2",
   "version": "2.7.6"
  }
 },
 "nbformat": 4,
 "nbformat_minor": 0
}