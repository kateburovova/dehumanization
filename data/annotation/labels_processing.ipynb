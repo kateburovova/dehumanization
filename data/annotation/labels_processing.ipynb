{
 "cells": [
  {
   "cell_type": "code",
   "execution_count": 335,
   "outputs": [],
   "source": [
    "import pandas as pd"
   ],
   "metadata": {
    "collapsed": false,
    "pycharm": {
     "name": "#%%\n"
    }
   }
  },
  {
   "cell_type": "markdown",
   "source": [
    "We have created a 20% overlap for the samples to be labeled to assess the inter-rated agreement. Since annotator vary for each label duplicate pair, we can't use the sklearn's solution as it assumes that raters are the same in each case. Averaging the sklearn's  cohen_kappa_score along the pairs is not a viable solution since if you only have one data point per rater pair, the Cohen's kappa score calculation will result in a warning because it expects more variation in the data (or will return 0 if values are different).\n",
    "\n",
    "We have calculated the Cohen's kappa for the dataset with the (wrong) assumption that there are only two annotators.\n",
    "Further we improved the calculation with averaging the pairs, for that we have used this [solution](https://towardsdatascience.com/inter-annotator-agreement-2f46c6d37bf3) instead."
   ],
   "metadata": {
    "collapsed": false,
    "pycharm": {
     "name": "#%% md\n"
    }
   }
  },
  {
   "cell_type": "code",
   "execution_count": 336,
   "outputs": [],
   "source": [
    "# https://towardsdatascience.com/inter-annotator-agreement-2f46c6d37bf3\n",
    "def cohen_kappa(ann1, ann2):\n",
    "    \"\"\"Computes Cohen kappa for pair-wise annotators.\n",
    "    :param ann1: annotations provided by first annotator\n",
    "    :type ann1: list\n",
    "    :param ann2: annotations provided by second annotator\n",
    "    :type ann2: list\n",
    "    :rtype: float\n",
    "    :return: Cohen kappa statistic\n",
    "    \"\"\"\n",
    "    count = 0\n",
    "    for an1, an2 in zip(ann1, ann2):\n",
    "        if an1 == an2:\n",
    "            count += 1\n",
    "    A = count / len(ann1)  # observed agreement A (Po)\n",
    "\n",
    "    uniq = set(ann1 + ann2)\n",
    "    E = 0  # expected agreement E (Pe)\n",
    "    for item in uniq:\n",
    "        cnt1 = ann1.count(item)\n",
    "        cnt2 = ann2.count(item)\n",
    "        count = ((cnt1 / len(ann1)) * (cnt2 / len(ann2)))\n",
    "        E += count\n",
    "\n",
    "    return round((A - E) / (1 - E), 4)"
   ],
   "metadata": {
    "collapsed": false,
    "pycharm": {
     "name": "#%%\n"
    }
   }
  },
  {
   "cell_type": "markdown",
   "source": [
    "# 1st batch"
   ],
   "metadata": {
    "collapsed": false,
    "pycharm": {
     "name": "#%% md\n"
    }
   }
  },
  {
   "cell_type": "markdown",
   "source": [
    "## Loading and preprocessing the data"
   ],
   "metadata": {
    "collapsed": false,
    "pycharm": {
     "name": "#%% md\n"
    }
   }
  },
  {
   "cell_type": "code",
   "execution_count": 337,
   "outputs": [],
   "source": [
    "df_labels = pd.read_json('/Users/katerynaburovova/PycharmProjects/dehumanization/annotation/labels_ready.json')"
   ],
   "metadata": {
    "collapsed": false,
    "pycharm": {
     "name": "#%%\n"
    }
   }
  },
  {
   "cell_type": "code",
   "execution_count": 338,
   "outputs": [],
   "source": [
    "def extract_emotion(info):\n",
    "    for classification in info['classifications']:\n",
    "        if classification['title'] == 'Чи присутня в тексті емоційна оцінка українців?':\n",
    "            return classification['answer']['title']\n",
    "    return 'ні, оцінка не присутня'"
   ],
   "metadata": {
    "collapsed": false,
    "pycharm": {
     "name": "#%%\n"
    }
   }
  },
  {
   "cell_type": "code",
   "execution_count": 339,
   "outputs": [],
   "source": [
    "def extract_emotion(info):\n",
    "    for classification in info['classifications']:\n",
    "        if classification['title'] == 'Чи присутня в тексті емоційна оцінка українців?':\n",
    "            return classification['answer']['title']\n",
    "    return 'ні, оцінка не присутня'"
   ],
   "metadata": {
    "collapsed": false,
    "pycharm": {
     "name": "#%%\n"
    }
   }
  },
  {
   "cell_type": "code",
   "execution_count": 340,
   "outputs": [],
   "source": [
    "def extract_dehumanization(info):\n",
    "    for classification in info['classifications']:\n",
    "        if classification['title'] == 'Чи прирівнюються українці до неістот, тварин чи людей, позбавлених людських рис (частково або повністю)?':\n",
    "            return classification['answer']['title']\n",
    "    return 'ні'"
   ],
   "metadata": {
    "collapsed": false,
    "pycharm": {
     "name": "#%%\n"
    }
   }
  },
  {
   "cell_type": "code",
   "execution_count": 341,
   "outputs": [],
   "source": [
    "def extract_mention(info):\n",
    "    for classification in info['classifications']:\n",
    "        if classification['title'] == 'Чи згадуються в тексті українці або щось українське?':\n",
    "            return classification['answer']['title']\n",
    "    return None"
   ],
   "metadata": {
    "collapsed": false,
    "pycharm": {
     "name": "#%%\n"
    }
   }
  },
  {
   "cell_type": "code",
   "execution_count": 342,
   "outputs": [],
   "source": [
    "df_labels[\"Dehumanization\"] = df_labels.Label.apply(lambda x: extract_dehumanization(x))"
   ],
   "metadata": {
    "collapsed": false,
    "pycharm": {
     "name": "#%%\n"
    }
   }
  },
  {
   "cell_type": "code",
   "execution_count": 343,
   "outputs": [],
   "source": [
    "df_labels[\"Emotion\"] = df_labels.Label.apply(lambda x: extract_emotion(x))"
   ],
   "metadata": {
    "collapsed": false,
    "pycharm": {
     "name": "#%%\n"
    }
   }
  },
  {
   "cell_type": "code",
   "execution_count": 344,
   "outputs": [],
   "source": [
    "df_labels[\"Mention\"] = df_labels.Label.apply(lambda x: extract_mention(x))"
   ],
   "metadata": {
    "collapsed": false,
    "pycharm": {
     "name": "#%%\n"
    }
   }
  },
  {
   "cell_type": "code",
   "execution_count": 345,
   "outputs": [
    {
     "data": {
      "text/plain": "{'objects': [], 'classifications': [], 'relationships': []}"
     },
     "execution_count": 345,
     "metadata": {},
     "output_type": "execute_result"
    }
   ],
   "source": [
    "#some Labels are empty, dropping those\n",
    "df_labels[df_labels[\"Mention\"].isna()]['Label'][369]"
   ],
   "metadata": {
    "collapsed": false,
    "pycharm": {
     "name": "#%%\n"
    }
   }
  },
  {
   "cell_type": "code",
   "execution_count": 346,
   "outputs": [],
   "source": [
    "df_labels = df_labels[~df_labels[\"Mention\"].isna()]"
   ],
   "metadata": {
    "collapsed": false,
    "pycharm": {
     "name": "#%%\n"
    }
   }
  },
  {
   "cell_type": "code",
   "execution_count": 347,
   "outputs": [
    {
     "data": {
      "text/plain": "4250"
     },
     "execution_count": 347,
     "metadata": {},
     "output_type": "execute_result"
    }
   ],
   "source": [
    "len(df_labels)"
   ],
   "metadata": {
    "collapsed": false,
    "pycharm": {
     "name": "#%%\n"
    }
   }
  },
  {
   "cell_type": "code",
   "execution_count": 348,
   "outputs": [],
   "source": [
    "df = df_labels[['Created By', 'Mention', 'Dehumanization', 'Emotion', 'External ID']]"
   ],
   "metadata": {
    "collapsed": false,
    "pycharm": {
     "name": "#%%\n"
    }
   }
  },
  {
   "cell_type": "code",
   "execution_count": 349,
   "outputs": [
    {
     "name": "stderr",
     "output_type": "stream",
     "text": [
      "/var/folders/2w/hygxgpp5353_dy_tk88gw2100000gn/T/ipykernel_52700/350336781.py:3: SettingWithCopyWarning: \n",
      "A value is trying to be set on a copy of a slice from a DataFrame\n",
      "\n",
      "See the caveats in the documentation: https://pandas.pydata.org/pandas-docs/stable/user_guide/indexing.html#returning-a-view-versus-a-copy\n",
      "  df.drop(unique_rows.index, inplace=True)\n"
     ]
    }
   ],
   "source": [
    "value_counts = df['External ID'].value_counts()\n",
    "unique_rows = df[df['External ID'].isin(value_counts[value_counts == 1].index)]\n",
    "df.drop(unique_rows.index, inplace=True)\n",
    "df.reset_index(inplace=True, drop=True)"
   ],
   "metadata": {
    "collapsed": false,
    "pycharm": {
     "name": "#%%\n"
    }
   }
  },
  {
   "cell_type": "code",
   "execution_count": 350,
   "outputs": [],
   "source": [
    "df = df.sort_values(by='External ID')\n",
    "df.reset_index(inplace=True, drop=True)"
   ],
   "metadata": {
    "collapsed": false,
    "pycharm": {
     "name": "#%%\n"
    }
   }
  },
  {
   "cell_type": "markdown",
   "source": [
    "# First attempt to calculate with the assumption that annotators are same"
   ],
   "metadata": {
    "collapsed": false,
    "pycharm": {
     "name": "#%% md\n"
    }
   }
  },
  {
   "cell_type": "code",
   "execution_count": 351,
   "outputs": [],
   "source": [
    "df['Rater'] = ['Rater1' if i % 2 == 0 else 'Rater2' for i in range(len(df))]"
   ],
   "metadata": {
    "collapsed": false,
    "pycharm": {
     "name": "#%%\n"
    }
   }
  },
  {
   "cell_type": "code",
   "execution_count": 232,
   "outputs": [],
   "source": [
    "from sklearn.metrics import cohen_kappa_score\n",
    "\n",
    "# define a function to calculate Cohen's kappa for a given column\n",
    "def calculate_kappa(column_name):\n",
    "    rater1_labels = df[column_name].loc[df['Rater'] == 'Rater1'].tolist()\n",
    "    rater2_labels = df[column_name].loc[df['Rater'] == 'Rater2'].tolist()\n",
    "    kappa = cohen_kappa_score(rater1_labels, rater2_labels)\n",
    "    return kappa"
   ],
   "metadata": {
    "collapsed": false,
    "pycharm": {
     "name": "#%%\n"
    }
   }
  },
  {
   "cell_type": "code",
   "execution_count": 233,
   "outputs": [
    {
     "name": "stdout",
     "output_type": "stream",
     "text": [
      "Cohen's kappa for Dehumanization: 0.69\n",
      "Cohen's kappa for Emotion: 0.70\n",
      "Cohen's kappa for Mention: 0.92\n"
     ]
    }
   ],
   "source": [
    "# calculate Cohen's kappa for the 'Dehumanization' column\n",
    "dehumanization_kappa = calculate_kappa('Dehumanization')\n",
    "print(\"Cohen's kappa for Dehumanization: {:.2f}\".format(dehumanization_kappa))\n",
    "\n",
    "# repeat the above for the 'Emotion' and 'Mention' columns\n",
    "emotion_kappa = calculate_kappa('Emotion')\n",
    "print(\"Cohen's kappa for Emotion: {:.2f}\".format(emotion_kappa))\n",
    "\n",
    "mention_kappa = calculate_kappa('Mention')\n",
    "print(\"Cohen's kappa for Mention: {:.2f}\".format(mention_kappa))"
   ],
   "metadata": {
    "collapsed": false,
    "pycharm": {
     "name": "#%%\n"
    }
   }
  },
  {
   "cell_type": "markdown",
   "source": [
    "# Correct calculation under the real conditions of different annotators"
   ],
   "metadata": {
    "collapsed": false,
    "pycharm": {
     "name": "#%% md\n"
    }
   }
  },
  {
   "cell_type": "code",
   "execution_count": 352,
   "outputs": [],
   "source": [
    "def calculate_cohens_kappa(df, col_name):\n",
    "    # creating the data for question\n",
    "    df_column = df[['External ID', 'Created By', col_name]]\n",
    "\n",
    "    # identifying the overlapping samples and raters who labeled them\n",
    "    overlapping_samples = df_column.groupby('External ID').filter(lambda x: len(x) > 1)\n",
    "    unique_sample_ids = overlapping_samples['External ID'].unique()\n",
    "    rater_pairs = []\n",
    "    for sample_id in unique_sample_ids:\n",
    "        raters = overlapping_samples[overlapping_samples['External ID'] == sample_id]['Created By'].tolist()\n",
    "        rater_pairs.append(raters)\n",
    "\n",
    "    # averaging the kappa scores for pairs\n",
    "    kappa_scores = []\n",
    "    for sample_id, rater_pair in zip(unique_sample_ids, rater_pairs):\n",
    "        sample_data = overlapping_samples[overlapping_samples['External ID'] == sample_id]\n",
    "        rater1_labels = sample_data[sample_data['Created By'] == rater_pair[0]][col_name].tolist()[0]\n",
    "        rater2_labels = sample_data[sample_data['Created By'] == rater_pair[1]][col_name].tolist()[0]\n",
    "        kappa = cohen_kappa(rater1_labels, rater2_labels)\n",
    "        kappa_scores.append(kappa)\n",
    "    mean_kappa_score = sum(kappa_scores) / len(kappa_scores)\n",
    "\n",
    "    return mean_kappa_score"
   ],
   "metadata": {
    "collapsed": false,
    "pycharm": {
     "name": "#%%\n"
    }
   }
  },
  {
   "cell_type": "code",
   "execution_count": 353,
   "outputs": [
    {
     "data": {
      "text/plain": "0.8462920454545458"
     },
     "execution_count": 353,
     "metadata": {},
     "output_type": "execute_result"
    }
   ],
   "source": [
    "calculate_cohens_kappa(df, 'Dehumanization')"
   ],
   "metadata": {
    "collapsed": false,
    "pycharm": {
     "name": "#%%\n"
    }
   }
  },
  {
   "cell_type": "code",
   "execution_count": 354,
   "outputs": [
    {
     "data": {
      "text/plain": "0.968306818181818"
     },
     "execution_count": 354,
     "metadata": {},
     "output_type": "execute_result"
    }
   ],
   "source": [
    "calculate_cohens_kappa(df, 'Mention')"
   ],
   "metadata": {
    "collapsed": false,
    "pycharm": {
     "name": "#%%\n"
    }
   }
  },
  {
   "cell_type": "code",
   "execution_count": 355,
   "outputs": [
    {
     "data": {
      "text/plain": "0.8560982954545455"
     },
     "execution_count": 355,
     "metadata": {},
     "output_type": "execute_result"
    }
   ],
   "source": [
    "calculate_cohens_kappa(df, 'Emotion')"
   ],
   "metadata": {
    "collapsed": false,
    "pycharm": {
     "name": "#%%\n"
    }
   }
  },
  {
   "cell_type": "code",
   "execution_count": 356,
   "outputs": [],
   "source": [
    "def split_samples_based_on_agreement(df, col_name, positive_class):\n",
    "    df_column = df[['External ID', 'Created By', col_name]]\n",
    "\n",
    "    overlapping_samples = df_column.groupby('External ID').filter(lambda x: len(x) > 1)\n",
    "    unique_sample_ids = overlapping_samples['External ID'].unique()\n",
    "\n",
    "    agreement_samples = pd.DataFrame(columns = df_column.columns)\n",
    "    disagreement_samples = pd.DataFrame(columns = df_column.columns)\n",
    "\n",
    "    for sample_id in unique_sample_ids:\n",
    "        sample_data = overlapping_samples[overlapping_samples['External ID'] == sample_id]\n",
    "        labels = sample_data[col_name].tolist()\n",
    "\n",
    "        if labels.count(positive_class) == 2:\n",
    "            agreement_samples = pd.concat([agreement_samples, sample_data])\n",
    "        elif labels.count(positive_class) == 1:\n",
    "            disagreement_samples = pd.concat([disagreement_samples, sample_data])\n",
    "\n",
    "    return agreement_samples, disagreement_samples"
   ],
   "metadata": {
    "collapsed": false,
    "pycharm": {
     "name": "#%%\n"
    }
   }
  },
  {
   "cell_type": "code",
   "execution_count": 357,
   "outputs": [],
   "source": [
    "agg_samples, disagr_samples = split_samples_based_on_agreement(df, \"Dehumanization\", 'так')"
   ],
   "metadata": {
    "collapsed": false,
    "pycharm": {
     "name": "#%%\n"
    }
   }
  },
  {
   "cell_type": "code",
   "execution_count": 359,
   "outputs": [
    {
     "data": {
      "text/plain": "0.7470588235294118"
     },
     "execution_count": 359,
     "metadata": {},
     "output_type": "execute_result"
    }
   ],
   "source": [
    "len(agg_samples)/(len(agg_samples)+len(disagr_samples))"
   ],
   "metadata": {
    "collapsed": false,
    "pycharm": {
     "name": "#%%\n"
    }
   }
  },
  {
   "cell_type": "markdown",
   "source": [
    "# Labels export - 1st batch"
   ],
   "metadata": {
    "collapsed": false,
    "pycharm": {
     "name": "#%% md\n"
    }
   }
  },
  {
   "cell_type": "code",
   "execution_count": 183,
   "outputs": [],
   "source": [
    "import os\n",
    "import pandas as pd\n",
    "\n",
    "directory_path = \"/Users/katerynaburovova/PycharmProjects/dehumanization/annotation/dataset_shuffled\"\n",
    "file_list = []\n",
    "for filename in os.listdir(directory_path):\n",
    "    if filename.endswith(\".txt\"):\n",
    "        with open(os.path.join(directory_path, filename), \"r\") as file:\n",
    "            file_content = file.read()\n",
    "        file_list.append({\"text\": file_content, \"file_name\": filename})\n",
    "\n",
    "df_datarows = pd.DataFrame(file_list)"
   ],
   "metadata": {
    "collapsed": false,
    "pycharm": {
     "name": "#%%\n"
    }
   }
  },
  {
   "cell_type": "code",
   "execution_count": 184,
   "outputs": [
    {
     "data": {
      "text/plain": "                                                   text   External ID\n0     Как известно, свинья везде грязь найдет, и укр...  row_1281.txt\n1     Тогда как многие украинцы, наоборот, слепо вер...  row_2950.txt\n2     О таком щедром и мирном соседе, как Россия, мо...  row_3496.txt\n3     🇺🇦❌Денацификация по-винницки  Тивривский сельс...  row_2788.txt\n4                   Укронацисты объявили войну Пушкину.  row_2944.txt\n...                                                 ...           ...\n3638  «Я вас, бл@дей, на этот корабль три года собир...  row_2791.txt\n3639  Награжден орденом Мужества за отвагу и самоотв...   row_474.txt\n3640  🇷🇺В районе населенного пункта Часов Яр уничтож...  row_2949.txt\n3641  Участники конкурса американской армии на замен...  row_1298.txt\n3642  Мы постоянно говорим о фашисткой символике хох...   row_312.txt\n\n[3643 rows x 2 columns]",
      "text/html": "<div>\n<style scoped>\n    .dataframe tbody tr th:only-of-type {\n        vertical-align: middle;\n    }\n\n    .dataframe tbody tr th {\n        vertical-align: top;\n    }\n\n    .dataframe thead th {\n        text-align: right;\n    }\n</style>\n<table border=\"1\" class=\"dataframe\">\n  <thead>\n    <tr style=\"text-align: right;\">\n      <th></th>\n      <th>text</th>\n      <th>External ID</th>\n    </tr>\n  </thead>\n  <tbody>\n    <tr>\n      <th>0</th>\n      <td>Как известно, свинья везде грязь найдет, и укр...</td>\n      <td>row_1281.txt</td>\n    </tr>\n    <tr>\n      <th>1</th>\n      <td>Тогда как многие украинцы, наоборот, слепо вер...</td>\n      <td>row_2950.txt</td>\n    </tr>\n    <tr>\n      <th>2</th>\n      <td>О таком щедром и мирном соседе, как Россия, мо...</td>\n      <td>row_3496.txt</td>\n    </tr>\n    <tr>\n      <th>3</th>\n      <td>🇺🇦❌Денацификация по-винницки  Тивривский сельс...</td>\n      <td>row_2788.txt</td>\n    </tr>\n    <tr>\n      <th>4</th>\n      <td>Укронацисты объявили войну Пушкину.</td>\n      <td>row_2944.txt</td>\n    </tr>\n    <tr>\n      <th>...</th>\n      <td>...</td>\n      <td>...</td>\n    </tr>\n    <tr>\n      <th>3638</th>\n      <td>«Я вас, бл@дей, на этот корабль три года собир...</td>\n      <td>row_2791.txt</td>\n    </tr>\n    <tr>\n      <th>3639</th>\n      <td>Награжден орденом Мужества за отвагу и самоотв...</td>\n      <td>row_474.txt</td>\n    </tr>\n    <tr>\n      <th>3640</th>\n      <td>🇷🇺В районе населенного пункта Часов Яр уничтож...</td>\n      <td>row_2949.txt</td>\n    </tr>\n    <tr>\n      <th>3641</th>\n      <td>Участники конкурса американской армии на замен...</td>\n      <td>row_1298.txt</td>\n    </tr>\n    <tr>\n      <th>3642</th>\n      <td>Мы постоянно говорим о фашисткой символике хох...</td>\n      <td>row_312.txt</td>\n    </tr>\n  </tbody>\n</table>\n<p>3643 rows × 2 columns</p>\n</div>"
     },
     "execution_count": 184,
     "metadata": {},
     "output_type": "execute_result"
    }
   ],
   "source": [
    "df_datarows.rename(columns={'file_name':'External ID'}, inplace=True)\n",
    "df_datarows"
   ],
   "metadata": {
    "collapsed": false,
    "pycharm": {
     "name": "#%%\n"
    }
   }
  },
  {
   "cell_type": "code",
   "execution_count": 185,
   "outputs": [
    {
     "data": {
      "text/plain": "                                                   text   External ID\n2016  \"Бандеровцы на Украине сегодня взяли все худше...  row_3210.txt",
      "text/html": "<div>\n<style scoped>\n    .dataframe tbody tr th:only-of-type {\n        vertical-align: middle;\n    }\n\n    .dataframe tbody tr th {\n        vertical-align: top;\n    }\n\n    .dataframe thead th {\n        text-align: right;\n    }\n</style>\n<table border=\"1\" class=\"dataframe\">\n  <thead>\n    <tr style=\"text-align: right;\">\n      <th></th>\n      <th>text</th>\n      <th>External ID</th>\n    </tr>\n  </thead>\n  <tbody>\n    <tr>\n      <th>2016</th>\n      <td>\"Бандеровцы на Украине сегодня взяли все худше...</td>\n      <td>row_3210.txt</td>\n    </tr>\n  </tbody>\n</table>\n</div>"
     },
     "execution_count": 185,
     "metadata": {},
     "output_type": "execute_result"
    }
   ],
   "source": [
    "df_datarows[df_datarows['External ID'] == 'row_3210.txt']"
   ],
   "metadata": {
    "collapsed": false,
    "pycharm": {
     "name": "#%%\n"
    }
   }
  },
  {
   "cell_type": "code",
   "execution_count": 186,
   "outputs": [],
   "source": [
    "df_final=df_labels[['Emotion','Dehumanization', 'Mention', 'External ID', 'Created By']]"
   ],
   "metadata": {
    "collapsed": false,
    "pycharm": {
     "name": "#%%\n"
    }
   }
  },
  {
   "cell_type": "code",
   "execution_count": 187,
   "outputs": [
    {
     "data": {
      "text/plain": "                      Emotion Dehumanization Mention   External ID  \\\n0      ні, оцінка не присутня             ні      ні  row_3642.txt   \n1      ні, оцінка не присутня             ні      ні  row_3641.txt   \n2     так, присутня негативна            так     так  row_3640.txt   \n3     так, присутня негативна            так     так  row_3639.txt   \n4     так, присутня негативна            так     так  row_3637.txt   \n...                       ...            ...     ...           ...   \n4279  так, присутня негативна            так     так     row_9.txt   \n4280   ні, оцінка не присутня             ні      ні   row_666.txt   \n4281  так, присутня негативна            так     так    row_21.txt   \n4282  так, присутня негативна            так     так   row_660.txt   \n4283   ні, оцінка не присутня             ні      ні   row_659.txt   \n\n                        Created By  \n0     kateryna.burovova@ucu.edu.ua  \n1     kateryna.burovova@ucu.edu.ua  \n2     kateryna.burovova@ucu.edu.ua  \n3     kateryna.burovova@ucu.edu.ua  \n4         snizannabotvin@gmail.com  \n...                            ...  \n4279   eugene.1martynyuk@gmail.com  \n4280   eugene.1martynyuk@gmail.com  \n4281   eugene.1martynyuk@gmail.com  \n4282   eugene.1martynyuk@gmail.com  \n4283   eugene.1martynyuk@gmail.com  \n\n[4250 rows x 5 columns]",
      "text/html": "<div>\n<style scoped>\n    .dataframe tbody tr th:only-of-type {\n        vertical-align: middle;\n    }\n\n    .dataframe tbody tr th {\n        vertical-align: top;\n    }\n\n    .dataframe thead th {\n        text-align: right;\n    }\n</style>\n<table border=\"1\" class=\"dataframe\">\n  <thead>\n    <tr style=\"text-align: right;\">\n      <th></th>\n      <th>Emotion</th>\n      <th>Dehumanization</th>\n      <th>Mention</th>\n      <th>External ID</th>\n      <th>Created By</th>\n    </tr>\n  </thead>\n  <tbody>\n    <tr>\n      <th>0</th>\n      <td>ні, оцінка не присутня</td>\n      <td>ні</td>\n      <td>ні</td>\n      <td>row_3642.txt</td>\n      <td>kateryna.burovova@ucu.edu.ua</td>\n    </tr>\n    <tr>\n      <th>1</th>\n      <td>ні, оцінка не присутня</td>\n      <td>ні</td>\n      <td>ні</td>\n      <td>row_3641.txt</td>\n      <td>kateryna.burovova@ucu.edu.ua</td>\n    </tr>\n    <tr>\n      <th>2</th>\n      <td>так, присутня негативна</td>\n      <td>так</td>\n      <td>так</td>\n      <td>row_3640.txt</td>\n      <td>kateryna.burovova@ucu.edu.ua</td>\n    </tr>\n    <tr>\n      <th>3</th>\n      <td>так, присутня негативна</td>\n      <td>так</td>\n      <td>так</td>\n      <td>row_3639.txt</td>\n      <td>kateryna.burovova@ucu.edu.ua</td>\n    </tr>\n    <tr>\n      <th>4</th>\n      <td>так, присутня негативна</td>\n      <td>так</td>\n      <td>так</td>\n      <td>row_3637.txt</td>\n      <td>snizannabotvin@gmail.com</td>\n    </tr>\n    <tr>\n      <th>...</th>\n      <td>...</td>\n      <td>...</td>\n      <td>...</td>\n      <td>...</td>\n      <td>...</td>\n    </tr>\n    <tr>\n      <th>4279</th>\n      <td>так, присутня негативна</td>\n      <td>так</td>\n      <td>так</td>\n      <td>row_9.txt</td>\n      <td>eugene.1martynyuk@gmail.com</td>\n    </tr>\n    <tr>\n      <th>4280</th>\n      <td>ні, оцінка не присутня</td>\n      <td>ні</td>\n      <td>ні</td>\n      <td>row_666.txt</td>\n      <td>eugene.1martynyuk@gmail.com</td>\n    </tr>\n    <tr>\n      <th>4281</th>\n      <td>так, присутня негативна</td>\n      <td>так</td>\n      <td>так</td>\n      <td>row_21.txt</td>\n      <td>eugene.1martynyuk@gmail.com</td>\n    </tr>\n    <tr>\n      <th>4282</th>\n      <td>так, присутня негативна</td>\n      <td>так</td>\n      <td>так</td>\n      <td>row_660.txt</td>\n      <td>eugene.1martynyuk@gmail.com</td>\n    </tr>\n    <tr>\n      <th>4283</th>\n      <td>ні, оцінка не присутня</td>\n      <td>ні</td>\n      <td>ні</td>\n      <td>row_659.txt</td>\n      <td>eugene.1martynyuk@gmail.com</td>\n    </tr>\n  </tbody>\n</table>\n<p>4250 rows × 5 columns</p>\n</div>"
     },
     "execution_count": 187,
     "metadata": {},
     "output_type": "execute_result"
    }
   ],
   "source": [
    "df_final"
   ],
   "metadata": {
    "collapsed": false,
    "pycharm": {
     "name": "#%%\n"
    }
   }
  },
  {
   "cell_type": "code",
   "execution_count": 188,
   "outputs": [
    {
     "data": {
      "text/plain": "array(['ні, оцінка не присутня', 'так, присутня негативна',\n       'не можу визначитись з правильною відповіддю',\n       'так, присутня позитивна'], dtype=object)"
     },
     "execution_count": 188,
     "metadata": {},
     "output_type": "execute_result"
    }
   ],
   "source": [
    "df_final[\"Emotion\"].unique()"
   ],
   "metadata": {
    "collapsed": false,
    "pycharm": {
     "name": "#%%\n"
    }
   }
  },
  {
   "cell_type": "code",
   "execution_count": 189,
   "outputs": [
    {
     "data": {
      "text/plain": "array(['ні', 'так', 'не можу визначитись із відповіддю'], dtype=object)"
     },
     "execution_count": 189,
     "metadata": {},
     "output_type": "execute_result"
    }
   ],
   "source": [
    "df_final[\"Mention\"].unique()\n"
   ],
   "metadata": {
    "collapsed": false,
    "pycharm": {
     "name": "#%%\n"
    }
   }
  },
  {
   "cell_type": "code",
   "execution_count": 190,
   "outputs": [],
   "source": [
    "df_merged = pd.merge(df_final, df_datarows, on='External ID', how='left')"
   ],
   "metadata": {
    "collapsed": false,
    "pycharm": {
     "name": "#%%\n"
    }
   }
  },
  {
   "cell_type": "code",
   "execution_count": 191,
   "outputs": [
    {
     "data": {
      "text/plain": "array(['ні'], dtype=object)"
     },
     "execution_count": 191,
     "metadata": {},
     "output_type": "execute_result"
    }
   ],
   "source": [
    "#bs check\n",
    "df_merged[df_merged['Mention']=='ні']['Dehumanization'].unique()\n"
   ],
   "metadata": {
    "collapsed": false,
    "pycharm": {
     "name": "#%%\n"
    }
   }
  },
  {
   "cell_type": "code",
   "execution_count": 192,
   "outputs": [
    {
     "data": {
      "text/plain": "array(['ні, оцінка не присутня'], dtype=object)"
     },
     "execution_count": 192,
     "metadata": {},
     "output_type": "execute_result"
    }
   ],
   "source": [
    "#bs check\n",
    "df_merged[df_merged['Mention']=='ні']['Emotion'].unique()"
   ],
   "metadata": {
    "collapsed": false,
    "pycharm": {
     "name": "#%%\n"
    }
   }
  },
  {
   "cell_type": "code",
   "execution_count": 193,
   "outputs": [
    {
     "data": {
      "text/plain": "                      Emotion Dehumanization Mention   External ID  \\\n0      ні, оцінка не присутня             ні      ні  row_3642.txt   \n1      ні, оцінка не присутня             ні      ні  row_3641.txt   \n2     так, присутня негативна            так     так  row_3640.txt   \n3     так, присутня негативна            так     так  row_3639.txt   \n4     так, присутня негативна            так     так  row_3637.txt   \n...                       ...            ...     ...           ...   \n4245  так, присутня негативна            так     так     row_9.txt   \n4246   ні, оцінка не присутня             ні      ні   row_666.txt   \n4247  так, присутня негативна            так     так    row_21.txt   \n4248  так, присутня негативна            так     так   row_660.txt   \n4249   ні, оцінка не присутня             ні      ні   row_659.txt   \n\n                        Created By  \\\n0     kateryna.burovova@ucu.edu.ua   \n1     kateryna.burovova@ucu.edu.ua   \n2     kateryna.burovova@ucu.edu.ua   \n3     kateryna.burovova@ucu.edu.ua   \n4         snizannabotvin@gmail.com   \n...                            ...   \n4245   eugene.1martynyuk@gmail.com   \n4246   eugene.1martynyuk@gmail.com   \n4247   eugene.1martynyuk@gmail.com   \n4248   eugene.1martynyuk@gmail.com   \n4249   eugene.1martynyuk@gmail.com   \n\n                                                   text  \n0     ❗️Один из протестующих погиб, заявили в МВД Бе...  \n1     Предлагаем немного отвлечься и поиграть в игру...  \n2     ⚡️🇺🇦🇷🇺В Запорожской области ВСУ скапливают вой...  \n3     Украина открыла глаза Далмерсу, и он начал рас...  \n4     Корчинский - дешёвая проститутка неоконовского...  \n...                                                 ...  \n4245  🇺🇦12 000 укронацистов готовят атаку на Мелитоп...  \n4246  Наш фильм неожиданно для нас самих попал в топ...  \n4247                P.S. Укрорейх не спим.  @rosich_rus  \n4248  Наша с вами задача не скатываться в режим \"зра...  \n4249    Таков гоморейх.  [Орда] - родная, злобная, твоя  \n\n[4250 rows x 6 columns]",
      "text/html": "<div>\n<style scoped>\n    .dataframe tbody tr th:only-of-type {\n        vertical-align: middle;\n    }\n\n    .dataframe tbody tr th {\n        vertical-align: top;\n    }\n\n    .dataframe thead th {\n        text-align: right;\n    }\n</style>\n<table border=\"1\" class=\"dataframe\">\n  <thead>\n    <tr style=\"text-align: right;\">\n      <th></th>\n      <th>Emotion</th>\n      <th>Dehumanization</th>\n      <th>Mention</th>\n      <th>External ID</th>\n      <th>Created By</th>\n      <th>text</th>\n    </tr>\n  </thead>\n  <tbody>\n    <tr>\n      <th>0</th>\n      <td>ні, оцінка не присутня</td>\n      <td>ні</td>\n      <td>ні</td>\n      <td>row_3642.txt</td>\n      <td>kateryna.burovova@ucu.edu.ua</td>\n      <td>❗️Один из протестующих погиб, заявили в МВД Бе...</td>\n    </tr>\n    <tr>\n      <th>1</th>\n      <td>ні, оцінка не присутня</td>\n      <td>ні</td>\n      <td>ні</td>\n      <td>row_3641.txt</td>\n      <td>kateryna.burovova@ucu.edu.ua</td>\n      <td>Предлагаем немного отвлечься и поиграть в игру...</td>\n    </tr>\n    <tr>\n      <th>2</th>\n      <td>так, присутня негативна</td>\n      <td>так</td>\n      <td>так</td>\n      <td>row_3640.txt</td>\n      <td>kateryna.burovova@ucu.edu.ua</td>\n      <td>⚡️🇺🇦🇷🇺В Запорожской области ВСУ скапливают вой...</td>\n    </tr>\n    <tr>\n      <th>3</th>\n      <td>так, присутня негативна</td>\n      <td>так</td>\n      <td>так</td>\n      <td>row_3639.txt</td>\n      <td>kateryna.burovova@ucu.edu.ua</td>\n      <td>Украина открыла глаза Далмерсу, и он начал рас...</td>\n    </tr>\n    <tr>\n      <th>4</th>\n      <td>так, присутня негативна</td>\n      <td>так</td>\n      <td>так</td>\n      <td>row_3637.txt</td>\n      <td>snizannabotvin@gmail.com</td>\n      <td>Корчинский - дешёвая проститутка неоконовского...</td>\n    </tr>\n    <tr>\n      <th>...</th>\n      <td>...</td>\n      <td>...</td>\n      <td>...</td>\n      <td>...</td>\n      <td>...</td>\n      <td>...</td>\n    </tr>\n    <tr>\n      <th>4245</th>\n      <td>так, присутня негативна</td>\n      <td>так</td>\n      <td>так</td>\n      <td>row_9.txt</td>\n      <td>eugene.1martynyuk@gmail.com</td>\n      <td>🇺🇦12 000 укронацистов готовят атаку на Мелитоп...</td>\n    </tr>\n    <tr>\n      <th>4246</th>\n      <td>ні, оцінка не присутня</td>\n      <td>ні</td>\n      <td>ні</td>\n      <td>row_666.txt</td>\n      <td>eugene.1martynyuk@gmail.com</td>\n      <td>Наш фильм неожиданно для нас самих попал в топ...</td>\n    </tr>\n    <tr>\n      <th>4247</th>\n      <td>так, присутня негативна</td>\n      <td>так</td>\n      <td>так</td>\n      <td>row_21.txt</td>\n      <td>eugene.1martynyuk@gmail.com</td>\n      <td>P.S. Укрорейх не спим.  @rosich_rus</td>\n    </tr>\n    <tr>\n      <th>4248</th>\n      <td>так, присутня негативна</td>\n      <td>так</td>\n      <td>так</td>\n      <td>row_660.txt</td>\n      <td>eugene.1martynyuk@gmail.com</td>\n      <td>Наша с вами задача не скатываться в режим \"зра...</td>\n    </tr>\n    <tr>\n      <th>4249</th>\n      <td>ні, оцінка не присутня</td>\n      <td>ні</td>\n      <td>ні</td>\n      <td>row_659.txt</td>\n      <td>eugene.1martynyuk@gmail.com</td>\n      <td>Таков гоморейх.  [Орда] - родная, злобная, твоя</td>\n    </tr>\n  </tbody>\n</table>\n<p>4250 rows × 6 columns</p>\n</div>"
     },
     "execution_count": 193,
     "metadata": {},
     "output_type": "execute_result"
    }
   ],
   "source": [
    "df_merged"
   ],
   "metadata": {
    "collapsed": false,
    "pycharm": {
     "name": "#%%\n"
    }
   }
  },
  {
   "cell_type": "markdown",
   "source": [
    "At this stage we should choose whose labels should remain in the final dataset for those samples labeled by 2 labelers.\n",
    "\n",
    "We have investigated a random portion of disagreements manually as only manual investigation can provide insights into potential biases and/or misunderstanding of guidelines.\n",
    "We have also considered the annotator expertise and background that we were informed of."
   ],
   "metadata": {
    "collapsed": false,
    "pycharm": {
     "name": "#%% md\n"
    }
   }
  },
  {
   "cell_type": "code",
   "execution_count": 194,
   "outputs": [],
   "source": [
    "authors = df_labels['Created By'].unique().tolist()\n",
    "rating = [1, 4, 7, 6, 8, 2, 5, 3, 9]"
   ],
   "metadata": {
    "collapsed": false,
    "pycharm": {
     "name": "#%%\n"
    }
   }
  },
  {
   "cell_type": "code",
   "execution_count": 195,
   "outputs": [],
   "source": [
    "data = {'Created By': authors, 'rating': rating}\n",
    "df_rating = pd.DataFrame(data)"
   ],
   "metadata": {
    "collapsed": false,
    "pycharm": {
     "name": "#%%\n"
    }
   }
  },
  {
   "cell_type": "code",
   "execution_count": 196,
   "outputs": [],
   "source": [
    "df_combined = df_merged.merge(df_rating, on='Created By')"
   ],
   "metadata": {
    "collapsed": false,
    "pycharm": {
     "name": "#%%\n"
    }
   }
  },
  {
   "cell_type": "code",
   "execution_count": 197,
   "outputs": [],
   "source": [
    "df_combined = df_combined.sort_values(['External ID', 'rating'], ascending=True)"
   ],
   "metadata": {
    "collapsed": false,
    "pycharm": {
     "name": "#%%\n"
    }
   }
  },
  {
   "cell_type": "code",
   "execution_count": 198,
   "outputs": [
    {
     "data": {
      "text/plain": "                      Emotion Dehumanization Mention   External ID  \\\n1219  так, присутня негативна            так     так     row_0.txt   \n1218   ні, оцінка не присутня             ні      ні     row_1.txt   \n1591  так, присутня негативна            так     так    row_10.txt   \n1198  так, присутня негативна            так     так   row_100.txt   \n3247   ні, оцінка не присутня             ні     так  row_1000.txt   \n...                       ...            ...     ...           ...   \n3612  так, присутня негативна             ні     так   row_996.txt   \n4121  так, присутня негативна             ні     так   row_997.txt   \n4120   ні, оцінка не присутня            так     так   row_998.txt   \n3249  так, присутня негативна            так     так   row_998.txt   \n3248   ні, оцінка не присутня             ні      ні   row_999.txt   \n\n                        Created By  \\\n1219      snizannabotvin@gmail.com   \n1218      snizannabotvin@gmail.com   \n1591      snizannabotvin@gmail.com   \n1198      snizannabotvin@gmail.com   \n3247        tutovadesign@gmail.com   \n...                            ...   \n3612        tutovadesign@gmail.com   \n4121  yevhen.marchenko91@gmail.com   \n4120  yevhen.marchenko91@gmail.com   \n3249        tutovadesign@gmail.com   \n3248        tutovadesign@gmail.com   \n\n                                                   text  rating  \n1219  Всвязи с этим немного поправлю коллег ⤵️  \"Они...       4  \n1218  Литературный критик Галина Юзефович о новом ро...       4  \n1591  Почему на базах неонацистов стоят языческие ис...       4  \n1198  Группа добровольцев-медиков из Чеченской Респу...       4  \n3247  ВСУшники, переходите на сторону добра, у нас т...       5  \n...                                                 ...     ...  \n3612  И понеслась мазепинщино-петлюровщино-бандеровщ...       5  \n4121  Наш соратник по русскому движению Алексей Сели...       3  \n4120  Хорошее видео от 4 бригады НМ ЛНР https://t.me...       3  \n3249  Хорошее видео от 4 бригады НМ ЛНР https://t.me...       5  \n3248  Замоскворецкий районный суд Москвы отклонил ис...       5  \n\n[4250 rows x 7 columns]",
      "text/html": "<div>\n<style scoped>\n    .dataframe tbody tr th:only-of-type {\n        vertical-align: middle;\n    }\n\n    .dataframe tbody tr th {\n        vertical-align: top;\n    }\n\n    .dataframe thead th {\n        text-align: right;\n    }\n</style>\n<table border=\"1\" class=\"dataframe\">\n  <thead>\n    <tr style=\"text-align: right;\">\n      <th></th>\n      <th>Emotion</th>\n      <th>Dehumanization</th>\n      <th>Mention</th>\n      <th>External ID</th>\n      <th>Created By</th>\n      <th>text</th>\n      <th>rating</th>\n    </tr>\n  </thead>\n  <tbody>\n    <tr>\n      <th>1219</th>\n      <td>так, присутня негативна</td>\n      <td>так</td>\n      <td>так</td>\n      <td>row_0.txt</td>\n      <td>snizannabotvin@gmail.com</td>\n      <td>Всвязи с этим немного поправлю коллег ⤵️  \"Они...</td>\n      <td>4</td>\n    </tr>\n    <tr>\n      <th>1218</th>\n      <td>ні, оцінка не присутня</td>\n      <td>ні</td>\n      <td>ні</td>\n      <td>row_1.txt</td>\n      <td>snizannabotvin@gmail.com</td>\n      <td>Литературный критик Галина Юзефович о новом ро...</td>\n      <td>4</td>\n    </tr>\n    <tr>\n      <th>1591</th>\n      <td>так, присутня негативна</td>\n      <td>так</td>\n      <td>так</td>\n      <td>row_10.txt</td>\n      <td>snizannabotvin@gmail.com</td>\n      <td>Почему на базах неонацистов стоят языческие ис...</td>\n      <td>4</td>\n    </tr>\n    <tr>\n      <th>1198</th>\n      <td>так, присутня негативна</td>\n      <td>так</td>\n      <td>так</td>\n      <td>row_100.txt</td>\n      <td>snizannabotvin@gmail.com</td>\n      <td>Группа добровольцев-медиков из Чеченской Респу...</td>\n      <td>4</td>\n    </tr>\n    <tr>\n      <th>3247</th>\n      <td>ні, оцінка не присутня</td>\n      <td>ні</td>\n      <td>так</td>\n      <td>row_1000.txt</td>\n      <td>tutovadesign@gmail.com</td>\n      <td>ВСУшники, переходите на сторону добра, у нас т...</td>\n      <td>5</td>\n    </tr>\n    <tr>\n      <th>...</th>\n      <td>...</td>\n      <td>...</td>\n      <td>...</td>\n      <td>...</td>\n      <td>...</td>\n      <td>...</td>\n      <td>...</td>\n    </tr>\n    <tr>\n      <th>3612</th>\n      <td>так, присутня негативна</td>\n      <td>ні</td>\n      <td>так</td>\n      <td>row_996.txt</td>\n      <td>tutovadesign@gmail.com</td>\n      <td>И понеслась мазепинщино-петлюровщино-бандеровщ...</td>\n      <td>5</td>\n    </tr>\n    <tr>\n      <th>4121</th>\n      <td>так, присутня негативна</td>\n      <td>ні</td>\n      <td>так</td>\n      <td>row_997.txt</td>\n      <td>yevhen.marchenko91@gmail.com</td>\n      <td>Наш соратник по русскому движению Алексей Сели...</td>\n      <td>3</td>\n    </tr>\n    <tr>\n      <th>4120</th>\n      <td>ні, оцінка не присутня</td>\n      <td>так</td>\n      <td>так</td>\n      <td>row_998.txt</td>\n      <td>yevhen.marchenko91@gmail.com</td>\n      <td>Хорошее видео от 4 бригады НМ ЛНР https://t.me...</td>\n      <td>3</td>\n    </tr>\n    <tr>\n      <th>3249</th>\n      <td>так, присутня негативна</td>\n      <td>так</td>\n      <td>так</td>\n      <td>row_998.txt</td>\n      <td>tutovadesign@gmail.com</td>\n      <td>Хорошее видео от 4 бригады НМ ЛНР https://t.me...</td>\n      <td>5</td>\n    </tr>\n    <tr>\n      <th>3248</th>\n      <td>ні, оцінка не присутня</td>\n      <td>ні</td>\n      <td>ні</td>\n      <td>row_999.txt</td>\n      <td>tutovadesign@gmail.com</td>\n      <td>Замоскворецкий районный суд Москвы отклонил ис...</td>\n      <td>5</td>\n    </tr>\n  </tbody>\n</table>\n<p>4250 rows × 7 columns</p>\n</div>"
     },
     "execution_count": 198,
     "metadata": {},
     "output_type": "execute_result"
    }
   ],
   "source": [
    "df_combined"
   ],
   "metadata": {
    "collapsed": false,
    "pycharm": {
     "name": "#%%\n"
    }
   }
  },
  {
   "cell_type": "code",
   "execution_count": 199,
   "outputs": [],
   "source": [
    "df_cleaned = df_combined.drop_duplicates(subset='External ID', keep='first')"
   ],
   "metadata": {
    "collapsed": false,
    "pycharm": {
     "name": "#%%\n"
    }
   }
  },
  {
   "cell_type": "code",
   "execution_count": 200,
   "outputs": [
    {
     "data": {
      "text/plain": "                      Emotion Dehumanization Mention   External ID  \\\n1219  так, присутня негативна            так     так     row_0.txt   \n1218   ні, оцінка не присутня             ні      ні     row_1.txt   \n1591  так, присутня негативна            так     так    row_10.txt   \n1198  так, присутня негативна            так     так   row_100.txt   \n3247   ні, оцінка не присутня             ні     так  row_1000.txt   \n...                       ...            ...     ...           ...   \n3613   ні, оцінка не присутня             ні     так   row_995.txt   \n3612  так, присутня негативна             ні     так   row_996.txt   \n4121  так, присутня негативна             ні     так   row_997.txt   \n4120   ні, оцінка не присутня            так     так   row_998.txt   \n3248   ні, оцінка не присутня             ні      ні   row_999.txt   \n\n                        Created By  \\\n1219      snizannabotvin@gmail.com   \n1218      snizannabotvin@gmail.com   \n1591      snizannabotvin@gmail.com   \n1198      snizannabotvin@gmail.com   \n3247        tutovadesign@gmail.com   \n...                            ...   \n3613        tutovadesign@gmail.com   \n3612        tutovadesign@gmail.com   \n4121  yevhen.marchenko91@gmail.com   \n4120  yevhen.marchenko91@gmail.com   \n3248        tutovadesign@gmail.com   \n\n                                                   text  rating  \n1219  Всвязи с этим немного поправлю коллег ⤵️  \"Они...       4  \n1218  Литературный критик Галина Юзефович о новом ро...       4  \n1591  Почему на базах неонацистов стоят языческие ис...       4  \n1198  Группа добровольцев-медиков из Чеченской Респу...       4  \n3247  ВСУшники, переходите на сторону добра, у нас т...       5  \n...                                                 ...     ...  \n3613  Утренний брифинг Минобороны России:  ▪️ россий...       5  \n3612  И понеслась мазепинщино-петлюровщино-бандеровщ...       5  \n4121  Наш соратник по русскому движению Алексей Сели...       3  \n4120  Хорошее видео от 4 бригады НМ ЛНР https://t.me...       3  \n3248  Замоскворецкий районный суд Москвы отклонил ис...       5  \n\n[3546 rows x 7 columns]",
      "text/html": "<div>\n<style scoped>\n    .dataframe tbody tr th:only-of-type {\n        vertical-align: middle;\n    }\n\n    .dataframe tbody tr th {\n        vertical-align: top;\n    }\n\n    .dataframe thead th {\n        text-align: right;\n    }\n</style>\n<table border=\"1\" class=\"dataframe\">\n  <thead>\n    <tr style=\"text-align: right;\">\n      <th></th>\n      <th>Emotion</th>\n      <th>Dehumanization</th>\n      <th>Mention</th>\n      <th>External ID</th>\n      <th>Created By</th>\n      <th>text</th>\n      <th>rating</th>\n    </tr>\n  </thead>\n  <tbody>\n    <tr>\n      <th>1219</th>\n      <td>так, присутня негативна</td>\n      <td>так</td>\n      <td>так</td>\n      <td>row_0.txt</td>\n      <td>snizannabotvin@gmail.com</td>\n      <td>Всвязи с этим немного поправлю коллег ⤵️  \"Они...</td>\n      <td>4</td>\n    </tr>\n    <tr>\n      <th>1218</th>\n      <td>ні, оцінка не присутня</td>\n      <td>ні</td>\n      <td>ні</td>\n      <td>row_1.txt</td>\n      <td>snizannabotvin@gmail.com</td>\n      <td>Литературный критик Галина Юзефович о новом ро...</td>\n      <td>4</td>\n    </tr>\n    <tr>\n      <th>1591</th>\n      <td>так, присутня негативна</td>\n      <td>так</td>\n      <td>так</td>\n      <td>row_10.txt</td>\n      <td>snizannabotvin@gmail.com</td>\n      <td>Почему на базах неонацистов стоят языческие ис...</td>\n      <td>4</td>\n    </tr>\n    <tr>\n      <th>1198</th>\n      <td>так, присутня негативна</td>\n      <td>так</td>\n      <td>так</td>\n      <td>row_100.txt</td>\n      <td>snizannabotvin@gmail.com</td>\n      <td>Группа добровольцев-медиков из Чеченской Респу...</td>\n      <td>4</td>\n    </tr>\n    <tr>\n      <th>3247</th>\n      <td>ні, оцінка не присутня</td>\n      <td>ні</td>\n      <td>так</td>\n      <td>row_1000.txt</td>\n      <td>tutovadesign@gmail.com</td>\n      <td>ВСУшники, переходите на сторону добра, у нас т...</td>\n      <td>5</td>\n    </tr>\n    <tr>\n      <th>...</th>\n      <td>...</td>\n      <td>...</td>\n      <td>...</td>\n      <td>...</td>\n      <td>...</td>\n      <td>...</td>\n      <td>...</td>\n    </tr>\n    <tr>\n      <th>3613</th>\n      <td>ні, оцінка не присутня</td>\n      <td>ні</td>\n      <td>так</td>\n      <td>row_995.txt</td>\n      <td>tutovadesign@gmail.com</td>\n      <td>Утренний брифинг Минобороны России:  ▪️ россий...</td>\n      <td>5</td>\n    </tr>\n    <tr>\n      <th>3612</th>\n      <td>так, присутня негативна</td>\n      <td>ні</td>\n      <td>так</td>\n      <td>row_996.txt</td>\n      <td>tutovadesign@gmail.com</td>\n      <td>И понеслась мазепинщино-петлюровщино-бандеровщ...</td>\n      <td>5</td>\n    </tr>\n    <tr>\n      <th>4121</th>\n      <td>так, присутня негативна</td>\n      <td>ні</td>\n      <td>так</td>\n      <td>row_997.txt</td>\n      <td>yevhen.marchenko91@gmail.com</td>\n      <td>Наш соратник по русскому движению Алексей Сели...</td>\n      <td>3</td>\n    </tr>\n    <tr>\n      <th>4120</th>\n      <td>ні, оцінка не присутня</td>\n      <td>так</td>\n      <td>так</td>\n      <td>row_998.txt</td>\n      <td>yevhen.marchenko91@gmail.com</td>\n      <td>Хорошее видео от 4 бригады НМ ЛНР https://t.me...</td>\n      <td>3</td>\n    </tr>\n    <tr>\n      <th>3248</th>\n      <td>ні, оцінка не присутня</td>\n      <td>ні</td>\n      <td>ні</td>\n      <td>row_999.txt</td>\n      <td>tutovadesign@gmail.com</td>\n      <td>Замоскворецкий районный суд Москвы отклонил ис...</td>\n      <td>5</td>\n    </tr>\n  </tbody>\n</table>\n<p>3546 rows × 7 columns</p>\n</div>"
     },
     "execution_count": 200,
     "metadata": {},
     "output_type": "execute_result"
    }
   ],
   "source": [
    "df_cleaned"
   ],
   "metadata": {
    "collapsed": false,
    "pycharm": {
     "name": "#%%\n"
    }
   }
  },
  {
   "cell_type": "markdown",
   "source": [
    "Double-checking since it's crucial for our task"
   ],
   "metadata": {
    "collapsed": false,
    "pycharm": {
     "name": "#%% md\n"
    }
   }
  },
  {
   "cell_type": "code",
   "execution_count": 261,
   "outputs": [],
   "source": [
    "value_counts = df_combined['External ID'].value_counts()\n",
    "unique_rows = df_combined[df_combined['External ID'].isin(value_counts[value_counts == 1].index)]\n",
    "df_bs_check = df_combined.drop(unique_rows.index)"
   ],
   "metadata": {
    "collapsed": false,
    "pycharm": {
     "name": "#%%\n"
    }
   }
  },
  {
   "cell_type": "code",
   "execution_count": 262,
   "outputs": [
    {
     "data": {
      "text/plain": "                      Emotion Dehumanization Mention   External ID  \\\n4119  так, присутня негативна            так     так  row_1005.txt   \n3242  так, присутня негативна             ні     так  row_1005.txt   \n4118  так, присутня негативна            так     так  row_1006.txt   \n3241  так, присутня негативна            так     так  row_1006.txt   \n4117  так, присутня негативна            так     так  row_1008.txt   \n...                       ...            ...     ...           ...   \n2384  так, присутня негативна            так     так    row_98.txt   \n126    ні, оцінка не присутня             ні      ні   row_984.txt   \n3673   ні, оцінка не присутня             ні      ні   row_984.txt   \n4120   ні, оцінка не присутня            так     так   row_998.txt   \n3249  так, присутня негативна            так     так   row_998.txt   \n\n                        Created By  \\\n4119  yevhen.marchenko91@gmail.com   \n3242        tutovadesign@gmail.com   \n4118  yevhen.marchenko91@gmail.com   \n3241        tutovadesign@gmail.com   \n4117  yevhen.marchenko91@gmail.com   \n...                            ...   \n2384  nazariy.melnychuk9@gmail.com   \n126   kateryna.burovova@ucu.edu.ua   \n3673        tutovadesign@gmail.com   \n4120  yevhen.marchenko91@gmail.com   \n3249        tutovadesign@gmail.com   \n\n                                                   text  rating  \n4119  Оно провалилось, но укровояки хвалились тем, ч...       3  \n3242  Оно провалилось, но укровояки хвалились тем, ч...       5  \n4118  Западный мем о степени правдивости пропаганды ...       3  \n3241  Западный мем о степени правдивости пропаганды ...       5  \n4117  Война до последнего украинца – это вовсе не вы...       3  \n...                                                 ...     ...  \n2384  Благодаря такому единству можно уверенно гаран...       7  \n126   Этапы Китайской компартии по пути к мировой ге...       1  \n3673  Этапы Китайской компартии по пути к мировой ге...       5  \n4120  Хорошее видео от 4 бригады НМ ЛНР https://t.me...       3  \n3249  Хорошее видео от 4 бригады НМ ЛНР https://t.me...       5  \n\n[1408 rows x 7 columns]",
      "text/html": "<div>\n<style scoped>\n    .dataframe tbody tr th:only-of-type {\n        vertical-align: middle;\n    }\n\n    .dataframe tbody tr th {\n        vertical-align: top;\n    }\n\n    .dataframe thead th {\n        text-align: right;\n    }\n</style>\n<table border=\"1\" class=\"dataframe\">\n  <thead>\n    <tr style=\"text-align: right;\">\n      <th></th>\n      <th>Emotion</th>\n      <th>Dehumanization</th>\n      <th>Mention</th>\n      <th>External ID</th>\n      <th>Created By</th>\n      <th>text</th>\n      <th>rating</th>\n    </tr>\n  </thead>\n  <tbody>\n    <tr>\n      <th>4119</th>\n      <td>так, присутня негативна</td>\n      <td>так</td>\n      <td>так</td>\n      <td>row_1005.txt</td>\n      <td>yevhen.marchenko91@gmail.com</td>\n      <td>Оно провалилось, но укровояки хвалились тем, ч...</td>\n      <td>3</td>\n    </tr>\n    <tr>\n      <th>3242</th>\n      <td>так, присутня негативна</td>\n      <td>ні</td>\n      <td>так</td>\n      <td>row_1005.txt</td>\n      <td>tutovadesign@gmail.com</td>\n      <td>Оно провалилось, но укровояки хвалились тем, ч...</td>\n      <td>5</td>\n    </tr>\n    <tr>\n      <th>4118</th>\n      <td>так, присутня негативна</td>\n      <td>так</td>\n      <td>так</td>\n      <td>row_1006.txt</td>\n      <td>yevhen.marchenko91@gmail.com</td>\n      <td>Западный мем о степени правдивости пропаганды ...</td>\n      <td>3</td>\n    </tr>\n    <tr>\n      <th>3241</th>\n      <td>так, присутня негативна</td>\n      <td>так</td>\n      <td>так</td>\n      <td>row_1006.txt</td>\n      <td>tutovadesign@gmail.com</td>\n      <td>Западный мем о степени правдивости пропаганды ...</td>\n      <td>5</td>\n    </tr>\n    <tr>\n      <th>4117</th>\n      <td>так, присутня негативна</td>\n      <td>так</td>\n      <td>так</td>\n      <td>row_1008.txt</td>\n      <td>yevhen.marchenko91@gmail.com</td>\n      <td>Война до последнего украинца – это вовсе не вы...</td>\n      <td>3</td>\n    </tr>\n    <tr>\n      <th>...</th>\n      <td>...</td>\n      <td>...</td>\n      <td>...</td>\n      <td>...</td>\n      <td>...</td>\n      <td>...</td>\n      <td>...</td>\n    </tr>\n    <tr>\n      <th>2384</th>\n      <td>так, присутня негативна</td>\n      <td>так</td>\n      <td>так</td>\n      <td>row_98.txt</td>\n      <td>nazariy.melnychuk9@gmail.com</td>\n      <td>Благодаря такому единству можно уверенно гаран...</td>\n      <td>7</td>\n    </tr>\n    <tr>\n      <th>126</th>\n      <td>ні, оцінка не присутня</td>\n      <td>ні</td>\n      <td>ні</td>\n      <td>row_984.txt</td>\n      <td>kateryna.burovova@ucu.edu.ua</td>\n      <td>Этапы Китайской компартии по пути к мировой ге...</td>\n      <td>1</td>\n    </tr>\n    <tr>\n      <th>3673</th>\n      <td>ні, оцінка не присутня</td>\n      <td>ні</td>\n      <td>ні</td>\n      <td>row_984.txt</td>\n      <td>tutovadesign@gmail.com</td>\n      <td>Этапы Китайской компартии по пути к мировой ге...</td>\n      <td>5</td>\n    </tr>\n    <tr>\n      <th>4120</th>\n      <td>ні, оцінка не присутня</td>\n      <td>так</td>\n      <td>так</td>\n      <td>row_998.txt</td>\n      <td>yevhen.marchenko91@gmail.com</td>\n      <td>Хорошее видео от 4 бригады НМ ЛНР https://t.me...</td>\n      <td>3</td>\n    </tr>\n    <tr>\n      <th>3249</th>\n      <td>так, присутня негативна</td>\n      <td>так</td>\n      <td>так</td>\n      <td>row_998.txt</td>\n      <td>tutovadesign@gmail.com</td>\n      <td>Хорошее видео от 4 бригады НМ ЛНР https://t.me...</td>\n      <td>5</td>\n    </tr>\n  </tbody>\n</table>\n<p>1408 rows × 7 columns</p>\n</div>"
     },
     "execution_count": 262,
     "metadata": {},
     "output_type": "execute_result"
    }
   ],
   "source": [
    "df_bs_check.sort_values(['External ID'])"
   ],
   "metadata": {
    "collapsed": false,
    "pycharm": {
     "name": "#%%\n"
    }
   }
  },
  {
   "cell_type": "code",
   "execution_count": 263,
   "outputs": [
    {
     "data": {
      "text/plain": "                     Emotion Dehumanization Mention   External ID  \\\n507  так, присутня негативна            так     так  row_1128.txt   \n\n                   Created By  \\\n507  snizannabotvin@gmail.com   \n\n                                                  text  rating  \n507  По виртуальным планам укрорейха они уже взяли ...       4  ",
      "text/html": "<div>\n<style scoped>\n    .dataframe tbody tr th:only-of-type {\n        vertical-align: middle;\n    }\n\n    .dataframe tbody tr th {\n        vertical-align: top;\n    }\n\n    .dataframe thead th {\n        text-align: right;\n    }\n</style>\n<table border=\"1\" class=\"dataframe\">\n  <thead>\n    <tr style=\"text-align: right;\">\n      <th></th>\n      <th>Emotion</th>\n      <th>Dehumanization</th>\n      <th>Mention</th>\n      <th>External ID</th>\n      <th>Created By</th>\n      <th>text</th>\n      <th>rating</th>\n    </tr>\n  </thead>\n  <tbody>\n    <tr>\n      <th>507</th>\n      <td>так, присутня негативна</td>\n      <td>так</td>\n      <td>так</td>\n      <td>row_1128.txt</td>\n      <td>snizannabotvin@gmail.com</td>\n      <td>По виртуальным планам укрорейха они уже взяли ...</td>\n      <td>4</td>\n    </tr>\n  </tbody>\n</table>\n</div>"
     },
     "execution_count": 263,
     "metadata": {},
     "output_type": "execute_result"
    }
   ],
   "source": [
    "df_cleaned[df_cleaned['External ID']=='row_1128.txt']"
   ],
   "metadata": {
    "collapsed": false,
    "pycharm": {
     "name": "#%%\n"
    }
   }
  },
  {
   "cell_type": "code",
   "execution_count": 264,
   "outputs": [],
   "source": [
    "df_cleaned.to_csv('/Users/katerynaburovova/PycharmProjects/dehumanization/annotation/final_labels.csv')"
   ],
   "metadata": {
    "collapsed": false,
    "pycharm": {
     "name": "#%%\n"
    }
   }
  },
  {
   "cell_type": "code",
   "execution_count": 205,
   "outputs": [
    {
     "data": {
      "text/plain": "array(['так', 'ні', 'не можу визначитись із відповіддю'], dtype=object)"
     },
     "execution_count": 205,
     "metadata": {},
     "output_type": "execute_result"
    }
   ],
   "source": [
    "df_cleaned.Mention.unique()"
   ],
   "metadata": {
    "collapsed": false,
    "pycharm": {
     "name": "#%%\n"
    }
   }
  },
  {
   "cell_type": "code",
   "execution_count": 208,
   "outputs": [],
   "source": [
    "import matplotlib.pyplot as plt\n",
    "import seaborn as sns\n",
    "\n",
    "color_dict_emotion = {\"так, присутня негативна\": \"red\", \"ні, оцінка не присутня\": \"blue\", \"не можу визначитись з правильною відповіддю\": \"yellow\", \"так, присутня позитивна\": \"blue\"}\n",
    "color_dict_dehumanization = {\"так\": \"red\", \"ні\": \"blue\", \"не можу визначитись з правильною відповіддю\": \"yellow\"}\n",
    "color_dict_mention = {\"так\": \"red\", \"ні\": \"blue\", \"не можу визначитись із відповіддю\": \"yellow\"}"
   ],
   "metadata": {
    "collapsed": false,
    "pycharm": {
     "name": "#%%\n"
    }
   }
  },
  {
   "cell_type": "code",
   "execution_count": 218,
   "outputs": [
    {
     "data": {
      "text/plain": "<Figure size 2000x1000 with 3 Axes>",
      "image/png": "[encoded data removed]"
     },
     "metadata": {},
     "output_type": "display_data"
    }
   ],
   "source": [
    "import seaborn as sns\n",
    "import matplotlib.pyplot as plt\n",
    "\n",
    "fig, ax = plt.subplots(1, 3, figsize=(20, 10))\n",
    "\n",
    "sns.countplot(x=\"Emotion\", data=df_cleaned, palette=color_dict_emotion, ax=ax[0])\n",
    "ax[0].set_xticklabels(ax[0].get_xticklabels(), rotation=60, ha='right', fontsize=16)  # Adjust fontsize here\n",
    "ax[0].set_xlabel('')\n",
    "ax[0].set_title('Emotion', fontsize=18)  # Adjust title fontsize here\n",
    "\n",
    "sns.countplot(x=\"Dehumanization\", data=df_cleaned, palette=color_dict_dehumanization, ax=ax[1])\n",
    "ax[1].set_xticklabels(ax[1].get_xticklabels(), rotation=60, ha='right', fontsize=16)  # Adjust fontsize here\n",
    "ax[1].set_xlabel('')\n",
    "ax[1].set_title('Dehumanization', fontsize=18)  # Adjust title fontsize here\n",
    "\n",
    "sns.countplot(x=\"Mention\", data=df_cleaned, palette=color_dict_mention, ax=ax[2])\n",
    "ax[2].set_xticklabels(ax[2].get_xticklabels(), rotation=60, ha='right', fontsize=16)  # Adjust fontsize here\n",
    "ax[2].set_xlabel('')\n",
    "ax[2].set_title('Mention', fontsize=18)  # Adjust title fontsize here\n",
    "\n",
    "for a in ax:\n",
    "    a.set_xticklabels([label.get_text()[:20] for label in a.get_xticklabels()], rotation=60)\n",
    "\n",
    "plt.tight_layout()\n",
    "plt.show()\n"
   ],
   "metadata": {
    "collapsed": false,
    "pycharm": {
     "name": "#%%\n"
    }
   }
  },
  {
   "cell_type": "markdown",
   "source": [
    "# 2nd batch"
   ],
   "metadata": {
    "collapsed": false,
    "pycharm": {
     "name": "#%% md\n"
    }
   }
  },
  {
   "cell_type": "code",
   "execution_count": 259,
   "outputs": [],
   "source": [
    "import pandas as pd\n",
    "import json\n",
    "\n",
    "def read_ndjson_to_df(file_path):\n",
    "    data = []\n",
    "    with open(file_path, 'r') as f:\n",
    "        for line in f:\n",
    "            data.append(json.loads(line))\n",
    "    return pd.DataFrame(data)"
   ],
   "metadata": {
    "collapsed": false,
    "pycharm": {
     "name": "#%%\n"
    }
   }
  },
  {
   "cell_type": "code",
   "execution_count": 260,
   "outputs": [],
   "source": [
    "file_path = '/Users/katerynaburovova/PycharmProjects/dehumanization/annotation/new_batch/export_labelsAR1_2ndbatch.ndjson'\n",
    "df_labels_2batch = read_ndjson_to_df(file_path)"
   ],
   "metadata": {
    "collapsed": false,
    "pycharm": {
     "name": "#%%\n"
    }
   }
  },
  {
   "cell_type": "code",
   "execution_count": 261,
   "outputs": [],
   "source": [
    "def extract_id(row):\n",
    "    return row['id']\n",
    "\n",
    "df_labels_2batch['ID'] = df_labels_2batch['data_row'].apply(extract_id)"
   ],
   "metadata": {
    "collapsed": false,
    "pycharm": {
     "name": "#%%\n"
    }
   }
  },
  {
   "cell_type": "code",
   "execution_count": 262,
   "outputs": [],
   "source": [
    "ids_list_2nd_batch = df_labels_2batch['ID'].tolist()"
   ],
   "metadata": {
    "collapsed": false,
    "pycharm": {
     "name": "#%%\n"
    }
   }
  },
  {
   "cell_type": "markdown",
   "source": [
    "Now we export all the labels including the last batch to have duplicated labels for consensus rows."
   ],
   "metadata": {
    "collapsed": false,
    "pycharm": {
     "name": "#%% md\n"
    }
   }
  },
  {
   "cell_type": "code",
   "execution_count": 2,
   "outputs": [],
   "source": [
    "import json\n",
    "with open('config_annotation.json') as f:\n",
    "    config = json.load(f)\n",
    "API_KEY = config['API_KEY']\n",
    "\n",
    "import labelbox\n",
    "LB_API_KEY = API_KEY\n",
    "lb = labelbox.Client(api_key=LB_API_KEY)\n",
    "project = lb.get_project('cleh63iav1py2070b93oo9o0l')\n",
    "export_url = project.export_labels()"
   ],
   "metadata": {
    "collapsed": false,
    "pycharm": {
     "name": "#%%\n"
    }
   }
  },
  {
   "cell_type": "code",
   "execution_count": 3,
   "outputs": [],
   "source": [
    "import requests\n",
    "\n",
    "response = requests.get(export_url)\n",
    "\n",
    "if response.status_code == 200:\n",
    "    with open('exported_labels.json', 'wb') as f:\n",
    "        f.write(response.content)"
   ],
   "metadata": {
    "collapsed": false,
    "pycharm": {
     "name": "#%%\n"
    }
   }
  },
  {
   "cell_type": "code",
   "execution_count": 265,
   "outputs": [],
   "source": [
    "df_export_all_labels = pd.read_json('/Users/katerynaburovova/PycharmProjects/dehumanization/annotation/new_batch/exported_labels.json')"
   ],
   "metadata": {
    "collapsed": false,
    "pycharm": {
     "name": "#%%\n"
    }
   }
  },
  {
   "cell_type": "code",
   "execution_count": 266,
   "outputs": [],
   "source": [
    "df_export_2nd_batch = df_export_all_labels[df_export_all_labels['DataRow ID'].isin(ids_list_2nd_batch)].copy()"
   ],
   "metadata": {
    "collapsed": false,
    "pycharm": {
     "name": "#%%\n"
    }
   }
  },
  {
   "cell_type": "code",
   "execution_count": 267,
   "outputs": [],
   "source": [
    "df_export_2nd_batch[\"Dehumanization\"] = df_export_2nd_batch.Label.apply(lambda x: extract_dehumanization(x))\n",
    "df_export_2nd_batch[\"Emotion\"] = df_export_2nd_batch.Label.apply(lambda x: extract_emotion(x))\n",
    "df_export_2nd_batch[\"Mention\"] = df_export_2nd_batch.Label.apply(lambda x: extract_mention(x))"
   ],
   "metadata": {
    "collapsed": false,
    "pycharm": {
     "name": "#%%\n"
    }
   }
  },
  {
   "cell_type": "code",
   "execution_count": 268,
   "outputs": [
    {
     "data": {
      "text/plain": "0.9731238938053097"
     },
     "execution_count": 268,
     "metadata": {},
     "output_type": "execute_result"
    }
   ],
   "source": [
    "calculate_cohens_kappa(df_export_2nd_batch, 'Dehumanization')"
   ],
   "metadata": {
    "collapsed": false,
    "pycharm": {
     "name": "#%%\n"
    }
   }
  },
  {
   "cell_type": "code",
   "execution_count": 269,
   "outputs": [
    {
     "data": {
      "text/plain": "0.8621389380530975"
     },
     "execution_count": 269,
     "metadata": {},
     "output_type": "execute_result"
    }
   ],
   "source": [
    "calculate_cohens_kappa(df_export_2nd_batch, 'Emotion')"
   ],
   "metadata": {
    "collapsed": false,
    "pycharm": {
     "name": "#%%\n"
    }
   }
  },
  {
   "cell_type": "code",
   "execution_count": 270,
   "outputs": [
    {
     "data": {
      "text/plain": "0.9203539823008849"
     },
     "execution_count": 270,
     "metadata": {},
     "output_type": "execute_result"
    }
   ],
   "source": [
    "calculate_cohens_kappa(df_export_2nd_batch, 'Mention')"
   ],
   "metadata": {
    "collapsed": false,
    "pycharm": {
     "name": "#%%\n"
    }
   }
  },
  {
   "cell_type": "code",
   "execution_count": 271,
   "outputs": [],
   "source": [
    "df_final_2nd_batch =df_export_2nd_batch[['Emotion','Dehumanization', 'Mention', 'External ID', 'Created By']]"
   ],
   "metadata": {
    "collapsed": false,
    "pycharm": {
     "name": "#%%\n"
    }
   }
  },
  {
   "cell_type": "markdown",
   "source": [
    "# Labels export - 2nd batch"
   ],
   "metadata": {
    "collapsed": false,
    "pycharm": {
     "name": "#%% md\n"
    }
   }
  },
  {
   "cell_type": "code",
   "execution_count": 272,
   "outputs": [],
   "source": [
    "import os\n",
    "import pandas as pd\n",
    "\n",
    "directory_path = \"/Users/katerynaburovova/PycharmProjects/dehumanization/annotation/new_batch/new_batch_shuffled\"\n",
    "file_list = []\n",
    "for filename in os.listdir(directory_path):\n",
    "    if filename.endswith(\".txt\"):\n",
    "        with open(os.path.join(directory_path, filename), \"r\") as file:\n",
    "            file_content = file.read()\n",
    "        file_list.append({\"text\": file_content, \"file_name\": filename})\n",
    "\n",
    "df_datarows = pd.DataFrame(file_list)"
   ],
   "metadata": {
    "collapsed": false,
    "pycharm": {
     "name": "#%%\n"
    }
   }
  },
  {
   "cell_type": "code",
   "execution_count": 273,
   "outputs": [],
   "source": [
    "df_datarows.rename(columns={'file_name':'External ID'}, inplace=True)"
   ],
   "metadata": {
    "collapsed": false,
    "pycharm": {
     "name": "#%%\n"
    }
   }
  },
  {
   "cell_type": "code",
   "execution_count": 274,
   "outputs": [],
   "source": [
    "df_merged = pd.merge(df_final_2nd_batch, df_datarows, on='External ID', how='left')"
   ],
   "metadata": {
    "collapsed": false,
    "pycharm": {
     "name": "#%%\n"
    }
   }
  },
  {
   "cell_type": "code",
   "execution_count": 275,
   "outputs": [],
   "source": [
    "authors = df_merged['Created By'].unique().tolist()\n",
    "rating = [1, 2]"
   ],
   "metadata": {
    "collapsed": false,
    "pycharm": {
     "name": "#%%\n"
    }
   }
  },
  {
   "cell_type": "code",
   "execution_count": 276,
   "outputs": [],
   "source": [
    "data = {'Created By': authors, 'rating': rating}\n",
    "df_rating = pd.DataFrame(data)"
   ],
   "metadata": {
    "collapsed": false,
    "pycharm": {
     "name": "#%%\n"
    }
   }
  },
  {
   "cell_type": "code",
   "execution_count": 277,
   "outputs": [],
   "source": [
    "df_combined = df_merged.merge(df_rating, on='Created By')\n",
    "df_combined = df_combined.sort_values(['External ID', 'rating'], ascending=True)\n"
   ],
   "metadata": {
    "collapsed": false,
    "pycharm": {
     "name": "#%%\n"
    }
   }
  },
  {
   "cell_type": "code",
   "execution_count": 278,
   "outputs": [],
   "source": [
    "df_cleaned = df_combined.drop_duplicates(subset='External ID', keep='first')"
   ],
   "metadata": {
    "collapsed": false,
    "pycharm": {
     "name": "#%%\n"
    }
   }
  },
  {
   "cell_type": "code",
   "execution_count": 279,
   "outputs": [
    {
     "data": {
      "text/plain": "array(['ні', 'так', 'не можу визначитись з правильною відповіддю'],\n      dtype=object)"
     },
     "execution_count": 279,
     "metadata": {},
     "output_type": "execute_result"
    }
   ],
   "source": [
    "df_cleaned.Dehumanization.unique()"
   ],
   "metadata": {
    "collapsed": false,
    "pycharm": {
     "name": "#%%\n"
    }
   }
  },
  {
   "cell_type": "code",
   "execution_count": 280,
   "outputs": [
    {
     "data": {
      "text/plain": "array(['так', 'ні'], dtype=object)"
     },
     "execution_count": 280,
     "metadata": {},
     "output_type": "execute_result"
    }
   ],
   "source": [
    "df_cleaned.Mention.unique()"
   ],
   "metadata": {
    "collapsed": false,
    "pycharm": {
     "name": "#%%\n"
    }
   }
  },
  {
   "cell_type": "code",
   "execution_count": 281,
   "outputs": [
    {
     "data": {
      "text/plain": "array(['ні, оцінка не присутня', 'так, присутня негативна',\n       'так, присутня позитивна',\n       'не можу визначитись з правильною відповіддю'], dtype=object)"
     },
     "execution_count": 281,
     "metadata": {},
     "output_type": "execute_result"
    }
   ],
   "source": [
    "df_cleaned.Emotion.unique()"
   ],
   "metadata": {
    "collapsed": false,
    "pycharm": {
     "name": "#%%\n"
    }
   }
  },
  {
   "cell_type": "code",
   "execution_count": 242,
   "outputs": [],
   "source": [
    "df_cleaned.to_csv('/Users/katerynaburovova/PycharmProjects/dehumanization/annotation/final_labels_2nd_batch.csv')"
   ],
   "metadata": {
    "collapsed": false,
    "pycharm": {
     "name": "#%%\n"
    }
   }
  },
  {
   "cell_type": "code",
   "execution_count": 282,
   "outputs": [
    {
     "data": {
      "text/plain": "                     Emotion Dehumanization Mention  External ID  \\\n677   ні, оцінка не присутня             ні     так    row_0.txt   \n117   ні, оцінка не присутня             ні     так    row_1.txt   \n667   ні, оцінка не присутня             ні     так   row_10.txt   \n577   ні, оцінка не присутня             ні     так  row_100.txt   \n99    ні, оцінка не присутня             ні     так  row_101.txt   \n..                       ...            ...     ...          ...   \n102   ні, оцінка не присутня             ні     так   row_95.txt   \n101  так, присутня негативна             ні     так   row_96.txt   \n100   ні, оцінка не присутня             ні     так   row_97.txt   \n579   ні, оцінка не присутня             ні      ні   row_98.txt   \n578  так, присутня негативна            так     так   row_99.txt   \n\n                       Created By  \\\n677        tutovadesign@gmail.com   \n117  kateryna.burovova@ucu.edu.ua   \n667        tutovadesign@gmail.com   \n577        tutovadesign@gmail.com   \n99   kateryna.burovova@ucu.edu.ua   \n..                            ...   \n102  kateryna.burovova@ucu.edu.ua   \n101  kateryna.burovova@ucu.edu.ua   \n100  kateryna.burovova@ucu.edu.ua   \n579        tutovadesign@gmail.com   \n578        tutovadesign@gmail.com   \n\n                                                  text  rating  \n677  ❗️Украинские вооруженные формирования выпустил...       2  \n117  Медведев о результатах выборов президента на У...       1  \n667  🇺🇦🇷🇺Вооруженные силы Украины не способны к кон...       2  \n577  Есть информация, что пленный «Махач» из «Азова...       2  \n99   На территории Херсонской области вскрыта и пре...       1  \n..                                                 ...     ...  \n102  Киев не собирается нападать на Россию — глава ...       1  \n101  Президент Зеленский утверждает, что ‘Украина н...       1  \n100  🇷🇺Авиация поддерживает наступление наших войск...       1  \n579  С выплатой компенсаций пострадавшим от теракта...       2  \n578  Тела мирных жителей со следами пыток и вырезан...       2  \n\n[565 rows x 7 columns]",
      "text/html": "<div>\n<style scoped>\n    .dataframe tbody tr th:only-of-type {\n        vertical-align: middle;\n    }\n\n    .dataframe tbody tr th {\n        vertical-align: top;\n    }\n\n    .dataframe thead th {\n        text-align: right;\n    }\n</style>\n<table border=\"1\" class=\"dataframe\">\n  <thead>\n    <tr style=\"text-align: right;\">\n      <th></th>\n      <th>Emotion</th>\n      <th>Dehumanization</th>\n      <th>Mention</th>\n      <th>External ID</th>\n      <th>Created By</th>\n      <th>text</th>\n      <th>rating</th>\n    </tr>\n  </thead>\n  <tbody>\n    <tr>\n      <th>677</th>\n      <td>ні, оцінка не присутня</td>\n      <td>ні</td>\n      <td>так</td>\n      <td>row_0.txt</td>\n      <td>tutovadesign@gmail.com</td>\n      <td>❗️Украинские вооруженные формирования выпустил...</td>\n      <td>2</td>\n    </tr>\n    <tr>\n      <th>117</th>\n      <td>ні, оцінка не присутня</td>\n      <td>ні</td>\n      <td>так</td>\n      <td>row_1.txt</td>\n      <td>kateryna.burovova@ucu.edu.ua</td>\n      <td>Медведев о результатах выборов президента на У...</td>\n      <td>1</td>\n    </tr>\n    <tr>\n      <th>667</th>\n      <td>ні, оцінка не присутня</td>\n      <td>ні</td>\n      <td>так</td>\n      <td>row_10.txt</td>\n      <td>tutovadesign@gmail.com</td>\n      <td>🇺🇦🇷🇺Вооруженные силы Украины не способны к кон...</td>\n      <td>2</td>\n    </tr>\n    <tr>\n      <th>577</th>\n      <td>ні, оцінка не присутня</td>\n      <td>ні</td>\n      <td>так</td>\n      <td>row_100.txt</td>\n      <td>tutovadesign@gmail.com</td>\n      <td>Есть информация, что пленный «Махач» из «Азова...</td>\n      <td>2</td>\n    </tr>\n    <tr>\n      <th>99</th>\n      <td>ні, оцінка не присутня</td>\n      <td>ні</td>\n      <td>так</td>\n      <td>row_101.txt</td>\n      <td>kateryna.burovova@ucu.edu.ua</td>\n      <td>На территории Херсонской области вскрыта и пре...</td>\n      <td>1</td>\n    </tr>\n    <tr>\n      <th>...</th>\n      <td>...</td>\n      <td>...</td>\n      <td>...</td>\n      <td>...</td>\n      <td>...</td>\n      <td>...</td>\n      <td>...</td>\n    </tr>\n    <tr>\n      <th>102</th>\n      <td>ні, оцінка не присутня</td>\n      <td>ні</td>\n      <td>так</td>\n      <td>row_95.txt</td>\n      <td>kateryna.burovova@ucu.edu.ua</td>\n      <td>Киев не собирается нападать на Россию — глава ...</td>\n      <td>1</td>\n    </tr>\n    <tr>\n      <th>101</th>\n      <td>так, присутня негативна</td>\n      <td>ні</td>\n      <td>так</td>\n      <td>row_96.txt</td>\n      <td>kateryna.burovova@ucu.edu.ua</td>\n      <td>Президент Зеленский утверждает, что ‘Украина н...</td>\n      <td>1</td>\n    </tr>\n    <tr>\n      <th>100</th>\n      <td>ні, оцінка не присутня</td>\n      <td>ні</td>\n      <td>так</td>\n      <td>row_97.txt</td>\n      <td>kateryna.burovova@ucu.edu.ua</td>\n      <td>🇷🇺Авиация поддерживает наступление наших войск...</td>\n      <td>1</td>\n    </tr>\n    <tr>\n      <th>579</th>\n      <td>ні, оцінка не присутня</td>\n      <td>ні</td>\n      <td>ні</td>\n      <td>row_98.txt</td>\n      <td>tutovadesign@gmail.com</td>\n      <td>С выплатой компенсаций пострадавшим от теракта...</td>\n      <td>2</td>\n    </tr>\n    <tr>\n      <th>578</th>\n      <td>так, присутня негативна</td>\n      <td>так</td>\n      <td>так</td>\n      <td>row_99.txt</td>\n      <td>tutovadesign@gmail.com</td>\n      <td>Тела мирных жителей со следами пыток и вырезан...</td>\n      <td>2</td>\n    </tr>\n  </tbody>\n</table>\n<p>565 rows × 7 columns</p>\n</div>"
     },
     "execution_count": 282,
     "metadata": {},
     "output_type": "execute_result"
    }
   ],
   "source": [
    "df_cleaned"
   ],
   "metadata": {
    "collapsed": false,
    "pycharm": {
     "name": "#%%\n"
    }
   }
  },
  {
   "cell_type": "code",
   "execution_count": 244,
   "outputs": [
    {
     "data": {
      "text/plain": "<Figure size 2000x1000 with 3 Axes>",
      "image/png": "[encoded data removed]"
     },
     "metadata": {},
     "output_type": "display_data"
    }
   ],
   "source": [
    "import seaborn as sns\n",
    "import matplotlib.pyplot as plt\n",
    "\n",
    "fig, ax = plt.subplots(1, 3, figsize=(20, 10))\n",
    "\n",
    "sns.countplot(x=\"Emotion\", data=df_cleaned, palette=color_dict_emotion, ax=ax[0])\n",
    "ax[0].set_xticklabels(ax[0].get_xticklabels(), rotation=60, ha='right', fontsize=16)  # Adjust fontsize here\n",
    "ax[0].set_xlabel('')\n",
    "ax[0].set_title('Emotion', fontsize=18)  # Adjust title fontsize here\n",
    "\n",
    "sns.countplot(x=\"Dehumanization\", data=df_cleaned, palette=color_dict_dehumanization, ax=ax[1])\n",
    "ax[1].set_xticklabels(ax[1].get_xticklabels(), rotation=60, ha='right', fontsize=16)  # Adjust fontsize here\n",
    "ax[1].set_xlabel('')\n",
    "ax[1].set_title('Dehumanization', fontsize=18)  # Adjust title fontsize here\n",
    "\n",
    "sns.countplot(x=\"Mention\", data=df_cleaned, palette=color_dict_mention, ax=ax[2])\n",
    "ax[2].set_xticklabels(ax[2].get_xticklabels(), rotation=60, ha='right', fontsize=16)  # Adjust fontsize here\n",
    "ax[2].set_xlabel('')\n",
    "ax[2].set_title('Mention', fontsize=18)  # Adjust title fontsize here\n",
    "\n",
    "for a in ax:\n",
    "    a.set_xticklabels([label.get_text()[:20] for label in a.get_xticklabels()], rotation=60)\n",
    "\n",
    "plt.tight_layout()\n",
    "plt.show()\n"
   ],
   "metadata": {
    "collapsed": false,
    "pycharm": {
     "name": "#%%\n"
    }
   }
  },
  {
   "cell_type": "code",
   "execution_count": 245,
   "outputs": [
    {
     "data": {
      "text/plain": "ні                                             514\nтак                                             48\nне можу визначитись з правильною відповіддю      3\nName: Dehumanization, dtype: int64"
     },
     "execution_count": 245,
     "metadata": {},
     "output_type": "execute_result"
    }
   ],
   "source": [
    "df_cleaned.Dehumanization.value_counts()"
   ],
   "metadata": {
    "collapsed": false,
    "pycharm": {
     "name": "#%%\n"
    }
   }
  },
  {
   "cell_type": "markdown",
   "source": [
    "Since positive class of Dehumanization is rare, the overall agreement statistic might is calculated on the negative class mostly. Let's calculate the agreement for the positive class only."
   ],
   "metadata": {
    "collapsed": false,
    "pycharm": {
     "name": "#%% md\n"
    }
   }
  },
  {
   "cell_type": "code",
   "execution_count": 322,
   "outputs": [],
   "source": [
    "agreement_samples, disagreement_samples = split_samples_based_on_agreement(df_final_2nd_batch, 'Dehumanization', 'так')"
   ],
   "metadata": {
    "collapsed": false,
    "pycharm": {
     "name": "#%%\n"
    }
   }
  },
  {
   "cell_type": "code",
   "execution_count": 333,
   "outputs": [
    {
     "data": {
      "text/plain": "0.8"
     },
     "execution_count": 333,
     "metadata": {},
     "output_type": "execute_result"
    }
   ],
   "source": [
    "len(agreement_samples)/(len(agreement_samples)+len(disagreement_samples))"
   ],
   "metadata": {
    "collapsed": false,
    "pycharm": {
     "name": "#%%\n"
    }
   }
  },
  {
   "cell_type": "markdown",
   "source": [
    "So for positive class annotators agreed on 80% samples, which is less than overall agreement but still without bound of substantial agreement."
   ],
   "metadata": {
    "collapsed": false,
    "pycharm": {
     "name": "#%% md\n"
    }
   }
  }
 ],
 "metadata": {
  "kernelspec": {
   "display_name": "Python 3",
   "language": "python",
   "name": "python3"
  },
  "language_info": {
   "codemirror_mode": {
    "name": "ipython",
    "version": 2
   },
   "file_extension": ".py",
   "mimetype": "text/x-python",
   "name": "python",
   "nbconvert_exporter": "python",
   "pygments_lexer": "ipython2",
   "version": "2.7.6"
  }
 },
 "nbformat": 4,
 "nbformat_minor": 0
}