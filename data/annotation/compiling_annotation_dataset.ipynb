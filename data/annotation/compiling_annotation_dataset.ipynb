{
 "cells": [
  {
   "cell_type": "markdown",
   "source": [
    "### We first retrieve the full dataset. Then we sample this dataset (10% and 20% ) and tokenize samples into sentences (rule-based fast tokenization) with tokenize_uk."
   ],
   "metadata": {
    "collapsed": false,
    "pycharm": {
     "name": "#%% md\n"
    }
   }
  },
  {
   "cell_type": "code",
   "execution_count": 5,
   "outputs": [],
   "source": [
    "import pandas as pd\n",
    "import json\n",
    "import fasttext\n",
    "import emoji\n",
    "import re\n",
    "import collections\n",
    "from urllib.parse import urlparse"
   ],
   "metadata": {
    "collapsed": false,
    "pycharm": {
     "name": "#%%\n"
    }
   }
  },
  {
   "cell_type": "code",
   "execution_count": 7,
   "outputs": [],
   "source": [
    "df_posts = pd.read_csv('/Users/katerynaburovova/PycharmProjects/dehumanization/annotation/data_preselected_for_1st_annotation_proj/only_text.csv', header=0)"
   ],
   "metadata": {
    "collapsed": false,
    "pycharm": {
     "name": "#%%\n"
    }
   }
  },
  {
   "cell_type": "code",
   "execution_count": 8,
   "outputs": [
    {
     "data": {
      "text/plain": "              id                       date  \\\n0        12347.0  2022-12-15 16:32:15+00:00   \n1        12346.0  2022-12-15 15:00:03+00:00   \n2        12345.0  2022-12-15 14:21:22+00:00   \n3        12344.0  2022-12-15 13:08:35+00:00   \n4        12343.0  2022-12-15 12:31:23+00:00   \n...          ...                        ...   \n6836539      8.0  2018-10-18 14:18:13+00:00   \n6836540      7.0  2018-10-18 14:17:44+00:00   \n6836541      6.0  2018-10-18 14:16:00+00:00   \n6836542      5.0  2018-10-18 14:00:26+00:00   \n6836543      4.0  2018-10-18 13:59:31+00:00   \n\n                                                   message   type  \\\n0        А трансляция тем временем идет. Подписывайтесь...  photo   \n1        В России ещё есть те, кто способен возрождать ...  photo   \n2        «Катаргейт» набирает обороты - Обвиняемая в ко...   text   \n3        🔥В гостях у @Metametrica побывали товарищи из ...  photo   \n4        Глава Минобороны Грузии назвал грузинских наем...   text   \n...                                                    ...    ...   \n6836539  Мария Топилина – муж – Максим Топилин – минист...   text   \n6836540  Людмила Красноштанова – муж – член «ЕдРа», деп...   text   \n6836541  И, на всякий случай, если вы все проспали, дуб...   text   \n6836542        Вот вам доказательство, что это реальная я.  video   \n6836543  Всем привет! С вами Ксения Собчак! У нас произ...   text   \n\n        channel_name lang  \n0          mardanaka   ru  \n1          mardanaka   ru  \n2          mardanaka   ru  \n3          mardanaka   ru  \n4          mardanaka   ru  \n...              ...  ...  \n6836539     bloodysx   ru  \n6836540     bloodysx   ru  \n6836541     bloodysx   ru  \n6836542     bloodysx   ru  \n6836543     bloodysx   ru  \n\n[6836544 rows x 6 columns]",
      "text/html": "<div>\n<style scoped>\n    .dataframe tbody tr th:only-of-type {\n        vertical-align: middle;\n    }\n\n    .dataframe tbody tr th {\n        vertical-align: top;\n    }\n\n    .dataframe thead th {\n        text-align: right;\n    }\n</style>\n<table border=\"1\" class=\"dataframe\">\n  <thead>\n    <tr style=\"text-align: right;\">\n      <th></th>\n      <th>id</th>\n      <th>date</th>\n      <th>message</th>\n      <th>type</th>\n      <th>channel_name</th>\n      <th>lang</th>\n    </tr>\n  </thead>\n  <tbody>\n    <tr>\n      <th>0</th>\n      <td>12347.0</td>\n      <td>2022-12-15 16:32:15+00:00</td>\n      <td>А трансляция тем временем идет. Подписывайтесь...</td>\n      <td>photo</td>\n      <td>mardanaka</td>\n      <td>ru</td>\n    </tr>\n    <tr>\n      <th>1</th>\n      <td>12346.0</td>\n      <td>2022-12-15 15:00:03+00:00</td>\n      <td>В России ещё есть те, кто способен возрождать ...</td>\n      <td>photo</td>\n      <td>mardanaka</td>\n      <td>ru</td>\n    </tr>\n    <tr>\n      <th>2</th>\n      <td>12345.0</td>\n      <td>2022-12-15 14:21:22+00:00</td>\n      <td>«Катаргейт» набирает обороты - Обвиняемая в ко...</td>\n      <td>text</td>\n      <td>mardanaka</td>\n      <td>ru</td>\n    </tr>\n    <tr>\n      <th>3</th>\n      <td>12344.0</td>\n      <td>2022-12-15 13:08:35+00:00</td>\n      <td>🔥В гостях у @Metametrica побывали товарищи из ...</td>\n      <td>photo</td>\n      <td>mardanaka</td>\n      <td>ru</td>\n    </tr>\n    <tr>\n      <th>4</th>\n      <td>12343.0</td>\n      <td>2022-12-15 12:31:23+00:00</td>\n      <td>Глава Минобороны Грузии назвал грузинских наем...</td>\n      <td>text</td>\n      <td>mardanaka</td>\n      <td>ru</td>\n    </tr>\n    <tr>\n      <th>...</th>\n      <td>...</td>\n      <td>...</td>\n      <td>...</td>\n      <td>...</td>\n      <td>...</td>\n      <td>...</td>\n    </tr>\n    <tr>\n      <th>6836539</th>\n      <td>8.0</td>\n      <td>2018-10-18 14:18:13+00:00</td>\n      <td>Мария Топилина – муж – Максим Топилин – минист...</td>\n      <td>text</td>\n      <td>bloodysx</td>\n      <td>ru</td>\n    </tr>\n    <tr>\n      <th>6836540</th>\n      <td>7.0</td>\n      <td>2018-10-18 14:17:44+00:00</td>\n      <td>Людмила Красноштанова – муж – член «ЕдРа», деп...</td>\n      <td>text</td>\n      <td>bloodysx</td>\n      <td>ru</td>\n    </tr>\n    <tr>\n      <th>6836541</th>\n      <td>6.0</td>\n      <td>2018-10-18 14:16:00+00:00</td>\n      <td>И, на всякий случай, если вы все проспали, дуб...</td>\n      <td>text</td>\n      <td>bloodysx</td>\n      <td>ru</td>\n    </tr>\n    <tr>\n      <th>6836542</th>\n      <td>5.0</td>\n      <td>2018-10-18 14:00:26+00:00</td>\n      <td>Вот вам доказательство, что это реальная я.</td>\n      <td>video</td>\n      <td>bloodysx</td>\n      <td>ru</td>\n    </tr>\n    <tr>\n      <th>6836543</th>\n      <td>4.0</td>\n      <td>2018-10-18 13:59:31+00:00</td>\n      <td>Всем привет! С вами Ксения Собчак! У нас произ...</td>\n      <td>text</td>\n      <td>bloodysx</td>\n      <td>ru</td>\n    </tr>\n  </tbody>\n</table>\n<p>6836544 rows × 6 columns</p>\n</div>"
     },
     "execution_count": 8,
     "metadata": {},
     "output_type": "execute_result"
    }
   ],
   "source": [
    "df_posts"
   ],
   "metadata": {
    "collapsed": false,
    "pycharm": {
     "name": "#%%\n"
    }
   }
  },
  {
   "cell_type": "code",
   "execution_count": 9,
   "outputs": [],
   "source": [
    "df_sample = df_posts.sample(frac=0.2, random_state=42).copy()\n",
    "df_sample.reset_index(inplace=True)"
   ],
   "metadata": {
    "collapsed": false,
    "pycharm": {
     "name": "#%%\n"
    }
   }
  },
  {
   "cell_type": "code",
   "execution_count": 10,
   "outputs": [],
   "source": [
    "df_small_sample = df_posts.sample(frac=0.1, random_state=42).copy()\n",
    "df_small_sample.reset_index(inplace=True)"
   ],
   "metadata": {
    "collapsed": false,
    "pycharm": {
     "name": "#%%\n"
    }
   }
  },
  {
   "cell_type": "code",
   "execution_count": 11,
   "outputs": [],
   "source": [
    "import tokenize_uk"
   ],
   "metadata": {
    "collapsed": false,
    "pycharm": {
     "name": "#%%\n"
    }
   }
  },
  {
   "cell_type": "code",
   "execution_count": 12,
   "outputs": [
    {
     "data": {
      "text/plain": "1367309"
     },
     "execution_count": 12,
     "metadata": {},
     "output_type": "execute_result"
    }
   ],
   "source": [
    "len(df_sample)"
   ],
   "metadata": {
    "collapsed": false,
    "pycharm": {
     "name": "#%%\n"
    }
   }
  },
  {
   "cell_type": "code",
   "execution_count": 13,
   "outputs": [
    {
     "name": "stdout",
     "output_type": "stream",
     "text": [
      "CPU times: user 36.3 s, sys: 15.9 s, total: 52.2 s\n",
      "Wall time: 59.6 s\n"
     ]
    }
   ],
   "source": [
    "%%time\n",
    "\n",
    "df_sample['tokenized_sents'] = df_sample['message'].apply(lambda x: tokenize_uk.tokenize_sents(x))"
   ],
   "metadata": {
    "collapsed": false,
    "pycharm": {
     "name": "#%%\n"
    }
   }
  },
  {
   "cell_type": "code",
   "execution_count": 14,
   "outputs": [
    {
     "data": {
      "text/plain": "['#АлтайАлтаюРознь2 Не утихают федеральные телеграм-скандалы с упоминанием губернатора Алтайского края Карлина.',\n 'В соседней Республике Алтай ситуация более стабильна.',\n 'Глава региона вплотную занялся проблемами обманутых дольщиков и накануне провел встречу с пострадавшими от мошенников гражданами.',\n 'После их обращения генерал Бердников изыскал средства в республиканском бюджете (46 млн) и на встрече с жителями заверил, что дом по улице Чаптынова, 34 в Горно-Алтайске на 60 квартир будет сдан уже в следующем году.',\n 'Кстати, директор строительной фирмы «ГАСК» Борщев уже отбывает наказание в виде 6 лет лишения свободы.   http://www.interfax-russia.ru/Siberia/news.asp?id=911826&sec=1671']"
     },
     "execution_count": 14,
     "metadata": {},
     "output_type": "execute_result"
    }
   ],
   "source": [
    "df_sample['tokenized_sents'][2000]"
   ],
   "metadata": {
    "collapsed": false,
    "pycharm": {
     "name": "#%%\n"
    }
   }
  },
  {
   "cell_type": "markdown",
   "source": [
    "## We set aside 1000 neutral sentences (not expected to contain neither dehumanization, not even mentions of Ukrainians)"
   ],
   "metadata": {
    "collapsed": false,
    "pycharm": {
     "name": "#%% md\n"
    }
   }
  },
  {
   "cell_type": "code",
   "execution_count": 15,
   "outputs": [],
   "source": [
    "df_sample['random_sents'] = df_sample.tokenized_sents.str[0]"
   ],
   "metadata": {
    "collapsed": false,
    "pycharm": {
     "name": "#%%\n"
    }
   }
  },
  {
   "cell_type": "code",
   "execution_count": 16,
   "outputs": [],
   "source": [
    "neutral_sent_list = df_sample['random_sents'].sample(1000, random_state=42).tolist()"
   ],
   "metadata": {
    "collapsed": false,
    "pycharm": {
     "name": "#%%\n"
    }
   }
  },
  {
   "cell_type": "code",
   "execution_count": 18,
   "outputs": [],
   "source": [
    "df_neutral = pd.DataFrame({'text': neutral_sent_list[:]})\n",
    "df_neutral.to_csv('df_neutral.csv')"
   ],
   "metadata": {
    "collapsed": false,
    "pycharm": {
     "name": "#%%\n"
    }
   }
  },
  {
   "cell_type": "markdown",
   "source": [
    "## Selecting the sentences that contain mentions of Ukraine, ukrainians + filtering by the tone"
   ],
   "metadata": {
    "collapsed": false,
    "pycharm": {
     "name": "#%% md\n"
    }
   }
  },
  {
   "cell_type": "markdown",
   "source": [
    "At the first iteration we track the sequences the define the use of the most common terms."
   ],
   "metadata": {
    "collapsed": false,
    "pycharm": {
     "name": "#%% md\n"
    }
   }
  },
  {
   "cell_type": "code",
   "execution_count": 21,
   "outputs": [],
   "source": [
    "seqs_to_track = ['укрa', 'хох', 'хохл']"
   ],
   "metadata": {
    "collapsed": false,
    "pycharm": {
     "name": "#%%\n"
    }
   }
  },
  {
   "cell_type": "code",
   "execution_count": 22,
   "outputs": [],
   "source": [
    "def find_sentences_w_sec(list_sent, seqs_to_track):\n",
    "    sent_list_result = []\n",
    "    for sent in list_sent:\n",
    "        for seq in seqs_to_track:\n",
    "            if seq in sent.lower():\n",
    "                sent_list_result.append(sent)\n",
    "    return sent_list_result"
   ],
   "metadata": {
    "collapsed": false,
    "pycharm": {
     "name": "#%%\n"
    }
   }
  },
  {
   "cell_type": "code",
   "execution_count": 24,
   "outputs": [
    {
     "name": "stdout",
     "output_type": "stream",
     "text": [
      "CPU times: user 8.81 s, sys: 4.98 s, total: 13.8 s\n",
      "Wall time: 18.3 s\n"
     ]
    }
   ],
   "source": [
    "%%time\n",
    "df_sample['mention_ukr'] = df_sample['tokenized_sents'].apply(lambda x: find_sentences_w_sec(x, seqs_to_track))"
   ],
   "metadata": {
    "collapsed": false,
    "pycharm": {
     "name": "#%%\n"
    }
   }
  },
  {
   "cell_type": "code",
   "execution_count": 25,
   "outputs": [],
   "source": [
    "data = df_sample['mention_ukr'].explode().unique()"
   ],
   "metadata": {
    "collapsed": false,
    "pycharm": {
     "name": "#%%\n"
    }
   }
  },
  {
   "cell_type": "code",
   "execution_count": 26,
   "outputs": [],
   "source": [
    "df_mentions = pd.DataFrame({'text': data[:]})"
   ],
   "metadata": {
    "collapsed": false,
    "pycharm": {
     "name": "#%%\n"
    }
   }
  },
  {
   "cell_type": "code",
   "execution_count": 27,
   "outputs": [],
   "source": [
    "df_mentions.to_csv('ukr_mentions.csv', index = False, header=True)"
   ],
   "metadata": {
    "collapsed": false,
    "pycharm": {
     "name": "#%%\n"
    }
   }
  },
  {
   "cell_type": "markdown",
   "source": [
    "We use Deep pavlov sentiment classifier for further filtering out neutral and positive stances."
   ],
   "metadata": {
    "collapsed": false,
    "pycharm": {
     "name": "#%% md\n"
    }
   }
  },
  {
   "cell_type": "code",
   "execution_count": 28,
   "outputs": [],
   "source": [
    "import torch\n",
    "from transformers import AutoModelForSequenceClassification\n",
    "from transformers import BertTokenizerFast"
   ],
   "metadata": {
    "collapsed": false,
    "pycharm": {
     "name": "#%%\n"
    }
   }
  },
  {
   "cell_type": "code",
   "execution_count": 29,
   "outputs": [],
   "source": [
    "tokenizer = BertTokenizerFast.from_pretrained('blanchefort/rubert-base-cased-sentiment')\n",
    "model = AutoModelForSequenceClassification.from_pretrained('blanchefort/rubert-base-cased-sentiment', return_dict=True)\n",
    "\n",
    "\n",
    "def predict(text):\n",
    "    inputs = tokenizer(text, max_length=512, padding=True, truncation=True, return_tensors='pt')\n",
    "    outputs = model(**inputs)\n",
    "    predicted = torch.nn.functional.softmax(outputs.logits, dim=1)\n",
    "    predicted = torch.argmax(predicted, dim=1).numpy()\n",
    "    return predicted"
   ],
   "metadata": {
    "collapsed": false,
    "pycharm": {
     "name": "#%%\n"
    }
   }
  },
  {
   "cell_type": "markdown",
   "source": [
    "We add sequences that correspond to the more radical wording"
   ],
   "metadata": {
    "collapsed": false,
    "pycharm": {
     "name": "#%% md\n"
    }
   }
  },
  {
   "cell_type": "code",
   "execution_count": 30,
   "outputs": [],
   "source": [
    "str_to_track = ['укры', 'хох', 'хохл', 'рейх', 'фаш']"
   ],
   "metadata": {
    "collapsed": false,
    "pycharm": {
     "name": "#%%\n"
    }
   }
  },
  {
   "cell_type": "code",
   "execution_count": 31,
   "outputs": [
    {
     "name": "stdout",
     "output_type": "stream",
     "text": [
      "CPU times: user 13.9 s, sys: 4.99 s, total: 18.9 s\n",
      "Wall time: 21.3 s\n"
     ]
    }
   ],
   "source": [
    "%%time\n",
    "df_sample['mention_ukr_radical'] = df_sample['tokenized_sents'].apply(lambda x: find_sentences_w_sec(x, str_to_track))"
   ],
   "metadata": {
    "collapsed": false,
    "pycharm": {
     "name": "#%%\n"
    }
   }
  },
  {
   "cell_type": "code",
   "execution_count": 32,
   "outputs": [],
   "source": [
    "data_radical = df_sample['mention_ukr_radical'].explode().unique()\n",
    "df_radical = pd.DataFrame({'text': data_radical[:]})"
   ],
   "metadata": {
    "collapsed": false,
    "pycharm": {
     "name": "#%%\n"
    }
   }
  },
  {
   "cell_type": "code",
   "execution_count": 33,
   "outputs": [
    {
     "name": "stdout",
     "output_type": "stream",
     "text": [
      "CPU times: user 84 µs, sys: 32 µs, total: 116 µs\n",
      "Wall time: 209 µs\n"
     ]
    }
   ],
   "source": [
    "%%time\n",
    "df_radical = df_radical[1:]"
   ],
   "metadata": {
    "collapsed": false,
    "pycharm": {
     "name": "#%%\n"
    }
   }
  },
  {
   "cell_type": "code",
   "execution_count": 34,
   "outputs": [
    {
     "name": "stdout",
     "output_type": "stream",
     "text": [
      "CPU times: user 14min 58s, sys: 7min 18s, total: 22min 17s\n",
      "Wall time: 15min 31s\n"
     ]
    }
   ],
   "source": [
    "%%time\n",
    "df_radical['tone'] = df_radical['text'].apply(lambda x: predict(x))"
   ],
   "metadata": {
    "collapsed": false,
    "pycharm": {
     "name": "#%%\n"
    }
   }
  },
  {
   "cell_type": "code",
   "execution_count": 35,
   "outputs": [],
   "source": [
    "df_radical = df_radical[df_radical['tone']==2]"
   ],
   "metadata": {
    "collapsed": false,
    "pycharm": {
     "name": "#%%\n"
    }
   }
  },
  {
   "cell_type": "code",
   "execution_count": null,
   "outputs": [],
   "source": [
    "df_radical.to_csv('df_radical.csv', index = False, header=True)"
   ],
   "metadata": {
    "collapsed": false,
    "pycharm": {
     "name": "#%%\n"
    }
   }
  },
  {
   "cell_type": "markdown",
   "source": [
    "We briefly experiment with other roots but don't rely on these results further."
   ],
   "metadata": {
    "collapsed": false,
    "pycharm": {
     "name": "#%% md\n"
    }
   }
  },
  {
   "cell_type": "code",
   "execution_count": 37,
   "outputs": [],
   "source": [
    "strings = [\"укр\", \"Укр\" \"хох\", \"Хох\"]\n",
    "df_filtered = df_sample[df_sample[\"message\"].str.contains('|'.join(strings))]"
   ],
   "metadata": {
    "collapsed": false,
    "pycharm": {
     "name": "#%%\n"
    }
   }
  },
  {
   "cell_type": "code",
   "execution_count": 38,
   "outputs": [
    {
     "data": {
      "text/plain": "1367309"
     },
     "execution_count": 38,
     "metadata": {},
     "output_type": "execute_result"
    }
   ],
   "source": [
    "len(df_sample)"
   ],
   "metadata": {
    "collapsed": false,
    "pycharm": {
     "name": "#%%\n"
    }
   }
  },
  {
   "cell_type": "code",
   "execution_count": 39,
   "outputs": [],
   "source": [
    "df_tone_sample = df_filtered.sample(10000, random_state=42).copy()"
   ],
   "metadata": {
    "collapsed": false,
    "pycharm": {
     "name": "#%%\n"
    }
   }
  },
  {
   "cell_type": "code",
   "execution_count": 40,
   "outputs": [
    {
     "name": "stdout",
     "output_type": "stream",
     "text": [
      "CPU times: user 28min 22s, sys: 9min 10s, total: 37min 32s\n",
      "Wall time: 17min 42s\n"
     ]
    }
   ],
   "source": [
    "%%time\n",
    "df_tone_sample['tone'] = df_tone_sample['message'].apply(lambda x: predict(x))"
   ],
   "metadata": {
    "collapsed": false,
    "pycharm": {
     "name": "#%%\n"
    }
   }
  },
  {
   "cell_type": "code",
   "execution_count": 41,
   "outputs": [
    {
     "data": {
      "text/plain": "           index        id                       date  \\\n1269901   817024  166442.0  2022-11-15 22:48:27+00:00   \n640138   1179620    1127.0  2021-04-15 15:08:05+00:00   \n225021   5409015   45661.0  2022-04-28 13:36:06+00:00   \n620894   1050852  197532.0  2022-12-01 21:05:20+00:00   \n450236   1290156   47765.0  2022-11-27 16:00:01+00:00   \n...          ...       ...                        ...   \n303016   2794715    9437.0  2022-02-27 13:46:26+00:00   \n75558    3846260  157781.0  2022-03-27 15:49:05+00:00   \n597630   1096190  130503.0  2022-07-09 07:10:02+00:00   \n733911   2235534   24801.0  2022-09-01 18:00:00+00:00   \n1245441  6754463   80267.0  2022-04-03 10:46:14+00:00   \n\n                                                   message   type  \\\n1269901  Что известно о взрывах на востоке Польши  ◾️Ве...   text   \n640138   Российский военкор рассказал, когда ждать пров...  photo   \n225021   ♨️ Украинские Т-каналы пишут, что в Киеве и Од...  video   \n620894   Фронтовая сводка в направлении Сватово - Креме...  video   \n450236   Украинская энергосистема пожирает сама себя: ч...  photo   \n...                                                    ...    ...   \n303016   ⚡️⚡️⚡️СРОЧНО  МИНОБОРОНЫ РОССИИ  Украинские во...   text   \n75558    ⚡️Глава СК РФ Александр Бастрыкин поручил расс...   text   \n597630   Основные итоги СВО на Украине за 8 июля 2022 г...  video   \n733911   ⏱ Главные события на 21:00  ▪️Делегация МАГАТЭ...   text   \n1245441  Войска ЛНР в боях с украинской армией за город...  video   \n\n         channel_name lang                                    tokenized_sents  \\\n1269901   tass_agency   ru  [Что известно о взрывах на востоке Польши  ◾️В...   \n640138         swodki   ru  [Российский военкор рассказал, когда ждать про...   \n225021   boris_rozhin   ru  [♨️ Украинские Т-каналы пишут, что в Киеве и О...   \n620894         swodki   ru  [Фронтовая сводка в направлении Сватово - Крем...   \n450236   readovkanews   ru  [Украинская энергосистема пожирает сама себя: ...   \n...               ...  ...                                                ...   \n303016       skabeeva   ru  [⚡️⚡️⚡️СРОЧНО  МИНОБОРОНЫ РОССИИ  Украинские в...   \n75558       glavmedia   ru  [⚡️Глава СК РФ Александр Бастрыкин поручил рас...   \n597630         swodki   ru  [Основные итоги СВО на Украине за 8 июля 2022 ...   \n733911   OstashkoNews   ru  [⏱ Главные события на 21:00  ▪️Делегация МАГАТ...   \n1245441   milinfolive   ru  [Войска ЛНР в боях с украинской армией за горо...   \n\n                                              random_sents mention_ukr  \\\n1269901  Что известно о взрывах на востоке Польши  ◾️Ве...          []   \n640138   Российский военкор рассказал, когда ждать пров...          []   \n225021   ♨️ Украинские Т-каналы пишут, что в Киеве и Од...          []   \n620894   Фронтовая сводка в направлении Сватово - Креме...          []   \n450236   Украинская энергосистема пожирает сама себя: ч...          []   \n...                                                    ...         ...   \n303016   ⚡️⚡️⚡️СРОЧНО  МИНОБОРОНЫ РОССИИ  Украинские во...          []   \n75558    ⚡️Глава СК РФ Александр Бастрыкин поручил расс...          []   \n597630   Основные итоги СВО на Украине за 8 июля 2022 г...          []   \n733911   ⏱ Главные события на 21:00  ▪️Делегация МАГАТЭ...          []   \n1245441  Войска ЛНР в боях с украинской армией за город...          []   \n\n                                       mention_ukr_radical tone  \n1269901                                                 []  [2]  \n640138                                                  []  [2]  \n225021                                                  []  [2]  \n620894   [Фронтовая сводка в направлении Сватово - Крем...  [2]  \n450236                                                  []  [2]  \n...                                                    ...  ...  \n303016                                                  []  [2]  \n75558                                                   []  [2]  \n597630                                                  []  [2]  \n733911                                                  []  [2]  \n1245441                                                 []  [2]  \n\n[5869 rows x 12 columns]",
      "text/html": "<div>\n<style scoped>\n    .dataframe tbody tr th:only-of-type {\n        vertical-align: middle;\n    }\n\n    .dataframe tbody tr th {\n        vertical-align: top;\n    }\n\n    .dataframe thead th {\n        text-align: right;\n    }\n</style>\n<table border=\"1\" class=\"dataframe\">\n  <thead>\n    <tr style=\"text-align: right;\">\n      <th></th>\n      <th>index</th>\n      <th>id</th>\n      <th>date</th>\n      <th>message</th>\n      <th>type</th>\n      <th>channel_name</th>\n      <th>lang</th>\n      <th>tokenized_sents</th>\n      <th>random_sents</th>\n      <th>mention_ukr</th>\n      <th>mention_ukr_radical</th>\n      <th>tone</th>\n    </tr>\n  </thead>\n  <tbody>\n    <tr>\n      <th>1269901</th>\n      <td>817024</td>\n      <td>166442.0</td>\n      <td>2022-11-15 22:48:27+00:00</td>\n      <td>Что известно о взрывах на востоке Польши  ◾️Ве...</td>\n      <td>text</td>\n      <td>tass_agency</td>\n      <td>ru</td>\n      <td>[Что известно о взрывах на востоке Польши  ◾️В...</td>\n      <td>Что известно о взрывах на востоке Польши  ◾️Ве...</td>\n      <td>[]</td>\n      <td>[]</td>\n      <td>[2]</td>\n    </tr>\n    <tr>\n      <th>640138</th>\n      <td>1179620</td>\n      <td>1127.0</td>\n      <td>2021-04-15 15:08:05+00:00</td>\n      <td>Российский военкор рассказал, когда ждать пров...</td>\n      <td>photo</td>\n      <td>swodki</td>\n      <td>ru</td>\n      <td>[Российский военкор рассказал, когда ждать про...</td>\n      <td>Российский военкор рассказал, когда ждать пров...</td>\n      <td>[]</td>\n      <td>[]</td>\n      <td>[2]</td>\n    </tr>\n    <tr>\n      <th>225021</th>\n      <td>5409015</td>\n      <td>45661.0</td>\n      <td>2022-04-28 13:36:06+00:00</td>\n      <td>♨️ Украинские Т-каналы пишут, что в Киеве и Од...</td>\n      <td>video</td>\n      <td>boris_rozhin</td>\n      <td>ru</td>\n      <td>[♨️ Украинские Т-каналы пишут, что в Киеве и О...</td>\n      <td>♨️ Украинские Т-каналы пишут, что в Киеве и Од...</td>\n      <td>[]</td>\n      <td>[]</td>\n      <td>[2]</td>\n    </tr>\n    <tr>\n      <th>620894</th>\n      <td>1050852</td>\n      <td>197532.0</td>\n      <td>2022-12-01 21:05:20+00:00</td>\n      <td>Фронтовая сводка в направлении Сватово - Креме...</td>\n      <td>video</td>\n      <td>swodki</td>\n      <td>ru</td>\n      <td>[Фронтовая сводка в направлении Сватово - Крем...</td>\n      <td>Фронтовая сводка в направлении Сватово - Креме...</td>\n      <td>[]</td>\n      <td>[Фронтовая сводка в направлении Сватово - Крем...</td>\n      <td>[2]</td>\n    </tr>\n    <tr>\n      <th>450236</th>\n      <td>1290156</td>\n      <td>47765.0</td>\n      <td>2022-11-27 16:00:01+00:00</td>\n      <td>Украинская энергосистема пожирает сама себя: ч...</td>\n      <td>photo</td>\n      <td>readovkanews</td>\n      <td>ru</td>\n      <td>[Украинская энергосистема пожирает сама себя: ...</td>\n      <td>Украинская энергосистема пожирает сама себя: ч...</td>\n      <td>[]</td>\n      <td>[]</td>\n      <td>[2]</td>\n    </tr>\n    <tr>\n      <th>...</th>\n      <td>...</td>\n      <td>...</td>\n      <td>...</td>\n      <td>...</td>\n      <td>...</td>\n      <td>...</td>\n      <td>...</td>\n      <td>...</td>\n      <td>...</td>\n      <td>...</td>\n      <td>...</td>\n      <td>...</td>\n    </tr>\n    <tr>\n      <th>303016</th>\n      <td>2794715</td>\n      <td>9437.0</td>\n      <td>2022-02-27 13:46:26+00:00</td>\n      <td>⚡️⚡️⚡️СРОЧНО  МИНОБОРОНЫ РОССИИ  Украинские во...</td>\n      <td>text</td>\n      <td>skabeeva</td>\n      <td>ru</td>\n      <td>[⚡️⚡️⚡️СРОЧНО  МИНОБОРОНЫ РОССИИ  Украинские в...</td>\n      <td>⚡️⚡️⚡️СРОЧНО  МИНОБОРОНЫ РОССИИ  Украинские во...</td>\n      <td>[]</td>\n      <td>[]</td>\n      <td>[2]</td>\n    </tr>\n    <tr>\n      <th>75558</th>\n      <td>3846260</td>\n      <td>157781.0</td>\n      <td>2022-03-27 15:49:05+00:00</td>\n      <td>⚡️Глава СК РФ Александр Бастрыкин поручил расс...</td>\n      <td>text</td>\n      <td>glavmedia</td>\n      <td>ru</td>\n      <td>[⚡️Глава СК РФ Александр Бастрыкин поручил рас...</td>\n      <td>⚡️Глава СК РФ Александр Бастрыкин поручил расс...</td>\n      <td>[]</td>\n      <td>[]</td>\n      <td>[2]</td>\n    </tr>\n    <tr>\n      <th>597630</th>\n      <td>1096190</td>\n      <td>130503.0</td>\n      <td>2022-07-09 07:10:02+00:00</td>\n      <td>Основные итоги СВО на Украине за 8 июля 2022 г...</td>\n      <td>video</td>\n      <td>swodki</td>\n      <td>ru</td>\n      <td>[Основные итоги СВО на Украине за 8 июля 2022 ...</td>\n      <td>Основные итоги СВО на Украине за 8 июля 2022 г...</td>\n      <td>[]</td>\n      <td>[]</td>\n      <td>[2]</td>\n    </tr>\n    <tr>\n      <th>733911</th>\n      <td>2235534</td>\n      <td>24801.0</td>\n      <td>2022-09-01 18:00:00+00:00</td>\n      <td>⏱ Главные события на 21:00  ▪️Делегация МАГАТЭ...</td>\n      <td>text</td>\n      <td>OstashkoNews</td>\n      <td>ru</td>\n      <td>[⏱ Главные события на 21:00  ▪️Делегация МАГАТ...</td>\n      <td>⏱ Главные события на 21:00  ▪️Делегация МАГАТЭ...</td>\n      <td>[]</td>\n      <td>[]</td>\n      <td>[2]</td>\n    </tr>\n    <tr>\n      <th>1245441</th>\n      <td>6754463</td>\n      <td>80267.0</td>\n      <td>2022-04-03 10:46:14+00:00</td>\n      <td>Войска ЛНР в боях с украинской армией за город...</td>\n      <td>video</td>\n      <td>milinfolive</td>\n      <td>ru</td>\n      <td>[Войска ЛНР в боях с украинской армией за горо...</td>\n      <td>Войска ЛНР в боях с украинской армией за город...</td>\n      <td>[]</td>\n      <td>[]</td>\n      <td>[2]</td>\n    </tr>\n  </tbody>\n</table>\n<p>5869 rows × 12 columns</p>\n</div>"
     },
     "execution_count": 41,
     "metadata": {},
     "output_type": "execute_result"
    }
   ],
   "source": [
    "df_tone_sample[df_tone_sample['tone']==2]"
   ],
   "metadata": {
    "collapsed": false,
    "pycharm": {
     "name": "#%%\n"
    }
   }
  },
  {
   "cell_type": "code",
   "execution_count": 162,
   "outputs": [],
   "source": [
    "data2 = df_tone_sample['tokenized_sents'][df_tone_sample['tone']==2].explode().unique()\n",
    "df_ukr_neg = pd.DataFrame({'text': data2[:]})\n",
    "df_ukr_neg.to_csv('ukr_neg.csv', index = False, header=True)"
   ],
   "metadata": {
    "collapsed": false,
    "pycharm": {
     "name": "#%%\n"
    }
   }
  },
  {
   "cell_type": "code",
   "execution_count": 149,
   "outputs": [],
   "source": [
    "strings2 = [\"укры\", \"Укры\" \"хох\", \"Хох\"]\n",
    "df_filtered2 = df_sample[df_sample[\"message\"].str.contains('|'.join(strings))]"
   ],
   "metadata": {
    "collapsed": false,
    "pycharm": {
     "name": "#%%\n"
    }
   }
  },
  {
   "cell_type": "code",
   "execution_count": 150,
   "outputs": [
    {
     "data": {
      "text/plain": "94927"
     },
     "execution_count": 150,
     "metadata": {},
     "output_type": "execute_result"
    }
   ],
   "source": [
    "len(df_filtered2)"
   ],
   "metadata": {
    "collapsed": false,
    "pycharm": {
     "name": "#%%\n"
    }
   }
  },
  {
   "cell_type": "code",
   "execution_count": 151,
   "outputs": [],
   "source": [
    "df_tone_sample2 = df_filtered2.sample(5000, random_state=42).copy()"
   ],
   "metadata": {
    "collapsed": false,
    "pycharm": {
     "name": "#%%\n"
    }
   }
  },
  {
   "cell_type": "code",
   "execution_count": 152,
   "outputs": [],
   "source": [
    "df_tone_sample2['tone'] = df_tone_sample2['message'].apply(lambda x: predict(x))"
   ],
   "metadata": {
    "collapsed": false,
    "pycharm": {
     "name": "#%%\n"
    }
   }
  },
  {
   "cell_type": "code",
   "execution_count": 160,
   "outputs": [],
   "source": [
    "data3 = df_tone_sample2['tokenized_sents'][df_tone_sample2['tone']==2].explode().unique()\n",
    "df_ukr_neg2 = pd.DataFrame({'text': data3[:]})\n",
    "df_ukr_neg2.to_csv('ukr_neg2.csv', index = False, header=True)"
   ],
   "metadata": {
    "collapsed": false,
    "pycharm": {
     "name": "#%%\n"
    }
   }
  },
  {
   "cell_type": "markdown",
   "source": [
    "### For w2v training we take the 10% sample and preprocess it.\n",
    "\n",
    "We train w2v for 10 and then for 20 epochs, and select the one with 20 ep as final."
   ],
   "metadata": {
    "collapsed": false,
    "pycharm": {
     "name": "#%% md\n"
    }
   }
  },
  {
   "cell_type": "code",
   "execution_count": null,
   "outputs": [],
   "source": [
    "df_small_sample"
   ],
   "metadata": {
    "collapsed": false,
    "pycharm": {
     "name": "#%%\n"
    }
   }
  },
  {
   "cell_type": "code",
   "execution_count": null,
   "outputs": [],
   "source": [
    "len(df_small_sample)"
   ],
   "metadata": {
    "collapsed": false,
    "pycharm": {
     "name": "#%%\n"
    }
   }
  },
  {
   "cell_type": "code",
   "execution_count": null,
   "outputs": [],
   "source": [
    "splitters = ['\\n', '\\t', '\\\\n','\\xa0', '\\u200b']\n",
    "df_small_sample['message_no_breaks'] = df_small_sample['message'].str.replace('\\n|\\t|\\\\n', ' ', case=False)"
   ],
   "metadata": {
    "collapsed": false,
    "pycharm": {
     "name": "#%%\n"
    }
   }
  },
  {
   "cell_type": "code",
   "execution_count": null,
   "outputs": [],
   "source": [
    "def get_emoji_count(text):\n",
    "    return collections.Counter([match[\"emoji\"] for word in text for match in emoji.emoji_list(word)])"
   ],
   "metadata": {
    "collapsed": false,
    "pycharm": {
     "name": "#%%\n"
    }
   }
  },
  {
   "cell_type": "code",
   "execution_count": null,
   "outputs": [],
   "source": [
    "def remove_emoji(string):\n",
    "    emoji_pattern = re.compile(\"[\"\n",
    "                           u\"\\U0001F600-\\U0001F64F\"  # emoticons\n",
    "                           u\"\\U0001F300-\\U0001F5FF\"  # symbols & pictographs\n",
    "                           u\"\\U0001F680-\\U0001F6FF\"  # transport & map symbols\n",
    "                           u\"\\U0001F1E0-\\U0001F1FF\"  # flags (iOS)\n",
    "                           u\"\\U00002702-\\U000027B0\"\n",
    "                           u\"\\U000024C2-\\U0001F251\"\n",
    "                           \"]+\", flags=re.UNICODE)\n",
    "    return emoji_pattern.sub(r' ', string)"
   ],
   "metadata": {
    "collapsed": false,
    "pycharm": {
     "name": "#%%\n"
    }
   }
  },
  {
   "cell_type": "code",
   "execution_count": null,
   "outputs": [],
   "source": [
    "%%time\n",
    "df_small_sample['message_no_emoji'] = df_small_sample['message_no_breaks'].apply(lambda x: remove_emoji(x))"
   ],
   "metadata": {
    "collapsed": false,
    "pycharm": {
     "name": "#%%\n"
    }
   }
  },
  {
   "cell_type": "code",
   "execution_count": null,
   "outputs": [],
   "source": [
    "df_small_sample['message_no_urls'] = df_small_sample['message_no_emoji'].str.replace('http\\S+|www.\\S+', '', case=False)"
   ],
   "metadata": {
    "collapsed": false,
    "pycharm": {
     "name": "#%%\n"
    }
   }
  },
  {
   "cell_type": "code",
   "execution_count": null,
   "outputs": [],
   "source": [
    "def cut_mentions(list_of_mentions, text):\n",
    "    for word in list_of_mentions:\n",
    "        wrd = '@' + word\n",
    "        text = text.replace(wrd, '')\n",
    "    return text.strip()"
   ],
   "metadata": {
    "collapsed": false,
    "pycharm": {
     "name": "#%%\n"
    }
   }
  },
  {
   "cell_type": "code",
   "execution_count": null,
   "outputs": [],
   "source": [
    "df_small_sample['mentions'] = df_small_sample['message_no_urls'].str.findall(r\"@([a-zA-Z0-9_]{1,50})\")"
   ],
   "metadata": {
    "collapsed": false,
    "pycharm": {
     "name": "#%%\n"
    }
   }
  },
  {
   "cell_type": "code",
   "execution_count": null,
   "outputs": [],
   "source": [
    "%%time\n",
    "df_small_sample['message_no_mentions'] = df_small_sample.apply(lambda x: cut_mentions(x['mentions'], x['message_no_urls']), axis=1)"
   ],
   "metadata": {
    "collapsed": false,
    "pycharm": {
     "name": "#%%\n"
    }
   }
  },
  {
   "cell_type": "code",
   "execution_count": null,
   "outputs": [],
   "source": [
    "to_replace = [\"«\", \"»\", \"“\"]\n",
    "\n",
    "df_small_sample['message_no_mentions'] = df_small_sample['message_no_mentions'].str.replace('|'.join(to_replace),'\"')"
   ],
   "metadata": {
    "collapsed": false,
    "pycharm": {
     "name": "#%%\n"
    }
   }
  },
  {
   "cell_type": "code",
   "execution_count": null,
   "outputs": [],
   "source": [
    "def cut_hasgtags(set_of_hashtags, text):\n",
    "    for word in list(set_of_hashtags):\n",
    "        text = text.replace(word, '')\n",
    "    return text.strip()"
   ],
   "metadata": {
    "collapsed": false,
    "pycharm": {
     "name": "#%%\n"
    }
   }
  },
  {
   "cell_type": "code",
   "execution_count": null,
   "outputs": [],
   "source": [
    "%%time\n",
    "df_small_sample['hashtags'] = df_small_sample['message_no_mentions'].apply(lambda x: {word.strip(\",\").strip(\".\") for word in x.split() if word.startswith(\"#\")})"
   ],
   "metadata": {
    "collapsed": false,
    "pycharm": {
     "name": "#%%\n"
    }
   }
  },
  {
   "cell_type": "code",
   "execution_count": null,
   "outputs": [],
   "source": [
    "df_small_sample['message_no_hashtags'] = df_small_sample.apply(lambda x: cut_hasgtags(x['hashtags'], x['message_no_mentions']), axis=1)\n"
   ],
   "metadata": {
    "collapsed": false,
    "pycharm": {
     "name": "#%%\n"
    }
   }
  },
  {
   "cell_type": "code",
   "execution_count": null,
   "outputs": [],
   "source": [
    "punctuation_minimal = '!(),-.:;?%'\n",
    "\n",
    "cyrillic_letters = u\"абвгдеёжзийклмнопрстуфхцчшщъыьэюяАБВГДЕЁЖЗИЙКЛМНОПРСТУФХЦЧШЩЪЫЬЭЮЯ\"\n",
    "latin_letters_numbers = \"1234567890abcdefghijklmnopqrstuvwxyzABCDEFGHIJKLMNOPQRSTUVWXYZ \"\n",
    "allowed_symbols = cyrillic_letters+latin_letters_numbers + punctuation_minimal"
   ],
   "metadata": {
    "collapsed": false,
    "pycharm": {
     "name": "#%%\n"
    }
   }
  },
  {
   "cell_type": "code",
   "execution_count": null,
   "outputs": [],
   "source": [
    "def clean_text(string, allowed_symbols=allowed_symbols):\n",
    "    getVals = list(filter(lambda x: x in allowed_symbols, string))\n",
    "    result = \"\".join(getVals)\n",
    "    result = re.sub(' +', ' ', result)\n",
    "\n",
    "    return result"
   ],
   "metadata": {
    "collapsed": false,
    "pycharm": {
     "name": "#%%\n"
    }
   }
  },
  {
   "cell_type": "code",
   "execution_count": null,
   "outputs": [],
   "source": [
    "%%time\n",
    "df_small_sample['message_clean'] = df_small_sample['message_no_hashtags'].apply(lambda x: clean_text(x))"
   ],
   "metadata": {
    "collapsed": false,
    "pycharm": {
     "name": "#%%\n"
    }
   }
  },
  {
   "cell_type": "code",
   "execution_count": null,
   "outputs": [],
   "source": [
    "only_letters = cyrillic_letters+latin_letters_numbers"
   ],
   "metadata": {
    "collapsed": false,
    "pycharm": {
     "name": "#%%\n"
    }
   }
  },
  {
   "cell_type": "code",
   "execution_count": null,
   "outputs": [],
   "source": [
    "%%time\n",
    "df_small_sample['message_words_only_lower'] = df_small_sample['message_clean'].apply(lambda x: clean_text(x, allowed_symbols=only_letters).lower())"
   ],
   "metadata": {
    "collapsed": false,
    "pycharm": {
     "name": "#%%\n"
    }
   }
  },
  {
   "cell_type": "code",
   "execution_count": null,
   "outputs": [],
   "source": [
    "with pd.option_context('display.max_colwidth', None):\n",
    "    print(df_small_sample['message_words_only_lower'].sample(1))"
   ],
   "metadata": {
    "collapsed": false,
    "pycharm": {
     "name": "#%%\n"
    }
   }
  },
  {
   "cell_type": "code",
   "execution_count": null,
   "outputs": [],
   "source": [
    "df_small_sample[['message_words_only_lower']].to_csv('small_sample.csv', header=True)"
   ],
   "metadata": {
    "collapsed": false,
    "pycharm": {
     "name": "#%%\n"
    }
   }
  },
  {
   "cell_type": "code",
   "execution_count": 3,
   "outputs": [],
   "source": [
    "import spacy"
   ],
   "metadata": {
    "collapsed": false,
    "pycharm": {
     "name": "#%%\n"
    }
   }
  },
  {
   "cell_type": "code",
   "execution_count": 4,
   "outputs": [],
   "source": [
    "nlp = spacy.load('ru_core_news_md')"
   ],
   "metadata": {
    "collapsed": false,
    "pycharm": {
     "name": "#%%\n"
    }
   }
  },
  {
   "cell_type": "code",
   "execution_count": 5,
   "outputs": [],
   "source": [
    "def tokenize_spacy(text):\n",
    "    doc = nlp(text)\n",
    "    result = []\n",
    "    for token in doc:\n",
    "        result.append([token.text, token.pos_, token.dep_, token.lemma_, token.morph])\n",
    "    return result"
   ],
   "metadata": {
    "collapsed": false,
    "pycharm": {
     "name": "#%%\n"
    }
   }
  },
  {
   "cell_type": "code",
   "execution_count": null,
   "outputs": [],
   "source": [
    "%%time\n",
    "df_small_sample['tokens'] = df_small_sample['message_words_only_lower'].apply(lambda x: tokenize_spacy(x))"
   ],
   "metadata": {
    "collapsed": false,
    "pycharm": {
     "name": "#%%\n"
    }
   }
  },
  {
   "cell_type": "code",
   "execution_count": null,
   "outputs": [],
   "source": [
    "df_small_sample['tokens']"
   ],
   "metadata": {
    "collapsed": false,
    "pycharm": {
     "name": "#%%\n"
    }
   }
  },
  {
   "cell_type": "code",
   "execution_count": 244,
   "outputs": [],
   "source": [
    "df_small_sample.to_csv('df_small_sample.csv')"
   ],
   "metadata": {
    "collapsed": false,
    "pycharm": {
     "name": "#%%\n"
    }
   }
  },
  {
   "cell_type": "code",
   "execution_count": 1,
   "outputs": [],
   "source": [
    "import pandas as pd"
   ],
   "metadata": {
    "collapsed": false,
    "pycharm": {
     "name": "#%%\n"
    }
   }
  },
  {
   "cell_type": "code",
   "execution_count": 2,
   "outputs": [],
   "source": [
    "df_small_sample = pd.read_csv('/Users/katerynaburovova/PycharmProjects/dehumanization/annotation/data/df_small_sample.csv')"
   ],
   "metadata": {
    "collapsed": false,
    "pycharm": {
     "name": "#%%\n"
    }
   }
  },
  {
   "cell_type": "code",
   "execution_count": 13,
   "outputs": [],
   "source": [
    "def get_lemma(list_of_lists):\n",
    "    result = []\n",
    "    for list in list_of_lists:\n",
    "        result.append(list[3])\n",
    "    return result"
   ],
   "metadata": {
    "collapsed": false,
    "pycharm": {
     "name": "#%%\n"
    }
   }
  },
  {
   "cell_type": "code",
   "execution_count": 6,
   "outputs": [],
   "source": [
    "def tokenize_spacy_lemma(text):\n",
    "    doc = nlp(text)\n",
    "    result = []\n",
    "    for token in doc:\n",
    "        result.append(token.lemma_)\n",
    "    return result"
   ],
   "metadata": {
    "collapsed": false,
    "pycharm": {
     "name": "#%%\n"
    }
   }
  },
  {
   "cell_type": "code",
   "execution_count": 15,
   "outputs": [
    {
     "name": "stdout",
     "output_type": "stream",
     "text": [
      "CPU times: user 1e+03 ns, sys: 0 ns, total: 1e+03 ns\n",
      "Wall time: 18.8 µs\n"
     ]
    }
   ],
   "source": [
    "%%time\n",
    "# test_set = df_small_sample['tokens'].sample(1000).apply(lambda x: get_lemma(x))"
   ],
   "metadata": {
    "collapsed": false,
    "pycharm": {
     "name": "#%%\n"
    }
   }
  },
  {
   "cell_type": "code",
   "execution_count": 16,
   "outputs": [],
   "source": [
    "# df_small_sample['tokens'][0][0][3]"
   ],
   "metadata": {
    "collapsed": false,
    "pycharm": {
     "name": "#%%\n"
    }
   }
  },
  {
   "cell_type": "code",
   "execution_count": null,
   "outputs": [],
   "source": [
    "%%time\n",
    "df_small_sample['lemmas'] = df_small_sample['tokens'].apply(lambda x: get_lemma(x))"
   ],
   "metadata": {
    "collapsed": false,
    "pycharm": {
     "name": "#%%\n",
     "is_executing": true
    }
   }
  },
  {
   "cell_type": "code",
   "execution_count": 32,
   "outputs": [
    {
     "data": {
      "text/plain": "0         [['дмитрий', 'PROPN', 'nsubj', 'дмитрий', Anim...\n1         [['мид', 'NOUN', 'nsubj', 'мид', Animacy=Inan|...\n2         [['санкции', 'NOUN', 'nsubj', 'санкция', Anima...\n3         [['новая', 'ADJ', 'amod', 'новый', Case=Nom|De...\n4         [['эксклюзив', 'NOUN', 'nsubj', 'эксклюзив', A...\n                                ...                        \n683649    [['франция', 'PROPN', 'nsubj', 'франция', Anim...\n683650    [['возможной', 'ADJ', 'amod', 'возможный', Cas...\n683651    [['сегодня', 'ADV', 'advmod', 'сегодня', Degre...\n683652    [['стрелка', 'NOUN', 'obj', 'стрелок', Animacy...\n683653    [['мошенники', 'NOUN', 'nsubj', 'мошенник', An...\nName: tokens, Length: 683654, dtype: object"
     },
     "execution_count": 32,
     "metadata": {},
     "output_type": "execute_result"
    }
   ],
   "source": [
    "df_small_sample['tokens']"
   ],
   "metadata": {
    "collapsed": false,
    "pycharm": {
     "name": "#%%\n"
    }
   }
  },
  {
   "cell_type": "code",
   "execution_count": null,
   "outputs": [],
   "source": [
    "documents = df_small_sample['lemmas'].tolist()"
   ],
   "metadata": {
    "collapsed": false,
    "pycharm": {
     "name": "#%%\n"
    }
   }
  },
  {
   "cell_type": "code",
   "execution_count": null,
   "outputs": [],
   "source": [
    "documents"
   ],
   "metadata": {
    "collapsed": false,
    "pycharm": {
     "name": "#%%\n"
    }
   }
  },
  {
   "cell_type": "code",
   "execution_count": 270,
   "outputs": [],
   "source": [
    "import gensim"
   ],
   "metadata": {
    "collapsed": false,
    "pycharm": {
     "name": "#%%\n"
    }
   }
  },
  {
   "cell_type": "code",
   "execution_count": 273,
   "outputs": [
    {
     "name": "stdout",
     "output_type": "stream",
     "text": [
      "CPU times: user 21min 19s, sys: 1min 55s, total: 23min 14s\n",
      "Wall time: 6min 48s\n"
     ]
    },
    {
     "data": {
      "text/plain": "(333227208, 381780410)"
     },
     "execution_count": 273,
     "metadata": {},
     "output_type": "execute_result"
    }
   ],
   "source": [
    "%%time\n",
    "model = gensim.models.Word2Vec (documents, vector_size=150, window=10, min_count=2, workers=10)\n",
    "model.train(documents,total_examples=len(documents),epochs=10)"
   ],
   "metadata": {
    "collapsed": false,
    "pycharm": {
     "name": "#%%\n"
    }
   }
  },
  {
   "cell_type": "code",
   "execution_count": 282,
   "outputs": [
    {
     "data": {
      "text/plain": "[('поляк', 0.7101138234138489),\n ('русских', 0.7060922980308533),\n ('русские', 0.683661699295044),\n ('европеец', 0.6558117866516113),\n ('немец', 0.6476935744285583),\n ('американец', 0.6276693344116211),\n ('бандеровец', 0.6234453320503235),\n ('британец', 0.6072903275489807),\n ('украина', 0.6048406362533569),\n ('киевлянин', 0.6004078388214111)]"
     },
     "execution_count": 282,
     "metadata": {},
     "output_type": "execute_result"
    }
   ],
   "source": [
    "w1 = \"украинец\" #ы\n",
    "model.wv.most_similar (positive=w1)"
   ],
   "metadata": {
    "collapsed": false,
    "pycharm": {
     "name": "#%%\n"
    }
   }
  },
  {
   "cell_type": "code",
   "execution_count": 295,
   "outputs": [
    {
     "data": {
      "text/plain": "[('всушники', 0.7371035814285278),\n ('всу', 0.7126280069351196),\n ('укры', 0.6975746154785156),\n ('укроп', 0.6604259014129639),\n ('украинские', 0.6520400643348694),\n ('укровояки', 0.6500487923622131),\n ('нацбаты', 0.6468362808227539),\n ('укронацистов', 0.6359423995018005),\n ('нацики', 0.624232292175293),\n ('всуки', 0.6043425798416138)]"
     },
     "execution_count": 295,
     "metadata": {},
     "output_type": "execute_result"
    }
   ],
   "source": [
    "w2 = \"укронацисты\" #ы\n",
    "model.wv.most_similar (positive=w2)"
   ],
   "metadata": {
    "collapsed": false,
    "pycharm": {
     "name": "#%%\n"
    }
   }
  },
  {
   "cell_type": "code",
   "execution_count": 284,
   "outputs": [],
   "source": [
    "model.save(\"/Users/katerynaburovova/PycharmProjects/dehumanization/w2v_models/w2v_small_sample_10ep_10w.model\")"
   ],
   "metadata": {
    "collapsed": false,
    "pycharm": {
     "name": "#%%\n"
    }
   }
  },
  {
   "cell_type": "code",
   "execution_count": 285,
   "outputs": [
    {
     "name": "stdout",
     "output_type": "stream",
     "text": [
      "CPU times: user 43min 46s, sys: 3min 24s, total: 47min 11s\n",
      "Wall time: 13min 40s\n"
     ]
    },
    {
     "data": {
      "text/plain": "(666454099, 763560820)"
     },
     "execution_count": 285,
     "metadata": {},
     "output_type": "execute_result"
    }
   ],
   "source": [
    "%%time\n",
    "w2v_small_sample_20ep_20w = gensim.models.Word2Vec (documents, vector_size=150, window=20, min_count=2, workers=10)\n",
    "w2v_small_sample_20ep_20w.train(documents,total_examples=len(documents),epochs=20)"
   ],
   "metadata": {
    "collapsed": false,
    "pycharm": {
     "name": "#%%\n"
    }
   }
  },
  {
   "cell_type": "code",
   "execution_count": 306,
   "outputs": [],
   "source": [
    "w2v_small_sample_20ep_20w.save(\"/Users/katerynaburovova/PycharmProjects/dehumanization/w2v_models/w2v_small_sample_20ep_20w.model\")"
   ],
   "metadata": {
    "collapsed": false,
    "pycharm": {
     "name": "#%%\n"
    }
   }
  },
  {
   "cell_type": "code",
   "execution_count": 296,
   "outputs": [
    {
     "data": {
      "text/plain": "[('русских', 0.6968995332717896),\n ('русские', 0.6964977383613586),\n ('украина', 0.651254415512085),\n ('поляк', 0.6197736859321594),\n ('киев', 0.6087530851364136),\n ('европеец', 0.5969522595405579),\n ('русским', 0.5910526514053345),\n ('русскими', 0.585874080657959),\n ('бандеровец', 0.5767456293106079),\n ('нацист', 0.5747347474098206)]"
     },
     "execution_count": 296,
     "metadata": {},
     "output_type": "execute_result"
    }
   ],
   "source": [
    "w1 = \"украинец\" #ы\n",
    "w2v_small_sample_20ep_20w.wv.most_similar (positive=w1)"
   ],
   "metadata": {
    "collapsed": false,
    "pycharm": {
     "name": "#%%\n"
    }
   }
  },
  {
   "cell_type": "code",
   "execution_count": 303,
   "outputs": [
    {
     "data": {
      "text/plain": "[('хлопцы', 0.525049090385437),\n ('укрорейха', 0.49813905358314514),\n ('хохол', 0.4795973598957062),\n ('украинский', 0.4786289632320404),\n ('укро', 0.47841185331344604),\n ('укроп', 0.475413054227829),\n ('уничтоженный', 0.4753034710884094),\n ('украинским', 0.47485196590423584),\n ('артой', 0.46757906675338745),\n ('всушник', 0.46454688906669617)]"
     },
     "execution_count": 303,
     "metadata": {},
     "output_type": "execute_result"
    }
   ],
   "source": [
    "w2 = \"укр\" #ы\n",
    "w2v_small_sample_20ep_20w.wv.most_similar (positive=w2)"
   ],
   "metadata": {
    "collapsed": false,
    "pycharm": {
     "name": "#%%\n"
    }
   }
  },
  {
   "cell_type": "code",
   "execution_count": 298,
   "outputs": [
    {
     "data": {
      "text/plain": "[('хлопцы', 0.525049090385437),\n ('укрорейха', 0.49813905358314514),\n ('хохол', 0.4795973598957062),\n ('украинский', 0.4786289632320404),\n ('укро', 0.47841185331344604),\n ('укроп', 0.475413054227829),\n ('уничтоженный', 0.4753034710884094),\n ('украинским', 0.47485196590423584),\n ('артой', 0.46757906675338745),\n ('всушник', 0.46454688906669617)]"
     },
     "execution_count": 298,
     "metadata": {},
     "output_type": "execute_result"
    }
   ],
   "source": [
    "w3 = \"укр\" #ы\n",
    "w2v_small_sample_20ep_20w.wv.most_similar (positive=w3)"
   ],
   "metadata": {
    "collapsed": false,
    "pycharm": {
     "name": "#%%\n"
    }
   }
  },
  {
   "cell_type": "code",
   "execution_count": 301,
   "outputs": [
    {
     "data": {
      "text/plain": "[('хлопец', 0.6090108156204224),\n ('драпать', 0.6059606671333313),\n ('хохлы', 0.5939660668373108),\n ('нацики', 0.5922543406486511),\n ('всушников', 0.5839340686798096),\n ('всушники', 0.578698456287384),\n ('хохол', 0.5765518546104431),\n ('всушник', 0.5621557831764221),\n ('нахй', 0.5591046810150146),\n ('пацаны', 0.5548537969589233)]"
     },
     "execution_count": 301,
     "metadata": {},
     "output_type": "execute_result"
    }
   ],
   "source": [
    "w3 = \"хлопцы\" #ы\n",
    "w2v_small_sample_20ep_20w.wv.most_similar (positive=w3)"
   ],
   "metadata": {
    "collapsed": false,
    "pycharm": {
     "name": "#%%\n"
    }
   }
  },
  {
   "cell_type": "code",
   "execution_count": 302,
   "outputs": [
    {
     "data": {
      "text/plain": "[('хохол', 0.6874178051948547),\n ('москали', 0.6082358360290527),\n ('хлопцы', 0.5939660668373108),\n ('блть', 0.592091977596283),\n ('укроп', 0.5853246450424194),\n ('пацаны', 0.5584353804588318),\n ('всушников', 0.541182279586792),\n ('шо', 0.5330790281295776),\n ('свидомые', 0.5313231348991394),\n ('москаль', 0.5298460125923157)]"
     },
     "execution_count": 302,
     "metadata": {},
     "output_type": "execute_result"
    }
   ],
   "source": [
    "w3 = \"хохлы\" #ы\n",
    "w2v_small_sample_20ep_20w.wv.most_similar (positive=w3)"
   ],
   "metadata": {
    "collapsed": false,
    "pycharm": {
     "name": "#%%\n"
    }
   }
  },
  {
   "cell_type": "code",
   "execution_count": 299,
   "outputs": [
    {
     "data": {
      "text/plain": "[('нацист', 0.7867278456687927),\n ('нациков', 0.6760679483413696),\n ('фашист', 0.6734396815299988),\n ('нацики', 0.6429235935211182),\n ('неонацист', 0.63155597448349),\n ('оккупант', 0.6156263947486877),\n ('бандеры', 0.6109479069709778),\n ('недобиток', 0.5980472564697266),\n ('бандеровскую', 0.5909456610679626),\n ('украинец', 0.5767455697059631)]"
     },
     "execution_count": 299,
     "metadata": {},
     "output_type": "execute_result"
    }
   ],
   "source": [
    "w4 = \"бандеровец\" #ы\n",
    "w2v_small_sample_20ep_20w.wv.most_similar (positive=w4)"
   ],
   "metadata": {
    "collapsed": false,
    "pycharm": {
     "name": "#%%\n"
    }
   }
  },
  {
   "cell_type": "code",
   "execution_count": 300,
   "outputs": [
    {
     "data": {
      "text/plain": "[('шухевича', 0.7994802594184875),\n ('бандеру', 0.6805114150047302),\n ('упа', 0.675289511680603),\n ('нацист', 0.6455380916595459),\n ('нацистский', 0.6343949437141418),\n ('бандера', 0.6273082494735718),\n ('бандеровец', 0.6109479069709778),\n ('фашист', 0.5912745594978333),\n ('коллаборационист', 0.5839884877204895),\n ('нацисткой', 0.5792540311813354)]"
     },
     "execution_count": 300,
     "metadata": {},
     "output_type": "execute_result"
    }
   ],
   "source": [
    "w5 = \"бандеры\" #ы\n",
    "w2v_small_sample_20ep_20w.wv.most_similar (positive=w5)"
   ],
   "metadata": {
    "collapsed": false,
    "pycharm": {
     "name": "#%%\n"
    }
   }
  },
  {
   "cell_type": "code",
   "execution_count": 307,
   "outputs": [
    {
     "name": "stdout",
     "output_type": "stream",
     "text": [
      "CPU times: user 1h 33s, sys: 4min 53s, total: 1h 5min 26s\n",
      "Wall time: 22min 44s\n"
     ]
    },
    {
     "data": {
      "text/plain": "(999663280, 1145341230)"
     },
     "execution_count": 307,
     "metadata": {},
     "output_type": "execute_result"
    }
   ],
   "source": [
    "%%time\n",
    "w2v_small_sample_30ep_20w = gensim.models.Word2Vec (documents, vector_size=150, window=20, min_count=2, workers=10)\n",
    "w2v_small_sample_30ep_20w.train(documents,total_examples=len(documents),epochs=30)"
   ],
   "metadata": {
    "collapsed": false,
    "pycharm": {
     "name": "#%%\n"
    }
   }
  },
  {
   "cell_type": "code",
   "execution_count": 309,
   "outputs": [],
   "source": [
    "w2v_small_sample_30ep_20w.save(\"/Users/katerynaburovova/PycharmProjects/dehumanization/w2v_models/w2v_small_sample_30ep_20w.model\")"
   ],
   "metadata": {
    "collapsed": false,
    "pycharm": {
     "name": "#%%\n"
    }
   }
  },
  {
   "cell_type": "markdown",
   "source": [
    "### Compiling the list of group labels for pre-selection"
   ],
   "metadata": {
    "collapsed": false,
    "pycharm": {
     "name": "#%% md\n"
    }
   }
  },
  {
   "cell_type": "code",
   "execution_count": 304,
   "outputs": [
    {
     "data": {
      "text/plain": "[('укров', 0.6507847309112549),\n ('укронацисты', 0.6384262442588806),\n ('хохол', 0.6045107245445251),\n ('всу', 0.5642962455749512),\n ('укроп', 0.5553898215293884),\n ('всушники', 0.5513160824775696),\n ('арта', 0.5499454140663147),\n ('укропов', 0.5253047347068787),\n ('укропские', 0.5176306962966919),\n ('грады', 0.5170502066612244)]"
     },
     "execution_count": 304,
     "metadata": {},
     "output_type": "execute_result"
    }
   ],
   "source": [
    "w = \"укры\" #ы\n",
    "w2v_small_sample_20ep_20w.wv.most_similar (positive=w)"
   ],
   "metadata": {
    "collapsed": false,
    "pycharm": {
     "name": "#%%\n"
    }
   }
  },
  {
   "cell_type": "code",
   "execution_count": 382,
   "outputs": [
    {
     "data": {
      "text/plain": "[('побратим', 0.5724674463272095),\n ('хохол', 0.5294627547264099),\n ('укры', 0.5038765072822571),\n ('хаймарсы', 0.48131513595581055),\n ('машенька', 0.4766599237918854),\n ('м14', 0.4630703032016754),\n ('янки', 0.46303218603134155),\n ('нацики', 0.4626290500164032),\n ('рагулье', 0.46123623847961426),\n ('русские', 0.4609838128089905),\n ('рагулям', 0.4592565596103668),\n ('укроп', 0.4564368724822998),\n ('садыки', 0.4542776644229889),\n ('всушники', 0.4501821994781494),\n ('нихя', 0.44559958577156067),\n ('хохлы', 0.4436476528644562),\n ('всушниками', 0.4421617090702057),\n ('вояка', 0.4414631426334381),\n ('укропропаганда', 0.4394609332084656),\n ('соляру', 0.43590500950813293)]"
     },
     "execution_count": 382,
     "metadata": {},
     "output_type": "execute_result"
    }
   ],
   "source": [
    "w = \"укропитеки\" #ы\n",
    "model.wv.most_similar (positive=w, topn=20)"
   ],
   "metadata": {
    "collapsed": false,
    "pycharm": {
     "name": "#%%\n"
    }
   }
  },
  {
   "cell_type": "code",
   "execution_count": 378,
   "outputs": [
    {
     "data": {
      "text/plain": "[('москаль', 0.5343905687332153),\n ('нацист', 0.5062564015388489),\n ('бандеровец', 0.477138489484787),\n ('нациков', 0.47089558839797974),\n ('свинособаки', 0.47018522024154663),\n ('нацики', 0.46963152289390564),\n ('мразей', 0.46705949306488037),\n ('полицай', 0.4554937779903412),\n ('справжних', 0.44639554619789124),\n ('азiва', 0.4461626410484314),\n ('укров', 0.44432422518730164),\n ('хохол', 0.44374388456344604),\n ('побратим', 0.4429384171962738),\n ('сепаров', 0.4396215081214905),\n ('фашист', 0.4381740093231201),\n ('хихиканье', 0.4364808201789856),\n ('укрорейха', 0.4360989034175873),\n ('наци', 0.43421411514282227),\n ('каратель', 0.4289534091949463),\n ('тих', 0.4284592270851135)]"
     },
     "execution_count": 378,
     "metadata": {},
     "output_type": "execute_result"
    }
   ],
   "source": [
    "w = \"свинособак\" #ы\n",
    "w2v_small_sample_30ep_20w.wv.most_similar (positive=w, topn=20)"
   ],
   "metadata": {
    "collapsed": false,
    "pycharm": {
     "name": "#%%\n"
    }
   }
  },
  {
   "cell_type": "code",
   "execution_count": 329,
   "outputs": [],
   "source": [
    "list_of_labels = ['бандеры',\n",
    "                  'бандеровец',\n",
    "                  'неонацист',\n",
    "                  'неонацисты',\n",
    "                  'хохол',\n",
    "                  'хохлы',\n",
    "                  'хлопцы',\n",
    "                  'укроп',\n",
    "                  'всушники',\n",
    "                  'всушник',\n",
    "                  'свидомые',\n",
    "                  'укрорейх',\n",
    "                  'укроп',\n",
    "                  'укропы',\n",
    "                  'всуки',\n",
    "                  'укронацисты',\n",
    "                  'укронацист',\n",
    "                  'укронацики',\n",
    "                  'укронацик',\n",
    "                  'укро-', #складені імена через дефіс, наскільки я розумію\n",
    "                  'укровояки',\n",
    "                  'майданутые',\n",
    "                  'салорейх',\n",
    "                  'хрюн',\n",
    "                  'чуб',\n",
    "                  ]"
   ],
   "metadata": {
    "collapsed": false,
    "pycharm": {
     "name": "#%%\n"
    }
   }
  },
  {
   "cell_type": "code",
   "execution_count": 330,
   "outputs": [],
   "source": [
    "list_of_roots = ['бандер',\n",
    "                  'неонац',\n",
    "                  'хохол',\n",
    "                  'хохл',\n",
    "                  'хлопц',\n",
    "                  'укроп',\n",
    "                  'всушник',\n",
    "                  'свидом',\n",
    "                  'орейх',\n",
    "                  'всук',\n",
    "                  'укронац',\n",
    "                  'укро-', #складені імена через дефіс, наскільки я розумію\n",
    "                    'укро ',\n",
    "                  'укровояк',\n",
    "                  'майданут',\n",
    "                  'хрюн',\n",
    "                  'чуб',\n",
    "                  ]"
   ],
   "metadata": {
    "collapsed": false,
    "pycharm": {
     "name": "#%%\n"
    }
   }
  },
  {
   "cell_type": "code",
   "execution_count": 336,
   "outputs": [
    {
     "name": "stdout",
     "output_type": "stream",
     "text": [
      "CPU times: user 41.2 s, sys: 4.06 s, total: 45.3 s\n",
      "Wall time: 54.6 s\n"
     ]
    }
   ],
   "source": [
    "%%time\n",
    "df_sample['mentions_roots'] = df_sample['tokenized_sents'].apply(lambda x: find_sentences_w_sec(x, list_of_roots))"
   ],
   "metadata": {
    "collapsed": false,
    "pycharm": {
     "name": "#%%\n"
    }
   }
  },
  {
   "cell_type": "code",
   "execution_count": 338,
   "outputs": [],
   "source": [
    "data = df_sample['mentions_roots'].explode().unique()\n",
    "df_w2v_roots = pd.DataFrame({'text': data[:]})\n",
    "df_w2v_roots.to_csv('df_w2v_roots.csv')"
   ],
   "metadata": {
    "collapsed": false,
    "pycharm": {
     "name": "#%%\n"
    }
   }
  },
  {
   "cell_type": "markdown",
   "source": [
    "We then manually process the df_w2v_roots to select all sentences that have the most risk to contain dehumanization signals and join the prevous selections. The final dataset is processed to be written as separate rows and imported to Labelbox."
   ],
   "metadata": {
    "collapsed": false,
    "pycharm": {
     "name": "#%% md\n"
    }
   }
  },
  {
   "cell_type": "code",
   "execution_count": 2,
   "outputs": [],
   "source": [
    "import pandas as pd\n",
    "df_annotation = pd.read_csv('/Users/katerynaburovova/PycharmProjects/dehumanization/annotation/dataset_v_1.csv', header=0)"
   ],
   "metadata": {
    "collapsed": false,
    "pycharm": {
     "name": "#%%\n"
    }
   }
  },
  {
   "cell_type": "code",
   "execution_count": 348,
   "outputs": [],
   "source": [
    "# writePath = '/Users/katerynaburovova/PycharmProjects/dehumanization/annotation/data/ann_dataset.txt'\n",
    "# with open(writePath, 'a') as f:\n",
    "#     dfAsString = df_annotation.to_string(header=False, index=False)\n",
    "#     f.write(dfAsString)"
   ],
   "metadata": {
    "collapsed": false,
    "pycharm": {
     "name": "#%%\n"
    }
   }
  },
  {
   "cell_type": "code",
   "execution_count": 388,
   "outputs": [],
   "source": [
    "df_annotation = df_annotation.sample(frac=1).reset_index(drop=True)"
   ],
   "metadata": {
    "collapsed": false,
    "pycharm": {
     "name": "#%%\n"
    }
   }
  },
  {
   "cell_type": "code",
   "execution_count": null,
   "outputs": [],
   "source": [
    "df_annotation.to_csv('/Users/katerynaburovova/PycharmProjects/dehumanization/annotation/data/df_annotation.csv')"
   ],
   "metadata": {
    "collapsed": false,
    "pycharm": {
     "name": "#%%\n",
     "is_executing": true
    }
   }
  },
  {
   "cell_type": "code",
   "execution_count": 390,
   "outputs": [],
   "source": [
    "for i, row in df_annotation.iterrows():\n",
    "    # Create a filename for each row\n",
    "    filename = f\"/Users/katerynaburovova/PycharmProjects/dehumanization/annotation/dataset_shuffled/row_{i}.txt\"\n",
    "\n",
    "    # Write the contents of each row to a separate text file\n",
    "    with open(filename, \"w\", encoding='utf-8') as f:\n",
    "        f.write(str(row.to_dict()['text']))"
   ],
   "metadata": {
    "collapsed": false,
    "pycharm": {
     "name": "#%%\n"
    }
   }
  },
  {
   "cell_type": "code",
   "execution_count": null,
   "outputs": [],
   "source": [
    "len(df_small_sample) / len(df_posts)"
   ],
   "metadata": {
    "collapsed": false,
    "pycharm": {
     "name": "#%%\n",
     "is_executing": true
    }
   }
  }
 ],
 "metadata": {
  "kernelspec": {
   "display_name": "Python 3",
   "language": "python",
   "name": "python3"
  },
  "language_info": {
   "codemirror_mode": {
    "name": "ipython",
    "version": 2
   },
   "file_extension": ".py",
   "mimetype": "text/x-python",
   "name": "python",
   "nbconvert_exporter": "python",
   "pygments_lexer": "ipython2",
   "version": "2.7.6"
  }
 },
 "nbformat": 4,
 "nbformat_minor": 0
}