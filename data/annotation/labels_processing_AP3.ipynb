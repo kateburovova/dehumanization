{
 "cells": [
  {
   "cell_type": "code",
   "execution_count": 335,
   "outputs": [],
   "source": [
    "import pandas as pd"
   ],
   "metadata": {
    "collapsed": false,
    "pycharm": {
     "name": "#%%\n"
    }
   }
  },
  {
   "cell_type": "markdown",
   "source": [
    "## Exporting the AP3"
   ],
   "metadata": {
    "collapsed": false,
    "pycharm": {
     "name": "#%% md\n"
    }
   }
  },
  {
   "cell_type": "code",
   "execution_count": 2,
   "outputs": [],
   "source": [
    "import json\n",
    "import labelbox\n",
    "import pandas as pd"
   ],
   "metadata": {
    "collapsed": false,
    "pycharm": {
     "name": "#%%\n"
    }
   }
  },
  {
   "cell_type": "code",
   "execution_count": 12,
   "outputs": [],
   "source": [
    "with open('config_annotation.json') as f:\n",
    "    config = json.load(f)\n",
    "API_KEY = config['API_KEY']\n",
    "\n",
    "LB_API_KEY = API_KEY\n",
    "lb = labelbox.Client(api_key=LB_API_KEY)\n",
    "project = lb.get_project('clgq9oadq0226070n491f0cdl')\n",
    "export_url = project.export_labels()"
   ],
   "metadata": {
    "collapsed": false,
    "pycharm": {
     "name": "#%%\n"
    }
   }
  },
  {
   "cell_type": "code",
   "execution_count": 13,
   "outputs": [],
   "source": [
    "import requests\n",
    "\n",
    "response = requests.get(export_url)\n",
    "\n",
    "if response.status_code == 200:\n",
    "    with open('exported_labels_AP3.json', 'wb') as f:\n",
    "        f.write(response.content)\n",
    "else:\n",
    "    print(response.status_code)"
   ],
   "metadata": {
    "collapsed": false,
    "pycharm": {
     "name": "#%%\n"
    }
   }
  },
  {
   "cell_type": "code",
   "execution_count": 17,
   "outputs": [],
   "source": [
    "df_export_all_labels = pd.read_json('/Users/katerynaburovova/PycharmProjects/dehumanization/annotation/exported_labels_AP3.json')"
   ],
   "metadata": {
    "collapsed": false,
    "pycharm": {
     "name": "#%%\n"
    }
   }
  },
  {
   "cell_type": "code",
   "execution_count": null,
   "outputs": [],
   "source": [
    "import pandas as pd\n",
    "\n",
    "def transform_row(row):\n",
    "    data = row\n",
    "    output_data = {}\n",
    "    for cls in data['classifications']:\n",
    "        column = cls['title']\n",
    "        if 'answer' in cls:\n",
    "            output_data.setdefault(column, []).append(cls['answer']['title'])\n",
    "        elif 'answers' in cls:\n",
    "            output_data.setdefault(column, []).extend([a['title'] for a in cls['answers']])\n",
    "    return pd.Series(output_data)\n",
    "\n",
    "df_transformed = df_export_all_labels['Label'].apply(transform_row)\n"
   ],
   "metadata": {
    "collapsed": false,
    "pycharm": {
     "name": "#%%\n",
     "is_executing": true
    }
   }
  },
  {
   "cell_type": "code",
   "execution_count": 34,
   "outputs": [
    {
     "data": {
      "text/plain": "     В цьому тексті принаймні одна дегуманізаційна метафора міститься в назві українців чи України  \\\n0                        [ні, дегуманізація не в назві]                                              \n1                          [так, дегуманізація в назві]                                              \n2                          [так, дегуманізація в назві]                                              \n3                          [так, дегуманізація в назві]                                              \n4                          [так, дегуманізація в назві]                                              \n...                                                 ...                                              \n1739                       [так, дегуманізація в назві]                                              \n1740                       [так, дегуманізація в назві]                                              \n1741                       [так, дегуманізація в назві]                                              \n1742                       [так, дегуманізація в назві]                                              \n1743                       [так, дегуманізація в назві]                                              \n\n     Оберіть всі правильні відповіді: Цей образ становить небезпеку...  \\\n0             [для фізичного виживання росіян чи Росії]                  \n1             [для морального розвитку росіян чи Росії]                  \n2             [для фізичного виживання росіян чи Росії]                  \n3     [для морального розвитку росіян чи Росії, для ...                  \n4     [для морального розвитку росіян чи Росії, для ...                  \n...                                                 ...                  \n1739          [для фізичного виживання росіян чи Росії]                  \n1740          [для фізичного виживання росіян чи Росії]                  \n1741                                                NaN                  \n1742          [для фізичного виживання росіян чи Росії]                  \n1743          [для фізичного виживання росіян чи Росії]                  \n\n                                           Цей образ...  \\\n0     [може діяти, але не здатен планувати і оцінюва...   \n1                    [може планувати і діяти за планом]   \n2     [може діяти, але не здатен планувати і оцінюва...   \n3                    [може планувати і діяти за планом]   \n4                    [може планувати і діяти за планом]   \n...                                                 ...   \n1739                 [може планувати і діяти за планом]   \n1740                 [може планувати і діяти за планом]   \n1741  [може діяти, але не здатен планувати і оцінюва...   \n1742                 [може планувати і діяти за планом]   \n1743                 [може планувати і діяти за планом]   \n\n     Чи може цей образ викликати в людей довіру, приязнь, співчуття або жаль?  \\\n0                                                  [ні]                         \n1                                                  [ні]                         \n2                                                 [так]                         \n3                                                  [ні]                         \n4                                                  [ні]                         \n...                                                 ...                         \n1739                                               [ні]                         \n1740                                               [ні]                         \n1741                                              [так]                         \n1742                                               [ні]                         \n1743                                               [ні]                         \n\n     Чи може цей образ мати емоції?  \\\n0                             [так]   \n1                             [так]   \n2                             [так]   \n3                             [так]   \n4                             [так]   \n...                             ...   \n1739                           [ні]   \n1740                          [так]   \n1741                          [так]   \n1742                           [ні]   \n1743                          [так]   \n\n     Оберіть всі правильні відповіді: цей образ може мати емоції...  \\\n0                                   [властиві тваринам]               \n1          [властиві тваринам, властиві дорослим людям]               \n2                                   [властиві тваринам]               \n3                             [властиві дорослим людям]               \n4          [властиві тваринам, властиві дорослим людям]               \n...                                                 ...               \n1739                                                NaN               \n1740                          [властиві дорослим людям]               \n1741                                [властиві тваринам]               \n1742                                                NaN               \n1743                          [властиві дорослим людям]               \n\n     Оберіть всі правильні відповіді: цей образ може мати емоції, спричинені...  \\\n0                                [зовнішніми чинниками]                           \n1     [зовнішніми чинниками, внутрішніми переживаннями]                           \n2                                [зовнішніми чинниками]                           \n3     [зовнішніми чинниками, внутрішніми переживаннями]                           \n4     [зовнішніми чинниками, внутрішніми переживаннями]                           \n...                                                 ...                           \n1739                                                NaN                           \n1740  [зовнішніми чинниками, внутрішніми переживаннями]                           \n1741                             [зовнішніми чинниками]                           \n1742                                                NaN                           \n1743  [зовнішніми чинниками, внутрішніми переживаннями]                           \n\n     Оберіть всі правильні відповіді: цей образ може мати емоції чи почуття...  \n0     [нетривалі (хвилини, години), тривалі (тижні, ...                         \n1     [нетривалі (хвилини, години), тривалі (тижні, ...                         \n2                         [нетривалі (хвилини, години)]                         \n3     [нетривалі (хвилини, години), тривалі (тижні, ...                         \n4     [нетривалі (хвилини, години), тривалі (тижні, ...                         \n...                                                 ...                         \n1739                                                NaN                         \n1740  [нетривалі (хвилини, години), тривалі (тижні, ...                         \n1741                      [нетривалі (хвилини, години)]                         \n1742                                                NaN                         \n1743  [нетривалі (хвилини, години), тривалі (тижні, ...                         \n\n[1744 rows x 8 columns]",
      "text/html": "<div>\n<style scoped>\n    .dataframe tbody tr th:only-of-type {\n        vertical-align: middle;\n    }\n\n    .dataframe tbody tr th {\n        vertical-align: top;\n    }\n\n    .dataframe thead th {\n        text-align: right;\n    }\n</style>\n<table border=\"1\" class=\"dataframe\">\n  <thead>\n    <tr style=\"text-align: right;\">\n      <th></th>\n      <th>В цьому тексті принаймні одна дегуманізаційна метафора міститься в назві українців чи України</th>\n      <th>Оберіть всі правильні відповіді: Цей образ становить небезпеку...</th>\n      <th>Цей образ...</th>\n      <th>Чи може цей образ викликати в людей довіру, приязнь, співчуття або жаль?</th>\n      <th>Чи може цей образ мати емоції?</th>\n      <th>Оберіть всі правильні відповіді: цей образ може мати емоції...</th>\n      <th>Оберіть всі правильні відповіді: цей образ може мати емоції, спричинені...</th>\n      <th>Оберіть всі правильні відповіді: цей образ може мати емоції чи почуття...</th>\n    </tr>\n  </thead>\n  <tbody>\n    <tr>\n      <th>0</th>\n      <td>[ні, дегуманізація не в назві]</td>\n      <td>[для фізичного виживання росіян чи Росії]</td>\n      <td>[може діяти, але не здатен планувати і оцінюва...</td>\n      <td>[ні]</td>\n      <td>[так]</td>\n      <td>[властиві тваринам]</td>\n      <td>[зовнішніми чинниками]</td>\n      <td>[нетривалі (хвилини, години), тривалі (тижні, ...</td>\n    </tr>\n    <tr>\n      <th>1</th>\n      <td>[так, дегуманізація в назві]</td>\n      <td>[для морального розвитку росіян чи Росії]</td>\n      <td>[може планувати і діяти за планом]</td>\n      <td>[ні]</td>\n      <td>[так]</td>\n      <td>[властиві тваринам, властиві дорослим людям]</td>\n      <td>[зовнішніми чинниками, внутрішніми переживаннями]</td>\n      <td>[нетривалі (хвилини, години), тривалі (тижні, ...</td>\n    </tr>\n    <tr>\n      <th>2</th>\n      <td>[так, дегуманізація в назві]</td>\n      <td>[для фізичного виживання росіян чи Росії]</td>\n      <td>[може діяти, але не здатен планувати і оцінюва...</td>\n      <td>[так]</td>\n      <td>[так]</td>\n      <td>[властиві тваринам]</td>\n      <td>[зовнішніми чинниками]</td>\n      <td>[нетривалі (хвилини, години)]</td>\n    </tr>\n    <tr>\n      <th>3</th>\n      <td>[так, дегуманізація в назві]</td>\n      <td>[для морального розвитку росіян чи Росії, для ...</td>\n      <td>[може планувати і діяти за планом]</td>\n      <td>[ні]</td>\n      <td>[так]</td>\n      <td>[властиві дорослим людям]</td>\n      <td>[зовнішніми чинниками, внутрішніми переживаннями]</td>\n      <td>[нетривалі (хвилини, години), тривалі (тижні, ...</td>\n    </tr>\n    <tr>\n      <th>4</th>\n      <td>[так, дегуманізація в назві]</td>\n      <td>[для морального розвитку росіян чи Росії, для ...</td>\n      <td>[може планувати і діяти за планом]</td>\n      <td>[ні]</td>\n      <td>[так]</td>\n      <td>[властиві тваринам, властиві дорослим людям]</td>\n      <td>[зовнішніми чинниками, внутрішніми переживаннями]</td>\n      <td>[нетривалі (хвилини, години), тривалі (тижні, ...</td>\n    </tr>\n    <tr>\n      <th>...</th>\n      <td>...</td>\n      <td>...</td>\n      <td>...</td>\n      <td>...</td>\n      <td>...</td>\n      <td>...</td>\n      <td>...</td>\n      <td>...</td>\n    </tr>\n    <tr>\n      <th>1739</th>\n      <td>[так, дегуманізація в назві]</td>\n      <td>[для фізичного виживання росіян чи Росії]</td>\n      <td>[може планувати і діяти за планом]</td>\n      <td>[ні]</td>\n      <td>[ні]</td>\n      <td>NaN</td>\n      <td>NaN</td>\n      <td>NaN</td>\n    </tr>\n    <tr>\n      <th>1740</th>\n      <td>[так, дегуманізація в назві]</td>\n      <td>[для фізичного виживання росіян чи Росії]</td>\n      <td>[може планувати і діяти за планом]</td>\n      <td>[ні]</td>\n      <td>[так]</td>\n      <td>[властиві дорослим людям]</td>\n      <td>[зовнішніми чинниками, внутрішніми переживаннями]</td>\n      <td>[нетривалі (хвилини, години), тривалі (тижні, ...</td>\n    </tr>\n    <tr>\n      <th>1741</th>\n      <td>[так, дегуманізація в назві]</td>\n      <td>NaN</td>\n      <td>[може діяти, але не здатен планувати і оцінюва...</td>\n      <td>[так]</td>\n      <td>[так]</td>\n      <td>[властиві тваринам]</td>\n      <td>[зовнішніми чинниками]</td>\n      <td>[нетривалі (хвилини, години)]</td>\n    </tr>\n    <tr>\n      <th>1742</th>\n      <td>[так, дегуманізація в назві]</td>\n      <td>[для фізичного виживання росіян чи Росії]</td>\n      <td>[може планувати і діяти за планом]</td>\n      <td>[ні]</td>\n      <td>[ні]</td>\n      <td>NaN</td>\n      <td>NaN</td>\n      <td>NaN</td>\n    </tr>\n    <tr>\n      <th>1743</th>\n      <td>[так, дегуманізація в назві]</td>\n      <td>[для фізичного виживання росіян чи Росії]</td>\n      <td>[може планувати і діяти за планом]</td>\n      <td>[ні]</td>\n      <td>[так]</td>\n      <td>[властиві дорослим людям]</td>\n      <td>[зовнішніми чинниками, внутрішніми переживаннями]</td>\n      <td>[нетривалі (хвилини, години), тривалі (тижні, ...</td>\n    </tr>\n  </tbody>\n</table>\n<p>1744 rows × 8 columns</p>\n</div>"
     },
     "execution_count": 34,
     "metadata": {},
     "output_type": "execute_result"
    }
   ],
   "source": [
    "df_transformed"
   ],
   "metadata": {
    "collapsed": false,
    "pycharm": {
     "name": "#%%\n"
    }
   }
  },
  {
   "cell_type": "code",
   "execution_count": 37,
   "outputs": [
    {
     "data": {
      "text/plain": "True"
     },
     "execution_count": 37,
     "metadata": {},
     "output_type": "execute_result"
    }
   ],
   "source": [
    "len(df_export_all_labels) == len(df_transformed)"
   ],
   "metadata": {
    "collapsed": false,
    "pycharm": {
     "name": "#%%\n"
    }
   }
  },
  {
   "cell_type": "code",
   "execution_count": 38,
   "outputs": [],
   "source": [
    "df_final = pd.concat([df_export_all_labels, df_transformed], axis=1)"
   ],
   "metadata": {
    "collapsed": false,
    "pycharm": {
     "name": "#%%\n"
    }
   }
  },
  {
   "cell_type": "code",
   "execution_count": 48,
   "outputs": [],
   "source": [
    "df_final = df_final.drop_duplicates(subset=['DataRow ID', 'Created By'], keep='first')"
   ],
   "metadata": {
    "collapsed": false,
    "pycharm": {
     "name": "#%%\n"
    }
   }
  },
  {
   "cell_type": "code",
   "execution_count": 50,
   "outputs": [
    {
     "data": {
      "text/plain": "Index(['В цьому тексті принаймні одна дегуманізаційна метафора міститься в назві українців чи України',\n       'Оберіть всі правильні відповіді: Цей образ становить небезпеку...',\n       'Цей образ...',\n       'Чи може цей образ викликати в людей довіру, приязнь, співчуття або жаль?',\n       'Чи може цей образ мати емоції?',\n       'Оберіть всі правильні відповіді: цей образ може мати емоції...',\n       'Оберіть всі правильні відповіді: цей образ може мати емоції, спричинені...',\n       'Оберіть всі правильні відповіді: цей образ може мати емоції чи почуття...'],\n      dtype='object')"
     },
     "execution_count": 50,
     "metadata": {},
     "output_type": "execute_result"
    }
   ],
   "source": [
    "questions = df_final.columns[-8:]\n",
    "questions"
   ],
   "metadata": {
    "collapsed": false,
    "pycharm": {
     "name": "#%%\n"
    }
   }
  },
  {
   "cell_type": "code",
   "execution_count": 52,
   "outputs": [
    {
     "data": {
      "text/plain": "oleksa.marynych@gmail.com    1550\nmargo.arkhypova@gmail.com      49\nkate.burovova@gmail.com         1\nName: Created By, dtype: int64"
     },
     "execution_count": 52,
     "metadata": {},
     "output_type": "execute_result"
    }
   ],
   "source": [
    "df_final['Created By'].value_counts()"
   ],
   "metadata": {
    "collapsed": false,
    "pycharm": {
     "name": "#%%\n"
    }
   }
  },
  {
   "cell_type": "code",
   "execution_count": 195,
   "outputs": [],
   "source": [
    "def cohen_kappa_lists(ann1, ann2):\n",
    "    \"\"\"Computes Cohen kappa for pair-wise annotators for list-type annotations.\n",
    "    :param ann1: annotations provided by first annotator\n",
    "    :type ann1: list of lists\n",
    "    :param ann2: annotations provided by second annotator\n",
    "    :type ann2: list of lists\n",
    "    :rtype: float\n",
    "    :return: Cohen kappa statistic\n",
    "    \"\"\"\n",
    "    # Flatten the list of lists and compute the set of unique elements\n",
    "    ann1_flat = [item for sublist in ann1 for item in sublist]\n",
    "    ann2_flat = [item for sublist in ann2 for item in sublist]\n",
    "    uniq = set(ann1_flat + ann2_flat)\n",
    "\n",
    "    kappa_scores = []\n",
    "\n",
    "    for item in uniq:\n",
    "        count = 0\n",
    "        for an1, an2 in zip(ann1, ann2):\n",
    "            if item in an1 and item in an2:\n",
    "                count += 1\n",
    "        A = count / len(ann1)\n",
    "\n",
    "        cnt1 = ann1_flat.count(item)\n",
    "        cnt2 = ann2_flat.count(item)\n",
    "        count = ((cnt1 / len(ann1)) * (cnt2 / len(ann2)))\n",
    "        E = count\n",
    "        if A == 0 and E == 1:\n",
    "            kappa = 0\n",
    "        elif A == 1 and E == 1:\n",
    "            kappa = 1\n",
    "        else:\n",
    "            kappa = (A - E) / (1 - E) if 1 - E else 0\n",
    "        kappa_scores.append(kappa)\n",
    "        kappa_scores.append(kappa)\n",
    "\n",
    "    return round(sum(kappa_scores) / len(kappa_scores), 4)"
   ],
   "metadata": {
    "collapsed": false,
    "pycharm": {
     "name": "#%%\n"
    }
   }
  },
  {
   "cell_type": "code",
   "execution_count": 196,
   "outputs": [],
   "source": [
    "from sklearn.metrics import cohen_kappa_score\n",
    "\n",
    "def calculate_cohens_kappa_lists(df, col_name):\n",
    "    df_column = df[['External ID', 'Created By', col_name]]\n",
    "\n",
    "    overlapping_samples = df_column.groupby('External ID').filter(lambda x: len(x) > 1)\n",
    "    unique_sample_ids = overlapping_samples['External ID'].unique()\n",
    "    rater_pairs = []\n",
    "    for sample_id in unique_sample_ids:\n",
    "        raters = overlapping_samples[overlapping_samples['External ID'] == sample_id]['Created By'].tolist()\n",
    "        rater_pairs.append(raters)\n",
    "\n",
    "    kappa_scores = []\n",
    "    for sample_id, rater_pair in zip(unique_sample_ids, rater_pairs):\n",
    "        sample_data = overlapping_samples[overlapping_samples['External ID'] == sample_id]\n",
    "        rater1_labels = sample_data[sample_data['Created By'] == rater_pair[0]][col_name].tolist()\n",
    "        rater2_labels = sample_data[sample_data['Created By'] == rater_pair[1]][col_name].tolist()\n",
    "        kappa = cohen_kappa_lists(rater1_labels, rater2_labels)\n",
    "        kappa_scores.append(kappa)\n",
    "    mean_kappa_score = sum(kappa_scores) / len(kappa_scores)\n",
    "\n",
    "    return mean_kappa_score"
   ],
   "metadata": {
    "collapsed": false,
    "pycharm": {
     "name": "#%%\n"
    }
   }
  },
  {
   "cell_type": "code",
   "execution_count": 197,
   "outputs": [],
   "source": [
    "# dealing with NA values (will be counted towards agreement)\n",
    "for question in questions:\n",
    "    df_final[question].loc[df_final[question].isnull()] = df_final[question].loc[df_final[question].isnull()].apply(lambda x: ['no value provided'])"
   ],
   "metadata": {
    "collapsed": false,
    "pycharm": {
     "name": "#%%\n"
    }
   }
  },
  {
   "cell_type": "code",
   "execution_count": 208,
   "outputs": [
    {
     "name": "stdout",
     "output_type": "stream",
     "text": [
      "For question \n",
      " В цьому тексті принаймні одна дегуманізаційна метафора міститься в назві українців чи України \n",
      " the agreement is 0.8484848484848485 \n",
      "\n",
      "\n",
      "For question \n",
      " Оберіть всі правильні відповіді: Цей образ становить небезпеку... \n",
      " the agreement is 0.5757575757575758 \n",
      "\n",
      "\n",
      "For question \n",
      " Цей образ... \n",
      " the agreement is 0.7575757575757576 \n",
      "\n",
      "\n",
      "For question \n",
      " Чи може цей образ викликати в людей довіру, приязнь, співчуття або жаль? \n",
      " the agreement is 0.7878787878787878 \n",
      "\n",
      "\n",
      "For question \n",
      " Чи може цей образ мати емоції? \n",
      " the agreement is 0.6060606060606061 \n",
      "\n",
      "\n",
      "For question \n",
      " Оберіть всі правильні відповіді: цей образ може мати емоції... \n",
      " the agreement is 0.4696969696969697 \n",
      "\n",
      "\n",
      "For question \n",
      " Оберіть всі правильні відповіді: цей образ може мати емоції, спричинені... \n",
      " the agreement is 0.6666666666666666 \n",
      "\n",
      "\n",
      "For question \n",
      " Оберіть всі правильні відповіді: цей образ може мати емоції чи почуття... \n",
      " the agreement is 0.6060606060606061 \n",
      "\n",
      "\n"
     ]
    }
   ],
   "source": [
    "kappas = []\n",
    "for question in questions:\n",
    "    kappa_ = calculate_cohens_kappa_lists(df_final, question)\n",
    "    kappas.append(kappa_)\n",
    "    print(f'For question \\n {question} \\n the agreement is {kappa_} \\n\\n')"
   ],
   "metadata": {
    "collapsed": false,
    "pycharm": {
     "name": "#%%\n"
    }
   }
  },
  {
   "cell_type": "code",
   "execution_count": 209,
   "outputs": [
    {
     "name": "stdout",
     "output_type": "stream",
     "text": [
      "[0.5757575757575758, 0.7575757575757576, 0.7878787878787878, 0.6060606060606061, 0.4696969696969697, 0.6666666666666666, 0.6060606060606061]\n",
      "0.6385281385281385\n"
     ]
    }
   ],
   "source": [
    "import statistics\n",
    "\n",
    "meaningfull_questions = questions[1:8]\n",
    "kappas = [calculate_cohens_kappa_lists(df_final, question) for question in meaningfull_questions]\n",
    "print(kappas)\n",
    "print(statistics.mean(kappas))"
   ],
   "metadata": {
    "collapsed": false,
    "pycharm": {
     "name": "#%%\n"
    }
   }
  }
 ],
 "metadata": {
  "kernelspec": {
   "display_name": "Python 3",
   "language": "python",
   "name": "python3"
  },
  "language_info": {
   "codemirror_mode": {
    "name": "ipython",
    "version": 2
   },
   "file_extension": ".py",
   "mimetype": "text/x-python",
   "name": "python",
   "nbconvert_exporter": "python",
   "pygments_lexer": "ipython2",
   "version": "2.7.6"
  }
 },
 "nbformat": 4,
 "nbformat_minor": 0
}