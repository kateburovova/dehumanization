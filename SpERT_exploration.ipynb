{
 "cells": [
  {
   "cell_type": "code",
   "execution_count": null,
   "metadata": {
    "collapsed": true,
    "pycharm": {
     "name": "#%%\n"
    }
   },
   "outputs": [],
   "source": [
    "#python ./spert.py train --config configs/train_reduced.conf"
   ]
  },
  {
   "cell_type": "code",
   "execution_count": 16,
   "outputs": [],
   "source": [
    "import transformers\n",
    "import torch\n",
    "import pandas as pd"
   ],
   "metadata": {
    "collapsed": false,
    "pycharm": {
     "name": "#%%\n"
    }
   }
  },
  {
   "cell_type": "markdown",
   "source": [
    "### Getting the texts that are not in labeled data, separating into 2 parts"
   ],
   "metadata": {
    "collapsed": false,
    "pycharm": {
     "name": "#%% md\n"
    }
   }
  },
  {
   "cell_type": "code",
   "execution_count": 17,
   "outputs": [],
   "source": [
    "df_labels = pd.read_csv('/Users/katerynaburovova/PycharmProjects/dehumanization/annotation/final_labels.csv', index_col=[0])"
   ],
   "metadata": {
    "collapsed": false,
    "pycharm": {
     "name": "#%%\n"
    }
   }
  },
  {
   "cell_type": "code",
   "execution_count": 18,
   "outputs": [],
   "source": [
    "df_labels = df_labels[df_labels['Dehumanization']!='не можу визначитись з правильною відповіддю'].copy()"
   ],
   "metadata": {
    "collapsed": false,
    "pycharm": {
     "name": "#%%\n"
    }
   }
  },
  {
   "cell_type": "code",
   "execution_count": 19,
   "outputs": [],
   "source": [
    "df_labels['label'] = df_labels['Dehumanization'].apply(lambda x: 0 if x=='ні' else 1)"
   ],
   "metadata": {
    "collapsed": false,
    "pycharm": {
     "name": "#%%\n"
    }
   }
  },
  {
   "cell_type": "code",
   "execution_count": 20,
   "outputs": [
    {
     "data": {
      "text/plain": "                      Emotion Dehumanization Mention   External ID  \\\n1219  так, присутня негативна            так     так     row_0.txt   \n1218   ні, оцінка не присутня             ні      ні     row_1.txt   \n1591  так, присутня негативна            так     так    row_10.txt   \n1198  так, присутня негативна            так     так   row_100.txt   \n3247   ні, оцінка не присутня             ні     так  row_1000.txt   \n...                       ...            ...     ...           ...   \n3613   ні, оцінка не присутня             ні     так   row_995.txt   \n3612  так, присутня негативна             ні     так   row_996.txt   \n4121  так, присутня негативна             ні     так   row_997.txt   \n4120   ні, оцінка не присутня            так     так   row_998.txt   \n3248   ні, оцінка не присутня             ні      ні   row_999.txt   \n\n                        Created By  \\\n1219      snizannabotvin@gmail.com   \n1218      snizannabotvin@gmail.com   \n1591      snizannabotvin@gmail.com   \n1198      snizannabotvin@gmail.com   \n3247        tutovadesign@gmail.com   \n...                            ...   \n3613        tutovadesign@gmail.com   \n3612        tutovadesign@gmail.com   \n4121  yevhen.marchenko91@gmail.com   \n4120  yevhen.marchenko91@gmail.com   \n3248        tutovadesign@gmail.com   \n\n                                                   text  rating  label  \n1219  Всвязи с этим немного поправлю коллег ⤵️  \"Они...       4      1  \n1218  Литературный критик Галина Юзефович о новом ро...       4      0  \n1591  Почему на базах неонацистов стоят языческие ис...       4      1  \n1198  Группа добровольцев-медиков из Чеченской Респу...       4      1  \n3247  ВСУшники, переходите на сторону добра, у нас т...       5      0  \n...                                                 ...     ...    ...  \n3613  Утренний брифинг Минобороны России:  ▪️ россий...       5      0  \n3612  И понеслась мазепинщино-петлюровщино-бандеровщ...       5      0  \n4121  Наш соратник по русскому движению Алексей Сели...       3      0  \n4120  Хорошее видео от 4 бригады НМ ЛНР https://t.me...       3      1  \n3248  Замоскворецкий районный суд Москвы отклонил ис...       5      0  \n\n[3494 rows x 8 columns]",
      "text/html": "<div>\n<style scoped>\n    .dataframe tbody tr th:only-of-type {\n        vertical-align: middle;\n    }\n\n    .dataframe tbody tr th {\n        vertical-align: top;\n    }\n\n    .dataframe thead th {\n        text-align: right;\n    }\n</style>\n<table border=\"1\" class=\"dataframe\">\n  <thead>\n    <tr style=\"text-align: right;\">\n      <th></th>\n      <th>Emotion</th>\n      <th>Dehumanization</th>\n      <th>Mention</th>\n      <th>External ID</th>\n      <th>Created By</th>\n      <th>text</th>\n      <th>rating</th>\n      <th>label</th>\n    </tr>\n  </thead>\n  <tbody>\n    <tr>\n      <th>1219</th>\n      <td>так, присутня негативна</td>\n      <td>так</td>\n      <td>так</td>\n      <td>row_0.txt</td>\n      <td>snizannabotvin@gmail.com</td>\n      <td>Всвязи с этим немного поправлю коллег ⤵️  \"Они...</td>\n      <td>4</td>\n      <td>1</td>\n    </tr>\n    <tr>\n      <th>1218</th>\n      <td>ні, оцінка не присутня</td>\n      <td>ні</td>\n      <td>ні</td>\n      <td>row_1.txt</td>\n      <td>snizannabotvin@gmail.com</td>\n      <td>Литературный критик Галина Юзефович о новом ро...</td>\n      <td>4</td>\n      <td>0</td>\n    </tr>\n    <tr>\n      <th>1591</th>\n      <td>так, присутня негативна</td>\n      <td>так</td>\n      <td>так</td>\n      <td>row_10.txt</td>\n      <td>snizannabotvin@gmail.com</td>\n      <td>Почему на базах неонацистов стоят языческие ис...</td>\n      <td>4</td>\n      <td>1</td>\n    </tr>\n    <tr>\n      <th>1198</th>\n      <td>так, присутня негативна</td>\n      <td>так</td>\n      <td>так</td>\n      <td>row_100.txt</td>\n      <td>snizannabotvin@gmail.com</td>\n      <td>Группа добровольцев-медиков из Чеченской Респу...</td>\n      <td>4</td>\n      <td>1</td>\n    </tr>\n    <tr>\n      <th>3247</th>\n      <td>ні, оцінка не присутня</td>\n      <td>ні</td>\n      <td>так</td>\n      <td>row_1000.txt</td>\n      <td>tutovadesign@gmail.com</td>\n      <td>ВСУшники, переходите на сторону добра, у нас т...</td>\n      <td>5</td>\n      <td>0</td>\n    </tr>\n    <tr>\n      <th>...</th>\n      <td>...</td>\n      <td>...</td>\n      <td>...</td>\n      <td>...</td>\n      <td>...</td>\n      <td>...</td>\n      <td>...</td>\n      <td>...</td>\n    </tr>\n    <tr>\n      <th>3613</th>\n      <td>ні, оцінка не присутня</td>\n      <td>ні</td>\n      <td>так</td>\n      <td>row_995.txt</td>\n      <td>tutovadesign@gmail.com</td>\n      <td>Утренний брифинг Минобороны России:  ▪️ россий...</td>\n      <td>5</td>\n      <td>0</td>\n    </tr>\n    <tr>\n      <th>3612</th>\n      <td>так, присутня негативна</td>\n      <td>ні</td>\n      <td>так</td>\n      <td>row_996.txt</td>\n      <td>tutovadesign@gmail.com</td>\n      <td>И понеслась мазепинщино-петлюровщино-бандеровщ...</td>\n      <td>5</td>\n      <td>0</td>\n    </tr>\n    <tr>\n      <th>4121</th>\n      <td>так, присутня негативна</td>\n      <td>ні</td>\n      <td>так</td>\n      <td>row_997.txt</td>\n      <td>yevhen.marchenko91@gmail.com</td>\n      <td>Наш соратник по русскому движению Алексей Сели...</td>\n      <td>3</td>\n      <td>0</td>\n    </tr>\n    <tr>\n      <th>4120</th>\n      <td>ні, оцінка не присутня</td>\n      <td>так</td>\n      <td>так</td>\n      <td>row_998.txt</td>\n      <td>yevhen.marchenko91@gmail.com</td>\n      <td>Хорошее видео от 4 бригады НМ ЛНР https://t.me...</td>\n      <td>3</td>\n      <td>1</td>\n    </tr>\n    <tr>\n      <th>3248</th>\n      <td>ні, оцінка не присутня</td>\n      <td>ні</td>\n      <td>ні</td>\n      <td>row_999.txt</td>\n      <td>tutovadesign@gmail.com</td>\n      <td>Замоскворецкий районный суд Москвы отклонил ис...</td>\n      <td>5</td>\n      <td>0</td>\n    </tr>\n  </tbody>\n</table>\n<p>3494 rows × 8 columns</p>\n</div>"
     },
     "execution_count": 20,
     "metadata": {},
     "output_type": "execute_result"
    }
   ],
   "source": [
    "df_labels"
   ],
   "metadata": {
    "collapsed": false,
    "pycharm": {
     "name": "#%%\n"
    }
   }
  },
  {
   "cell_type": "code",
   "execution_count": 21,
   "outputs": [],
   "source": [
    "dehumanizing_target_sequences = ['рейх', 'нацист', 'питек', 'бандерло', 'свино', 'вермахт', 'питек']"
   ],
   "metadata": {
    "collapsed": false,
    "pycharm": {
     "name": "#%%\n"
    }
   }
  },
  {
   "cell_type": "code",
   "execution_count": 22,
   "outputs": [],
   "source": [
    "import re\n",
    "\n",
    "def contains_target_sequence(text, target_sequences):\n",
    "    for seq in target_sequences:\n",
    "        if re.search(seq, text, re.IGNORECASE):\n",
    "            return True\n",
    "    return False"
   ],
   "metadata": {
    "collapsed": false,
    "pycharm": {
     "name": "#%%\n"
    }
   }
  },
  {
   "cell_type": "code",
   "execution_count": 23,
   "outputs": [],
   "source": [
    "def split_test_data_by_target_sequences(X, y, text_columns, target_sequences):\n",
    "    contains_seq = X.apply(lambda row: any(contains_target_sequence(row[col], target_sequences) for col in text_columns), axis=1)\n",
    "    X_pos, y_pos = X[contains_seq], y[contains_seq]\n",
    "    X_neg, y_neg = X[~contains_seq], y[~contains_seq]\n",
    "\n",
    "    return X_pos, y_pos, X_neg, y_neg"
   ],
   "metadata": {
    "collapsed": false,
    "pycharm": {
     "name": "#%%\n"
    }
   }
  },
  {
   "cell_type": "code",
   "execution_count": 24,
   "outputs": [],
   "source": [
    "# excluding the rows that were labeled for SpERT training"
   ],
   "metadata": {
    "collapsed": false,
    "pycharm": {
     "name": "#%%\n"
    }
   }
  },
  {
   "cell_type": "code",
   "execution_count": 25,
   "outputs": [],
   "source": [
    "df_labels_CoNLL04 = pd.read_json('/Users/katerynaburovova/PycharmProjects/dehumanization/annotation/CoNLL04_annotation/SpERT_dataset/export_400samples.json')"
   ],
   "metadata": {
    "collapsed": false,
    "pycharm": {
     "name": "#%%\n"
    }
   }
  },
  {
   "cell_type": "code",
   "execution_count": 26,
   "outputs": [],
   "source": [
    "exclusion_list = df_labels_CoNLL04['External ID'].to_list()"
   ],
   "metadata": {
    "collapsed": false,
    "pycharm": {
     "name": "#%%\n"
    }
   }
  },
  {
   "cell_type": "code",
   "execution_count": 28,
   "outputs": [
    {
     "data": {
      "text/plain": "['row_1566.txt',\n 'row_1565.txt',\n 'row_1564.txt',\n 'row_1563.txt',\n 'row_1562.txt',\n 'row_1561.txt',\n 'row_1560.txt',\n 'row_1559.txt',\n 'row_1558.txt',\n 'row_1557.txt',\n 'row_1556.txt',\n 'row_1555.txt',\n 'row_1554.txt',\n 'row_1553.txt',\n 'row_1552.txt',\n 'row_1551.txt',\n 'row_1550.txt',\n 'row_1549.txt',\n 'row_1548.txt',\n 'row_1547.txt']"
     },
     "execution_count": 28,
     "metadata": {},
     "output_type": "execute_result"
    }
   ],
   "source": [
    "exclusion_list[:20]"
   ],
   "metadata": {
    "collapsed": false,
    "pycharm": {
     "name": "#%%\n"
    }
   }
  },
  {
   "cell_type": "code",
   "execution_count": 29,
   "outputs": [],
   "source": [
    "df_clean_labels = df_labels[~df_labels['External ID'].isin(exclusion_list)].copy()"
   ],
   "metadata": {
    "collapsed": false,
    "pycharm": {
     "name": "#%%\n"
    }
   }
  },
  {
   "cell_type": "code",
   "execution_count": 30,
   "outputs": [],
   "source": [
    "X_test_pos, y_test_pos, X_test_neg, y_test_neg = split_test_data_by_target_sequences(df_clean_labels[['text']], df_clean_labels['label'], ['text'], dehumanizing_target_sequences)"
   ],
   "metadata": {
    "collapsed": false,
    "pycharm": {
     "name": "#%%\n"
    }
   }
  },
  {
   "cell_type": "code",
   "execution_count": 31,
   "outputs": [],
   "source": [
    "import spacy\n",
    "\n",
    "nlp = spacy.load(\"ru_core_news_sm\")"
   ],
   "metadata": {
    "collapsed": false,
    "pycharm": {
     "name": "#%%\n"
    }
   }
  },
  {
   "cell_type": "code",
   "execution_count": 32,
   "outputs": [],
   "source": [
    "def tokenize_text(text):\n",
    "    return [token.text for token in nlp(text)]"
   ],
   "metadata": {
    "collapsed": false,
    "pycharm": {
     "name": "#%%\n"
    }
   }
  },
  {
   "cell_type": "code",
   "execution_count": 33,
   "outputs": [],
   "source": [
    "def get_SpERT_formatted_input(X):\n",
    "    formatted_texts = []\n",
    "\n",
    "    for text in X.text:\n",
    "        tokens = tokenize_text(text)\n",
    "        formatted_text = {\"tokens\": tokens}\n",
    "        formatted_texts.append([formatted_text, tokens, text])\n",
    "\n",
    "    return formatted_texts"
   ],
   "metadata": {
    "collapsed": false,
    "pycharm": {
     "name": "#%%\n"
    }
   }
  },
  {
   "cell_type": "code",
   "execution_count": 34,
   "outputs": [
    {
     "name": "stdout",
     "output_type": "stream",
     "text": [
      "CPU times: user 8.75 s, sys: 91.7 ms, total: 8.85 s\n",
      "Wall time: 8.93 s\n"
     ]
    }
   ],
   "source": [
    "%%time\n",
    "X_test_pos_formatted = get_SpERT_formatted_input(X_test_pos)"
   ],
   "metadata": {
    "collapsed": false,
    "pycharm": {
     "name": "#%%\n"
    }
   }
  },
  {
   "cell_type": "code",
   "execution_count": 35,
   "outputs": [
    {
     "name": "stdout",
     "output_type": "stream",
     "text": [
      "CPU times: user 16.3 s, sys: 264 ms, total: 16.6 s\n",
      "Wall time: 17.1 s\n"
     ]
    }
   ],
   "source": [
    "%%time\n",
    "X_test_neg_formatted = get_SpERT_formatted_input(X_test_neg)"
   ],
   "metadata": {
    "collapsed": false,
    "pycharm": {
     "name": "#%%\n"
    }
   }
  },
  {
   "cell_type": "code",
   "execution_count": 36,
   "outputs": [],
   "source": [
    "X_test_neg_list_of_dicts = []\n",
    "for doc in X_test_neg_formatted:\n",
    "    X_test_neg_list_of_dicts.append(doc[0])"
   ],
   "metadata": {
    "collapsed": false,
    "pycharm": {
     "name": "#%%\n"
    }
   }
  },
  {
   "cell_type": "code",
   "execution_count": 37,
   "outputs": [],
   "source": [
    "X_test_pos_list_of_dicts = []\n",
    "for doc in X_test_pos_formatted:\n",
    "    X_test_pos_list_of_dicts.append(doc[0])"
   ],
   "metadata": {
    "collapsed": false,
    "pycharm": {
     "name": "#%%\n"
    }
   }
  },
  {
   "cell_type": "code",
   "execution_count": 38,
   "outputs": [],
   "source": [
    "import json\n",
    "\n",
    "file_path_neg_one_sample = '/Users/katerynaburovova/PycharmProjects/dehumanization/spert/data/datasets/test_datasets/test_neg.json'\n",
    "\n",
    "with open(file_path_neg_one_sample, 'w', encoding='utf-8') as f:\n",
    "    json.dump(X_test_neg_list_of_dicts, f, ensure_ascii=False, indent=4)"
   ],
   "metadata": {
    "collapsed": false,
    "pycharm": {
     "name": "#%%\n"
    }
   }
  },
  {
   "cell_type": "code",
   "execution_count": 39,
   "outputs": [],
   "source": [
    "file_path_pos_one_sample = '/Users/katerynaburovova/PycharmProjects/dehumanization/spert/data/datasets/test_datasets/test_pos.json'\n",
    "\n",
    "with open(file_path_pos_one_sample, 'w', encoding='utf-8') as f:\n",
    "    json.dump(X_test_pos_list_of_dicts, f, ensure_ascii=False, indent=4)"
   ],
   "metadata": {
    "collapsed": false,
    "pycharm": {
     "name": "#%%\n"
    }
   }
  },
  {
   "cell_type": "code",
   "execution_count": 40,
   "outputs": [],
   "source": [
    "file_n_path = '/Users/katerynaburovova/PycharmProjects/dehumanization/spert/data/predictions_neg.json'\n",
    "\n",
    "with open(file_n_path, 'r') as file:\n",
    "    data_neg = json.load(file)"
   ],
   "metadata": {
    "collapsed": false,
    "pycharm": {
     "name": "#%%\n"
    }
   }
  },
  {
   "cell_type": "code",
   "execution_count": 41,
   "outputs": [
    {
     "data": {
      "text/plain": "0"
     },
     "execution_count": 41,
     "metadata": {},
     "output_type": "execute_result"
    }
   ],
   "source": [
    "len(data_neg[0]['entities'])"
   ],
   "metadata": {
    "collapsed": false,
    "pycharm": {
     "name": "#%%\n"
    }
   }
  },
  {
   "cell_type": "code",
   "execution_count": 42,
   "outputs": [],
   "source": [
    "file_p_path = '/Users/katerynaburovova/PycharmProjects/dehumanization/spert/data/predictions_pos.json'\n",
    "\n",
    "with open(file_p_path, 'r') as file:\n",
    "    data_pos = json.load(file)"
   ],
   "metadata": {
    "collapsed": false,
    "pycharm": {
     "name": "#%%\n"
    }
   }
  },
  {
   "cell_type": "code",
   "execution_count": 43,
   "outputs": [],
   "source": [
    "for sentence in data_neg:\n",
    "    if len(sentence['entities'])==0:\n",
    "        sentence['pred'] = 0\n",
    "    else:\n",
    "        sentence['pred'] = 1"
   ],
   "metadata": {
    "collapsed": false,
    "pycharm": {
     "name": "#%%\n"
    }
   }
  },
  {
   "cell_type": "code",
   "execution_count": 44,
   "outputs": [],
   "source": [
    "for sentence in data_pos:\n",
    "    if len(sentence['entities'])==0:\n",
    "        sentence['pred'] = 0\n",
    "    else:\n",
    "        sentence['pred'] = 1"
   ],
   "metadata": {
    "collapsed": false,
    "pycharm": {
     "name": "#%%\n"
    }
   }
  },
  {
   "cell_type": "code",
   "execution_count": 45,
   "outputs": [],
   "source": [
    "X_test_pos.reset_index(inplace = True, drop=True)"
   ],
   "metadata": {
    "collapsed": false,
    "pycharm": {
     "name": "#%%\n"
    }
   }
  },
  {
   "cell_type": "code",
   "execution_count": 46,
   "outputs": [
    {
     "data": {
      "text/plain": "text    Мобики 2-го батальона 56-й бригады ВСУ жалуютс...\nName: 13, dtype: object"
     },
     "execution_count": 46,
     "metadata": {},
     "output_type": "execute_result"
    }
   ],
   "source": [
    "X_test_pos.iloc[13]"
   ],
   "metadata": {
    "collapsed": false,
    "pycharm": {
     "name": "#%%\n"
    }
   }
  },
  {
   "cell_type": "code",
   "execution_count": 47,
   "outputs": [
    {
     "data": {
      "text/plain": "{'tokens': ['Мобики',\n  '2-го',\n  'батальона',\n  '56-й',\n  'бригады',\n  'ВСУ',\n  'жалуются',\n  ',',\n  'что',\n  'их',\n  'без',\n  'подготовки',\n  'и',\n  'соответствующей',\n  'экипировки',\n  'кинули',\n  'на',\n  'Пески',\n  ',',\n  'где',\n  'у',\n  'хохловермахта',\n  'посыпался',\n  'фронт'],\n 'entities': [{'type': 'HIGH_UH_LOW_NH', 'start': 21, 'end': 22}],\n 'relations': [],\n 'pred': 1}"
     },
     "execution_count": 47,
     "metadata": {},
     "output_type": "execute_result"
    }
   ],
   "source": [
    "data_pos[13]"
   ],
   "metadata": {
    "collapsed": false,
    "pycharm": {
     "name": "#%%\n"
    }
   }
  },
  {
   "cell_type": "code",
   "execution_count": 48,
   "outputs": [],
   "source": [
    "pos_predictions = [sentence['pred'] for sentence in data_pos]"
   ],
   "metadata": {
    "collapsed": false,
    "pycharm": {
     "name": "#%%\n"
    }
   }
  },
  {
   "cell_type": "code",
   "execution_count": 49,
   "outputs": [],
   "source": [
    "neg_predictions = [sentence['pred'] for sentence in data_neg]"
   ],
   "metadata": {
    "collapsed": false,
    "pycharm": {
     "name": "#%%\n"
    }
   }
  },
  {
   "cell_type": "code",
   "execution_count": 50,
   "outputs": [],
   "source": [
    "from sklearn.metrics import classification_report"
   ],
   "metadata": {
    "collapsed": false,
    "pycharm": {
     "name": "#%%\n"
    }
   }
  },
  {
   "cell_type": "code",
   "execution_count": 51,
   "outputs": [
    {
     "name": "stdout",
     "output_type": "stream",
     "text": [
      "              precision    recall  f1-score   support\n",
      "\n",
      "     class_0       0.29      0.48      0.36        60\n",
      "     class_1       0.97      0.93      0.95       967\n",
      "\n",
      "    accuracy                           0.90      1027\n",
      "   macro avg       0.63      0.70      0.65      1027\n",
      "weighted avg       0.93      0.90      0.91      1027\n",
      "\n"
     ]
    }
   ],
   "source": [
    "report = classification_report(y_test_pos, pos_predictions, target_names=['class_0', 'class_1'])\n",
    "print(report)"
   ],
   "metadata": {
    "collapsed": false,
    "pycharm": {
     "name": "#%%\n"
    }
   }
  },
  {
   "cell_type": "code",
   "execution_count": 54,
   "outputs": [
    {
     "data": {
      "text/plain": "0.9006815968841285"
     },
     "execution_count": 54,
     "metadata": {},
     "output_type": "execute_result"
    }
   ],
   "source": [
    "from sklearn.metrics import precision_score\n",
    "\n",
    "micro_precision = precision_score(y_test_pos, pos_predictions, average='micro')\n",
    "micro_precision"
   ],
   "metadata": {
    "collapsed": false,
    "pycharm": {
     "name": "#%%\n"
    }
   }
  },
  {
   "cell_type": "code",
   "execution_count": 52,
   "outputs": [
    {
     "name": "stdout",
     "output_type": "stream",
     "text": [
      "              precision    recall  f1-score   support\n",
      "\n",
      "     class_0       0.87      0.94      0.90      1621\n",
      "     class_1       0.59      0.39      0.47       386\n",
      "\n",
      "    accuracy                           0.83      2007\n",
      "   macro avg       0.73      0.66      0.68      2007\n",
      "weighted avg       0.81      0.83      0.82      2007\n",
      "\n"
     ]
    }
   ],
   "source": [
    "report = classification_report(y_test_neg, neg_predictions, target_names=['class_0', 'class_1'])\n",
    "print(report)"
   ],
   "metadata": {
    "collapsed": false,
    "pycharm": {
     "name": "#%%\n"
    }
   }
  },
  {
   "cell_type": "code",
   "execution_count": 55,
   "outputs": [
    {
     "data": {
      "text/plain": "0.8310911808669657"
     },
     "execution_count": 55,
     "metadata": {},
     "output_type": "execute_result"
    }
   ],
   "source": [
    "from sklearn.metrics import precision_score\n",
    "\n",
    "micro_precision = precision_score(y_test_neg, neg_predictions, average='micro')\n",
    "micro_precision"
   ],
   "metadata": {
    "collapsed": false,
    "pycharm": {
     "name": "#%%\n"
    }
   }
  },
  {
   "cell_type": "markdown",
   "source": [
    "Reading the log files"
   ],
   "metadata": {
    "collapsed": false,
    "pycharm": {
     "name": "#%% md\n"
    }
   }
  },
  {
   "cell_type": "code",
   "execution_count": 4,
   "outputs": [
    {
     "data": {
      "text/plain": "   ner_prec_micro  ner_rec_micro  ner_f1_micro  ner_prec_macro  ner_rec_macro  \\\n0       71.698113       57.86802     64.044944       75.513001      58.619075   \n\n   ner_f1_macro  rel_prec_micro  rel_rec_micro  rel_f1_micro  rel_prec_macro  \\\n0      64.89844             0.0            0.0           0.0             NaN   \n\n   ...  rel_f1_macro  rel_nec_prec_micro  rel_nec_rec_micro  rel_nec_f1_micro  \\\n0  ...           NaN                 0.0                0.0               0.0   \n\n   rel_nec_prec_macro  rel_nec_rec_macro  rel_nec_f1_macro  epoch  iteration  \\\n0                 NaN                NaN               NaN     10          0   \n\n   global_iteration  \n0               590  \n\n[1 rows x 21 columns]",
      "text/html": "<div>\n<style scoped>\n    .dataframe tbody tr th:only-of-type {\n        vertical-align: middle;\n    }\n\n    .dataframe tbody tr th {\n        vertical-align: top;\n    }\n\n    .dataframe thead th {\n        text-align: right;\n    }\n</style>\n<table border=\"1\" class=\"dataframe\">\n  <thead>\n    <tr style=\"text-align: right;\">\n      <th></th>\n      <th>ner_prec_micro</th>\n      <th>ner_rec_micro</th>\n      <th>ner_f1_micro</th>\n      <th>ner_prec_macro</th>\n      <th>ner_rec_macro</th>\n      <th>ner_f1_macro</th>\n      <th>rel_prec_micro</th>\n      <th>rel_rec_micro</th>\n      <th>rel_f1_micro</th>\n      <th>rel_prec_macro</th>\n      <th>...</th>\n      <th>rel_f1_macro</th>\n      <th>rel_nec_prec_micro</th>\n      <th>rel_nec_rec_micro</th>\n      <th>rel_nec_f1_micro</th>\n      <th>rel_nec_prec_macro</th>\n      <th>rel_nec_rec_macro</th>\n      <th>rel_nec_f1_macro</th>\n      <th>epoch</th>\n      <th>iteration</th>\n      <th>global_iteration</th>\n    </tr>\n  </thead>\n  <tbody>\n    <tr>\n      <th>0</th>\n      <td>71.698113</td>\n      <td>57.86802</td>\n      <td>64.044944</td>\n      <td>75.513001</td>\n      <td>58.619075</td>\n      <td>64.89844</td>\n      <td>0.0</td>\n      <td>0.0</td>\n      <td>0.0</td>\n      <td>NaN</td>\n      <td>...</td>\n      <td>NaN</td>\n      <td>0.0</td>\n      <td>0.0</td>\n      <td>0.0</td>\n      <td>NaN</td>\n      <td>NaN</td>\n      <td>NaN</td>\n      <td>10</td>\n      <td>0</td>\n      <td>590</td>\n    </tr>\n  </tbody>\n</table>\n<p>1 rows × 21 columns</p>\n</div>"
     },
     "execution_count": 4,
     "metadata": {},
     "output_type": "execute_result"
    }
   ],
   "source": [
    "df = pd.read_csv('/Users/katerynaburovova/PycharmProjects/dehumanization/SPERT_experimentation/spert/data/log/conll04_train/2023-05-02_S_10_ep/eval_valid.csv', delimiter=\";\", header=[0])\n",
    "df"
   ],
   "metadata": {
    "collapsed": false,
    "pycharm": {
     "name": "#%%\n"
    }
   }
  },
  {
   "cell_type": "code",
   "execution_count": 5,
   "outputs": [
    {
     "data": {
      "text/plain": "   ner_prec_micro  ner_rec_micro  ner_f1_micro  ner_prec_macro  ner_rec_macro  \\\n0       71.538462        66.0746     68.698061       71.223723      66.139262   \n\n   ner_f1_macro  rel_prec_micro  rel_rec_micro  rel_f1_micro  rel_prec_macro  \\\n0     68.309966             0.0            0.0           0.0             NaN   \n\n   ...  rel_f1_macro  rel_nec_prec_micro  rel_nec_rec_micro  rel_nec_f1_micro  \\\n0  ...           NaN                 0.0                0.0               0.0   \n\n   rel_nec_prec_macro  rel_nec_rec_macro  rel_nec_f1_macro  epoch  iteration  \\\n0                 NaN                NaN               NaN     10          0   \n\n   global_iteration  \n0              1860  \n\n[1 rows x 21 columns]",
      "text/html": "<div>\n<style scoped>\n    .dataframe tbody tr th:only-of-type {\n        vertical-align: middle;\n    }\n\n    .dataframe tbody tr th {\n        vertical-align: top;\n    }\n\n    .dataframe thead th {\n        text-align: right;\n    }\n</style>\n<table border=\"1\" class=\"dataframe\">\n  <thead>\n    <tr style=\"text-align: right;\">\n      <th></th>\n      <th>ner_prec_micro</th>\n      <th>ner_rec_micro</th>\n      <th>ner_f1_micro</th>\n      <th>ner_prec_macro</th>\n      <th>ner_rec_macro</th>\n      <th>ner_f1_macro</th>\n      <th>rel_prec_micro</th>\n      <th>rel_rec_micro</th>\n      <th>rel_f1_micro</th>\n      <th>rel_prec_macro</th>\n      <th>...</th>\n      <th>rel_f1_macro</th>\n      <th>rel_nec_prec_micro</th>\n      <th>rel_nec_rec_micro</th>\n      <th>rel_nec_f1_micro</th>\n      <th>rel_nec_prec_macro</th>\n      <th>rel_nec_rec_macro</th>\n      <th>rel_nec_f1_macro</th>\n      <th>epoch</th>\n      <th>iteration</th>\n      <th>global_iteration</th>\n    </tr>\n  </thead>\n  <tbody>\n    <tr>\n      <th>0</th>\n      <td>71.538462</td>\n      <td>66.0746</td>\n      <td>68.698061</td>\n      <td>71.223723</td>\n      <td>66.139262</td>\n      <td>68.309966</td>\n      <td>0.0</td>\n      <td>0.0</td>\n      <td>0.0</td>\n      <td>NaN</td>\n      <td>...</td>\n      <td>NaN</td>\n      <td>0.0</td>\n      <td>0.0</td>\n      <td>0.0</td>\n      <td>NaN</td>\n      <td>NaN</td>\n      <td>NaN</td>\n      <td>10</td>\n      <td>0</td>\n      <td>1860</td>\n    </tr>\n  </tbody>\n</table>\n<p>1 rows × 21 columns</p>\n</div>"
     },
     "execution_count": 5,
     "metadata": {},
     "output_type": "execute_result"
    }
   ],
   "source": [
    "df = pd.read_csv('/Users/katerynaburovova/PycharmProjects/dehumanization/SPERT_experimentation/spert/data/log/conll04_train/2023-05-03_M_10_ep/eval_valid.csv', delimiter=\";\", header=[0])\n",
    "df"
   ],
   "metadata": {
    "collapsed": false,
    "pycharm": {
     "name": "#%%\n"
    }
   }
  },
  {
   "cell_type": "code",
   "execution_count": 6,
   "outputs": [
    {
     "data": {
      "text/plain": "   ner_prec_micro  ner_rec_micro  ner_f1_micro  ner_prec_macro  ner_rec_macro  \\\n0            87.5      68.383659     76.769691       85.049838      71.572636   \n\n   ner_f1_macro  rel_prec_micro  rel_rec_micro  rel_f1_micro  rel_prec_macro  \\\n0     77.022961             0.0            0.0           0.0             NaN   \n\n   ...  rel_f1_macro  rel_nec_prec_micro  rel_nec_rec_micro  rel_nec_f1_micro  \\\n0  ...           NaN                 0.0                0.0               0.0   \n\n   rel_nec_prec_macro  rel_nec_rec_macro  rel_nec_f1_macro  epoch  iteration  \\\n0                 NaN                NaN               NaN     20          0   \n\n   global_iteration  \n0              3720  \n\n[1 rows x 21 columns]",
      "text/html": "<div>\n<style scoped>\n    .dataframe tbody tr th:only-of-type {\n        vertical-align: middle;\n    }\n\n    .dataframe tbody tr th {\n        vertical-align: top;\n    }\n\n    .dataframe thead th {\n        text-align: right;\n    }\n</style>\n<table border=\"1\" class=\"dataframe\">\n  <thead>\n    <tr style=\"text-align: right;\">\n      <th></th>\n      <th>ner_prec_micro</th>\n      <th>ner_rec_micro</th>\n      <th>ner_f1_micro</th>\n      <th>ner_prec_macro</th>\n      <th>ner_rec_macro</th>\n      <th>ner_f1_macro</th>\n      <th>rel_prec_micro</th>\n      <th>rel_rec_micro</th>\n      <th>rel_f1_micro</th>\n      <th>rel_prec_macro</th>\n      <th>...</th>\n      <th>rel_f1_macro</th>\n      <th>rel_nec_prec_micro</th>\n      <th>rel_nec_rec_micro</th>\n      <th>rel_nec_f1_micro</th>\n      <th>rel_nec_prec_macro</th>\n      <th>rel_nec_rec_macro</th>\n      <th>rel_nec_f1_macro</th>\n      <th>epoch</th>\n      <th>iteration</th>\n      <th>global_iteration</th>\n    </tr>\n  </thead>\n  <tbody>\n    <tr>\n      <th>0</th>\n      <td>87.5</td>\n      <td>68.383659</td>\n      <td>76.769691</td>\n      <td>85.049838</td>\n      <td>71.572636</td>\n      <td>77.022961</td>\n      <td>0.0</td>\n      <td>0.0</td>\n      <td>0.0</td>\n      <td>NaN</td>\n      <td>...</td>\n      <td>NaN</td>\n      <td>0.0</td>\n      <td>0.0</td>\n      <td>0.0</td>\n      <td>NaN</td>\n      <td>NaN</td>\n      <td>NaN</td>\n      <td>20</td>\n      <td>0</td>\n      <td>3720</td>\n    </tr>\n  </tbody>\n</table>\n<p>1 rows × 21 columns</p>\n</div>"
     },
     "execution_count": 6,
     "metadata": {},
     "output_type": "execute_result"
    }
   ],
   "source": [
    "df = pd.read_csv('/Users/katerynaburovova/PycharmProjects/dehumanization/SPERT_experimentation/spert/data/log/conll04_train/2023-05-03_M_20_ep/eval_valid.csv', delimiter=\";\", header=[0])\n",
    "df"
   ],
   "metadata": {
    "collapsed": false,
    "pycharm": {
     "name": "#%%\n"
    }
   }
  },
  {
   "cell_type": "code",
   "execution_count": 7,
   "outputs": [
    {
     "data": {
      "text/plain": "   ner_prec_micro  ner_rec_micro  ner_f1_micro  ner_prec_macro  ner_rec_macro  \\\n0       92.926829      67.673179     78.314491       96.259428      76.450183   \n\n   ner_f1_macro  rel_prec_micro  rel_rec_micro  rel_f1_micro  rel_prec_macro  \\\n0     84.966392             0.0            0.0           0.0             NaN   \n\n   ...  rel_f1_macro  rel_nec_prec_micro  rel_nec_rec_micro  rel_nec_f1_micro  \\\n0  ...           NaN                 0.0                0.0               0.0   \n\n   rel_nec_prec_macro  rel_nec_rec_macro  rel_nec_f1_macro  epoch  iteration  \\\n0                 NaN                NaN               NaN     20          0   \n\n   global_iteration  \n0              3720  \n\n[1 rows x 21 columns]",
      "text/html": "<div>\n<style scoped>\n    .dataframe tbody tr th:only-of-type {\n        vertical-align: middle;\n    }\n\n    .dataframe tbody tr th {\n        vertical-align: top;\n    }\n\n    .dataframe thead th {\n        text-align: right;\n    }\n</style>\n<table border=\"1\" class=\"dataframe\">\n  <thead>\n    <tr style=\"text-align: right;\">\n      <th></th>\n      <th>ner_prec_micro</th>\n      <th>ner_rec_micro</th>\n      <th>ner_f1_micro</th>\n      <th>ner_prec_macro</th>\n      <th>ner_rec_macro</th>\n      <th>ner_f1_macro</th>\n      <th>rel_prec_micro</th>\n      <th>rel_rec_micro</th>\n      <th>rel_f1_micro</th>\n      <th>rel_prec_macro</th>\n      <th>...</th>\n      <th>rel_f1_macro</th>\n      <th>rel_nec_prec_micro</th>\n      <th>rel_nec_rec_micro</th>\n      <th>rel_nec_f1_micro</th>\n      <th>rel_nec_prec_macro</th>\n      <th>rel_nec_rec_macro</th>\n      <th>rel_nec_f1_macro</th>\n      <th>epoch</th>\n      <th>iteration</th>\n      <th>global_iteration</th>\n    </tr>\n  </thead>\n  <tbody>\n    <tr>\n      <th>0</th>\n      <td>92.926829</td>\n      <td>67.673179</td>\n      <td>78.314491</td>\n      <td>96.259428</td>\n      <td>76.450183</td>\n      <td>84.966392</td>\n      <td>0.0</td>\n      <td>0.0</td>\n      <td>0.0</td>\n      <td>NaN</td>\n      <td>...</td>\n      <td>NaN</td>\n      <td>0.0</td>\n      <td>0.0</td>\n      <td>0.0</td>\n      <td>NaN</td>\n      <td>NaN</td>\n      <td>NaN</td>\n      <td>20</td>\n      <td>0</td>\n      <td>3720</td>\n    </tr>\n  </tbody>\n</table>\n<p>1 rows × 21 columns</p>\n</div>"
     },
     "execution_count": 7,
     "metadata": {},
     "output_type": "execute_result"
    }
   ],
   "source": [
    "df = pd.read_csv('/Users/katerynaburovova/PycharmProjects/dehumanization/SPERT_experimentation/spert/data/log/conll04_train/2023-05-04_M_20_ep_200_neg/eval_valid.csv', delimiter=\";\", header=[0])\n",
    "df"
   ],
   "metadata": {
    "collapsed": false,
    "pycharm": {
     "name": "#%%\n"
    }
   }
  },
  {
   "cell_type": "code",
   "execution_count": 8,
   "outputs": [
    {
     "data": {
      "text/plain": "   ner_prec_micro  ner_rec_micro  ner_f1_micro  ner_prec_macro  ner_rec_macro  \\\n0       93.564356       67.14032     78.179938       95.184075      68.541072   \n\n   ner_f1_macro  rel_prec_micro  rel_rec_micro  rel_f1_micro  rel_prec_macro  \\\n0     79.479634             0.0            0.0           0.0             NaN   \n\n   ...  rel_f1_macro  rel_nec_prec_micro  rel_nec_rec_micro  rel_nec_f1_micro  \\\n0  ...           NaN                 0.0                0.0               0.0   \n\n   rel_nec_prec_macro  rel_nec_rec_macro  rel_nec_f1_macro  epoch  iteration  \\\n0                 NaN                NaN               NaN     20          0   \n\n   global_iteration  \n0              3720  \n\n[1 rows x 21 columns]",
      "text/html": "<div>\n<style scoped>\n    .dataframe tbody tr th:only-of-type {\n        vertical-align: middle;\n    }\n\n    .dataframe tbody tr th {\n        vertical-align: top;\n    }\n\n    .dataframe thead th {\n        text-align: right;\n    }\n</style>\n<table border=\"1\" class=\"dataframe\">\n  <thead>\n    <tr style=\"text-align: right;\">\n      <th></th>\n      <th>ner_prec_micro</th>\n      <th>ner_rec_micro</th>\n      <th>ner_f1_micro</th>\n      <th>ner_prec_macro</th>\n      <th>ner_rec_macro</th>\n      <th>ner_f1_macro</th>\n      <th>rel_prec_micro</th>\n      <th>rel_rec_micro</th>\n      <th>rel_f1_micro</th>\n      <th>rel_prec_macro</th>\n      <th>...</th>\n      <th>rel_f1_macro</th>\n      <th>rel_nec_prec_micro</th>\n      <th>rel_nec_rec_micro</th>\n      <th>rel_nec_f1_micro</th>\n      <th>rel_nec_prec_macro</th>\n      <th>rel_nec_rec_macro</th>\n      <th>rel_nec_f1_macro</th>\n      <th>epoch</th>\n      <th>iteration</th>\n      <th>global_iteration</th>\n    </tr>\n  </thead>\n  <tbody>\n    <tr>\n      <th>0</th>\n      <td>93.564356</td>\n      <td>67.14032</td>\n      <td>78.179938</td>\n      <td>95.184075</td>\n      <td>68.541072</td>\n      <td>79.479634</td>\n      <td>0.0</td>\n      <td>0.0</td>\n      <td>0.0</td>\n      <td>NaN</td>\n      <td>...</td>\n      <td>NaN</td>\n      <td>0.0</td>\n      <td>0.0</td>\n      <td>0.0</td>\n      <td>NaN</td>\n      <td>NaN</td>\n      <td>NaN</td>\n      <td>20</td>\n      <td>0</td>\n      <td>3720</td>\n    </tr>\n  </tbody>\n</table>\n<p>1 rows × 21 columns</p>\n</div>"
     },
     "execution_count": 8,
     "metadata": {},
     "output_type": "execute_result"
    }
   ],
   "source": [
    "df = pd.read_csv('/Users/katerynaburovova/PycharmProjects/dehumanization/SPERT_experimentation/spert/data/log/conll04_train/2023-05-04_M_20_ep_300_neg/eval_valid.csv', delimiter=\";\", header=[0])\n",
    "df"
   ],
   "metadata": {
    "collapsed": false,
    "pycharm": {
     "name": "#%%\n"
    }
   }
  },
  {
   "cell_type": "code",
   "execution_count": 9,
   "outputs": [
    {
     "data": {
      "text/plain": "   ner_prec_micro  ner_rec_micro  ner_f1_micro  ner_prec_macro  ner_rec_macro  \\\n0       95.098039      68.916519     79.917611       96.142177      71.325648   \n\n   ner_f1_macro  rel_prec_micro  rel_rec_micro  rel_f1_micro  rel_prec_macro  \\\n0     80.790436             0.0            0.0           0.0             NaN   \n\n   ...  rel_f1_macro  rel_nec_prec_micro  rel_nec_rec_micro  rel_nec_f1_micro  \\\n0  ...           NaN                 0.0                0.0               0.0   \n\n   rel_nec_prec_macro  rel_nec_rec_macro  rel_nec_f1_macro  epoch  iteration  \\\n0                 NaN                NaN               NaN     25          0   \n\n   global_iteration  \n0              4650  \n\n[1 rows x 21 columns]",
      "text/html": "<div>\n<style scoped>\n    .dataframe tbody tr th:only-of-type {\n        vertical-align: middle;\n    }\n\n    .dataframe tbody tr th {\n        vertical-align: top;\n    }\n\n    .dataframe thead th {\n        text-align: right;\n    }\n</style>\n<table border=\"1\" class=\"dataframe\">\n  <thead>\n    <tr style=\"text-align: right;\">\n      <th></th>\n      <th>ner_prec_micro</th>\n      <th>ner_rec_micro</th>\n      <th>ner_f1_micro</th>\n      <th>ner_prec_macro</th>\n      <th>ner_rec_macro</th>\n      <th>ner_f1_macro</th>\n      <th>rel_prec_micro</th>\n      <th>rel_rec_micro</th>\n      <th>rel_f1_micro</th>\n      <th>rel_prec_macro</th>\n      <th>...</th>\n      <th>rel_f1_macro</th>\n      <th>rel_nec_prec_micro</th>\n      <th>rel_nec_rec_micro</th>\n      <th>rel_nec_f1_micro</th>\n      <th>rel_nec_prec_macro</th>\n      <th>rel_nec_rec_macro</th>\n      <th>rel_nec_f1_macro</th>\n      <th>epoch</th>\n      <th>iteration</th>\n      <th>global_iteration</th>\n    </tr>\n  </thead>\n  <tbody>\n    <tr>\n      <th>0</th>\n      <td>95.098039</td>\n      <td>68.916519</td>\n      <td>79.917611</td>\n      <td>96.142177</td>\n      <td>71.325648</td>\n      <td>80.790436</td>\n      <td>0.0</td>\n      <td>0.0</td>\n      <td>0.0</td>\n      <td>NaN</td>\n      <td>...</td>\n      <td>NaN</td>\n      <td>0.0</td>\n      <td>0.0</td>\n      <td>0.0</td>\n      <td>NaN</td>\n      <td>NaN</td>\n      <td>NaN</td>\n      <td>25</td>\n      <td>0</td>\n      <td>4650</td>\n    </tr>\n  </tbody>\n</table>\n<p>1 rows × 21 columns</p>\n</div>"
     },
     "execution_count": 9,
     "metadata": {},
     "output_type": "execute_result"
    }
   ],
   "source": [
    "df = pd.read_csv('/Users/katerynaburovova/PycharmProjects/dehumanization/SPERT_experimentation/spert/data/log/conll04_train/2023-05-04_M_25_ep_200_neg/eval_valid.csv', delimiter=\";\", header=[0])\n",
    "df"
   ],
   "metadata": {
    "collapsed": false,
    "pycharm": {
     "name": "#%%\n"
    }
   }
  },
  {
   "cell_type": "code",
   "execution_count": 11,
   "outputs": [
    {
     "data": {
      "text/plain": "   ner_prec_micro  ner_rec_micro  ner_f1_micro  ner_prec_macro  ner_rec_macro  \\\n0       98.237885      96.536797     97.379913       98.346697      95.305684   \n\n   ner_f1_macro  rel_prec_micro  rel_rec_micro  rel_f1_micro  rel_prec_macro  \\\n0     96.769559             0.0            0.0           0.0             NaN   \n\n   ...  rel_f1_macro  rel_nec_prec_micro  rel_nec_rec_micro  rel_nec_f1_micro  \\\n0  ...           NaN                 0.0                0.0               0.0   \n\n   rel_nec_prec_macro  rel_nec_rec_macro  rel_nec_f1_macro  epoch  iteration  \\\n0                 NaN                NaN               NaN     25          0   \n\n   global_iteration  \n0              4650  \n\n[1 rows x 21 columns]",
      "text/html": "<div>\n<style scoped>\n    .dataframe tbody tr th:only-of-type {\n        vertical-align: middle;\n    }\n\n    .dataframe tbody tr th {\n        vertical-align: top;\n    }\n\n    .dataframe thead th {\n        text-align: right;\n    }\n</style>\n<table border=\"1\" class=\"dataframe\">\n  <thead>\n    <tr style=\"text-align: right;\">\n      <th></th>\n      <th>ner_prec_micro</th>\n      <th>ner_rec_micro</th>\n      <th>ner_f1_micro</th>\n      <th>ner_prec_macro</th>\n      <th>ner_rec_macro</th>\n      <th>ner_f1_macro</th>\n      <th>rel_prec_micro</th>\n      <th>rel_rec_micro</th>\n      <th>rel_f1_micro</th>\n      <th>rel_prec_macro</th>\n      <th>...</th>\n      <th>rel_f1_macro</th>\n      <th>rel_nec_prec_micro</th>\n      <th>rel_nec_rec_micro</th>\n      <th>rel_nec_f1_micro</th>\n      <th>rel_nec_prec_macro</th>\n      <th>rel_nec_rec_macro</th>\n      <th>rel_nec_f1_macro</th>\n      <th>epoch</th>\n      <th>iteration</th>\n      <th>global_iteration</th>\n    </tr>\n  </thead>\n  <tbody>\n    <tr>\n      <th>0</th>\n      <td>98.237885</td>\n      <td>96.536797</td>\n      <td>97.379913</td>\n      <td>98.346697</td>\n      <td>95.305684</td>\n      <td>96.769559</td>\n      <td>0.0</td>\n      <td>0.0</td>\n      <td>0.0</td>\n      <td>NaN</td>\n      <td>...</td>\n      <td>NaN</td>\n      <td>0.0</td>\n      <td>0.0</td>\n      <td>0.0</td>\n      <td>NaN</td>\n      <td>NaN</td>\n      <td>NaN</td>\n      <td>25</td>\n      <td>0</td>\n      <td>4650</td>\n    </tr>\n  </tbody>\n</table>\n<p>1 rows × 21 columns</p>\n</div>"
     },
     "execution_count": 11,
     "metadata": {},
     "output_type": "execute_result"
    }
   ],
   "source": [
    "df = pd.read_csv('/Users/katerynaburovova/PycharmProjects/dehumanization/SPERT_experimentation/spert/data/log/conll04_train/2023-05-05_14:45:19.041428_Mred_25ep_200neg/eval_valid.csv', delimiter=\";\", header=[0])\n",
    "df"
   ],
   "metadata": {
    "collapsed": false,
    "pycharm": {
     "name": "#%%\n"
    }
   }
  },
  {
   "cell_type": "code",
   "execution_count": 12,
   "outputs": [
    {
     "data": {
      "text/plain": "   ner_prec_micro  ner_rec_micro  ner_f1_micro  ner_prec_macro  ner_rec_macro  \\\n0       97.333333      94.805195     96.052632       97.887184      92.774194   \n\n   ner_f1_macro  rel_prec_micro  rel_rec_micro  rel_f1_micro  rel_prec_macro  \\\n0     95.239464             0.0            0.0           0.0             NaN   \n\n   ...  rel_f1_macro  rel_nec_prec_micro  rel_nec_rec_micro  rel_nec_f1_micro  \\\n0  ...           NaN                 0.0                0.0               0.0   \n\n   rel_nec_prec_macro  rel_nec_rec_macro  rel_nec_f1_macro  epoch  iteration  \\\n0                 NaN                NaN               NaN     20          0   \n\n   global_iteration  \n0              3720  \n\n[1 rows x 21 columns]",
      "text/html": "<div>\n<style scoped>\n    .dataframe tbody tr th:only-of-type {\n        vertical-align: middle;\n    }\n\n    .dataframe tbody tr th {\n        vertical-align: top;\n    }\n\n    .dataframe thead th {\n        text-align: right;\n    }\n</style>\n<table border=\"1\" class=\"dataframe\">\n  <thead>\n    <tr style=\"text-align: right;\">\n      <th></th>\n      <th>ner_prec_micro</th>\n      <th>ner_rec_micro</th>\n      <th>ner_f1_micro</th>\n      <th>ner_prec_macro</th>\n      <th>ner_rec_macro</th>\n      <th>ner_f1_macro</th>\n      <th>rel_prec_micro</th>\n      <th>rel_rec_micro</th>\n      <th>rel_f1_micro</th>\n      <th>rel_prec_macro</th>\n      <th>...</th>\n      <th>rel_f1_macro</th>\n      <th>rel_nec_prec_micro</th>\n      <th>rel_nec_rec_micro</th>\n      <th>rel_nec_f1_micro</th>\n      <th>rel_nec_prec_macro</th>\n      <th>rel_nec_rec_macro</th>\n      <th>rel_nec_f1_macro</th>\n      <th>epoch</th>\n      <th>iteration</th>\n      <th>global_iteration</th>\n    </tr>\n  </thead>\n  <tbody>\n    <tr>\n      <th>0</th>\n      <td>97.333333</td>\n      <td>94.805195</td>\n      <td>96.052632</td>\n      <td>97.887184</td>\n      <td>92.774194</td>\n      <td>95.239464</td>\n      <td>0.0</td>\n      <td>0.0</td>\n      <td>0.0</td>\n      <td>NaN</td>\n      <td>...</td>\n      <td>NaN</td>\n      <td>0.0</td>\n      <td>0.0</td>\n      <td>0.0</td>\n      <td>NaN</td>\n      <td>NaN</td>\n      <td>NaN</td>\n      <td>20</td>\n      <td>0</td>\n      <td>3720</td>\n    </tr>\n  </tbody>\n</table>\n<p>1 rows × 21 columns</p>\n</div>"
     },
     "execution_count": 12,
     "metadata": {},
     "output_type": "execute_result"
    }
   ],
   "source": [
    "df = pd.read_csv('/Users/katerynaburovova/PycharmProjects/dehumanization/SPERT_experimentation/spert/data/log/conll04_train/2023-05-05_15:49:38.240660/eval_valid.csv', delimiter=\";\", header=[0])\n",
    "df"
   ],
   "metadata": {
    "collapsed": false,
    "pycharm": {
     "name": "#%%\n"
    }
   }
  },
  {
   "cell_type": "code",
   "execution_count": 15,
   "outputs": [
    {
     "data": {
      "text/plain": "{'train_path': 'data/datasets/dehumanization_spert_reduced_M/conll04_train.json',\n 'valid_path': 'data/datasets/dehumanization_spert_reduced_M/conll04_dev.json',\n 'save_path': 'data/save/',\n 'init_eval': False,\n 'save_optimizer': False,\n 'train_log_iter': 100,\n 'final_eval': True,\n 'train_batch_size': 2,\n 'epochs': 25,\n 'neg_entity_count': 200,\n 'neg_relation_count': 100,\n 'lr': 5e-05,\n 'lr_warmup': 0.1,\n 'weight_decay': 0.01,\n 'max_grad_norm': 1.0,\n 'config': 'configs/train_reduced.conf',\n 'types_path': 'data/datasets/dehumanization_spert_reduced_M/conll04_types.json',\n 'tokenizer_path': 'DeepPavlov/rubert-base-cased',\n 'max_span_size': 10,\n 'lowercase': False,\n 'sampling_processes': 4,\n 'model_path': 'DeepPavlov/rubert-base-cased',\n 'model_type': 'spert',\n 'cpu': False,\n 'eval_batch_size': 1,\n 'max_pairs': 1000,\n 'rel_filter_threshold': 0.4,\n 'size_embedding': 25,\n 'prop_drop': 0.1,\n 'freeze_transformer': False,\n 'no_overlapping': False,\n 'seed': None,\n 'cache_path': None,\n 'debug': False,\n 'label': 'conll04_train',\n 'log_path': 'data/log/',\n 'store_predictions': True,\n 'store_examples': True,\n 'example_count': None}"
     },
     "execution_count": 15,
     "metadata": {},
     "output_type": "execute_result"
    }
   ],
   "source": [
    "import json\n",
    "\n",
    "# Load the JSON file\n",
    "with open('/Users/katerynaburovova/PycharmProjects/dehumanization/SPERT_experimentation/spert/data/log/conll04_train/2023-05-05_14:45:19.041428_Mred_25ep_200neg/args.json', 'r') as f:\n",
    "    data = json.load(f)\n",
    "data"
   ],
   "metadata": {
    "collapsed": false,
    "pycharm": {
     "name": "#%%\n"
    }
   }
  },
  {
   "cell_type": "code",
   "execution_count": 14,
   "outputs": [
    {
     "data": {
      "text/plain": "{'train_path': 'data/datasets/dehumanization_spert_reduced_M/conll04_train.json',\n 'valid_path': 'data/datasets/dehumanization_spert_reduced_M/conll04_dev.json',\n 'save_path': 'data/save/',\n 'init_eval': False,\n 'save_optimizer': False,\n 'train_log_iter': 100,\n 'final_eval': True,\n 'train_batch_size': 2,\n 'epochs': 20,\n 'neg_entity_count': 200,\n 'neg_relation_count': 100,\n 'lr': 5e-05,\n 'lr_warmup': 0.1,\n 'weight_decay': 0.01,\n 'max_grad_norm': 1.0,\n 'config': 'configs/train_reduced.conf',\n 'types_path': 'data/datasets/dehumanization_spert_reduced_M/conll04_types.json',\n 'tokenizer_path': 'DeepPavlov/rubert-base-cased',\n 'max_span_size': 10,\n 'lowercase': False,\n 'sampling_processes': 4,\n 'model_path': 'DeepPavlov/rubert-base-cased',\n 'model_type': 'spert',\n 'cpu': False,\n 'eval_batch_size': 1,\n 'max_pairs': 1000,\n 'rel_filter_threshold': 0.4,\n 'size_embedding': 25,\n 'prop_drop': 0.1,\n 'freeze_transformer': False,\n 'no_overlapping': False,\n 'seed': None,\n 'cache_path': None,\n 'debug': False,\n 'label': 'conll04_train',\n 'log_path': 'data/log/',\n 'store_predictions': True,\n 'store_examples': True,\n 'example_count': None}"
     },
     "execution_count": 14,
     "metadata": {},
     "output_type": "execute_result"
    }
   ],
   "source": [
    "import json\n",
    "\n",
    "# Load the JSON file\n",
    "with open('/Users/katerynaburovova/PycharmProjects/dehumanization/SPERT_experimentation/spert/data/log/conll04_train/2023-05-05_15:49:38.240660/args.json', 'r') as f:\n",
    "    data = json.load(f)\n",
    "data"
   ],
   "metadata": {
    "collapsed": false,
    "pycharm": {
     "name": "#%%\n"
    }
   }
  },
  {
   "cell_type": "code",
   "execution_count": null,
   "outputs": [],
   "source": [],
   "metadata": {
    "collapsed": false,
    "pycharm": {
     "name": "#%%\n"
    }
   }
  }
 ],
 "metadata": {
  "kernelspec": {
   "display_name": "Python 3",
   "language": "python",
   "name": "python3"
  },
  "language_info": {
   "codemirror_mode": {
    "name": "ipython",
    "version": 2
   },
   "file_extension": ".py",
   "mimetype": "text/x-python",
   "name": "python",
   "nbconvert_exporter": "python",
   "pygments_lexer": "ipython2",
   "version": "2.7.6"
  }
 },
 "nbformat": 4,
 "nbformat_minor": 0
}