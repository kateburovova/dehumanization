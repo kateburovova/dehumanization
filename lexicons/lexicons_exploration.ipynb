{
 "cells": [
  {
   "cell_type": "code",
   "execution_count": 1,
   "outputs": [],
   "source": [
    "import pandas as pd\n"
   ],
   "metadata": {
    "collapsed": false,
    "pycharm": {
     "name": "#%%\n"
    }
   }
  },
  {
   "cell_type": "markdown",
   "source": [
    "[Comparative study](https://www.researchgate.net/publication/327886491_A_Comparative_Study_of_Publicly_Available_Russian_Sentiment_Lexicons_7th_International_Conference_AINL_2018_St_Petersburg_Russia_October_17-19_2018_Proceedings)"
   ],
   "metadata": {
    "collapsed": false,
    "pycharm": {
     "name": "#%% md\n"
    }
   }
  },
  {
   "cell_type": "markdown",
   "source": [
    "|   **Lexicon name**    |**Year developed**|**Article description**|                                   **Dataset link**                                   |\n",
    "|:---------------------:|:----------------:|:---------------------:|:------------------------------------------------------------------------------------:|\n",
    "|    ProductSentiRus    |2012              |[Extraction of Russian Sentiment Lexicon for Product Meta-Domain](https://pdfs.semanticscholar.org/e23b/1430b3c4c4850db1336c5ba9c51c2084f29b.pdf)||\n",
    "|        EmoLex         |2013              |[Crowdsourcing a Word-Emotion Association](https://arxiv.org/abs/1308.6297)|                [link](http://sentiment.nrc.ca/lexicons-for-research/)                |\n",
    "| Chen-Skiena's Lexicon |2014         |[Building Sentiment Lexicons for All Major Languages](https://www.aclweb.org/anthology/P14-2063.pdf)| [link](https://sites.google.com/site/datascienceslab/projects/multilingualsentiment) |\n",
    "|      LinisCrowd       |2016              |[An Opinion Word Lexicon and a Training Dataset for Russian Sentiment Analysis of Social Media](http://www.dialog-21.ru/media/3400/koltsovaoyuetal.pdf)|                         [link](http://www.linis-crowd.org/)                          |\n",
    "|      RuSentiLex       |2017              |[Creating a General Russian Sentiment Lexicon](http://www.lrec-conf.org/proceedings/lrec2016/pdf/285_Paper.pdf)|       [.txt file](http://www.labinform.ru/pub/rusentilex/rusentilex_2017.txt)        |\n",
    "|          MCF          |2017              |[Multilingual Connotation Frames: A Case Study on Social Media for Targeted Sentiment Analysis and Forecast.](aclanthology.org/P17-2073/)| [drive link](https://drive.google.com/file/d/1qxUM3TD-cFXzrGnr6yPwYeWZ9LNfspFr/view) |"
   ],
   "metadata": {
    "collapsed": false,
    "pycharm": {
     "name": "#%% md\n"
    }
   }
  },
  {
   "cell_type": "markdown",
   "source": [
    "# Chen-Skiena’s Lexicon"
   ],
   "metadata": {
    "collapsed": false,
    "pycharm": {
     "name": "#%% md\n"
    }
   }
  },
  {
   "cell_type": "code",
   "execution_count": 134,
   "outputs": [],
   "source": [
    "df_chen = pd.read_csv('/Users/katerynaburovova/PycharmProjects/dehumanization/lexicons/parsed lexicons/ChenSkiena.csv', sep=';')"
   ],
   "metadata": {
    "collapsed": false,
    "pycharm": {
     "name": "#%%\n"
    }
   }
  },
  {
   "cell_type": "code",
   "execution_count": 135,
   "outputs": [
    {
     "data": {
      "text/plain": "array([-1,  1])"
     },
     "execution_count": 135,
     "metadata": {},
     "output_type": "execute_result"
    }
   ],
   "source": [
    "df_chen.polarity.unique()"
   ],
   "metadata": {
    "collapsed": false,
    "pycharm": {
     "name": "#%%\n"
    }
   }
  },
  {
   "cell_type": "code",
   "execution_count": 136,
   "outputs": [
    {
     "data": {
      "text/plain": "            word  polarity\n1648         как         1\n1649         так         1\n1650      первый         1\n1651        типа         1\n1652      именно         1\n...          ...       ...\n2909  улучшаться         1\n2910  хорошенько         1\n2911     хватить         1\n2912  панорамный         1\n2913    нежность         1\n\n[1266 rows x 2 columns]",
      "text/html": "<div>\n<style scoped>\n    .dataframe tbody tr th:only-of-type {\n        vertical-align: middle;\n    }\n\n    .dataframe tbody tr th {\n        vertical-align: top;\n    }\n\n    .dataframe thead th {\n        text-align: right;\n    }\n</style>\n<table border=\"1\" class=\"dataframe\">\n  <thead>\n    <tr style=\"text-align: right;\">\n      <th></th>\n      <th>word</th>\n      <th>polarity</th>\n    </tr>\n  </thead>\n  <tbody>\n    <tr>\n      <th>1648</th>\n      <td>как</td>\n      <td>1</td>\n    </tr>\n    <tr>\n      <th>1649</th>\n      <td>так</td>\n      <td>1</td>\n    </tr>\n    <tr>\n      <th>1650</th>\n      <td>первый</td>\n      <td>1</td>\n    </tr>\n    <tr>\n      <th>1651</th>\n      <td>типа</td>\n      <td>1</td>\n    </tr>\n    <tr>\n      <th>1652</th>\n      <td>именно</td>\n      <td>1</td>\n    </tr>\n    <tr>\n      <th>...</th>\n      <td>...</td>\n      <td>...</td>\n    </tr>\n    <tr>\n      <th>2909</th>\n      <td>улучшаться</td>\n      <td>1</td>\n    </tr>\n    <tr>\n      <th>2910</th>\n      <td>хорошенько</td>\n      <td>1</td>\n    </tr>\n    <tr>\n      <th>2911</th>\n      <td>хватить</td>\n      <td>1</td>\n    </tr>\n    <tr>\n      <th>2912</th>\n      <td>панорамный</td>\n      <td>1</td>\n    </tr>\n    <tr>\n      <th>2913</th>\n      <td>нежность</td>\n      <td>1</td>\n    </tr>\n  </tbody>\n</table>\n<p>1266 rows × 2 columns</p>\n</div>"
     },
     "execution_count": 136,
     "metadata": {},
     "output_type": "execute_result"
    }
   ],
   "source": [
    "df_chen[df_chen['polarity']==1]"
   ],
   "metadata": {
    "collapsed": false,
    "pycharm": {
     "name": "#%%\n"
    }
   }
  },
  {
   "cell_type": "code",
   "execution_count": 137,
   "outputs": [
    {
     "data": {
      "text/plain": "             word  polarity\n0           время        -1\n1              во        -1\n2           около        -1\n3             род        -1\n4            член        -1\n...           ...       ...\n1643    неудачник        -1\n1644   заморозить        -1\n1645       травля        -1\n1646     месячные        -1\n1647  недомогание        -1\n\n[1648 rows x 2 columns]",
      "text/html": "<div>\n<style scoped>\n    .dataframe tbody tr th:only-of-type {\n        vertical-align: middle;\n    }\n\n    .dataframe tbody tr th {\n        vertical-align: top;\n    }\n\n    .dataframe thead th {\n        text-align: right;\n    }\n</style>\n<table border=\"1\" class=\"dataframe\">\n  <thead>\n    <tr style=\"text-align: right;\">\n      <th></th>\n      <th>word</th>\n      <th>polarity</th>\n    </tr>\n  </thead>\n  <tbody>\n    <tr>\n      <th>0</th>\n      <td>время</td>\n      <td>-1</td>\n    </tr>\n    <tr>\n      <th>1</th>\n      <td>во</td>\n      <td>-1</td>\n    </tr>\n    <tr>\n      <th>2</th>\n      <td>около</td>\n      <td>-1</td>\n    </tr>\n    <tr>\n      <th>3</th>\n      <td>род</td>\n      <td>-1</td>\n    </tr>\n    <tr>\n      <th>4</th>\n      <td>член</td>\n      <td>-1</td>\n    </tr>\n    <tr>\n      <th>...</th>\n      <td>...</td>\n      <td>...</td>\n    </tr>\n    <tr>\n      <th>1643</th>\n      <td>неудачник</td>\n      <td>-1</td>\n    </tr>\n    <tr>\n      <th>1644</th>\n      <td>заморозить</td>\n      <td>-1</td>\n    </tr>\n    <tr>\n      <th>1645</th>\n      <td>травля</td>\n      <td>-1</td>\n    </tr>\n    <tr>\n      <th>1646</th>\n      <td>месячные</td>\n      <td>-1</td>\n    </tr>\n    <tr>\n      <th>1647</th>\n      <td>недомогание</td>\n      <td>-1</td>\n    </tr>\n  </tbody>\n</table>\n<p>1648 rows × 2 columns</p>\n</div>"
     },
     "execution_count": 137,
     "metadata": {},
     "output_type": "execute_result"
    }
   ],
   "source": [
    "df_chen[df_chen['polarity']==-1]"
   ],
   "metadata": {
    "collapsed": false,
    "pycharm": {
     "name": "#%%\n"
    }
   }
  },
  {
   "cell_type": "code",
   "execution_count": 138,
   "outputs": [],
   "source": [
    "df_emolex = pd.read_csv('/Users/katerynaburovova/PycharmProjects/dehumanization/lexicons/parsed lexicons/EmoLex.сsv', sep=';')"
   ],
   "metadata": {
    "collapsed": false,
    "pycharm": {
     "name": "#%%\n"
    }
   }
  },
  {
   "cell_type": "code",
   "execution_count": 139,
   "outputs": [
    {
     "data": {
      "text/plain": "                word  Positive  Negative\n0              сзади         0         0\n1              счеты         0         0\n2      отказаться от         0         1\n3        заброшенный         0         1\n4         оставление         0         1\n...              ...       ...       ...\n14176           зона         0         0\n14177        зоопарк         0         0\n14178  зоологический         0         0\n14179       зоология         0         0\n14180            зум         0         0\n\n[14181 rows x 3 columns]",
      "text/html": "<div>\n<style scoped>\n    .dataframe tbody tr th:only-of-type {\n        vertical-align: middle;\n    }\n\n    .dataframe tbody tr th {\n        vertical-align: top;\n    }\n\n    .dataframe thead th {\n        text-align: right;\n    }\n</style>\n<table border=\"1\" class=\"dataframe\">\n  <thead>\n    <tr style=\"text-align: right;\">\n      <th></th>\n      <th>word</th>\n      <th>Positive</th>\n      <th>Negative</th>\n    </tr>\n  </thead>\n  <tbody>\n    <tr>\n      <th>0</th>\n      <td>сзади</td>\n      <td>0</td>\n      <td>0</td>\n    </tr>\n    <tr>\n      <th>1</th>\n      <td>счеты</td>\n      <td>0</td>\n      <td>0</td>\n    </tr>\n    <tr>\n      <th>2</th>\n      <td>отказаться от</td>\n      <td>0</td>\n      <td>1</td>\n    </tr>\n    <tr>\n      <th>3</th>\n      <td>заброшенный</td>\n      <td>0</td>\n      <td>1</td>\n    </tr>\n    <tr>\n      <th>4</th>\n      <td>оставление</td>\n      <td>0</td>\n      <td>1</td>\n    </tr>\n    <tr>\n      <th>...</th>\n      <td>...</td>\n      <td>...</td>\n      <td>...</td>\n    </tr>\n    <tr>\n      <th>14176</th>\n      <td>зона</td>\n      <td>0</td>\n      <td>0</td>\n    </tr>\n    <tr>\n      <th>14177</th>\n      <td>зоопарк</td>\n      <td>0</td>\n      <td>0</td>\n    </tr>\n    <tr>\n      <th>14178</th>\n      <td>зоологический</td>\n      <td>0</td>\n      <td>0</td>\n    </tr>\n    <tr>\n      <th>14179</th>\n      <td>зоология</td>\n      <td>0</td>\n      <td>0</td>\n    </tr>\n    <tr>\n      <th>14180</th>\n      <td>зум</td>\n      <td>0</td>\n      <td>0</td>\n    </tr>\n  </tbody>\n</table>\n<p>14181 rows × 3 columns</p>\n</div>"
     },
     "execution_count": 139,
     "metadata": {},
     "output_type": "execute_result"
    }
   ],
   "source": [
    "df_emolex"
   ],
   "metadata": {
    "collapsed": false,
    "pycharm": {
     "name": "#%%\n"
    }
   }
  },
  {
   "cell_type": "code",
   "execution_count": 140,
   "outputs": [
    {
     "data": {
      "text/plain": "                   word  Positive  Negative\n7                  авва         1         0\n20          способность         1         0\n36       NO TRANSLATION         1         0\n48           абсолютный         1         0\n49     отпущение грехов         1         0\n...                 ...       ...       ...\n14162            моложе         1         0\n14163          молодежь         1         0\n14166            рвение         1         0\n14168        ревностный         1         0\n14173             цедра         1         0\n\n[2312 rows x 3 columns]",
      "text/html": "<div>\n<style scoped>\n    .dataframe tbody tr th:only-of-type {\n        vertical-align: middle;\n    }\n\n    .dataframe tbody tr th {\n        vertical-align: top;\n    }\n\n    .dataframe thead th {\n        text-align: right;\n    }\n</style>\n<table border=\"1\" class=\"dataframe\">\n  <thead>\n    <tr style=\"text-align: right;\">\n      <th></th>\n      <th>word</th>\n      <th>Positive</th>\n      <th>Negative</th>\n    </tr>\n  </thead>\n  <tbody>\n    <tr>\n      <th>7</th>\n      <td>авва</td>\n      <td>1</td>\n      <td>0</td>\n    </tr>\n    <tr>\n      <th>20</th>\n      <td>способность</td>\n      <td>1</td>\n      <td>0</td>\n    </tr>\n    <tr>\n      <th>36</th>\n      <td>NO TRANSLATION</td>\n      <td>1</td>\n      <td>0</td>\n    </tr>\n    <tr>\n      <th>48</th>\n      <td>абсолютный</td>\n      <td>1</td>\n      <td>0</td>\n    </tr>\n    <tr>\n      <th>49</th>\n      <td>отпущение грехов</td>\n      <td>1</td>\n      <td>0</td>\n    </tr>\n    <tr>\n      <th>...</th>\n      <td>...</td>\n      <td>...</td>\n      <td>...</td>\n    </tr>\n    <tr>\n      <th>14162</th>\n      <td>моложе</td>\n      <td>1</td>\n      <td>0</td>\n    </tr>\n    <tr>\n      <th>14163</th>\n      <td>молодежь</td>\n      <td>1</td>\n      <td>0</td>\n    </tr>\n    <tr>\n      <th>14166</th>\n      <td>рвение</td>\n      <td>1</td>\n      <td>0</td>\n    </tr>\n    <tr>\n      <th>14168</th>\n      <td>ревностный</td>\n      <td>1</td>\n      <td>0</td>\n    </tr>\n    <tr>\n      <th>14173</th>\n      <td>цедра</td>\n      <td>1</td>\n      <td>0</td>\n    </tr>\n  </tbody>\n</table>\n<p>2312 rows × 3 columns</p>\n</div>"
     },
     "execution_count": 140,
     "metadata": {},
     "output_type": "execute_result"
    }
   ],
   "source": [
    "df_emolex[df_emolex['Positive']==1]"
   ],
   "metadata": {
    "collapsed": false,
    "pycharm": {
     "name": "#%%\n"
    }
   }
  },
  {
   "cell_type": "code",
   "execution_count": 141,
   "outputs": [
    {
     "data": {
      "text/plain": "                  word  Positive  Negative\n2        отказаться от         0         1\n3          заброшенный         0         1\n4           оставление         0         1\n13           отведение         0         1\n14       отклоняющийся         0         1\n...                ...       ...       ...\n14143        тоскующий         1         1\n14146           вопить         0         1\n14148          желтеет         0         1\n14149          тявкать         0         1\n14174  застежка-молния         0         1\n\n[3324 rows x 3 columns]",
      "text/html": "<div>\n<style scoped>\n    .dataframe tbody tr th:only-of-type {\n        vertical-align: middle;\n    }\n\n    .dataframe tbody tr th {\n        vertical-align: top;\n    }\n\n    .dataframe thead th {\n        text-align: right;\n    }\n</style>\n<table border=\"1\" class=\"dataframe\">\n  <thead>\n    <tr style=\"text-align: right;\">\n      <th></th>\n      <th>word</th>\n      <th>Positive</th>\n      <th>Negative</th>\n    </tr>\n  </thead>\n  <tbody>\n    <tr>\n      <th>2</th>\n      <td>отказаться от</td>\n      <td>0</td>\n      <td>1</td>\n    </tr>\n    <tr>\n      <th>3</th>\n      <td>заброшенный</td>\n      <td>0</td>\n      <td>1</td>\n    </tr>\n    <tr>\n      <th>4</th>\n      <td>оставление</td>\n      <td>0</td>\n      <td>1</td>\n    </tr>\n    <tr>\n      <th>13</th>\n      <td>отведение</td>\n      <td>0</td>\n      <td>1</td>\n    </tr>\n    <tr>\n      <th>14</th>\n      <td>отклоняющийся</td>\n      <td>0</td>\n      <td>1</td>\n    </tr>\n    <tr>\n      <th>...</th>\n      <td>...</td>\n      <td>...</td>\n      <td>...</td>\n    </tr>\n    <tr>\n      <th>14143</th>\n      <td>тоскующий</td>\n      <td>1</td>\n      <td>1</td>\n    </tr>\n    <tr>\n      <th>14146</th>\n      <td>вопить</td>\n      <td>0</td>\n      <td>1</td>\n    </tr>\n    <tr>\n      <th>14148</th>\n      <td>желтеет</td>\n      <td>0</td>\n      <td>1</td>\n    </tr>\n    <tr>\n      <th>14149</th>\n      <td>тявкать</td>\n      <td>0</td>\n      <td>1</td>\n    </tr>\n    <tr>\n      <th>14174</th>\n      <td>застежка-молния</td>\n      <td>0</td>\n      <td>1</td>\n    </tr>\n  </tbody>\n</table>\n<p>3324 rows × 3 columns</p>\n</div>"
     },
     "execution_count": 141,
     "metadata": {},
     "output_type": "execute_result"
    }
   ],
   "source": [
    "df_emolex[df_emolex['Negative']==1]"
   ],
   "metadata": {
    "collapsed": false,
    "pycharm": {
     "name": "#%%\n"
    }
   }
  },
  {
   "cell_type": "code",
   "execution_count": 142,
   "outputs": [
    {
     "data": {
      "text/plain": "                word  Positive  Negative\n0              сзади         0         0\n1              счеты         0         0\n5            утихать         0         0\n6           снижение         0         0\n8              аббат         0         0\n...              ...       ...       ...\n14176           зона         0         0\n14177        зоопарк         0         0\n14178  зоологический         0         0\n14179       зоология         0         0\n14180            зум         0         0\n\n[8626 rows x 3 columns]",
      "text/html": "<div>\n<style scoped>\n    .dataframe tbody tr th:only-of-type {\n        vertical-align: middle;\n    }\n\n    .dataframe tbody tr th {\n        vertical-align: top;\n    }\n\n    .dataframe thead th {\n        text-align: right;\n    }\n</style>\n<table border=\"1\" class=\"dataframe\">\n  <thead>\n    <tr style=\"text-align: right;\">\n      <th></th>\n      <th>word</th>\n      <th>Positive</th>\n      <th>Negative</th>\n    </tr>\n  </thead>\n  <tbody>\n    <tr>\n      <th>0</th>\n      <td>сзади</td>\n      <td>0</td>\n      <td>0</td>\n    </tr>\n    <tr>\n      <th>1</th>\n      <td>счеты</td>\n      <td>0</td>\n      <td>0</td>\n    </tr>\n    <tr>\n      <th>5</th>\n      <td>утихать</td>\n      <td>0</td>\n      <td>0</td>\n    </tr>\n    <tr>\n      <th>6</th>\n      <td>снижение</td>\n      <td>0</td>\n      <td>0</td>\n    </tr>\n    <tr>\n      <th>8</th>\n      <td>аббат</td>\n      <td>0</td>\n      <td>0</td>\n    </tr>\n    <tr>\n      <th>...</th>\n      <td>...</td>\n      <td>...</td>\n      <td>...</td>\n    </tr>\n    <tr>\n      <th>14176</th>\n      <td>зона</td>\n      <td>0</td>\n      <td>0</td>\n    </tr>\n    <tr>\n      <th>14177</th>\n      <td>зоопарк</td>\n      <td>0</td>\n      <td>0</td>\n    </tr>\n    <tr>\n      <th>14178</th>\n      <td>зоологический</td>\n      <td>0</td>\n      <td>0</td>\n    </tr>\n    <tr>\n      <th>14179</th>\n      <td>зоология</td>\n      <td>0</td>\n      <td>0</td>\n    </tr>\n    <tr>\n      <th>14180</th>\n      <td>зум</td>\n      <td>0</td>\n      <td>0</td>\n    </tr>\n  </tbody>\n</table>\n<p>8626 rows × 3 columns</p>\n</div>"
     },
     "execution_count": 142,
     "metadata": {},
     "output_type": "execute_result"
    }
   ],
   "source": [
    "df_emolex[(df_emolex['Positive']==0)&(df_emolex['Negative']==0)]"
   ],
   "metadata": {
    "collapsed": false,
    "pycharm": {
     "name": "#%%\n"
    }
   }
  },
  {
   "cell_type": "code",
   "execution_count": 143,
   "outputs": [
    {
     "data": {
      "text/plain": "              word  Positive  Negative\n61        изобилие         1         1\n717    вооруженный         1         1\n1017       бальзам         1         1\n1365   хвастовство         1         1\n1381     неистовый         1         1\n...            ...       ...       ...\n13477  развязывать         1         1\n13510       в гору         1         1\n13793        голос         1         1\n13919          вес         1         1\n14143    тоскующий         1         1\n\n[81 rows x 3 columns]",
      "text/html": "<div>\n<style scoped>\n    .dataframe tbody tr th:only-of-type {\n        vertical-align: middle;\n    }\n\n    .dataframe tbody tr th {\n        vertical-align: top;\n    }\n\n    .dataframe thead th {\n        text-align: right;\n    }\n</style>\n<table border=\"1\" class=\"dataframe\">\n  <thead>\n    <tr style=\"text-align: right;\">\n      <th></th>\n      <th>word</th>\n      <th>Positive</th>\n      <th>Negative</th>\n    </tr>\n  </thead>\n  <tbody>\n    <tr>\n      <th>61</th>\n      <td>изобилие</td>\n      <td>1</td>\n      <td>1</td>\n    </tr>\n    <tr>\n      <th>717</th>\n      <td>вооруженный</td>\n      <td>1</td>\n      <td>1</td>\n    </tr>\n    <tr>\n      <th>1017</th>\n      <td>бальзам</td>\n      <td>1</td>\n      <td>1</td>\n    </tr>\n    <tr>\n      <th>1365</th>\n      <td>хвастовство</td>\n      <td>1</td>\n      <td>1</td>\n    </tr>\n    <tr>\n      <th>1381</th>\n      <td>неистовый</td>\n      <td>1</td>\n      <td>1</td>\n    </tr>\n    <tr>\n      <th>...</th>\n      <td>...</td>\n      <td>...</td>\n      <td>...</td>\n    </tr>\n    <tr>\n      <th>13477</th>\n      <td>развязывать</td>\n      <td>1</td>\n      <td>1</td>\n    </tr>\n    <tr>\n      <th>13510</th>\n      <td>в гору</td>\n      <td>1</td>\n      <td>1</td>\n    </tr>\n    <tr>\n      <th>13793</th>\n      <td>голос</td>\n      <td>1</td>\n      <td>1</td>\n    </tr>\n    <tr>\n      <th>13919</th>\n      <td>вес</td>\n      <td>1</td>\n      <td>1</td>\n    </tr>\n    <tr>\n      <th>14143</th>\n      <td>тоскующий</td>\n      <td>1</td>\n      <td>1</td>\n    </tr>\n  </tbody>\n</table>\n<p>81 rows × 3 columns</p>\n</div>"
     },
     "execution_count": 143,
     "metadata": {},
     "output_type": "execute_result"
    }
   ],
   "source": [
    "df_emolex[(df_emolex['Positive']==1)&(df_emolex['Negative']==1)]"
   ],
   "metadata": {
    "collapsed": false,
    "pycharm": {
     "name": "#%%\n"
    }
   }
  },
  {
   "cell_type": "markdown",
   "source": [
    "# Linis crowd"
   ],
   "metadata": {
    "collapsed": false,
    "pycharm": {
     "name": "#%% md\n"
    }
   }
  },
  {
   "cell_type": "code",
   "execution_count": 116,
   "outputs": [],
   "source": [
    "df_linis = pd.read_csv('/Users/katerynaburovova/PycharmProjects/dehumanization/lexicons/parsed lexicons/LinisCrowd.csv', sep=';')"
   ],
   "metadata": {
    "collapsed": false,
    "pycharm": {
     "name": "#%%\n"
    }
   }
  },
  {
   "cell_type": "code",
   "execution_count": 117,
   "outputs": [
    {
     "data": {
      "text/plain": "             word  polarity\n0          абажур        -1\n1        абориген        -1\n2           аборт        -1\n3      абортивный         0\n4      абортивный        -1\n...           ...       ...\n26759        яшин         0\n26760        ящик         0\n26761        ящик         0\n26762        ящик         0\n26763        ящик         0\n\n[26764 rows x 2 columns]",
      "text/html": "<div>\n<style scoped>\n    .dataframe tbody tr th:only-of-type {\n        vertical-align: middle;\n    }\n\n    .dataframe tbody tr th {\n        vertical-align: top;\n    }\n\n    .dataframe thead th {\n        text-align: right;\n    }\n</style>\n<table border=\"1\" class=\"dataframe\">\n  <thead>\n    <tr style=\"text-align: right;\">\n      <th></th>\n      <th>word</th>\n      <th>polarity</th>\n    </tr>\n  </thead>\n  <tbody>\n    <tr>\n      <th>0</th>\n      <td>абажур</td>\n      <td>-1</td>\n    </tr>\n    <tr>\n      <th>1</th>\n      <td>абориген</td>\n      <td>-1</td>\n    </tr>\n    <tr>\n      <th>2</th>\n      <td>аборт</td>\n      <td>-1</td>\n    </tr>\n    <tr>\n      <th>3</th>\n      <td>абортивный</td>\n      <td>0</td>\n    </tr>\n    <tr>\n      <th>4</th>\n      <td>абортивный</td>\n      <td>-1</td>\n    </tr>\n    <tr>\n      <th>...</th>\n      <td>...</td>\n      <td>...</td>\n    </tr>\n    <tr>\n      <th>26759</th>\n      <td>яшин</td>\n      <td>0</td>\n    </tr>\n    <tr>\n      <th>26760</th>\n      <td>ящик</td>\n      <td>0</td>\n    </tr>\n    <tr>\n      <th>26761</th>\n      <td>ящик</td>\n      <td>0</td>\n    </tr>\n    <tr>\n      <th>26762</th>\n      <td>ящик</td>\n      <td>0</td>\n    </tr>\n    <tr>\n      <th>26763</th>\n      <td>ящик</td>\n      <td>0</td>\n    </tr>\n  </tbody>\n</table>\n<p>26764 rows × 2 columns</p>\n</div>"
     },
     "execution_count": 117,
     "metadata": {},
     "output_type": "execute_result"
    }
   ],
   "source": [
    "df_linis"
   ],
   "metadata": {
    "collapsed": false,
    "pycharm": {
     "name": "#%%\n"
    }
   }
  },
  {
   "cell_type": "code",
   "execution_count": 118,
   "outputs": [
    {
     "data": {
      "text/plain": "array([-1,  0, -2,  1,  2])"
     },
     "execution_count": 118,
     "metadata": {},
     "output_type": "execute_result"
    }
   ],
   "source": [
    "df_linis.polarity.unique()"
   ],
   "metadata": {
    "collapsed": false,
    "pycharm": {
     "name": "#%%\n"
    }
   }
  },
  {
   "cell_type": "code",
   "execution_count": 119,
   "outputs": [
    {
     "data": {
      "text/plain": "                 word  polarity\n61             авария        -2\n79              аврал        -2\n142    авторитарность        -2\n177            агония        -2\n191          агрессия        -2\n...               ...       ...\n26405      экстремист        -2\n26407      экстремист        -2\n26535     эротический        -2\n26664              яд        -2\n26735            ярмо        -2\n\n[1136 rows x 2 columns]",
      "text/html": "<div>\n<style scoped>\n    .dataframe tbody tr th:only-of-type {\n        vertical-align: middle;\n    }\n\n    .dataframe tbody tr th {\n        vertical-align: top;\n    }\n\n    .dataframe thead th {\n        text-align: right;\n    }\n</style>\n<table border=\"1\" class=\"dataframe\">\n  <thead>\n    <tr style=\"text-align: right;\">\n      <th></th>\n      <th>word</th>\n      <th>polarity</th>\n    </tr>\n  </thead>\n  <tbody>\n    <tr>\n      <th>61</th>\n      <td>авария</td>\n      <td>-2</td>\n    </tr>\n    <tr>\n      <th>79</th>\n      <td>аврал</td>\n      <td>-2</td>\n    </tr>\n    <tr>\n      <th>142</th>\n      <td>авторитарность</td>\n      <td>-2</td>\n    </tr>\n    <tr>\n      <th>177</th>\n      <td>агония</td>\n      <td>-2</td>\n    </tr>\n    <tr>\n      <th>191</th>\n      <td>агрессия</td>\n      <td>-2</td>\n    </tr>\n    <tr>\n      <th>...</th>\n      <td>...</td>\n      <td>...</td>\n    </tr>\n    <tr>\n      <th>26405</th>\n      <td>экстремист</td>\n      <td>-2</td>\n    </tr>\n    <tr>\n      <th>26407</th>\n      <td>экстремист</td>\n      <td>-2</td>\n    </tr>\n    <tr>\n      <th>26535</th>\n      <td>эротический</td>\n      <td>-2</td>\n    </tr>\n    <tr>\n      <th>26664</th>\n      <td>яд</td>\n      <td>-2</td>\n    </tr>\n    <tr>\n      <th>26735</th>\n      <td>ярмо</td>\n      <td>-2</td>\n    </tr>\n  </tbody>\n</table>\n<p>1136 rows × 2 columns</p>\n</div>"
     },
     "execution_count": 119,
     "metadata": {},
     "output_type": "execute_result"
    }
   ],
   "source": [
    "df_linis[df_linis['polarity']==-2]"
   ],
   "metadata": {
    "collapsed": false,
    "pycharm": {
     "name": "#%%\n"
    }
   }
  },
  {
   "cell_type": "code",
   "execution_count": 120,
   "outputs": [
    {
     "data": {
      "text/plain": "             word  polarity\n0          абажур        -1\n1        абориген        -1\n2           аборт        -1\n4      абортивный        -1\n16         абсурд        -1\n...           ...       ...\n26740      ярость        -1\n26741      ярость        -1\n26742      ярость        -1\n26745        ярый        -1\n26753       ясный        -1\n\n[7026 rows x 2 columns]",
      "text/html": "<div>\n<style scoped>\n    .dataframe tbody tr th:only-of-type {\n        vertical-align: middle;\n    }\n\n    .dataframe tbody tr th {\n        vertical-align: top;\n    }\n\n    .dataframe thead th {\n        text-align: right;\n    }\n</style>\n<table border=\"1\" class=\"dataframe\">\n  <thead>\n    <tr style=\"text-align: right;\">\n      <th></th>\n      <th>word</th>\n      <th>polarity</th>\n    </tr>\n  </thead>\n  <tbody>\n    <tr>\n      <th>0</th>\n      <td>абажур</td>\n      <td>-1</td>\n    </tr>\n    <tr>\n      <th>1</th>\n      <td>абориген</td>\n      <td>-1</td>\n    </tr>\n    <tr>\n      <th>2</th>\n      <td>аборт</td>\n      <td>-1</td>\n    </tr>\n    <tr>\n      <th>4</th>\n      <td>абортивный</td>\n      <td>-1</td>\n    </tr>\n    <tr>\n      <th>16</th>\n      <td>абсурд</td>\n      <td>-1</td>\n    </tr>\n    <tr>\n      <th>...</th>\n      <td>...</td>\n      <td>...</td>\n    </tr>\n    <tr>\n      <th>26740</th>\n      <td>ярость</td>\n      <td>-1</td>\n    </tr>\n    <tr>\n      <th>26741</th>\n      <td>ярость</td>\n      <td>-1</td>\n    </tr>\n    <tr>\n      <th>26742</th>\n      <td>ярость</td>\n      <td>-1</td>\n    </tr>\n    <tr>\n      <th>26745</th>\n      <td>ярый</td>\n      <td>-1</td>\n    </tr>\n    <tr>\n      <th>26753</th>\n      <td>ясный</td>\n      <td>-1</td>\n    </tr>\n  </tbody>\n</table>\n<p>7026 rows × 2 columns</p>\n</div>"
     },
     "execution_count": 120,
     "metadata": {},
     "output_type": "execute_result"
    }
   ],
   "source": [
    "df_linis[df_linis['polarity']==-1]"
   ],
   "metadata": {
    "collapsed": false,
    "pycharm": {
     "name": "#%%\n"
    }
   }
  },
  {
   "cell_type": "code",
   "execution_count": 121,
   "outputs": [],
   "source": [
    "df_linis_unique = df_linis.drop_duplicates(keep='first')"
   ],
   "metadata": {
    "collapsed": false,
    "pycharm": {
     "name": "#%%\n"
    }
   }
  },
  {
   "cell_type": "code",
   "execution_count": 122,
   "outputs": [
    {
     "data": {
      "text/plain": "0.4210880286952623"
     },
     "execution_count": 122,
     "metadata": {},
     "output_type": "execute_result"
    }
   ],
   "source": [
    "len(df_linis_unique)/len(df_linis)"
   ],
   "metadata": {
    "collapsed": false,
    "pycharm": {
     "name": "#%%\n"
    }
   }
  },
  {
   "cell_type": "code",
   "execution_count": 123,
   "outputs": [
    {
     "data": {
      "text/plain": "                 word  polarity\n61             авария        -2\n79              аврал        -2\n142    авторитарность        -2\n177            агония        -2\n191          агрессия        -2\n...               ...       ...\n26403      экстремизм        -2\n26405      экстремист        -2\n26535     эротический        -2\n26664              яд        -2\n26735            ярмо        -2\n\n[747 rows x 2 columns]",
      "text/html": "<div>\n<style scoped>\n    .dataframe tbody tr th:only-of-type {\n        vertical-align: middle;\n    }\n\n    .dataframe tbody tr th {\n        vertical-align: top;\n    }\n\n    .dataframe thead th {\n        text-align: right;\n    }\n</style>\n<table border=\"1\" class=\"dataframe\">\n  <thead>\n    <tr style=\"text-align: right;\">\n      <th></th>\n      <th>word</th>\n      <th>polarity</th>\n    </tr>\n  </thead>\n  <tbody>\n    <tr>\n      <th>61</th>\n      <td>авария</td>\n      <td>-2</td>\n    </tr>\n    <tr>\n      <th>79</th>\n      <td>аврал</td>\n      <td>-2</td>\n    </tr>\n    <tr>\n      <th>142</th>\n      <td>авторитарность</td>\n      <td>-2</td>\n    </tr>\n    <tr>\n      <th>177</th>\n      <td>агония</td>\n      <td>-2</td>\n    </tr>\n    <tr>\n      <th>191</th>\n      <td>агрессия</td>\n      <td>-2</td>\n    </tr>\n    <tr>\n      <th>...</th>\n      <td>...</td>\n      <td>...</td>\n    </tr>\n    <tr>\n      <th>26403</th>\n      <td>экстремизм</td>\n      <td>-2</td>\n    </tr>\n    <tr>\n      <th>26405</th>\n      <td>экстремист</td>\n      <td>-2</td>\n    </tr>\n    <tr>\n      <th>26535</th>\n      <td>эротический</td>\n      <td>-2</td>\n    </tr>\n    <tr>\n      <th>26664</th>\n      <td>яд</td>\n      <td>-2</td>\n    </tr>\n    <tr>\n      <th>26735</th>\n      <td>ярмо</td>\n      <td>-2</td>\n    </tr>\n  </tbody>\n</table>\n<p>747 rows × 2 columns</p>\n</div>"
     },
     "execution_count": 123,
     "metadata": {},
     "output_type": "execute_result"
    }
   ],
   "source": [
    "df_linis_unique[df_linis_unique['polarity']==-2]"
   ],
   "metadata": {
    "collapsed": false,
    "pycharm": {
     "name": "#%%\n"
    }
   }
  },
  {
   "cell_type": "code",
   "execution_count": 124,
   "outputs": [
    {
     "data": {
      "text/plain": "             word  polarity\n0          абажур        -1\n1        абориген        -1\n2           аборт        -1\n4      абортивный        -1\n16         абсурд        -1\n...           ...       ...\n26734        ярмо        -1\n26737    яростный        -1\n26740      ярость        -1\n26745        ярый        -1\n26753       ясный        -1\n\n[3207 rows x 2 columns]",
      "text/html": "<div>\n<style scoped>\n    .dataframe tbody tr th:only-of-type {\n        vertical-align: middle;\n    }\n\n    .dataframe tbody tr th {\n        vertical-align: top;\n    }\n\n    .dataframe thead th {\n        text-align: right;\n    }\n</style>\n<table border=\"1\" class=\"dataframe\">\n  <thead>\n    <tr style=\"text-align: right;\">\n      <th></th>\n      <th>word</th>\n      <th>polarity</th>\n    </tr>\n  </thead>\n  <tbody>\n    <tr>\n      <th>0</th>\n      <td>абажур</td>\n      <td>-1</td>\n    </tr>\n    <tr>\n      <th>1</th>\n      <td>абориген</td>\n      <td>-1</td>\n    </tr>\n    <tr>\n      <th>2</th>\n      <td>аборт</td>\n      <td>-1</td>\n    </tr>\n    <tr>\n      <th>4</th>\n      <td>абортивный</td>\n      <td>-1</td>\n    </tr>\n    <tr>\n      <th>16</th>\n      <td>абсурд</td>\n      <td>-1</td>\n    </tr>\n    <tr>\n      <th>...</th>\n      <td>...</td>\n      <td>...</td>\n    </tr>\n    <tr>\n      <th>26734</th>\n      <td>ярмо</td>\n      <td>-1</td>\n    </tr>\n    <tr>\n      <th>26737</th>\n      <td>яростный</td>\n      <td>-1</td>\n    </tr>\n    <tr>\n      <th>26740</th>\n      <td>ярость</td>\n      <td>-1</td>\n    </tr>\n    <tr>\n      <th>26745</th>\n      <td>ярый</td>\n      <td>-1</td>\n    </tr>\n    <tr>\n      <th>26753</th>\n      <td>ясный</td>\n      <td>-1</td>\n    </tr>\n  </tbody>\n</table>\n<p>3207 rows × 2 columns</p>\n</div>"
     },
     "execution_count": 124,
     "metadata": {},
     "output_type": "execute_result"
    }
   ],
   "source": [
    "df_linis_unique[df_linis_unique['polarity']==-1]"
   ],
   "metadata": {
    "collapsed": false,
    "pycharm": {
     "name": "#%%\n"
    }
   }
  },
  {
   "cell_type": "code",
   "execution_count": 125,
   "outputs": [
    {
     "data": {
      "text/plain": "              word  polarity\n3       абортивный         0\n7       абсолютный         0\n10     абстрактный         0\n21     абсурдность         0\n29           абхаз         0\n...            ...       ...\n26748      ясность         0\n26751        ясный         0\n26754         яхта         0\n26757         яшин         0\n26760         ящик         0\n\n[5563 rows x 2 columns]",
      "text/html": "<div>\n<style scoped>\n    .dataframe tbody tr th:only-of-type {\n        vertical-align: middle;\n    }\n\n    .dataframe tbody tr th {\n        vertical-align: top;\n    }\n\n    .dataframe thead th {\n        text-align: right;\n    }\n</style>\n<table border=\"1\" class=\"dataframe\">\n  <thead>\n    <tr style=\"text-align: right;\">\n      <th></th>\n      <th>word</th>\n      <th>polarity</th>\n    </tr>\n  </thead>\n  <tbody>\n    <tr>\n      <th>3</th>\n      <td>абортивный</td>\n      <td>0</td>\n    </tr>\n    <tr>\n      <th>7</th>\n      <td>абсолютный</td>\n      <td>0</td>\n    </tr>\n    <tr>\n      <th>10</th>\n      <td>абстрактный</td>\n      <td>0</td>\n    </tr>\n    <tr>\n      <th>21</th>\n      <td>абсурдность</td>\n      <td>0</td>\n    </tr>\n    <tr>\n      <th>29</th>\n      <td>абхаз</td>\n      <td>0</td>\n    </tr>\n    <tr>\n      <th>...</th>\n      <td>...</td>\n      <td>...</td>\n    </tr>\n    <tr>\n      <th>26748</th>\n      <td>ясность</td>\n      <td>0</td>\n    </tr>\n    <tr>\n      <th>26751</th>\n      <td>ясный</td>\n      <td>0</td>\n    </tr>\n    <tr>\n      <th>26754</th>\n      <td>яхта</td>\n      <td>0</td>\n    </tr>\n    <tr>\n      <th>26757</th>\n      <td>яшин</td>\n      <td>0</td>\n    </tr>\n    <tr>\n      <th>26760</th>\n      <td>ящик</td>\n      <td>0</td>\n    </tr>\n  </tbody>\n</table>\n<p>5563 rows × 2 columns</p>\n</div>"
     },
     "execution_count": 125,
     "metadata": {},
     "output_type": "execute_result"
    }
   ],
   "source": [
    "df_linis_unique[df_linis_unique['polarity']==0]"
   ],
   "metadata": {
    "collapsed": false,
    "pycharm": {
     "name": "#%%\n"
    }
   }
  },
  {
   "cell_type": "code",
   "execution_count": 126,
   "outputs": [
    {
     "data": {
      "text/plain": "                 word  polarity\n92        австрийский         1\n106              авто         1\n125        автомобиль         1\n139      авторитаризм         1\n149         авторитет         1\n...               ...       ...\n26637  юмористический         1\n26714          япония         1\n26726           яркий         1\n26746            ярый         1\n26749         ясность         1\n\n[1484 rows x 2 columns]",
      "text/html": "<div>\n<style scoped>\n    .dataframe tbody tr th:only-of-type {\n        vertical-align: middle;\n    }\n\n    .dataframe tbody tr th {\n        vertical-align: top;\n    }\n\n    .dataframe thead th {\n        text-align: right;\n    }\n</style>\n<table border=\"1\" class=\"dataframe\">\n  <thead>\n    <tr style=\"text-align: right;\">\n      <th></th>\n      <th>word</th>\n      <th>polarity</th>\n    </tr>\n  </thead>\n  <tbody>\n    <tr>\n      <th>92</th>\n      <td>австрийский</td>\n      <td>1</td>\n    </tr>\n    <tr>\n      <th>106</th>\n      <td>авто</td>\n      <td>1</td>\n    </tr>\n    <tr>\n      <th>125</th>\n      <td>автомобиль</td>\n      <td>1</td>\n    </tr>\n    <tr>\n      <th>139</th>\n      <td>авторитаризм</td>\n      <td>1</td>\n    </tr>\n    <tr>\n      <th>149</th>\n      <td>авторитет</td>\n      <td>1</td>\n    </tr>\n    <tr>\n      <th>...</th>\n      <td>...</td>\n      <td>...</td>\n    </tr>\n    <tr>\n      <th>26637</th>\n      <td>юмористический</td>\n      <td>1</td>\n    </tr>\n    <tr>\n      <th>26714</th>\n      <td>япония</td>\n      <td>1</td>\n    </tr>\n    <tr>\n      <th>26726</th>\n      <td>яркий</td>\n      <td>1</td>\n    </tr>\n    <tr>\n      <th>26746</th>\n      <td>ярый</td>\n      <td>1</td>\n    </tr>\n    <tr>\n      <th>26749</th>\n      <td>ясность</td>\n      <td>1</td>\n    </tr>\n  </tbody>\n</table>\n<p>1484 rows × 2 columns</p>\n</div>"
     },
     "execution_count": 126,
     "metadata": {},
     "output_type": "execute_result"
    }
   ],
   "source": [
    "df_linis_unique[df_linis_unique['polarity']==1]"
   ],
   "metadata": {
    "collapsed": false,
    "pycharm": {
     "name": "#%%\n"
    }
   }
  },
  {
   "cell_type": "code",
   "execution_count": 127,
   "outputs": [
    {
     "data": {
      "text/plain": "                word  polarity\n152     авторитетный         2\n558       аристократ         2\n668      атмосферный         2\n952       башковитый         2\n1261     безупречный         2\n...              ...       ...\n26366  экспрессивный         2\n26380         экстаз         2\n26575      эталонный         2\n26577      этический         2\n26752          ясный         2\n\n[269 rows x 2 columns]",
      "text/html": "<div>\n<style scoped>\n    .dataframe tbody tr th:only-of-type {\n        vertical-align: middle;\n    }\n\n    .dataframe tbody tr th {\n        vertical-align: top;\n    }\n\n    .dataframe thead th {\n        text-align: right;\n    }\n</style>\n<table border=\"1\" class=\"dataframe\">\n  <thead>\n    <tr style=\"text-align: right;\">\n      <th></th>\n      <th>word</th>\n      <th>polarity</th>\n    </tr>\n  </thead>\n  <tbody>\n    <tr>\n      <th>152</th>\n      <td>авторитетный</td>\n      <td>2</td>\n    </tr>\n    <tr>\n      <th>558</th>\n      <td>аристократ</td>\n      <td>2</td>\n    </tr>\n    <tr>\n      <th>668</th>\n      <td>атмосферный</td>\n      <td>2</td>\n    </tr>\n    <tr>\n      <th>952</th>\n      <td>башковитый</td>\n      <td>2</td>\n    </tr>\n    <tr>\n      <th>1261</th>\n      <td>безупречный</td>\n      <td>2</td>\n    </tr>\n    <tr>\n      <th>...</th>\n      <td>...</td>\n      <td>...</td>\n    </tr>\n    <tr>\n      <th>26366</th>\n      <td>экспрессивный</td>\n      <td>2</td>\n    </tr>\n    <tr>\n      <th>26380</th>\n      <td>экстаз</td>\n      <td>2</td>\n    </tr>\n    <tr>\n      <th>26575</th>\n      <td>эталонный</td>\n      <td>2</td>\n    </tr>\n    <tr>\n      <th>26577</th>\n      <td>этический</td>\n      <td>2</td>\n    </tr>\n    <tr>\n      <th>26752</th>\n      <td>ясный</td>\n      <td>2</td>\n    </tr>\n  </tbody>\n</table>\n<p>269 rows × 2 columns</p>\n</div>"
     },
     "execution_count": 127,
     "metadata": {},
     "output_type": "execute_result"
    }
   ],
   "source": [
    "df_linis_unique[df_linis_unique['polarity']==2]"
   ],
   "metadata": {
    "collapsed": false,
    "pycharm": {
     "name": "#%%\n"
    }
   }
  },
  {
   "cell_type": "markdown",
   "source": [
    "# ProductSentiRus"
   ],
   "metadata": {
    "collapsed": false,
    "pycharm": {
     "name": "#%% md\n"
    }
   }
  },
  {
   "cell_type": "code",
   "execution_count": 98,
   "outputs": [],
   "source": [
    "df_product = pd.read_csv('/Users/katerynaburovova/PycharmProjects/dehumanization/lexicons/ProductSentiRus.csv', sep=';')"
   ],
   "metadata": {
    "collapsed": false,
    "pycharm": {
     "name": "#%%\n"
    }
   }
  },
  {
   "cell_type": "code",
   "execution_count": 99,
   "outputs": [
    {
     "data": {
      "text/plain": "                 word  polarity\n0         бесподобный     0.963\n1           невнятный     0.953\n2         отличнейший     0.935\n3          обалденный     0.933\n4             безумно     0.924\n...               ...       ...\n4995  присматриваться     0.145\n4996         крикнуть     0.145\n4997           богато     0.144\n4998        скрипучий     0.144\n4999     режиссерский     0.144\n\n[5000 rows x 2 columns]",
      "text/html": "<div>\n<style scoped>\n    .dataframe tbody tr th:only-of-type {\n        vertical-align: middle;\n    }\n\n    .dataframe tbody tr th {\n        vertical-align: top;\n    }\n\n    .dataframe thead th {\n        text-align: right;\n    }\n</style>\n<table border=\"1\" class=\"dataframe\">\n  <thead>\n    <tr style=\"text-align: right;\">\n      <th></th>\n      <th>word</th>\n      <th>polarity</th>\n    </tr>\n  </thead>\n  <tbody>\n    <tr>\n      <th>0</th>\n      <td>бесподобный</td>\n      <td>0.963</td>\n    </tr>\n    <tr>\n      <th>1</th>\n      <td>невнятный</td>\n      <td>0.953</td>\n    </tr>\n    <tr>\n      <th>2</th>\n      <td>отличнейший</td>\n      <td>0.935</td>\n    </tr>\n    <tr>\n      <th>3</th>\n      <td>обалденный</td>\n      <td>0.933</td>\n    </tr>\n    <tr>\n      <th>4</th>\n      <td>безумно</td>\n      <td>0.924</td>\n    </tr>\n    <tr>\n      <th>...</th>\n      <td>...</td>\n      <td>...</td>\n    </tr>\n    <tr>\n      <th>4995</th>\n      <td>присматриваться</td>\n      <td>0.145</td>\n    </tr>\n    <tr>\n      <th>4996</th>\n      <td>крикнуть</td>\n      <td>0.145</td>\n    </tr>\n    <tr>\n      <th>4997</th>\n      <td>богато</td>\n      <td>0.144</td>\n    </tr>\n    <tr>\n      <th>4998</th>\n      <td>скрипучий</td>\n      <td>0.144</td>\n    </tr>\n    <tr>\n      <th>4999</th>\n      <td>режиссерский</td>\n      <td>0.144</td>\n    </tr>\n  </tbody>\n</table>\n<p>5000 rows × 2 columns</p>\n</div>"
     },
     "execution_count": 99,
     "metadata": {},
     "output_type": "execute_result"
    }
   ],
   "source": [
    "df_product"
   ],
   "metadata": {
    "collapsed": false,
    "pycharm": {
     "name": "#%%\n"
    }
   }
  },
  {
   "cell_type": "code",
   "execution_count": 100,
   "outputs": [
    {
     "data": {
      "text/plain": "word         аааа\npolarity    0.144\ndtype: object"
     },
     "execution_count": 100,
     "metadata": {},
     "output_type": "execute_result"
    }
   ],
   "source": [
    "df_product.min()"
   ],
   "metadata": {
    "collapsed": false,
    "pycharm": {
     "name": "#%%\n"
    }
   }
  },
  {
   "cell_type": "code",
   "execution_count": 101,
   "outputs": [
    {
     "data": {
      "text/plain": "word        ясный\npolarity    0.963\ndtype: object"
     },
     "execution_count": 101,
     "metadata": {},
     "output_type": "execute_result"
    }
   ],
   "source": [
    "df_product.max()"
   ],
   "metadata": {
    "collapsed": false,
    "pycharm": {
     "name": "#%%\n"
    }
   }
  },
  {
   "cell_type": "code",
   "execution_count": 102,
   "outputs": [
    {
     "data": {
      "text/plain": "          polarity\ncount  5000.000000\nmean      0.300071\nstd       0.157558\nmin       0.144000\n25%       0.186000\n50%       0.244000\n75%       0.364000\nmax       0.963000",
      "text/html": "<div>\n<style scoped>\n    .dataframe tbody tr th:only-of-type {\n        vertical-align: middle;\n    }\n\n    .dataframe tbody tr th {\n        vertical-align: top;\n    }\n\n    .dataframe thead th {\n        text-align: right;\n    }\n</style>\n<table border=\"1\" class=\"dataframe\">\n  <thead>\n    <tr style=\"text-align: right;\">\n      <th></th>\n      <th>polarity</th>\n    </tr>\n  </thead>\n  <tbody>\n    <tr>\n      <th>count</th>\n      <td>5000.000000</td>\n    </tr>\n    <tr>\n      <th>mean</th>\n      <td>0.300071</td>\n    </tr>\n    <tr>\n      <th>std</th>\n      <td>0.157558</td>\n    </tr>\n    <tr>\n      <th>min</th>\n      <td>0.144000</td>\n    </tr>\n    <tr>\n      <th>25%</th>\n      <td>0.186000</td>\n    </tr>\n    <tr>\n      <th>50%</th>\n      <td>0.244000</td>\n    </tr>\n    <tr>\n      <th>75%</th>\n      <td>0.364000</td>\n    </tr>\n    <tr>\n      <th>max</th>\n      <td>0.963000</td>\n    </tr>\n  </tbody>\n</table>\n</div>"
     },
     "execution_count": 102,
     "metadata": {},
     "output_type": "execute_result"
    }
   ],
   "source": [
    "df_product.describe()"
   ],
   "metadata": {
    "collapsed": false,
    "pycharm": {
     "name": "#%%\n"
    }
   }
  },
  {
   "cell_type": "code",
   "execution_count": 103,
   "outputs": [
    {
     "data": {
      "text/plain": "                 word  polarity\n1780             меню     0.300\n1781     беспокоиться     0.300\n1782       мультяшный     0.300\n1783       переданный     0.300\n1784      миниатюрный     0.300\n...               ...       ...\n4995  присматриваться     0.145\n4996         крикнуть     0.145\n4997           богато     0.144\n4998        скрипучий     0.144\n4999     режиссерский     0.144\n\n[3220 rows x 2 columns]",
      "text/html": "<div>\n<style scoped>\n    .dataframe tbody tr th:only-of-type {\n        vertical-align: middle;\n    }\n\n    .dataframe tbody tr th {\n        vertical-align: top;\n    }\n\n    .dataframe thead th {\n        text-align: right;\n    }\n</style>\n<table border=\"1\" class=\"dataframe\">\n  <thead>\n    <tr style=\"text-align: right;\">\n      <th></th>\n      <th>word</th>\n      <th>polarity</th>\n    </tr>\n  </thead>\n  <tbody>\n    <tr>\n      <th>1780</th>\n      <td>меню</td>\n      <td>0.300</td>\n    </tr>\n    <tr>\n      <th>1781</th>\n      <td>беспокоиться</td>\n      <td>0.300</td>\n    </tr>\n    <tr>\n      <th>1782</th>\n      <td>мультяшный</td>\n      <td>0.300</td>\n    </tr>\n    <tr>\n      <th>1783</th>\n      <td>переданный</td>\n      <td>0.300</td>\n    </tr>\n    <tr>\n      <th>1784</th>\n      <td>миниатюрный</td>\n      <td>0.300</td>\n    </tr>\n    <tr>\n      <th>...</th>\n      <td>...</td>\n      <td>...</td>\n    </tr>\n    <tr>\n      <th>4995</th>\n      <td>присматриваться</td>\n      <td>0.145</td>\n    </tr>\n    <tr>\n      <th>4996</th>\n      <td>крикнуть</td>\n      <td>0.145</td>\n    </tr>\n    <tr>\n      <th>4997</th>\n      <td>богато</td>\n      <td>0.144</td>\n    </tr>\n    <tr>\n      <th>4998</th>\n      <td>скрипучий</td>\n      <td>0.144</td>\n    </tr>\n    <tr>\n      <th>4999</th>\n      <td>режиссерский</td>\n      <td>0.144</td>\n    </tr>\n  </tbody>\n</table>\n<p>3220 rows × 2 columns</p>\n</div>"
     },
     "execution_count": 103,
     "metadata": {},
     "output_type": "execute_result"
    }
   ],
   "source": [
    "df_product[df_product['polarity']<=df_product['polarity'].mean()]"
   ],
   "metadata": {
    "collapsed": false,
    "pycharm": {
     "name": "#%%\n"
    }
   }
  },
  {
   "cell_type": "markdown",
   "source": [
    "# RuSentiLex"
   ],
   "metadata": {
    "collapsed": false,
    "pycharm": {
     "name": "#%% md\n"
    }
   }
  },
  {
   "cell_type": "code",
   "execution_count": 7,
   "outputs": [],
   "source": [
    "df_RuSentiLex = pd.read_csv('/Users/katerynaburovova/PycharmProjects/dehumanization/lexicons/RuSentiLex.csv', sep=';')"
   ],
   "metadata": {
    "collapsed": false,
    "pycharm": {
     "name": "#%%\n"
    }
   }
  },
  {
   "cell_type": "code",
   "execution_count": 8,
   "outputs": [
    {
     "data": {
      "text/plain": "              word   pos        lemma sentiment   source  ambiguity rest\n0            аборт  Noun        аборт  negative     fact        NaN  NaN\n1       абортивный   Adj   абортивный  negative     fact        NaN  NaN\n2      абракадабра  Noun  абракадабра  negative  opinion        NaN  NaN\n3           абсурд  Noun       абсурд  negative  opinion        NaN  NaN\n4      абсурдность  Noun  абсурдность  negative  opinion        NaN  NaN\n...            ...   ...          ...       ...      ...        ...  ...\n16049         ярый   Adj         ярый  positive  opinion  ПРЕДАННЫЙ  NaN\n16050      ясность  Noun      ясность  positive  opinion        NaN  NaN\n16051        ясный   Adj        ясный  positive  opinion        NaN  NaN\n16052         ящур  Noun         ящур  negative     fact        NaN  NaN\n16053      ящурный   Adj      ящурный  negative     fact        NaN  NaN\n\n[16054 rows x 7 columns]",
      "text/html": "<div>\n<style scoped>\n    .dataframe tbody tr th:only-of-type {\n        vertical-align: middle;\n    }\n\n    .dataframe tbody tr th {\n        vertical-align: top;\n    }\n\n    .dataframe thead th {\n        text-align: right;\n    }\n</style>\n<table border=\"1\" class=\"dataframe\">\n  <thead>\n    <tr style=\"text-align: right;\">\n      <th></th>\n      <th>word</th>\n      <th>pos</th>\n      <th>lemma</th>\n      <th>sentiment</th>\n      <th>source</th>\n      <th>ambiguity</th>\n      <th>rest</th>\n    </tr>\n  </thead>\n  <tbody>\n    <tr>\n      <th>0</th>\n      <td>аборт</td>\n      <td>Noun</td>\n      <td>аборт</td>\n      <td>negative</td>\n      <td>fact</td>\n      <td>NaN</td>\n      <td>NaN</td>\n    </tr>\n    <tr>\n      <th>1</th>\n      <td>абортивный</td>\n      <td>Adj</td>\n      <td>абортивный</td>\n      <td>negative</td>\n      <td>fact</td>\n      <td>NaN</td>\n      <td>NaN</td>\n    </tr>\n    <tr>\n      <th>2</th>\n      <td>абракадабра</td>\n      <td>Noun</td>\n      <td>абракадабра</td>\n      <td>negative</td>\n      <td>opinion</td>\n      <td>NaN</td>\n      <td>NaN</td>\n    </tr>\n    <tr>\n      <th>3</th>\n      <td>абсурд</td>\n      <td>Noun</td>\n      <td>абсурд</td>\n      <td>negative</td>\n      <td>opinion</td>\n      <td>NaN</td>\n      <td>NaN</td>\n    </tr>\n    <tr>\n      <th>4</th>\n      <td>абсурдность</td>\n      <td>Noun</td>\n      <td>абсурдность</td>\n      <td>negative</td>\n      <td>opinion</td>\n      <td>NaN</td>\n      <td>NaN</td>\n    </tr>\n    <tr>\n      <th>...</th>\n      <td>...</td>\n      <td>...</td>\n      <td>...</td>\n      <td>...</td>\n      <td>...</td>\n      <td>...</td>\n      <td>...</td>\n    </tr>\n    <tr>\n      <th>16049</th>\n      <td>ярый</td>\n      <td>Adj</td>\n      <td>ярый</td>\n      <td>positive</td>\n      <td>opinion</td>\n      <td>ПРЕДАННЫЙ</td>\n      <td>NaN</td>\n    </tr>\n    <tr>\n      <th>16050</th>\n      <td>ясность</td>\n      <td>Noun</td>\n      <td>ясность</td>\n      <td>positive</td>\n      <td>opinion</td>\n      <td>NaN</td>\n      <td>NaN</td>\n    </tr>\n    <tr>\n      <th>16051</th>\n      <td>ясный</td>\n      <td>Adj</td>\n      <td>ясный</td>\n      <td>positive</td>\n      <td>opinion</td>\n      <td>NaN</td>\n      <td>NaN</td>\n    </tr>\n    <tr>\n      <th>16052</th>\n      <td>ящур</td>\n      <td>Noun</td>\n      <td>ящур</td>\n      <td>negative</td>\n      <td>fact</td>\n      <td>NaN</td>\n      <td>NaN</td>\n    </tr>\n    <tr>\n      <th>16053</th>\n      <td>ящурный</td>\n      <td>Adj</td>\n      <td>ящурный</td>\n      <td>negative</td>\n      <td>fact</td>\n      <td>NaN</td>\n      <td>NaN</td>\n    </tr>\n  </tbody>\n</table>\n<p>16054 rows × 7 columns</p>\n</div>"
     },
     "execution_count": 8,
     "metadata": {},
     "output_type": "execute_result"
    }
   ],
   "source": [
    "df_RuSentiLex"
   ],
   "metadata": {
    "collapsed": false,
    "pycharm": {
     "name": "#%%\n"
    }
   }
  },
  {
   "cell_type": "code",
   "execution_count": 20,
   "outputs": [
    {
     "data": {
      "text/plain": "array(['fact', 'opinion', 'fact ', 'opinion ', 'opinion  ', 'feeling',\n       'operator', 'negative', nan, 'feeling ',\n       'opinion,\"БЮРОКРАТИЗМ (ФОРМАЛИЗ,АНЦЕЛЯРЩИНА)\"', 'fact В ТЕЗ EMPTY',\n       'opinion    ', ' opinion', 'opinegativenion', ' fact', 'feeling  ',\n       'ПРЕСНАЯ ВОДА', 'fact,\"ПРЕСНАЯ ВОДА\"', 'feeeling', 'operator ',\n       'factg', 'opinon', 'fact В ТЕЗ empty',\n       'opinion                     '], dtype=object)"
     },
     "execution_count": 20,
     "metadata": {},
     "output_type": "execute_result"
    }
   ],
   "source": [
    "df_RuSentiLex.source.unique()"
   ],
   "metadata": {
    "collapsed": false,
    "pycharm": {
     "name": "#%%\n"
    }
   }
  },
  {
   "cell_type": "markdown",
   "source": [
    "Giving 0 to all facts, and 1 for feelings and opinions (lots of typos there though)"
   ],
   "metadata": {
    "collapsed": false,
    "pycharm": {
     "name": "#%% md\n"
    }
   }
  },
  {
   "cell_type": "code",
   "execution_count": 21,
   "outputs": [],
   "source": [
    "df_RuSentiLex['opinion_score'] = df_RuSentiLex['source'].apply(lambda x: 0 if 'fact' in str(x) else 1)"
   ],
   "metadata": {
    "collapsed": false,
    "pycharm": {
     "name": "#%%\n"
    }
   }
  },
  {
   "cell_type": "code",
   "execution_count": 40,
   "outputs": [],
   "source": [
    "df_RuSentiLex['negative_sentiment_score'] = df_RuSentiLex['sentiment'].apply(lambda x: 1 if 'negative' in str(x) else 0)"
   ],
   "metadata": {
    "collapsed": false,
    "pycharm": {
     "name": "#%%\n"
    }
   }
  },
  {
   "cell_type": "code",
   "execution_count": 42,
   "outputs": [],
   "source": [
    "df_RuSentiLex['negative_opinion_score'] = df_RuSentiLex['opinion_score'] + df_RuSentiLex['negative_sentiment_score']"
   ],
   "metadata": {
    "collapsed": false,
    "pycharm": {
     "name": "#%%\n"
    }
   }
  },
  {
   "cell_type": "code",
   "execution_count": 43,
   "outputs": [
    {
     "data": {
      "text/plain": "              word   pos        lemma sentiment   source  ambiguity rest  \\\n0            аборт  Noun        аборт  negative     fact        NaN  NaN   \n1       абортивный   Adj   абортивный  negative     fact        NaN  NaN   \n2      абракадабра  Noun  абракадабра  negative  opinion        NaN  NaN   \n3           абсурд  Noun       абсурд  negative  opinion        NaN  NaN   \n4      абсурдность  Noun  абсурдность  negative  opinion        NaN  NaN   \n...            ...   ...          ...       ...      ...        ...  ...   \n16049         ярый   Adj         ярый  positive  opinion  ПРЕДАННЫЙ  NaN   \n16050      ясность  Noun      ясность  positive  opinion        NaN  NaN   \n16051        ясный   Adj        ясный  positive  opinion        NaN  NaN   \n16052         ящур  Noun         ящур  negative     fact        NaN  NaN   \n16053      ящурный   Adj      ящурный  negative     fact        NaN  NaN   \n\n       opinion_score  negative_sentiment_score  negative_opinion_score  \n0                  0                         1                       1  \n1                  0                         1                       1  \n2                  1                         1                       2  \n3                  1                         1                       2  \n4                  1                         1                       2  \n...              ...                       ...                     ...  \n16049              1                         0                       1  \n16050              1                         0                       1  \n16051              1                         0                       1  \n16052              0                         1                       1  \n16053              0                         1                       1  \n\n[16054 rows x 10 columns]",
      "text/html": "<div>\n<style scoped>\n    .dataframe tbody tr th:only-of-type {\n        vertical-align: middle;\n    }\n\n    .dataframe tbody tr th {\n        vertical-align: top;\n    }\n\n    .dataframe thead th {\n        text-align: right;\n    }\n</style>\n<table border=\"1\" class=\"dataframe\">\n  <thead>\n    <tr style=\"text-align: right;\">\n      <th></th>\n      <th>word</th>\n      <th>pos</th>\n      <th>lemma</th>\n      <th>sentiment</th>\n      <th>source</th>\n      <th>ambiguity</th>\n      <th>rest</th>\n      <th>opinion_score</th>\n      <th>negative_sentiment_score</th>\n      <th>negative_opinion_score</th>\n    </tr>\n  </thead>\n  <tbody>\n    <tr>\n      <th>0</th>\n      <td>аборт</td>\n      <td>Noun</td>\n      <td>аборт</td>\n      <td>negative</td>\n      <td>fact</td>\n      <td>NaN</td>\n      <td>NaN</td>\n      <td>0</td>\n      <td>1</td>\n      <td>1</td>\n    </tr>\n    <tr>\n      <th>1</th>\n      <td>абортивный</td>\n      <td>Adj</td>\n      <td>абортивный</td>\n      <td>negative</td>\n      <td>fact</td>\n      <td>NaN</td>\n      <td>NaN</td>\n      <td>0</td>\n      <td>1</td>\n      <td>1</td>\n    </tr>\n    <tr>\n      <th>2</th>\n      <td>абракадабра</td>\n      <td>Noun</td>\n      <td>абракадабра</td>\n      <td>negative</td>\n      <td>opinion</td>\n      <td>NaN</td>\n      <td>NaN</td>\n      <td>1</td>\n      <td>1</td>\n      <td>2</td>\n    </tr>\n    <tr>\n      <th>3</th>\n      <td>абсурд</td>\n      <td>Noun</td>\n      <td>абсурд</td>\n      <td>negative</td>\n      <td>opinion</td>\n      <td>NaN</td>\n      <td>NaN</td>\n      <td>1</td>\n      <td>1</td>\n      <td>2</td>\n    </tr>\n    <tr>\n      <th>4</th>\n      <td>абсурдность</td>\n      <td>Noun</td>\n      <td>абсурдность</td>\n      <td>negative</td>\n      <td>opinion</td>\n      <td>NaN</td>\n      <td>NaN</td>\n      <td>1</td>\n      <td>1</td>\n      <td>2</td>\n    </tr>\n    <tr>\n      <th>...</th>\n      <td>...</td>\n      <td>...</td>\n      <td>...</td>\n      <td>...</td>\n      <td>...</td>\n      <td>...</td>\n      <td>...</td>\n      <td>...</td>\n      <td>...</td>\n      <td>...</td>\n    </tr>\n    <tr>\n      <th>16049</th>\n      <td>ярый</td>\n      <td>Adj</td>\n      <td>ярый</td>\n      <td>positive</td>\n      <td>opinion</td>\n      <td>ПРЕДАННЫЙ</td>\n      <td>NaN</td>\n      <td>1</td>\n      <td>0</td>\n      <td>1</td>\n    </tr>\n    <tr>\n      <th>16050</th>\n      <td>ясность</td>\n      <td>Noun</td>\n      <td>ясность</td>\n      <td>positive</td>\n      <td>opinion</td>\n      <td>NaN</td>\n      <td>NaN</td>\n      <td>1</td>\n      <td>0</td>\n      <td>1</td>\n    </tr>\n    <tr>\n      <th>16051</th>\n      <td>ясный</td>\n      <td>Adj</td>\n      <td>ясный</td>\n      <td>positive</td>\n      <td>opinion</td>\n      <td>NaN</td>\n      <td>NaN</td>\n      <td>1</td>\n      <td>0</td>\n      <td>1</td>\n    </tr>\n    <tr>\n      <th>16052</th>\n      <td>ящур</td>\n      <td>Noun</td>\n      <td>ящур</td>\n      <td>negative</td>\n      <td>fact</td>\n      <td>NaN</td>\n      <td>NaN</td>\n      <td>0</td>\n      <td>1</td>\n      <td>1</td>\n    </tr>\n    <tr>\n      <th>16053</th>\n      <td>ящурный</td>\n      <td>Adj</td>\n      <td>ящурный</td>\n      <td>negative</td>\n      <td>fact</td>\n      <td>NaN</td>\n      <td>NaN</td>\n      <td>0</td>\n      <td>1</td>\n      <td>1</td>\n    </tr>\n  </tbody>\n</table>\n<p>16054 rows × 10 columns</p>\n</div>"
     },
     "execution_count": 43,
     "metadata": {},
     "output_type": "execute_result"
    }
   ],
   "source": [
    "df_RuSentiLex"
   ],
   "metadata": {
    "collapsed": false,
    "pycharm": {
     "name": "#%%\n"
    }
   }
  },
  {
   "cell_type": "markdown",
   "source": [
    "# Multilingual connotation frames"
   ],
   "metadata": {
    "collapsed": false,
    "pycharm": {
     "name": "#%% md\n"
    }
   }
  },
  {
   "cell_type": "code",
   "execution_count": 147,
   "outputs": [],
   "source": [
    "with open('/Users/katerynaburovova/PycharmProjects/dehumanization/lexicons/MCF/multilingual/multilingual_alignments/ru/ru_dict.txt', 'r') as file:\n",
    "    data = file.readlines()"
   ],
   "metadata": {
    "collapsed": false,
    "pycharm": {
     "name": "#%%\n"
    }
   }
  },
  {
   "cell_type": "code",
   "execution_count": 148,
   "outputs": [],
   "source": [
    "clean_data = []\n",
    "for line in data:\n",
    "    line = line.strip()\n",
    "    values = line.split('\\t')\n",
    "    clean_data.append(values)"
   ],
   "metadata": {
    "collapsed": false,
    "pycharm": {
     "name": "#%%\n"
    }
   }
  },
  {
   "cell_type": "code",
   "execution_count": 149,
   "outputs": [
    {
     "data": {
      "text/plain": "[['ЭОД',\n  'authorize,0.10',\n  'head,0.10',\n  'finish,0.10',\n  'tap,0.05',\n  'show,0.14',\n  'process,0.05',\n  'transfer,0.10',\n  'make,0.14',\n  'reiterate,0.05',\n  'place,0.05',\n  'take,0.05',\n  'possess,0.05'],\n ['Лихтенштейном',\n  'desire,0.04',\n  'exceed,0.04',\n  'motivate,0.04',\n  'relate,0.04',\n  'support,0.07',\n  'originate,0.04',\n  'list,0.07',\n  'focus,0.04',\n  'see,0.07',\n  'intercept,0.04',\n  'choose,0.04',\n  'have,0.37',\n  'report,0.07',\n  'approach,0.04'],\n ['огромного',\n  'major,0.07',\n  'drop,0.01',\n  'stream,0.02',\n  'supply,0.01',\n  'overwhelm,0.16',\n  'render,0.02',\n  'exceed,0.01',\n  'impair,0.01',\n  'fashion,0.01',\n  'fail,0.01',\n  'putt,0.01',\n  'rely,0.01',\n  'accomplish,0.01',\n  'group,0.01',\n  'deal,0.11',\n  'support,0.01',\n  'amount,0.09',\n  'mark,0.01',\n  'flood,0.01',\n  'score,0.02',\n  'astonish,0.01',\n  'override,0.02',\n  'daunt,0.01',\n  'document,0.01',\n  'return,0.01',\n  'bear,0.01',\n  'water,0.01',\n  'explore,0.01',\n  'capitalize,0.01',\n  'expand,0.01',\n  'loom,0.01',\n  'exaggerate,0.01',\n  'gather,0.01',\n  'host,0.05',\n  'surge,0.01',\n  'stagger,0.03',\n  'mass,0.03',\n  'mature,0.01',\n  'toil,0.01',\n  'reserve,0.01'],\n ['нейтронному',\n  'harden,0.20',\n  'withstand,0.20',\n  'number,0.20',\n  'have,0.20',\n  'generate,0.20'],\n ['МПКГП',\n  'group,0.14',\n  'form,0.14',\n  'extend,0.14',\n  'relate,0.14',\n  'step,0.14',\n  'include,0.29'],\n ['пресс-релизу',\n  'appear,0.04',\n  'perform,0.02',\n  'release,0.47',\n  'expect,0.02',\n  'press,0.43',\n  'further,0.02'],\n ['отсутствие', 'lack,0.91', 'be,0.05'],\n ['авторитеты',\n  'try,0.20',\n  'voice,0.20',\n  'mind,0.20',\n  'weight,0.20',\n  'shake,0.20'],\n ['вакцинаций',\n  'be,0.05',\n  'upgrade,0.05',\n  'vaccinate,0.05',\n  'supply,0.05',\n  'reimburse,0.05',\n  'give,0.05',\n  'cover,0.05',\n  'administer,0.11',\n  'record,0.05',\n  'reason,0.05',\n  'survey,0.05',\n  'address,0.11',\n  'need,0.05',\n  'hold,0.05',\n  'issue,0.11',\n  'engineer,0.05'],\n ['отсутствии',\n  'be,0.41',\n  'lack,0.46',\n  'exist,0.02',\n  'fail,0.02',\n  'do,0.03',\n  'have,0.03'],\n ['пресс-релизы', 'release,0.54', 'press,0.44'],\n ['авторитету',\n  'inspire,0.02',\n  'weight,0.02',\n  'contribute,0.02',\n  'influence,0.02',\n  'cost,0.02',\n  'expect,0.02',\n  'need,0.02',\n  'respect,0.02',\n  'weaken,0.04',\n  'derive,0.02',\n  'monitor,0.02',\n  'credit,0.07',\n  'avoid,0.04',\n  'absorb,0.02',\n  'spare,0.02',\n  'throw,0.02',\n  'execute,0.04',\n  'challenge,0.02',\n  'keep,0.02',\n  'record,0.02',\n  'stand,0.40',\n  'disregard,0.02',\n  'demonstrate,0.02'],\n ['т.е.ровно', 'perform,0.25', 'recognize,0.25', 'require,0.25', 'be,0.25'],\n ['Ар-Рашид',\n  'do,0.25',\n  'state,0.25',\n  'repatriate,0.12',\n  'contract,0.12',\n  'involve,0.12',\n  'range,0.12'],\n ['фирменную',\n  'develop,0.08',\n  'brand,0.62',\n  'export,0.15',\n  'name,0.08',\n  'hope,0.08'],\n ['схвачен',\n  'capture,0.42',\n  'injure,0.03',\n  'make,0.03',\n  'seize,0.03',\n  'constitute,0.03',\n  'arrest,0.03',\n  'imply,0.03',\n  'identify,0.03',\n  'take,0.15',\n  'have,0.03',\n  'catch,0.06',\n  'further,0.03',\n  'establish,0.03',\n  'encounter,0.03'],\n ['5984', 'be,0.50', 'eliminate,0.25', 'schedule,0.25'],\n ['судного', 'put,0.22', 'be,0.44', 'result,0.11', 'have,0.11', 'enter,0.11'],\n ['caned', 'cane,1.00'],\n ['Упсальского',\n  'end,0.10',\n  'monitor,0.10',\n  'pressure,0.10',\n  'maintain,0.10',\n  'stand,0.10',\n  'highlight,0.10',\n  'order,0.10',\n  'hope,0.10'],\n ['попеременной',\n  'involve,0.33',\n  'need,0.17',\n  'alternate,0.17',\n  'piece,0.17',\n  'repair,0.17'],\n ['соединяемости', 'meet,0.20', 'create,0.20', 'reduce,0.20', 'demand,0.20'],\n ['отмечая', 'recognize,0.01', 'acknowledge,0.02', 'note,0.90', 'take,0.02'],\n ['отмечаю',\n  'commend,0.02',\n  'see,0.03',\n  'acknowledge,0.02',\n  'note,0.48',\n  'encourage,0.01',\n  'take,0.02',\n  'be,0.22',\n  'welcome,0.06',\n  'report,0.02',\n  'say,0.03'],\n ['Структуризацией',\n  'strengthen,0.20',\n  'implement,0.20',\n  'work,0.20',\n  'group,0.20',\n  'plan,0.20'],\n ['Создавать',\n  'include,0.20',\n  'create,0.20',\n  'set,0.20',\n  'take,0.20',\n  'form,0.20'],\n ['корзины',\n  'shop,0.07',\n  'consider,0.03',\n  'share,0.03',\n  'constitute,0.03',\n  'have,0.03',\n  'need,0.03',\n  'modernize,0.03',\n  'scale,0.03',\n  'raise,0.03',\n  'establish,0.10',\n  'make,0.10',\n  'commission,0.03',\n  'include,0.10',\n  'regard,0.07',\n  'ration,0.03',\n  'fund,0.03',\n  'pool,0.03',\n  'purchase,0.03',\n  'target,0.03',\n  'package,0.03',\n  'continue,0.03',\n  'can,0.03'],\n ['Y17', 'result,0.82', 'compound,0.18'],\n ['австралийскую',\n  'begin,0.17',\n  'house,0.17',\n  'accord,0.17',\n  'live,0.17',\n  'continue,0.17',\n  'ask,0.17'],\n ['сестре',\n  'do,0.14',\n  'join,0.14',\n  'consist,0.14',\n  'house,0.14',\n  'nurse,0.29',\n  'mean,0.14'],\n ['receiving', 'receive,1.00'],\n ['вежливости',\n  'deny,0.03',\n  'play,0.20',\n  'court,0.03',\n  'like,0.03',\n  'extend,0.03',\n  'inform,0.03',\n  'search,0.05',\n  'seek,0.03',\n  'accord,0.07',\n  'send,0.03',\n  'matter,0.07',\n  'call,0.15',\n  'value,0.03',\n  'limit,0.03',\n  'come,0.20',\n  'emphasize,0.03'],\n ['сестра',\n  'be,0.02',\n  'enable,0.02',\n  'travel,0.02',\n  'attach,0.02',\n  'qualify,0.22',\n  'settle,0.02',\n  'fulfill,0.04',\n  'nurse,0.60',\n  'weave,0.02'],\n ['ПП3', 'record,0.60', 'seed,0.40'],\n ['кувейтскому',\n  'putt,0.06',\n  'incorporate,0.06',\n  'complete,0.06',\n  'become,0.06',\n  'process,0.06',\n  'make,0.06',\n  'award,0.44',\n  'permit,0.06',\n  'aid,0.06',\n  'agree,0.06'],\n ['антикубинской',\n  'protect,0.08',\n  'engage,0.15',\n  'support,0.08',\n  'defeat,0.08',\n  'testify,0.08',\n  'reflect,0.08',\n  'call,0.08',\n  'know,0.08',\n  'overthrow,0.08',\n  'further,0.08',\n  'smuggle,0.08',\n  'refer,0.08'],\n ['противопоставление',\n  'bridge,0.03',\n  'divide,0.03',\n  'give,0.03',\n  'contribute,0.03',\n  'mind,0.03',\n  'arouse,0.05',\n  'need,0.03',\n  'pit,0.05',\n  'portray,0.05',\n  'group,0.03',\n  'create,0.03',\n  'build,0.03',\n  'compete,0.03',\n  'contrast,0.13',\n  'be,0.03',\n  'share,0.03',\n  'bear,0.03',\n  'undermine,0.03',\n  'reverse,0.05',\n  'confront,0.05',\n  'oppose,0.21',\n  'time,0.03',\n  'think,0.03'],\n ['даль-нейшую',\n  'reach,0.12',\n  'continue,0.12',\n  'can,0.12',\n  'further,0.38',\n  'order,0.12'],\n ['противопоставлении',\n  'differ,0.09',\n  'set,0.15',\n  'proceed,0.12',\n  'provide,0.03',\n  'perceive,0.03',\n  'oppose,0.24',\n  'contrast,0.21',\n  'care,0.12'],\n ['ремесла',\n  'claim,0.01',\n  'work,0.01',\n  'exert,0.01',\n  'provide,0.01',\n  'quote,0.01',\n  'level,0.02',\n  'contract,0.01',\n  'trade,0.29',\n  'amount,0.01',\n  'craft,0.50',\n  'oppose,0.01',\n  'can,0.01',\n  'allow,0.01',\n  'act,0.01',\n  'ask,0.02',\n  'commit,0.01',\n  'teach,0.01',\n  'assign,0.01'],\n ['складскому', 'create,0.14', 'assist,0.14', 'store,0.43', 'supervise,0.14'],\n ['ремесло',\n  'manufacture,0.08',\n  'used,0.08',\n  'make,0.08',\n  'work,0.08',\n  'trade,0.23',\n  'bring,0.08',\n  'craft,0.08',\n  'link,0.08',\n  'have,0.08',\n  'measure,0.08',\n  'grow,0.08'],\n ['осуждающих',\n  'measure,0.01',\n  'mind,0.02',\n  'focus,0.01',\n  'bring,0.01',\n  'design,0.01',\n  'have,0.01',\n  'pass,0.01',\n  'happen,0.01',\n  'allege,0.01',\n  'condemn,0.64',\n  'adhere,0.01',\n  'decry,0.01',\n  'reject,0.03',\n  'deplore,0.01',\n  'be,0.01',\n  'express,0.01',\n  'denounce,0.10',\n  'observe,0.01',\n  'judge,0.01',\n  'come,0.02',\n  'target,0.01',\n  'continue,0.01',\n  'stimulate,0.01'],\n ['отсутствий',\n  'leave,0.20',\n  'note,0.20',\n  'lack,0.20',\n  'comprise,0.20',\n  'level,0.20'],\n ['вакцинации',\n  'compare,0.01',\n  'campaign,0.07',\n  'give,0.03',\n  'strengthen,0.02',\n  'reduce,0.01',\n  'administer,0.01',\n  'rate,0.15',\n  'measure,0.03',\n  'develop,0.01',\n  'supply,0.01',\n  'run,0.02',\n  'vaccinate,0.26',\n  'deliver,0.02',\n  'plan,0.01',\n  'immunize,0.04',\n  'target,0.01',\n  'cover,0.05',\n  'project,0.01',\n  'continue,0.01',\n  'time,0.01',\n  'round,0.04'],\n ['землевладельцев',\n  'claim,0.07',\n  'major,0.01',\n  'own,0.01',\n  'force,0.01',\n  'show,0.01',\n  'recognize,0.01',\n  'focus,0.01',\n  'organize,0.01',\n  'result,0.01',\n  'fail,0.01',\n  'allege,0.03',\n  'represent,0.01',\n  'submit,0.03',\n  'tie,0.01',\n  'function,0.01',\n  'murder,0.03',\n  'return,0.03',\n  'farm,0.04',\n  'act,0.01',\n  'train,0.01',\n  'know,0.01',\n  'demand,0.01',\n  'affect,0.04',\n  'comply,0.01',\n  'deny,0.01',\n  'land,0.40',\n  'preclude,0.01',\n  'impose,0.01',\n  'mass,0.01',\n  'enter,0.01',\n  'found,0.03'],\n ['световым',\n  'function,0.09',\n  'be,0.01',\n  'illuminate,0.09',\n  'light,0.58',\n  'flash,0.01',\n  'cross,0.01',\n  'mark,0.01',\n  'warn,0.09',\n  'mean,0.09'],\n ['подведомственны',\n  'be,0.33',\n  'organize,0.07',\n  'run,0.02',\n  'undertake,0.02',\n  'oversee,0.02',\n  'serve,0.02',\n  'manage,0.02',\n  'cover,0.05',\n  'owe,0.02',\n  'initiate,0.05',\n  'qualify,0.02',\n  'have,0.19',\n  'fall,0.07',\n  'come,0.05',\n  'subject,0.05'],\n ['страна-организатор',\n  'compensate,0.20',\n  'commit,0.20',\n  'host,0.40',\n  'organize,0.20'],\n ['световые',\n  'be,0.07',\n  'turn,0.02',\n  'operate,0.02',\n  'light,0.62',\n  'correct,0.06',\n  'beam,0.02',\n  'adjust,0.02',\n  'pass,0.02',\n  'position,0.04',\n  'indicate,0.02',\n  'can,0.06'],\n ['видовыми', 'predict,0.14', 'route,0.14', 'damage,0.29', 'estimate,0.14'],\n ['удвоится31', 'double,0.20', 'accord,0.20', 'cause,0.20', 'have,0.40'],\n ['реинвестированных',\n  'reform,0.17',\n  'exist,0.17',\n  'conduct,0.17',\n  'report,0.17',\n  'streamline,0.17',\n  'improve,0.17'],\n ['нынешнего', 'exist,0.10', 'present,0.86', 'last,0.03'],\n ['стариках',\n  'be,0.21',\n  'protect,0.14',\n  'mount,0.07',\n  'walk,0.07',\n  'age,0.07',\n  'continue,0.07',\n  'decrease,0.07',\n  'lose,0.07',\n  'aid,0.14',\n  'grow,0.07'],\n ['порнографию',\n  'used,0.07',\n  'punish,0.07',\n  'age,0.14',\n  'welcome,0.07',\n  'shape,0.07',\n  'remain,0.14',\n  'limit,0.07',\n  'accuse,0.07',\n  'report,0.07',\n  'define,0.07',\n  'refer,0.14'],\n ['выдвинутыми',\n  'set,0.03',\n  'bring,0.08',\n  'make,0.13',\n  'attach,0.04',\n  'forward,0.16',\n  'file,0.04',\n  'propose,0.03',\n  'put,0.19',\n  'advance,0.05',\n  'initiate,0.03'],\n ['двадцатую',\n  'research,0.09',\n  'commemorate,0.09',\n  'ask,0.09',\n  'mark,0.09',\n  'celebrate,0.45',\n  'speak,0.09'],\n ['погоде',\n  'develop,0.03',\n  'continue,0.03',\n  'serve,0.02',\n  'simplify,0.02',\n  'encourage,0.05',\n  'weather,0.72',\n  'exist,0.02',\n  'decide,0.02',\n  'report,0.03',\n  'identify,0.02',\n  'array,0.02',\n  'channel,0.02'],\n ['срыв',\n  'obstruct,0.03',\n  'prevent,0.02',\n  'thwart,0.03',\n  'process,0.02',\n  'abort,0.03',\n  'fail,0.02',\n  'overwhelm,0.02',\n  'collapse,0.08',\n  'frustrate,0.05',\n  'scuttle,0.02',\n  'undermine,0.09',\n  'derail,0.08',\n  'sabotage,0.03',\n  'impose,0.03',\n  'defeat,0.05',\n  'disrupt,0.16'],\n ['погода', 'decimate,0.01', 'weather,0.99'],\n ['студенты',\n  'feed,0.03',\n  'major,0.03',\n  'give,0.03',\n  'commute,0.06',\n  'follow,0.03',\n  'research,0.03',\n  'establish,0.14',\n  'differ,0.03',\n  'recover,0.03',\n  'tend,0.03',\n  'doubt,0.03',\n  'build,0.03',\n  'include,0.09',\n  'qualify,0.06',\n  'concentrate,0.03',\n  'come,0.03',\n  'engage,0.06',\n  'study,0.14',\n  'experience,0.03',\n  'credit,0.03',\n  'team,0.03',\n  'become,0.03'],\n ['студенту',\n  'convert,0.12',\n  'acquire,0.12',\n  'surge,0.12',\n  'plan,0.12',\n  'arrange,0.12',\n  'present,0.25',\n  'concern,0.12'],\n ['измельчить', 'chop,0.12', 'grind,0.88'],\n ['Cоглашения',\n  'force,0.08',\n  'extend,0.08',\n  'propose,0.08',\n  'make,0.08',\n  'welcome,0.08',\n  'pressure,0.08',\n  'produce,0.08',\n  'draft,0.08',\n  'build,0.08',\n  'undertake,0.08',\n  'model,0.08'],\n ['рыбоохрана',\n  'receive,0.17',\n  'be,0.17',\n  'preserve,0.17',\n  'finance,0.17',\n  'have,0.33'],\n ['выкорчевывать',\n  'plant,0.06',\n  'produce,0.06',\n  'address,0.06',\n  'go,0.06',\n  'uproot,0.65',\n  'eradicate,0.06'],\n ['Федерации',\n  'control,0.02',\n  'apprehend,0.02',\n  'undertake,0.02',\n  'seal,0.05',\n  'carry,0.02',\n  'follow,0.02',\n  'regulate,0.02',\n  'perfect,0.02',\n  'divorce,0.02',\n  'create,0.02',\n  'live,0.05',\n  'strengthen,0.02',\n  'state,0.07',\n  'station,0.09',\n  'fuel,0.02',\n  'appeal,0.02',\n  'approach,0.02',\n  'run,0.02',\n  'attend,0.02',\n  'read,0.02',\n  'propose,0.02',\n  'serve,0.05',\n  'train,0.05',\n  'improve,0.02',\n  'engage,0.05',\n  'issue,0.02',\n  'study,0.02',\n  'contract,0.02',\n  'compete,0.02',\n  'meet,0.02',\n  'approve,0.02',\n  'enforce,0.02',\n  'block,0.02'],\n ['кучах', 'be,0.40', 'spread,0.20', 'cover,0.20', 'incorporate,0.20'],\n ['деликтной', 'return,0.20', 'establish,0.40', 'subject,0.20'],\n ['навигацию', 'increase,0.12', 'navigate,0.50', 'sail,0.25', 'enter,0.12'],\n ['навигация',\n  'locate,0.08',\n  'navigate,0.08',\n  'contribute,0.08',\n  'research,0.08',\n  'fuel,0.17',\n  'need,0.08',\n  'concentrate,0.08',\n  'meet,0.08',\n  'report,0.08',\n  'position,0.17'],\n ['Parameters',\n  'enjoy,0.14',\n  'require,0.14',\n  'reduce,0.14',\n  'spread,0.14',\n  'state,0.14',\n  'train,0.14',\n  'emphasize,0.14'],\n ['образовавшаяся',\n  'exchange,0.04',\n  'create,0.07',\n  'give,0.04',\n  'reach,0.04',\n  'charge,0.04',\n  'impede,0.04',\n  'result,0.26',\n  'have,0.11',\n  'arise,0.07',\n  'accumulate,0.04',\n  'position,0.04',\n  'balance,0.07',\n  'establish,0.07',\n  'generate,0.04',\n  'build,0.04'],\n ['рисуя',\n  'depict,0.14',\n  'paint,0.29',\n  'tarnish,0.14',\n  'provide,0.14',\n  'have,0.14',\n  'pack,0.14'],\n ['неоговоренную', 'down,0.17', 'make,0.17', 'force,0.50', 'time,0.17'],\n ['киду',\n  'be,0.25',\n  'secure,0.12',\n  'give,0.12',\n  'grant,0.25',\n  'benefit,0.12',\n  'take,0.12'],\n ['которого',\n  'involve,0.03',\n  'bring,0.04',\n  'have,0.25',\n  'aim,0.01',\n  'lead,0.02',\n  'provide,0.04',\n  'question,0.01',\n  'be,0.37',\n  'enable,0.02',\n  'consist,0.02',\n  'project,0.04',\n  'can,0.01',\n  'order,0.04'],\n ['Нидерландская',\n  'name,0.14',\n  'propose,0.14',\n  'assist,0.14',\n  'encourage,0.14',\n  'train,0.14',\n  'announce,0.14',\n  'establish,0.14'],\n ['разрешению7',\n  'be,0.17',\n  'resolve,0.17',\n  'make,0.17',\n  'manage,0.17',\n  'keep,0.17'],\n ['Административно-бюджетному', 'communicate,1.00'],\n ['избавившись',\n  'do,0.20',\n  'receive,0.10',\n  'free,0.10',\n  'purge,0.10',\n  'cast,0.10',\n  'adapt,0.10',\n  'shake,0.10',\n  'rid,0.10'],\n ['мичезо', 'strengthen,0.17', 'attempt,0.33', 'seek,0.33', 'introduce,0.17'],\n ['243,9',\n  'be,0.14',\n  'figure,0.14',\n  'provide,0.14',\n  'reflect,0.29',\n  'amount,0.14',\n  'have,0.14'],\n ['неспровоцированные',\n  'urge,0.22',\n  'perform,0.11',\n  'date,0.11',\n  'meet,0.11',\n  'ask,0.11',\n  'reply,0.11',\n  'respect,0.11',\n  'assign,0.11'],\n ['регуляризован', 'need,0.50', 'share,0.50'],\n ['Майард', 'be,1.00'],\n ['переехавших',\n  'rise,0.05',\n  'group,0.05',\n  'migrate,0.14',\n  'suggest,0.05',\n  'move,0.27',\n  'question,0.05',\n  'list,0.05',\n  'remain,0.05',\n  'have,0.14',\n  'issue,0.05',\n  'affect,0.05',\n  'include,0.05',\n  'come,0.05'],\n ['стационарному',\n  'complete,0.09',\n  'level,0.18',\n  'fix,0.18',\n  'bring,0.09',\n  'station,0.09',\n  'nurse,0.18',\n  'achieve,0.18'],\n ['Таза',\n  'ignite,0.17',\n  'attack,0.17',\n  'bomb,0.33',\n  'spark,0.17',\n  'concern,0.17'],\n ['Казыханов', 'order,0.11', 'form,0.11', 'speak,0.67'],\n ['противоугонное',\n  'position,0.14',\n  'require,0.29',\n  'reach,0.29',\n  'design,0.14',\n  'lock,0.14'],\n ['секатора', 'harvest,0.50', 'mean,0.50'],\n ['административными',\n  'claim,0.03',\n  'major,0.06',\n  'set,0.03',\n  'relate,0.06',\n  'manage,0.03',\n  'number,0.06',\n  'administer,0.08',\n  'cost,0.03',\n  'exist,0.03',\n  'confirm,0.03',\n  'review,0.06',\n  'confine,0.03',\n  'practice,0.06',\n  'free,0.03',\n  'reflect,0.03',\n  'impede,0.03',\n  'govern,0.06',\n  'change,0.03',\n  'engage,0.03',\n  'outline,0.03',\n  'correspond,0.03',\n  'contract,0.03',\n  'survey,0.03',\n  'time,0.06',\n  'argue,0.03',\n  'eradicate,0.03'],\n ['наркобаронов',\n  'don,0.11',\n  'extradite,0.11',\n  'describe,0.11',\n  'reign,0.11',\n  'time,0.11',\n  'conduct,0.11',\n  'go,0.11',\n  'convict,0.11',\n  'concern,0.11'],\n ['противоугонной', 'manufacture,0.40', 'fulfill,0.40', 'set,0.20'],\n ['закрылись',\n  'be,0.07',\n  'shut,0.06',\n  'safeguard,0.02',\n  'down,0.13',\n  'have,0.26',\n  'close,0.35',\n  'total,0.02'],\n ['высказывании',\n  'note,0.04',\n  'word,0.16',\n  'give,0.04',\n  'make,0.44',\n  'express,0.08',\n  'aim,0.04',\n  'imply,0.04',\n  'have,0.04',\n  'vote,0.04',\n  'voice,0.04',\n  'talk,0.04'],\n ['высказываний',\n  'comment,0.11',\n  'point,0.01',\n  'say,0.03',\n  'hate,0.01',\n  'make,0.11',\n  'be,0.01',\n  'used,0.04',\n  'do,0.01',\n  'express,0.03',\n  'base,0.01',\n  'remark,0.26',\n  'word,0.09',\n  'receive,0.04',\n  'voice,0.03',\n  'view,0.03'],\n ['приговорами',\n  'deprive,0.01',\n  'term,0.01',\n  'claim,0.01',\n  'give,0.01',\n  'lead,0.03',\n  'sentence,0.53',\n  'receive,0.02',\n  'pronounce,0.02',\n  'impose,0.06',\n  'deliver,0.01',\n  'transform,0.02',\n  'rank,0.01',\n  'hand,0.04',\n  'down,0.02',\n  'commute,0.02',\n  'combine,0.01',\n  'tie,0.01',\n  'underlie,0.01',\n  'become,0.01',\n  'agree,0.12'],\n ['Будучи',\n  'stress,0.08',\n  'create,0.08',\n  'free,0.08',\n  'adhere,0.08',\n  'have,0.08',\n  'fall,0.42',\n  'need,0.08',\n  'realize,0.08'],\n ['высказывание',\n  'comment,0.10',\n  'say,0.12',\n  'have,0.05',\n  'make,0.09',\n  'state,0.02',\n  'take,0.02',\n  'be,0.02',\n  'offer,0.02',\n  'quote,0.09',\n  'express,0.12',\n  'word,0.05',\n  'remark,0.07',\n  'rule,0.02',\n  'air,0.02',\n  'claim,0.02',\n  'think,0.02'],\n ['Тунисская',\n  'represent,0.10',\n  'violate,0.10',\n  'schedule,0.10',\n  'intervene,0.10',\n  'question,0.10',\n  'submit,0.10',\n  'note,0.10',\n  'concern,0.10',\n  'mean,0.10'],\n ['уведомление',\n  'give,0.02',\n  'notify,0.12',\n  'note,0.01',\n  'notice,0.76',\n  'report,0.02',\n  'inform,0.01'],\n ['пятидесятилетие',\n  'commemorate,0.11',\n  'place,0.22',\n  'take,0.33',\n  'celebrate,0.22',\n  'mark,0.11'],\n ['банкротом',\n  'help,0.03',\n  'form,0.03',\n  'fail,0.03',\n  'render,0.18',\n  'place,0.03',\n  'file,0.06',\n  'act,0.24',\n  'go,0.15',\n  'commit,0.24',\n  'complete,0.03'],\n ['уведомлении', 'notify,0.09', 'subject,0.12', 'notice,0.68', 'report,0.02'],\n ['уведомлений',\n  'notify,0.06',\n  'issue,0.01',\n  'notice,0.77',\n  'alert,0.02',\n  'report,0.03'],\n ['Научного',\n  'detect,0.02',\n  'study,0.02',\n  'value,0.02',\n  'fund,0.02',\n  'produce,0.02',\n  'affect,0.02',\n  'conduct,0.70',\n  'report,0.07',\n  'respect,0.04',\n  'hamper,0.02',\n  'hope,0.02',\n  'view,0.02'],\n ['выгоднее',\n  'deal,0.02',\n  'reduce,0.02',\n  'cost,0.02',\n  'result,0.02',\n  'have,0.07',\n  'lie,0.02',\n  'derive,0.02',\n  'lead,0.02',\n  'make,0.05',\n  'remain,0.02',\n  'accelerate,0.02',\n  'locate,0.05',\n  'be,0.15',\n  'hand,0.02',\n  'break,0.02',\n  'fund,0.02',\n  'benefit,0.07',\n  'hire,0.02',\n  'reward,0.02',\n  'double,0.02',\n  'intervene,0.02',\n  'cover,0.02',\n  'near,0.05',\n  'meet,0.02',\n  'voice,0.05',\n  'avoid,0.02',\n  'gain,0.02'],\n ['подготовившие',\n  'be,0.30',\n  'draw,0.01',\n  'prepare,0.13',\n  'deliver,0.27',\n  'request,0.18',\n  'suppose,0.01',\n  'have,0.07',\n  'speak,0.03'],\n ['загружено',\n  'load,0.44',\n  'develop,0.06',\n  'fit,0.03',\n  'reach,0.09',\n  'reside,0.03',\n  'contact,0.06',\n  'submit,0.03',\n  'time,0.06',\n  'test,0.03',\n  'achieve,0.06',\n  'mean,0.03'],\n ['подготовившим',\n  'be,0.09',\n  'prepare,0.16',\n  'originate,0.02',\n  'deliver,0.62',\n  'issue,0.02',\n  'speak,0.09'],\n ['загружена',\n  'load,0.35',\n  'be,0.12',\n  'court,0.06',\n  'stretch,0.06',\n  'transfer,0.12',\n  'visit,0.06',\n  'keep,0.06',\n  'occupy,0.06',\n  'enter,0.06',\n  'occur,0.06'],\n ['нищие',\n  'count,0.10',\n  'receive,0.10',\n  'live,0.10',\n  'experience,0.10',\n  'benefit,0.10',\n  'cease,0.10',\n  'reject,0.10',\n  'qualify,0.10',\n  'line,0.10',\n  'churn,0.10'],\n ['зал',\n  'rush,0.04',\n  'court,0.07',\n  'escort,0.17',\n  'require,0.04',\n  'side,0.02',\n  'question,0.02',\n  'research,0.02',\n  'accommodate,0.11',\n  'record,0.02',\n  'hear,0.07',\n  'can,0.07',\n  'allow,0.04',\n  'equip,0.06',\n  'meet,0.15',\n  'relocate,0.02',\n  'grow,0.02',\n  'designate,0.04'],\n ['подготовивший',\n  'formulate,0.12',\n  'prepare,0.12',\n  'charge,0.12',\n  'have,0.25',\n  'report,0.12',\n  'intrigue,0.12',\n  'concern,0.12'],\n ['пропагандистско-агитационные',\n  'put,0.17',\n  'be,0.33',\n  'place,0.17',\n  'have,0.33'],\n ['Подготовка',\n  'ready,0.03',\n  'respect,0.01',\n  'total,0.01',\n  'prepare,0.14',\n  'speed,0.02',\n  'make,0.01',\n  'document,0.03',\n  'picture,0.01',\n  'practice,0.01',\n  'wish,0.02',\n  'inform,0.01',\n  'idle,0.02',\n  'train,0.46'],\n ['разбирающийся',\n  'set,0.08',\n  'level,0.08',\n  'acquire,0.08',\n  'number,0.08',\n  'imply,0.08',\n  'train,0.08',\n  'understand,0.08',\n  'result,0.08',\n  'enhance,0.08',\n  'post,0.08',\n  'work,0.08',\n  'approve,0.08'],\n ['атоллах',\n  'begin,0.14',\n  'participate,0.14',\n  'project,0.14',\n  'encourage,0.14',\n  'conduct,0.14',\n  'implement,0.14',\n  'approve,0.14'],\n ['welcomed', 'welcome,1.00'],\n ['Высокоскоростное', 'speed,0.20', 'craft,0.40', 'reach,0.40'],\n ['набирающему',\n  'tend,0.12',\n  'accommodate,0.12',\n  'adjust,0.12',\n  'supplant,0.12',\n  'ask,0.12',\n  'promote,0.12',\n  'grow,0.25'],\n ['258-2003',\n  'search,0.14',\n  'form,0.14',\n  'move,0.14',\n  'disappear,0.14',\n  'establish,0.14',\n  'conflict,0.14'],\n ['рода',\n  'race,0.02',\n  'be,0.13',\n  'act,0.01',\n  'question,0.01',\n  'sort,0.35',\n  'form,0.20',\n  'regard,0.03',\n  'line,0.01',\n  'have,0.03'],\n ['welcomes', 'welcome,1.00'],\n ['реформированных',\n  'be,0.11',\n  'restructure,0.21',\n  'give,0.08',\n  'embark,0.03',\n  'streamline,0.08',\n  're-form,0.50'],\n ['невозможна',\n  'happen,0.01',\n  'take,0.02',\n  'achieve,0.03',\n  'be,0.64',\n  'place,0.01',\n  'can,0.13',\n  'allow,0.01',\n  'require,0.01'],\n ['невозможно', 'achieve,0.02', 'can,0.18', 'be,0.74'],\n ['требуемый',\n  'need,0.02',\n  'rise,0.02',\n  'desire,0.01',\n  'require,0.83',\n  'request,0.02'],\n ['процессуальную',\n  'exercise,0.04',\n  'rely,0.04',\n  'complicate,0.04',\n  'deal,0.04',\n  'give,0.04',\n  'process,0.07',\n  'regard,0.04',\n  'obtain,0.04',\n  'experience,0.04',\n  'adopt,0.04',\n  'receive,0.04',\n  'stand,0.36',\n  'view,0.04',\n  'include,0.04',\n  'prevail,0.04',\n  'address,0.04',\n  'ground,0.07'],\n ['самозанятых',\n  'enjoy,0.03',\n  'own,0.06',\n  'be,0.03',\n  'arouse,0.03',\n  'determine,0.03',\n  'concern,0.03',\n  'wage,0.03',\n  'decline,0.03',\n  'derive,0.03',\n  'tend,0.03',\n  'afford,0.03',\n  'analyze,0.03',\n  'opt,0.03',\n  'do,0.09',\n  'shelter,0.03',\n  'expose,0.03',\n  'express,0.03',\n  'reflect,0.03',\n  'concentrate,0.03',\n  'hold,0.06',\n  'account,0.06',\n  'like,0.03',\n  'work,0.09',\n  'employ,0.09',\n  'operate,0.03'],\n ['трудностью',\n  'thank,0.03',\n  'process,0.03',\n  'establish,0.03',\n  'challenge,0.27',\n  'belong,0.03',\n  'cover,0.03',\n  'experience,0.07',\n  'ensue,0.03',\n  'produce,0.03',\n  'list,0.03',\n  'train,0.03',\n  'promise,0.03',\n  'result,0.03',\n  'alleviate,0.03',\n  'attribute,0.03',\n  'burden,0.03',\n  'distinguish,0.03',\n  'stock,0.03',\n  'approach,0.03',\n  'concern,0.10'],\n ['обвинителем',\n  'prosecute,0.27',\n  'show,0.09',\n  'propose,0.09',\n  'waive,0.09',\n  'serve,0.09',\n  'constitute,0.18',\n  'permit,0.09',\n  'justify,0.09'],\n ['населив',\n  'outrage,0.20',\n  'commit,0.20',\n  'establish,0.20',\n  'place,0.20',\n  'exclude,0.20'],\n ['корзину',\n  'control,0.06',\n  'down,0.06',\n  'scale,0.06',\n  'package,0.06',\n  'approach,0.06',\n  'price,0.06',\n  'exchange,0.06',\n  'insist,0.06',\n  'break,0.06',\n  'include,0.06',\n  'rate,0.06',\n  'cost,0.06',\n  'submit,0.06',\n  'appeal,0.06',\n  'fashion,0.06',\n  'land,0.06'],\n ['генной',\n  'comment,0.06',\n  'inhibit,0.06',\n  'provide,0.06',\n  'suggest,0.06',\n  'welcome,0.06',\n  'project,0.06',\n  'strengthen,0.25',\n  'reason,0.06',\n  'base,0.06',\n  'designate,0.06',\n  'regulate,0.06',\n  'generate,0.06',\n  'mean,0.06'],\n ['трещиной',\n  'occur,0.07',\n  'flaw,0.29',\n  'rupture,0.07',\n  'back,0.29',\n  'crack,0.29'],\n ['сталкиваются',\n  'suffer,0.01',\n  'affect,0.01',\n  'encounter,0.05',\n  'confront,0.04',\n  'be,0.12',\n  'experience,0.04',\n  'have,0.05',\n  'face,0.62'],\n ['поощряющая',\n  'code,0.02',\n  'be,0.02',\n  'share,0.02',\n  'undertake,0.02',\n  'follow,0.02',\n  'develop,0.02',\n  'monitor,0.02',\n  'provide,0.02',\n  'incite,0.02',\n  'research,0.02',\n  'encourage,0.42',\n  'foster,0.02',\n  'urge,0.02',\n  'risk,0.02',\n  'offer,0.02',\n  'screen,0.02',\n  'advocate,0.02',\n  'promote,0.25',\n  'account,0.02',\n  'experience,0.02',\n  'aid,0.02',\n  'reward,0.02',\n  'facilitate,0.02',\n  'view,0.02'],\n ['фламандские',\n  'term,0.17',\n  'create,0.17',\n  'practice,0.17',\n  'identify,0.17',\n  'make,0.17'],\n ['фламандский',\n  'develop,0.17',\n  'launch,0.17',\n  'start,0.17',\n  'choose,0.17',\n  'have,0.17',\n  'coordinate,0.17'],\n ['26563', 'mark,0.20', 'originate,0.20', 'have,0.20', 'delete,0.20'],\n ['нетронутой', 'affect,0.40', 'smell,0.20', 'intend,0.20', 'destroy,0.20'],\n ['адекватны',\n  'do,0.02',\n  'describe,0.02',\n  'equal,0.02',\n  'constitute,0.02',\n  'appropriate,0.08',\n  'measure,0.02',\n  'allege,0.03',\n  'develop,0.02',\n  'conduct,0.03',\n  'be,0.53',\n  'serve,0.05',\n  'abuse,0.03',\n  'understand,0.02',\n  'line,0.02',\n  'structure,0.02',\n  'sound,0.02',\n  'look,0.02',\n  'minimize,0.02',\n  'correspond,0.02',\n  'face,0.02',\n  'become,0.02',\n  'enforce,0.03'],\n ['прокатилось',\n  'accord,0.11',\n  'prove,0.11',\n  'pass,0.11',\n  'have,0.11',\n  'shake,0.11',\n  'close,0.11',\n  'happen,0.11',\n  'agree,0.11',\n  'affect,0.11'],\n ['Пайн',\n  'begin,0.06',\n  'used,0.06',\n  'consider,0.06',\n  'fault,0.06',\n  'mandate,0.06',\n  'measure,0.06',\n  'request,0.06',\n  'submit,0.06',\n  'aim,0.06',\n  'initiate,0.06',\n  'observe,0.06',\n  'notify,0.06',\n  'recommend,0.06',\n  'coordinate,0.06',\n  'arrive,0.06'],\n ['декреты',\n  'decree,0.88',\n  'set,0.01',\n  'empower,0.01',\n  'state,0.01',\n  'order,0.01'],\n ['Мавинга',\n  'be,0.22',\n  'force,0.11',\n  'mine,0.22',\n  'free,0.11',\n  'occupy,0.22',\n  'identify,0.11'],\n ['металлосодержащих',\n  'generate,0.06',\n  'stream,0.24',\n  'surface,0.12',\n  'keep,0.12',\n  'heat,0.12',\n  'take,0.24',\n  'occur,0.12'],\n ['.Помимо',\n  'subsidize,0.06',\n  'police,0.06',\n  'finance,0.06',\n  'exert,0.06',\n  'farm,0.06',\n  'work,0.06',\n  'order,0.06',\n  'strain,0.06',\n  'abuse,0.06',\n  'shelter,0.06',\n  'take,0.06',\n  'date,0.06',\n  'embody,0.06',\n  'further,0.06',\n  'include,0.06',\n  'repair,0.06',\n  'seed,0.06',\n  'permit,0.06'],\n ['ходьбы',\n  'distance,0.06',\n  'provide,0.01',\n  'relate,0.02',\n  'support,0.01',\n  'walk,0.88',\n  'improve,0.01'],\n ['Газали',\n  'appoint,0.12',\n  'do,0.12',\n  'set,0.12',\n  'intercept,0.12',\n  'derive,0.12',\n  'exist,0.12',\n  'time,0.12',\n  'care,0.12'],\n ['Польшей',\n  'own,0.10',\n  'combat,0.05',\n  'torture,0.05',\n  'conclude,0.05',\n  'study,0.05',\n  'question,0.05',\n  'keep,0.05',\n  'take,0.10',\n  'undertake,0.05',\n  'act,0.05',\n  'advise,0.05',\n  'hold,0.05',\n  'issue,0.05',\n  'discuss,0.05',\n  'consider,0.05'],\n ['вышестоящее',\n  'prevent,0.14',\n  'submit,0.14',\n  'initiate,0.29',\n  'accuse,0.14',\n  'convict,0.14',\n  'guarantee,0.14'],\n ['вышестоящей',\n  'exceed,0.02',\n  'measure,0.02',\n  'follow,0.02',\n  'encompass,0.02',\n  'subject,0.02',\n  'power,0.02',\n  'review,0.47',\n  'note,0.02',\n  'suspect,0.02',\n  'convene,0.02',\n  'guarantee,0.03',\n  'refer,0.03',\n  'form,0.05',\n  'associate,0.02',\n  'communicate,0.02',\n  'observe,0.02',\n  'differentiate,0.03',\n  'supervise,0.02',\n  'interpret,0.02',\n  'manifest,0.02',\n  'allow,0.02',\n  'time,0.05',\n  'position,0.02',\n  'create,0.02',\n  'mean,0.03'],\n ['решалась',\n  'have,0.14',\n  'deal,0.03',\n  'do,0.01',\n  'carry,0.01',\n  'go,0.01',\n  'accomplish,0.01',\n  'seek,0.01',\n  'undertake,0.01',\n  'achieve,0.03',\n  'be,0.29',\n  'address,0.02',\n  'tackle,0.04',\n  'improve,0.02',\n  'resolve,0.03',\n  'pursue,0.01',\n  'can,0.01',\n  'fulfill,0.03'],\n ['вышестоящем',\n  'attest,0.03',\n  'relate,0.03',\n  'down,0.03',\n  'appropriate,0.03',\n  'exist,0.03',\n  'further,0.03',\n  'concern,0.03',\n  'hide,0.03',\n  'pay,0.03',\n  'father,0.03',\n  'publish,0.03',\n  'indicate,0.03',\n  'live,0.03',\n  'appeal,0.03',\n  'be,0.06',\n  'used,0.03',\n  'torture,0.03',\n  'deliver,0.03',\n  'hand,0.03',\n  'base,0.03',\n  'line,0.06',\n  'overturn,0.03',\n  'come,0.03',\n  'discuss,0.03',\n  'target,0.03',\n  'request,0.06',\n  'continue,0.03',\n  'command,0.03',\n  'act,0.03',\n  'position,0.03'],\n ['Завести', 'start,0.50', 'turn,0.50'],\n ['обеспеченную',\n  'camp,0.02',\n  'secure,0.36',\n  'start,0.02',\n  'provide,0.16',\n  'treat,0.02',\n  'create,0.02',\n  'support,0.04',\n  'value,0.04',\n  'occur,0.02',\n  'reflect,0.02',\n  'fund,0.02',\n  'state,0.02',\n  'incur,0.02',\n  'gain,0.02',\n  'commit,0.02',\n  'exist,0.02',\n  'promote,0.02',\n  'establish,0.04',\n  'realize,0.02',\n  'guarantee,0.02'],\n ['декретном',\n  'decree,0.30',\n  'deserve,0.10',\n  'publish,0.10',\n  'know,0.10',\n  'time,0.10',\n  'take,0.10',\n  'occur,0.10',\n  'choose,0.10'],\n ['всемерное',\n  'render,0.24',\n  'strengthen,0.02',\n  'measure,0.06',\n  'take,0.02',\n  'do,0.02',\n  'complete,0.05',\n  'extend,0.13',\n  'cooperate,0.23'],\n ['всемерной',\n  'uphold,0.04',\n  'lend,0.04',\n  'provide,0.12',\n  'welcome,0.04',\n  'measure,0.04',\n  'detail,0.04',\n  'guide,0.04',\n  'leave,0.04',\n  'time,0.04',\n  'mandate,0.04',\n  'participate,0.04',\n  'respect,0.04',\n  'total,0.23',\n  'cause,0.04',\n  'order,0.08'],\n ['Tillett',\n  'oblige,0.20',\n  'account,0.20',\n  'acquire,0.20',\n  'bear,0.20',\n  'arrive,0.20'],\n ['всемерном',\n  'accomplish,0.07',\n  'complete,0.29',\n  'make,0.14',\n  'can,0.07',\n  'facilitate,0.07',\n  'concern,0.36'],\n ['PAYE',\n  'wage,0.08',\n  'manufacture,0.08',\n  'earn,0.08',\n  'set,0.08',\n  'return,0.08',\n  'extend,0.08',\n  'cover,0.08',\n  'update,0.08',\n  'add,0.08',\n  'account,0.17',\n  'refer,0.08'],\n ['суперинтендента',\n  'enable,0.11',\n  'reprimand,0.11',\n  'rank,0.33',\n  'station,0.11',\n  'supervise,0.11',\n  'designate,0.22'],\n ['микрофонами', 'set,0.08', 'take,0.42', 'have,0.08', 'utilize,0.42'],\n ['затрудняется',\n  'render,0.01',\n  'have,0.06',\n  'further,0.01',\n  'hamper,0.14',\n  'complicate,0.05',\n  'make,0.06',\n  'hinder,0.04',\n  'be,0.36',\n  'impede,0.03',\n  'become,0.03',\n  'constrain,0.04'],\n ['высмеять',\n  'be,0.10',\n  'intend,0.10',\n  'combat,0.10',\n  'expose,0.10',\n  'ridicule,0.30',\n  'bring,0.20',\n  'scorn,0.10'],\n ['аварийно-восстановительные', 'project,0.20', 'repair,0.40', 'work,0.40'],\n ['ратует',\n  'campaign,0.02',\n  'have,0.10',\n  'promote,0.04',\n  'support,0.10',\n  'encourage,0.03',\n  'call,0.18',\n  'be,0.06',\n  'advocate,0.24',\n  'argue,0.01',\n  'stand,0.04'],\n ['несвоевременными',\n  'fail,0.20',\n  'amount,0.20',\n  'cost,0.20',\n  'act,0.20',\n  'time,0.20'],\n ['прочными',\n  'enjoy,0.02',\n  'represent,0.02',\n  'consider,0.03',\n  'strengthen,0.02',\n  'share,0.02',\n  'abide,0.02',\n  'pass,0.02',\n  'need,0.02',\n  'consolidate,0.05',\n  'establish,0.02',\n  'secure,0.09',\n  'proceed,0.02',\n  'fix,0.02',\n  'load,0.02',\n  'field,0.03',\n  'sustain,0.02',\n  'tie,0.03',\n  'be,0.02',\n  'play,0.03',\n  'afford,0.02',\n  'tailor,0.02',\n  'mourn,0.02',\n  'word,0.03',\n  'sound,0.12',\n  'last,0.18',\n  'level,0.03',\n  'require,0.03',\n  'drive,0.02',\n  'endure,0.08'],\n ['автострад',\n  'shop,0.07',\n  'develop,0.07',\n  'feel,0.07',\n  'bus,0.07',\n  'stop,0.07',\n  'feature,0.07',\n  'involve,0.07',\n  'fund,0.07',\n  'state,0.14',\n  'spread,0.07',\n  'result,0.21'],\n ['отчисляют',\n  'exclude,0.03',\n  'be,0.12',\n  'drop,0.05',\n  'earmark,0.03',\n  'figure,0.03',\n  'expel,0.03',\n  'pay,0.20',\n  'dismiss,0.05',\n  'reduce,0.03',\n  'lose,0.03',\n  'amount,0.07',\n  'deduct,0.03',\n  'run,0.03',\n  'take,0.03',\n  'have,0.07',\n  'time,0.03',\n  'suspend,0.03',\n  'apply,0.07',\n  'cause,0.03',\n  'contribute,0.05'],\n ['вывешивает',\n  'be,0.18',\n  'notice,0.09',\n  'board,0.09',\n  'further,0.09',\n  'post,0.09',\n  'cause,0.18',\n  'display,0.27'],\n ['дислоцировались',\n  'locate,0.02',\n  'be,0.41',\n  'deploy,0.21',\n  'regard,0.02',\n  'station,0.05',\n  'place,0.14',\n  'take,0.14'],\n ['показателям',\n  'set,0.01',\n  'figure,0.10',\n  'rate,0.09',\n  'result,0.02',\n  'measure,0.14',\n  'respect,0.02',\n  'achieve,0.02',\n  'be,0.01',\n  'account,0.01',\n  'report,0.02',\n  'term,0.09',\n  'target,0.09',\n  'level,0.10',\n  'value,0.02',\n  'follow,0.01'],\n ['травмированных',\n  'be,0.05',\n  'suffer,0.01',\n  'develop,0.01',\n  'inflict,0.01',\n  'injure,0.11',\n  'devote,0.01',\n  'traumatize,0.68',\n  'sentence,0.01',\n  'see,0.01',\n  'cater,0.01',\n  'adapt,0.01',\n  'have,0.02',\n  'learn,0.01',\n  'group,0.01',\n  'scar,0.01',\n  'treat,0.01'],\n ['убийством', 'murder,0.46', 'receive,0.04', 'massacre,0.04', 'kill,0.43'],\n ['Хайфы',\n  'damage,0.11',\n  'rule,0.11',\n  'bring,0.11',\n  'act,0.44',\n  'petition,0.11',\n  'man,0.11'],\n ['нерешительную', 'require,0.38', 'translate,0.38', 'adapt,0.25'],\n ['нормами', 'discipline,0.02', 'rule,0.89'],\n ['Хайфу',\n  'harm,0.20',\n  'support,0.20',\n  'cause,0.20',\n  'sponsor,0.20',\n  'inflict,0.20'],\n ['Вильнюса',\n  'broadcast,0.17',\n  'place,0.17',\n  'allocate,0.17',\n  'act,0.17',\n  'put,0.17',\n  'specify,0.17'],\n ['расчету',\n  'process,0.04',\n  'obtain,0.02',\n  'cost,0.03',\n  'apply,0.02',\n  'derive,0.07',\n  'calculate,0.39',\n  'exercise,0.02',\n  'be,0.02',\n  'award,0.04',\n  'produce,0.05',\n  'account,0.04',\n  'level,0.02',\n  'approach,0.02',\n  'settle,0.02'],\n ['270',\n  'show,0.03',\n  'process,0.03',\n  'demand,0.03',\n  'number,0.03',\n  'constitute,0.03',\n  'interrupt,0.03',\n  'result,0.06',\n  'determine,0.03',\n  'sanction,0.03',\n  'post,0.03',\n  'transport,0.03',\n  'transfer,0.03',\n  'compensate,0.03',\n  'eliminate,0.03',\n  'mail,0.03',\n  'care,0.03',\n  'designate,0.03',\n  'be,0.03',\n  'annex,0.03',\n  'track,0.03',\n  'acquire,0.03',\n  'serve,0.03',\n  'chart,0.03',\n  'link,0.03',\n  'mandate,0.03',\n  'report,0.03',\n  'estimate,0.06',\n  'believe,0.03',\n  'change,0.03',\n  'volunteer,0.03',\n  'word,0.03',\n  'incline,0.03',\n  'revise,0.03'],\n ['задние', 'reverse,0.10', 'frame,0.01', 'estimate,0.01', 'rear,0.85'],\n ['задний', 'reverse,0.03', 'rear,0.92'],\n ['давалась',\n  'authorize,0.02',\n  'give,0.05',\n  'number,0.04',\n  'commend,0.04',\n  'rate,0.11',\n  'have,0.04',\n  'make,0.04',\n  'prepare,0.04',\n  'provide,0.11',\n  'explain,0.04',\n  'adhere,0.02',\n  'increase,0.02',\n  'arrest,0.02',\n  'include,0.02',\n  'approach,0.04',\n  'be,0.11',\n  'invoke,0.02',\n  'express,0.02',\n  'reflect,0.02',\n  'base,0.02',\n  'present,0.04',\n  'administer,0.02',\n  'adopt,0.04',\n  'continue,0.02',\n  'praise,0.02',\n  'contain,0.02',\n  'assign,0.05'],\n ['задним',\n  'reverse,0.17',\n  'back,0.08',\n  'drive,0.04',\n  'benefit,0.01',\n  'post,0.25',\n  'rear,0.40'],\n ['КВАЛИФИКАЦИИ',\n  'be,0.17',\n  'train,0.33',\n  'develop,0.17',\n  'have,0.17',\n  'adopt,0.17'],\n ['торжественного',\n  'sit,0.56',\n  'assume,0.11',\n  'observe,0.06',\n  'want,0.06',\n  'participate,0.11',\n  'found,0.06',\n  'inaugurate,0.06'],\n ['навязчивая',\n  'depend,0.17',\n  'continue,0.17',\n  'limit,0.17',\n  'stand,0.17',\n  'agree,0.17',\n  'obsess,0.17'],\n ['сотрудничаете', 'do,0.33', 'work,0.33', 'experience,0.33'],\n ['трехступенчатая',\n  'divide,0.12',\n  'reform,0.06',\n  'level,0.24',\n  'negotiate,0.06',\n  'introduce,0.12',\n  'focus,0.06',\n  'reflect,0.12',\n  'bring,0.06',\n  'test,0.06',\n  'carry,0.12'],\n ['виновна',\n  'be,0.50',\n  'love,0.03',\n  'blame,0.03',\n  'betray,0.03',\n  'have,0.27',\n  'uncover,0.03',\n  'commit,0.03',\n  'trust,0.03',\n  'honor,0.03'],\n ['договоренностям',\n  'accord,0.15',\n  'study,0.03',\n  'read,0.03',\n  'support,0.03',\n  'govern,0.03',\n  'reach,0.07',\n  'bargain,0.07',\n  'cooperate,0.03',\n  'base,0.03',\n  'cease,0.03',\n  'apply,0.03',\n  'carry,0.03',\n  'understand,0.12',\n  'agree,0.25',\n  'revise,0.03',\n  'make,0.07'],\n ['пеший', 'hike,0.40', 'move,0.20', 'comprise,0.20', 'strip,0.20'],\n ['поставляют',\n  'deal,0.01',\n  'contribute,0.01',\n  'trade,0.01',\n  'bring,0.01',\n  'send,0.01',\n  'have,0.04',\n  'ship,0.01',\n  'provide,0.16',\n  'supply,0.43',\n  'be,0.03',\n  'deliver,0.04',\n  'introduce,0.01',\n  'base,0.01',\n  'know,0.01',\n  'export,0.02'],\n ['пешие',\n  'hike,0.04',\n  'reinforce,0.04',\n  'grind,0.17',\n  'appropriate,0.04',\n  'undertake,0.22',\n  'equip,0.04',\n  'walk,0.43'],\n ['виновно',\n  'search,0.02',\n  'be,0.79',\n  'commit,0.03',\n  'have,0.09',\n  'found,0.02'],\n ['надземного', 'rush,0.14', 'train,0.86'],\n ['пятьдесят',\n  'consider,0.02',\n  'request,0.01',\n  'mandate,0.02',\n  'measure,0.03',\n  'examine,0.01',\n  'follow,0.07',\n  'open,0.01',\n  'debate,0.02',\n  'practice,0.03',\n  'submit,0.03',\n  'note,0.02',\n  'draft,0.08',\n  'take,0.02',\n  'entitle,0.01',\n  'include,0.06',\n  'eliminate,0.01',\n  'enable,0.03',\n  'remedy,0.01',\n  'resume,0.05',\n  'step,0.02',\n  'decide,0.02',\n  'address,0.01',\n  'report,0.10',\n  'hold,0.05',\n  'present,0.04',\n  'receive,0.02',\n  'work,0.02',\n  'list,0.02',\n  'host,0.02',\n  'inform,0.03',\n  'become,0.01',\n  'implement,0.01',\n  'approve,0.01'],\n ['про-движения',\n  'advance,0.17',\n  'strengthen,0.17',\n  'impede,0.17',\n  'promote,0.17',\n  'facilitate,0.17',\n  'order,0.17'],\n ['комфорт',\n  'help,0.05',\n  'extend,0.05',\n  'comfort,0.71',\n  'live,0.05',\n  'time,0.05',\n  'highlight,0.05'],\n ['подводящей', 'provide,0.05', 'fall,0.29', 'block,0.02', 'supply,0.64'],\n ['преодолевающее',\n  'count,0.12',\n  'divide,0.12',\n  'confront,0.12',\n  'experience,0.12',\n  'face,0.12',\n  'have,0.25',\n  'survive,0.12'],\n ['подводящем',\n  'function,0.08',\n  'outline,0.08',\n  'lead,0.17',\n  'transfer,0.25',\n  'impose,0.08',\n  'take,0.17',\n  'demand,0.08',\n  'stock,0.08'],\n ['ЭКЛАК',\n  'house,0.04',\n  'supplement,0.04',\n  'have,0.09',\n  'carry,0.18',\n  'underline,0.02',\n  'wage,0.02',\n  'decline,0.02',\n  'grant,0.02',\n  'provide,0.02',\n  'make,0.02',\n  'debate,0.02',\n  'field,0.09',\n  'foster,0.02',\n  'board,0.02',\n  'surprise,0.02',\n  'improve,0.02',\n  'install,0.02',\n  'populate,0.02',\n  'account,0.04',\n  'base,0.02',\n  'streamline,0.02',\n  'come,0.02',\n  'arrange,0.02',\n  'execute,0.04',\n  'avoid,0.02',\n  'require,0.02',\n  'contract,0.04',\n  'aim,0.02',\n  'deposit,0.02',\n  'allow,0.02',\n  'meet,0.04',\n  'spend,0.02'],\n ['пробойник', 'test,0.27', 'be,0.40', 'punch,0.20', 'evaluate,0.13'],\n ['Потенциальный',\n  'advance,0.09',\n  'used,0.09',\n  'annex,0.09',\n  'contribute,0.18',\n  'commission,0.09',\n  'design,0.09',\n  'can,0.18',\n  'conduct,0.09'],\n ['Потенциальные',\n  'major,0.14',\n  'air,0.14',\n  'water,0.14',\n  'exist,0.14',\n  'build,0.14',\n  'have,0.14',\n  'market,0.14'],\n ['Трехгодичному',\n  'deliver,0.22',\n  'forward,0.11',\n  'carry,0.11',\n  'aid,0.11',\n  'line,0.11',\n  'guide,0.11',\n  'change,0.11'],\n ['беспокойств',\n  'resolve,0.19',\n  'bring,0.06',\n  'evoke,0.06',\n  'ask,0.06',\n  'trouble,0.06',\n  'agree,0.06',\n  'worry,0.06',\n  'concern,0.44'],\n ['пастбищное',\n  'stress,0.11',\n  'shift,0.11',\n  'study,0.11',\n  'serve,0.11',\n  'herd,0.11',\n  'graze,0.33',\n  'exercise,0.11'],\n ['несхожести',\n  'be,0.30',\n  'differ,0.10',\n  'form,0.10',\n  'overshadow,0.10',\n  'can,0.20',\n  'have,0.10',\n  'hamper,0.10'],\n ['пастбищной',\n  'graze,0.43',\n  'stage,0.14',\n  'imply,0.14',\n  'have,0.14',\n  'supply,0.14'],\n ['пастбищном',\n  'preserve,0.11',\n  'land,0.11',\n  'associate,0.11',\n  'herd,0.11',\n  'involve,0.11',\n  'graze,0.11',\n  'deposit,0.11',\n  'promote,0.11',\n  'harvest,0.11'],\n ['ЛОБОВОЕ', 'fix,0.50', 'simulate,0.50'],\n ['яростное', 'resist,0.44', 'follow,0.22', 'face,0.11', 'act,0.22'],\n ['неосуществим',\n  'be,0.50',\n  'claim,0.05',\n  'verify,0.05',\n  'review,0.05',\n  'lack,0.05',\n  'mine,0.05',\n  'increase,0.05',\n  'can,0.05',\n  'suggest,0.05',\n  'grasp,0.05',\n  'further,0.09'],\n ['понимают',\n  'recognize,0.03',\n  'see,0.01',\n  'have,0.03',\n  'be,0.11',\n  'perceive,0.01',\n  'understand,0.60',\n  'know,0.03',\n  'realize,0.06',\n  'appreciate,0.02',\n  'mean,0.01'],\n ['инженерном', 'declare,0.07', 'take,0.07', 'engineer,0.86'],\n ['Токтонов',\n  'account,0.20',\n  'express,0.20',\n  'exist,0.20',\n  'take,0.20',\n  'speak,0.20'],\n ['Вийере',\n  'draw,0.20',\n  'continue,0.20',\n  'trouble,0.20',\n  'sacrifice,0.20',\n  'act,0.20'],\n ['географическим',\n  'prevent,0.03',\n  'sketch,0.03',\n  'set,0.03',\n  'consider,0.06',\n  'process,0.03',\n  'reduce,0.06',\n  'own,0.03',\n  'design,0.03',\n  'follow,0.03',\n  'border,0.03',\n  'decrease,0.03',\n  'make,0.03',\n  'feature,0.03',\n  'answer,0.03',\n  'map,0.03',\n  'used,0.03',\n  'invite,0.03',\n  'separate,0.03',\n  'strive,0.03',\n  'declare,0.09',\n  'place,0.15',\n  'export,0.03',\n  'round,0.03',\n  'mean,0.06'],\n ['географический',\n  'map,0.05',\n  'involve,0.02',\n  'used,0.02',\n  'result,0.05',\n  'happen,0.02',\n  'balance,0.02',\n  'lie,0.02',\n  'scale,0.05',\n  'group,0.02',\n  'proceed,0.02',\n  'develop,0.02',\n  'brief,0.02',\n  'foster,0.02',\n  'restrain,0.02',\n  'eliminate,0.02',\n  'recommend,0.02',\n  'test,0.05',\n  'be,0.02',\n  'object,0.02',\n  'price,0.05',\n  'assist,0.05',\n  'fuel,0.02',\n  'diminish,0.02',\n  'care,0.02',\n  'argue,0.02',\n  'require,0.02',\n  'project,0.02',\n  'can,0.07',\n  'operate,0.02'],\n ['географические',\n  'feel,0.04',\n  'contribute,0.04',\n  'surface,0.04',\n  'deprive,0.04',\n  'identify,0.04',\n  'orient,0.04',\n  'guarantee,0.04',\n  'penalize,0.04',\n  'group,0.04',\n  'compel,0.04',\n  'field,0.04',\n  'propose,0.04',\n  'reach,0.04',\n  'perceive,0.04',\n  'introduce,0.04',\n  'police,0.12',\n  'line,0.04',\n  'change,0.04',\n  'package,0.04',\n  'experience,0.04',\n  'time,0.08',\n  'operate,0.04'],\n ['Гольдмана', 'judge,0.25', 'do,0.25', 'tire,0.25'],\n ['куриные', 'draft,0.11', 'recommend,0.22', 'facilitate,0.22', 'trade,0.22'],\n ['неудовлетворительная',\n  'be,0.20',\n  'lack,0.20',\n  'level,0.10',\n  'light,0.10',\n  'work,0.20',\n  'direct,0.10',\n  'recommend,0.10'],\n ['кабальном', 'relate,0.38', 'make,0.46', 'associate,0.08', 'cooperate,0.08'],\n ['предо-', 'provide,0.40', 'be,0.20', 'continue,0.20', 'give,0.20'],\n ['отсоветовать',\n  'dissuade,0.40',\n  'proliferate,0.20',\n  'help,0.20',\n  'gain,0.20'],\n ['переводчиками',\n  'represent,0.24',\n  'used,0.02',\n  'show,0.02',\n  'accept,0.25',\n  'mention,0.02',\n  'engage,0.02',\n  'place,0.02',\n  'staff,0.40',\n  'concern,0.02'],\n ['чужое',\n  'name,0.25',\n  'give,0.12',\n  'assist,0.12',\n  'obtain,0.12',\n  'publish,0.25',\n  'suspect,0.12'],\n ['нарко-бизнесом',\n  'hinder,0.12',\n  'determine,0.12',\n  'level,0.12',\n  'lack,0.12',\n  'reflect,0.12',\n  'train,0.12',\n  'have,0.12'],\n ['колонии',\n  'be,0.29',\n  'sentence,0.04',\n  'train,0.04',\n  'serve,0.04',\n  'obtain,0.17',\n  'send,0.04',\n  'detain,0.08',\n  'observe,0.04',\n  'become,0.04',\n  'destroy,0.04',\n  'concern,0.04',\n  'subject,0.12'],\n ['колоний',\n  'sentence,0.03',\n  'constitute,0.03',\n  'measure,0.03',\n  'exile,0.03',\n  'staff,0.03',\n  'rely,0.03',\n  'invoke,0.03',\n  'ratify,0.03',\n  'charge,0.03',\n  'master,0.03',\n  'show,0.03',\n  'inhabit,0.03',\n  'situate,0.03',\n  'be,0.17',\n  'run,0.03',\n  'form,0.03',\n  'protect,0.03',\n  'camp,0.09',\n  'value,0.03',\n  'turn,0.03',\n  'remain,0.03',\n  'continue,0.03',\n  'place,0.03',\n  'stand,0.03',\n  'become,0.06',\n  'implement,0.03',\n  'comprise,0.03'],\n ['примеси',\n  'be,0.17',\n  'derive,0.17',\n  'intend,0.04',\n  'associate,0.09',\n  'package,0.04',\n  'matter,0.17',\n  'further,0.04',\n  'apply,0.09',\n  'total,0.04',\n  'present,0.13'],\n ['изменяю-щиеся',\n  'bring,0.20',\n  'major,0.20',\n  'set,0.20',\n  'reinforce,0.20',\n  'hope,0.20'],\n ['рассылалось',\n  'be,0.20',\n  'amend,0.10',\n  'avoid,0.10',\n  'distribute,0.20',\n  'resent,0.10',\n  'have,0.20',\n  'need,0.10'],\n ['рассматривавшему',\n  'do,0.17',\n  'rule,0.17',\n  'manifest,0.17',\n  'examine,0.17',\n  'conduct,0.17',\n  'order,0.17'],\n ['кухонного',\n  'provide,0.05',\n  'relate,0.09',\n  'ration,0.05',\n  'reflect,0.05',\n  'persist,0.05',\n  'cook,0.68',\n  'eat,0.05'],\n ['попутчиков',\n  'bring,0.20',\n  'broaden,0.20',\n  'used,0.20',\n  'include,0.20',\n  'bear,0.20'],\n ['противостоять',\n  'withstand,0.04',\n  'deal,0.05',\n  'resist,0.08',\n  'respond,0.01',\n  'combat,0.03',\n  'cope,0.04',\n  'address,0.09',\n  'tackle,0.01',\n  'confront,0.18',\n  'challenge,0.01',\n  'counter,0.13',\n  'face,0.11',\n  'oppose,0.05',\n  'stand,0.03',\n  'meet,0.05'],\n ['Филиппин',\n  'appoint,0.03',\n  'claim,0.03',\n  'help,0.03',\n  'formulate,0.06',\n  'conclude,0.06',\n  'establish,0.09',\n  'study,0.06',\n  'update,0.03',\n  'rank,0.03',\n  'sign,0.09',\n  'reunite,0.03',\n  'host,0.03',\n  'inform,0.03',\n  'sleep,0.03',\n  'plan,0.06',\n  'have,0.19',\n  'apply,0.03',\n  'hear,0.03',\n  'seek,0.03'],\n ['перенесения',\n  'defer,0.01',\n  'exceed,0.01',\n  'help,0.02',\n  'move,0.28',\n  'number,0.02',\n  'bring,0.01',\n  'reschedule,0.03',\n  'cost,0.01',\n  'go,0.01',\n  'pass,0.02',\n  'carry,0.01',\n  'manipulate,0.01',\n  'delay,0.02',\n  'group,0.02',\n  'transfer,0.08',\n  'make,0.03',\n  'transform,0.02',\n  'load,0.01',\n  'increase,0.04',\n  'take,0.01',\n  'postpone,0.05',\n  'save,0.01',\n  'locate,0.01',\n  'cope,0.01',\n  'emulate,0.02',\n  'clarify,0.01',\n  'qualify,0.02',\n  'putt,0.02',\n  'change,0.02',\n  'shift,0.04',\n  'register,0.01',\n  'say,0.01',\n  'remove,0.02',\n  'face,0.01',\n  'switch,0.01',\n  'write,0.01',\n  'place,0.02',\n  'fix,0.01'],\n ['перенесению',\n  'do,0.05',\n  'develop,0.05',\n  'replicate,0.05',\n  'shift,0.11',\n  'work,0.05',\n  'hand,0.05',\n  'bring,0.11',\n  'call,0.05',\n  'take,0.05',\n  'transfer,0.05',\n  'push,0.05',\n  'link,0.05',\n  'include,0.05',\n  'conduct,0.05',\n  'transport,0.11',\n  'guarantee,0.05'],\n ['разбита',\n  'organize,0.08',\n  'divide,0.21',\n  'down,0.06',\n  'have,0.04',\n  'further,0.02',\n  'group,0.01',\n  'split,0.06',\n  'be,0.27',\n  'schedule,0.02',\n  'break,0.08',\n  'structure,0.03'],\n ['разбито',\n  'divide,0.26',\n  'down,0.03',\n  'speak,0.02',\n  'group,0.06',\n  'split,0.03',\n  'destroy,0.02',\n  'function,0.02',\n  'be,0.11',\n  'water,0.02',\n  'smash,0.03',\n  'place,0.02',\n  'break,0.19'],\n ['Запрашивающая', 'disclose,0.04', 'request,0.96'],\n ['срочный',\n  'sense,0.03',\n  'need,0.02',\n  'fix,0.03',\n  'flash,0.37',\n  'construct,0.02',\n  'issue,0.02',\n  'be,0.03',\n  'address,0.02',\n  'press,0.02',\n  'hold,0.03',\n  'term,0.03',\n  'launch,0.03',\n  'face,0.02',\n  'matter,0.03',\n  'limit,0.03',\n  'time,0.03'],\n ['срочным',\n  'share,0.02',\n  'need,0.02',\n  'identify,0.02',\n  'file,0.03',\n  'establish,0.03',\n  'fix,0.03',\n  'flash,0.36',\n  'detain,0.02',\n  'issue,0.02',\n  'base,0.03',\n  'press,0.02',\n  'affect,0.02',\n  'undermine,0.02',\n  'term,0.10',\n  'last,0.02',\n  'limit,0.03',\n  'time,0.06'],\n ['многобрачие',\n  'touch,0.12',\n  'be,0.38',\n  'put,0.12',\n  'introduce,0.12',\n  'have,0.25'],\n ['.сократился', 'down,0.20', 'amount,0.40', 'total,0.20', 'channel,0.20'],\n ['срочные',\n  'prompt,0.08',\n  'fix,0.01',\n  'flash,0.07',\n  'be,0.02',\n  'press,0.02',\n  'term,0.55',\n  'matter,0.03',\n  'time,0.07',\n  'found,0.01'],\n ['мультимедийной',\n  'promise,0.17',\n  'remain,0.17',\n  'process,0.17',\n  'deliver,0.33'],\n ['affiliates', 'affiliate,1.00'],\n ['несбалансированного',\n  'balance,0.07',\n  'perceive,0.07',\n  'value,0.14',\n  'equal,0.07',\n  'resist,0.07',\n  'add,0.14',\n  'arouse,0.07',\n  'place,0.07',\n  'distort,0.07',\n  'arrive,0.07',\n  'prevail,0.07'],\n ['предостав-ленные',\n  'be,0.33',\n  'secure,0.22',\n  'extend,0.11',\n  'provide,0.11',\n  'exploit,0.11',\n  'have,0.11'],\n ['исполненных',\n  'execute,0.19',\n  'land,0.05',\n  'complete,0.05',\n  'form,0.05',\n  'provide,0.05',\n  'transfer,0.10',\n  'serve,0.10',\n  'involve,0.05',\n  'perform,0.14',\n  'step,0.05',\n  'take,0.05',\n  'sanction,0.05',\n  'relate,0.05',\n  'appear,0.05'],\n ['возвращен',\n  'back,0.12',\n  'transfer,0.02',\n  'send,0.04',\n  'refer,0.03',\n  'be,0.01',\n  'return,0.57',\n  'surrender,0.03',\n  'relinquish,0.01',\n  'revert,0.02',\n  'repay,0.02'],\n ['.дол',\n  'pledge,0.11',\n  'review,0.11',\n  'inform,0.11',\n  'exclude,0.11',\n  'demonstrate,0.11',\n  'include,0.11',\n  'support,0.22',\n  'aid,0.11'],\n ['электрооборудовании',\n  'amend,0.20',\n  'work,0.20',\n  'document,0.20',\n  'produce,0.20',\n  'detail,0.20'],\n ['приурочило',\n  'launch,0.12',\n  'conduct,0.12',\n  'measure,0.12',\n  'publish,0.12',\n  'promise,0.12',\n  'decide,0.12',\n  'enhance,0.12',\n  'fulfill,0.12'],\n ['электрооборудование',\n  'be,0.50',\n  'consider,0.05',\n  'provide,0.05',\n  'support,0.09',\n  'refurbish,0.05',\n  'contract,0.09',\n  'affiliate,0.05',\n  'follow,0.05',\n  'ship,0.05',\n  'agree,0.05'],\n ['непроведению', 'affect,0.44', 'resolve,0.44', 'view,0.11'],\n ['непроведения',\n  'consolidate,0.01',\n  'malfunction,0.01',\n  'set,0.01',\n  'be,0.12',\n  'consent,0.01',\n  'move,0.01',\n  'file,0.01',\n  'carry,0.03',\n  'miss,0.01',\n  'subject,0.02',\n  'provide,0.04',\n  'concede,0.01',\n  'take,0.01',\n  'conduct,0.15',\n  'do,0.01',\n  'draw,0.02',\n  'lack,0.34',\n  'reconsider,0.01',\n  'complete,0.01',\n  'power,0.01',\n  'blockade,0.01',\n  'present,0.01',\n  'arrange,0.01',\n  'materialize,0.01',\n  'perform,0.01',\n  'require,0.01',\n  'remove,0.01',\n  'initiate,0.01',\n  'implement,0.04',\n  'operate,0.01',\n  'frequent,0.01'],\n ['радиопередачу',\n  'target,0.08',\n  'strengthen,0.08',\n  'work,0.08',\n  'value,0.08',\n  'broadcast,0.08',\n  'produce,0.08',\n  'call,0.08',\n  'transmit,0.08',\n  'radio,0.23',\n  'promote,0.08',\n  'invite,0.08'],\n ['пометка',\n  'remark,0.02',\n  'name,0.02',\n  'mark,0.81',\n  'note,0.06',\n  'appropriate,0.02'],\n ['ссужают',\n  'be,0.29',\n  'lend,0.14',\n  'indicate,0.14',\n  'limit,0.14',\n  'arise,0.14',\n  'check,0.14'],\n ['пометки',\n  'comment,0.03',\n  'do,0.03',\n  'remark,0.03',\n  'perform,0.03',\n  'complete,0.03',\n  'point,0.03',\n  'provide,0.12',\n  'supply,0.03',\n  'tag,0.03',\n  'range,0.03',\n  'mark,0.06',\n  'note,0.32',\n  'indicate,0.03',\n  'state,0.03',\n  'supplement,0.03',\n  'take,0.03',\n  'be,0.03',\n  'record,0.03',\n  'comply,0.03',\n  'concern,0.03'],\n ['ОТПЭ',\n  'raise,0.14',\n  'consist,0.14',\n  'open,0.14',\n  'arise,0.14',\n  'facilitate,0.14',\n  'present,0.14',\n  'circulate,0.14'],\n ['М-49',\n  'supply,0.12',\n  'relate,0.12',\n  'deliver,0.12',\n  'number,0.12',\n  'restrict,0.12',\n  'matter,0.12',\n  'experiment,0.12',\n  'subject,0.12'],\n ['ЕИТ', 'cut,0.17', 'unify,0.50', 'obtain,0.17', 'thank,0.17'],\n ['неумышленного',\n  'account,0.09',\n  'discriminate,0.09',\n  'target,0.09',\n  'relate,0.09',\n  'review,0.09',\n  'number,0.09',\n  'award,0.09',\n  'attach,0.09',\n  'allege,0.09',\n  'issue,0.09',\n  'structure,0.09'],\n ['отводим',\n  'set,0.02',\n  'consider,0.02',\n  'give,0.04',\n  'accord,0.02',\n  'see,0.12',\n  'expect,0.04',\n  'have,0.02',\n  'acknowledge,0.02',\n  'create,0.02',\n  'belong,0.02',\n  'attach,0.22',\n  'live,0.02',\n  'overrule,0.02',\n  'be,0.02',\n  'play,0.04',\n  'welcome,0.02',\n  'regard,0.04',\n  'ascribe,0.04',\n  'deny,0.02',\n  'issue,0.02',\n  'place,0.06',\n  'assign,0.12',\n  'reserve,0.02'],\n ['отводил',\n  'accord,0.04',\n  'grant,0.04',\n  'attend,0.04',\n  'schedule,0.04',\n  'make,0.08',\n  'give,0.08',\n  'dedicate,0.04',\n  'look,0.04',\n  'place,0.04',\n  'allocate,0.15',\n  'have,0.23',\n  'put,0.04',\n  'waste,0.04',\n  'support,0.04',\n  'achieve,0.04',\n  'take,0.04'],\n ['оснащении',\n  'equip,0.65',\n  'fit,0.02',\n  'provide,0.04',\n  'be,0.07',\n  'advance,0.02',\n  'require,0.02'],\n ['перекроить',\n  'hand,0.07',\n  'admit,0.07',\n  'tailor,0.07',\n  'usher,0.07',\n  'suit,0.07',\n  'redraw,0.60',\n  'change,0.07'],\n ['721,2', 'exclude,0.20', 'add,0.20', 'adjust,0.20', 'open,0.20', 'tax,0.20'],\n ['оснащение',\n  'supply,0.03',\n  'have,0.02',\n  'equip,0.59',\n  'fit,0.04',\n  'provide,0.11',\n  'support,0.02',\n  'be,0.03',\n  'outfit,0.01',\n  'furnish,0.02'],\n ['преемницы',\n  'force,0.22',\n  'derive,0.11',\n  'run,0.11',\n  'assess,0.11',\n  'conduct,0.11',\n  'follow,0.11',\n  'include,0.11',\n  'subject,0.11'],\n ['прибегнул',\n  'decline,0.03',\n  'engage,0.03',\n  'file,0.05',\n  'render,0.03',\n  'grant,0.03',\n  'make,0.03',\n  'adopt,0.05',\n  'resort,0.15',\n  'perpetrate,0.03',\n  'fail,0.03',\n  'used,0.05',\n  'choose,0.03',\n  'have,0.26',\n  'fall,0.03',\n  'put,0.03',\n  'apply,0.03',\n  'total,0.03',\n  'invoke,0.03',\n  'go,0.03',\n  'can,0.05'],\n ['Скиннскаттеберге',\n  'be,0.17',\n  'lead,0.17',\n  'devote,0.17',\n  'introduce,0.17',\n  'amount,0.17',\n  'have,0.17'],\n ['прибегнув',\n  'help,0.02',\n  'relate,0.02',\n  'obtain,0.02',\n  'have,0.12',\n  'follow,0.02',\n  'apply,0.02',\n  'make,0.03',\n  'compel,0.02',\n  'resort,0.26',\n  'draw,0.05',\n  'used,0.14',\n  'finance,0.02',\n  'invoke,0.05',\n  'resume,0.02',\n  'promote,0.02',\n  'respect,0.02',\n  'wipe,0.02',\n  'hire,0.02',\n  'engage,0.02',\n  'attempt,0.02',\n  'employ,0.02',\n  'mean,0.02'],\n ['отчасти',\n  'owe,0.13',\n  'result,0.02',\n  'have,0.08',\n  'thank,0.03',\n  'be,0.50',\n  'reflect,0.01',\n  'reason,0.02',\n  'drive,0.01',\n  'can,0.03',\n  'explain,0.03'],\n ['27A',\n  'average,0.10',\n  'list,0.10',\n  'number,0.10',\n  'note,0.10',\n  'forward,0.10',\n  'design,0.10',\n  'expect,0.10',\n  'put,0.10',\n  'include,0.10',\n  'plan,0.10'],\n ['1674',\n  'reinforce,0.20',\n  'avoid,0.20',\n  'dedicate,0.20',\n  'complete,0.20',\n  'risk,0.20'],\n ['неюрисдикционной',\n  'be,0.25',\n  'frame,0.12',\n  'see,0.12',\n  'aim,0.12',\n  'shape,0.12',\n  'can,0.12',\n  'take,0.12'],\n ['развертыванием',\n  'compare,0.02',\n  'apply,0.01',\n  'deploy,0.85',\n  'delay,0.01',\n  'launch,0.02'],\n ['2.1.2.1.1', 'attach,0.25', 'adapt,0.75'],\n ['2.1.2.1.3', 'apply,0.25', 'achieve,0.25', 'have,0.25', 'be,0.25'],\n ['2.1.2.1.2', 'locate,0.44', 'apply,0.44', 'tend,0.11'],\n ['Ташкентским', 'provide,0.40', 'advance,0.20', 'impose,0.40'],\n ['62-24',\n  'authorize,0.17',\n  'relate,0.17',\n  'acquire,0.17',\n  'stipulate,0.17',\n  'regulate,0.17'],\n ['задумалось', 'reflect,0.29', 'be,0.29', 'think,0.14', 'witness,0.29'],\n ['дымовому', 'cover,0.20', 'observe,0.10', 'used,0.30', 'smoke,0.40'],\n ['внезапно',\n  'catapult,0.02',\n  'be,0.09',\n  'shut,0.02',\n  'develop,0.12',\n  'appear,0.11',\n  'found,0.04',\n  'overwhelm,0.02',\n  'jump,0.02',\n  'end,0.02',\n  'attempt,0.02',\n  'warn,0.05',\n  'attack,0.04',\n  'reflect,0.02',\n  'build,0.02',\n  'have,0.23',\n  'follow,0.04',\n  'surprise,0.02',\n  'seem,0.02',\n  'come,0.09',\n  'down,0.02'],\n ['Ламбда', 'commission,0.33', 'collaborate,0.33', 'research,0.33'],\n ['горнорудная', 'establish,0.06', 'mine,0.94'],\n ['кровного',\n  'used,0.17',\n  'determine,0.17',\n  'go,0.17',\n  'tie,0.17',\n  'regulate,0.17'],\n ['НАЛИЧНЫМИ',\n  'force,0.12',\n  'complete,0.04',\n  'number,0.04',\n  'host,0.08',\n  'decide,0.04',\n  'meet,0.08',\n  'present,0.31',\n  'finance,0.31'],\n ['позиционный',\n  'develop,0.01',\n  'originate,0.01',\n  'mind,0.01',\n  'pitch,0.03',\n  'position,0.90',\n  'guide,0.01',\n  'expand,0.01'],\n ['позиционным', 'position,0.38', 'clear,0.12', 'obtain,0.38', 'house,0.12'],\n ['позиционные', 'commend,0.04', 'position,0.89', 'value,0.04', 'refer,0.04'],\n ['пришлое',\n  'bring,0.20',\n  'benefit,0.20',\n  'establish,0.20',\n  'eclipse,0.20',\n  'arise,0.20'],\n ['овацией', 'receive,0.20', 'earn,0.20', 'stand,0.40', 'give,0.20'],\n ['пришлом',\n  'term,0.17',\n  'deploy,0.17',\n  'host,0.17',\n  'time,0.17',\n  'include,0.17',\n  'facilitate,0.17'],\n ['ИСЕАЛА',\n  'collaborate,0.08',\n  'provide,0.08',\n  'make,0.08',\n  'request,0.08',\n  'focus,0.08',\n  'slow,0.08',\n  'activate,0.08',\n  'have,0.33',\n  'expand,0.08'],\n ['репатриации', 'return,0.25', 'repatriate,0.66'],\n ['отделился',\n  'break,0.11',\n  'admit,0.11',\n  'separate,0.22',\n  'have,0.33',\n  'secede,0.22'],\n ['разбивая',\n  'divide,0.20',\n  'come,0.10',\n  'distribute,0.10',\n  'break,0.30',\n  'place,0.10',\n  'split,0.10',\n  'approach,0.10'],\n ['подчеркиваю',\n  'point,0.01',\n  'underline,0.08',\n  'emphasize,0.28',\n  'be,0.01',\n  'reiterate,0.03',\n  'repeat,0.01',\n  'underscore,0.03',\n  'stress,0.43',\n  'word,0.01',\n  'highlight,0.01'],\n ['подчеркивая',\n  'underline,0.15',\n  'emphasize,0.34',\n  'underscore,0.02',\n  'stress,0.45',\n  'highlight,0.01'],\n ['Гаффе',\n  'reach,0.20',\n  'call,0.20',\n  'focus,0.20',\n  'market,0.20',\n  'expect,0.20'],\n ['вынашиваются',\n  'be,0.53',\n  'consider,0.03',\n  'pursue,0.03',\n  'make,0.03',\n  'assert,0.03',\n  'increase,0.03',\n  'place,0.03',\n  'plan,0.03',\n  'have,0.06',\n  'hatch,0.03',\n  'put,0.03',\n  'nurture,0.09',\n  'hold,0.03',\n  'store,0.03'],\n ['интегрировались',\n  'be,0.18',\n  'consider,0.01',\n  'migrate,0.01',\n  'absorb,0.02',\n  'have,0.15',\n  'integrate,0.53',\n  'become,0.05'],\n ['Матери',\n  'see,0.20',\n  'organize,0.20',\n  'value,0.20',\n  'entitle,0.20',\n  'can,0.20'],\n ['76-78',\n  'constitute,0.20',\n  'protect,0.20',\n  'know,0.20',\n  'have,0.20',\n  'justify,0.20'],\n ['76-79',\n  'be,0.22',\n  'court,0.11',\n  'create,0.11',\n  'regard,0.11',\n  'administer,0.11',\n  'undertake,0.11',\n  'witness,0.11'],\n ['отличая', 'aim,0.60', 'exclude,0.20', 'encompass,0.20'],\n ['Сейчас', 'process,0.25', 'be,0.62', 'draw,0.12'],\n ['непропорциональность',\n  'do,0.12',\n  'thank,0.12',\n  'propose,0.12',\n  'practice,0.12',\n  'indicate,0.12',\n  'exist,0.12',\n  'apply,0.12',\n  'improve,0.12'],\n ['приговорив',\n  'torture,0.05',\n  'sentence,0.57',\n  'obtain,0.05',\n  'record,0.10',\n  'state,0.10',\n  'hear,0.05',\n  'connect,0.05',\n  'have,0.05'],\n ['приговорил',\n  'give,0.01',\n  'sentence,0.88',\n  'impose,0.03',\n  'convict,0.03',\n  'fine,0.01',\n  'order,0.01'],\n ['заносимому', 'vote,0.27', 'record,0.73'],\n ['испортилось', 'be,0.20', 'arrive,0.20', 'perish,0.20', 'have,0.40'],\n ['сгорающих',\n  'exceed,0.11',\n  'assume,0.22',\n  'burn,0.22',\n  'obtain,0.11',\n  'can,0.22',\n  'dissipate,0.11'],\n ['высокоактивных', 'control,0.14', 'range,0.14', 'risk,0.14', 'level,0.57'],\n ['ДЕВЯТОЙ',\n  'comment,0.05',\n  'be,0.10',\n  'adopt,0.05',\n  'resume,0.10',\n  'review,0.14',\n  'practice,0.05',\n  'cross,0.05',\n  'draft,0.14',\n  'take,0.05',\n  'follow,0.10',\n  'hold,0.05',\n  'border,0.05',\n  'transport,0.05',\n  'board,0.05'],\n ['Кейтеля',\n  'position,0.20',\n  'begin,0.20',\n  'head,0.20',\n  'review,0.20',\n  'become,0.20'],\n ['танцующих',\n  'head,0.14',\n  'pin,0.14',\n  'dance,0.29',\n  'sight,0.14',\n  'lose,0.14',\n  'film,0.14'],\n ['совершившего',\n  'formulate,0.02',\n  'have,0.34',\n  'carry,0.02',\n  'restrain,0.01',\n  'perpetrate,0.02',\n  'commit,0.47'],\n ['потрясения',\n  'shock,0.87',\n  'traumatize,0.02',\n  'trouble,0.01',\n  'change,0.02',\n  'stress,0.01'],\n ['благожелательному',\n  'force,0.17',\n  'observe,0.17',\n  'understand,0.33',\n  'raise,0.17',\n  'give,0.17'],\n ['A.3.2.7', 'double,0.40', 'check,0.20', 'introduce,0.20', 'measure,0.20'],\n ['оказываемая',\n  'render,0.02',\n  'give,0.08',\n  'provide,0.67',\n  'support,0.06',\n  'integrate,0.01',\n  'be,0.03',\n  'extend,0.02'],\n ['общесекретариатских',\n  'provide,0.09',\n  'support,0.09',\n  'merit,0.09',\n  'design,0.09',\n  'oppose,0.09',\n  'address,0.09',\n  'retain,0.09',\n  'operate,0.09',\n  'issue,0.09',\n  'make,0.09',\n  'can,0.09'],\n ['кардинальных',\n  'major,0.33',\n  'inspire,0.03',\n  'render,0.03',\n  'conclude,0.03',\n  'process,0.03',\n  'revamp,0.03',\n  'follow,0.03',\n  'happen,0.03',\n  'concern,0.03',\n  'employ,0.03',\n  'scale,0.03',\n  'overhaul,0.05',\n  'lead,0.03',\n  'deliberate,0.03',\n  'make,0.03',\n  'detail,0.03',\n  'send,0.03',\n  'feel,0.03',\n  'sweep,0.03',\n  'wake,0.03',\n  'last,0.03',\n  'shift,0.03',\n  'clear,0.05',\n  'project,0.03',\n  'require,0.05'],\n ['защелкой', 'constitute,0.57', 'do,0.14', 'hold,0.14', 'act,0.14'],\n ['антиретровирусного',\n  'inhibit,0.10',\n  'help,0.10',\n  'provide,0.30',\n  'study,0.10',\n  'embark,0.10',\n  'encourage,0.10',\n  'tag,0.10',\n  'average,0.10'],\n ['паводках',\n  'devise,0.10',\n  'link,0.10',\n  'cover,0.10',\n  'flood,0.60',\n  'map,0.10'],\n ['безответственными',\n  'lie,0.05',\n  'term,0.05',\n  'claim,0.05',\n  'represent,0.05',\n  'practice,0.05',\n  'do,0.05',\n  'substantiate,0.05',\n  'lack,0.05',\n  'step,0.05',\n  'hand,0.09',\n  'down,0.05',\n  'contemplate,0.05',\n  'see,0.05',\n  'behave,0.05',\n  'can,0.05',\n  'have,0.09',\n  'fall,0.05',\n  'go,0.05',\n  'say,0.09'],\n ['бенефициариями',\n  'enjoy,0.14',\n  'represent,0.05',\n  'intend,0.10',\n  'help,0.05',\n  'reform,0.05',\n  'assume,0.05',\n  'empower,0.05',\n  'work,0.10',\n  'remain,0.05',\n  'forge,0.05',\n  'benefit,0.10',\n  'expect,0.05',\n  'phase,0.05',\n  'hold,0.05',\n  'receive,0.05',\n  'designate,0.05'],\n ['возвращаемое',\n  'be,0.08',\n  'return,0.33',\n  'conclude,0.08',\n  'remove,0.08',\n  'detain,0.17',\n  'arrest,0.08',\n  'enforce,0.17'],\n ['конкурирующий',\n  'draw,0.01',\n  'depend,0.01',\n  'deal,0.01',\n  'avoid,0.01',\n  'tend,0.01',\n  'compete,0.92',\n  'learn,0.01',\n  'generate,0.01'],\n ['неприятных',\n  'manage,0.20',\n  'flare,0.20',\n  'cap,0.20',\n  'shock,0.20',\n  'avoid,0.20'],\n ['конкурирующим', 'compete,0.98'],\n ['функционеров',\n  'emerge,0.09',\n  'force,0.09',\n  'police,0.09',\n  'feature,0.09',\n  'keep,0.09',\n  'reflect,0.09',\n  'charge,0.09',\n  'demonstrate,0.09',\n  'elect,0.09',\n  'seek,0.09',\n  'view,0.09'],\n ['анти-террористический',\n  'need,0.20',\n  'include,0.20',\n  'present,0.20',\n  'campaign,0.20',\n  'unite,0.20'],\n ['возвращаемой',\n  'outweigh,0.07',\n  'emerge,0.07',\n  'return,0.21',\n  'be,0.07',\n  'profit,0.07',\n  'lapse,0.07',\n  'damage,0.07',\n  'rate,0.07',\n  'take,0.07',\n  'conduct,0.14',\n  'surrender,0.07'],\n ['конкурирующие', 'compete,0.88', 'rival,0.02'],\n ['ТУЛОВИЩА',\n  'be,0.33',\n  'bar,0.11',\n  'fix,0.06',\n  'describe,0.06',\n  'mark,0.11',\n  'coordinate,0.11',\n  'position,0.11',\n  'define,0.11'],\n ['вышеприведенные',\n  'represent,0.02',\n  'figure,0.02',\n  'show,0.13',\n  'process,0.02',\n  'report,0.02',\n  'create,0.02',\n  'seek,0.02',\n  'summarize,0.02',\n  'depend,0.02',\n  'make,0.02',\n  'note,0.02',\n  'state,0.06',\n  'breach,0.02',\n  'refer,0.02',\n  'enable,0.02',\n  'quote,0.02',\n  'mention,0.11',\n  'step,0.02',\n  'base,0.02',\n  'phase,0.02',\n  'diminish,0.02',\n  'line,0.02',\n  'present,0.04',\n  'outline,0.02',\n  'list,0.04',\n  'position,0.02',\n  'precede,0.15',\n  'justify,0.02'],\n ['обстоятельными',\n  'be,0.04',\n  'develop,0.04',\n  'risk,0.04',\n  'torture,0.04',\n  'light,0.04',\n  'price,0.04',\n  'acquire,0.04',\n  'deliver,0.04',\n  'detail,0.37',\n  'submit,0.07',\n  'see,0.04',\n  'take,0.04',\n  'measure,0.07',\n  'fail,0.04',\n  'mean,0.04',\n  'improve,0.04'],\n ['Городским',\n  'be,0.08',\n  'set,0.08',\n  'run,0.08',\n  'train,0.08',\n  'support,0.15',\n  'quash,0.15',\n  'place,0.08',\n  'undertake,0.08',\n  'battle,0.08',\n  'implement,0.08',\n  'liberate,0.08'],\n ['ратифицирующей', 'specify,0.12', 'ratify,0.88'],\n ['объединявшего',\n  'combine,0.17',\n  'involve,0.17',\n  'link,0.17',\n  'build,0.17',\n  'apply,0.17',\n  'comprise,0.17'],\n ['Сава',\n  'represent,0.14',\n  'watch,0.14',\n  'request,0.14',\n  'aim,0.14',\n  'appropriate,0.14',\n  'build,0.14',\n  'meet,0.14'],\n ['незатруднительной', 'verify,1.00'],\n ['25-45',\n  'be,0.12',\n  'point,0.12',\n  'constitute,0.12',\n  'indicate,0.12',\n  'range,0.25',\n  'limit,0.12',\n  'achieve,0.12'],\n ['Сави', 'down,0.20', 'flood,0.40', 'move,0.20', 'save,0.20'],\n ['ратифицирующее', 'create,0.14', 'take,0.05', 'accept,0.05', 'ratify,0.76'],\n ['25-40',\n  'function,0.04',\n  'incorporate,0.04',\n  'generate,0.04',\n  'complete,0.04',\n  'do,0.04',\n  'deploy,0.04',\n  'understand,0.04',\n  'invest,0.07',\n  'give,0.04',\n  'maintain,0.04',\n  'increase,0.04',\n  'receive,0.07',\n  'range,0.25',\n  'base,0.04',\n  'limit,0.04',\n  'progress,0.04',\n  'affect,0.04',\n  'highlight,0.04',\n  'guide,0.04',\n  'market,0.04'],\n ['фиджийского',\n  'term,0.12',\n  'like,0.12',\n  'institute,0.12',\n  'guard,0.12',\n  'teach,0.25',\n  'concern,0.25'],\n ['праха', 'remain,0.60', 'send,0.40'],\n ['яйцекладки', 'be,0.08', 'maintain,0.15', 'store,0.15', 'chill,0.15'],\n ['критериях',\n  'claim,0.03',\n  'restructure,0.01',\n  'show,0.01',\n  'participate,0.01',\n  'obtain,0.01',\n  'single,0.08',\n  'have,0.01',\n  'measure,0.11',\n  'apply,0.01',\n  'establish,0.03',\n  'validate,0.03',\n  'guarantee,0.01',\n  'aim,0.03',\n  'pay,0.04',\n  'create,0.01',\n  'test,0.01',\n  'ground,0.24',\n  'do,0.01',\n  'draw,0.01',\n  'used,0.13',\n  'determine,0.01',\n  'govern,0.01',\n  'line,0.03',\n  'believe,0.01',\n  'mitigate,0.01',\n  'appropriate,0.03',\n  'employ,0.01',\n  'model,0.03',\n  'fix,0.01'],\n ['реестру',\n  'advance,0.02',\n  'account,0.08',\n  'develop,0.02',\n  'complete,0.03',\n  'indicate,0.02',\n  'issue,0.08',\n  'review,0.02',\n  'register,0.32',\n  'please,0.02',\n  'direct,0.03',\n  'check,0.02',\n  'record,0.16',\n  'maintain,0.02',\n  'identify,0.02',\n  'board,0.05',\n  'address,0.05',\n  'pend,0.03',\n  'open,0.02',\n  'pertain,0.02'],\n ['реестры',\n  'file,0.02',\n  'title,0.02',\n  'review,0.03',\n  'include,0.02',\n  'be,0.02',\n  'register,0.63',\n  'record,0.11',\n  'team,0.01'],\n ['классификатора',\n  'set,0.10',\n  'list,0.40',\n  'include,0.10',\n  'model,0.10',\n  'hold,0.10',\n  'transport,0.10'],\n ['помехой',\n  'prevent,0.02',\n  'hamper,0.06',\n  'lead,0.04',\n  'undermine,0.03',\n  'hinder,0.16',\n  'interfere,0.24',\n  'impede,0.11',\n  'affect,0.02',\n  'inhibit,0.02',\n  'preclude,0.03',\n  'allow,0.02',\n  'obstruct,0.03',\n  'challenge,0.02'],\n ['ЭКДИС', 'screen,0.40', 'object,0.20', 'end,0.20', 'board,0.20'],\n ['общенациональную',\n  'consolidate,0.07',\n  'field,0.07',\n  'decree,0.07',\n  'organize,0.04',\n  'like,0.04',\n  'campaign,0.11',\n  'launch,0.07',\n  'exchange,0.04',\n  'create,0.04',\n  'level,0.07',\n  'major,0.04',\n  'experience,0.04',\n  'sign,0.04',\n  'matter,0.04',\n  'link,0.04',\n  'plan,0.04',\n  'mandate,0.04',\n  'retain,0.04',\n  'rest,0.04',\n  'achieve,0.04',\n  'subject,0.04'],\n ['индуктивную', 'handle,0.33', 'have,0.67'],\n ['мальчиками',\n  'force,0.04',\n  'do,0.06',\n  'lack,0.04',\n  'reduce,0.04',\n  'rate,0.04',\n  'respect,0.04',\n  'establish,0.02',\n  'examine,0.02',\n  'educate,0.02',\n  'end,0.04',\n  'monitor,0.02',\n  'lead,0.02',\n  'point,0.02',\n  'father,0.02',\n  'issue,0.02',\n  'be,0.12',\n  'begin,0.02',\n  'attend,0.02',\n  'reach,0.02',\n  'enroll,0.02',\n  'break,0.02',\n  'understand,0.02',\n  'plan,0.02',\n  'affect,0.04',\n  'flee,0.02',\n  'stage,0.02',\n  'insure,0.02',\n  'term,0.06',\n  'overtake,0.02',\n  'expel,0.02',\n  'exploit,0.02',\n  'mean,0.02'],\n ['татуировок',\n  'pierce,0.25',\n  'give,0.12',\n  'experience,0.12',\n  'kill,0.12',\n  'wear,0.12',\n  'bore,0.25'],\n ['экипированными',\n  'control,0.17',\n  'equip,0.33',\n  'challenge,0.17',\n  'register,0.17',\n  'sustain,0.17'],\n ['недопредставленности',\n  'retire,0.14',\n  'span,0.05',\n  'target,0.05',\n  'prove,0.05',\n  'lack,0.05',\n  'vary,0.09',\n  'range,0.09',\n  'show,0.05',\n  'state,0.05',\n  'exist,0.05',\n  'expect,0.09',\n  'contain,0.05',\n  'go,0.05',\n  'prevail,0.05',\n  'staff,0.05'],\n ['материаламб',\n  'insert,0.17',\n  'raise,0.17',\n  'work,0.17',\n  'cover,0.17',\n  'have,0.17',\n  'order,0.17'],\n ['альфа-излучатели', 'be,1.00'],\n ['оскорблениям',\n  'harass,0.03',\n  'expose,0.02',\n  'attack,0.02',\n  'abuse,0.33',\n  'treat,0.02',\n  'allow,0.02',\n  'insult,0.49'],\n ['детализируется',\n  'be,0.32',\n  'outline,0.05',\n  'level,0.05',\n  'provide,0.05',\n  'propose,0.09',\n  'regard,0.05',\n  'detail,0.23',\n  'amount,0.09',\n  'design,0.05',\n  'regulate,0.05'],\n ['вносимые',\n  'set,0.01',\n  'contribute,0.02',\n  'bear,0.01',\n  'cost,0.01',\n  'total,0.02',\n  'make,0.43',\n  'submit,0.10',\n  'transmit,0.01',\n  'be,0.08',\n  'separate,0.04',\n  'mind,0.01',\n  'introduce,0.02',\n  'emanate,0.02',\n  'enter,0.04'],\n ['сталкивалась',\n  'have,0.29',\n  'be,0.09',\n  'encounter,0.12',\n  'confront,0.02',\n  'experience,0.08',\n  'face,0.29',\n  'meet,0.02'],\n ['ведем',\n  'do,0.01',\n  'have,0.12',\n  'speak,0.02',\n  'wage,0.02',\n  'lead,0.01',\n  'make,0.01',\n  'fight,0.03',\n  'conduct,0.02',\n  'be,0.44',\n  'engage,0.05',\n  'work,0.02',\n  'talk,0.07'],\n ['допущение',\n  'accept,0.03',\n  'determine,0.01',\n  'follow,0.01',\n  'transfer,0.01',\n  'make,0.02',\n  'concede,0.01',\n  'test,0.03',\n  'be,0.01',\n  'heat,0.01',\n  'line,0.01',\n  'lower,0.01',\n  'assume,0.38',\n  'tolerate,0.01',\n  'admit,0.03',\n  'allow,0.22',\n  'permit,0.06',\n  'undergo,0.01',\n  'approve,0.03'],\n ['шлюпок',\n  'repair,0.20',\n  'be,0.20',\n  'launch,0.20',\n  'side,0.20',\n  'measure,0.20'],\n ['месторождениям',\n  'manufacture,0.02',\n  'play,0.02',\n  'develop,0.02',\n  'help,0.02',\n  'protect,0.02',\n  'study,0.02',\n  'question,0.02',\n  'mine,0.06',\n  'increase,0.02',\n  'field,0.23',\n  'range,0.02',\n  'identify,0.02',\n  'deposit,0.38',\n  'undertake,0.02',\n  'permit,0.02',\n  'follow,0.02',\n  'facilitate,0.02',\n  'travel,0.02',\n  'view,0.02'],\n ['волюнтаристская',\n  'reflect,0.20',\n  'rate,0.20',\n  'organize,0.20',\n  'end,0.20',\n  'consider,0.20'],\n ['Триплеттом', 'provide,0.40', 'be,0.40', 'derive,0.20'],\n ['рассчитаны',\n  'derive,0.01',\n  'calculate,0.17',\n  'aim,0.01',\n  'design,0.07',\n  'be,0.34',\n  'base,0.05',\n  'estimate,0.03',\n  'gear,0.02',\n  'target,0.03',\n  'have,0.05',\n  'intend,0.03'],\n ['Социальный',\n  'abstain,0.05',\n  'strengthen,0.07',\n  'number,0.02',\n  'seat,0.02',\n  'exclude,0.02',\n  'speak,0.02',\n  'develop,0.02',\n  'provide,0.02',\n  'transfer,0.02',\n  'fight,0.07',\n  'note,0.09',\n  'encourage,0.02',\n  'transmit,0.02',\n  'progress,0.02',\n  'fill,0.02',\n  'be,0.02',\n  'accord,0.02',\n  'annex,0.09',\n  'empower,0.02',\n  'drink,0.05',\n  'break,0.02',\n  'report,0.05',\n  'line,0.02',\n  'average,0.02',\n  'rule,0.05',\n  'compile,0.02',\n  'remain,0.02',\n  'continue,0.02'],\n ['расширяемый',\n  'contribute,0.09',\n  'extend,0.18',\n  'supply,0.09',\n  'process,0.09',\n  'share,0.09',\n  'support,0.09',\n  'level,0.09',\n  'serve,0.09',\n  'combine,0.09',\n  'promote,0.09'],\n ['расширяемые',\n  'need,0.10',\n  'be,0.10',\n  'post,0.10',\n  'establish,0.10',\n  'expand,0.60'],\n ['носителям',\n  'support,0.07',\n  'explain,0.07',\n  'welcome,0.07',\n  'imply,0.07',\n  'reflect,0.07',\n  'live,0.21',\n  'exist,0.14',\n  'conduct,0.07',\n  'limit,0.07',\n  'approach,0.07',\n  'enforce,0.07'],\n ['свободнее',\n  'do,0.14',\n  'explain,0.14',\n  'free,0.14',\n  'increase,0.14',\n  'abuse,0.14',\n  'follow,0.14',\n  'improve,0.14'],\n ['вносимым',\n  'be,0.16',\n  'work,0.06',\n  'do,0.03',\n  'propose,0.12',\n  'make,0.19',\n  'gather,0.03',\n  'introduce,0.06',\n  'restrict,0.03',\n  'produce,0.06',\n  'submit,0.03',\n  'relate,0.06',\n  'exclude,0.03',\n  'estimate,0.03',\n  'guide,0.03',\n  'match,0.03'],\n ['Выдвигаемые', 'state,0.20', 'require,0.20', 'remove,0.20', 'grind,0.40'],\n ['фиксированного', 'set,0.01', 'fix,0.84', 'value,0.02'],\n ['сличаются',\n  'be,0.18',\n  'compare,0.06',\n  'read,0.06',\n  'double,0.12',\n  'detail,0.06',\n  'manifest,0.06',\n  'board,0.06',\n  'alert,0.06',\n  'check,0.24',\n  'match,0.06'],\n ['главного',\n  'major,0.26',\n  'focus,0.06',\n  'lead,0.17',\n  'top,0.03',\n  'master,0.29',\n  'override,0.01',\n  'be,0.03',\n  'head,0.04',\n  'mandate,0.01',\n  'guide,0.02'],\n ['возникающая',\n  'emerge,0.08',\n  'entail,0.07',\n  'result,0.21',\n  'arise,0.31',\n  'need,0.02',\n  'witness,0.02',\n  'recur,0.02',\n  'create,0.02',\n  'replicate,0.01',\n  'cause,0.02',\n  'do,0.02',\n  'risk,0.01',\n  'incur,0.01',\n  'found,0.01',\n  'generate,0.02',\n  'face,0.02'],\n ['кормильцы',\n  'wage,0.24',\n  'do,0.05',\n  'earn,0.05',\n  'represent,0.05',\n  'shelter,0.05',\n  'cash,0.05',\n  'face,0.10',\n  'provide,0.05',\n  'single,0.05',\n  'affect,0.05',\n  'destroy,0.05',\n  'process,0.05',\n  'spend,0.05',\n  'head,0.05',\n  'throw,0.05',\n  'conflict,0.05'],\n ['ЧЛЕНАМИ',\n  'comment,0.09',\n  'be,0.09',\n  'invite,0.09',\n  'express,0.09',\n  'state,0.09',\n  'submit,0.09',\n  'appropriate,0.09',\n  'undertake,0.09',\n  'implement,0.09',\n  'estimate,0.09',\n  'consider,0.09'],\n ['Материнство',\n  'comment,0.17',\n  'accord,0.17',\n  'administer,0.17',\n  'measure,0.17',\n  'date,0.17',\n  'order,0.17'],\n ['Предполагаемый',\n  'intend,0.07',\n  'assume,0.07',\n  'travel,0.07',\n  'forecast,0.53',\n  'expect,0.07',\n  'net,0.07',\n  'allege,0.13'],\n ['участвуем',\n  'contribute,0.01',\n  'involve,0.09',\n  'have,0.11',\n  'participate,0.25',\n  'take,0.01',\n  'be,0.32',\n  'engage,0.13'],\n ['Предполагаемые',\n  'foresee,0.09',\n  'issue,0.09',\n  'anticipate,0.09',\n  'contact,0.09',\n  'expect,0.18',\n  'imagine,0.09',\n  'vote,0.09',\n  'affect,0.09',\n  'document,0.09',\n  'allege,0.09'],\n ['расположив',\n  'locate,0.20',\n  'matter,0.20',\n  'include,0.20',\n  'cover,0.20',\n  'subject,0.20'],\n ['подрывалось',\n  'be,0.10',\n  'account,0.05',\n  'erode,0.10',\n  'subvert,0.05',\n  'jeopardize,0.05',\n  'back,0.05',\n  'mine,0.05',\n  'receive,0.05',\n  'rate,0.05',\n  'compromise,0.10',\n  'have,0.05',\n  'offset,0.05',\n  'destroy,0.05',\n  'frustrate,0.05',\n  'disrupt,0.05',\n  'hamper,0.05',\n  'undermine,0.10'],\n ['столицы',\n  'do,0.14',\n  'practice,0.07',\n  'suspend,0.07',\n  'annex,0.07',\n  'process,0.21',\n  'confront,0.07',\n  'blanket,0.07',\n  'work,0.07',\n  'submit,0.07',\n  'start,0.07',\n  'think,0.07'],\n ['1995-96',\n  'be,0.14',\n  'like,0.14',\n  'result,0.14',\n  'release,0.14',\n  'found,0.14',\n  'model,0.14',\n  'engineer,0.14'],\n ['столицу',\n  'expel,0.04',\n  'number,0.08',\n  'kill,0.04',\n  'cancel,0.04',\n  'market,0.04',\n  'confirm,0.04',\n  'transfer,0.04',\n  'interact,0.04',\n  'cross,0.04',\n  'occupy,0.04',\n  'add,0.04',\n  'take,0.08',\n  'conduct,0.04',\n  'reach,0.04',\n  'post,0.04',\n  'shoot,0.04',\n  'advance,0.04',\n  'land,0.04',\n  'attempt,0.04',\n  'name,0.04',\n  'benefit,0.04',\n  'arrive,0.04'],\n ['положит',\n  'set,0.02',\n  'bring,0.16',\n  'usher,0.02',\n  'putt,0.04',\n  'end,0.04',\n  'lead,0.02',\n  'mark,0.03',\n  'be,0.10',\n  'serve,0.01',\n  'put,0.31',\n  'place,0.02',\n  'can,0.03'],\n ['провозе',\n  'claim,0.02',\n  'land,0.02',\n  'detect,0.02',\n  'declare,0.02',\n  'transfer,0.02',\n  'expose,0.04',\n  'supplement,0.02',\n  'rule,0.04',\n  'air,0.02',\n  'resort,0.04',\n  'admit,0.02',\n  'engage,0.02',\n  'place,0.02',\n  'take,0.02',\n  'want,0.02',\n  'govern,0.02',\n  'border,0.02',\n  'smuggle,0.52',\n  'transport,0.04'],\n ['провоза',\n  'bring,0.01',\n  'carry,0.01',\n  'ship,0.02',\n  'transport,0.06',\n  'transfer,0.05',\n  'cross,0.01',\n  'allow,0.01',\n  'smuggle,0.68'],\n ['проектно-конструкторские',\n  'develop,0.01',\n  'study,0.01',\n  'construct,0.04',\n  'research,0.03',\n  'project,0.01',\n  'design,0.45',\n  'plan,0.03',\n  'specialize,0.01',\n  'engineer,0.41'],\n ['проектно-конструкторским', 'design,0.89', 'engineer,0.11'],\n ['отстаиваемому',\n  'uphold,0.12',\n  'contradict,0.12',\n  'visit,0.12',\n  'send,0.12',\n  'insist,0.12',\n  'hold,0.12',\n  'dispute,0.25'],\n ['гомосексуальных',\n  'return,0.09',\n  'couple,0.18',\n  'build,0.09',\n  'conflict,0.09',\n  'enact,0.09',\n  'cause,0.09',\n  'screen,0.09',\n  'comprise,0.09',\n  'wait,0.09'],\n ['снимут',\n  'be,0.18',\n  'resolve,0.02',\n  'consider,0.02',\n  'give,0.02',\n  'light,0.02',\n  'ease,0.02',\n  'waive,0.12',\n  'remove,0.06',\n  'throw,0.02',\n  'lift,0.10',\n  'eliminate,0.06',\n  'withdraw,0.25',\n  'cancel,0.02',\n  'make,0.02',\n  'substitute,0.02'],\n ['признать',\n  'acknowledge,0.16',\n  'be,0.08',\n  'declare,0.02',\n  'admit,0.04',\n  'establish,0.04',\n  'recognize,0.50',\n  'accept,0.09'],\n ['междепутатской',\n  'go,0.12',\n  'petition,0.25',\n  'request,0.25',\n  'like,0.25',\n  'have,0.12'],\n ['Тайко', 'catapult,0.20', 'be,0.20', 'top,0.20', 'result,0.20', 'have,0.20'],\n ['ЗПИФО',\n  'be,0.25',\n  'provide,0.12',\n  'wish,0.12',\n  'impose,0.12',\n  'draft,0.12',\n  'carry,0.12',\n  'concern,0.12'],\n ['малоразмерного',\n  'involve,0.20',\n  'manufacture,0.20',\n  'can,0.20',\n  'crop,0.20',\n  'participate,0.20'],\n ['аналога',\n  'note,0.06',\n  'like,0.06',\n  'come,0.06',\n  'concede,0.06',\n  'commend,0.06',\n  'exist,0.06',\n  'mobilize,0.06',\n  'apply,0.06',\n  'issue,0.06',\n  'parallel,0.38'],\n ['СТАБИЛЬНОСТЬ',\n  'be,0.41',\n  'zone,0.04',\n  'surround,0.15',\n  'add,0.19',\n  'have,0.04',\n  'pass,0.04',\n  'mean,0.15'],\n ['неиссякаемым',\n  'be,0.20',\n  'comfort,0.20',\n  'join,0.20',\n  'extend,0.20',\n  'turn,0.20'],\n ['накопительный',\n  'set,0.10',\n  'help,0.10',\n  'flow,0.20',\n  'fund,0.30',\n  'cost,0.10',\n  'deposit,0.10',\n  'offset,0.10'],\n ['опустившейся',\n  'deposit,0.14',\n  'descend,0.14',\n  'have,0.14',\n  'fuel,0.14',\n  'overturn,0.14',\n  'sink,0.29'],\n ['факт',\n  'lack,0.03',\n  'note,0.09',\n  'encourage,0.01',\n  'found,0.02',\n  'see,0.02',\n  'matter,0.01',\n  'be,0.35',\n  'place,0.01',\n  'act,0.02',\n  'point,0.03',\n  'regard,0.01',\n  'learn,0.01',\n  'give,0.02',\n  'have,0.18',\n  'take,0.01'],\n ['уместном',\n  'appropriate,0.43',\n  'place,0.14',\n  'debate,0.14',\n  'determine,0.14',\n  'consider,0.14'],\n ['факс'],\n ['уместной',\n  'appropriate,0.77',\n  'seem,0.01',\n  'be,0.05',\n  'welcome,0.02',\n  'anticipate,0.01',\n  'place,0.01'],\n ['Бонье',\n  'be,0.11',\n  'prevent,0.11',\n  'deserve,0.11',\n  'try,0.11',\n  'race,0.11',\n  'know,0.11',\n  'have,0.11',\n  'arm,0.11',\n  'overcome,0.11'],\n ['освистан', 'be,0.40', 'move,0.20', 'group,0.20', 'boo,0.20'],\n ['экземплярами',\n  'do,0.02',\n  'receive,0.02',\n  'time,0.05',\n  'prefer,0.02',\n  'telephone,0.01',\n  'utilize,0.06',\n  'bring,0.02',\n  'address,0.01',\n  'position,0.01',\n  'copy,0.75'],\n ['ЭТНИЧЕСКИМ',\n  'review,0.14',\n  'belong,0.14',\n  'request,0.14',\n  'project,0.14',\n  'field,0.14',\n  'carry,0.14',\n  'issue,0.14'],\n ['изнасиловала', 'be,0.25', 'group,0.12', 'rape,0.62'],\n ['ЗЕЛЬНЕР', 'vote,0.20', 'be,0.20', 'base,0.20', 'draft,0.20', 'adopt,0.20'],\n ['изнасиловали',\n  'be,0.13',\n  'consider,0.02',\n  'torture,0.02',\n  'have,0.07',\n  'rape,0.73'],\n ['взаимоподдержки',\n  'function,0.11',\n  'be,0.11',\n  'show,0.11',\n  'support,0.33',\n  'share,0.11',\n  'examine,0.11',\n  'promise,0.11'],\n ['компромиссное', 'consider,0.01', 'compromise,0.89'],\n ['форматированию', 'print,0.33', 'provide,0.33', 'reduce,0.33'],\n ['форматирования',\n  'assure,0.20',\n  'mirror,0.20',\n  'document,0.20',\n  'accompany,0.20',\n  'contain,0.20'],\n ['компромиссной',\n  'satisfy,0.02',\n  'consist,0.02',\n  'deal,0.02',\n  'conclude,0.02',\n  'suggest,0.02',\n  'adopt,0.02',\n  'feature,0.02',\n  'resume,0.02',\n  'grind,0.02',\n  'accommodate,0.02',\n  'compromise,0.76',\n  'time,0.02',\n  'go,0.02',\n  'meet,0.02',\n  'refer,0.02'],\n ['отодвинутым',\n  'be,0.08',\n  'marginalize,0.17',\n  'insist,0.17',\n  'position,0.25',\n  'underlie,0.08',\n  'become,0.08',\n  'debate,0.17'],\n ['компромиссном',\n  'violate,0.04',\n  'fit,0.04',\n  'number,0.04',\n  'aim,0.04',\n  'see,0.04',\n  'exist,0.04',\n  'contain,0.08',\n  'compromise,0.62',\n  'arrive,0.04'],\n ['условно48', 'sentence,0.33', 'suspend,0.33', 'have,0.17', 'give,0.17'],\n ['царящие',\n  'regard,0.09',\n  'afflict,0.09',\n  'create,0.09',\n  'practice,0.18',\n  'plague,0.09',\n  'prevail,0.45'],\n ['царящий',\n  'fashion,0.08',\n  'afflict,0.08',\n  'obtain,0.08',\n  'surround,0.08',\n  'detect,0.08',\n  'exist,0.08',\n  'have,0.17',\n  'found,0.08',\n  'approach,0.08',\n  'thrive,0.08',\n  'subject,0.08'],\n ['санитарно-гигиеническими',\n  'desire,0.11',\n  'conclude,0.11',\n  'regard,0.11',\n  'serve,0.22',\n  'project,0.11',\n  'undertake,0.11',\n  'promote,0.11',\n  'change,0.11'],\n ['перевозятся', 'move,0.01', 'carry,0.36', 'transport,0.14', 'be,0.45'],\n ['стратегическими',\n  'comment,0.06',\n  'control,0.06',\n  'strengthen,0.03',\n  'recognize,0.03',\n  'manage,0.03',\n  'focus,0.03',\n  'identify,0.03',\n  'result,0.11',\n  'need,0.03',\n  'establish,0.08',\n  'occur,0.03',\n  'guarantee,0.03',\n  'increase,0.03',\n  'attack,0.03',\n  'take,0.03',\n  'subject,0.03',\n  'approach,0.03',\n  'achieve,0.03',\n  'define,0.03',\n  'base,0.03',\n  'address,0.03',\n  'revolve,0.03',\n  'deny,0.03',\n  'target,0.03',\n  'dedicate,0.03',\n  'can,0.03',\n  'position,0.06',\n  'guide,0.03'],\n ['кустарному',\n  'dump,0.17',\n  'practice,0.17',\n  'outnumber,0.17',\n  'craft,0.17',\n  'orient,0.17',\n  'concern,0.17'],\n ['МКВУ', 'like,0.33', 'accept,0.33', 'take,0.33'],\n ['трудящимся-мигрантом',\n  'do,0.11',\n  'engage,0.11',\n  'migrate,0.11',\n  'terminate,0.11',\n  'say,0.11',\n  'set,0.11',\n  'apply,0.11',\n  'commit,0.11',\n  'mean,0.11'],\n ['замерзшей', 'used,0.12', 'exist,0.38', 'energize,0.12', 'freeze,0.38'],\n ['увязывал', 'link,0.70', 'have,0.20', 'enter,0.10'],\n ['практикующего',\n  'omit,0.18',\n  'entail,0.06',\n  'recognize,0.12',\n  'defend,0.06',\n  'practice,0.29',\n  'indicate,0.06',\n  'venture,0.06',\n  'relate,0.06',\n  'position,0.06',\n  'come,0.06'],\n ['идентификатором',\n  'used,0.05',\n  'associate,0.05',\n  'provide,0.10',\n  'report,0.05',\n  'draft,0.05',\n  'contain,0.43',\n  'push,0.05',\n  'include,0.14',\n  'fine,0.05',\n  'specify,0.05'],\n ['т.е.люди', 'include,1.00'],\n ['идентификаторов',\n  'putt,0.05',\n  'used,0.05',\n  'like,0.05',\n  'do,0.05',\n  'be,0.11',\n  'study,0.05',\n  'overlap,0.05',\n  'field,0.11',\n  'foster,0.05',\n  'draft,0.05',\n  'introduce,0.05',\n  'follow,0.11',\n  'constrain,0.05',\n  'structure,0.05'],\n ['оседали',\n  'down,0.05',\n  'play,0.05',\n  'scale,0.05',\n  'proceed,0.05',\n  'do,0.05',\n  'receive,0.05',\n  'conspire,0.05',\n  'wave,0.05',\n  'involve,0.05',\n  'host,0.05',\n  'settle,0.05',\n  'place,0.05',\n  'take,0.05',\n  'have,0.11',\n  'participate,0.05',\n  'report,0.05',\n  'arrive,0.05',\n  'wait,0.05'],\n ['сооб-щила', 'report,0.67', 'indicate,0.17', 'make,0.17'],\n ['лопастей',\n  'incorporate,0.07',\n  'run,0.13',\n  'wash,0.40',\n  'attack,0.13',\n  'pitch,0.13',\n  'generate,0.13'],\n ['узкоспециализированной',\n  'specialize,0.31',\n  'work,0.08',\n  'replace,0.08',\n  'field,0.08',\n  'produce,0.08',\n  'limit,0.08',\n  'time,0.08',\n  'test,0.08',\n  'promote,0.08',\n  'counter,0.08'],\n ['ограничившие',\n  'be,0.13',\n  'begin,0.03',\n  'thank,0.03',\n  'restrict,0.41',\n  'limit,0.21',\n  'have,0.18',\n  'impede,0.03'],\n ['Statistics',\n  'derive,0.09',\n  'acknowledge,0.09',\n  'aim,0.09',\n  'race,0.18',\n  'export,0.18',\n  'have,0.09',\n  'need,0.18',\n  'warrant,0.09'],\n ['Лишение',\n  'decree,0.17',\n  'deprive,0.17',\n  'take,0.17',\n  'measure,0.17',\n  'need,0.17',\n  'highlight,0.17'],\n ['отражающую',\n  'represent,0.09',\n  'depict,0.01',\n  'show,0.09',\n  'express,0.01',\n  'reflect,0.65',\n  'base,0.01',\n  'account,0.01',\n  'outline,0.01',\n  'contain,0.01'],\n ['ограничивший',\n  'restrict,0.43',\n  'report,0.14',\n  'state,0.14',\n  'limit,0.14',\n  'measure,0.14'],\n ['отвергло',\n  'accept,0.01',\n  'down,0.01',\n  'have,0.23',\n  'renounce,0.01',\n  'reject,0.47',\n  'dismiss,0.03',\n  'deny,0.12',\n  'refute,0.02',\n  'turn,0.01'],\n ['биоресурсов',\n  'depend,0.08',\n  'fund,0.08',\n  'practice,0.17',\n  'heat,0.08',\n  'introduce,0.08',\n  'pressure,0.08',\n  'live,0.17',\n  'pass,0.08',\n  'establish,0.08',\n  'stock,0.08'],\n ['отвергли', 'have,0.16', 'reject,0.64', 'be,0.02', 'deny,0.06'],\n ['отвергла',\n  'have,0.21',\n  'refute,0.02',\n  'reject,0.59',\n  'be,0.02',\n  'dismiss,0.01',\n  'deny,0.06'],\n ['объединенными',\n  'consolidate,0.07',\n  'bring,0.04',\n  'group,0.02',\n  'unite,0.13',\n  'combine,0.16',\n  'integrate,0.16',\n  'cause,0.08',\n  'associate,0.04',\n  'pool,0.06',\n  'unify,0.03',\n  'work,0.02'],\n ['двенадцатимесячной', 'control,0.48', 'prescribe,0.48', 'establish,0.04'],\n ['идентифицируемая', 'identify,0.27', 'issue,0.41', 'mean,0.32'],\n ['жаркого',\n  'plant,0.10',\n  'make,0.10',\n  'record,0.10',\n  'heat,0.10',\n  'kill,0.10',\n  'peak,0.10',\n  'affect,0.10',\n  'become,0.10',\n  'cool,0.10',\n  'mean,0.10'],\n ['классифицируя',\n  'accord,0.11',\n  'render,0.11',\n  'make,0.11',\n  'characterize,0.11',\n  'apply,0.11',\n  'classify,0.44'],\n ['низовым',\n  'term,0.09',\n  'enable,0.09',\n  'raise,0.09',\n  'lend,0.09',\n  'level,0.09',\n  'detail,0.09',\n  'utilize,0.09',\n  'rehabilitate,0.09',\n  'degrade,0.09',\n  'damage,0.09',\n  'root,0.09'],\n ['легкоатлетических', 'track,0.40', 'field,0.40', 'empower,0.20'],\n ['государству-члену',\n  'account,0.09',\n  'deal,0.18',\n  'form,0.18',\n  'conclude,0.09',\n  'rise,0.18',\n  'state,0.09',\n  'designate,0.09'],\n ['возбудители',\n  'be,0.10',\n  'play,0.10',\n  'alarm,0.10',\n  'state,0.10',\n  'contaminate,0.10',\n  'cause,0.40',\n  'guide,0.10'],\n ['тайфуны',\n  'locate,0.08',\n  'compose,0.08',\n  'used,0.08',\n  'force,0.08',\n  'like,0.08',\n  'ravage,0.08',\n  'wave,0.08',\n  'square,0.08',\n  'understand,0.08',\n  'result,0.08',\n  'measure,0.08',\n  'strike,0.08'],\n ['заявивших',\n  'claim,0.05',\n  'represent,0.02',\n  'say,0.07',\n  'have,0.24',\n  'make,0.03',\n  'indicate,0.03',\n  'state,0.09',\n  'accord,0.02',\n  'express,0.06',\n  'assert,0.02',\n  'report,0.10',\n  'declare,0.14'],\n ['горд',\n  'be,0.70',\n  'feel,0.09',\n  'belong,0.03',\n  'have,0.12',\n  'become,0.03',\n  'pride,0.03'],\n ['горе',\n  'love,0.03',\n  'feel,0.11',\n  'mine,0.03',\n  'walk,0.03',\n  'bring,0.03',\n  'rule,0.03',\n  'sow,0.03',\n  'go,0.03',\n  'suffer,0.13',\n  'witness,0.03',\n  'strengthen,0.03',\n  'spread,0.03',\n  'sustain,0.03',\n  'cause,0.03',\n  'plunge,0.03',\n  'mourn,0.13',\n  'know,0.03',\n  'grieve,0.05',\n  'value,0.03',\n  'experience,0.03',\n  'continue,0.05',\n  'time,0.03',\n  'steep,0.03',\n  'result,0.05'],\n ['швырнул',\n  'be,0.15',\n  'guard,0.23',\n  'have,0.08',\n  'hurl,0.08',\n  'become,0.08',\n  'throw,0.38'],\n ['неукоснительного',\n  'force,0.01',\n  'do,0.01',\n  'strengthen,0.01',\n  'bound,0.09',\n  'undertake,0.01',\n  'respect,0.03',\n  'guarantee,0.02',\n  'abide,0.07',\n  'adhere,0.11',\n  'sustain,0.01',\n  'care,0.02',\n  'be,0.15',\n  'complete,0.02',\n  'observe,0.06',\n  'comply,0.04',\n  'possess,0.01',\n  'continue,0.02',\n  'can,0.03',\n  'time,0.01',\n  'enhance,0.02'],\n ['веке',\n  'stress,0.07',\n  'reform,0.03',\n  'age,0.33',\n  'question,0.03',\n  'brief,0.03',\n  'send,0.03',\n  'constitute,0.03',\n  'start,0.03',\n  'struggle,0.10',\n  'sense,0.03',\n  'create,0.07',\n  'achieve,0.13',\n  'plan,0.07'],\n ['установившей',\n  'set,0.09',\n  'confirm,0.03',\n  'approve,0.09',\n  'support,0.03',\n  'adopt,0.03',\n  'introduce,0.03',\n  'state,0.03',\n  'usher,0.03',\n  'take,0.03',\n  'have,0.22',\n  'put,0.03',\n  'replicate,0.03',\n  'establish,0.25',\n  'create,0.03',\n  'channel,0.03'],\n ['века',\n  'be,0.02',\n  'begin,0.03',\n  'emerge,0.01',\n  'age,0.72',\n  'put,0.01',\n  'appropriate,0.01',\n  'experience,0.01',\n  'wave,0.01',\n  'need,0.01',\n  'charge,0.01',\n  'master,0.01',\n  'change,0.01',\n  'time,0.03',\n  'touch,0.02',\n  'clear,0.01',\n  'witness,0.03',\n  'speak,0.02'],\n ['препровождаемую',\n  'commission,0.02',\n  'provide,0.07',\n  'report,0.05',\n  'time,0.02',\n  'forward,0.20',\n  'come,0.61'],\n ['разбалансировки', 'be,0.40', 'retire,0.20', 'tire,0.20'],\n ['распро-', 'promote,0.40', 'disseminate,0.40'],\n ['приобщение',\n  'tap,0.02',\n  'give,0.03',\n  'share,0.03',\n  'direct,0.02',\n  'commend,0.02',\n  'bring,0.05',\n  'imply,0.02',\n  'embrace,0.02',\n  'have,0.02',\n  'need,0.02',\n  'follow,0.02',\n  'open,0.02',\n  'accustom,0.02',\n  'court,0.05',\n  'prepare,0.02',\n  'attach,0.03',\n  'seek,0.03',\n  'ratify,0.02',\n  'resort,0.02',\n  'encourage,0.02',\n  'spearhead,0.02',\n  'include,0.03',\n  'approach,0.02',\n  'refer,0.05',\n  'enable,0.02',\n  'acquire,0.03',\n  'introduce,0.05',\n  'base,0.02',\n  'link,0.02',\n  'induce,0.02',\n  'teach,0.02',\n  'present,0.03',\n  'involve,0.02',\n  'discourage,0.02',\n  'engage,0.03',\n  'age,0.02',\n  'value,0.02',\n  'aim,0.03',\n  'commit,0.02',\n  'steer,0.03'],\n ['предрассудков',\n  'mind,0.03',\n  'bias,0.60',\n  'approach,0.02',\n  'practice,0.05',\n  'pressure,0.02',\n  'change,0.02',\n  'level,0.05'],\n ['процедурную',\n  'be,0.25',\n  'accord,0.25',\n  'process,0.12',\n  'move,0.12',\n  'negotiate,0.12',\n  'mishandle,0.12'],\n ['подвергнет',\n  'examine,0.06',\n  'create,0.02',\n  'perform,0.02',\n  'review,0.04',\n  'jeopardize,0.02',\n  'shelter,0.02',\n  'document,0.02',\n  'form,0.02',\n  'annex,0.02',\n  'afford,0.02',\n  'expose,0.21',\n  'reflect,0.02',\n  'imperil,0.02',\n  'put,0.04',\n  'throw,0.02',\n  'present,0.02',\n  'appoint,0.02',\n  'appeal,0.02',\n  'request,0.02',\n  'try,0.02',\n  'place,0.02',\n  'can,0.02',\n  'endanger,0.17',\n  'make,0.04',\n  'revise,0.02',\n  'mean,0.02'],\n ['предрассудком',\n  'be,0.17',\n  'incorporate,0.17',\n  'represent,0.17',\n  'question,0.17',\n  'repel,0.17',\n  'root,0.17'],\n ['нераспределенного',\n  'be,0.20',\n  'set,0.10',\n  'advance,0.10',\n  'wish,0.10',\n  'express,0.10',\n  'team,0.10',\n  'estimate,0.10',\n  'include,0.10'],\n ['вечера',\n  'extort,0.05',\n  'care,0.05',\n  'impose,0.05',\n  'set,0.05',\n  'fit,0.05',\n  'schedule,0.05',\n  'owe,0.05',\n  'empower,0.05',\n  'work,0.05',\n  'list,0.05',\n  'finish,0.05',\n  'taste,0.05',\n  'deem,0.05',\n  'devote,0.05',\n  'rape,0.05',\n  'go,0.05',\n  'operate,0.05',\n  'comply,0.05',\n  'listen,0.05'],\n ['Общеевропейскую',\n  'be,0.14',\n  'set,0.14',\n  'foresee,0.14',\n  'target,0.14',\n  'date,0.14',\n  'establish,0.29'],\n ['Нагасаки', 'bomb,0.33', 'host,0.17', 'cause,0.50'],\n ['liberalizing', 'liberalize,1.00'],\n ['заблокированием',\n  'lack,0.17',\n  'freeze,0.17',\n  'clarify,0.17',\n  'appropriate,0.17',\n  'can,0.17',\n  'conduct,0.17'],\n ['укореняет',\n  'perpetuate,0.21',\n  'reinforce,0.29',\n  'can,0.21',\n  'have,0.07',\n  'root,0.07'],\n ['лишат',\n  'be,0.05',\n  'deny,0.14',\n  'suffer,0.05',\n  'erode,0.05',\n  'deal,0.05',\n  'project,0.05',\n  'prevent,0.05',\n  'preclude,0.05',\n  'keep,0.05',\n  'deprive,0.27',\n  'shape,0.05',\n  'gain,0.05',\n  'interfere,0.05',\n  'establish,0.05',\n  'secure,0.05'],\n ['весовыми',\n  'weight,0.74',\n  'provide,0.05',\n  'construct,0.05',\n  'add,0.05',\n  'place,0.05',\n  'value,0.05'],\n ['популярную',\n  'draw,0.09',\n  'subscribe,0.09',\n  'read,0.09',\n  'simplify,0.09',\n  'encourage,0.09',\n  'call,0.09',\n  'report,0.09',\n  'include,0.09',\n  'arrange,0.09'],\n ['лишая',\n  'prevent,0.05',\n  'rob,0.02',\n  'deprive,0.38',\n  'strip,0.02',\n  'exclude,0.02',\n  'compromise,0.02',\n  'be,0.02',\n  'deny,0.28',\n  'remove,0.01',\n  'leave,0.04'],\n ['Ранисавлевич',\n  'be,0.30',\n  'begin,0.10',\n  'hold,0.20',\n  'have,0.30',\n  'conduct,0.10'],\n ['сюрвейянс',\n  'credit,0.20',\n  'estimate,0.20',\n  'heat,0.20',\n  'contract,0.20',\n  'offset,0.20'],\n ['развертываем',\n  'be,0.20',\n  'deploy,0.33',\n  'process,0.07',\n  'confront,0.07',\n  'introduce,0.07',\n  'initiate,0.07',\n  'have,0.13',\n  'conduct,0.07'],\n ['поголовная',\n  'be,0.12',\n  'harm,0.12',\n  'complete,0.12',\n  'sweep,0.12',\n  'attack,0.25',\n  'name,0.25'],\n ['виктимологии',\n  'help,0.14',\n  'title,0.14',\n  'propose,0.14',\n  'contribute,0.14',\n  'turn,0.14',\n  'produce,0.14',\n  'master,0.14'],\n ['проталкиваются',\n  'be,0.12',\n  'figure,0.06',\n  'show,0.06',\n  'back,0.25',\n  'forward,0.06',\n  'push,0.31',\n  'promote,0.06',\n  'pull,0.06'],\n ['измышлений',\n  'sort,0.05',\n  'lie,0.23',\n  'engage,0.05',\n  'attempt,0.05',\n  'sow,0.05',\n  'fund,0.05',\n  'forward,0.05',\n  'discredit,0.05',\n  'have,0.18',\n  'put,0.05',\n  'extort,0.09',\n  'document,0.05',\n  'fine,0.05',\n  'undermine,0.05'],\n ['following', 'follow,1.00'],\n ['выдвигаю',\n  'be,0.14',\n  'bring,0.05',\n  'propose,0.10',\n  'make,0.14',\n  'putt,0.05',\n  'forward,0.14',\n  'place,0.05',\n  'take,0.05',\n  'suggest,0.05',\n  'put,0.10',\n  'validate,0.05',\n  'safeguard,0.05',\n  'worry,0.05'],\n ['выдвигая',\n  'bring,0.03',\n  'putt,0.11',\n  'raise,0.02',\n  'make,0.15',\n  'submit,0.02',\n  'launch,0.01',\n  'take,0.02',\n  'forward,0.13',\n  'cite,0.01',\n  'emphasize,0.01',\n  'propose,0.04',\n  'introduce,0.01',\n  'base,0.02',\n  'accuse,0.01',\n  'put,0.02',\n  'promote,0.02',\n  'come,0.01',\n  'present,0.04',\n  'advance,0.02',\n  'level,0.02',\n  'pursue,0.01',\n  'nominate,0.05',\n  'impose,0.02',\n  'highlight,0.02',\n  'place,0.01',\n  'meet,0.01',\n  'order,0.01'],\n ['ЗАМРАУИ',\n  'figure,0.14',\n  'communicate,0.14',\n  'reflect,0.14',\n  'assure,0.14',\n  'report,0.14',\n  'commit,0.14',\n  'expand,0.14'],\n ['соблю-дением',\n  'control,0.20',\n  'be,0.20',\n  'comply,0.20',\n  'have,0.20',\n  'bring,0.20'],\n ['Мажилиса',\n  'appoint,0.21',\n  'be,0.37',\n  'leave,0.11',\n  'act,0.11',\n  'include,0.05',\n  'wind,0.16'],\n ['Буферная', 'distance,0.20', 'deliver,0.20', 'gun,0.20', 'rival,0.20'],\n ['Эшдауна',\n  'confirm,0.12',\n  'support,0.12',\n  'see,0.12',\n  'dissolve,0.12',\n  'state,0.12',\n  'come,0.12',\n  'occur,0.12',\n  'change,0.12'],\n ['женщины-фермеры',\n  'farm,0.22',\n  'make,0.11',\n  'influence,0.11',\n  'equal,0.11',\n  'replace,0.11',\n  'base,0.11',\n  'respect,0.11'],\n ['истратило',\n  'feed,0.12',\n  'be,0.12',\n  'purchase,0.12',\n  'commission,0.25',\n  'total,0.12',\n  'spend,0.25'],\n ['.УВКБ',\n  'force,0.17',\n  'transfer,0.17',\n  'support,0.17',\n  'position,0.17',\n  'affect,0.17',\n  'appeal,0.17'],\n ['планетах',\n  'be,0.17',\n  'move,0.17',\n  'surround,0.17',\n  'shape,0.17',\n  'arise,0.17',\n  'circle,0.17'],\n ['Контртеррористического',\n  'prevent,0.02',\n  'detect,0.02',\n  'attempt,0.02',\n  'extend,0.24',\n  'exchange,0.02',\n  'stave,0.02',\n  'question,0.03',\n  'sign,0.03',\n  'date,0.02',\n  'file,0.03',\n  'act,0.03',\n  'transmit,0.05',\n  'establish,0.16',\n  'concern,0.32'],\n ['Наблюдения',\n  'monitor,0.27',\n  'object,0.09',\n  'encourage,0.27',\n  'appropriate,0.09',\n  'link,0.09',\n  'include,0.09',\n  'cause,0.09'],\n ['оказывающего',\n  'help,0.02',\n  'have,0.07',\n  'concern,0.01',\n  'provide,0.35',\n  'advocate,0.01',\n  'assist,0.24',\n  'deliver,0.01',\n  'decide,0.02',\n  'resist,0.02',\n  'benefit,0.01',\n  'aid,0.07',\n  'facilitate,0.01',\n  'furnish,0.01'],\n ['ГДФМ',\n  'transform,0.14',\n  'remove,0.14',\n  'mark,0.14',\n  'doubt,0.14',\n  'report,0.29',\n  'change,0.14'],\n ['бракованных',\n  'be,0.18',\n  'exchange,0.09',\n  'scrap,0.09',\n  'question,0.09',\n  'discover,0.09',\n  'value,0.09',\n  'settle,0.09',\n  'reject,0.09',\n  'test,0.09',\n  'make,0.09'],\n ['лямкой', 'contain,0.04', 'form,0.08', 'strap,0.88'],\n ['понимаешь',\n  'be,0.38',\n  'begin,0.12',\n  'reveal,0.12',\n  'face,0.12',\n  'understand,0.12',\n  'put,0.12'],\n ['ища',\n  'term,0.08',\n  'set,0.08',\n  'look,0.08',\n  'seek,0.46',\n  'create,0.08',\n  'result,0.08',\n  'border,0.08',\n  'take,0.08'],\n ['атомная',\n  'draw,0.09',\n  'consider,0.09',\n  'cap,0.09',\n  'enlarge,0.09',\n  'trade,0.09',\n  'rate,0.09',\n  'score,0.09',\n  'accelerate,0.09',\n  'have,0.09',\n  'divert,0.09',\n  'achieve,0.09'],\n ['управ-ления',\n  'control,0.17',\n  'point,0.17',\n  'receive,0.17',\n  'manage,0.17',\n  'initiate,0.17',\n  'have,0.17'],\n ['растрачивать',\n  'squander,0.21',\n  'prepare,0.03',\n  'acquire,0.07',\n  'note,0.03',\n  'amount,0.03',\n  'continue,0.07',\n  'deplete,0.03',\n  'lose,0.03',\n  'misuse,0.03',\n  'call,0.03',\n  'waste,0.34',\n  'arm,0.03',\n  'gamble,0.03'],\n ['Генди', 'be,0.33', 'say,0.33', 'have,0.17', 'transfer,0.17'],\n ['Хюбнер', 'meet,0.33', 'remark,0.17', 'open,0.50'],\n ['Générale',\n  'term,0.14',\n  'set,0.14',\n  'develop,0.14',\n  'log,0.14',\n  'provide,0.14',\n  'contract,0.14',\n  'operate,0.14'],\n ['рожают',\n  'give,0.34',\n  'have,0.21',\n  'take,0.01',\n  'be,0.12',\n  'accord,0.03',\n  'attend,0.01',\n  'deliver,0.08',\n  'bear,0.03',\n  'parallel,0.02',\n  'age,0.01',\n  'benefit,0.02',\n  'place,0.02'],\n ['.Речь',\n  'prevent,0.03',\n  'set,0.03',\n  'reconcile,0.03',\n  'sense,0.03',\n  'arise,0.03',\n  'respect,0.03',\n  'establish,0.05',\n  'derive,0.05',\n  'belong,0.03',\n  'brief,0.03',\n  'publish,0.03',\n  'indicate,0.03',\n  'state,0.03',\n  'take,0.03',\n  'include,0.05',\n  'define,0.03',\n  'describe,0.08',\n  'power,0.03',\n  'oblige,0.03',\n  'quote,0.03',\n  'practice,0.03',\n  'serve,0.03',\n  'fall,0.03',\n  'affect,0.03',\n  'change,0.03',\n  'work,0.03',\n  'cover,0.03',\n  'manifest,0.03',\n  'can,0.05',\n  'encourage,0.03',\n  'specialize,0.03'],\n ['членов-импортеров', 'vote,0.14', 'import,0.71', 'account,0.14'],\n ['девятым',\n  'evaluate,0.06',\n  'adopt,0.06',\n  'modify,0.29',\n  'place,0.24',\n  'take,0.24',\n  'propose,0.06'],\n ['расширял',\n  'evolve,0.01',\n  'stress,0.01',\n  'develop,0.07',\n  'extend,0.04',\n  'strengthen,0.01',\n  'make,0.03',\n  'enlarge,0.03',\n  'improve,0.01',\n  'order,0.01',\n  'increase,0.07',\n  'step,0.01',\n  'have,0.11',\n  'enhance,0.07',\n  'further,0.04',\n  'diversify,0.01',\n  'promote,0.01',\n  'broaden,0.01',\n  'expand,0.43',\n  'designate,0.01'],\n ['девятый',\n  'regret,0.03',\n  'conclude,0.03',\n  'recognize,0.05',\n  'lack,0.03',\n  'commend,0.03',\n  'see,0.03',\n  'respect,0.03',\n  'ratify,0.03',\n  'increase,0.03',\n  'recommend,0.08',\n  'confine,0.03',\n  'petition,0.03',\n  'welcome,0.03',\n  'invite,0.03',\n  'attend,0.05',\n  'practice,0.03',\n  'step,0.03',\n  'date,0.03',\n  'copy,0.03',\n  'come,0.03',\n  'term,0.03',\n  'document,0.03',\n  'receive,0.05',\n  'adopt,0.05',\n  'list,0.03',\n  'rule,0.03',\n  'pursue,0.03',\n  'act,0.03',\n  'release,0.03',\n  'become,0.03',\n  'persist,0.03'],\n ['организовывался',\n  'be,0.12',\n  'organize,0.31',\n  'provide,0.06',\n  'procure,0.06',\n  'emanate,0.06',\n  'host,0.06',\n  'link,0.06',\n  'take,0.06',\n  'hold,0.06',\n  'seek,0.06',\n  'select,0.06'],\n ['репродуктивными',\n  'lack,0.09',\n  'attend,0.09',\n  'annex,0.09',\n  'assist,0.09',\n  'focus,0.09',\n  'reinforce,0.09',\n  'take,0.09',\n  'decide,0.09',\n  'arise,0.09',\n  'report,0.09'],\n ['LII',\n  'insert,0.14',\n  'grant,0.14',\n  'be,0.29',\n  'adopt,0.14',\n  'see,0.14',\n  'reform,0.14'],\n ['штифты', 'test,0.40', 'follow,0.20', 'inspect,0.20', 'finish,0.20'],\n ['LIV',\n  'complement,0.20',\n  'welcome,0.20',\n  'link,0.20',\n  'substitute,0.20',\n  'supply,0.20'],\n ['замечанию',\n  'comment,0.32',\n  'point,0.13',\n  'rate,0.02',\n  'have,0.04',\n  'concern,0.06',\n  'note,0.08',\n  'attach,0.03',\n  'accord,0.02',\n  'observe,0.06',\n  'remark,0.06',\n  'word,0.02',\n  'revise,0.02'],\n ['замечания',\n  'concern,0.01',\n  'remark,0.13',\n  'comment,0.78',\n  'point,0.01',\n  'make,0.03'],\n ['бромхлорметан',\n  'assert,0.10',\n  'progress,0.10',\n  'amount,0.10',\n  'play,0.20',\n  'have,0.50'],\n ['пассажирскому',\n  'process,0.19',\n  'light,0.03',\n  'face,0.32',\n  'result,0.03',\n  'include,0.19',\n  'side,0.19',\n  'circulate,0.03'],\n ['Протоколе',\n  'incorporate,0.02',\n  'set,0.02',\n  'prohibit,0.04',\n  'strengthen,0.04',\n  'build,0.02',\n  'open,0.02',\n  'concern,0.04',\n  'raise,0.02',\n  'transfer,0.04',\n  'note,0.04',\n  'encourage,0.04',\n  'call,0.02',\n  'take,0.02',\n  'reject,0.02',\n  'draft,0.02',\n  'achieve,0.04',\n  'refer,0.22',\n  'do,0.02',\n  'intend,0.02',\n  'annex,0.02',\n  'fund,0.02',\n  'discard,0.02',\n  'deepen,0.02',\n  'require,0.02',\n  'release,0.08',\n  'become,0.02',\n  'study,0.02'],\n ['промером',\n  'carry,0.13',\n  'sound,0.17',\n  'signal,0.17',\n  'install,0.17',\n  'measure,0.35'],\n ['СМЕЖНЫХ',\n  'pursue,0.14',\n  'relate,0.29',\n  'air,0.14',\n  'progress,0.14',\n  'estimate,0.14',\n  'present,0.14'],\n ['Протокола',\n  'prohibit,0.01',\n  'set,0.02',\n  'force,0.08',\n  'ratify,0.01',\n  'mine,0.04',\n  'accept,0.01',\n  'sign,0.02',\n  'constitute,0.01',\n  'measure,0.03',\n  'leave,0.01',\n  'accede,0.01',\n  'calculate,0.02',\n  'prepare,0.03',\n  'provide,0.02',\n  'review,0.05',\n  'research,0.01',\n  'indicate,0.02',\n  'time,0.01',\n  'include,0.05',\n  'do,0.01',\n  'risk,0.01',\n  'torture,0.01',\n  'exchange,0.01',\n  'drink,0.02',\n  'serve,0.08',\n  'update,0.02',\n  'step,0.01',\n  'derive,0.01',\n  'degrade,0.01',\n  'present,0.09',\n  'document,0.02',\n  'word,0.01',\n  'target,0.01',\n  'affirm,0.01',\n  'wish,0.01',\n  'work,0.03',\n  'request,0.01',\n  'project,0.01',\n  'remind,0.01',\n  'can,0.01',\n  'enter,0.02',\n  'release,0.03'],\n ['являлись', 'constitute,0.02', 'have,0.13', 'be,0.77'],\n ['СМЕЖНЫЕ',\n  'account,0.05',\n  'relate,0.35',\n  'rebuild,0.05',\n  'express,0.05',\n  'deter,0.05',\n  'continue,0.05',\n  'propose,0.05',\n  'trade,0.10',\n  'open,0.15',\n  'hamper,0.05',\n  'view,0.05'],\n ['передвигавшихся', 'affect,0.20', 'travel,0.20', 'move,0.40', 'spot,0.20'],\n ['предложенного', 'suggest,0.07', 'forward,0.01', 'propose,0.82', 'put,0.01'],\n ['урoвнях', 'scale,0.33', 'level,0.67'],\n ['выдай', 'try,0.04', 'prosecute,0.18', 'establish,0.04', 'extradite,0.75'],\n ['.Смертность',\n  'be,0.17',\n  'show,0.17',\n  'recognize,0.17',\n  'rate,0.17',\n  'demonstrate,0.17',\n  'issue,0.17'],\n ['выдал',\n  'give,0.02',\n  'have,0.25',\n  'grant,0.06',\n  'provide,0.01',\n  'issue,0.50',\n  'be,0.04',\n  'award,0.02'],\n ['выдам',\n  'respond,0.20',\n  'be,0.20',\n  'suggest,0.20',\n  'make,0.20',\n  'give,0.20'],\n ['выдан',\n  'have,0.06',\n  'give,0.02',\n  'obtain,0.01',\n  'extradite,0.16',\n  'make,0.01',\n  'subject,0.02',\n  'issue,0.40',\n  'be,0.16',\n  'hand,0.01',\n  'grant,0.05'],\n ['прервались',\n  'be,0.22',\n  'deny,0.06',\n  'suspend,0.17',\n  'end,0.11',\n  'resume,0.06',\n  'break,0.11',\n  'stand,0.06',\n  'interrupt,0.06',\n  'come,0.06',\n  'down,0.11'],\n ['СФОМП',\n  'be,0.29',\n  'provide,0.14',\n  'propose,0.14',\n  'adopt,0.14',\n  'have,0.14',\n  'time,0.14'],\n ['интеллектом',\n  'matter,0.20',\n  'make,0.20',\n  'understand,0.20',\n  'bring,0.20',\n  'subject,0.20'],\n ['посевам',\n  'affect,0.07',\n  'major,0.07',\n  'accelerate,0.07',\n  'crop,0.73',\n  'survive,0.07'],\n ['интеллектов', 'mind,0.60', 'equal,0.40'],\n ['балансира', 'lift,1.00'],\n ['5.8.2.8.2', 'line,0.50', 'sight,0.50'],\n ['Гельмут', 'need,0.20', 'head,0.20', 'agree,0.20', 'take,0.20'],\n ['обнаруженную',\n  'locate,0.20',\n  'become,0.20',\n  'blanket,0.20',\n  'cover,0.20',\n  'discover,0.20'],\n ['депортированными',\n  'be,0.04',\n  'raise,0.04',\n  'level,0.04',\n  'expose,0.04',\n  'contribute,0.04',\n  'remove,0.04',\n  'stay,0.04',\n  'treat,0.04',\n  'have,0.04',\n  'go,0.04',\n  'deport,0.43',\n  'seem,0.04',\n  'block,0.04',\n  'consider,0.04'],\n ['перспективности',\n  'draw,0.05',\n  'scale,0.05',\n  'vary,0.05',\n  'explore,0.05',\n  'perceive,0.05',\n  'scrutinize,0.05',\n  'persuade,0.05',\n  'promise,0.40',\n  'plan,0.05',\n  'carry,0.05',\n  'line,0.05',\n  'can,0.05'],\n ['места16',\n  'end,0.12',\n  'consider,0.12',\n  'oblige,0.12',\n  'require,0.12',\n  'refrain,0.12',\n  'interfere,0.12',\n  'follow,0.12',\n  'speak,0.12'],\n ['конечностями',\n  'set,0.09',\n  'run,0.09',\n  'consider,0.09',\n  'communicate,0.09',\n  'submit,0.09',\n  'write,0.09',\n  'have,0.09',\n  'lose,0.09',\n  'report,0.18',\n  'guide,0.09'],\n ['продукцией',\n  'process,0.02',\n  'relate,0.01',\n  'trade,0.57',\n  'have,0.02',\n  'market,0.06',\n  'be,0.04',\n  'produce,0.09',\n  'export,0.01',\n  'pack,0.01'],\n ['приносящего',\n  'claim,0.10',\n  'account,0.02',\n  'reward,0.04',\n  'form,0.02',\n  'be,0.10',\n  'provide,0.02',\n  'adopt,0.08',\n  'transport,0.02',\n  'bring,0.02',\n  'rate,0.02',\n  'produce,0.23',\n  'draft,0.02',\n  'result,0.02',\n  'allow,0.02',\n  'classify,0.04',\n  'waste,0.04',\n  'seek,0.04',\n  'generate,0.04',\n  'achieve,0.08'],\n ['досуха', 'dry,0.50', 'hold,0.50'],\n ['засекречена',\n  'be,0.09',\n  'confront,0.09',\n  'keep,0.09',\n  'place,0.09',\n  'take,0.09',\n  'hold,0.09',\n  'classify,0.45'],\n ['A.5',\n  'evolve,0.17',\n  'elaborate,0.17',\n  'back,0.17',\n  'aim,0.17',\n  'go,0.17',\n  'change,0.17'],\n ['заручилось',\n  'represent,0.05',\n  'engage,0.05',\n  'secure,0.13',\n  'commission,0.03',\n  'achieve,0.03',\n  'obtain,0.03',\n  'damage,0.03',\n  'enlist,0.10',\n  'assure,0.03',\n  'contact,0.03',\n  'solicit,0.03',\n  'attain,0.03',\n  'have,0.26',\n  'manifest,0.03',\n  'seek,0.08',\n  'lobby,0.03',\n  'witness,0.03',\n  'reverse,0.03'],\n ['неженатых',\n  'live,0.12',\n  'tend,0.12',\n  'single,0.12',\n  'allow,0.25',\n  'enter,0.25',\n  'inhabit,0.12'],\n ['Белградская',\n  'respond,0.15',\n  'raise,0.15',\n  'launch,0.08',\n  'support,0.08',\n  'express,0.08',\n  'focus,0.08',\n  'see,0.08',\n  'address,0.23',\n  'follow,0.08'],\n ['всеобъемлющую',\n  'entail,0.01',\n  'give,0.02',\n  'carry,0.03',\n  'risk,0.01',\n  'concern,0.02',\n  'interview,0.01',\n  'monitor,0.01',\n  'support,0.02',\n  'motivate,0.01',\n  'detail,0.03',\n  'book,0.01',\n  'conduct,0.01',\n  'print,0.01',\n  'implant,0.01',\n  'evolve,0.01',\n  'play,0.03',\n  'complete,0.21',\n  'broadcast,0.01',\n  'integrate,0.09',\n  'plan,0.04',\n  'commit,0.01',\n  'generate,0.01',\n  'strive,0.02',\n  'advance,0.01',\n  'stress,0.02',\n  'receive,0.18',\n  'cover,0.01',\n  'face,0.01',\n  'mass,0.01',\n  'contain,0.05',\n  'coordinate,0.01',\n  'aid,0.02',\n  'implement,0.01',\n  'side,0.01'],\n ['A.1',\n  'control,0.07',\n  'show,0.07',\n  'annex,0.20',\n  'cover,0.07',\n  'govern,0.07',\n  'progress,0.07',\n  'point,0.07',\n  'affect,0.07',\n  'meet,0.07',\n  'summarize,0.13',\n  'achieve,0.07',\n  'subject,0.07'],\n ['электрическом', 'contend,0.04', 'wire,0.77', 'power,0.19'],\n ['электрической', 'control,0.49', 'term,0.03', 'group,0.05', 'power,0.44'],\n ['электрическое',\n  'function,0.05',\n  'control,0.16',\n  'be,0.05',\n  'review,0.05',\n  'equal,0.05',\n  'number,0.05',\n  'connect,0.47',\n  'highlight,0.05',\n  'total,0.05'],\n ['наклонности',\n  'reform,0.11',\n  'track,0.11',\n  'assess,0.11',\n  'sleep,0.11',\n  'commit,0.11',\n  'advise,0.11',\n  'realize,0.11',\n  'care,0.22'],\n ['опорожняет',\n  'observe,0.20',\n  'shell,0.20',\n  'rule,0.20',\n  'empty,0.20',\n  'ascertain,0.20'],\n ['проезжих', 'control,0.23', 'express,0.23', 'reserve,0.31', 'separate,0.23'],\n ['контингент',\n  'force,0.29',\n  'figure,0.03',\n  'contribute,0.01',\n  'number,0.21',\n  'have,0.04',\n  'group,0.03',\n  'increase,0.01',\n  'pool,0.07',\n  'be,0.04',\n  'deploy,0.01',\n  'complement,0.03',\n  'base,0.01',\n  'range,0.01',\n  'maintain,0.01',\n  'operate,0.01'],\n ['нетранспарентными',\n  'clear,0.08',\n  'lack,0.33',\n  'negotiate,0.08',\n  'matter,0.08',\n  'suspect,0.08',\n  'mean,0.08',\n  'view,0.17',\n  'concern,0.08'],\n ['информированное',\n  'process,0.02',\n  'express,0.02',\n  'involve,0.02',\n  'inform,0.87',\n  'can,0.02',\n  'think,0.02'],\n ['этикет', 'live,0.25', 'code,0.25', 'dress,0.25', 'give,0.25'],\n ['укоренившихся',\n  'seat,0.01',\n  'prevail,0.04',\n  'establish,0.05',\n  'sustain,0.01',\n  'underlie,0.01',\n  'modify,0.01',\n  'hold,0.03',\n  'root,0.31'],\n ['управленческий',\n  'strengthen,0.03',\n  'trade,0.03',\n  'rate,0.03',\n  'exist,0.06',\n  'determine,0.03',\n  'engineer,0.06',\n  'wage,0.03',\n  'field,0.06',\n  'lease,0.03',\n  'begin,0.03',\n  'risk,0.03',\n  'separate,0.09',\n  'propose,0.06',\n  'plan,0.06',\n  'post,0.03',\n  'believe,0.03',\n  'structure,0.03',\n  'account,0.03',\n  'engage,0.06',\n  'outline,0.03',\n  'cover,0.03',\n  'air,0.03'],\n ['разбиралась', 'be,0.14', 'have,0.14', 'deal,0.29', 'address,0.14'],\n ['пра-вительство',\n  'wish,0.17',\n  'revive,0.17',\n  'amount,0.17',\n  'govern,0.17',\n  'announce,0.17',\n  'underline,0.17'],\n ['раннее',\n  'set,0.01',\n  'foresee,0.01',\n  'supply,0.02',\n  'strengthen,0.02',\n  'revert,0.01',\n  'side,0.01',\n  'number,0.03',\n  'involve,0.01',\n  'organize,0.01',\n  'exist,0.01',\n  'measure,0.01',\n  'develop,0.01',\n  'calculate,0.01',\n  'fit,0.01',\n  'provide,0.12',\n  'give,0.04',\n  'detail,0.01',\n  'foster,0.01',\n  'build,0.03',\n  'recommend,0.01',\n  'integrate,0.02',\n  'issue,0.03',\n  'refer,0.01',\n  'do,0.01',\n  'play,0.01',\n  'invite,0.01',\n  'annex,0.01',\n  'evaluate,0.01',\n  'drink,0.01',\n  'deter,0.01',\n  'water,0.02',\n  'link,0.01',\n  'judge,0.01',\n  'approach,0.01',\n  'coin,0.01',\n  'present,0.01',\n  'stage,0.15',\n  'sound,0.01',\n  'advance,0.06',\n  'lower,0.01',\n  'invest,0.01',\n  'gather,0.01',\n  'request,0.02',\n  'experience,0.01',\n  'agree,0.01',\n  'record,0.01',\n  'continue,0.01',\n  'survey,0.01',\n  'enter,0.01',\n  'implement,0.01',\n  'stimulate,0.01'],\n ['ранней',\n  'prevent,0.07',\n  'force,0.02',\n  'point,0.02',\n  'recognize,0.02',\n  'obtain,0.02',\n  'ask,0.02',\n  'prevail,0.02',\n  'occur,0.02',\n  'educate,0.05',\n  'indicate,0.02',\n  'give,0.02',\n  'discuss,0.02',\n  'note,0.02',\n  'field,0.02',\n  'build,0.02',\n  'house,0.02',\n  'integrate,0.02',\n  'announce,0.02',\n  'include,0.02',\n  'accord,0.02',\n  'acquire,0.09',\n  'communicate,0.02',\n  'introduce,0.02',\n  'reason,0.02',\n  'understand,0.05',\n  'peer,0.02',\n  'lobby,0.02',\n  'encounter,0.02',\n  'insert,0.02',\n  'require,0.02',\n  'cover,0.02',\n  'keep,0.05',\n  'learn,0.02',\n  'become,0.02',\n  'declare,0.02'],\n ['раннем',\n  'emerge,0.01',\n  'foresee,0.01',\n  'help,0.04',\n  'enable,0.03',\n  'usher,0.01',\n  'happen,0.01',\n  'ground,0.01',\n  'end,0.01',\n  'grant,0.01',\n  'provide,0.04',\n  'suggest,0.01',\n  'support,0.01',\n  'review,0.01',\n  'start,0.06',\n  'swap,0.01',\n  'convene,0.01',\n  'forge,0.01',\n  'progress,0.14',\n  'concern,0.01',\n  'overcome,0.01',\n  'build,0.01',\n  'map,0.03',\n  'begin,0.07',\n  'used,0.03',\n  'risk,0.05',\n  'time,0.01',\n  'warn,0.04',\n  'train,0.04',\n  'demand,0.01',\n  'generate,0.01',\n  'expand,0.01',\n  'term,0.03',\n  'last,0.01',\n  'experience,0.01',\n  'initiate,0.01',\n  'learn,0.05',\n  'mobilize,0.01',\n  'implement,0.01',\n  'view,0.01',\n  'guide,0.01',\n  'programme,0.03'],\n ['уголку', 'threaten,0.20', 'notice,0.20', 'perceive,0.20', 'corner,0.40'],\n ['КЧП',\n  'spell,0.18',\n  'develop,0.06',\n  'intervene,0.06',\n  'reinforce,0.06',\n  'grind,0.06',\n  'remain,0.06',\n  'produce,0.06',\n  'base,0.12',\n  'need,0.06',\n  'open,0.06',\n  'arm,0.18',\n  'conflict,0.06'],\n ['слива',\n  'load,0.04',\n  'drain,0.02',\n  'dump,0.04',\n  'pour,0.02',\n  'have,0.02',\n  'precipitate,0.02',\n  'release,0.02',\n  'discharge,0.73',\n  'waste,0.02',\n  'spend,0.07'],\n ['сливе',\n  'locate,0.12',\n  'discharge,0.50',\n  'include,0.12',\n  'flow,0.12',\n  'dump,0.12'],\n ['непопулярными',\n  'discourage,0.17',\n  'pursue,0.17',\n  'move,0.17',\n  'prescribe,0.17',\n  'back,0.17',\n  'cause,0.17'],\n ['суррогатных', 'used,0.33', 'correspond,0.17', 'value,0.17'],\n ['накапливает',\n  'amass,0.01',\n  'work,0.01',\n  'have,0.09',\n  'back,0.01',\n  'maintain,0.01',\n  'accumulate,0.12',\n  'undertake,0.01',\n  'measure,0.02',\n  'secure,0.02',\n  'cut,0.01',\n  'develop,0.01',\n  'monitor,0.01',\n  'transfer,0.01',\n  'glean,0.01',\n  'stack,0.01',\n  'increase,0.01',\n  'stockpile,0.11',\n  'build,0.04',\n  'integrate,0.01',\n  'store,0.02',\n  'take,0.01',\n  'be,0.12',\n  'complete,0.01',\n  'expose,0.01',\n  'acquire,0.01',\n  'produce,0.01',\n  'gain,0.06',\n  'assemble,0.01',\n  'capitalize,0.01',\n  'discuss,0.01',\n  'outline,0.01',\n  'level,0.01',\n  'gather,0.05',\n  'compile,0.01',\n  'collect,0.04',\n  'edge,0.01',\n  'can,0.01',\n  'learn,0.01',\n  'implement,0.01',\n  'facilitate,0.01'],\n ['элементе',\n  'be,0.03',\n  'acknowledge,0.03',\n  'regard,0.06',\n  'mark,0.06',\n  'see,0.03',\n  'link,0.03',\n  'change,0.03',\n  'entitle,0.29',\n  'piece,0.29',\n  'assign,0.03',\n  'stem,0.09',\n  'mean,0.03'],\n ['полигамном',\n  'enjoy,0.07',\n  'claim,0.07',\n  'execute,0.07',\n  'engage,0.07',\n  'treat,0.07',\n  'attend,0.14',\n  'divorce,0.07',\n  'reason,0.07',\n  'live,0.14',\n  'can,0.07',\n  'found,0.07',\n  'ground,0.07'],\n ['элемента',\n  'point,0.11',\n  'process,0.03',\n  'focus,0.01',\n  'feature,0.25',\n  'measure,0.01',\n  'issue,0.01',\n  'be,0.04',\n  'head,0.02',\n  'step,0.02',\n  'group,0.01',\n  'strand,0.03',\n  'approach,0.01',\n  'work,0.05',\n  'matter,0.03',\n  'place,0.02',\n  'meet,0.02',\n  'piece,0.08',\n  'block,0.08'],\n ['эмигрантских',\n  'exile,0.20',\n  'be,0.20',\n  'encourage,0.20',\n  'identify,0.20',\n  'prove,0.20'],\n ['расово-этнической',\n  'mention,0.20',\n  'measure,0.20',\n  'reduce,0.20',\n  'order,0.20',\n  'define,0.20'],\n ['Интернет-платформы',\n  'collaborate,0.20',\n  'share,0.20',\n  'utilize,0.20',\n  'keep,0.40'],\n ['председателями',\n  'head,0.05',\n  'lead,0.02',\n  'level,0.07',\n  'practice,0.05',\n  'experience,0.02',\n  'preside,0.59',\n  'say,0.02',\n  'inform,0.02',\n  'act,0.05',\n  'judge,0.02',\n  'estimate,0.02',\n  'hold,0.05'],\n ['Интернет-платформу', 'array,0.12', 'used,0.38', 'deal,0.38', 'offer,0.12'],\n ['превалированием',\n  'regard,0.17',\n  'have,0.17',\n  'go,0.17',\n  'subject,0.17',\n  'prevail,0.17',\n  'mean,0.17'],\n ['наживаться',\n  'derive,0.03',\n  'profit,0.23',\n  'make,0.03',\n  'impose,0.03',\n  'benefit,0.29',\n  'continue,0.03',\n  'prey,0.34',\n  'own,0.03'],\n ['Благоприятные', 'sound,0.40', 'enable,0.40', 'camp,0.20'],\n ['катастрофой',\n  'control,0.04',\n  'plant,0.04',\n  'crash,0.35',\n  'raise,0.04',\n  'adopt,0.04',\n  'mitigate,0.04',\n  'ravage,0.04',\n  'face,0.09',\n  'amount,0.04',\n  'live,0.04',\n  'grip,0.04',\n  'close,0.04',\n  'cause,0.04',\n  'remember,0.04'],\n ['снаряженного', 'equip,0.04', 'run,0.48', 'order,0.48'],\n ['документированных',\n  'control,0.01',\n  'explain,0.03',\n  'construct,0.01',\n  'start,0.01',\n  'report,0.01',\n  'document,0.87',\n  'attract,0.01',\n  'speak,0.03'],\n ['участка2', 'limit,0.50', 'trace,0.50'],\n ['правооснованием',\n  'used,0.09',\n  'proceed,0.09',\n  'form,0.09',\n  'give,0.09',\n  'title,0.45',\n  'see,0.09',\n  'derive,0.09'],\n ['удобрениях',\n  'manufacture,0.14',\n  'account,0.07',\n  'set,0.29',\n  'contact,0.07',\n  'apply,0.14',\n  'demonstrate,0.14',\n  'total,0.07',\n  'respect,0.07'],\n ['осмысленный',\n  'be,0.08',\n  'enable,0.08',\n  'do,0.08',\n  'give,0.23',\n  'learn,0.08',\n  'inform,0.15',\n  'sense,0.23',\n  'neglect,0.08'],\n ['варьирующиеся',\n  'do,0.02',\n  'differentiate,0.02',\n  'see,0.02',\n  'can,0.02',\n  'receive,0.03',\n  'express,0.02',\n  'vary,0.15',\n  'range,0.61',\n  'ask,0.02',\n  'remain,0.02',\n  'stagger,0.02',\n  'determine,0.02',\n  'go,0.02',\n  'further,0.02',\n  'be,0.02',\n  'concern,0.02'],\n ['устанав-ливается',\n  'impose,0.11',\n  'stipulate,0.11',\n  'incur,0.11',\n  'have,0.11',\n  'respect,0.11',\n  'integrate,0.11',\n  'position,0.11',\n  'establish,0.11',\n  'subject,0.11'],\n ['Невыплаченный',\n  'be,0.14',\n  'number,0.14',\n  'reason,0.14',\n  'limit,0.14',\n  'have,0.14',\n  'print,0.14',\n  'document,0.14'],\n ['Невыплаченные',\n  'represent,0.12',\n  'term,0.12',\n  'pledge,0.25',\n  'direct,0.12',\n  'result,0.12',\n  'found,0.12',\n  'divert,0.12'],\n ['импорта-экспорта',\n  'position,0.08',\n  'figure,0.17',\n  'require,0.08',\n  'feature,0.08',\n  'trade,0.08',\n  'project,0.08',\n  'export,0.08',\n  'conduct,0.08',\n  'import,0.08',\n  'estimate,0.08',\n  'moderate,0.08'],\n ['радиочастотную',\n  'apply,0.20',\n  'rate,0.20',\n  'used,0.20',\n  'sense,0.20',\n  'measure,0.20'],\n ['островком',\n  'claim,0.11',\n  'consider,0.11',\n  'consist,0.22',\n  'travel,0.22',\n  'tend,0.22',\n  'hear,0.11'],\n ['здравпунктах',\n  'level,0.09',\n  'dispense,0.18',\n  'require,0.09',\n  'station,0.09',\n  'post,0.09',\n  'care,0.27'],\n ['островков',\n  'locate,0.15',\n  'rely,0.08',\n  'appear,0.08',\n  'point,0.08',\n  'regard,0.08',\n  'damage,0.08',\n  'surround,0.08',\n  'mimic,0.08',\n  'disperse,0.08',\n  'facilitate,0.08',\n  'check,0.08',\n  'build,0.08'],\n ['Джама',\n  'acquire,0.20',\n  'ally,0.20',\n  'transport,0.20',\n  'furnish,0.20',\n  'supply,0.20'],\n ['контролеру',\n  'receive,0.11',\n  'question,0.11',\n  'require,0.22',\n  'deliver,0.22',\n  'submit,0.11',\n  'have,0.11',\n  'address,0.11'],\n ['МСРС',\n  'organize,0.12',\n  'request,0.12',\n  'burden,0.12',\n  'fall,0.12',\n  'estimate,0.12',\n  'hold,0.12',\n  'approach,0.12',\n  'cite,0.12'],\n ['прошлогодние',\n  'last,0.78',\n  'deliver,0.02',\n  'make,0.04',\n  'request,0.02',\n  'experience,0.02',\n  'mark,0.02',\n  'reflect,0.02',\n  'embrace,0.02',\n  'rest,0.02',\n  'underscore,0.02',\n  'follow,0.02',\n  'achieve,0.02'],\n ['возобновится',\n  'live,0.03',\n  'take,0.02',\n  'issue,0.02',\n  'be,0.18',\n  'begin,0.01',\n  'resume,0.56',\n  'screen,0.03',\n  'place,0.01'],\n ['мудрыми',\n  'illuminate,0.11',\n  'cope,0.11',\n  'make,0.11',\n  'involve,0.11',\n  'appropriate,0.11',\n  'craft,0.11',\n  'have,0.22',\n  'become,0.11'],\n ['Приоритет',\n  'square,0.06',\n  'hear,0.06',\n  'round,0.28',\n  'figure,0.33',\n  'number,0.28'],\n ['несистематического',\n  'be,0.27',\n  'lack,0.09',\n  'communicate,0.09',\n  'employ,0.09',\n  'deposit,0.09',\n  'document,0.09',\n  'enforce,0.18',\n  'concern,0.09'],\n ['демонстрирует',\n  'show,0.18',\n  'demonstrate,0.42',\n  'be,0.12',\n  'illustrate,0.03',\n  'display,0.02',\n  'have,0.14'],\n ['несостоявшиеся',\n  'do,0.12',\n  'avert,0.06',\n  'carry,0.12',\n  'pend,0.12',\n  'place,0.06',\n  'can,0.06',\n  'fail,0.41',\n  'take,0.06'],\n ['контролеры',\n  'resolve,0.03',\n  'monitor,0.50',\n  'give,0.03',\n  'strengthen,0.03',\n  'support,0.03',\n  'show,0.03',\n  'say,0.06',\n  'experience,0.03',\n  'read,0.03',\n  'renew,0.03',\n  'solicit,0.03',\n  'document,0.03'],\n ['КОМИТЕТ',\n  'strengthen,0.02',\n  'open,0.04',\n  'debate,0.03',\n  'make,0.02',\n  'draft,0.01',\n  'allocate,0.04',\n  'be,0.06',\n  'invite,0.01',\n  'attend,0.01',\n  'work,0.02',\n  'list,0.04',\n  'continue,0.02',\n  'meet,0.58'],\n ['гамма-спектрометрии',\n  'integrate,0.20',\n  'attribute,0.20',\n  'tamper,0.20',\n  'convey,0.20',\n  'prevent,0.20'],\n ['снижается',\n  'fall,0.06',\n  'drop,0.03',\n  'reduce,0.09',\n  'be,0.27',\n  'down,0.01',\n  'decrease,0.12',\n  'decline,0.16',\n  'diminish,0.02',\n  'have,0.11',\n  'lower,0.02'],\n ['обновленному',\n  'used,0.03',\n  'handle,0.03',\n  'propose,0.03',\n  'update,0.67',\n  'reflect,0.03',\n  'renew,0.03',\n  'transfer,0.06',\n  'report,0.03',\n  'line,0.03',\n  'revise,0.06',\n  'improve,0.03'],\n ['238-241',\n  'contend,0.20',\n  'recall,0.20',\n  'adopt,0.20',\n  'discover,0.20',\n  'zone,0.20'],\n ['доминировать',\n  'prevail,0.05',\n  'override,0.02',\n  'dominate,0.59',\n  'be,0.07',\n  'teach,0.02'],\n ['консенсусному',\n  'welcome,0.08',\n  'require,0.08',\n  'adopt,0.15',\n  'reach,0.23',\n  'start,0.08',\n  'produce,0.15',\n  'put,0.08',\n  'found,0.08',\n  'achieve,0.08'],\n ['ухудшиться',\n  'impair,0.09',\n  'further,0.06',\n  'aggravate,0.02',\n  'worsen,0.14',\n  'exacerbate,0.02',\n  'deteriorate,0.36',\n  'be,0.07',\n  'become,0.02'],\n ['полвека',\n  'do,0.11',\n  'play,0.06',\n  'be,0.06',\n  'empower,0.06',\n  'work,0.06',\n  'embark,0.06',\n  'grind,0.11',\n  'record,0.06',\n  'live,0.06',\n  'produce,0.06',\n  'celebrate,0.06',\n  'have,0.06',\n  'expand,0.06'],\n ['.250', 'inspect,0.25', 'separate,0.25', 'conflict,0.25', 'keep,0.25'],\n ['Объеди-ненных',\n  'counsel,0.05',\n  'develop,0.05',\n  'lead,0.05',\n  'support,0.10',\n  'certify,0.05',\n  'aim,0.05',\n  'need,0.05',\n  'produce,0.05',\n  'sustain,0.05',\n  'build,0.05',\n  'have,0.15',\n  'carry,0.10',\n  'enhance,0.05',\n  'reaffirm,0.05',\n  'achieve,0.05',\n  'result,0.05'],\n ['фалом',\n  'give,0.10',\n  'support,0.10',\n  'attach,0.10',\n  'unlock,0.40',\n  'include,0.10',\n  'require,0.20'],\n ['27693',\n  'report,0.25',\n  'follow,0.25',\n  'coin,0.12',\n  'extend,0.25',\n  'publish,0.12'],\n ['неподвижно', 'be,0.74', 'fix,0.09', 'move,0.04', 'stop,0.04', 'shake,0.04'],\n ['условятся',\n  'enable,0.14',\n  'adopt,0.14',\n  'apply,0.14',\n  'work,0.14',\n  'agree,0.29'],\n ['монито-ринга', 'monitor,1.00'],\n ['пленных',\n  'be,0.12',\n  'file,0.04',\n  'used,0.08',\n  'word,0.04',\n  'outline,0.04',\n  'form,0.04',\n  'capture,0.04',\n  'describe,0.04',\n  'accord,0.04',\n  'hand,0.04',\n  'arrest,0.04',\n  'remain,0.04',\n  'want,0.04',\n  'have,0.12',\n  'detain,0.19',\n  'wonder,0.04'],\n ['дестабилизация',\n  'rely,0.03',\n  'aggravate,0.03',\n  'group,0.03',\n  'target,0.03',\n  'adopt,0.03',\n  'force,0.03',\n  'bring,0.07',\n  'call,0.03',\n  'wake,0.03',\n  'suffer,0.03',\n  'cause,0.03',\n  'temper,0.03',\n  'stock,0.03'],\n ['грузились', 'load,0.44', 'be,0.33', 'originate,0.11', 'truck,0.11'],\n ['отдание',\n  'function,0.05',\n  'be,0.11',\n  'exceed,0.05',\n  'end,0.05',\n  'give,0.32',\n  'ratify,0.05',\n  'see,0.05',\n  'base,0.05',\n  'divert,0.05',\n  'issue,0.11',\n  'achieve,0.11'],\n ['HiB',\n  'project,0.20',\n  'work,0.20',\n  'group,0.20',\n  'vaccinate,0.20',\n  'board,0.20'],\n ['видеофильма',\n  'videotape,0.04',\n  'examine,0.09',\n  'brief,0.09',\n  'resort,0.04',\n  'see,0.09',\n  'produce,0.09',\n  'entitle,0.13',\n  'meet,0.13',\n  'follow,0.13',\n  'film,0.17'],\n ['порождались',\n  'be,0.36',\n  'cause,0.09',\n  'create,0.09',\n  'ensue,0.09',\n  'involve,0.09',\n  'have,0.18',\n  'establish,0.09'],\n ['метров',\n  'distance,0.01',\n  'land,0.03',\n  'level,0.02',\n  'mine,0.01',\n  'train,0.01',\n  'cover,0.01',\n  'used,0.01',\n  'square,0.05',\n  'contaminate,0.01',\n  'follow,0.76',\n  'be,0.02'],\n ['инвестиционный',\n  'emerge,0.02',\n  'give,0.02',\n  'strengthen,0.04',\n  'direct,0.02',\n  'participate,0.02',\n  'need,0.04',\n  'close,0.02',\n  'establish,0.04',\n  'market,0.02',\n  'concern,0.02',\n  'develop,0.06',\n  'raise,0.04',\n  'devote,0.02',\n  'increase,0.02',\n  'foster,0.02',\n  'define,0.02',\n  'draw,0.04',\n  'absorb,0.02',\n  'free,0.02',\n  'host,0.02',\n  'base,0.04',\n  'address,0.02',\n  'grow,0.04',\n  'execute,0.02',\n  'invest,0.02',\n  'anticipate,0.02',\n  'work,0.04',\n  'qualify,0.02',\n  'experience,0.06',\n  'project,0.09',\n  'limit,0.04',\n  'retain,0.02',\n  'round,0.02',\n  'mean,0.04'],\n ['перевозчикам',\n  'hinder,0.02',\n  'claim,0.05',\n  'major,0.02',\n  'secure,0.16',\n  'supply,0.02',\n  'allow,0.02',\n  'travel,0.07',\n  'load,0.02',\n  'rule,0.02',\n  'abolish,0.02',\n  'note,0.02',\n  'inform,0.02',\n  'charge,0.07',\n  'air,0.11',\n  'guarantee,0.02',\n  'base,0.07',\n  'discharge,0.02',\n  'regulate,0.02',\n  'open,0.02',\n  'transport,0.16',\n  'subject,0.02'],\n ['преобра-зования',\n  'become,0.20',\n  'convert,0.40',\n  'transform,0.20',\n  'achieve,0.20'],\n ['наращивать',\n  'strengthen,0.17',\n  'reinforce,0.01',\n  'further,0.03',\n  'scale,0.02',\n  'develop,0.05',\n  'increase,0.17',\n  'build,0.21',\n  'step,0.07',\n  'intensify,0.05',\n  'expand,0.02',\n  'improve,0.02',\n  'enhance,0.07'],\n ['несвоевременности',\n  'be,0.17',\n  'term,0.04',\n  'affirm,0.04',\n  'route,0.08',\n  'lack,0.04',\n  'share,0.04',\n  'number,0.04',\n  'free,0.08',\n  'trade,0.08',\n  'delay,0.17',\n  'continue,0.04',\n  'time,0.17'],\n ['мяч',\n  'be,0.25',\n  'court,0.46',\n  'make,0.04',\n  'serve,0.04',\n  'shoot,0.04',\n  'wake,0.04',\n  'place,0.04',\n  'save,0.04'],\n ['минным', 'develop,0.01', 'mine,0.95'],\n ['аш-Харам', 'claim,0.20', 'result,0.20', 'have,0.40'],\n ['роде',\n  'preserve,0.03',\n  'fashion,0.02',\n  'represent,0.02',\n  'involve,0.02',\n  'single,0.03',\n  'set,0.02',\n  'construct,0.03',\n  'undertake,0.03',\n  'sense,0.07',\n  'appear,0.02',\n  'field,0.02',\n  'remain,0.02',\n  'send,0.02',\n  'parallel,0.03',\n  'pioneer,0.03',\n  'board,0.03',\n  'issue,0.02',\n  'tell,0.02',\n  'sort,0.10',\n  'be,0.08',\n  'play,0.02',\n  'park,0.02',\n  'position,0.02',\n  'judge,0.02',\n  'grow,0.02',\n  'name,0.02',\n  'like,0.03',\n  'institute,0.02',\n  'project,0.02',\n  'range,0.02',\n  'place,0.02',\n  'can,0.05',\n  'time,0.02',\n  'found,0.03',\n  'view,0.02'],\n ['минные', 'mine,0.92'],\n ['рекордному', 'put,0.07', 'record,0.79', 'cause,0.07', 'peak,0.07'],\n ['listinfo', 'include,0.25', 'contact,0.25', 'update,0.25', 'point,0.25'],\n ['надреза', 'make,0.14', 'cut,0.79', 'sever,0.07'],\n ['скрупулезностью', 'down,0.20', 'behave,0.20', 'issue,0.20'],\n ['прочитаны',\n  'be,0.03',\n  'provide,0.03',\n  'give,0.25',\n  'read,0.05',\n  'open,0.03',\n  'supplement,0.03',\n  'deliver,0.10',\n  'qualify,0.03',\n  'act,0.05',\n  'prohibit,0.05',\n  'examine,0.03',\n  'train,0.03',\n  'address,0.03',\n  'transmit,0.03',\n  'lecture,0.07',\n  'hold,0.12',\n  'come,0.03',\n  'select,0.03'],\n ['цокольном',\n  'exhibit,0.03',\n  'lower,0.10',\n  'counter,0.23',\n  'grind,0.28',\n  'can,0.15',\n  'issue,0.23'],\n ['пенополиуретановых',\n  'apply,0.08',\n  'make,0.15',\n  'base,0.31',\n  'install,0.15',\n  'found,0.31'],\n ['ввозом', 'import,0.15', 'smuggle,0.77'],\n ['Микелон',\n  'restore,0.11',\n  'police,0.11',\n  'zone,0.11',\n  'extend,0.11',\n  'provide,0.11',\n  'project,0.11',\n  'maintain,0.11',\n  'mean,0.11'],\n ['диверсифицировались', 'multiply,0.20', 'diversify,0.40', 'have,0.40'],\n ['упоминался',\n  'describe,0.02',\n  'have,0.12',\n  'make,0.12',\n  'cite,0.03',\n  'be,0.19',\n  'invoke,0.02',\n  'mention,0.25',\n  'report,0.01',\n  'refer,0.12'],\n ['ДК50',\n  'follow,0.20',\n  'step,0.20',\n  'approach,0.20',\n  'see,0.20',\n  'merit,0.20'],\n ['урегулирования',\n  'handle,0.01',\n  'resolve,0.38',\n  'settle,0.15',\n  'deal,0.08',\n  'address,0.19',\n  'manage,0.02',\n  'process,0.01',\n  'tackle,0.01',\n  'solve,0.04'],\n ['урегулированию',\n  'resolve,0.44',\n  'settle,0.12',\n  'deal,0.04',\n  'address,0.18',\n  'manage,0.02',\n  'tackle,0.01',\n  'solve,0.05'],\n ['оцеплен',\n  'cordon,0.22',\n  'encircle,0.11',\n  'reach,0.11',\n  'unload,0.11',\n  'isolate,0.11',\n  'commission,0.11',\n  'have,0.11',\n  'discharge,0.11'],\n ['соединительную', 'couple,1.00'],\n ['запретами',\n  'prohibit,0.04',\n  'play,0.04',\n  'adopt,0.04',\n  'power,0.04',\n  'forbid,0.04',\n  'issue,0.04',\n  'age,0.04',\n  'warrant,0.04',\n  'experience,0.04',\n  'order,0.04',\n  'arrest,0.04',\n  'sanction,0.04',\n  'ban,0.32',\n  'air,0.04',\n  'come,0.04',\n  'top,0.04',\n  'subject,0.08'],\n ['оповещающий',\n  'involve,0.17',\n  'lead,0.17',\n  'alert,0.17',\n  'warn,0.17',\n  'increase,0.17',\n  'conflict,0.17'],\n ['представляющийся',\n  'reside,0.09',\n  'repeat,0.09',\n  'appear,0.09',\n  'flow,0.09',\n  'back,0.09',\n  'assess,0.09',\n  'say,0.09',\n  'measure,0.09',\n  'seem,0.09',\n  'concern,0.09',\n  'like,0.09'],\n ['Рассвет',\n  'integrate,0.20',\n  'touch,0.20',\n  'study,0.20',\n  'receive,0.20',\n  'create,0.20'],\n ['АРТ',\n  'supply,0.09',\n  'drain,0.06',\n  'bring,0.11',\n  'receive,0.06',\n  'confront,0.06',\n  'show,0.06',\n  'number,0.06',\n  'put,0.11',\n  'continue,0.06',\n  'need,0.11',\n  'be,0.06',\n  'underline,0.06'],\n ['зашумленность', 'incorporate,0.40', 'drive,0.40', 'exhaust,0.20'],\n ['чистильщиков', 'go,0.20', 'abuse,0.20', 'arm,0.20', 'conflict,0.20'],\n ['коррупционных',\n  'acquire,0.01',\n  'power,0.01',\n  'propose,0.01',\n  'practice,0.02',\n  'list,0.01',\n  'feature,0.01',\n  'commission,0.01',\n  'derive,0.01',\n  'corrupt,0.88',\n  'assist,0.01'],\n ['дого-ворились', 'exclude,0.11', 'agree,0.67', 'have,0.22'],\n ['аналоговых',\n  'control,0.09',\n  'set,0.27',\n  'complete,0.09',\n  'check,0.09',\n  'price,0.09',\n  'correspond,0.09',\n  'emit,0.09',\n  'cause,0.09',\n  'review,0.09'],\n ['стимулирует',\n  'foster,0.05',\n  'encourage,0.25',\n  'boost,0.01',\n  'be,0.05',\n  'generate,0.01',\n  'facilitate,0.02',\n  'motivate,0.01',\n  'promote,0.13',\n  'have,0.04',\n  'provide,0.04',\n  'stimulate,0.17'],\n ['ЭТА',\n  'represent,0.05',\n  'disregard,0.05',\n  'have,0.05',\n  'wish,0.05',\n  'back,0.09',\n  'send,0.05',\n  'hand,0.05',\n  'down,0.05',\n  'record,0.05',\n  'live,0.05',\n  'produce,0.05',\n  'submit,0.05',\n  'inflict,0.09',\n  'time,0.09',\n  'carry,0.09',\n  'affect,0.05',\n  'neglect,0.05'],\n ['увеличивал',\n  'be,0.13',\n  'widen,0.07',\n  'allow,0.13',\n  'increase,0.53',\n  'exist,0.07',\n  'have,0.07'],\n ['оказывающую',\n  'incorporate,0.05',\n  'give,0.05',\n  'provide,0.25',\n  'direct,0.05',\n  'exist,0.05',\n  'have,0.40',\n  'contain,0.05',\n  'place,0.05',\n  'strive,0.05'],\n ['пакетных',\n  'run,0.04',\n  'package,0.54',\n  'relate,0.04',\n  'move,0.04',\n  'alert,0.07',\n  'cluster,0.04',\n  'produce,0.04',\n  'emphasize,0.04',\n  'report,0.04',\n  'tie,0.04',\n  'seek,0.04',\n  'block,0.04',\n  'circulate,0.04'],\n ['афроамериканская',\n  'be,0.12',\n  'derive,0.12',\n  'provide,0.12',\n  'couple,0.12',\n  'appropriate,0.25',\n  'fail,0.12',\n  'teach,0.12'],\n ['формулировал',\n  'be,0.07',\n  'set,0.04',\n  'bomb,0.04',\n  'formulate,0.04',\n  'offer,0.07',\n  'provide,0.14',\n  'make,0.11',\n  'recruit,0.04',\n  'articulate,0.04',\n  'write,0.04',\n  'attack,0.04',\n  'maintain,0.04',\n  'reflect,0.07',\n  'send,0.04',\n  'have,0.04',\n  'destroy,0.04',\n  'seek,0.04',\n  'frame,0.04',\n  'count,0.04'],\n ['бесправен',\n  'marginalize,0.20',\n  'cut,0.20',\n  'victimize,0.20',\n  'subject,0.40'],\n ['устраивающую',\n  'offer,0.17',\n  'back,0.17',\n  'accept,0.17',\n  'appropriate,0.17',\n  'go,0.17',\n  'implement,0.17'],\n ['Монтеро',\n  'reiterate,0.08',\n  'intend,0.08',\n  'consider,0.08',\n  'force,0.08',\n  'trigger,0.08',\n  'can,0.08',\n  'conduct,0.08',\n  'respect,0.08',\n  'promote,0.08',\n  'secure,0.08'],\n ['исчерпании',\n  'exhaust,0.56',\n  'be,0.31',\n  'rule,0.02',\n  'remedy,0.04',\n  'have,0.02'],\n ['унизительным',\n  'annul,0.02',\n  'form,0.02',\n  'single,0.03',\n  'ravage,0.02',\n  'insult,0.03',\n  'assess,0.02',\n  'elevate,0.02',\n  'instruct,0.02',\n  'degrade,0.39',\n  'embarrass,0.02',\n  'balance,0.02',\n  'humiliate,0.42'],\n ['унизительный',\n  'police,0.05',\n  'form,0.05',\n  'seal,0.05',\n  'assess,0.05',\n  'harass,0.05',\n  'can,0.05',\n  'defeat,0.05',\n  'found,0.05',\n  'humiliate,0.42',\n  'degrade,0.16'],\n ['унизительные',\n  'reveal,0.02',\n  'term,0.02',\n  'disparage,0.02',\n  'appear,0.02',\n  'persist,0.02',\n  'require,0.02',\n  'impose,0.02',\n  'testify,0.02',\n  'endure,0.02',\n  'degrade,0.29',\n  'strip,0.02',\n  'utter,0.04',\n  'hold,0.02',\n  'humiliate,0.42',\n  'ground,0.02'],\n ['исчерпание',\n  'exhaust,0.69',\n  'draw,0.01',\n  'word,0.01',\n  'name,0.01',\n  'claim,0.01',\n  'explore,0.01',\n  'examine,0.01',\n  'adopt,0.01',\n  'reach,0.01',\n  'focus,0.01',\n  'involve,0.01',\n  'excuse,0.01',\n  'remedy,0.04',\n  'draft,0.01',\n  'time,0.01',\n  'age,0.03',\n  'parallel,0.01',\n  'exercise,0.01'],\n ['вошедшей',\n  'incorporate,0.09',\n  'sit,0.09',\n  'materialize,0.09',\n  'down,0.09',\n  'affiliate,0.09',\n  'contain,0.18',\n  'go,0.09',\n  'anchor,0.09'],\n ['РОАЭ',\n  'set,0.14',\n  'verify,0.14',\n  'regard,0.29',\n  'combine,0.14',\n  'govern,0.14',\n  'include,0.14'],\n ['планомерно',\n  'draw,0.01',\n  'set,0.01',\n  'move,0.03',\n  'begin,0.01',\n  'have,0.11',\n  'measure,0.01',\n  'accomplish,0.01',\n  'proceed,0.04',\n  'feature,0.01',\n  'applaud,0.01',\n  'experiment,0.01',\n  'sustain,0.03',\n  'take,0.03',\n  'conduct,0.01',\n  'test,0.01',\n  'progress,0.07',\n  'approach,0.03',\n  'be,0.05',\n  'accord,0.04',\n  'intend,0.01',\n  'associate,0.01',\n  'track,0.03',\n  'act,0.01',\n  'forward,0.01',\n  'expire,0.01',\n  'plan,0.14',\n  'phase,0.01',\n  'discuss,0.01',\n  'structure,0.01',\n  'pursue,0.01',\n  'work,0.01',\n  'smooth,0.07',\n  'remain,0.03',\n  'adjust,0.01',\n  'place,0.01',\n  'time,0.01',\n  'demonstrate,0.01',\n  'operate,0.01',\n  'guide,0.01'],\n ['обвинителей',\n  'prosecute,0.04',\n  'search,0.08',\n  'hold,0.08',\n  'regret,0.08',\n  'introduce,0.08',\n  'increase,0.04',\n  'bring,0.04',\n  'admit,0.04',\n  'train,0.08',\n  'exist,0.08',\n  'build,0.08',\n  'undertake,0.08',\n  'act,0.12',\n  'close,0.04',\n  'promote,0.04',\n  'take,0.04'],\n ['якобы',\n  'claim,0.05',\n  'say,0.03',\n  'have,0.14',\n  'allege,0.52',\n  'purport,0.03',\n  'be,0.13',\n  'report,0.02',\n  'suppose,0.02'],\n ['компьютеризации',\n  'represent,0.01',\n  'set,0.01',\n  'consider,0.01',\n  'show,0.01',\n  'process,0.09',\n  'back,0.01',\n  'detail,0.01',\n  'assess,0.01',\n  'organize,0.01',\n  'identify,0.02',\n  'file,0.01',\n  'discuss,0.01',\n  'group,0.05',\n  'prepare,0.08',\n  'perform,0.01',\n  'create,0.02',\n  'annex,0.01',\n  'cross,0.01',\n  'send,0.01',\n  'realize,0.01',\n  'increase,0.02',\n  'master,0.01',\n  'convene,0.01',\n  'document,0.03',\n  'issue,0.02',\n  'falsify,0.01',\n  'achieve,0.02',\n  'side,0.01',\n  'play,0.01',\n  'accompany,0.02',\n  'combat,0.01',\n  'exchange,0.01',\n  'object,0.01',\n  'train,0.01',\n  'link,0.01',\n  'know,0.02',\n  'mandate,0.02',\n  'judge,0.01',\n  'generate,0.01',\n  'analyze,0.01',\n  'last,0.01',\n  'work,0.03',\n  'gather,0.01',\n  'project,0.05',\n  'provide,0.01',\n  'contain,0.07',\n  'highlight,0.01',\n  'model,0.01',\n  'conduct,0.01'],\n ['эксплуатации',\n  'manage,0.01',\n  'exploit,0.29',\n  'used,0.02',\n  'run,0.02',\n  'abuse,0.02',\n  'age,0.02',\n  'maintain,0.03',\n  'operate,0.28'],\n ['демонстрирующее',\n  'exhibit,0.06',\n  'be,0.06',\n  'intervene,0.06',\n  'word,0.06',\n  'give,0.06',\n  'show,0.12',\n  'make,0.06',\n  'ridicule,0.12',\n  'prove,0.06',\n  'demonstrate,0.19',\n  'utter,0.06',\n  'respect,0.06'],\n ['демонстрирующей',\n  'exhibit,0.05',\n  'represent,0.05',\n  'join,0.05',\n  'show,0.05',\n  'minimize,0.05',\n  'relate,0.05',\n  'welcome,0.05',\n  'pave,0.05',\n  'display,0.05',\n  'conduct,0.05',\n  'demonstrate,0.45',\n  'enforce,0.05',\n  'illustrate,0.05'],\n ['полезнейшим',\n  'emerge,0.12',\n  'cut,0.12',\n  'force,0.12',\n  'provide,0.12',\n  'drive,0.12',\n  'yield,0.12',\n  'down,0.12',\n  'commission,0.12'],\n ['Энхсетсель', 'become,0.29', 'sponsor,0.29', 'have,0.29', 'announce,0.14'],\n ['затрагиваемому',\n  'group,0.01',\n  'fit,0.01',\n  'provide,0.01',\n  'make,0.07',\n  'rise,0.01',\n  'involve,0.01',\n  'remedy,0.01',\n  'entitle,0.06',\n  'catch,0.01',\n  'affect,0.52',\n  'concern,0.21'],\n ['Миссией',\n  'comment,0.01',\n  'show,0.03',\n  'devise,0.01',\n  'contribute,0.01',\n  'rate,0.01',\n  'respect,0.01',\n  'happen,0.01',\n  'underline,0.01',\n  'putt,0.01',\n  'accomplish,0.01',\n  'police,0.06',\n  'provide,0.17',\n  'formalize,0.01',\n  'be,0.38',\n  'head,0.03',\n  'lend,0.01',\n  'deliver,0.01',\n  'host,0.01',\n  'report,0.01',\n  'line,0.01',\n  'come,0.01',\n  'improve,0.01',\n  'perform,0.01',\n  'continue,0.01',\n  'implement,0.04'],\n ['дурную',\n  'claim,0.14',\n  'look,0.14',\n  'do,0.14',\n  'make,0.14',\n  'work,0.14',\n  'serve,0.14',\n  'become,0.14'],\n ['Гаагско-висбийских',\n  'level,0.14',\n  'provide,0.14',\n  'expose,0.14',\n  'turn,0.14',\n  'base,0.14',\n  'apply,0.14',\n  'line,0.14'],\n ['координаторами',\n  'point,0.84',\n  'lead,0.01',\n  'contact,0.03',\n  'coordinate,0.05'],\n ['подыскивались',\n  'be,0.47',\n  'strengthen,0.07',\n  'share,0.07',\n  'pend,0.07',\n  'identify,0.13',\n  'solicit,0.07',\n  'seek,0.07',\n  'fill,0.07'],\n ['труднооспоримо',\n  'argue,0.20',\n  'question,0.20',\n  'clash,0.20',\n  'weight,0.20',\n  'give,0.20'],\n ['проигрывая',\n  'lose,0.20',\n  'vanish,0.20',\n  'view,0.20',\n  'drive,0.20',\n  'title,0.20'],\n ['IRL',\n  'report,0.20',\n  'cost,0.20',\n  'combine,0.20',\n  'expect,0.20',\n  'submit,0.20'],\n ['Clean', 'clean,1.00'],\n ['подставную',\n  'control,0.10',\n  'develop,0.10',\n  'help,0.10',\n  'recruit,0.20',\n  'air,0.10',\n  'base,0.20',\n  'teach,0.10'],\n ['выдворены',\n  'prohibit,0.01',\n  'force,0.03',\n  'expel,0.46',\n  'number,0.01',\n  'subject,0.01',\n  'extradite,0.01',\n  'be,0.03',\n  'return,0.03',\n  'know,0.01',\n  'uproot,0.01',\n  'judge,0.01',\n  'deport,0.10',\n  'throw,0.01',\n  'name,0.01',\n  'drive,0.02',\n  'remove,0.14',\n  'leave,0.02',\n  'found,0.01',\n  'order,0.01',\n  'evict,0.03',\n  'justify,0.01'],\n ['3.6.2.2', 'compare,0.20', 'piece,0.20', 'figure,0.40', 'define,0.20'],\n ['рассылкой',\n  'process,0.02',\n  'reduce,0.02',\n  'dispatch,0.20',\n  'design,0.02',\n  'measure,0.02',\n  'ship,0.04',\n  'estimate,0.02',\n  'believe,0.02',\n  'disseminate,0.02',\n  'rout,0.02',\n  'send,0.20',\n  'arm,0.02',\n  'note,0.02',\n  'field,0.02',\n  'master,0.02',\n  'forward,0.02',\n  'mail,0.06',\n  'stage,0.02',\n  'date,0.04',\n  'post,0.02',\n  'reprint,0.02',\n  'present,0.04',\n  'improve,0.02',\n  'advance,0.02',\n  'switch,0.02',\n  'implement,0.02'],\n ['вертикальных',\n  'be,0.22',\n  'read,0.11',\n  'practice,0.11',\n  'share,0.11',\n  'provide,0.11',\n  'combine,0.11',\n  'market,0.22'],\n ['COR',\n  'refuse,0.17',\n  'hand,0.33',\n  'prefer,0.17',\n  'term,0.17',\n  'illustrate,0.17'],\n ['Государство-участника', 'transmit,1.00'],\n ['30-летний',\n  'do,0.08',\n  'sentence,0.08',\n  'provide,0.08',\n  'work,0.08',\n  'reduce,0.08',\n  'project,0.08',\n  'rate,0.08',\n  'differentiate,0.08',\n  'decide,0.08',\n  'found,0.08',\n  'further,0.08',\n  'precede,0.08',\n  'concern,0.08'],\n ['контейнере',\n  'control,0.03',\n  'form,0.03',\n  'weight,0.03',\n  'package,0.22',\n  'omit,0.03',\n  'show,0.03',\n  'reproduce,0.03',\n  'charge,0.03',\n  'test,0.03',\n  'ship,0.54',\n  'chill,0.03'],\n ['30-летним',\n  'buy,0.14',\n  'help,0.14',\n  'combat,0.14',\n  'back,0.14',\n  'fight,0.14',\n  'delay,0.14',\n  'justify,0.14'],\n ['priori',\n  'be,0.06',\n  'prefer,0.06',\n  'question,0.06',\n  'face,0.12',\n  'down,0.06',\n  'reason,0.12',\n  'oppose,0.06',\n  'have,0.06',\n  'apply,0.18',\n  'seem,0.06',\n  'come,0.06',\n  'mean,0.12'],\n ['использованная',\n  'represent,0.01',\n  'have,0.01',\n  'apply,0.02',\n  'follow,0.09',\n  'seem,0.01',\n  'expand,0.01',\n  'be,0.01',\n  'used,0.53',\n  'govern,0.01',\n  'term,0.02',\n  'word,0.04',\n  'adopt,0.03',\n  'employ,0.01'],\n ['привезу', 'bring,0.20', 'make,0.20', 'take,0.20', 'know,0.20', 'be,0.20'],\n ['извратил',\n  'return,0.12',\n  'wish,0.12',\n  'distort,0.12',\n  'strike,0.12',\n  'have,0.25',\n  'corrupt,0.12',\n  'balance,0.12'],\n ['брачное',\n  'wage,0.08',\n  'contribute,0.08',\n  'arrange,0.08',\n  'express,0.08',\n  'contract,0.08',\n  'research,0.08',\n  'project,0.08',\n  'organize,0.08',\n  'cater,0.08',\n  'have,0.08',\n  'suffer,0.08',\n  'expose,0.08',\n  'concern,0.08'],\n ['помогает',\n  'help,0.46',\n  'be,0.10',\n  'facilitate,0.01',\n  'support,0.04',\n  'enable,0.01',\n  'can,0.01',\n  'aid,0.02',\n  'contribute,0.02',\n  'have,0.07',\n  'provide,0.01',\n  'assist,0.18'],\n ['брачной',\n  'be,0.10',\n  'term,0.05',\n  'own,0.05',\n  'consent,0.05',\n  'dispense,0.05',\n  'marry,0.19',\n  'act,0.05',\n  'relate,0.05',\n  'introduce,0.05',\n  'free,0.05',\n  'participate,0.05',\n  'date,0.05',\n  'follow,0.10',\n  'respect,0.10',\n  'make,0.05'],\n ['контейнера',\n  'load,0.07',\n  'be,0.07',\n  'copy,0.03',\n  'pack,0.10',\n  'pay,0.07',\n  'route,0.03',\n  'damage,0.14',\n  'benefit,0.03',\n  'cost,0.10',\n  'entitle,0.03',\n  'reimburse,0.07',\n  'hold,0.03',\n  'transport,0.17',\n  'view,0.03'],\n ['брачном',\n  'incorporate,0.02',\n  'set,0.04',\n  'deal,0.04',\n  'enter,0.02',\n  'administer,0.02',\n  'rate,0.04',\n  'carry,0.02',\n  'exclude,0.04',\n  'make,0.02',\n  'end,0.02',\n  'raise,0.02',\n  'grant,0.02',\n  'provide,0.02',\n  'fix,0.02',\n  'pioneer,0.02',\n  'take,0.06',\n  'issue,0.02',\n  'regard,0.02',\n  'deter,0.02',\n  'demonstrate,0.04',\n  'report,0.04',\n  'affect,0.06',\n  'expedite,0.04',\n  'appoint,0.04',\n  'assume,0.04',\n  'marry,0.06',\n  'act,0.02',\n  'position,0.04',\n  'order,0.02',\n  'view,0.04'],\n ['предупредительные',\n  'exhaust,0.01',\n  'mitigate,0.01',\n  'proceed,0.01',\n  'advance,0.01',\n  'shed,0.01',\n  'alert,0.01',\n  'warn,0.87',\n  'resort,0.01',\n  'deplete,0.01',\n  'allow,0.01',\n  'contain,0.01',\n  'post,0.01',\n  'safeguard,0.01'],\n ['Марайнен',\n  'hear,0.17',\n  'recognize,0.17',\n  'father,0.17',\n  'have,0.33',\n  'give,0.17'],\n ['ЭТУ',\n  'do,0.05',\n  'balance,0.05',\n  'depend,0.05',\n  'form,0.05',\n  'advance,0.05',\n  'transfer,0.05',\n  'price,0.05',\n  'originate,0.05',\n  'flow,0.10',\n  'go,0.05',\n  'benefit,0.10',\n  'export,0.10',\n  'gain,0.05',\n  'enter,0.05',\n  'need,0.05',\n  'translate,0.05',\n  'classify,0.05'],\n ['Марракеше',\n  'promote,0.06',\n  'process,0.06',\n  'require,0.06',\n  'flow,0.06',\n  'feature,0.06',\n  'articulate,0.06',\n  'pave,0.06',\n  'have,0.06',\n  'need,0.06',\n  'hold,0.38',\n  'clothe,0.06'],\n ['Малаккском',\n  'give,0.11',\n  'worsen,0.11',\n  'start,0.11',\n  'say,0.11',\n  'oppose,0.11',\n  'take,0.11',\n  'suit,0.11',\n  'follow,0.11',\n  'seek,0.11'],\n ['никакая',\n  'control,0.02',\n  'give,0.02',\n  'single,0.09',\n  'sense,0.02',\n  'police,0.02',\n  'prove,0.02',\n  'question,0.02',\n  'benefit,0.04',\n  'take,0.02',\n  'forward,0.02',\n  'breach,0.02',\n  'condone,0.02',\n  'issue,0.04',\n  'satisfy,0.04',\n  'object,0.06',\n  'form,0.09',\n  'express,0.02',\n  'step,0.02',\n  'know,0.02',\n  'burden,0.04',\n  'confine,0.02',\n  'attempt,0.02',\n  'amount,0.23',\n  'agree,0.02'],\n ['входного',\n  'describe,0.17',\n  'end,0.04',\n  'supply,0.48',\n  'shock,0.04',\n  'back,0.04',\n  'equal,0.17',\n  'near,0.04'],\n ['вселяющую',\n  'communicate,0.17',\n  'display,0.17',\n  'promise,0.17',\n  'allow,0.17',\n  'carry,0.17',\n  'generate,0.17'],\n ['яхтсменов',\n  'appoint,0.19',\n  'be,0.21',\n  'pursue,0.02',\n  'regard,0.02',\n  'keep,0.19',\n  'examine,0.19',\n  'operate,0.19'],\n ['рассматривавшимся',\n  'major,0.01',\n  'consider,0.19',\n  'deal,0.04',\n  'tackle,0.01',\n  'examine,0.05',\n  'rent,0.02',\n  'go,0.01',\n  'carry,0.02',\n  'further,0.01',\n  'establish,0.01',\n  'select,0.01',\n  'raise,0.02',\n  'review,0.06',\n  'feature,0.01',\n  'pend,0.01',\n  'treat,0.01',\n  'conduct,0.01',\n  'document,0.01',\n  'issue,0.04',\n  'refer,0.01',\n  'be,0.04',\n  'practice,0.02',\n  'extend,0.01',\n  'regard,0.01',\n  'update,0.01',\n  'decide,0.06',\n  'address,0.01',\n  'report,0.01',\n  'discuss,0.03',\n  'appeal,0.04',\n  'look,0.01',\n  'edit,0.01',\n  'cover,0.02'],\n ['Уважение',\n  'evolve,0.04',\n  'violate,0.04',\n  'highlight,0.04',\n  'affect,0.04',\n  'respect,0.78',\n  'risk,0.04'],\n ['конкретизируются',\n  'give,0.04',\n  'identify,0.02',\n  'further,0.05',\n  'develop,0.03',\n  'resort,0.02',\n  'detail,0.05',\n  'indicate,0.02',\n  'specify,0.25',\n  'define,0.02',\n  'be,0.15',\n  'train,0.03',\n  'elaborate,0.02'],\n ['замедлять',\n  'hinder,0.01',\n  'delay,0.11',\n  'retard,0.03',\n  'slow,0.38',\n  'attempt,0.01',\n  'schedule,0.01',\n  'pay,0.01',\n  'down,0.27',\n  'start,0.04',\n  'rate,0.02',\n  'complicate,0.01',\n  'impede,0.02',\n  'result,0.02',\n  'put,0.01',\n  'restrain,0.01',\n  'hold,0.01',\n  'seek,0.01',\n  'hamper,0.01'],\n ['фламандским',\n  'discipline,0.12',\n  'be,0.12',\n  'decree,0.25',\n  'give,0.12',\n  'field,0.12',\n  'apply,0.12',\n  'implement,0.12'],\n ['ОБСУЖДЕНИЕ',\n  'consolidate,0.03',\n  'set,0.06',\n  'help,0.03',\n  'point,0.03',\n  'obtain,0.03',\n  'undertake,0.03',\n  'need,0.03',\n  'consider,0.03',\n  'review,0.06',\n  'indicate,0.03',\n  'issue,0.03',\n  'do,0.06',\n  'annex,0.09',\n  'update,0.03',\n  'step,0.03',\n  'plan,0.03',\n  'mandate,0.03',\n  'summarize,0.03',\n  'term,0.03',\n  'like,0.03',\n  'level,0.03',\n  'study,0.03',\n  'continue,0.06',\n  'can,0.12'],\n ['кислых',\n  'be,0.10',\n  'accommodate,0.10',\n  'sour,0.50',\n  'can,0.10',\n  'come,0.10',\n  'expect,0.10'],\n ['про-деланную',\n  'be,0.14',\n  'do,0.29',\n  'give,0.14',\n  'reform,0.14',\n  'credit,0.14',\n  'have,0.14'],\n ['дефолиацией',\n  'relate,0.40',\n  'detect,0.20',\n  'stand,0.20',\n  'deteriorate,0.20'],\n ['государством-преемником',\n  'maintain,0.25',\n  'establish,0.12',\n  'consider,0.12',\n  'succeed,0.12',\n  'replace,0.38'],\n ['КЭСКП',\n  'do,0.06',\n  'marginalize,0.03',\n  'enable,0.03',\n  'group,0.06',\n  'secure,0.03',\n  'form,0.03',\n  'affirm,0.03',\n  'recognize,0.03',\n  'elaborate,0.06',\n  'recommend,0.09',\n  'monitor,0.03',\n  'note,0.03',\n  'include,0.03',\n  'state,0.03',\n  'set,0.06',\n  'measure,0.06',\n  'progress,0.03',\n  'work,0.15',\n  'impose,0.03',\n  'view,0.03'],\n ['водосбором',\n  'contribute,0.17',\n  'water,0.17',\n  'foster,0.17',\n  'take,0.17',\n  'harvest,0.17',\n  'care,0.17'],\n ['пропорциональных',\n  'do,0.05',\n  'earn,0.05',\n  'scale,0.05',\n  'receive,0.09',\n  'support,0.05',\n  'assist,0.05',\n  'stress,0.05',\n  'equal,0.05',\n  'provide,0.05',\n  'reason,0.05',\n  'incur,0.05',\n  'rent,0.05',\n  'commit,0.18',\n  'meet,0.05',\n  'balance,0.09',\n  'match,0.05',\n  'guarantee,0.05'],\n ['воссоздать',\n  'restore,0.01',\n  'set,0.01',\n  'recreate,0.03',\n  'rebuild,0.06',\n  'revive,0.01',\n  'reinstate,0.03',\n  'return,0.02',\n  'reconstitute,0.09',\n  'reconstruct,0.03'],\n ['водосборов',\n  'hinder,0.08',\n  'protect,0.08',\n  'deal,0.08',\n  'water,0.46',\n  'train,0.08',\n  'match,0.08',\n  'include,0.08',\n  'wind,0.08'],\n ['рождаемостью',\n  'be,0.04',\n  'land,0.04',\n  'attempt,0.04',\n  'attend,0.04',\n  'do,0.04',\n  'associate,0.04',\n  'create,0.04',\n  'reduce,0.04',\n  'evade,0.04',\n  'try,0.04',\n  'aim,0.04',\n  'rate,0.16',\n  'train,0.04',\n  'plan,0.08',\n  'fall,0.04',\n  'force,0.04',\n  'seem,0.04',\n  'ignore,0.04',\n  'preclude,0.04',\n  'entail,0.04'],\n ['КГТК',\n  'claim,0.29',\n  'avoid,0.14',\n  'direct,0.14',\n  'administer,0.14',\n  'charge,0.14',\n  'order,0.14'],\n ['выслан',\n  'expel,0.50',\n  'back,0.02',\n  'extradite,0.01',\n  'send,0.07',\n  'return,0.06',\n  'deport,0.12',\n  'remove,0.09'],\n ['выслал',\n  'be,0.07',\n  'return,0.07',\n  'expel,0.36',\n  'question,0.07',\n  'send,0.07',\n  'have,0.29',\n  'order,0.07'],\n ['слушатель',\n  'work,0.06',\n  'name,0.06',\n  'come,0.06',\n  'describe,0.06',\n  'bear,0.06',\n  'write,0.12',\n  'start,0.12',\n  'take,0.06',\n  'mandate,0.06',\n  'follow,0.06',\n  'encompass,0.06',\n  'team,0.06',\n  'issue,0.06',\n  'concern,0.06'],\n ['слушателю', 'charge,0.20', 'train,0.40', 'belong,0.20', 'guide,0.20'],\n ['слушателя',\n  'design,0.03',\n  'total,0.07',\n  'join,0.10',\n  'undertake,0.03',\n  'track,0.03',\n  'understand,0.03',\n  'graduate,0.03',\n  'enroll,0.07',\n  'research,0.03',\n  'incur,0.07',\n  'encourage,0.03',\n  'exist,0.03',\n  'have,0.03',\n  'master,0.13',\n  'carry,0.03',\n  'further,0.07',\n  'encompass,0.07',\n  'undergo,0.03',\n  'seek,0.03',\n  'go,0.03'],\n ['Иванов',\n  'be,0.07',\n  'enable,0.02',\n  'force,0.02',\n  'do,0.02',\n  'show,0.02',\n  'prevail,0.02',\n  'join,0.02',\n  'require,0.02',\n  'suit,0.02',\n  'share,0.02',\n  'depend,0.02',\n  'cooperate,0.02',\n  'live,0.02',\n  'concentrate,0.02',\n  'revitalize,0.02',\n  'time,0.02',\n  'demonstrate,0.02',\n  'line,0.02',\n  'cause,0.02',\n  'hope,0.02',\n  'speak,0.46'],\n ['непостоянства',\n  'term,0.08',\n  'attempt,0.08',\n  'arise,0.08',\n  'underlie,0.08',\n  'call,0.08',\n  'change,0.08',\n  'determine,0.08',\n  'demand,0.08',\n  'need,0.08',\n  'model,0.08',\n  'side,0.08',\n  'achieve,0.08',\n  'improve,0.08'],\n ['выделялось',\n  'devote,0.04',\n  'have,0.14',\n  'provide,0.02',\n  'make,0.06',\n  'need,0.01',\n  'allocate,0.19',\n  'be,0.25',\n  'fund,0.02',\n  'earmark,0.02',\n  'receive,0.02'],\n ['констатировала',\n  'consider,0.02',\n  'recognize,0.01',\n  'see,0.02',\n  'have,0.12',\n  'note,0.32',\n  'acknowledge,0.04',\n  'point,0.01',\n  'indicate,0.01',\n  'state,0.08',\n  'be,0.03',\n  'observe,0.05',\n  'found,0.10',\n  'report,0.03',\n  'remark,0.01',\n  'say,0.01'],\n ['констатировали',\n  'consider,0.01',\n  'conclude,0.02',\n  'recognize,0.02',\n  'have,0.19',\n  'acknowledge,0.03',\n  'note,0.29',\n  'state,0.04',\n  'be,0.04',\n  'observe,0.04',\n  'meet,0.01',\n  'report,0.02',\n  'see,0.01',\n  'agree,0.01',\n  'found,0.03'],\n ['констатировало',\n  'prompt,0.02',\n  'consider,0.04',\n  'conclude,0.04',\n  'have,0.05',\n  'carry,0.02',\n  'concern,0.02',\n  'acknowledge,0.02',\n  'review,0.02',\n  'submit,0.02',\n  'note,0.30',\n  'state,0.04',\n  'take,0.02',\n  'stock,0.02',\n  'be,0.02',\n  'notice,0.02',\n  'associate,0.02',\n  'express,0.02',\n  'observe,0.11',\n  'decide,0.02',\n  'become,0.02',\n  'copy,0.02',\n  'deny,0.02',\n  'reappear,0.02',\n  'confirm,0.02',\n  'experience,0.02',\n  'remind,0.02',\n  'found,0.09'],\n ['мышью',\n  'release,0.20',\n  'amount,0.20',\n  'link,0.20',\n  'interpret,0.20',\n  'permit,0.20'],\n ['непреложной',\n  'be,0.11',\n  'describe,0.06',\n  'last,0.06',\n  'share,0.06',\n  'clear,0.11',\n  'pose,0.06',\n  'compel,0.06',\n  'demonstrate,0.06',\n  'endure,0.06',\n  'address,0.06',\n  'underlie,0.06',\n  'respect,0.06',\n  'circumvent,0.06',\n  'fix,0.06',\n  'improve,0.06'],\n ['непреложное',\n  'be,0.19',\n  'rely,0.05',\n  'share,0.05',\n  'empower,0.05',\n  'impose,0.05',\n  'question,0.05',\n  'bound,0.10',\n  'rest,0.10',\n  'remain,0.05',\n  'continue,0.05',\n  'wake,0.05',\n  'rule,0.05',\n  'measure,0.05',\n  'need,0.05'],\n ['663-го', 'be,0.25', 'can,0.25', 'found,0.50'],\n ['гористая',\n  'square,0.11',\n  'lead,0.11',\n  'reach,0.22',\n  'range,0.11',\n  'land,0.11',\n  'kill,0.11',\n  'decrease,0.11',\n  'include,0.11'],\n ['оснащенные', 'fit,0.20', 'equip,0.75', 'arm,0.01'],\n ['нали-чие',\n  'be,0.33',\n  'require,0.17',\n  'translate,0.17',\n  'perceive,0.17',\n  'have,0.17'],\n ['оснащенным',\n  'be,0.07',\n  'group,0.02',\n  'fit,0.31',\n  'require,0.02',\n  'drive,0.02',\n  'see,0.02',\n  'recommend,0.02',\n  'equip,0.51'],\n ['оснащенный',\n  'function,0.02',\n  'conform,0.02',\n  'protect,0.02',\n  'set,0.02',\n  'group,0.02',\n  'campaign,0.02',\n  'fit,0.11',\n  'offer,0.02',\n  'perform,0.02',\n  'light,0.02',\n  'conduct,0.02',\n  'pressure,0.05',\n  'activate,0.02',\n  'follow,0.02',\n  'discharge,0.02',\n  'provide,0.03',\n  'equip,0.59',\n  'furnish,0.02'],\n ['подвело',\n  'surround,0.02',\n  'term,0.02',\n  'develop,0.02',\n  'lead,0.10',\n  'give,0.02',\n  'evaluate,0.02',\n  'belong,0.02',\n  'ask,0.02',\n  'update,0.02',\n  'abide,0.02',\n  'sign,0.02',\n  'bring,0.10',\n  'trigger,0.02',\n  'take,0.04',\n  'have,0.29',\n  'address,0.02',\n  'fail,0.10',\n  'position,0.02',\n  'approve,0.02',\n  'undermine,0.02',\n  'stock,0.04'],\n ['подвели',\n  'bring,0.11',\n  'have,0.13',\n  'measure,0.02',\n  'fail,0.10',\n  'further,0.02',\n  'lead,0.07',\n  'review,0.03',\n  'take,0.10',\n  'stock,0.09',\n  'remedy,0.02',\n  'summarize,0.17',\n  'present,0.02',\n  'guide,0.02',\n  'balance,0.02',\n  'make,0.03'],\n ['подвела',\n  'have,0.07',\n  'down,0.01',\n  'bring,0.01',\n  'determine,0.01',\n  'escape,0.01',\n  'fail,0.06',\n  'follow,0.03',\n  'establish,0.06',\n  'develop,0.01',\n  'lead,0.06',\n  'provide,0.01',\n  'make,0.04',\n  'take,0.10',\n  'stock,0.09',\n  'be,0.06',\n  'draw,0.01',\n  'pose,0.03',\n  'let,0.01',\n  'summarize,0.19',\n  'present,0.01',\n  'advance,0.01',\n  'stand,0.01',\n  'review,0.01'],\n ['среднеразмерная', 'reduce,1.00'],\n ['Йеменская',\n  'recommend,0.12',\n  'commission,0.12',\n  'place,0.12',\n  'struggle,0.12',\n  'contain,0.12',\n  'report,0.25',\n  'fine,0.12'],\n ['утвержденных',\n  'authorize,0.06',\n  'establish,0.02',\n  'be,0.01',\n  'mandate,0.06',\n  'adopt,0.08',\n  'approve,0.70'],\n ['адаптируемого',\n  'advance,0.12',\n  'offer,0.12',\n  'propose,0.25',\n  'contribute,0.12',\n  'adapt,0.12',\n  'relate,0.12',\n  'post,0.12'],\n ['редких',\n  'secure,0.01',\n  'formulate,0.01',\n  'show,0.03',\n  'manage,0.01',\n  'vary,0.01',\n  'number,0.03',\n  'restrict,0.03',\n  'bring,0.01',\n  'follow,0.01',\n  'select,0.01',\n  'create,0.01',\n  'sentence,0.01',\n  'isolate,0.06',\n  'increase,0.01',\n  'convict,0.04',\n  'cause,0.01',\n  'do,0.10',\n  'crash,0.01',\n  'object,0.01',\n  'spare,0.01',\n  'aid,0.01',\n  'supersede,0.01',\n  'adopt,0.01',\n  'limit,0.37',\n  'ascertain,0.01',\n  'meet,0.01',\n  'narrow,0.03',\n  'scatter,0.01'],\n ['103.6', 'record,0.29', 'charge,0.29', 'establish,0.14', 'account,0.29'],\n ['имплицитных',\n  'provide,0.09',\n  'add,0.09',\n  'imply,0.45',\n  'conduct,0.18',\n  'model,0.09',\n  'tell,0.09'],\n ['закупавшие',\n  'anger,0.20',\n  'be,0.20',\n  'buy,0.20',\n  'used,0.20',\n  'complain,0.20'],\n ['103.8', 'authorize,0.25', 'handle,0.25', 'benefit,0.25', 'call,0.25'],\n ['завезен',\n  'transfer,0.29',\n  'introduce,0.14',\n  'bring,0.14',\n  'suffer,0.14',\n  'transport,0.14'],\n ['подготовка',\n  'prepare,0.10',\n  'train,0.75',\n  'develop,0.01',\n  'provide,0.02',\n  'produce,0.01'],\n ['спецучреждений', 'be,0.17', 'study,0.17', 'specialize,0.50', 'give,0.17'],\n ['подготовке',\n  'formulate,0.02',\n  'prepare,0.35',\n  'train,0.36',\n  'process,0.01',\n  'develop,0.04',\n  'provide,0.01',\n  'draw,0.01',\n  'produce,0.02'],\n ['причиняющему',\n  'be,0.12',\n  'force,0.12',\n  'appear,0.06',\n  'provide,0.06',\n  'remove,0.18',\n  'post,0.18',\n  'cause,0.29'],\n ['подготовки',\n  'prepare,0.19',\n  'train,0.62',\n  'process,0.01',\n  'develop,0.02',\n  'provide,0.02',\n  'write,0.01',\n  'produce,0.02'],\n ['ЮНТОП',\n  'be,0.09',\n  'term,0.18',\n  'do,0.09',\n  'share,0.09',\n  'play,0.36',\n  'maintain,0.09',\n  'mail,0.09'],\n ['совету',\n  'function,0.02',\n  'control,0.01',\n  'process,0.01',\n  'look,0.02',\n  'focus,0.02',\n  'note,0.03',\n  'board,0.82',\n  'present,0.01'],\n ['Американское',\n  'fly,0.06',\n  'grant,0.11',\n  'make,0.06',\n  'adopt,0.06',\n  'administer,0.22',\n  'time,0.06',\n  'go,0.06',\n  'select,0.39'],\n ['Американской',\n  'be,0.30',\n  'consent,0.10',\n  'obtain,0.10',\n  'appropriate,0.20',\n  'survey,0.10',\n  'aspire,0.10'],\n ['Служебный', 'order,0.08', 'build,0.83', 'stand,0.08'],\n ['Американском',\n  'be,0.12',\n  'stress,0.06',\n  'assist,0.06',\n  'do,0.12',\n  'process,0.06',\n  'pay,0.06',\n  'register,0.06',\n  'question,0.06',\n  'rank,0.12',\n  'train,0.06',\n  'export,0.06',\n  'go,0.06',\n  'mobilize,0.06'],\n ['разделом',\n  'function,0.05',\n  'rename,0.05',\n  'head,0.10',\n  'entail,0.02',\n  'title,0.24',\n  'relate,0.02',\n  'empower,0.02',\n  'share,0.07',\n  'count,0.12',\n  'secede,0.02',\n  'allocate,0.02',\n  'reason,0.05',\n  'add,0.02',\n  'expect,0.02',\n  'forward,0.02',\n  'appeal,0.02',\n  'attract,0.02',\n  'cite,0.02',\n  'divide,0.07'],\n ['помогал',\n  'help,0.24',\n  'contribute,0.03',\n  'have,0.14',\n  'provide,0.01',\n  'support,0.08',\n  'be,0.02',\n  'assist,0.35',\n  'aid,0.01',\n  'facilitate,0.02'],\n ['шансам', 'begin,0.20', 'undermine,0.20', 'present,0.20'],\n ['разделов',\n  'comment,0.01',\n  'organize,0.02',\n  'divide,0.01',\n  'focus,0.01',\n  'cluster,0.08',\n  'follow,0.01',\n  'extract,0.02',\n  'subject,0.03',\n  'group,0.02',\n  'title,0.10',\n  'field,0.01',\n  'limit,0.01',\n  'include,0.02',\n  'issue,0.07',\n  'head,0.07',\n  'separate,0.03',\n  'act,0.01',\n  'reflect,0.02',\n  'line,0.07',\n  'play,0.01',\n  'document,0.02',\n  'last,0.01',\n  'level,0.03',\n  'project,0.15',\n  'place,0.01',\n  'contain,0.02'],\n ['предупредительную',\n  'prevent,0.03',\n  'fit,0.35',\n  'lead,0.03',\n  'exert,0.03',\n  'review,0.03',\n  'reform,0.03',\n  'deliver,0.03',\n  'perceive,0.03',\n  'warn,0.38',\n  'embark,0.03',\n  'lift,0.03'],\n ['мэриях',\n  'be,0.27',\n  'target,0.09',\n  'represent,0.09',\n  'know,0.09',\n  'have,0.09',\n  'establish,0.09',\n  'comprise,0.09'],\n ['дипломатическую', 'extend,0.02', 'exercise,0.93'],\n ['объясняющихся',\n  'be,0.13',\n  'force,0.07',\n  'disseminate,0.07',\n  'review,0.07',\n  'vary,0.07',\n  'exacerbate,0.07',\n  'stem,0.13',\n  'amount,0.07',\n  'base,0.07',\n  'emanate,0.07',\n  'carry,0.07',\n  'explain,0.07'],\n ['Nuernberg',\n  'position,0.22',\n  'charge,0.11',\n  'hold,0.22',\n  'include,0.11',\n  'accuse,0.33'],\n ['спускались',\n  'distance,0.17',\n  'lower,0.17',\n  'enter,0.17',\n  'equip,0.17',\n  'staff,0.17'],\n ['воздействовало',\n  'process,0.10',\n  'contribute,0.10',\n  'distort,0.10',\n  'experience,0.10',\n  'result,0.10',\n  'learn,0.10',\n  'affect,0.30',\n  'can,0.10'],\n ['воздействовали',\n  'do,0.02',\n  'differ,0.02',\n  'exert,0.02',\n  'reshape,0.02',\n  'make,0.02',\n  'influence,0.11',\n  'subject,0.04',\n  'mark,0.02',\n  'administer,0.02',\n  'arrest,0.02',\n  'result,0.02',\n  'have,0.26',\n  'affect,0.20',\n  'be,0.04',\n  'believe,0.02',\n  'cause,0.04',\n  'fix,0.04',\n  'manipulate,0.02',\n  'concern,0.02'],\n ['воздействовала',\n  'be,0.21',\n  'force,0.07',\n  'become,0.03',\n  'lock,0.03',\n  'influence,0.07',\n  'have,0.03',\n  'affect,0.07',\n  'test,0.21',\n  'apply,0.14'],\n ['1,93',\n  'head,0.12',\n  'develop,0.12',\n  'help,0.12',\n  'lead,0.12',\n  'begin,0.12',\n  'build,0.12',\n  'team,0.12',\n  'transport,0.12'],\n ['связались',\n  'have,0.12',\n  'number,0.01',\n  'involve,0.02',\n  'undertake,0.01',\n  'establish,0.01',\n  'speak,0.01',\n  'make,0.04',\n  'time,0.01',\n  'approach,0.05',\n  'be,0.04',\n  'communicate,0.06',\n  'welcome,0.01',\n  'reach,0.01',\n  'report,0.01',\n  'come,0.01',\n  'target,0.01',\n  'camp,0.01',\n  'rule,0.02',\n  'contact,0.50',\n  'act,0.01',\n  'explain,0.01'],\n ['претендующему', 'claim,0.67', 'make,0.17'],\n ['аптеках',\n  'shop,0.17',\n  'buy,0.08',\n  'campaign,0.08',\n  'supply,0.08',\n  'dispense,0.08',\n  'add,0.08',\n  'step,0.08',\n  'take,0.08',\n  'store,0.17',\n  'treat,0.08'],\n ['отвращением', 'be,0.44', 'choose,0.11', 'disgust,0.33', 'face,0.11'],\n ['Соrr.1',\n  'sentence,0.12',\n  'feel,0.12',\n  'detail,0.12',\n  'rule,0.12',\n  'write,0.12',\n  'see,0.12',\n  'place,0.25'],\n ['централизованного',\n  'consolidate,0.04',\n  'represent,0.01',\n  'relate,0.01',\n  'manage,0.07',\n  'number,0.05',\n  'surface,0.01',\n  'have,0.01',\n  'follow,0.01',\n  'market,0.04',\n  'slow,0.03',\n  'travel,0.01',\n  'separate,0.04',\n  'detail,0.04',\n  'increase,0.01',\n  'combine,0.01',\n  'integrate,0.08',\n  'mail,0.01',\n  'include,0.03',\n  'exercise,0.05',\n  'distribute,0.03',\n  'regroup,0.01',\n  'practice,0.01',\n  'reach,0.01',\n  'fund,0.01',\n  'understand,0.01',\n  'fall,0.01',\n  'attempt,0.01',\n  'purchase,0.01',\n  'unify,0.04',\n  'level,0.05',\n  'average,0.01',\n  'work,0.01',\n  'experience,0.01',\n  'project,0.04',\n  'time,0.03',\n  'authorize,0.01',\n  'review,0.05',\n  'steer,0.01'],\n ['эскалацией',\n  'escalate,0.54',\n  'heighten,0.02',\n  'rise,0.03',\n  'measure,0.02',\n  'spiral,0.06',\n  'increase,0.17',\n  'renew,0.02',\n  'act,0.02',\n  'further,0.02',\n  'intensify,0.02',\n  'grow,0.02'],\n ['значительным',\n  'major,0.62',\n  'pronounce,0.03',\n  'number,0.01',\n  'rate,0.02',\n  'result,0.01',\n  'have,0.01',\n  'scale,0.01',\n  'make,0.01',\n  'mark,0.04',\n  'start,0.01',\n  'strike,0.01',\n  'progress,0.01',\n  'net,0.02',\n  'grow,0.02'],\n ['значительный',\n  'major,0.44',\n  'deal,0.09',\n  'have,0.07',\n  'make,0.02',\n  'mark,0.05',\n  'increase,0.03',\n  'achieve,0.01',\n  'be,0.11',\n  'level,0.02',\n  'step,0.01',\n  'amount,0.03'],\n ['значительные',\n  'major,0.63',\n  'have,0.03',\n  'deal,0.04',\n  'make,0.02',\n  'mark,0.03',\n  'increase,0.07',\n  'be,0.03',\n  'number,0.02',\n  'amount,0.06'],\n ['экспертам',\n  'give,0.01',\n  'vary,0.01',\n  'report,0.01',\n  'enable,0.01',\n  'ready,0.01',\n  'underline,0.01',\n  'select,0.03',\n  'make,0.01',\n  'upgrade,0.03',\n  'group,0.04',\n  'appear,0.01',\n  'prepare,0.03',\n  'provide,0.07',\n  'review,0.04',\n  'supply,0.01',\n  'detail,0.01',\n  'overlap,0.01',\n  'note,0.04',\n  'add,0.01',\n  'contact,0.01',\n  'combine,0.01',\n  'take,0.03',\n  'achieve,0.01',\n  'designate,0.01',\n  'be,0.05',\n  'used,0.03',\n  'intend,0.01',\n  'contain,0.01',\n  'fund,0.01',\n  'decide,0.03',\n  'mandate,0.01',\n  'peer,0.03',\n  'develop,0.01',\n  'come,0.01',\n  'name,0.01',\n  'work,0.12',\n  'ask,0.01',\n  'aim,0.01',\n  'initiate,0.01',\n  'maintain,0.01',\n  'team,0.01',\n  'aid,0.01',\n  'operate,0.01',\n  'facilitate,0.01',\n  'support,0.01'],\n ['воспитывающий',\n  'look,0.12',\n  'raise,0.38',\n  'foster,0.12',\n  'care,0.12',\n  'market,0.12',\n  'view,0.12'],\n ['воспитывающие',\n  'be,0.10',\n  'raise,0.32',\n  'give,0.01',\n  'age,0.05',\n  'support,0.02',\n  'reach,0.04',\n  'charge,0.01',\n  'appear,0.01',\n  'bring,0.17',\n  'encourage,0.01',\n  'foster,0.02',\n  'take,0.01',\n  'have,0.01',\n  'demand,0.01',\n  'follow,0.01',\n  'teach,0.04',\n  'include,0.01',\n  'create,0.01',\n  'single,0.02',\n  'care,0.09'],\n ['брошен',\n  'dump,0.06',\n  'have,0.03',\n  'be,0.27',\n  'form,0.03',\n  'pose,0.03',\n  'put,0.02',\n  'come,0.02',\n  'throw,0.09',\n  'confront,0.03',\n  'challenge,0.10',\n  'face,0.05',\n  'project,0.02',\n  'abandon,0.07',\n  'found,0.02'],\n ['контролируем',\n  'control,0.40',\n  'deny,0.05',\n  'monitor,0.20',\n  'give,0.05',\n  'impose,0.05',\n  'brief,0.05',\n  'break,0.05',\n  'down,0.05',\n  'risk,0.05'],\n ['2.3.4.2.1', 'be,0.33', 'take,0.33', 'fit,0.33'],\n ['Кансино',\n  'manage,0.17',\n  'escape,0.17',\n  'gun,0.17',\n  'turn,0.17',\n  'hear,0.17',\n  'arise,0.17'],\n ['Договаривающееся',\n  'disclose,0.07',\n  'involve,0.04',\n  'set,0.14',\n  'process,0.04',\n  'wish,0.04',\n  'contract,0.43',\n  'write,0.04',\n  'indicate,0.04',\n  'square,0.04',\n  'enter,0.07',\n  'opt,0.04',\n  'circulate,0.04'],\n ['Зуме', 'try,0.14', 'be,0.14', 'have,0.29', 'deploy,0.43'],\n ['доктрины32',\n  'exist,0.20',\n  'understand,0.20',\n  'have,0.20',\n  'inflict,0.20',\n  'indicate,0.20'],\n ['намереваюсь',\n  'have,0.01',\n  'want,0.01',\n  'be,0.21',\n  'intend,0.63',\n  'propose,0.03',\n  'plan,0.01',\n  'like,0.01'],\n ['рециклированных',\n  'absorb,0.17',\n  're-cover,0.17',\n  'can,0.17',\n  'prepare,0.33',\n  'become,0.17'],\n ['эмиссии',\n  'control,0.03',\n  'tap,0.01',\n  'be,0.01',\n  'manage,0.01',\n  'replace,0.01',\n  'carry,0.01',\n  'embrace,0.01',\n  'equip,0.01',\n  'need,0.01',\n  'follow,0.01',\n  'portray,0.01',\n  'decline,0.01',\n  'redirect,0.01',\n  'supply,0.01',\n  'increase,0.01',\n  'build,0.01',\n  'formalize,0.01',\n  'issue,0.38',\n  'allocate,0.01',\n  'exhaust,0.01',\n  'play,0.01',\n  'wave,0.01',\n  'fund,0.01',\n  'incur,0.01',\n  'ask,0.01',\n  'affect,0.01',\n  'generate,0.01',\n  'encounter,0.01',\n  'consist,0.01',\n  'cause,0.01',\n  'round,0.01',\n  'amount,0.01',\n  'release,0.17',\n  'emit,0.11'],\n ['эмиссий',\n  'consider,0.04',\n  'give,0.04',\n  'reduce,0.08',\n  'trade,0.04',\n  'arise,0.04',\n  'sell,0.04',\n  'accomplish,0.04',\n  'zone,0.04',\n  'call,0.04',\n  'eliminate,0.08',\n  'include,0.04',\n  'stock,0.04',\n  'used,0.04',\n  'risk,0.04',\n  'train,0.04',\n  'target,0.04',\n  'average,0.04',\n  'aim,0.04',\n  'credit,0.04',\n  'can,0.04',\n  'release,0.12',\n  'model,0.04'],\n ['бригад',\n  'force,0.02',\n  'staff,0.02',\n  'police,0.01',\n  'provide,0.01',\n  'be,0.02',\n  'deploy,0.01',\n  'care,0.04',\n  'team,0.72',\n  'link,0.01'],\n ['Madhalim',\n  'assume,0.20',\n  'include,0.20',\n  'help,0.20',\n  'have,0.20',\n  'mandate,0.20'],\n ['перерасчет',\n  'be,0.35',\n  'represent,0.02',\n  'lead,0.02',\n  'restore,0.02',\n  'gather,0.12',\n  'question,0.05',\n  'pump,0.02',\n  'remove,0.02',\n  'qualify,0.02',\n  'call,0.02',\n  'have,0.14',\n  'change,0.14',\n  'refer,0.02'],\n ['габаритном',\n  'position,0.33',\n  'switch,0.17',\n  'activate,0.25',\n  'install,0.25'],\n ['малавийских',\n  'result,0.07',\n  'be,0.13',\n  'own,0.07',\n  'string,0.07',\n  'show,0.07',\n  'provide,0.07',\n  'work,0.07',\n  'serve,0.07',\n  'recruit,0.07',\n  'face,0.07',\n  'forbid,0.07',\n  'attain,0.07',\n  'issue,0.07',\n  'care,0.07'],\n ['творившим', 'be,0.20', 'act,0.20', 'have,0.20', 'rule,0.20', 'mark,0.20'],\n ['пожаловано',\n  'be,0.29',\n  'grant,0.14',\n  'die,0.14',\n  'bring,0.14',\n  'man,0.14',\n  'condemn,0.14'],\n ['Согласованных', 'establish,0.12', 'approve,0.15', 'agree,0.73'],\n ['46,3',\n  'distance,0.07',\n  'scale,0.07',\n  'force,0.07',\n  'lag,0.07',\n  'number,0.21',\n  'project,0.07',\n  'include,0.07',\n  'amount,0.07',\n  'follow,0.07',\n  'total,0.14',\n  'establish,0.07'],\n ['46,1',\n  'constitute,0.07',\n  'represent,0.07',\n  'cite,0.07',\n  'level,0.07',\n  'precede,0.07',\n  'increase,0.21',\n  'record,0.07',\n  'decrease,0.07',\n  'have,0.07',\n  'follow,0.07',\n  'further,0.07',\n  'grow,0.07'],\n ['46,6',\n  'advance,0.07',\n  'accord,0.07',\n  'force,0.07',\n  'resume,0.07',\n  'track,0.07',\n  'exchange,0.07',\n  'execute,0.07',\n  'field,0.14',\n  'amount,0.07',\n  'stand,0.07',\n  'implement,0.21'],\n ['46,4',\n  'account,0.07',\n  'cut,0.07',\n  'supply,0.07',\n  'provide,0.07',\n  'share,0.07',\n  'camp,0.07',\n  'reach,0.13',\n  'feature,0.07',\n  'increase,0.07',\n  'amount,0.07',\n  'board,0.07',\n  'respect,0.07',\n  'work,0.07',\n  'staff,0.07'],\n ['46,5',\n  'represent,0.05',\n  'lower,0.05',\n  'organize,0.05',\n  'last,0.05',\n  'consist,0.05',\n  'record,0.05',\n  'reimburse,0.05',\n  'review,0.05',\n  'map,0.05',\n  'project,0.05',\n  'commission,0.11',\n  'duplicate,0.05',\n  'continue,0.05',\n  'nurse,0.05',\n  'operate,0.05',\n  'come,0.05',\n  'emit,0.05',\n  'weaken,0.05'],\n ['Коласа', 'devote,0.12', 'organize,0.12', 'orient,0.62', 'take,0.12'],\n ['46,8',\n  'represent,0.06',\n  'compare,0.06',\n  'return,0.06',\n  'show,0.06',\n  'provide,0.06',\n  'see,0.06',\n  'involve,0.06',\n  'bring,0.06',\n  'amount,0.06',\n  'survey,0.06',\n  'can,0.06',\n  'act,0.06',\n  'integrate,0.06',\n  'indicate,0.06'],\n ['46,9',\n  'result,0.07',\n  'represent,0.07',\n  'account,0.07',\n  'operate,0.07',\n  'provide,0.07',\n  'pay,0.07',\n  'subject,0.14',\n  'leave,0.07',\n  'control,0.07',\n  'allocate,0.07',\n  'surpass,0.07',\n  'care,0.07',\n  'stock,0.07'],\n ['причалы',\n  'assert,0.04',\n  'run,0.04',\n  'name,0.04',\n  'contain,0.04',\n  'measure,0.09',\n  'see,0.13',\n  'seat,0.04',\n  'employ,0.04',\n  'dock,0.13',\n  'litter,0.04',\n  'place,0.04',\n  'time,0.04',\n  'enhance,0.04',\n  'display,0.09',\n  'transport,0.04',\n  'volunteer,0.04'],\n ['уложений',\n  'land,0.17',\n  'measure,0.17',\n  'continue,0.17',\n  'exist,0.17',\n  'act,0.17',\n  'order,0.17'],\n ['петицией',\n  'force,0.01',\n  'consider,0.01',\n  'grant,0.01',\n  'offer,0.01',\n  'submit,0.03',\n  'launch,0.01',\n  'down,0.01',\n  'bring,0.03',\n  'guard,0.01',\n  'train,0.01',\n  'call,0.01',\n  'present,0.01',\n  'time,0.03',\n  'limit,0.03',\n  'contain,0.01',\n  'petition,0.72',\n  'ground,0.01'],\n ['уложение', 'down,0.38', 'code,0.25', 'sentence,0.25'],\n ['предприятий-изготовителей',\n  'be,0.29',\n  'code,0.14',\n  'describe,0.14',\n  'know,0.14',\n  'measure,0.14',\n  'can,0.14'],\n ['Ормелингом',\n  'aim,0.14',\n  'name,0.29',\n  'be,0.14',\n  'project,0.14',\n  'mention,0.14',\n  'establish,0.14'],\n ['воссоединяются', 'be,0.38', 'reunify,0.12', 'join,0.12', 'reunite,0.38'],\n ['высококвалифицированная',\n  'regain,0.12',\n  'manufacture,0.25',\n  'end,0.12',\n  'qualify,0.25',\n  'export,0.12',\n  'design,0.12'],\n ['Гутерриша',\n  'point,0.09',\n  'represent,0.09',\n  'welcome,0.09',\n  'word,0.09',\n  'show,0.09',\n  'provide,0.09',\n  'give,0.09',\n  'brief,0.09',\n  'see,0.09',\n  'take,0.09',\n  'undertake,0.09'],\n ['гендерной',\n  'incorporate,0.06',\n  'point,0.03',\n  'strengthen,0.03',\n  'need,0.02',\n  'apply,0.05',\n  'staff,0.02',\n  'raise,0.02',\n  'interact,0.02',\n  'increase,0.04',\n  'integrate,0.02',\n  'achieve,0.04',\n  'be,0.05',\n  'engender,0.24',\n  'train,0.02',\n  'promote,0.02',\n  'level,0.03',\n  'inform,0.02',\n  'base,0.04',\n  'implement,0.02',\n  'balance,0.03'],\n ['МАСШТАБОВ', 'matter,0.20', 'approach,0.20', 'end,0.20', 'trade,0.40'],\n ['вывоза',\n  'export,0.58',\n  'carry,0.02',\n  'transport,0.04',\n  'take,0.04',\n  'remove,0.02',\n  'leave,0.04',\n  'transfer,0.03',\n  'smuggle,0.09'],\n ['вывозе',\n  'supply,0.02',\n  'export,0.36',\n  'transport,0.02',\n  'prepare,0.02',\n  'transfer,0.04',\n  'order,0.15',\n  'take,0.02',\n  'evaluate,0.02',\n  'reach,0.06',\n  'remove,0.06',\n  'smuggle,0.05'],\n ['146-е', 'decline,0.14', 'list,0.14', 'rank,0.71'],\n ['единых',\n  'set,0.02',\n  'share,0.04',\n  'single,0.30',\n  'unite,0.06',\n  'integrate,0.09',\n  'unify,0.38',\n  'require,0.02',\n  'agree,0.01'],\n ['трое',\n  'raise,0.09',\n  'lead,0.09',\n  'show,0.09',\n  'confront,0.09',\n  'keep,0.27',\n  'decrease,0.09',\n  'strike,0.09',\n  'operate,0.09',\n  'envisage,0.09'],\n ['.Как',\n  'authorize,0.01',\n  'ration,0.01',\n  'do,0.04',\n  'process,0.03',\n  'share,0.01',\n  'export,0.01',\n  'result,0.01',\n  'trust,0.03',\n  'witness,0.01',\n  'staff,0.01',\n  'thank,0.01',\n  'utilize,0.01',\n  'owe,0.01',\n  'prey,0.01',\n  'allocate,0.01',\n  'classify,0.01',\n  'achieve,0.01',\n  'be,0.17',\n  'draw,0.01',\n  'used,0.03',\n  'finance,0.03',\n  'extend,0.01',\n  'regard,0.01',\n  'interfere,0.01',\n  'water,0.03',\n  'fund,0.01',\n  'incur,0.03',\n  'gain,0.01',\n  'highlight,0.01',\n  'report,0.03',\n  'hold,0.01',\n  'come,0.01',\n  'present,0.03',\n  'strive,0.01',\n  'protect,0.03',\n  'like,0.03',\n  'work,0.01',\n  'flow,0.01',\n  'recruit,0.01',\n  'record,0.01',\n  'can,0.03',\n  'target,0.01',\n  'enhance,0.01',\n  'expect,0.01'],\n ['трон', 'term,0.17', 'arouse,0.17', 'ascend,0.50', 'promote,0.17'],\n ['троп', 'trail,0.50', 'target,0.17', 'engineer,0.17'],\n ['приобретаемых',\n  'major,0.01',\n  'obtain,0.02',\n  'derive,0.01',\n  'issue,0.01',\n  'be,0.13',\n  'buy,0.03',\n  'acquire,0.31',\n  'procure,0.06',\n  'confer,0.02',\n  'purchase,0.30',\n  'target,0.02',\n  'assume,0.01'],\n ['исключены',\n  'remove,0.07',\n  'have,0.03',\n  'exclude,0.36',\n  'exempt,0.02',\n  'eliminate,0.04',\n  'be,0.14',\n  'omit,0.02',\n  'delete,0.21'],\n ['пиковыми',\n  'distance,0.02',\n  'rise,0.02',\n  'proceed,0.02',\n  'price,0.04',\n  'lose,0.02',\n  'reach,0.04',\n  'value,0.02',\n  'peak,0.77',\n  'consult,0.04'],\n ['нижеприведенная',\n  'commemorate,0.04',\n  'set,0.08',\n  'outline,0.04',\n  'show,0.04',\n  'receive,0.04',\n  'give,0.04',\n  'note,0.04',\n  'provide,0.04',\n  'produce,0.04',\n  'link,0.04',\n  'emphasize,0.04',\n  'undertake,0.04',\n  'mandate,0.04',\n  'reply,0.04',\n  'follow,0.40'],\n ['.Сохранение',\n  'be,0.11',\n  'protect,0.11',\n  'reverse,0.06',\n  'disseminate,0.06',\n  'hand,0.06',\n  'commission,0.11',\n  'continue,0.06',\n  'degrade,0.06',\n  'report,0.06',\n  'publicize,0.06',\n  'order,0.06',\n  'present,0.11',\n  'subject,0.06'],\n ['предоставляемыми',\n  'give,0.02',\n  'grant,0.13',\n  'provide,0.43',\n  'make,0.02',\n  'be,0.04',\n  'accord,0.10',\n  'afford,0.03',\n  'confer,0.01',\n  'present,0.02'],\n ['документироваться',\n  'be,0.26',\n  'monitor,0.02',\n  'support,0.02',\n  'describe,0.02',\n  'detail,0.02',\n  'document,0.66'],\n ['регате', 'race,0.33', 'place,0.33', 'take,0.33'],\n ['двухместных', 'double,0.67', 'price,0.17', 'intensify,0.17'],\n ['неразреженной', 'fuel,0.40', 'estimate,0.20', 'expect,0.40'],\n ['описываемом',\n  'term,0.08',\n  'lead,0.08',\n  'track,0.08',\n  'explain,0.08',\n  'describe,0.25',\n  'tend,0.08',\n  'place,0.08',\n  'time,0.08',\n  'narrow,0.08',\n  'refer,0.08'],\n ['описываемой',\n  'draw,0.02',\n  'repeat,0.04',\n  'outline,0.04',\n  'exchange,0.02',\n  'describe,0.64',\n  'equal,0.02',\n  'borrow,0.02',\n  'amount,0.02',\n  'take,0.02',\n  'contain,0.02',\n  'hold,0.02',\n  'define,0.04',\n  'assign,0.02',\n  'emphasize,0.02'],\n ['описываемое',\n  'be,0.03',\n  'account,0.03',\n  'set,0.16',\n  'power,0.03',\n  'describe,0.41',\n  'shape,0.03',\n  'lack,0.03',\n  'commission,0.14',\n  'see,0.03',\n  'have,0.03',\n  'measure,0.03',\n  'report,0.03',\n  'highlight,0.03',\n  'suffer,0.03'],\n ['Революционных',\n  'receive,0.12',\n  'belong,0.12',\n  'question,0.12',\n  'obtain,0.12',\n  'gain,0.12',\n  'have,0.12',\n  'date,0.12',\n  'side,0.12'],\n ['прихожанам',\n  'complement,0.20',\n  'work,0.20',\n  'see,0.20',\n  'implement,0.20',\n  'have,0.20'],\n ['оповещена',\n  'be,0.09',\n  'accord,0.09',\n  'institute,0.09',\n  'try,0.09',\n  'occupy,0.09',\n  'contact,0.09',\n  'affiliate,0.09',\n  'build,0.09',\n  'report,0.09',\n  'publicize,0.09',\n  'notify,0.09'],\n ['стереотипного',\n  'perpetuate,0.18',\n  'target,0.09',\n  'blame,0.09',\n  'down,0.09',\n  'plan,0.09',\n  'act,0.09',\n  'apply,0.09',\n  'think,0.09',\n  'pilot,0.09'],\n ['Карол',\n  'report,0.17',\n  'provide,0.17',\n  'sponsor,0.33',\n  'result,0.17',\n  'sanction,0.17'],\n ['Сен-Пьер',\n  'function,0.11',\n  'aim,0.11',\n  'show,0.11',\n  'administer,0.11',\n  'fulfill,0.11',\n  'include,0.11',\n  'order,0.11',\n  'guarantee,0.11'],\n ['ИЗБРАННОГО', 'follow,0.20', 'step,0.20', 'work,0.20', 'elect,0.40'],\n ['потребительская',\n  'shop,0.07',\n  'accord,0.04',\n  'surge,0.04',\n  'target,0.04',\n  'weight,0.04',\n  'agree,0.04',\n  'increase,0.04',\n  'range,0.04',\n  'market,0.04',\n  'refer,0.07',\n  'order,0.04',\n  'specify,0.32',\n  'buoy,0.04'],\n ['прочтены',\n  'be,0.14',\n  'intend,0.14',\n  'deal,0.14',\n  'read,0.29',\n  'see,0.14',\n  'come,0.14'],\n ['дея-тельности',\n  'work,0.72',\n  'support,0.06',\n  'contribute,0.06',\n  'project,0.06',\n  'design,0.06',\n  'progress,0.06'],\n ['отходов', 'waste,0.97'],\n ['военно-штабного',\n  'owe,0.07',\n  'round,0.13',\n  'experience,0.07',\n  'staff,0.73'],\n ['сообщения1',\n  'report,0.17',\n  'be,0.17',\n  'reach,0.17',\n  'have,0.33',\n  'bear,0.17'],\n ['отходом',\n  'depart,0.15',\n  'stray,0.02',\n  'move,0.10',\n  'constitute,0.10',\n  'mark,0.02',\n  'circumvent,0.02',\n  'diverge,0.02',\n  'retreat,0.03',\n  'conduct,0.02',\n  'breach,0.03',\n  'waste,0.08',\n  'afford,0.02',\n  'modify,0.05',\n  'drift,0.03',\n  'break,0.05',\n  'step,0.08',\n  'distinguish,0.02',\n  'believe,0.02',\n  'change,0.05',\n  'outline,0.02',\n  'shift,0.05',\n  'revert,0.02',\n  'turn,0.02'],\n ['изменяющейся',\n  'evolve,0.17',\n  'develop,0.02',\n  'emerge,0.05',\n  'shift,0.02',\n  'produce,0.04',\n  'change,0.66'],\n ['проедания', 'survive,0.25', 'occur,0.25', 'have,0.25', 'eat,0.25'],\n ['алкогольными',\n  'prevent,0.10',\n  'foresee,0.10',\n  'consume,0.30',\n  'purchase,0.20',\n  'serve,0.10',\n  'perceive,0.10',\n  'draft,0.10'],\n ['e-TIR',\n  'restrict,0.06',\n  'foresee,0.11',\n  'raise,0.06',\n  'give,0.06',\n  'send,0.06',\n  'project,0.44',\n  'forward,0.06',\n  'seem,0.06',\n  'transport,0.06',\n  'mean,0.06'],\n ['КЦДЗ',\n  'upgrade,0.12',\n  'retrieve,0.12',\n  'used,0.12',\n  'set,0.12',\n  'cater,0.12',\n  'adapt,0.12',\n  'have,0.12',\n  'consult,0.12'],\n ['Валлонский',\n  'be,0.12',\n  'organize,0.12',\n  'handle,0.12',\n  'continue,0.12',\n  'engage,0.25',\n  'clean,0.12',\n  'promote,0.12'],\n ['learn', 'learn,1.00'],\n ['подвергать',\n  'inflict,0.02',\n  'subject,0.25',\n  'be,0.13',\n  'put,0.04',\n  'avoid,0.02',\n  'keep,0.02',\n  'place,0.01',\n  'submit,0.03',\n  'compromise,0.01',\n  'expose,0.10',\n  'endanger,0.06',\n  'discriminate,0.03',\n  'make,0.03',\n  'jeopardize,0.01'],\n ['поминовения',\n  'accord,0.11',\n  'remember,0.22',\n  'adopt,0.11',\n  'act,0.11',\n  'fall,0.11',\n  'view,0.11',\n  'consider,0.22'],\n ['бывать',\n  'attest,0.07',\n  'move,0.07',\n  'return,0.07',\n  'monitor,0.07',\n  'be,0.29',\n  'require,0.07',\n  'register,0.07',\n  'visit,0.07',\n  'build,0.07',\n  'conduct,0.07',\n  'exercise,0.07'],\n ['фирмами-подрядчиками',\n  'provide,0.20',\n  'hire,0.20',\n  'exist,0.20',\n  'complete,0.20',\n  'contract,0.20'],\n ['Италии',\n  'function,0.04',\n  'be,0.08',\n  'execute,0.04',\n  'court,0.04',\n  'torture,0.04',\n  'lead,0.04',\n  'enrich,0.04',\n  'clear,0.04',\n  'prefer,0.04',\n  'state,0.04',\n  'rule,0.12',\n  'grind,0.04',\n  'admit,0.04',\n  'maintain,0.04',\n  'identify,0.04',\n  'have,0.08',\n  'mail,0.04',\n  'design,0.04',\n  'include,0.04',\n  'approve,0.04',\n  'define,0.04'],\n ['солнечный',\n  'derive,0.38',\n  'blast,0.12',\n  'intercept,0.25',\n  'emit,0.12',\n  'warm,0.12'],\n ['обсуждение',\n  'consider,0.01',\n  'debate,0.48',\n  'hold,0.01',\n  'discuss,0.36',\n  'negotiate,0.01'],\n ['обременительных',\n  'relinquish,0.04',\n  'subsidize,0.04',\n  'slow,0.04',\n  'continue,0.04',\n  'accede,0.04',\n  'associate,0.04',\n  'study,0.04',\n  'level,0.04',\n  'tax,0.04',\n  'obtain,0.04',\n  'stipulate,0.08',\n  'attach,0.04',\n  'host,0.04',\n  'complicate,0.04',\n  'burden,0.24',\n  'meet,0.12',\n  'surrender,0.04'],\n ['разбиваются',\n  'respond,0.01',\n  'represent,0.01',\n  'organize,0.01',\n  'divide,0.08',\n  'give,0.01',\n  'down,0.16',\n  'identify,0.01',\n  'concern,0.01',\n  'slice,0.01',\n  'group,0.02',\n  'arrest,0.01',\n  'document,0.01',\n  'classify,0.02',\n  'be,0.29',\n  'accord,0.01',\n  'separate,0.01',\n  'express,0.01',\n  'shatter,0.01',\n  'break,0.18',\n  'fall,0.04',\n  'present,0.01',\n  'name,0.01',\n  'keep,0.01',\n  'collect,0.01',\n  'survey,0.02'],\n ['зарезервировать', 'set,0.05', 'schedule,0.12', 'reserve,0.75'],\n ['обсуждений',\n  'debate,0.82',\n  'deliberate,0.01',\n  'hold,0.01',\n  'discuss,0.06',\n  'talk,0.02'],\n ['обсуждении',\n  'consider,0.03',\n  'debate,0.33',\n  'negotiate,0.02',\n  'address,0.01',\n  'discuss,0.50'],\n ['газоразрядных',\n  'be,0.01',\n  'light,0.81',\n  'cover,0.01',\n  'can,0.01',\n  'apply,0.01',\n  'discharge,0.10',\n  'approve,0.01',\n  'achieve,0.01'],\n ['Ф-ФДТЛ',\n  'satisfy,0.04',\n  'urge,0.04',\n  'force,0.11',\n  'proceed,0.04',\n  'form,0.07',\n  'await,0.04',\n  'afflict,0.04',\n  'group,0.04',\n  'call,0.21',\n  'plan,0.04',\n  'have,0.07',\n  'conduct,0.04',\n  'close,0.04',\n  'exist,0.07',\n  'arm,0.04',\n  'present,0.07',\n  'wear,0.04'],\n ['сердечно-сосудистую',\n  'study,0.17',\n  'indicate,0.17',\n  'limit,0.17',\n  'learn,0.17',\n  'affect,0.17',\n  'occur,0.17'],\n ['суверенных',\n  'oblige,0.20',\n  'found,0.20',\n  'export,0.20',\n  'think,0.20',\n  'help,0.20'],\n ['преобразованию',\n  'process,0.02',\n  'develop,0.01',\n  'reform,0.06',\n  'reshape,0.01',\n  'make,0.04',\n  'transform,0.44',\n  'translate,0.05',\n  'change,0.03',\n  'convert,0.13',\n  'turn,0.02',\n  'become,0.01'],\n ['преобразования',\n  'restructure,0.01',\n  'upgrade,0.01',\n  'develop,0.02',\n  'reform,0.05',\n  'make,0.02',\n  'transform,0.24',\n  'translate,0.03',\n  'change,0.40',\n  'convert,0.10',\n  'turn,0.01',\n  'become,0.01'],\n ['велел',\n  'be,0.12',\n  'direct,0.12',\n  'tell,0.25',\n  'reflect,0.12',\n  'instruct,0.12',\n  'ask,0.12',\n  'order,0.12'],\n ['выражающих',\n  'exhibit,0.01',\n  'represent,0.03',\n  'entail,0.01',\n  'process,0.01',\n  'participate,0.03',\n  'sense,0.01',\n  'go,0.02',\n  'seek,0.01',\n  'reform,0.01',\n  'open,0.01',\n  'interact,0.01',\n  'question,0.01',\n  'indicate,0.08',\n  'take,0.01',\n  'forward,0.02',\n  'start,0.01',\n  'advocate,0.02',\n  'finance,0.01',\n  'express,0.49',\n  'serve,0.02',\n  'reflect,0.01',\n  'ask,0.02',\n  'affect,0.01',\n  'structure,0.01',\n  'experience,0.01',\n  'project,0.01',\n  'alleviate,0.01',\n  'time,0.01',\n  'demonstrate,0.02',\n  'oppress,0.01'],\n ['благословенна', 'bless,0.40', 'be,0.40', 'lift,0.20'],\n ['нанесшие',\n  'result,0.03',\n  'do,0.06',\n  'disturb,0.03',\n  'attempt,0.03',\n  'decide,0.03',\n  'deal,0.03',\n  'raid,0.03',\n  'ravage,0.03',\n  'constitute,0.03',\n  'attack,0.03',\n  'take,0.03',\n  'have,0.28',\n  'endanger,0.06',\n  'commit,0.03',\n  'cause,0.22',\n  'accelerate,0.03'],\n ['выбил', 'break,0.60', 'arrive,0.20', 'order,0.20'],\n ['продукции3',\n  'provide,0.20',\n  'produce,0.20',\n  'bear,0.20',\n  'burden,0.20',\n  'improve,0.20'],\n ['проезжает',\n  'distance,0.17',\n  'travel,0.17',\n  'impose,0.08',\n  'reach,0.08',\n  'drive,0.08',\n  'stay,0.08',\n  'enter,0.08',\n  'top,0.08'],\n ['ПОДЛЕЖАЩИХ',\n  'reflect,0.14',\n  'be,0.53',\n  'report,0.03',\n  'group,0.28',\n  'take,0.03'],\n ['выбив',\n  'decline,0.20',\n  'knock,0.10',\n  'try,0.20',\n  'fall,0.10',\n  'cause,0.20',\n  'down,0.10',\n  'chase,0.10'],\n ['подкупать',\n  'buy,0.11',\n  'secure,0.11',\n  'title,0.11',\n  'influence,0.11',\n  'can,0.11',\n  'have,0.11',\n  'bribe,0.11',\n  'become,0.11',\n  'achieve,0.11'],\n ['НАДЗОРА', 'project,0.17', 'function,0.33', 'examine,0.17', 'board,0.33'],\n ['насаждению',\n  'perpetuate,0.12',\n  'process,0.06',\n  'impose,0.24',\n  'induce,0.06',\n  'restrict,0.06',\n  'foster,0.06',\n  'go,0.06',\n  'implant,0.06',\n  'promote,0.24',\n  'prevail,0.06'],\n ['насаждения',\n  'foster,0.03',\n  'organize,0.02',\n  'crop,0.02',\n  'cost,0.02',\n  'disseminate,0.02',\n  'wreak,0.02',\n  'spread,0.03',\n  'build,0.05',\n  'surprise,0.02',\n  'implant,0.02',\n  'save,0.02',\n  'exercise,0.02',\n  'stand,0.06',\n  'be,0.06',\n  'plant,0.08',\n  'reign,0.02',\n  'assert,0.02',\n  'promote,0.11',\n  'celebrate,0.02',\n  'stage,0.02',\n  'challenge,0.02',\n  'impose,0.10',\n  'aim,0.02',\n  'contact,0.02',\n  'evoke,0.02',\n  'install,0.02',\n  'nurture,0.02',\n  'enforce,0.15',\n  'view,0.02'],\n ['226Ra',\n  'involve,0.25',\n  'authorize,0.12',\n  'practice,0.25',\n  'operate,0.25',\n  'fall,0.12'],\n ['5.1.3.8', 'reach,0.33', 'bed,0.33', 'exchange,0.33'],\n ['вышеперечисленному',\n  'be,0.33',\n  'remain,0.17',\n  'group,0.17',\n  'free,0.17',\n  'compound,0.17'],\n ['жаждет',\n  'desire,0.09',\n  'be,0.33',\n  'drum,0.02',\n  'have,0.02',\n  'beat,0.02',\n  'wish,0.04',\n  'make,0.04',\n  'yearn,0.13',\n  'undo,0.02',\n  'step,0.02',\n  'call,0.02',\n  'take,0.02',\n  'want,0.09',\n  'discipline,0.02',\n  'aspire,0.04',\n  'mass,0.02',\n  'seek,0.02',\n  'build,0.02'],\n ['созданным',\n  'set,0.08',\n  'constitute,0.02',\n  'have,0.01',\n  'establish,0.56',\n  'develop,0.01',\n  'create,0.18',\n  'be,0.01'],\n ['вычислялись', 'coordinate,0.20', 'be,0.40', 'calculate,0.40'],\n ['созданный',\n  'set,0.09',\n  'constitute,0.01',\n  'have,0.03',\n  'establish,0.53',\n  'develop,0.01',\n  'fit,0.01',\n  'create,0.16',\n  'be,0.02',\n  'form,0.01',\n  'launch,0.02'],\n ['поданными',\n  'claim,0.04',\n  'file,0.42',\n  'uphold,0.02',\n  'record,0.02',\n  'treat,0.02',\n  'deal,0.02',\n  'consider,0.02',\n  'submit,0.09',\n  'bring,0.07',\n  'base,0.02',\n  'stipulate,0.02',\n  'have,0.02',\n  'arise,0.02',\n  'lodge,0.11',\n  'concern,0.02',\n  'issue,0.02',\n  'defend,0.02',\n  'make,0.07'],\n ['созданные',\n  'set,0.08',\n  'constitute,0.01',\n  'be,0.06',\n  'put,0.03',\n  'place,0.03',\n  'establish,0.43',\n  'create,0.15',\n  'form,0.02',\n  'have,0.04',\n  'develop,0.03',\n  'provide,0.01'],\n ['профессорско-преподавательским',\n  'run,0.17',\n  'help,0.08',\n  'conclude,0.08',\n  'identify,0.08',\n  'choose,0.08',\n  'govern,0.08',\n  'design,0.08',\n  'teach,0.33'],\n ...]"
     },
     "execution_count": 149,
     "metadata": {},
     "output_type": "execute_result"
    }
   ],
   "source": [
    "clean_data"
   ],
   "metadata": {
    "collapsed": false,
    "pycharm": {
     "name": "#%%\n"
    }
   }
  },
  {
   "cell_type": "code",
   "execution_count": 150,
   "outputs": [],
   "source": [
    "from itertools import zip_longest\n",
    "import numpy as np\n",
    "num_columns = len(max(clean_data, key=len))"
   ],
   "metadata": {
    "collapsed": false,
    "pycharm": {
     "name": "#%%\n"
    }
   }
  },
  {
   "cell_type": "code",
   "execution_count": 151,
   "outputs": [],
   "source": [
    "new_data = list(zip_longest(*clean_data, fillvalue=None))"
   ],
   "metadata": {
    "collapsed": false,
    "pycharm": {
     "name": "#%%\n"
    }
   }
  },
  {
   "cell_type": "code",
   "execution_count": 152,
   "outputs": [],
   "source": [
    "df_mcc_alignments = pd.DataFrame(new_data).T"
   ],
   "metadata": {
    "collapsed": false,
    "pycharm": {
     "name": "#%%\n"
    }
   }
  },
  {
   "cell_type": "code",
   "execution_count": 153,
   "outputs": [],
   "source": [
    "df_mcc_alignments.columns = [f'Column {i+1}' for i in range(num_columns)]"
   ],
   "metadata": {
    "collapsed": false,
    "pycharm": {
     "name": "#%%\n"
    }
   }
  },
  {
   "cell_type": "code",
   "execution_count": 154,
   "outputs": [
    {
     "data": {
      "text/plain": "               Column 1          Column 2        Column 3       Column 4  \\\n619              раннее          set,0.01    foresee,0.01    supply,0.02   \n747     компьютеризации    represent,0.01        set,0.01  consider,0.01   \n1115            встанут        enjoy,0.01      major,0.01      work,0.01   \n3296       секторальные     conclude,0.02  attribute,0.01     trade,0.02   \n5201       гармонизации  consolidate,0.01        set,0.05    burden,0.01   \n...                 ...               ...             ...            ...   \n220609            целым     organize,0.01      elect,0.01    stream,0.01   \n221285   предполагающая       emerge,0.01      elect,0.01    entail,0.02   \n221687         .Факторы     organize,0.01      force,0.01    regret,0.01   \n223088     объективными        claim,0.01       hunt,0.01     force,0.01   \n223558          БУДУЩЕЙ      comment,0.01      force,0.01      deal,0.01   \n\n               Column 5         Column 6         Column 7         Column 8  \\\n619     strengthen,0.02      revert,0.01        side,0.01      number,0.03   \n747           show,0.01     process,0.09        back,0.01      detail,0.01   \n1115          have,0.02       bring,0.01         set,0.01     embrace,0.01   \n3296    constitute,0.01       phase,0.01     exploit,0.01     measure,0.01   \n5201        manage,0.01         tax,0.01      direct,0.03    identify,0.01   \n...                 ...              ...              ...              ...   \n220609          do,0.02      attend,0.01      manage,0.01     commend,0.01   \n221285     purport,0.01     mandate,0.01     involve,0.17       bring,0.01   \n221687    campaign,0.01    sentence,0.01        lack,0.01        sign,0.01   \n223088     prevent,0.03      relate,0.01        mind,0.01  constitute,0.01   \n223558       point,0.04  distribute,0.03  articulate,0.01       carry,0.01   \n\n               Column 9      Column 10  ...   Column 62      Column 63  \\\n619        involve,0.01  organize,0.01  ...        None           None   \n747         assess,0.01  organize,0.01  ...        None           None   \n1115     undertake,0.01     arise,0.05  ...        None           None   \n3296          need,0.01     close,0.01  ...        None           None   \n5201      restrict,0.01     bring,0.09  ...        None           None   \n...                 ...            ...  ...         ...            ...   \n220609        date,0.01  identify,0.01  ...  agree,0.01  comprise,0.01   \n221285       imply,0.05   embrace,0.01  ...        None           None   \n221687        down,0.03     shape,0.01  ...        None           None   \n223088       imply,0.01     sleep,0.01  ...        None           None   \n223558  scrutinize,0.01     exist,0.01  ...        None           None   \n\n       Column 64 Column 65 Column 66 Column 67 Column 68 Column 69 Column 70  \\\n619         None      None      None      None      None      None      None   \n747         None      None      None      None      None      None      None   \n1115        None      None      None      None      None      None      None   \n3296        None      None      None      None      None      None      None   \n5201        None      None      None      None      None      None      None   \n...          ...       ...       ...       ...       ...       ...       ...   \n220609      None      None      None      None      None      None      None   \n221285      None      None      None      None      None      None      None   \n221687      None      None      None      None      None      None      None   \n223088      None      None      None      None      None      None      None   \n223558      None      None      None      None      None      None      None   \n\n       Column 71  \n619         None  \n747         None  \n1115        None  \n3296        None  \n5201        None  \n...          ...  \n220609      None  \n221285      None  \n221687      None  \n223088      None  \n223558      None  \n\n[203 rows x 71 columns]",
      "text/html": "<div>\n<style scoped>\n    .dataframe tbody tr th:only-of-type {\n        vertical-align: middle;\n    }\n\n    .dataframe tbody tr th {\n        vertical-align: top;\n    }\n\n    .dataframe thead th {\n        text-align: right;\n    }\n</style>\n<table border=\"1\" class=\"dataframe\">\n  <thead>\n    <tr style=\"text-align: right;\">\n      <th></th>\n      <th>Column 1</th>\n      <th>Column 2</th>\n      <th>Column 3</th>\n      <th>Column 4</th>\n      <th>Column 5</th>\n      <th>Column 6</th>\n      <th>Column 7</th>\n      <th>Column 8</th>\n      <th>Column 9</th>\n      <th>Column 10</th>\n      <th>...</th>\n      <th>Column 62</th>\n      <th>Column 63</th>\n      <th>Column 64</th>\n      <th>Column 65</th>\n      <th>Column 66</th>\n      <th>Column 67</th>\n      <th>Column 68</th>\n      <th>Column 69</th>\n      <th>Column 70</th>\n      <th>Column 71</th>\n    </tr>\n  </thead>\n  <tbody>\n    <tr>\n      <th>619</th>\n      <td>раннее</td>\n      <td>set,0.01</td>\n      <td>foresee,0.01</td>\n      <td>supply,0.02</td>\n      <td>strengthen,0.02</td>\n      <td>revert,0.01</td>\n      <td>side,0.01</td>\n      <td>number,0.03</td>\n      <td>involve,0.01</td>\n      <td>organize,0.01</td>\n      <td>...</td>\n      <td>None</td>\n      <td>None</td>\n      <td>None</td>\n      <td>None</td>\n      <td>None</td>\n      <td>None</td>\n      <td>None</td>\n      <td>None</td>\n      <td>None</td>\n      <td>None</td>\n    </tr>\n    <tr>\n      <th>747</th>\n      <td>компьютеризации</td>\n      <td>represent,0.01</td>\n      <td>set,0.01</td>\n      <td>consider,0.01</td>\n      <td>show,0.01</td>\n      <td>process,0.09</td>\n      <td>back,0.01</td>\n      <td>detail,0.01</td>\n      <td>assess,0.01</td>\n      <td>organize,0.01</td>\n      <td>...</td>\n      <td>None</td>\n      <td>None</td>\n      <td>None</td>\n      <td>None</td>\n      <td>None</td>\n      <td>None</td>\n      <td>None</td>\n      <td>None</td>\n      <td>None</td>\n      <td>None</td>\n    </tr>\n    <tr>\n      <th>1115</th>\n      <td>встанут</td>\n      <td>enjoy,0.01</td>\n      <td>major,0.01</td>\n      <td>work,0.01</td>\n      <td>have,0.02</td>\n      <td>bring,0.01</td>\n      <td>set,0.01</td>\n      <td>embrace,0.01</td>\n      <td>undertake,0.01</td>\n      <td>arise,0.05</td>\n      <td>...</td>\n      <td>None</td>\n      <td>None</td>\n      <td>None</td>\n      <td>None</td>\n      <td>None</td>\n      <td>None</td>\n      <td>None</td>\n      <td>None</td>\n      <td>None</td>\n      <td>None</td>\n    </tr>\n    <tr>\n      <th>3296</th>\n      <td>секторальные</td>\n      <td>conclude,0.02</td>\n      <td>attribute,0.01</td>\n      <td>trade,0.02</td>\n      <td>constitute,0.01</td>\n      <td>phase,0.01</td>\n      <td>exploit,0.01</td>\n      <td>measure,0.01</td>\n      <td>need,0.01</td>\n      <td>close,0.01</td>\n      <td>...</td>\n      <td>None</td>\n      <td>None</td>\n      <td>None</td>\n      <td>None</td>\n      <td>None</td>\n      <td>None</td>\n      <td>None</td>\n      <td>None</td>\n      <td>None</td>\n      <td>None</td>\n    </tr>\n    <tr>\n      <th>5201</th>\n      <td>гармонизации</td>\n      <td>consolidate,0.01</td>\n      <td>set,0.05</td>\n      <td>burden,0.01</td>\n      <td>manage,0.01</td>\n      <td>tax,0.01</td>\n      <td>direct,0.03</td>\n      <td>identify,0.01</td>\n      <td>restrict,0.01</td>\n      <td>bring,0.09</td>\n      <td>...</td>\n      <td>None</td>\n      <td>None</td>\n      <td>None</td>\n      <td>None</td>\n      <td>None</td>\n      <td>None</td>\n      <td>None</td>\n      <td>None</td>\n      <td>None</td>\n      <td>None</td>\n    </tr>\n    <tr>\n      <th>...</th>\n      <td>...</td>\n      <td>...</td>\n      <td>...</td>\n      <td>...</td>\n      <td>...</td>\n      <td>...</td>\n      <td>...</td>\n      <td>...</td>\n      <td>...</td>\n      <td>...</td>\n      <td>...</td>\n      <td>...</td>\n      <td>...</td>\n      <td>...</td>\n      <td>...</td>\n      <td>...</td>\n      <td>...</td>\n      <td>...</td>\n      <td>...</td>\n      <td>...</td>\n      <td>...</td>\n    </tr>\n    <tr>\n      <th>220609</th>\n      <td>целым</td>\n      <td>organize,0.01</td>\n      <td>elect,0.01</td>\n      <td>stream,0.01</td>\n      <td>do,0.02</td>\n      <td>attend,0.01</td>\n      <td>manage,0.01</td>\n      <td>commend,0.01</td>\n      <td>date,0.01</td>\n      <td>identify,0.01</td>\n      <td>...</td>\n      <td>agree,0.01</td>\n      <td>comprise,0.01</td>\n      <td>None</td>\n      <td>None</td>\n      <td>None</td>\n      <td>None</td>\n      <td>None</td>\n      <td>None</td>\n      <td>None</td>\n      <td>None</td>\n    </tr>\n    <tr>\n      <th>221285</th>\n      <td>предполагающая</td>\n      <td>emerge,0.01</td>\n      <td>elect,0.01</td>\n      <td>entail,0.02</td>\n      <td>purport,0.01</td>\n      <td>mandate,0.01</td>\n      <td>involve,0.17</td>\n      <td>bring,0.01</td>\n      <td>imply,0.05</td>\n      <td>embrace,0.01</td>\n      <td>...</td>\n      <td>None</td>\n      <td>None</td>\n      <td>None</td>\n      <td>None</td>\n      <td>None</td>\n      <td>None</td>\n      <td>None</td>\n      <td>None</td>\n      <td>None</td>\n      <td>None</td>\n    </tr>\n    <tr>\n      <th>221687</th>\n      <td>.Факторы</td>\n      <td>organize,0.01</td>\n      <td>force,0.01</td>\n      <td>regret,0.01</td>\n      <td>campaign,0.01</td>\n      <td>sentence,0.01</td>\n      <td>lack,0.01</td>\n      <td>sign,0.01</td>\n      <td>down,0.03</td>\n      <td>shape,0.01</td>\n      <td>...</td>\n      <td>None</td>\n      <td>None</td>\n      <td>None</td>\n      <td>None</td>\n      <td>None</td>\n      <td>None</td>\n      <td>None</td>\n      <td>None</td>\n      <td>None</td>\n      <td>None</td>\n    </tr>\n    <tr>\n      <th>223088</th>\n      <td>объективными</td>\n      <td>claim,0.01</td>\n      <td>hunt,0.01</td>\n      <td>force,0.01</td>\n      <td>prevent,0.03</td>\n      <td>relate,0.01</td>\n      <td>mind,0.01</td>\n      <td>constitute,0.01</td>\n      <td>imply,0.01</td>\n      <td>sleep,0.01</td>\n      <td>...</td>\n      <td>None</td>\n      <td>None</td>\n      <td>None</td>\n      <td>None</td>\n      <td>None</td>\n      <td>None</td>\n      <td>None</td>\n      <td>None</td>\n      <td>None</td>\n      <td>None</td>\n    </tr>\n    <tr>\n      <th>223558</th>\n      <td>БУДУЩЕЙ</td>\n      <td>comment,0.01</td>\n      <td>force,0.01</td>\n      <td>deal,0.01</td>\n      <td>point,0.04</td>\n      <td>distribute,0.03</td>\n      <td>articulate,0.01</td>\n      <td>carry,0.01</td>\n      <td>scrutinize,0.01</td>\n      <td>exist,0.01</td>\n      <td>...</td>\n      <td>None</td>\n      <td>None</td>\n      <td>None</td>\n      <td>None</td>\n      <td>None</td>\n      <td>None</td>\n      <td>None</td>\n      <td>None</td>\n      <td>None</td>\n      <td>None</td>\n    </tr>\n  </tbody>\n</table>\n<p>203 rows × 71 columns</p>\n</div>"
     },
     "execution_count": 154,
     "metadata": {},
     "output_type": "execute_result"
    }
   ],
   "source": [
    "df_mcc_alignments[~df_mcc_alignments['Column 50'].isna()]"
   ],
   "metadata": {
    "collapsed": false,
    "pycharm": {
     "name": "#%%\n"
    }
   }
  },
  {
   "cell_type": "code",
   "execution_count": 155,
   "outputs": [],
   "source": [
    "df_mcf_conn = pd.read_csv('/Users/katerynaburovova/PycharmProjects/dehumanization/lexicons/MCF/multilingual/multilingual_connotation/ru_cf.txt', sep='\\t', decimal='.')"
   ],
   "metadata": {
    "collapsed": false,
    "pycharm": {
     "name": "#%%\n"
    }
   }
  },
  {
   "cell_type": "code",
   "execution_count": 158,
   "outputs": [
    {
     "data": {
      "text/plain": "212973"
     },
     "execution_count": 158,
     "metadata": {},
     "output_type": "execute_result"
    }
   ],
   "source": [
    "len(df_mcf_conn)"
   ],
   "metadata": {
    "collapsed": false,
    "pycharm": {
     "name": "#%%\n"
    }
   }
  },
  {
   "cell_type": "code",
   "execution_count": 156,
   "outputs": [
    {
     "data": {
      "text/plain": "                 ru Word English verb  P(w->t)  P(w->a)  P(a->t)  E(t)  E(a)  \\\n212953      натравливает           be        0        1        0     0     0   \n212954              льше        total        0        0        0     0     0   \n212955   ремилитаризацию      conduct        0        0        1     1     0   \n212956            рожала      control        1        0        1     0     1   \n212957       измышлениях       launch        1        1        1     1     1   \n212958            вводам           go        0        0        0     0     0   \n212959           отрубов          cut        0        0        0    -1     0   \n212960       завершаются     conclude        1        1        1     1     0   \n212961        улучшиться      improve        1        1        1     1     0   \n212962  экспортировалась       export        0        0        1     0     1   \n212963        проявившие      express       -1        0        0     0     1   \n212964      кодироваться           be        0        1        0     0     0   \n212965         достигнув        reach        0        1        0     0     0   \n212966           Шымкент           be        0        1        0     0     0   \n212967   водопроницаемая        water        0       -1        0    -1     0   \n212968       подогревают         fuel        0        0        0     1     1   \n212969          вечернем         work        1        1        1     1     0   \n212970           сбитого        shoot        0        0        0    -1     0   \n212971          вечернее           be        0        1        0     0     0   \n212972          ночующие        sleep        0        1        0     0     1   \n\n        V(t)  V(a)  S(t)  S(a)  \n212953     0     1     0     1  \n212954     1     1     0     0  \n212955     1     1     0     1  \n212956     1     1     0     1  \n212957     1     1     0     1  \n212958     0     1     0     0  \n212959     0     1     0     0  \n212960     1     1     0     1  \n212961     1     1     0     1  \n212962     1     1     0     1  \n212963     0     1     0     0  \n212964     0     1     0     1  \n212965     1     1     0     0  \n212966     0     1     0     1  \n212967     1     1     0     1  \n212968     1     1     0     1  \n212969     1     1     0     1  \n212970    -1     1    -1     0  \n212971     0     1     0     1  \n212972     1     1     0     1  ",
      "text/html": "<div>\n<style scoped>\n    .dataframe tbody tr th:only-of-type {\n        vertical-align: middle;\n    }\n\n    .dataframe tbody tr th {\n        vertical-align: top;\n    }\n\n    .dataframe thead th {\n        text-align: right;\n    }\n</style>\n<table border=\"1\" class=\"dataframe\">\n  <thead>\n    <tr style=\"text-align: right;\">\n      <th></th>\n      <th>ru Word</th>\n      <th>English verb</th>\n      <th>P(w-&gt;t)</th>\n      <th>P(w-&gt;a)</th>\n      <th>P(a-&gt;t)</th>\n      <th>E(t)</th>\n      <th>E(a)</th>\n      <th>V(t)</th>\n      <th>V(a)</th>\n      <th>S(t)</th>\n      <th>S(a)</th>\n    </tr>\n  </thead>\n  <tbody>\n    <tr>\n      <th>212953</th>\n      <td>натравливает</td>\n      <td>be</td>\n      <td>0</td>\n      <td>1</td>\n      <td>0</td>\n      <td>0</td>\n      <td>0</td>\n      <td>0</td>\n      <td>1</td>\n      <td>0</td>\n      <td>1</td>\n    </tr>\n    <tr>\n      <th>212954</th>\n      <td>льше</td>\n      <td>total</td>\n      <td>0</td>\n      <td>0</td>\n      <td>0</td>\n      <td>0</td>\n      <td>0</td>\n      <td>1</td>\n      <td>1</td>\n      <td>0</td>\n      <td>0</td>\n    </tr>\n    <tr>\n      <th>212955</th>\n      <td>ремилитаризацию</td>\n      <td>conduct</td>\n      <td>0</td>\n      <td>0</td>\n      <td>1</td>\n      <td>1</td>\n      <td>0</td>\n      <td>1</td>\n      <td>1</td>\n      <td>0</td>\n      <td>1</td>\n    </tr>\n    <tr>\n      <th>212956</th>\n      <td>рожала</td>\n      <td>control</td>\n      <td>1</td>\n      <td>0</td>\n      <td>1</td>\n      <td>0</td>\n      <td>1</td>\n      <td>1</td>\n      <td>1</td>\n      <td>0</td>\n      <td>1</td>\n    </tr>\n    <tr>\n      <th>212957</th>\n      <td>измышлениях</td>\n      <td>launch</td>\n      <td>1</td>\n      <td>1</td>\n      <td>1</td>\n      <td>1</td>\n      <td>1</td>\n      <td>1</td>\n      <td>1</td>\n      <td>0</td>\n      <td>1</td>\n    </tr>\n    <tr>\n      <th>212958</th>\n      <td>вводам</td>\n      <td>go</td>\n      <td>0</td>\n      <td>0</td>\n      <td>0</td>\n      <td>0</td>\n      <td>0</td>\n      <td>0</td>\n      <td>1</td>\n      <td>0</td>\n      <td>0</td>\n    </tr>\n    <tr>\n      <th>212959</th>\n      <td>отрубов</td>\n      <td>cut</td>\n      <td>0</td>\n      <td>0</td>\n      <td>0</td>\n      <td>-1</td>\n      <td>0</td>\n      <td>0</td>\n      <td>1</td>\n      <td>0</td>\n      <td>0</td>\n    </tr>\n    <tr>\n      <th>212960</th>\n      <td>завершаются</td>\n      <td>conclude</td>\n      <td>1</td>\n      <td>1</td>\n      <td>1</td>\n      <td>1</td>\n      <td>0</td>\n      <td>1</td>\n      <td>1</td>\n      <td>0</td>\n      <td>1</td>\n    </tr>\n    <tr>\n      <th>212961</th>\n      <td>улучшиться</td>\n      <td>improve</td>\n      <td>1</td>\n      <td>1</td>\n      <td>1</td>\n      <td>1</td>\n      <td>0</td>\n      <td>1</td>\n      <td>1</td>\n      <td>0</td>\n      <td>1</td>\n    </tr>\n    <tr>\n      <th>212962</th>\n      <td>экспортировалась</td>\n      <td>export</td>\n      <td>0</td>\n      <td>0</td>\n      <td>1</td>\n      <td>0</td>\n      <td>1</td>\n      <td>1</td>\n      <td>1</td>\n      <td>0</td>\n      <td>1</td>\n    </tr>\n    <tr>\n      <th>212963</th>\n      <td>проявившие</td>\n      <td>express</td>\n      <td>-1</td>\n      <td>0</td>\n      <td>0</td>\n      <td>0</td>\n      <td>1</td>\n      <td>0</td>\n      <td>1</td>\n      <td>0</td>\n      <td>0</td>\n    </tr>\n    <tr>\n      <th>212964</th>\n      <td>кодироваться</td>\n      <td>be</td>\n      <td>0</td>\n      <td>1</td>\n      <td>0</td>\n      <td>0</td>\n      <td>0</td>\n      <td>0</td>\n      <td>1</td>\n      <td>0</td>\n      <td>1</td>\n    </tr>\n    <tr>\n      <th>212965</th>\n      <td>достигнув</td>\n      <td>reach</td>\n      <td>0</td>\n      <td>1</td>\n      <td>0</td>\n      <td>0</td>\n      <td>0</td>\n      <td>1</td>\n      <td>1</td>\n      <td>0</td>\n      <td>0</td>\n    </tr>\n    <tr>\n      <th>212966</th>\n      <td>Шымкент</td>\n      <td>be</td>\n      <td>0</td>\n      <td>1</td>\n      <td>0</td>\n      <td>0</td>\n      <td>0</td>\n      <td>0</td>\n      <td>1</td>\n      <td>0</td>\n      <td>1</td>\n    </tr>\n    <tr>\n      <th>212967</th>\n      <td>водопроницаемая</td>\n      <td>water</td>\n      <td>0</td>\n      <td>-1</td>\n      <td>0</td>\n      <td>-1</td>\n      <td>0</td>\n      <td>1</td>\n      <td>1</td>\n      <td>0</td>\n      <td>1</td>\n    </tr>\n    <tr>\n      <th>212968</th>\n      <td>подогревают</td>\n      <td>fuel</td>\n      <td>0</td>\n      <td>0</td>\n      <td>0</td>\n      <td>1</td>\n      <td>1</td>\n      <td>1</td>\n      <td>1</td>\n      <td>0</td>\n      <td>1</td>\n    </tr>\n    <tr>\n      <th>212969</th>\n      <td>вечернем</td>\n      <td>work</td>\n      <td>1</td>\n      <td>1</td>\n      <td>1</td>\n      <td>1</td>\n      <td>0</td>\n      <td>1</td>\n      <td>1</td>\n      <td>0</td>\n      <td>1</td>\n    </tr>\n    <tr>\n      <th>212970</th>\n      <td>сбитого</td>\n      <td>shoot</td>\n      <td>0</td>\n      <td>0</td>\n      <td>0</td>\n      <td>-1</td>\n      <td>0</td>\n      <td>-1</td>\n      <td>1</td>\n      <td>-1</td>\n      <td>0</td>\n    </tr>\n    <tr>\n      <th>212971</th>\n      <td>вечернее</td>\n      <td>be</td>\n      <td>0</td>\n      <td>1</td>\n      <td>0</td>\n      <td>0</td>\n      <td>0</td>\n      <td>0</td>\n      <td>1</td>\n      <td>0</td>\n      <td>1</td>\n    </tr>\n    <tr>\n      <th>212972</th>\n      <td>ночующие</td>\n      <td>sleep</td>\n      <td>0</td>\n      <td>1</td>\n      <td>0</td>\n      <td>0</td>\n      <td>1</td>\n      <td>1</td>\n      <td>1</td>\n      <td>0</td>\n      <td>1</td>\n    </tr>\n  </tbody>\n</table>\n</div>"
     },
     "execution_count": 156,
     "metadata": {},
     "output_type": "execute_result"
    }
   ],
   "source": [
    "df_mcf_conn.tail(20)"
   ],
   "metadata": {
    "collapsed": false,
    "pycharm": {
     "name": "#%%\n"
    }
   }
  },
  {
   "cell_type": "code",
   "execution_count": 157,
   "outputs": [
    {
     "data": {
      "text/plain": "            Column 1          Column 2         Column 3         Column 4  \\\n225128       писаной        write,0.62     station,0.06       radio,0.06   \n225129    захватывая  consolidate,0.04     capture,0.08          be,0.08   \n225130       125-129     increase,0.20      relate,0.20     require,0.20   \n225131        плодам        enjoy,0.09      afford,0.05       share,0.09   \n225132   формируется        shape,0.04         set,0.01        draw,0.01   \n225133      подобную     prohibit,0.02       force,0.02    conclude,0.02   \n225134       Исабаль          map,0.14         set,0.29     attempt,0.14   \n225135    набирающей  consolidate,0.03        rise,0.03       widen,0.03   \n225136    набирающее   strengthen,0.25      signal,0.12      gather,0.25   \n225137  ВЕРТИКАЛЬНАЯ      perform,0.30     require,0.10  contribute,0.10   \n225138         КБХПР       assess,0.17      review,0.17        land,0.17   \n225139     учреждает          set,0.04  constitute,0.07   establish,0.74   \n225140   долговечным      sustain,0.08        last,0.08      endure,0.38   \n225141  организующих        count,0.02    organize,0.48      handle,0.02   \n225142        поводу       relate,0.03        lack,0.01     concern,0.09   \n225143       писаном        write,0.43       print,0.14      suffer,0.14   \n225144        поводы      respond,0.03   formulate,0.03        give,0.03   \n225145       писаное           do,0.13     wrestle,0.07        deal,0.07   \n225146     ненасилия        begin,0.05      engage,0.10        form,0.02   \n225147   запутыванию       evolve,0.10  complicate,0.10     suggest,0.10   \n\n               Column 5        Column 6         Column 7         Column 8  \\\n225128        have,0.12      press,0.06  understand,0.03   underline,0.03   \n225129       seize,0.12     assume,0.04        ruin,0.04  confiscate,0.04   \n225130   implement,0.20    propose,0.20             None             None   \n225131     benefit,0.59    produce,0.09       place,0.05             None   \n225132  constitute,0.02         be,0.46      emerge,0.09   establish,0.02   \n225133     respect,0.02       seek,0.04     concern,0.02        form,0.03   \n225134       level,0.14     create,0.14        grow,0.14             None   \n225135     process,0.03     gather,0.07       grind,0.03    increase,0.17   \n225136      mature,0.12       come,0.12        grow,0.12             None   \n225137        beam,0.10      range,0.10         can,0.30             None   \n225138       allow,0.17  determine,0.33             None             None   \n225139      create,0.01         be,0.07             None             None   \n225140        mark,0.46            None             None             None   \n225141        lead,0.02    provide,0.13      create,0.02     procure,0.04   \n225142     respect,0.08    subject,0.02       issue,0.03      regard,0.62   \n225143     embrace,0.14      award,0.14             None             None   \n225144     involve,0.03     design,0.03        want,0.03     concern,0.05   \n225145        rank,0.07      write,0.53       exist,0.07       treat,0.07   \n225146    practice,0.12    disable,0.05      amount,0.02      foster,0.56   \n225147     confuse,0.10       tend,0.30     obscure,0.20  facilitate,0.10   \n\n               Column 9       Column 10  ... Column 62 Column 63 Column 64  \\\n225128     subject,0.03            None  ...      None      None      None   \n225129     involve,0.04       link,0.08  ...      None      None      None   \n225130             None            None  ...      None      None      None   \n225131             None            None  ...      None      None      None   \n225132      create,0.02       form,0.06  ...      None      None      None   \n225133  commission,0.02     detail,0.05  ...      None      None      None   \n225134             None            None  ...      None      None      None   \n225135     benefit,0.03       gain,0.10  ...      None      None      None   \n225136             None            None  ...      None      None      None   \n225137             None            None  ...      None      None      None   \n225138             None            None  ...      None      None      None   \n225139             None            None  ...      None      None      None   \n225140             None            None  ...      None      None      None   \n225141   cooperate,0.02       note,0.04  ...      None      None      None   \n225142      matter,0.02   continue,0.01  ...      None      None      None   \n225143             None            None  ...      None      None      None   \n225144        putt,0.03    perform,0.08  ...      None      None      None   \n225145             None            None  ...      None      None      None   \n225146        call,0.02  implement,0.02  ...      None      None      None   \n225147             None            None  ...      None      None      None   \n\n       Column 65 Column 66 Column 67 Column 68 Column 69 Column 70 Column 71  \n225128      None      None      None      None      None      None      None  \n225129      None      None      None      None      None      None      None  \n225130      None      None      None      None      None      None      None  \n225131      None      None      None      None      None      None      None  \n225132      None      None      None      None      None      None      None  \n225133      None      None      None      None      None      None      None  \n225134      None      None      None      None      None      None      None  \n225135      None      None      None      None      None      None      None  \n225136      None      None      None      None      None      None      None  \n225137      None      None      None      None      None      None      None  \n225138      None      None      None      None      None      None      None  \n225139      None      None      None      None      None      None      None  \n225140      None      None      None      None      None      None      None  \n225141      None      None      None      None      None      None      None  \n225142      None      None      None      None      None      None      None  \n225143      None      None      None      None      None      None      None  \n225144      None      None      None      None      None      None      None  \n225145      None      None      None      None      None      None      None  \n225146      None      None      None      None      None      None      None  \n225147      None      None      None      None      None      None      None  \n\n[20 rows x 71 columns]",
      "text/html": "<div>\n<style scoped>\n    .dataframe tbody tr th:only-of-type {\n        vertical-align: middle;\n    }\n\n    .dataframe tbody tr th {\n        vertical-align: top;\n    }\n\n    .dataframe thead th {\n        text-align: right;\n    }\n</style>\n<table border=\"1\" class=\"dataframe\">\n  <thead>\n    <tr style=\"text-align: right;\">\n      <th></th>\n      <th>Column 1</th>\n      <th>Column 2</th>\n      <th>Column 3</th>\n      <th>Column 4</th>\n      <th>Column 5</th>\n      <th>Column 6</th>\n      <th>Column 7</th>\n      <th>Column 8</th>\n      <th>Column 9</th>\n      <th>Column 10</th>\n      <th>...</th>\n      <th>Column 62</th>\n      <th>Column 63</th>\n      <th>Column 64</th>\n      <th>Column 65</th>\n      <th>Column 66</th>\n      <th>Column 67</th>\n      <th>Column 68</th>\n      <th>Column 69</th>\n      <th>Column 70</th>\n      <th>Column 71</th>\n    </tr>\n  </thead>\n  <tbody>\n    <tr>\n      <th>225128</th>\n      <td>писаной</td>\n      <td>write,0.62</td>\n      <td>station,0.06</td>\n      <td>radio,0.06</td>\n      <td>have,0.12</td>\n      <td>press,0.06</td>\n      <td>understand,0.03</td>\n      <td>underline,0.03</td>\n      <td>subject,0.03</td>\n      <td>None</td>\n      <td>...</td>\n      <td>None</td>\n      <td>None</td>\n      <td>None</td>\n      <td>None</td>\n      <td>None</td>\n      <td>None</td>\n      <td>None</td>\n      <td>None</td>\n      <td>None</td>\n      <td>None</td>\n    </tr>\n    <tr>\n      <th>225129</th>\n      <td>захватывая</td>\n      <td>consolidate,0.04</td>\n      <td>capture,0.08</td>\n      <td>be,0.08</td>\n      <td>seize,0.12</td>\n      <td>assume,0.04</td>\n      <td>ruin,0.04</td>\n      <td>confiscate,0.04</td>\n      <td>involve,0.04</td>\n      <td>link,0.08</td>\n      <td>...</td>\n      <td>None</td>\n      <td>None</td>\n      <td>None</td>\n      <td>None</td>\n      <td>None</td>\n      <td>None</td>\n      <td>None</td>\n      <td>None</td>\n      <td>None</td>\n      <td>None</td>\n    </tr>\n    <tr>\n      <th>225130</th>\n      <td>125-129</td>\n      <td>increase,0.20</td>\n      <td>relate,0.20</td>\n      <td>require,0.20</td>\n      <td>implement,0.20</td>\n      <td>propose,0.20</td>\n      <td>None</td>\n      <td>None</td>\n      <td>None</td>\n      <td>None</td>\n      <td>...</td>\n      <td>None</td>\n      <td>None</td>\n      <td>None</td>\n      <td>None</td>\n      <td>None</td>\n      <td>None</td>\n      <td>None</td>\n      <td>None</td>\n      <td>None</td>\n      <td>None</td>\n    </tr>\n    <tr>\n      <th>225131</th>\n      <td>плодам</td>\n      <td>enjoy,0.09</td>\n      <td>afford,0.05</td>\n      <td>share,0.09</td>\n      <td>benefit,0.59</td>\n      <td>produce,0.09</td>\n      <td>place,0.05</td>\n      <td>None</td>\n      <td>None</td>\n      <td>None</td>\n      <td>...</td>\n      <td>None</td>\n      <td>None</td>\n      <td>None</td>\n      <td>None</td>\n      <td>None</td>\n      <td>None</td>\n      <td>None</td>\n      <td>None</td>\n      <td>None</td>\n      <td>None</td>\n    </tr>\n    <tr>\n      <th>225132</th>\n      <td>формируется</td>\n      <td>shape,0.04</td>\n      <td>set,0.01</td>\n      <td>draw,0.01</td>\n      <td>constitute,0.02</td>\n      <td>be,0.46</td>\n      <td>emerge,0.09</td>\n      <td>establish,0.02</td>\n      <td>create,0.02</td>\n      <td>form,0.06</td>\n      <td>...</td>\n      <td>None</td>\n      <td>None</td>\n      <td>None</td>\n      <td>None</td>\n      <td>None</td>\n      <td>None</td>\n      <td>None</td>\n      <td>None</td>\n      <td>None</td>\n      <td>None</td>\n    </tr>\n    <tr>\n      <th>225133</th>\n      <td>подобную</td>\n      <td>prohibit,0.02</td>\n      <td>force,0.02</td>\n      <td>conclude,0.02</td>\n      <td>respect,0.02</td>\n      <td>seek,0.04</td>\n      <td>concern,0.02</td>\n      <td>form,0.03</td>\n      <td>commission,0.02</td>\n      <td>detail,0.05</td>\n      <td>...</td>\n      <td>None</td>\n      <td>None</td>\n      <td>None</td>\n      <td>None</td>\n      <td>None</td>\n      <td>None</td>\n      <td>None</td>\n      <td>None</td>\n      <td>None</td>\n      <td>None</td>\n    </tr>\n    <tr>\n      <th>225134</th>\n      <td>Исабаль</td>\n      <td>map,0.14</td>\n      <td>set,0.29</td>\n      <td>attempt,0.14</td>\n      <td>level,0.14</td>\n      <td>create,0.14</td>\n      <td>grow,0.14</td>\n      <td>None</td>\n      <td>None</td>\n      <td>None</td>\n      <td>...</td>\n      <td>None</td>\n      <td>None</td>\n      <td>None</td>\n      <td>None</td>\n      <td>None</td>\n      <td>None</td>\n      <td>None</td>\n      <td>None</td>\n      <td>None</td>\n      <td>None</td>\n    </tr>\n    <tr>\n      <th>225135</th>\n      <td>набирающей</td>\n      <td>consolidate,0.03</td>\n      <td>rise,0.03</td>\n      <td>widen,0.03</td>\n      <td>process,0.03</td>\n      <td>gather,0.07</td>\n      <td>grind,0.03</td>\n      <td>increase,0.17</td>\n      <td>benefit,0.03</td>\n      <td>gain,0.10</td>\n      <td>...</td>\n      <td>None</td>\n      <td>None</td>\n      <td>None</td>\n      <td>None</td>\n      <td>None</td>\n      <td>None</td>\n      <td>None</td>\n      <td>None</td>\n      <td>None</td>\n      <td>None</td>\n    </tr>\n    <tr>\n      <th>225136</th>\n      <td>набирающее</td>\n      <td>strengthen,0.25</td>\n      <td>signal,0.12</td>\n      <td>gather,0.25</td>\n      <td>mature,0.12</td>\n      <td>come,0.12</td>\n      <td>grow,0.12</td>\n      <td>None</td>\n      <td>None</td>\n      <td>None</td>\n      <td>...</td>\n      <td>None</td>\n      <td>None</td>\n      <td>None</td>\n      <td>None</td>\n      <td>None</td>\n      <td>None</td>\n      <td>None</td>\n      <td>None</td>\n      <td>None</td>\n      <td>None</td>\n    </tr>\n    <tr>\n      <th>225137</th>\n      <td>ВЕРТИКАЛЬНАЯ</td>\n      <td>perform,0.30</td>\n      <td>require,0.10</td>\n      <td>contribute,0.10</td>\n      <td>beam,0.10</td>\n      <td>range,0.10</td>\n      <td>can,0.30</td>\n      <td>None</td>\n      <td>None</td>\n      <td>None</td>\n      <td>...</td>\n      <td>None</td>\n      <td>None</td>\n      <td>None</td>\n      <td>None</td>\n      <td>None</td>\n      <td>None</td>\n      <td>None</td>\n      <td>None</td>\n      <td>None</td>\n      <td>None</td>\n    </tr>\n    <tr>\n      <th>225138</th>\n      <td>КБХПР</td>\n      <td>assess,0.17</td>\n      <td>review,0.17</td>\n      <td>land,0.17</td>\n      <td>allow,0.17</td>\n      <td>determine,0.33</td>\n      <td>None</td>\n      <td>None</td>\n      <td>None</td>\n      <td>None</td>\n      <td>...</td>\n      <td>None</td>\n      <td>None</td>\n      <td>None</td>\n      <td>None</td>\n      <td>None</td>\n      <td>None</td>\n      <td>None</td>\n      <td>None</td>\n      <td>None</td>\n      <td>None</td>\n    </tr>\n    <tr>\n      <th>225139</th>\n      <td>учреждает</td>\n      <td>set,0.04</td>\n      <td>constitute,0.07</td>\n      <td>establish,0.74</td>\n      <td>create,0.01</td>\n      <td>be,0.07</td>\n      <td>None</td>\n      <td>None</td>\n      <td>None</td>\n      <td>None</td>\n      <td>...</td>\n      <td>None</td>\n      <td>None</td>\n      <td>None</td>\n      <td>None</td>\n      <td>None</td>\n      <td>None</td>\n      <td>None</td>\n      <td>None</td>\n      <td>None</td>\n      <td>None</td>\n    </tr>\n    <tr>\n      <th>225140</th>\n      <td>долговечным</td>\n      <td>sustain,0.08</td>\n      <td>last,0.08</td>\n      <td>endure,0.38</td>\n      <td>mark,0.46</td>\n      <td>None</td>\n      <td>None</td>\n      <td>None</td>\n      <td>None</td>\n      <td>None</td>\n      <td>...</td>\n      <td>None</td>\n      <td>None</td>\n      <td>None</td>\n      <td>None</td>\n      <td>None</td>\n      <td>None</td>\n      <td>None</td>\n      <td>None</td>\n      <td>None</td>\n      <td>None</td>\n    </tr>\n    <tr>\n      <th>225141</th>\n      <td>организующих</td>\n      <td>count,0.02</td>\n      <td>organize,0.48</td>\n      <td>handle,0.02</td>\n      <td>lead,0.02</td>\n      <td>provide,0.13</td>\n      <td>create,0.02</td>\n      <td>procure,0.04</td>\n      <td>cooperate,0.02</td>\n      <td>note,0.04</td>\n      <td>...</td>\n      <td>None</td>\n      <td>None</td>\n      <td>None</td>\n      <td>None</td>\n      <td>None</td>\n      <td>None</td>\n      <td>None</td>\n      <td>None</td>\n      <td>None</td>\n      <td>None</td>\n    </tr>\n    <tr>\n      <th>225142</th>\n      <td>поводу</td>\n      <td>relate,0.03</td>\n      <td>lack,0.01</td>\n      <td>concern,0.09</td>\n      <td>respect,0.08</td>\n      <td>subject,0.02</td>\n      <td>issue,0.03</td>\n      <td>regard,0.62</td>\n      <td>matter,0.02</td>\n      <td>continue,0.01</td>\n      <td>...</td>\n      <td>None</td>\n      <td>None</td>\n      <td>None</td>\n      <td>None</td>\n      <td>None</td>\n      <td>None</td>\n      <td>None</td>\n      <td>None</td>\n      <td>None</td>\n      <td>None</td>\n    </tr>\n    <tr>\n      <th>225143</th>\n      <td>писаном</td>\n      <td>write,0.43</td>\n      <td>print,0.14</td>\n      <td>suffer,0.14</td>\n      <td>embrace,0.14</td>\n      <td>award,0.14</td>\n      <td>None</td>\n      <td>None</td>\n      <td>None</td>\n      <td>None</td>\n      <td>...</td>\n      <td>None</td>\n      <td>None</td>\n      <td>None</td>\n      <td>None</td>\n      <td>None</td>\n      <td>None</td>\n      <td>None</td>\n      <td>None</td>\n      <td>None</td>\n      <td>None</td>\n    </tr>\n    <tr>\n      <th>225144</th>\n      <td>поводы</td>\n      <td>respond,0.03</td>\n      <td>formulate,0.03</td>\n      <td>give,0.03</td>\n      <td>involve,0.03</td>\n      <td>design,0.03</td>\n      <td>want,0.03</td>\n      <td>concern,0.05</td>\n      <td>putt,0.03</td>\n      <td>perform,0.08</td>\n      <td>...</td>\n      <td>None</td>\n      <td>None</td>\n      <td>None</td>\n      <td>None</td>\n      <td>None</td>\n      <td>None</td>\n      <td>None</td>\n      <td>None</td>\n      <td>None</td>\n      <td>None</td>\n    </tr>\n    <tr>\n      <th>225145</th>\n      <td>писаное</td>\n      <td>do,0.13</td>\n      <td>wrestle,0.07</td>\n      <td>deal,0.07</td>\n      <td>rank,0.07</td>\n      <td>write,0.53</td>\n      <td>exist,0.07</td>\n      <td>treat,0.07</td>\n      <td>None</td>\n      <td>None</td>\n      <td>...</td>\n      <td>None</td>\n      <td>None</td>\n      <td>None</td>\n      <td>None</td>\n      <td>None</td>\n      <td>None</td>\n      <td>None</td>\n      <td>None</td>\n      <td>None</td>\n      <td>None</td>\n    </tr>\n    <tr>\n      <th>225146</th>\n      <td>ненасилия</td>\n      <td>begin,0.05</td>\n      <td>engage,0.10</td>\n      <td>form,0.02</td>\n      <td>practice,0.12</td>\n      <td>disable,0.05</td>\n      <td>amount,0.02</td>\n      <td>foster,0.56</td>\n      <td>call,0.02</td>\n      <td>implement,0.02</td>\n      <td>...</td>\n      <td>None</td>\n      <td>None</td>\n      <td>None</td>\n      <td>None</td>\n      <td>None</td>\n      <td>None</td>\n      <td>None</td>\n      <td>None</td>\n      <td>None</td>\n      <td>None</td>\n    </tr>\n    <tr>\n      <th>225147</th>\n      <td>запутыванию</td>\n      <td>evolve,0.10</td>\n      <td>complicate,0.10</td>\n      <td>suggest,0.10</td>\n      <td>confuse,0.10</td>\n      <td>tend,0.30</td>\n      <td>obscure,0.20</td>\n      <td>facilitate,0.10</td>\n      <td>None</td>\n      <td>None</td>\n      <td>...</td>\n      <td>None</td>\n      <td>None</td>\n      <td>None</td>\n      <td>None</td>\n      <td>None</td>\n      <td>None</td>\n      <td>None</td>\n      <td>None</td>\n      <td>None</td>\n      <td>None</td>\n    </tr>\n  </tbody>\n</table>\n<p>20 rows × 71 columns</p>\n</div>"
     },
     "execution_count": 157,
     "metadata": {},
     "output_type": "execute_result"
    }
   ],
   "source": [
    "df_mcc_alignments.tail(20)"
   ],
   "metadata": {
    "collapsed": false,
    "pycharm": {
     "name": "#%%\n"
    }
   }
  },
  {
   "cell_type": "markdown",
   "source": [
    "[Diachronic analysis](https://aclanthology.org/W19-4725.pdf)"
   ],
   "metadata": {
    "collapsed": false,
    "pycharm": {
     "name": "#%% md\n"
    }
   }
  },
  {
   "cell_type": "code",
   "execution_count": 1,
   "outputs": [],
   "source": [
    "from collocation_extraction import collect_verb_obl_obj, collect_core, collect_nmod, collect_amod, collect_comp, collect_appos, show_dependency\n",
    "from text_preprocessing import preprocess_df\n",
    "import pandas as pd\n",
    "import spacy"
   ],
   "metadata": {
    "collapsed": false,
    "pycharm": {
     "name": "#%%\n"
    }
   }
  },
  {
   "cell_type": "code",
   "execution_count": 2,
   "outputs": [],
   "source": [
    "df_labels = pd.read_csv('/Users/katerynaburovova/PycharmProjects/dehumanization/annotation/final_labels.csv', index_col=0)"
   ],
   "metadata": {
    "collapsed": false,
    "pycharm": {
     "name": "#%%\n"
    }
   }
  },
  {
   "cell_type": "code",
   "execution_count": 3,
   "outputs": [],
   "source": [
    "df_labels = df_labels[df_labels['Dehumanization']!='не можу визначитись з правильною відповіддю'].copy()"
   ],
   "metadata": {
    "collapsed": false,
    "pycharm": {
     "name": "#%%\n"
    }
   }
  },
  {
   "cell_type": "code",
   "execution_count": 4,
   "outputs": [],
   "source": [
    "df_labels['label'] = df_labels['Dehumanization'].apply(lambda x: 0 if x=='ні' else 1)"
   ],
   "metadata": {
    "collapsed": false,
    "pycharm": {
     "name": "#%%\n"
    }
   }
  },
  {
   "cell_type": "code",
   "execution_count": 51,
   "outputs": [],
   "source": [
    "import spacy\n",
    "# from spacy.lang.ru.examples import sentences\n",
    "nlp = spacy.load('ru_core_news_md')\n",
    "def lemmatize_spacy(text):\n",
    "    doc = nlp(text)\n",
    "    result = [token.lemma_ for token in doc]\n",
    "    return result"
   ],
   "metadata": {
    "collapsed": false,
    "pycharm": {
     "name": "#%%\n"
    }
   }
  },
  {
   "cell_type": "code",
   "execution_count": 52,
   "outputs": [
    {
     "name": "stdout",
     "output_type": "stream",
     "text": [
      "CPU times: user 29.5 s, sys: 244 ms, total: 29.7 s\n",
      "Wall time: 30 s\n"
     ]
    }
   ],
   "source": [
    "%%time\n",
    "df_labels['lemmas'] = df_labels['text'].apply(lambda x: lemmatize_spacy(x))"
   ],
   "metadata": {
    "collapsed": false,
    "pycharm": {
     "name": "#%%\n"
    }
   }
  },
  {
   "cell_type": "code",
   "execution_count": 32,
   "outputs": [],
   "source": [
    "#creating opinion score dict\n",
    "opinion_dict_rusentilex = dict(zip(df_RuSentiLex.iloc[:, 0], df_RuSentiLex.iloc[:, 7]))"
   ],
   "metadata": {
    "collapsed": false,
    "pycharm": {
     "name": "#%%\n"
    }
   }
  },
  {
   "cell_type": "code",
   "execution_count": 53,
   "outputs": [],
   "source": [
    "def opinion_score_from_text(text, sentiment_dict):\n",
    "    words = text.split()\n",
    "    score = 0\n",
    "\n",
    "    for word in words:\n",
    "        if word in sentiment_dict:\n",
    "            score += sentiment_dict[word]\n",
    "\n",
    "    return score\n"
   ],
   "metadata": {
    "collapsed": false,
    "pycharm": {
     "name": "#%%\n"
    }
   }
  },
  {
   "cell_type": "code",
   "execution_count": 54,
   "outputs": [],
   "source": [
    "def opinion_score_from_lemmas(list, sentiment_dict):\n",
    "    score = 0\n",
    "\n",
    "    for word in list:\n",
    "        if word in sentiment_dict:\n",
    "            score += sentiment_dict[word]\n",
    "\n",
    "    return score\n"
   ],
   "metadata": {
    "collapsed": false,
    "pycharm": {
     "name": "#%%\n"
    }
   }
  },
  {
   "cell_type": "code",
   "execution_count": 33,
   "outputs": [
    {
     "data": {
      "text/plain": "1"
     },
     "execution_count": 33,
     "metadata": {},
     "output_type": "execute_result"
    }
   ],
   "source": [
    "opinion_dict_rusentilex['абракадабра']"
   ],
   "metadata": {
    "collapsed": false,
    "pycharm": {
     "name": "#%%\n"
    }
   }
  },
  {
   "cell_type": "code",
   "execution_count": 55,
   "outputs": [],
   "source": [
    "df_labels['opinion_score'] = df_labels['lemmas'].apply(lambda x: opinion_score_from_lemmas(x, opinion_dict_rusentilex))"
   ],
   "metadata": {
    "collapsed": false,
    "pycharm": {
     "name": "#%%\n"
    }
   }
  },
  {
   "cell_type": "code",
   "execution_count": 57,
   "outputs": [
    {
     "name": "stdout",
     "output_type": "stream",
     "text": [
      "Pearson correlation coefficient: 0.06896494852519809\n"
     ]
    }
   ],
   "source": [
    "import numpy as np\n",
    "\n",
    "pearson_correlation = df_labels[\"opinion_score\"].corr(df_labels[\"label\"], method=\"pearson\")\n",
    "print(\"Pearson correlation coefficient:\", pearson_correlation)"
   ],
   "metadata": {
    "collapsed": false,
    "pycharm": {
     "name": "#%%\n"
    }
   }
  },
  {
   "cell_type": "code",
   "execution_count": 58,
   "outputs": [
    {
     "name": "stdout",
     "output_type": "stream",
     "text": [
      "Spearman correlation coefficient: 0.08141875590397507\n"
     ]
    }
   ],
   "source": [
    "spearman_correlation = df_labels[\"opinion_score\"].corr(df_labels[\"label\"], method=\"spearman\")\n",
    "print(\"Spearman correlation coefficient:\", spearman_correlation)"
   ],
   "metadata": {
    "collapsed": false,
    "pycharm": {
     "name": "#%%\n"
    }
   }
  },
  {
   "cell_type": "markdown",
   "source": [
    "As one variable increases, the other tends to increase slightly as well, but the relationship is not strong."
   ],
   "metadata": {
    "collapsed": false,
    "pycharm": {
     "name": "#%% md\n"
    }
   }
  },
  {
   "cell_type": "code",
   "execution_count": 60,
   "outputs": [],
   "source": [
    "negative_dict_rusentilex = dict(zip(df_RuSentiLex.iloc[:, 0], df_RuSentiLex.iloc[:, 8]))"
   ],
   "metadata": {
    "collapsed": false,
    "pycharm": {
     "name": "#%%\n"
    }
   }
  },
  {
   "cell_type": "code",
   "execution_count": 61,
   "outputs": [],
   "source": [
    "negative_op_dict_rusentilex = dict(zip(df_RuSentiLex.iloc[:, 0], df_RuSentiLex.iloc[:, 9]))"
   ],
   "metadata": {
    "collapsed": false,
    "pycharm": {
     "name": "#%%\n"
    }
   }
  },
  {
   "cell_type": "code",
   "execution_count": 62,
   "outputs": [],
   "source": [
    "df_labels['negative_emotion_score'] = df_labels['lemmas'].apply(lambda x: opinion_score_from_lemmas(x, negative_dict_rusentilex))\n",
    "df_labels['negative_opinion_score'] = df_labels['lemmas'].apply(lambda x: opinion_score_from_lemmas(x, negative_op_dict_rusentilex))"
   ],
   "metadata": {
    "collapsed": false,
    "pycharm": {
     "name": "#%%\n"
    }
   }
  },
  {
   "cell_type": "code",
   "execution_count": 63,
   "outputs": [
    {
     "name": "stdout",
     "output_type": "stream",
     "text": [
      "Pearson correlation coefficient: 0.16588910696147194\n",
      "Spearman correlation coefficient: 0.20957913960148952\n"
     ]
    }
   ],
   "source": [
    "pearson_correlation = df_labels[\"negative_emotion_score\"].corr(df_labels[\"label\"], method=\"pearson\")\n",
    "print(\"Pearson correlation coefficient:\", pearson_correlation)\n",
    "\n",
    "spearman_correlation = df_labels[\"negative_emotion_score\"].corr(df_labels[\"label\"], method=\"spearman\")\n",
    "print(\"Spearman correlation coefficient:\", spearman_correlation)"
   ],
   "metadata": {
    "collapsed": false,
    "pycharm": {
     "name": "#%%\n"
    }
   }
  },
  {
   "cell_type": "code",
   "execution_count": 64,
   "outputs": [
    {
     "name": "stdout",
     "output_type": "stream",
     "text": [
      "Pearson correlation coefficient: 0.13121852288771577\n",
      "Spearman correlation coefficient: 0.16701545979788543\n"
     ]
    }
   ],
   "source": [
    "pearson_correlation = df_labels[\"negative_opinion_score\"].corr(df_labels[\"label\"], method=\"pearson\")\n",
    "print(\"Pearson correlation coefficient:\", pearson_correlation)\n",
    "\n",
    "spearman_correlation = df_labels[\"negative_opinion_score\"].corr(df_labels[\"label\"], method=\"spearman\")\n",
    "print(\"Spearman correlation coefficient:\", spearman_correlation)"
   ],
   "metadata": {
    "collapsed": false,
    "pycharm": {
     "name": "#%%\n"
    }
   }
  },
  {
   "cell_type": "markdown",
   "source": [
    "The relationship is a bit better described by a non-linear, monotonic function rather than a linear function, and for negative emotion only it's stronger that for negative emotion and opinion combined.\n",
    "\n",
    "A value of 0.20957913960148952 is relatively low, suggesting that the relationship between the two variables is not very strong. However, it is still positive, which indicates that some degree of association exists between the variables."
   ],
   "metadata": {
    "collapsed": false,
    "pycharm": {
     "name": "#%% md\n"
    }
   }
  },
  {
   "cell_type": "code",
   "execution_count": 78,
   "outputs": [],
   "source": [
    "from collocation_extraction import collect_verb_obl_obj, collect_core, collect_nmod, collect_amod, collect_comp, collect_appos, show_dependency, lst_to_str"
   ],
   "metadata": {
    "collapsed": false,
    "pycharm": {
     "name": "#%%\n"
    }
   }
  },
  {
   "cell_type": "code",
   "execution_count": 81,
   "outputs": [],
   "source": [
    "df_labels['core_noun_verb'] = df_labels['text'].apply(lambda x: lst_to_str(collect_core(x)))\n",
    "df_labels['verb_obl_obj'] = df_labels['text'].apply(lambda x: lst_to_str(collect_verb_obl_obj(x)))\n",
    "df_labels['nmod'] = df_labels['text'].apply(lambda x: lst_to_str(collect_nmod(x)))\n",
    "df_labels['amod'] = df_labels['text'].apply(lambda x: lst_to_str(collect_amod(x)))\n",
    "df_labels['comp'] = df_labels['text'].apply(lambda x: lst_to_str(collect_comp(x)))"
   ],
   "metadata": {
    "collapsed": false,
    "pycharm": {
     "name": "#%%\n"
    }
   }
  },
  {
   "cell_type": "code",
   "execution_count": 84,
   "outputs": [],
   "source": [
    "df_labels['core_noun_verb_lemmas'] = df_labels['core_noun_verb'].apply(lambda x: lemmatize_spacy(x))\n",
    "df_labels['verb_obl_obj_lemmas'] = df_labels['verb_obl_obj'].apply(lambda x: lemmatize_spacy(x))\n",
    "df_labels['nmod_lemmas'] = df_labels['nmod'].apply(lambda x: lemmatize_spacy(x))\n",
    "df_labels['amod_lemmas'] = df_labels['amod'].apply(lambda x: lemmatize_spacy(x))\n",
    "df_labels['comp_lemmas'] = df_labels['comp'].apply(lambda x: lemmatize_spacy(x))"
   ],
   "metadata": {
    "collapsed": false,
    "pycharm": {
     "name": "#%%\n"
    }
   }
  },
  {
   "cell_type": "code",
   "execution_count": 80,
   "outputs": [
    {
     "data": {
      "text/plain": "                      Emotion Dehumanization Mention   External ID  \\\n1219  так, присутня негативна            так     так     row_0.txt   \n1218   ні, оцінка не присутня             ні      ні     row_1.txt   \n1591  так, присутня негативна            так     так    row_10.txt   \n1198  так, присутня негативна            так     так   row_100.txt   \n3247   ні, оцінка не присутня             ні     так  row_1000.txt   \n...                       ...            ...     ...           ...   \n3613   ні, оцінка не присутня             ні     так   row_995.txt   \n3612  так, присутня негативна             ні     так   row_996.txt   \n4121  так, присутня негативна             ні     так   row_997.txt   \n4120   ні, оцінка не присутня            так     так   row_998.txt   \n3248   ні, оцінка не присутня             ні      ні   row_999.txt   \n\n                        Created By  \\\n1219      snizannabotvin@gmail.com   \n1218      snizannabotvin@gmail.com   \n1591      snizannabotvin@gmail.com   \n1198      snizannabotvin@gmail.com   \n3247        tutovadesign@gmail.com   \n...                            ...   \n3613        tutovadesign@gmail.com   \n3612        tutovadesign@gmail.com   \n4121  yevhen.marchenko91@gmail.com   \n4120  yevhen.marchenko91@gmail.com   \n3248        tutovadesign@gmail.com   \n\n                                                   text  rating  label  \\\n1219  Всвязи с этим немного поправлю коллег ⤵️  \"Они...       4      1   \n1218  Литературный критик Галина Юзефович о новом ро...       4      0   \n1591  Почему на базах неонацистов стоят языческие ис...       4      1   \n1198  Группа добровольцев-медиков из Чеченской Респу...       4      1   \n3247  ВСУшники, переходите на сторону добра, у нас т...       5      0   \n...                                                 ...     ...    ...   \n3613  Утренний брифинг Минобороны России:  ▪️ россий...       5      0   \n3612  И понеслась мазепинщино-петлюровщино-бандеровщ...       5      0   \n4121  Наш соратник по русскому движению Алексей Сели...       3      0   \n4120  Хорошее видео от 4 бригады НМ ЛНР https://t.me...       3      1   \n3248  Замоскворецкий районный суд Москвы отклонил ис...       5      0   \n\n      opinion_score  negative_emotion_score  negative_opinion_score  \\\n1219              3                       2                       5   \n1218              2                       0                       2   \n1591              0                       1                       1   \n1198              4                       2                       6   \n3247              2                       0                       2   \n...             ...                     ...                     ...   \n3613              2                       4                       6   \n3612              0                       0                       0   \n4121              1                       0                       1   \n4120              2                       1                       3   \n3248              0                       1                       1   \n\n                                                 lemmas  \\\n1219  [всвязи, с, это, немного, поправить, коллега, ...   \n1218  [литературный, критик, галина, юзефович, о, но...   \n1591  [почему, на, база, неонацист, стоять, язычески...   \n1198  [группа, доброволец, -, медик, из, чеченский, ...   \n3247  [всушники, ,, переходить, на, сторона, добро, ...   \n...                                                 ...   \n3613  [утренний, брифинг, минобороны, россия, :,  , ...   \n3612  [и, понестись, мазепинщино, -, петлюровщино, -...   \n4121  [наш, соратник, по, русский, движение, алексей...   \n4120  [хороший, видео, от, 4, бригада, нм, лнр, http...   \n3248  [замоскворецкий, районный, суд, москва, отклон...   \n\n      negative_opinion_score_mult  \\\n1219                            5   \n1218                            2   \n1591                            1   \n1198                            6   \n3247                            2   \n...                           ...   \n3613                            6   \n3612                            0   \n4121                            1   \n4120                            3   \n3248                            1   \n\n                                         core_noun_verb  \\\n1219  Всвязи немного поправлю, Они не начинать, мы д...   \n1218  критик все состоит, достоинство все состоит, э...   \n1591                              истуканы Почему стоят   \n1198             Группа наравне вносит, врачи оказывают   \n3247                     ВСУшники переходите, тепло нас   \n...                                                 ...   \n3613  брифинг продвинулись, силы продвинулись, групп...   \n3612                                                      \n4121                             соратник вместе прибыл   \n4120                                                      \n3248                                       суд отклонил   \n\n                                           verb_obl_obj  \\\n1219  немного поправлю коллег, не начинать армагеддо...   \n1218         состоит в том, захватывающе читать которую   \n1591                              Почему стоят на базах   \n1198  вносит лепту, вносит в дело, вносит -, вносит ...   \n3247                              переходите на сторону   \n...                                                 ...   \n3613  продвинулись за ночь, продвинулись на км, разв...   \n3612  понеслась петлюровщино, понеслась -, понеслась...   \n4121  прибыл в область, создавать органы, создавать ...   \n4120                                                      \n3248                     отклонил иск, отменить решение   \n\n                                                   nmod  \\\n1219  Всвязи с этим, диверсии в Польше, удар ТЯО, уд...   \n1218  критик петербуржца романе, романе петербуржца,...   \n1591  базах неонацистов, Гость студии, протоиерей СМ...   \n1198  Группа добровольцев, Группа -, Группа медиков,...   \n3247                                      сторону добра   \n...                                                 ...   \n3613  брифинг Минобороны, наступление бригады подраз...   \n3612                                                      \n4121  соратник русскому движению, армией России, орг...   \n4120  видео НМ бригады, бригады НМ, обработка позици...   \n3248  суд Москвы, иск историка, иск РФ Минюсту, иск ...   \n\n                                                   amod comp  \n1219  ядерный армагеддон, осознанный удар, Львовской...       \n1218  Литературный критик, новом романе, Главное дос...       \n1591                                 языческие истуканы       \n1198  бандеровских мразей, подлых шайтанов, Республи...       \n3247                                   вкусные печеньки       \n...                                                 ...  ...  \n3613  Утренний брифинг, российские силы, украинской ...       \n3612                                                          \n4121  русскому движению, Запорожскую область, мирной...       \n4120                  Хорошее видео, пифтонными бомбами       \n3248                   Замоскворецкий суд, районный суд       \n\n[3494 rows x 18 columns]",
      "text/html": "<div>\n<style scoped>\n    .dataframe tbody tr th:only-of-type {\n        vertical-align: middle;\n    }\n\n    .dataframe tbody tr th {\n        vertical-align: top;\n    }\n\n    .dataframe thead th {\n        text-align: right;\n    }\n</style>\n<table border=\"1\" class=\"dataframe\">\n  <thead>\n    <tr style=\"text-align: right;\">\n      <th></th>\n      <th>Emotion</th>\n      <th>Dehumanization</th>\n      <th>Mention</th>\n      <th>External ID</th>\n      <th>Created By</th>\n      <th>text</th>\n      <th>rating</th>\n      <th>label</th>\n      <th>opinion_score</th>\n      <th>negative_emotion_score</th>\n      <th>negative_opinion_score</th>\n      <th>lemmas</th>\n      <th>negative_opinion_score_mult</th>\n      <th>core_noun_verb</th>\n      <th>verb_obl_obj</th>\n      <th>nmod</th>\n      <th>amod</th>\n      <th>comp</th>\n    </tr>\n  </thead>\n  <tbody>\n    <tr>\n      <th>1219</th>\n      <td>так, присутня негативна</td>\n      <td>так</td>\n      <td>так</td>\n      <td>row_0.txt</td>\n      <td>snizannabotvin@gmail.com</td>\n      <td>Всвязи с этим немного поправлю коллег ⤵️  \"Они...</td>\n      <td>4</td>\n      <td>1</td>\n      <td>3</td>\n      <td>2</td>\n      <td>5</td>\n      <td>[всвязи, с, это, немного, поправить, коллега, ...</td>\n      <td>5</td>\n      <td>Всвязи немного поправлю, Они не начинать, мы д...</td>\n      <td>немного поправлю коллег, не начинать армагеддо...</td>\n      <td>Всвязи с этим, диверсии в Польше, удар ТЯО, уд...</td>\n      <td>ядерный армагеддон, осознанный удар, Львовской...</td>\n      <td></td>\n    </tr>\n    <tr>\n      <th>1218</th>\n      <td>ні, оцінка не присутня</td>\n      <td>ні</td>\n      <td>ні</td>\n      <td>row_1.txt</td>\n      <td>snizannabotvin@gmail.com</td>\n      <td>Литературный критик Галина Юзефович о новом ро...</td>\n      <td>4</td>\n      <td>0</td>\n      <td>2</td>\n      <td>0</td>\n      <td>2</td>\n      <td>[литературный, критик, галина, юзефович, о, но...</td>\n      <td>2</td>\n      <td>критик все состоит, достоинство все состоит, э...</td>\n      <td>состоит в том, захватывающе читать которую</td>\n      <td>критик петербуржца романе, романе петербуржца,...</td>\n      <td>Литературный критик, новом романе, Главное дос...</td>\n      <td></td>\n    </tr>\n    <tr>\n      <th>1591</th>\n      <td>так, присутня негативна</td>\n      <td>так</td>\n      <td>так</td>\n      <td>row_10.txt</td>\n      <td>snizannabotvin@gmail.com</td>\n      <td>Почему на базах неонацистов стоят языческие ис...</td>\n      <td>4</td>\n      <td>1</td>\n      <td>0</td>\n      <td>1</td>\n      <td>1</td>\n      <td>[почему, на, база, неонацист, стоять, язычески...</td>\n      <td>1</td>\n      <td>истуканы Почему стоят</td>\n      <td>Почему стоят на базах</td>\n      <td>базах неонацистов, Гость студии, протоиерей СМ...</td>\n      <td>языческие истуканы</td>\n      <td></td>\n    </tr>\n    <tr>\n      <th>1198</th>\n      <td>так, присутня негативна</td>\n      <td>так</td>\n      <td>так</td>\n      <td>row_100.txt</td>\n      <td>snizannabotvin@gmail.com</td>\n      <td>Группа добровольцев-медиков из Чеченской Респу...</td>\n      <td>4</td>\n      <td>1</td>\n      <td>4</td>\n      <td>2</td>\n      <td>6</td>\n      <td>[группа, доброволец, -, медик, из, чеченский, ...</td>\n      <td>6</td>\n      <td>Группа наравне вносит, врачи оказывают</td>\n      <td>вносит лепту, вносит в дело, вносит -, вносит ...</td>\n      <td>Группа добровольцев, Группа -, Группа медиков,...</td>\n      <td>бандеровских мразей, подлых шайтанов, Республи...</td>\n      <td></td>\n    </tr>\n    <tr>\n      <th>3247</th>\n      <td>ні, оцінка не присутня</td>\n      <td>ні</td>\n      <td>так</td>\n      <td>row_1000.txt</td>\n      <td>tutovadesign@gmail.com</td>\n      <td>ВСУшники, переходите на сторону добра, у нас т...</td>\n      <td>5</td>\n      <td>0</td>\n      <td>2</td>\n      <td>0</td>\n      <td>2</td>\n      <td>[всушники, ,, переходить, на, сторона, добро, ...</td>\n      <td>2</td>\n      <td>ВСУшники переходите, тепло нас</td>\n      <td>переходите на сторону</td>\n      <td>сторону добра</td>\n      <td>вкусные печеньки</td>\n      <td></td>\n    </tr>\n    <tr>\n      <th>...</th>\n      <td>...</td>\n      <td>...</td>\n      <td>...</td>\n      <td>...</td>\n      <td>...</td>\n      <td>...</td>\n      <td>...</td>\n      <td>...</td>\n      <td>...</td>\n      <td>...</td>\n      <td>...</td>\n      <td>...</td>\n      <td>...</td>\n      <td>...</td>\n      <td>...</td>\n      <td>...</td>\n      <td>...</td>\n      <td>...</td>\n    </tr>\n    <tr>\n      <th>3613</th>\n      <td>ні, оцінка не присутня</td>\n      <td>ні</td>\n      <td>так</td>\n      <td>row_995.txt</td>\n      <td>tutovadesign@gmail.com</td>\n      <td>Утренний брифинг Минобороны России:  ▪️ россий...</td>\n      <td>5</td>\n      <td>0</td>\n      <td>2</td>\n      <td>4</td>\n      <td>6</td>\n      <td>[утренний, брифинг, минобороны, россия, :,  , ...</td>\n      <td>6</td>\n      <td>брифинг продвинулись, силы продвинулись, групп...</td>\n      <td>продвинулись за ночь, продвинулись на км, разв...</td>\n      <td>брифинг Минобороны, наступление бригады подраз...</td>\n      <td>Утренний брифинг, российские силы, украинской ...</td>\n      <td></td>\n    </tr>\n    <tr>\n      <th>3612</th>\n      <td>так, присутня негативна</td>\n      <td>ні</td>\n      <td>так</td>\n      <td>row_996.txt</td>\n      <td>tutovadesign@gmail.com</td>\n      <td>И понеслась мазепинщино-петлюровщино-бандеровщ...</td>\n      <td>5</td>\n      <td>0</td>\n      <td>0</td>\n      <td>0</td>\n      <td>0</td>\n      <td>[и, понестись, мазепинщино, -, петлюровщино, -...</td>\n      <td>0</td>\n      <td></td>\n      <td>понеслась петлюровщино, понеслась -, понеслась...</td>\n      <td></td>\n      <td></td>\n      <td></td>\n    </tr>\n    <tr>\n      <th>4121</th>\n      <td>так, присутня негативна</td>\n      <td>ні</td>\n      <td>так</td>\n      <td>row_997.txt</td>\n      <td>yevhen.marchenko91@gmail.com</td>\n      <td>Наш соратник по русскому движению Алексей Сели...</td>\n      <td>3</td>\n      <td>0</td>\n      <td>1</td>\n      <td>0</td>\n      <td>1</td>\n      <td>[наш, соратник, по, русский, движение, алексей...</td>\n      <td>1</td>\n      <td>соратник вместе прибыл</td>\n      <td>прибыл в область, создавать органы, создавать ...</td>\n      <td>соратник русскому движению, армией России, орг...</td>\n      <td>русскому движению, Запорожскую область, мирной...</td>\n      <td></td>\n    </tr>\n    <tr>\n      <th>4120</th>\n      <td>ні, оцінка не присутня</td>\n      <td>так</td>\n      <td>так</td>\n      <td>row_998.txt</td>\n      <td>yevhen.marchenko91@gmail.com</td>\n      <td>Хорошее видео от 4 бригады НМ ЛНР https://t.me...</td>\n      <td>3</td>\n      <td>1</td>\n      <td>2</td>\n      <td>1</td>\n      <td>3</td>\n      <td>[хороший, видео, от, 4, бригада, нм, лнр, http...</td>\n      <td>3</td>\n      <td></td>\n      <td></td>\n      <td>видео НМ бригады, бригады НМ, обработка позици...</td>\n      <td>Хорошее видео, пифтонными бомбами</td>\n      <td></td>\n    </tr>\n    <tr>\n      <th>3248</th>\n      <td>ні, оцінка не присутня</td>\n      <td>ні</td>\n      <td>ні</td>\n      <td>row_999.txt</td>\n      <td>tutovadesign@gmail.com</td>\n      <td>Замоскворецкий районный суд Москвы отклонил ис...</td>\n      <td>5</td>\n      <td>0</td>\n      <td>0</td>\n      <td>1</td>\n      <td>1</td>\n      <td>[замоскворецкий, районный, суд, москва, отклон...</td>\n      <td>1</td>\n      <td>суд отклонил</td>\n      <td>отклонил иск, отменить решение</td>\n      <td>суд Москвы, иск историка, иск РФ Минюсту, иск ...</td>\n      <td>Замоскворецкий суд, районный суд</td>\n      <td></td>\n    </tr>\n  </tbody>\n</table>\n<p>3494 rows × 18 columns</p>\n</div>"
     },
     "execution_count": 80,
     "metadata": {},
     "output_type": "execute_result"
    }
   ],
   "source": [
    "df_labels"
   ],
   "metadata": {
    "collapsed": false,
    "pycharm": {
     "name": "#%%\n"
    }
   }
  },
  {
   "cell_type": "code",
   "execution_count": 93,
   "outputs": [
    {
     "data": {
      "text/plain": "Index(['core_noun_verb_lemmas', 'verb_obl_obj_lemmas', 'nmod_lemmas',\n       'amod_lemmas', 'comp_lemmas'],\n      dtype='object')"
     },
     "execution_count": 93,
     "metadata": {},
     "output_type": "execute_result"
    }
   ],
   "source": [
    "df_labels.columns[18:]"
   ],
   "metadata": {
    "collapsed": false,
    "pycharm": {
     "name": "#%%\n"
    }
   }
  },
  {
   "cell_type": "markdown",
   "source": [
    "## Trying the collocations"
   ],
   "metadata": {
    "collapsed": false,
    "pycharm": {
     "name": "#%% md\n"
    }
   }
  },
  {
   "cell_type": "code",
   "execution_count": 94,
   "outputs": [
    {
     "data": {
      "text/plain": "Index(['core_noun_verb_lemmas', 'verb_obl_obj_lemmas', 'nmod_lemmas',\n       'amod_lemmas', 'comp_lemmas'],\n      dtype='object')"
     },
     "execution_count": 94,
     "metadata": {},
     "output_type": "execute_result"
    }
   ],
   "source": [
    "collocation_columns = df_labels.columns[18:]\n",
    "collocation_columns"
   ],
   "metadata": {
    "collapsed": false,
    "pycharm": {
     "name": "#%%\n"
    }
   }
  },
  {
   "cell_type": "code",
   "execution_count": 97,
   "outputs": [
    {
     "name": "stdout",
     "output_type": "stream",
     "text": [
      "\n",
      " For column core_noun_verb_lemmas the Pearson coef is 0.08441653965818131 and Spearman coef is 0.11040692451113025\n",
      "\n",
      " For column verb_obl_obj_lemmas the Pearson coef is 0.10573957138156906 and Spearman coef is 0.13038628074912484\n",
      "\n",
      " For column nmod_lemmas the Pearson coef is 0.08212894400918958 and Spearman coef is 0.11346956239263108\n",
      "\n",
      " For column amod_lemmas the Pearson coef is 0.12713745218542027 and Spearman coef is 0.1487866502012851\n",
      "\n",
      " For column comp_lemmas the Pearson coef is nan and Spearman coef is nan\n"
     ]
    },
    {
     "name": "stderr",
     "output_type": "stream",
     "text": [
      "/Users/katerynaburovova/PycharmProjects/dehumanization/lib/python3.10/site-packages/scipy/stats/_stats_py.py:4921: ConstantInputWarning: An input array is constant; the correlation coefficient is not defined.\n",
      "  warnings.warn(stats.ConstantInputWarning(warn_msg))\n"
     ]
    }
   ],
   "source": [
    "for column in collocation_columns:\n",
    "    current_col_name = column + '_score'\n",
    "    df_labels[current_col_name] = df_labels[column].apply(lambda x: opinion_score_from_lemmas(x, negative_dict_rusentilex))\n",
    "\n",
    "    pearson_correlation = df_labels[current_col_name].corr(df_labels[\"label\"], method=\"pearson\")\n",
    "\n",
    "    spearman_correlation = df_labels[current_col_name].corr(df_labels[\"label\"], method=\"spearman\")\n",
    "\n",
    "    print(f'\\n For column {column} the Pearson coef is {pearson_correlation} and Spearman coef is {spearman_correlation}')"
   ],
   "metadata": {
    "collapsed": false,
    "pycharm": {
     "name": "#%%\n"
    }
   }
  },
  {
   "cell_type": "markdown",
   "source": [
    "## Product_senti_rus"
   ],
   "metadata": {
    "collapsed": false,
    "pycharm": {
     "name": "#%% md\n"
    }
   }
  },
  {
   "cell_type": "code",
   "execution_count": 108,
   "outputs": [],
   "source": [
    "polarity_dict_product_senti_rus = dict(zip(df_product.iloc[:, 0], df_product.iloc[:, 1]))"
   ],
   "metadata": {
    "collapsed": false,
    "pycharm": {
     "name": "#%%\n"
    }
   }
  },
  {
   "cell_type": "code",
   "execution_count": 110,
   "outputs": [
    {
     "data": {
      "text/plain": "0.963"
     },
     "execution_count": 110,
     "metadata": {},
     "output_type": "execute_result"
    }
   ],
   "source": [
    "polarity_dict_product_senti_rus['бесподобный']"
   ],
   "metadata": {
    "collapsed": false,
    "pycharm": {
     "name": "#%%\n"
    }
   }
  },
  {
   "cell_type": "code",
   "execution_count": 111,
   "outputs": [],
   "source": [
    "df_labels['polarity_score_rod'] = df_labels['lemmas'].apply(lambda x: opinion_score_from_lemmas(x, polarity_dict_product_senti_rus))"
   ],
   "metadata": {
    "collapsed": false,
    "pycharm": {
     "name": "#%%\n"
    }
   }
  },
  {
   "cell_type": "code",
   "execution_count": 112,
   "outputs": [
    {
     "name": "stdout",
     "output_type": "stream",
     "text": [
      "Pearson correlation coefficient: 0.06205632028788792\n",
      "Spearman correlation coefficient: 0.0683566575149784\n"
     ]
    }
   ],
   "source": [
    "pearson_correlation = df_labels[\"polarity_score_rod\"].corr(df_labels[\"label\"], method=\"pearson\")\n",
    "print(\"Pearson correlation coefficient:\", pearson_correlation)\n",
    "\n",
    "spearman_correlation = df_labels[\"polarity_score_rod\"].corr(df_labels[\"label\"], method=\"spearman\")\n",
    "print(\"Spearman correlation coefficient:\", spearman_correlation)"
   ],
   "metadata": {
    "collapsed": false,
    "pycharm": {
     "name": "#%%\n"
    }
   }
  },
  {
   "cell_type": "markdown",
   "source": [
    "## Linis crowd"
   ],
   "metadata": {
    "collapsed": false,
    "pycharm": {
     "name": "#%% md\n"
    }
   }
  },
  {
   "cell_type": "code",
   "execution_count": 128,
   "outputs": [],
   "source": [
    "polarity_dict_linis = dict(zip(df_linis.iloc[:, 0], df_linis.iloc[:, 1]))"
   ],
   "metadata": {
    "collapsed": false,
    "pycharm": {
     "name": "#%%\n"
    }
   }
  },
  {
   "cell_type": "code",
   "execution_count": 130,
   "outputs": [],
   "source": [
    "df_labels['polarity_score_linis'] = df_labels['lemmas'].apply(lambda x: opinion_score_from_lemmas(x, polarity_dict_linis))"
   ],
   "metadata": {
    "collapsed": false,
    "pycharm": {
     "name": "#%%\n"
    }
   }
  },
  {
   "cell_type": "code",
   "execution_count": 131,
   "outputs": [
    {
     "name": "stdout",
     "output_type": "stream",
     "text": [
      "Pearson correlation coefficient: -0.07257302614977595\n",
      "Spearman correlation coefficient: -0.09172859355596684\n"
     ]
    }
   ],
   "source": [
    "pearson_correlation = df_labels[\"polarity_score_linis\"].corr(df_labels[\"label\"], method=\"pearson\")\n",
    "print(\"Pearson correlation coefficient:\", pearson_correlation)\n",
    "\n",
    "spearman_correlation = df_labels[\"polarity_score_linis\"].corr(df_labels[\"label\"], method=\"spearman\")\n",
    "print(\"Spearman correlation coefficient:\", spearman_correlation)"
   ],
   "metadata": {
    "collapsed": false,
    "pycharm": {
     "name": "#%%\n"
    }
   }
  },
  {
   "cell_type": "markdown",
   "source": [
    "## Chen-Skiena’s Lexicon"
   ],
   "metadata": {
    "collapsed": false,
    "pycharm": {
     "name": "#%% md\n"
    }
   }
  },
  {
   "cell_type": "code",
   "execution_count": 145,
   "outputs": [
    {
     "name": "stdout",
     "output_type": "stream",
     "text": [
      "Pearson correlation coefficient: -0.024412514693019676\n",
      "Spearman correlation coefficient: -0.027407066980927958\n"
     ]
    }
   ],
   "source": [
    "polarity_dict_chen = dict(zip(df_chen.iloc[:, 0], df_chen.iloc[:, 1]))\n",
    "df_labels['polarity_score_chen'] = df_labels['lemmas'].apply(lambda x: opinion_score_from_lemmas(x, polarity_dict_chen))\n",
    "pearson_correlation = df_labels[\"polarity_score_chen\"].corr(df_labels[\"label\"], method=\"pearson\")\n",
    "print(\"Pearson correlation coefficient:\", pearson_correlation)\n",
    "\n",
    "spearman_correlation = df_labels[\"polarity_score_chen\"].corr(df_labels[\"label\"], method=\"spearman\")\n",
    "print(\"Spearman correlation coefficient:\", spearman_correlation)"
   ],
   "metadata": {
    "collapsed": false,
    "pycharm": {
     "name": "#%%\n"
    }
   }
  },
  {
   "cell_type": "markdown",
   "source": [
    "## Emolex"
   ],
   "metadata": {
    "collapsed": false,
    "pycharm": {
     "name": "#%% md\n"
    }
   }
  },
  {
   "cell_type": "code",
   "execution_count": 146,
   "outputs": [
    {
     "name": "stdout",
     "output_type": "stream",
     "text": [
      "Pearson correlation coefficient: 0.08419974967156509\n",
      "Spearman correlation coefficient: 0.09171169160415636\n"
     ]
    }
   ],
   "source": [
    "polarity_dict_emolex = dict(zip(df_emolex.iloc[:, 0], df_emolex.iloc[:, 2]))\n",
    "df_labels['polarity_score_emolex'] = df_labels['lemmas'].apply(lambda x: opinion_score_from_lemmas(x, polarity_dict_emolex))\n",
    "pearson_correlation = df_labels[\"polarity_score_emolex\"].corr(df_labels[\"label\"], method=\"pearson\")\n",
    "print(\"Pearson correlation coefficient:\", pearson_correlation)\n",
    "\n",
    "spearman_correlation = df_labels[\"polarity_score_emolex\"].corr(df_labels[\"label\"], method=\"spearman\")\n",
    "print(\"Spearman correlation coefficient:\", spearman_correlation)"
   ],
   "metadata": {
    "collapsed": false,
    "pycharm": {
     "name": "#%%\n"
    }
   }
  },
  {
   "cell_type": "markdown",
   "source": [
    "## Multilingual connotation frames"
   ],
   "metadata": {
    "collapsed": false,
    "pycharm": {
     "name": "#%% md\n"
    }
   }
  },
  {
   "cell_type": "markdown",
   "source": [
    "A framework for encoding predicate-specific connotative relationships implied by a predicate towards its arguments - unique lexical resource to enable targeted sentiment analysis."
   ],
   "metadata": {
    "collapsed": false,
    "pycharm": {
     "name": "#%% md\n"
    }
   }
  },
  {
   "cell_type": "code",
   "execution_count": 160,
   "outputs": [
    {
     "data": {
      "text/plain": "                   ru Word English verb  P(w->t)  P(w->a)  P(a->t)  E(t)  \\\n0                  фор-мах         form        1        1        1     1   \n1             добавленными          add        1        1        1     1   \n2              выполнялось           be        0        1        0     0   \n3                 девятого        adopt        1        1        1     1   \n4       правосубъектностью          own        0        1        1     1   \n...                    ...          ...      ...      ...      ...   ...   \n212968         подогревают         fuel        0        0        0     1   \n212969            вечернем         work        1        1        1     1   \n212970             сбитого        shoot        0        0        0    -1   \n212971            вечернее           be        0        1        0     0   \n212972            ночующие        sleep        0        1        0     0   \n\n        E(a)  V(t)  V(a)  S(t)  S(a)  \n0          1     1     1     0     1  \n1          1     0     1     0     1  \n2          0     0     1     0     1  \n3          1     1     1     0     1  \n4          1     1     1     0     1  \n...      ...   ...   ...   ...   ...  \n212968     1     1     1     0     1  \n212969     0     1     1     0     1  \n212970     0    -1     1    -1     0  \n212971     0     0     1     0     1  \n212972     1     1     1     0     1  \n\n[212973 rows x 11 columns]",
      "text/html": "<div>\n<style scoped>\n    .dataframe tbody tr th:only-of-type {\n        vertical-align: middle;\n    }\n\n    .dataframe tbody tr th {\n        vertical-align: top;\n    }\n\n    .dataframe thead th {\n        text-align: right;\n    }\n</style>\n<table border=\"1\" class=\"dataframe\">\n  <thead>\n    <tr style=\"text-align: right;\">\n      <th></th>\n      <th>ru Word</th>\n      <th>English verb</th>\n      <th>P(w-&gt;t)</th>\n      <th>P(w-&gt;a)</th>\n      <th>P(a-&gt;t)</th>\n      <th>E(t)</th>\n      <th>E(a)</th>\n      <th>V(t)</th>\n      <th>V(a)</th>\n      <th>S(t)</th>\n      <th>S(a)</th>\n    </tr>\n  </thead>\n  <tbody>\n    <tr>\n      <th>0</th>\n      <td>фор-мах</td>\n      <td>form</td>\n      <td>1</td>\n      <td>1</td>\n      <td>1</td>\n      <td>1</td>\n      <td>1</td>\n      <td>1</td>\n      <td>1</td>\n      <td>0</td>\n      <td>1</td>\n    </tr>\n    <tr>\n      <th>1</th>\n      <td>добавленными</td>\n      <td>add</td>\n      <td>1</td>\n      <td>1</td>\n      <td>1</td>\n      <td>1</td>\n      <td>1</td>\n      <td>0</td>\n      <td>1</td>\n      <td>0</td>\n      <td>1</td>\n    </tr>\n    <tr>\n      <th>2</th>\n      <td>выполнялось</td>\n      <td>be</td>\n      <td>0</td>\n      <td>1</td>\n      <td>0</td>\n      <td>0</td>\n      <td>0</td>\n      <td>0</td>\n      <td>1</td>\n      <td>0</td>\n      <td>1</td>\n    </tr>\n    <tr>\n      <th>3</th>\n      <td>девятого</td>\n      <td>adopt</td>\n      <td>1</td>\n      <td>1</td>\n      <td>1</td>\n      <td>1</td>\n      <td>1</td>\n      <td>1</td>\n      <td>1</td>\n      <td>0</td>\n      <td>1</td>\n    </tr>\n    <tr>\n      <th>4</th>\n      <td>правосубъектностью</td>\n      <td>own</td>\n      <td>0</td>\n      <td>1</td>\n      <td>1</td>\n      <td>1</td>\n      <td>1</td>\n      <td>1</td>\n      <td>1</td>\n      <td>0</td>\n      <td>1</td>\n    </tr>\n    <tr>\n      <th>...</th>\n      <td>...</td>\n      <td>...</td>\n      <td>...</td>\n      <td>...</td>\n      <td>...</td>\n      <td>...</td>\n      <td>...</td>\n      <td>...</td>\n      <td>...</td>\n      <td>...</td>\n      <td>...</td>\n    </tr>\n    <tr>\n      <th>212968</th>\n      <td>подогревают</td>\n      <td>fuel</td>\n      <td>0</td>\n      <td>0</td>\n      <td>0</td>\n      <td>1</td>\n      <td>1</td>\n      <td>1</td>\n      <td>1</td>\n      <td>0</td>\n      <td>1</td>\n    </tr>\n    <tr>\n      <th>212969</th>\n      <td>вечернем</td>\n      <td>work</td>\n      <td>1</td>\n      <td>1</td>\n      <td>1</td>\n      <td>1</td>\n      <td>0</td>\n      <td>1</td>\n      <td>1</td>\n      <td>0</td>\n      <td>1</td>\n    </tr>\n    <tr>\n      <th>212970</th>\n      <td>сбитого</td>\n      <td>shoot</td>\n      <td>0</td>\n      <td>0</td>\n      <td>0</td>\n      <td>-1</td>\n      <td>0</td>\n      <td>-1</td>\n      <td>1</td>\n      <td>-1</td>\n      <td>0</td>\n    </tr>\n    <tr>\n      <th>212971</th>\n      <td>вечернее</td>\n      <td>be</td>\n      <td>0</td>\n      <td>1</td>\n      <td>0</td>\n      <td>0</td>\n      <td>0</td>\n      <td>0</td>\n      <td>1</td>\n      <td>0</td>\n      <td>1</td>\n    </tr>\n    <tr>\n      <th>212972</th>\n      <td>ночующие</td>\n      <td>sleep</td>\n      <td>0</td>\n      <td>1</td>\n      <td>0</td>\n      <td>0</td>\n      <td>1</td>\n      <td>1</td>\n      <td>1</td>\n      <td>0</td>\n      <td>1</td>\n    </tr>\n  </tbody>\n</table>\n<p>212973 rows × 11 columns</p>\n</div>"
     },
     "execution_count": 160,
     "metadata": {},
     "output_type": "execute_result"
    }
   ],
   "source": [
    "df_mcf_conn"
   ],
   "metadata": {
    "collapsed": false,
    "pycharm": {
     "name": "#%%\n"
    }
   }
  },
  {
   "cell_type": "markdown",
   "source": [
    "ru Word: The Russian word.\n",
    "English verb: The English translation of the Russian word.\n",
    "P(w->t): Probability that the word has a positive effect on its theme (object).\n",
    "P(w->a): Probability that the word has a positive effect on its agent (subject).\n",
    "P(a->t): Probability that the agent (subject) has a positive effect on the theme (object).\n",
    "E(t): Expected value of the effect of the word on the theme (object).\n",
    "E(a): Expected value of the effect of the word on the agent (subject).\n",
    "V(t): Variance of the effect of the word on the theme (object).\n",
    "V(a): Variance of the effect of the word on the agent (subject).\n",
    "S(t): Skewness of the effect of the word on the theme (object).\n",
    "S(a): Skewness of the effect of the word on the agent (subject)."
   ],
   "metadata": {
    "collapsed": false,
    "pycharm": {
     "name": "#%% md\n"
    }
   }
  },
  {
   "cell_type": "code",
   "execution_count": 164,
   "outputs": [
    {
     "name": "stdout",
     "output_type": "stream",
     "text": [
      "CPU times: user 9min 50s, sys: 7.01 s, total: 9min 57s\n",
      "Wall time: 10min 6s\n"
     ]
    }
   ],
   "source": [
    "%%time\n",
    "df_mcf_conn['ru_Word_lemmatized'] = df_mcf_conn['ru Word'].apply(lambda x: lemmatize_spacy(str(x)))"
   ],
   "metadata": {
    "collapsed": false,
    "pycharm": {
     "name": "#%%\n"
    }
   }
  },
  {
   "cell_type": "code",
   "execution_count": 171,
   "outputs": [],
   "source": [
    "df_mcf_conn['ru_Word_lemmatized_str'] = df_mcf_conn['ru_Word_lemmatized'].apply(lambda x: ' '.join(x))"
   ],
   "metadata": {
    "collapsed": false,
    "pycharm": {
     "name": "#%%\n"
    }
   }
  },
  {
   "cell_type": "code",
   "execution_count": 175,
   "outputs": [],
   "source": [
    "def create_sentiment_dict(df_multicf):\n",
    "    sentiment_dict = {}\n",
    "\n",
    "    for index, row in df_multicf.iterrows():\n",
    "        lemma = row['ru_Word_lemmatized_str']\n",
    "        sentiment_dict[lemma] = {\n",
    "            'P(w->t)': row['P(w->t)'],\n",
    "            'P(w->a)': row['P(w->a)'],\n",
    "            'P(a->t)': row['P(a->t)'],\n",
    "        }\n",
    "\n",
    "    return sentiment_dict"
   ],
   "metadata": {
    "collapsed": false,
    "pycharm": {
     "name": "#%%\n"
    }
   }
  },
  {
   "cell_type": "code",
   "execution_count": 176,
   "outputs": [],
   "source": [
    "sentiment_dict_mcf_conn = create_sentiment_dict(df_mcf_conn)"
   ],
   "metadata": {
    "collapsed": false,
    "pycharm": {
     "name": "#%%\n"
    }
   }
  },
  {
   "cell_type": "code",
   "execution_count": 177,
   "outputs": [],
   "source": [
    "def calculate_sentiment_scores(df, sentiment_dict, text_column):\n",
    "    sentiment_scores = ['P(w->t)', 'P(w->a)', 'P(a->t)']\n",
    "    for score_type in sentiment_scores:\n",
    "        df[score_type] = df[text_column].apply(lambda text: calculate_score(text, sentiment_dict, score_type))\n",
    "\n",
    "    return df\n",
    "\n",
    "def calculate_score(lemmas, sentiment_dict, score_type):\n",
    "    score = 0\n",
    "    for lemma in lemmas:\n",
    "        if lemma in sentiment_dict:\n",
    "            score += sentiment_dict[lemma][score_type]\n",
    "\n",
    "    return score"
   ],
   "metadata": {
    "collapsed": false,
    "pycharm": {
     "name": "#%%\n"
    }
   }
  },
  {
   "cell_type": "code",
   "execution_count": 179,
   "outputs": [],
   "source": [
    "df_labels_with_scores = calculate_sentiment_scores(df_labels, sentiment_dict_mcf_conn, 'lemmas')"
   ],
   "metadata": {
    "collapsed": false,
    "pycharm": {
     "name": "#%%\n"
    }
   }
  },
  {
   "cell_type": "code",
   "execution_count": 181,
   "outputs": [
    {
     "name": "stdout",
     "output_type": "stream",
     "text": [
      "Pearson correlation coefficient: 0.031441116684933004\n",
      "Spearman correlation coefficient: 0.038563021120012954\n"
     ]
    }
   ],
   "source": [
    "pearson_correlation = df_labels[\"P(w->t)\"].corr(df_labels[\"label\"], method=\"pearson\")\n",
    "print(\"Pearson correlation coefficient:\", pearson_correlation)\n",
    "\n",
    "spearman_correlation = df_labels[\"P(w->t)\"].corr(df_labels[\"label\"], method=\"spearman\")\n",
    "print(\"Spearman correlation coefficient:\", spearman_correlation)"
   ],
   "metadata": {
    "collapsed": false,
    "pycharm": {
     "name": "#%%\n"
    }
   }
  },
  {
   "cell_type": "code",
   "execution_count": 182,
   "outputs": [
    {
     "name": "stdout",
     "output_type": "stream",
     "text": [
      "Pearson correlation coefficient: 0.03922600860881998\n",
      "Spearman correlation coefficient: 0.05622414138632885\n"
     ]
    }
   ],
   "source": [
    "pearson_correlation = df_labels[\"P(w->a)\"].corr(df_labels[\"label\"], method=\"pearson\")\n",
    "print(\"Pearson correlation coefficient:\", pearson_correlation)\n",
    "\n",
    "spearman_correlation = df_labels[\"P(w->a)\"].corr(df_labels[\"label\"], method=\"spearman\")\n",
    "print(\"Spearman correlation coefficient:\", spearman_correlation)"
   ],
   "metadata": {
    "collapsed": false,
    "pycharm": {
     "name": "#%%\n"
    }
   }
  },
  {
   "cell_type": "code",
   "execution_count": 183,
   "outputs": [
    {
     "name": "stdout",
     "output_type": "stream",
     "text": [
      "Pearson correlation coefficient: 0.027816119538881908\n",
      "Spearman correlation coefficient: 0.04076976556056823\n"
     ]
    }
   ],
   "source": [
    "pearson_correlation = df_labels[\"P(a->t)\"].corr(df_labels[\"label\"], method=\"pearson\")\n",
    "print(\"Pearson correlation coefficient:\", pearson_correlation)\n",
    "\n",
    "spearman_correlation = df_labels[\"P(a->t)\"].corr(df_labels[\"label\"], method=\"spearman\")\n",
    "print(\"Spearman correlation coefficient:\", spearman_correlation)"
   ],
   "metadata": {
    "collapsed": false,
    "pycharm": {
     "name": "#%%\n"
    }
   }
  },
  {
   "cell_type": "code",
   "execution_count": null,
   "outputs": [],
   "source": [],
   "metadata": {
    "collapsed": false,
    "pycharm": {
     "name": "#%%\n"
    }
   }
  }
 ],
 "metadata": {
  "kernelspec": {
   "display_name": "Python 3",
   "language": "python",
   "name": "python3"
  },
  "language_info": {
   "codemirror_mode": {
    "name": "ipython",
    "version": 2
   },
   "file_extension": ".py",
   "mimetype": "text/x-python",
   "name": "python",
   "nbconvert_exporter": "python",
   "pygments_lexer": "ipython2",
   "version": "2.7.6"
  }
 },
 "nbformat": 4,
 "nbformat_minor": 0
}