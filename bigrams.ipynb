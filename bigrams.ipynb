{
 "cells": [
  {
   "cell_type": "markdown",
   "source": [
    "## Helpers"
   ],
   "metadata": {
    "collapsed": false,
    "pycharm": {
     "name": "#%% md\n"
    }
   }
  },
  {
   "cell_type": "code",
   "execution_count": 20,
   "outputs": [],
   "source": [
    "import pandas as pd\n",
    "from string import punctuation"
   ],
   "metadata": {
    "collapsed": false,
    "pycharm": {
     "name": "#%%\n"
    }
   }
  },
  {
   "cell_type": "code",
   "execution_count": 21,
   "outputs": [],
   "source": [
    "df = pd.read_csv('/Users/katerynaburovova/PycharmProjects/dehumanization/annotation/dataset_v_1.csv')"
   ],
   "metadata": {
    "collapsed": false,
    "pycharm": {
     "name": "#%%\n"
    }
   }
  },
  {
   "cell_type": "code",
   "execution_count": 1,
   "outputs": [],
   "source": [
    "# doc = nlp(sent)\n",
    "# import pytextrank\n",
    "\n",
    "# nlp.add_pipe(\"textrank\")\n",
    "# # examine the top-ranked phrases in the document\n",
    "# for p in doc._.phrases:\n",
    "#     print(\"{:.4f} {:5d}  {}\".format(p.rank, p.count, p.text))\n",
    "#     print(p.chunks)\n",
    "# # https://pypi.org/project/pytextrank/2.0.0/"
   ],
   "metadata": {
    "collapsed": false,
    "pycharm": {
     "name": "#%%\n"
    }
   }
  },
  {
   "cell_type": "code",
   "execution_count": 2,
   "outputs": [],
   "source": [
    "punctuation_minimal = \"!(),-.:;?%\"\n",
    "cyrillic_letters = u\"абвгдеёжзийклмнопрстуфхцчшщъыьэюяАБВГДЕЁЖЗИЙКЛМНОПРСТУФХЦЧШЩЪЫЬЭЮЯ \"\n",
    "allowed_symbols = cyrillic_letters+punctuation_minimal"
   ],
   "metadata": {
    "collapsed": false,
    "pycharm": {
     "name": "#%%\n"
    }
   }
  },
  {
   "cell_type": "code",
   "execution_count": 3,
   "outputs": [],
   "source": [
    "def clean_text(sent):\n",
    "    getVals = list(filter(lambda x: x in allowed_symbols, sent))\n",
    "    result = \"\".join(getVals).lower()\n",
    "\n",
    "    return result"
   ],
   "metadata": {
    "collapsed": false,
    "pycharm": {
     "name": "#%%\n"
    }
   }
  },
  {
   "cell_type": "code",
   "execution_count": 4,
   "outputs": [],
   "source": [
    "def lst_to_str_lemmas(list):\n",
    "    result = ''\n",
    "    for bigram in list:\n",
    "        result += ' '.join([word.lemma_ for word in bigram]) + ', '\n",
    "    return result.strip(', ')"
   ],
   "metadata": {
    "collapsed": false,
    "pycharm": {
     "name": "#%%\n"
    }
   }
  },
  {
   "cell_type": "code",
   "execution_count": 5,
   "outputs": [],
   "source": [
    "def lst_to_str(list):\n",
    "    result = ''\n",
    "    for bigram in list:\n",
    "        result += ' '.join([word.text for word in bigram]) + ', '\n",
    "    return result.strip(', ')"
   ],
   "metadata": {
    "collapsed": false,
    "pycharm": {
     "name": "#%%\n"
    }
   }
  },
  {
   "cell_type": "code",
   "execution_count": 6,
   "outputs": [],
   "source": [
    "def lst_ofstr_to_str(list):\n",
    "    # for item in list:\n",
    "    #     print(item)\n",
    "    result = ''\n",
    "    for bigram in list:\n",
    "        result += bigram[0] + ', '\n",
    "    return result.strip(', ')"
   ],
   "metadata": {
    "collapsed": false,
    "pycharm": {
     "name": "#%%\n"
    }
   }
  },
  {
   "cell_type": "code",
   "execution_count": 7,
   "outputs": [],
   "source": [
    "import spacy\n",
    "\n",
    "nlp = spacy.load(\"ru_core_news_sm\") # load Russian language model\n",
    "\n",
    "def extract_adj_noun_bigrams(sentence):\n",
    "    doc = nlp(sentence)\n",
    "    bigrams = []\n",
    "    for token in doc:\n",
    "        if token.pos_ == \"ADJ\" and token.head.pos_ == \"NOUN\":\n",
    "            bigrams.append((token.text, token.head.text))\n",
    "    return bigrams"
   ],
   "metadata": {
    "collapsed": false,
    "pycharm": {
     "name": "#%%\n"
    }
   }
  },
  {
   "cell_type": "code",
   "execution_count": 8,
   "outputs": [],
   "source": [
    "flatten = lambda *n: (e for a in n for e in (flatten(*a) if isinstance(a, (tuple, list)) else (a,)))"
   ],
   "metadata": {
    "collapsed": false,
    "pycharm": {
     "name": "#%%\n"
    }
   }
  },
  {
   "cell_type": "code",
   "execution_count": 9,
   "outputs": [],
   "source": [
    "def extract_info(sentence):\n",
    "    doc = nlp(sentence)\n",
    "    for token in doc:\n",
    "        print(token.lemma_, token.pos_, token.dep_)\n",
    "        print('--------------')\n",
    "        for child in token.children:\n",
    "            print(child.lemma_)"
   ],
   "metadata": {
    "collapsed": false,
    "pycharm": {
     "name": "#%%\n"
    }
   }
  },
  {
   "cell_type": "code",
   "execution_count": 10,
   "outputs": [],
   "source": [
    "# nlp function returns an object with individual token information,\n",
    "# linguistic features and relationships\n",
    "from spacy import displacy\n",
    "\n",
    "def show_dependency(sent):\n",
    "    doc = nlp(sent)\n",
    "\n",
    "    print (\"{:<15} | {:<8} | {:<15} | {:<20}\".format('Token','Relation','Head', 'Children'))\n",
    "    print (\"-\" * 70)\n",
    "\n",
    "    for token in doc:\n",
    "      print (\"{:<15} | {:<8} | {:<15} | {:<20}\".format(str(token.text), str(token.dep_), str(token.head.text), str([child for child in token.children])))\n",
    "\n",
    "    # Use displayCy to visualize the dependency\n",
    "    displacy.render(doc, style='dep', jupyter=True, options={'distance': 70})"
   ],
   "metadata": {
    "collapsed": false,
    "pycharm": {
     "name": "#%%\n"
    }
   }
  },
  {
   "cell_type": "code",
   "execution_count": 25,
   "outputs": [],
   "source": [
    "sent = \"Попытка создать образ героического защитника Русского мира, по беспределу высылаемого в лапы кровожадных хохлов, говорит лишь о том, что образ этот ДО СИХ ПОР является критически важным для общественного мнения в России.\""
   ],
   "metadata": {
    "collapsed": false,
    "pycharm": {
     "name": "#%%\n"
    }
   }
  },
  {
   "cell_type": "code",
   "execution_count": 26,
   "outputs": [],
   "source": [
    "sent3 = 'я думаю о ласковых и милых котиках и мечтаю их купить, а брат хочет в отпуск '\n"
   ],
   "metadata": {
    "collapsed": false,
    "pycharm": {
     "name": "#%%\n"
    }
   }
  },
  {
   "cell_type": "code",
   "execution_count": 27,
   "outputs": [],
   "source": [
    "from random import randrange\n",
    "\n",
    "def show_dep_example(df, i=None):\n",
    "    if not(i):\n",
    "        i = randrange(len(df))\n",
    "\n",
    "    print(df['text'][i])\n",
    "    print('*'*20, i, '*'*20)\n",
    "    print('Nsubj + Verb', ': ', df['core_noun_verb_str'][i])\n",
    "    print('Appos', ': ', df['appos_str'][i])\n",
    "    print('Noun+Aj (Amod)', ': ', df['amod_str'][i])\n",
    "    print('Noun+Noun (Nmod)', ': ', df['nmod_str'][i])\n",
    "    print('Verb + Obl/Obj', ': ', df['verb_obl_obj_str'][i])"
   ],
   "metadata": {
    "collapsed": false,
    "pycharm": {
     "name": "#%%\n"
    }
   }
  },
  {
   "cell_type": "markdown",
   "source": [
    "## Noun + verb"
   ],
   "metadata": {
    "collapsed": false,
    "pycharm": {
     "name": "#%% md\n"
    }
   }
  },
  {
   "cell_type": "code",
   "execution_count": 15,
   "outputs": [],
   "source": [
    "def collect_core(sent):\n",
    "    doc = nlp(clean_text(sent))\n",
    "    core_list = []\n",
    "    dicts = [{'token':token, 'pos':token.pos_, 'text':token.text, 'dep':token.dep_, 'lemma':token.lemma_} for token in doc]\n",
    "    nsubj_list = [item['token'] for item in dicts if item[\"dep\"] == \"nsubj\"]\n",
    "    head_verb_list = []\n",
    "    for nsubj in nsubj_list:\n",
    "        core_list.append([nsubj, nsubj.head])\n",
    "        head_verb_list.append(nsubj.head)\n",
    "\n",
    "    for core_pair in core_list: # check if there are any conj and cross-check that they are not head for other nsubj\n",
    "        for v_child in core_pair[1].children:\n",
    "            if (v_child.dep_=='conj') and v_child not in head_verb_list:\n",
    "                core_list.append([core_pair[0], v_child])\n",
    "\n",
    "\n",
    "    for core_pair in core_list:\n",
    "\n",
    "        for v_child in core_pair[1].children:\n",
    "            advmod = None\n",
    "            ccomp = None\n",
    "            xcomp = None\n",
    "            if v_child.dep_=='advmod':\n",
    "                advmod = v_child\n",
    "            elif v_child.dep_=='ccomp':\n",
    "                ccomp = v_child\n",
    "            elif v_child.dep_=='xcomp':\n",
    "                xcomp = v_child\n",
    "\n",
    "            if any([advmod,ccomp,xcomp]):\n",
    "                core_pair[1] = [advmod, core_pair[1], ccomp, xcomp]\n",
    "                core_pair[1] = [item for item in core_pair[1] if item!=None]\n",
    "                core_pair[1] = list(flatten(core_pair[1]))\n",
    "\n",
    "\n",
    "    core_list = [list(flatten(item)) for item in core_list]\n",
    "\n",
    "    return core_list"
   ],
   "metadata": {
    "collapsed": false,
    "pycharm": {
     "name": "#%%\n"
    }
   }
  },
  {
   "cell_type": "markdown",
   "source": [
    "## Verb + noun"
   ],
   "metadata": {
    "collapsed": false,
    "pycharm": {
     "name": "#%% md\n"
    }
   }
  },
  {
   "cell_type": "code",
   "execution_count": 126,
   "outputs": [],
   "source": [
    "def exclude_empty_vals(list):\n",
    "    result = [item for item in list if item!=None]\n",
    "    return result"
   ],
   "metadata": {
    "collapsed": false,
    "pycharm": {
     "name": "#%%\n"
    }
   }
  },
  {
   "cell_type": "code",
   "execution_count": 127,
   "outputs": [],
   "source": [
    "def collect_verb_obl_obj(sentence):\n",
    "    doc = nlp(clean_text(sentence))\n",
    "    result = []\n",
    "    dicts = [{'token':token, 'pos':token.pos_, 'text':token.text, 'dep':token.dep_, 'lemma':token.lemma_} for token in doc]\n",
    "    verbs = [item['token'] for item in dicts if item[\"pos\"] == \"VERB\"]\n",
    "    for verb in verbs:\n",
    "        advmod = None\n",
    "        for v_ch in verb.children:\n",
    "            if (v_ch.dep_=='advmod') and (sum(1 for _ in v_ch.children)==0):\n",
    "                advmod = v_ch\n",
    "                # print(advmod, verb)\n",
    "                # result.append([advmod, verb])\n",
    "\n",
    "        for v_child in verb.children:\n",
    "\n",
    "            # find obl and case\n",
    "            if v_child.dep_=='obl':\n",
    "                case = None\n",
    "                for g_child in v_child.children:\n",
    "                    if g_child.dep_=='case':\n",
    "                        case = g_child\n",
    "                if case:\n",
    "                    result.append(exclude_empty_vals([advmod, verb, case, v_child]))\n",
    "                else:\n",
    "                    result.append(exclude_empty_vals([advmod, verb, v_child]))\n",
    "\n",
    "            if v_child.dep_=='obj':\n",
    "                case = None\n",
    "                for g_child in v_child.children:\n",
    "                    if g_child.dep_=='case':\n",
    "                        case = g_child\n",
    "                if case:\n",
    "                    result.append(exclude_empty_vals([advmod, verb, case, v_child]))\n",
    "                else:\n",
    "                    result.append(exclude_empty_vals([advmod, verb, v_child]))\n",
    "\n",
    "            # find obj\n",
    "            if (v_child.dep_=='xcomp') or (v_child.dep_=='ccomp'):\n",
    "                for grand_child in v_child.children:\n",
    "                    obj = None\n",
    "                    if grand_child.dep_=='obj':\n",
    "                        obj = grand_child\n",
    "                        for g_child in v_child.children:\n",
    "                            if g_child.dep_=='case':\n",
    "                                case = g_child\n",
    "                        if obj:\n",
    "                            result.append(exclude_empty_vals([advmod, verb, obj, v_child]))\n",
    "                        else:\n",
    "                            result.append(exclude_empty_vals([advmod, verb, v_child]))\n",
    "\n",
    "\n",
    "    return result\n"
   ],
   "metadata": {
    "collapsed": false,
    "pycharm": {
     "name": "#%%\n"
    }
   }
  },
  {
   "cell_type": "code",
   "execution_count": 128,
   "outputs": [],
   "source": [
    "def collect_verb_obl_obj2(sentence):\n",
    "    doc = nlp(clean_text(sentence))\n",
    "    result = []\n",
    "    dicts = [{'token':token, 'pos':token.pos_, 'text':token.text, 'dep':token.dep_, 'lemma':token.lemma_} for token in doc]\n",
    "    verbs = [item['token'] for item in dicts if item[\"pos\"] == \"VERB\"]\n",
    "    for verb in verbs:\n",
    "\n",
    "        for v_child in verb.children:\n",
    "\n",
    "            advmod = None\n",
    "            obj = None\n",
    "            obl = None\n",
    "            if v_child.dep_=='obj':\n",
    "                obj = v_child\n",
    "            elif v_child.dep_=='obl':\n",
    "                obl = v_child\n",
    "            elif v_child.dep_=='advmod':\n",
    "                advmod = v_child\n",
    "\n",
    "            if any([advmod,obj,obl]):\n",
    "                lst = [advmod, verb, obj, obl]\n",
    "                lst = [item for item in lst if item!=None]\n",
    "                lst = list(flatten(lst))\n",
    "\n",
    "                result.append(lst)\n",
    "\n",
    "    return result\n"
   ],
   "metadata": {
    "collapsed": false,
    "pycharm": {
     "name": "#%%\n"
    }
   }
  },
  {
   "cell_type": "code",
   "execution_count": 130,
   "outputs": [
    {
     "data": {
      "text/plain": "[[не, имеем, права],\n [показывать, слабину],\n [пытаются, руку, откусить],\n [откусить, руку],\n [появляется, у, них]]"
     },
     "execution_count": 130,
     "metadata": {},
     "output_type": "execute_result"
    }
   ],
   "source": [
    "collect_verb_obl_obj(df['text'][335])"
   ],
   "metadata": {
    "collapsed": false,
    "pycharm": {
     "name": "#%%\n"
    }
   }
  },
  {
   "cell_type": "code",
   "execution_count": 141,
   "outputs": [
    {
     "name": "stdout",
     "output_type": "stream",
     "text": [
      "Token           | Relation | Head            | Children            \n",
      "----------------------------------------------------------------------\n",
      "✔               | nsubj    | имеем           | [️Мы]               \n",
      "️Мы             | appos    | ✔               | []                  \n",
      "ни              | advmod   | имеем           | [в, коем, случае]   \n",
      "в               | fixed    | ни              | []                  \n",
      "коем            | fixed    | ни              | []                  \n",
      "случае          | fixed    | ни              | []                  \n",
      "не              | advmod   | имеем           | []                  \n",
      "имеем           | ROOT     | имеем           | [✔, ни, не, права, !]\n",
      "права           | obj      | имеем           | [показывать]        \n",
      "показывать      | nmod     | права           | [слабину, террористам]\n",
      "слабину         | obj      | показывать      | []                  \n",
      "террористам     | iobj     | показывать      | [Хохлостана]        \n",
      "из              | case     | Хохлостана      | []                  \n",
      "Хохлостана      | nmod     | террористам     | [из]                \n",
      "!               | punct    | имеем           | []                  \n",
      "Даёшь           | ROOT     | Даёшь           | [им, палец, пытаются, !]\n",
      "им              | iobj     | Даёшь           | []                  \n",
      "палец           | obj      | Даёшь           | []                  \n",
      ",               | punct    | пытаются        | []                  \n",
      "а               | cc       | пытаются        | []                  \n",
      "они             | nsubj    | пытаются        | []                  \n",
      "пытаются        | conj     | Даёшь           | [,, а, они, откусить]\n",
      "откусить        | xcomp    | пытаются        | [руку]              \n",
      "всю             | det      | руку            | []                  \n",
      "руку            | obj      | откусить        | [всю]               \n",
      "!               | punct    | Даёшь           | []                  \n",
      "Только          | advmod   | них             | []                  \n",
      "у               | case     | них             | []                  \n",
      "них             | obl      | появляется      | [Только, у]         \n",
      "появляется      | ROOT     | появляется      | [них, повод, случается, .]\n",
      "повод           | nsubj    | появляется      | [перемоги]          \n",
      "для             | case     | перемоги        | []                  \n",
      "так             | advmod   | называемой      | []                  \n",
      "называемой      | acl      | перемоги        | [так]               \n",
      "«               | punct    | перемоги        | []                  \n",
      "перемоги        | nmod     | повод           | [для, называемой, «, »]\n",
      "»               | punct    | перемоги        | []                  \n",
      "-               | advmod   | случается       | []                  \n",
      "сразу           | advmod   | случается       | [же]                \n",
      "же              | advmod   | сразу           | []                  \n",
      "случается       | conj     | появляется      | [-, сразу, всплеск] \n",
      "очередной       | amod     | всплеск         | []                  \n",
      "жирный          | amod     | всплеск         | []                  \n",
      "всплеск         | nsubj    | случается       | [очередной, жирный, активности]\n",
      "русофобской     | amod     | активности      | []                  \n",
      "активности      | nmod     | всплеск         | [русофобской]       \n",
      ".               | punct    | появляется      | []                  \n"
     ]
    },
    {
     "data": {
      "text/plain": "<IPython.core.display.HTML object>",
      "text/html": "<span class=\"tex2jax_ignore\"><svg xmlns=\"http://www.w3.org/2000/svg\" xmlns:xlink=\"http://www.w3.org/1999/xlink\" xml:lang=\"ru\" id=\"bb40f28e6d5e47809530d1061935ec8f-0\" class=\"displacy\" width=\"2850\" height=\"312.0\" direction=\"ltr\" style=\"max-width: none; height: 312.0px; color: #000000; background: #ffffff; font-family: Arial; direction: ltr\">\n<text class=\"displacy-token\" fill=\"currentColor\" text-anchor=\"middle\" y=\"222.0\">\n    <tspan class=\"displacy-word\" fill=\"currentColor\" x=\"50\">✔</tspan>\n    <tspan class=\"displacy-tag\" dy=\"2em\" fill=\"currentColor\" x=\"50\">ADV</tspan>\n</text>\n\n<text class=\"displacy-token\" fill=\"currentColor\" text-anchor=\"middle\" y=\"222.0\">\n    <tspan class=\"displacy-word\" fill=\"currentColor\" x=\"120\">️Мы</tspan>\n    <tspan class=\"displacy-tag\" dy=\"2em\" fill=\"currentColor\" x=\"120\">PUNCT</tspan>\n</text>\n\n<text class=\"displacy-token\" fill=\"currentColor\" text-anchor=\"middle\" y=\"222.0\">\n    <tspan class=\"displacy-word\" fill=\"currentColor\" x=\"190\">ни</tspan>\n    <tspan class=\"displacy-tag\" dy=\"2em\" fill=\"currentColor\" x=\"190\">PART</tspan>\n</text>\n\n<text class=\"displacy-token\" fill=\"currentColor\" text-anchor=\"middle\" y=\"222.0\">\n    <tspan class=\"displacy-word\" fill=\"currentColor\" x=\"260\">в</tspan>\n    <tspan class=\"displacy-tag\" dy=\"2em\" fill=\"currentColor\" x=\"260\">ADP</tspan>\n</text>\n\n<text class=\"displacy-token\" fill=\"currentColor\" text-anchor=\"middle\" y=\"222.0\">\n    <tspan class=\"displacy-word\" fill=\"currentColor\" x=\"330\">коем</tspan>\n    <tspan class=\"displacy-tag\" dy=\"2em\" fill=\"currentColor\" x=\"330\">DET</tspan>\n</text>\n\n<text class=\"displacy-token\" fill=\"currentColor\" text-anchor=\"middle\" y=\"222.0\">\n    <tspan class=\"displacy-word\" fill=\"currentColor\" x=\"400\">случае</tspan>\n    <tspan class=\"displacy-tag\" dy=\"2em\" fill=\"currentColor\" x=\"400\">NOUN</tspan>\n</text>\n\n<text class=\"displacy-token\" fill=\"currentColor\" text-anchor=\"middle\" y=\"222.0\">\n    <tspan class=\"displacy-word\" fill=\"currentColor\" x=\"470\">не</tspan>\n    <tspan class=\"displacy-tag\" dy=\"2em\" fill=\"currentColor\" x=\"470\">PART</tspan>\n</text>\n\n<text class=\"displacy-token\" fill=\"currentColor\" text-anchor=\"middle\" y=\"222.0\">\n    <tspan class=\"displacy-word\" fill=\"currentColor\" x=\"540\">имеем</tspan>\n    <tspan class=\"displacy-tag\" dy=\"2em\" fill=\"currentColor\" x=\"540\">VERB</tspan>\n</text>\n\n<text class=\"displacy-token\" fill=\"currentColor\" text-anchor=\"middle\" y=\"222.0\">\n    <tspan class=\"displacy-word\" fill=\"currentColor\" x=\"610\">права</tspan>\n    <tspan class=\"displacy-tag\" dy=\"2em\" fill=\"currentColor\" x=\"610\">NOUN</tspan>\n</text>\n\n<text class=\"displacy-token\" fill=\"currentColor\" text-anchor=\"middle\" y=\"222.0\">\n    <tspan class=\"displacy-word\" fill=\"currentColor\" x=\"680\">показывать</tspan>\n    <tspan class=\"displacy-tag\" dy=\"2em\" fill=\"currentColor\" x=\"680\">VERB</tspan>\n</text>\n\n<text class=\"displacy-token\" fill=\"currentColor\" text-anchor=\"middle\" y=\"222.0\">\n    <tspan class=\"displacy-word\" fill=\"currentColor\" x=\"750\">слабину</tspan>\n    <tspan class=\"displacy-tag\" dy=\"2em\" fill=\"currentColor\" x=\"750\">NOUN</tspan>\n</text>\n\n<text class=\"displacy-token\" fill=\"currentColor\" text-anchor=\"middle\" y=\"222.0\">\n    <tspan class=\"displacy-word\" fill=\"currentColor\" x=\"820\">террористам</tspan>\n    <tspan class=\"displacy-tag\" dy=\"2em\" fill=\"currentColor\" x=\"820\">NOUN</tspan>\n</text>\n\n<text class=\"displacy-token\" fill=\"currentColor\" text-anchor=\"middle\" y=\"222.0\">\n    <tspan class=\"displacy-word\" fill=\"currentColor\" x=\"890\">из</tspan>\n    <tspan class=\"displacy-tag\" dy=\"2em\" fill=\"currentColor\" x=\"890\">ADP</tspan>\n</text>\n\n<text class=\"displacy-token\" fill=\"currentColor\" text-anchor=\"middle\" y=\"222.0\">\n    <tspan class=\"displacy-word\" fill=\"currentColor\" x=\"960\">Хохлостана!</tspan>\n    <tspan class=\"displacy-tag\" dy=\"2em\" fill=\"currentColor\" x=\"960\">PROPN</tspan>\n</text>\n\n<text class=\"displacy-token\" fill=\"currentColor\" text-anchor=\"middle\" y=\"222.0\">\n    <tspan class=\"displacy-word\" fill=\"currentColor\" x=\"1030\">Даёшь</tspan>\n    <tspan class=\"displacy-tag\" dy=\"2em\" fill=\"currentColor\" x=\"1030\">VERB</tspan>\n</text>\n\n<text class=\"displacy-token\" fill=\"currentColor\" text-anchor=\"middle\" y=\"222.0\">\n    <tspan class=\"displacy-word\" fill=\"currentColor\" x=\"1100\">им</tspan>\n    <tspan class=\"displacy-tag\" dy=\"2em\" fill=\"currentColor\" x=\"1100\">PRON</tspan>\n</text>\n\n<text class=\"displacy-token\" fill=\"currentColor\" text-anchor=\"middle\" y=\"222.0\">\n    <tspan class=\"displacy-word\" fill=\"currentColor\" x=\"1170\">палец,</tspan>\n    <tspan class=\"displacy-tag\" dy=\"2em\" fill=\"currentColor\" x=\"1170\">NOUN</tspan>\n</text>\n\n<text class=\"displacy-token\" fill=\"currentColor\" text-anchor=\"middle\" y=\"222.0\">\n    <tspan class=\"displacy-word\" fill=\"currentColor\" x=\"1240\">а</tspan>\n    <tspan class=\"displacy-tag\" dy=\"2em\" fill=\"currentColor\" x=\"1240\">CCONJ</tspan>\n</text>\n\n<text class=\"displacy-token\" fill=\"currentColor\" text-anchor=\"middle\" y=\"222.0\">\n    <tspan class=\"displacy-word\" fill=\"currentColor\" x=\"1310\">они</tspan>\n    <tspan class=\"displacy-tag\" dy=\"2em\" fill=\"currentColor\" x=\"1310\">PRON</tspan>\n</text>\n\n<text class=\"displacy-token\" fill=\"currentColor\" text-anchor=\"middle\" y=\"222.0\">\n    <tspan class=\"displacy-word\" fill=\"currentColor\" x=\"1380\">пытаются</tspan>\n    <tspan class=\"displacy-tag\" dy=\"2em\" fill=\"currentColor\" x=\"1380\">VERB</tspan>\n</text>\n\n<text class=\"displacy-token\" fill=\"currentColor\" text-anchor=\"middle\" y=\"222.0\">\n    <tspan class=\"displacy-word\" fill=\"currentColor\" x=\"1450\">откусить</tspan>\n    <tspan class=\"displacy-tag\" dy=\"2em\" fill=\"currentColor\" x=\"1450\">VERB</tspan>\n</text>\n\n<text class=\"displacy-token\" fill=\"currentColor\" text-anchor=\"middle\" y=\"222.0\">\n    <tspan class=\"displacy-word\" fill=\"currentColor\" x=\"1520\">всю</tspan>\n    <tspan class=\"displacy-tag\" dy=\"2em\" fill=\"currentColor\" x=\"1520\">DET</tspan>\n</text>\n\n<text class=\"displacy-token\" fill=\"currentColor\" text-anchor=\"middle\" y=\"222.0\">\n    <tspan class=\"displacy-word\" fill=\"currentColor\" x=\"1590\">руку!</tspan>\n    <tspan class=\"displacy-tag\" dy=\"2em\" fill=\"currentColor\" x=\"1590\">NOUN</tspan>\n</text>\n\n<text class=\"displacy-token\" fill=\"currentColor\" text-anchor=\"middle\" y=\"222.0\">\n    <tspan class=\"displacy-word\" fill=\"currentColor\" x=\"1660\">Только</tspan>\n    <tspan class=\"displacy-tag\" dy=\"2em\" fill=\"currentColor\" x=\"1660\">PART</tspan>\n</text>\n\n<text class=\"displacy-token\" fill=\"currentColor\" text-anchor=\"middle\" y=\"222.0\">\n    <tspan class=\"displacy-word\" fill=\"currentColor\" x=\"1730\">у</tspan>\n    <tspan class=\"displacy-tag\" dy=\"2em\" fill=\"currentColor\" x=\"1730\">ADP</tspan>\n</text>\n\n<text class=\"displacy-token\" fill=\"currentColor\" text-anchor=\"middle\" y=\"222.0\">\n    <tspan class=\"displacy-word\" fill=\"currentColor\" x=\"1800\">них</tspan>\n    <tspan class=\"displacy-tag\" dy=\"2em\" fill=\"currentColor\" x=\"1800\">PRON</tspan>\n</text>\n\n<text class=\"displacy-token\" fill=\"currentColor\" text-anchor=\"middle\" y=\"222.0\">\n    <tspan class=\"displacy-word\" fill=\"currentColor\" x=\"1870\">появляется</tspan>\n    <tspan class=\"displacy-tag\" dy=\"2em\" fill=\"currentColor\" x=\"1870\">VERB</tspan>\n</text>\n\n<text class=\"displacy-token\" fill=\"currentColor\" text-anchor=\"middle\" y=\"222.0\">\n    <tspan class=\"displacy-word\" fill=\"currentColor\" x=\"1940\">повод</tspan>\n    <tspan class=\"displacy-tag\" dy=\"2em\" fill=\"currentColor\" x=\"1940\">NOUN</tspan>\n</text>\n\n<text class=\"displacy-token\" fill=\"currentColor\" text-anchor=\"middle\" y=\"222.0\">\n    <tspan class=\"displacy-word\" fill=\"currentColor\" x=\"2010\">для</tspan>\n    <tspan class=\"displacy-tag\" dy=\"2em\" fill=\"currentColor\" x=\"2010\">ADP</tspan>\n</text>\n\n<text class=\"displacy-token\" fill=\"currentColor\" text-anchor=\"middle\" y=\"222.0\">\n    <tspan class=\"displacy-word\" fill=\"currentColor\" x=\"2080\">так</tspan>\n    <tspan class=\"displacy-tag\" dy=\"2em\" fill=\"currentColor\" x=\"2080\">ADV</tspan>\n</text>\n\n<text class=\"displacy-token\" fill=\"currentColor\" text-anchor=\"middle\" y=\"222.0\">\n    <tspan class=\"displacy-word\" fill=\"currentColor\" x=\"2150\">называемой «</tspan>\n    <tspan class=\"displacy-tag\" dy=\"2em\" fill=\"currentColor\" x=\"2150\">VERB</tspan>\n</text>\n\n<text class=\"displacy-token\" fill=\"currentColor\" text-anchor=\"middle\" y=\"222.0\">\n    <tspan class=\"displacy-word\" fill=\"currentColor\" x=\"2220\">перемоги» -</tspan>\n    <tspan class=\"displacy-tag\" dy=\"2em\" fill=\"currentColor\" x=\"2220\">NOUN</tspan>\n</text>\n\n<text class=\"displacy-token\" fill=\"currentColor\" text-anchor=\"middle\" y=\"222.0\">\n    <tspan class=\"displacy-word\" fill=\"currentColor\" x=\"2290\">сразу</tspan>\n    <tspan class=\"displacy-tag\" dy=\"2em\" fill=\"currentColor\" x=\"2290\">ADV</tspan>\n</text>\n\n<text class=\"displacy-token\" fill=\"currentColor\" text-anchor=\"middle\" y=\"222.0\">\n    <tspan class=\"displacy-word\" fill=\"currentColor\" x=\"2360\">же</tspan>\n    <tspan class=\"displacy-tag\" dy=\"2em\" fill=\"currentColor\" x=\"2360\">PART</tspan>\n</text>\n\n<text class=\"displacy-token\" fill=\"currentColor\" text-anchor=\"middle\" y=\"222.0\">\n    <tspan class=\"displacy-word\" fill=\"currentColor\" x=\"2430\">случается</tspan>\n    <tspan class=\"displacy-tag\" dy=\"2em\" fill=\"currentColor\" x=\"2430\">VERB</tspan>\n</text>\n\n<text class=\"displacy-token\" fill=\"currentColor\" text-anchor=\"middle\" y=\"222.0\">\n    <tspan class=\"displacy-word\" fill=\"currentColor\" x=\"2500\">очередной</tspan>\n    <tspan class=\"displacy-tag\" dy=\"2em\" fill=\"currentColor\" x=\"2500\">ADJ</tspan>\n</text>\n\n<text class=\"displacy-token\" fill=\"currentColor\" text-anchor=\"middle\" y=\"222.0\">\n    <tspan class=\"displacy-word\" fill=\"currentColor\" x=\"2570\">жирный</tspan>\n    <tspan class=\"displacy-tag\" dy=\"2em\" fill=\"currentColor\" x=\"2570\">ADJ</tspan>\n</text>\n\n<text class=\"displacy-token\" fill=\"currentColor\" text-anchor=\"middle\" y=\"222.0\">\n    <tspan class=\"displacy-word\" fill=\"currentColor\" x=\"2640\">всплеск</tspan>\n    <tspan class=\"displacy-tag\" dy=\"2em\" fill=\"currentColor\" x=\"2640\">NOUN</tspan>\n</text>\n\n<text class=\"displacy-token\" fill=\"currentColor\" text-anchor=\"middle\" y=\"222.0\">\n    <tspan class=\"displacy-word\" fill=\"currentColor\" x=\"2710\">русофобской</tspan>\n    <tspan class=\"displacy-tag\" dy=\"2em\" fill=\"currentColor\" x=\"2710\">ADJ</tspan>\n</text>\n\n<text class=\"displacy-token\" fill=\"currentColor\" text-anchor=\"middle\" y=\"222.0\">\n    <tspan class=\"displacy-word\" fill=\"currentColor\" x=\"2780\">активности.</tspan>\n    <tspan class=\"displacy-tag\" dy=\"2em\" fill=\"currentColor\" x=\"2780\">NOUN</tspan>\n</text>\n\n<g class=\"displacy-arrow\">\n    <path class=\"displacy-arc\" id=\"arrow-bb40f28e6d5e47809530d1061935ec8f-0-0\" stroke-width=\"2px\" d=\"M70,177.0 C70,2.0 540.0,2.0 540.0,177.0\" fill=\"none\" stroke=\"currentColor\"/>\n    <text dy=\"1.25em\" style=\"font-size: 0.8em; letter-spacing: 1px\">\n        <textPath xlink:href=\"#arrow-bb40f28e6d5e47809530d1061935ec8f-0-0\" class=\"displacy-label\" startOffset=\"50%\" side=\"left\" fill=\"currentColor\" text-anchor=\"middle\">nsubj</textPath>\n    </text>\n    <path class=\"displacy-arrowhead\" d=\"M70,179.0 L62,167.0 78,167.0\" fill=\"currentColor\"/>\n</g>\n\n<g class=\"displacy-arrow\">\n    <path class=\"displacy-arc\" id=\"arrow-bb40f28e6d5e47809530d1061935ec8f-0-1\" stroke-width=\"2px\" d=\"M70,177.0 C70,142.0 100.0,142.0 100.0,177.0\" fill=\"none\" stroke=\"currentColor\"/>\n    <text dy=\"1.25em\" style=\"font-size: 0.8em; letter-spacing: 1px\">\n        <textPath xlink:href=\"#arrow-bb40f28e6d5e47809530d1061935ec8f-0-1\" class=\"displacy-label\" startOffset=\"50%\" side=\"left\" fill=\"currentColor\" text-anchor=\"middle\">appos</textPath>\n    </text>\n    <path class=\"displacy-arrowhead\" d=\"M100.0,179.0 L108.0,167.0 92.0,167.0\" fill=\"currentColor\"/>\n</g>\n\n<g class=\"displacy-arrow\">\n    <path class=\"displacy-arc\" id=\"arrow-bb40f28e6d5e47809530d1061935ec8f-0-2\" stroke-width=\"2px\" d=\"M210,177.0 C210,37.0 535.0,37.0 535.0,177.0\" fill=\"none\" stroke=\"currentColor\"/>\n    <text dy=\"1.25em\" style=\"font-size: 0.8em; letter-spacing: 1px\">\n        <textPath xlink:href=\"#arrow-bb40f28e6d5e47809530d1061935ec8f-0-2\" class=\"displacy-label\" startOffset=\"50%\" side=\"left\" fill=\"currentColor\" text-anchor=\"middle\">advmod</textPath>\n    </text>\n    <path class=\"displacy-arrowhead\" d=\"M210,179.0 L202,167.0 218,167.0\" fill=\"currentColor\"/>\n</g>\n\n<g class=\"displacy-arrow\">\n    <path class=\"displacy-arc\" id=\"arrow-bb40f28e6d5e47809530d1061935ec8f-0-3\" stroke-width=\"2px\" d=\"M210,177.0 C210,142.0 240.0,142.0 240.0,177.0\" fill=\"none\" stroke=\"currentColor\"/>\n    <text dy=\"1.25em\" style=\"font-size: 0.8em; letter-spacing: 1px\">\n        <textPath xlink:href=\"#arrow-bb40f28e6d5e47809530d1061935ec8f-0-3\" class=\"displacy-label\" startOffset=\"50%\" side=\"left\" fill=\"currentColor\" text-anchor=\"middle\">fixed</textPath>\n    </text>\n    <path class=\"displacy-arrowhead\" d=\"M240.0,179.0 L248.0,167.0 232.0,167.0\" fill=\"currentColor\"/>\n</g>\n\n<g class=\"displacy-arrow\">\n    <path class=\"displacy-arc\" id=\"arrow-bb40f28e6d5e47809530d1061935ec8f-0-4\" stroke-width=\"2px\" d=\"M210,177.0 C210,107.0 315.0,107.0 315.0,177.0\" fill=\"none\" stroke=\"currentColor\"/>\n    <text dy=\"1.25em\" style=\"font-size: 0.8em; letter-spacing: 1px\">\n        <textPath xlink:href=\"#arrow-bb40f28e6d5e47809530d1061935ec8f-0-4\" class=\"displacy-label\" startOffset=\"50%\" side=\"left\" fill=\"currentColor\" text-anchor=\"middle\">fixed</textPath>\n    </text>\n    <path class=\"displacy-arrowhead\" d=\"M315.0,179.0 L323.0,167.0 307.0,167.0\" fill=\"currentColor\"/>\n</g>\n\n<g class=\"displacy-arrow\">\n    <path class=\"displacy-arc\" id=\"arrow-bb40f28e6d5e47809530d1061935ec8f-0-5\" stroke-width=\"2px\" d=\"M210,177.0 C210,72.0 390.0,72.0 390.0,177.0\" fill=\"none\" stroke=\"currentColor\"/>\n    <text dy=\"1.25em\" style=\"font-size: 0.8em; letter-spacing: 1px\">\n        <textPath xlink:href=\"#arrow-bb40f28e6d5e47809530d1061935ec8f-0-5\" class=\"displacy-label\" startOffset=\"50%\" side=\"left\" fill=\"currentColor\" text-anchor=\"middle\">fixed</textPath>\n    </text>\n    <path class=\"displacy-arrowhead\" d=\"M390.0,179.0 L398.0,167.0 382.0,167.0\" fill=\"currentColor\"/>\n</g>\n\n<g class=\"displacy-arrow\">\n    <path class=\"displacy-arc\" id=\"arrow-bb40f28e6d5e47809530d1061935ec8f-0-6\" stroke-width=\"2px\" d=\"M490,177.0 C490,142.0 520.0,142.0 520.0,177.0\" fill=\"none\" stroke=\"currentColor\"/>\n    <text dy=\"1.25em\" style=\"font-size: 0.8em; letter-spacing: 1px\">\n        <textPath xlink:href=\"#arrow-bb40f28e6d5e47809530d1061935ec8f-0-6\" class=\"displacy-label\" startOffset=\"50%\" side=\"left\" fill=\"currentColor\" text-anchor=\"middle\">advmod</textPath>\n    </text>\n    <path class=\"displacy-arrowhead\" d=\"M490,179.0 L482,167.0 498,167.0\" fill=\"currentColor\"/>\n</g>\n\n<g class=\"displacy-arrow\">\n    <path class=\"displacy-arc\" id=\"arrow-bb40f28e6d5e47809530d1061935ec8f-0-7\" stroke-width=\"2px\" d=\"M560,177.0 C560,142.0 590.0,142.0 590.0,177.0\" fill=\"none\" stroke=\"currentColor\"/>\n    <text dy=\"1.25em\" style=\"font-size: 0.8em; letter-spacing: 1px\">\n        <textPath xlink:href=\"#arrow-bb40f28e6d5e47809530d1061935ec8f-0-7\" class=\"displacy-label\" startOffset=\"50%\" side=\"left\" fill=\"currentColor\" text-anchor=\"middle\">obj</textPath>\n    </text>\n    <path class=\"displacy-arrowhead\" d=\"M590.0,179.0 L598.0,167.0 582.0,167.0\" fill=\"currentColor\"/>\n</g>\n\n<g class=\"displacy-arrow\">\n    <path class=\"displacy-arc\" id=\"arrow-bb40f28e6d5e47809530d1061935ec8f-0-8\" stroke-width=\"2px\" d=\"M630,177.0 C630,142.0 660.0,142.0 660.0,177.0\" fill=\"none\" stroke=\"currentColor\"/>\n    <text dy=\"1.25em\" style=\"font-size: 0.8em; letter-spacing: 1px\">\n        <textPath xlink:href=\"#arrow-bb40f28e6d5e47809530d1061935ec8f-0-8\" class=\"displacy-label\" startOffset=\"50%\" side=\"left\" fill=\"currentColor\" text-anchor=\"middle\">nmod</textPath>\n    </text>\n    <path class=\"displacy-arrowhead\" d=\"M660.0,179.0 L668.0,167.0 652.0,167.0\" fill=\"currentColor\"/>\n</g>\n\n<g class=\"displacy-arrow\">\n    <path class=\"displacy-arc\" id=\"arrow-bb40f28e6d5e47809530d1061935ec8f-0-9\" stroke-width=\"2px\" d=\"M700,177.0 C700,142.0 730.0,142.0 730.0,177.0\" fill=\"none\" stroke=\"currentColor\"/>\n    <text dy=\"1.25em\" style=\"font-size: 0.8em; letter-spacing: 1px\">\n        <textPath xlink:href=\"#arrow-bb40f28e6d5e47809530d1061935ec8f-0-9\" class=\"displacy-label\" startOffset=\"50%\" side=\"left\" fill=\"currentColor\" text-anchor=\"middle\">obj</textPath>\n    </text>\n    <path class=\"displacy-arrowhead\" d=\"M730.0,179.0 L738.0,167.0 722.0,167.0\" fill=\"currentColor\"/>\n</g>\n\n<g class=\"displacy-arrow\">\n    <path class=\"displacy-arc\" id=\"arrow-bb40f28e6d5e47809530d1061935ec8f-0-10\" stroke-width=\"2px\" d=\"M700,177.0 C700,107.0 805.0,107.0 805.0,177.0\" fill=\"none\" stroke=\"currentColor\"/>\n    <text dy=\"1.25em\" style=\"font-size: 0.8em; letter-spacing: 1px\">\n        <textPath xlink:href=\"#arrow-bb40f28e6d5e47809530d1061935ec8f-0-10\" class=\"displacy-label\" startOffset=\"50%\" side=\"left\" fill=\"currentColor\" text-anchor=\"middle\">iobj</textPath>\n    </text>\n    <path class=\"displacy-arrowhead\" d=\"M805.0,179.0 L813.0,167.0 797.0,167.0\" fill=\"currentColor\"/>\n</g>\n\n<g class=\"displacy-arrow\">\n    <path class=\"displacy-arc\" id=\"arrow-bb40f28e6d5e47809530d1061935ec8f-0-11\" stroke-width=\"2px\" d=\"M910,177.0 C910,142.0 940.0,142.0 940.0,177.0\" fill=\"none\" stroke=\"currentColor\"/>\n    <text dy=\"1.25em\" style=\"font-size: 0.8em; letter-spacing: 1px\">\n        <textPath xlink:href=\"#arrow-bb40f28e6d5e47809530d1061935ec8f-0-11\" class=\"displacy-label\" startOffset=\"50%\" side=\"left\" fill=\"currentColor\" text-anchor=\"middle\">case</textPath>\n    </text>\n    <path class=\"displacy-arrowhead\" d=\"M910,179.0 L902,167.0 918,167.0\" fill=\"currentColor\"/>\n</g>\n\n<g class=\"displacy-arrow\">\n    <path class=\"displacy-arc\" id=\"arrow-bb40f28e6d5e47809530d1061935ec8f-0-12\" stroke-width=\"2px\" d=\"M840,177.0 C840,107.0 945.0,107.0 945.0,177.0\" fill=\"none\" stroke=\"currentColor\"/>\n    <text dy=\"1.25em\" style=\"font-size: 0.8em; letter-spacing: 1px\">\n        <textPath xlink:href=\"#arrow-bb40f28e6d5e47809530d1061935ec8f-0-12\" class=\"displacy-label\" startOffset=\"50%\" side=\"left\" fill=\"currentColor\" text-anchor=\"middle\">nmod</textPath>\n    </text>\n    <path class=\"displacy-arrowhead\" d=\"M945.0,179.0 L953.0,167.0 937.0,167.0\" fill=\"currentColor\"/>\n</g>\n\n<g class=\"displacy-arrow\">\n    <path class=\"displacy-arc\" id=\"arrow-bb40f28e6d5e47809530d1061935ec8f-0-13\" stroke-width=\"2px\" d=\"M1050,177.0 C1050,142.0 1080.0,142.0 1080.0,177.0\" fill=\"none\" stroke=\"currentColor\"/>\n    <text dy=\"1.25em\" style=\"font-size: 0.8em; letter-spacing: 1px\">\n        <textPath xlink:href=\"#arrow-bb40f28e6d5e47809530d1061935ec8f-0-13\" class=\"displacy-label\" startOffset=\"50%\" side=\"left\" fill=\"currentColor\" text-anchor=\"middle\">iobj</textPath>\n    </text>\n    <path class=\"displacy-arrowhead\" d=\"M1080.0,179.0 L1088.0,167.0 1072.0,167.0\" fill=\"currentColor\"/>\n</g>\n\n<g class=\"displacy-arrow\">\n    <path class=\"displacy-arc\" id=\"arrow-bb40f28e6d5e47809530d1061935ec8f-0-14\" stroke-width=\"2px\" d=\"M1050,177.0 C1050,107.0 1155.0,107.0 1155.0,177.0\" fill=\"none\" stroke=\"currentColor\"/>\n    <text dy=\"1.25em\" style=\"font-size: 0.8em; letter-spacing: 1px\">\n        <textPath xlink:href=\"#arrow-bb40f28e6d5e47809530d1061935ec8f-0-14\" class=\"displacy-label\" startOffset=\"50%\" side=\"left\" fill=\"currentColor\" text-anchor=\"middle\">obj</textPath>\n    </text>\n    <path class=\"displacy-arrowhead\" d=\"M1155.0,179.0 L1163.0,167.0 1147.0,167.0\" fill=\"currentColor\"/>\n</g>\n\n<g class=\"displacy-arrow\">\n    <path class=\"displacy-arc\" id=\"arrow-bb40f28e6d5e47809530d1061935ec8f-0-15\" stroke-width=\"2px\" d=\"M1260,177.0 C1260,107.0 1365.0,107.0 1365.0,177.0\" fill=\"none\" stroke=\"currentColor\"/>\n    <text dy=\"1.25em\" style=\"font-size: 0.8em; letter-spacing: 1px\">\n        <textPath xlink:href=\"#arrow-bb40f28e6d5e47809530d1061935ec8f-0-15\" class=\"displacy-label\" startOffset=\"50%\" side=\"left\" fill=\"currentColor\" text-anchor=\"middle\">cc</textPath>\n    </text>\n    <path class=\"displacy-arrowhead\" d=\"M1260,179.0 L1252,167.0 1268,167.0\" fill=\"currentColor\"/>\n</g>\n\n<g class=\"displacy-arrow\">\n    <path class=\"displacy-arc\" id=\"arrow-bb40f28e6d5e47809530d1061935ec8f-0-16\" stroke-width=\"2px\" d=\"M1330,177.0 C1330,142.0 1360.0,142.0 1360.0,177.0\" fill=\"none\" stroke=\"currentColor\"/>\n    <text dy=\"1.25em\" style=\"font-size: 0.8em; letter-spacing: 1px\">\n        <textPath xlink:href=\"#arrow-bb40f28e6d5e47809530d1061935ec8f-0-16\" class=\"displacy-label\" startOffset=\"50%\" side=\"left\" fill=\"currentColor\" text-anchor=\"middle\">nsubj</textPath>\n    </text>\n    <path class=\"displacy-arrowhead\" d=\"M1330,179.0 L1322,167.0 1338,167.0\" fill=\"currentColor\"/>\n</g>\n\n<g class=\"displacy-arrow\">\n    <path class=\"displacy-arc\" id=\"arrow-bb40f28e6d5e47809530d1061935ec8f-0-17\" stroke-width=\"2px\" d=\"M1050,177.0 C1050,72.0 1370.0,72.0 1370.0,177.0\" fill=\"none\" stroke=\"currentColor\"/>\n    <text dy=\"1.25em\" style=\"font-size: 0.8em; letter-spacing: 1px\">\n        <textPath xlink:href=\"#arrow-bb40f28e6d5e47809530d1061935ec8f-0-17\" class=\"displacy-label\" startOffset=\"50%\" side=\"left\" fill=\"currentColor\" text-anchor=\"middle\">conj</textPath>\n    </text>\n    <path class=\"displacy-arrowhead\" d=\"M1370.0,179.0 L1378.0,167.0 1362.0,167.0\" fill=\"currentColor\"/>\n</g>\n\n<g class=\"displacy-arrow\">\n    <path class=\"displacy-arc\" id=\"arrow-bb40f28e6d5e47809530d1061935ec8f-0-18\" stroke-width=\"2px\" d=\"M1400,177.0 C1400,142.0 1430.0,142.0 1430.0,177.0\" fill=\"none\" stroke=\"currentColor\"/>\n    <text dy=\"1.25em\" style=\"font-size: 0.8em; letter-spacing: 1px\">\n        <textPath xlink:href=\"#arrow-bb40f28e6d5e47809530d1061935ec8f-0-18\" class=\"displacy-label\" startOffset=\"50%\" side=\"left\" fill=\"currentColor\" text-anchor=\"middle\">xcomp</textPath>\n    </text>\n    <path class=\"displacy-arrowhead\" d=\"M1430.0,179.0 L1438.0,167.0 1422.0,167.0\" fill=\"currentColor\"/>\n</g>\n\n<g class=\"displacy-arrow\">\n    <path class=\"displacy-arc\" id=\"arrow-bb40f28e6d5e47809530d1061935ec8f-0-19\" stroke-width=\"2px\" d=\"M1540,177.0 C1540,142.0 1570.0,142.0 1570.0,177.0\" fill=\"none\" stroke=\"currentColor\"/>\n    <text dy=\"1.25em\" style=\"font-size: 0.8em; letter-spacing: 1px\">\n        <textPath xlink:href=\"#arrow-bb40f28e6d5e47809530d1061935ec8f-0-19\" class=\"displacy-label\" startOffset=\"50%\" side=\"left\" fill=\"currentColor\" text-anchor=\"middle\">det</textPath>\n    </text>\n    <path class=\"displacy-arrowhead\" d=\"M1540,179.0 L1532,167.0 1548,167.0\" fill=\"currentColor\"/>\n</g>\n\n<g class=\"displacy-arrow\">\n    <path class=\"displacy-arc\" id=\"arrow-bb40f28e6d5e47809530d1061935ec8f-0-20\" stroke-width=\"2px\" d=\"M1470,177.0 C1470,107.0 1575.0,107.0 1575.0,177.0\" fill=\"none\" stroke=\"currentColor\"/>\n    <text dy=\"1.25em\" style=\"font-size: 0.8em; letter-spacing: 1px\">\n        <textPath xlink:href=\"#arrow-bb40f28e6d5e47809530d1061935ec8f-0-20\" class=\"displacy-label\" startOffset=\"50%\" side=\"left\" fill=\"currentColor\" text-anchor=\"middle\">obj</textPath>\n    </text>\n    <path class=\"displacy-arrowhead\" d=\"M1575.0,179.0 L1583.0,167.0 1567.0,167.0\" fill=\"currentColor\"/>\n</g>\n\n<g class=\"displacy-arrow\">\n    <path class=\"displacy-arc\" id=\"arrow-bb40f28e6d5e47809530d1061935ec8f-0-21\" stroke-width=\"2px\" d=\"M1680,177.0 C1680,107.0 1785.0,107.0 1785.0,177.0\" fill=\"none\" stroke=\"currentColor\"/>\n    <text dy=\"1.25em\" style=\"font-size: 0.8em; letter-spacing: 1px\">\n        <textPath xlink:href=\"#arrow-bb40f28e6d5e47809530d1061935ec8f-0-21\" class=\"displacy-label\" startOffset=\"50%\" side=\"left\" fill=\"currentColor\" text-anchor=\"middle\">advmod</textPath>\n    </text>\n    <path class=\"displacy-arrowhead\" d=\"M1680,179.0 L1672,167.0 1688,167.0\" fill=\"currentColor\"/>\n</g>\n\n<g class=\"displacy-arrow\">\n    <path class=\"displacy-arc\" id=\"arrow-bb40f28e6d5e47809530d1061935ec8f-0-22\" stroke-width=\"2px\" d=\"M1750,177.0 C1750,142.0 1780.0,142.0 1780.0,177.0\" fill=\"none\" stroke=\"currentColor\"/>\n    <text dy=\"1.25em\" style=\"font-size: 0.8em; letter-spacing: 1px\">\n        <textPath xlink:href=\"#arrow-bb40f28e6d5e47809530d1061935ec8f-0-22\" class=\"displacy-label\" startOffset=\"50%\" side=\"left\" fill=\"currentColor\" text-anchor=\"middle\">case</textPath>\n    </text>\n    <path class=\"displacy-arrowhead\" d=\"M1750,179.0 L1742,167.0 1758,167.0\" fill=\"currentColor\"/>\n</g>\n\n<g class=\"displacy-arrow\">\n    <path class=\"displacy-arc\" id=\"arrow-bb40f28e6d5e47809530d1061935ec8f-0-23\" stroke-width=\"2px\" d=\"M1820,177.0 C1820,142.0 1850.0,142.0 1850.0,177.0\" fill=\"none\" stroke=\"currentColor\"/>\n    <text dy=\"1.25em\" style=\"font-size: 0.8em; letter-spacing: 1px\">\n        <textPath xlink:href=\"#arrow-bb40f28e6d5e47809530d1061935ec8f-0-23\" class=\"displacy-label\" startOffset=\"50%\" side=\"left\" fill=\"currentColor\" text-anchor=\"middle\">obl</textPath>\n    </text>\n    <path class=\"displacy-arrowhead\" d=\"M1820,179.0 L1812,167.0 1828,167.0\" fill=\"currentColor\"/>\n</g>\n\n<g class=\"displacy-arrow\">\n    <path class=\"displacy-arc\" id=\"arrow-bb40f28e6d5e47809530d1061935ec8f-0-24\" stroke-width=\"2px\" d=\"M1890,177.0 C1890,142.0 1920.0,142.0 1920.0,177.0\" fill=\"none\" stroke=\"currentColor\"/>\n    <text dy=\"1.25em\" style=\"font-size: 0.8em; letter-spacing: 1px\">\n        <textPath xlink:href=\"#arrow-bb40f28e6d5e47809530d1061935ec8f-0-24\" class=\"displacy-label\" startOffset=\"50%\" side=\"left\" fill=\"currentColor\" text-anchor=\"middle\">nsubj</textPath>\n    </text>\n    <path class=\"displacy-arrowhead\" d=\"M1920.0,179.0 L1928.0,167.0 1912.0,167.0\" fill=\"currentColor\"/>\n</g>\n\n<g class=\"displacy-arrow\">\n    <path class=\"displacy-arc\" id=\"arrow-bb40f28e6d5e47809530d1061935ec8f-0-25\" stroke-width=\"2px\" d=\"M2030,177.0 C2030,107.0 2205.0,107.0 2205.0,177.0\" fill=\"none\" stroke=\"currentColor\"/>\n    <text dy=\"1.25em\" style=\"font-size: 0.8em; letter-spacing: 1px\">\n        <textPath xlink:href=\"#arrow-bb40f28e6d5e47809530d1061935ec8f-0-25\" class=\"displacy-label\" startOffset=\"50%\" side=\"left\" fill=\"currentColor\" text-anchor=\"middle\">case</textPath>\n    </text>\n    <path class=\"displacy-arrowhead\" d=\"M2030,179.0 L2022,167.0 2038,167.0\" fill=\"currentColor\"/>\n</g>\n\n<g class=\"displacy-arrow\">\n    <path class=\"displacy-arc\" id=\"arrow-bb40f28e6d5e47809530d1061935ec8f-0-26\" stroke-width=\"2px\" d=\"M2100,177.0 C2100,142.0 2130.0,142.0 2130.0,177.0\" fill=\"none\" stroke=\"currentColor\"/>\n    <text dy=\"1.25em\" style=\"font-size: 0.8em; letter-spacing: 1px\">\n        <textPath xlink:href=\"#arrow-bb40f28e6d5e47809530d1061935ec8f-0-26\" class=\"displacy-label\" startOffset=\"50%\" side=\"left\" fill=\"currentColor\" text-anchor=\"middle\">advmod</textPath>\n    </text>\n    <path class=\"displacy-arrowhead\" d=\"M2100,179.0 L2092,167.0 2108,167.0\" fill=\"currentColor\"/>\n</g>\n\n<g class=\"displacy-arrow\">\n    <path class=\"displacy-arc\" id=\"arrow-bb40f28e6d5e47809530d1061935ec8f-0-27\" stroke-width=\"2px\" d=\"M2170,177.0 C2170,142.0 2200.0,142.0 2200.0,177.0\" fill=\"none\" stroke=\"currentColor\"/>\n    <text dy=\"1.25em\" style=\"font-size: 0.8em; letter-spacing: 1px\">\n        <textPath xlink:href=\"#arrow-bb40f28e6d5e47809530d1061935ec8f-0-27\" class=\"displacy-label\" startOffset=\"50%\" side=\"left\" fill=\"currentColor\" text-anchor=\"middle\">acl</textPath>\n    </text>\n    <path class=\"displacy-arrowhead\" d=\"M2170,179.0 L2162,167.0 2178,167.0\" fill=\"currentColor\"/>\n</g>\n\n<g class=\"displacy-arrow\">\n    <path class=\"displacy-arc\" id=\"arrow-bb40f28e6d5e47809530d1061935ec8f-0-28\" stroke-width=\"2px\" d=\"M1960,177.0 C1960,72.0 2210.0,72.0 2210.0,177.0\" fill=\"none\" stroke=\"currentColor\"/>\n    <text dy=\"1.25em\" style=\"font-size: 0.8em; letter-spacing: 1px\">\n        <textPath xlink:href=\"#arrow-bb40f28e6d5e47809530d1061935ec8f-0-28\" class=\"displacy-label\" startOffset=\"50%\" side=\"left\" fill=\"currentColor\" text-anchor=\"middle\">nmod</textPath>\n    </text>\n    <path class=\"displacy-arrowhead\" d=\"M2210.0,179.0 L2218.0,167.0 2202.0,167.0\" fill=\"currentColor\"/>\n</g>\n\n<g class=\"displacy-arrow\">\n    <path class=\"displacy-arc\" id=\"arrow-bb40f28e6d5e47809530d1061935ec8f-0-29\" stroke-width=\"2px\" d=\"M2310,177.0 C2310,107.0 2415.0,107.0 2415.0,177.0\" fill=\"none\" stroke=\"currentColor\"/>\n    <text dy=\"1.25em\" style=\"font-size: 0.8em; letter-spacing: 1px\">\n        <textPath xlink:href=\"#arrow-bb40f28e6d5e47809530d1061935ec8f-0-29\" class=\"displacy-label\" startOffset=\"50%\" side=\"left\" fill=\"currentColor\" text-anchor=\"middle\">advmod</textPath>\n    </text>\n    <path class=\"displacy-arrowhead\" d=\"M2310,179.0 L2302,167.0 2318,167.0\" fill=\"currentColor\"/>\n</g>\n\n<g class=\"displacy-arrow\">\n    <path class=\"displacy-arc\" id=\"arrow-bb40f28e6d5e47809530d1061935ec8f-0-30\" stroke-width=\"2px\" d=\"M2310,177.0 C2310,142.0 2340.0,142.0 2340.0,177.0\" fill=\"none\" stroke=\"currentColor\"/>\n    <text dy=\"1.25em\" style=\"font-size: 0.8em; letter-spacing: 1px\">\n        <textPath xlink:href=\"#arrow-bb40f28e6d5e47809530d1061935ec8f-0-30\" class=\"displacy-label\" startOffset=\"50%\" side=\"left\" fill=\"currentColor\" text-anchor=\"middle\">advmod</textPath>\n    </text>\n    <path class=\"displacy-arrowhead\" d=\"M2340.0,179.0 L2348.0,167.0 2332.0,167.0\" fill=\"currentColor\"/>\n</g>\n\n<g class=\"displacy-arrow\">\n    <path class=\"displacy-arc\" id=\"arrow-bb40f28e6d5e47809530d1061935ec8f-0-31\" stroke-width=\"2px\" d=\"M1890,177.0 C1890,37.0 2425.0,37.0 2425.0,177.0\" fill=\"none\" stroke=\"currentColor\"/>\n    <text dy=\"1.25em\" style=\"font-size: 0.8em; letter-spacing: 1px\">\n        <textPath xlink:href=\"#arrow-bb40f28e6d5e47809530d1061935ec8f-0-31\" class=\"displacy-label\" startOffset=\"50%\" side=\"left\" fill=\"currentColor\" text-anchor=\"middle\">conj</textPath>\n    </text>\n    <path class=\"displacy-arrowhead\" d=\"M2425.0,179.0 L2433.0,167.0 2417.0,167.0\" fill=\"currentColor\"/>\n</g>\n\n<g class=\"displacy-arrow\">\n    <path class=\"displacy-arc\" id=\"arrow-bb40f28e6d5e47809530d1061935ec8f-0-32\" stroke-width=\"2px\" d=\"M2520,177.0 C2520,107.0 2625.0,107.0 2625.0,177.0\" fill=\"none\" stroke=\"currentColor\"/>\n    <text dy=\"1.25em\" style=\"font-size: 0.8em; letter-spacing: 1px\">\n        <textPath xlink:href=\"#arrow-bb40f28e6d5e47809530d1061935ec8f-0-32\" class=\"displacy-label\" startOffset=\"50%\" side=\"left\" fill=\"currentColor\" text-anchor=\"middle\">amod</textPath>\n    </text>\n    <path class=\"displacy-arrowhead\" d=\"M2520,179.0 L2512,167.0 2528,167.0\" fill=\"currentColor\"/>\n</g>\n\n<g class=\"displacy-arrow\">\n    <path class=\"displacy-arc\" id=\"arrow-bb40f28e6d5e47809530d1061935ec8f-0-33\" stroke-width=\"2px\" d=\"M2590,177.0 C2590,142.0 2620.0,142.0 2620.0,177.0\" fill=\"none\" stroke=\"currentColor\"/>\n    <text dy=\"1.25em\" style=\"font-size: 0.8em; letter-spacing: 1px\">\n        <textPath xlink:href=\"#arrow-bb40f28e6d5e47809530d1061935ec8f-0-33\" class=\"displacy-label\" startOffset=\"50%\" side=\"left\" fill=\"currentColor\" text-anchor=\"middle\">amod</textPath>\n    </text>\n    <path class=\"displacy-arrowhead\" d=\"M2590,179.0 L2582,167.0 2598,167.0\" fill=\"currentColor\"/>\n</g>\n\n<g class=\"displacy-arrow\">\n    <path class=\"displacy-arc\" id=\"arrow-bb40f28e6d5e47809530d1061935ec8f-0-34\" stroke-width=\"2px\" d=\"M2450,177.0 C2450,72.0 2630.0,72.0 2630.0,177.0\" fill=\"none\" stroke=\"currentColor\"/>\n    <text dy=\"1.25em\" style=\"font-size: 0.8em; letter-spacing: 1px\">\n        <textPath xlink:href=\"#arrow-bb40f28e6d5e47809530d1061935ec8f-0-34\" class=\"displacy-label\" startOffset=\"50%\" side=\"left\" fill=\"currentColor\" text-anchor=\"middle\">nsubj</textPath>\n    </text>\n    <path class=\"displacy-arrowhead\" d=\"M2630.0,179.0 L2638.0,167.0 2622.0,167.0\" fill=\"currentColor\"/>\n</g>\n\n<g class=\"displacy-arrow\">\n    <path class=\"displacy-arc\" id=\"arrow-bb40f28e6d5e47809530d1061935ec8f-0-35\" stroke-width=\"2px\" d=\"M2730,177.0 C2730,142.0 2760.0,142.0 2760.0,177.0\" fill=\"none\" stroke=\"currentColor\"/>\n    <text dy=\"1.25em\" style=\"font-size: 0.8em; letter-spacing: 1px\">\n        <textPath xlink:href=\"#arrow-bb40f28e6d5e47809530d1061935ec8f-0-35\" class=\"displacy-label\" startOffset=\"50%\" side=\"left\" fill=\"currentColor\" text-anchor=\"middle\">amod</textPath>\n    </text>\n    <path class=\"displacy-arrowhead\" d=\"M2730,179.0 L2722,167.0 2738,167.0\" fill=\"currentColor\"/>\n</g>\n\n<g class=\"displacy-arrow\">\n    <path class=\"displacy-arc\" id=\"arrow-bb40f28e6d5e47809530d1061935ec8f-0-36\" stroke-width=\"2px\" d=\"M2660,177.0 C2660,107.0 2765.0,107.0 2765.0,177.0\" fill=\"none\" stroke=\"currentColor\"/>\n    <text dy=\"1.25em\" style=\"font-size: 0.8em; letter-spacing: 1px\">\n        <textPath xlink:href=\"#arrow-bb40f28e6d5e47809530d1061935ec8f-0-36\" class=\"displacy-label\" startOffset=\"50%\" side=\"left\" fill=\"currentColor\" text-anchor=\"middle\">nmod</textPath>\n    </text>\n    <path class=\"displacy-arrowhead\" d=\"M2765.0,179.0 L2773.0,167.0 2757.0,167.0\" fill=\"currentColor\"/>\n</g>\n</svg></span>"
     },
     "metadata": {},
     "output_type": "display_data"
    }
   ],
   "source": [
    "show_dependency(df['text'][335])"
   ],
   "metadata": {
    "collapsed": false,
    "pycharm": {
     "name": "#%%\n"
    }
   }
  },
  {
   "cell_type": "code",
   "execution_count": 142,
   "outputs": [
    {
     "data": {
      "text/plain": "'✔️Мы ни в коем случае не имеем права показывать слабину террористам из Хохлостана! Даёшь им палец, а они пытаются откусить всю руку! Только у них появляется повод для так называемой «перемоги» - сразу же случается очередной жирный всплеск русофобской активности.'"
     },
     "execution_count": 142,
     "metadata": {},
     "output_type": "execute_result"
    }
   ],
   "source": [
    "df['text'][335]"
   ],
   "metadata": {
    "collapsed": false,
    "pycharm": {
     "name": "#%%\n"
    }
   }
  },
  {
   "cell_type": "code",
   "execution_count": 143,
   "outputs": [
    {
     "data": {
      "text/plain": "[[мы, не, ни, имеем],\n [они, пытаются, откусить],\n [повод, появляется],\n [всплеск, сразу, -, случается]]"
     },
     "execution_count": 143,
     "metadata": {},
     "output_type": "execute_result"
    }
   ],
   "source": [
    "collect_core(df['text'][335])"
   ],
   "metadata": {
    "collapsed": false,
    "pycharm": {
     "name": "#%%\n"
    }
   }
  },
  {
   "cell_type": "markdown",
   "source": [
    "## Appos"
   ],
   "metadata": {
    "collapsed": false,
    "pycharm": {
     "name": "#%% md\n"
    }
   }
  },
  {
   "cell_type": "code",
   "execution_count": 144,
   "outputs": [],
   "source": [
    "sent5 = 'Карл Четвертый, римский император и чешский король, царствовал в XIV веке'"
   ],
   "metadata": {
    "collapsed": false,
    "pycharm": {
     "name": "#%%\n"
    }
   }
  },
  {
   "cell_type": "code",
   "execution_count": 145,
   "outputs": [],
   "source": [
    "sent4 = 'я думаю о ласковых и милых котиках и мечтаю про них, а брат хочет в отпуск '"
   ],
   "metadata": {
    "collapsed": false,
    "pycharm": {
     "name": "#%%\n"
    }
   }
  },
  {
   "cell_type": "code",
   "execution_count": 146,
   "outputs": [
    {
     "name": "stdout",
     "output_type": "stream",
     "text": [
      "Token           | Relation | Head            | Children            \n",
      "----------------------------------------------------------------------\n",
      "Карл            | nsubj    | царствовал      | [Четвертый, император, король, ,]\n",
      "Четвертый       | appos    | Карл            | []                  \n",
      ",               | punct    | император       | []                  \n",
      "римский         | amod     | император       | []                  \n",
      "император       | conj     | Карл            | [,, римский]        \n",
      "и               | cc       | король          | []                  \n",
      "чешский         | amod     | король          | []                  \n",
      "король          | conj     | Карл            | [и, чешский]        \n",
      ",               | punct    | Карл            | []                  \n",
      "царствовал      | ROOT     | царствовал      | [Карл, веке]        \n",
      "в               | case     | веке            | []                  \n",
      "XIV             | amod     | веке            | []                  \n",
      "веке            | obl      | царствовал      | [в, XIV]            \n"
     ]
    },
    {
     "data": {
      "text/plain": "<IPython.core.display.HTML object>",
      "text/html": "<span class=\"tex2jax_ignore\"><svg xmlns=\"http://www.w3.org/2000/svg\" xmlns:xlink=\"http://www.w3.org/1999/xlink\" xml:lang=\"ru\" id=\"7d55e1a7aa534550bafce947f14c3852-0\" class=\"displacy\" width=\"820\" height=\"277.0\" direction=\"ltr\" style=\"max-width: none; height: 277.0px; color: #000000; background: #ffffff; font-family: Arial; direction: ltr\">\n<text class=\"displacy-token\" fill=\"currentColor\" text-anchor=\"middle\" y=\"187.0\">\n    <tspan class=\"displacy-word\" fill=\"currentColor\" x=\"50\">Карл</tspan>\n    <tspan class=\"displacy-tag\" dy=\"2em\" fill=\"currentColor\" x=\"50\">PROPN</tspan>\n</text>\n\n<text class=\"displacy-token\" fill=\"currentColor\" text-anchor=\"middle\" y=\"187.0\">\n    <tspan class=\"displacy-word\" fill=\"currentColor\" x=\"120\">Четвертый,</tspan>\n    <tspan class=\"displacy-tag\" dy=\"2em\" fill=\"currentColor\" x=\"120\">PROPN</tspan>\n</text>\n\n<text class=\"displacy-token\" fill=\"currentColor\" text-anchor=\"middle\" y=\"187.0\">\n    <tspan class=\"displacy-word\" fill=\"currentColor\" x=\"190\">римский</tspan>\n    <tspan class=\"displacy-tag\" dy=\"2em\" fill=\"currentColor\" x=\"190\">ADJ</tspan>\n</text>\n\n<text class=\"displacy-token\" fill=\"currentColor\" text-anchor=\"middle\" y=\"187.0\">\n    <tspan class=\"displacy-word\" fill=\"currentColor\" x=\"260\">император</tspan>\n    <tspan class=\"displacy-tag\" dy=\"2em\" fill=\"currentColor\" x=\"260\">NOUN</tspan>\n</text>\n\n<text class=\"displacy-token\" fill=\"currentColor\" text-anchor=\"middle\" y=\"187.0\">\n    <tspan class=\"displacy-word\" fill=\"currentColor\" x=\"330\">и</tspan>\n    <tspan class=\"displacy-tag\" dy=\"2em\" fill=\"currentColor\" x=\"330\">CCONJ</tspan>\n</text>\n\n<text class=\"displacy-token\" fill=\"currentColor\" text-anchor=\"middle\" y=\"187.0\">\n    <tspan class=\"displacy-word\" fill=\"currentColor\" x=\"400\">чешский</tspan>\n    <tspan class=\"displacy-tag\" dy=\"2em\" fill=\"currentColor\" x=\"400\">ADJ</tspan>\n</text>\n\n<text class=\"displacy-token\" fill=\"currentColor\" text-anchor=\"middle\" y=\"187.0\">\n    <tspan class=\"displacy-word\" fill=\"currentColor\" x=\"470\">король,</tspan>\n    <tspan class=\"displacy-tag\" dy=\"2em\" fill=\"currentColor\" x=\"470\">NOUN</tspan>\n</text>\n\n<text class=\"displacy-token\" fill=\"currentColor\" text-anchor=\"middle\" y=\"187.0\">\n    <tspan class=\"displacy-word\" fill=\"currentColor\" x=\"540\">царствовал</tspan>\n    <tspan class=\"displacy-tag\" dy=\"2em\" fill=\"currentColor\" x=\"540\">VERB</tspan>\n</text>\n\n<text class=\"displacy-token\" fill=\"currentColor\" text-anchor=\"middle\" y=\"187.0\">\n    <tspan class=\"displacy-word\" fill=\"currentColor\" x=\"610\">в</tspan>\n    <tspan class=\"displacy-tag\" dy=\"2em\" fill=\"currentColor\" x=\"610\">ADP</tspan>\n</text>\n\n<text class=\"displacy-token\" fill=\"currentColor\" text-anchor=\"middle\" y=\"187.0\">\n    <tspan class=\"displacy-word\" fill=\"currentColor\" x=\"680\">XIV</tspan>\n    <tspan class=\"displacy-tag\" dy=\"2em\" fill=\"currentColor\" x=\"680\">ADJ</tspan>\n</text>\n\n<text class=\"displacy-token\" fill=\"currentColor\" text-anchor=\"middle\" y=\"187.0\">\n    <tspan class=\"displacy-word\" fill=\"currentColor\" x=\"750\">веке</tspan>\n    <tspan class=\"displacy-tag\" dy=\"2em\" fill=\"currentColor\" x=\"750\">NOUN</tspan>\n</text>\n\n<g class=\"displacy-arrow\">\n    <path class=\"displacy-arc\" id=\"arrow-7d55e1a7aa534550bafce947f14c3852-0-0\" stroke-width=\"2px\" d=\"M70,142.0 C70,2.0 540.0,2.0 540.0,142.0\" fill=\"none\" stroke=\"currentColor\"/>\n    <text dy=\"1.25em\" style=\"font-size: 0.8em; letter-spacing: 1px\">\n        <textPath xlink:href=\"#arrow-7d55e1a7aa534550bafce947f14c3852-0-0\" class=\"displacy-label\" startOffset=\"50%\" side=\"left\" fill=\"currentColor\" text-anchor=\"middle\">nsubj</textPath>\n    </text>\n    <path class=\"displacy-arrowhead\" d=\"M70,144.0 L62,132.0 78,132.0\" fill=\"currentColor\"/>\n</g>\n\n<g class=\"displacy-arrow\">\n    <path class=\"displacy-arc\" id=\"arrow-7d55e1a7aa534550bafce947f14c3852-0-1\" stroke-width=\"2px\" d=\"M70,142.0 C70,107.0 105.0,107.0 105.0,142.0\" fill=\"none\" stroke=\"currentColor\"/>\n    <text dy=\"1.25em\" style=\"font-size: 0.8em; letter-spacing: 1px\">\n        <textPath xlink:href=\"#arrow-7d55e1a7aa534550bafce947f14c3852-0-1\" class=\"displacy-label\" startOffset=\"50%\" side=\"left\" fill=\"currentColor\" text-anchor=\"middle\">appos</textPath>\n    </text>\n    <path class=\"displacy-arrowhead\" d=\"M105.0,144.0 L113.0,132.0 97.0,132.0\" fill=\"currentColor\"/>\n</g>\n\n<g class=\"displacy-arrow\">\n    <path class=\"displacy-arc\" id=\"arrow-7d55e1a7aa534550bafce947f14c3852-0-2\" stroke-width=\"2px\" d=\"M210,142.0 C210,107.0 245.0,107.0 245.0,142.0\" fill=\"none\" stroke=\"currentColor\"/>\n    <text dy=\"1.25em\" style=\"font-size: 0.8em; letter-spacing: 1px\">\n        <textPath xlink:href=\"#arrow-7d55e1a7aa534550bafce947f14c3852-0-2\" class=\"displacy-label\" startOffset=\"50%\" side=\"left\" fill=\"currentColor\" text-anchor=\"middle\">amod</textPath>\n    </text>\n    <path class=\"displacy-arrowhead\" d=\"M210,144.0 L202,132.0 218,132.0\" fill=\"currentColor\"/>\n</g>\n\n<g class=\"displacy-arrow\">\n    <path class=\"displacy-arc\" id=\"arrow-7d55e1a7aa534550bafce947f14c3852-0-3\" stroke-width=\"2px\" d=\"M70,142.0 C70,72.0 250.0,72.0 250.0,142.0\" fill=\"none\" stroke=\"currentColor\"/>\n    <text dy=\"1.25em\" style=\"font-size: 0.8em; letter-spacing: 1px\">\n        <textPath xlink:href=\"#arrow-7d55e1a7aa534550bafce947f14c3852-0-3\" class=\"displacy-label\" startOffset=\"50%\" side=\"left\" fill=\"currentColor\" text-anchor=\"middle\">conj</textPath>\n    </text>\n    <path class=\"displacy-arrowhead\" d=\"M250.0,144.0 L258.0,132.0 242.0,132.0\" fill=\"currentColor\"/>\n</g>\n\n<g class=\"displacy-arrow\">\n    <path class=\"displacy-arc\" id=\"arrow-7d55e1a7aa534550bafce947f14c3852-0-4\" stroke-width=\"2px\" d=\"M350,142.0 C350,72.0 460.0,72.0 460.0,142.0\" fill=\"none\" stroke=\"currentColor\"/>\n    <text dy=\"1.25em\" style=\"font-size: 0.8em; letter-spacing: 1px\">\n        <textPath xlink:href=\"#arrow-7d55e1a7aa534550bafce947f14c3852-0-4\" class=\"displacy-label\" startOffset=\"50%\" side=\"left\" fill=\"currentColor\" text-anchor=\"middle\">cc</textPath>\n    </text>\n    <path class=\"displacy-arrowhead\" d=\"M350,144.0 L342,132.0 358,132.0\" fill=\"currentColor\"/>\n</g>\n\n<g class=\"displacy-arrow\">\n    <path class=\"displacy-arc\" id=\"arrow-7d55e1a7aa534550bafce947f14c3852-0-5\" stroke-width=\"2px\" d=\"M420,142.0 C420,107.0 455.0,107.0 455.0,142.0\" fill=\"none\" stroke=\"currentColor\"/>\n    <text dy=\"1.25em\" style=\"font-size: 0.8em; letter-spacing: 1px\">\n        <textPath xlink:href=\"#arrow-7d55e1a7aa534550bafce947f14c3852-0-5\" class=\"displacy-label\" startOffset=\"50%\" side=\"left\" fill=\"currentColor\" text-anchor=\"middle\">amod</textPath>\n    </text>\n    <path class=\"displacy-arrowhead\" d=\"M420,144.0 L412,132.0 428,132.0\" fill=\"currentColor\"/>\n</g>\n\n<g class=\"displacy-arrow\">\n    <path class=\"displacy-arc\" id=\"arrow-7d55e1a7aa534550bafce947f14c3852-0-6\" stroke-width=\"2px\" d=\"M70,142.0 C70,37.0 465.0,37.0 465.0,142.0\" fill=\"none\" stroke=\"currentColor\"/>\n    <text dy=\"1.25em\" style=\"font-size: 0.8em; letter-spacing: 1px\">\n        <textPath xlink:href=\"#arrow-7d55e1a7aa534550bafce947f14c3852-0-6\" class=\"displacy-label\" startOffset=\"50%\" side=\"left\" fill=\"currentColor\" text-anchor=\"middle\">conj</textPath>\n    </text>\n    <path class=\"displacy-arrowhead\" d=\"M465.0,144.0 L473.0,132.0 457.0,132.0\" fill=\"currentColor\"/>\n</g>\n\n<g class=\"displacy-arrow\">\n    <path class=\"displacy-arc\" id=\"arrow-7d55e1a7aa534550bafce947f14c3852-0-7\" stroke-width=\"2px\" d=\"M630,142.0 C630,72.0 740.0,72.0 740.0,142.0\" fill=\"none\" stroke=\"currentColor\"/>\n    <text dy=\"1.25em\" style=\"font-size: 0.8em; letter-spacing: 1px\">\n        <textPath xlink:href=\"#arrow-7d55e1a7aa534550bafce947f14c3852-0-7\" class=\"displacy-label\" startOffset=\"50%\" side=\"left\" fill=\"currentColor\" text-anchor=\"middle\">case</textPath>\n    </text>\n    <path class=\"displacy-arrowhead\" d=\"M630,144.0 L622,132.0 638,132.0\" fill=\"currentColor\"/>\n</g>\n\n<g class=\"displacy-arrow\">\n    <path class=\"displacy-arc\" id=\"arrow-7d55e1a7aa534550bafce947f14c3852-0-8\" stroke-width=\"2px\" d=\"M700,142.0 C700,107.0 735.0,107.0 735.0,142.0\" fill=\"none\" stroke=\"currentColor\"/>\n    <text dy=\"1.25em\" style=\"font-size: 0.8em; letter-spacing: 1px\">\n        <textPath xlink:href=\"#arrow-7d55e1a7aa534550bafce947f14c3852-0-8\" class=\"displacy-label\" startOffset=\"50%\" side=\"left\" fill=\"currentColor\" text-anchor=\"middle\">amod</textPath>\n    </text>\n    <path class=\"displacy-arrowhead\" d=\"M700,144.0 L692,132.0 708,132.0\" fill=\"currentColor\"/>\n</g>\n\n<g class=\"displacy-arrow\">\n    <path class=\"displacy-arc\" id=\"arrow-7d55e1a7aa534550bafce947f14c3852-0-9\" stroke-width=\"2px\" d=\"M560,142.0 C560,37.0 745.0,37.0 745.0,142.0\" fill=\"none\" stroke=\"currentColor\"/>\n    <text dy=\"1.25em\" style=\"font-size: 0.8em; letter-spacing: 1px\">\n        <textPath xlink:href=\"#arrow-7d55e1a7aa534550bafce947f14c3852-0-9\" class=\"displacy-label\" startOffset=\"50%\" side=\"left\" fill=\"currentColor\" text-anchor=\"middle\">obl</textPath>\n    </text>\n    <path class=\"displacy-arrowhead\" d=\"M745.0,144.0 L753.0,132.0 737.0,132.0\" fill=\"currentColor\"/>\n</g>\n</svg></span>"
     },
     "metadata": {},
     "output_type": "display_data"
    }
   ],
   "source": [
    "show_dependency(sent5)"
   ],
   "metadata": {
    "collapsed": false,
    "pycharm": {
     "name": "#%%\n"
    }
   }
  },
  {
   "cell_type": "markdown",
   "source": [
    "![Screenshot_1.png](pics/Screenshot_1.png)"
   ],
   "metadata": {
    "collapsed": false,
    "pycharm": {
     "name": "#%% md\n"
    }
   }
  },
  {
   "cell_type": "code",
   "execution_count": 147,
   "outputs": [],
   "source": [
    "sent6 = 'Пришел Михаил , мой брат и кузен Давида .'"
   ],
   "metadata": {
    "collapsed": false,
    "pycharm": {
     "name": "#%%\n"
    }
   }
  },
  {
   "cell_type": "code",
   "execution_count": 148,
   "outputs": [
    {
     "name": "stdout",
     "output_type": "stream",
     "text": [
      "Token           | Relation | Head            | Children            \n",
      "----------------------------------------------------------------------\n",
      "Пришел          | ROOT     | Пришел          | [Михаил, .]         \n",
      "Михаил          | nsubj    | Пришел          | [брат, кузен]       \n",
      ",               | punct    | брат            | []                  \n",
      "мой             | det      | брат            | []                  \n",
      "брат            | conj     | Михаил          | [,, мой]            \n",
      "и               | cc       | кузен           | []                  \n",
      "кузен           | conj     | Михаил          | [и, Давида]         \n",
      "Давида          | nmod     | кузен           | []                  \n",
      ".               | punct    | Пришел          | []                  \n"
     ]
    },
    {
     "data": {
      "text/plain": "<IPython.core.display.HTML object>",
      "text/html": "<span class=\"tex2jax_ignore\"><svg xmlns=\"http://www.w3.org/2000/svg\" xmlns:xlink=\"http://www.w3.org/1999/xlink\" xml:lang=\"ru\" id=\"8a0f0a5548204e88b4b59c1544b628fb-0\" class=\"displacy\" width=\"540\" height=\"242.0\" direction=\"ltr\" style=\"max-width: none; height: 242.0px; color: #000000; background: #ffffff; font-family: Arial; direction: ltr\">\n<text class=\"displacy-token\" fill=\"currentColor\" text-anchor=\"middle\" y=\"152.0\">\n    <tspan class=\"displacy-word\" fill=\"currentColor\" x=\"50\">Пришел</tspan>\n    <tspan class=\"displacy-tag\" dy=\"2em\" fill=\"currentColor\" x=\"50\">VERB</tspan>\n</text>\n\n<text class=\"displacy-token\" fill=\"currentColor\" text-anchor=\"middle\" y=\"152.0\">\n    <tspan class=\"displacy-word\" fill=\"currentColor\" x=\"120\">Михаил ,</tspan>\n    <tspan class=\"displacy-tag\" dy=\"2em\" fill=\"currentColor\" x=\"120\">PROPN</tspan>\n</text>\n\n<text class=\"displacy-token\" fill=\"currentColor\" text-anchor=\"middle\" y=\"152.0\">\n    <tspan class=\"displacy-word\" fill=\"currentColor\" x=\"190\">мой</tspan>\n    <tspan class=\"displacy-tag\" dy=\"2em\" fill=\"currentColor\" x=\"190\">DET</tspan>\n</text>\n\n<text class=\"displacy-token\" fill=\"currentColor\" text-anchor=\"middle\" y=\"152.0\">\n    <tspan class=\"displacy-word\" fill=\"currentColor\" x=\"260\">брат</tspan>\n    <tspan class=\"displacy-tag\" dy=\"2em\" fill=\"currentColor\" x=\"260\">NOUN</tspan>\n</text>\n\n<text class=\"displacy-token\" fill=\"currentColor\" text-anchor=\"middle\" y=\"152.0\">\n    <tspan class=\"displacy-word\" fill=\"currentColor\" x=\"330\">и</tspan>\n    <tspan class=\"displacy-tag\" dy=\"2em\" fill=\"currentColor\" x=\"330\">CCONJ</tspan>\n</text>\n\n<text class=\"displacy-token\" fill=\"currentColor\" text-anchor=\"middle\" y=\"152.0\">\n    <tspan class=\"displacy-word\" fill=\"currentColor\" x=\"400\">кузен</tspan>\n    <tspan class=\"displacy-tag\" dy=\"2em\" fill=\"currentColor\" x=\"400\">NOUN</tspan>\n</text>\n\n<text class=\"displacy-token\" fill=\"currentColor\" text-anchor=\"middle\" y=\"152.0\">\n    <tspan class=\"displacy-word\" fill=\"currentColor\" x=\"470\">Давида .</tspan>\n    <tspan class=\"displacy-tag\" dy=\"2em\" fill=\"currentColor\" x=\"470\">PROPN</tspan>\n</text>\n\n<g class=\"displacy-arrow\">\n    <path class=\"displacy-arc\" id=\"arrow-8a0f0a5548204e88b4b59c1544b628fb-0-0\" stroke-width=\"2px\" d=\"M70,107.0 C70,72.0 110.0,72.0 110.0,107.0\" fill=\"none\" stroke=\"currentColor\"/>\n    <text dy=\"1.25em\" style=\"font-size: 0.8em; letter-spacing: 1px\">\n        <textPath xlink:href=\"#arrow-8a0f0a5548204e88b4b59c1544b628fb-0-0\" class=\"displacy-label\" startOffset=\"50%\" side=\"left\" fill=\"currentColor\" text-anchor=\"middle\">nsubj</textPath>\n    </text>\n    <path class=\"displacy-arrowhead\" d=\"M110.0,109.0 L118.0,97.0 102.0,97.0\" fill=\"currentColor\"/>\n</g>\n\n<g class=\"displacy-arrow\">\n    <path class=\"displacy-arc\" id=\"arrow-8a0f0a5548204e88b4b59c1544b628fb-0-1\" stroke-width=\"2px\" d=\"M210,107.0 C210,72.0 250.0,72.0 250.0,107.0\" fill=\"none\" stroke=\"currentColor\"/>\n    <text dy=\"1.25em\" style=\"font-size: 0.8em; letter-spacing: 1px\">\n        <textPath xlink:href=\"#arrow-8a0f0a5548204e88b4b59c1544b628fb-0-1\" class=\"displacy-label\" startOffset=\"50%\" side=\"left\" fill=\"currentColor\" text-anchor=\"middle\">det</textPath>\n    </text>\n    <path class=\"displacy-arrowhead\" d=\"M210,109.0 L202,97.0 218,97.0\" fill=\"currentColor\"/>\n</g>\n\n<g class=\"displacy-arrow\">\n    <path class=\"displacy-arc\" id=\"arrow-8a0f0a5548204e88b4b59c1544b628fb-0-2\" stroke-width=\"2px\" d=\"M140,107.0 C140,37.0 255.0,37.0 255.0,107.0\" fill=\"none\" stroke=\"currentColor\"/>\n    <text dy=\"1.25em\" style=\"font-size: 0.8em; letter-spacing: 1px\">\n        <textPath xlink:href=\"#arrow-8a0f0a5548204e88b4b59c1544b628fb-0-2\" class=\"displacy-label\" startOffset=\"50%\" side=\"left\" fill=\"currentColor\" text-anchor=\"middle\">conj</textPath>\n    </text>\n    <path class=\"displacy-arrowhead\" d=\"M255.0,109.0 L263.0,97.0 247.0,97.0\" fill=\"currentColor\"/>\n</g>\n\n<g class=\"displacy-arrow\">\n    <path class=\"displacy-arc\" id=\"arrow-8a0f0a5548204e88b4b59c1544b628fb-0-3\" stroke-width=\"2px\" d=\"M350,107.0 C350,72.0 390.0,72.0 390.0,107.0\" fill=\"none\" stroke=\"currentColor\"/>\n    <text dy=\"1.25em\" style=\"font-size: 0.8em; letter-spacing: 1px\">\n        <textPath xlink:href=\"#arrow-8a0f0a5548204e88b4b59c1544b628fb-0-3\" class=\"displacy-label\" startOffset=\"50%\" side=\"left\" fill=\"currentColor\" text-anchor=\"middle\">cc</textPath>\n    </text>\n    <path class=\"displacy-arrowhead\" d=\"M350,109.0 L342,97.0 358,97.0\" fill=\"currentColor\"/>\n</g>\n\n<g class=\"displacy-arrow\">\n    <path class=\"displacy-arc\" id=\"arrow-8a0f0a5548204e88b4b59c1544b628fb-0-4\" stroke-width=\"2px\" d=\"M140,107.0 C140,2.0 400.0,2.0 400.0,107.0\" fill=\"none\" stroke=\"currentColor\"/>\n    <text dy=\"1.25em\" style=\"font-size: 0.8em; letter-spacing: 1px\">\n        <textPath xlink:href=\"#arrow-8a0f0a5548204e88b4b59c1544b628fb-0-4\" class=\"displacy-label\" startOffset=\"50%\" side=\"left\" fill=\"currentColor\" text-anchor=\"middle\">conj</textPath>\n    </text>\n    <path class=\"displacy-arrowhead\" d=\"M400.0,109.0 L408.0,97.0 392.0,97.0\" fill=\"currentColor\"/>\n</g>\n\n<g class=\"displacy-arrow\">\n    <path class=\"displacy-arc\" id=\"arrow-8a0f0a5548204e88b4b59c1544b628fb-0-5\" stroke-width=\"2px\" d=\"M420,107.0 C420,72.0 460.0,72.0 460.0,107.0\" fill=\"none\" stroke=\"currentColor\"/>\n    <text dy=\"1.25em\" style=\"font-size: 0.8em; letter-spacing: 1px\">\n        <textPath xlink:href=\"#arrow-8a0f0a5548204e88b4b59c1544b628fb-0-5\" class=\"displacy-label\" startOffset=\"50%\" side=\"left\" fill=\"currentColor\" text-anchor=\"middle\">nmod</textPath>\n    </text>\n    <path class=\"displacy-arrowhead\" d=\"M460.0,109.0 L468.0,97.0 452.0,97.0\" fill=\"currentColor\"/>\n</g>\n</svg></span>"
     },
     "metadata": {},
     "output_type": "display_data"
    }
   ],
   "source": [
    "show_dependency(sent6)"
   ],
   "metadata": {
    "collapsed": false,
    "pycharm": {
     "name": "#%%\n"
    }
   }
  },
  {
   "cell_type": "code",
   "execution_count": 149,
   "outputs": [],
   "source": [
    "def collect_appos(sent):\n",
    "    doc = nlp(clean_text(sent))\n",
    "    dicts = [{'token':token, 'pos':token.pos_, 'text':token.text, 'dep':token.dep_, 'lemma':token.lemma_} for token in doc]\n",
    "    appos_list = [item['token'] for item in dicts if item[\"dep\"] == \"appos\"]\n",
    "    result = []\n",
    "\n",
    "    for appos in appos_list:\n",
    "        flat_name = None\n",
    "        for child in appos.children:\n",
    "            if child.dep_=='flat:name':\n",
    "                flat_name = child\n",
    "\n",
    "        if flat_name:\n",
    "            result.append([appos.head, appos, flat_name])\n",
    "        else:\n",
    "            result.append([appos.head, appos])\n",
    "\n",
    "    return result"
   ],
   "metadata": {
    "collapsed": false,
    "pycharm": {
     "name": "#%%\n"
    }
   }
  },
  {
   "cell_type": "code",
   "execution_count": 150,
   "outputs": [
    {
     "name": "stdout",
     "output_type": "stream",
     "text": [
      "Token           | Relation | Head            | Children            \n",
      "----------------------------------------------------------------------\n",
      "Владимир        | ROOT     | Владимир        | [Путин, президент]  \n",
      "Путин           | appos    | Владимир        | []                  \n",
      ",               | punct    | президент       | []                  \n",
      "российский      | amod     | президент       | []                  \n",
      "президент       | appos    | Владимир        | [,, российский]     \n"
     ]
    },
    {
     "data": {
      "text/plain": "<IPython.core.display.HTML object>",
      "text/html": "<span class=\"tex2jax_ignore\"><svg xmlns=\"http://www.w3.org/2000/svg\" xmlns:xlink=\"http://www.w3.org/1999/xlink\" xml:lang=\"ru\" id=\"7cfb8921f1c441f091222be6b14326ac-0\" class=\"displacy\" width=\"330\" height=\"207.0\" direction=\"ltr\" style=\"max-width: none; height: 207.0px; color: #000000; background: #ffffff; font-family: Arial; direction: ltr\">\n<text class=\"displacy-token\" fill=\"currentColor\" text-anchor=\"middle\" y=\"117.0\">\n    <tspan class=\"displacy-word\" fill=\"currentColor\" x=\"50\">Владимир</tspan>\n    <tspan class=\"displacy-tag\" dy=\"2em\" fill=\"currentColor\" x=\"50\">PROPN</tspan>\n</text>\n\n<text class=\"displacy-token\" fill=\"currentColor\" text-anchor=\"middle\" y=\"117.0\">\n    <tspan class=\"displacy-word\" fill=\"currentColor\" x=\"120\">Путин ,</tspan>\n    <tspan class=\"displacy-tag\" dy=\"2em\" fill=\"currentColor\" x=\"120\">PROPN</tspan>\n</text>\n\n<text class=\"displacy-token\" fill=\"currentColor\" text-anchor=\"middle\" y=\"117.0\">\n    <tspan class=\"displacy-word\" fill=\"currentColor\" x=\"190\">российский</tspan>\n    <tspan class=\"displacy-tag\" dy=\"2em\" fill=\"currentColor\" x=\"190\">ADJ</tspan>\n</text>\n\n<text class=\"displacy-token\" fill=\"currentColor\" text-anchor=\"middle\" y=\"117.0\">\n    <tspan class=\"displacy-word\" fill=\"currentColor\" x=\"260\">президент</tspan>\n    <tspan class=\"displacy-tag\" dy=\"2em\" fill=\"currentColor\" x=\"260\">NOUN</tspan>\n</text>\n\n<g class=\"displacy-arrow\">\n    <path class=\"displacy-arc\" id=\"arrow-7cfb8921f1c441f091222be6b14326ac-0-0\" stroke-width=\"2px\" d=\"M70,72.0 C70,37.0 115.0,37.0 115.0,72.0\" fill=\"none\" stroke=\"currentColor\"/>\n    <text dy=\"1.25em\" style=\"font-size: 0.8em; letter-spacing: 1px\">\n        <textPath xlink:href=\"#arrow-7cfb8921f1c441f091222be6b14326ac-0-0\" class=\"displacy-label\" startOffset=\"50%\" side=\"left\" fill=\"currentColor\" text-anchor=\"middle\">appos</textPath>\n    </text>\n    <path class=\"displacy-arrowhead\" d=\"M115.0,74.0 L123.0,62.0 107.0,62.0\" fill=\"currentColor\"/>\n</g>\n\n<g class=\"displacy-arrow\">\n    <path class=\"displacy-arc\" id=\"arrow-7cfb8921f1c441f091222be6b14326ac-0-1\" stroke-width=\"2px\" d=\"M210,72.0 C210,37.0 255.0,37.0 255.0,72.0\" fill=\"none\" stroke=\"currentColor\"/>\n    <text dy=\"1.25em\" style=\"font-size: 0.8em; letter-spacing: 1px\">\n        <textPath xlink:href=\"#arrow-7cfb8921f1c441f091222be6b14326ac-0-1\" class=\"displacy-label\" startOffset=\"50%\" side=\"left\" fill=\"currentColor\" text-anchor=\"middle\">amod</textPath>\n    </text>\n    <path class=\"displacy-arrowhead\" d=\"M210,74.0 L202,62.0 218,62.0\" fill=\"currentColor\"/>\n</g>\n\n<g class=\"displacy-arrow\">\n    <path class=\"displacy-arc\" id=\"arrow-7cfb8921f1c441f091222be6b14326ac-0-2\" stroke-width=\"2px\" d=\"M70,72.0 C70,2.0 260.0,2.0 260.0,72.0\" fill=\"none\" stroke=\"currentColor\"/>\n    <text dy=\"1.25em\" style=\"font-size: 0.8em; letter-spacing: 1px\">\n        <textPath xlink:href=\"#arrow-7cfb8921f1c441f091222be6b14326ac-0-2\" class=\"displacy-label\" startOffset=\"50%\" side=\"left\" fill=\"currentColor\" text-anchor=\"middle\">appos</textPath>\n    </text>\n    <path class=\"displacy-arrowhead\" d=\"M260.0,74.0 L268.0,62.0 252.0,62.0\" fill=\"currentColor\"/>\n</g>\n</svg></span>"
     },
     "metadata": {},
     "output_type": "display_data"
    }
   ],
   "source": [
    "show_dependency('Владимир Путин , российский президент')"
   ],
   "metadata": {
    "collapsed": false,
    "pycharm": {
     "name": "#%%\n"
    }
   }
  },
  {
   "cell_type": "code",
   "execution_count": 151,
   "outputs": [
    {
     "data": {
      "text/plain": "[[владимир, президент]]"
     },
     "execution_count": 151,
     "metadata": {},
     "output_type": "execute_result"
    }
   ],
   "source": [
    "collect_appos('Владимир Путин , российский президент')"
   ],
   "metadata": {
    "collapsed": false,
    "pycharm": {
     "name": "#%%\n"
    }
   }
  },
  {
   "cell_type": "markdown",
   "source": [
    "## Noun + adj"
   ],
   "metadata": {
    "collapsed": false,
    "pycharm": {
     "name": "#%% md\n"
    }
   }
  },
  {
   "cell_type": "code",
   "execution_count": 152,
   "outputs": [],
   "source": [
    "def collect_amod(sent):\n",
    "    doc = nlp(clean_text(sent))\n",
    "    nouns_phrases = []\n",
    "    dicts = [{'token':token, 'pos':token.pos_, 'text':token.text, 'dep':token.dep_, 'lemma':token.lemma_} for token in doc]\n",
    "    nouns = [item['token'] for item in dicts if item[\"pos\"] == \"NOUN\"]\n",
    "\n",
    "    for noun in nouns:\n",
    "        for child in noun.children:\n",
    "            if child.dep_=='amod':\n",
    "               nouns_phrases.append([child, noun])\n",
    "\n",
    "    return nouns_phrases"
   ],
   "metadata": {
    "collapsed": false,
    "pycharm": {
     "name": "#%%\n"
    }
   }
  },
  {
   "cell_type": "markdown",
   "source": [
    "## noun + noun"
   ],
   "metadata": {
    "collapsed": false,
    "pycharm": {
     "name": "#%% md\n"
    }
   }
  },
  {
   "cell_type": "code",
   "execution_count": 153,
   "outputs": [],
   "source": [
    "def collect_nmod(sent):\n",
    "    doc = nlp(clean_text(sent))\n",
    "    nouns_phrases = []\n",
    "    dicts = [{'token':token, 'pos':token.pos_, 'text':token.text, 'dep':token.dep_, 'lemma':token.lemma_} for token in doc]\n",
    "    nouns_list = [item['token'] for item in dicts if item[\"pos\"] == \"NOUN\"]\n",
    "\n",
    "    for noun in nouns_list:\n",
    "        for child in noun.children:\n",
    "            if child.dep_=='nmod':\n",
    "\n",
    "                case = None\n",
    "                for g_child in child.children:\n",
    "                    if g_child.dep_=='case':\n",
    "                        case = g_child\n",
    "\n",
    "                n_case = None\n",
    "                for child_ in noun.children:\n",
    "                    if child.dep_=='case':\n",
    "                        n_case = child_\n",
    "\n",
    "                if case and n_case:\n",
    "                    nouns_phrases.append([n_case, noun, g_child, child])\n",
    "                elif case and (not(n_case)) :\n",
    "                    nouns_phrases.append([noun, g_child, child])\n",
    "                elif (not(case)) and n_case:\n",
    "                    nouns_phrases.append([n_case, noun, child])\n",
    "                elif (not(case and n_case)):\n",
    "                    nouns_phrases.append([noun, child])\n",
    "\n",
    "    return nouns_phrases"
   ],
   "metadata": {
    "collapsed": false,
    "pycharm": {
     "name": "#%%\n"
    }
   }
  },
  {
   "cell_type": "markdown",
   "source": [
    "## compound noun"
   ],
   "metadata": {
    "collapsed": false,
    "pycharm": {
     "name": "#%% md\n"
    }
   }
  },
  {
   "cell_type": "code",
   "execution_count": 154,
   "outputs": [],
   "source": [
    "def collect_comp(sent):\n",
    "    doc = nlp(clean_text(sent))\n",
    "    nouns_phrases = []\n",
    "    dicts = [{'token':token, 'pos':token.pos_, 'text':token.text, 'dep':token.dep_, 'lemma':token.lemma_} for token in doc]\n",
    "    nouns_list = [item['token'] for item in dicts if item[\"pos\"] == \"NOUN\"]\n",
    "\n",
    "    for noun in nouns_list:\n",
    "        for child in noun.children:\n",
    "            if child.dep_=='compound':\n",
    "                nouns_phrases.append([noun, child])\n",
    "\n",
    "    return nouns_phrases"
   ],
   "metadata": {
    "collapsed": false,
    "pycharm": {
     "name": "#%%\n"
    }
   }
  },
  {
   "cell_type": "code",
   "execution_count": 155,
   "outputs": [
    {
     "data": {
      "text/plain": "[]"
     },
     "execution_count": 155,
     "metadata": {},
     "output_type": "execute_result"
    }
   ],
   "source": [
    "collect_comp('Олег пошел в бизнес центр, типичное поведение в двадцать первом веке')"
   ],
   "metadata": {
    "collapsed": false,
    "pycharm": {
     "name": "#%%\n"
    }
   }
  },
  {
   "cell_type": "code",
   "execution_count": 156,
   "outputs": [
    {
     "name": "stdout",
     "output_type": "stream",
     "text": [
      "Token           | Relation | Head            | Children            \n",
      "----------------------------------------------------------------------\n",
      "Олег            | nsubj    | пошел           | []                  \n",
      "пошел           | ROOT     | пошел           | [Олег, бизнес, центр, веке]\n",
      "в               | case     | бизнес          | []                  \n",
      "бизнес          | obl      | пошел           | [в]                 \n",
      "центр           | obj      | пошел           | [поведение]         \n",
      ",               | punct    | поведение       | []                  \n",
      "типичное        | amod     | поведение       | []                  \n",
      "поведение       | conj     | центр           | [,, типичное]       \n",
      "в               | case     | веке            | []                  \n",
      "двадцать        | advmod   | первом          | []                  \n",
      "первом          | amod     | веке            | [двадцать]          \n",
      "веке            | obl      | пошел           | [в, первом]         \n"
     ]
    },
    {
     "data": {
      "text/plain": "<IPython.core.display.HTML object>",
      "text/html": "<span class=\"tex2jax_ignore\"><svg xmlns=\"http://www.w3.org/2000/svg\" xmlns:xlink=\"http://www.w3.org/1999/xlink\" xml:lang=\"ru\" id=\"f34987aee73f42d79d44bde82aba3d07-0\" class=\"displacy\" width=\"820\" height=\"277.0\" direction=\"ltr\" style=\"max-width: none; height: 277.0px; color: #000000; background: #ffffff; font-family: Arial; direction: ltr\">\n<text class=\"displacy-token\" fill=\"currentColor\" text-anchor=\"middle\" y=\"187.0\">\n    <tspan class=\"displacy-word\" fill=\"currentColor\" x=\"50\">Олег</tspan>\n    <tspan class=\"displacy-tag\" dy=\"2em\" fill=\"currentColor\" x=\"50\">PROPN</tspan>\n</text>\n\n<text class=\"displacy-token\" fill=\"currentColor\" text-anchor=\"middle\" y=\"187.0\">\n    <tspan class=\"displacy-word\" fill=\"currentColor\" x=\"120\">пошел</tspan>\n    <tspan class=\"displacy-tag\" dy=\"2em\" fill=\"currentColor\" x=\"120\">VERB</tspan>\n</text>\n\n<text class=\"displacy-token\" fill=\"currentColor\" text-anchor=\"middle\" y=\"187.0\">\n    <tspan class=\"displacy-word\" fill=\"currentColor\" x=\"190\">в</tspan>\n    <tspan class=\"displacy-tag\" dy=\"2em\" fill=\"currentColor\" x=\"190\">ADP</tspan>\n</text>\n\n<text class=\"displacy-token\" fill=\"currentColor\" text-anchor=\"middle\" y=\"187.0\">\n    <tspan class=\"displacy-word\" fill=\"currentColor\" x=\"260\">бизнес</tspan>\n    <tspan class=\"displacy-tag\" dy=\"2em\" fill=\"currentColor\" x=\"260\">NOUN</tspan>\n</text>\n\n<text class=\"displacy-token\" fill=\"currentColor\" text-anchor=\"middle\" y=\"187.0\">\n    <tspan class=\"displacy-word\" fill=\"currentColor\" x=\"330\">центр,</tspan>\n    <tspan class=\"displacy-tag\" dy=\"2em\" fill=\"currentColor\" x=\"330\">NOUN</tspan>\n</text>\n\n<text class=\"displacy-token\" fill=\"currentColor\" text-anchor=\"middle\" y=\"187.0\">\n    <tspan class=\"displacy-word\" fill=\"currentColor\" x=\"400\">типичное</tspan>\n    <tspan class=\"displacy-tag\" dy=\"2em\" fill=\"currentColor\" x=\"400\">ADJ</tspan>\n</text>\n\n<text class=\"displacy-token\" fill=\"currentColor\" text-anchor=\"middle\" y=\"187.0\">\n    <tspan class=\"displacy-word\" fill=\"currentColor\" x=\"470\">поведение</tspan>\n    <tspan class=\"displacy-tag\" dy=\"2em\" fill=\"currentColor\" x=\"470\">NOUN</tspan>\n</text>\n\n<text class=\"displacy-token\" fill=\"currentColor\" text-anchor=\"middle\" y=\"187.0\">\n    <tspan class=\"displacy-word\" fill=\"currentColor\" x=\"540\">в</tspan>\n    <tspan class=\"displacy-tag\" dy=\"2em\" fill=\"currentColor\" x=\"540\">ADP</tspan>\n</text>\n\n<text class=\"displacy-token\" fill=\"currentColor\" text-anchor=\"middle\" y=\"187.0\">\n    <tspan class=\"displacy-word\" fill=\"currentColor\" x=\"610\">двадцать</tspan>\n    <tspan class=\"displacy-tag\" dy=\"2em\" fill=\"currentColor\" x=\"610\">NUM</tspan>\n</text>\n\n<text class=\"displacy-token\" fill=\"currentColor\" text-anchor=\"middle\" y=\"187.0\">\n    <tspan class=\"displacy-word\" fill=\"currentColor\" x=\"680\">первом</tspan>\n    <tspan class=\"displacy-tag\" dy=\"2em\" fill=\"currentColor\" x=\"680\">ADJ</tspan>\n</text>\n\n<text class=\"displacy-token\" fill=\"currentColor\" text-anchor=\"middle\" y=\"187.0\">\n    <tspan class=\"displacy-word\" fill=\"currentColor\" x=\"750\">веке</tspan>\n    <tspan class=\"displacy-tag\" dy=\"2em\" fill=\"currentColor\" x=\"750\">NOUN</tspan>\n</text>\n\n<g class=\"displacy-arrow\">\n    <path class=\"displacy-arc\" id=\"arrow-f34987aee73f42d79d44bde82aba3d07-0-0\" stroke-width=\"2px\" d=\"M70,142.0 C70,107.0 105.0,107.0 105.0,142.0\" fill=\"none\" stroke=\"currentColor\"/>\n    <text dy=\"1.25em\" style=\"font-size: 0.8em; letter-spacing: 1px\">\n        <textPath xlink:href=\"#arrow-f34987aee73f42d79d44bde82aba3d07-0-0\" class=\"displacy-label\" startOffset=\"50%\" side=\"left\" fill=\"currentColor\" text-anchor=\"middle\">nsubj</textPath>\n    </text>\n    <path class=\"displacy-arrowhead\" d=\"M70,144.0 L62,132.0 78,132.0\" fill=\"currentColor\"/>\n</g>\n\n<g class=\"displacy-arrow\">\n    <path class=\"displacy-arc\" id=\"arrow-f34987aee73f42d79d44bde82aba3d07-0-1\" stroke-width=\"2px\" d=\"M210,142.0 C210,107.0 245.0,107.0 245.0,142.0\" fill=\"none\" stroke=\"currentColor\"/>\n    <text dy=\"1.25em\" style=\"font-size: 0.8em; letter-spacing: 1px\">\n        <textPath xlink:href=\"#arrow-f34987aee73f42d79d44bde82aba3d07-0-1\" class=\"displacy-label\" startOffset=\"50%\" side=\"left\" fill=\"currentColor\" text-anchor=\"middle\">case</textPath>\n    </text>\n    <path class=\"displacy-arrowhead\" d=\"M210,144.0 L202,132.0 218,132.0\" fill=\"currentColor\"/>\n</g>\n\n<g class=\"displacy-arrow\">\n    <path class=\"displacy-arc\" id=\"arrow-f34987aee73f42d79d44bde82aba3d07-0-2\" stroke-width=\"2px\" d=\"M140,142.0 C140,72.0 250.0,72.0 250.0,142.0\" fill=\"none\" stroke=\"currentColor\"/>\n    <text dy=\"1.25em\" style=\"font-size: 0.8em; letter-spacing: 1px\">\n        <textPath xlink:href=\"#arrow-f34987aee73f42d79d44bde82aba3d07-0-2\" class=\"displacy-label\" startOffset=\"50%\" side=\"left\" fill=\"currentColor\" text-anchor=\"middle\">obl</textPath>\n    </text>\n    <path class=\"displacy-arrowhead\" d=\"M250.0,144.0 L258.0,132.0 242.0,132.0\" fill=\"currentColor\"/>\n</g>\n\n<g class=\"displacy-arrow\">\n    <path class=\"displacy-arc\" id=\"arrow-f34987aee73f42d79d44bde82aba3d07-0-3\" stroke-width=\"2px\" d=\"M140,142.0 C140,37.0 325.0,37.0 325.0,142.0\" fill=\"none\" stroke=\"currentColor\"/>\n    <text dy=\"1.25em\" style=\"font-size: 0.8em; letter-spacing: 1px\">\n        <textPath xlink:href=\"#arrow-f34987aee73f42d79d44bde82aba3d07-0-3\" class=\"displacy-label\" startOffset=\"50%\" side=\"left\" fill=\"currentColor\" text-anchor=\"middle\">obj</textPath>\n    </text>\n    <path class=\"displacy-arrowhead\" d=\"M325.0,144.0 L333.0,132.0 317.0,132.0\" fill=\"currentColor\"/>\n</g>\n\n<g class=\"displacy-arrow\">\n    <path class=\"displacy-arc\" id=\"arrow-f34987aee73f42d79d44bde82aba3d07-0-4\" stroke-width=\"2px\" d=\"M420,142.0 C420,107.0 455.0,107.0 455.0,142.0\" fill=\"none\" stroke=\"currentColor\"/>\n    <text dy=\"1.25em\" style=\"font-size: 0.8em; letter-spacing: 1px\">\n        <textPath xlink:href=\"#arrow-f34987aee73f42d79d44bde82aba3d07-0-4\" class=\"displacy-label\" startOffset=\"50%\" side=\"left\" fill=\"currentColor\" text-anchor=\"middle\">amod</textPath>\n    </text>\n    <path class=\"displacy-arrowhead\" d=\"M420,144.0 L412,132.0 428,132.0\" fill=\"currentColor\"/>\n</g>\n\n<g class=\"displacy-arrow\">\n    <path class=\"displacy-arc\" id=\"arrow-f34987aee73f42d79d44bde82aba3d07-0-5\" stroke-width=\"2px\" d=\"M350,142.0 C350,72.0 460.0,72.0 460.0,142.0\" fill=\"none\" stroke=\"currentColor\"/>\n    <text dy=\"1.25em\" style=\"font-size: 0.8em; letter-spacing: 1px\">\n        <textPath xlink:href=\"#arrow-f34987aee73f42d79d44bde82aba3d07-0-5\" class=\"displacy-label\" startOffset=\"50%\" side=\"left\" fill=\"currentColor\" text-anchor=\"middle\">conj</textPath>\n    </text>\n    <path class=\"displacy-arrowhead\" d=\"M460.0,144.0 L468.0,132.0 452.0,132.0\" fill=\"currentColor\"/>\n</g>\n\n<g class=\"displacy-arrow\">\n    <path class=\"displacy-arc\" id=\"arrow-f34987aee73f42d79d44bde82aba3d07-0-6\" stroke-width=\"2px\" d=\"M560,142.0 C560,72.0 740.0,72.0 740.0,142.0\" fill=\"none\" stroke=\"currentColor\"/>\n    <text dy=\"1.25em\" style=\"font-size: 0.8em; letter-spacing: 1px\">\n        <textPath xlink:href=\"#arrow-f34987aee73f42d79d44bde82aba3d07-0-6\" class=\"displacy-label\" startOffset=\"50%\" side=\"left\" fill=\"currentColor\" text-anchor=\"middle\">case</textPath>\n    </text>\n    <path class=\"displacy-arrowhead\" d=\"M560,144.0 L552,132.0 568,132.0\" fill=\"currentColor\"/>\n</g>\n\n<g class=\"displacy-arrow\">\n    <path class=\"displacy-arc\" id=\"arrow-f34987aee73f42d79d44bde82aba3d07-0-7\" stroke-width=\"2px\" d=\"M630,142.0 C630,107.0 665.0,107.0 665.0,142.0\" fill=\"none\" stroke=\"currentColor\"/>\n    <text dy=\"1.25em\" style=\"font-size: 0.8em; letter-spacing: 1px\">\n        <textPath xlink:href=\"#arrow-f34987aee73f42d79d44bde82aba3d07-0-7\" class=\"displacy-label\" startOffset=\"50%\" side=\"left\" fill=\"currentColor\" text-anchor=\"middle\">advmod</textPath>\n    </text>\n    <path class=\"displacy-arrowhead\" d=\"M630,144.0 L622,132.0 638,132.0\" fill=\"currentColor\"/>\n</g>\n\n<g class=\"displacy-arrow\">\n    <path class=\"displacy-arc\" id=\"arrow-f34987aee73f42d79d44bde82aba3d07-0-8\" stroke-width=\"2px\" d=\"M700,142.0 C700,107.0 735.0,107.0 735.0,142.0\" fill=\"none\" stroke=\"currentColor\"/>\n    <text dy=\"1.25em\" style=\"font-size: 0.8em; letter-spacing: 1px\">\n        <textPath xlink:href=\"#arrow-f34987aee73f42d79d44bde82aba3d07-0-8\" class=\"displacy-label\" startOffset=\"50%\" side=\"left\" fill=\"currentColor\" text-anchor=\"middle\">amod</textPath>\n    </text>\n    <path class=\"displacy-arrowhead\" d=\"M700,144.0 L692,132.0 708,132.0\" fill=\"currentColor\"/>\n</g>\n\n<g class=\"displacy-arrow\">\n    <path class=\"displacy-arc\" id=\"arrow-f34987aee73f42d79d44bde82aba3d07-0-9\" stroke-width=\"2px\" d=\"M140,142.0 C140,2.0 750.0,2.0 750.0,142.0\" fill=\"none\" stroke=\"currentColor\"/>\n    <text dy=\"1.25em\" style=\"font-size: 0.8em; letter-spacing: 1px\">\n        <textPath xlink:href=\"#arrow-f34987aee73f42d79d44bde82aba3d07-0-9\" class=\"displacy-label\" startOffset=\"50%\" side=\"left\" fill=\"currentColor\" text-anchor=\"middle\">obl</textPath>\n    </text>\n    <path class=\"displacy-arrowhead\" d=\"M750.0,144.0 L758.0,132.0 742.0,132.0\" fill=\"currentColor\"/>\n</g>\n</svg></span>"
     },
     "metadata": {},
     "output_type": "display_data"
    }
   ],
   "source": [
    "show_dependency('Олег пошел в бизнес центр, типичное поведение в двадцать первом веке')"
   ],
   "metadata": {
    "collapsed": false,
    "pycharm": {
     "name": "#%%\n"
    }
   }
  },
  {
   "cell_type": "code",
   "execution_count": 157,
   "outputs": [
    {
     "name": "stdout",
     "output_type": "stream",
     "text": [
      "Token           | Relation | Head            | Children            \n",
      "----------------------------------------------------------------------\n",
      "Это             | nsubj    | стоить          | []                  \n",
      "будет           | aux      | стоить          | []                  \n",
      "стоить          | ROOT     | стоить          | [Это, будет, рублей]\n",
      "пятьдесят       | nummod:gov | тысяч           | []                  \n",
      "пять            | nummod:gov | тысяч           | []                  \n",
      "тысяч           | nummod   | рублей          | [пятьдесят, пять]   \n",
      "рублей          | obj      | стоить          | [тысяч]             \n"
     ]
    },
    {
     "data": {
      "text/plain": "<IPython.core.display.HTML object>",
      "text/html": "<span class=\"tex2jax_ignore\"><svg xmlns=\"http://www.w3.org/2000/svg\" xmlns:xlink=\"http://www.w3.org/1999/xlink\" xml:lang=\"ru\" id=\"5f6dedec3af74859b6a84922f7aae85f-0\" class=\"displacy\" width=\"540\" height=\"242.0\" direction=\"ltr\" style=\"max-width: none; height: 242.0px; color: #000000; background: #ffffff; font-family: Arial; direction: ltr\">\n<text class=\"displacy-token\" fill=\"currentColor\" text-anchor=\"middle\" y=\"152.0\">\n    <tspan class=\"displacy-word\" fill=\"currentColor\" x=\"50\">Это</tspan>\n    <tspan class=\"displacy-tag\" dy=\"2em\" fill=\"currentColor\" x=\"50\">PRON</tspan>\n</text>\n\n<text class=\"displacy-token\" fill=\"currentColor\" text-anchor=\"middle\" y=\"152.0\">\n    <tspan class=\"displacy-word\" fill=\"currentColor\" x=\"120\">будет</tspan>\n    <tspan class=\"displacy-tag\" dy=\"2em\" fill=\"currentColor\" x=\"120\">AUX</tspan>\n</text>\n\n<text class=\"displacy-token\" fill=\"currentColor\" text-anchor=\"middle\" y=\"152.0\">\n    <tspan class=\"displacy-word\" fill=\"currentColor\" x=\"190\">стоить</tspan>\n    <tspan class=\"displacy-tag\" dy=\"2em\" fill=\"currentColor\" x=\"190\">VERB</tspan>\n</text>\n\n<text class=\"displacy-token\" fill=\"currentColor\" text-anchor=\"middle\" y=\"152.0\">\n    <tspan class=\"displacy-word\" fill=\"currentColor\" x=\"260\">пятьдесят</tspan>\n    <tspan class=\"displacy-tag\" dy=\"2em\" fill=\"currentColor\" x=\"260\">NUM</tspan>\n</text>\n\n<text class=\"displacy-token\" fill=\"currentColor\" text-anchor=\"middle\" y=\"152.0\">\n    <tspan class=\"displacy-word\" fill=\"currentColor\" x=\"330\">пять</tspan>\n    <tspan class=\"displacy-tag\" dy=\"2em\" fill=\"currentColor\" x=\"330\">NUM</tspan>\n</text>\n\n<text class=\"displacy-token\" fill=\"currentColor\" text-anchor=\"middle\" y=\"152.0\">\n    <tspan class=\"displacy-word\" fill=\"currentColor\" x=\"400\">тысяч</tspan>\n    <tspan class=\"displacy-tag\" dy=\"2em\" fill=\"currentColor\" x=\"400\">NOUN</tspan>\n</text>\n\n<text class=\"displacy-token\" fill=\"currentColor\" text-anchor=\"middle\" y=\"152.0\">\n    <tspan class=\"displacy-word\" fill=\"currentColor\" x=\"470\">рублей</tspan>\n    <tspan class=\"displacy-tag\" dy=\"2em\" fill=\"currentColor\" x=\"470\">NOUN</tspan>\n</text>\n\n<g class=\"displacy-arrow\">\n    <path class=\"displacy-arc\" id=\"arrow-5f6dedec3af74859b6a84922f7aae85f-0-0\" stroke-width=\"2px\" d=\"M70,107.0 C70,37.0 185.0,37.0 185.0,107.0\" fill=\"none\" stroke=\"currentColor\"/>\n    <text dy=\"1.25em\" style=\"font-size: 0.8em; letter-spacing: 1px\">\n        <textPath xlink:href=\"#arrow-5f6dedec3af74859b6a84922f7aae85f-0-0\" class=\"displacy-label\" startOffset=\"50%\" side=\"left\" fill=\"currentColor\" text-anchor=\"middle\">nsubj</textPath>\n    </text>\n    <path class=\"displacy-arrowhead\" d=\"M70,109.0 L62,97.0 78,97.0\" fill=\"currentColor\"/>\n</g>\n\n<g class=\"displacy-arrow\">\n    <path class=\"displacy-arc\" id=\"arrow-5f6dedec3af74859b6a84922f7aae85f-0-1\" stroke-width=\"2px\" d=\"M140,107.0 C140,72.0 180.0,72.0 180.0,107.0\" fill=\"none\" stroke=\"currentColor\"/>\n    <text dy=\"1.25em\" style=\"font-size: 0.8em; letter-spacing: 1px\">\n        <textPath xlink:href=\"#arrow-5f6dedec3af74859b6a84922f7aae85f-0-1\" class=\"displacy-label\" startOffset=\"50%\" side=\"left\" fill=\"currentColor\" text-anchor=\"middle\">aux</textPath>\n    </text>\n    <path class=\"displacy-arrowhead\" d=\"M140,109.0 L132,97.0 148,97.0\" fill=\"currentColor\"/>\n</g>\n\n<g class=\"displacy-arrow\">\n    <path class=\"displacy-arc\" id=\"arrow-5f6dedec3af74859b6a84922f7aae85f-0-2\" stroke-width=\"2px\" d=\"M280,107.0 C280,37.0 395.0,37.0 395.0,107.0\" fill=\"none\" stroke=\"currentColor\"/>\n    <text dy=\"1.25em\" style=\"font-size: 0.8em; letter-spacing: 1px\">\n        <textPath xlink:href=\"#arrow-5f6dedec3af74859b6a84922f7aae85f-0-2\" class=\"displacy-label\" startOffset=\"50%\" side=\"left\" fill=\"currentColor\" text-anchor=\"middle\">nummod:gov</textPath>\n    </text>\n    <path class=\"displacy-arrowhead\" d=\"M280,109.0 L272,97.0 288,97.0\" fill=\"currentColor\"/>\n</g>\n\n<g class=\"displacy-arrow\">\n    <path class=\"displacy-arc\" id=\"arrow-5f6dedec3af74859b6a84922f7aae85f-0-3\" stroke-width=\"2px\" d=\"M350,107.0 C350,72.0 390.0,72.0 390.0,107.0\" fill=\"none\" stroke=\"currentColor\"/>\n    <text dy=\"1.25em\" style=\"font-size: 0.8em; letter-spacing: 1px\">\n        <textPath xlink:href=\"#arrow-5f6dedec3af74859b6a84922f7aae85f-0-3\" class=\"displacy-label\" startOffset=\"50%\" side=\"left\" fill=\"currentColor\" text-anchor=\"middle\">nummod:gov</textPath>\n    </text>\n    <path class=\"displacy-arrowhead\" d=\"M350,109.0 L342,97.0 358,97.0\" fill=\"currentColor\"/>\n</g>\n\n<g class=\"displacy-arrow\">\n    <path class=\"displacy-arc\" id=\"arrow-5f6dedec3af74859b6a84922f7aae85f-0-4\" stroke-width=\"2px\" d=\"M420,107.0 C420,72.0 460.0,72.0 460.0,107.0\" fill=\"none\" stroke=\"currentColor\"/>\n    <text dy=\"1.25em\" style=\"font-size: 0.8em; letter-spacing: 1px\">\n        <textPath xlink:href=\"#arrow-5f6dedec3af74859b6a84922f7aae85f-0-4\" class=\"displacy-label\" startOffset=\"50%\" side=\"left\" fill=\"currentColor\" text-anchor=\"middle\">nummod</textPath>\n    </text>\n    <path class=\"displacy-arrowhead\" d=\"M420,109.0 L412,97.0 428,97.0\" fill=\"currentColor\"/>\n</g>\n\n<g class=\"displacy-arrow\">\n    <path class=\"displacy-arc\" id=\"arrow-5f6dedec3af74859b6a84922f7aae85f-0-5\" stroke-width=\"2px\" d=\"M210,107.0 C210,2.0 470.0,2.0 470.0,107.0\" fill=\"none\" stroke=\"currentColor\"/>\n    <text dy=\"1.25em\" style=\"font-size: 0.8em; letter-spacing: 1px\">\n        <textPath xlink:href=\"#arrow-5f6dedec3af74859b6a84922f7aae85f-0-5\" class=\"displacy-label\" startOffset=\"50%\" side=\"left\" fill=\"currentColor\" text-anchor=\"middle\">obj</textPath>\n    </text>\n    <path class=\"displacy-arrowhead\" d=\"M470.0,109.0 L478.0,97.0 462.0,97.0\" fill=\"currentColor\"/>\n</g>\n</svg></span>"
     },
     "metadata": {},
     "output_type": "display_data"
    }
   ],
   "source": [
    "show_dependency('Это будет стоить пятьдесят пять тысяч рублей')"
   ],
   "metadata": {
    "collapsed": false,
    "pycharm": {
     "name": "#%%\n"
    }
   }
  },
  {
   "cell_type": "markdown",
   "source": [
    "## Working with df"
   ],
   "metadata": {
    "collapsed": false,
    "pycharm": {
     "name": "#%% md\n"
    }
   }
  },
  {
   "cell_type": "code",
   "execution_count": 158,
   "outputs": [],
   "source": [
    "import pandas as pd"
   ],
   "metadata": {
    "collapsed": false,
    "pycharm": {
     "name": "#%%\n"
    }
   }
  },
  {
   "cell_type": "code",
   "execution_count": 132,
   "outputs": [],
   "source": [
    "df = pd.read_csv('/Users/katerynaburovova/PycharmProjects/dehumanization/annotation/dataset_v_1.csv')"
   ],
   "metadata": {
    "collapsed": false,
    "pycharm": {
     "name": "#%%\n"
    }
   }
  },
  {
   "cell_type": "code",
   "execution_count": 133,
   "outputs": [
    {
     "name": "stdout",
     "output_type": "stream",
     "text": [
      "CPU times: user 28.5 s, sys: 342 ms, total: 28.9 s\n",
      "Wall time: 29.4 s\n"
     ]
    }
   ],
   "source": [
    "%%time\n",
    "df['core_noun_verb'] = df['text'].apply(lambda x: collect_core(x))"
   ],
   "metadata": {
    "collapsed": false,
    "pycharm": {
     "name": "#%%\n"
    }
   }
  },
  {
   "cell_type": "code",
   "execution_count": 134,
   "outputs": [
    {
     "name": "stdout",
     "output_type": "stream",
     "text": [
      "CPU times: user 27.4 s, sys: 296 ms, total: 27.7 s\n",
      "Wall time: 28 s\n"
     ]
    }
   ],
   "source": [
    "%%time\n",
    "df['verb_obl_obj'] = df['text'].apply(lambda x: collect_verb_obl_obj(x))"
   ],
   "metadata": {
    "collapsed": false,
    "pycharm": {
     "name": "#%%\n"
    }
   }
  },
  {
   "cell_type": "code",
   "execution_count": 159,
   "outputs": [
    {
     "name": "stdout",
     "output_type": "stream",
     "text": [
      "CPU times: user 27.2 s, sys: 209 ms, total: 27.4 s\n",
      "Wall time: 27.5 s\n"
     ]
    }
   ],
   "source": [
    "%%time\n",
    "df['appos'] = df['text'].apply(lambda x: collect_appos(x))"
   ],
   "metadata": {
    "collapsed": false,
    "pycharm": {
     "name": "#%%\n"
    }
   }
  },
  {
   "cell_type": "code",
   "execution_count": 160,
   "outputs": [
    {
     "name": "stdout",
     "output_type": "stream",
     "text": [
      "CPU times: user 27.1 s, sys: 168 ms, total: 27.2 s\n",
      "Wall time: 27.3 s\n"
     ]
    }
   ],
   "source": [
    "%%time\n",
    "df['amod'] = df['text'].apply(lambda x: collect_amod(x))"
   ],
   "metadata": {
    "collapsed": false,
    "pycharm": {
     "name": "#%%\n"
    }
   }
  },
  {
   "cell_type": "code",
   "execution_count": 161,
   "outputs": [
    {
     "name": "stdout",
     "output_type": "stream",
     "text": [
      "CPU times: user 27.3 s, sys: 198 ms, total: 27.5 s\n",
      "Wall time: 27.6 s\n"
     ]
    }
   ],
   "source": [
    "%%time\n",
    "df['nmod'] = df['text'].apply(lambda x: collect_nmod(x))"
   ],
   "metadata": {
    "collapsed": false,
    "pycharm": {
     "name": "#%%\n"
    }
   }
  },
  {
   "cell_type": "code",
   "execution_count": 162,
   "outputs": [
    {
     "name": "stdout",
     "output_type": "stream",
     "text": [
      "CPU times: user 27.5 s, sys: 254 ms, total: 27.7 s\n",
      "Wall time: 27.8 s\n"
     ]
    }
   ],
   "source": [
    "%%time\n",
    "df['comp'] = df['text'].apply(lambda x: collect_comp(x))"
   ],
   "metadata": {
    "collapsed": false,
    "pycharm": {
     "name": "#%%\n"
    }
   }
  },
  {
   "cell_type": "code",
   "execution_count": 163,
   "outputs": [],
   "source": [
    "df['core_noun_verb_str'] = df['core_noun_verb'].apply(lambda x: lst_to_str(x))"
   ],
   "metadata": {
    "collapsed": false,
    "pycharm": {
     "name": "#%%\n"
    }
   }
  },
  {
   "cell_type": "code",
   "execution_count": 165,
   "outputs": [],
   "source": [
    "df['verb_obl_obj_str'] = df['verb_obl_obj'].apply(lambda x: lst_to_str(x))"
   ],
   "metadata": {
    "collapsed": false,
    "pycharm": {
     "name": "#%%\n"
    }
   }
  },
  {
   "cell_type": "code",
   "execution_count": 166,
   "outputs": [],
   "source": [
    "df['appos_str'] = df['appos'].apply(lambda x: lst_to_str(x))"
   ],
   "metadata": {
    "collapsed": false,
    "pycharm": {
     "name": "#%%\n"
    }
   }
  },
  {
   "cell_type": "code",
   "execution_count": 167,
   "outputs": [],
   "source": [
    "df['amod_str'] = df['amod'].apply(lambda x: lst_to_str(x))"
   ],
   "metadata": {
    "collapsed": false,
    "pycharm": {
     "name": "#%%\n"
    }
   }
  },
  {
   "cell_type": "code",
   "execution_count": 168,
   "outputs": [],
   "source": [
    "df['nmod_str'] = df['nmod'].apply(lambda x: lst_to_str(x))"
   ],
   "metadata": {
    "collapsed": false,
    "pycharm": {
     "name": "#%%\n"
    }
   }
  },
  {
   "cell_type": "code",
   "execution_count": 169,
   "outputs": [
    {
     "data": {
      "text/plain": "                                                   text  \\\n0     Вагнер отправляет к бандере и прочим шайтанам ...   \n1     Тут понимаешь всё про метафизику этой войны. «...   \n2     Наш источник сообщает, что остатки военной ави...   \n3     Раньше укронацисты строили песчаные замки — но...   \n4     Именно эти регионы являются настоящим рассадни...   \n...                                                 ...   \n3638     Стоимость очередной подачки хохлам - $675 млн.   \n3639  Хохлячие каналы ссылаясь на некую разведку соо...   \n3640  Обсуждают недоукраинца Невзорова, Анну Нетребк...   \n3641  И вот приходит коллективный Зусько и буквально...   \n3642  Ну, во-первых спасибо за установочные данные, ...   \n\n                                         core_noun_verb  \\\n0                                [[вагнер, отправляет]]   \n1                       [[укропы, вышли], [они, вышли]]   \n2                   [[источник, сообщает, переброшена]]   \n3     [[укронацисты, раньше, строили], [укронацисты,...   \n4     [[регионы, являются, рассадником], [регионы, и...   \n...                                                 ...   \n3638                                                 []   \n3639  [[каналы, сообщают], [вс, готовы, подорвать], ...   \n3640                                                 []   \n3641  [[зусько, вот, приходит], [зусько, буквально, ...   \n3642                  [[хлопцы, бизнес], [это, бизнес]]   \n\n                                           verb_obl_obj  \\\n0     [[отправляет, к, бандере], [отправляет, бригады]]   \n1     [[тут, понимаешь, всё], [тут, понимаешь, про, ...   \n2                         [[переброшена, на, аэродром]]   \n3                            [[раньше, строили, замки]]   \n4           [[имеют, для, укронациков], [имеют, смысл]]   \n...                                                 ...   \n3638                                                 []   \n3639  [[ссылаясь, на, разведку], [сообщают, о, том],...   \n3640                        [[обсуждают, недоукраинца]]   \n3641  [[буквально, начинает, хохлов, заваливать], [з...   \n3642                                                 []   \n\n                                     core_noun_verb_str  \\\n0                                     вагнер отправляет   \n1                               укропы вышли, они вышли   \n2                         источник сообщает переброшена   \n3     укронацисты раньше строили, укронацисты теперь...   \n4           регионы являются рассадником, регионы имеют   \n...                                                 ...   \n3638                                                      \n3639  каналы сообщают, вс готовы подорвать, зеленски...   \n3640                                                      \n3641  зусько вот приходит, зусько буквально начинает...   \n3642                          хлопцы бизнес, это бизнес   \n\n                               appos  \\\n0     [[батальон, джохара, дудаева]]   \n1                                 []   \n2                  [[аэродром, рог]]   \n3                                 []   \n4                                 []   \n...                              ...   \n3638                              []   \n3639                              []   \n3640                              []   \n3641                              []   \n3642                              []   \n\n                                                   amod  \\\n0     [[прочим, шайтанам], [следующие, бригады], [ша...   \n1                                                    []   \n2        [[военной, авиации], [долгинцево(кривой, рог]]   \n3                                   [[песчаные, замки]]   \n4     [[настоящим, рассадником], [сакральный, смысл]...   \n...                                                 ...   \n3638                   [[очередной, подачки], [-, млн]]   \n3639  [[хохлячие, каналы], [каховской, гэс], [масшта...   \n3640                                                 []   \n3641          [[коллективный, зусько], [ровном, месте]]   \n3642          [[установочные, данные], [новый, бизнес]]   \n\n                                                   nmod comp  \\\n0     [[бандере, бахмута, районе], [районе, бахмута]...   []   \n1     [[метафизику, войны], [укропы, запада, покрово...   []   \n2            [[остатки, авиации], [остатки, укрорейха]]   []   \n3                                                    []   []   \n4                          [[рассадником, укронацизма]]   []   \n...                                                 ...  ...   \n3638             [[стоимость, подачки], [подачки, млн]]   []   \n3639  [[каналы, ссылаясь], [дамбу, гэс], [шумок, тре...   []   \n3640                                                 []   []   \n3641                        [[трупами, мобилизованных]]   []   \n3642                  [[спасибо, установочные, данные]]   []   \n\n                                       verb_obl_obj_str  \\\n0              отправляет к бандере, отправляет бригады   \n1     тут понимаешь всё, тут понимаешь про метафизик...   \n2                               переброшена на аэродром   \n3                                  раньше строили замки   \n4                    имеют для укронациков, имеют смысл   \n...                                                 ...   \n3638                                                      \n3639  ссылаясь на разведку, сообщают о том, подорват...   \n3640                             обсуждают недоукраинца   \n3641  буквально начинает хохлов заваливать, завалива...   \n3642                                                      \n\n                     appos_str  \\\n0     батальон джохара дудаева   \n1                                \n2                 аэродром рог   \n3                                \n4                                \n...                        ...   \n3638                             \n3639                             \n3640                             \n3641                             \n3642                             \n\n                                               amod_str  \\\n0     прочим шайтанам, следующие бригады, шайтанский...   \n1                                                         \n2                военной авиации, долгинцево(кривой рог   \n3                                        песчаные замки   \n4     настоящим рассадником, сакральный смысл, идеол...   \n...                                                 ...   \n3638                           очередной подачки, - млн   \n3639  хохлячие каналы, каховской гэс, масштабной тре...   \n3640                                                      \n3641                  коллективный зусько, ровном месте   \n3642                  установочные данные, новый бизнес   \n\n                                               nmod_str  \n0     бандере бахмута районе, районе бахмута, бригад...  \n1     метафизику войны, укропы запада покровом, покр...  \n2                    остатки авиации, остатки укрорейха  \n3                                                        \n4                               рассадником укронацизма  \n...                                                 ...  \n3638                     стоимость подачки, подачки млн  \n3639          каналы ссылаясь, дамбу гэс, шумок тревоги  \n3640                                                     \n3641                             трупами мобилизованных  \n3642                        спасибо установочные данные  \n\n[3643 rows x 12 columns]",
      "text/html": "<div>\n<style scoped>\n    .dataframe tbody tr th:only-of-type {\n        vertical-align: middle;\n    }\n\n    .dataframe tbody tr th {\n        vertical-align: top;\n    }\n\n    .dataframe thead th {\n        text-align: right;\n    }\n</style>\n<table border=\"1\" class=\"dataframe\">\n  <thead>\n    <tr style=\"text-align: right;\">\n      <th></th>\n      <th>text</th>\n      <th>core_noun_verb</th>\n      <th>verb_obl_obj</th>\n      <th>core_noun_verb_str</th>\n      <th>appos</th>\n      <th>amod</th>\n      <th>nmod</th>\n      <th>comp</th>\n      <th>verb_obl_obj_str</th>\n      <th>appos_str</th>\n      <th>amod_str</th>\n      <th>nmod_str</th>\n    </tr>\n  </thead>\n  <tbody>\n    <tr>\n      <th>0</th>\n      <td>Вагнер отправляет к бандере и прочим шайтанам ...</td>\n      <td>[[вагнер, отправляет]]</td>\n      <td>[[отправляет, к, бандере], [отправляет, бригады]]</td>\n      <td>вагнер отправляет</td>\n      <td>[[батальон, джохара, дудаева]]</td>\n      <td>[[прочим, шайтанам], [следующие, бригады], [ша...</td>\n      <td>[[бандере, бахмута, районе], [районе, бахмута]...</td>\n      <td>[]</td>\n      <td>отправляет к бандере, отправляет бригады</td>\n      <td>батальон джохара дудаева</td>\n      <td>прочим шайтанам, следующие бригады, шайтанский...</td>\n      <td>бандере бахмута районе, районе бахмута, бригад...</td>\n    </tr>\n    <tr>\n      <th>1</th>\n      <td>Тут понимаешь всё про метафизику этой войны. «...</td>\n      <td>[[укропы, вышли], [они, вышли]]</td>\n      <td>[[тут, понимаешь, всё], [тут, понимаешь, про, ...</td>\n      <td>укропы вышли, они вышли</td>\n      <td>[]</td>\n      <td>[]</td>\n      <td>[[метафизику, войны], [укропы, запада, покрово...</td>\n      <td>[]</td>\n      <td>тут понимаешь всё, тут понимаешь про метафизик...</td>\n      <td></td>\n      <td></td>\n      <td>метафизику войны, укропы запада покровом, покр...</td>\n    </tr>\n    <tr>\n      <th>2</th>\n      <td>Наш источник сообщает, что остатки военной ави...</td>\n      <td>[[источник, сообщает, переброшена]]</td>\n      <td>[[переброшена, на, аэродром]]</td>\n      <td>источник сообщает переброшена</td>\n      <td>[[аэродром, рог]]</td>\n      <td>[[военной, авиации], [долгинцево(кривой, рог]]</td>\n      <td>[[остатки, авиации], [остатки, укрорейха]]</td>\n      <td>[]</td>\n      <td>переброшена на аэродром</td>\n      <td>аэродром рог</td>\n      <td>военной авиации, долгинцево(кривой рог</td>\n      <td>остатки авиации, остатки укрорейха</td>\n    </tr>\n    <tr>\n      <th>3</th>\n      <td>Раньше укронацисты строили песчаные замки — но...</td>\n      <td>[[укронацисты, раньше, строили], [укронацисты,...</td>\n      <td>[[раньше, строили, замки]]</td>\n      <td>укронацисты раньше строили, укронацисты теперь...</td>\n      <td>[]</td>\n      <td>[[песчаные, замки]]</td>\n      <td>[]</td>\n      <td>[]</td>\n      <td>раньше строили замки</td>\n      <td></td>\n      <td>песчаные замки</td>\n      <td></td>\n    </tr>\n    <tr>\n      <th>4</th>\n      <td>Именно эти регионы являются настоящим рассадни...</td>\n      <td>[[регионы, являются, рассадником], [регионы, и...</td>\n      <td>[[имеют, для, укронациков], [имеют, смысл]]</td>\n      <td>регионы являются рассадником, регионы имеют</td>\n      <td>[]</td>\n      <td>[[настоящим, рассадником], [сакральный, смысл]...</td>\n      <td>[[рассадником, укронацизма]]</td>\n      <td>[]</td>\n      <td>имеют для укронациков, имеют смысл</td>\n      <td></td>\n      <td>настоящим рассадником, сакральный смысл, идеол...</td>\n      <td>рассадником укронацизма</td>\n    </tr>\n    <tr>\n      <th>...</th>\n      <td>...</td>\n      <td>...</td>\n      <td>...</td>\n      <td>...</td>\n      <td>...</td>\n      <td>...</td>\n      <td>...</td>\n      <td>...</td>\n      <td>...</td>\n      <td>...</td>\n      <td>...</td>\n      <td>...</td>\n    </tr>\n    <tr>\n      <th>3638</th>\n      <td>Стоимость очередной подачки хохлам - $675 млн.</td>\n      <td>[]</td>\n      <td>[]</td>\n      <td></td>\n      <td>[]</td>\n      <td>[[очередной, подачки], [-, млн]]</td>\n      <td>[[стоимость, подачки], [подачки, млн]]</td>\n      <td>[]</td>\n      <td></td>\n      <td></td>\n      <td>очередной подачки, - млн</td>\n      <td>стоимость подачки, подачки млн</td>\n    </tr>\n    <tr>\n      <th>3639</th>\n      <td>Хохлячие каналы ссылаясь на некую разведку соо...</td>\n      <td>[[каналы, сообщают], [вс, готовы, подорвать], ...</td>\n      <td>[[ссылаясь, на, разведку], [сообщают, о, том],...</td>\n      <td>каналы сообщают, вс готовы подорвать, зеленски...</td>\n      <td>[]</td>\n      <td>[[хохлячие, каналы], [каховской, гэс], [масшта...</td>\n      <td>[[каналы, ссылаясь], [дамбу, гэс], [шумок, тре...</td>\n      <td>[]</td>\n      <td>ссылаясь на разведку, сообщают о том, подорват...</td>\n      <td></td>\n      <td>хохлячие каналы, каховской гэс, масштабной тре...</td>\n      <td>каналы ссылаясь, дамбу гэс, шумок тревоги</td>\n    </tr>\n    <tr>\n      <th>3640</th>\n      <td>Обсуждают недоукраинца Невзорова, Анну Нетребк...</td>\n      <td>[]</td>\n      <td>[[обсуждают, недоукраинца]]</td>\n      <td></td>\n      <td>[]</td>\n      <td>[]</td>\n      <td>[]</td>\n      <td>[]</td>\n      <td>обсуждают недоукраинца</td>\n      <td></td>\n      <td></td>\n      <td></td>\n    </tr>\n    <tr>\n      <th>3641</th>\n      <td>И вот приходит коллективный Зусько и буквально...</td>\n      <td>[[зусько, вот, приходит], [зусько, буквально, ...</td>\n      <td>[[буквально, начинает, хохлов, заваливать], [з...</td>\n      <td>зусько вот приходит, зусько буквально начинает...</td>\n      <td>[]</td>\n      <td>[[коллективный, зусько], [ровном, месте]]</td>\n      <td>[[трупами, мобилизованных]]</td>\n      <td>[]</td>\n      <td>буквально начинает хохлов заваливать, завалива...</td>\n      <td></td>\n      <td>коллективный зусько, ровном месте</td>\n      <td>трупами мобилизованных</td>\n    </tr>\n    <tr>\n      <th>3642</th>\n      <td>Ну, во-первых спасибо за установочные данные, ...</td>\n      <td>[[хлопцы, бизнес], [это, бизнес]]</td>\n      <td>[]</td>\n      <td>хлопцы бизнес, это бизнес</td>\n      <td>[]</td>\n      <td>[[установочные, данные], [новый, бизнес]]</td>\n      <td>[[спасибо, установочные, данные]]</td>\n      <td>[]</td>\n      <td></td>\n      <td></td>\n      <td>установочные данные, новый бизнес</td>\n      <td>спасибо установочные данные</td>\n    </tr>\n  </tbody>\n</table>\n<p>3643 rows × 12 columns</p>\n</div>"
     },
     "execution_count": 169,
     "metadata": {},
     "output_type": "execute_result"
    }
   ],
   "source": [
    "df"
   ],
   "metadata": {
    "collapsed": false,
    "pycharm": {
     "name": "#%%\n"
    }
   }
  },
  {
   "cell_type": "code",
   "execution_count": 176,
   "outputs": [
    {
     "name": "stdout",
     "output_type": "stream",
     "text": [
      "🗣На шоу «вечерний Зеленский» в своем выступлении президенту Украины пришлось выбирать между плохими и ужасными новостями  ▪️Он «опустил» сдачу населенных пунктов и тяжелое положение ВСУшников под Артемовском.\n",
      "******************** 2263 ********************\n",
      "Nsubj + Verb :  он опустил\n",
      "Appos :  \n",
      "Noun+Aj (Amod) :  плохими новостями, населенных пунктов, тяжелое положение\n",
      "Noun+Noun (Nmod) :  шоу вечерний, президенту украины, сдачу пунктов, положение всушников, положение под артемовском\n",
      "Verb + Obl/Obj :  пришлось на шоу, пришлось в выступлении, выбирать между новостями, опустил сдачу\n"
     ]
    }
   ],
   "source": [
    "show_dep_example(df)"
   ],
   "metadata": {
    "collapsed": false,
    "pycharm": {
     "name": "#%%\n"
    }
   }
  },
  {
   "cell_type": "code",
   "execution_count": 171,
   "outputs": [
    {
     "name": "stdout",
     "output_type": "stream",
     "text": [
      "✔️Мы ни в коем случае не имеем права показывать слабину террористам из Хохлостана! Даёшь им палец, а они пытаются откусить всю руку! Только у них появляется повод для так называемой «перемоги» - сразу же случается очередной жирный всплеск русофобской активности.\n",
      "******************** 335 ********************\n",
      "Nsubj + Verb :  мы не ни имеем, они пытаются откусить, повод появляется, всплеск сразу - случается\n",
      "Appos :  \n",
      "Noun+Aj (Amod) :  очередной всплеск, жирный всплеск, русофобской активности\n",
      "Noun+Noun (Nmod) :  права показывать, террористам из хохлостана, повод называемой перемоги, всплеск активности\n",
      "Verb + Obl/Obj :  не имеем права, показывать слабину, пытаются руку откусить, откусить руку, появляется у них\n"
     ]
    }
   ],
   "source": [
    "show_dep_example(df, 335)"
   ],
   "metadata": {
    "collapsed": false,
    "pycharm": {
     "name": "#%%\n"
    }
   }
  },
  {
   "cell_type": "code",
   "execution_count": 172,
   "outputs": [
    {
     "name": "stdout",
     "output_type": "stream",
     "text": [
      "На хохляцком ресурсе увидел как шумеры называют Карабахскую войну - \"війна в Карабасі\".\n",
      "******************** 1082 ********************\n",
      "Nsubj + Verb :  шумеры называют\n",
      "Appos :  \n",
      "Noun+Aj (Amod) :  хохляцком ресурсе, карабахскую войну\n",
      "Noun+Noun (Nmod) :  \n",
      "Verb + Obl/Obj :  увидел на ресурсе, увидел войну называют, увидел - называют, увидел вйна называют, называют войну, называют -, называют вйна, называют в карабас\n"
     ]
    }
   ],
   "source": [
    "show_dep_example(df, 1082)"
   ],
   "metadata": {
    "collapsed": false,
    "pycharm": {
     "name": "#%%\n"
    }
   }
  },
  {
   "cell_type": "code",
   "execution_count": 173,
   "outputs": [
    {
     "name": "stdout",
     "output_type": "stream",
     "text": [
      "Украина не страна и не государство, и не Бандера с автоматом.\n",
      "******************** 152 ********************\n",
      "Nsubj + Verb :  украина не страна, украина не государство, украина не бандера\n",
      "Appos :  \n",
      "Noun+Aj (Amod) :  \n",
      "Noun+Noun (Nmod) :  бандера с автоматом\n",
      "Verb + Obl/Obj :  \n"
     ]
    }
   ],
   "source": [
    "show_dep_example(df, 152)"
   ],
   "metadata": {
    "collapsed": false,
    "pycharm": {
     "name": "#%%\n"
    }
   }
  },
  {
   "cell_type": "markdown",
   "source": [
    "## Smth weird"
   ],
   "metadata": {
    "collapsed": false,
    "pycharm": {
     "name": "#%% md\n"
    }
   }
  },
  {
   "cell_type": "code",
   "execution_count": 940,
   "outputs": [
    {
     "name": "stdout",
     "output_type": "stream",
     "text": [
      "Хохлы ударили по Антоновскому мосту в момент эвакуации гражданских.\n",
      "******************** 2405 ********************\n",
      "Nsubj + Verb :  \n",
      "Appos :  \n",
      "Noun+Noun (Amod) :  Антоновскому мосту\n",
      "Noun+Noun (Nmod) :  момент эвакуации, эвакуации гражданских\n",
      "Verb + Obl/Obj :  ударили хохлы, ударили по мосту, ударили в момент\n"
     ]
    }
   ],
   "source": [
    "show_dep_example(df, 2405)"
   ],
   "metadata": {
    "collapsed": false,
    "pycharm": {
     "name": "#%%\n"
    }
   }
  },
  {
   "cell_type": "code",
   "execution_count": 938,
   "outputs": [
    {
     "name": "stdout",
     "output_type": "stream",
     "text": [
      "Token           | Relation | Head            | Children            \n",
      "----------------------------------------------------------------------\n",
      "Хохлы           | obj      | ударили         | []                  \n",
      "ударили         | ROOT     | ударили         | [Хохлы, мосту, момент, .]\n",
      "по              | case     | мосту           | []                  \n",
      "Антоновскому    | amod     | мосту           | []                  \n",
      "мосту           | obl      | ударили         | [по, Антоновскому]  \n",
      "в               | case     | момент          | []                  \n",
      "момент          | obl      | ударили         | [в, эвакуации]      \n",
      "эвакуации       | nmod     | момент          | [гражданских]       \n",
      "гражданских     | nmod     | эвакуации       | []                  \n",
      ".               | punct    | ударили         | []                  \n"
     ]
    },
    {
     "data": {
      "text/plain": "<IPython.core.display.HTML object>",
      "text/html": "<span class=\"tex2jax_ignore\"><svg xmlns=\"http://www.w3.org/2000/svg\" xmlns:xlink=\"http://www.w3.org/1999/xlink\" xml:lang=\"ru\" id=\"f6d2983dc0db4a3d89336601032f6699-0\" class=\"displacy\" width=\"680\" height=\"277.0\" direction=\"ltr\" style=\"max-width: none; height: 277.0px; color: #000000; background: #ffffff; font-family: Arial; direction: ltr\">\n<text class=\"displacy-token\" fill=\"currentColor\" text-anchor=\"middle\" y=\"187.0\">\n    <tspan class=\"displacy-word\" fill=\"currentColor\" x=\"50\">Хохлы</tspan>\n    <tspan class=\"displacy-tag\" dy=\"2em\" fill=\"currentColor\" x=\"50\">PROPN</tspan>\n</text>\n\n<text class=\"displacy-token\" fill=\"currentColor\" text-anchor=\"middle\" y=\"187.0\">\n    <tspan class=\"displacy-word\" fill=\"currentColor\" x=\"120\">ударили</tspan>\n    <tspan class=\"displacy-tag\" dy=\"2em\" fill=\"currentColor\" x=\"120\">VERB</tspan>\n</text>\n\n<text class=\"displacy-token\" fill=\"currentColor\" text-anchor=\"middle\" y=\"187.0\">\n    <tspan class=\"displacy-word\" fill=\"currentColor\" x=\"190\">по</tspan>\n    <tspan class=\"displacy-tag\" dy=\"2em\" fill=\"currentColor\" x=\"190\">ADP</tspan>\n</text>\n\n<text class=\"displacy-token\" fill=\"currentColor\" text-anchor=\"middle\" y=\"187.0\">\n    <tspan class=\"displacy-word\" fill=\"currentColor\" x=\"260\">Антоновскому</tspan>\n    <tspan class=\"displacy-tag\" dy=\"2em\" fill=\"currentColor\" x=\"260\">ADJ</tspan>\n</text>\n\n<text class=\"displacy-token\" fill=\"currentColor\" text-anchor=\"middle\" y=\"187.0\">\n    <tspan class=\"displacy-word\" fill=\"currentColor\" x=\"330\">мосту</tspan>\n    <tspan class=\"displacy-tag\" dy=\"2em\" fill=\"currentColor\" x=\"330\">NOUN</tspan>\n</text>\n\n<text class=\"displacy-token\" fill=\"currentColor\" text-anchor=\"middle\" y=\"187.0\">\n    <tspan class=\"displacy-word\" fill=\"currentColor\" x=\"400\">в</tspan>\n    <tspan class=\"displacy-tag\" dy=\"2em\" fill=\"currentColor\" x=\"400\">ADP</tspan>\n</text>\n\n<text class=\"displacy-token\" fill=\"currentColor\" text-anchor=\"middle\" y=\"187.0\">\n    <tspan class=\"displacy-word\" fill=\"currentColor\" x=\"470\">момент</tspan>\n    <tspan class=\"displacy-tag\" dy=\"2em\" fill=\"currentColor\" x=\"470\">NOUN</tspan>\n</text>\n\n<text class=\"displacy-token\" fill=\"currentColor\" text-anchor=\"middle\" y=\"187.0\">\n    <tspan class=\"displacy-word\" fill=\"currentColor\" x=\"540\">эвакуации</tspan>\n    <tspan class=\"displacy-tag\" dy=\"2em\" fill=\"currentColor\" x=\"540\">NOUN</tspan>\n</text>\n\n<text class=\"displacy-token\" fill=\"currentColor\" text-anchor=\"middle\" y=\"187.0\">\n    <tspan class=\"displacy-word\" fill=\"currentColor\" x=\"610\">гражданских.</tspan>\n    <tspan class=\"displacy-tag\" dy=\"2em\" fill=\"currentColor\" x=\"610\">ADJ</tspan>\n</text>\n\n<g class=\"displacy-arrow\">\n    <path class=\"displacy-arc\" id=\"arrow-f6d2983dc0db4a3d89336601032f6699-0-0\" stroke-width=\"2px\" d=\"M70,142.0 C70,107.0 105.0,107.0 105.0,142.0\" fill=\"none\" stroke=\"currentColor\"/>\n    <text dy=\"1.25em\" style=\"font-size: 0.8em; letter-spacing: 1px\">\n        <textPath xlink:href=\"#arrow-f6d2983dc0db4a3d89336601032f6699-0-0\" class=\"displacy-label\" startOffset=\"50%\" side=\"left\" fill=\"currentColor\" text-anchor=\"middle\">obj</textPath>\n    </text>\n    <path class=\"displacy-arrowhead\" d=\"M70,144.0 L62,132.0 78,132.0\" fill=\"currentColor\"/>\n</g>\n\n<g class=\"displacy-arrow\">\n    <path class=\"displacy-arc\" id=\"arrow-f6d2983dc0db4a3d89336601032f6699-0-1\" stroke-width=\"2px\" d=\"M210,142.0 C210,72.0 320.0,72.0 320.0,142.0\" fill=\"none\" stroke=\"currentColor\"/>\n    <text dy=\"1.25em\" style=\"font-size: 0.8em; letter-spacing: 1px\">\n        <textPath xlink:href=\"#arrow-f6d2983dc0db4a3d89336601032f6699-0-1\" class=\"displacy-label\" startOffset=\"50%\" side=\"left\" fill=\"currentColor\" text-anchor=\"middle\">case</textPath>\n    </text>\n    <path class=\"displacy-arrowhead\" d=\"M210,144.0 L202,132.0 218,132.0\" fill=\"currentColor\"/>\n</g>\n\n<g class=\"displacy-arrow\">\n    <path class=\"displacy-arc\" id=\"arrow-f6d2983dc0db4a3d89336601032f6699-0-2\" stroke-width=\"2px\" d=\"M280,142.0 C280,107.0 315.0,107.0 315.0,142.0\" fill=\"none\" stroke=\"currentColor\"/>\n    <text dy=\"1.25em\" style=\"font-size: 0.8em; letter-spacing: 1px\">\n        <textPath xlink:href=\"#arrow-f6d2983dc0db4a3d89336601032f6699-0-2\" class=\"displacy-label\" startOffset=\"50%\" side=\"left\" fill=\"currentColor\" text-anchor=\"middle\">amod</textPath>\n    </text>\n    <path class=\"displacy-arrowhead\" d=\"M280,144.0 L272,132.0 288,132.0\" fill=\"currentColor\"/>\n</g>\n\n<g class=\"displacy-arrow\">\n    <path class=\"displacy-arc\" id=\"arrow-f6d2983dc0db4a3d89336601032f6699-0-3\" stroke-width=\"2px\" d=\"M140,142.0 C140,37.0 325.0,37.0 325.0,142.0\" fill=\"none\" stroke=\"currentColor\"/>\n    <text dy=\"1.25em\" style=\"font-size: 0.8em; letter-spacing: 1px\">\n        <textPath xlink:href=\"#arrow-f6d2983dc0db4a3d89336601032f6699-0-3\" class=\"displacy-label\" startOffset=\"50%\" side=\"left\" fill=\"currentColor\" text-anchor=\"middle\">obl</textPath>\n    </text>\n    <path class=\"displacy-arrowhead\" d=\"M325.0,144.0 L333.0,132.0 317.0,132.0\" fill=\"currentColor\"/>\n</g>\n\n<g class=\"displacy-arrow\">\n    <path class=\"displacy-arc\" id=\"arrow-f6d2983dc0db4a3d89336601032f6699-0-4\" stroke-width=\"2px\" d=\"M420,142.0 C420,107.0 455.0,107.0 455.0,142.0\" fill=\"none\" stroke=\"currentColor\"/>\n    <text dy=\"1.25em\" style=\"font-size: 0.8em; letter-spacing: 1px\">\n        <textPath xlink:href=\"#arrow-f6d2983dc0db4a3d89336601032f6699-0-4\" class=\"displacy-label\" startOffset=\"50%\" side=\"left\" fill=\"currentColor\" text-anchor=\"middle\">case</textPath>\n    </text>\n    <path class=\"displacy-arrowhead\" d=\"M420,144.0 L412,132.0 428,132.0\" fill=\"currentColor\"/>\n</g>\n\n<g class=\"displacy-arrow\">\n    <path class=\"displacy-arc\" id=\"arrow-f6d2983dc0db4a3d89336601032f6699-0-5\" stroke-width=\"2px\" d=\"M140,142.0 C140,2.0 470.0,2.0 470.0,142.0\" fill=\"none\" stroke=\"currentColor\"/>\n    <text dy=\"1.25em\" style=\"font-size: 0.8em; letter-spacing: 1px\">\n        <textPath xlink:href=\"#arrow-f6d2983dc0db4a3d89336601032f6699-0-5\" class=\"displacy-label\" startOffset=\"50%\" side=\"left\" fill=\"currentColor\" text-anchor=\"middle\">obl</textPath>\n    </text>\n    <path class=\"displacy-arrowhead\" d=\"M470.0,144.0 L478.0,132.0 462.0,132.0\" fill=\"currentColor\"/>\n</g>\n\n<g class=\"displacy-arrow\">\n    <path class=\"displacy-arc\" id=\"arrow-f6d2983dc0db4a3d89336601032f6699-0-6\" stroke-width=\"2px\" d=\"M490,142.0 C490,107.0 525.0,107.0 525.0,142.0\" fill=\"none\" stroke=\"currentColor\"/>\n    <text dy=\"1.25em\" style=\"font-size: 0.8em; letter-spacing: 1px\">\n        <textPath xlink:href=\"#arrow-f6d2983dc0db4a3d89336601032f6699-0-6\" class=\"displacy-label\" startOffset=\"50%\" side=\"left\" fill=\"currentColor\" text-anchor=\"middle\">nmod</textPath>\n    </text>\n    <path class=\"displacy-arrowhead\" d=\"M525.0,144.0 L533.0,132.0 517.0,132.0\" fill=\"currentColor\"/>\n</g>\n\n<g class=\"displacy-arrow\">\n    <path class=\"displacy-arc\" id=\"arrow-f6d2983dc0db4a3d89336601032f6699-0-7\" stroke-width=\"2px\" d=\"M560,142.0 C560,107.0 595.0,107.0 595.0,142.0\" fill=\"none\" stroke=\"currentColor\"/>\n    <text dy=\"1.25em\" style=\"font-size: 0.8em; letter-spacing: 1px\">\n        <textPath xlink:href=\"#arrow-f6d2983dc0db4a3d89336601032f6699-0-7\" class=\"displacy-label\" startOffset=\"50%\" side=\"left\" fill=\"currentColor\" text-anchor=\"middle\">nmod</textPath>\n    </text>\n    <path class=\"displacy-arrowhead\" d=\"M595.0,144.0 L603.0,132.0 587.0,132.0\" fill=\"currentColor\"/>\n</g>\n</svg></span>"
     },
     "metadata": {},
     "output_type": "display_data"
    }
   ],
   "source": [
    "show_dependency(df['text'][2405])"
   ],
   "metadata": {
    "collapsed": false,
    "pycharm": {
     "name": "#%%\n"
    }
   }
  },
  {
   "cell_type": "code",
   "execution_count": 963,
   "outputs": [
    {
     "name": "stdout",
     "output_type": "stream",
     "text": [
      "Token           | Relation | Head            | Children            \n",
      "----------------------------------------------------------------------\n",
      "Нельзя          | ROOT     | Нельзя          | [отстранять, вице, -, президент, Нельзя, заявил, .]\n",
      "отстранять      | csubj    | Нельзя          | [сборную, участия]  \n",
      "всю             | det      | сборную         | []                  \n",
      "сборную         | obj      | отстранять      | [всю, РФ]           \n",
      "РФ              | nmod     | сборную         | []                  \n",
      "от              | case     | участия         | []                  \n",
      "участия         | obl      | отстранять      | [от, играх]         \n",
      "в               | case     | играх           | []                  \n",
      "Олимпийских     | amod     | играх           | []                  \n",
      "играх           | nmod     | участия         | [в, Олимпийских]    \n",
      "–               | punct    | вице            | []                  \n",
      "вице            | nsubj    | Нельзя          | [–]                 \n",
      "-               | nsubj    | Нельзя          | []                  \n",
      "президент       | nsubj    | Нельзя          | [IIHF]              \n",
      "IIHF            | nmod     | президент       | [ ]                 \n",
      "                | dep      | IIHF            | []                  \n",
      "Нельзя          | csubj    | Нельзя          | [отстранять]        \n",
      "отстранять      | csubj    | Нельзя          | [сборную, участия]  \n",
      "всю             | det      | сборную         | []                  \n",
      "сборную         | obj      | отстранять      | [всю, России]       \n",
      "России          | nmod     | сборную         | []                  \n",
      "от              | case     | участия         | []                  \n",
      "участия         | obl      | отстранять      | [от, играх]         \n",
      "в               | case     | играх           | []                  \n",
      "зимних          | amod     | играх           | []                  \n",
      "Олимпийских     | amod     | играх           | []                  \n",
      "играх           | nmod     | участия         | [в, зимних, Олимпийских, Пхенчхане]\n",
      "в               | case     | Пхенчхане       | []                  \n",
      "южнокорейском   | amod     | Пхенчхане       | []                  \n",
      "Пхенчхане       | nmod     | играх           | [в, южнокорейском]  \n",
      ",               | punct    | заявил          | []                  \n",
      "заявил          | parataxis | Нельзя          | [,, вице, -, президент]\n",
      "вице            | nsubj    | заявил          | []                  \n",
      "-               | nsubj    | заявил          | []                  \n",
      "президент       | nsubj    | заявил          | [федерации, финн]   \n",
      "Международной   | amod     | федерации       | []                  \n",
      "федерации       | nmod     | президент       | [Международной, хоккея]\n",
      "хоккея          | nmod     | федерации       | [IIHF]              \n",
      "(               | punct    | IIHF            | []                  \n",
      "IIHF            | appos    | хоккея          | [(, )]              \n",
      ")               | punct    | IIHF            | []                  \n",
      "финн            | appos    | президент       | [Калерво]           \n",
      "Калерво         | appos    | финн            | [Куммола]           \n",
      "Куммола         | flat:name | Калерво         | []                  \n",
      ".               | punct    | Нельзя          | [ ]                 \n",
      "                | dep      | .               | []                  \n",
      "\"               | punct    | находится       | []                  \n",
      "Все             | det      | система         | []                  \n",
      "олимпийская     | amod     | система         | []                  \n",
      "система         | nsubj    | находится       | [Все, олимпийская]  \n",
      "находится       | ROOT     | находится       | [\", система, опасности, .]\n",
      "в               | case     | опасности       | []                  \n",
      "опасности       | obl      | находится       | [в]                 \n",
      ".               | punct    | находится       | []                  \n"
     ]
    },
    {
     "data": {
      "text/plain": "<IPython.core.display.HTML object>",
      "text/html": "<span class=\"tex2jax_ignore\"><svg xmlns=\"http://www.w3.org/2000/svg\" xmlns:xlink=\"http://www.w3.org/1999/xlink\" xml:lang=\"ru\" id=\"ce290698ce6e49bfb53a65ceff002da5-0\" class=\"displacy\" width=\"3200\" height=\"417.0\" direction=\"ltr\" style=\"max-width: none; height: 417.0px; color: #000000; background: #ffffff; font-family: Arial; direction: ltr\">\n<text class=\"displacy-token\" fill=\"currentColor\" text-anchor=\"middle\" y=\"327.0\">\n    <tspan class=\"displacy-word\" fill=\"currentColor\" x=\"50\">Нельзя</tspan>\n    <tspan class=\"displacy-tag\" dy=\"2em\" fill=\"currentColor\" x=\"50\">ADV</tspan>\n</text>\n\n<text class=\"displacy-token\" fill=\"currentColor\" text-anchor=\"middle\" y=\"327.0\">\n    <tspan class=\"displacy-word\" fill=\"currentColor\" x=\"120\">отстранять</tspan>\n    <tspan class=\"displacy-tag\" dy=\"2em\" fill=\"currentColor\" x=\"120\">VERB</tspan>\n</text>\n\n<text class=\"displacy-token\" fill=\"currentColor\" text-anchor=\"middle\" y=\"327.0\">\n    <tspan class=\"displacy-word\" fill=\"currentColor\" x=\"190\">всю</tspan>\n    <tspan class=\"displacy-tag\" dy=\"2em\" fill=\"currentColor\" x=\"190\">DET</tspan>\n</text>\n\n<text class=\"displacy-token\" fill=\"currentColor\" text-anchor=\"middle\" y=\"327.0\">\n    <tspan class=\"displacy-word\" fill=\"currentColor\" x=\"260\">сборную</tspan>\n    <tspan class=\"displacy-tag\" dy=\"2em\" fill=\"currentColor\" x=\"260\">NOUN</tspan>\n</text>\n\n<text class=\"displacy-token\" fill=\"currentColor\" text-anchor=\"middle\" y=\"327.0\">\n    <tspan class=\"displacy-word\" fill=\"currentColor\" x=\"330\">РФ</tspan>\n    <tspan class=\"displacy-tag\" dy=\"2em\" fill=\"currentColor\" x=\"330\">PROPN</tspan>\n</text>\n\n<text class=\"displacy-token\" fill=\"currentColor\" text-anchor=\"middle\" y=\"327.0\">\n    <tspan class=\"displacy-word\" fill=\"currentColor\" x=\"400\">от</tspan>\n    <tspan class=\"displacy-tag\" dy=\"2em\" fill=\"currentColor\" x=\"400\">ADP</tspan>\n</text>\n\n<text class=\"displacy-token\" fill=\"currentColor\" text-anchor=\"middle\" y=\"327.0\">\n    <tspan class=\"displacy-word\" fill=\"currentColor\" x=\"470\">участия</tspan>\n    <tspan class=\"displacy-tag\" dy=\"2em\" fill=\"currentColor\" x=\"470\">NOUN</tspan>\n</text>\n\n<text class=\"displacy-token\" fill=\"currentColor\" text-anchor=\"middle\" y=\"327.0\">\n    <tspan class=\"displacy-word\" fill=\"currentColor\" x=\"540\">в</tspan>\n    <tspan class=\"displacy-tag\" dy=\"2em\" fill=\"currentColor\" x=\"540\">ADP</tspan>\n</text>\n\n<text class=\"displacy-token\" fill=\"currentColor\" text-anchor=\"middle\" y=\"327.0\">\n    <tspan class=\"displacy-word\" fill=\"currentColor\" x=\"610\">Олимпийских</tspan>\n    <tspan class=\"displacy-tag\" dy=\"2em\" fill=\"currentColor\" x=\"610\">ADJ</tspan>\n</text>\n\n<text class=\"displacy-token\" fill=\"currentColor\" text-anchor=\"middle\" y=\"327.0\">\n    <tspan class=\"displacy-word\" fill=\"currentColor\" x=\"680\">играх –</tspan>\n    <tspan class=\"displacy-tag\" dy=\"2em\" fill=\"currentColor\" x=\"680\">NOUN</tspan>\n</text>\n\n<text class=\"displacy-token\" fill=\"currentColor\" text-anchor=\"middle\" y=\"327.0\">\n    <tspan class=\"displacy-word\" fill=\"currentColor\" x=\"750\">вице-</tspan>\n    <tspan class=\"displacy-tag\" dy=\"2em\" fill=\"currentColor\" x=\"750\">NOUN</tspan>\n</text>\n\n<text class=\"displacy-token\" fill=\"currentColor\" text-anchor=\"middle\" y=\"327.0\">\n    <tspan class=\"displacy-word\" fill=\"currentColor\" x=\"820\">президент</tspan>\n    <tspan class=\"displacy-tag\" dy=\"2em\" fill=\"currentColor\" x=\"820\">NOUN</tspan>\n</text>\n\n<text class=\"displacy-token\" fill=\"currentColor\" text-anchor=\"middle\" y=\"327.0\">\n    <tspan class=\"displacy-word\" fill=\"currentColor\" x=\"890\">IIHF</tspan>\n    <tspan class=\"displacy-tag\" dy=\"2em\" fill=\"currentColor\" x=\"890\">PROPN</tspan>\n</text>\n\n<text class=\"displacy-token\" fill=\"currentColor\" text-anchor=\"middle\" y=\"327.0\">\n    <tspan class=\"displacy-word\" fill=\"currentColor\" x=\"960\"> </tspan>\n    <tspan class=\"displacy-tag\" dy=\"2em\" fill=\"currentColor\" x=\"960\">SPACE</tspan>\n</text>\n\n<text class=\"displacy-token\" fill=\"currentColor\" text-anchor=\"middle\" y=\"327.0\">\n    <tspan class=\"displacy-word\" fill=\"currentColor\" x=\"1030\">Нельзя</tspan>\n    <tspan class=\"displacy-tag\" dy=\"2em\" fill=\"currentColor\" x=\"1030\">ADV</tspan>\n</text>\n\n<text class=\"displacy-token\" fill=\"currentColor\" text-anchor=\"middle\" y=\"327.0\">\n    <tspan class=\"displacy-word\" fill=\"currentColor\" x=\"1100\">отстранять</tspan>\n    <tspan class=\"displacy-tag\" dy=\"2em\" fill=\"currentColor\" x=\"1100\">VERB</tspan>\n</text>\n\n<text class=\"displacy-token\" fill=\"currentColor\" text-anchor=\"middle\" y=\"327.0\">\n    <tspan class=\"displacy-word\" fill=\"currentColor\" x=\"1170\">всю</tspan>\n    <tspan class=\"displacy-tag\" dy=\"2em\" fill=\"currentColor\" x=\"1170\">DET</tspan>\n</text>\n\n<text class=\"displacy-token\" fill=\"currentColor\" text-anchor=\"middle\" y=\"327.0\">\n    <tspan class=\"displacy-word\" fill=\"currentColor\" x=\"1240\">сборную</tspan>\n    <tspan class=\"displacy-tag\" dy=\"2em\" fill=\"currentColor\" x=\"1240\">NOUN</tspan>\n</text>\n\n<text class=\"displacy-token\" fill=\"currentColor\" text-anchor=\"middle\" y=\"327.0\">\n    <tspan class=\"displacy-word\" fill=\"currentColor\" x=\"1310\">России</tspan>\n    <tspan class=\"displacy-tag\" dy=\"2em\" fill=\"currentColor\" x=\"1310\">PROPN</tspan>\n</text>\n\n<text class=\"displacy-token\" fill=\"currentColor\" text-anchor=\"middle\" y=\"327.0\">\n    <tspan class=\"displacy-word\" fill=\"currentColor\" x=\"1380\">от</tspan>\n    <tspan class=\"displacy-tag\" dy=\"2em\" fill=\"currentColor\" x=\"1380\">ADP</tspan>\n</text>\n\n<text class=\"displacy-token\" fill=\"currentColor\" text-anchor=\"middle\" y=\"327.0\">\n    <tspan class=\"displacy-word\" fill=\"currentColor\" x=\"1450\">участия</tspan>\n    <tspan class=\"displacy-tag\" dy=\"2em\" fill=\"currentColor\" x=\"1450\">NOUN</tspan>\n</text>\n\n<text class=\"displacy-token\" fill=\"currentColor\" text-anchor=\"middle\" y=\"327.0\">\n    <tspan class=\"displacy-word\" fill=\"currentColor\" x=\"1520\">в</tspan>\n    <tspan class=\"displacy-tag\" dy=\"2em\" fill=\"currentColor\" x=\"1520\">ADP</tspan>\n</text>\n\n<text class=\"displacy-token\" fill=\"currentColor\" text-anchor=\"middle\" y=\"327.0\">\n    <tspan class=\"displacy-word\" fill=\"currentColor\" x=\"1590\">зимних</tspan>\n    <tspan class=\"displacy-tag\" dy=\"2em\" fill=\"currentColor\" x=\"1590\">ADJ</tspan>\n</text>\n\n<text class=\"displacy-token\" fill=\"currentColor\" text-anchor=\"middle\" y=\"327.0\">\n    <tspan class=\"displacy-word\" fill=\"currentColor\" x=\"1660\">Олимпийских</tspan>\n    <tspan class=\"displacy-tag\" dy=\"2em\" fill=\"currentColor\" x=\"1660\">ADJ</tspan>\n</text>\n\n<text class=\"displacy-token\" fill=\"currentColor\" text-anchor=\"middle\" y=\"327.0\">\n    <tspan class=\"displacy-word\" fill=\"currentColor\" x=\"1730\">играх</tspan>\n    <tspan class=\"displacy-tag\" dy=\"2em\" fill=\"currentColor\" x=\"1730\">NOUN</tspan>\n</text>\n\n<text class=\"displacy-token\" fill=\"currentColor\" text-anchor=\"middle\" y=\"327.0\">\n    <tspan class=\"displacy-word\" fill=\"currentColor\" x=\"1800\">в</tspan>\n    <tspan class=\"displacy-tag\" dy=\"2em\" fill=\"currentColor\" x=\"1800\">ADP</tspan>\n</text>\n\n<text class=\"displacy-token\" fill=\"currentColor\" text-anchor=\"middle\" y=\"327.0\">\n    <tspan class=\"displacy-word\" fill=\"currentColor\" x=\"1870\">южнокорейском</tspan>\n    <tspan class=\"displacy-tag\" dy=\"2em\" fill=\"currentColor\" x=\"1870\">ADJ</tspan>\n</text>\n\n<text class=\"displacy-token\" fill=\"currentColor\" text-anchor=\"middle\" y=\"327.0\">\n    <tspan class=\"displacy-word\" fill=\"currentColor\" x=\"1940\">Пхенчхане,</tspan>\n    <tspan class=\"displacy-tag\" dy=\"2em\" fill=\"currentColor\" x=\"1940\">PROPN</tspan>\n</text>\n\n<text class=\"displacy-token\" fill=\"currentColor\" text-anchor=\"middle\" y=\"327.0\">\n    <tspan class=\"displacy-word\" fill=\"currentColor\" x=\"2010\">заявил</tspan>\n    <tspan class=\"displacy-tag\" dy=\"2em\" fill=\"currentColor\" x=\"2010\">VERB</tspan>\n</text>\n\n<text class=\"displacy-token\" fill=\"currentColor\" text-anchor=\"middle\" y=\"327.0\">\n    <tspan class=\"displacy-word\" fill=\"currentColor\" x=\"2080\">вице-</tspan>\n    <tspan class=\"displacy-tag\" dy=\"2em\" fill=\"currentColor\" x=\"2080\">NOUN</tspan>\n</text>\n\n<text class=\"displacy-token\" fill=\"currentColor\" text-anchor=\"middle\" y=\"327.0\">\n    <tspan class=\"displacy-word\" fill=\"currentColor\" x=\"2150\">президент</tspan>\n    <tspan class=\"displacy-tag\" dy=\"2em\" fill=\"currentColor\" x=\"2150\">NOUN</tspan>\n</text>\n\n<text class=\"displacy-token\" fill=\"currentColor\" text-anchor=\"middle\" y=\"327.0\">\n    <tspan class=\"displacy-word\" fill=\"currentColor\" x=\"2220\">Международной</tspan>\n    <tspan class=\"displacy-tag\" dy=\"2em\" fill=\"currentColor\" x=\"2220\">ADJ</tspan>\n</text>\n\n<text class=\"displacy-token\" fill=\"currentColor\" text-anchor=\"middle\" y=\"327.0\">\n    <tspan class=\"displacy-word\" fill=\"currentColor\" x=\"2290\">федерации</tspan>\n    <tspan class=\"displacy-tag\" dy=\"2em\" fill=\"currentColor\" x=\"2290\">NOUN</tspan>\n</text>\n\n<text class=\"displacy-token\" fill=\"currentColor\" text-anchor=\"middle\" y=\"327.0\">\n    <tspan class=\"displacy-word\" fill=\"currentColor\" x=\"2360\">хоккея (</tspan>\n    <tspan class=\"displacy-tag\" dy=\"2em\" fill=\"currentColor\" x=\"2360\">NOUN</tspan>\n</text>\n\n<text class=\"displacy-token\" fill=\"currentColor\" text-anchor=\"middle\" y=\"327.0\">\n    <tspan class=\"displacy-word\" fill=\"currentColor\" x=\"2430\">IIHF)</tspan>\n    <tspan class=\"displacy-tag\" dy=\"2em\" fill=\"currentColor\" x=\"2430\">PROPN</tspan>\n</text>\n\n<text class=\"displacy-token\" fill=\"currentColor\" text-anchor=\"middle\" y=\"327.0\">\n    <tspan class=\"displacy-word\" fill=\"currentColor\" x=\"2500\">финн</tspan>\n    <tspan class=\"displacy-tag\" dy=\"2em\" fill=\"currentColor\" x=\"2500\">NOUN</tspan>\n</text>\n\n<text class=\"displacy-token\" fill=\"currentColor\" text-anchor=\"middle\" y=\"327.0\">\n    <tspan class=\"displacy-word\" fill=\"currentColor\" x=\"2570\">Калерво</tspan>\n    <tspan class=\"displacy-tag\" dy=\"2em\" fill=\"currentColor\" x=\"2570\">PROPN</tspan>\n</text>\n\n<text class=\"displacy-token\" fill=\"currentColor\" text-anchor=\"middle\" y=\"327.0\">\n    <tspan class=\"displacy-word\" fill=\"currentColor\" x=\"2640\">Куммола.</tspan>\n    <tspan class=\"displacy-tag\" dy=\"2em\" fill=\"currentColor\" x=\"2640\">PUNCT</tspan>\n</text>\n\n<text class=\"displacy-token\" fill=\"currentColor\" text-anchor=\"middle\" y=\"327.0\">\n    <tspan class=\"displacy-word\" fill=\"currentColor\" x=\"2710\"> &quot;</tspan>\n    <tspan class=\"displacy-tag\" dy=\"2em\" fill=\"currentColor\" x=\"2710\">SPACE</tspan>\n</text>\n\n<text class=\"displacy-token\" fill=\"currentColor\" text-anchor=\"middle\" y=\"327.0\">\n    <tspan class=\"displacy-word\" fill=\"currentColor\" x=\"2780\">Все</tspan>\n    <tspan class=\"displacy-tag\" dy=\"2em\" fill=\"currentColor\" x=\"2780\">DET</tspan>\n</text>\n\n<text class=\"displacy-token\" fill=\"currentColor\" text-anchor=\"middle\" y=\"327.0\">\n    <tspan class=\"displacy-word\" fill=\"currentColor\" x=\"2850\">олимпийская</tspan>\n    <tspan class=\"displacy-tag\" dy=\"2em\" fill=\"currentColor\" x=\"2850\">ADJ</tspan>\n</text>\n\n<text class=\"displacy-token\" fill=\"currentColor\" text-anchor=\"middle\" y=\"327.0\">\n    <tspan class=\"displacy-word\" fill=\"currentColor\" x=\"2920\">система</tspan>\n    <tspan class=\"displacy-tag\" dy=\"2em\" fill=\"currentColor\" x=\"2920\">NOUN</tspan>\n</text>\n\n<text class=\"displacy-token\" fill=\"currentColor\" text-anchor=\"middle\" y=\"327.0\">\n    <tspan class=\"displacy-word\" fill=\"currentColor\" x=\"2990\">находится</tspan>\n    <tspan class=\"displacy-tag\" dy=\"2em\" fill=\"currentColor\" x=\"2990\">VERB</tspan>\n</text>\n\n<text class=\"displacy-token\" fill=\"currentColor\" text-anchor=\"middle\" y=\"327.0\">\n    <tspan class=\"displacy-word\" fill=\"currentColor\" x=\"3060\">в</tspan>\n    <tspan class=\"displacy-tag\" dy=\"2em\" fill=\"currentColor\" x=\"3060\">ADP</tspan>\n</text>\n\n<text class=\"displacy-token\" fill=\"currentColor\" text-anchor=\"middle\" y=\"327.0\">\n    <tspan class=\"displacy-word\" fill=\"currentColor\" x=\"3130\">опасности.</tspan>\n    <tspan class=\"displacy-tag\" dy=\"2em\" fill=\"currentColor\" x=\"3130\">NOUN</tspan>\n</text>\n\n<g class=\"displacy-arrow\">\n    <path class=\"displacy-arc\" id=\"arrow-ce290698ce6e49bfb53a65ceff002da5-0-0\" stroke-width=\"2px\" d=\"M70,282.0 C70,247.0 85.0,247.0 85.0,282.0\" fill=\"none\" stroke=\"currentColor\"/>\n    <text dy=\"1.25em\" style=\"font-size: 0.8em; letter-spacing: 1px\">\n        <textPath xlink:href=\"#arrow-ce290698ce6e49bfb53a65ceff002da5-0-0\" class=\"displacy-label\" startOffset=\"50%\" side=\"left\" fill=\"currentColor\" text-anchor=\"middle\">csubj</textPath>\n    </text>\n    <path class=\"displacy-arrowhead\" d=\"M85.0,284.0 L93.0,272.0 77.0,272.0\" fill=\"currentColor\"/>\n</g>\n\n<g class=\"displacy-arrow\">\n    <path class=\"displacy-arc\" id=\"arrow-ce290698ce6e49bfb53a65ceff002da5-0-1\" stroke-width=\"2px\" d=\"M210,282.0 C210,247.0 225.0,247.0 225.0,282.0\" fill=\"none\" stroke=\"currentColor\"/>\n    <text dy=\"1.25em\" style=\"font-size: 0.8em; letter-spacing: 1px\">\n        <textPath xlink:href=\"#arrow-ce290698ce6e49bfb53a65ceff002da5-0-1\" class=\"displacy-label\" startOffset=\"50%\" side=\"left\" fill=\"currentColor\" text-anchor=\"middle\">det</textPath>\n    </text>\n    <path class=\"displacy-arrowhead\" d=\"M210,284.0 L202,272.0 218,272.0\" fill=\"currentColor\"/>\n</g>\n\n<g class=\"displacy-arrow\">\n    <path class=\"displacy-arc\" id=\"arrow-ce290698ce6e49bfb53a65ceff002da5-0-2\" stroke-width=\"2px\" d=\"M140,282.0 C140,212.0 230.0,212.0 230.0,282.0\" fill=\"none\" stroke=\"currentColor\"/>\n    <text dy=\"1.25em\" style=\"font-size: 0.8em; letter-spacing: 1px\">\n        <textPath xlink:href=\"#arrow-ce290698ce6e49bfb53a65ceff002da5-0-2\" class=\"displacy-label\" startOffset=\"50%\" side=\"left\" fill=\"currentColor\" text-anchor=\"middle\">obj</textPath>\n    </text>\n    <path class=\"displacy-arrowhead\" d=\"M230.0,284.0 L238.0,272.0 222.0,272.0\" fill=\"currentColor\"/>\n</g>\n\n<g class=\"displacy-arrow\">\n    <path class=\"displacy-arc\" id=\"arrow-ce290698ce6e49bfb53a65ceff002da5-0-3\" stroke-width=\"2px\" d=\"M280,282.0 C280,247.0 295.0,247.0 295.0,282.0\" fill=\"none\" stroke=\"currentColor\"/>\n    <text dy=\"1.25em\" style=\"font-size: 0.8em; letter-spacing: 1px\">\n        <textPath xlink:href=\"#arrow-ce290698ce6e49bfb53a65ceff002da5-0-3\" class=\"displacy-label\" startOffset=\"50%\" side=\"left\" fill=\"currentColor\" text-anchor=\"middle\">nmod</textPath>\n    </text>\n    <path class=\"displacy-arrowhead\" d=\"M295.0,284.0 L303.0,272.0 287.0,272.0\" fill=\"currentColor\"/>\n</g>\n\n<g class=\"displacy-arrow\">\n    <path class=\"displacy-arc\" id=\"arrow-ce290698ce6e49bfb53a65ceff002da5-0-4\" stroke-width=\"2px\" d=\"M420,282.0 C420,247.0 435.0,247.0 435.0,282.0\" fill=\"none\" stroke=\"currentColor\"/>\n    <text dy=\"1.25em\" style=\"font-size: 0.8em; letter-spacing: 1px\">\n        <textPath xlink:href=\"#arrow-ce290698ce6e49bfb53a65ceff002da5-0-4\" class=\"displacy-label\" startOffset=\"50%\" side=\"left\" fill=\"currentColor\" text-anchor=\"middle\">case</textPath>\n    </text>\n    <path class=\"displacy-arrowhead\" d=\"M420,284.0 L412,272.0 428,272.0\" fill=\"currentColor\"/>\n</g>\n\n<g class=\"displacy-arrow\">\n    <path class=\"displacy-arc\" id=\"arrow-ce290698ce6e49bfb53a65ceff002da5-0-5\" stroke-width=\"2px\" d=\"M140,282.0 C140,177.0 445.0,177.0 445.0,282.0\" fill=\"none\" stroke=\"currentColor\"/>\n    <text dy=\"1.25em\" style=\"font-size: 0.8em; letter-spacing: 1px\">\n        <textPath xlink:href=\"#arrow-ce290698ce6e49bfb53a65ceff002da5-0-5\" class=\"displacy-label\" startOffset=\"50%\" side=\"left\" fill=\"currentColor\" text-anchor=\"middle\">obl</textPath>\n    </text>\n    <path class=\"displacy-arrowhead\" d=\"M445.0,284.0 L453.0,272.0 437.0,272.0\" fill=\"currentColor\"/>\n</g>\n\n<g class=\"displacy-arrow\">\n    <path class=\"displacy-arc\" id=\"arrow-ce290698ce6e49bfb53a65ceff002da5-0-6\" stroke-width=\"2px\" d=\"M560,282.0 C560,212.0 650.0,212.0 650.0,282.0\" fill=\"none\" stroke=\"currentColor\"/>\n    <text dy=\"1.25em\" style=\"font-size: 0.8em; letter-spacing: 1px\">\n        <textPath xlink:href=\"#arrow-ce290698ce6e49bfb53a65ceff002da5-0-6\" class=\"displacy-label\" startOffset=\"50%\" side=\"left\" fill=\"currentColor\" text-anchor=\"middle\">case</textPath>\n    </text>\n    <path class=\"displacy-arrowhead\" d=\"M560,284.0 L552,272.0 568,272.0\" fill=\"currentColor\"/>\n</g>\n\n<g class=\"displacy-arrow\">\n    <path class=\"displacy-arc\" id=\"arrow-ce290698ce6e49bfb53a65ceff002da5-0-7\" stroke-width=\"2px\" d=\"M630,282.0 C630,247.0 645.0,247.0 645.0,282.0\" fill=\"none\" stroke=\"currentColor\"/>\n    <text dy=\"1.25em\" style=\"font-size: 0.8em; letter-spacing: 1px\">\n        <textPath xlink:href=\"#arrow-ce290698ce6e49bfb53a65ceff002da5-0-7\" class=\"displacy-label\" startOffset=\"50%\" side=\"left\" fill=\"currentColor\" text-anchor=\"middle\">amod</textPath>\n    </text>\n    <path class=\"displacy-arrowhead\" d=\"M630,284.0 L622,272.0 638,272.0\" fill=\"currentColor\"/>\n</g>\n\n<g class=\"displacy-arrow\">\n    <path class=\"displacy-arc\" id=\"arrow-ce290698ce6e49bfb53a65ceff002da5-0-8\" stroke-width=\"2px\" d=\"M490,282.0 C490,177.0 655.0,177.0 655.0,282.0\" fill=\"none\" stroke=\"currentColor\"/>\n    <text dy=\"1.25em\" style=\"font-size: 0.8em; letter-spacing: 1px\">\n        <textPath xlink:href=\"#arrow-ce290698ce6e49bfb53a65ceff002da5-0-8\" class=\"displacy-label\" startOffset=\"50%\" side=\"left\" fill=\"currentColor\" text-anchor=\"middle\">nmod</textPath>\n    </text>\n    <path class=\"displacy-arrowhead\" d=\"M655.0,284.0 L663.0,272.0 647.0,272.0\" fill=\"currentColor\"/>\n</g>\n\n<g class=\"displacy-arrow\">\n    <path class=\"displacy-arc\" id=\"arrow-ce290698ce6e49bfb53a65ceff002da5-0-9\" stroke-width=\"2px\" d=\"M70,282.0 C70,142.0 730.0,142.0 730.0,282.0\" fill=\"none\" stroke=\"currentColor\"/>\n    <text dy=\"1.25em\" style=\"font-size: 0.8em; letter-spacing: 1px\">\n        <textPath xlink:href=\"#arrow-ce290698ce6e49bfb53a65ceff002da5-0-9\" class=\"displacy-label\" startOffset=\"50%\" side=\"left\" fill=\"currentColor\" text-anchor=\"middle\">nsubj</textPath>\n    </text>\n    <path class=\"displacy-arrowhead\" d=\"M730.0,284.0 L738.0,272.0 722.0,272.0\" fill=\"currentColor\"/>\n</g>\n\n<g class=\"displacy-arrow\">\n    <path class=\"displacy-arc\" id=\"arrow-ce290698ce6e49bfb53a65ceff002da5-0-10\" stroke-width=\"2px\" d=\"M70,282.0 C70,107.0 805.0,107.0 805.0,282.0\" fill=\"none\" stroke=\"currentColor\"/>\n    <text dy=\"1.25em\" style=\"font-size: 0.8em; letter-spacing: 1px\">\n        <textPath xlink:href=\"#arrow-ce290698ce6e49bfb53a65ceff002da5-0-10\" class=\"displacy-label\" startOffset=\"50%\" side=\"left\" fill=\"currentColor\" text-anchor=\"middle\">nsubj</textPath>\n    </text>\n    <path class=\"displacy-arrowhead\" d=\"M805.0,284.0 L813.0,272.0 797.0,272.0\" fill=\"currentColor\"/>\n</g>\n\n<g class=\"displacy-arrow\">\n    <path class=\"displacy-arc\" id=\"arrow-ce290698ce6e49bfb53a65ceff002da5-0-11\" stroke-width=\"2px\" d=\"M840,282.0 C840,247.0 855.0,247.0 855.0,282.0\" fill=\"none\" stroke=\"currentColor\"/>\n    <text dy=\"1.25em\" style=\"font-size: 0.8em; letter-spacing: 1px\">\n        <textPath xlink:href=\"#arrow-ce290698ce6e49bfb53a65ceff002da5-0-11\" class=\"displacy-label\" startOffset=\"50%\" side=\"left\" fill=\"currentColor\" text-anchor=\"middle\">nmod</textPath>\n    </text>\n    <path class=\"displacy-arrowhead\" d=\"M855.0,284.0 L863.0,272.0 847.0,272.0\" fill=\"currentColor\"/>\n</g>\n\n<g class=\"displacy-arrow\">\n    <path class=\"displacy-arc\" id=\"arrow-ce290698ce6e49bfb53a65ceff002da5-0-12\" stroke-width=\"2px\" d=\"M910,282.0 C910,247.0 925.0,247.0 925.0,282.0\" fill=\"none\" stroke=\"currentColor\"/>\n    <text dy=\"1.25em\" style=\"font-size: 0.8em; letter-spacing: 1px\">\n        <textPath xlink:href=\"#arrow-ce290698ce6e49bfb53a65ceff002da5-0-12\" class=\"displacy-label\" startOffset=\"50%\" side=\"left\" fill=\"currentColor\" text-anchor=\"middle\">dep</textPath>\n    </text>\n    <path class=\"displacy-arrowhead\" d=\"M925.0,284.0 L933.0,272.0 917.0,272.0\" fill=\"currentColor\"/>\n</g>\n\n<g class=\"displacy-arrow\">\n    <path class=\"displacy-arc\" id=\"arrow-ce290698ce6e49bfb53a65ceff002da5-0-13\" stroke-width=\"2px\" d=\"M70,282.0 C70,72.0 1020.0,72.0 1020.0,282.0\" fill=\"none\" stroke=\"currentColor\"/>\n    <text dy=\"1.25em\" style=\"font-size: 0.8em; letter-spacing: 1px\">\n        <textPath xlink:href=\"#arrow-ce290698ce6e49bfb53a65ceff002da5-0-13\" class=\"displacy-label\" startOffset=\"50%\" side=\"left\" fill=\"currentColor\" text-anchor=\"middle\">csubj</textPath>\n    </text>\n    <path class=\"displacy-arrowhead\" d=\"M1020.0,284.0 L1028.0,272.0 1012.0,272.0\" fill=\"currentColor\"/>\n</g>\n\n<g class=\"displacy-arrow\">\n    <path class=\"displacy-arc\" id=\"arrow-ce290698ce6e49bfb53a65ceff002da5-0-14\" stroke-width=\"2px\" d=\"M1050,282.0 C1050,247.0 1065.0,247.0 1065.0,282.0\" fill=\"none\" stroke=\"currentColor\"/>\n    <text dy=\"1.25em\" style=\"font-size: 0.8em; letter-spacing: 1px\">\n        <textPath xlink:href=\"#arrow-ce290698ce6e49bfb53a65ceff002da5-0-14\" class=\"displacy-label\" startOffset=\"50%\" side=\"left\" fill=\"currentColor\" text-anchor=\"middle\">csubj</textPath>\n    </text>\n    <path class=\"displacy-arrowhead\" d=\"M1065.0,284.0 L1073.0,272.0 1057.0,272.0\" fill=\"currentColor\"/>\n</g>\n\n<g class=\"displacy-arrow\">\n    <path class=\"displacy-arc\" id=\"arrow-ce290698ce6e49bfb53a65ceff002da5-0-15\" stroke-width=\"2px\" d=\"M1190,282.0 C1190,247.0 1205.0,247.0 1205.0,282.0\" fill=\"none\" stroke=\"currentColor\"/>\n    <text dy=\"1.25em\" style=\"font-size: 0.8em; letter-spacing: 1px\">\n        <textPath xlink:href=\"#arrow-ce290698ce6e49bfb53a65ceff002da5-0-15\" class=\"displacy-label\" startOffset=\"50%\" side=\"left\" fill=\"currentColor\" text-anchor=\"middle\">det</textPath>\n    </text>\n    <path class=\"displacy-arrowhead\" d=\"M1190,284.0 L1182,272.0 1198,272.0\" fill=\"currentColor\"/>\n</g>\n\n<g class=\"displacy-arrow\">\n    <path class=\"displacy-arc\" id=\"arrow-ce290698ce6e49bfb53a65ceff002da5-0-16\" stroke-width=\"2px\" d=\"M1120,282.0 C1120,212.0 1210.0,212.0 1210.0,282.0\" fill=\"none\" stroke=\"currentColor\"/>\n    <text dy=\"1.25em\" style=\"font-size: 0.8em; letter-spacing: 1px\">\n        <textPath xlink:href=\"#arrow-ce290698ce6e49bfb53a65ceff002da5-0-16\" class=\"displacy-label\" startOffset=\"50%\" side=\"left\" fill=\"currentColor\" text-anchor=\"middle\">obj</textPath>\n    </text>\n    <path class=\"displacy-arrowhead\" d=\"M1210.0,284.0 L1218.0,272.0 1202.0,272.0\" fill=\"currentColor\"/>\n</g>\n\n<g class=\"displacy-arrow\">\n    <path class=\"displacy-arc\" id=\"arrow-ce290698ce6e49bfb53a65ceff002da5-0-17\" stroke-width=\"2px\" d=\"M1260,282.0 C1260,247.0 1275.0,247.0 1275.0,282.0\" fill=\"none\" stroke=\"currentColor\"/>\n    <text dy=\"1.25em\" style=\"font-size: 0.8em; letter-spacing: 1px\">\n        <textPath xlink:href=\"#arrow-ce290698ce6e49bfb53a65ceff002da5-0-17\" class=\"displacy-label\" startOffset=\"50%\" side=\"left\" fill=\"currentColor\" text-anchor=\"middle\">nmod</textPath>\n    </text>\n    <path class=\"displacy-arrowhead\" d=\"M1275.0,284.0 L1283.0,272.0 1267.0,272.0\" fill=\"currentColor\"/>\n</g>\n\n<g class=\"displacy-arrow\">\n    <path class=\"displacy-arc\" id=\"arrow-ce290698ce6e49bfb53a65ceff002da5-0-18\" stroke-width=\"2px\" d=\"M1400,282.0 C1400,247.0 1415.0,247.0 1415.0,282.0\" fill=\"none\" stroke=\"currentColor\"/>\n    <text dy=\"1.25em\" style=\"font-size: 0.8em; letter-spacing: 1px\">\n        <textPath xlink:href=\"#arrow-ce290698ce6e49bfb53a65ceff002da5-0-18\" class=\"displacy-label\" startOffset=\"50%\" side=\"left\" fill=\"currentColor\" text-anchor=\"middle\">case</textPath>\n    </text>\n    <path class=\"displacy-arrowhead\" d=\"M1400,284.0 L1392,272.0 1408,272.0\" fill=\"currentColor\"/>\n</g>\n\n<g class=\"displacy-arrow\">\n    <path class=\"displacy-arc\" id=\"arrow-ce290698ce6e49bfb53a65ceff002da5-0-19\" stroke-width=\"2px\" d=\"M1120,282.0 C1120,177.0 1425.0,177.0 1425.0,282.0\" fill=\"none\" stroke=\"currentColor\"/>\n    <text dy=\"1.25em\" style=\"font-size: 0.8em; letter-spacing: 1px\">\n        <textPath xlink:href=\"#arrow-ce290698ce6e49bfb53a65ceff002da5-0-19\" class=\"displacy-label\" startOffset=\"50%\" side=\"left\" fill=\"currentColor\" text-anchor=\"middle\">obl</textPath>\n    </text>\n    <path class=\"displacy-arrowhead\" d=\"M1425.0,284.0 L1433.0,272.0 1417.0,272.0\" fill=\"currentColor\"/>\n</g>\n\n<g class=\"displacy-arrow\">\n    <path class=\"displacy-arc\" id=\"arrow-ce290698ce6e49bfb53a65ceff002da5-0-20\" stroke-width=\"2px\" d=\"M1540,282.0 C1540,177.0 1705.0,177.0 1705.0,282.0\" fill=\"none\" stroke=\"currentColor\"/>\n    <text dy=\"1.25em\" style=\"font-size: 0.8em; letter-spacing: 1px\">\n        <textPath xlink:href=\"#arrow-ce290698ce6e49bfb53a65ceff002da5-0-20\" class=\"displacy-label\" startOffset=\"50%\" side=\"left\" fill=\"currentColor\" text-anchor=\"middle\">case</textPath>\n    </text>\n    <path class=\"displacy-arrowhead\" d=\"M1540,284.0 L1532,272.0 1548,272.0\" fill=\"currentColor\"/>\n</g>\n\n<g class=\"displacy-arrow\">\n    <path class=\"displacy-arc\" id=\"arrow-ce290698ce6e49bfb53a65ceff002da5-0-21\" stroke-width=\"2px\" d=\"M1610,282.0 C1610,212.0 1700.0,212.0 1700.0,282.0\" fill=\"none\" stroke=\"currentColor\"/>\n    <text dy=\"1.25em\" style=\"font-size: 0.8em; letter-spacing: 1px\">\n        <textPath xlink:href=\"#arrow-ce290698ce6e49bfb53a65ceff002da5-0-21\" class=\"displacy-label\" startOffset=\"50%\" side=\"left\" fill=\"currentColor\" text-anchor=\"middle\">amod</textPath>\n    </text>\n    <path class=\"displacy-arrowhead\" d=\"M1610,284.0 L1602,272.0 1618,272.0\" fill=\"currentColor\"/>\n</g>\n\n<g class=\"displacy-arrow\">\n    <path class=\"displacy-arc\" id=\"arrow-ce290698ce6e49bfb53a65ceff002da5-0-22\" stroke-width=\"2px\" d=\"M1680,282.0 C1680,247.0 1695.0,247.0 1695.0,282.0\" fill=\"none\" stroke=\"currentColor\"/>\n    <text dy=\"1.25em\" style=\"font-size: 0.8em; letter-spacing: 1px\">\n        <textPath xlink:href=\"#arrow-ce290698ce6e49bfb53a65ceff002da5-0-22\" class=\"displacy-label\" startOffset=\"50%\" side=\"left\" fill=\"currentColor\" text-anchor=\"middle\">amod</textPath>\n    </text>\n    <path class=\"displacy-arrowhead\" d=\"M1680,284.0 L1672,272.0 1688,272.0\" fill=\"currentColor\"/>\n</g>\n\n<g class=\"displacy-arrow\">\n    <path class=\"displacy-arc\" id=\"arrow-ce290698ce6e49bfb53a65ceff002da5-0-23\" stroke-width=\"2px\" d=\"M1470,282.0 C1470,142.0 1710.0,142.0 1710.0,282.0\" fill=\"none\" stroke=\"currentColor\"/>\n    <text dy=\"1.25em\" style=\"font-size: 0.8em; letter-spacing: 1px\">\n        <textPath xlink:href=\"#arrow-ce290698ce6e49bfb53a65ceff002da5-0-23\" class=\"displacy-label\" startOffset=\"50%\" side=\"left\" fill=\"currentColor\" text-anchor=\"middle\">nmod</textPath>\n    </text>\n    <path class=\"displacy-arrowhead\" d=\"M1710.0,284.0 L1718.0,272.0 1702.0,272.0\" fill=\"currentColor\"/>\n</g>\n\n<g class=\"displacy-arrow\">\n    <path class=\"displacy-arc\" id=\"arrow-ce290698ce6e49bfb53a65ceff002da5-0-24\" stroke-width=\"2px\" d=\"M1820,282.0 C1820,212.0 1910.0,212.0 1910.0,282.0\" fill=\"none\" stroke=\"currentColor\"/>\n    <text dy=\"1.25em\" style=\"font-size: 0.8em; letter-spacing: 1px\">\n        <textPath xlink:href=\"#arrow-ce290698ce6e49bfb53a65ceff002da5-0-24\" class=\"displacy-label\" startOffset=\"50%\" side=\"left\" fill=\"currentColor\" text-anchor=\"middle\">case</textPath>\n    </text>\n    <path class=\"displacy-arrowhead\" d=\"M1820,284.0 L1812,272.0 1828,272.0\" fill=\"currentColor\"/>\n</g>\n\n<g class=\"displacy-arrow\">\n    <path class=\"displacy-arc\" id=\"arrow-ce290698ce6e49bfb53a65ceff002da5-0-25\" stroke-width=\"2px\" d=\"M1890,282.0 C1890,247.0 1905.0,247.0 1905.0,282.0\" fill=\"none\" stroke=\"currentColor\"/>\n    <text dy=\"1.25em\" style=\"font-size: 0.8em; letter-spacing: 1px\">\n        <textPath xlink:href=\"#arrow-ce290698ce6e49bfb53a65ceff002da5-0-25\" class=\"displacy-label\" startOffset=\"50%\" side=\"left\" fill=\"currentColor\" text-anchor=\"middle\">amod</textPath>\n    </text>\n    <path class=\"displacy-arrowhead\" d=\"M1890,284.0 L1882,272.0 1898,272.0\" fill=\"currentColor\"/>\n</g>\n\n<g class=\"displacy-arrow\">\n    <path class=\"displacy-arc\" id=\"arrow-ce290698ce6e49bfb53a65ceff002da5-0-26\" stroke-width=\"2px\" d=\"M1750,282.0 C1750,177.0 1915.0,177.0 1915.0,282.0\" fill=\"none\" stroke=\"currentColor\"/>\n    <text dy=\"1.25em\" style=\"font-size: 0.8em; letter-spacing: 1px\">\n        <textPath xlink:href=\"#arrow-ce290698ce6e49bfb53a65ceff002da5-0-26\" class=\"displacy-label\" startOffset=\"50%\" side=\"left\" fill=\"currentColor\" text-anchor=\"middle\">nmod</textPath>\n    </text>\n    <path class=\"displacy-arrowhead\" d=\"M1915.0,284.0 L1923.0,272.0 1907.0,272.0\" fill=\"currentColor\"/>\n</g>\n\n<g class=\"displacy-arrow\">\n    <path class=\"displacy-arc\" id=\"arrow-ce290698ce6e49bfb53a65ceff002da5-0-27\" stroke-width=\"2px\" d=\"M70,282.0 C70,37.0 2005.0,37.0 2005.0,282.0\" fill=\"none\" stroke=\"currentColor\"/>\n    <text dy=\"1.25em\" style=\"font-size: 0.8em; letter-spacing: 1px\">\n        <textPath xlink:href=\"#arrow-ce290698ce6e49bfb53a65ceff002da5-0-27\" class=\"displacy-label\" startOffset=\"50%\" side=\"left\" fill=\"currentColor\" text-anchor=\"middle\">parataxis</textPath>\n    </text>\n    <path class=\"displacy-arrowhead\" d=\"M2005.0,284.0 L2013.0,272.0 1997.0,272.0\" fill=\"currentColor\"/>\n</g>\n\n<g class=\"displacy-arrow\">\n    <path class=\"displacy-arc\" id=\"arrow-ce290698ce6e49bfb53a65ceff002da5-0-28\" stroke-width=\"2px\" d=\"M2030,282.0 C2030,247.0 2045.0,247.0 2045.0,282.0\" fill=\"none\" stroke=\"currentColor\"/>\n    <text dy=\"1.25em\" style=\"font-size: 0.8em; letter-spacing: 1px\">\n        <textPath xlink:href=\"#arrow-ce290698ce6e49bfb53a65ceff002da5-0-28\" class=\"displacy-label\" startOffset=\"50%\" side=\"left\" fill=\"currentColor\" text-anchor=\"middle\">nsubj</textPath>\n    </text>\n    <path class=\"displacy-arrowhead\" d=\"M2045.0,284.0 L2053.0,272.0 2037.0,272.0\" fill=\"currentColor\"/>\n</g>\n\n<g class=\"displacy-arrow\">\n    <path class=\"displacy-arc\" id=\"arrow-ce290698ce6e49bfb53a65ceff002da5-0-29\" stroke-width=\"2px\" d=\"M2030,282.0 C2030,212.0 2120.0,212.0 2120.0,282.0\" fill=\"none\" stroke=\"currentColor\"/>\n    <text dy=\"1.25em\" style=\"font-size: 0.8em; letter-spacing: 1px\">\n        <textPath xlink:href=\"#arrow-ce290698ce6e49bfb53a65ceff002da5-0-29\" class=\"displacy-label\" startOffset=\"50%\" side=\"left\" fill=\"currentColor\" text-anchor=\"middle\">nsubj</textPath>\n    </text>\n    <path class=\"displacy-arrowhead\" d=\"M2120.0,284.0 L2128.0,272.0 2112.0,272.0\" fill=\"currentColor\"/>\n</g>\n\n<g class=\"displacy-arrow\">\n    <path class=\"displacy-arc\" id=\"arrow-ce290698ce6e49bfb53a65ceff002da5-0-30\" stroke-width=\"2px\" d=\"M2240,282.0 C2240,247.0 2255.0,247.0 2255.0,282.0\" fill=\"none\" stroke=\"currentColor\"/>\n    <text dy=\"1.25em\" style=\"font-size: 0.8em; letter-spacing: 1px\">\n        <textPath xlink:href=\"#arrow-ce290698ce6e49bfb53a65ceff002da5-0-30\" class=\"displacy-label\" startOffset=\"50%\" side=\"left\" fill=\"currentColor\" text-anchor=\"middle\">amod</textPath>\n    </text>\n    <path class=\"displacy-arrowhead\" d=\"M2240,284.0 L2232,272.0 2248,272.0\" fill=\"currentColor\"/>\n</g>\n\n<g class=\"displacy-arrow\">\n    <path class=\"displacy-arc\" id=\"arrow-ce290698ce6e49bfb53a65ceff002da5-0-31\" stroke-width=\"2px\" d=\"M2170,282.0 C2170,212.0 2260.0,212.0 2260.0,282.0\" fill=\"none\" stroke=\"currentColor\"/>\n    <text dy=\"1.25em\" style=\"font-size: 0.8em; letter-spacing: 1px\">\n        <textPath xlink:href=\"#arrow-ce290698ce6e49bfb53a65ceff002da5-0-31\" class=\"displacy-label\" startOffset=\"50%\" side=\"left\" fill=\"currentColor\" text-anchor=\"middle\">nmod</textPath>\n    </text>\n    <path class=\"displacy-arrowhead\" d=\"M2260.0,284.0 L2268.0,272.0 2252.0,272.0\" fill=\"currentColor\"/>\n</g>\n\n<g class=\"displacy-arrow\">\n    <path class=\"displacy-arc\" id=\"arrow-ce290698ce6e49bfb53a65ceff002da5-0-32\" stroke-width=\"2px\" d=\"M2310,282.0 C2310,247.0 2325.0,247.0 2325.0,282.0\" fill=\"none\" stroke=\"currentColor\"/>\n    <text dy=\"1.25em\" style=\"font-size: 0.8em; letter-spacing: 1px\">\n        <textPath xlink:href=\"#arrow-ce290698ce6e49bfb53a65ceff002da5-0-32\" class=\"displacy-label\" startOffset=\"50%\" side=\"left\" fill=\"currentColor\" text-anchor=\"middle\">nmod</textPath>\n    </text>\n    <path class=\"displacy-arrowhead\" d=\"M2325.0,284.0 L2333.0,272.0 2317.0,272.0\" fill=\"currentColor\"/>\n</g>\n\n<g class=\"displacy-arrow\">\n    <path class=\"displacy-arc\" id=\"arrow-ce290698ce6e49bfb53a65ceff002da5-0-33\" stroke-width=\"2px\" d=\"M2380,282.0 C2380,247.0 2395.0,247.0 2395.0,282.0\" fill=\"none\" stroke=\"currentColor\"/>\n    <text dy=\"1.25em\" style=\"font-size: 0.8em; letter-spacing: 1px\">\n        <textPath xlink:href=\"#arrow-ce290698ce6e49bfb53a65ceff002da5-0-33\" class=\"displacy-label\" startOffset=\"50%\" side=\"left\" fill=\"currentColor\" text-anchor=\"middle\">appos</textPath>\n    </text>\n    <path class=\"displacy-arrowhead\" d=\"M2395.0,284.0 L2403.0,272.0 2387.0,272.0\" fill=\"currentColor\"/>\n</g>\n\n<g class=\"displacy-arrow\">\n    <path class=\"displacy-arc\" id=\"arrow-ce290698ce6e49bfb53a65ceff002da5-0-34\" stroke-width=\"2px\" d=\"M2170,282.0 C2170,177.0 2475.0,177.0 2475.0,282.0\" fill=\"none\" stroke=\"currentColor\"/>\n    <text dy=\"1.25em\" style=\"font-size: 0.8em; letter-spacing: 1px\">\n        <textPath xlink:href=\"#arrow-ce290698ce6e49bfb53a65ceff002da5-0-34\" class=\"displacy-label\" startOffset=\"50%\" side=\"left\" fill=\"currentColor\" text-anchor=\"middle\">appos</textPath>\n    </text>\n    <path class=\"displacy-arrowhead\" d=\"M2475.0,284.0 L2483.0,272.0 2467.0,272.0\" fill=\"currentColor\"/>\n</g>\n\n<g class=\"displacy-arrow\">\n    <path class=\"displacy-arc\" id=\"arrow-ce290698ce6e49bfb53a65ceff002da5-0-35\" stroke-width=\"2px\" d=\"M2520,282.0 C2520,247.0 2535.0,247.0 2535.0,282.0\" fill=\"none\" stroke=\"currentColor\"/>\n    <text dy=\"1.25em\" style=\"font-size: 0.8em; letter-spacing: 1px\">\n        <textPath xlink:href=\"#arrow-ce290698ce6e49bfb53a65ceff002da5-0-35\" class=\"displacy-label\" startOffset=\"50%\" side=\"left\" fill=\"currentColor\" text-anchor=\"middle\">appos</textPath>\n    </text>\n    <path class=\"displacy-arrowhead\" d=\"M2535.0,284.0 L2543.0,272.0 2527.0,272.0\" fill=\"currentColor\"/>\n</g>\n\n<g class=\"displacy-arrow\">\n    <path class=\"displacy-arc\" id=\"arrow-ce290698ce6e49bfb53a65ceff002da5-0-36\" stroke-width=\"2px\" d=\"M70,282.0 C70,2.0 2640.0,2.0 2640.0,282.0\" fill=\"none\" stroke=\"currentColor\"/>\n    <text dy=\"1.25em\" style=\"font-size: 0.8em; letter-spacing: 1px\">\n        <textPath xlink:href=\"#arrow-ce290698ce6e49bfb53a65ceff002da5-0-36\" class=\"displacy-label\" startOffset=\"50%\" side=\"left\" fill=\"currentColor\" text-anchor=\"middle\">punct</textPath>\n    </text>\n    <path class=\"displacy-arrowhead\" d=\"M2640.0,284.0 L2648.0,272.0 2632.0,272.0\" fill=\"currentColor\"/>\n</g>\n\n<g class=\"displacy-arrow\">\n    <path class=\"displacy-arc\" id=\"arrow-ce290698ce6e49bfb53a65ceff002da5-0-37\" stroke-width=\"2px\" d=\"M2660,282.0 C2660,247.0 2675.0,247.0 2675.0,282.0\" fill=\"none\" stroke=\"currentColor\"/>\n    <text dy=\"1.25em\" style=\"font-size: 0.8em; letter-spacing: 1px\">\n        <textPath xlink:href=\"#arrow-ce290698ce6e49bfb53a65ceff002da5-0-37\" class=\"displacy-label\" startOffset=\"50%\" side=\"left\" fill=\"currentColor\" text-anchor=\"middle\">dep</textPath>\n    </text>\n    <path class=\"displacy-arrowhead\" d=\"M2675.0,284.0 L2683.0,272.0 2667.0,272.0\" fill=\"currentColor\"/>\n</g>\n\n<g class=\"displacy-arrow\">\n    <path class=\"displacy-arc\" id=\"arrow-ce290698ce6e49bfb53a65ceff002da5-0-38\" stroke-width=\"2px\" d=\"M2800,282.0 C2800,212.0 2890.0,212.0 2890.0,282.0\" fill=\"none\" stroke=\"currentColor\"/>\n    <text dy=\"1.25em\" style=\"font-size: 0.8em; letter-spacing: 1px\">\n        <textPath xlink:href=\"#arrow-ce290698ce6e49bfb53a65ceff002da5-0-38\" class=\"displacy-label\" startOffset=\"50%\" side=\"left\" fill=\"currentColor\" text-anchor=\"middle\">det</textPath>\n    </text>\n    <path class=\"displacy-arrowhead\" d=\"M2800,284.0 L2792,272.0 2808,272.0\" fill=\"currentColor\"/>\n</g>\n\n<g class=\"displacy-arrow\">\n    <path class=\"displacy-arc\" id=\"arrow-ce290698ce6e49bfb53a65ceff002da5-0-39\" stroke-width=\"2px\" d=\"M2870,282.0 C2870,247.0 2885.0,247.0 2885.0,282.0\" fill=\"none\" stroke=\"currentColor\"/>\n    <text dy=\"1.25em\" style=\"font-size: 0.8em; letter-spacing: 1px\">\n        <textPath xlink:href=\"#arrow-ce290698ce6e49bfb53a65ceff002da5-0-39\" class=\"displacy-label\" startOffset=\"50%\" side=\"left\" fill=\"currentColor\" text-anchor=\"middle\">amod</textPath>\n    </text>\n    <path class=\"displacy-arrowhead\" d=\"M2870,284.0 L2862,272.0 2878,272.0\" fill=\"currentColor\"/>\n</g>\n\n<g class=\"displacy-arrow\">\n    <path class=\"displacy-arc\" id=\"arrow-ce290698ce6e49bfb53a65ceff002da5-0-40\" stroke-width=\"2px\" d=\"M2940,282.0 C2940,247.0 2955.0,247.0 2955.0,282.0\" fill=\"none\" stroke=\"currentColor\"/>\n    <text dy=\"1.25em\" style=\"font-size: 0.8em; letter-spacing: 1px\">\n        <textPath xlink:href=\"#arrow-ce290698ce6e49bfb53a65ceff002da5-0-40\" class=\"displacy-label\" startOffset=\"50%\" side=\"left\" fill=\"currentColor\" text-anchor=\"middle\">nsubj</textPath>\n    </text>\n    <path class=\"displacy-arrowhead\" d=\"M2940,284.0 L2932,272.0 2948,272.0\" fill=\"currentColor\"/>\n</g>\n\n<g class=\"displacy-arrow\">\n    <path class=\"displacy-arc\" id=\"arrow-ce290698ce6e49bfb53a65ceff002da5-0-41\" stroke-width=\"2px\" d=\"M3080,282.0 C3080,247.0 3095.0,247.0 3095.0,282.0\" fill=\"none\" stroke=\"currentColor\"/>\n    <text dy=\"1.25em\" style=\"font-size: 0.8em; letter-spacing: 1px\">\n        <textPath xlink:href=\"#arrow-ce290698ce6e49bfb53a65ceff002da5-0-41\" class=\"displacy-label\" startOffset=\"50%\" side=\"left\" fill=\"currentColor\" text-anchor=\"middle\">case</textPath>\n    </text>\n    <path class=\"displacy-arrowhead\" d=\"M3080,284.0 L3072,272.0 3088,272.0\" fill=\"currentColor\"/>\n</g>\n\n<g class=\"displacy-arrow\">\n    <path class=\"displacy-arc\" id=\"arrow-ce290698ce6e49bfb53a65ceff002da5-0-42\" stroke-width=\"2px\" d=\"M3010,282.0 C3010,212.0 3100.0,212.0 3100.0,282.0\" fill=\"none\" stroke=\"currentColor\"/>\n    <text dy=\"1.25em\" style=\"font-size: 0.8em; letter-spacing: 1px\">\n        <textPath xlink:href=\"#arrow-ce290698ce6e49bfb53a65ceff002da5-0-42\" class=\"displacy-label\" startOffset=\"50%\" side=\"left\" fill=\"currentColor\" text-anchor=\"middle\">obl</textPath>\n    </text>\n    <path class=\"displacy-arrowhead\" d=\"M3100.0,284.0 L3108.0,272.0 3092.0,272.0\" fill=\"currentColor\"/>\n</g>\n</svg></span>"
     },
     "metadata": {},
     "output_type": "display_data"
    }
   ],
   "source": [
    "# Пунктуація = nsunbj? як зрозуміти що воно не монолітне?\n",
    "show_dependency(df['text'][1952])"
   ],
   "metadata": {
    "collapsed": false,
    "pycharm": {
     "name": "#%%\n"
    }
   }
  },
  {
   "cell_type": "code",
   "execution_count": 966,
   "outputs": [
    {
     "name": "stdout",
     "output_type": "stream",
     "text": [
      "Token           | Relation | Head            | Children            \n",
      "----------------------------------------------------------------------\n",
      "9               | obl      | принял          | [октября]           \n",
      "октября         | flat     | 9               | []                  \n",
      "Посол           | nsubj    | принял          | [России, Индии, Денис]\n",
      "России          | nmod     | Посол           | []                  \n",
      "в               | case     | Индии           | []                  \n",
      "Индии           | nmod     | Посол           | [в]                 \n",
      "Денис           | appos    | Посол           | [Алипов]            \n",
      "Алипов          | flat:name | Денис           | []                  \n",
      "принял          | ROOT     | принял          | [9, Посол, участие, .]\n",
      "участие         | obj      | принял          | [фестивале]         \n",
      "в               | case     | фестивале       | []                  \n",
      "традиционном    | amod     | фестивале       | []                  \n",
      "осеннем         | amod     | фестивале       | []                  \n",
      "российско       | amod     | фестивале       | []                  \n",
      "-               | amod     | фестивале       | []                  \n",
      "индийском       | amod     | фестивале       | []                  \n",
      "фестивале       | nmod     | участие         | [в, традиционном, осеннем, российско, -, индийском, долине]\n",
      "в               | case     | долине          | []                  \n",
      "гималайской     | amod     | долине          | []                  \n",
      "долине          | nmod     | фестивале       | [в, гималайской, Кулу]\n",
      "Кулу            | appos    | долине          | []                  \n",
      ".               | punct    | принял          | []                  \n"
     ]
    },
    {
     "data": {
      "text/plain": "<IPython.core.display.HTML object>",
      "text/html": "<span class=\"tex2jax_ignore\"><svg xmlns=\"http://www.w3.org/2000/svg\" xmlns:xlink=\"http://www.w3.org/1999/xlink\" xml:lang=\"ru\" id=\"5ab22c3bd4fc47be9cee4457bdab8fc1-0\" class=\"displacy\" width=\"1450\" height=\"347.0\" direction=\"ltr\" style=\"max-width: none; height: 347.0px; color: #000000; background: #ffffff; font-family: Arial; direction: ltr\">\n<text class=\"displacy-token\" fill=\"currentColor\" text-anchor=\"middle\" y=\"257.0\">\n    <tspan class=\"displacy-word\" fill=\"currentColor\" x=\"50\">9</tspan>\n    <tspan class=\"displacy-tag\" dy=\"2em\" fill=\"currentColor\" x=\"50\">ADJ</tspan>\n</text>\n\n<text class=\"displacy-token\" fill=\"currentColor\" text-anchor=\"middle\" y=\"257.0\">\n    <tspan class=\"displacy-word\" fill=\"currentColor\" x=\"120\">октября</tspan>\n    <tspan class=\"displacy-tag\" dy=\"2em\" fill=\"currentColor\" x=\"120\">NOUN</tspan>\n</text>\n\n<text class=\"displacy-token\" fill=\"currentColor\" text-anchor=\"middle\" y=\"257.0\">\n    <tspan class=\"displacy-word\" fill=\"currentColor\" x=\"190\">Посол</tspan>\n    <tspan class=\"displacy-tag\" dy=\"2em\" fill=\"currentColor\" x=\"190\">NOUN</tspan>\n</text>\n\n<text class=\"displacy-token\" fill=\"currentColor\" text-anchor=\"middle\" y=\"257.0\">\n    <tspan class=\"displacy-word\" fill=\"currentColor\" x=\"260\">России</tspan>\n    <tspan class=\"displacy-tag\" dy=\"2em\" fill=\"currentColor\" x=\"260\">PROPN</tspan>\n</text>\n\n<text class=\"displacy-token\" fill=\"currentColor\" text-anchor=\"middle\" y=\"257.0\">\n    <tspan class=\"displacy-word\" fill=\"currentColor\" x=\"330\">в</tspan>\n    <tspan class=\"displacy-tag\" dy=\"2em\" fill=\"currentColor\" x=\"330\">ADP</tspan>\n</text>\n\n<text class=\"displacy-token\" fill=\"currentColor\" text-anchor=\"middle\" y=\"257.0\">\n    <tspan class=\"displacy-word\" fill=\"currentColor\" x=\"400\">Индии</tspan>\n    <tspan class=\"displacy-tag\" dy=\"2em\" fill=\"currentColor\" x=\"400\">PROPN</tspan>\n</text>\n\n<text class=\"displacy-token\" fill=\"currentColor\" text-anchor=\"middle\" y=\"257.0\">\n    <tspan class=\"displacy-word\" fill=\"currentColor\" x=\"470\">Денис</tspan>\n    <tspan class=\"displacy-tag\" dy=\"2em\" fill=\"currentColor\" x=\"470\">PROPN</tspan>\n</text>\n\n<text class=\"displacy-token\" fill=\"currentColor\" text-anchor=\"middle\" y=\"257.0\">\n    <tspan class=\"displacy-word\" fill=\"currentColor\" x=\"540\">Алипов</tspan>\n    <tspan class=\"displacy-tag\" dy=\"2em\" fill=\"currentColor\" x=\"540\">PROPN</tspan>\n</text>\n\n<text class=\"displacy-token\" fill=\"currentColor\" text-anchor=\"middle\" y=\"257.0\">\n    <tspan class=\"displacy-word\" fill=\"currentColor\" x=\"610\">принял</tspan>\n    <tspan class=\"displacy-tag\" dy=\"2em\" fill=\"currentColor\" x=\"610\">VERB</tspan>\n</text>\n\n<text class=\"displacy-token\" fill=\"currentColor\" text-anchor=\"middle\" y=\"257.0\">\n    <tspan class=\"displacy-word\" fill=\"currentColor\" x=\"680\">участие</tspan>\n    <tspan class=\"displacy-tag\" dy=\"2em\" fill=\"currentColor\" x=\"680\">NOUN</tspan>\n</text>\n\n<text class=\"displacy-token\" fill=\"currentColor\" text-anchor=\"middle\" y=\"257.0\">\n    <tspan class=\"displacy-word\" fill=\"currentColor\" x=\"750\">в</tspan>\n    <tspan class=\"displacy-tag\" dy=\"2em\" fill=\"currentColor\" x=\"750\">ADP</tspan>\n</text>\n\n<text class=\"displacy-token\" fill=\"currentColor\" text-anchor=\"middle\" y=\"257.0\">\n    <tspan class=\"displacy-word\" fill=\"currentColor\" x=\"820\">традиционном</tspan>\n    <tspan class=\"displacy-tag\" dy=\"2em\" fill=\"currentColor\" x=\"820\">ADJ</tspan>\n</text>\n\n<text class=\"displacy-token\" fill=\"currentColor\" text-anchor=\"middle\" y=\"257.0\">\n    <tspan class=\"displacy-word\" fill=\"currentColor\" x=\"890\">осеннем</tspan>\n    <tspan class=\"displacy-tag\" dy=\"2em\" fill=\"currentColor\" x=\"890\">ADJ</tspan>\n</text>\n\n<text class=\"displacy-token\" fill=\"currentColor\" text-anchor=\"middle\" y=\"257.0\">\n    <tspan class=\"displacy-word\" fill=\"currentColor\" x=\"960\">российско-</tspan>\n    <tspan class=\"displacy-tag\" dy=\"2em\" fill=\"currentColor\" x=\"960\">ADJ</tspan>\n</text>\n\n<text class=\"displacy-token\" fill=\"currentColor\" text-anchor=\"middle\" y=\"257.0\">\n    <tspan class=\"displacy-word\" fill=\"currentColor\" x=\"1030\">индийском</tspan>\n    <tspan class=\"displacy-tag\" dy=\"2em\" fill=\"currentColor\" x=\"1030\">ADJ</tspan>\n</text>\n\n<text class=\"displacy-token\" fill=\"currentColor\" text-anchor=\"middle\" y=\"257.0\">\n    <tspan class=\"displacy-word\" fill=\"currentColor\" x=\"1100\">фестивале</tspan>\n    <tspan class=\"displacy-tag\" dy=\"2em\" fill=\"currentColor\" x=\"1100\">NOUN</tspan>\n</text>\n\n<text class=\"displacy-token\" fill=\"currentColor\" text-anchor=\"middle\" y=\"257.0\">\n    <tspan class=\"displacy-word\" fill=\"currentColor\" x=\"1170\">в</tspan>\n    <tspan class=\"displacy-tag\" dy=\"2em\" fill=\"currentColor\" x=\"1170\">ADP</tspan>\n</text>\n\n<text class=\"displacy-token\" fill=\"currentColor\" text-anchor=\"middle\" y=\"257.0\">\n    <tspan class=\"displacy-word\" fill=\"currentColor\" x=\"1240\">гималайской</tspan>\n    <tspan class=\"displacy-tag\" dy=\"2em\" fill=\"currentColor\" x=\"1240\">ADJ</tspan>\n</text>\n\n<text class=\"displacy-token\" fill=\"currentColor\" text-anchor=\"middle\" y=\"257.0\">\n    <tspan class=\"displacy-word\" fill=\"currentColor\" x=\"1310\">долине</tspan>\n    <tspan class=\"displacy-tag\" dy=\"2em\" fill=\"currentColor\" x=\"1310\">NOUN</tspan>\n</text>\n\n<text class=\"displacy-token\" fill=\"currentColor\" text-anchor=\"middle\" y=\"257.0\">\n    <tspan class=\"displacy-word\" fill=\"currentColor\" x=\"1380\">Кулу.</tspan>\n    <tspan class=\"displacy-tag\" dy=\"2em\" fill=\"currentColor\" x=\"1380\">PROPN</tspan>\n</text>\n\n<g class=\"displacy-arrow\">\n    <path class=\"displacy-arc\" id=\"arrow-5ab22c3bd4fc47be9cee4457bdab8fc1-0-0\" stroke-width=\"2px\" d=\"M70,212.0 C70,37.0 605.0,37.0 605.0,212.0\" fill=\"none\" stroke=\"currentColor\"/>\n    <text dy=\"1.25em\" style=\"font-size: 0.8em; letter-spacing: 1px\">\n        <textPath xlink:href=\"#arrow-5ab22c3bd4fc47be9cee4457bdab8fc1-0-0\" class=\"displacy-label\" startOffset=\"50%\" side=\"left\" fill=\"currentColor\" text-anchor=\"middle\">obl</textPath>\n    </text>\n    <path class=\"displacy-arrowhead\" d=\"M70,214.0 L62,202.0 78,202.0\" fill=\"currentColor\"/>\n</g>\n\n<g class=\"displacy-arrow\">\n    <path class=\"displacy-arc\" id=\"arrow-5ab22c3bd4fc47be9cee4457bdab8fc1-0-1\" stroke-width=\"2px\" d=\"M70,212.0 C70,177.0 95.0,177.0 95.0,212.0\" fill=\"none\" stroke=\"currentColor\"/>\n    <text dy=\"1.25em\" style=\"font-size: 0.8em; letter-spacing: 1px\">\n        <textPath xlink:href=\"#arrow-5ab22c3bd4fc47be9cee4457bdab8fc1-0-1\" class=\"displacy-label\" startOffset=\"50%\" side=\"left\" fill=\"currentColor\" text-anchor=\"middle\">flat</textPath>\n    </text>\n    <path class=\"displacy-arrowhead\" d=\"M95.0,214.0 L103.0,202.0 87.0,202.0\" fill=\"currentColor\"/>\n</g>\n\n<g class=\"displacy-arrow\">\n    <path class=\"displacy-arc\" id=\"arrow-5ab22c3bd4fc47be9cee4457bdab8fc1-0-2\" stroke-width=\"2px\" d=\"M210,212.0 C210,72.0 600.0,72.0 600.0,212.0\" fill=\"none\" stroke=\"currentColor\"/>\n    <text dy=\"1.25em\" style=\"font-size: 0.8em; letter-spacing: 1px\">\n        <textPath xlink:href=\"#arrow-5ab22c3bd4fc47be9cee4457bdab8fc1-0-2\" class=\"displacy-label\" startOffset=\"50%\" side=\"left\" fill=\"currentColor\" text-anchor=\"middle\">nsubj</textPath>\n    </text>\n    <path class=\"displacy-arrowhead\" d=\"M210,214.0 L202,202.0 218,202.0\" fill=\"currentColor\"/>\n</g>\n\n<g class=\"displacy-arrow\">\n    <path class=\"displacy-arc\" id=\"arrow-5ab22c3bd4fc47be9cee4457bdab8fc1-0-3\" stroke-width=\"2px\" d=\"M210,212.0 C210,177.0 235.0,177.0 235.0,212.0\" fill=\"none\" stroke=\"currentColor\"/>\n    <text dy=\"1.25em\" style=\"font-size: 0.8em; letter-spacing: 1px\">\n        <textPath xlink:href=\"#arrow-5ab22c3bd4fc47be9cee4457bdab8fc1-0-3\" class=\"displacy-label\" startOffset=\"50%\" side=\"left\" fill=\"currentColor\" text-anchor=\"middle\">nmod</textPath>\n    </text>\n    <path class=\"displacy-arrowhead\" d=\"M235.0,214.0 L243.0,202.0 227.0,202.0\" fill=\"currentColor\"/>\n</g>\n\n<g class=\"displacy-arrow\">\n    <path class=\"displacy-arc\" id=\"arrow-5ab22c3bd4fc47be9cee4457bdab8fc1-0-4\" stroke-width=\"2px\" d=\"M350,212.0 C350,177.0 375.0,177.0 375.0,212.0\" fill=\"none\" stroke=\"currentColor\"/>\n    <text dy=\"1.25em\" style=\"font-size: 0.8em; letter-spacing: 1px\">\n        <textPath xlink:href=\"#arrow-5ab22c3bd4fc47be9cee4457bdab8fc1-0-4\" class=\"displacy-label\" startOffset=\"50%\" side=\"left\" fill=\"currentColor\" text-anchor=\"middle\">case</textPath>\n    </text>\n    <path class=\"displacy-arrowhead\" d=\"M350,214.0 L342,202.0 358,202.0\" fill=\"currentColor\"/>\n</g>\n\n<g class=\"displacy-arrow\">\n    <path class=\"displacy-arc\" id=\"arrow-5ab22c3bd4fc47be9cee4457bdab8fc1-0-5\" stroke-width=\"2px\" d=\"M210,212.0 C210,142.0 380.0,142.0 380.0,212.0\" fill=\"none\" stroke=\"currentColor\"/>\n    <text dy=\"1.25em\" style=\"font-size: 0.8em; letter-spacing: 1px\">\n        <textPath xlink:href=\"#arrow-5ab22c3bd4fc47be9cee4457bdab8fc1-0-5\" class=\"displacy-label\" startOffset=\"50%\" side=\"left\" fill=\"currentColor\" text-anchor=\"middle\">nmod</textPath>\n    </text>\n    <path class=\"displacy-arrowhead\" d=\"M380.0,214.0 L388.0,202.0 372.0,202.0\" fill=\"currentColor\"/>\n</g>\n\n<g class=\"displacy-arrow\">\n    <path class=\"displacy-arc\" id=\"arrow-5ab22c3bd4fc47be9cee4457bdab8fc1-0-6\" stroke-width=\"2px\" d=\"M210,212.0 C210,107.0 455.0,107.0 455.0,212.0\" fill=\"none\" stroke=\"currentColor\"/>\n    <text dy=\"1.25em\" style=\"font-size: 0.8em; letter-spacing: 1px\">\n        <textPath xlink:href=\"#arrow-5ab22c3bd4fc47be9cee4457bdab8fc1-0-6\" class=\"displacy-label\" startOffset=\"50%\" side=\"left\" fill=\"currentColor\" text-anchor=\"middle\">appos</textPath>\n    </text>\n    <path class=\"displacy-arrowhead\" d=\"M455.0,214.0 L463.0,202.0 447.0,202.0\" fill=\"currentColor\"/>\n</g>\n\n<g class=\"displacy-arrow\">\n    <path class=\"displacy-arc\" id=\"arrow-5ab22c3bd4fc47be9cee4457bdab8fc1-0-7\" stroke-width=\"2px\" d=\"M490,212.0 C490,177.0 515.0,177.0 515.0,212.0\" fill=\"none\" stroke=\"currentColor\"/>\n    <text dy=\"1.25em\" style=\"font-size: 0.8em; letter-spacing: 1px\">\n        <textPath xlink:href=\"#arrow-5ab22c3bd4fc47be9cee4457bdab8fc1-0-7\" class=\"displacy-label\" startOffset=\"50%\" side=\"left\" fill=\"currentColor\" text-anchor=\"middle\">flat:name</textPath>\n    </text>\n    <path class=\"displacy-arrowhead\" d=\"M515.0,214.0 L523.0,202.0 507.0,202.0\" fill=\"currentColor\"/>\n</g>\n\n<g class=\"displacy-arrow\">\n    <path class=\"displacy-arc\" id=\"arrow-5ab22c3bd4fc47be9cee4457bdab8fc1-0-8\" stroke-width=\"2px\" d=\"M630,212.0 C630,177.0 655.0,177.0 655.0,212.0\" fill=\"none\" stroke=\"currentColor\"/>\n    <text dy=\"1.25em\" style=\"font-size: 0.8em; letter-spacing: 1px\">\n        <textPath xlink:href=\"#arrow-5ab22c3bd4fc47be9cee4457bdab8fc1-0-8\" class=\"displacy-label\" startOffset=\"50%\" side=\"left\" fill=\"currentColor\" text-anchor=\"middle\">obj</textPath>\n    </text>\n    <path class=\"displacy-arrowhead\" d=\"M655.0,214.0 L663.0,202.0 647.0,202.0\" fill=\"currentColor\"/>\n</g>\n\n<g class=\"displacy-arrow\">\n    <path class=\"displacy-arc\" id=\"arrow-5ab22c3bd4fc47be9cee4457bdab8fc1-0-9\" stroke-width=\"2px\" d=\"M770,212.0 C770,37.0 1095.0,37.0 1095.0,212.0\" fill=\"none\" stroke=\"currentColor\"/>\n    <text dy=\"1.25em\" style=\"font-size: 0.8em; letter-spacing: 1px\">\n        <textPath xlink:href=\"#arrow-5ab22c3bd4fc47be9cee4457bdab8fc1-0-9\" class=\"displacy-label\" startOffset=\"50%\" side=\"left\" fill=\"currentColor\" text-anchor=\"middle\">case</textPath>\n    </text>\n    <path class=\"displacy-arrowhead\" d=\"M770,214.0 L762,202.0 778,202.0\" fill=\"currentColor\"/>\n</g>\n\n<g class=\"displacy-arrow\">\n    <path class=\"displacy-arc\" id=\"arrow-5ab22c3bd4fc47be9cee4457bdab8fc1-0-10\" stroke-width=\"2px\" d=\"M840,212.0 C840,72.0 1090.0,72.0 1090.0,212.0\" fill=\"none\" stroke=\"currentColor\"/>\n    <text dy=\"1.25em\" style=\"font-size: 0.8em; letter-spacing: 1px\">\n        <textPath xlink:href=\"#arrow-5ab22c3bd4fc47be9cee4457bdab8fc1-0-10\" class=\"displacy-label\" startOffset=\"50%\" side=\"left\" fill=\"currentColor\" text-anchor=\"middle\">amod</textPath>\n    </text>\n    <path class=\"displacy-arrowhead\" d=\"M840,214.0 L832,202.0 848,202.0\" fill=\"currentColor\"/>\n</g>\n\n<g class=\"displacy-arrow\">\n    <path class=\"displacy-arc\" id=\"arrow-5ab22c3bd4fc47be9cee4457bdab8fc1-0-11\" stroke-width=\"2px\" d=\"M910,212.0 C910,107.0 1085.0,107.0 1085.0,212.0\" fill=\"none\" stroke=\"currentColor\"/>\n    <text dy=\"1.25em\" style=\"font-size: 0.8em; letter-spacing: 1px\">\n        <textPath xlink:href=\"#arrow-5ab22c3bd4fc47be9cee4457bdab8fc1-0-11\" class=\"displacy-label\" startOffset=\"50%\" side=\"left\" fill=\"currentColor\" text-anchor=\"middle\">amod</textPath>\n    </text>\n    <path class=\"displacy-arrowhead\" d=\"M910,214.0 L902,202.0 918,202.0\" fill=\"currentColor\"/>\n</g>\n\n<g class=\"displacy-arrow\">\n    <path class=\"displacy-arc\" id=\"arrow-5ab22c3bd4fc47be9cee4457bdab8fc1-0-12\" stroke-width=\"2px\" d=\"M980,212.0 C980,142.0 1080.0,142.0 1080.0,212.0\" fill=\"none\" stroke=\"currentColor\"/>\n    <text dy=\"1.25em\" style=\"font-size: 0.8em; letter-spacing: 1px\">\n        <textPath xlink:href=\"#arrow-5ab22c3bd4fc47be9cee4457bdab8fc1-0-12\" class=\"displacy-label\" startOffset=\"50%\" side=\"left\" fill=\"currentColor\" text-anchor=\"middle\">amod</textPath>\n    </text>\n    <path class=\"displacy-arrowhead\" d=\"M980,214.0 L972,202.0 988,202.0\" fill=\"currentColor\"/>\n</g>\n\n<g class=\"displacy-arrow\">\n    <path class=\"displacy-arc\" id=\"arrow-5ab22c3bd4fc47be9cee4457bdab8fc1-0-13\" stroke-width=\"2px\" d=\"M1050,212.0 C1050,177.0 1075.0,177.0 1075.0,212.0\" fill=\"none\" stroke=\"currentColor\"/>\n    <text dy=\"1.25em\" style=\"font-size: 0.8em; letter-spacing: 1px\">\n        <textPath xlink:href=\"#arrow-5ab22c3bd4fc47be9cee4457bdab8fc1-0-13\" class=\"displacy-label\" startOffset=\"50%\" side=\"left\" fill=\"currentColor\" text-anchor=\"middle\">amod</textPath>\n    </text>\n    <path class=\"displacy-arrowhead\" d=\"M1050,214.0 L1042,202.0 1058,202.0\" fill=\"currentColor\"/>\n</g>\n\n<g class=\"displacy-arrow\">\n    <path class=\"displacy-arc\" id=\"arrow-5ab22c3bd4fc47be9cee4457bdab8fc1-0-14\" stroke-width=\"2px\" d=\"M700,212.0 C700,2.0 1100.0,2.0 1100.0,212.0\" fill=\"none\" stroke=\"currentColor\"/>\n    <text dy=\"1.25em\" style=\"font-size: 0.8em; letter-spacing: 1px\">\n        <textPath xlink:href=\"#arrow-5ab22c3bd4fc47be9cee4457bdab8fc1-0-14\" class=\"displacy-label\" startOffset=\"50%\" side=\"left\" fill=\"currentColor\" text-anchor=\"middle\">nmod</textPath>\n    </text>\n    <path class=\"displacy-arrowhead\" d=\"M1100.0,214.0 L1108.0,202.0 1092.0,202.0\" fill=\"currentColor\"/>\n</g>\n\n<g class=\"displacy-arrow\">\n    <path class=\"displacy-arc\" id=\"arrow-5ab22c3bd4fc47be9cee4457bdab8fc1-0-15\" stroke-width=\"2px\" d=\"M1190,212.0 C1190,142.0 1290.0,142.0 1290.0,212.0\" fill=\"none\" stroke=\"currentColor\"/>\n    <text dy=\"1.25em\" style=\"font-size: 0.8em; letter-spacing: 1px\">\n        <textPath xlink:href=\"#arrow-5ab22c3bd4fc47be9cee4457bdab8fc1-0-15\" class=\"displacy-label\" startOffset=\"50%\" side=\"left\" fill=\"currentColor\" text-anchor=\"middle\">case</textPath>\n    </text>\n    <path class=\"displacy-arrowhead\" d=\"M1190,214.0 L1182,202.0 1198,202.0\" fill=\"currentColor\"/>\n</g>\n\n<g class=\"displacy-arrow\">\n    <path class=\"displacy-arc\" id=\"arrow-5ab22c3bd4fc47be9cee4457bdab8fc1-0-16\" stroke-width=\"2px\" d=\"M1260,212.0 C1260,177.0 1285.0,177.0 1285.0,212.0\" fill=\"none\" stroke=\"currentColor\"/>\n    <text dy=\"1.25em\" style=\"font-size: 0.8em; letter-spacing: 1px\">\n        <textPath xlink:href=\"#arrow-5ab22c3bd4fc47be9cee4457bdab8fc1-0-16\" class=\"displacy-label\" startOffset=\"50%\" side=\"left\" fill=\"currentColor\" text-anchor=\"middle\">amod</textPath>\n    </text>\n    <path class=\"displacy-arrowhead\" d=\"M1260,214.0 L1252,202.0 1268,202.0\" fill=\"currentColor\"/>\n</g>\n\n<g class=\"displacy-arrow\">\n    <path class=\"displacy-arc\" id=\"arrow-5ab22c3bd4fc47be9cee4457bdab8fc1-0-17\" stroke-width=\"2px\" d=\"M1120,212.0 C1120,107.0 1295.0,107.0 1295.0,212.0\" fill=\"none\" stroke=\"currentColor\"/>\n    <text dy=\"1.25em\" style=\"font-size: 0.8em; letter-spacing: 1px\">\n        <textPath xlink:href=\"#arrow-5ab22c3bd4fc47be9cee4457bdab8fc1-0-17\" class=\"displacy-label\" startOffset=\"50%\" side=\"left\" fill=\"currentColor\" text-anchor=\"middle\">nmod</textPath>\n    </text>\n    <path class=\"displacy-arrowhead\" d=\"M1295.0,214.0 L1303.0,202.0 1287.0,202.0\" fill=\"currentColor\"/>\n</g>\n\n<g class=\"displacy-arrow\">\n    <path class=\"displacy-arc\" id=\"arrow-5ab22c3bd4fc47be9cee4457bdab8fc1-0-18\" stroke-width=\"2px\" d=\"M1330,212.0 C1330,177.0 1355.0,177.0 1355.0,212.0\" fill=\"none\" stroke=\"currentColor\"/>\n    <text dy=\"1.25em\" style=\"font-size: 0.8em; letter-spacing: 1px\">\n        <textPath xlink:href=\"#arrow-5ab22c3bd4fc47be9cee4457bdab8fc1-0-18\" class=\"displacy-label\" startOffset=\"50%\" side=\"left\" fill=\"currentColor\" text-anchor=\"middle\">appos</textPath>\n    </text>\n    <path class=\"displacy-arrowhead\" d=\"M1355.0,214.0 L1363.0,202.0 1347.0,202.0\" fill=\"currentColor\"/>\n</g>\n</svg></span>"
     },
     "metadata": {},
     "output_type": "display_data"
    }
   ],
   "source": [
    "show_dependency(df['text'][1935])"
   ],
   "metadata": {
    "collapsed": false,
    "pycharm": {
     "name": "#%%\n"
    }
   }
  },
  {
   "cell_type": "code",
   "execution_count": 1003,
   "outputs": [
    {
     "name": "stdout",
     "output_type": "stream",
     "text": [
      "Token           | Relation | Head            | Children            \n",
      "----------------------------------------------------------------------\n",
      "✔               | nsubj    | имеем           | [️Мы]               \n",
      "️Мы             | appos    | ✔               | []                  \n",
      "ни              | advmod   | имеем           | [в, коем, случае]   \n",
      "в               | fixed    | ни              | []                  \n",
      "коем            | fixed    | ни              | []                  \n",
      "случае          | fixed    | ни              | []                  \n",
      "не              | advmod   | имеем           | []                  \n",
      "имеем           | ROOT     | имеем           | [✔, ни, не, права, !]\n",
      "права           | obj      | имеем           | [показывать]        \n",
      "показывать      | nmod     | права           | [слабину, террористам]\n",
      "слабину         | obj      | показывать      | []                  \n",
      "террористам     | iobj     | показывать      | [Хохлостана]        \n",
      "из              | case     | Хохлостана      | []                  \n",
      "Хохлостана      | nmod     | террористам     | [из]                \n",
      "!               | punct    | имеем           | []                  \n",
      "Даёшь           | ROOT     | Даёшь           | [им, палец, пытаются, !]\n",
      "им              | iobj     | Даёшь           | []                  \n",
      "палец           | obj      | Даёшь           | []                  \n",
      ",               | punct    | пытаются        | []                  \n",
      "а               | cc       | пытаются        | []                  \n",
      "они             | nsubj    | пытаются        | []                  \n",
      "пытаются        | conj     | Даёшь           | [,, а, они, откусить]\n",
      "откусить        | xcomp    | пытаются        | [руку]              \n",
      "всю             | det      | руку            | []                  \n",
      "руку            | obj      | откусить        | [всю]               \n",
      "!               | punct    | Даёшь           | []                  \n",
      "Только          | advmod   | них             | []                  \n",
      "у               | case     | них             | []                  \n",
      "них             | obl      | появляется      | [Только, у]         \n",
      "появляется      | ROOT     | появляется      | [них, повод, случается, .]\n",
      "повод           | nsubj    | появляется      | [перемоги]          \n",
      "для             | case     | перемоги        | []                  \n",
      "так             | advmod   | называемой      | []                  \n",
      "называемой      | acl      | перемоги        | [так]               \n",
      "«               | punct    | перемоги        | []                  \n",
      "перемоги        | nmod     | повод           | [для, называемой, «, »]\n",
      "»               | punct    | перемоги        | []                  \n",
      "-               | advmod   | случается       | []                  \n",
      "сразу           | advmod   | случается       | [же]                \n",
      "же              | advmod   | сразу           | []                  \n",
      "случается       | conj     | появляется      | [-, сразу, всплеск] \n",
      "очередной       | amod     | всплеск         | []                  \n",
      "жирный          | amod     | всплеск         | []                  \n",
      "всплеск         | nsubj    | случается       | [очередной, жирный, активности]\n",
      "русофобской     | amod     | активности      | []                  \n",
      "активности      | nmod     | всплеск         | [русофобской]       \n",
      ".               | punct    | появляется      | []                  \n"
     ]
    },
    {
     "data": {
      "text/plain": "<IPython.core.display.HTML object>",
      "text/html": "<span class=\"tex2jax_ignore\"><svg xmlns=\"http://www.w3.org/2000/svg\" xmlns:xlink=\"http://www.w3.org/1999/xlink\" xml:lang=\"ru\" id=\"df52e6da54294ee0bc0cc1148343364a-0\" class=\"displacy\" width=\"2850\" height=\"312.0\" direction=\"ltr\" style=\"max-width: none; height: 312.0px; color: #000000; background: #ffffff; font-family: Arial; direction: ltr\">\n<text class=\"displacy-token\" fill=\"currentColor\" text-anchor=\"middle\" y=\"222.0\">\n    <tspan class=\"displacy-word\" fill=\"currentColor\" x=\"50\">✔</tspan>\n    <tspan class=\"displacy-tag\" dy=\"2em\" fill=\"currentColor\" x=\"50\">ADV</tspan>\n</text>\n\n<text class=\"displacy-token\" fill=\"currentColor\" text-anchor=\"middle\" y=\"222.0\">\n    <tspan class=\"displacy-word\" fill=\"currentColor\" x=\"120\">️Мы</tspan>\n    <tspan class=\"displacy-tag\" dy=\"2em\" fill=\"currentColor\" x=\"120\">PUNCT</tspan>\n</text>\n\n<text class=\"displacy-token\" fill=\"currentColor\" text-anchor=\"middle\" y=\"222.0\">\n    <tspan class=\"displacy-word\" fill=\"currentColor\" x=\"190\">ни</tspan>\n    <tspan class=\"displacy-tag\" dy=\"2em\" fill=\"currentColor\" x=\"190\">PART</tspan>\n</text>\n\n<text class=\"displacy-token\" fill=\"currentColor\" text-anchor=\"middle\" y=\"222.0\">\n    <tspan class=\"displacy-word\" fill=\"currentColor\" x=\"260\">в</tspan>\n    <tspan class=\"displacy-tag\" dy=\"2em\" fill=\"currentColor\" x=\"260\">ADP</tspan>\n</text>\n\n<text class=\"displacy-token\" fill=\"currentColor\" text-anchor=\"middle\" y=\"222.0\">\n    <tspan class=\"displacy-word\" fill=\"currentColor\" x=\"330\">коем</tspan>\n    <tspan class=\"displacy-tag\" dy=\"2em\" fill=\"currentColor\" x=\"330\">DET</tspan>\n</text>\n\n<text class=\"displacy-token\" fill=\"currentColor\" text-anchor=\"middle\" y=\"222.0\">\n    <tspan class=\"displacy-word\" fill=\"currentColor\" x=\"400\">случае</tspan>\n    <tspan class=\"displacy-tag\" dy=\"2em\" fill=\"currentColor\" x=\"400\">NOUN</tspan>\n</text>\n\n<text class=\"displacy-token\" fill=\"currentColor\" text-anchor=\"middle\" y=\"222.0\">\n    <tspan class=\"displacy-word\" fill=\"currentColor\" x=\"470\">не</tspan>\n    <tspan class=\"displacy-tag\" dy=\"2em\" fill=\"currentColor\" x=\"470\">PART</tspan>\n</text>\n\n<text class=\"displacy-token\" fill=\"currentColor\" text-anchor=\"middle\" y=\"222.0\">\n    <tspan class=\"displacy-word\" fill=\"currentColor\" x=\"540\">имеем</tspan>\n    <tspan class=\"displacy-tag\" dy=\"2em\" fill=\"currentColor\" x=\"540\">VERB</tspan>\n</text>\n\n<text class=\"displacy-token\" fill=\"currentColor\" text-anchor=\"middle\" y=\"222.0\">\n    <tspan class=\"displacy-word\" fill=\"currentColor\" x=\"610\">права</tspan>\n    <tspan class=\"displacy-tag\" dy=\"2em\" fill=\"currentColor\" x=\"610\">NOUN</tspan>\n</text>\n\n<text class=\"displacy-token\" fill=\"currentColor\" text-anchor=\"middle\" y=\"222.0\">\n    <tspan class=\"displacy-word\" fill=\"currentColor\" x=\"680\">показывать</tspan>\n    <tspan class=\"displacy-tag\" dy=\"2em\" fill=\"currentColor\" x=\"680\">VERB</tspan>\n</text>\n\n<text class=\"displacy-token\" fill=\"currentColor\" text-anchor=\"middle\" y=\"222.0\">\n    <tspan class=\"displacy-word\" fill=\"currentColor\" x=\"750\">слабину</tspan>\n    <tspan class=\"displacy-tag\" dy=\"2em\" fill=\"currentColor\" x=\"750\">NOUN</tspan>\n</text>\n\n<text class=\"displacy-token\" fill=\"currentColor\" text-anchor=\"middle\" y=\"222.0\">\n    <tspan class=\"displacy-word\" fill=\"currentColor\" x=\"820\">террористам</tspan>\n    <tspan class=\"displacy-tag\" dy=\"2em\" fill=\"currentColor\" x=\"820\">NOUN</tspan>\n</text>\n\n<text class=\"displacy-token\" fill=\"currentColor\" text-anchor=\"middle\" y=\"222.0\">\n    <tspan class=\"displacy-word\" fill=\"currentColor\" x=\"890\">из</tspan>\n    <tspan class=\"displacy-tag\" dy=\"2em\" fill=\"currentColor\" x=\"890\">ADP</tspan>\n</text>\n\n<text class=\"displacy-token\" fill=\"currentColor\" text-anchor=\"middle\" y=\"222.0\">\n    <tspan class=\"displacy-word\" fill=\"currentColor\" x=\"960\">Хохлостана!</tspan>\n    <tspan class=\"displacy-tag\" dy=\"2em\" fill=\"currentColor\" x=\"960\">PROPN</tspan>\n</text>\n\n<text class=\"displacy-token\" fill=\"currentColor\" text-anchor=\"middle\" y=\"222.0\">\n    <tspan class=\"displacy-word\" fill=\"currentColor\" x=\"1030\">Даёшь</tspan>\n    <tspan class=\"displacy-tag\" dy=\"2em\" fill=\"currentColor\" x=\"1030\">VERB</tspan>\n</text>\n\n<text class=\"displacy-token\" fill=\"currentColor\" text-anchor=\"middle\" y=\"222.0\">\n    <tspan class=\"displacy-word\" fill=\"currentColor\" x=\"1100\">им</tspan>\n    <tspan class=\"displacy-tag\" dy=\"2em\" fill=\"currentColor\" x=\"1100\">PRON</tspan>\n</text>\n\n<text class=\"displacy-token\" fill=\"currentColor\" text-anchor=\"middle\" y=\"222.0\">\n    <tspan class=\"displacy-word\" fill=\"currentColor\" x=\"1170\">палец,</tspan>\n    <tspan class=\"displacy-tag\" dy=\"2em\" fill=\"currentColor\" x=\"1170\">NOUN</tspan>\n</text>\n\n<text class=\"displacy-token\" fill=\"currentColor\" text-anchor=\"middle\" y=\"222.0\">\n    <tspan class=\"displacy-word\" fill=\"currentColor\" x=\"1240\">а</tspan>\n    <tspan class=\"displacy-tag\" dy=\"2em\" fill=\"currentColor\" x=\"1240\">CCONJ</tspan>\n</text>\n\n<text class=\"displacy-token\" fill=\"currentColor\" text-anchor=\"middle\" y=\"222.0\">\n    <tspan class=\"displacy-word\" fill=\"currentColor\" x=\"1310\">они</tspan>\n    <tspan class=\"displacy-tag\" dy=\"2em\" fill=\"currentColor\" x=\"1310\">PRON</tspan>\n</text>\n\n<text class=\"displacy-token\" fill=\"currentColor\" text-anchor=\"middle\" y=\"222.0\">\n    <tspan class=\"displacy-word\" fill=\"currentColor\" x=\"1380\">пытаются</tspan>\n    <tspan class=\"displacy-tag\" dy=\"2em\" fill=\"currentColor\" x=\"1380\">VERB</tspan>\n</text>\n\n<text class=\"displacy-token\" fill=\"currentColor\" text-anchor=\"middle\" y=\"222.0\">\n    <tspan class=\"displacy-word\" fill=\"currentColor\" x=\"1450\">откусить</tspan>\n    <tspan class=\"displacy-tag\" dy=\"2em\" fill=\"currentColor\" x=\"1450\">VERB</tspan>\n</text>\n\n<text class=\"displacy-token\" fill=\"currentColor\" text-anchor=\"middle\" y=\"222.0\">\n    <tspan class=\"displacy-word\" fill=\"currentColor\" x=\"1520\">всю</tspan>\n    <tspan class=\"displacy-tag\" dy=\"2em\" fill=\"currentColor\" x=\"1520\">DET</tspan>\n</text>\n\n<text class=\"displacy-token\" fill=\"currentColor\" text-anchor=\"middle\" y=\"222.0\">\n    <tspan class=\"displacy-word\" fill=\"currentColor\" x=\"1590\">руку!</tspan>\n    <tspan class=\"displacy-tag\" dy=\"2em\" fill=\"currentColor\" x=\"1590\">NOUN</tspan>\n</text>\n\n<text class=\"displacy-token\" fill=\"currentColor\" text-anchor=\"middle\" y=\"222.0\">\n    <tspan class=\"displacy-word\" fill=\"currentColor\" x=\"1660\">Только</tspan>\n    <tspan class=\"displacy-tag\" dy=\"2em\" fill=\"currentColor\" x=\"1660\">PART</tspan>\n</text>\n\n<text class=\"displacy-token\" fill=\"currentColor\" text-anchor=\"middle\" y=\"222.0\">\n    <tspan class=\"displacy-word\" fill=\"currentColor\" x=\"1730\">у</tspan>\n    <tspan class=\"displacy-tag\" dy=\"2em\" fill=\"currentColor\" x=\"1730\">ADP</tspan>\n</text>\n\n<text class=\"displacy-token\" fill=\"currentColor\" text-anchor=\"middle\" y=\"222.0\">\n    <tspan class=\"displacy-word\" fill=\"currentColor\" x=\"1800\">них</tspan>\n    <tspan class=\"displacy-tag\" dy=\"2em\" fill=\"currentColor\" x=\"1800\">PRON</tspan>\n</text>\n\n<text class=\"displacy-token\" fill=\"currentColor\" text-anchor=\"middle\" y=\"222.0\">\n    <tspan class=\"displacy-word\" fill=\"currentColor\" x=\"1870\">появляется</tspan>\n    <tspan class=\"displacy-tag\" dy=\"2em\" fill=\"currentColor\" x=\"1870\">VERB</tspan>\n</text>\n\n<text class=\"displacy-token\" fill=\"currentColor\" text-anchor=\"middle\" y=\"222.0\">\n    <tspan class=\"displacy-word\" fill=\"currentColor\" x=\"1940\">повод</tspan>\n    <tspan class=\"displacy-tag\" dy=\"2em\" fill=\"currentColor\" x=\"1940\">NOUN</tspan>\n</text>\n\n<text class=\"displacy-token\" fill=\"currentColor\" text-anchor=\"middle\" y=\"222.0\">\n    <tspan class=\"displacy-word\" fill=\"currentColor\" x=\"2010\">для</tspan>\n    <tspan class=\"displacy-tag\" dy=\"2em\" fill=\"currentColor\" x=\"2010\">ADP</tspan>\n</text>\n\n<text class=\"displacy-token\" fill=\"currentColor\" text-anchor=\"middle\" y=\"222.0\">\n    <tspan class=\"displacy-word\" fill=\"currentColor\" x=\"2080\">так</tspan>\n    <tspan class=\"displacy-tag\" dy=\"2em\" fill=\"currentColor\" x=\"2080\">ADV</tspan>\n</text>\n\n<text class=\"displacy-token\" fill=\"currentColor\" text-anchor=\"middle\" y=\"222.0\">\n    <tspan class=\"displacy-word\" fill=\"currentColor\" x=\"2150\">называемой «</tspan>\n    <tspan class=\"displacy-tag\" dy=\"2em\" fill=\"currentColor\" x=\"2150\">VERB</tspan>\n</text>\n\n<text class=\"displacy-token\" fill=\"currentColor\" text-anchor=\"middle\" y=\"222.0\">\n    <tspan class=\"displacy-word\" fill=\"currentColor\" x=\"2220\">перемоги» -</tspan>\n    <tspan class=\"displacy-tag\" dy=\"2em\" fill=\"currentColor\" x=\"2220\">NOUN</tspan>\n</text>\n\n<text class=\"displacy-token\" fill=\"currentColor\" text-anchor=\"middle\" y=\"222.0\">\n    <tspan class=\"displacy-word\" fill=\"currentColor\" x=\"2290\">сразу</tspan>\n    <tspan class=\"displacy-tag\" dy=\"2em\" fill=\"currentColor\" x=\"2290\">ADV</tspan>\n</text>\n\n<text class=\"displacy-token\" fill=\"currentColor\" text-anchor=\"middle\" y=\"222.0\">\n    <tspan class=\"displacy-word\" fill=\"currentColor\" x=\"2360\">же</tspan>\n    <tspan class=\"displacy-tag\" dy=\"2em\" fill=\"currentColor\" x=\"2360\">PART</tspan>\n</text>\n\n<text class=\"displacy-token\" fill=\"currentColor\" text-anchor=\"middle\" y=\"222.0\">\n    <tspan class=\"displacy-word\" fill=\"currentColor\" x=\"2430\">случается</tspan>\n    <tspan class=\"displacy-tag\" dy=\"2em\" fill=\"currentColor\" x=\"2430\">VERB</tspan>\n</text>\n\n<text class=\"displacy-token\" fill=\"currentColor\" text-anchor=\"middle\" y=\"222.0\">\n    <tspan class=\"displacy-word\" fill=\"currentColor\" x=\"2500\">очередной</tspan>\n    <tspan class=\"displacy-tag\" dy=\"2em\" fill=\"currentColor\" x=\"2500\">ADJ</tspan>\n</text>\n\n<text class=\"displacy-token\" fill=\"currentColor\" text-anchor=\"middle\" y=\"222.0\">\n    <tspan class=\"displacy-word\" fill=\"currentColor\" x=\"2570\">жирный</tspan>\n    <tspan class=\"displacy-tag\" dy=\"2em\" fill=\"currentColor\" x=\"2570\">ADJ</tspan>\n</text>\n\n<text class=\"displacy-token\" fill=\"currentColor\" text-anchor=\"middle\" y=\"222.0\">\n    <tspan class=\"displacy-word\" fill=\"currentColor\" x=\"2640\">всплеск</tspan>\n    <tspan class=\"displacy-tag\" dy=\"2em\" fill=\"currentColor\" x=\"2640\">NOUN</tspan>\n</text>\n\n<text class=\"displacy-token\" fill=\"currentColor\" text-anchor=\"middle\" y=\"222.0\">\n    <tspan class=\"displacy-word\" fill=\"currentColor\" x=\"2710\">русофобской</tspan>\n    <tspan class=\"displacy-tag\" dy=\"2em\" fill=\"currentColor\" x=\"2710\">ADJ</tspan>\n</text>\n\n<text class=\"displacy-token\" fill=\"currentColor\" text-anchor=\"middle\" y=\"222.0\">\n    <tspan class=\"displacy-word\" fill=\"currentColor\" x=\"2780\">активности.</tspan>\n    <tspan class=\"displacy-tag\" dy=\"2em\" fill=\"currentColor\" x=\"2780\">NOUN</tspan>\n</text>\n\n<g class=\"displacy-arrow\">\n    <path class=\"displacy-arc\" id=\"arrow-df52e6da54294ee0bc0cc1148343364a-0-0\" stroke-width=\"2px\" d=\"M70,177.0 C70,2.0 540.0,2.0 540.0,177.0\" fill=\"none\" stroke=\"currentColor\"/>\n    <text dy=\"1.25em\" style=\"font-size: 0.8em; letter-spacing: 1px\">\n        <textPath xlink:href=\"#arrow-df52e6da54294ee0bc0cc1148343364a-0-0\" class=\"displacy-label\" startOffset=\"50%\" side=\"left\" fill=\"currentColor\" text-anchor=\"middle\">nsubj</textPath>\n    </text>\n    <path class=\"displacy-arrowhead\" d=\"M70,179.0 L62,167.0 78,167.0\" fill=\"currentColor\"/>\n</g>\n\n<g class=\"displacy-arrow\">\n    <path class=\"displacy-arc\" id=\"arrow-df52e6da54294ee0bc0cc1148343364a-0-1\" stroke-width=\"2px\" d=\"M70,177.0 C70,142.0 100.0,142.0 100.0,177.0\" fill=\"none\" stroke=\"currentColor\"/>\n    <text dy=\"1.25em\" style=\"font-size: 0.8em; letter-spacing: 1px\">\n        <textPath xlink:href=\"#arrow-df52e6da54294ee0bc0cc1148343364a-0-1\" class=\"displacy-label\" startOffset=\"50%\" side=\"left\" fill=\"currentColor\" text-anchor=\"middle\">appos</textPath>\n    </text>\n    <path class=\"displacy-arrowhead\" d=\"M100.0,179.0 L108.0,167.0 92.0,167.0\" fill=\"currentColor\"/>\n</g>\n\n<g class=\"displacy-arrow\">\n    <path class=\"displacy-arc\" id=\"arrow-df52e6da54294ee0bc0cc1148343364a-0-2\" stroke-width=\"2px\" d=\"M210,177.0 C210,37.0 535.0,37.0 535.0,177.0\" fill=\"none\" stroke=\"currentColor\"/>\n    <text dy=\"1.25em\" style=\"font-size: 0.8em; letter-spacing: 1px\">\n        <textPath xlink:href=\"#arrow-df52e6da54294ee0bc0cc1148343364a-0-2\" class=\"displacy-label\" startOffset=\"50%\" side=\"left\" fill=\"currentColor\" text-anchor=\"middle\">advmod</textPath>\n    </text>\n    <path class=\"displacy-arrowhead\" d=\"M210,179.0 L202,167.0 218,167.0\" fill=\"currentColor\"/>\n</g>\n\n<g class=\"displacy-arrow\">\n    <path class=\"displacy-arc\" id=\"arrow-df52e6da54294ee0bc0cc1148343364a-0-3\" stroke-width=\"2px\" d=\"M210,177.0 C210,142.0 240.0,142.0 240.0,177.0\" fill=\"none\" stroke=\"currentColor\"/>\n    <text dy=\"1.25em\" style=\"font-size: 0.8em; letter-spacing: 1px\">\n        <textPath xlink:href=\"#arrow-df52e6da54294ee0bc0cc1148343364a-0-3\" class=\"displacy-label\" startOffset=\"50%\" side=\"left\" fill=\"currentColor\" text-anchor=\"middle\">fixed</textPath>\n    </text>\n    <path class=\"displacy-arrowhead\" d=\"M240.0,179.0 L248.0,167.0 232.0,167.0\" fill=\"currentColor\"/>\n</g>\n\n<g class=\"displacy-arrow\">\n    <path class=\"displacy-arc\" id=\"arrow-df52e6da54294ee0bc0cc1148343364a-0-4\" stroke-width=\"2px\" d=\"M210,177.0 C210,107.0 315.0,107.0 315.0,177.0\" fill=\"none\" stroke=\"currentColor\"/>\n    <text dy=\"1.25em\" style=\"font-size: 0.8em; letter-spacing: 1px\">\n        <textPath xlink:href=\"#arrow-df52e6da54294ee0bc0cc1148343364a-0-4\" class=\"displacy-label\" startOffset=\"50%\" side=\"left\" fill=\"currentColor\" text-anchor=\"middle\">fixed</textPath>\n    </text>\n    <path class=\"displacy-arrowhead\" d=\"M315.0,179.0 L323.0,167.0 307.0,167.0\" fill=\"currentColor\"/>\n</g>\n\n<g class=\"displacy-arrow\">\n    <path class=\"displacy-arc\" id=\"arrow-df52e6da54294ee0bc0cc1148343364a-0-5\" stroke-width=\"2px\" d=\"M210,177.0 C210,72.0 390.0,72.0 390.0,177.0\" fill=\"none\" stroke=\"currentColor\"/>\n    <text dy=\"1.25em\" style=\"font-size: 0.8em; letter-spacing: 1px\">\n        <textPath xlink:href=\"#arrow-df52e6da54294ee0bc0cc1148343364a-0-5\" class=\"displacy-label\" startOffset=\"50%\" side=\"left\" fill=\"currentColor\" text-anchor=\"middle\">fixed</textPath>\n    </text>\n    <path class=\"displacy-arrowhead\" d=\"M390.0,179.0 L398.0,167.0 382.0,167.0\" fill=\"currentColor\"/>\n</g>\n\n<g class=\"displacy-arrow\">\n    <path class=\"displacy-arc\" id=\"arrow-df52e6da54294ee0bc0cc1148343364a-0-6\" stroke-width=\"2px\" d=\"M490,177.0 C490,142.0 520.0,142.0 520.0,177.0\" fill=\"none\" stroke=\"currentColor\"/>\n    <text dy=\"1.25em\" style=\"font-size: 0.8em; letter-spacing: 1px\">\n        <textPath xlink:href=\"#arrow-df52e6da54294ee0bc0cc1148343364a-0-6\" class=\"displacy-label\" startOffset=\"50%\" side=\"left\" fill=\"currentColor\" text-anchor=\"middle\">advmod</textPath>\n    </text>\n    <path class=\"displacy-arrowhead\" d=\"M490,179.0 L482,167.0 498,167.0\" fill=\"currentColor\"/>\n</g>\n\n<g class=\"displacy-arrow\">\n    <path class=\"displacy-arc\" id=\"arrow-df52e6da54294ee0bc0cc1148343364a-0-7\" stroke-width=\"2px\" d=\"M560,177.0 C560,142.0 590.0,142.0 590.0,177.0\" fill=\"none\" stroke=\"currentColor\"/>\n    <text dy=\"1.25em\" style=\"font-size: 0.8em; letter-spacing: 1px\">\n        <textPath xlink:href=\"#arrow-df52e6da54294ee0bc0cc1148343364a-0-7\" class=\"displacy-label\" startOffset=\"50%\" side=\"left\" fill=\"currentColor\" text-anchor=\"middle\">obj</textPath>\n    </text>\n    <path class=\"displacy-arrowhead\" d=\"M590.0,179.0 L598.0,167.0 582.0,167.0\" fill=\"currentColor\"/>\n</g>\n\n<g class=\"displacy-arrow\">\n    <path class=\"displacy-arc\" id=\"arrow-df52e6da54294ee0bc0cc1148343364a-0-8\" stroke-width=\"2px\" d=\"M630,177.0 C630,142.0 660.0,142.0 660.0,177.0\" fill=\"none\" stroke=\"currentColor\"/>\n    <text dy=\"1.25em\" style=\"font-size: 0.8em; letter-spacing: 1px\">\n        <textPath xlink:href=\"#arrow-df52e6da54294ee0bc0cc1148343364a-0-8\" class=\"displacy-label\" startOffset=\"50%\" side=\"left\" fill=\"currentColor\" text-anchor=\"middle\">nmod</textPath>\n    </text>\n    <path class=\"displacy-arrowhead\" d=\"M660.0,179.0 L668.0,167.0 652.0,167.0\" fill=\"currentColor\"/>\n</g>\n\n<g class=\"displacy-arrow\">\n    <path class=\"displacy-arc\" id=\"arrow-df52e6da54294ee0bc0cc1148343364a-0-9\" stroke-width=\"2px\" d=\"M700,177.0 C700,142.0 730.0,142.0 730.0,177.0\" fill=\"none\" stroke=\"currentColor\"/>\n    <text dy=\"1.25em\" style=\"font-size: 0.8em; letter-spacing: 1px\">\n        <textPath xlink:href=\"#arrow-df52e6da54294ee0bc0cc1148343364a-0-9\" class=\"displacy-label\" startOffset=\"50%\" side=\"left\" fill=\"currentColor\" text-anchor=\"middle\">obj</textPath>\n    </text>\n    <path class=\"displacy-arrowhead\" d=\"M730.0,179.0 L738.0,167.0 722.0,167.0\" fill=\"currentColor\"/>\n</g>\n\n<g class=\"displacy-arrow\">\n    <path class=\"displacy-arc\" id=\"arrow-df52e6da54294ee0bc0cc1148343364a-0-10\" stroke-width=\"2px\" d=\"M700,177.0 C700,107.0 805.0,107.0 805.0,177.0\" fill=\"none\" stroke=\"currentColor\"/>\n    <text dy=\"1.25em\" style=\"font-size: 0.8em; letter-spacing: 1px\">\n        <textPath xlink:href=\"#arrow-df52e6da54294ee0bc0cc1148343364a-0-10\" class=\"displacy-label\" startOffset=\"50%\" side=\"left\" fill=\"currentColor\" text-anchor=\"middle\">iobj</textPath>\n    </text>\n    <path class=\"displacy-arrowhead\" d=\"M805.0,179.0 L813.0,167.0 797.0,167.0\" fill=\"currentColor\"/>\n</g>\n\n<g class=\"displacy-arrow\">\n    <path class=\"displacy-arc\" id=\"arrow-df52e6da54294ee0bc0cc1148343364a-0-11\" stroke-width=\"2px\" d=\"M910,177.0 C910,142.0 940.0,142.0 940.0,177.0\" fill=\"none\" stroke=\"currentColor\"/>\n    <text dy=\"1.25em\" style=\"font-size: 0.8em; letter-spacing: 1px\">\n        <textPath xlink:href=\"#arrow-df52e6da54294ee0bc0cc1148343364a-0-11\" class=\"displacy-label\" startOffset=\"50%\" side=\"left\" fill=\"currentColor\" text-anchor=\"middle\">case</textPath>\n    </text>\n    <path class=\"displacy-arrowhead\" d=\"M910,179.0 L902,167.0 918,167.0\" fill=\"currentColor\"/>\n</g>\n\n<g class=\"displacy-arrow\">\n    <path class=\"displacy-arc\" id=\"arrow-df52e6da54294ee0bc0cc1148343364a-0-12\" stroke-width=\"2px\" d=\"M840,177.0 C840,107.0 945.0,107.0 945.0,177.0\" fill=\"none\" stroke=\"currentColor\"/>\n    <text dy=\"1.25em\" style=\"font-size: 0.8em; letter-spacing: 1px\">\n        <textPath xlink:href=\"#arrow-df52e6da54294ee0bc0cc1148343364a-0-12\" class=\"displacy-label\" startOffset=\"50%\" side=\"left\" fill=\"currentColor\" text-anchor=\"middle\">nmod</textPath>\n    </text>\n    <path class=\"displacy-arrowhead\" d=\"M945.0,179.0 L953.0,167.0 937.0,167.0\" fill=\"currentColor\"/>\n</g>\n\n<g class=\"displacy-arrow\">\n    <path class=\"displacy-arc\" id=\"arrow-df52e6da54294ee0bc0cc1148343364a-0-13\" stroke-width=\"2px\" d=\"M1050,177.0 C1050,142.0 1080.0,142.0 1080.0,177.0\" fill=\"none\" stroke=\"currentColor\"/>\n    <text dy=\"1.25em\" style=\"font-size: 0.8em; letter-spacing: 1px\">\n        <textPath xlink:href=\"#arrow-df52e6da54294ee0bc0cc1148343364a-0-13\" class=\"displacy-label\" startOffset=\"50%\" side=\"left\" fill=\"currentColor\" text-anchor=\"middle\">iobj</textPath>\n    </text>\n    <path class=\"displacy-arrowhead\" d=\"M1080.0,179.0 L1088.0,167.0 1072.0,167.0\" fill=\"currentColor\"/>\n</g>\n\n<g class=\"displacy-arrow\">\n    <path class=\"displacy-arc\" id=\"arrow-df52e6da54294ee0bc0cc1148343364a-0-14\" stroke-width=\"2px\" d=\"M1050,177.0 C1050,107.0 1155.0,107.0 1155.0,177.0\" fill=\"none\" stroke=\"currentColor\"/>\n    <text dy=\"1.25em\" style=\"font-size: 0.8em; letter-spacing: 1px\">\n        <textPath xlink:href=\"#arrow-df52e6da54294ee0bc0cc1148343364a-0-14\" class=\"displacy-label\" startOffset=\"50%\" side=\"left\" fill=\"currentColor\" text-anchor=\"middle\">obj</textPath>\n    </text>\n    <path class=\"displacy-arrowhead\" d=\"M1155.0,179.0 L1163.0,167.0 1147.0,167.0\" fill=\"currentColor\"/>\n</g>\n\n<g class=\"displacy-arrow\">\n    <path class=\"displacy-arc\" id=\"arrow-df52e6da54294ee0bc0cc1148343364a-0-15\" stroke-width=\"2px\" d=\"M1260,177.0 C1260,107.0 1365.0,107.0 1365.0,177.0\" fill=\"none\" stroke=\"currentColor\"/>\n    <text dy=\"1.25em\" style=\"font-size: 0.8em; letter-spacing: 1px\">\n        <textPath xlink:href=\"#arrow-df52e6da54294ee0bc0cc1148343364a-0-15\" class=\"displacy-label\" startOffset=\"50%\" side=\"left\" fill=\"currentColor\" text-anchor=\"middle\">cc</textPath>\n    </text>\n    <path class=\"displacy-arrowhead\" d=\"M1260,179.0 L1252,167.0 1268,167.0\" fill=\"currentColor\"/>\n</g>\n\n<g class=\"displacy-arrow\">\n    <path class=\"displacy-arc\" id=\"arrow-df52e6da54294ee0bc0cc1148343364a-0-16\" stroke-width=\"2px\" d=\"M1330,177.0 C1330,142.0 1360.0,142.0 1360.0,177.0\" fill=\"none\" stroke=\"currentColor\"/>\n    <text dy=\"1.25em\" style=\"font-size: 0.8em; letter-spacing: 1px\">\n        <textPath xlink:href=\"#arrow-df52e6da54294ee0bc0cc1148343364a-0-16\" class=\"displacy-label\" startOffset=\"50%\" side=\"left\" fill=\"currentColor\" text-anchor=\"middle\">nsubj</textPath>\n    </text>\n    <path class=\"displacy-arrowhead\" d=\"M1330,179.0 L1322,167.0 1338,167.0\" fill=\"currentColor\"/>\n</g>\n\n<g class=\"displacy-arrow\">\n    <path class=\"displacy-arc\" id=\"arrow-df52e6da54294ee0bc0cc1148343364a-0-17\" stroke-width=\"2px\" d=\"M1050,177.0 C1050,72.0 1370.0,72.0 1370.0,177.0\" fill=\"none\" stroke=\"currentColor\"/>\n    <text dy=\"1.25em\" style=\"font-size: 0.8em; letter-spacing: 1px\">\n        <textPath xlink:href=\"#arrow-df52e6da54294ee0bc0cc1148343364a-0-17\" class=\"displacy-label\" startOffset=\"50%\" side=\"left\" fill=\"currentColor\" text-anchor=\"middle\">conj</textPath>\n    </text>\n    <path class=\"displacy-arrowhead\" d=\"M1370.0,179.0 L1378.0,167.0 1362.0,167.0\" fill=\"currentColor\"/>\n</g>\n\n<g class=\"displacy-arrow\">\n    <path class=\"displacy-arc\" id=\"arrow-df52e6da54294ee0bc0cc1148343364a-0-18\" stroke-width=\"2px\" d=\"M1400,177.0 C1400,142.0 1430.0,142.0 1430.0,177.0\" fill=\"none\" stroke=\"currentColor\"/>\n    <text dy=\"1.25em\" style=\"font-size: 0.8em; letter-spacing: 1px\">\n        <textPath xlink:href=\"#arrow-df52e6da54294ee0bc0cc1148343364a-0-18\" class=\"displacy-label\" startOffset=\"50%\" side=\"left\" fill=\"currentColor\" text-anchor=\"middle\">xcomp</textPath>\n    </text>\n    <path class=\"displacy-arrowhead\" d=\"M1430.0,179.0 L1438.0,167.0 1422.0,167.0\" fill=\"currentColor\"/>\n</g>\n\n<g class=\"displacy-arrow\">\n    <path class=\"displacy-arc\" id=\"arrow-df52e6da54294ee0bc0cc1148343364a-0-19\" stroke-width=\"2px\" d=\"M1540,177.0 C1540,142.0 1570.0,142.0 1570.0,177.0\" fill=\"none\" stroke=\"currentColor\"/>\n    <text dy=\"1.25em\" style=\"font-size: 0.8em; letter-spacing: 1px\">\n        <textPath xlink:href=\"#arrow-df52e6da54294ee0bc0cc1148343364a-0-19\" class=\"displacy-label\" startOffset=\"50%\" side=\"left\" fill=\"currentColor\" text-anchor=\"middle\">det</textPath>\n    </text>\n    <path class=\"displacy-arrowhead\" d=\"M1540,179.0 L1532,167.0 1548,167.0\" fill=\"currentColor\"/>\n</g>\n\n<g class=\"displacy-arrow\">\n    <path class=\"displacy-arc\" id=\"arrow-df52e6da54294ee0bc0cc1148343364a-0-20\" stroke-width=\"2px\" d=\"M1470,177.0 C1470,107.0 1575.0,107.0 1575.0,177.0\" fill=\"none\" stroke=\"currentColor\"/>\n    <text dy=\"1.25em\" style=\"font-size: 0.8em; letter-spacing: 1px\">\n        <textPath xlink:href=\"#arrow-df52e6da54294ee0bc0cc1148343364a-0-20\" class=\"displacy-label\" startOffset=\"50%\" side=\"left\" fill=\"currentColor\" text-anchor=\"middle\">obj</textPath>\n    </text>\n    <path class=\"displacy-arrowhead\" d=\"M1575.0,179.0 L1583.0,167.0 1567.0,167.0\" fill=\"currentColor\"/>\n</g>\n\n<g class=\"displacy-arrow\">\n    <path class=\"displacy-arc\" id=\"arrow-df52e6da54294ee0bc0cc1148343364a-0-21\" stroke-width=\"2px\" d=\"M1680,177.0 C1680,107.0 1785.0,107.0 1785.0,177.0\" fill=\"none\" stroke=\"currentColor\"/>\n    <text dy=\"1.25em\" style=\"font-size: 0.8em; letter-spacing: 1px\">\n        <textPath xlink:href=\"#arrow-df52e6da54294ee0bc0cc1148343364a-0-21\" class=\"displacy-label\" startOffset=\"50%\" side=\"left\" fill=\"currentColor\" text-anchor=\"middle\">advmod</textPath>\n    </text>\n    <path class=\"displacy-arrowhead\" d=\"M1680,179.0 L1672,167.0 1688,167.0\" fill=\"currentColor\"/>\n</g>\n\n<g class=\"displacy-arrow\">\n    <path class=\"displacy-arc\" id=\"arrow-df52e6da54294ee0bc0cc1148343364a-0-22\" stroke-width=\"2px\" d=\"M1750,177.0 C1750,142.0 1780.0,142.0 1780.0,177.0\" fill=\"none\" stroke=\"currentColor\"/>\n    <text dy=\"1.25em\" style=\"font-size: 0.8em; letter-spacing: 1px\">\n        <textPath xlink:href=\"#arrow-df52e6da54294ee0bc0cc1148343364a-0-22\" class=\"displacy-label\" startOffset=\"50%\" side=\"left\" fill=\"currentColor\" text-anchor=\"middle\">case</textPath>\n    </text>\n    <path class=\"displacy-arrowhead\" d=\"M1750,179.0 L1742,167.0 1758,167.0\" fill=\"currentColor\"/>\n</g>\n\n<g class=\"displacy-arrow\">\n    <path class=\"displacy-arc\" id=\"arrow-df52e6da54294ee0bc0cc1148343364a-0-23\" stroke-width=\"2px\" d=\"M1820,177.0 C1820,142.0 1850.0,142.0 1850.0,177.0\" fill=\"none\" stroke=\"currentColor\"/>\n    <text dy=\"1.25em\" style=\"font-size: 0.8em; letter-spacing: 1px\">\n        <textPath xlink:href=\"#arrow-df52e6da54294ee0bc0cc1148343364a-0-23\" class=\"displacy-label\" startOffset=\"50%\" side=\"left\" fill=\"currentColor\" text-anchor=\"middle\">obl</textPath>\n    </text>\n    <path class=\"displacy-arrowhead\" d=\"M1820,179.0 L1812,167.0 1828,167.0\" fill=\"currentColor\"/>\n</g>\n\n<g class=\"displacy-arrow\">\n    <path class=\"displacy-arc\" id=\"arrow-df52e6da54294ee0bc0cc1148343364a-0-24\" stroke-width=\"2px\" d=\"M1890,177.0 C1890,142.0 1920.0,142.0 1920.0,177.0\" fill=\"none\" stroke=\"currentColor\"/>\n    <text dy=\"1.25em\" style=\"font-size: 0.8em; letter-spacing: 1px\">\n        <textPath xlink:href=\"#arrow-df52e6da54294ee0bc0cc1148343364a-0-24\" class=\"displacy-label\" startOffset=\"50%\" side=\"left\" fill=\"currentColor\" text-anchor=\"middle\">nsubj</textPath>\n    </text>\n    <path class=\"displacy-arrowhead\" d=\"M1920.0,179.0 L1928.0,167.0 1912.0,167.0\" fill=\"currentColor\"/>\n</g>\n\n<g class=\"displacy-arrow\">\n    <path class=\"displacy-arc\" id=\"arrow-df52e6da54294ee0bc0cc1148343364a-0-25\" stroke-width=\"2px\" d=\"M2030,177.0 C2030,107.0 2205.0,107.0 2205.0,177.0\" fill=\"none\" stroke=\"currentColor\"/>\n    <text dy=\"1.25em\" style=\"font-size: 0.8em; letter-spacing: 1px\">\n        <textPath xlink:href=\"#arrow-df52e6da54294ee0bc0cc1148343364a-0-25\" class=\"displacy-label\" startOffset=\"50%\" side=\"left\" fill=\"currentColor\" text-anchor=\"middle\">case</textPath>\n    </text>\n    <path class=\"displacy-arrowhead\" d=\"M2030,179.0 L2022,167.0 2038,167.0\" fill=\"currentColor\"/>\n</g>\n\n<g class=\"displacy-arrow\">\n    <path class=\"displacy-arc\" id=\"arrow-df52e6da54294ee0bc0cc1148343364a-0-26\" stroke-width=\"2px\" d=\"M2100,177.0 C2100,142.0 2130.0,142.0 2130.0,177.0\" fill=\"none\" stroke=\"currentColor\"/>\n    <text dy=\"1.25em\" style=\"font-size: 0.8em; letter-spacing: 1px\">\n        <textPath xlink:href=\"#arrow-df52e6da54294ee0bc0cc1148343364a-0-26\" class=\"displacy-label\" startOffset=\"50%\" side=\"left\" fill=\"currentColor\" text-anchor=\"middle\">advmod</textPath>\n    </text>\n    <path class=\"displacy-arrowhead\" d=\"M2100,179.0 L2092,167.0 2108,167.0\" fill=\"currentColor\"/>\n</g>\n\n<g class=\"displacy-arrow\">\n    <path class=\"displacy-arc\" id=\"arrow-df52e6da54294ee0bc0cc1148343364a-0-27\" stroke-width=\"2px\" d=\"M2170,177.0 C2170,142.0 2200.0,142.0 2200.0,177.0\" fill=\"none\" stroke=\"currentColor\"/>\n    <text dy=\"1.25em\" style=\"font-size: 0.8em; letter-spacing: 1px\">\n        <textPath xlink:href=\"#arrow-df52e6da54294ee0bc0cc1148343364a-0-27\" class=\"displacy-label\" startOffset=\"50%\" side=\"left\" fill=\"currentColor\" text-anchor=\"middle\">acl</textPath>\n    </text>\n    <path class=\"displacy-arrowhead\" d=\"M2170,179.0 L2162,167.0 2178,167.0\" fill=\"currentColor\"/>\n</g>\n\n<g class=\"displacy-arrow\">\n    <path class=\"displacy-arc\" id=\"arrow-df52e6da54294ee0bc0cc1148343364a-0-28\" stroke-width=\"2px\" d=\"M1960,177.0 C1960,72.0 2210.0,72.0 2210.0,177.0\" fill=\"none\" stroke=\"currentColor\"/>\n    <text dy=\"1.25em\" style=\"font-size: 0.8em; letter-spacing: 1px\">\n        <textPath xlink:href=\"#arrow-df52e6da54294ee0bc0cc1148343364a-0-28\" class=\"displacy-label\" startOffset=\"50%\" side=\"left\" fill=\"currentColor\" text-anchor=\"middle\">nmod</textPath>\n    </text>\n    <path class=\"displacy-arrowhead\" d=\"M2210.0,179.0 L2218.0,167.0 2202.0,167.0\" fill=\"currentColor\"/>\n</g>\n\n<g class=\"displacy-arrow\">\n    <path class=\"displacy-arc\" id=\"arrow-df52e6da54294ee0bc0cc1148343364a-0-29\" stroke-width=\"2px\" d=\"M2310,177.0 C2310,107.0 2415.0,107.0 2415.0,177.0\" fill=\"none\" stroke=\"currentColor\"/>\n    <text dy=\"1.25em\" style=\"font-size: 0.8em; letter-spacing: 1px\">\n        <textPath xlink:href=\"#arrow-df52e6da54294ee0bc0cc1148343364a-0-29\" class=\"displacy-label\" startOffset=\"50%\" side=\"left\" fill=\"currentColor\" text-anchor=\"middle\">advmod</textPath>\n    </text>\n    <path class=\"displacy-arrowhead\" d=\"M2310,179.0 L2302,167.0 2318,167.0\" fill=\"currentColor\"/>\n</g>\n\n<g class=\"displacy-arrow\">\n    <path class=\"displacy-arc\" id=\"arrow-df52e6da54294ee0bc0cc1148343364a-0-30\" stroke-width=\"2px\" d=\"M2310,177.0 C2310,142.0 2340.0,142.0 2340.0,177.0\" fill=\"none\" stroke=\"currentColor\"/>\n    <text dy=\"1.25em\" style=\"font-size: 0.8em; letter-spacing: 1px\">\n        <textPath xlink:href=\"#arrow-df52e6da54294ee0bc0cc1148343364a-0-30\" class=\"displacy-label\" startOffset=\"50%\" side=\"left\" fill=\"currentColor\" text-anchor=\"middle\">advmod</textPath>\n    </text>\n    <path class=\"displacy-arrowhead\" d=\"M2340.0,179.0 L2348.0,167.0 2332.0,167.0\" fill=\"currentColor\"/>\n</g>\n\n<g class=\"displacy-arrow\">\n    <path class=\"displacy-arc\" id=\"arrow-df52e6da54294ee0bc0cc1148343364a-0-31\" stroke-width=\"2px\" d=\"M1890,177.0 C1890,37.0 2425.0,37.0 2425.0,177.0\" fill=\"none\" stroke=\"currentColor\"/>\n    <text dy=\"1.25em\" style=\"font-size: 0.8em; letter-spacing: 1px\">\n        <textPath xlink:href=\"#arrow-df52e6da54294ee0bc0cc1148343364a-0-31\" class=\"displacy-label\" startOffset=\"50%\" side=\"left\" fill=\"currentColor\" text-anchor=\"middle\">conj</textPath>\n    </text>\n    <path class=\"displacy-arrowhead\" d=\"M2425.0,179.0 L2433.0,167.0 2417.0,167.0\" fill=\"currentColor\"/>\n</g>\n\n<g class=\"displacy-arrow\">\n    <path class=\"displacy-arc\" id=\"arrow-df52e6da54294ee0bc0cc1148343364a-0-32\" stroke-width=\"2px\" d=\"M2520,177.0 C2520,107.0 2625.0,107.0 2625.0,177.0\" fill=\"none\" stroke=\"currentColor\"/>\n    <text dy=\"1.25em\" style=\"font-size: 0.8em; letter-spacing: 1px\">\n        <textPath xlink:href=\"#arrow-df52e6da54294ee0bc0cc1148343364a-0-32\" class=\"displacy-label\" startOffset=\"50%\" side=\"left\" fill=\"currentColor\" text-anchor=\"middle\">amod</textPath>\n    </text>\n    <path class=\"displacy-arrowhead\" d=\"M2520,179.0 L2512,167.0 2528,167.0\" fill=\"currentColor\"/>\n</g>\n\n<g class=\"displacy-arrow\">\n    <path class=\"displacy-arc\" id=\"arrow-df52e6da54294ee0bc0cc1148343364a-0-33\" stroke-width=\"2px\" d=\"M2590,177.0 C2590,142.0 2620.0,142.0 2620.0,177.0\" fill=\"none\" stroke=\"currentColor\"/>\n    <text dy=\"1.25em\" style=\"font-size: 0.8em; letter-spacing: 1px\">\n        <textPath xlink:href=\"#arrow-df52e6da54294ee0bc0cc1148343364a-0-33\" class=\"displacy-label\" startOffset=\"50%\" side=\"left\" fill=\"currentColor\" text-anchor=\"middle\">amod</textPath>\n    </text>\n    <path class=\"displacy-arrowhead\" d=\"M2590,179.0 L2582,167.0 2598,167.0\" fill=\"currentColor\"/>\n</g>\n\n<g class=\"displacy-arrow\">\n    <path class=\"displacy-arc\" id=\"arrow-df52e6da54294ee0bc0cc1148343364a-0-34\" stroke-width=\"2px\" d=\"M2450,177.0 C2450,72.0 2630.0,72.0 2630.0,177.0\" fill=\"none\" stroke=\"currentColor\"/>\n    <text dy=\"1.25em\" style=\"font-size: 0.8em; letter-spacing: 1px\">\n        <textPath xlink:href=\"#arrow-df52e6da54294ee0bc0cc1148343364a-0-34\" class=\"displacy-label\" startOffset=\"50%\" side=\"left\" fill=\"currentColor\" text-anchor=\"middle\">nsubj</textPath>\n    </text>\n    <path class=\"displacy-arrowhead\" d=\"M2630.0,179.0 L2638.0,167.0 2622.0,167.0\" fill=\"currentColor\"/>\n</g>\n\n<g class=\"displacy-arrow\">\n    <path class=\"displacy-arc\" id=\"arrow-df52e6da54294ee0bc0cc1148343364a-0-35\" stroke-width=\"2px\" d=\"M2730,177.0 C2730,142.0 2760.0,142.0 2760.0,177.0\" fill=\"none\" stroke=\"currentColor\"/>\n    <text dy=\"1.25em\" style=\"font-size: 0.8em; letter-spacing: 1px\">\n        <textPath xlink:href=\"#arrow-df52e6da54294ee0bc0cc1148343364a-0-35\" class=\"displacy-label\" startOffset=\"50%\" side=\"left\" fill=\"currentColor\" text-anchor=\"middle\">amod</textPath>\n    </text>\n    <path class=\"displacy-arrowhead\" d=\"M2730,179.0 L2722,167.0 2738,167.0\" fill=\"currentColor\"/>\n</g>\n\n<g class=\"displacy-arrow\">\n    <path class=\"displacy-arc\" id=\"arrow-df52e6da54294ee0bc0cc1148343364a-0-36\" stroke-width=\"2px\" d=\"M2660,177.0 C2660,107.0 2765.0,107.0 2765.0,177.0\" fill=\"none\" stroke=\"currentColor\"/>\n    <text dy=\"1.25em\" style=\"font-size: 0.8em; letter-spacing: 1px\">\n        <textPath xlink:href=\"#arrow-df52e6da54294ee0bc0cc1148343364a-0-36\" class=\"displacy-label\" startOffset=\"50%\" side=\"left\" fill=\"currentColor\" text-anchor=\"middle\">nmod</textPath>\n    </text>\n    <path class=\"displacy-arrowhead\" d=\"M2765.0,179.0 L2773.0,167.0 2757.0,167.0\" fill=\"currentColor\"/>\n</g>\n</svg></span>"
     },
     "metadata": {},
     "output_type": "display_data"
    }
   ],
   "source": [
    "show_dependency(df['text'][335])"
   ],
   "metadata": {
    "collapsed": false,
    "pycharm": {
     "name": "#%%\n"
    }
   }
  },
  {
   "cell_type": "code",
   "execution_count": 179,
   "outputs": [
    {
     "data": {
      "text/plain": "'мы ни в коем случае не имеем права показывать слабину террористам из хохлостана! даёшь им палец, а они пытаются откусить всю руку! только у них появляется повод для так называемой перемоги - сразу же случается очередной жирный всплеск русофобской активности.'"
     },
     "execution_count": 179,
     "metadata": {},
     "output_type": "execute_result"
    }
   ],
   "source": [
    "clean_text(df['text'][335])"
   ],
   "metadata": {
    "collapsed": false,
    "pycharm": {
     "name": "#%%\n"
    }
   }
  },
  {
   "cell_type": "code",
   "execution_count": 1042,
   "outputs": [
    {
     "name": "stdout",
     "output_type": "stream",
     "text": [
      "✔️Мы ни в коем случае не имеем права показывать слабину террористам из Хохлостана! Даёшь им палец, а они пытаются откусить всю руку! Только у них появляется повод для так называемой «перемоги» - сразу же случается очередной жирный всплеск русофобской активности.\n",
      "******************** 335 ********************\n",
      "Nsubj + Verb :  мы не ни имеем, они пытаются откусить, повод появляется, всплеск сразу - случается\n",
      "Appos :  \n",
      "Noun+Aj (Amod) :  очередной всплеск, жирный всплеск, русофобской активности\n",
      "Noun+Noun (Nmod) :  права показывать, террористам из хохлостана, повод называемой перемоги, всплеск активности\n",
      "Verb + Obl/Obj :  имеем права, показывать слабину, пытаются руку откусить, откусить руку, появляется у них\n"
     ]
    }
   ],
   "source": [
    "show_dep_example(df, 335)"
   ],
   "metadata": {
    "collapsed": false,
    "pycharm": {
     "name": "#%%\n"
    }
   }
  },
  {
   "cell_type": "code",
   "execution_count": 1043,
   "outputs": [
    {
     "name": "stdout",
     "output_type": "stream",
     "text": [
      "Token           | Relation | Head            | Children            \n",
      "----------------------------------------------------------------------\n",
      "✔               | nsubj    | имеем           | [️Мы]               \n",
      "️Мы             | appos    | ✔               | []                  \n",
      "ни              | advmod   | имеем           | [в, коем, случае]   \n",
      "в               | fixed    | ни              | []                  \n",
      "коем            | fixed    | ни              | []                  \n",
      "случае          | fixed    | ни              | []                  \n",
      "не              | advmod   | имеем           | []                  \n",
      "имеем           | ROOT     | имеем           | [✔, ни, не, права, !]\n",
      "права           | obj      | имеем           | [показывать]        \n",
      "показывать      | nmod     | права           | [слабину, террористам]\n",
      "слабину         | obj      | показывать      | []                  \n",
      "террористам     | iobj     | показывать      | [Хохлостана]        \n",
      "из              | case     | Хохлостана      | []                  \n",
      "Хохлостана      | nmod     | террористам     | [из]                \n",
      "!               | punct    | имеем           | []                  \n",
      "Даёшь           | ROOT     | Даёшь           | [им, палец, пытаются, !]\n",
      "им              | iobj     | Даёшь           | []                  \n",
      "палец           | obj      | Даёшь           | []                  \n",
      ",               | punct    | пытаются        | []                  \n",
      "а               | cc       | пытаются        | []                  \n",
      "они             | nsubj    | пытаются        | []                  \n",
      "пытаются        | conj     | Даёшь           | [,, а, они, откусить]\n",
      "откусить        | xcomp    | пытаются        | [руку]              \n",
      "всю             | det      | руку            | []                  \n",
      "руку            | obj      | откусить        | [всю]               \n",
      "!               | punct    | Даёшь           | []                  \n",
      "Только          | advmod   | них             | []                  \n",
      "у               | case     | них             | []                  \n",
      "них             | obl      | появляется      | [Только, у]         \n",
      "появляется      | ROOT     | появляется      | [них, повод, случается, .]\n",
      "повод           | nsubj    | появляется      | [перемоги]          \n",
      "для             | case     | перемоги        | []                  \n",
      "так             | advmod   | называемой      | []                  \n",
      "называемой      | acl      | перемоги        | [так]               \n",
      "«               | punct    | перемоги        | []                  \n",
      "перемоги        | nmod     | повод           | [для, называемой, «, »]\n",
      "»               | punct    | перемоги        | []                  \n",
      "-               | advmod   | случается       | []                  \n",
      "сразу           | advmod   | случается       | [же]                \n",
      "же              | advmod   | сразу           | []                  \n",
      "случается       | conj     | появляется      | [-, сразу, всплеск] \n",
      "очередной       | amod     | всплеск         | []                  \n",
      "жирный          | amod     | всплеск         | []                  \n",
      "всплеск         | nsubj    | случается       | [очередной, жирный, активности]\n",
      "русофобской     | amod     | активности      | []                  \n",
      "активности      | nmod     | всплеск         | [русофобской]       \n",
      ".               | punct    | появляется      | []                  \n"
     ]
    },
    {
     "data": {
      "text/plain": "<IPython.core.display.HTML object>",
      "text/html": "<span class=\"tex2jax_ignore\"><svg xmlns=\"http://www.w3.org/2000/svg\" xmlns:xlink=\"http://www.w3.org/1999/xlink\" xml:lang=\"ru\" id=\"b6562739ec9f410db50c7bdfc7514978-0\" class=\"displacy\" width=\"2850\" height=\"312.0\" direction=\"ltr\" style=\"max-width: none; height: 312.0px; color: #000000; background: #ffffff; font-family: Arial; direction: ltr\">\n<text class=\"displacy-token\" fill=\"currentColor\" text-anchor=\"middle\" y=\"222.0\">\n    <tspan class=\"displacy-word\" fill=\"currentColor\" x=\"50\">✔</tspan>\n    <tspan class=\"displacy-tag\" dy=\"2em\" fill=\"currentColor\" x=\"50\">ADV</tspan>\n</text>\n\n<text class=\"displacy-token\" fill=\"currentColor\" text-anchor=\"middle\" y=\"222.0\">\n    <tspan class=\"displacy-word\" fill=\"currentColor\" x=\"120\">️Мы</tspan>\n    <tspan class=\"displacy-tag\" dy=\"2em\" fill=\"currentColor\" x=\"120\">PUNCT</tspan>\n</text>\n\n<text class=\"displacy-token\" fill=\"currentColor\" text-anchor=\"middle\" y=\"222.0\">\n    <tspan class=\"displacy-word\" fill=\"currentColor\" x=\"190\">ни</tspan>\n    <tspan class=\"displacy-tag\" dy=\"2em\" fill=\"currentColor\" x=\"190\">PART</tspan>\n</text>\n\n<text class=\"displacy-token\" fill=\"currentColor\" text-anchor=\"middle\" y=\"222.0\">\n    <tspan class=\"displacy-word\" fill=\"currentColor\" x=\"260\">в</tspan>\n    <tspan class=\"displacy-tag\" dy=\"2em\" fill=\"currentColor\" x=\"260\">ADP</tspan>\n</text>\n\n<text class=\"displacy-token\" fill=\"currentColor\" text-anchor=\"middle\" y=\"222.0\">\n    <tspan class=\"displacy-word\" fill=\"currentColor\" x=\"330\">коем</tspan>\n    <tspan class=\"displacy-tag\" dy=\"2em\" fill=\"currentColor\" x=\"330\">DET</tspan>\n</text>\n\n<text class=\"displacy-token\" fill=\"currentColor\" text-anchor=\"middle\" y=\"222.0\">\n    <tspan class=\"displacy-word\" fill=\"currentColor\" x=\"400\">случае</tspan>\n    <tspan class=\"displacy-tag\" dy=\"2em\" fill=\"currentColor\" x=\"400\">NOUN</tspan>\n</text>\n\n<text class=\"displacy-token\" fill=\"currentColor\" text-anchor=\"middle\" y=\"222.0\">\n    <tspan class=\"displacy-word\" fill=\"currentColor\" x=\"470\">не</tspan>\n    <tspan class=\"displacy-tag\" dy=\"2em\" fill=\"currentColor\" x=\"470\">PART</tspan>\n</text>\n\n<text class=\"displacy-token\" fill=\"currentColor\" text-anchor=\"middle\" y=\"222.0\">\n    <tspan class=\"displacy-word\" fill=\"currentColor\" x=\"540\">имеем</tspan>\n    <tspan class=\"displacy-tag\" dy=\"2em\" fill=\"currentColor\" x=\"540\">VERB</tspan>\n</text>\n\n<text class=\"displacy-token\" fill=\"currentColor\" text-anchor=\"middle\" y=\"222.0\">\n    <tspan class=\"displacy-word\" fill=\"currentColor\" x=\"610\">права</tspan>\n    <tspan class=\"displacy-tag\" dy=\"2em\" fill=\"currentColor\" x=\"610\">NOUN</tspan>\n</text>\n\n<text class=\"displacy-token\" fill=\"currentColor\" text-anchor=\"middle\" y=\"222.0\">\n    <tspan class=\"displacy-word\" fill=\"currentColor\" x=\"680\">показывать</tspan>\n    <tspan class=\"displacy-tag\" dy=\"2em\" fill=\"currentColor\" x=\"680\">VERB</tspan>\n</text>\n\n<text class=\"displacy-token\" fill=\"currentColor\" text-anchor=\"middle\" y=\"222.0\">\n    <tspan class=\"displacy-word\" fill=\"currentColor\" x=\"750\">слабину</tspan>\n    <tspan class=\"displacy-tag\" dy=\"2em\" fill=\"currentColor\" x=\"750\">NOUN</tspan>\n</text>\n\n<text class=\"displacy-token\" fill=\"currentColor\" text-anchor=\"middle\" y=\"222.0\">\n    <tspan class=\"displacy-word\" fill=\"currentColor\" x=\"820\">террористам</tspan>\n    <tspan class=\"displacy-tag\" dy=\"2em\" fill=\"currentColor\" x=\"820\">NOUN</tspan>\n</text>\n\n<text class=\"displacy-token\" fill=\"currentColor\" text-anchor=\"middle\" y=\"222.0\">\n    <tspan class=\"displacy-word\" fill=\"currentColor\" x=\"890\">из</tspan>\n    <tspan class=\"displacy-tag\" dy=\"2em\" fill=\"currentColor\" x=\"890\">ADP</tspan>\n</text>\n\n<text class=\"displacy-token\" fill=\"currentColor\" text-anchor=\"middle\" y=\"222.0\">\n    <tspan class=\"displacy-word\" fill=\"currentColor\" x=\"960\">Хохлостана!</tspan>\n    <tspan class=\"displacy-tag\" dy=\"2em\" fill=\"currentColor\" x=\"960\">PROPN</tspan>\n</text>\n\n<text class=\"displacy-token\" fill=\"currentColor\" text-anchor=\"middle\" y=\"222.0\">\n    <tspan class=\"displacy-word\" fill=\"currentColor\" x=\"1030\">Даёшь</tspan>\n    <tspan class=\"displacy-tag\" dy=\"2em\" fill=\"currentColor\" x=\"1030\">VERB</tspan>\n</text>\n\n<text class=\"displacy-token\" fill=\"currentColor\" text-anchor=\"middle\" y=\"222.0\">\n    <tspan class=\"displacy-word\" fill=\"currentColor\" x=\"1100\">им</tspan>\n    <tspan class=\"displacy-tag\" dy=\"2em\" fill=\"currentColor\" x=\"1100\">PRON</tspan>\n</text>\n\n<text class=\"displacy-token\" fill=\"currentColor\" text-anchor=\"middle\" y=\"222.0\">\n    <tspan class=\"displacy-word\" fill=\"currentColor\" x=\"1170\">палец,</tspan>\n    <tspan class=\"displacy-tag\" dy=\"2em\" fill=\"currentColor\" x=\"1170\">NOUN</tspan>\n</text>\n\n<text class=\"displacy-token\" fill=\"currentColor\" text-anchor=\"middle\" y=\"222.0\">\n    <tspan class=\"displacy-word\" fill=\"currentColor\" x=\"1240\">а</tspan>\n    <tspan class=\"displacy-tag\" dy=\"2em\" fill=\"currentColor\" x=\"1240\">CCONJ</tspan>\n</text>\n\n<text class=\"displacy-token\" fill=\"currentColor\" text-anchor=\"middle\" y=\"222.0\">\n    <tspan class=\"displacy-word\" fill=\"currentColor\" x=\"1310\">они</tspan>\n    <tspan class=\"displacy-tag\" dy=\"2em\" fill=\"currentColor\" x=\"1310\">PRON</tspan>\n</text>\n\n<text class=\"displacy-token\" fill=\"currentColor\" text-anchor=\"middle\" y=\"222.0\">\n    <tspan class=\"displacy-word\" fill=\"currentColor\" x=\"1380\">пытаются</tspan>\n    <tspan class=\"displacy-tag\" dy=\"2em\" fill=\"currentColor\" x=\"1380\">VERB</tspan>\n</text>\n\n<text class=\"displacy-token\" fill=\"currentColor\" text-anchor=\"middle\" y=\"222.0\">\n    <tspan class=\"displacy-word\" fill=\"currentColor\" x=\"1450\">откусить</tspan>\n    <tspan class=\"displacy-tag\" dy=\"2em\" fill=\"currentColor\" x=\"1450\">VERB</tspan>\n</text>\n\n<text class=\"displacy-token\" fill=\"currentColor\" text-anchor=\"middle\" y=\"222.0\">\n    <tspan class=\"displacy-word\" fill=\"currentColor\" x=\"1520\">всю</tspan>\n    <tspan class=\"displacy-tag\" dy=\"2em\" fill=\"currentColor\" x=\"1520\">DET</tspan>\n</text>\n\n<text class=\"displacy-token\" fill=\"currentColor\" text-anchor=\"middle\" y=\"222.0\">\n    <tspan class=\"displacy-word\" fill=\"currentColor\" x=\"1590\">руку!</tspan>\n    <tspan class=\"displacy-tag\" dy=\"2em\" fill=\"currentColor\" x=\"1590\">NOUN</tspan>\n</text>\n\n<text class=\"displacy-token\" fill=\"currentColor\" text-anchor=\"middle\" y=\"222.0\">\n    <tspan class=\"displacy-word\" fill=\"currentColor\" x=\"1660\">Только</tspan>\n    <tspan class=\"displacy-tag\" dy=\"2em\" fill=\"currentColor\" x=\"1660\">PART</tspan>\n</text>\n\n<text class=\"displacy-token\" fill=\"currentColor\" text-anchor=\"middle\" y=\"222.0\">\n    <tspan class=\"displacy-word\" fill=\"currentColor\" x=\"1730\">у</tspan>\n    <tspan class=\"displacy-tag\" dy=\"2em\" fill=\"currentColor\" x=\"1730\">ADP</tspan>\n</text>\n\n<text class=\"displacy-token\" fill=\"currentColor\" text-anchor=\"middle\" y=\"222.0\">\n    <tspan class=\"displacy-word\" fill=\"currentColor\" x=\"1800\">них</tspan>\n    <tspan class=\"displacy-tag\" dy=\"2em\" fill=\"currentColor\" x=\"1800\">PRON</tspan>\n</text>\n\n<text class=\"displacy-token\" fill=\"currentColor\" text-anchor=\"middle\" y=\"222.0\">\n    <tspan class=\"displacy-word\" fill=\"currentColor\" x=\"1870\">появляется</tspan>\n    <tspan class=\"displacy-tag\" dy=\"2em\" fill=\"currentColor\" x=\"1870\">VERB</tspan>\n</text>\n\n<text class=\"displacy-token\" fill=\"currentColor\" text-anchor=\"middle\" y=\"222.0\">\n    <tspan class=\"displacy-word\" fill=\"currentColor\" x=\"1940\">повод</tspan>\n    <tspan class=\"displacy-tag\" dy=\"2em\" fill=\"currentColor\" x=\"1940\">NOUN</tspan>\n</text>\n\n<text class=\"displacy-token\" fill=\"currentColor\" text-anchor=\"middle\" y=\"222.0\">\n    <tspan class=\"displacy-word\" fill=\"currentColor\" x=\"2010\">для</tspan>\n    <tspan class=\"displacy-tag\" dy=\"2em\" fill=\"currentColor\" x=\"2010\">ADP</tspan>\n</text>\n\n<text class=\"displacy-token\" fill=\"currentColor\" text-anchor=\"middle\" y=\"222.0\">\n    <tspan class=\"displacy-word\" fill=\"currentColor\" x=\"2080\">так</tspan>\n    <tspan class=\"displacy-tag\" dy=\"2em\" fill=\"currentColor\" x=\"2080\">ADV</tspan>\n</text>\n\n<text class=\"displacy-token\" fill=\"currentColor\" text-anchor=\"middle\" y=\"222.0\">\n    <tspan class=\"displacy-word\" fill=\"currentColor\" x=\"2150\">называемой «</tspan>\n    <tspan class=\"displacy-tag\" dy=\"2em\" fill=\"currentColor\" x=\"2150\">VERB</tspan>\n</text>\n\n<text class=\"displacy-token\" fill=\"currentColor\" text-anchor=\"middle\" y=\"222.0\">\n    <tspan class=\"displacy-word\" fill=\"currentColor\" x=\"2220\">перемоги» -</tspan>\n    <tspan class=\"displacy-tag\" dy=\"2em\" fill=\"currentColor\" x=\"2220\">NOUN</tspan>\n</text>\n\n<text class=\"displacy-token\" fill=\"currentColor\" text-anchor=\"middle\" y=\"222.0\">\n    <tspan class=\"displacy-word\" fill=\"currentColor\" x=\"2290\">сразу</tspan>\n    <tspan class=\"displacy-tag\" dy=\"2em\" fill=\"currentColor\" x=\"2290\">ADV</tspan>\n</text>\n\n<text class=\"displacy-token\" fill=\"currentColor\" text-anchor=\"middle\" y=\"222.0\">\n    <tspan class=\"displacy-word\" fill=\"currentColor\" x=\"2360\">же</tspan>\n    <tspan class=\"displacy-tag\" dy=\"2em\" fill=\"currentColor\" x=\"2360\">PART</tspan>\n</text>\n\n<text class=\"displacy-token\" fill=\"currentColor\" text-anchor=\"middle\" y=\"222.0\">\n    <tspan class=\"displacy-word\" fill=\"currentColor\" x=\"2430\">случается</tspan>\n    <tspan class=\"displacy-tag\" dy=\"2em\" fill=\"currentColor\" x=\"2430\">VERB</tspan>\n</text>\n\n<text class=\"displacy-token\" fill=\"currentColor\" text-anchor=\"middle\" y=\"222.0\">\n    <tspan class=\"displacy-word\" fill=\"currentColor\" x=\"2500\">очередной</tspan>\n    <tspan class=\"displacy-tag\" dy=\"2em\" fill=\"currentColor\" x=\"2500\">ADJ</tspan>\n</text>\n\n<text class=\"displacy-token\" fill=\"currentColor\" text-anchor=\"middle\" y=\"222.0\">\n    <tspan class=\"displacy-word\" fill=\"currentColor\" x=\"2570\">жирный</tspan>\n    <tspan class=\"displacy-tag\" dy=\"2em\" fill=\"currentColor\" x=\"2570\">ADJ</tspan>\n</text>\n\n<text class=\"displacy-token\" fill=\"currentColor\" text-anchor=\"middle\" y=\"222.0\">\n    <tspan class=\"displacy-word\" fill=\"currentColor\" x=\"2640\">всплеск</tspan>\n    <tspan class=\"displacy-tag\" dy=\"2em\" fill=\"currentColor\" x=\"2640\">NOUN</tspan>\n</text>\n\n<text class=\"displacy-token\" fill=\"currentColor\" text-anchor=\"middle\" y=\"222.0\">\n    <tspan class=\"displacy-word\" fill=\"currentColor\" x=\"2710\">русофобской</tspan>\n    <tspan class=\"displacy-tag\" dy=\"2em\" fill=\"currentColor\" x=\"2710\">ADJ</tspan>\n</text>\n\n<text class=\"displacy-token\" fill=\"currentColor\" text-anchor=\"middle\" y=\"222.0\">\n    <tspan class=\"displacy-word\" fill=\"currentColor\" x=\"2780\">активности.</tspan>\n    <tspan class=\"displacy-tag\" dy=\"2em\" fill=\"currentColor\" x=\"2780\">NOUN</tspan>\n</text>\n\n<g class=\"displacy-arrow\">\n    <path class=\"displacy-arc\" id=\"arrow-b6562739ec9f410db50c7bdfc7514978-0-0\" stroke-width=\"2px\" d=\"M70,177.0 C70,2.0 540.0,2.0 540.0,177.0\" fill=\"none\" stroke=\"currentColor\"/>\n    <text dy=\"1.25em\" style=\"font-size: 0.8em; letter-spacing: 1px\">\n        <textPath xlink:href=\"#arrow-b6562739ec9f410db50c7bdfc7514978-0-0\" class=\"displacy-label\" startOffset=\"50%\" side=\"left\" fill=\"currentColor\" text-anchor=\"middle\">nsubj</textPath>\n    </text>\n    <path class=\"displacy-arrowhead\" d=\"M70,179.0 L62,167.0 78,167.0\" fill=\"currentColor\"/>\n</g>\n\n<g class=\"displacy-arrow\">\n    <path class=\"displacy-arc\" id=\"arrow-b6562739ec9f410db50c7bdfc7514978-0-1\" stroke-width=\"2px\" d=\"M70,177.0 C70,142.0 100.0,142.0 100.0,177.0\" fill=\"none\" stroke=\"currentColor\"/>\n    <text dy=\"1.25em\" style=\"font-size: 0.8em; letter-spacing: 1px\">\n        <textPath xlink:href=\"#arrow-b6562739ec9f410db50c7bdfc7514978-0-1\" class=\"displacy-label\" startOffset=\"50%\" side=\"left\" fill=\"currentColor\" text-anchor=\"middle\">appos</textPath>\n    </text>\n    <path class=\"displacy-arrowhead\" d=\"M100.0,179.0 L108.0,167.0 92.0,167.0\" fill=\"currentColor\"/>\n</g>\n\n<g class=\"displacy-arrow\">\n    <path class=\"displacy-arc\" id=\"arrow-b6562739ec9f410db50c7bdfc7514978-0-2\" stroke-width=\"2px\" d=\"M210,177.0 C210,37.0 535.0,37.0 535.0,177.0\" fill=\"none\" stroke=\"currentColor\"/>\n    <text dy=\"1.25em\" style=\"font-size: 0.8em; letter-spacing: 1px\">\n        <textPath xlink:href=\"#arrow-b6562739ec9f410db50c7bdfc7514978-0-2\" class=\"displacy-label\" startOffset=\"50%\" side=\"left\" fill=\"currentColor\" text-anchor=\"middle\">advmod</textPath>\n    </text>\n    <path class=\"displacy-arrowhead\" d=\"M210,179.0 L202,167.0 218,167.0\" fill=\"currentColor\"/>\n</g>\n\n<g class=\"displacy-arrow\">\n    <path class=\"displacy-arc\" id=\"arrow-b6562739ec9f410db50c7bdfc7514978-0-3\" stroke-width=\"2px\" d=\"M210,177.0 C210,142.0 240.0,142.0 240.0,177.0\" fill=\"none\" stroke=\"currentColor\"/>\n    <text dy=\"1.25em\" style=\"font-size: 0.8em; letter-spacing: 1px\">\n        <textPath xlink:href=\"#arrow-b6562739ec9f410db50c7bdfc7514978-0-3\" class=\"displacy-label\" startOffset=\"50%\" side=\"left\" fill=\"currentColor\" text-anchor=\"middle\">fixed</textPath>\n    </text>\n    <path class=\"displacy-arrowhead\" d=\"M240.0,179.0 L248.0,167.0 232.0,167.0\" fill=\"currentColor\"/>\n</g>\n\n<g class=\"displacy-arrow\">\n    <path class=\"displacy-arc\" id=\"arrow-b6562739ec9f410db50c7bdfc7514978-0-4\" stroke-width=\"2px\" d=\"M210,177.0 C210,107.0 315.0,107.0 315.0,177.0\" fill=\"none\" stroke=\"currentColor\"/>\n    <text dy=\"1.25em\" style=\"font-size: 0.8em; letter-spacing: 1px\">\n        <textPath xlink:href=\"#arrow-b6562739ec9f410db50c7bdfc7514978-0-4\" class=\"displacy-label\" startOffset=\"50%\" side=\"left\" fill=\"currentColor\" text-anchor=\"middle\">fixed</textPath>\n    </text>\n    <path class=\"displacy-arrowhead\" d=\"M315.0,179.0 L323.0,167.0 307.0,167.0\" fill=\"currentColor\"/>\n</g>\n\n<g class=\"displacy-arrow\">\n    <path class=\"displacy-arc\" id=\"arrow-b6562739ec9f410db50c7bdfc7514978-0-5\" stroke-width=\"2px\" d=\"M210,177.0 C210,72.0 390.0,72.0 390.0,177.0\" fill=\"none\" stroke=\"currentColor\"/>\n    <text dy=\"1.25em\" style=\"font-size: 0.8em; letter-spacing: 1px\">\n        <textPath xlink:href=\"#arrow-b6562739ec9f410db50c7bdfc7514978-0-5\" class=\"displacy-label\" startOffset=\"50%\" side=\"left\" fill=\"currentColor\" text-anchor=\"middle\">fixed</textPath>\n    </text>\n    <path class=\"displacy-arrowhead\" d=\"M390.0,179.0 L398.0,167.0 382.0,167.0\" fill=\"currentColor\"/>\n</g>\n\n<g class=\"displacy-arrow\">\n    <path class=\"displacy-arc\" id=\"arrow-b6562739ec9f410db50c7bdfc7514978-0-6\" stroke-width=\"2px\" d=\"M490,177.0 C490,142.0 520.0,142.0 520.0,177.0\" fill=\"none\" stroke=\"currentColor\"/>\n    <text dy=\"1.25em\" style=\"font-size: 0.8em; letter-spacing: 1px\">\n        <textPath xlink:href=\"#arrow-b6562739ec9f410db50c7bdfc7514978-0-6\" class=\"displacy-label\" startOffset=\"50%\" side=\"left\" fill=\"currentColor\" text-anchor=\"middle\">advmod</textPath>\n    </text>\n    <path class=\"displacy-arrowhead\" d=\"M490,179.0 L482,167.0 498,167.0\" fill=\"currentColor\"/>\n</g>\n\n<g class=\"displacy-arrow\">\n    <path class=\"displacy-arc\" id=\"arrow-b6562739ec9f410db50c7bdfc7514978-0-7\" stroke-width=\"2px\" d=\"M560,177.0 C560,142.0 590.0,142.0 590.0,177.0\" fill=\"none\" stroke=\"currentColor\"/>\n    <text dy=\"1.25em\" style=\"font-size: 0.8em; letter-spacing: 1px\">\n        <textPath xlink:href=\"#arrow-b6562739ec9f410db50c7bdfc7514978-0-7\" class=\"displacy-label\" startOffset=\"50%\" side=\"left\" fill=\"currentColor\" text-anchor=\"middle\">obj</textPath>\n    </text>\n    <path class=\"displacy-arrowhead\" d=\"M590.0,179.0 L598.0,167.0 582.0,167.0\" fill=\"currentColor\"/>\n</g>\n\n<g class=\"displacy-arrow\">\n    <path class=\"displacy-arc\" id=\"arrow-b6562739ec9f410db50c7bdfc7514978-0-8\" stroke-width=\"2px\" d=\"M630,177.0 C630,142.0 660.0,142.0 660.0,177.0\" fill=\"none\" stroke=\"currentColor\"/>\n    <text dy=\"1.25em\" style=\"font-size: 0.8em; letter-spacing: 1px\">\n        <textPath xlink:href=\"#arrow-b6562739ec9f410db50c7bdfc7514978-0-8\" class=\"displacy-label\" startOffset=\"50%\" side=\"left\" fill=\"currentColor\" text-anchor=\"middle\">nmod</textPath>\n    </text>\n    <path class=\"displacy-arrowhead\" d=\"M660.0,179.0 L668.0,167.0 652.0,167.0\" fill=\"currentColor\"/>\n</g>\n\n<g class=\"displacy-arrow\">\n    <path class=\"displacy-arc\" id=\"arrow-b6562739ec9f410db50c7bdfc7514978-0-9\" stroke-width=\"2px\" d=\"M700,177.0 C700,142.0 730.0,142.0 730.0,177.0\" fill=\"none\" stroke=\"currentColor\"/>\n    <text dy=\"1.25em\" style=\"font-size: 0.8em; letter-spacing: 1px\">\n        <textPath xlink:href=\"#arrow-b6562739ec9f410db50c7bdfc7514978-0-9\" class=\"displacy-label\" startOffset=\"50%\" side=\"left\" fill=\"currentColor\" text-anchor=\"middle\">obj</textPath>\n    </text>\n    <path class=\"displacy-arrowhead\" d=\"M730.0,179.0 L738.0,167.0 722.0,167.0\" fill=\"currentColor\"/>\n</g>\n\n<g class=\"displacy-arrow\">\n    <path class=\"displacy-arc\" id=\"arrow-b6562739ec9f410db50c7bdfc7514978-0-10\" stroke-width=\"2px\" d=\"M700,177.0 C700,107.0 805.0,107.0 805.0,177.0\" fill=\"none\" stroke=\"currentColor\"/>\n    <text dy=\"1.25em\" style=\"font-size: 0.8em; letter-spacing: 1px\">\n        <textPath xlink:href=\"#arrow-b6562739ec9f410db50c7bdfc7514978-0-10\" class=\"displacy-label\" startOffset=\"50%\" side=\"left\" fill=\"currentColor\" text-anchor=\"middle\">iobj</textPath>\n    </text>\n    <path class=\"displacy-arrowhead\" d=\"M805.0,179.0 L813.0,167.0 797.0,167.0\" fill=\"currentColor\"/>\n</g>\n\n<g class=\"displacy-arrow\">\n    <path class=\"displacy-arc\" id=\"arrow-b6562739ec9f410db50c7bdfc7514978-0-11\" stroke-width=\"2px\" d=\"M910,177.0 C910,142.0 940.0,142.0 940.0,177.0\" fill=\"none\" stroke=\"currentColor\"/>\n    <text dy=\"1.25em\" style=\"font-size: 0.8em; letter-spacing: 1px\">\n        <textPath xlink:href=\"#arrow-b6562739ec9f410db50c7bdfc7514978-0-11\" class=\"displacy-label\" startOffset=\"50%\" side=\"left\" fill=\"currentColor\" text-anchor=\"middle\">case</textPath>\n    </text>\n    <path class=\"displacy-arrowhead\" d=\"M910,179.0 L902,167.0 918,167.0\" fill=\"currentColor\"/>\n</g>\n\n<g class=\"displacy-arrow\">\n    <path class=\"displacy-arc\" id=\"arrow-b6562739ec9f410db50c7bdfc7514978-0-12\" stroke-width=\"2px\" d=\"M840,177.0 C840,107.0 945.0,107.0 945.0,177.0\" fill=\"none\" stroke=\"currentColor\"/>\n    <text dy=\"1.25em\" style=\"font-size: 0.8em; letter-spacing: 1px\">\n        <textPath xlink:href=\"#arrow-b6562739ec9f410db50c7bdfc7514978-0-12\" class=\"displacy-label\" startOffset=\"50%\" side=\"left\" fill=\"currentColor\" text-anchor=\"middle\">nmod</textPath>\n    </text>\n    <path class=\"displacy-arrowhead\" d=\"M945.0,179.0 L953.0,167.0 937.0,167.0\" fill=\"currentColor\"/>\n</g>\n\n<g class=\"displacy-arrow\">\n    <path class=\"displacy-arc\" id=\"arrow-b6562739ec9f410db50c7bdfc7514978-0-13\" stroke-width=\"2px\" d=\"M1050,177.0 C1050,142.0 1080.0,142.0 1080.0,177.0\" fill=\"none\" stroke=\"currentColor\"/>\n    <text dy=\"1.25em\" style=\"font-size: 0.8em; letter-spacing: 1px\">\n        <textPath xlink:href=\"#arrow-b6562739ec9f410db50c7bdfc7514978-0-13\" class=\"displacy-label\" startOffset=\"50%\" side=\"left\" fill=\"currentColor\" text-anchor=\"middle\">iobj</textPath>\n    </text>\n    <path class=\"displacy-arrowhead\" d=\"M1080.0,179.0 L1088.0,167.0 1072.0,167.0\" fill=\"currentColor\"/>\n</g>\n\n<g class=\"displacy-arrow\">\n    <path class=\"displacy-arc\" id=\"arrow-b6562739ec9f410db50c7bdfc7514978-0-14\" stroke-width=\"2px\" d=\"M1050,177.0 C1050,107.0 1155.0,107.0 1155.0,177.0\" fill=\"none\" stroke=\"currentColor\"/>\n    <text dy=\"1.25em\" style=\"font-size: 0.8em; letter-spacing: 1px\">\n        <textPath xlink:href=\"#arrow-b6562739ec9f410db50c7bdfc7514978-0-14\" class=\"displacy-label\" startOffset=\"50%\" side=\"left\" fill=\"currentColor\" text-anchor=\"middle\">obj</textPath>\n    </text>\n    <path class=\"displacy-arrowhead\" d=\"M1155.0,179.0 L1163.0,167.0 1147.0,167.0\" fill=\"currentColor\"/>\n</g>\n\n<g class=\"displacy-arrow\">\n    <path class=\"displacy-arc\" id=\"arrow-b6562739ec9f410db50c7bdfc7514978-0-15\" stroke-width=\"2px\" d=\"M1260,177.0 C1260,107.0 1365.0,107.0 1365.0,177.0\" fill=\"none\" stroke=\"currentColor\"/>\n    <text dy=\"1.25em\" style=\"font-size: 0.8em; letter-spacing: 1px\">\n        <textPath xlink:href=\"#arrow-b6562739ec9f410db50c7bdfc7514978-0-15\" class=\"displacy-label\" startOffset=\"50%\" side=\"left\" fill=\"currentColor\" text-anchor=\"middle\">cc</textPath>\n    </text>\n    <path class=\"displacy-arrowhead\" d=\"M1260,179.0 L1252,167.0 1268,167.0\" fill=\"currentColor\"/>\n</g>\n\n<g class=\"displacy-arrow\">\n    <path class=\"displacy-arc\" id=\"arrow-b6562739ec9f410db50c7bdfc7514978-0-16\" stroke-width=\"2px\" d=\"M1330,177.0 C1330,142.0 1360.0,142.0 1360.0,177.0\" fill=\"none\" stroke=\"currentColor\"/>\n    <text dy=\"1.25em\" style=\"font-size: 0.8em; letter-spacing: 1px\">\n        <textPath xlink:href=\"#arrow-b6562739ec9f410db50c7bdfc7514978-0-16\" class=\"displacy-label\" startOffset=\"50%\" side=\"left\" fill=\"currentColor\" text-anchor=\"middle\">nsubj</textPath>\n    </text>\n    <path class=\"displacy-arrowhead\" d=\"M1330,179.0 L1322,167.0 1338,167.0\" fill=\"currentColor\"/>\n</g>\n\n<g class=\"displacy-arrow\">\n    <path class=\"displacy-arc\" id=\"arrow-b6562739ec9f410db50c7bdfc7514978-0-17\" stroke-width=\"2px\" d=\"M1050,177.0 C1050,72.0 1370.0,72.0 1370.0,177.0\" fill=\"none\" stroke=\"currentColor\"/>\n    <text dy=\"1.25em\" style=\"font-size: 0.8em; letter-spacing: 1px\">\n        <textPath xlink:href=\"#arrow-b6562739ec9f410db50c7bdfc7514978-0-17\" class=\"displacy-label\" startOffset=\"50%\" side=\"left\" fill=\"currentColor\" text-anchor=\"middle\">conj</textPath>\n    </text>\n    <path class=\"displacy-arrowhead\" d=\"M1370.0,179.0 L1378.0,167.0 1362.0,167.0\" fill=\"currentColor\"/>\n</g>\n\n<g class=\"displacy-arrow\">\n    <path class=\"displacy-arc\" id=\"arrow-b6562739ec9f410db50c7bdfc7514978-0-18\" stroke-width=\"2px\" d=\"M1400,177.0 C1400,142.0 1430.0,142.0 1430.0,177.0\" fill=\"none\" stroke=\"currentColor\"/>\n    <text dy=\"1.25em\" style=\"font-size: 0.8em; letter-spacing: 1px\">\n        <textPath xlink:href=\"#arrow-b6562739ec9f410db50c7bdfc7514978-0-18\" class=\"displacy-label\" startOffset=\"50%\" side=\"left\" fill=\"currentColor\" text-anchor=\"middle\">xcomp</textPath>\n    </text>\n    <path class=\"displacy-arrowhead\" d=\"M1430.0,179.0 L1438.0,167.0 1422.0,167.0\" fill=\"currentColor\"/>\n</g>\n\n<g class=\"displacy-arrow\">\n    <path class=\"displacy-arc\" id=\"arrow-b6562739ec9f410db50c7bdfc7514978-0-19\" stroke-width=\"2px\" d=\"M1540,177.0 C1540,142.0 1570.0,142.0 1570.0,177.0\" fill=\"none\" stroke=\"currentColor\"/>\n    <text dy=\"1.25em\" style=\"font-size: 0.8em; letter-spacing: 1px\">\n        <textPath xlink:href=\"#arrow-b6562739ec9f410db50c7bdfc7514978-0-19\" class=\"displacy-label\" startOffset=\"50%\" side=\"left\" fill=\"currentColor\" text-anchor=\"middle\">det</textPath>\n    </text>\n    <path class=\"displacy-arrowhead\" d=\"M1540,179.0 L1532,167.0 1548,167.0\" fill=\"currentColor\"/>\n</g>\n\n<g class=\"displacy-arrow\">\n    <path class=\"displacy-arc\" id=\"arrow-b6562739ec9f410db50c7bdfc7514978-0-20\" stroke-width=\"2px\" d=\"M1470,177.0 C1470,107.0 1575.0,107.0 1575.0,177.0\" fill=\"none\" stroke=\"currentColor\"/>\n    <text dy=\"1.25em\" style=\"font-size: 0.8em; letter-spacing: 1px\">\n        <textPath xlink:href=\"#arrow-b6562739ec9f410db50c7bdfc7514978-0-20\" class=\"displacy-label\" startOffset=\"50%\" side=\"left\" fill=\"currentColor\" text-anchor=\"middle\">obj</textPath>\n    </text>\n    <path class=\"displacy-arrowhead\" d=\"M1575.0,179.0 L1583.0,167.0 1567.0,167.0\" fill=\"currentColor\"/>\n</g>\n\n<g class=\"displacy-arrow\">\n    <path class=\"displacy-arc\" id=\"arrow-b6562739ec9f410db50c7bdfc7514978-0-21\" stroke-width=\"2px\" d=\"M1680,177.0 C1680,107.0 1785.0,107.0 1785.0,177.0\" fill=\"none\" stroke=\"currentColor\"/>\n    <text dy=\"1.25em\" style=\"font-size: 0.8em; letter-spacing: 1px\">\n        <textPath xlink:href=\"#arrow-b6562739ec9f410db50c7bdfc7514978-0-21\" class=\"displacy-label\" startOffset=\"50%\" side=\"left\" fill=\"currentColor\" text-anchor=\"middle\">advmod</textPath>\n    </text>\n    <path class=\"displacy-arrowhead\" d=\"M1680,179.0 L1672,167.0 1688,167.0\" fill=\"currentColor\"/>\n</g>\n\n<g class=\"displacy-arrow\">\n    <path class=\"displacy-arc\" id=\"arrow-b6562739ec9f410db50c7bdfc7514978-0-22\" stroke-width=\"2px\" d=\"M1750,177.0 C1750,142.0 1780.0,142.0 1780.0,177.0\" fill=\"none\" stroke=\"currentColor\"/>\n    <text dy=\"1.25em\" style=\"font-size: 0.8em; letter-spacing: 1px\">\n        <textPath xlink:href=\"#arrow-b6562739ec9f410db50c7bdfc7514978-0-22\" class=\"displacy-label\" startOffset=\"50%\" side=\"left\" fill=\"currentColor\" text-anchor=\"middle\">case</textPath>\n    </text>\n    <path class=\"displacy-arrowhead\" d=\"M1750,179.0 L1742,167.0 1758,167.0\" fill=\"currentColor\"/>\n</g>\n\n<g class=\"displacy-arrow\">\n    <path class=\"displacy-arc\" id=\"arrow-b6562739ec9f410db50c7bdfc7514978-0-23\" stroke-width=\"2px\" d=\"M1820,177.0 C1820,142.0 1850.0,142.0 1850.0,177.0\" fill=\"none\" stroke=\"currentColor\"/>\n    <text dy=\"1.25em\" style=\"font-size: 0.8em; letter-spacing: 1px\">\n        <textPath xlink:href=\"#arrow-b6562739ec9f410db50c7bdfc7514978-0-23\" class=\"displacy-label\" startOffset=\"50%\" side=\"left\" fill=\"currentColor\" text-anchor=\"middle\">obl</textPath>\n    </text>\n    <path class=\"displacy-arrowhead\" d=\"M1820,179.0 L1812,167.0 1828,167.0\" fill=\"currentColor\"/>\n</g>\n\n<g class=\"displacy-arrow\">\n    <path class=\"displacy-arc\" id=\"arrow-b6562739ec9f410db50c7bdfc7514978-0-24\" stroke-width=\"2px\" d=\"M1890,177.0 C1890,142.0 1920.0,142.0 1920.0,177.0\" fill=\"none\" stroke=\"currentColor\"/>\n    <text dy=\"1.25em\" style=\"font-size: 0.8em; letter-spacing: 1px\">\n        <textPath xlink:href=\"#arrow-b6562739ec9f410db50c7bdfc7514978-0-24\" class=\"displacy-label\" startOffset=\"50%\" side=\"left\" fill=\"currentColor\" text-anchor=\"middle\">nsubj</textPath>\n    </text>\n    <path class=\"displacy-arrowhead\" d=\"M1920.0,179.0 L1928.0,167.0 1912.0,167.0\" fill=\"currentColor\"/>\n</g>\n\n<g class=\"displacy-arrow\">\n    <path class=\"displacy-arc\" id=\"arrow-b6562739ec9f410db50c7bdfc7514978-0-25\" stroke-width=\"2px\" d=\"M2030,177.0 C2030,107.0 2205.0,107.0 2205.0,177.0\" fill=\"none\" stroke=\"currentColor\"/>\n    <text dy=\"1.25em\" style=\"font-size: 0.8em; letter-spacing: 1px\">\n        <textPath xlink:href=\"#arrow-b6562739ec9f410db50c7bdfc7514978-0-25\" class=\"displacy-label\" startOffset=\"50%\" side=\"left\" fill=\"currentColor\" text-anchor=\"middle\">case</textPath>\n    </text>\n    <path class=\"displacy-arrowhead\" d=\"M2030,179.0 L2022,167.0 2038,167.0\" fill=\"currentColor\"/>\n</g>\n\n<g class=\"displacy-arrow\">\n    <path class=\"displacy-arc\" id=\"arrow-b6562739ec9f410db50c7bdfc7514978-0-26\" stroke-width=\"2px\" d=\"M2100,177.0 C2100,142.0 2130.0,142.0 2130.0,177.0\" fill=\"none\" stroke=\"currentColor\"/>\n    <text dy=\"1.25em\" style=\"font-size: 0.8em; letter-spacing: 1px\">\n        <textPath xlink:href=\"#arrow-b6562739ec9f410db50c7bdfc7514978-0-26\" class=\"displacy-label\" startOffset=\"50%\" side=\"left\" fill=\"currentColor\" text-anchor=\"middle\">advmod</textPath>\n    </text>\n    <path class=\"displacy-arrowhead\" d=\"M2100,179.0 L2092,167.0 2108,167.0\" fill=\"currentColor\"/>\n</g>\n\n<g class=\"displacy-arrow\">\n    <path class=\"displacy-arc\" id=\"arrow-b6562739ec9f410db50c7bdfc7514978-0-27\" stroke-width=\"2px\" d=\"M2170,177.0 C2170,142.0 2200.0,142.0 2200.0,177.0\" fill=\"none\" stroke=\"currentColor\"/>\n    <text dy=\"1.25em\" style=\"font-size: 0.8em; letter-spacing: 1px\">\n        <textPath xlink:href=\"#arrow-b6562739ec9f410db50c7bdfc7514978-0-27\" class=\"displacy-label\" startOffset=\"50%\" side=\"left\" fill=\"currentColor\" text-anchor=\"middle\">acl</textPath>\n    </text>\n    <path class=\"displacy-arrowhead\" d=\"M2170,179.0 L2162,167.0 2178,167.0\" fill=\"currentColor\"/>\n</g>\n\n<g class=\"displacy-arrow\">\n    <path class=\"displacy-arc\" id=\"arrow-b6562739ec9f410db50c7bdfc7514978-0-28\" stroke-width=\"2px\" d=\"M1960,177.0 C1960,72.0 2210.0,72.0 2210.0,177.0\" fill=\"none\" stroke=\"currentColor\"/>\n    <text dy=\"1.25em\" style=\"font-size: 0.8em; letter-spacing: 1px\">\n        <textPath xlink:href=\"#arrow-b6562739ec9f410db50c7bdfc7514978-0-28\" class=\"displacy-label\" startOffset=\"50%\" side=\"left\" fill=\"currentColor\" text-anchor=\"middle\">nmod</textPath>\n    </text>\n    <path class=\"displacy-arrowhead\" d=\"M2210.0,179.0 L2218.0,167.0 2202.0,167.0\" fill=\"currentColor\"/>\n</g>\n\n<g class=\"displacy-arrow\">\n    <path class=\"displacy-arc\" id=\"arrow-b6562739ec9f410db50c7bdfc7514978-0-29\" stroke-width=\"2px\" d=\"M2310,177.0 C2310,107.0 2415.0,107.0 2415.0,177.0\" fill=\"none\" stroke=\"currentColor\"/>\n    <text dy=\"1.25em\" style=\"font-size: 0.8em; letter-spacing: 1px\">\n        <textPath xlink:href=\"#arrow-b6562739ec9f410db50c7bdfc7514978-0-29\" class=\"displacy-label\" startOffset=\"50%\" side=\"left\" fill=\"currentColor\" text-anchor=\"middle\">advmod</textPath>\n    </text>\n    <path class=\"displacy-arrowhead\" d=\"M2310,179.0 L2302,167.0 2318,167.0\" fill=\"currentColor\"/>\n</g>\n\n<g class=\"displacy-arrow\">\n    <path class=\"displacy-arc\" id=\"arrow-b6562739ec9f410db50c7bdfc7514978-0-30\" stroke-width=\"2px\" d=\"M2310,177.0 C2310,142.0 2340.0,142.0 2340.0,177.0\" fill=\"none\" stroke=\"currentColor\"/>\n    <text dy=\"1.25em\" style=\"font-size: 0.8em; letter-spacing: 1px\">\n        <textPath xlink:href=\"#arrow-b6562739ec9f410db50c7bdfc7514978-0-30\" class=\"displacy-label\" startOffset=\"50%\" side=\"left\" fill=\"currentColor\" text-anchor=\"middle\">advmod</textPath>\n    </text>\n    <path class=\"displacy-arrowhead\" d=\"M2340.0,179.0 L2348.0,167.0 2332.0,167.0\" fill=\"currentColor\"/>\n</g>\n\n<g class=\"displacy-arrow\">\n    <path class=\"displacy-arc\" id=\"arrow-b6562739ec9f410db50c7bdfc7514978-0-31\" stroke-width=\"2px\" d=\"M1890,177.0 C1890,37.0 2425.0,37.0 2425.0,177.0\" fill=\"none\" stroke=\"currentColor\"/>\n    <text dy=\"1.25em\" style=\"font-size: 0.8em; letter-spacing: 1px\">\n        <textPath xlink:href=\"#arrow-b6562739ec9f410db50c7bdfc7514978-0-31\" class=\"displacy-label\" startOffset=\"50%\" side=\"left\" fill=\"currentColor\" text-anchor=\"middle\">conj</textPath>\n    </text>\n    <path class=\"displacy-arrowhead\" d=\"M2425.0,179.0 L2433.0,167.0 2417.0,167.0\" fill=\"currentColor\"/>\n</g>\n\n<g class=\"displacy-arrow\">\n    <path class=\"displacy-arc\" id=\"arrow-b6562739ec9f410db50c7bdfc7514978-0-32\" stroke-width=\"2px\" d=\"M2520,177.0 C2520,107.0 2625.0,107.0 2625.0,177.0\" fill=\"none\" stroke=\"currentColor\"/>\n    <text dy=\"1.25em\" style=\"font-size: 0.8em; letter-spacing: 1px\">\n        <textPath xlink:href=\"#arrow-b6562739ec9f410db50c7bdfc7514978-0-32\" class=\"displacy-label\" startOffset=\"50%\" side=\"left\" fill=\"currentColor\" text-anchor=\"middle\">amod</textPath>\n    </text>\n    <path class=\"displacy-arrowhead\" d=\"M2520,179.0 L2512,167.0 2528,167.0\" fill=\"currentColor\"/>\n</g>\n\n<g class=\"displacy-arrow\">\n    <path class=\"displacy-arc\" id=\"arrow-b6562739ec9f410db50c7bdfc7514978-0-33\" stroke-width=\"2px\" d=\"M2590,177.0 C2590,142.0 2620.0,142.0 2620.0,177.0\" fill=\"none\" stroke=\"currentColor\"/>\n    <text dy=\"1.25em\" style=\"font-size: 0.8em; letter-spacing: 1px\">\n        <textPath xlink:href=\"#arrow-b6562739ec9f410db50c7bdfc7514978-0-33\" class=\"displacy-label\" startOffset=\"50%\" side=\"left\" fill=\"currentColor\" text-anchor=\"middle\">amod</textPath>\n    </text>\n    <path class=\"displacy-arrowhead\" d=\"M2590,179.0 L2582,167.0 2598,167.0\" fill=\"currentColor\"/>\n</g>\n\n<g class=\"displacy-arrow\">\n    <path class=\"displacy-arc\" id=\"arrow-b6562739ec9f410db50c7bdfc7514978-0-34\" stroke-width=\"2px\" d=\"M2450,177.0 C2450,72.0 2630.0,72.0 2630.0,177.0\" fill=\"none\" stroke=\"currentColor\"/>\n    <text dy=\"1.25em\" style=\"font-size: 0.8em; letter-spacing: 1px\">\n        <textPath xlink:href=\"#arrow-b6562739ec9f410db50c7bdfc7514978-0-34\" class=\"displacy-label\" startOffset=\"50%\" side=\"left\" fill=\"currentColor\" text-anchor=\"middle\">nsubj</textPath>\n    </text>\n    <path class=\"displacy-arrowhead\" d=\"M2630.0,179.0 L2638.0,167.0 2622.0,167.0\" fill=\"currentColor\"/>\n</g>\n\n<g class=\"displacy-arrow\">\n    <path class=\"displacy-arc\" id=\"arrow-b6562739ec9f410db50c7bdfc7514978-0-35\" stroke-width=\"2px\" d=\"M2730,177.0 C2730,142.0 2760.0,142.0 2760.0,177.0\" fill=\"none\" stroke=\"currentColor\"/>\n    <text dy=\"1.25em\" style=\"font-size: 0.8em; letter-spacing: 1px\">\n        <textPath xlink:href=\"#arrow-b6562739ec9f410db50c7bdfc7514978-0-35\" class=\"displacy-label\" startOffset=\"50%\" side=\"left\" fill=\"currentColor\" text-anchor=\"middle\">amod</textPath>\n    </text>\n    <path class=\"displacy-arrowhead\" d=\"M2730,179.0 L2722,167.0 2738,167.0\" fill=\"currentColor\"/>\n</g>\n\n<g class=\"displacy-arrow\">\n    <path class=\"displacy-arc\" id=\"arrow-b6562739ec9f410db50c7bdfc7514978-0-36\" stroke-width=\"2px\" d=\"M2660,177.0 C2660,107.0 2765.0,107.0 2765.0,177.0\" fill=\"none\" stroke=\"currentColor\"/>\n    <text dy=\"1.25em\" style=\"font-size: 0.8em; letter-spacing: 1px\">\n        <textPath xlink:href=\"#arrow-b6562739ec9f410db50c7bdfc7514978-0-36\" class=\"displacy-label\" startOffset=\"50%\" side=\"left\" fill=\"currentColor\" text-anchor=\"middle\">nmod</textPath>\n    </text>\n    <path class=\"displacy-arrowhead\" d=\"M2765.0,179.0 L2773.0,167.0 2757.0,167.0\" fill=\"currentColor\"/>\n</g>\n</svg></span>"
     },
     "metadata": {},
     "output_type": "display_data"
    }
   ],
   "source": [
    "show_dependency(df['text'][335])"
   ],
   "metadata": {
    "collapsed": false,
    "pycharm": {
     "name": "#%%\n"
    }
   }
  },
  {
   "cell_type": "code",
   "execution_count": 177,
   "outputs": [
    {
     "data": {
      "text/plain": "                                                   text  \\\n0     Вагнер отправляет к бандере и прочим шайтанам ...   \n1     Тут понимаешь всё про метафизику этой войны. «...   \n2     Наш источник сообщает, что остатки военной ави...   \n3     Раньше укронацисты строили песчаные замки — но...   \n4     Именно эти регионы являются настоящим рассадни...   \n...                                                 ...   \n3638     Стоимость очередной подачки хохлам - $675 млн.   \n3639  Хохлячие каналы ссылаясь на некую разведку соо...   \n3640  Обсуждают недоукраинца Невзорова, Анну Нетребк...   \n3641  И вот приходит коллективный Зусько и буквально...   \n3642  Ну, во-первых спасибо за установочные данные, ...   \n\n                                         core_noun_verb  \\\n0                                [[вагнер, отправляет]]   \n1                       [[укропы, вышли], [они, вышли]]   \n2                   [[источник, сообщает, переброшена]]   \n3     [[укронацисты, раньше, строили], [укронацисты,...   \n4     [[регионы, являются, рассадником], [регионы, и...   \n...                                                 ...   \n3638                                                 []   \n3639  [[каналы, сообщают], [вс, готовы, подорвать], ...   \n3640                                                 []   \n3641  [[зусько, вот, приходит], [зусько, буквально, ...   \n3642                  [[хлопцы, бизнес], [это, бизнес]]   \n\n                                           verb_obl_obj  \\\n0     [[отправляет, к, бандере], [отправляет, бригады]]   \n1     [[тут, понимаешь, всё], [тут, понимаешь, про, ...   \n2                         [[переброшена, на, аэродром]]   \n3                            [[раньше, строили, замки]]   \n4           [[имеют, для, укронациков], [имеют, смысл]]   \n...                                                 ...   \n3638                                                 []   \n3639  [[ссылаясь, на, разведку], [сообщают, о, том],...   \n3640                        [[обсуждают, недоукраинца]]   \n3641  [[буквально, начинает, хохлов, заваливать], [з...   \n3642                                                 []   \n\n                                     core_noun_verb_str  \\\n0                                     вагнер отправляет   \n1                               укропы вышли, они вышли   \n2                         источник сообщает переброшена   \n3     укронацисты раньше строили, укронацисты теперь...   \n4           регионы являются рассадником, регионы имеют   \n...                                                 ...   \n3638                                                      \n3639  каналы сообщают, вс готовы подорвать, зеленски...   \n3640                                                      \n3641  зусько вот приходит, зусько буквально начинает...   \n3642                          хлопцы бизнес, это бизнес   \n\n                               appos  \\\n0     [[батальон, джохара, дудаева]]   \n1                                 []   \n2                  [[аэродром, рог]]   \n3                                 []   \n4                                 []   \n...                              ...   \n3638                              []   \n3639                              []   \n3640                              []   \n3641                              []   \n3642                              []   \n\n                                                   amod  \\\n0     [[прочим, шайтанам], [следующие, бригады], [ша...   \n1                                                    []   \n2        [[военной, авиации], [долгинцево(кривой, рог]]   \n3                                   [[песчаные, замки]]   \n4     [[настоящим, рассадником], [сакральный, смысл]...   \n...                                                 ...   \n3638                   [[очередной, подачки], [-, млн]]   \n3639  [[хохлячие, каналы], [каховской, гэс], [масшта...   \n3640                                                 []   \n3641          [[коллективный, зусько], [ровном, месте]]   \n3642          [[установочные, данные], [новый, бизнес]]   \n\n                                                   nmod comp  \\\n0     [[бандере, бахмута, районе], [районе, бахмута]...   []   \n1     [[метафизику, войны], [укропы, запада, покрово...   []   \n2            [[остатки, авиации], [остатки, укрорейха]]   []   \n3                                                    []   []   \n4                          [[рассадником, укронацизма]]   []   \n...                                                 ...  ...   \n3638             [[стоимость, подачки], [подачки, млн]]   []   \n3639  [[каналы, ссылаясь], [дамбу, гэс], [шумок, тре...   []   \n3640                                                 []   []   \n3641                        [[трупами, мобилизованных]]   []   \n3642                  [[спасибо, установочные, данные]]   []   \n\n                                       verb_obl_obj_str  \\\n0              отправляет к бандере, отправляет бригады   \n1     тут понимаешь всё, тут понимаешь про метафизик...   \n2                               переброшена на аэродром   \n3                                  раньше строили замки   \n4                    имеют для укронациков, имеют смысл   \n...                                                 ...   \n3638                                                      \n3639  ссылаясь на разведку, сообщают о том, подорват...   \n3640                             обсуждают недоукраинца   \n3641  буквально начинает хохлов заваливать, завалива...   \n3642                                                      \n\n                     appos_str  \\\n0     батальон джохара дудаева   \n1                                \n2                 аэродром рог   \n3                                \n4                                \n...                        ...   \n3638                             \n3639                             \n3640                             \n3641                             \n3642                             \n\n                                               amod_str  \\\n0     прочим шайтанам, следующие бригады, шайтанский...   \n1                                                         \n2                военной авиации, долгинцево(кривой рог   \n3                                        песчаные замки   \n4     настоящим рассадником, сакральный смысл, идеол...   \n...                                                 ...   \n3638                           очередной подачки, - млн   \n3639  хохлячие каналы, каховской гэс, масштабной тре...   \n3640                                                      \n3641                  коллективный зусько, ровном месте   \n3642                  установочные данные, новый бизнес   \n\n                                               nmod_str  \n0     бандере бахмута районе, районе бахмута, бригад...  \n1     метафизику войны, укропы запада покровом, покр...  \n2                    остатки авиации, остатки укрорейха  \n3                                                        \n4                               рассадником укронацизма  \n...                                                 ...  \n3638                     стоимость подачки, подачки млн  \n3639          каналы ссылаясь, дамбу гэс, шумок тревоги  \n3640                                                     \n3641                             трупами мобилизованных  \n3642                        спасибо установочные данные  \n\n[3643 rows x 12 columns]",
      "text/html": "<div>\n<style scoped>\n    .dataframe tbody tr th:only-of-type {\n        vertical-align: middle;\n    }\n\n    .dataframe tbody tr th {\n        vertical-align: top;\n    }\n\n    .dataframe thead th {\n        text-align: right;\n    }\n</style>\n<table border=\"1\" class=\"dataframe\">\n  <thead>\n    <tr style=\"text-align: right;\">\n      <th></th>\n      <th>text</th>\n      <th>core_noun_verb</th>\n      <th>verb_obl_obj</th>\n      <th>core_noun_verb_str</th>\n      <th>appos</th>\n      <th>amod</th>\n      <th>nmod</th>\n      <th>comp</th>\n      <th>verb_obl_obj_str</th>\n      <th>appos_str</th>\n      <th>amod_str</th>\n      <th>nmod_str</th>\n    </tr>\n  </thead>\n  <tbody>\n    <tr>\n      <th>0</th>\n      <td>Вагнер отправляет к бандере и прочим шайтанам ...</td>\n      <td>[[вагнер, отправляет]]</td>\n      <td>[[отправляет, к, бандере], [отправляет, бригады]]</td>\n      <td>вагнер отправляет</td>\n      <td>[[батальон, джохара, дудаева]]</td>\n      <td>[[прочим, шайтанам], [следующие, бригады], [ша...</td>\n      <td>[[бандере, бахмута, районе], [районе, бахмута]...</td>\n      <td>[]</td>\n      <td>отправляет к бандере, отправляет бригады</td>\n      <td>батальон джохара дудаева</td>\n      <td>прочим шайтанам, следующие бригады, шайтанский...</td>\n      <td>бандере бахмута районе, районе бахмута, бригад...</td>\n    </tr>\n    <tr>\n      <th>1</th>\n      <td>Тут понимаешь всё про метафизику этой войны. «...</td>\n      <td>[[укропы, вышли], [они, вышли]]</td>\n      <td>[[тут, понимаешь, всё], [тут, понимаешь, про, ...</td>\n      <td>укропы вышли, они вышли</td>\n      <td>[]</td>\n      <td>[]</td>\n      <td>[[метафизику, войны], [укропы, запада, покрово...</td>\n      <td>[]</td>\n      <td>тут понимаешь всё, тут понимаешь про метафизик...</td>\n      <td></td>\n      <td></td>\n      <td>метафизику войны, укропы запада покровом, покр...</td>\n    </tr>\n    <tr>\n      <th>2</th>\n      <td>Наш источник сообщает, что остатки военной ави...</td>\n      <td>[[источник, сообщает, переброшена]]</td>\n      <td>[[переброшена, на, аэродром]]</td>\n      <td>источник сообщает переброшена</td>\n      <td>[[аэродром, рог]]</td>\n      <td>[[военной, авиации], [долгинцево(кривой, рог]]</td>\n      <td>[[остатки, авиации], [остатки, укрорейха]]</td>\n      <td>[]</td>\n      <td>переброшена на аэродром</td>\n      <td>аэродром рог</td>\n      <td>военной авиации, долгинцево(кривой рог</td>\n      <td>остатки авиации, остатки укрорейха</td>\n    </tr>\n    <tr>\n      <th>3</th>\n      <td>Раньше укронацисты строили песчаные замки — но...</td>\n      <td>[[укронацисты, раньше, строили], [укронацисты,...</td>\n      <td>[[раньше, строили, замки]]</td>\n      <td>укронацисты раньше строили, укронацисты теперь...</td>\n      <td>[]</td>\n      <td>[[песчаные, замки]]</td>\n      <td>[]</td>\n      <td>[]</td>\n      <td>раньше строили замки</td>\n      <td></td>\n      <td>песчаные замки</td>\n      <td></td>\n    </tr>\n    <tr>\n      <th>4</th>\n      <td>Именно эти регионы являются настоящим рассадни...</td>\n      <td>[[регионы, являются, рассадником], [регионы, и...</td>\n      <td>[[имеют, для, укронациков], [имеют, смысл]]</td>\n      <td>регионы являются рассадником, регионы имеют</td>\n      <td>[]</td>\n      <td>[[настоящим, рассадником], [сакральный, смысл]...</td>\n      <td>[[рассадником, укронацизма]]</td>\n      <td>[]</td>\n      <td>имеют для укронациков, имеют смысл</td>\n      <td></td>\n      <td>настоящим рассадником, сакральный смысл, идеол...</td>\n      <td>рассадником укронацизма</td>\n    </tr>\n    <tr>\n      <th>...</th>\n      <td>...</td>\n      <td>...</td>\n      <td>...</td>\n      <td>...</td>\n      <td>...</td>\n      <td>...</td>\n      <td>...</td>\n      <td>...</td>\n      <td>...</td>\n      <td>...</td>\n      <td>...</td>\n      <td>...</td>\n    </tr>\n    <tr>\n      <th>3638</th>\n      <td>Стоимость очередной подачки хохлам - $675 млн.</td>\n      <td>[]</td>\n      <td>[]</td>\n      <td></td>\n      <td>[]</td>\n      <td>[[очередной, подачки], [-, млн]]</td>\n      <td>[[стоимость, подачки], [подачки, млн]]</td>\n      <td>[]</td>\n      <td></td>\n      <td></td>\n      <td>очередной подачки, - млн</td>\n      <td>стоимость подачки, подачки млн</td>\n    </tr>\n    <tr>\n      <th>3639</th>\n      <td>Хохлячие каналы ссылаясь на некую разведку соо...</td>\n      <td>[[каналы, сообщают], [вс, готовы, подорвать], ...</td>\n      <td>[[ссылаясь, на, разведку], [сообщают, о, том],...</td>\n      <td>каналы сообщают, вс готовы подорвать, зеленски...</td>\n      <td>[]</td>\n      <td>[[хохлячие, каналы], [каховской, гэс], [масшта...</td>\n      <td>[[каналы, ссылаясь], [дамбу, гэс], [шумок, тре...</td>\n      <td>[]</td>\n      <td>ссылаясь на разведку, сообщают о том, подорват...</td>\n      <td></td>\n      <td>хохлячие каналы, каховской гэс, масштабной тре...</td>\n      <td>каналы ссылаясь, дамбу гэс, шумок тревоги</td>\n    </tr>\n    <tr>\n      <th>3640</th>\n      <td>Обсуждают недоукраинца Невзорова, Анну Нетребк...</td>\n      <td>[]</td>\n      <td>[[обсуждают, недоукраинца]]</td>\n      <td></td>\n      <td>[]</td>\n      <td>[]</td>\n      <td>[]</td>\n      <td>[]</td>\n      <td>обсуждают недоукраинца</td>\n      <td></td>\n      <td></td>\n      <td></td>\n    </tr>\n    <tr>\n      <th>3641</th>\n      <td>И вот приходит коллективный Зусько и буквально...</td>\n      <td>[[зусько, вот, приходит], [зусько, буквально, ...</td>\n      <td>[[буквально, начинает, хохлов, заваливать], [з...</td>\n      <td>зусько вот приходит, зусько буквально начинает...</td>\n      <td>[]</td>\n      <td>[[коллективный, зусько], [ровном, месте]]</td>\n      <td>[[трупами, мобилизованных]]</td>\n      <td>[]</td>\n      <td>буквально начинает хохлов заваливать, завалива...</td>\n      <td></td>\n      <td>коллективный зусько, ровном месте</td>\n      <td>трупами мобилизованных</td>\n    </tr>\n    <tr>\n      <th>3642</th>\n      <td>Ну, во-первых спасибо за установочные данные, ...</td>\n      <td>[[хлопцы, бизнес], [это, бизнес]]</td>\n      <td>[]</td>\n      <td>хлопцы бизнес, это бизнес</td>\n      <td>[]</td>\n      <td>[[установочные, данные], [новый, бизнес]]</td>\n      <td>[[спасибо, установочные, данные]]</td>\n      <td>[]</td>\n      <td></td>\n      <td></td>\n      <td>установочные данные, новый бизнес</td>\n      <td>спасибо установочные данные</td>\n    </tr>\n  </tbody>\n</table>\n<p>3643 rows × 12 columns</p>\n</div>"
     },
     "execution_count": 177,
     "metadata": {},
     "output_type": "execute_result"
    }
   ],
   "source": [
    "df"
   ],
   "metadata": {
    "collapsed": false,
    "pycharm": {
     "name": "#%%\n"
    }
   }
  },
  {
   "cell_type": "code",
   "execution_count": 178,
   "outputs": [],
   "source": [
    "df.to_csv('/Users/katerynaburovova/PycharmProjects/dehumanization/annotation/dataset_v_collocations.csv')"
   ],
   "metadata": {
    "collapsed": false,
    "pycharm": {
     "name": "#%%\n"
    }
   }
  },
  {
   "cell_type": "code",
   "execution_count": null,
   "outputs": [],
   "source": [],
   "metadata": {
    "collapsed": false,
    "pycharm": {
     "name": "#%%\n"
    }
   }
  }
 ],
 "metadata": {
  "kernelspec": {
   "display_name": "Python 3",
   "language": "python",
   "name": "python3"
  },
  "language_info": {
   "codemirror_mode": {
    "name": "ipython",
    "version": 2
   },
   "file_extension": ".py",
   "mimetype": "text/x-python",
   "name": "python",
   "nbconvert_exporter": "python",
   "pygments_lexer": "ipython2",
   "version": "2.7.6"
  }
 },
 "nbformat": 4,
 "nbformat_minor": 0
}