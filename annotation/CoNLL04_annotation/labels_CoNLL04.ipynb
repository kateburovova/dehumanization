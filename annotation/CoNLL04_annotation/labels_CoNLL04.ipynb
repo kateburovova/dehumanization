{
 "cells": [
  {
   "cell_type": "markdown",
   "source": [
    "##  Data import and preprocessing"
   ],
   "metadata": {
    "collapsed": false,
    "pycharm": {
     "name": "#%% md\n"
    }
   }
  },
  {
   "cell_type": "code",
   "execution_count": 1,
   "outputs": [],
   "source": [
    "import os\n",
    "import pandas as pd\n",
    "\n",
    "directory_path = \"/Users/katerynaburovova/PycharmProjects/dehumanization/annotation/annotation_by_types/rows_by_types\"\n",
    "file_list = []\n",
    "for filename in os.listdir(directory_path):\n",
    "    if filename.endswith(\".txt\"):\n",
    "        with open(os.path.join(directory_path, filename), \"r\") as file:\n",
    "            file_content = file.read()\n",
    "        file_list.append({\"text\": file_content, \"file_name\": filename})\n",
    "\n",
    "df_datarows = pd.DataFrame(file_list)"
   ],
   "metadata": {
    "collapsed": false,
    "pycharm": {
     "name": "#%%\n"
    }
   }
  },
  {
   "cell_type": "code",
   "execution_count": 2,
   "outputs": [
    {
     "data": {
      "text/plain": "                                                   text   External ID\n0     🇺🇦💥Шесть ракет из «Хаймарсов» укронацисты выпу...  row_1281.txt\n1     🇺🇦Украинское общество «устало от войны и игнор...   row_479.txt\n2     ❗️Вследствие украинской вооруженной агрессии а...  row_1295.txt\n3     А второе – беспощадно, системно, четко, не щад...   row_337.txt\n4     Укронацики могут только стариков, женщин и дет...   row_451.txt\n...                                                 ...           ...\n1562  Где стоят, куда передвигаются и откуда стреляе...   row_306.txt\n1563  Я уверен, что в скором времени Силы Русской ко...   row_460.txt\n1564  ‼️В Белгороде задержаны очередные сторонники у...   row_474.txt\n1565  Да уж, подвести научную базу под вандализм - д...  row_1298.txt\n1566  А их наследники – сыновья и внуки -  сегодня у...   row_312.txt\n\n[1567 rows x 2 columns]",
      "text/html": "<div>\n<style scoped>\n    .dataframe tbody tr th:only-of-type {\n        vertical-align: middle;\n    }\n\n    .dataframe tbody tr th {\n        vertical-align: top;\n    }\n\n    .dataframe thead th {\n        text-align: right;\n    }\n</style>\n<table border=\"1\" class=\"dataframe\">\n  <thead>\n    <tr style=\"text-align: right;\">\n      <th></th>\n      <th>text</th>\n      <th>External ID</th>\n    </tr>\n  </thead>\n  <tbody>\n    <tr>\n      <th>0</th>\n      <td>🇺🇦💥Шесть ракет из «Хаймарсов» укронацисты выпу...</td>\n      <td>row_1281.txt</td>\n    </tr>\n    <tr>\n      <th>1</th>\n      <td>🇺🇦Украинское общество «устало от войны и игнор...</td>\n      <td>row_479.txt</td>\n    </tr>\n    <tr>\n      <th>2</th>\n      <td>❗️Вследствие украинской вооруженной агрессии а...</td>\n      <td>row_1295.txt</td>\n    </tr>\n    <tr>\n      <th>3</th>\n      <td>А второе – беспощадно, системно, четко, не щад...</td>\n      <td>row_337.txt</td>\n    </tr>\n    <tr>\n      <th>4</th>\n      <td>Укронацики могут только стариков, женщин и дет...</td>\n      <td>row_451.txt</td>\n    </tr>\n    <tr>\n      <th>...</th>\n      <td>...</td>\n      <td>...</td>\n    </tr>\n    <tr>\n      <th>1562</th>\n      <td>Где стоят, куда передвигаются и откуда стреляе...</td>\n      <td>row_306.txt</td>\n    </tr>\n    <tr>\n      <th>1563</th>\n      <td>Я уверен, что в скором времени Силы Русской ко...</td>\n      <td>row_460.txt</td>\n    </tr>\n    <tr>\n      <th>1564</th>\n      <td>‼️В Белгороде задержаны очередные сторонники у...</td>\n      <td>row_474.txt</td>\n    </tr>\n    <tr>\n      <th>1565</th>\n      <td>Да уж, подвести научную базу под вандализм - д...</td>\n      <td>row_1298.txt</td>\n    </tr>\n    <tr>\n      <th>1566</th>\n      <td>А их наследники – сыновья и внуки -  сегодня у...</td>\n      <td>row_312.txt</td>\n    </tr>\n  </tbody>\n</table>\n<p>1567 rows × 2 columns</p>\n</div>"
     },
     "execution_count": 2,
     "metadata": {},
     "output_type": "execute_result"
    }
   ],
   "source": [
    "df_datarows.rename(columns={'file_name':'External ID'}, inplace=True)\n",
    "df_datarows"
   ],
   "metadata": {
    "collapsed": false,
    "pycharm": {
     "name": "#%%\n"
    }
   }
  },
  {
   "cell_type": "code",
   "execution_count": 3,
   "outputs": [],
   "source": [
    "# df_labels_CoNLL04 = pd.read_json('/Users/katerynaburovova/PycharmProjects/dehumanization/annotation/CoNLL04_annotation/export_test_CoNLL04.json')\n",
    "df_labels_CoNLL04 = pd.read_json('/Users/katerynaburovova/PycharmProjects/dehumanization/annotation/CoNLL04_annotation/SpERT_dataset/export_400samples.json')"
   ],
   "metadata": {
    "collapsed": false,
    "pycharm": {
     "name": "#%%\n"
    }
   }
  },
  {
   "cell_type": "code",
   "execution_count": 4,
   "outputs": [],
   "source": [
    "all_feature_objects = ['HIGH_UH_LOW_NH', 'LOW_UH_LOW_NH', 'LOW_UH_HIGH_NH', 'HIGH_UH_HIGH_NH', 'Ukrainian']"
   ],
   "metadata": {
    "collapsed": false,
    "pycharm": {
     "name": "#%%\n"
    }
   }
  },
  {
   "cell_type": "code",
   "execution_count": 5,
   "outputs": [],
   "source": [
    "for feature_object in all_feature_objects:\n",
    "    df_labels_CoNLL04[feature_object] = None\n",
    "    df_labels_CoNLL04[feature_object] = df_labels_CoNLL04[feature_object].astype(object)"
   ],
   "metadata": {
    "collapsed": false,
    "pycharm": {
     "name": "#%%\n"
    }
   }
  },
  {
   "cell_type": "code",
   "execution_count": 6,
   "outputs": [],
   "source": [
    "def process_row(row):\n",
    "    objects = row['Label']['objects']\n",
    "    for obj in objects:\n",
    "        title = obj['title']\n",
    "        if title in all_feature_objects:\n",
    "            data = obj['data']\n",
    "            if row[title] is None:\n",
    "                row[title] = [data]\n",
    "            else:\n",
    "                row[title].append(data)\n",
    "    return row"
   ],
   "metadata": {
    "collapsed": false,
    "pycharm": {
     "name": "#%%\n"
    }
   }
  },
  {
   "cell_type": "code",
   "execution_count": 7,
   "outputs": [],
   "source": [
    "df_labels_CoNLL04 = df_labels_CoNLL04.apply(process_row, axis=1)"
   ],
   "metadata": {
    "collapsed": false,
    "pycharm": {
     "name": "#%%\n"
    }
   }
  },
  {
   "cell_type": "code",
   "execution_count": 8,
   "outputs": [
    {
     "data": {
      "text/plain": "                            ID                 DataRow ID  \\\n0    clgqhfqn1010v070vcuro9rri  clgqh8xww4hq007904dz43b2e   \n1    clgqhi4t5099q072t1xev0cet  clgqh8xww4hq407903lrc1c41   \n2    clgqhkeff0g4m07zg87mue234  clgqh8xww4hq8079076quhoxb   \n3    clgqhl5kw00dc07274ihj7fos  clgqh8xww4hqc079056l1hqhv   \n4    clgqhobw60i8x0700gzrs0lpt  clgqh8xww4hqg07902lws8quw   \n..                         ...                        ...   \n473  clh7ijhvb02iv07ub7dqw4kau  clgqh8xxk4iqo07907z5m4mem   \n474  clh7ik4vl03yb07ww2zf4dejp  clgqh8xxk4iqs079068gj65xs   \n475  clh7iknbf03yx07wwdb3q4s69  clgqh8xxl00pt076odhgfhqpr   \n476  clh7il6kn0dwu07z5ftkrglrk  clgqh8xxl00px076o65zkgt5x   \n477  clh7iljvu0a8o07yp0o1e9drs  clgqh8xxl00q1076o0y4s5bke   \n\n                                          Labeled Data  \\\n0    https://storage.labelbox.com/cldvi451e3lej07ww...   \n1    https://storage.labelbox.com/cldvi451e3lej07ww...   \n2    https://storage.labelbox.com/cldvi451e3lej07ww...   \n3    https://storage.labelbox.com/cldvi451e3lej07ww...   \n4    https://storage.labelbox.com/cldvi451e3lej07ww...   \n..                                                 ...   \n473  https://storage.labelbox.com/cldvi451e3lej07ww...   \n474  https://storage.labelbox.com/cldvi451e3lej07ww...   \n475  https://storage.labelbox.com/cldvi451e3lej07ww...   \n476  https://storage.labelbox.com/cldvi451e3lej07ww...   \n477  https://storage.labelbox.com/cldvi451e3lej07ww...   \n\n                                                 Label  \\\n0    {'objects': [{'featureId': 'clgqhia07003t3b6lg...   \n1    {'objects': [{'featureId': 'clgqhkj2a005s3b6la...   \n2    {'objects': [{'featureId': 'clgql8vs900ak3b6j2...   \n3    {'objects': [{'featureId': 'clgqhofag00o63b6lk...   \n4    {'objects': [{'featureId': 'clgqhpkvp00rd3b6lb...   \n..                                                 ...   \n473  {'objects': [{'featureId': 'clh7ikjsu02x53b6ly...   \n474  {'objects': [{'featureId': 'clh7il5nc037e3b6lo...   \n475  {'objects': [{'featureId': 'clh7ilf1q03853b6l0...   \n476  {'objects': [{'featureId': 'clh7illn903j93b6lw...   \n477  {'objects': [{'featureId': 'clh7imcsc03w63b6lr...   \n\n                       Created By            Project Name  \\\n0    kateryna.burovova@ucu.edu.ua  Dehumanization CoNLL04   \n1    kateryna.burovova@ucu.edu.ua  Dehumanization CoNLL04   \n2    kateryna.burovova@ucu.edu.ua  Dehumanization CoNLL04   \n3    kateryna.burovova@ucu.edu.ua  Dehumanization CoNLL04   \n4    kateryna.burovova@ucu.edu.ua  Dehumanization CoNLL04   \n..                            ...                     ...   \n473  kateryna.burovova@ucu.edu.ua  Dehumanization CoNLL04   \n474  kateryna.burovova@ucu.edu.ua  Dehumanization CoNLL04   \n475  kateryna.burovova@ucu.edu.ua  Dehumanization CoNLL04   \n476  kateryna.burovova@ucu.edu.ua  Dehumanization CoNLL04   \n477  kateryna.burovova@ucu.edu.ua  Dehumanization CoNLL04   \n\n                   Created At                Updated At  Seconds to Label  \\\n0    2023-04-21T11:46:28.000Z  2023-04-21T11:46:28.000Z           134.946   \n1    2023-04-21T11:47:05.000Z  2023-04-21T13:28:40.000Z            75.685   \n2    2023-04-21T11:49:34.000Z  2023-04-21T13:29:42.000Z           189.535   \n3    2023-04-21T11:50:28.000Z  2023-04-21T13:30:40.000Z           144.299   \n4    2023-04-21T11:50:46.000Z  2023-04-21T17:31:13.000Z           182.920   \n..                        ...                       ...               ...   \n473  2023-05-03T09:46:45.000Z  2023-05-03T09:46:45.000Z            23.571   \n474  2023-05-03T09:47:11.000Z  2023-05-03T09:47:11.000Z            24.676   \n475  2023-05-03T09:47:25.000Z  2023-05-03T09:47:26.000Z            14.770   \n476  2023-05-03T09:47:57.000Z  2023-05-03T09:47:57.000Z            31.089   \n477  2023-05-03T09:48:30.000Z  2023-05-03T09:48:30.000Z            21.501   \n\n     Seconds to Review  ...  Reviews  \\\n0               27.005  ...       []   \n1               39.954  ...       []   \n2               41.696  ...       []   \n3               56.493  ...       []   \n4              146.624  ...       []   \n..                 ...  ...      ...   \n473              0.000  ...       []   \n474              0.000  ...       []   \n475              0.000  ...       []   \n476              0.000  ...       []   \n477              0.000  ...       []   \n\n                                            View Label  Has Open Issues  \\\n0    https://editor.labelbox.com?project=clgqhddt80...                0   \n1    https://editor.labelbox.com?project=clgqhddt80...                0   \n2    https://editor.labelbox.com?project=clgqhddt80...                0   \n3    https://editor.labelbox.com?project=clgqhddt80...                0   \n4    https://editor.labelbox.com?project=clgqhddt80...                0   \n..                                                 ...              ...   \n473  https://editor.labelbox.com?project=clgqhddt80...                0   \n474  https://editor.labelbox.com?project=clgqhddt80...                0   \n475  https://editor.labelbox.com?project=clgqhddt80...                0   \n476  https://editor.labelbox.com?project=clgqhddt80...                0   \n477  https://editor.labelbox.com?project=clgqhddt80...                0   \n\n     Skipped                              DataRow Workflow Info  \\\n0      False  {'taskName': 'Done', 'Workflow History': [{'ac...   \n1      False  {'taskName': 'Done', 'Workflow History': [{'ac...   \n2      False  {'taskName': 'Done', 'Workflow History': [{'ac...   \n3      False                           {'Workflow History': []}   \n4      False  {'taskName': 'Done', 'Workflow History': [{'ac...   \n..       ...                                                ...   \n473    False  {'taskName': 'Initial review task', 'Workflow ...   \n474    False  {'taskName': 'Initial review task', 'Workflow ...   \n475    False  {'taskName': 'Initial review task', 'Workflow ...   \n476    False  {'taskName': 'Initial review task', 'Workflow ...   \n477    False  {'taskName': 'Initial review task', 'Workflow ...   \n\n                                        HIGH_UH_LOW_NH  LOW_UH_LOW_NH  \\\n0             [{'location': {'start': 76, 'end': 87}}]           None   \n1                                                 None           None   \n2                                                 None           None   \n3                                                 None           None   \n4             [{'location': {'start': 80, 'end': 88}}]           None   \n..                                                 ...            ...   \n473          [{'location': {'start': 75, 'end': 115}}]           None   \n474                                               None           None   \n475           [{'location': {'start': 11, 'end': 19}}]           None   \n476                                               None           None   \n477  [{'location': {'start': 346, 'end': 356}}, {'l...           None   \n\n                                        LOW_UH_HIGH_NH HIGH_UH_HIGH_NH  \\\n0                                                 None            None   \n1             [{'location': {'start': 26, 'end': 38}}]            None   \n2                                                 None            None   \n3    [{'location': {'start': 34, 'end': 45}}, {'loc...            None   \n4                                                 None            None   \n..                                                 ...             ...   \n473                                               None            None   \n474                                               None            None   \n475                                               None            None   \n476         [{'location': {'start': 280, 'end': 290}}]            None   \n477                                               None            None   \n\n                                             Ukrainian  \n0             [{'location': {'start': 76, 'end': 87}}]  \n1             [{'location': {'start': 15, 'end': 38}}]  \n2             [{'location': {'start': 16, 'end': 25}}]  \n3    [{'location': {'start': 34, 'end': 45}}, {'loc...  \n4             [{'location': {'start': 80, 'end': 88}}]  \n..                                                 ...  \n473                                               None  \n474         [{'location': {'start': 271, 'end': 300}}]  \n475           [{'location': {'start': 11, 'end': 19}}]  \n476  [{'location': {'start': 112, 'end': 127}}, {'l...  \n477  [{'location': {'start': 134, 'end': 144}}, {'l...  \n\n[478 rows x 28 columns]",
      "text/html": "<div>\n<style scoped>\n    .dataframe tbody tr th:only-of-type {\n        vertical-align: middle;\n    }\n\n    .dataframe tbody tr th {\n        vertical-align: top;\n    }\n\n    .dataframe thead th {\n        text-align: right;\n    }\n</style>\n<table border=\"1\" class=\"dataframe\">\n  <thead>\n    <tr style=\"text-align: right;\">\n      <th></th>\n      <th>ID</th>\n      <th>DataRow ID</th>\n      <th>Labeled Data</th>\n      <th>Label</th>\n      <th>Created By</th>\n      <th>Project Name</th>\n      <th>Created At</th>\n      <th>Updated At</th>\n      <th>Seconds to Label</th>\n      <th>Seconds to Review</th>\n      <th>...</th>\n      <th>Reviews</th>\n      <th>View Label</th>\n      <th>Has Open Issues</th>\n      <th>Skipped</th>\n      <th>DataRow Workflow Info</th>\n      <th>HIGH_UH_LOW_NH</th>\n      <th>LOW_UH_LOW_NH</th>\n      <th>LOW_UH_HIGH_NH</th>\n      <th>HIGH_UH_HIGH_NH</th>\n      <th>Ukrainian</th>\n    </tr>\n  </thead>\n  <tbody>\n    <tr>\n      <th>0</th>\n      <td>clgqhfqn1010v070vcuro9rri</td>\n      <td>clgqh8xww4hq007904dz43b2e</td>\n      <td>https://storage.labelbox.com/cldvi451e3lej07ww...</td>\n      <td>{'objects': [{'featureId': 'clgqhia07003t3b6lg...</td>\n      <td>kateryna.burovova@ucu.edu.ua</td>\n      <td>Dehumanization CoNLL04</td>\n      <td>2023-04-21T11:46:28.000Z</td>\n      <td>2023-04-21T11:46:28.000Z</td>\n      <td>134.946</td>\n      <td>27.005</td>\n      <td>...</td>\n      <td>[]</td>\n      <td>https://editor.labelbox.com?project=clgqhddt80...</td>\n      <td>0</td>\n      <td>False</td>\n      <td>{'taskName': 'Done', 'Workflow History': [{'ac...</td>\n      <td>[{'location': {'start': 76, 'end': 87}}]</td>\n      <td>None</td>\n      <td>None</td>\n      <td>None</td>\n      <td>[{'location': {'start': 76, 'end': 87}}]</td>\n    </tr>\n    <tr>\n      <th>1</th>\n      <td>clgqhi4t5099q072t1xev0cet</td>\n      <td>clgqh8xww4hq407903lrc1c41</td>\n      <td>https://storage.labelbox.com/cldvi451e3lej07ww...</td>\n      <td>{'objects': [{'featureId': 'clgqhkj2a005s3b6la...</td>\n      <td>kateryna.burovova@ucu.edu.ua</td>\n      <td>Dehumanization CoNLL04</td>\n      <td>2023-04-21T11:47:05.000Z</td>\n      <td>2023-04-21T13:28:40.000Z</td>\n      <td>75.685</td>\n      <td>39.954</td>\n      <td>...</td>\n      <td>[]</td>\n      <td>https://editor.labelbox.com?project=clgqhddt80...</td>\n      <td>0</td>\n      <td>False</td>\n      <td>{'taskName': 'Done', 'Workflow History': [{'ac...</td>\n      <td>None</td>\n      <td>None</td>\n      <td>[{'location': {'start': 26, 'end': 38}}]</td>\n      <td>None</td>\n      <td>[{'location': {'start': 15, 'end': 38}}]</td>\n    </tr>\n    <tr>\n      <th>2</th>\n      <td>clgqhkeff0g4m07zg87mue234</td>\n      <td>clgqh8xww4hq8079076quhoxb</td>\n      <td>https://storage.labelbox.com/cldvi451e3lej07ww...</td>\n      <td>{'objects': [{'featureId': 'clgql8vs900ak3b6j2...</td>\n      <td>kateryna.burovova@ucu.edu.ua</td>\n      <td>Dehumanization CoNLL04</td>\n      <td>2023-04-21T11:49:34.000Z</td>\n      <td>2023-04-21T13:29:42.000Z</td>\n      <td>189.535</td>\n      <td>41.696</td>\n      <td>...</td>\n      <td>[]</td>\n      <td>https://editor.labelbox.com?project=clgqhddt80...</td>\n      <td>0</td>\n      <td>False</td>\n      <td>{'taskName': 'Done', 'Workflow History': [{'ac...</td>\n      <td>None</td>\n      <td>None</td>\n      <td>None</td>\n      <td>None</td>\n      <td>[{'location': {'start': 16, 'end': 25}}]</td>\n    </tr>\n    <tr>\n      <th>3</th>\n      <td>clgqhl5kw00dc07274ihj7fos</td>\n      <td>clgqh8xww4hqc079056l1hqhv</td>\n      <td>https://storage.labelbox.com/cldvi451e3lej07ww...</td>\n      <td>{'objects': [{'featureId': 'clgqhofag00o63b6lk...</td>\n      <td>kateryna.burovova@ucu.edu.ua</td>\n      <td>Dehumanization CoNLL04</td>\n      <td>2023-04-21T11:50:28.000Z</td>\n      <td>2023-04-21T13:30:40.000Z</td>\n      <td>144.299</td>\n      <td>56.493</td>\n      <td>...</td>\n      <td>[]</td>\n      <td>https://editor.labelbox.com?project=clgqhddt80...</td>\n      <td>0</td>\n      <td>False</td>\n      <td>{'Workflow History': []}</td>\n      <td>None</td>\n      <td>None</td>\n      <td>[{'location': {'start': 34, 'end': 45}}, {'loc...</td>\n      <td>None</td>\n      <td>[{'location': {'start': 34, 'end': 45}}, {'loc...</td>\n    </tr>\n    <tr>\n      <th>4</th>\n      <td>clgqhobw60i8x0700gzrs0lpt</td>\n      <td>clgqh8xww4hqg07902lws8quw</td>\n      <td>https://storage.labelbox.com/cldvi451e3lej07ww...</td>\n      <td>{'objects': [{'featureId': 'clgqhpkvp00rd3b6lb...</td>\n      <td>kateryna.burovova@ucu.edu.ua</td>\n      <td>Dehumanization CoNLL04</td>\n      <td>2023-04-21T11:50:46.000Z</td>\n      <td>2023-04-21T17:31:13.000Z</td>\n      <td>182.920</td>\n      <td>146.624</td>\n      <td>...</td>\n      <td>[]</td>\n      <td>https://editor.labelbox.com?project=clgqhddt80...</td>\n      <td>0</td>\n      <td>False</td>\n      <td>{'taskName': 'Done', 'Workflow History': [{'ac...</td>\n      <td>[{'location': {'start': 80, 'end': 88}}]</td>\n      <td>None</td>\n      <td>None</td>\n      <td>None</td>\n      <td>[{'location': {'start': 80, 'end': 88}}]</td>\n    </tr>\n    <tr>\n      <th>...</th>\n      <td>...</td>\n      <td>...</td>\n      <td>...</td>\n      <td>...</td>\n      <td>...</td>\n      <td>...</td>\n      <td>...</td>\n      <td>...</td>\n      <td>...</td>\n      <td>...</td>\n      <td>...</td>\n      <td>...</td>\n      <td>...</td>\n      <td>...</td>\n      <td>...</td>\n      <td>...</td>\n      <td>...</td>\n      <td>...</td>\n      <td>...</td>\n      <td>...</td>\n      <td>...</td>\n    </tr>\n    <tr>\n      <th>473</th>\n      <td>clh7ijhvb02iv07ub7dqw4kau</td>\n      <td>clgqh8xxk4iqo07907z5m4mem</td>\n      <td>https://storage.labelbox.com/cldvi451e3lej07ww...</td>\n      <td>{'objects': [{'featureId': 'clh7ikjsu02x53b6ly...</td>\n      <td>kateryna.burovova@ucu.edu.ua</td>\n      <td>Dehumanization CoNLL04</td>\n      <td>2023-05-03T09:46:45.000Z</td>\n      <td>2023-05-03T09:46:45.000Z</td>\n      <td>23.571</td>\n      <td>0.000</td>\n      <td>...</td>\n      <td>[]</td>\n      <td>https://editor.labelbox.com?project=clgqhddt80...</td>\n      <td>0</td>\n      <td>False</td>\n      <td>{'taskName': 'Initial review task', 'Workflow ...</td>\n      <td>[{'location': {'start': 75, 'end': 115}}]</td>\n      <td>None</td>\n      <td>None</td>\n      <td>None</td>\n      <td>None</td>\n    </tr>\n    <tr>\n      <th>474</th>\n      <td>clh7ik4vl03yb07ww2zf4dejp</td>\n      <td>clgqh8xxk4iqs079068gj65xs</td>\n      <td>https://storage.labelbox.com/cldvi451e3lej07ww...</td>\n      <td>{'objects': [{'featureId': 'clh7il5nc037e3b6lo...</td>\n      <td>kateryna.burovova@ucu.edu.ua</td>\n      <td>Dehumanization CoNLL04</td>\n      <td>2023-05-03T09:47:11.000Z</td>\n      <td>2023-05-03T09:47:11.000Z</td>\n      <td>24.676</td>\n      <td>0.000</td>\n      <td>...</td>\n      <td>[]</td>\n      <td>https://editor.labelbox.com?project=clgqhddt80...</td>\n      <td>0</td>\n      <td>False</td>\n      <td>{'taskName': 'Initial review task', 'Workflow ...</td>\n      <td>None</td>\n      <td>None</td>\n      <td>None</td>\n      <td>None</td>\n      <td>[{'location': {'start': 271, 'end': 300}}]</td>\n    </tr>\n    <tr>\n      <th>475</th>\n      <td>clh7iknbf03yx07wwdb3q4s69</td>\n      <td>clgqh8xxl00pt076odhgfhqpr</td>\n      <td>https://storage.labelbox.com/cldvi451e3lej07ww...</td>\n      <td>{'objects': [{'featureId': 'clh7ilf1q03853b6l0...</td>\n      <td>kateryna.burovova@ucu.edu.ua</td>\n      <td>Dehumanization CoNLL04</td>\n      <td>2023-05-03T09:47:25.000Z</td>\n      <td>2023-05-03T09:47:26.000Z</td>\n      <td>14.770</td>\n      <td>0.000</td>\n      <td>...</td>\n      <td>[]</td>\n      <td>https://editor.labelbox.com?project=clgqhddt80...</td>\n      <td>0</td>\n      <td>False</td>\n      <td>{'taskName': 'Initial review task', 'Workflow ...</td>\n      <td>[{'location': {'start': 11, 'end': 19}}]</td>\n      <td>None</td>\n      <td>None</td>\n      <td>None</td>\n      <td>[{'location': {'start': 11, 'end': 19}}]</td>\n    </tr>\n    <tr>\n      <th>476</th>\n      <td>clh7il6kn0dwu07z5ftkrglrk</td>\n      <td>clgqh8xxl00px076o65zkgt5x</td>\n      <td>https://storage.labelbox.com/cldvi451e3lej07ww...</td>\n      <td>{'objects': [{'featureId': 'clh7illn903j93b6lw...</td>\n      <td>kateryna.burovova@ucu.edu.ua</td>\n      <td>Dehumanization CoNLL04</td>\n      <td>2023-05-03T09:47:57.000Z</td>\n      <td>2023-05-03T09:47:57.000Z</td>\n      <td>31.089</td>\n      <td>0.000</td>\n      <td>...</td>\n      <td>[]</td>\n      <td>https://editor.labelbox.com?project=clgqhddt80...</td>\n      <td>0</td>\n      <td>False</td>\n      <td>{'taskName': 'Initial review task', 'Workflow ...</td>\n      <td>None</td>\n      <td>None</td>\n      <td>[{'location': {'start': 280, 'end': 290}}]</td>\n      <td>None</td>\n      <td>[{'location': {'start': 112, 'end': 127}}, {'l...</td>\n    </tr>\n    <tr>\n      <th>477</th>\n      <td>clh7iljvu0a8o07yp0o1e9drs</td>\n      <td>clgqh8xxl00q1076o0y4s5bke</td>\n      <td>https://storage.labelbox.com/cldvi451e3lej07ww...</td>\n      <td>{'objects': [{'featureId': 'clh7imcsc03w63b6lr...</td>\n      <td>kateryna.burovova@ucu.edu.ua</td>\n      <td>Dehumanization CoNLL04</td>\n      <td>2023-05-03T09:48:30.000Z</td>\n      <td>2023-05-03T09:48:30.000Z</td>\n      <td>21.501</td>\n      <td>0.000</td>\n      <td>...</td>\n      <td>[]</td>\n      <td>https://editor.labelbox.com?project=clgqhddt80...</td>\n      <td>0</td>\n      <td>False</td>\n      <td>{'taskName': 'Initial review task', 'Workflow ...</td>\n      <td>[{'location': {'start': 346, 'end': 356}}, {'l...</td>\n      <td>None</td>\n      <td>None</td>\n      <td>None</td>\n      <td>[{'location': {'start': 134, 'end': 144}}, {'l...</td>\n    </tr>\n  </tbody>\n</table>\n<p>478 rows × 28 columns</p>\n</div>"
     },
     "execution_count": 8,
     "metadata": {},
     "output_type": "execute_result"
    }
   ],
   "source": [
    "df_labels_CoNLL04"
   ],
   "metadata": {
    "collapsed": false,
    "pycharm": {
     "name": "#%%\n"
    }
   }
  },
  {
   "cell_type": "code",
   "execution_count": 9,
   "outputs": [
    {
     "data": {
      "text/plain": "478"
     },
     "execution_count": 9,
     "metadata": {},
     "output_type": "execute_result"
    }
   ],
   "source": [
    "len(df_labels_CoNLL04)"
   ],
   "metadata": {
    "collapsed": false,
    "pycharm": {
     "name": "#%%\n"
    }
   }
  },
  {
   "cell_type": "code",
   "execution_count": 10,
   "outputs": [],
   "source": [
    "df_merged = pd.merge(df_labels_CoNLL04, df_datarows, on='External ID', how='left')"
   ],
   "metadata": {
    "collapsed": false,
    "pycharm": {
     "name": "#%%\n"
    }
   }
  },
  {
   "cell_type": "markdown",
   "source": [
    "## Getting spacy token indices"
   ],
   "metadata": {
    "collapsed": false,
    "pycharm": {
     "name": "#%% md\n"
    }
   }
  },
  {
   "cell_type": "code",
   "execution_count": 11,
   "outputs": [
    {
     "data": {
      "text/plain": "                            ID                 DataRow ID  \\\n0    clgqhfqn1010v070vcuro9rri  clgqh8xww4hq007904dz43b2e   \n1    clgqhi4t5099q072t1xev0cet  clgqh8xww4hq407903lrc1c41   \n2    clgqhkeff0g4m07zg87mue234  clgqh8xww4hq8079076quhoxb   \n3    clgqhl5kw00dc07274ihj7fos  clgqh8xww4hqc079056l1hqhv   \n4    clgqhobw60i8x0700gzrs0lpt  clgqh8xww4hqg07902lws8quw   \n..                         ...                        ...   \n473  clh7ijhvb02iv07ub7dqw4kau  clgqh8xxk4iqo07907z5m4mem   \n474  clh7ik4vl03yb07ww2zf4dejp  clgqh8xxk4iqs079068gj65xs   \n475  clh7iknbf03yx07wwdb3q4s69  clgqh8xxl00pt076odhgfhqpr   \n476  clh7il6kn0dwu07z5ftkrglrk  clgqh8xxl00px076o65zkgt5x   \n477  clh7iljvu0a8o07yp0o1e9drs  clgqh8xxl00q1076o0y4s5bke   \n\n                                          Labeled Data  \\\n0    https://storage.labelbox.com/cldvi451e3lej07ww...   \n1    https://storage.labelbox.com/cldvi451e3lej07ww...   \n2    https://storage.labelbox.com/cldvi451e3lej07ww...   \n3    https://storage.labelbox.com/cldvi451e3lej07ww...   \n4    https://storage.labelbox.com/cldvi451e3lej07ww...   \n..                                                 ...   \n473  https://storage.labelbox.com/cldvi451e3lej07ww...   \n474  https://storage.labelbox.com/cldvi451e3lej07ww...   \n475  https://storage.labelbox.com/cldvi451e3lej07ww...   \n476  https://storage.labelbox.com/cldvi451e3lej07ww...   \n477  https://storage.labelbox.com/cldvi451e3lej07ww...   \n\n                                                 Label  \\\n0    {'objects': [{'featureId': 'clgqhia07003t3b6lg...   \n1    {'objects': [{'featureId': 'clgqhkj2a005s3b6la...   \n2    {'objects': [{'featureId': 'clgql8vs900ak3b6j2...   \n3    {'objects': [{'featureId': 'clgqhofag00o63b6lk...   \n4    {'objects': [{'featureId': 'clgqhpkvp00rd3b6lb...   \n..                                                 ...   \n473  {'objects': [{'featureId': 'clh7ikjsu02x53b6ly...   \n474  {'objects': [{'featureId': 'clh7il5nc037e3b6lo...   \n475  {'objects': [{'featureId': 'clh7ilf1q03853b6l0...   \n476  {'objects': [{'featureId': 'clh7illn903j93b6lw...   \n477  {'objects': [{'featureId': 'clh7imcsc03w63b6lr...   \n\n                       Created By            Project Name  \\\n0    kateryna.burovova@ucu.edu.ua  Dehumanization CoNLL04   \n1    kateryna.burovova@ucu.edu.ua  Dehumanization CoNLL04   \n2    kateryna.burovova@ucu.edu.ua  Dehumanization CoNLL04   \n3    kateryna.burovova@ucu.edu.ua  Dehumanization CoNLL04   \n4    kateryna.burovova@ucu.edu.ua  Dehumanization CoNLL04   \n..                            ...                     ...   \n473  kateryna.burovova@ucu.edu.ua  Dehumanization CoNLL04   \n474  kateryna.burovova@ucu.edu.ua  Dehumanization CoNLL04   \n475  kateryna.burovova@ucu.edu.ua  Dehumanization CoNLL04   \n476  kateryna.burovova@ucu.edu.ua  Dehumanization CoNLL04   \n477  kateryna.burovova@ucu.edu.ua  Dehumanization CoNLL04   \n\n                   Created At                Updated At  Seconds to Label  \\\n0    2023-04-21T11:46:28.000Z  2023-04-21T11:46:28.000Z           134.946   \n1    2023-04-21T11:47:05.000Z  2023-04-21T13:28:40.000Z            75.685   \n2    2023-04-21T11:49:34.000Z  2023-04-21T13:29:42.000Z           189.535   \n3    2023-04-21T11:50:28.000Z  2023-04-21T13:30:40.000Z           144.299   \n4    2023-04-21T11:50:46.000Z  2023-04-21T17:31:13.000Z           182.920   \n..                        ...                       ...               ...   \n473  2023-05-03T09:46:45.000Z  2023-05-03T09:46:45.000Z            23.571   \n474  2023-05-03T09:47:11.000Z  2023-05-03T09:47:11.000Z            24.676   \n475  2023-05-03T09:47:25.000Z  2023-05-03T09:47:26.000Z            14.770   \n476  2023-05-03T09:47:57.000Z  2023-05-03T09:47:57.000Z            31.089   \n477  2023-05-03T09:48:30.000Z  2023-05-03T09:48:30.000Z            21.501   \n\n     Seconds to Review  ...  \\\n0               27.005  ...   \n1               39.954  ...   \n2               41.696  ...   \n3               56.493  ...   \n4              146.624  ...   \n..                 ...  ...   \n473              0.000  ...   \n474              0.000  ...   \n475              0.000  ...   \n476              0.000  ...   \n477              0.000  ...   \n\n                                            View Label Has Open Issues  \\\n0    https://editor.labelbox.com?project=clgqhddt80...               0   \n1    https://editor.labelbox.com?project=clgqhddt80...               0   \n2    https://editor.labelbox.com?project=clgqhddt80...               0   \n3    https://editor.labelbox.com?project=clgqhddt80...               0   \n4    https://editor.labelbox.com?project=clgqhddt80...               0   \n..                                                 ...             ...   \n473  https://editor.labelbox.com?project=clgqhddt80...               0   \n474  https://editor.labelbox.com?project=clgqhddt80...               0   \n475  https://editor.labelbox.com?project=clgqhddt80...               0   \n476  https://editor.labelbox.com?project=clgqhddt80...               0   \n477  https://editor.labelbox.com?project=clgqhddt80...               0   \n\n     Skipped                              DataRow Workflow Info  \\\n0      False  {'taskName': 'Done', 'Workflow History': [{'ac...   \n1      False  {'taskName': 'Done', 'Workflow History': [{'ac...   \n2      False  {'taskName': 'Done', 'Workflow History': [{'ac...   \n3      False                           {'Workflow History': []}   \n4      False  {'taskName': 'Done', 'Workflow History': [{'ac...   \n..       ...                                                ...   \n473    False  {'taskName': 'Initial review task', 'Workflow ...   \n474    False  {'taskName': 'Initial review task', 'Workflow ...   \n475    False  {'taskName': 'Initial review task', 'Workflow ...   \n476    False  {'taskName': 'Initial review task', 'Workflow ...   \n477    False  {'taskName': 'Initial review task', 'Workflow ...   \n\n                                        HIGH_UH_LOW_NH  LOW_UH_LOW_NH  \\\n0             [{'location': {'start': 76, 'end': 87}}]           None   \n1                                                 None           None   \n2                                                 None           None   \n3                                                 None           None   \n4             [{'location': {'start': 80, 'end': 88}}]           None   \n..                                                 ...            ...   \n473          [{'location': {'start': 75, 'end': 115}}]           None   \n474                                               None           None   \n475           [{'location': {'start': 11, 'end': 19}}]           None   \n476                                               None           None   \n477  [{'location': {'start': 346, 'end': 356}}, {'l...           None   \n\n                                        LOW_UH_HIGH_NH HIGH_UH_HIGH_NH  \\\n0                                                 None            None   \n1             [{'location': {'start': 26, 'end': 38}}]            None   \n2                                                 None            None   \n3    [{'location': {'start': 34, 'end': 45}}, {'loc...            None   \n4                                                 None            None   \n..                                                 ...             ...   \n473                                               None            None   \n474                                               None            None   \n475                                               None            None   \n476         [{'location': {'start': 280, 'end': 290}}]            None   \n477                                               None            None   \n\n                                             Ukrainian  \\\n0             [{'location': {'start': 76, 'end': 87}}]   \n1             [{'location': {'start': 15, 'end': 38}}]   \n2             [{'location': {'start': 16, 'end': 25}}]   \n3    [{'location': {'start': 34, 'end': 45}}, {'loc...   \n4             [{'location': {'start': 80, 'end': 88}}]   \n..                                                 ...   \n473                                               None   \n474         [{'location': {'start': 271, 'end': 300}}]   \n475           [{'location': {'start': 11, 'end': 19}}]   \n476  [{'location': {'start': 112, 'end': 127}}, {'l...   \n477  [{'location': {'start': 134, 'end': 144}}, {'l...   \n\n                                                  text  \n0    Хорошее видео от 4 бригады НМ ЛНР https://t.me...  \n1    И по видосам с укропскими свинособаками это ви...  \n2    Приунывшие было укропианцы снова бодрятся и др...  \n3    Снимая фото и видео своих позиций укропоросята...  \n4    Сейчас все обсуждают то, что наши ВС должны бы...  \n..                                                 ...  \n473  Онуфрий сознательно нарушил правила Церкви рад...  \n474  Разве нормальный человек может это поддерживат...  \n475                              58 бригада Укрорейха.  \n476  В плане чисто естество-испытательского интерес...  \n477  Аналогичное я слышал и от солдат, которые пыта...  \n\n[478 rows x 29 columns]",
      "text/html": "<div>\n<style scoped>\n    .dataframe tbody tr th:only-of-type {\n        vertical-align: middle;\n    }\n\n    .dataframe tbody tr th {\n        vertical-align: top;\n    }\n\n    .dataframe thead th {\n        text-align: right;\n    }\n</style>\n<table border=\"1\" class=\"dataframe\">\n  <thead>\n    <tr style=\"text-align: right;\">\n      <th></th>\n      <th>ID</th>\n      <th>DataRow ID</th>\n      <th>Labeled Data</th>\n      <th>Label</th>\n      <th>Created By</th>\n      <th>Project Name</th>\n      <th>Created At</th>\n      <th>Updated At</th>\n      <th>Seconds to Label</th>\n      <th>Seconds to Review</th>\n      <th>...</th>\n      <th>View Label</th>\n      <th>Has Open Issues</th>\n      <th>Skipped</th>\n      <th>DataRow Workflow Info</th>\n      <th>HIGH_UH_LOW_NH</th>\n      <th>LOW_UH_LOW_NH</th>\n      <th>LOW_UH_HIGH_NH</th>\n      <th>HIGH_UH_HIGH_NH</th>\n      <th>Ukrainian</th>\n      <th>text</th>\n    </tr>\n  </thead>\n  <tbody>\n    <tr>\n      <th>0</th>\n      <td>clgqhfqn1010v070vcuro9rri</td>\n      <td>clgqh8xww4hq007904dz43b2e</td>\n      <td>https://storage.labelbox.com/cldvi451e3lej07ww...</td>\n      <td>{'objects': [{'featureId': 'clgqhia07003t3b6lg...</td>\n      <td>kateryna.burovova@ucu.edu.ua</td>\n      <td>Dehumanization CoNLL04</td>\n      <td>2023-04-21T11:46:28.000Z</td>\n      <td>2023-04-21T11:46:28.000Z</td>\n      <td>134.946</td>\n      <td>27.005</td>\n      <td>...</td>\n      <td>https://editor.labelbox.com?project=clgqhddt80...</td>\n      <td>0</td>\n      <td>False</td>\n      <td>{'taskName': 'Done', 'Workflow History': [{'ac...</td>\n      <td>[{'location': {'start': 76, 'end': 87}}]</td>\n      <td>None</td>\n      <td>None</td>\n      <td>None</td>\n      <td>[{'location': {'start': 76, 'end': 87}}]</td>\n      <td>Хорошее видео от 4 бригады НМ ЛНР https://t.me...</td>\n    </tr>\n    <tr>\n      <th>1</th>\n      <td>clgqhi4t5099q072t1xev0cet</td>\n      <td>clgqh8xww4hq407903lrc1c41</td>\n      <td>https://storage.labelbox.com/cldvi451e3lej07ww...</td>\n      <td>{'objects': [{'featureId': 'clgqhkj2a005s3b6la...</td>\n      <td>kateryna.burovova@ucu.edu.ua</td>\n      <td>Dehumanization CoNLL04</td>\n      <td>2023-04-21T11:47:05.000Z</td>\n      <td>2023-04-21T13:28:40.000Z</td>\n      <td>75.685</td>\n      <td>39.954</td>\n      <td>...</td>\n      <td>https://editor.labelbox.com?project=clgqhddt80...</td>\n      <td>0</td>\n      <td>False</td>\n      <td>{'taskName': 'Done', 'Workflow History': [{'ac...</td>\n      <td>None</td>\n      <td>None</td>\n      <td>[{'location': {'start': 26, 'end': 38}}]</td>\n      <td>None</td>\n      <td>[{'location': {'start': 15, 'end': 38}}]</td>\n      <td>И по видосам с укропскими свинособаками это ви...</td>\n    </tr>\n    <tr>\n      <th>2</th>\n      <td>clgqhkeff0g4m07zg87mue234</td>\n      <td>clgqh8xww4hq8079076quhoxb</td>\n      <td>https://storage.labelbox.com/cldvi451e3lej07ww...</td>\n      <td>{'objects': [{'featureId': 'clgql8vs900ak3b6j2...</td>\n      <td>kateryna.burovova@ucu.edu.ua</td>\n      <td>Dehumanization CoNLL04</td>\n      <td>2023-04-21T11:49:34.000Z</td>\n      <td>2023-04-21T13:29:42.000Z</td>\n      <td>189.535</td>\n      <td>41.696</td>\n      <td>...</td>\n      <td>https://editor.labelbox.com?project=clgqhddt80...</td>\n      <td>0</td>\n      <td>False</td>\n      <td>{'taskName': 'Done', 'Workflow History': [{'ac...</td>\n      <td>None</td>\n      <td>None</td>\n      <td>None</td>\n      <td>None</td>\n      <td>[{'location': {'start': 16, 'end': 25}}]</td>\n      <td>Приунывшие было укропианцы снова бодрятся и др...</td>\n    </tr>\n    <tr>\n      <th>3</th>\n      <td>clgqhl5kw00dc07274ihj7fos</td>\n      <td>clgqh8xww4hqc079056l1hqhv</td>\n      <td>https://storage.labelbox.com/cldvi451e3lej07ww...</td>\n      <td>{'objects': [{'featureId': 'clgqhofag00o63b6lk...</td>\n      <td>kateryna.burovova@ucu.edu.ua</td>\n      <td>Dehumanization CoNLL04</td>\n      <td>2023-04-21T11:50:28.000Z</td>\n      <td>2023-04-21T13:30:40.000Z</td>\n      <td>144.299</td>\n      <td>56.493</td>\n      <td>...</td>\n      <td>https://editor.labelbox.com?project=clgqhddt80...</td>\n      <td>0</td>\n      <td>False</td>\n      <td>{'Workflow History': []}</td>\n      <td>None</td>\n      <td>None</td>\n      <td>[{'location': {'start': 34, 'end': 45}}, {'loc...</td>\n      <td>None</td>\n      <td>[{'location': {'start': 34, 'end': 45}}, {'loc...</td>\n      <td>Снимая фото и видео своих позиций укропоросята...</td>\n    </tr>\n    <tr>\n      <th>4</th>\n      <td>clgqhobw60i8x0700gzrs0lpt</td>\n      <td>clgqh8xww4hqg07902lws8quw</td>\n      <td>https://storage.labelbox.com/cldvi451e3lej07ww...</td>\n      <td>{'objects': [{'featureId': 'clgqhpkvp00rd3b6lb...</td>\n      <td>kateryna.burovova@ucu.edu.ua</td>\n      <td>Dehumanization CoNLL04</td>\n      <td>2023-04-21T11:50:46.000Z</td>\n      <td>2023-04-21T17:31:13.000Z</td>\n      <td>182.920</td>\n      <td>146.624</td>\n      <td>...</td>\n      <td>https://editor.labelbox.com?project=clgqhddt80...</td>\n      <td>0</td>\n      <td>False</td>\n      <td>{'taskName': 'Done', 'Workflow History': [{'ac...</td>\n      <td>[{'location': {'start': 80, 'end': 88}}]</td>\n      <td>None</td>\n      <td>None</td>\n      <td>None</td>\n      <td>[{'location': {'start': 80, 'end': 88}}]</td>\n      <td>Сейчас все обсуждают то, что наши ВС должны бы...</td>\n    </tr>\n    <tr>\n      <th>...</th>\n      <td>...</td>\n      <td>...</td>\n      <td>...</td>\n      <td>...</td>\n      <td>...</td>\n      <td>...</td>\n      <td>...</td>\n      <td>...</td>\n      <td>...</td>\n      <td>...</td>\n      <td>...</td>\n      <td>...</td>\n      <td>...</td>\n      <td>...</td>\n      <td>...</td>\n      <td>...</td>\n      <td>...</td>\n      <td>...</td>\n      <td>...</td>\n      <td>...</td>\n      <td>...</td>\n    </tr>\n    <tr>\n      <th>473</th>\n      <td>clh7ijhvb02iv07ub7dqw4kau</td>\n      <td>clgqh8xxk4iqo07907z5m4mem</td>\n      <td>https://storage.labelbox.com/cldvi451e3lej07ww...</td>\n      <td>{'objects': [{'featureId': 'clh7ikjsu02x53b6ly...</td>\n      <td>kateryna.burovova@ucu.edu.ua</td>\n      <td>Dehumanization CoNLL04</td>\n      <td>2023-05-03T09:46:45.000Z</td>\n      <td>2023-05-03T09:46:45.000Z</td>\n      <td>23.571</td>\n      <td>0.000</td>\n      <td>...</td>\n      <td>https://editor.labelbox.com?project=clgqhddt80...</td>\n      <td>0</td>\n      <td>False</td>\n      <td>{'taskName': 'Initial review task', 'Workflow ...</td>\n      <td>[{'location': {'start': 75, 'end': 115}}]</td>\n      <td>None</td>\n      <td>None</td>\n      <td>None</td>\n      <td>None</td>\n      <td>Онуфрий сознательно нарушил правила Церкви рад...</td>\n    </tr>\n    <tr>\n      <th>474</th>\n      <td>clh7ik4vl03yb07ww2zf4dejp</td>\n      <td>clgqh8xxk4iqs079068gj65xs</td>\n      <td>https://storage.labelbox.com/cldvi451e3lej07ww...</td>\n      <td>{'objects': [{'featureId': 'clh7il5nc037e3b6lo...</td>\n      <td>kateryna.burovova@ucu.edu.ua</td>\n      <td>Dehumanization CoNLL04</td>\n      <td>2023-05-03T09:47:11.000Z</td>\n      <td>2023-05-03T09:47:11.000Z</td>\n      <td>24.676</td>\n      <td>0.000</td>\n      <td>...</td>\n      <td>https://editor.labelbox.com?project=clgqhddt80...</td>\n      <td>0</td>\n      <td>False</td>\n      <td>{'taskName': 'Initial review task', 'Workflow ...</td>\n      <td>None</td>\n      <td>None</td>\n      <td>None</td>\n      <td>None</td>\n      <td>[{'location': {'start': 271, 'end': 300}}]</td>\n      <td>Разве нормальный человек может это поддерживат...</td>\n    </tr>\n    <tr>\n      <th>475</th>\n      <td>clh7iknbf03yx07wwdb3q4s69</td>\n      <td>clgqh8xxl00pt076odhgfhqpr</td>\n      <td>https://storage.labelbox.com/cldvi451e3lej07ww...</td>\n      <td>{'objects': [{'featureId': 'clh7ilf1q03853b6l0...</td>\n      <td>kateryna.burovova@ucu.edu.ua</td>\n      <td>Dehumanization CoNLL04</td>\n      <td>2023-05-03T09:47:25.000Z</td>\n      <td>2023-05-03T09:47:26.000Z</td>\n      <td>14.770</td>\n      <td>0.000</td>\n      <td>...</td>\n      <td>https://editor.labelbox.com?project=clgqhddt80...</td>\n      <td>0</td>\n      <td>False</td>\n      <td>{'taskName': 'Initial review task', 'Workflow ...</td>\n      <td>[{'location': {'start': 11, 'end': 19}}]</td>\n      <td>None</td>\n      <td>None</td>\n      <td>None</td>\n      <td>[{'location': {'start': 11, 'end': 19}}]</td>\n      <td>58 бригада Укрорейха.</td>\n    </tr>\n    <tr>\n      <th>476</th>\n      <td>clh7il6kn0dwu07z5ftkrglrk</td>\n      <td>clgqh8xxl00px076o65zkgt5x</td>\n      <td>https://storage.labelbox.com/cldvi451e3lej07ww...</td>\n      <td>{'objects': [{'featureId': 'clh7illn903j93b6lw...</td>\n      <td>kateryna.burovova@ucu.edu.ua</td>\n      <td>Dehumanization CoNLL04</td>\n      <td>2023-05-03T09:47:57.000Z</td>\n      <td>2023-05-03T09:47:57.000Z</td>\n      <td>31.089</td>\n      <td>0.000</td>\n      <td>...</td>\n      <td>https://editor.labelbox.com?project=clgqhddt80...</td>\n      <td>0</td>\n      <td>False</td>\n      <td>{'taskName': 'Initial review task', 'Workflow ...</td>\n      <td>None</td>\n      <td>None</td>\n      <td>[{'location': {'start': 280, 'end': 290}}]</td>\n      <td>None</td>\n      <td>[{'location': {'start': 112, 'end': 127}}, {'l...</td>\n      <td>В плане чисто естество-испытательского интерес...</td>\n    </tr>\n    <tr>\n      <th>477</th>\n      <td>clh7iljvu0a8o07yp0o1e9drs</td>\n      <td>clgqh8xxl00q1076o0y4s5bke</td>\n      <td>https://storage.labelbox.com/cldvi451e3lej07ww...</td>\n      <td>{'objects': [{'featureId': 'clh7imcsc03w63b6lr...</td>\n      <td>kateryna.burovova@ucu.edu.ua</td>\n      <td>Dehumanization CoNLL04</td>\n      <td>2023-05-03T09:48:30.000Z</td>\n      <td>2023-05-03T09:48:30.000Z</td>\n      <td>21.501</td>\n      <td>0.000</td>\n      <td>...</td>\n      <td>https://editor.labelbox.com?project=clgqhddt80...</td>\n      <td>0</td>\n      <td>False</td>\n      <td>{'taskName': 'Initial review task', 'Workflow ...</td>\n      <td>[{'location': {'start': 346, 'end': 356}}, {'l...</td>\n      <td>None</td>\n      <td>None</td>\n      <td>None</td>\n      <td>[{'location': {'start': 134, 'end': 144}}, {'l...</td>\n      <td>Аналогичное я слышал и от солдат, которые пыта...</td>\n    </tr>\n  </tbody>\n</table>\n<p>478 rows × 29 columns</p>\n</div>"
     },
     "execution_count": 11,
     "metadata": {},
     "output_type": "execute_result"
    }
   ],
   "source": [
    "df_merged"
   ],
   "metadata": {
    "collapsed": false,
    "pycharm": {
     "name": "#%%\n"
    }
   }
  },
  {
   "cell_type": "code",
   "execution_count": 12,
   "outputs": [],
   "source": [
    "import spacy\n",
    "\n",
    "nlp = spacy.load(\"ru_core_news_sm\")"
   ],
   "metadata": {
    "collapsed": false,
    "pycharm": {
     "name": "#%%\n"
    }
   }
  },
  {
   "cell_type": "code",
   "execution_count": 13,
   "outputs": [],
   "source": [
    "def find_token_positions(doc, char_start, char_end):\n",
    "    char_to_token_map = {}\n",
    "    for token in doc:\n",
    "        for char_pos in range(token.idx, token.idx + len(token)):\n",
    "            char_to_token_map[char_pos] = token.i\n",
    "\n",
    "    token_start = char_to_token_map.get(char_start)\n",
    "    token_end = char_to_token_map.get(char_end - 1)\n",
    "\n",
    "    # If token_start is not found, try to find the closest token before the char_start\n",
    "    if token_start is None:\n",
    "        for char_pos in range(char_start - 1, -1, -1):\n",
    "            token_start = char_to_token_map.get(char_pos)\n",
    "            if token_start is not None:\n",
    "                break\n",
    "\n",
    "    # If token_end is not found, set it equal to token_start\n",
    "    if token_start is not None and token_end is None:\n",
    "        token_end = token_start\n",
    "\n",
    "    return token_start, token_end"
   ],
   "metadata": {
    "collapsed": false,
    "pycharm": {
     "name": "#%%\n"
    }
   }
  },
  {
   "cell_type": "code",
   "execution_count": 14,
   "outputs": [],
   "source": [
    "def get_spert_entities(df, text_column, feature_columns):\n",
    "    spert_data = []\n",
    "\n",
    "    for _, row in df.iterrows():\n",
    "        text = row[text_column]\n",
    "        doc = nlp(text)\n",
    "        # tokens = [token.text for token in doc]\n",
    "        #\n",
    "        # if not tokens:\n",
    "        #     print(f\"Skipping entry with empty tokens list for text: {text}\")\n",
    "        #     continue\n",
    "\n",
    "        entities = []\n",
    "        for idx, feature_column in enumerate(feature_columns):\n",
    "            char_spans = row[feature_column]\n",
    "\n",
    "            if char_spans is not None:\n",
    "                for span in char_spans:\n",
    "                    char_start = span['location']['start']\n",
    "                    char_end = span['location']['end']\n",
    "                    token_start, token_end = find_token_positions(doc, char_start, char_end)\n",
    "\n",
    "                    entity = {\n",
    "                        \"type\": feature_column,\n",
    "                        \"start\": token_start,\n",
    "                        # \"end\": token_end\n",
    "                        \"end\": token_end+1\n",
    "                    }\n",
    "                    entities.append(entity)\n",
    "\n",
    "        spert_data.append({\n",
    "            \"tokens\": [token.text for token in doc],\n",
    "            \"entities\": entities,\n",
    "            \"relations\": []\n",
    "        })\n",
    "\n",
    "    return spert_data\n"
   ],
   "metadata": {
    "collapsed": false,
    "pycharm": {
     "name": "#%%\n"
    }
   }
  },
  {
   "cell_type": "code",
   "execution_count": null,
   "outputs": [],
   "source": [
    "text_column = 'text'\n",
    "feature_columns = all_feature_objects\n",
    "spert_data = get_spert_entities(df_merged, text_column, feature_columns)"
   ],
   "metadata": {
    "collapsed": false,
    "pycharm": {
     "name": "#%%\n",
     "is_executing": true
    }
   }
  },
  {
   "cell_type": "code",
   "execution_count": 249,
   "outputs": [],
   "source": [
    "import json\n",
    "def save_spert_data(spert_data, file_path):\n",
    "    with open(file_path, 'w', encoding='utf-8') as f:\n",
    "        json.dump(spert_data, f, ensure_ascii=False, indent=2)"
   ],
   "metadata": {
    "collapsed": false,
    "pycharm": {
     "name": "#%%\n"
    }
   }
  },
  {
   "cell_type": "code",
   "execution_count": 250,
   "outputs": [],
   "source": [
    "file_path = \"/Users/katerynaburovova/PycharmProjects/dehumanization/annotation/CoNLL04_annotation/final_spert_data_M.json\"\n",
    "save_spert_data(spert_data, file_path)"
   ],
   "metadata": {
    "collapsed": false,
    "pycharm": {
     "name": "#%%\n"
    }
   }
  },
  {
   "cell_type": "code",
   "execution_count": 251,
   "outputs": [],
   "source": [
    "import json\n",
    "\n",
    "def check_empty_tokens(file_path):\n",
    "    with open(file_path, 'r') as f:\n",
    "        data = json.load(f)\n",
    "\n",
    "    empty_tokens_count = 0\n",
    "    for index, entry in enumerate(data):\n",
    "        if not entry['tokens']:\n",
    "            print(f\"Entry {index} has an empty tokens list\")\n",
    "            empty_tokens_count += 1\n",
    "\n",
    "    print(f\"Total entries with empty tokens: {empty_tokens_count}\")"
   ],
   "metadata": {
    "collapsed": false,
    "pycharm": {
     "name": "#%%\n"
    }
   }
  },
  {
   "cell_type": "code",
   "execution_count": 252,
   "outputs": [
    {
     "name": "stdout",
     "output_type": "stream",
     "text": [
      "Total entries with empty tokens: 0\n"
     ]
    }
   ],
   "source": [
    "check_empty_tokens(file_path)"
   ],
   "metadata": {
    "collapsed": false,
    "pycharm": {
     "name": "#%%\n"
    }
   }
  },
  {
   "cell_type": "code",
   "execution_count": 253,
   "outputs": [],
   "source": [
    "# import json\n",
    "#\n",
    "# # Load the JSON file\n",
    "# with open('input.json', 'r') as f:\n",
    "#     data = json.load(f)\n",
    "\n",
    "file_path = \"/Users/katerynaburovova/PycharmProjects/dehumanization/annotation/CoNLL04_annotation/final_spert_data_M_w_ids.json\"\n",
    "\n",
    "# Iterate over the data points and add a unique 'orig_id' key\n",
    "for i, data_point in enumerate(spert_data):\n",
    "    data_point['orig_id'] = i\n",
    "\n",
    "# Save the modified data back to a JSON file\n",
    "with open(file_path, 'w') as f:\n",
    "    json.dump(spert_data, f, indent=2)"
   ],
   "metadata": {
    "collapsed": false,
    "pycharm": {
     "name": "#%%\n"
    }
   }
  },
  {
   "cell_type": "code",
   "execution_count": 254,
   "outputs": [],
   "source": [
    "filtered_data = [datapoint for datapoint in spert_data if datapoint['entities']]\n",
    "file_path = \"/Users/katerynaburovova/PycharmProjects/dehumanization/annotation/CoNLL04_annotation/final_spert_data_S_w_ids.json\"\n",
    "\n",
    "# Save the modified data back to a JSON file\n",
    "with open(file_path, 'w') as f:\n",
    "    json.dump(filtered_data, f, indent=2)"
   ],
   "metadata": {
    "collapsed": false,
    "pycharm": {
     "name": "#%%\n"
    }
   }
  },
  {
   "cell_type": "markdown",
   "source": [
    "## Saving SpERT datasets"
   ],
   "metadata": {
    "collapsed": false,
    "pycharm": {
     "name": "#%% md\n"
    }
   }
  },
  {
   "cell_type": "code",
   "execution_count": 255,
   "outputs": [],
   "source": [
    "from sklearn.model_selection import train_test_split\n",
    "\n",
    "train_data, temp_data = train_test_split(filtered_data, test_size=0.2, random_state=42)\n",
    "dev_data, test_data = train_test_split(filtered_data, test_size=0.2, random_state=42)"
   ],
   "metadata": {
    "collapsed": false,
    "pycharm": {
     "name": "#%%\n"
    }
   }
  },
  {
   "cell_type": "code",
   "execution_count": 256,
   "outputs": [],
   "source": [
    "with open(\"/Users/katerynaburovova/PycharmProjects/dehumanization/spert/data/datasets/dehumanization_spert_dataset_M/conll04_train.json\", \"w\", encoding=\"utf-8\") as f:\n",
    "    json.dump(train_data, f, ensure_ascii=False)\n",
    "\n",
    "with open(\"/Users/katerynaburovova/PycharmProjects/dehumanization/spert/data/datasets/dehumanization_spert_dataset_M/conll04_dev.json\", \"w\", encoding=\"utf-8\") as f:\n",
    "    json.dump(dev_data, f, ensure_ascii=False)\n",
    "\n",
    "with open(\"/Users/katerynaburovova/PycharmProjects/dehumanization/spert/data/datasets/dehumanization_spert_dataset_M/conll04_test.json\", \"w\", encoding=\"utf-8\") as f:\n",
    "    json.dump(test_data, f, ensure_ascii=False)"
   ],
   "metadata": {
    "collapsed": false,
    "pycharm": {
     "name": "#%%\n"
    }
   }
  },
  {
   "cell_type": "code",
   "execution_count": 217,
   "outputs": [],
   "source": [
    "entity_types = {\n",
    "    feature_column: {\n",
    "        \"id\": idx,\n",
    "        \"short\": feature_column,\n",
    "        \"verbose\": feature_column  # You can replace this with a more verbose description if needed\n",
    "    }\n",
    "    for idx, feature_column in enumerate(feature_columns)\n",
    "}\n",
    "\n",
    "types_data = {\n",
    "    \"entities\": entity_types,\n",
    "    \"relations\": {}  # You can add relation types here if you have any\n",
    "}\n",
    "\n",
    "with open(\"/Users/katerynaburovova/PycharmProjects/dehumanization/spert/data/datasets/dehumanization_spert_dataset/conll04_types.json\", \"w\", encoding=\"utf-8\") as f:\n",
    "    json.dump(types_data, f, ensure_ascii=False)\n"
   ],
   "metadata": {
    "collapsed": false,
    "pycharm": {
     "name": "#%%\n"
    }
   }
  },
  {
   "cell_type": "code",
   "execution_count": 197,
   "outputs": [],
   "source": [
    "from collections import OrderedDict\n",
    "\n",
    "types = json.load(open(\"/Users/katerynaburovova/PycharmProjects/dehumanization/spert/data/datasets/conll04/conll04_types.json\"), object_pairs_hook=OrderedDict)"
   ],
   "metadata": {
    "collapsed": false,
    "pycharm": {
     "name": "#%%\n"
    }
   }
  },
  {
   "cell_type": "code",
   "execution_count": 198,
   "outputs": [
    {
     "data": {
      "text/plain": "odict_items([('HIGH_UH_LOW_NH', OrderedDict([('id', 0), ('short', 'HIGH_UH_LOW_NH'), ('verbose', 'HIGH_UH_LOW_NH')])), ('LOW_UH_LOW_NH', OrderedDict([('id', 1), ('short', 'LOW_UH_LOW_NH'), ('verbose', 'LOW_UH_LOW_NH')])), ('LOW_UH_HIGH_NH', OrderedDict([('id', 2), ('short', 'LOW_UH_HIGH_NH'), ('verbose', 'LOW_UH_HIGH_NH')])), ('HIGH_UH_HIGH_NH', OrderedDict([('id', 3), ('short', 'HIGH_UH_HIGH_NH'), ('verbose', 'HIGH_UH_HIGH_NH')])), ('Ukrainian', OrderedDict([('id', 4), ('short', 'Ukrainian'), ('verbose', 'Ukrainian')]))])"
     },
     "execution_count": 198,
     "metadata": {},
     "output_type": "execute_result"
    }
   ],
   "source": [
    "types['entities'].items()"
   ],
   "metadata": {
    "collapsed": false,
    "pycharm": {
     "name": "#%%\n"
    }
   }
  },
  {
   "cell_type": "code",
   "execution_count": 199,
   "outputs": [
    {
     "name": "stdout",
     "output_type": "stream",
     "text": [
      "['HIGH_UH_LOW_NH', 1, 'HIGH_UH_LOW_NH', 'HIGH_UH_LOW_NH']\n",
      "['LOW_UH_LOW_NH', 2, 'LOW_UH_LOW_NH', 'LOW_UH_LOW_NH']\n",
      "['LOW_UH_HIGH_NH', 3, 'LOW_UH_HIGH_NH', 'LOW_UH_HIGH_NH']\n",
      "['HIGH_UH_HIGH_NH', 4, 'HIGH_UH_HIGH_NH', 'HIGH_UH_HIGH_NH']\n",
      "['Ukrainian', 5, 'Ukrainian', 'Ukrainian']\n"
     ]
    }
   ],
   "source": [
    "for i, (key, v) in enumerate(types['entities'].items()):\n",
    "    entity_type_ = [key, i + 1, v['short'], v['verbose']]\n",
    "    print(entity_type_)"
   ],
   "metadata": {
    "collapsed": false,
    "pycharm": {
     "name": "#%%\n"
    }
   }
  },
  {
   "cell_type": "markdown",
   "source": [
    "## SpERT dataset preparation without UKR tags"
   ],
   "metadata": {
    "collapsed": false,
    "pycharm": {
     "name": "#%% md\n"
    }
   }
  },
  {
   "cell_type": "code",
   "execution_count": 276,
   "outputs": [],
   "source": [
    "from collections import OrderedDict\n",
    "\n",
    "types_reduced = json.load(open(\"/Users/katerynaburovova/PycharmProjects/dehumanization/annotation/CoNLL04_annotation/conll04_types_reduced.json\"), object_pairs_hook=OrderedDict)"
   ],
   "metadata": {
    "collapsed": false,
    "pycharm": {
     "name": "#%%\n"
    }
   }
  },
  {
   "cell_type": "code",
   "execution_count": 282,
   "outputs": [],
   "source": [
    "feature_columns_reduced = [x for x in feature_columns if x!='Ukrainian']"
   ],
   "metadata": {
    "collapsed": false,
    "pycharm": {
     "name": "#%%\n"
    }
   }
  },
  {
   "cell_type": "code",
   "execution_count": 283,
   "outputs": [
    {
     "data": {
      "text/plain": "['HIGH_UH_LOW_NH', 'LOW_UH_LOW_NH', 'LOW_UH_HIGH_NH', 'HIGH_UH_HIGH_NH']"
     },
     "execution_count": 283,
     "metadata": {},
     "output_type": "execute_result"
    }
   ],
   "source": [
    "feature_columns_reduced"
   ],
   "metadata": {
    "collapsed": false,
    "pycharm": {
     "name": "#%%\n"
    }
   }
  },
  {
   "cell_type": "code",
   "execution_count": 285,
   "outputs": [],
   "source": [
    "entity_types_reduced = {\n",
    "    feature_column: {\n",
    "        \"id\": idx,\n",
    "        \"short\": feature_column,\n",
    "        \"verbose\": feature_column  # You can replace this with a more verbose description if needed\n",
    "    }\n",
    "    for idx, feature_column in enumerate(feature_columns_reduced)\n",
    "}\n",
    "\n",
    "types_data_reduced = {\n",
    "    \"entities\": entity_types_reduced,\n",
    "    \"relations\": {}  # You can add relation types here if you have any\n",
    "}\n",
    "\n",
    "with open(\"/Users/katerynaburovova/PycharmProjects/dehumanization/spert/data/datasets/dehumanization_spert_reduced_M/conll04_types_reduced.json\", \"w\", encoding=\"utf-8\") as f:\n",
    "    json.dump(types_data_reduced, f, ensure_ascii=False)"
   ],
   "metadata": {
    "collapsed": false,
    "pycharm": {
     "name": "#%%\n"
    }
   }
  },
  {
   "cell_type": "code",
   "execution_count": 286,
   "outputs": [],
   "source": [
    "types_reduced = json.load(open(\"/Users/katerynaburovova/PycharmProjects/dehumanization/spert/data/datasets/dehumanization_spert_reduced_M/conll04_types_reduced.json\"), object_pairs_hook=OrderedDict)"
   ],
   "metadata": {
    "collapsed": false,
    "pycharm": {
     "name": "#%%\n"
    }
   }
  },
  {
   "cell_type": "code",
   "execution_count": 287,
   "outputs": [
    {
     "data": {
      "text/plain": "odict_items([('HIGH_UH_LOW_NH', OrderedDict([('id', 0), ('short', 'HIGH_UH_LOW_NH'), ('verbose', 'HIGH_UH_LOW_NH')])), ('LOW_UH_LOW_NH', OrderedDict([('id', 1), ('short', 'LOW_UH_LOW_NH'), ('verbose', 'LOW_UH_LOW_NH')])), ('LOW_UH_HIGH_NH', OrderedDict([('id', 2), ('short', 'LOW_UH_HIGH_NH'), ('verbose', 'LOW_UH_HIGH_NH')])), ('HIGH_UH_HIGH_NH', OrderedDict([('id', 3), ('short', 'HIGH_UH_HIGH_NH'), ('verbose', 'HIGH_UH_HIGH_NH')]))])"
     },
     "execution_count": 287,
     "metadata": {},
     "output_type": "execute_result"
    }
   ],
   "source": [
    "types_reduced['entities'].items()"
   ],
   "metadata": {
    "collapsed": false,
    "pycharm": {
     "name": "#%%\n"
    }
   }
  },
  {
   "cell_type": "code",
   "execution_count": null,
   "outputs": [],
   "source": [
    "# filtered_data = [datapoint for datapoint in spert_data if datapoint['entities']]\n",
    "# file_path = \"/Users/katerynaburovova/PycharmProjects/dehumanization/annotation/CoNLL04_annotation/final_spert_data_S_w_ids.json\"\n",
    "\n",
    "# # Save the modified data back to a JSON file\n",
    "# with open(file_path, 'w') as f:\n",
    "#     json.dump(filtered_data, f, indent=2)"
   ],
   "metadata": {
    "collapsed": false,
    "pycharm": {
     "name": "#%%\n"
    }
   }
  },
  {
   "cell_type": "code",
   "execution_count": 298,
   "outputs": [],
   "source": [
    "filtered_data_test = filtered_data[:2]"
   ],
   "metadata": {
    "collapsed": false,
    "pycharm": {
     "name": "#%%\n"
    }
   }
  },
  {
   "cell_type": "code",
   "execution_count": 301,
   "outputs": [],
   "source": [
    "reduced_filtered_data = filtered_data"
   ],
   "metadata": {
    "collapsed": false,
    "pycharm": {
     "name": "#%%\n"
    }
   }
  },
  {
   "cell_type": "code",
   "execution_count": 302,
   "outputs": [],
   "source": [
    "for item in reduced_filtered_data:\n",
    "    item['entities'] = [entity for entity in item['entities'] if entity['type'] != 'Ukrainian']"
   ],
   "metadata": {
    "collapsed": false,
    "pycharm": {
     "name": "#%%\n"
    }
   }
  },
  {
   "cell_type": "code",
   "execution_count": 304,
   "outputs": [],
   "source": [
    "file_path = \"/Users/katerynaburovova/PycharmProjects/dehumanization/annotation/CoNLL04_annotation/final_spert_data_M_reduced_w_ids.json\"\n",
    "\n",
    "with open(file_path, 'w') as f:\n",
    "    json.dump(reduced_filtered_data, f, indent=2)"
   ],
   "metadata": {
    "collapsed": false,
    "pycharm": {
     "name": "#%%\n"
    }
   }
  },
  {
   "cell_type": "code",
   "execution_count": 306,
   "outputs": [],
   "source": [
    "train_data, temp_data = train_test_split(reduced_filtered_data, test_size=0.2, random_state=42)\n",
    "dev_data, test_data = train_test_split(reduced_filtered_data, test_size=0.2, random_state=42)"
   ],
   "metadata": {
    "collapsed": false,
    "pycharm": {
     "name": "#%%\n"
    }
   }
  },
  {
   "cell_type": "code",
   "execution_count": 307,
   "outputs": [],
   "source": [
    "with open(\"/Users/katerynaburovova/PycharmProjects/dehumanization/spert/data/datasets/dehumanization_spert_reduced_M/conll04_train.json\", \"w\", encoding=\"utf-8\") as f:\n",
    "    json.dump(train_data, f, ensure_ascii=False)\n",
    "\n",
    "with open(\"/Users/katerynaburovova/PycharmProjects/dehumanization/spert/data/datasets/dehumanization_spert_reduced_M/conll04_dev.json\", \"w\", encoding=\"utf-8\") as f:\n",
    "    json.dump(dev_data, f, ensure_ascii=False)\n",
    "\n",
    "with open(\"/Users/katerynaburovova/PycharmProjects/dehumanization/spert/data/datasets/dehumanization_spert_reduced_M/conll04_test.json\", \"w\", encoding=\"utf-8\") as f:\n",
    "    json.dump(test_data, f, ensure_ascii=False)"
   ],
   "metadata": {
    "collapsed": false,
    "pycharm": {
     "name": "#%%\n"
    }
   }
  },
  {
   "cell_type": "markdown",
   "source": [
    "## Original Labels Distribution"
   ],
   "metadata": {
    "collapsed": false,
    "pycharm": {
     "name": "#%% md\n"
    }
   }
  },
  {
   "cell_type": "code",
   "execution_count": 30,
   "outputs": [],
   "source": [
    "df_labels_CoNLL04['HIGH_UH_LOW_NH_'] = df_labels_CoNLL04['HIGH_UH_LOW_NH'].apply(lambda x: 1 if len(str(x))>5 else 0)\n",
    "df_labels_CoNLL04['LOW_UH_LOW_NH_'] = df_labels_CoNLL04['LOW_UH_LOW_NH'].apply(lambda x: 1 if len(str(x))>5 else 0)\n",
    "df_labels_CoNLL04['LOW_UH_HIGH_NH_'] = df_labels_CoNLL04['LOW_UH_HIGH_NH'].apply(lambda x: 1 if len(str(x))>5 else 0)\n",
    "df_labels_CoNLL04['HIGH_UH_HIGH_NH_'] = df_labels_CoNLL04['HIGH_UH_HIGH_NH'].apply(lambda x: 1 if len(str(x))>5 else 0)\n",
    "df_labels_CoNLL04['Ukrainian_'] = df_labels_CoNLL04['Ukrainian'].apply(lambda x: 1 if len(str(x))>5 else 0)"
   ],
   "metadata": {
    "collapsed": false,
    "pycharm": {
     "name": "#%%\n"
    }
   }
  },
  {
   "cell_type": "code",
   "execution_count": 46,
   "outputs": [
    {
     "data": {
      "text/plain": "<Figure size 1000x500 with 1 Axes>",
      "image/png": "[encoded data removed]"
     },
     "metadata": {},
     "output_type": "display_data"
    }
   ],
   "source": [
    "import seaborn as sns\n",
    "import matplotlib.pyplot as plt\n",
    "\n",
    "sns.set_style(\"white\")\n",
    "\n",
    "columns = ['HIGH_UH_LOW_NH_', 'LOW_UH_LOW_NH_', 'LOW_UH_HIGH_NH_', 'HIGH_UH_HIGH_NH_', 'Ukrainian_']\n",
    "\n",
    "df_positive = df_labels_CoNLL04[df_labels_CoNLL04[columns] == 1].melt(value_vars=columns)\n",
    "palette = sns.color_palette(\"husl\", len(columns))\n",
    "\n",
    "plt.figure(figsize=(10,5))\n",
    "sns.countplot(data=df_positive, x='variable', hue='value', palette=palette)\n",
    "plt.legend().remove()\n",
    "plt.xticks(rotation=60)\n",
    "plt.title('Distribution of Positive Samples')\n",
    "plt.xlabel('Span Categories')\n",
    "plt.ylabel('Count of Positive Labels')\n",
    "plt.show()\n"
   ],
   "metadata": {
    "collapsed": false,
    "pycharm": {
     "name": "#%%\n"
    }
   }
  }
 ],
 "metadata": {
  "kernelspec": {
   "display_name": "Python 3",
   "language": "python",
   "name": "python3"
  },
  "language_info": {
   "codemirror_mode": {
    "name": "ipython",
    "version": 2
   },
   "file_extension": ".py",
   "mimetype": "text/x-python",
   "name": "python",
   "nbconvert_exporter": "python",
   "pygments_lexer": "ipython2",
   "version": "2.7.6"
  }
 },
 "nbformat": 4,
 "nbformat_minor": 0
}