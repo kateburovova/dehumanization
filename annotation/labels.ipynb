{
 "cells": [
  {
   "cell_type": "code",
   "execution_count": 2,
   "outputs": [],
   "source": [
    "import pandas as pd"
   ],
   "metadata": {
    "collapsed": false,
    "pycharm": {
     "name": "#%%\n"
    }
   }
  },
  {
   "cell_type": "markdown",
   "source": [
    "We have created a 20% overlap for the samples to be labeled to assess the inter-rated agreement. Since annotator vary for each label duplicate pair, we can't use the sklearn's solution as it assumes that raters are the same in each case. Averaging the sklearn's  cohen_kappa_score along the pairs is not a viable solution since if you only have one data point per rater pair, the Cohen's kappa score calculation will result in a warning because it expects more variation in the data (or will return 0 if values are different).\n",
    "\n",
    "We have calculated the Cohen's kappa for the dataset with the (wrong) assumption that there are only two annotators.\n",
    "Further we improved the calculation with averaging the pairs, for that we have used this [solution](https://towardsdatascience.com/inter-annotator-agreement-2f46c6d37bf3) instead."
   ],
   "metadata": {
    "collapsed": false,
    "pycharm": {
     "name": "#%% md\n"
    }
   }
  },
  {
   "cell_type": "code",
   "execution_count": 235,
   "outputs": [],
   "source": [
    "# https://towardsdatascience.com/inter-annotator-agreement-2f46c6d37bf3\n",
    "def cohen_kappa(ann1, ann2):\n",
    "    \"\"\"Computes Cohen kappa for pair-wise annotators.\n",
    "    :param ann1: annotations provided by first annotator\n",
    "    :type ann1: list\n",
    "    :param ann2: annotations provided by second annotator\n",
    "    :type ann2: list\n",
    "    :rtype: float\n",
    "    :return: Cohen kappa statistic\n",
    "    \"\"\"\n",
    "    count = 0\n",
    "    for an1, an2 in zip(ann1, ann2):\n",
    "        if an1 == an2:\n",
    "            count += 1\n",
    "    A = count / len(ann1)  # observed agreement A (Po)\n",
    "\n",
    "    uniq = set(ann1 + ann2)\n",
    "    E = 0  # expected agreement E (Pe)\n",
    "    for item in uniq:\n",
    "        cnt1 = ann1.count(item)\n",
    "        cnt2 = ann2.count(item)\n",
    "        count = ((cnt1 / len(ann1)) * (cnt2 / len(ann2)))\n",
    "        E += count\n",
    "\n",
    "    return round((A - E) / (1 - E), 4)"
   ],
   "metadata": {
    "collapsed": false,
    "pycharm": {
     "name": "#%%\n"
    }
   }
  },
  {
   "cell_type": "markdown",
   "source": [
    "# Loading and preprocessing the data"
   ],
   "metadata": {
    "collapsed": false,
    "pycharm": {
     "name": "#%% md\n"
    }
   }
  },
  {
   "cell_type": "code",
   "execution_count": 346,
   "outputs": [],
   "source": [
    "df_labels = pd.read_json('/Users/katerynaburovova/PycharmProjects/dehumanization/annotation/labels_ready.json')"
   ],
   "metadata": {
    "collapsed": false,
    "pycharm": {
     "name": "#%%\n"
    }
   }
  },
  {
   "cell_type": "code",
   "execution_count": 347,
   "outputs": [],
   "source": [
    "import json\n",
    "def extract_class_pairs(json_lst):\n",
    "    pairs = []\n",
    "    for json_str in json_lst:\n",
    "        question_title = json_str['title']\n",
    "        answer_title = json_str['answer']['title']\n",
    "        pairs.append([question_title,answer_title])\n",
    "    return pairs"
   ],
   "metadata": {
    "collapsed": false,
    "pycharm": {
     "name": "#%%\n"
    }
   }
  },
  {
   "cell_type": "code",
   "execution_count": 348,
   "outputs": [],
   "source": [
    "df_labels['pairs'] = df_labels['Label'].apply(lambda x: extract_class_pairs(x['classifications']))"
   ],
   "metadata": {
    "collapsed": false,
    "pycharm": {
     "name": "#%%\n"
    }
   }
  },
  {
   "cell_type": "code",
   "execution_count": 349,
   "outputs": [],
   "source": [
    "df = df_labels[['Created By', 'pairs', 'External ID']]"
   ],
   "metadata": {
    "collapsed": false,
    "pycharm": {
     "name": "#%%\n"
    }
   }
  },
  {
   "cell_type": "code",
   "execution_count": 267,
   "outputs": [
    {
     "name": "stderr",
     "output_type": "stream",
     "text": [
      "/var/folders/2w/hygxgpp5353_dy_tk88gw2100000gn/T/ipykernel_11694/3128516445.py:3: SettingWithCopyWarning: \n",
      "A value is trying to be set on a copy of a slice from a DataFrame\n",
      "\n",
      "See the caveats in the documentation: https://pandas.pydata.org/pandas-docs/stable/user_guide/indexing.html#returning-a-view-versus-a-copy\n",
      "  df.drop(unique_rows.index, inplace=True)\n"
     ]
    }
   ],
   "source": [
    "value_counts = df['External ID'].value_counts()\n",
    "unique_rows = df[df['External ID'].isin(value_counts[value_counts == 1].index)]\n",
    "df.drop(unique_rows.index, inplace=True)"
   ],
   "metadata": {
    "collapsed": false,
    "pycharm": {
     "name": "#%%\n"
    }
   }
  },
  {
   "cell_type": "code",
   "execution_count": 350,
   "outputs": [
    {
     "name": "stderr",
     "output_type": "stream",
     "text": [
      "/var/folders/2w/hygxgpp5353_dy_tk88gw2100000gn/T/ipykernel_11694/262876240.py:3: SettingWithCopyWarning: \n",
      "A value is trying to be set on a copy of a slice from a DataFrame.\n",
      "Try using .loc[row_indexer,col_indexer] = value instead\n",
      "\n",
      "See the caveats in the documentation: https://pandas.pydata.org/pandas-docs/stable/user_guide/indexing.html#returning-a-view-versus-a-copy\n",
      "  df[col_name] = df['pairs'].apply(lambda x: x[i] if len(x) > i else None)\n",
      "/var/folders/2w/hygxgpp5353_dy_tk88gw2100000gn/T/ipykernel_11694/262876240.py:3: SettingWithCopyWarning: \n",
      "A value is trying to be set on a copy of a slice from a DataFrame.\n",
      "Try using .loc[row_indexer,col_indexer] = value instead\n",
      "\n",
      "See the caveats in the documentation: https://pandas.pydata.org/pandas-docs/stable/user_guide/indexing.html#returning-a-view-versus-a-copy\n",
      "  df[col_name] = df['pairs'].apply(lambda x: x[i] if len(x) > i else None)\n",
      "/var/folders/2w/hygxgpp5353_dy_tk88gw2100000gn/T/ipykernel_11694/262876240.py:3: SettingWithCopyWarning: \n",
      "A value is trying to be set on a copy of a slice from a DataFrame.\n",
      "Try using .loc[row_indexer,col_indexer] = value instead\n",
      "\n",
      "See the caveats in the documentation: https://pandas.pydata.org/pandas-docs/stable/user_guide/indexing.html#returning-a-view-versus-a-copy\n",
      "  df[col_name] = df['pairs'].apply(lambda x: x[i] if len(x) > i else None)\n"
     ]
    }
   ],
   "source": [
    "for i in range(3):\n",
    "    col_name = 'pair{}'.format(i+1)\n",
    "    df[col_name] = df['pairs'].apply(lambda x: x[i] if len(x) > i else None)"
   ],
   "metadata": {
    "collapsed": false,
    "pycharm": {
     "name": "#%%\n"
    }
   }
  },
  {
   "cell_type": "code",
   "execution_count": 351,
   "outputs": [],
   "source": [
    "df = df[~df['pair1'].isna()]\n",
    "df.reset_index(inplace=True, drop=True)"
   ],
   "metadata": {
    "collapsed": false,
    "pycharm": {
     "name": "#%%\n"
    }
   }
  },
  {
   "cell_type": "code",
   "execution_count": 352,
   "outputs": [
    {
     "data": {
      "text/plain": "['Чи прирівнюються українці до неістот, тварин чи людей, позбавлених людських рис (частково або повністю)?',\n 'ні']"
     },
     "execution_count": 352,
     "metadata": {},
     "output_type": "execute_result"
    }
   ],
   "source": [
    "text2 = df['pair2'].iloc[16]\n",
    "text2"
   ],
   "metadata": {
    "collapsed": false,
    "pycharm": {
     "name": "#%%\n"
    }
   }
  },
  {
   "cell_type": "code",
   "execution_count": 353,
   "outputs": [
    {
     "data": {
      "text/plain": "['Чи присутня в тексті емоційна оцінка українців?', 'ні, оцінка не присутня']"
     },
     "execution_count": 353,
     "metadata": {},
     "output_type": "execute_result"
    }
   ],
   "source": [
    "text3 = df['pair3'].iloc[16]\n",
    "text3"
   ],
   "metadata": {
    "collapsed": false,
    "pycharm": {
     "name": "#%%\n"
    }
   }
  },
  {
   "cell_type": "code",
   "execution_count": 354,
   "outputs": [],
   "source": [
    "def replace_with(cell, replace_list):\n",
    "    if cell is None:\n",
    "        return replace_list\n",
    "    else:\n",
    "        return cell"
   ],
   "metadata": {
    "collapsed": false,
    "pycharm": {
     "name": "#%%\n"
    }
   }
  },
  {
   "cell_type": "code",
   "execution_count": 355,
   "outputs": [],
   "source": [
    "df[\"Dehumanization\"] = df.pair2.apply(lambda x: replace_with(x, text2)[1])"
   ],
   "metadata": {
    "collapsed": false,
    "pycharm": {
     "name": "#%%\n"
    }
   }
  },
  {
   "cell_type": "code",
   "execution_count": 356,
   "outputs": [],
   "source": [
    "df[\"Emotion\"] = df.pair3.apply(lambda x: replace_with(x, text3)[1])"
   ],
   "metadata": {
    "collapsed": false,
    "pycharm": {
     "name": "#%%\n"
    }
   }
  },
  {
   "cell_type": "code",
   "execution_count": 357,
   "outputs": [],
   "source": [
    "df[\"Mention\"] = df['pair1'].apply(lambda x: x[1])"
   ],
   "metadata": {
    "collapsed": false,
    "pycharm": {
     "name": "#%%\n"
    }
   }
  },
  {
   "cell_type": "code",
   "execution_count": 358,
   "outputs": [],
   "source": [
    "df = df.sort_values(by='External ID')\n",
    "df.reset_index(inplace=True, drop=True)"
   ],
   "metadata": {
    "collapsed": false,
    "pycharm": {
     "name": "#%%\n"
    }
   }
  },
  {
   "cell_type": "markdown",
   "source": [
    "# First attempt to calculate with the assumption that annotators are same"
   ],
   "metadata": {
    "collapsed": false,
    "pycharm": {
     "name": "#%% md\n"
    }
   }
  },
  {
   "cell_type": "code",
   "execution_count": 198,
   "outputs": [],
   "source": [
    "df['Rater'] = ['Rater1' if i % 2 == 0 else 'Rater2' for i in range(len(df))]"
   ],
   "metadata": {
    "collapsed": false,
    "pycharm": {
     "name": "#%%\n"
    }
   }
  },
  {
   "cell_type": "code",
   "execution_count": null,
   "outputs": [],
   "source": [
    "from sklearn.metrics import cohen_kappa_score\n",
    "\n",
    "# define a function to calculate Cohen's kappa for a given column\n",
    "def calculate_kappa(column_name):\n",
    "    rater1_labels = df[column_name].loc[df['Rater'] == 'Rater1'].tolist()\n",
    "    rater2_labels = df[column_name].loc[df['Rater'] == 'Rater2'].tolist()\n",
    "    kappa = cohen_kappa_score(rater1_labels, rater2_labels)\n",
    "    return kappa"
   ],
   "metadata": {
    "collapsed": false,
    "pycharm": {
     "name": "#%%\n"
    }
   }
  },
  {
   "cell_type": "code",
   "execution_count": 202,
   "outputs": [
    {
     "name": "stdout",
     "output_type": "stream",
     "text": [
      "Cohen's kappa for Dehumanization: 0.50\n",
      "Cohen's kappa for Emotion: 0.49\n",
      "Cohen's kappa for Mention: 0.64\n"
     ]
    }
   ],
   "source": [
    "# calculate Cohen's kappa for the 'Dehumanization' column\n",
    "dehumanization_kappa = calculate_kappa('Dehumanization')\n",
    "print(\"Cohen's kappa for Dehumanization: {:.2f}\".format(dehumanization_kappa))\n",
    "\n",
    "# repeat the above for the 'Emotion' and 'Mention' columns\n",
    "emotion_kappa = calculate_kappa('Emotion')\n",
    "print(\"Cohen's kappa for Emotion: {:.2f}\".format(emotion_kappa))\n",
    "\n",
    "mention_kappa = calculate_kappa('Mention')\n",
    "print(\"Cohen's kappa for Mention: {:.2f}\".format(mention_kappa))"
   ],
   "metadata": {
    "collapsed": false,
    "pycharm": {
     "name": "#%%\n"
    }
   }
  },
  {
   "cell_type": "markdown",
   "source": [
    "# Correct calculation under the real conditions of different annotators"
   ],
   "metadata": {
    "collapsed": false,
    "pycharm": {
     "name": "#%% md\n"
    }
   }
  },
  {
   "cell_type": "code",
   "execution_count": 359,
   "outputs": [],
   "source": [
    "def calculate_cohens_kappa(df, col_name):\n",
    "    # creating the data for question\n",
    "    df_column = df[['External ID', 'Created By', col_name]]\n",
    "\n",
    "    # identifying the overlapping samples and raters who labeled them\n",
    "    overlapping_samples = df_column.groupby('External ID').filter(lambda x: len(x) > 1)\n",
    "    unique_sample_ids = overlapping_samples['External ID'].unique()\n",
    "    rater_pairs = []\n",
    "    for sample_id in unique_sample_ids:\n",
    "        raters = overlapping_samples[overlapping_samples['External ID'] == sample_id]['Created By'].tolist()\n",
    "        rater_pairs.append(raters)\n",
    "\n",
    "    # averaging the kappa scores for pairs\n",
    "    kappa_scores = []\n",
    "    for sample_id, rater_pair in zip(unique_sample_ids, rater_pairs):\n",
    "        sample_data = overlapping_samples[overlapping_samples['External ID'] == sample_id]\n",
    "        rater1_labels = sample_data[sample_data['Created By'] == rater_pair[0]][col_name].tolist()[0]\n",
    "        rater2_labels = sample_data[sample_data['Created By'] == rater_pair[1]][col_name].tolist()[0]\n",
    "        kappa = cohen_kappa(rater1_labels, rater2_labels)\n",
    "        kappa_scores.append(kappa)\n",
    "    mean_kappa_score = sum(kappa_scores) / len(kappa_scores)\n",
    "\n",
    "    return mean_kappa_score"
   ],
   "metadata": {
    "collapsed": false,
    "pycharm": {
     "name": "#%%\n"
    }
   }
  },
  {
   "cell_type": "code",
   "execution_count": 360,
   "outputs": [
    {
     "data": {
      "text/plain": "0.850657954545455"
     },
     "execution_count": 360,
     "metadata": {},
     "output_type": "execute_result"
    }
   ],
   "source": [
    "calculate_cohens_kappa(df, 'Dehumanization')"
   ],
   "metadata": {
    "collapsed": false,
    "pycharm": {
     "name": "#%%\n"
    }
   }
  },
  {
   "cell_type": "code",
   "execution_count": 361,
   "outputs": [
    {
     "data": {
      "text/plain": "0.9697505681818179"
     },
     "execution_count": 361,
     "metadata": {},
     "output_type": "execute_result"
    }
   ],
   "source": [
    "calculate_cohens_kappa(df, 'Mention')"
   ],
   "metadata": {
    "collapsed": false,
    "pycharm": {
     "name": "#%%\n"
    }
   }
  },
  {
   "cell_type": "code",
   "execution_count": 362,
   "outputs": [
    {
     "data": {
      "text/plain": "0.8473826704545456"
     },
     "execution_count": 362,
     "metadata": {},
     "output_type": "execute_result"
    }
   ],
   "source": [
    "calculate_cohens_kappa(df, 'Emotion')"
   ],
   "metadata": {
    "collapsed": false,
    "pycharm": {
     "name": "#%%\n"
    }
   }
  },
  {
   "cell_type": "markdown",
   "source": [
    "# Labels export"
   ],
   "metadata": {
    "collapsed": false,
    "pycharm": {
     "name": "#%% md\n"
    }
   }
  },
  {
   "cell_type": "code",
   "execution_count": 491,
   "outputs": [],
   "source": [
    "import os\n",
    "import pandas as pd\n",
    "\n",
    "directory_path = \"/Users/katerynaburovova/PycharmProjects/dehumanization/annotation/dataset_shuffled\"\n",
    "file_list = []\n",
    "for filename in os.listdir(directory_path):\n",
    "    if filename.endswith(\".txt\"):\n",
    "        with open(os.path.join(directory_path, filename), \"r\") as file:\n",
    "            file_content = file.read()\n",
    "        file_list.append({\"text\": file_content, \"file_name\": filename})\n",
    "\n",
    "df_datarows = pd.DataFrame(file_list)"
   ],
   "metadata": {
    "collapsed": false,
    "pycharm": {
     "name": "#%%\n"
    }
   }
  },
  {
   "cell_type": "code",
   "execution_count": 492,
   "outputs": [
    {
     "data": {
      "text/plain": "                                                   text   External ID\n0     Как известно, свинья везде грязь найдет, и укр...  row_1281.txt\n1     Тогда как многие украинцы, наоборот, слепо вер...  row_2950.txt\n2     О таком щедром и мирном соседе, как Россия, мо...  row_3496.txt\n3     🇺🇦❌Денацификация по-винницки  Тивривский сельс...  row_2788.txt\n4                   Укронацисты объявили войну Пушкину.  row_2944.txt\n...                                                 ...           ...\n3638  «Я вас, бл@дей, на этот корабль три года собир...  row_2791.txt\n3639  Награжден орденом Мужества за отвагу и самоотв...   row_474.txt\n3640  🇷🇺В районе населенного пункта Часов Яр уничтож...  row_2949.txt\n3641  Участники конкурса американской армии на замен...  row_1298.txt\n3642  Мы постоянно говорим о фашисткой символике хох...   row_312.txt\n\n[3643 rows x 2 columns]",
      "text/html": "<div>\n<style scoped>\n    .dataframe tbody tr th:only-of-type {\n        vertical-align: middle;\n    }\n\n    .dataframe tbody tr th {\n        vertical-align: top;\n    }\n\n    .dataframe thead th {\n        text-align: right;\n    }\n</style>\n<table border=\"1\" class=\"dataframe\">\n  <thead>\n    <tr style=\"text-align: right;\">\n      <th></th>\n      <th>text</th>\n      <th>External ID</th>\n    </tr>\n  </thead>\n  <tbody>\n    <tr>\n      <th>0</th>\n      <td>Как известно, свинья везде грязь найдет, и укр...</td>\n      <td>row_1281.txt</td>\n    </tr>\n    <tr>\n      <th>1</th>\n      <td>Тогда как многие украинцы, наоборот, слепо вер...</td>\n      <td>row_2950.txt</td>\n    </tr>\n    <tr>\n      <th>2</th>\n      <td>О таком щедром и мирном соседе, как Россия, мо...</td>\n      <td>row_3496.txt</td>\n    </tr>\n    <tr>\n      <th>3</th>\n      <td>🇺🇦❌Денацификация по-винницки  Тивривский сельс...</td>\n      <td>row_2788.txt</td>\n    </tr>\n    <tr>\n      <th>4</th>\n      <td>Укронацисты объявили войну Пушкину.</td>\n      <td>row_2944.txt</td>\n    </tr>\n    <tr>\n      <th>...</th>\n      <td>...</td>\n      <td>...</td>\n    </tr>\n    <tr>\n      <th>3638</th>\n      <td>«Я вас, бл@дей, на этот корабль три года собир...</td>\n      <td>row_2791.txt</td>\n    </tr>\n    <tr>\n      <th>3639</th>\n      <td>Награжден орденом Мужества за отвагу и самоотв...</td>\n      <td>row_474.txt</td>\n    </tr>\n    <tr>\n      <th>3640</th>\n      <td>🇷🇺В районе населенного пункта Часов Яр уничтож...</td>\n      <td>row_2949.txt</td>\n    </tr>\n    <tr>\n      <th>3641</th>\n      <td>Участники конкурса американской армии на замен...</td>\n      <td>row_1298.txt</td>\n    </tr>\n    <tr>\n      <th>3642</th>\n      <td>Мы постоянно говорим о фашисткой символике хох...</td>\n      <td>row_312.txt</td>\n    </tr>\n  </tbody>\n</table>\n<p>3643 rows × 2 columns</p>\n</div>"
     },
     "execution_count": 492,
     "metadata": {},
     "output_type": "execute_result"
    }
   ],
   "source": [
    "df_datarows.rename(columns={'file_name':'External ID'}, inplace=True)\n",
    "df_datarows"
   ],
   "metadata": {
    "collapsed": false,
    "pycharm": {
     "name": "#%%\n"
    }
   }
  },
  {
   "cell_type": "code",
   "execution_count": 514,
   "outputs": [
    {
     "data": {
      "text/plain": "                                                   text   External ID\n2016  \"Бандеровцы на Украине сегодня взяли все худше...  row_3210.txt",
      "text/html": "<div>\n<style scoped>\n    .dataframe tbody tr th:only-of-type {\n        vertical-align: middle;\n    }\n\n    .dataframe tbody tr th {\n        vertical-align: top;\n    }\n\n    .dataframe thead th {\n        text-align: right;\n    }\n</style>\n<table border=\"1\" class=\"dataframe\">\n  <thead>\n    <tr style=\"text-align: right;\">\n      <th></th>\n      <th>text</th>\n      <th>External ID</th>\n    </tr>\n  </thead>\n  <tbody>\n    <tr>\n      <th>2016</th>\n      <td>\"Бандеровцы на Украине сегодня взяли все худше...</td>\n      <td>row_3210.txt</td>\n    </tr>\n  </tbody>\n</table>\n</div>"
     },
     "execution_count": 514,
     "metadata": {},
     "output_type": "execute_result"
    }
   ],
   "source": [
    "df_datarows[df_datarows['External ID'] == 'row_3210.txt']"
   ],
   "metadata": {
    "collapsed": false,
    "pycharm": {
     "name": "#%%\n"
    }
   }
  },
  {
   "cell_type": "code",
   "execution_count": 494,
   "outputs": [
    {
     "data": {
      "text/plain": "                             ID                 DataRow ID  \\\n0     clemlh3ot5jlz07zg93fndqql  cleh5u16r1y1d077nda1a1qc8   \n1     clemlh51q9umq07za3cx6h7v9  cleh5u16r1y1h077n7sp91xy0   \n2     clemlhd635hv4070q0dndfk3h  cleh5u16r1y1l077n8445az5a   \n3     clemlhglg1vlr0711eh7rbxsf  cleh5u16r1y1p077n7yxhdfio   \n4     clemrc8wr1kas07xzew1n4sf3  cleh5u16s1y1x077nggra0vhg   \n...                         ...                        ...   \n4279  clf6u3sp40gds07yt6gjlasf1  cleh5u19e38eu077z4r3e62qh   \n4280  clf6wydkb0jff07zy1tig2pgk  cleh5u19eig9w078n33qp7j53   \n4281  clf6wyjgi051507y3dy1x46sz  cleh5u19e38di077zboeo8ujg   \n4282  clf6wyol90jgi07zy77hr6ibb  cleh5u19eigak078n18yhc7xi   \n4283  clf6wzliy054j07y3ew37ci2c  cleh5u19eigao078n1euncspq   \n\n                                           Labeled Data  \\\n0     https://storage.labelbox.com/cldvi451e3lej07ww...   \n1     https://storage.labelbox.com/cldvi451e3lej07ww...   \n2     https://storage.labelbox.com/cldvi451e3lej07ww...   \n3     https://storage.labelbox.com/cldvi451e3lej07ww...   \n4     https://storage.labelbox.com/cldvi451e3lej07ww...   \n...                                                 ...   \n4279  https://storage.labelbox.com/cldvi451e3lej07ww...   \n4280  https://storage.labelbox.com/cldvi451e3lej07ww...   \n4281  https://storage.labelbox.com/cldvi451e3lej07ww...   \n4282  https://storage.labelbox.com/cldvi451e3lej07ww...   \n4283  https://storage.labelbox.com/cldvi451e3lej07ww...   \n\n                                                  Label  \\\n0     {'objects': [], 'classifications': [{'featureI...   \n1     {'objects': [], 'classifications': [{'featureI...   \n2     {'objects': [], 'classifications': [{'featureI...   \n3     {'objects': [], 'classifications': [{'featureI...   \n4     {'objects': [], 'classifications': [{'featureI...   \n...                                                 ...   \n4279  {'objects': [], 'classifications': [{'featureI...   \n4280  {'objects': [], 'classifications': [{'featureI...   \n4281  {'objects': [], 'classifications': [{'featureI...   \n4282  {'objects': [], 'classifications': [{'featureI...   \n4283  {'objects': [], 'classifications': [{'featureI...   \n\n                        Created By    Project Name                Created At  \\\n0     kateryna.burovova@ucu.edu.ua  Dehumanization  2023-02-27T09:05:35.000Z   \n1     kateryna.burovova@ucu.edu.ua  Dehumanization  2023-02-27T09:05:41.000Z   \n2     kateryna.burovova@ucu.edu.ua  Dehumanization  2023-02-27T09:05:53.000Z   \n3     kateryna.burovova@ucu.edu.ua  Dehumanization  2023-02-27T09:06:07.000Z   \n4         snizannabotvin@gmail.com  Dehumanization  2023-02-27T11:54:12.000Z   \n...                            ...             ...                       ...   \n4279   eugene.1martynyuk@gmail.com  Dehumanization  2023-03-13T14:22:20.000Z   \n4280   eugene.1martynyuk@gmail.com  Dehumanization  2023-03-13T14:22:24.000Z   \n4281   eugene.1martynyuk@gmail.com  Dehumanization  2023-03-13T14:23:09.000Z   \n4282   eugene.1martynyuk@gmail.com  Dehumanization  2023-03-13T14:23:28.000Z   \n4283   eugene.1martynyuk@gmail.com  Dehumanization  2023-03-13T14:23:55.000Z   \n\n                    Updated At  Seconds to Label  Seconds to Review  ...  \\\n0     2023-02-27T09:05:36.000Z            36.784             30.751  ...   \n1     2023-02-27T09:05:41.000Z             6.542              1.000  ...   \n2     2023-02-27T09:05:53.000Z            16.489              6.234  ...   \n3     2023-02-27T09:06:09.000Z           304.801            291.289  ...   \n4     2023-02-27T19:05:13.000Z           353.906              3.816  ...   \n...                        ...               ...                ...  ...   \n4279  2023-03-13T14:22:20.000Z            14.318              0.000  ...   \n4280  2023-03-13T14:22:24.000Z             6.467              0.000  ...   \n4281  2023-03-13T14:23:09.000Z            42.807              0.000  ...   \n4282  2023-03-13T14:23:28.000Z            21.218              0.000  ...   \n4283  2023-03-13T14:23:55.000Z            24.434              0.000  ...   \n\n      Is Benchmark Benchmark Agreement  Benchmark ID  \\\n0                0                  -1           NaN   \n1                0                  -1           NaN   \n2                0                  -1           NaN   \n3                0                  -1           NaN   \n4                0                  -1           NaN   \n...            ...                 ...           ...   \n4279             0                  -1           NaN   \n4280             0                  -1           NaN   \n4281             0                  -1           NaN   \n4282             0                  -1           NaN   \n4283             0                  -1           NaN   \n\n                      Dataset Name  Reviews  \\\n0     Dehumanization_final_dataset       []   \n1     Dehumanization_final_dataset       []   \n2     Dehumanization_final_dataset       []   \n3     Dehumanization_final_dataset       []   \n4     Dehumanization_final_dataset       []   \n...                            ...      ...   \n4279  Dehumanization_final_dataset       []   \n4280  Dehumanization_final_dataset       []   \n4281  Dehumanization_final_dataset       []   \n4282  Dehumanization_final_dataset       []   \n4283  Dehumanization_final_dataset       []   \n\n                                             View Label  Has Open Issues  \\\n0     https://editor.labelbox.com?project=cleh63iav1...                0   \n1     https://editor.labelbox.com?project=cleh63iav1...                0   \n2     https://editor.labelbox.com?project=cleh63iav1...                0   \n3     https://editor.labelbox.com?project=cleh63iav1...                0   \n4     https://editor.labelbox.com?project=cleh63iav1...                0   \n...                                                 ...              ...   \n4279  https://editor.labelbox.com?project=cleh63iav1...                0   \n4280  https://editor.labelbox.com?project=cleh63iav1...                0   \n4281  https://editor.labelbox.com?project=cleh63iav1...                0   \n4282  https://editor.labelbox.com?project=cleh63iav1...                0   \n4283  https://editor.labelbox.com?project=cleh63iav1...                0   \n\n     Skipped                              DataRow Workflow Info  \\\n0      False  {'taskName': 'Done', 'Workflow History': [{'ac...   \n1      False  {'taskName': 'Done', 'Workflow History': [{'ac...   \n2      False  {'taskName': 'Done', 'Workflow History': [{'ac...   \n3      False  {'taskName': 'Done', 'Workflow History': [{'ac...   \n4      False  {'taskName': 'Done', 'Workflow History': [{'ac...   \n...      ...                                                ...   \n4279   False  {'taskId': '3817fcae-b9f0-4015-95c1-1afe41afc4...   \n4280   False  {'taskId': '3817fcae-b9f0-4015-95c1-1afe41afc4...   \n4281   False  {'taskId': '3817fcae-b9f0-4015-95c1-1afe41afc4...   \n4282   False  {'taskId': '3817fcae-b9f0-4015-95c1-1afe41afc4...   \n4283   False  {'taskId': '3817fcae-b9f0-4015-95c1-1afe41afc4...   \n\n                                                  pairs  \n0     [[Чи згадуються в тексті українці або щось укр...  \n1     [[Чи згадуються в тексті українці або щось укр...  \n2     [[Чи згадуються в тексті українці або щось укр...  \n3     [[Чи згадуються в тексті українці або щось укр...  \n4     [[Чи згадуються в тексті українці або щось укр...  \n...                                                 ...  \n4279  [[Чи згадуються в тексті українці або щось укр...  \n4280  [[Чи згадуються в тексті українці або щось укр...  \n4281  [[Чи згадуються в тексті українці або щось укр...  \n4282  [[Чи згадуються в тексті українці або щось укр...  \n4283  [[Чи згадуються в тексті українці або щось укр...  \n\n[4284 rows x 24 columns]",
      "text/html": "<div>\n<style scoped>\n    .dataframe tbody tr th:only-of-type {\n        vertical-align: middle;\n    }\n\n    .dataframe tbody tr th {\n        vertical-align: top;\n    }\n\n    .dataframe thead th {\n        text-align: right;\n    }\n</style>\n<table border=\"1\" class=\"dataframe\">\n  <thead>\n    <tr style=\"text-align: right;\">\n      <th></th>\n      <th>ID</th>\n      <th>DataRow ID</th>\n      <th>Labeled Data</th>\n      <th>Label</th>\n      <th>Created By</th>\n      <th>Project Name</th>\n      <th>Created At</th>\n      <th>Updated At</th>\n      <th>Seconds to Label</th>\n      <th>Seconds to Review</th>\n      <th>...</th>\n      <th>Is Benchmark</th>\n      <th>Benchmark Agreement</th>\n      <th>Benchmark ID</th>\n      <th>Dataset Name</th>\n      <th>Reviews</th>\n      <th>View Label</th>\n      <th>Has Open Issues</th>\n      <th>Skipped</th>\n      <th>DataRow Workflow Info</th>\n      <th>pairs</th>\n    </tr>\n  </thead>\n  <tbody>\n    <tr>\n      <th>0</th>\n      <td>clemlh3ot5jlz07zg93fndqql</td>\n      <td>cleh5u16r1y1d077nda1a1qc8</td>\n      <td>https://storage.labelbox.com/cldvi451e3lej07ww...</td>\n      <td>{'objects': [], 'classifications': [{'featureI...</td>\n      <td>kateryna.burovova@ucu.edu.ua</td>\n      <td>Dehumanization</td>\n      <td>2023-02-27T09:05:35.000Z</td>\n      <td>2023-02-27T09:05:36.000Z</td>\n      <td>36.784</td>\n      <td>30.751</td>\n      <td>...</td>\n      <td>0</td>\n      <td>-1</td>\n      <td>NaN</td>\n      <td>Dehumanization_final_dataset</td>\n      <td>[]</td>\n      <td>https://editor.labelbox.com?project=cleh63iav1...</td>\n      <td>0</td>\n      <td>False</td>\n      <td>{'taskName': 'Done', 'Workflow History': [{'ac...</td>\n      <td>[[Чи згадуються в тексті українці або щось укр...</td>\n    </tr>\n    <tr>\n      <th>1</th>\n      <td>clemlh51q9umq07za3cx6h7v9</td>\n      <td>cleh5u16r1y1h077n7sp91xy0</td>\n      <td>https://storage.labelbox.com/cldvi451e3lej07ww...</td>\n      <td>{'objects': [], 'classifications': [{'featureI...</td>\n      <td>kateryna.burovova@ucu.edu.ua</td>\n      <td>Dehumanization</td>\n      <td>2023-02-27T09:05:41.000Z</td>\n      <td>2023-02-27T09:05:41.000Z</td>\n      <td>6.542</td>\n      <td>1.000</td>\n      <td>...</td>\n      <td>0</td>\n      <td>-1</td>\n      <td>NaN</td>\n      <td>Dehumanization_final_dataset</td>\n      <td>[]</td>\n      <td>https://editor.labelbox.com?project=cleh63iav1...</td>\n      <td>0</td>\n      <td>False</td>\n      <td>{'taskName': 'Done', 'Workflow History': [{'ac...</td>\n      <td>[[Чи згадуються в тексті українці або щось укр...</td>\n    </tr>\n    <tr>\n      <th>2</th>\n      <td>clemlhd635hv4070q0dndfk3h</td>\n      <td>cleh5u16r1y1l077n8445az5a</td>\n      <td>https://storage.labelbox.com/cldvi451e3lej07ww...</td>\n      <td>{'objects': [], 'classifications': [{'featureI...</td>\n      <td>kateryna.burovova@ucu.edu.ua</td>\n      <td>Dehumanization</td>\n      <td>2023-02-27T09:05:53.000Z</td>\n      <td>2023-02-27T09:05:53.000Z</td>\n      <td>16.489</td>\n      <td>6.234</td>\n      <td>...</td>\n      <td>0</td>\n      <td>-1</td>\n      <td>NaN</td>\n      <td>Dehumanization_final_dataset</td>\n      <td>[]</td>\n      <td>https://editor.labelbox.com?project=cleh63iav1...</td>\n      <td>0</td>\n      <td>False</td>\n      <td>{'taskName': 'Done', 'Workflow History': [{'ac...</td>\n      <td>[[Чи згадуються в тексті українці або щось укр...</td>\n    </tr>\n    <tr>\n      <th>3</th>\n      <td>clemlhglg1vlr0711eh7rbxsf</td>\n      <td>cleh5u16r1y1p077n7yxhdfio</td>\n      <td>https://storage.labelbox.com/cldvi451e3lej07ww...</td>\n      <td>{'objects': [], 'classifications': [{'featureI...</td>\n      <td>kateryna.burovova@ucu.edu.ua</td>\n      <td>Dehumanization</td>\n      <td>2023-02-27T09:06:07.000Z</td>\n      <td>2023-02-27T09:06:09.000Z</td>\n      <td>304.801</td>\n      <td>291.289</td>\n      <td>...</td>\n      <td>0</td>\n      <td>-1</td>\n      <td>NaN</td>\n      <td>Dehumanization_final_dataset</td>\n      <td>[]</td>\n      <td>https://editor.labelbox.com?project=cleh63iav1...</td>\n      <td>0</td>\n      <td>False</td>\n      <td>{'taskName': 'Done', 'Workflow History': [{'ac...</td>\n      <td>[[Чи згадуються в тексті українці або щось укр...</td>\n    </tr>\n    <tr>\n      <th>4</th>\n      <td>clemrc8wr1kas07xzew1n4sf3</td>\n      <td>cleh5u16s1y1x077nggra0vhg</td>\n      <td>https://storage.labelbox.com/cldvi451e3lej07ww...</td>\n      <td>{'objects': [], 'classifications': [{'featureI...</td>\n      <td>snizannabotvin@gmail.com</td>\n      <td>Dehumanization</td>\n      <td>2023-02-27T11:54:12.000Z</td>\n      <td>2023-02-27T19:05:13.000Z</td>\n      <td>353.906</td>\n      <td>3.816</td>\n      <td>...</td>\n      <td>0</td>\n      <td>-1</td>\n      <td>NaN</td>\n      <td>Dehumanization_final_dataset</td>\n      <td>[]</td>\n      <td>https://editor.labelbox.com?project=cleh63iav1...</td>\n      <td>0</td>\n      <td>False</td>\n      <td>{'taskName': 'Done', 'Workflow History': [{'ac...</td>\n      <td>[[Чи згадуються в тексті українці або щось укр...</td>\n    </tr>\n    <tr>\n      <th>...</th>\n      <td>...</td>\n      <td>...</td>\n      <td>...</td>\n      <td>...</td>\n      <td>...</td>\n      <td>...</td>\n      <td>...</td>\n      <td>...</td>\n      <td>...</td>\n      <td>...</td>\n      <td>...</td>\n      <td>...</td>\n      <td>...</td>\n      <td>...</td>\n      <td>...</td>\n      <td>...</td>\n      <td>...</td>\n      <td>...</td>\n      <td>...</td>\n      <td>...</td>\n      <td>...</td>\n    </tr>\n    <tr>\n      <th>4279</th>\n      <td>clf6u3sp40gds07yt6gjlasf1</td>\n      <td>cleh5u19e38eu077z4r3e62qh</td>\n      <td>https://storage.labelbox.com/cldvi451e3lej07ww...</td>\n      <td>{'objects': [], 'classifications': [{'featureI...</td>\n      <td>eugene.1martynyuk@gmail.com</td>\n      <td>Dehumanization</td>\n      <td>2023-03-13T14:22:20.000Z</td>\n      <td>2023-03-13T14:22:20.000Z</td>\n      <td>14.318</td>\n      <td>0.000</td>\n      <td>...</td>\n      <td>0</td>\n      <td>-1</td>\n      <td>NaN</td>\n      <td>Dehumanization_final_dataset</td>\n      <td>[]</td>\n      <td>https://editor.labelbox.com?project=cleh63iav1...</td>\n      <td>0</td>\n      <td>False</td>\n      <td>{'taskId': '3817fcae-b9f0-4015-95c1-1afe41afc4...</td>\n      <td>[[Чи згадуються в тексті українці або щось укр...</td>\n    </tr>\n    <tr>\n      <th>4280</th>\n      <td>clf6wydkb0jff07zy1tig2pgk</td>\n      <td>cleh5u19eig9w078n33qp7j53</td>\n      <td>https://storage.labelbox.com/cldvi451e3lej07ww...</td>\n      <td>{'objects': [], 'classifications': [{'featureI...</td>\n      <td>eugene.1martynyuk@gmail.com</td>\n      <td>Dehumanization</td>\n      <td>2023-03-13T14:22:24.000Z</td>\n      <td>2023-03-13T14:22:24.000Z</td>\n      <td>6.467</td>\n      <td>0.000</td>\n      <td>...</td>\n      <td>0</td>\n      <td>-1</td>\n      <td>NaN</td>\n      <td>Dehumanization_final_dataset</td>\n      <td>[]</td>\n      <td>https://editor.labelbox.com?project=cleh63iav1...</td>\n      <td>0</td>\n      <td>False</td>\n      <td>{'taskId': '3817fcae-b9f0-4015-95c1-1afe41afc4...</td>\n      <td>[[Чи згадуються в тексті українці або щось укр...</td>\n    </tr>\n    <tr>\n      <th>4281</th>\n      <td>clf6wyjgi051507y3dy1x46sz</td>\n      <td>cleh5u19e38di077zboeo8ujg</td>\n      <td>https://storage.labelbox.com/cldvi451e3lej07ww...</td>\n      <td>{'objects': [], 'classifications': [{'featureI...</td>\n      <td>eugene.1martynyuk@gmail.com</td>\n      <td>Dehumanization</td>\n      <td>2023-03-13T14:23:09.000Z</td>\n      <td>2023-03-13T14:23:09.000Z</td>\n      <td>42.807</td>\n      <td>0.000</td>\n      <td>...</td>\n      <td>0</td>\n      <td>-1</td>\n      <td>NaN</td>\n      <td>Dehumanization_final_dataset</td>\n      <td>[]</td>\n      <td>https://editor.labelbox.com?project=cleh63iav1...</td>\n      <td>0</td>\n      <td>False</td>\n      <td>{'taskId': '3817fcae-b9f0-4015-95c1-1afe41afc4...</td>\n      <td>[[Чи згадуються в тексті українці або щось укр...</td>\n    </tr>\n    <tr>\n      <th>4282</th>\n      <td>clf6wyol90jgi07zy77hr6ibb</td>\n      <td>cleh5u19eigak078n18yhc7xi</td>\n      <td>https://storage.labelbox.com/cldvi451e3lej07ww...</td>\n      <td>{'objects': [], 'classifications': [{'featureI...</td>\n      <td>eugene.1martynyuk@gmail.com</td>\n      <td>Dehumanization</td>\n      <td>2023-03-13T14:23:28.000Z</td>\n      <td>2023-03-13T14:23:28.000Z</td>\n      <td>21.218</td>\n      <td>0.000</td>\n      <td>...</td>\n      <td>0</td>\n      <td>-1</td>\n      <td>NaN</td>\n      <td>Dehumanization_final_dataset</td>\n      <td>[]</td>\n      <td>https://editor.labelbox.com?project=cleh63iav1...</td>\n      <td>0</td>\n      <td>False</td>\n      <td>{'taskId': '3817fcae-b9f0-4015-95c1-1afe41afc4...</td>\n      <td>[[Чи згадуються в тексті українці або щось укр...</td>\n    </tr>\n    <tr>\n      <th>4283</th>\n      <td>clf6wzliy054j07y3ew37ci2c</td>\n      <td>cleh5u19eigao078n1euncspq</td>\n      <td>https://storage.labelbox.com/cldvi451e3lej07ww...</td>\n      <td>{'objects': [], 'classifications': [{'featureI...</td>\n      <td>eugene.1martynyuk@gmail.com</td>\n      <td>Dehumanization</td>\n      <td>2023-03-13T14:23:55.000Z</td>\n      <td>2023-03-13T14:23:55.000Z</td>\n      <td>24.434</td>\n      <td>0.000</td>\n      <td>...</td>\n      <td>0</td>\n      <td>-1</td>\n      <td>NaN</td>\n      <td>Dehumanization_final_dataset</td>\n      <td>[]</td>\n      <td>https://editor.labelbox.com?project=cleh63iav1...</td>\n      <td>0</td>\n      <td>False</td>\n      <td>{'taskId': '3817fcae-b9f0-4015-95c1-1afe41afc4...</td>\n      <td>[[Чи згадуються в тексті українці або щось укр...</td>\n    </tr>\n  </tbody>\n</table>\n<p>4284 rows × 24 columns</p>\n</div>"
     },
     "execution_count": 494,
     "metadata": {},
     "output_type": "execute_result"
    }
   ],
   "source": [
    "df_labels"
   ],
   "metadata": {
    "collapsed": false,
    "pycharm": {
     "name": "#%%\n"
    }
   }
  },
  {
   "cell_type": "code",
   "execution_count": 495,
   "outputs": [],
   "source": [
    "df_final = df[['External ID', 'Dehumanization', 'Emotion', 'Mention', 'Created By']]"
   ],
   "metadata": {
    "collapsed": false,
    "pycharm": {
     "name": "#%%\n"
    }
   }
  },
  {
   "cell_type": "code",
   "execution_count": 496,
   "outputs": [
    {
     "data": {
      "text/plain": "       External ID Dehumanization                  Emotion Mention  \\\n0        row_0.txt            так  так, присутня негативна     так   \n1        row_1.txt             ні   ні, оцінка не присутня      ні   \n2       row_10.txt            так  так, присутня негативна     так   \n3      row_100.txt            так  так, присутня негативна     так   \n4     row_1000.txt             ні   ні, оцінка не присутня     так   \n...            ...            ...                      ...     ...   \n4245   row_996.txt             ні  так, присутня негативна     так   \n4246   row_997.txt             ні  так, присутня негативна     так   \n4247   row_998.txt            так  так, присутня негативна     так   \n4248   row_998.txt            так   ні, оцінка не присутня     так   \n4249   row_999.txt             ні   ні, оцінка не присутня      ні   \n\n                        Created By  \n0         snizannabotvin@gmail.com  \n1         snizannabotvin@gmail.com  \n2         snizannabotvin@gmail.com  \n3         snizannabotvin@gmail.com  \n4           tutovadesign@gmail.com  \n...                            ...  \n4245        tutovadesign@gmail.com  \n4246  yevhen.marchenko91@gmail.com  \n4247        tutovadesign@gmail.com  \n4248  yevhen.marchenko91@gmail.com  \n4249        tutovadesign@gmail.com  \n\n[4250 rows x 5 columns]",
      "text/html": "<div>\n<style scoped>\n    .dataframe tbody tr th:only-of-type {\n        vertical-align: middle;\n    }\n\n    .dataframe tbody tr th {\n        vertical-align: top;\n    }\n\n    .dataframe thead th {\n        text-align: right;\n    }\n</style>\n<table border=\"1\" class=\"dataframe\">\n  <thead>\n    <tr style=\"text-align: right;\">\n      <th></th>\n      <th>External ID</th>\n      <th>Dehumanization</th>\n      <th>Emotion</th>\n      <th>Mention</th>\n      <th>Created By</th>\n    </tr>\n  </thead>\n  <tbody>\n    <tr>\n      <th>0</th>\n      <td>row_0.txt</td>\n      <td>так</td>\n      <td>так, присутня негативна</td>\n      <td>так</td>\n      <td>snizannabotvin@gmail.com</td>\n    </tr>\n    <tr>\n      <th>1</th>\n      <td>row_1.txt</td>\n      <td>ні</td>\n      <td>ні, оцінка не присутня</td>\n      <td>ні</td>\n      <td>snizannabotvin@gmail.com</td>\n    </tr>\n    <tr>\n      <th>2</th>\n      <td>row_10.txt</td>\n      <td>так</td>\n      <td>так, присутня негативна</td>\n      <td>так</td>\n      <td>snizannabotvin@gmail.com</td>\n    </tr>\n    <tr>\n      <th>3</th>\n      <td>row_100.txt</td>\n      <td>так</td>\n      <td>так, присутня негативна</td>\n      <td>так</td>\n      <td>snizannabotvin@gmail.com</td>\n    </tr>\n    <tr>\n      <th>4</th>\n      <td>row_1000.txt</td>\n      <td>ні</td>\n      <td>ні, оцінка не присутня</td>\n      <td>так</td>\n      <td>tutovadesign@gmail.com</td>\n    </tr>\n    <tr>\n      <th>...</th>\n      <td>...</td>\n      <td>...</td>\n      <td>...</td>\n      <td>...</td>\n      <td>...</td>\n    </tr>\n    <tr>\n      <th>4245</th>\n      <td>row_996.txt</td>\n      <td>ні</td>\n      <td>так, присутня негативна</td>\n      <td>так</td>\n      <td>tutovadesign@gmail.com</td>\n    </tr>\n    <tr>\n      <th>4246</th>\n      <td>row_997.txt</td>\n      <td>ні</td>\n      <td>так, присутня негативна</td>\n      <td>так</td>\n      <td>yevhen.marchenko91@gmail.com</td>\n    </tr>\n    <tr>\n      <th>4247</th>\n      <td>row_998.txt</td>\n      <td>так</td>\n      <td>так, присутня негативна</td>\n      <td>так</td>\n      <td>tutovadesign@gmail.com</td>\n    </tr>\n    <tr>\n      <th>4248</th>\n      <td>row_998.txt</td>\n      <td>так</td>\n      <td>ні, оцінка не присутня</td>\n      <td>так</td>\n      <td>yevhen.marchenko91@gmail.com</td>\n    </tr>\n    <tr>\n      <th>4249</th>\n      <td>row_999.txt</td>\n      <td>ні</td>\n      <td>ні, оцінка не присутня</td>\n      <td>ні</td>\n      <td>tutovadesign@gmail.com</td>\n    </tr>\n  </tbody>\n</table>\n<p>4250 rows × 5 columns</p>\n</div>"
     },
     "execution_count": 496,
     "metadata": {},
     "output_type": "execute_result"
    }
   ],
   "source": [
    "df_final"
   ],
   "metadata": {
    "collapsed": false,
    "pycharm": {
     "name": "#%%\n"
    }
   }
  },
  {
   "cell_type": "code",
   "execution_count": 497,
   "outputs": [],
   "source": [
    "df_merged = pd.merge(df_final, df_datarows, on='External ID', how='left')"
   ],
   "metadata": {
    "collapsed": false,
    "pycharm": {
     "name": "#%%\n"
    }
   }
  },
  {
   "cell_type": "code",
   "execution_count": 498,
   "outputs": [
    {
     "data": {
      "text/plain": "array(['ні'], dtype=object)"
     },
     "execution_count": 498,
     "metadata": {},
     "output_type": "execute_result"
    }
   ],
   "source": [
    "#bs check\n",
    "df_merged[df_merged['Mention']=='ні']['Dehumanization'].unique()\n"
   ],
   "metadata": {
    "collapsed": false,
    "pycharm": {
     "name": "#%%\n"
    }
   }
  },
  {
   "cell_type": "code",
   "execution_count": 499,
   "outputs": [
    {
     "data": {
      "text/plain": "array(['ні, оцінка не присутня'], dtype=object)"
     },
     "execution_count": 499,
     "metadata": {},
     "output_type": "execute_result"
    }
   ],
   "source": [
    "#bs check\n",
    "df_merged[df_merged['Mention']=='ні']['Emotion'].unique()"
   ],
   "metadata": {
    "collapsed": false,
    "pycharm": {
     "name": "#%%\n"
    }
   }
  },
  {
   "cell_type": "code",
   "execution_count": 500,
   "outputs": [
    {
     "data": {
      "text/plain": "       External ID Dehumanization                  Emotion Mention  \\\n0        row_0.txt            так  так, присутня негативна     так   \n1        row_1.txt             ні   ні, оцінка не присутня      ні   \n2       row_10.txt            так  так, присутня негативна     так   \n3      row_100.txt            так  так, присутня негативна     так   \n4     row_1000.txt             ні   ні, оцінка не присутня     так   \n...            ...            ...                      ...     ...   \n4245   row_996.txt             ні  так, присутня негативна     так   \n4246   row_997.txt             ні  так, присутня негативна     так   \n4247   row_998.txt            так  так, присутня негативна     так   \n4248   row_998.txt            так   ні, оцінка не присутня     так   \n4249   row_999.txt             ні   ні, оцінка не присутня      ні   \n\n                        Created By  \\\n0         snizannabotvin@gmail.com   \n1         snizannabotvin@gmail.com   \n2         snizannabotvin@gmail.com   \n3         snizannabotvin@gmail.com   \n4           tutovadesign@gmail.com   \n...                            ...   \n4245        tutovadesign@gmail.com   \n4246  yevhen.marchenko91@gmail.com   \n4247        tutovadesign@gmail.com   \n4248  yevhen.marchenko91@gmail.com   \n4249        tutovadesign@gmail.com   \n\n                                                   text  \n0     Всвязи с этим немного поправлю коллег ⤵️  \"Они...  \n1     Литературный критик Галина Юзефович о новом ро...  \n2     Почему на базах неонацистов стоят языческие ис...  \n3     Группа добровольцев-медиков из Чеченской Респу...  \n4     ВСУшники, переходите на сторону добра, у нас т...  \n...                                                 ...  \n4245  И понеслась мазепинщино-петлюровщино-бандеровщ...  \n4246  Наш соратник по русскому движению Алексей Сели...  \n4247  Хорошее видео от 4 бригады НМ ЛНР https://t.me...  \n4248  Хорошее видео от 4 бригады НМ ЛНР https://t.me...  \n4249  Замоскворецкий районный суд Москвы отклонил ис...  \n\n[4250 rows x 6 columns]",
      "text/html": "<div>\n<style scoped>\n    .dataframe tbody tr th:only-of-type {\n        vertical-align: middle;\n    }\n\n    .dataframe tbody tr th {\n        vertical-align: top;\n    }\n\n    .dataframe thead th {\n        text-align: right;\n    }\n</style>\n<table border=\"1\" class=\"dataframe\">\n  <thead>\n    <tr style=\"text-align: right;\">\n      <th></th>\n      <th>External ID</th>\n      <th>Dehumanization</th>\n      <th>Emotion</th>\n      <th>Mention</th>\n      <th>Created By</th>\n      <th>text</th>\n    </tr>\n  </thead>\n  <tbody>\n    <tr>\n      <th>0</th>\n      <td>row_0.txt</td>\n      <td>так</td>\n      <td>так, присутня негативна</td>\n      <td>так</td>\n      <td>snizannabotvin@gmail.com</td>\n      <td>Всвязи с этим немного поправлю коллег ⤵️  \"Они...</td>\n    </tr>\n    <tr>\n      <th>1</th>\n      <td>row_1.txt</td>\n      <td>ні</td>\n      <td>ні, оцінка не присутня</td>\n      <td>ні</td>\n      <td>snizannabotvin@gmail.com</td>\n      <td>Литературный критик Галина Юзефович о новом ро...</td>\n    </tr>\n    <tr>\n      <th>2</th>\n      <td>row_10.txt</td>\n      <td>так</td>\n      <td>так, присутня негативна</td>\n      <td>так</td>\n      <td>snizannabotvin@gmail.com</td>\n      <td>Почему на базах неонацистов стоят языческие ис...</td>\n    </tr>\n    <tr>\n      <th>3</th>\n      <td>row_100.txt</td>\n      <td>так</td>\n      <td>так, присутня негативна</td>\n      <td>так</td>\n      <td>snizannabotvin@gmail.com</td>\n      <td>Группа добровольцев-медиков из Чеченской Респу...</td>\n    </tr>\n    <tr>\n      <th>4</th>\n      <td>row_1000.txt</td>\n      <td>ні</td>\n      <td>ні, оцінка не присутня</td>\n      <td>так</td>\n      <td>tutovadesign@gmail.com</td>\n      <td>ВСУшники, переходите на сторону добра, у нас т...</td>\n    </tr>\n    <tr>\n      <th>...</th>\n      <td>...</td>\n      <td>...</td>\n      <td>...</td>\n      <td>...</td>\n      <td>...</td>\n      <td>...</td>\n    </tr>\n    <tr>\n      <th>4245</th>\n      <td>row_996.txt</td>\n      <td>ні</td>\n      <td>так, присутня негативна</td>\n      <td>так</td>\n      <td>tutovadesign@gmail.com</td>\n      <td>И понеслась мазепинщино-петлюровщино-бандеровщ...</td>\n    </tr>\n    <tr>\n      <th>4246</th>\n      <td>row_997.txt</td>\n      <td>ні</td>\n      <td>так, присутня негативна</td>\n      <td>так</td>\n      <td>yevhen.marchenko91@gmail.com</td>\n      <td>Наш соратник по русскому движению Алексей Сели...</td>\n    </tr>\n    <tr>\n      <th>4247</th>\n      <td>row_998.txt</td>\n      <td>так</td>\n      <td>так, присутня негативна</td>\n      <td>так</td>\n      <td>tutovadesign@gmail.com</td>\n      <td>Хорошее видео от 4 бригады НМ ЛНР https://t.me...</td>\n    </tr>\n    <tr>\n      <th>4248</th>\n      <td>row_998.txt</td>\n      <td>так</td>\n      <td>ні, оцінка не присутня</td>\n      <td>так</td>\n      <td>yevhen.marchenko91@gmail.com</td>\n      <td>Хорошее видео от 4 бригады НМ ЛНР https://t.me...</td>\n    </tr>\n    <tr>\n      <th>4249</th>\n      <td>row_999.txt</td>\n      <td>ні</td>\n      <td>ні, оцінка не присутня</td>\n      <td>ні</td>\n      <td>tutovadesign@gmail.com</td>\n      <td>Замоскворецкий районный суд Москвы отклонил ис...</td>\n    </tr>\n  </tbody>\n</table>\n<p>4250 rows × 6 columns</p>\n</div>"
     },
     "execution_count": 500,
     "metadata": {},
     "output_type": "execute_result"
    }
   ],
   "source": [
    "df_merged"
   ],
   "metadata": {
    "collapsed": false,
    "pycharm": {
     "name": "#%%\n"
    }
   }
  },
  {
   "cell_type": "markdown",
   "source": [
    "At this stage we should choose whose labels should remain in the final dataset for those samples labeled by 2 labelers.\n",
    "\n",
    "We have investigated a random portion of disagreements manually as only manual investigation can provide insights into potential biases and/or misunderstanding of guidelines.\n",
    "We have also considered the annotator expertise and background that we were informed of."
   ],
   "metadata": {
    "collapsed": false,
    "pycharm": {
     "name": "#%% md\n"
    }
   }
  },
  {
   "cell_type": "code",
   "execution_count": 501,
   "outputs": [
    {
     "data": {
      "text/plain": "array(['kateryna.burovova@ucu.edu.ua', 'snizannabotvin@gmail.com',\n       'nazariy.melnychuk9@gmail.com', 'chennnakal@gmail.com',\n       's.sterpul@icloud.com', 'mariana.scorp@gmail.com',\n       'tutovadesign@gmail.com', 'yevhen.marchenko91@gmail.com',\n       'eugene.1martynyuk@gmail.com'], dtype=object)"
     },
     "execution_count": 501,
     "metadata": {},
     "output_type": "execute_result"
    }
   ],
   "source": [
    "df_labels['Created By'].unique()"
   ],
   "metadata": {
    "collapsed": false,
    "pycharm": {
     "name": "#%%\n"
    }
   }
  },
  {
   "cell_type": "code",
   "execution_count": 502,
   "outputs": [],
   "source": [
    "authors = df_labels['Created By'].unique().tolist()\n",
    "rating = [1, 4, 7, 6, 8, 2, 5, 3, 9]"
   ],
   "metadata": {
    "collapsed": false,
    "pycharm": {
     "name": "#%%\n"
    }
   }
  },
  {
   "cell_type": "code",
   "execution_count": 503,
   "outputs": [],
   "source": [
    "data = {'Created By': authors, 'rating': rating}\n",
    "df_rating = pd.DataFrame(data)"
   ],
   "metadata": {
    "collapsed": false,
    "pycharm": {
     "name": "#%%\n"
    }
   }
  },
  {
   "cell_type": "code",
   "execution_count": 504,
   "outputs": [
    {
     "data": {
      "text/plain": "                     Created By  rating\n0  kateryna.burovova@ucu.edu.ua       1\n1      snizannabotvin@gmail.com       4\n2  nazariy.melnychuk9@gmail.com       7\n3          chennnakal@gmail.com       6\n4          s.sterpul@icloud.com       8\n5       mariana.scorp@gmail.com       2\n6        tutovadesign@gmail.com       5\n7  yevhen.marchenko91@gmail.com       3\n8   eugene.1martynyuk@gmail.com       9",
      "text/html": "<div>\n<style scoped>\n    .dataframe tbody tr th:only-of-type {\n        vertical-align: middle;\n    }\n\n    .dataframe tbody tr th {\n        vertical-align: top;\n    }\n\n    .dataframe thead th {\n        text-align: right;\n    }\n</style>\n<table border=\"1\" class=\"dataframe\">\n  <thead>\n    <tr style=\"text-align: right;\">\n      <th></th>\n      <th>Created By</th>\n      <th>rating</th>\n    </tr>\n  </thead>\n  <tbody>\n    <tr>\n      <th>0</th>\n      <td>kateryna.burovova@ucu.edu.ua</td>\n      <td>1</td>\n    </tr>\n    <tr>\n      <th>1</th>\n      <td>snizannabotvin@gmail.com</td>\n      <td>4</td>\n    </tr>\n    <tr>\n      <th>2</th>\n      <td>nazariy.melnychuk9@gmail.com</td>\n      <td>7</td>\n    </tr>\n    <tr>\n      <th>3</th>\n      <td>chennnakal@gmail.com</td>\n      <td>6</td>\n    </tr>\n    <tr>\n      <th>4</th>\n      <td>s.sterpul@icloud.com</td>\n      <td>8</td>\n    </tr>\n    <tr>\n      <th>5</th>\n      <td>mariana.scorp@gmail.com</td>\n      <td>2</td>\n    </tr>\n    <tr>\n      <th>6</th>\n      <td>tutovadesign@gmail.com</td>\n      <td>5</td>\n    </tr>\n    <tr>\n      <th>7</th>\n      <td>yevhen.marchenko91@gmail.com</td>\n      <td>3</td>\n    </tr>\n    <tr>\n      <th>8</th>\n      <td>eugene.1martynyuk@gmail.com</td>\n      <td>9</td>\n    </tr>\n  </tbody>\n</table>\n</div>"
     },
     "execution_count": 504,
     "metadata": {},
     "output_type": "execute_result"
    }
   ],
   "source": [
    "df_rating"
   ],
   "metadata": {
    "collapsed": false,
    "pycharm": {
     "name": "#%%\n"
    }
   }
  },
  {
   "cell_type": "code",
   "execution_count": 505,
   "outputs": [],
   "source": [
    "df_combined = df_merged.merge(df_rating, on='Created By')"
   ],
   "metadata": {
    "collapsed": false,
    "pycharm": {
     "name": "#%%\n"
    }
   }
  },
  {
   "cell_type": "code",
   "execution_count": 506,
   "outputs": [],
   "source": [
    "df_combined = df_combined.sort_values(['External ID', 'rating'], ascending=True)"
   ],
   "metadata": {
    "collapsed": false,
    "pycharm": {
     "name": "#%%\n"
    }
   }
  },
  {
   "cell_type": "code",
   "execution_count": 507,
   "outputs": [
    {
     "data": {
      "text/plain": "       External ID Dehumanization                  Emotion Mention  \\\n0        row_0.txt            так  так, присутня негативна     так   \n1        row_1.txt             ні   ні, оцінка не присутня      ні   \n2       row_10.txt            так  так, присутня негативна     так   \n3      row_100.txt            так  так, присутня негативна     так   \n1441  row_1000.txt             ні   ні, оцінка не присутня     так   \n...            ...            ...                      ...     ...   \n2639   row_996.txt             ні  так, присутня негативна     так   \n2760   row_997.txt             ні  так, присутня негативна     так   \n2761   row_998.txt            так   ні, оцінка не присутня     так   \n2640   row_998.txt            так  так, присутня негативна     так   \n2641   row_999.txt             ні   ні, оцінка не присутня      ні   \n\n                        Created By  \\\n0         snizannabotvin@gmail.com   \n1         snizannabotvin@gmail.com   \n2         snizannabotvin@gmail.com   \n3         snizannabotvin@gmail.com   \n1441        tutovadesign@gmail.com   \n...                            ...   \n2639        tutovadesign@gmail.com   \n2760  yevhen.marchenko91@gmail.com   \n2761  yevhen.marchenko91@gmail.com   \n2640        tutovadesign@gmail.com   \n2641        tutovadesign@gmail.com   \n\n                                                   text  rating  \n0     Всвязи с этим немного поправлю коллег ⤵️  \"Они...       4  \n1     Литературный критик Галина Юзефович о новом ро...       4  \n2     Почему на базах неонацистов стоят языческие ис...       4  \n3     Группа добровольцев-медиков из Чеченской Респу...       4  \n1441  ВСУшники, переходите на сторону добра, у нас т...       5  \n...                                                 ...     ...  \n2639  И понеслась мазепинщино-петлюровщино-бандеровщ...       5  \n2760  Наш соратник по русскому движению Алексей Сели...       3  \n2761  Хорошее видео от 4 бригады НМ ЛНР https://t.me...       3  \n2640  Хорошее видео от 4 бригады НМ ЛНР https://t.me...       5  \n2641  Замоскворецкий районный суд Москвы отклонил ис...       5  \n\n[4250 rows x 7 columns]",
      "text/html": "<div>\n<style scoped>\n    .dataframe tbody tr th:only-of-type {\n        vertical-align: middle;\n    }\n\n    .dataframe tbody tr th {\n        vertical-align: top;\n    }\n\n    .dataframe thead th {\n        text-align: right;\n    }\n</style>\n<table border=\"1\" class=\"dataframe\">\n  <thead>\n    <tr style=\"text-align: right;\">\n      <th></th>\n      <th>External ID</th>\n      <th>Dehumanization</th>\n      <th>Emotion</th>\n      <th>Mention</th>\n      <th>Created By</th>\n      <th>text</th>\n      <th>rating</th>\n    </tr>\n  </thead>\n  <tbody>\n    <tr>\n      <th>0</th>\n      <td>row_0.txt</td>\n      <td>так</td>\n      <td>так, присутня негативна</td>\n      <td>так</td>\n      <td>snizannabotvin@gmail.com</td>\n      <td>Всвязи с этим немного поправлю коллег ⤵️  \"Они...</td>\n      <td>4</td>\n    </tr>\n    <tr>\n      <th>1</th>\n      <td>row_1.txt</td>\n      <td>ні</td>\n      <td>ні, оцінка не присутня</td>\n      <td>ні</td>\n      <td>snizannabotvin@gmail.com</td>\n      <td>Литературный критик Галина Юзефович о новом ро...</td>\n      <td>4</td>\n    </tr>\n    <tr>\n      <th>2</th>\n      <td>row_10.txt</td>\n      <td>так</td>\n      <td>так, присутня негативна</td>\n      <td>так</td>\n      <td>snizannabotvin@gmail.com</td>\n      <td>Почему на базах неонацистов стоят языческие ис...</td>\n      <td>4</td>\n    </tr>\n    <tr>\n      <th>3</th>\n      <td>row_100.txt</td>\n      <td>так</td>\n      <td>так, присутня негативна</td>\n      <td>так</td>\n      <td>snizannabotvin@gmail.com</td>\n      <td>Группа добровольцев-медиков из Чеченской Респу...</td>\n      <td>4</td>\n    </tr>\n    <tr>\n      <th>1441</th>\n      <td>row_1000.txt</td>\n      <td>ні</td>\n      <td>ні, оцінка не присутня</td>\n      <td>так</td>\n      <td>tutovadesign@gmail.com</td>\n      <td>ВСУшники, переходите на сторону добра, у нас т...</td>\n      <td>5</td>\n    </tr>\n    <tr>\n      <th>...</th>\n      <td>...</td>\n      <td>...</td>\n      <td>...</td>\n      <td>...</td>\n      <td>...</td>\n      <td>...</td>\n      <td>...</td>\n    </tr>\n    <tr>\n      <th>2639</th>\n      <td>row_996.txt</td>\n      <td>ні</td>\n      <td>так, присутня негативна</td>\n      <td>так</td>\n      <td>tutovadesign@gmail.com</td>\n      <td>И понеслась мазепинщино-петлюровщино-бандеровщ...</td>\n      <td>5</td>\n    </tr>\n    <tr>\n      <th>2760</th>\n      <td>row_997.txt</td>\n      <td>ні</td>\n      <td>так, присутня негативна</td>\n      <td>так</td>\n      <td>yevhen.marchenko91@gmail.com</td>\n      <td>Наш соратник по русскому движению Алексей Сели...</td>\n      <td>3</td>\n    </tr>\n    <tr>\n      <th>2761</th>\n      <td>row_998.txt</td>\n      <td>так</td>\n      <td>ні, оцінка не присутня</td>\n      <td>так</td>\n      <td>yevhen.marchenko91@gmail.com</td>\n      <td>Хорошее видео от 4 бригады НМ ЛНР https://t.me...</td>\n      <td>3</td>\n    </tr>\n    <tr>\n      <th>2640</th>\n      <td>row_998.txt</td>\n      <td>так</td>\n      <td>так, присутня негативна</td>\n      <td>так</td>\n      <td>tutovadesign@gmail.com</td>\n      <td>Хорошее видео от 4 бригады НМ ЛНР https://t.me...</td>\n      <td>5</td>\n    </tr>\n    <tr>\n      <th>2641</th>\n      <td>row_999.txt</td>\n      <td>ні</td>\n      <td>ні, оцінка не присутня</td>\n      <td>ні</td>\n      <td>tutovadesign@gmail.com</td>\n      <td>Замоскворецкий районный суд Москвы отклонил ис...</td>\n      <td>5</td>\n    </tr>\n  </tbody>\n</table>\n<p>4250 rows × 7 columns</p>\n</div>"
     },
     "execution_count": 507,
     "metadata": {},
     "output_type": "execute_result"
    }
   ],
   "source": [
    "df_combined"
   ],
   "metadata": {
    "collapsed": false,
    "pycharm": {
     "name": "#%%\n"
    }
   }
  },
  {
   "cell_type": "code",
   "execution_count": 508,
   "outputs": [],
   "source": [
    "df_cleaned = df_combined.drop_duplicates(subset='External ID', keep='first')"
   ],
   "metadata": {
    "collapsed": false,
    "pycharm": {
     "name": "#%%\n"
    }
   }
  },
  {
   "cell_type": "code",
   "execution_count": 509,
   "outputs": [
    {
     "data": {
      "text/plain": "       External ID Dehumanization                  Emotion Mention  \\\n0        row_0.txt            так  так, присутня негативна     так   \n1        row_1.txt             ні   ні, оцінка не присутня      ні   \n2       row_10.txt            так  так, присутня негативна     так   \n3      row_100.txt            так  так, присутня негативна     так   \n1441  row_1000.txt             ні   ні, оцінка не присутня     так   \n...            ...            ...                      ...     ...   \n2638   row_995.txt             ні   ні, оцінка не присутня     так   \n2639   row_996.txt             ні  так, присутня негативна     так   \n2760   row_997.txt             ні  так, присутня негативна     так   \n2761   row_998.txt            так   ні, оцінка не присутня     так   \n2641   row_999.txt             ні   ні, оцінка не присутня      ні   \n\n                        Created By  \\\n0         snizannabotvin@gmail.com   \n1         snizannabotvin@gmail.com   \n2         snizannabotvin@gmail.com   \n3         snizannabotvin@gmail.com   \n1441        tutovadesign@gmail.com   \n...                            ...   \n2638        tutovadesign@gmail.com   \n2639        tutovadesign@gmail.com   \n2760  yevhen.marchenko91@gmail.com   \n2761  yevhen.marchenko91@gmail.com   \n2641        tutovadesign@gmail.com   \n\n                                                   text  rating  \n0     Всвязи с этим немного поправлю коллег ⤵️  \"Они...       4  \n1     Литературный критик Галина Юзефович о новом ро...       4  \n2     Почему на базах неонацистов стоят языческие ис...       4  \n3     Группа добровольцев-медиков из Чеченской Респу...       4  \n1441  ВСУшники, переходите на сторону добра, у нас т...       5  \n...                                                 ...     ...  \n2638  Утренний брифинг Минобороны России:  ▪️ россий...       5  \n2639  И понеслась мазепинщино-петлюровщино-бандеровщ...       5  \n2760  Наш соратник по русскому движению Алексей Сели...       3  \n2761  Хорошее видео от 4 бригады НМ ЛНР https://t.me...       3  \n2641  Замоскворецкий районный суд Москвы отклонил ис...       5  \n\n[3546 rows x 7 columns]",
      "text/html": "<div>\n<style scoped>\n    .dataframe tbody tr th:only-of-type {\n        vertical-align: middle;\n    }\n\n    .dataframe tbody tr th {\n        vertical-align: top;\n    }\n\n    .dataframe thead th {\n        text-align: right;\n    }\n</style>\n<table border=\"1\" class=\"dataframe\">\n  <thead>\n    <tr style=\"text-align: right;\">\n      <th></th>\n      <th>External ID</th>\n      <th>Dehumanization</th>\n      <th>Emotion</th>\n      <th>Mention</th>\n      <th>Created By</th>\n      <th>text</th>\n      <th>rating</th>\n    </tr>\n  </thead>\n  <tbody>\n    <tr>\n      <th>0</th>\n      <td>row_0.txt</td>\n      <td>так</td>\n      <td>так, присутня негативна</td>\n      <td>так</td>\n      <td>snizannabotvin@gmail.com</td>\n      <td>Всвязи с этим немного поправлю коллег ⤵️  \"Они...</td>\n      <td>4</td>\n    </tr>\n    <tr>\n      <th>1</th>\n      <td>row_1.txt</td>\n      <td>ні</td>\n      <td>ні, оцінка не присутня</td>\n      <td>ні</td>\n      <td>snizannabotvin@gmail.com</td>\n      <td>Литературный критик Галина Юзефович о новом ро...</td>\n      <td>4</td>\n    </tr>\n    <tr>\n      <th>2</th>\n      <td>row_10.txt</td>\n      <td>так</td>\n      <td>так, присутня негативна</td>\n      <td>так</td>\n      <td>snizannabotvin@gmail.com</td>\n      <td>Почему на базах неонацистов стоят языческие ис...</td>\n      <td>4</td>\n    </tr>\n    <tr>\n      <th>3</th>\n      <td>row_100.txt</td>\n      <td>так</td>\n      <td>так, присутня негативна</td>\n      <td>так</td>\n      <td>snizannabotvin@gmail.com</td>\n      <td>Группа добровольцев-медиков из Чеченской Респу...</td>\n      <td>4</td>\n    </tr>\n    <tr>\n      <th>1441</th>\n      <td>row_1000.txt</td>\n      <td>ні</td>\n      <td>ні, оцінка не присутня</td>\n      <td>так</td>\n      <td>tutovadesign@gmail.com</td>\n      <td>ВСУшники, переходите на сторону добра, у нас т...</td>\n      <td>5</td>\n    </tr>\n    <tr>\n      <th>...</th>\n      <td>...</td>\n      <td>...</td>\n      <td>...</td>\n      <td>...</td>\n      <td>...</td>\n      <td>...</td>\n      <td>...</td>\n    </tr>\n    <tr>\n      <th>2638</th>\n      <td>row_995.txt</td>\n      <td>ні</td>\n      <td>ні, оцінка не присутня</td>\n      <td>так</td>\n      <td>tutovadesign@gmail.com</td>\n      <td>Утренний брифинг Минобороны России:  ▪️ россий...</td>\n      <td>5</td>\n    </tr>\n    <tr>\n      <th>2639</th>\n      <td>row_996.txt</td>\n      <td>ні</td>\n      <td>так, присутня негативна</td>\n      <td>так</td>\n      <td>tutovadesign@gmail.com</td>\n      <td>И понеслась мазепинщино-петлюровщино-бандеровщ...</td>\n      <td>5</td>\n    </tr>\n    <tr>\n      <th>2760</th>\n      <td>row_997.txt</td>\n      <td>ні</td>\n      <td>так, присутня негативна</td>\n      <td>так</td>\n      <td>yevhen.marchenko91@gmail.com</td>\n      <td>Наш соратник по русскому движению Алексей Сели...</td>\n      <td>3</td>\n    </tr>\n    <tr>\n      <th>2761</th>\n      <td>row_998.txt</td>\n      <td>так</td>\n      <td>ні, оцінка не присутня</td>\n      <td>так</td>\n      <td>yevhen.marchenko91@gmail.com</td>\n      <td>Хорошее видео от 4 бригады НМ ЛНР https://t.me...</td>\n      <td>3</td>\n    </tr>\n    <tr>\n      <th>2641</th>\n      <td>row_999.txt</td>\n      <td>ні</td>\n      <td>ні, оцінка не присутня</td>\n      <td>ні</td>\n      <td>tutovadesign@gmail.com</td>\n      <td>Замоскворецкий районный суд Москвы отклонил ис...</td>\n      <td>5</td>\n    </tr>\n  </tbody>\n</table>\n<p>3546 rows × 7 columns</p>\n</div>"
     },
     "execution_count": 509,
     "metadata": {},
     "output_type": "execute_result"
    }
   ],
   "source": [
    "df_cleaned"
   ],
   "metadata": {
    "collapsed": false,
    "pycharm": {
     "name": "#%%\n"
    }
   }
  },
  {
   "cell_type": "markdown",
   "source": [
    "Double-checking since it's crucial for our task"
   ],
   "metadata": {
    "collapsed": false,
    "pycharm": {
     "name": "#%% md\n"
    }
   }
  },
  {
   "cell_type": "code",
   "execution_count": 510,
   "outputs": [],
   "source": [
    "value_counts = df_combined['External ID'].value_counts()\n",
    "unique_rows = df_combined[df_combined['External ID'].isin(value_counts[value_counts == 1].index)]\n",
    "df_bs_check = df_combined.drop(unique_rows.index)"
   ],
   "metadata": {
    "collapsed": false,
    "pycharm": {
     "name": "#%%\n"
    }
   }
  },
  {
   "cell_type": "code",
   "execution_count": 511,
   "outputs": [
    {
     "data": {
      "text/plain": "       External ID Dehumanization                  Emotion Mention  \\\n2642  row_1005.txt            так  так, присутня негативна     так   \n1446  row_1005.txt             ні  так, присутня негативна     так   \n2643  row_1006.txt            так  так, присутня негативна     так   \n1447  row_1006.txt            так  так, присутня негативна     так   \n2644  row_1008.txt            так  так, присутня негативна     так   \n...            ...            ...                      ...     ...   \n3809    row_98.txt            так  так, присутня негативна     так   \n3997   row_984.txt             ні   ні, оцінка не присутня      ні   \n2627   row_984.txt             ні   ні, оцінка не присутня      ні   \n2761   row_998.txt            так   ні, оцінка не присутня     так   \n2640   row_998.txt            так  так, присутня негативна     так   \n\n                        Created By  \\\n2642  yevhen.marchenko91@gmail.com   \n1446        tutovadesign@gmail.com   \n2643  yevhen.marchenko91@gmail.com   \n1447        tutovadesign@gmail.com   \n2644  yevhen.marchenko91@gmail.com   \n...                            ...   \n3809  nazariy.melnychuk9@gmail.com   \n3997  kateryna.burovova@ucu.edu.ua   \n2627        tutovadesign@gmail.com   \n2761  yevhen.marchenko91@gmail.com   \n2640        tutovadesign@gmail.com   \n\n                                                   text  rating  \n2642  Оно провалилось, но укровояки хвалились тем, ч...       3  \n1446  Оно провалилось, но укровояки хвалились тем, ч...       5  \n2643  Западный мем о степени правдивости пропаганды ...       3  \n1447  Западный мем о степени правдивости пропаганды ...       5  \n2644  Война до последнего украинца – это вовсе не вы...       3  \n...                                                 ...     ...  \n3809  Благодаря такому единству можно уверенно гаран...       7  \n3997  Этапы Китайской компартии по пути к мировой ге...       1  \n2627  Этапы Китайской компартии по пути к мировой ге...       5  \n2761  Хорошее видео от 4 бригады НМ ЛНР https://t.me...       3  \n2640  Хорошее видео от 4 бригады НМ ЛНР https://t.me...       5  \n\n[1408 rows x 7 columns]",
      "text/html": "<div>\n<style scoped>\n    .dataframe tbody tr th:only-of-type {\n        vertical-align: middle;\n    }\n\n    .dataframe tbody tr th {\n        vertical-align: top;\n    }\n\n    .dataframe thead th {\n        text-align: right;\n    }\n</style>\n<table border=\"1\" class=\"dataframe\">\n  <thead>\n    <tr style=\"text-align: right;\">\n      <th></th>\n      <th>External ID</th>\n      <th>Dehumanization</th>\n      <th>Emotion</th>\n      <th>Mention</th>\n      <th>Created By</th>\n      <th>text</th>\n      <th>rating</th>\n    </tr>\n  </thead>\n  <tbody>\n    <tr>\n      <th>2642</th>\n      <td>row_1005.txt</td>\n      <td>так</td>\n      <td>так, присутня негативна</td>\n      <td>так</td>\n      <td>yevhen.marchenko91@gmail.com</td>\n      <td>Оно провалилось, но укровояки хвалились тем, ч...</td>\n      <td>3</td>\n    </tr>\n    <tr>\n      <th>1446</th>\n      <td>row_1005.txt</td>\n      <td>ні</td>\n      <td>так, присутня негативна</td>\n      <td>так</td>\n      <td>tutovadesign@gmail.com</td>\n      <td>Оно провалилось, но укровояки хвалились тем, ч...</td>\n      <td>5</td>\n    </tr>\n    <tr>\n      <th>2643</th>\n      <td>row_1006.txt</td>\n      <td>так</td>\n      <td>так, присутня негативна</td>\n      <td>так</td>\n      <td>yevhen.marchenko91@gmail.com</td>\n      <td>Западный мем о степени правдивости пропаганды ...</td>\n      <td>3</td>\n    </tr>\n    <tr>\n      <th>1447</th>\n      <td>row_1006.txt</td>\n      <td>так</td>\n      <td>так, присутня негативна</td>\n      <td>так</td>\n      <td>tutovadesign@gmail.com</td>\n      <td>Западный мем о степени правдивости пропаганды ...</td>\n      <td>5</td>\n    </tr>\n    <tr>\n      <th>2644</th>\n      <td>row_1008.txt</td>\n      <td>так</td>\n      <td>так, присутня негативна</td>\n      <td>так</td>\n      <td>yevhen.marchenko91@gmail.com</td>\n      <td>Война до последнего украинца – это вовсе не вы...</td>\n      <td>3</td>\n    </tr>\n    <tr>\n      <th>...</th>\n      <td>...</td>\n      <td>...</td>\n      <td>...</td>\n      <td>...</td>\n      <td>...</td>\n      <td>...</td>\n      <td>...</td>\n    </tr>\n    <tr>\n      <th>3809</th>\n      <td>row_98.txt</td>\n      <td>так</td>\n      <td>так, присутня негативна</td>\n      <td>так</td>\n      <td>nazariy.melnychuk9@gmail.com</td>\n      <td>Благодаря такому единству можно уверенно гаран...</td>\n      <td>7</td>\n    </tr>\n    <tr>\n      <th>3997</th>\n      <td>row_984.txt</td>\n      <td>ні</td>\n      <td>ні, оцінка не присутня</td>\n      <td>ні</td>\n      <td>kateryna.burovova@ucu.edu.ua</td>\n      <td>Этапы Китайской компартии по пути к мировой ге...</td>\n      <td>1</td>\n    </tr>\n    <tr>\n      <th>2627</th>\n      <td>row_984.txt</td>\n      <td>ні</td>\n      <td>ні, оцінка не присутня</td>\n      <td>ні</td>\n      <td>tutovadesign@gmail.com</td>\n      <td>Этапы Китайской компартии по пути к мировой ге...</td>\n      <td>5</td>\n    </tr>\n    <tr>\n      <th>2761</th>\n      <td>row_998.txt</td>\n      <td>так</td>\n      <td>ні, оцінка не присутня</td>\n      <td>так</td>\n      <td>yevhen.marchenko91@gmail.com</td>\n      <td>Хорошее видео от 4 бригады НМ ЛНР https://t.me...</td>\n      <td>3</td>\n    </tr>\n    <tr>\n      <th>2640</th>\n      <td>row_998.txt</td>\n      <td>так</td>\n      <td>так, присутня негативна</td>\n      <td>так</td>\n      <td>tutovadesign@gmail.com</td>\n      <td>Хорошее видео от 4 бригады НМ ЛНР https://t.me...</td>\n      <td>5</td>\n    </tr>\n  </tbody>\n</table>\n<p>1408 rows × 7 columns</p>\n</div>"
     },
     "execution_count": 511,
     "metadata": {},
     "output_type": "execute_result"
    }
   ],
   "source": [
    "df_bs_check.sort_values(['External ID'])"
   ],
   "metadata": {
    "collapsed": false,
    "pycharm": {
     "name": "#%%\n"
    }
   }
  },
  {
   "cell_type": "code",
   "execution_count": 512,
   "outputs": [
    {
     "data": {
      "text/plain": "     External ID Dehumanization                  Emotion Mention  \\\n98  row_1128.txt            так  так, присутня негативна     так   \n\n                  Created By  \\\n98  snizannabotvin@gmail.com   \n\n                                                 text  rating  \n98  По виртуальным планам укрорейха они уже взяли ...       4  ",
      "text/html": "<div>\n<style scoped>\n    .dataframe tbody tr th:only-of-type {\n        vertical-align: middle;\n    }\n\n    .dataframe tbody tr th {\n        vertical-align: top;\n    }\n\n    .dataframe thead th {\n        text-align: right;\n    }\n</style>\n<table border=\"1\" class=\"dataframe\">\n  <thead>\n    <tr style=\"text-align: right;\">\n      <th></th>\n      <th>External ID</th>\n      <th>Dehumanization</th>\n      <th>Emotion</th>\n      <th>Mention</th>\n      <th>Created By</th>\n      <th>text</th>\n      <th>rating</th>\n    </tr>\n  </thead>\n  <tbody>\n    <tr>\n      <th>98</th>\n      <td>row_1128.txt</td>\n      <td>так</td>\n      <td>так, присутня негативна</td>\n      <td>так</td>\n      <td>snizannabotvin@gmail.com</td>\n      <td>По виртуальным планам укрорейха они уже взяли ...</td>\n      <td>4</td>\n    </tr>\n  </tbody>\n</table>\n</div>"
     },
     "execution_count": 512,
     "metadata": {},
     "output_type": "execute_result"
    }
   ],
   "source": [
    "df_cleaned[df_cleaned['External ID']=='row_1128.txt']"
   ],
   "metadata": {
    "collapsed": false,
    "pycharm": {
     "name": "#%%\n"
    }
   }
  },
  {
   "cell_type": "code",
   "execution_count": 516,
   "outputs": [],
   "source": [
    "df_cleaned.to_csv('/Users/katerynaburovova/PycharmProjects/dehumanization/annotation/final_labels.csv')"
   ],
   "metadata": {
    "collapsed": false,
    "pycharm": {
     "name": "#%%\n"
    }
   }
  },
  {
   "cell_type": "code",
   "execution_count": 515,
   "outputs": [
    {
     "data": {
      "text/plain": "      External ID Dehumanization                  Emotion Mention  \\\n941  row_3210.txt            так  так, присутня негативна     так   \n\n                   Created By  \\\n941  snizannabotvin@gmail.com   \n\n                                                  text  rating  \n941  \"Бандеровцы на Украине сегодня взяли все худше...       4  ",
      "text/html": "<div>\n<style scoped>\n    .dataframe tbody tr th:only-of-type {\n        vertical-align: middle;\n    }\n\n    .dataframe tbody tr th {\n        vertical-align: top;\n    }\n\n    .dataframe thead th {\n        text-align: right;\n    }\n</style>\n<table border=\"1\" class=\"dataframe\">\n  <thead>\n    <tr style=\"text-align: right;\">\n      <th></th>\n      <th>External ID</th>\n      <th>Dehumanization</th>\n      <th>Emotion</th>\n      <th>Mention</th>\n      <th>Created By</th>\n      <th>text</th>\n      <th>rating</th>\n    </tr>\n  </thead>\n  <tbody>\n    <tr>\n      <th>941</th>\n      <td>row_3210.txt</td>\n      <td>так</td>\n      <td>так, присутня негативна</td>\n      <td>так</td>\n      <td>snizannabotvin@gmail.com</td>\n      <td>\"Бандеровцы на Украине сегодня взяли все худше...</td>\n      <td>4</td>\n    </tr>\n  </tbody>\n</table>\n</div>"
     },
     "execution_count": 515,
     "metadata": {},
     "output_type": "execute_result"
    }
   ],
   "source": [
    "df_cleaned[df_cleaned['External ID']=='row_3210.txt']"
   ],
   "metadata": {
    "collapsed": false,
    "pycharm": {
     "name": "#%%\n"
    }
   }
  },
  {
   "cell_type": "code",
   "execution_count": null,
   "outputs": [],
   "source": [],
   "metadata": {
    "collapsed": false,
    "pycharm": {
     "name": "#%%\n"
    }
   }
  }
 ],
 "metadata": {
  "kernelspec": {
   "display_name": "Python 3",
   "language": "python",
   "name": "python3"
  },
  "language_info": {
   "codemirror_mode": {
    "name": "ipython",
    "version": 2
   },
   "file_extension": ".py",
   "mimetype": "text/x-python",
   "name": "python",
   "nbconvert_exporter": "python",
   "pygments_lexer": "ipython2",
   "version": "2.7.6"
  }
 },
 "nbformat": 4,
 "nbformat_minor": 0
}