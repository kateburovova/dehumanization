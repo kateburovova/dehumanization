{
 "cells": [
  {
   "cell_type": "code",
   "execution_count": 4,
   "outputs": [],
   "source": [
    "import labelbox\n",
    "import json"
   ],
   "metadata": {
    "collapsed": false,
    "pycharm": {
     "name": "#%%\n"
    }
   }
  },
  {
   "cell_type": "code",
   "execution_count": 2,
   "outputs": [],
   "source": [
    "from labelbox import DataRow, Client\n",
    "from labelbox.schema.data_row_metadata import DataRowMetadataField\n",
    "import uuid\n",
    "import os"
   ],
   "metadata": {
    "collapsed": false,
    "pycharm": {
     "name": "#%%\n"
    }
   }
  },
  {
   "cell_type": "code",
   "execution_count": 6,
   "outputs": [],
   "source": [
    "with open('config_annotation.json') as f:\n",
    "    config = json.load(f)\n",
    "\n",
    "API_KEY = config['API_KEY']"
   ],
   "metadata": {
    "collapsed": false,
    "pycharm": {
     "name": "#%%\n"
    }
   }
  },
  {
   "cell_type": "code",
   "execution_count": 7,
   "outputs": [],
   "source": [
    "client = Client(api_key=API_KEY)"
   ],
   "metadata": {
    "collapsed": false,
    "pycharm": {
     "name": "#%%\n"
    }
   }
  },
  {
   "cell_type": "code",
   "execution_count": null,
   "outputs": [],
   "source": [
    "# Local paths\n",
    "\n",
    "dataset = client.create_dataset(name=\"Bulk import\")\n",
    "\n",
    "local_data_path = '/tmp/test_data_row.txt'\n",
    "with open(local_data_path, 'w') as file:\n",
    "    file.write(\"dehumanization dataset\")\n",
    "\n",
    "task2 = dataset.create_data_rows([local_data_path])\n",
    "task2.wait_till_done()"
   ],
   "metadata": {
    "collapsed": false,
    "pycharm": {
     "name": "#%%\n"
    }
   }
  },
  {
   "cell_type": "code",
   "execution_count": 7,
   "outputs": [
    {
     "ename": "ValueError",
     "evalue": "Request failed with status code 404",
     "output_type": "error",
     "traceback": [
      "\u001B[0;31m---------------------------------------------------------------------------\u001B[0m",
      "\u001B[0;31mValueError\u001B[0m                                Traceback (most recent call last)",
      "Cell \u001B[0;32mIn [7], line 21\u001B[0m\n\u001B[1;32m     19\u001B[0m \u001B[38;5;66;03m# Check the status code of the response\u001B[39;00m\n\u001B[1;32m     20\u001B[0m \u001B[38;5;28;01mif\u001B[39;00m projects_response\u001B[38;5;241m.\u001B[39mstatus_code \u001B[38;5;241m!=\u001B[39m \u001B[38;5;241m200\u001B[39m:\n\u001B[0;32m---> 21\u001B[0m     \u001B[38;5;28;01mraise\u001B[39;00m \u001B[38;5;167;01mValueError\u001B[39;00m(\u001B[38;5;124mf\u001B[39m\u001B[38;5;124m\"\u001B[39m\u001B[38;5;124mRequest failed with status code \u001B[39m\u001B[38;5;132;01m{\u001B[39;00mprojects_response\u001B[38;5;241m.\u001B[39mstatus_code\u001B[38;5;132;01m}\u001B[39;00m\u001B[38;5;124m\"\u001B[39m)\n\u001B[1;32m     23\u001B[0m \u001B[38;5;66;03m# Find the project with the specified name\u001B[39;00m\n\u001B[1;32m     24\u001B[0m \u001B[38;5;28;01mfor\u001B[39;00m project \u001B[38;5;129;01min\u001B[39;00m projects_response\u001B[38;5;241m.\u001B[39mjson()[\u001B[38;5;124m\"\u001B[39m\u001B[38;5;124mdata\u001B[39m\u001B[38;5;124m\"\u001B[39m]:\n",
      "\u001B[0;31mValueError\u001B[0m: Request failed with status code 404"
     ]
    }
   ],
   "source": [
    "import requests\n",
    "import json\n",
    "\n",
    "# Replace <API_KEY> with your Labelbox API key\n",
    "HEADERS = {\n",
    "    \"Content-Type\": \"application/json\",\n",
    "    \"Labelbox-API-Key\": API_KEY\n",
    "}\n",
    "\n",
    "# Replace <PROJECT_NAME> with the name of your Labelbox project\n",
    "PROJECT_NAME = \"Dehumanization\"\n",
    "\n",
    "# Get a list of all projects in Labelbox\n",
    "projects_response = requests.get(\n",
    "    \"https://api.labelbox.com/projects\",\n",
    "    headers=HEADERS\n",
    ")\n",
    "\n",
    "# Check the status code of the response\n",
    "if projects_response.status_code != 200:\n",
    "    raise ValueError(f\"Request failed with status code {projects_response.status_code}\")\n",
    "\n",
    "# Find the project with the specified name\n",
    "for project in projects_response.json()[\"data\"]:\n",
    "    if project[\"attributes\"][\"name\"] == PROJECT_NAME:\n",
    "        project_id = project[\"id\"]\n",
    "        break\n",
    "else:\n",
    "    raise ValueError(f\"Project with name {PROJECT_NAME} not found\")"
   ],
   "metadata": {
    "collapsed": false,
    "pycharm": {
     "name": "#%%\n"
    }
   }
  },
  {
   "cell_type": "code",
   "execution_count": 13,
   "outputs": [],
   "source": [
    "Project_id = 'cle345zkz0hgn071dd7q5231n'"
   ],
   "metadata": {
    "collapsed": false,
    "pycharm": {
     "name": "#%%\n"
    }
   }
  },
  {
   "cell_type": "code",
   "execution_count": 14,
   "outputs": [],
   "source": [
    "import requests\n",
    "import json\n",
    "\n",
    "# Replace <API_KEY> with your Labelbox API key\n",
    "HEADERS = {\n",
    "    \"Content-Type\": \"application/json\",\n",
    "    \"Labelbox-API-Key\": API_KEY\n",
    "}\n",
    "\n",
    "# Replace <PROJECT_ID> with the ID of your Labelbox project\n",
    "PROJECT_ID = Project_id\n",
    "\n",
    "# Replace <DATASET_NAME> with the name of your dataset\n",
    "DATASET_NAME = \"Dehumanization\"\n",
    "\n",
    "# Replace <FILE_PATH> with the file path of your text file\n",
    "FILE_PATH = \"/Users/katerynaburovova/PycharmProjects/dehumanization/annotation/data/ann_dataset.txt\"\n",
    "\n",
    "# Read the contents of the text file\n",
    "with open(FILE_PATH, \"r\") as file:\n",
    "    file_contents = file.read()\n",
    "\n",
    "# Create the dataset in Labelbox with the file contents\n",
    "dataset_response = requests.post(\n",
    "    f\"https://api.labelbox.com/datasets\",\n",
    "    headers=HEADERS,\n",
    "    data=json.dumps({\n",
    "        \"data\": {\n",
    "            \"type\": \"dataset\",\n",
    "            \"attributes\": {\n",
    "                \"name\": DATASET_NAME,\n",
    "                \"data\": file_contents\n",
    "            },\n",
    "            \"relationships\": {\n",
    "                \"project\": {\n",
    "                    \"data\": {\n",
    "                        \"type\": \"project\",\n",
    "                        \"id\": PROJECT_ID\n",
    "                    }\n",
    "                }\n",
    "            }\n",
    "        }\n",
    "    })\n",
    ")"
   ],
   "metadata": {
    "collapsed": false,
    "pycharm": {
     "name": "#%%\n"
    }
   }
  },
  {
   "cell_type": "code",
   "execution_count": 15,
   "outputs": [],
   "source": [
    "from labelbox import Client\n",
    "import uuid\n",
    "import os"
   ],
   "metadata": {
    "collapsed": false,
    "pycharm": {
     "name": "#%%\n"
    }
   }
  },
  {
   "cell_type": "code",
   "execution_count": 16,
   "outputs": [],
   "source": [
    "# Pick a dataset that has attached data_rows\n",
    "DATASET_ID = \"cldvk28u73xf007vn6v4439cs\""
   ],
   "metadata": {
    "collapsed": false,
    "pycharm": {
     "name": "#%%\n"
    }
   }
  },
  {
   "cell_type": "code",
   "execution_count": 17,
   "outputs": [],
   "source": [
    "dataset = client.get_dataset(DATASET_ID)"
   ],
   "metadata": {
    "collapsed": false,
    "pycharm": {
     "name": "#%%\n"
    }
   }
  },
  {
   "cell_type": "code",
   "execution_count": 18,
   "outputs": [
    {
     "name": "stdout",
     "output_type": "stream",
     "text": [
      "<Dataset {\n",
      "    \"created_at\": \"2023-02-08 10:56:05+00:00\",\n",
      "    \"description\": \"\",\n",
      "    \"name\": \"Test Dataset\",\n",
      "    \"row_count\": 2,\n",
      "    \"uid\": \"cldvk28u73xf007vn6v4439cs\",\n",
      "    \"updated_at\": \"2023-02-08 10:58:35+00:00\"\n",
      "}>\n"
     ]
    }
   ],
   "source": [
    "print(dataset)"
   ],
   "metadata": {
    "collapsed": false,
    "pycharm": {
     "name": "#%%\n"
    }
   }
  },
  {
   "cell_type": "code",
   "execution_count": 19,
   "outputs": [
    {
     "data": {
      "text/plain": "<DataRow ID: cldvk5gtd23ys075h6luf0btv>"
     },
     "execution_count": 19,
     "metadata": {},
     "output_type": "execute_result"
    }
   ],
   "source": [
    "# We can see the data rows associated with a dataset\n",
    "data_rows = dataset.data_rows()\n",
    "next(data_rows)  # Print first data row"
   ],
   "metadata": {
    "collapsed": false,
    "pycharm": {
     "name": "#%%\n"
    }
   }
  },
  {
   "cell_type": "code",
   "execution_count": null,
   "outputs": [],
   "source": [
    "import pandas as pd\n",
    "\n",
    "# Load the data into a DataFrame\n",
    "df = pd.read_csv(\"data.csv\")\n",
    "\n",
    "# Iterate over the rows of the DataFrame\n",
    "for i, row in df.iterrows():\n",
    "    # Create a filename for each row\n",
    "    filename = f\"row_{i}.txt\"\n",
    "\n",
    "    # Write the contents of each row to a separate text file\n",
    "    with open(filename, \"w\") as f:\n",
    "        f.write(str(row.to_dict()))\n"
   ],
   "metadata": {
    "collapsed": false,
    "pycharm": {
     "name": "#%%\n"
    }
   }
  }
 ],
 "metadata": {
  "kernelspec": {
   "display_name": "Python 3",
   "language": "python",
   "name": "python3"
  },
  "language_info": {
   "codemirror_mode": {
    "name": "ipython",
    "version": 2
   },
   "file_extension": ".py",
   "mimetype": "text/x-python",
   "name": "python",
   "nbconvert_exporter": "python",
   "pygments_lexer": "ipython2",
   "version": "2.7.6"
  }
 },
 "nbformat": 4,
 "nbformat_minor": 0
}